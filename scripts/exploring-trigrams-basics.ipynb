{
 "cells": [
  {
   "cell_type": "code",
   "execution_count": 90,
   "outputs": [],
   "source": [
    "import pandas as pd\n",
    "import pickle\n",
    "import numpy as np\n",
    "from collections import Counter\n",
    "from gensim import corpora"
   ],
   "metadata": {
    "collapsed": false,
    "pycharm": {
     "name": "#%%\n"
    }
   }
  },
  {
   "cell_type": "code",
   "execution_count": 2,
   "outputs": [
    {
     "name": "stdout",
     "output_type": "stream",
     "text": [
      "endpoint variable has been configured to: https://sciencedata.dk/files/\n"
     ]
    }
   ],
   "source": [
    "# to communicate with google spreadsheet...\n",
    "import gspread\n",
    "from gspread_dataframe import get_as_dataframe\n",
    "from gspread_dataframe import set_with_dataframe\n",
    "from google.oauth2 import service_account # based on google-auth library\n",
    "import sddk\n",
    "\n",
    "s = sddk.cloudSession(\"sciencedata.dk\")\n",
    "# establish connection with gogglesheets...\n",
    "file_data = s.read_file(\"https://sciencedata.dk/files/ServiceAccountsKey.json\", \"dict\") # or load it from a local storage: json.load(open(\"../../ServiceAccountsKey.json\", \"r\"))\n",
    "credentials = service_account.Credentials.from_service_account_info(file_data)\n",
    "gc = gspread.Client(auth=credentials.with_scopes(['https://spreadsheets.google.com/feeds', 'https://www.googleapis.com/auth/drive']))\n",
    "mops_data = gc.open_by_url(\"https://docs.google.com/spreadsheets/d/1VbCIAJssHKV9hlRTwzVFfm40CGnHesq53KXjv2qy4OM/edit?usp=sharing\")"
   ],
   "metadata": {
    "collapsed": false,
    "pycharm": {
     "name": "#%%\n"
    }
   }
  },
  {
   "cell_type": "code",
   "execution_count": 3,
   "outputs": [],
   "source": [
    "jstor_df = pd.read_feather(\"../data/large_files/jstor_df_v1.feather\")"
   ],
   "metadata": {
    "collapsed": false,
    "pycharm": {
     "name": "#%%\n"
    }
   }
  },
  {
   "cell_type": "code",
   "execution_count": 4,
   "outputs": [],
   "source": [
    "trigramCount_cleaned_dict = pickle.load(open(\"../data/large_files/trigramCount_cleaned_dict.pickle\", \"rb\"))"
   ],
   "metadata": {
    "collapsed": false,
    "pycharm": {
     "name": "#%%\n"
    }
   }
  },
  {
   "cell_type": "code",
   "execution_count": 5,
   "outputs": [],
   "source": [
    "id = list(trigramCount_cleaned_dict.keys())[0]"
   ],
   "metadata": {
    "collapsed": false,
    "pycharm": {
     "name": "#%%\n"
    }
   }
  },
  {
   "cell_type": "code",
   "execution_count": 6,
   "outputs": [
    {
     "data": {
      "text/plain": "[('God', 40),\n ('have', 38),\n ('be', 28),\n ('life', 28),\n ('man', 27),\n ('know', 25),\n ('do', 24),\n ('see', 24),\n ('way', 19),\n ('come', 18)]"
     },
     "execution_count": 6,
     "metadata": {},
     "output_type": "execute_result"
    }
   ],
   "source": [
    "sorted(list(trigramCount_cleaned_dict[id].items()), key=lambda kv: kv[1], reverse=True)[:10]"
   ],
   "metadata": {
    "collapsed": false,
    "pycharm": {
     "name": "#%%\n"
    }
   }
  },
  {
   "cell_type": "markdown",
   "source": [
    "# Exploring all trigrams together"
   ],
   "metadata": {
    "collapsed": false,
    "pycharm": {
     "name": "#%% md\n"
    }
   }
  },
  {
   "cell_type": "code",
   "execution_count": 7,
   "outputs": [],
   "source": [
    "def merge_data_from_ids(ids, datadict):\n",
    "    c = Counter()\n",
    "    for id in ids:\n",
    "        d = datadict[id]\n",
    "        c.update(d)\n",
    "    return c"
   ],
   "metadata": {
    "collapsed": false,
    "pycharm": {
     "name": "#%%\n"
    }
   }
  },
  {
   "cell_type": "code",
   "execution_count": 8,
   "outputs": [
    {
     "name": "stdout",
     "output_type": "stream",
     "text": [
      "hello\n"
     ]
    }
   ],
   "source": [
    "print(\"hello\")"
   ],
   "metadata": {
    "collapsed": false,
    "pycharm": {
     "name": "#%%\n"
    }
   }
  },
  {
   "cell_type": "code",
   "execution_count": 9,
   "outputs": [],
   "source": [
    "all_ids = jstor_df[\"id\"].tolist()"
   ],
   "metadata": {
    "collapsed": false,
    "pycharm": {
     "name": "#%%\n"
    }
   }
  },
  {
   "cell_type": "code",
   "execution_count": 10,
   "outputs": [
    {
     "data": {
      "text/plain": "55806863"
     },
     "execution_count": 10,
     "metadata": {},
     "output_type": "execute_result"
    }
   ],
   "source": [
    "data_trigrams = merge_data_from_ids(all_ids, trigramCount_cleaned_dict)\n",
    "len(data_trigrams)"
   ],
   "metadata": {
    "collapsed": false,
    "pycharm": {
     "name": "#%%\n"
    }
   }
  },
  {
   "cell_type": "code",
   "execution_count": 13,
   "outputs": [
    {
     "data": {
      "text/plain": "4184"
     },
     "execution_count": 13,
     "metadata": {},
     "output_type": "execute_result"
    }
   ],
   "source": [
    "len([kv for kv in data_trigrams.items() if kv[1] > 1000])"
   ],
   "metadata": {
    "collapsed": false,
    "pycharm": {
     "name": "#%%\n"
    }
   }
  },
  {
   "cell_type": "code",
   "execution_count": 14,
   "outputs": [
    {
     "data": {
      "text/plain": "53686"
     },
     "execution_count": 14,
     "metadata": {},
     "output_type": "execute_result"
    }
   ],
   "source": [
    "len([kv for kv in data_trigrams.items() if kv[1] > 100])"
   ],
   "metadata": {
    "collapsed": false,
    "pycharm": {
     "name": "#%%\n"
    }
   }
  },
  {
   "cell_type": "code",
   "execution_count": 15,
   "outputs": [
    {
     "data": {
      "text/plain": "965066"
     },
     "execution_count": 15,
     "metadata": {},
     "output_type": "execute_result"
    }
   ],
   "source": [
    "len([kv for kv in data_trigrams.items() if kv[1] > 10])"
   ],
   "metadata": {
    "collapsed": false,
    "pycharm": {
     "name": "#%%\n"
    }
   }
  },
  {
   "cell_type": "code",
   "execution_count": 16,
   "outputs": [
    {
     "data": {
      "text/plain": "14519930"
     },
     "execution_count": 16,
     "metadata": {},
     "output_type": "execute_result"
    }
   ],
   "source": [
    "len([kv for kv in data_trigrams.items() if kv[1] > 1])"
   ],
   "metadata": {
    "collapsed": false,
    "pycharm": {
     "name": "#%%\n"
    }
   }
  },
  {
   "cell_type": "code",
   "execution_count": 17,
   "outputs": [
    {
     "data": {
      "text/plain": "54627127"
     },
     "execution_count": 17,
     "metadata": {},
     "output_type": "execute_result"
    }
   ],
   "source": [
    "# how many are actually trigrams?\n",
    "len([kv for kv in data_trigrams.items() if len(kv[0].split()) > 2])"
   ],
   "metadata": {
    "collapsed": false,
    "pycharm": {
     "name": "#%%\n"
    }
   }
  },
  {
   "cell_type": "code",
   "execution_count": 23,
   "outputs": [
    {
     "data": {
      "text/plain": "55742943"
     },
     "execution_count": 23,
     "metadata": {},
     "output_type": "execute_result"
    }
   ],
   "source": [
    "# how many are actually bigrams or trigrams?\n",
    "len([kv for kv in data_trigrams.items() if len(kv[0].split()) >= 2])"
   ],
   "metadata": {
    "collapsed": false,
    "pycharm": {
     "name": "#%%\n"
    }
   }
  },
  {
   "cell_type": "code",
   "execution_count": 19,
   "outputs": [
    {
     "data": {
      "text/plain": "63918"
     },
     "execution_count": 19,
     "metadata": {},
     "output_type": "execute_result"
    }
   ],
   "source": [
    "# how many trigrams are actually unigrams (after prerocessing)?\n",
    "len([kv for kv in data_trigrams.items() if len(kv[0].split()) == 1])"
   ],
   "metadata": {
    "collapsed": false,
    "pycharm": {
     "name": "#%%\n"
    }
   }
  },
  {
   "cell_type": "code",
   "execution_count": 21,
   "outputs": [
    {
     "data": {
      "text/plain": "143358401"
     },
     "execution_count": 21,
     "metadata": {},
     "output_type": "execute_result"
    }
   ],
   "source": [
    "# total number of trigram instances..:\n",
    "sum([kv[1] for kv in data_trigrams.items()])"
   ],
   "metadata": {
    "collapsed": false,
    "pycharm": {
     "name": "#%%\n"
    }
   }
  },
  {
   "cell_type": "code",
   "execution_count": 22,
   "outputs": [
    {
     "data": {
      "text/plain": "31706486"
     },
     "execution_count": 22,
     "metadata": {},
     "output_type": "execute_result"
    }
   ],
   "source": [
    "# the number of covered by unigrams, i.e. useless for our analysis...\n",
    "sum([kv[1] for kv in data_trigrams.items() if len(kv[0].split()) == 1])"
   ],
   "metadata": {
    "collapsed": false,
    "pycharm": {
     "name": "#%%\n"
    }
   }
  },
  {
   "cell_type": "code",
   "execution_count": null,
   "outputs": [],
   "source": [],
   "metadata": {
    "collapsed": false,
    "pycharm": {
     "name": "#%%\n"
    }
   }
  },
  {
   "cell_type": "markdown",
   "source": [
    "# Exploring trigrams over time"
   ],
   "metadata": {
    "collapsed": false,
    "pycharm": {
     "name": "#%% md\n"
    }
   }
  },
  {
   "cell_type": "code",
   "execution_count": 24,
   "outputs": [
    {
     "data": {
      "text/plain": "['1900,1909',\n '1910,1919',\n '1920,1929',\n '1930,1939',\n '1940,1949',\n '1950,1959',\n '1960,1969',\n '1970,1979',\n '1980,1989',\n '1990,1999',\n '2000,2009',\n '2010,2019']"
     },
     "execution_count": 24,
     "metadata": {},
     "output_type": "execute_result"
    }
   ],
   "source": [
    "def ids_from_colvals(df_name, col, matchstring):\n",
    "    ids = eval('{0}[{0}[\"{1}\"]{2}]'.format(df_name, col, matchstring))[\"id\"].tolist()\n",
    "    return ids\n",
    "\n",
    "def merge_data_from_ids(ids, datadict):\n",
    "    c = Counter()\n",
    "    for id in ids:\n",
    "        d = datadict[id]\n",
    "        c.update(d)\n",
    "    return c\n",
    "\n",
    "def get_tops(df_name, col, matchstring, n=10):\n",
    "    ids = ids_from_colvals(df_name, col, matchstring)\n",
    "    c = merge_data_from_ids(ids, trigramCount_cleaned_dict)\n",
    "    c_tups = [el for el in c.items() if el[0] != \"\"]\n",
    "    top10 = sorted(c_tups, key=lambda kv: kv[1], reverse=True)[:n]\n",
    "    return top10\n",
    "\n",
    "decades = []\n",
    "for decade_n in range(0,10):\n",
    "    decades.append(\"19{0}0,19{0}9\".format(str(decade_n)))\n",
    "decades += [\"2000,2009\", \"2010,2019\"]\n",
    "decades"
   ],
   "metadata": {
    "collapsed": false,
    "pycharm": {
     "name": "#%%\n"
    }
   }
  },
  {
   "cell_type": "code",
   "execution_count": 25,
   "outputs": [
    {
     "data": {
      "text/plain": "132"
     },
     "execution_count": 25,
     "metadata": {},
     "output_type": "execute_result"
    }
   ],
   "source": [
    "# test with function...\n",
    "ids = ids_from_colvals(\"jstor_df\", \"publicationYear\", \".between(1920, 1929)\")\n",
    "len(ids)"
   ],
   "metadata": {
    "collapsed": false,
    "pycharm": {
     "name": "#%%\n"
    }
   }
  },
  {
   "cell_type": "code",
   "execution_count": 26,
   "outputs": [],
   "source": [
    "c = merge_data_from_ids(ids, trigramCount_cleaned_dict)"
   ],
   "metadata": {
    "collapsed": false,
    "pycharm": {
     "name": "#%%\n"
    }
   }
  },
  {
   "cell_type": "code",
   "execution_count": 27,
   "outputs": [
    {
     "data": {
      "text/plain": "[('have', 3081),\n ('do', 1380),\n ('be', 1229),\n ('time', 1207),\n ('work', 1206),\n ('make', 1180),\n ('say', 1105),\n ('find', 1025),\n ('God', 999),\n ('give', 966)]"
     },
     "execution_count": 27,
     "metadata": {},
     "output_type": "execute_result"
    }
   ],
   "source": [
    "sorted(c.items(), key=lambda kv: kv[1], reverse=True)[:10]"
   ],
   "metadata": {
    "collapsed": false,
    "pycharm": {
     "name": "#%%\n"
    }
   }
  },
  {
   "cell_type": "code",
   "execution_count": 28,
   "outputs": [],
   "source": [
    "def get_tops(df_name, col, matchstring, n=10):\n",
    "    ids = ids_from_colvals(df_name, col, matchstring)\n",
    "    c = merge_data_from_ids(ids, trigramCount_cleaned_dict)\n",
    "    c_tups = [el for el in c.items() if len(el[0].split()) > 1]\n",
    "    tops = sorted(c_tups, key=lambda kv: kv[1], reverse=True)[:n]\n",
    "    return tops"
   ],
   "metadata": {
    "collapsed": false,
    "pycharm": {
     "name": "#%%\n"
    }
   }
  },
  {
   "cell_type": "code",
   "execution_count": 29,
   "outputs": [
    {
     "name": "stdout",
     "output_type": "stream",
     "text": [
      "[('New Testament', 1097), ('Old Testament', 783), ('American Journal', 764), ('Christ Jesus', 515), ('Journal Theology', 363), ('hand other', 348), ('same time', 260), ('Epic Indian', 224), ('Biblical World', 217), ('Paul St', 202), ('Paul Saint', 176), ('Fourth Gospel', 172), ('century second', 168), ('School Sunday', 159), ('point view', 157), ('Holy Spirit', 151), ('Man Son', 142), ('States United', 141), ('place take', 134), ('birth virgin', 130), ('New York', 124), ('Jesus life', 120), ('X X', 120), ('Paul apostle', 114), ('J P Peters', 114), ('have seem', 111), ('century first', 107), ('Christ resurrection', 104), ('Apostle Paul', 103), ('Biblical Literature', 102)]\n",
      "[('New Testament', 821), ('American Journal', 534), ('Old Testament', 313), ('Christ Jesus', 308), ('Paul St', 232), ('Journal Theology', 228), ('same time', 224), ('hand other', 223), ('Biblical World', 216), ('point view', 165), ('place take', 162), ('Apostle Paul', 160), ('Holy Spirit', 156), ('Fourth Gospel', 151), ('Harvard Review Theological', 151), ('century second', 139), ('have seem', 132), ('Jesus Lord', 130), ('century first', 120), ('States United', 106), ('Paul apostle', 105), ('christian church', 104), ('Chicago University', 101), ('New York', 89), ('century fourth', 88), ('God have', 86), ('Testament new', 85), ('Jesus have', 82), ('day first', 82), ('long time', 82)]\n",
      "[('New Testament', 479), ('New York', 345), ('p title', 304), ('copy locate', 270), ('States United', 264), ('S n p', 248), ('Old Testament', 240), ('American Journal', 229), ('i p title', 217), ('Christ Jesus', 210), ('collation p', 175), ('e h t', 164), ('Harvard Review Theological', 158), ('Paul St', 157), ('Journal Religion', 150), ('Chicago University', 148), ('blank p', 146), ('S c p', 145), ('hand other', 134), ('Catholic Church', 129), ('place take', 128), ('same time', 125), ('Historical Society jewish', 124), ('Historical american jewish', 124), ('blank ii p', 119), ('Bibliography Jewish', 112), ('Macmillan York', 112), ('american jewish', 111), ('Bibliography american jewish', 111), ('c p p', 110)]\n",
      "[('New Testament', 461), ('States United', 420), ('Christ Jesus', 347), ('Church Presbyterian', 298), ('Paul St', 268), ('New York', 184), ('hand other', 168), ('Holy See', 158), ('God Kingdom', 137), ('same time', 130), ('Old Testament', 126), ('Catholic Church', 122), ('Datum Romae apud', 117), ('Harvard Review Theological', 110), ('Romae S apud', 110), ('England New', 100), ('De Martinis source', 100), ('Biblical Literature', 99), ('Holy Spirit', 93), ('E R S', 93), ('Apostle Paul', 92), ('place take', 90), ('anno nostri pontificatus', 88), ('century second', 87), ('New Orleans', 83), ('Mr Revd', 81), ('God have', 80), ('English Medieval', 80), ('English Life Medieval', 80), ('Medieval franciscan', 80)]\n",
      "[('New Testament', 886), ('Christ Jesus', 768), ('Paul St', 583), ('Old Testament', 552), ('Holy Spirit', 528), ('hand other', 275), ('G P', 261), ('Publications Sage', 254), ('Catholic Church', 248), ('States United', 222), ('same time', 216), ('Biblical Literature', 200), ('God have', 192), ('Apostle Paul', 176), ('place take', 158), ('christian faith', 153), ('century second', 151), ('New York', 149), ('God word', 140), ('have seem', 135), ('God Kingdom', 134), ('Ghost Holy', 132), ('June publication', 127), ('God love', 125), ('Harvard Review Theological', 117), ('Biblical Journal', 114), (' cit op p', 113), ('first place', 110), ('point view', 108), ('church early', 108)]\n",
      "[('New Testament', 1815), ('Christ Jesus', 1133), ('Old Testament', 1110), ('Holy Spirit', 736), ('Paul St', 658), ('hand other', 486), ('same time', 479), ('New York', 460), ('Publications Sage', 448), ('Apostle Paul', 377), (' cit op p', 367), ('place take', 364), ('God have', 319), ('States United', 318), ('God word', 307), ('G d z', 259), ('Diarium G d', 257), ('Sem study', 251), ('Biblical Literature', 250), ('other word', 239), ('have seem', 238), ('God love', 229), ('June publication', 224), ('Fourth Gospel', 208), ('christian faith', 207), ('Paul have', 205), ('Testament old', 191), ('Dead Sea', 186), ('grad study', 183), ('Bethlehem G z', 183)]\n",
      "[('New Testament', 2086), ('Christ Jesus', 1352), ('Holy Spirit', 1163), ('Old Testament', 1082), ('grad study', 847), ('hand other', 652), ('Paul St', 647), ('same time', 627), ('place take', 491), (' cit op p', 485), ('New York', 411), ('Publications Sage', 402), ('Apostle Paul', 395), ('God have', 391), ('C D Wash', 388), ('Bibl Pont', 378), ('Script teach', 374), ('God word', 363), ('Bibl Inst Pont', 354), ('June ord', 344), ('Pont script', 319), ('have seem', 298), ('C E Purinton', 296), ('study theol', 282), ('christian faith', 280), ('century second', 250), ('God love', 243), ('Paul have', 241), ('Jesus Lord', 239), ('God Son', 234)]\n",
      "[('New Testament', 2908), ('Christ Jesus', 1786), ('Old Testament', 1189), ('Holy Spirit', 1177), ('hand other', 1060), ('same time', 844), ('New York', 692), (' cit op p', 553), ('States United', 535), ('place take', 496), ('England New', 487), ('Paul St', 475), ('God have', 469), ('Cor I', 424), ('century first', 417), ('Paul letter', 416), ('christian community', 409), ('Apostle Paul', 406), ('Christian early', 399), ('other word', 390), ('God Son', 387), ('Paul have', 370), ('christian faith', 355), ('have seem', 354), ('God word', 352), ('Fourth Gospel', 351), ('Jesus Lord', 315), ('Christianity early', 311), ('Man Son', 306), ('man woman', 304)]\n",
      "[('New Testament', 4009), ('Christ Jesus', 3437), ('Holy Spirit', 2330), ('Old Testament', 1610), ('hand other', 1482), ('same time', 1432), ('being human', 1193), ('place take', 1016), ('God have', 991), ('States United', 928), ('God love', 898), ('New York', 870), ('Paul have', 773), ('Council World', 745), ('Paul letter', 733), ('Apostle Paul', 731), ('Paul use', 726), ('God word', 720), ('other word', 683), ('Christian early', 672), ('have seem', 671), ('Press University', 663), ('christian community', 640), ('century first', 633), ('Paul do', 622), ('Paul St', 555), ('Biblical Literature', 546), ('Christianity early', 523), ('God kingdom', 501), ('man woman', 500)]\n",
      "[('New Testament', 5689), ('Christ Jesus', 2681), ('Holy Spirit', 2549), ('Old Testament', 2210), ('Press University', 2125), ('hand other', 1793), ('same time', 1762), ('note supra', 1674), ('being human', 1571), ('Paul letter', 1302), ('Christian early', 1244), ('place take', 1205), ('States United', 1175), ('Paul use', 1158), ('New York', 1144), ('other word', 1108), ('century first', 1076), ('Christianity early', 991), ('n n n', 985), ('God have', 978), ('Paul have', 909), ('man woman', 892), ('christian community', 883), ('have seem', 799), ('Apostle Paul', 771), ('Biblical Literature', 710), ('century second', 708), ('Paul apostle', 665), ('Cambridge Press University', 665), ('Paul do', 662)]\n",
      "[('New Testament', 12552), ('Press University', 10859), ('Christ Jesus', 7774), ('Cambridge Press University', 7173), ('Holy Spirit', 6743), (' Cambridge University', 5480), (' Cambridge Online', 5480), (' Online book', 5480), ('Books Cambridge Online', 5411), ('Old Testament', 4767), ('same time', 4708), ('hand other', 4019), ('States United', 3850), ('being human', 3600), ('place take', 3499), ('Christianity early', 3384), ('Christian early', 3234), ('God have', 2898), ('New York', 2887), ('other word', 2808), ('Paul letter', 2705), ('Press pp', 2703), ('century first', 2347), ('have seem', 2159), ('Apostle Paul', 2125), ('Paul use', 1934), ('christian community', 1866), ('God word', 1864), ('man woman', 1799), ('Paul St', 1732)]\n",
      "[('New Testament', 37694), ('Holy Spirit', 27283), ('Press University', 21785), ('Christ Jesus', 21228), ('Old Testament', 16353), ('Book reviews', 15062), ('Paul letter', 12879), ('same time', 12645), ('being human', 10651), ('hand other', 10189), ('Christian early', 9599), ('place take', 8990), ('God have', 8677), ('Oxford Press University', 8052), ('States United', 7984), ('Christianity early', 7802), ('other word', 7585), ('God word', 7362), ('Paul use', 7166), ('century first', 6550), ('Bible Hebrew', 6352), ('Grand Mi Rapids', 6154), ('God love', 6016), ('biblical text', 5991), ('Cambridge Press University', 5719), ('New York', 5705), ('Fourth Gospel', 5434), ('Apostle Paul', 5362), ('God Son', 5272), ('Paul have', 5193)]\n"
     ]
    }
   ],
   "source": [
    "for decade in decades:\n",
    "    print(get_tops(\"jstor_df\", \"publicationYear\", \".between({0})\".format(decade), n=30))"
   ],
   "metadata": {
    "collapsed": false,
    "pycharm": {
     "name": "#%%\n"
    }
   }
  },
  {
   "cell_type": "code",
   "execution_count": 30,
   "outputs": [],
   "source": [
    "to_replace = {\n",
    "    \"christian\" : \"Christian\",\n",
    "    \"Biblical\" : \"biblical\",\n",
    "    \"Church\" : \"church\",\n",
    "    \"Faith\" : \"faith\",\n",
    "    \"Apostle\" : \"apostle\",\n",
    "    \"american\" : \"American\",\n",
    "    \"jewish\" : \"Jewish\",\n",
    "    \"old Testament\" : \"Old Testament\",\n",
    "    \"Paul St\" : \"Paul saint\",\n",
    "    \"Lord\" : \"lord\"\n",
    "}"
   ],
   "metadata": {
    "collapsed": false,
    "pycharm": {
     "name": "#%%\n"
    }
   }
  },
  {
   "cell_type": "markdown",
   "source": [
    "# Preprocesing for embeddings etc.\n"
   ],
   "metadata": {
    "collapsed": false,
    "pycharm": {
     "name": "#%% md\n"
    }
   }
  },
  {
   "cell_type": "code",
   "execution_count": 103,
   "outputs": [],
   "source": [
    "unigrams_merged_cleaned = pickle.load(open(\"../data/large_files/unigrams_merged_cleaned.pickle\", \"rb\"))"
   ],
   "metadata": {
    "collapsed": false,
    "pycharm": {
     "name": "#%%\n"
    }
   }
  },
  {
   "cell_type": "code",
   "execution_count": 104,
   "outputs": [
    {
     "data": {
      "text/plain": "1349906"
     },
     "execution_count": 104,
     "metadata": {},
     "output_type": "execute_result"
    }
   ],
   "source": [
    "#\n",
    "types_N = len(unigrams_merged_cleaned)\n",
    "types_N"
   ],
   "metadata": {
    "collapsed": false,
    "pycharm": {
     "name": "#%%\n"
    }
   }
  },
  {
   "cell_type": "code",
   "execution_count": 105,
   "outputs": [
    {
     "data": {
      "text/plain": "71637349"
     },
     "execution_count": 105,
     "metadata": {},
     "output_type": "execute_result"
    }
   ],
   "source": [
    "tokens_N = sum([tup[1] for tup in unigrams_merged_cleaned.items()])\n",
    "tokens_N"
   ],
   "metadata": {
    "collapsed": false,
    "pycharm": {
     "name": "#%%\n"
    }
   }
  },
  {
   "cell_type": "code",
   "execution_count": 118,
   "outputs": [
    {
     "data": {
      "text/plain": "45412"
     },
     "execution_count": 118,
     "metadata": {},
     "output_type": "execute_result"
    }
   ],
   "source": [
    "threshold = 50\n",
    "unigrams_merged_thresh = dict([tup for tup in unigrams_merged_cleaned.items() if tup[1] >= threshold])\n",
    "types_N_thres = len(unigrams_merged_thresh)\n",
    "types_N_thres"
   ],
   "metadata": {
    "collapsed": false,
    "pycharm": {
     "name": "#%%\n"
    }
   }
  },
  {
   "cell_type": "code",
   "execution_count": 119,
   "outputs": [
    {
     "data": {
      "text/plain": "67711862"
     },
     "execution_count": 119,
     "metadata": {},
     "output_type": "execute_result"
    }
   ],
   "source": [
    "tokens_N_thres = sum([tup[1] for tup in unigrams_merged_thresh.items()])\n",
    "tokens_N_thres"
   ],
   "metadata": {
    "collapsed": false,
    "pycharm": {
     "name": "#%%\n"
    }
   }
  },
  {
   "cell_type": "code",
   "execution_count": 120,
   "outputs": [
    {
     "name": "stdout",
     "output_type": "stream",
     "text": [
      "3.36\n",
      "94.52\n"
     ]
    }
   ],
   "source": [
    "print(np.round(types_N_thres / types_N * 100, 2))\n",
    "print(np.round(tokens_N_thres / tokens_N * 100, 2))"
   ],
   "metadata": {
    "collapsed": false,
    "pycharm": {
     "name": "#%%\n"
    }
   }
  },
  {
   "cell_type": "code",
   "execution_count": 123,
   "outputs": [
    {
     "data": {
      "text/plain": "[('have', 1104349),\n ('God', 497732),\n ('do', 464566),\n ('Paul', 407736),\n ('church', 378646),\n ('see', 373526),\n ('Christian', 319494),\n ('other', 294611),\n ('new', 286333),\n ('Jesus', 281420)]"
     },
     "execution_count": 123,
     "metadata": {},
     "output_type": "execute_result"
    }
   ],
   "source": [
    "unigrams_sorted_tups = sorted(list(unigrams_merged_thresh.items()), key = lambda tup: tup[1], reverse=True)\n",
    "unigrams_sorted_tups[:10]"
   ],
   "metadata": {
    "collapsed": false,
    "pycharm": {
     "name": "#%%\n"
    }
   }
  },
  {
   "cell_type": "code",
   "execution_count": 124,
   "outputs": [],
   "source": [
    "vocabulary = [tup[0] for tup in unigrams_sorted_tups]"
   ],
   "metadata": {
    "collapsed": false,
    "pycharm": {
     "name": "#%%\n"
    }
   }
  },
  {
   "cell_type": "code",
   "execution_count": 125,
   "outputs": [
    {
     "name": "stdout",
     "output_type": "stream",
     "text": [
      "CPU times: user 85.1 ms, sys: 26.6 ms, total: 112 ms\n",
      "Wall time: 117 ms\n"
     ]
    }
   ],
   "source": [
    "%%time\n",
    "dictionary = corpora.Dictionary([vocabulary])"
   ],
   "metadata": {
    "collapsed": false,
    "pycharm": {
     "name": "#%%\n"
    }
   }
  },
  {
   "cell_type": "code",
   "execution_count": 129,
   "outputs": [
    {
     "data": {
      "text/plain": "3026"
     },
     "execution_count": 129,
     "metadata": {},
     "output_type": "execute_result"
    }
   ],
   "source": [
    "dictionary.token2id[\"Christ\"]"
   ],
   "metadata": {
    "collapsed": false,
    "pycharm": {
     "name": "#%%\n"
    }
   }
  },
  {
   "cell_type": "code",
   "execution_count": 130,
   "outputs": [
    {
     "data": {
      "text/plain": "[(3026, 1), (7872, 1)]"
     },
     "execution_count": 130,
     "metadata": {},
     "output_type": "execute_result"
    }
   ],
   "source": [
    "dictionary.doc2bow([\"Jesus\", \"Christ\", \"Vojtěch\"])"
   ],
   "metadata": {
    "collapsed": false,
    "pycharm": {
     "name": "#%%\n"
    }
   }
  },
  {
   "cell_type": "code",
   "execution_count": 68,
   "outputs": [
    {
     "name": "stdout",
     "output_type": "stream",
     "text": [
      "CPU times: user 1min 30s, sys: 5.68 s, total: 1min 35s\n",
      "Wall time: 1min 38s\n"
     ]
    }
   ],
   "source": [
    "%%time\n",
    "words_counter = Counter()\n",
    "for tup in list(data_trigrams.items()):\n",
    "    trigram_split = tup[0].split()\n",
    "    trigram_words_dict = dict([(w, tup[1]) for w in tup[0].split()])\n",
    "    words_counter.update(trigram_words_dict)"
   ],
   "metadata": {
    "collapsed": false,
    "pycharm": {
     "name": "#%%\n"
    }
   }
  },
  {
   "cell_type": "code",
   "execution_count": 75,
   "outputs": [
    {
     "data": {
      "text/plain": "[('the', 11069425),\n ('of', 7794989),\n ('and', 7658222),\n ('in', 5068121),\n ('to', 4724140),\n ('a', 3412881),\n ('that', 2592173),\n ('is', 2544188),\n ('The', 2117179),\n ('as', 1926657),\n ('for', 1719904),\n ('God', 1466690),\n ('with', 1465979),\n ('have', 1436410),\n ('by', 1430733),\n ('his', 1366978),\n ('was', 1306292),\n ('this', 1159116),\n ('on', 1147087),\n ('from', 1130107),\n ('or', 1124321),\n ('be', 1098792),\n ('it', 1095173),\n ('not', 1054076),\n ('he', 1009057),\n ('Paul', 989362),\n ('are', 981070),\n ('which', 938571),\n ('I', 856019),\n ('but', 854734),\n ('their', 823829),\n ('Jesus', 818779),\n ('an', 775872),\n ('at', 720394),\n ('Christ', 717573),\n ('other', 713187),\n ('In', 709537),\n ('who', 690035),\n ('do', 674599),\n ('see', 673994),\n ('one', 665063),\n ('were', 647401),\n ('they', 600823),\n ('all', 573193),\n ('church', 565475),\n ('also', 551245),\n ('Christian', 548838),\n ('1', 544121),\n ('A', 537050),\n ('has', 530712),\n ('more', 525323),\n ('had', 521816),\n ('life', 511836),\n ('we', 511402),\n ('its', 504220),\n ('New', 504177),\n ('time', 457292),\n ('such', 456408),\n ('work', 453258),\n ('first', 444999),\n ('will', 432646),\n ('people', 428676),\n ('way', 426175),\n ('John', 425639),\n ('This', 420100),\n ('them', 420060),\n ('2', 405162),\n ('these', 401113),\n ('text', 399263),\n ('Church', 397794),\n ('own', 395977),\n ('world', 393731),\n ('p', 393593),\n ('make', 391597),\n ('book', 386155),\n ('only', 379802),\n ('so', 379337),\n ('use', 378872),\n ('our', 378379),\n ('He', 378311),\n ('you', 374292),\n ('new', 372240),\n ('him', 365935),\n ('say', 360117),\n ('would', 357933),\n ('many', 357142),\n ('man', 357037),\n ('no', 352473),\n ('about', 351654),\n ('faith', 349194),\n ('For', 342667),\n ('It', 336210),\n ('when', 334628),\n ('into', 330292),\n ('same', 330000),\n ('early', 328443),\n ('University', 314356),\n ('what', 311048),\n ('come', 308690),\n ('Testament', 308638)]"
     },
     "execution_count": 75,
     "metadata": {},
     "output_type": "execute_result"
    }
   ],
   "source": [
    "sorted(list(words_counter.items()), key=lambda kv: kv[1], reverse=True)[:100]"
   ],
   "metadata": {
    "collapsed": false,
    "pycharm": {
     "name": "#%%\n"
    }
   }
  },
  {
   "cell_type": "code",
   "execution_count": 49,
   "outputs": [
    {
     "data": {
      "text/plain": "2115985"
     },
     "execution_count": 49,
     "metadata": {},
     "output_type": "execute_result"
    }
   ],
   "source": [
    "len(types)"
   ],
   "metadata": {
    "collapsed": false,
    "pycharm": {
     "name": "#%%\n"
    }
   }
  },
  {
   "cell_type": "code",
   "execution_count": 52,
   "outputs": [
    {
     "data": {
      "text/plain": "['REGEMORTER',\n 'patenand',\n 'nonetheless6',\n 'Albergatis',\n 'TsGALI',\n '利瑪竇',\n 'agesperhaps',\n 'dimness',\n 'Bane',\n 'stereotypes40']"
     },
     "execution_count": 52,
     "metadata": {},
     "output_type": "execute_result"
    }
   ],
   "source": [
    "types[:10]"
   ],
   "metadata": {
    "collapsed": false,
    "pycharm": {
     "name": "#%%\n"
    }
   }
  },
  {
   "cell_type": "code",
   "execution_count": 53,
   "outputs": [],
   "source": [
    "dictionary = corpora.Dictionary([types])"
   ],
   "metadata": {
    "collapsed": false,
    "pycharm": {
     "name": "#%%\n"
    }
   }
  },
  {
   "cell_type": "code",
   "execution_count": 54,
   "outputs": [
    {
     "data": {
      "text/plain": "gensim.corpora.dictionary.Dictionary"
     },
     "execution_count": 54,
     "metadata": {},
     "output_type": "execute_result"
    }
   ],
   "source": [
    "type(dictionary)"
   ],
   "metadata": {
    "collapsed": false,
    "pycharm": {
     "name": "#%%\n"
    }
   }
  },
  {
   "cell_type": "code",
   "execution_count": 60,
   "outputs": [
    {
     "data": {
      "text/plain": "'19918788'"
     },
     "execution_count": 60,
     "metadata": {},
     "output_type": "execute_result"
    }
   ],
   "source": [
    "dictionary[\"100000\"]"
   ],
   "metadata": {
    "collapsed": false,
    "pycharm": {
     "name": "#%%\n"
    }
   }
  },
  {
   "cell_type": "code",
   "execution_count": 41,
   "outputs": [
    {
     "data": {
      "text/plain": "166178449"
     },
     "execution_count": 41,
     "metadata": {},
     "output_type": "execute_result"
    }
   ],
   "source": [
    "len(tokens)"
   ],
   "metadata": {
    "collapsed": false,
    "pycharm": {
     "name": "#%%\n"
    }
   }
  },
  {
   "cell_type": "code",
   "execution_count": null,
   "outputs": [],
   "source": [],
   "metadata": {
    "collapsed": false,
    "pycharm": {
     "name": "#%%\n"
    }
   }
  },
  {
   "cell_type": "code",
   "execution_count": null,
   "outputs": [],
   "source": [
    "types = list(set(tokens)"
   ],
   "metadata": {
    "collapsed": false,
    "pycharm": {
     "name": "#%%\n"
    }
   }
  },
  {
   "cell_type": "code",
   "execution_count": 36,
   "outputs": [],
   "source": [
    "dictionary.save(\"../data/dictionary_v1.dict\")"
   ],
   "metadata": {
    "collapsed": false,
    "pycharm": {
     "name": "#%%\n"
    }
   }
  },
  {
   "cell_type": "code",
   "execution_count": 37,
   "outputs": [
    {
     "data": {
      "text/plain": "[(0, 'ark://27927/phx66812gq6'),\n (1, 'ark://27927/pbd6fpf5fh'),\n (2, 'ark://27927/phw1kd8s300'),\n (3, 'ark://27927/phx64fptrwj'),\n (4, 'ark://27927/phx64k1x5c2'),\n (5, 'ark://27927/phx64fkrk6m'),\n (6, 'http://www.jstor.org/stable/43052718'),\n (7, 'ark://27927/phx68d6dm3t'),\n (8, 'ark://27927/pbd934r3jr'),\n (9, 'ark://27927/phx2t1wjwnt')]"
     },
     "execution_count": 37,
     "metadata": {},
     "output_type": "execute_result"
    }
   ],
   "source": [
    "list(dictionary.items())[:10]"
   ],
   "metadata": {
    "collapsed": false,
    "pycharm": {
     "name": "#%%\n"
    }
   }
  },
  {
   "cell_type": "code",
   "execution_count": null,
   "outputs": [],
   "source": [],
   "metadata": {
    "collapsed": false,
    "pycharm": {
     "name": "#%%\n"
    }
   }
  }
 ],
 "metadata": {
  "kernelspec": {
   "display_name": "Python 3",
   "language": "python",
   "name": "python3"
  },
  "language_info": {
   "codemirror_mode": {
    "name": "ipython",
    "version": 2
   },
   "file_extension": ".py",
   "mimetype": "text/x-python",
   "name": "python",
   "nbconvert_exporter": "python",
   "pygments_lexer": "ipython2",
   "version": "2.7.6"
  }
 },
 "nbformat": 4,
 "nbformat_minor": 0
}