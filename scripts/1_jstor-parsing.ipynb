{
 "cells": [
  {
   "cell_type": "code",
   "execution_count": 8,
   "outputs": [],
   "source": [
    "import constellate\n",
    "import json\n",
    "import pandas as pd\n",
    "import pickle\n",
    "pd.set_option(\"display.max_columns\", None)\n",
    "import os\n",
    "import csv"
   ],
   "metadata": {
    "collapsed": false,
    "ExecuteTime": {
     "start_time": "2023-03-30T22:19:48.849152Z",
     "end_time": "2023-03-30T22:19:48.851714Z"
    }
   }
  },
  {
   "cell_type": "code",
   "execution_count": 2,
   "outputs": [],
   "source": [
    "dataset = constellate.dataset_reader(\"../data/large_files/jstor_v2023.jsonl\")"
   ],
   "metadata": {
    "collapsed": false,
    "ExecuteTime": {
     "start_time": "2023-03-30T21:05:39.383632Z",
     "end_time": "2023-03-30T21:05:39.388519Z"
    }
   }
  },
  {
   "cell_type": "code",
   "execution_count": 3,
   "outputs": [
    {
     "data": {
      "text/plain": "generator"
     },
     "execution_count": 3,
     "metadata": {},
     "output_type": "execute_result"
    }
   ],
   "source": [
    "type(dataset)"
   ],
   "metadata": {
    "collapsed": false,
    "ExecuteTime": {
     "start_time": "2023-03-30T21:05:39.723615Z",
     "end_time": "2023-03-30T21:05:39.733623Z"
    }
   }
  },
  {
   "cell_type": "code",
   "execution_count": 4,
   "outputs": [],
   "source": [
    "data_columns = ['unigramCount', 'bigramCount', 'trigramCount', 'abstract', 'fullText']\n"
   ],
   "metadata": {
    "collapsed": false,
    "ExecuteTime": {
     "start_time": "2023-03-30T21:05:40.689409Z",
     "end_time": "2023-03-30T21:05:40.694566Z"
    }
   }
  },
  {
   "cell_type": "code",
   "execution_count": 5,
   "outputs": [],
   "source": [
    "path_trigrams = \"../data/large_files/trigrams_raw/\"\n",
    "#os.makedirs(path_trigrams)\n",
    "path_unigrams = \"../data/large_files/unigrams_raw/\"\n",
    "#os.makedirs(path_unigrams)"
   ],
   "metadata": {
    "collapsed": false,
    "ExecuteTime": {
     "start_time": "2023-03-30T21:05:41.203480Z",
     "end_time": "2023-03-30T21:05:41.206515Z"
    }
   }
  },
  {
   "cell_type": "code",
   "execution_count": 7,
   "outputs": [
    {
     "name": "stdout",
     "output_type": "stream",
     "text": [
      "CPU times: user 4min 49s, sys: 24.1 s, total: 5min 13s\n",
      "Wall time: 5min 41s\n"
     ]
    }
   ],
   "source": [
    "%%time\n",
    "metadata_list = []\n",
    "dataset = constellate.dataset_reader(\"../data/large_files/jstor_v2023.jsonl\")\n",
    "for n, doc_dict in enumerate(dataset):\n",
    "        doc_dict[\"id_kase\"] = n\n",
    "        trigrams = doc_dict[\"trigramCount\"]\n",
    "        with open(path_trigrams + \"trigrams_{}.json\".format(str(n)), \"w\") as f:\n",
    "            json.dump(trigrams, f)\n",
    "        unigrams = doc_dict[\"unigramCount\"]\n",
    "        with open(path_unigrams + \"unigrams_{}.json\".format(str(n)), \"w\") as f:\n",
    "            json.dump(unigrams, f)\n",
    "        for col in ['unigramCount', 'bigramCount', 'trigramCount', 'fullText']:\n",
    "            try:\n",
    "                del doc_dict[col]\n",
    "            except:\n",
    "                pass\n",
    "        metadata_list.append(doc_dict)"
   ],
   "metadata": {
    "collapsed": false,
    "ExecuteTime": {
     "start_time": "2023-03-30T21:06:22.092927Z",
     "end_time": "2023-03-30T21:12:03.706725Z"
    }
   }
  },
  {
   "cell_type": "code",
   "execution_count": 92,
   "outputs": [
    {
     "data": {
      "text/plain": "25000"
     },
     "execution_count": 92,
     "metadata": {},
     "output_type": "execute_result"
    }
   ],
   "source": [
    "metadata_df = pd.DataFrame(metadata_list)\n",
    "len(metadata_df)"
   ],
   "metadata": {
    "collapsed": false
   }
  },
  {
   "cell_type": "code",
   "execution_count": 93,
   "outputs": [],
   "source": [
    "metadata_df.to_json(\"../data/metadata_df.json\")"
   ],
   "metadata": {
    "collapsed": false
   }
  },
  {
   "cell_type": "code",
   "execution_count": 94,
   "outputs": [],
   "source": [
    "ids_dict = dict(zip(metadata_df[\"id\"], metadata_df[\"id_kase\"]))"
   ],
   "metadata": {
    "collapsed": false
   }
  },
  {
   "cell_type": "code",
   "execution_count": 95,
   "outputs": [],
   "source": [
    "with open(\"../data/large_files/ids_dict.json\", \"w\") as f:\n",
    "    json.dump(ids_dict, f)"
   ],
   "metadata": {
    "collapsed": false
   }
  },
  {
   "cell_type": "code",
   "execution_count": null,
   "outputs": [],
   "source": [],
   "metadata": {
    "collapsed": false
   }
  },
  {
   "cell_type": "code",
   "execution_count": null,
   "outputs": [],
   "source": [],
   "metadata": {
    "collapsed": false
   }
  },
  {
   "cell_type": "code",
   "execution_count": null,
   "outputs": [],
   "source": [],
   "metadata": {
    "collapsed": false
   }
  },
  {
   "cell_type": "code",
   "execution_count": null,
   "outputs": [],
   "source": [],
   "metadata": {
    "collapsed": false
   }
  },
  {
   "cell_type": "code",
   "execution_count": null,
   "outputs": [],
   "source": [],
   "metadata": {
    "collapsed": false
   }
  },
  {
   "cell_type": "code",
   "execution_count": null,
   "outputs": [],
   "source": [],
   "metadata": {
    "collapsed": false
   }
  },
  {
   "cell_type": "code",
   "execution_count": null,
   "outputs": [],
   "source": [],
   "metadata": {
    "collapsed": false
   }
  },
  {
   "cell_type": "code",
   "execution_count": null,
   "outputs": [],
   "source": [],
   "metadata": {
    "collapsed": false
   }
  },
  {
   "cell_type": "code",
   "execution_count": null,
   "outputs": [],
   "source": [],
   "metadata": {
    "collapsed": false
   }
  },
  {
   "cell_type": "code",
   "execution_count": null,
   "outputs": [],
   "source": [],
   "metadata": {
    "collapsed": false
   }
  },
  {
   "cell_type": "code",
   "execution_count": null,
   "outputs": [],
   "source": [],
   "metadata": {
    "collapsed": false
   }
  },
  {
   "cell_type": "code",
   "execution_count": null,
   "outputs": [],
   "source": [],
   "metadata": {
    "collapsed": false
   }
  },
  {
   "cell_type": "code",
   "execution_count": null,
   "outputs": [],
   "source": [],
   "metadata": {
    "collapsed": false
   }
  },
  {
   "cell_type": "code",
   "execution_count": null,
   "outputs": [],
   "source": [],
   "metadata": {
    "collapsed": false
   }
  },
  {
   "cell_type": "code",
   "execution_count": 2,
   "outputs": [],
   "source": [
    "#dataset = constellate.dataset_reader(\"../data/large_files/jstor_v1.jsonl\")"
   ],
   "metadata": {
    "collapsed": false
   }
  },
  {
   "cell_type": "code",
   "execution_count": 9,
   "outputs": [],
   "source": [
    "destpath = \"../data/large_files/raw_docs/\"\n",
    "#os.makedirs(destpath)"
   ],
   "metadata": {
    "collapsed": false
   }
  },
  {
   "cell_type": "code",
   "execution_count": 12,
   "outputs": [
    {
     "name": "stdout",
     "output_type": "stream",
     "text": [
      "CPU times: user 3 µs, sys: 0 ns, total: 3 µs\n",
      "Wall time: 6.2 µs\n"
     ]
    }
   ],
   "source": [
    "%%time\n",
    "dataset_list = []\n",
    "for n, doc in enumerate(dataset):\n",
    "    with open(destpath + \"_{}.pickle\".format(str(n)), \"wb\") as f:\n",
    "        pickle.dump(doc, f)"
   ],
   "metadata": {
    "collapsed": false
   }
  },
  {
   "cell_type": "code",
   "execution_count": null,
   "outputs": [],
   "source": [
    "dataset"
   ],
   "metadata": {
    "collapsed": false
   }
  },
  {
   "cell_type": "code",
   "execution_count": 13,
   "outputs": [
    {
     "name": "stdout",
     "output_type": "stream",
     "text": [
      "CPU times: user 3 µs, sys: 2 µs, total: 5 µs\n",
      "Wall time: 6.91 µs\n"
     ]
    }
   ],
   "source": [
    "%%time\n",
    "dataset_list = []\n",
    "for doc in dataset:\n",
    "    dataset_list.append(doc)"
   ],
   "metadata": {
    "collapsed": false
   }
  },
  {
   "cell_type": "code",
   "execution_count": 4,
   "outputs": [
    {
     "data": {
      "text/plain": "14103"
     },
     "execution_count": 4,
     "metadata": {},
     "output_type": "execute_result"
    }
   ],
   "source": [
    "len(dataset_list)"
   ],
   "metadata": {
    "collapsed": false
   }
  },
  {
   "cell_type": "code",
   "execution_count": 5,
   "outputs": [
    {
     "data": {
      "text/plain": "{'creator': ['J. M. Flood'],\n 'datePublished': '1945-09-01',\n 'docSubType': 'research-article',\n 'docType': 'article',\n 'id': 'http://www.jstor.org/stable/30099597',\n 'identifier': [{'name': 'issn', 'value': '00393495'},\n  {'name': 'local_uuid', 'value': 'efc8a71f-2bc1-3a8b-b4cc-200d8fa8bc60'},\n  {'name': 'local_doi', 'value': '10.2307/30099597'},\n  {'name': 'journal_id', 'value': 'studiesirishrev'}],\n 'isPartOf': 'Studies: An Irish Quarterly Review',\n 'issueNumber': '135',\n 'language': ['eng'],\n 'outputFormat': ['unigram', 'bigram', 'trigram'],\n 'pageCount': 10,\n 'pageEnd': '396',\n 'pageStart': '387',\n 'pagination': 'pp. 387-396',\n 'provider': 'jstor',\n 'publicationYear': 1945,\n 'publisher': 'Irish Province of the Society of Jesus',\n 'sourceCategory': ['Humanities', 'Religion'],\n 'tdmCategory': ['Religion - Theology', 'History - Historical methodology'],\n 'title': 'Cardinal Newman and Dr. Charles Russell',\n 'url': 'http://www.jstor.org/stable/30099597',\n 'volumeNumber': '34',\n 'wordCount': 4800,\n 'unigramCount': {'glad': 1,\n  'holding': 1,\n  '396': 1,\n  'endeavours,': 1,\n  'views': 1,\n  'Oxford.': 1,\n  'serious': 1,\n  'Bodleian,': 1,\n  'further': 1,\n  \"Russell's\": 6,\n  'information,': 1,\n  'characters': 1,\n  'sprang': 1,\n  'Mother': 2,\n  'on': 34,\n  'uncharitable': 1,\n  'Peel.': 1,\n  'decline': 1,\n  'known': 4,\n  'unanimously': 1,\n  'Whilst': 3,\n  'permission,': 1,\n  'Bossuet': 1,\n  'criticisms.': 1,\n  'concerns': 1,\n  '1843,': 2,\n  'others,': 3,\n  'he': 64,\n  'antiquities,': 1,\n  'Tractarian': 1,\n  'He,': 1,\n  'strongest': 1,\n  'say': 1,\n  'University': 2,\n  'allusion,': 1,\n  'manners.': 1,\n  'solicitor': 1,\n  'regard': 1,\n  'sayings': 1,\n  'considered': 1,\n  'much': 6,\n  'Ministers': 1,\n  'tenaciously': 1,\n  'with': 30,\n  'funeral,': 1,\n  'over': 3,\n  'fervently': 1,\n  'them': 6,\n  'express': 1,\n  'wish': 1,\n  'sent': 5,\n  'could': 5,\n  'exact': 1,\n  'influence': 2,\n  'consequence.': 1,\n  'element': 1,\n  '\"open': 1,\n  'hour': 1,\n  'pervades': 1,\n  'letters': 6,\n  'Mezzo/anti,': 1,\n  'letter,': 2,\n  'books.': 1,\n  'make,': 1,\n  'appointment.': 1,\n  '(Essay': 1,\n  'comparative': 1,\n  'faults': 1,\n  'interest.': 1,\n  'Movement': 1,\n  'place,': 1,\n  'anti': 1,\n  'justify': 1,\n  'reign': 1,\n  'Transsubstantiation.': 1,\n  'Movement,': 1,\n  'so': 5,\n  'About': 1,\n  'twelve': 1,\n  'translation': 2,\n  '388': 1,\n  'religious': 2,\n  'founded': 2,\n  'Berengarius,': 1,\n  'him,': 3,\n  'me': 10,\n  'amid': 1,\n  'Newman': 41,\n  'letters;': 1,\n  'Calendar': 1,\n  'one,': 1,\n  'between': 8,\n  'attempt': 1,\n  'Hope-Scott-were': 1,\n  'chorus': 1,\n  '1832,': 1,\n  'report': 2,\n  'benefits': 1,\n  'permanent': 1,\n  'tender': 1,\n  'solemn': 1,\n  'take': 1,\n  '1848,': 1,\n  'Matthew,': 1,\n  'heard': 1,\n  'confessed': 1,\n  'send': 1,\n  'valuable': 1,\n  'opposed': 1,\n  'anything': 3,\n  'towards': 3,\n  'into': 8,\n  'established': 2,\n  'Development': 2,\n  'books': 2,\n  'originated': 1,\n  'critics.': 1,\n  'avowal': 1,\n  'barely': 1,\n  'divine': 1,\n  'more': 9,\n  'Ultra': 1,\n  'allowances': 1,\n  'motives': 1,\n  'poet': 1,\n  'always': 5,\n  'Has': 1,\n  'looked': 2,\n  'pleasing': 1,\n  'incited': 1,\n  'barrister': 1,\n  'successfully': 1,\n  'powerful': 1,\n  'Katherine': 1,\n  'like': 5,\n  'devotion': 1,\n  'legitimate': 1,\n  'unskilfully.\"': 1,\n  'afterwards,': 1,\n  'benevolent': 1,\n  'all,': 2,\n  'for': 31,\n  '169.': 1,\n  'measured': 1,\n  'held': 2,\n  'Humanities': 1,\n  'spiritual': 1,\n  'through': 1,\n  'extracts': 1,\n  'appointed': 3,\n  'another': 5,\n  'God.': 1,\n  '\"My': 1,\n  'historically,': 1,\n  'member': 1,\n  'deepest': 1,\n  'palimpsests': 1,\n  'make': 2,\n  'biographer,': 1,\n  'pen': 1,\n  'members': 1,\n  'nor': 2,\n  'purely': 1,\n  'understand': 3,\n  'connection': 1,\n  'out': 1,\n  'not': 30,\n  \"Liguori's\": 1,\n  'gentleman': 1,\n  'cemented': 1,\n  'Review.': 3,\n  'establishing': 1,\n  'insight': 1,\n  'interesting': 1,\n  \"Gladstone's\": 1,\n  'remarks': 1,\n  'erudition': 2,\n  'information.': 1,\n  'from': 35,\n  'go': 3,\n  'of': 187,\n  'yourself,': 1,\n  'nevertheless': 1,\n  'latter': 3,\n  'joined': 2,\n  'State': 1,\n  'venerate': 1,\n  'novel': 1,\n  'reason': 3,\n  'faith,': 1,\n  'lifetime,': 2,\n  'chief': 1,\n  'be': 31,\n  'goes': 1,\n  'articles': 5,\n  'continues': 1,\n  'lose': 1,\n  'impression': 1,\n  'conviction': 1,\n  'meet': 3,\n  'should': 4,\n  'derived': 1,\n  'may': 4,\n  'himself.': 1,\n  'taught': 1,\n  'reached': 1,\n  'whom': 4,\n  'Russell': 35,\n  'French,': 1,\n  'tells': 4,\n  'dexterity': 1,\n  'gentle,': 1,\n  'Tynan': 1,\n  'book,': 2,\n  'up,': 1,\n  'Penal': 1,\n  'Sonnet-which,': 1,\n  '\"Nothing': 1,\n  'history': 4,\n  'earned': 1,\n  'criticism': 2,\n  'affabilis': 1,\n  'placidus,': 1,\n  'reports': 1,\n  'book': 3,\n  'provoked': 1,\n  'illustrative': 1,\n  'pleading': 1,\n  '1852': 1,\n  'Spiritus': 1,\n  'praise': 1,\n  'Chair': 2,\n  'benignus.\"': 1,\n  'notice': 1,\n  'READERS': 1,\n  'phrases': 1,\n  'then': 2,\n  'mind': 2,\n  'controverted': 1,\n  'previous': 1,\n  'Ward,': 1,\n  'intention': 1,\n  'Faith,': 1,\n  'friend': 4,\n  'pages,': 1,\n  'extent': 2,\n  'things,\"': 1,\n  'sought': 2,\n  'frankness': 3,\n  'eminence': 1,\n  'wantonly': 1,\n  'University,': 2,\n  'disappointment': 1,\n  'case': 1,\n  'iii': 1,\n  'criticisms': 1,\n  'certain': 2,\n  'itself': 1,\n  '84': 1,\n  'direct': 1,\n  'unobtrusive,': 1,\n  'visited': 1,\n  'hopes': 2,\n  'turning': 1,\n  'In': 4,\n  'again': 1,\n  'maintaining': 1,\n  'smoothed': 1,\n  'Down,': 1,\n  'London.\"': 1,\n  'approve.': 1,\n  'had': 50,\n  'Catholicism': 1,\n  'modus': 1,\n  'dedicate': 1,\n  'observe': 1,\n  'importance': 1,\n  'character': 3,\n  'scarcely': 1,\n  'Articles.\"': 1,\n  'parts': 1,\n  'times': 1,\n  'our': 3,\n  'And': 1,\n  'happy': 1,\n  'attainments': 2,\n  'realised,': 1,\n  'ac300ted': 1,\n  'believe': 1,\n  'story.': 1,\n  'caused': 1,\n  'regarding': 6,\n  'renderings': 1,\n  'approval': 1,\n  'publication': 1,\n  'new': 1,\n  'project': 1,\n  '18,': 1,\n  'duties': 1,\n  'recognition': 2,\n  'securing': 1,\n  'Church.': 1,\n  '1812,': 1,\n  'wrong': 1,\n  'reflected': 1,\n  'him.': 1,\n  'University.\"': 1,\n  'representative': 1,\n  'recorded:': 1,\n  'JUSTICE': 1,\n  'blame': 1,\n  'still': 1,\n  'smooth': 1,\n  'give': 1,\n  'word,': 1,\n  'practical': 1,\n  'determined': 2,\n  'this': 9,\n  '\"On': 1,\n  'contributor': 1,\n  'matters': 2,\n  \"Chambers'\": 1,\n  'that\"': 1,\n  'induces': 1,\n  'suffered': 1,\n  'are': 11,\n  'ordained': 1,\n  'impute': 1,\n  'some': 12,\n  'subject,': 1,\n  'Drogheda': 1,\n  'modesty': 2,\n  'shown': 5,\n  'foundation': 1,\n  'attended': 2,\n  'Dunboyne': 1,\n  'fact': 2,\n  'completely': 1,\n  'kind': 3,\n  'body,': 1,\n  'date,': 1,\n  'Newman,': 9,\n  'subjects': 3,\n  'bishops': 1,\n  'As': 1,\n  'Belfast': 1,\n  'theological': 2,\n  'met': 4,\n  'despondently': 1,\n  'whilst': 2,\n  'archbishopric': 1,\n  'compiled': 1,\n  'submission': 1,\n  'strangely': 1,\n  'seventeenth': 1,\n  'succession': 1,\n  'to': 154,\n  're300tion': 1,\n  'chain': 1,\n  'College.': 1,\n  'early': 2,\n  'recent': 2,\n  'career.': 1,\n  \"Veron's\": 1,\n  'allow': 2,\n  'method': 1,\n  'career;': 1,\n  'referred': 1,\n  'favour.': 1,\n  'so,': 1,\n  'principally': 1,\n  'When': 1,\n  'ac300t': 1,\n  'attach': 1,\n  'four': 1,\n  'conversation,': 1,\n  'magazine': 2,\n  '\"that': 3,\n  'possible': 2,\n  'characteristic': 1,\n  'contrary': 1,\n  'Mr.': 3,\n  'anonymously;': 1,\n  'little': 3,\n  'perhaps': 2,\n  'high': 2,\n  'else': 1,\n  'intelligible': 1,\n  'life.': 1,\n  'omen': 1,\n  'outward': 1,\n  'above': 1,\n  'charges,': 1,\n  'copy': 1,\n  'letter': 3,\n  'bishopric': 1,\n  'regret': 1,\n  'them,': 2,\n  'tribute,': 1,\n  'religion': 1,\n  'men': 5,\n  'and': 142,\n  'a': 85,\n  'character.': 1,\n  'nothing': 2,\n  'Wilde,': 1,\n  'Catholic,': 1,\n  'German.': 2,\n  'published.': 1,\n  'librarian': 1,\n  'visit': 5,\n  'learned': 3,\n  'priest': 3,\n  'speaking': 1,\n  'close': 2,\n  'home': 1,\n  'issue': 1,\n  'Pope': 2,\n  'both': 1,\n  'here': 1,\n  'represent': 2,\n  'effect': 1,\n  'especially': 4,\n  '\"a': 2,\n  'manner,': 1,\n  'is': 20,\n  'exhorting,': 1,\n  'misguiding': 1,\n  'endeared': 1,\n  'guiding.': 1,\n  'commemorates': 1,\n  'enjoyed': 1,\n  'mistake.': 1,\n  'The': 14,\n  'movement,': 1,\n  'neophyte': 1,\n  'saw': 1,\n  'Establish': 1,\n  'other.': 1,\n  'strong': 1,\n  'Though': 1,\n  'controversial': 1,\n  'episcopacy,': 1,\n  'ambitious': 1,\n  'See.\"': 1,\n  'dissuade': 1,\n  '1841': 1,\n  'contemporaries.': 1,\n  'step,': 1,\n  'confirmed': 1,\n  'publication,': 1,\n  'important': 1,\n  'prompt': 1,\n  'literary': 3,\n  'notes': 1,\n  'sense': 2,\n  'priests': 1,\n  'enclosed,': 1,\n  'scholars,': 1,\n  'appointment': 4,\n  'request': 1,\n  'before,': 1,\n  'copy.\"': 1,\n  'first': 3,\n  'do': 9,\n  'relating': 1,\n  'also': 5,\n  'down': 1,\n  'November': 1,\n  'displeased': 1,\n  'serenity': 1,\n  'such': 10,\n  '1826,': 1,\n  'write': 4,\n  'ever-kindly': 1,\n  'indicate': 1,\n  'maintained,': 1,\n  'me-and': 1,\n  'quick': 1,\n  'see': 3,\n  'swiftly': 1,\n  'co-editor.': 1,\n  'formal': 1,\n  'help,': 1,\n  'place': 1,\n  'abhor': 1,\n  'myself': 5,\n  'Then,': 1,\n  'I': 51,\n  'pamphlet': 1,\n  'heavy': 1,\n  'delay,': 1,\n  'which': 54,\n  'remarkable': 2,\n  'told': 4,\n  'astonished': 1,\n  'XVI': 1,\n  \"books-4'\": 1,\n  'Transsubstantiation': 1,\n  'education': 2,\n  'retiring': 2,\n  'wholly': 2,\n  'faith': 2,\n  'Maynooth': 6,\n  'nephew,': 2,\n  'after': 6,\n  'requested': 1,\n  'question': 3,\n  'Rome': 4,\n  \"Leibniz's\": 1,\n  'subsequent': 1,\n  'misstate': 1,\n  'without': 2,\n  'obscure': 1,\n  'theologians,': 1,\n  'celebrated': 1,\n  'pignus.\"': 1,\n  'day.\"': 1,\n  '589': 1,\n  'concerning': 2,\n  'There': 1,\n  'wrote': 14,\n  'succeeded': 1,\n  'period-is': 1,\n  'stranger.': 1,\n  'criticised,': 1,\n  'open': 1,\n  'history,': 1,\n  'approaching': 2,\n  'order': 1,\n  'English': 2,\n  'rudely': 1,\n  'general': 1,\n  'censure': 1,\n  'describe': 1,\n  'quondam': 1,\n  'personal': 2,\n  '600thly,': 1,\n  '\"who': 1,\n  'invited': 2,\n  'docility': 1,\n  'grave': 1,\n  'about': 1,\n  'preposterously': 1,\n  'movement': 1,\n  'time,': 1,\n  'Household': 1,\n  'various': 1,\n  'CHARLES': 1,\n  \"enemy's\": 1,\n  'at': 32,\n  'trust,': 1,\n  'almost': 5,\n  'till': 2,\n  'summer': 2,\n  'efforts': 1,\n  'family': 1,\n  'hands.': 1,\n  'life,': 3,\n  'same': 2,\n  'done': 1,\n  'Review': 6,\n  'quite': 1,\n  'humble': 1,\n  'simplicity': 1,\n  'dinner,': 1,\n  'recognised': 1,\n  'Loss': 1,\n  'Life': 1,\n  'Mai': 2,\n  'FLOOD': 1,\n  'invent': 1,\n  'loco': 1,\n  'century': 2,\n  'there': 7,\n  'call': 1,\n  'it.': 1,\n  'I.': 1,\n  'person': 1,\n  'conclusion.': 1,\n  'memories': 1,\n  'For': 3,\n  'thank': 1,\n  'remembered,': 1,\n  'writer.': 1,\n  'comprises': 1,\n  'the': 281,\n  'born': 2,\n  'Russells': 1,\n  'dealt': 1,\n  'A600gst': 2,\n  ':': 2,\n  'what': 6,\n  'vivendi': 1,\n  'Catholics': 4,\n  'correspondent': 1,\n  'given': 1,\n  'was,': 4,\n  'grieves': 1,\n  'strange': 1,\n  'purpose': 1,\n  'rise': 1,\n  'His': 4,\n  'Oxford,': 1,\n  'discussions': 1,\n  'distinguished': 3,\n  'Killough,': 1,\n  'expand': 1,\n  'seeking': 1,\n  'prospects.\"': 1,\n  'displayed': 1,\n  'Encyclopaedia': 1,\n  'Tractarians': 1,\n  'showing,': 1,\n  'miracles': 1,\n  'probably': 1,\n  'thoughts,': 1,\n  'Russell,': 9,\n  'any': 10,\n  'study': 1,\n  'gathering': 1,\n  'Edinburgh': 1,\n  'clear': 1,\n  'others-first': 1,\n  'story': 8,\n  'calculated': 1,\n  'me.\"': 2,\n  'together.': 1,\n  'Manuscripts': 1,\n  'Theology': 1,\n  '1845': 1,\n  'invitation': 1,\n  'entered': 1,\n  '1836,': 1,\n  'intercourse.': 1,\n  'understanding,': 1,\n  'communion': 1,\n  'memoranda': 1,\n  'seen': 2,\n  'Irish': 8,\n  'languages--': 1,\n  'English.': 1,\n  'yet': 1,\n  'vain': 1,\n  'reasons': 1,\n  'do.\"': 1,\n  'bar': 1,\n  'were': 18,\n  'publications': 2,\n  'Ecclesiastical': 1,\n  'faults,': 1,\n  'wide': 1,\n  'another.\"': 1,\n  'induce': 1,\n  'editor': 1,\n  'experiences,': 1,\n  'celebrating': 1,\n  'hands.\"': 1,\n  'formed': 1,\n  'class': 1,\n  'words': 1,\n  'kindly': 3,\n  'afterwards': 3,\n  'objectors.': 1,\n  'ser600s': 2,\n  'public': 2,\n  'Another': 1,\n  'Church,': 1,\n  'variety': 1,\n  'made': 5,\n  'published': 4,\n  'elevation': 1,\n  'things,': 1,\n  'prevailing,': 1,\n  'W.': 1,\n  'professed': 1,\n  'After': 1,\n  'advice': 1,\n  'Mezzofanifs': 1,\n  'Saints,': 1,\n  'took': 2,\n  'freedom': 1,\n  'career': 1,\n  'evidenced': 1,\n  'behind': 1,\n  'written,': 1,\n  'Magdalen': 1,\n  'subject': 3,\n  'written': 3,\n  'than': 8,\n  'episode': 1,\n  'set': 2,\n  'ex300tions,': 1,\n  '[SEPT.': 4,\n  'story,': 1,\n  'Thursday.': 1,\n  'papyrus': 1,\n  'thrown': 2,\n  'contributors': 1,\n  'George': 1,\n  'true': 2,\n  'President': 2,\n  'We': 1,\n  'writers': 2,\n  'Taylor,': 1,\n  'complete': 3,\n  'projected': 1,\n  'that,': 7,\n  'i': 1,\n  'nominated': 1,\n  'Grammar': 1,\n  'passages': 1,\n  'apart': 1,\n  'Confirmation.': 1,\n  'misapprehension': 1,\n  'happily;': 1,\n  'fear,': 1,\n  'points': 2,\n  '44': 1,\n  'succeeded,': 1,\n  'hoped': 1,\n  'sorts,': 1,\n  'North': 1,\n  'shortcomings,': 1,\n  'fear': 1,\n  'ready': 1,\n  'himself': 2,\n  'Fathers,': 1,\n  'offend': 1,\n  '1835.': 1,\n  'But': 2,\n  'imaginary.': 1,\n  'college': 1,\n  'Virgin,': 1,\n  'answer': 2,\n  'admirable': 2,\n  'post': 1,\n  'mark': 1,\n  'devotion,': 1,\n  'advocates': 1,\n  'brother': 1,\n  'residence': 1,\n  'apparently': 1,\n  'tone': 2,\n  'possessed': 2,\n  'keeping': 2,\n  'forwarding': 1,\n  'Apologia': 2,\n  'under': 2,\n  'several': 1,\n  'her,': 1,\n  'belief': 4,\n  'often': 2,\n  'word': 2,\n  'body': 1,\n  'up': 3,\n  'standing': 1,\n  'tell': 1,\n  'Italian.': 1,\n  'Rome,': 1,\n  'topography': 1,\n  'intellectual': 1,\n  'origin': 1,\n  'high,': 1,\n  'though': 1,\n  'interests,': 1,\n  'diary': 1,\n  'entire': 2,\n  'hi': 1,\n  'anyone.': 1,\n  'chance': 1,\n  'Rev.': 1,\n  'language': 1,\n  'during': 1,\n  'writings': 3,\n  'languages;': 1,\n  'clergy': 2,\n  'Britannica.': 1,\n  'description': 1,\n  'natural,\"': 1,\n  'retractation': 1,\n  'since': 1,\n  'respectfully': 1,\n  'writer': 1,\n  'operation': 1,\n  'A': 1,\n  'One': 1,\n  'satisfy': 2,\n  'remember': 1,\n  'Essay': 1,\n  'Gregory': 1,\n  'Bowden,': 1,\n  'intimate': 2,\n  'where': 2,\n  'Realising': 1,\n  'Tract': 2,\n  'disclaimed': 1,\n  'large': 1,\n  'sub-deacon,': 1,\n  'date': 1,\n  'have': 25,\n  'Studies': 5,\n  '\"I': 3,\n  'extraordinary': 1,\n  'around': 1,\n  'matter': 1,\n  'they': 10,\n  'practices': 1,\n  'disposition,': 1,\n  'death-is': 1,\n  'thereby': 1,\n  'present': 2,\n  'ninth': 1,\n  'Blessed': 1,\n  'occasion': 3,\n  'To': 2,\n  'St.': 4,\n  'desired': 1,\n  'endearing': 1,\n  'entente': 1,\n  'events': 2,\n  'Men': 1,\n  'recall': 1,\n  'pay': 2,\n  'forward).': 1,\n  'surprise': 1,\n  'found': 5,\n  'subjects,': 1,\n  'History': 1,\n  'Newman.': 1,\n  'necessary,': 1,\n  'only': 6,\n  'gentleness': 1,\n  'leave': 2,\n  'it': 18,\n  'MSS.': 1,\n  'peerage': 1,\n  'controversy.': 1,\n  'offence.': 1,\n  'years': 6,\n  'later': 4,\n  'recording': 2,\n  'same.': 1,\n  'no': 4,\n  'permitted': 1,\n  'characteristics,': 1,\n  'series': 1,\n  'dulcis': 1,\n  'presented': 1,\n  'noted': 3,\n  'remove': 1,\n  'possible,': 1,\n  'previously': 1,\n  'repudiate,': 1,\n  'few': 2,\n  'assure': 2,\n  'truth': 1,\n  \"Lordship's\": 1,\n  'my': 11,\n  'Cardinal.': 1,\n  'showed': 3,\n  'System': 1,\n  'ordinary': 1,\n  'encouragement': 1,\n  'unfitted': 1,\n  'became': 2,\n  'ought': 1,\n  'Father': 5,\n  'Veron,': 1,\n  'honour.': 1,\n  'error.': 1,\n  'altered': 2,\n  \"booksellers'\": 1,\n  'volume': 3,\n  'mean': 1,\n  'Justice': 1,\n  'skill': 1,\n  'display,': 1,\n  'lionise': 1,\n  'associated': 1,\n  'spirit': 4,\n  'whole': 1,\n  'distressing': 1,\n  'good': 5,\n  'exercised': 1,\n  'liberty': 2,\n  'You': 2,\n  'represent.': 1,\n  'James': 1,\n  'thoughtful': 1,\n  'come': 1,\n  'every': 1,\n  'frightened': 1,\n  'change': 1,\n  'assisting': 1,\n  'you;': 1,\n  'services': 1,\n  'number': 1,\n  'bring': 2,\n  'converts,': 1,\n  'using': 1,\n  'Murray': 1,\n  'obtrusive.': 1,\n  'acute': 1,\n  'profound': 1,\n  'their': 4,\n  'expressing': 1,\n  'last': 4,\n  'personages': 1,\n  'union': 1,\n  'Chief': 1,\n  'College': 2,\n  'ancient': 1,\n  'millennium': 1,\n  'gifts': 1,\n  'polyglot\"': 1,\n  'Having': 1,\n  'B.': 1,\n  'devoted': 1,\n  'us': 6,\n  'England': 3,\n  'During': 1,\n  'Encyclopaedia.': 1,\n  'greater': 1,\n  'day-Transsubstantiation.': 1,\n  'brought': 3,\n  'mildness': 1,\n  'DISTRICT': 1,\n  'misstated': 1,\n  'impulse': 3,\n  'John': 2,\n  'had,': 1,\n  'frequently': 1,\n  'deeper': 1,\n  'founder': 1,\n  'treatises': 1,\n  'Oxford': 12,\n  'oblivion': 1,\n  'Dr.': 36,\n  'All': 1,\n  'priest,': 1,\n  'restore': 1,\n  'yourself.\"': 1,\n  'just': 2,\n  'evident,': 1,\n  'soul': 1,\n  'plans': 1,\n  'University.': 2,\n  'me,': 2,\n  'although': 2,\n  'already': 1,\n  '1912,': 1,\n  'suppress': 1,\n  'injurious': 1,\n  'following': 2,\n  'let': 1,\n  'quotes,': 1,\n  'acknowledged': 1,\n  'record': 2,\n  'him': 24,\n  'necessity': 1,\n  'by': 28,\n  'Rector': 1,\n  'put': 2,\n  'idea': 1,\n  'practice': 2,\n  'amari': 1,\n  '\"Walked': 1,\n  'kept': 4,\n  'obtaining': 1,\n  'contributed': 1,\n  'persecution': 1,\n  'yourself.': 1,\n  'mild,': 1,\n  'function': 1,\n  'Chrysostom.': 1,\n  'occasion.': 1,\n  'Ireland': 3,\n  'quarter': 1,\n  'one': 8,\n  'pursuing': 1,\n  'issued,': 1,\n  'thought': 5,\n  'leisure': 1,\n  'name': 2,\n  'converts': 3,\n  'hardly': 2,\n  'publications.': 1,\n  'gentlemanlike,': 1,\n  'talked': 1,\n  'seven': 1,\n  'If': 1,\n  'time-a': 1,\n  'Dickens.': 1,\n  'Palmer': 2,\n  'translated': 1,\n  'laid.': 1,\n  '390': 1,\n  'existed': 1,\n  'before': 3,\n  ...},\n 'bigramCount': {'and conversation,': 1,\n  'the volume': 2,\n  'in November': 1,\n  'in all': 2,\n  'to those': 4,\n  'following summer,': 1,\n  'aspirants to': 1,\n  'a nomination': 1,\n  'life. It': 1,\n  'the Dunboyne': 1,\n  'completed his': 2,\n  'that, after': 1,\n  'the Italian': 1,\n  'time :': 1,\n  'University, and': 1,\n  'and unassuming': 1,\n  '\"I received': 1,\n  'when we': 2,\n  'that, perhaps,': 1,\n  'to Catholicism.': 1,\n  'Russell together.': 1,\n  'soon became': 1,\n  'A600gst such': 1,\n  'them, had': 1,\n  'Bishop Taylor': 1,\n  'came upon': 1,\n  'or four': 1,\n  'the Catholic': 5,\n  'conjunction with': 1,\n  'and was': 2,\n  'Development is': 1,\n  'at dinner,': 1,\n  'Mr. Palmer': 1,\n  'He was,': 1,\n  'our Articles.\"': 1,\n  'his way': 1,\n  'sentiments that': 1,\n  'I ought': 1,\n  'He has': 1,\n  'the various': 1,\n  'School, at': 1,\n  'the Pope': 1,\n  'the time-a': 1,\n  'ser600s, reviews': 1,\n  'County Down,': 1,\n  'referred him': 1,\n  'I cannot': 2,\n  'Ward and': 1,\n  'spirit on': 1,\n  'not represent': 1,\n  'for maintaining': 1,\n  'of delicate': 1,\n  'thereby anticipated': 1,\n  'avowal of': 1,\n  'attached to': 1,\n  'know that': 1,\n  'leading men': 1,\n  'result of': 1,\n  'that this': 1,\n  'occasion had': 1,\n  'not prepared': 1,\n  'to remain': 1,\n  'of place,': 1,\n  'Another nephew,': 1,\n  'be found': 2,\n  'early education': 1,\n  'writes Newman': 1,\n  'for many': 1,\n  'Ministers of': 1,\n  'I took': 1,\n  'tell Newman': 1,\n  'again another': 1,\n  'have reason': 1,\n  'succeeded, as': 1,\n  'the perfection': 1,\n  'the original': 1,\n  'with me': 1,\n  'persons, of': 1,\n  'to pay': 1,\n  'different they': 1,\n  'I impute': 1,\n  'that in': 1,\n  'Order, and': 1,\n  'end of': 1,\n  'speech which': 1,\n  'Mr. Newman.': 1,\n  'and unskilfully.\"': 1,\n  'Maynooth on': 1,\n  'can be': 2,\n  'its faults,': 1,\n  'Of those': 1,\n  'put the': 1,\n  'were not': 1,\n  'some way': 1,\n  'truly \"': 1,\n  \"Newman's rooms.\": 1,\n  'and simplicity': 1,\n  'afterwards, when': 1,\n  'presence, as': 1,\n  'shown that': 1,\n  'honour. And': 1,\n  'of miracles': 1,\n  'afterwards as': 1,\n  'part of': 1,\n  'who knew': 1,\n  'am drawn': 1,\n  'Newman, therefore,': 1,\n  'thoughts, sentiments': 1,\n  'therefore, wrote': 1,\n  'recognised by': 1,\n  'in 1853:': 1,\n  'into intercourse.': 1,\n  'quondam Anglicans': 1,\n  'thought to': 1,\n  'Dublin to': 1,\n  'deepest interest': 1,\n  'were of': 1,\n  'had thrown': 1,\n  'Russell wrote': 2,\n  'articles a': 1,\n  'modesty which': 1,\n  'Catholic priest,': 1,\n  'friend,\" Dr.': 1,\n  'his College': 1,\n  'College. Newman': 1,\n  'Apologia will': 1,\n  'which passed': 2,\n  'by such': 1,\n  'him over': 1,\n  'assistance they': 1,\n  'of St.': 2,\n  'Russell appears': 1,\n  \"books-4' Veron's\": 1,\n  'conversion than': 1,\n  'in 1812,': 1,\n  'not calculated': 1,\n  'Decrees, Russell': 1,\n  'personally a': 1,\n  'purely literary': 1,\n  'of her': 1,\n  'your criticisms.': 1,\n  'from Newman,': 1,\n  'not leave': 1,\n  'anything approaching': 1,\n  'ordained priest': 1,\n  'Rector of': 1,\n  'know that,': 1,\n  'to a': 3,\n  'suffered in': 1,\n  'him from': 1,\n  'The close': 1,\n  'as notes': 1,\n  'all parts': 1,\n  'latter was': 1,\n  'and Bossuet': 1,\n  'be able': 2,\n  'Theology and': 1,\n  'although the': 2,\n  'probability, and': 1,\n  '\"Mart\" Russell.': 1,\n  'best schools': 1,\n  'date of': 1,\n  'no intimate': 1,\n  'length induced': 1,\n  'other. He': 1,\n  'mark the': 1,\n  '589 translated': 1,\n  'Newman continues': 1,\n  'Mai in': 1,\n  'the 19451': 1,\n  'of anyone,': 1,\n  'letters; he': 1,\n  'contributor to': 1,\n  'the ser600s': 1,\n  'from retiring': 1,\n  'to say': 1,\n  'that liberty': 1,\n  'operation of': 1,\n  'indicate that,': 1,\n  'as being': 1,\n  'languages-- French,': 1,\n  'favourable, and': 1,\n  'second story.': 1,\n  'towards the': 1,\n  'anticipated your': 1,\n  'up his': 1,\n  'and some': 1,\n  '; and,': 1,\n  'also brings': 1,\n  'who realised': 1,\n  'scene in': 1,\n  'do.\" Newman': 1,\n  'impute that': 1,\n  'been written': 1,\n  'kept in': 1,\n  'a master': 1,\n  'by representative': 1,\n  'the Apologia:': 1,\n  'it was': 2,\n  'reply to': 1,\n  'Newman described': 1,\n  'much against': 1,\n  'On looking': 1,\n  'the love': 1,\n  'the publication': 1,\n  'his life,': 1,\n  'pamphlet on': 1,\n  'description given': 1,\n  'so kindly': 1,\n  'sayings and': 1,\n  'of scholarship': 1,\n  'of Magdalen': 1,\n  'for help,': 1,\n  'as to': 1,\n  'my own': 2,\n  'misstated Bellarmine': 1,\n  'of his': 12,\n  'close friendship': 1,\n  'than was': 1,\n  'reading in': 1,\n  'be gained.': 1,\n  'reputation stood': 1,\n  'To Newman,': 1,\n  'obtrusive. If': 1,\n  'an understanding': 1,\n  'men appears': 1,\n  'Dublin Review': 3,\n  'in establishing': 1,\n  'express my': 1,\n  'place in': 1,\n  'on either': 1,\n  'were characteristic': 1,\n  'It will': 1,\n  'a student.': 1,\n  'in perfect': 1,\n  'of sayings': 1,\n  'personages introduced': 1,\n  'by translation': 1,\n  'for melting': 1,\n  'might awaken': 1,\n  'close and': 1,\n  '84 the': 1,\n  'Studies [SEPT,': 1,\n  'Newman,\" he': 1,\n  'be confessed,': 1,\n  'be permitted': 1,\n  'home to': 1,\n  'Transsubstantiation. He,': 1,\n  'the time': 5,\n  'reply from': 1,\n  'who were': 2,\n  'there was': 2,\n  'certain phases': 1,\n  'more strange': 1,\n  'had, perhaps,': 1,\n  'reply: \"Nothing': 1,\n  'aim in': 1,\n  'Russell the': 1,\n  'regard to': 1,\n  'at a': 3,\n  'how little': 1,\n  'which is': 1,\n  'apparently almost': 1,\n  'nominated to': 1,\n  '\"that those': 1,\n  'the comparative': 1,\n  'regarded with': 1,\n  'and profound': 1,\n  'Newman personally': 1,\n  'the failure': 1,\n  'established by': 1,\n  'considering that\"': 1,\n  'step, especially': 1,\n  'which was': 4,\n  'his elevation': 1,\n  'the Edinburgh': 1,\n  'appears to': 1,\n  'objectors. A600gst': 1,\n  'be a': 1,\n  'letter, which': 1,\n  'the Tractarian': 1,\n  'The impression': 1,\n  'least I': 1,\n  'the kind': 1,\n  'writes to': 1,\n  'write in': 1,\n  'to take': 1,\n  'varied and': 1,\n  'to restore': 1,\n  'is by': 1,\n  'as Rector': 1,\n  'who had,': 1,\n  'events in': 1,\n  'he resolved': 1,\n  'Thursday. I': 1,\n  'which we': 1,\n  'and actions': 1,\n  'of different': 1,\n  'how literally': 1,\n  'its publication,': 1,\n  'learned discussions': 1,\n  'resolved to': 1,\n  'proficient in': 1,\n  'the Apologia,': 1,\n  'principally devoted': 1,\n  'more exactly.': 1,\n  'that, because': 1,\n  'the Apostles,': 1,\n  'enjoyed a600gst': 1,\n  'Russell did': 1,\n  'admirable occasion': 1,\n  'body of': 1,\n  'and, it': 1,\n  'the archbishopric': 1,\n  'study was': 1,\n  'to your': 1,\n  'bring myself': 1,\n  'also wrote': 1,\n  'to him,': 1,\n  'Whilst Newman': 1,\n  'A year': 1,\n  'Cardinal Mezzofanti,': 1,\n  'sprang up,': 1,\n  'clearly brought': 1,\n  'account your': 1,\n  'heavy artillery.': 1,\n  'us iii': 1,\n  'Anglican clergy': 1,\n  'he also': 2,\n  'good by': 1,\n  'was invited': 2,\n  'Ireland in': 1,\n  'made to': 1,\n  'displeased with': 1,\n  'contributions to': 1,\n  'his hopes': 1,\n  'the fray.': 1,\n  'whose motives': 1,\n  'and with': 2,\n  'on archaeological': 1,\n  'Russell were': 1,\n  '\"which has': 1,\n  'edition of': 1,\n  'be slow': 1,\n  'humble Catholic': 1,\n  'apostatae who': 1,\n  'been truly': 1,\n  'most interesting': 1,\n  'recording what': 1,\n  'error. To': 1,\n  'of Mezzo/anti,': 1,\n  'towards yourself,': 1,\n  'simplicity of': 1,\n  'following observations,': 1,\n  'extent for': 1,\n  'Dr. Charles': 4,\n  'determined nor': 1,\n  'time. His': 1,\n  'on reports': 1,\n  'clung tenaciously': 1,\n  'offend your': 1,\n  \"Newman's plans\": 1,\n  'to London.\"': 1,\n  'archbishopric of': 1,\n  'work, he': 1,\n  'write to': 1,\n  'drawn towards': 1,\n  'communicated my': 1,\n  'any personal': 1,\n  'which distinguished': 1,\n  'with his': 2,\n  'influence exercised': 1,\n  'see any': 1,\n  '1st 1843,': 1,\n  'Pope would': 1,\n  'of God': 1,\n  'than any': 1,\n  'asking whether': 1,\n  'Life of': 1,\n  'work in': 1,\n  'a student': 1,\n  'is ever': 1,\n  'Russell 390': 1,\n  'in Rome': 2,\n  'sure to': 1,\n  'Latin poem:': 1,\n  'ac300t a': 1,\n  'good faith,': 1,\n  'His published': 1,\n  'have an': 1,\n  'had suffered': 1,\n  'of requesting': 1,\n  'Newman regarding': 2,\n  'an authority': 1,\n  'when he': 2,\n  'language who': 1,\n  'he considered': 1,\n  'to meet': 2,\n  'Son. Wiseman': 1,\n  'that if': 1,\n  'enthusiasm for': 1,\n  'your admirable': 1,\n  'help, he': 1,\n  'years after': 1,\n  'he contributed': 1,\n  'fact that,': 1,\n  'preposterously fanciful': 1,\n  'misconceived us;': 1,\n  'Mr. Phillips,': 1,\n  'or two': 1,\n  'such persons,': 1,\n  'of Lord': 1,\n  'man, but': 1,\n  'augurs happily;': 1,\n  'his early': 1,\n  'faith and,': 1,\n  'mild and': 1,\n  'favour.\" 396': 1,\n  'extracts made': 1,\n  'time when': 1,\n  'is not': 2,\n  'you understand': 1,\n  'palimpsests and': 1,\n  'admirable writings.': 1,\n  'work was': 1,\n  'fittingly recognised': 1,\n  'free use': 1,\n  'him to': 2,\n  'was nominated': 1,\n  'occasion of': 2,\n  'course in': 1,\n  'and place': 1,\n  'appear at': 1,\n  'he had': 11,\n  'omen of': 1,\n  'German. Having': 1,\n  'they met': 1,\n  'illustrative of': 1,\n  'myself had': 1,\n  'President of': 2,\n  'for the': 10,\n  'whatever its': 1,\n  'whether they': 1,\n  'trust I': 1,\n  'this kind': 1,\n  'from a600g': 1,\n  'voice there,': 1,\n  'Spirit: \"Blandus': 1,\n  'the buildings': 1,\n  'at any': 1,\n  'have incited': 1,\n  'He mentions': 1,\n  'contemporaries possessed': 1,\n  'professional subjects,': 1,\n  'the Penal': 1,\n  'M. FLOOD': 1,\n  'exactly. This': 1,\n  'in her': 2,\n  'feeling of': 2,\n  'a severe,': 1,\n  \"German. Leibniz's\": 1,\n  'them were': 1,\n  'is noted': 1,\n  'of thought': 1,\n  'for error.': 1,\n  'last part': 1,\n  'strangely powerful': 1,\n  'the following': 2,\n  'said to': 1,\n  'not seen': 1,\n  'sense which': 1,\n  'A600gst other': 1,\n  'entreaty on': 1,\n  'things,\" he': 1,\n  'your own': 1,\n  'Manuscripts Commission': 1,\n  'lionise Dr.': 1,\n  'not meet': 1,\n  'had set': 1,\n  'well as': 2,\n  'described him': 1,\n  'that sprang': 1,\n  \"was Newman's\": 1,\n  'day like': 1,\n  'if he': 1,\n  'his study': 1,\n  'was able': 3,\n  'at least': 4,\n  'his own,': 1,\n  'story would': 1,\n  'a writer': 1,\n  'himself. Lord': 1,\n  'always remember': 1,\n  'mentions him': 1,\n  'fray. Great': 1,\n  'to Russell': 1,\n  'presented itself': 1,\n  'by his': 3,\n  'submission to': 1,\n  'there until': 1,\n  'exposition in': 1,\n  'and we': 1,\n  'Ireland, on': 1,\n  'Those who': 1,\n  'Encyclopaedia Britannica.': 1,\n  'Movement and': 1,\n  'information, and': 1,\n  'I shall': 1,\n  'hostile scrutiny,': 1,\n  'to you': 2,\n  'and an': 1,\n  '1841 and': 1,\n  'phases of': 1,\n  'tribute, in': 1,\n  'practised as': 1,\n  'who came': 1,\n  'Papers relating': 1,\n  'appointed him': 1,\n  'will be': 2,\n  'has thrown': 1,\n  'high prerogatives': 1,\n  'the hope': 1,\n  'not find': 1,\n  'any object': 1,\n  'originated in': 1,\n  'own experiences,': 1,\n  'translation from': 2,\n  'passed between': 4,\n  'as opposed': 1,\n  'Ceylon. With': 1,\n  'the work': 2,\n  'in some': 2,\n  'Italian. \"I': 1,\n  'viewed historically,': 1,\n  'published anonymously;': 1,\n  'fact that': 1,\n  'Newman, whilst': 1,\n  'priest in': 1,\n  'In forwarding': 1,\n  'appeared to': 1,\n  'am indisposed': 1,\n  'you not': 1,\n  'together as': 1,\n  'to forward;': 1,\n  'you; but,': 1,\n  'matter of': 1,\n  'regarding the': 2,\n  'priest, will': 1,\n  'for advice': 1,\n  'represent the': 1,\n  \"of Newman's,\": 1,\n  'called to': 1,\n  'from certain': 1,\n  'in succession': 1,\n  'and he': 5,\n  'death-is perhaps': 1,\n  'religious phenomenon': 1,\n  'attended a': 1,\n  'his disposition,': 1,\n  'a specimen,': 1,\n  'had attended': 2,\n  'a family': 1,\n  'he quotes,': 1,\n  'found nothing': 1,\n  'to 392': 1,\n  'sentiments and': 1,\n  'that, amid': 1,\n  'been brought': 1,\n  'not determined': 1,\n  'professional and': 1,\n  'death in': 1,\n  'given of': 1,\n  'acceded to.': 1,\n  'dear friend': 1,\n  'the gentleness': 1,\n  'summer on': 1,\n  'later life,': 1,\n  'to allow': 2,\n  'pages, writes': 1,\n  'disappointment and': 1,\n  'motives and': 1,\n  'aim at;': 1,\n  'make their': 1,\n  'this, in': 1,\n  'them mark': 1,\n  'magazine to': 1,\n  'either occasion.': 1,\n  'Russell inclined': 1,\n  'Catholics and': 1,\n  'responsibilities of': 1,\n  'this capacity': 1,\n  'my intention': 1,\n  'others, whilst': 1,\n  'Confirmation. \"On': 1,\n  'the nineteenth': 1,\n  'This record': 1,\n  'gentleness and': 1,\n  'afterwards fittingly': 1,\n  'Russell seems': 1,\n  'he gave': 1,\n  'and compiled': 1,\n  'moved to': 1,\n  'flank, Dr.': 1,\n  '\"that you': 1,\n  'connection with': 1,\n  'at another': 1,\n  'of Ecclesiastical': 1,\n  'find how': 1,\n  'realised, in': 1,\n  'goes on': 1,\n  'I can': 3,\n  'but they': 2,\n  'after his': 2,\n  'It was,': 1,\n  'friendship with': 2,\n  'course, as': 1,\n  'erudition his': 1,\n  'priesthood, a': 1,\n  'success that': 1,\n  'learned contributions': 1,\n  'it under': 1,\n  'in the': 30,\n  'way, I': 1,\n  'men a600g': 2,\n  'him Bishop': 1,\n  'And yet': 1,\n  'kindly courtesy': 1,\n  'relieve you': 1,\n  'entente between': 1,\n  'prepared me.\"': 1,\n  'into the': 1,\n  'will express': 1,\n  'name, he': 1,\n  'really object.': 1,\n  'this ever': 1,\n  'impulse and': 1,\n  'Russell 589': 1,\n  'hoped and': 1,\n  'had a': 2,\n  'of that': 2,\n  'English Catholic': 1,\n  'on Holy': 1,\n  'little leisure': 1,\n  'that, drawing': 1,\n  'a year': 1,\n  'bundle of': 1,\n  'a result': 1,\n  'State Papers': 1,\n  'sympathy with': 1,\n  'who-like Bowden,': 1,\n  'obtaining higher': 1,\n  'fancied, and': 1,\n  'Catholics regarding': 1,\n  'scarcely account': 1,\n  'in your': 2,\n  'was, by': 1,\n  'Church which': 1,\n  'a600g us': 1,\n  'been no': 1,\n  'idea of': 1,\n  'you say,': 1,\n  'being 394': 1,\n  'by learned': 1,\n  'which such': 1,\n  'that was': 1,\n  'times several': 1,\n  'Wiseman to': 1,\n  'Oxford and': 1,\n  'is published.': 1,\n  'correspondence with': 1,\n  '\" sacramental': 1,\n  'knowledge did': 1,\n  'to Household': 1,\n  'The tie': 1,\n  'intellectual gifts': 1,\n  'the remarkable': 2,\n  'a poet': 1,\n  'method of': 1,\n  'attended the': 1,\n  'letters that': 1,\n  'should abhor': 1,\n  'before since': 1,\n  'result enclosed,': 1,\n  'any apology': 1,\n  'own name,': 1,\n  'The letters': 1,\n  'his sanguine': 1,\n  'report on': 1,\n  'our orders.\"': 1,\n  'stories received': 1,\n  'more fittingly': 1,\n  'cannot help': 1,\n  'important events': 1,\n  'during Dr.': 1,\n  'Vatican and': 1,\n  'them over,': 1,\n  'in England,': 3,\n  'the leaders': 1,\n  'understand and': 1,\n  'many Irish': 1,\n  'which Newman': 2,\n  'direct contact': 1,\n  'true one': 1,\n  'in 1852': 1,\n  '18, and': 1,\n  'prompt to': 1,\n  'I will': 1,\n  'date, as': 1,\n  'founder and': 1,\n  'than Newman.\"': 1,\n  'Calendar of': 1,\n  'some unhistorical': 1,\n  'It is': 4,\n  'Oxford of': 1,\n  'question on': 1,\n  'It was': 2,\n  'the Encyclopaedia': 1,\n  'the standard': 1,\n  'letter from': 1,\n  'He entered': 1,\n  'visit to': 2,\n  'had an': 1,\n  'you when': 1,\n  'Dunboyne Establish': 1,\n  'than to': 1,\n  'whom Russell': 1,\n  'writings of': 1,\n  'fog of': 1,\n  'made by': 1,\n  'Tractarians often': 1,\n  'devoted to': 1,\n  'own heavy': 1,\n  'my favour.\"': 1,\n  \"Lord O'Hagan\": 2,\n  'case of': 1,\n  'put forward).': 1,\n  'be misguiding': 1,\n  'and for': 1,\n  'ever happened': 1,\n  'reached me,\"': 1,\n  'sought 19451': 1,\n  'individual mind': 1,\n  'which were': 1,\n  'an accession': 1,\n  'a second': 1,\n  'advice regarding': 1,\n  '1812, and': 1,\n  'the most': 4,\n  'love of': 1,\n  'in April': 1,\n  'as some': 1,\n  'Newman :': 1,\n  'April 1875,': 1,\n  'of religion': 1,\n  'have acknowledged': 1,\n  'Russell had': 2,\n  'quick per300tion': 1,\n  'leave behind': 1,\n  'career. When': 1,\n  'Newman wrote': 2,\n  'must have': 1,\n  'also addressed': 1,\n  'religion on': 1,\n  'points that': 1,\n  'been wrong': 1,\n  'did all': 1,\n  'the two': 1,\n  'as strong': 1,\n  'love or': 1,\n  '1864, Ward,': 1,\n  'in 1848,': 1,\n  'possedebat pignus.\"': 1,\n  'might in': 1,\n  'it professed': 1,\n  'knew him.': 1,\n  \"in Chambers'\": 1,\n  \"the booksellers'\": 1,\n  'the influence': 1,\n  'the difficulties': 1,\n  'of State': 1,\n  'a history': 1,\n  'all, how': 1,\n  'appears all': 1,\n  'Church was': 1,\n  'was a': 1,\n  'Phillips, \"which': 1,\n  'life, when': 1,\n  'their submission': 1,\n  'melting charity': 1,\n  'it will': 1,\n  'remain in': 1,\n  'became a': 1,\n  'anti Catholic': 1,\n  'thought that': 2,\n  'far on': 1,\n  \"Veron's Rule\": 1,\n  'glory of': 1,\n  \"the author's.\": 1,\n  'remarkable tribute,': 1,\n  'Newman that': 1,\n  'Again, when': 1,\n  'the Russells': 1,\n  \"Russell's outward\": 1,\n  'last two': 1,\n  'good Catholics,': 1,\n  'Paul had': 1,\n  'Newman noted,': 1,\n  'Catholic body,': 1,\n  'kindly re300tion': 1,\n  '\"a master': 1,\n  'reputation was': 1,\n  'British Review': 1,\n  'as holding': 1,\n  'In recording': 1,\n  'Dr. Wiseman': 5,\n  'narrow that': 1,\n  'four articles,': 1,\n  'of Transsubstantiation.': 1,\n  'In this': 1,\n  'interest. For': 1,\n  'explained to': 1,\n  'offence. For': 1,\n  'His reputation': 1,\n  'own meaning': 1,\n  'of devotion,': 1,\n  'meaning more': 1,\n  'concerning the': 2,\n  'most important': 1,\n  'a complete': 2,\n  'trust, that': 1,\n  'the Chapel.': 1,\n  'your most': 1,\n  'despite to': 1,\n  'reasons Newman,': 1,\n  'of Oxford': 3,\n  'Words under': 1,\n  'memoranda at': 1,\n  'hardly have': 1,\n  'his valuable': 1,\n  'themselves. Russell': 1,\n  'behind him': 1,\n  'substantially \"': 1,\n  'celebrating the': 1,\n  'to which': 2,\n  'dinner, but': 1,\n  'little there': 1,\n  'the Review,': 1,\n  'as greater': 1,\n  'provided the': 1,\n  'se Sancti': 1,\n  'But I': 1,\n  'scholar, he': 1,\n  'diocese, and': 1,\n  'gave him': 1,\n  'tells us,': 2,\n  'frightened at': 1,\n  'Wiseman, with': 1,\n  'that, at': 1,\n  'of him': 1,\n  'Catholicism as': 1,\n  'him at': 1,\n  'his mistake.': 1,\n  'Whilst still': 1,\n  'Wiseman thought': 1,\n  'influence which': 1,\n  'find expression': 1,\n  'Irish history-will': 1,\n  'own, and': 1,\n  'et affabilis': 1,\n  'Russell, mentions': 1,\n  'old Catholicism': 1,\n  'wrote his': 1,\n  'all the': 3,\n  'are made': 1,\n  'be put': 1,\n  'into Italian': 1,\n  'these two': 1,\n  'the excessive': 1,\n  '\"He called': 1,\n  'insight into': 1,\n  'approaching millennium': 1,\n  'we see': 1,\n  'I assure': 2,\n  'up confidence': 1,\n  'him how': 1,\n  'received with': 1,\n  'a hand': 1,\n  'as an': 1,\n  'not be': 2,\n  'a stranger,': 1,\n  'Virgin, he': 1,\n  'different languages;': 1,\n  'the North': 1,\n  'the place.': 1,\n  'own views': 1,\n  'editor of': 1,\n  'present moment.': 1,\n  'spirit which': 2,\n  'diary where': 1,\n  'the visit': 1,\n  'the present': 1,\n  '1843, to': 1,\n  'characters were': 1,\n  'and mildness': 1,\n  'its contents': 1,\n  'faults, is': 1,\n  'interest us': 1,\n  'ex300t your': 1,\n  'to dissuade': 1,\n  'countrymen as': 1,\n  'Irish priest': 1,\n  'point he': 1,\n  '1848 another': 1,\n  'not to': 2,\n  'may also': 1,\n  'it in': 1,\n  'whether anything': 1,\n  'of bishops': 1,\n  'forward spirit.': 1,\n  'Apostles, Ministers': 1,\n  'Sir Robert': 1,\n  'joined the': 1,\n  'wrote hi': 1,\n  'Newman expressly': 1,\n  'far the': 1,\n  'he determined': 1,\n  'effect of': 1,\n  'communion as': 1,\n  'the Cardinal.': 1,\n  'till his': 1,\n  'noted here': 1,\n  'place, he': 1,\n  'treatise on': 1,\n  '1841. Dr.': 1,\n  'most recent': 1,\n  'my apprehensions': 1,\n  'wish there': 1,\n  'of subjects': 1,\n  'recording the': 1,\n  'made free': 1,\n  'Cardinal. Russell': 1,\n  'do not': 3,\n  'temperament, saw': 1,\n  'his theological': 1,\n  'pay a': 1,\n  'All Saints,': 1,\n  'as then': 1,\n  'written to': 1,\n  'of purely': 1,\n  'established from': 1,\n  'outspoken frankness': 1,\n  'Russell, \"and,': 1,\n  'Catholics was': 1,\n  'writing a': 1,\n  'St. Alfonso': 1,\n  'For these': 1,\n  'applied to': 1,\n  'practice are': 1,\n  'for an': 1,\n  'brought over': 1,\n  'those with': 1,\n  'variety of': 1,\n  'in politics,': 1,\n  'decisive influence': 1,\n  'heard to': 1,\n  'felt that': 2,\n  'me at': 1,\n  'that I': 4,\n  'Newman. It': 1,\n  'recollect that': 1,\n  'chain which': 1,\n  'where he': 2,\n  'Alfonso, or': 1,\n  'and there': 1,\n  'the seventeenth': 1,\n  'of Ireland,': 1,\n  'I do': 2,\n  'received the': 1,\n  'person who': 1,\n  'under his': 1,\n  'sent me': 2,\n  'ever thoughtful': 1,\n  'satisfy objectors.': 1,\n  'reputation as': 2,\n  'and have': 1,\n  'you yourself': 1,\n  'old memories': 1,\n  'powerful impulse': 1,\n  'are the': 1,\n  'in my': 1,\n  'in its': 1,\n  'from all': 1,\n  'the brilliancy': 1,\n  'and Marshall': 1,\n  'our young': 1,\n  \"your Lordship's\": 1,\n  'prominent men': 1,\n  'faults and': 1,\n  'which, as': 1,\n  'The wholly': 1,\n  ...},\n 'trigramCount': {'scarcely account to': 1,\n  'Spencer, like Dr.': 1,\n  'for the strangely': 1,\n  'Russell, did not': 1,\n  'how different they': 1,\n  '1912, of the': 1,\n  'of sayings and': 1,\n  'Dr. Russell in': 1,\n  'Review pass too': 1,\n  'connected with the': 1,\n  'at Killough, County': 1,\n  'Encyclopaedia Britannica. His': 1,\n  'in his whole': 1,\n  'et amari dignus,': 1,\n  'he could to': 1,\n  'of its kind': 1,\n  'met were unanimously': 1,\n  'left Ireland, he': 1,\n  '\"Mart\" Russell. Dr.': 1,\n  'The fact that,': 1,\n  'induces me to': 1,\n  'has shown that': 1,\n  'have handled these': 1,\n  'the appointment. It': 1,\n  'the extracts made': 1,\n  'of place, he': 1,\n  'in the remarks': 1,\n  'cannot help reading': 1,\n  'to him the': 1,\n  'it in any': 1,\n  'Russell wrote I': 1,\n  'on a wide': 1,\n  'miracles that the': 1,\n  'out of place,': 1,\n  'record written, as': 1,\n  'than anyone else': 1,\n  'and shortcomings, he': 1,\n  'upon Newman by': 1,\n  'known a600g us': 1,\n  'therefore, glad to': 1,\n  'I wish there': 1,\n  'to write the': 1,\n  'pursuing his studies': 1,\n  'the purpose of': 1,\n  'brings forward, are': 1,\n  'the sake of': 1,\n  \"Newman's plans are\": 1,\n  'scene of the': 1,\n  'the projected Catholic': 1,\n  'is noted by': 1,\n  'of your letter,': 1,\n  'circumstance very different': 1,\n  'regarding the question': 1,\n  'Encyclopaedia. Apart from': 1,\n  'his time. His': 1,\n  'that an admirable': 1,\n  'Newman described the': 1,\n  'is necessary, I': 1,\n  'determined nor will': 1,\n  'are smoothed down': 1,\n  'professional subjects, his': 1,\n  'regarding very difficult': 1,\n  'During the religious': 1,\n  'the old Catholics': 1,\n  'Order, and won': 1,\n  'notes on books.': 1,\n  'trust, that if': 1,\n  'been brought over': 1,\n  'acceded to. (It': 1,\n  'Prendergast, a report': 1,\n  'friend describes Russell,': 1,\n  'all parts of': 1,\n  '. . .': 1,\n  'most important events': 1,\n  'an uncharitable word': 1,\n  'which the controversy': 1,\n  'kind in the': 1,\n  'volume which Dr.': 1,\n  'same frankness which': 1,\n  'or acute arguments': 1,\n  'Development is published.': 1,\n  'a mistranslation of': 1,\n  'I mean for': 1,\n  'and the good': 2,\n  'to be sought': 1,\n  'to exercise upon': 1,\n  'in 1912, of': 1,\n  'the whole, which': 1,\n  'first published anonymously;': 1,\n  'and his reputation': 1,\n  'accession of new': 1,\n  'of retiring from': 1,\n  'begged leave to': 1,\n  'offence. For a': 1,\n  'he had a': 2,\n  'the letters that': 1,\n  'Spencer to call': 1,\n  'of the history': 1,\n  'He wrote most': 1,\n  'old Catholicism as': 1,\n  'in politics, but': 1,\n  'tone of your': 1,\n  'phases of the': 1,\n  'Catholic body, which': 1,\n  'bishopric of his': 1,\n  'us by such': 1,\n  'nor do I': 1,\n  \"Archbishop Leahy's funeral,\": 1,\n  'had attended a': 1,\n  'the bar was': 1,\n  'and describe a': 1,\n  'described as greater': 1,\n  'a friend of': 1,\n  'most complete treatise': 1,\n  'Dr. Russell, mentions': 1,\n  'England can be': 1,\n  'This is all': 1,\n  'who knew him.': 1,\n  'knowledge did not': 1,\n  'Church, as viewed': 1,\n  'thought that an': 1,\n  'upon its prospects.\"': 1,\n  'Edinburgh Review. One': 1,\n  'The Life of': 1,\n  '1864, Ward, his': 1,\n  'of perfect union': 1,\n  'Oxford matters at': 1,\n  'conviction will only': 1,\n  'Russell having succeeded,': 1,\n  'poet and writer.': 1,\n  'like this, in': 1,\n  'some treatises on': 1,\n  'story which had': 1,\n  'on the impulse': 1,\n  'will they be': 1,\n  'God were not': 1,\n  '\" \" truly': 1,\n  'converts to Catholicism.': 1,\n  'secured we may': 1,\n  'to be without': 1,\n  'displayed by the': 1,\n  'possessed a deeper': 1,\n  'oblivion which has': 1,\n  'and manners. The': 1,\n  'when Dr. Russell': 1,\n  'Newman wrote his': 1,\n  'the ninth edition': 1,\n  'his death-is perhaps': 1,\n  'confessed, rather flamboyant': 1,\n  'Mr. Phillips, \"which': 1,\n  '\"who had been': 1,\n  'dignus, in se': 1,\n  'from certain Catholic': 1,\n  'in 1826, having': 1,\n  'He entered Maynooth': 1,\n  'before 1857, when': 1,\n  'ordinary man. The': 1,\n  'there was in': 1,\n  'which he set': 1,\n  'learned contributions were': 1,\n  'appointed to the': 2,\n  'in the Apologia,': 1,\n  'said on this': 1,\n  'Catholicism as possible': 1,\n  'will always remember': 1,\n  'Anglican clergy would': 1,\n  'us, was desirous': 1,\n  'or such of': 1,\n  'that in 1843,': 1,\n  'information, and at': 1,\n  'they are the': 1,\n  'which Russell was': 1,\n  'On looking them': 1,\n  'had a hand': 1,\n  'his book (Essay': 1,\n  'mediaeval Latin poem:': 1,\n  'handled these with': 1,\n  'letter from Newman,\"': 1,\n  'the principal character': 1,\n  'Russell, in recognition': 1,\n  'Paul had described': 1,\n  'and an understanding': 1,\n  'what he had': 1,\n  'chapel at Oscott': 1,\n  'as strong an': 1,\n  'to allow Father': 1,\n  'confirmation of all': 1,\n  'to take part': 1,\n  'man, but sadly': 1,\n  'realised, in his': 1,\n  'the Edinburgh Review.': 1,\n  'In this capacity': 1,\n  'from childhood to': 1,\n  'with Dr. Wiseman': 1,\n  'which were characteristic': 1,\n  'he refused to': 1,\n  'a strict regard': 1,\n  'original Italian. \"I': 1,\n  'Russell realised that': 1,\n  'compiled the Calendar': 1,\n  'In forwarding to': 1,\n  'charges, ser600s, reviews': 1,\n  'only seven years': 1,\n  'I see any': 1,\n  'some things,\" he': 1,\n  'in 1836. The': 1,\n  'rudely and unskilfully.\"': 1,\n  'him, and they': 1,\n  'Dublin Review were': 1,\n  'ever-kindly help and': 1,\n  'After Newman had': 1,\n  'indisposed to suppress': 1,\n  'Russell as a': 1,\n  'those who knew': 1,\n  'be gained. It': 1,\n  'wrote most of': 1,\n  'Son. Wiseman wrote': 1,\n  'jealous of seeing': 1,\n  'to understand that': 1,\n  'a word on': 1,\n  'with old memories': 1,\n  'well as some': 1,\n  'England from Rome': 1,\n  'plans are not': 1,\n  'true function of': 1,\n  'faith than Newman.\"': 1,\n  'project which Newman': 1,\n  'founded on fact.': 1,\n  'He sent me': 1,\n  'reply from Newman,': 1,\n  'gentleness and mildness': 1,\n  'and a scholar,': 1,\n  'for literary work,': 1,\n  'must have been': 1,\n  'in perfect good': 1,\n  'place. During the': 1,\n  'been taught from': 1,\n  'mistranslation of Bishop': 1,\n  'when Newman wrote': 1,\n  'found encouragement and': 1,\n  'gentleman in the': 1,\n  'Dr. Murray and': 1,\n  'Church were nevertheless': 1,\n  'he felt that': 1,\n  'Palmer to allow': 1,\n  'Newman regarding very': 1,\n  'first direct contact': 1,\n  'i 84 the': 1,\n  'without matter of': 1,\n  'antiquities, belles-lettres, Irish': 1,\n  '\"that you are': 1,\n  'reviews and magazines': 1,\n  \"Dr. Russell's outward\": 1,\n  'of languages,\" and': 1,\n  'Sonnet-which, at the': 1,\n  'the following summer,': 1,\n  'popular belief of': 1,\n  'as is evident,': 1,\n  'his phenomenal knowledge': 1,\n  'in Ireland. He': 1,\n  'a600g us by': 1,\n  'class in Ireland.': 1,\n  'to a story': 1,\n  'interesting episode in': 1,\n  'only after long': 1,\n  'possible, and as': 1,\n  'the founder and': 1,\n  'grieves me to': 1,\n  'of surprise at': 1,\n  'Russell. Dr. Russell': 1,\n  'Oxford life. It': 1,\n  'was at first': 1,\n  \"Dr. Russell's name\": 1,\n  'can scarcely account': 1,\n  'as opposed to': 1,\n  'was to be': 2,\n  'politics, but in': 1,\n  'courtesy to those': 1,\n  'priest, will not': 1,\n  'the place. During': 1,\n  'University, so that': 1,\n  'bring about the': 1,\n  'the Review pass': 1,\n  'clung tenaciously to': 1,\n  'the reign of': 1,\n  'literary work, he': 1,\n  \"Russell the author's.\": 1,\n  'Realising that a': 1,\n  'will not interest': 1,\n  'the Apostles, Ministers': 1,\n  'in the tone': 1,\n  'he received from': 1,\n  'were imaginary. Whilst': 1,\n  'they received from': 1,\n  'from a number,': 1,\n  'tatiousness. It is': 1,\n  '. . You': 1,\n  'of Catholics concerning': 1,\n  'awakened such general': 1,\n  'was appointed to': 2,\n  'devoted to making': 1,\n  'friendly spirit on': 1,\n  'The impression made': 1,\n  'of 1841 and': 1,\n  'injurious to those': 1,\n  'speak in fifty-eight': 1,\n  'gave him one': 1,\n  'his own, and': 1,\n  'have been truly': 1,\n  'avowed aim in': 1,\n  'his mistake. The': 1,\n  'of the seventeenth': 1,\n  'and the others': 1,\n  'aspects of the': 1,\n  \"Russell's articles often\": 1,\n  'the decisive influence': 1,\n  'operation of the': 1,\n  'set his heart': 1,\n  'Dublin Review and': 1,\n  'the little chapel': 1,\n  'others, in the': 1,\n  'the Vatican and': 1,\n  'for maintaining an': 1,\n  'until his death-is': 1,\n  'function of exhorting,': 1,\n  'pomposity and solemn': 1,\n  'on that point': 1,\n  'who came to': 1,\n  'comparatively few ex300tions,': 1,\n  'what he considered': 1,\n  'I assure you,': 1,\n  'his character rather': 1,\n  'have been no': 1,\n  'brought into intercourse.': 1,\n  'to you not': 1,\n  'its prospects.\" Newman': 1,\n  'his life, when': 1,\n  'heart of England': 1,\n  'exercise upon the': 1,\n  'Catholic writers of': 1,\n  'all to the': 1,\n  'on which he': 1,\n  'It is in': 1,\n  'influence which Russell': 1,\n  'it must be': 1,\n  'barrister in England,': 1,\n  'I have reason': 1,\n  'be until his': 1,\n  'of them were': 1,\n  'such as to': 1,\n  'position for twelve': 1,\n  'the influence which': 1,\n  'presence, as opposed': 1,\n  'Charles Russell was': 1,\n  'day; the thought': 1,\n  'permission, if he': 1,\n  'do not account': 1,\n  'itself for securing': 1,\n  'religious persecution of': 1,\n  'these two meetings,': 1,\n  'the anti Catholic': 1,\n  'Holy See.\" Newman,': 1,\n  'own judgment in': 1,\n  'tells us, reflected': 1,\n  '1843, or only': 1,\n  'mentions him as': 1,\n  'from Newman,\" he': 1,\n  'your most recent': 1,\n  'controversy. His first': 1,\n  'which my most': 1,\n  'by Newman in': 1,\n  'to me that': 1,\n  'the most important': 1,\n  'not be right': 1,\n  'I explained to': 1,\n  'at; because I': 1,\n  'especially St. John': 1,\n  'of language who': 1,\n  'funeral, that I': 1,\n  'Church has not': 1,\n  'in seeking to': 1,\n  'to be able': 2,\n  'his mind completely': 1,\n  'kind in Ireland.': 1,\n  'when Newman received': 1,\n  \"Newman's story of\": 1,\n  'smoothed down to': 1,\n  'difficult matters to': 1,\n  'as viewed historically,': 1,\n  'however, the singular': 1,\n  'Newman, therefore, he': 1,\n  'those who-like Bowden,': 1,\n  'were from what': 1,\n  'my conversion than': 1,\n  'an admirable occasion': 1,\n  'dealing with the': 1,\n  'leaders of the': 1,\n  'myself for the': 2,\n  'to me, I': 1,\n  'devotion shown to': 1,\n  'later date, as': 1,\n  'by Mezzofanifs countrymen': 1,\n  'Oxford converts by': 1,\n  'Newman was quite': 1,\n  'his disposition, and': 1,\n  'a copy.\" \"': 1,\n  'in conjunction with': 1,\n  'the deepest interest': 1,\n  'so that I': 1,\n  'Rome, and much': 1,\n  'languages-- French, Italian,': 1,\n  'be permitted to': 1,\n  'Dunboyne Establish ment': 1,\n  'the question on': 1,\n  'we recall the': 1,\n  'that I do': 1,\n  'dexterity displayed by': 1,\n  'which was established': 1,\n  'story. This he': 1,\n  'series of incidents': 1,\n  'FLOOD READERS of': 1,\n  'I sincerely thank': 1,\n  'I believe is': 1,\n  'had just been': 1,\n  'seven years after': 1,\n  'astonished to find': 1,\n  'he could really': 1,\n  'second visit is': 1,\n  'portion of his': 1,\n  'family that had': 1,\n  'joined the Church': 1,\n  'into intercourse. He': 1,\n  'All Saints, Newman,': 1,\n  'for an hour': 1,\n  'and doings which': 1,\n  'impulse by which': 2,\n  'necessary, I trust': 1,\n  'polyglot\" and \"a': 1,\n  'Oxford and the': 1,\n  'at this time': 1,\n  'had presented itself': 1,\n  'your letter, for': 1,\n  'seen you, nor': 1,\n  'in all, especially': 1,\n  'which augurs happily;': 1,\n  'able to tell': 1,\n  'extraordinary linguistic attainments': 1,\n  'of the Dublin': 2,\n  'tenaciously to the': 1,\n  'Ultra modum placidus,': 1,\n  'sympathy with the': 1,\n  'It is of': 1,\n  'whilst forgetful in': 1,\n  'described in the': 1,\n  'Russell inclined the': 1,\n  'years after his': 1,\n  'exactly. This is': 1,\n  'of the nineteenth': 1,\n  'your communion as': 1,\n  'regarding points that': 1,\n  'to answer it': 1,\n  'him to meet': 1,\n  'employed in the': 1,\n  'the publication of': 1,\n  'his last two': 1,\n  'their avowed aim': 1,\n  'that the following': 1,\n  'This I mean': 1,\n  'inclined the latter': 1,\n  'would not be': 2,\n  'with subjects of': 1,\n  'return to 392': 1,\n  '(Essay on Development': 1,\n  'more intelligible and': 1,\n  'another summer on': 1,\n  'last part of': 1,\n  'understand what I': 1,\n  'recognition of the': 2,\n  'Great and significant': 1,\n  'as notes on': 1,\n  'of it to': 1,\n  'with his sanguine': 1,\n  'completed his theological': 1,\n  'most of the': 1,\n  'practice are smoothed': 1,\n  'told Russell, \"that': 1,\n  'knowledge and a': 1,\n  'was at Santa': 1,\n  'pass too much': 1,\n  'life and conversation,': 1,\n  'and to Household': 1,\n  'how despondently I': 1,\n  'Wallenburghs was one;': 1,\n  'of the doctrines': 1,\n  'which such serious': 1,\n  'he disclaimed any': 1,\n  'the Apologia will': 1,\n  '\" substantially \"': 1,\n  'in its contents': 1,\n  'to write com600-sense': 1,\n  'had joined the': 1,\n  'far the ser600s': 1,\n  'of course, I': 1,\n  'novel thought to': 1,\n  'I cannot bring': 1,\n  'languages; towards the': 1,\n  'in almost every': 1,\n  'of Theology and': 1,\n  'cheap books of': 1,\n  'to Newman in': 1,\n  'my belief that': 1,\n  'the reviews and': 1,\n  'the Anglican clergy': 1,\n  'possible be kept': 1,\n  'an infusion of': 1,\n  'speak an uncharitable': 1,\n  'in 169. In': 1,\n  'Cardinal Mai in': 1,\n  'him over some': 1,\n  'Penal Laws, the': 1,\n  'Rome in 1848,': 1,\n  'are sure to': 1,\n  'thought came upon': 1,\n  'phrases employed in': 1,\n  'discomfiture by the': 1,\n  'the Dublin Review.': 2,\n  'Russell to dissuade': 1,\n  'impute that idea': 1,\n  'articles often dealt': 1,\n  'I cannot help': 1,\n  'regret that this': 1,\n  'your practical instructions,': 1,\n  'serious efforts are': 1,\n  'Dublin Review. He': 1,\n  'misstate the belief': 1,\n  'sought 19451 Cardinal': 1,\n  'in England sent': 1,\n  'which Dr. Russell': 1,\n  'result, for which': 1,\n  'the hostile flank,': 1,\n  'as you say,': 1,\n  'on this subject,': 1,\n  'he considered the': 1,\n  'of him awakened': 1,\n  'the present moment.': 1,\n  'of the brilliancy': 1,\n  'the difficulties in': 1,\n  'of making the': 1,\n  'seems to have': 1,\n  'me,\" he told': 1,\n  'had visited the': 1,\n  'believe is no': 1,\n  'this time one': 1,\n  'of St. Alfonso,': 1,\n  'and whom Russell': 1,\n  'he respectfully begged': 1,\n  \"Leahy's funeral, that\": 1,\n  'Apostle Paul had': 1,\n  'gentlemanlike, mild and': 1,\n  'to invent and': 1,\n  'large ecclesiastical college': 1,\n  'sub-deacon, he was': 1,\n  'Gain. The conversion': 1,\n  'each number of': 1,\n  'to which he': 1,\n  'archbishopric of Armagh,': 1,\n  'belles-lettres, Irish history-will': 1,\n  'in reply: \"Nothing': 1,\n  'therefore, he also': 1,\n  \"'approving themselves, like\": 1,\n  'man. The shortest': 1,\n  'had met were': 1,\n  'Pope would be': 1,\n  'into Italian and': 1,\n  'we may go': 1,\n  'the assistance he': 1,\n  'criticism or a': 1,\n  'that he gave': 1,\n  'can answer it': 1,\n  'obtrusive. If any': 1,\n  'union in doctrine': 1,\n  'Ward, his biographer,': 1,\n  'fittingly recognised by': 1,\n  'write com600-sense prose': 1,\n  'carnal \" and': 1,\n  'made to narrow': 1,\n  'be kept together': 1,\n  'to \" carnal': 1,\n  'the various aspects': 1,\n  'When he wrote': 1,\n  'Tract go in': 1,\n  'sentiments that might': 1,\n  'already been established': 1,\n  'claim in writing': 1,\n  'received his early': 1,\n  'had its origin': 1,\n  'representative Catholic scholars,': 1,\n  'acquired in his': 1,\n  'whole life and': 1,\n  'completely to me-and': 1,\n  'be found in': 2,\n  'pleading the kind': 1,\n  'other men.\" The': 1,\n  'the nineteenth century': 1,\n  'tone of the': 1,\n  'first practised as': 1,\n  \"Mezzofanti's European reputation\": 1,\n  'stranger, in all': 1,\n  'year, and early': 1,\n  'which I cannot': 1,\n  'to the Dublin': 1,\n  'his memoranda at': 1,\n  'my public avowal': 1,\n  'the doctrine of': 1,\n  'which I had': 1,\n  'the skill and': 1,\n  'work of scholarship': 1,\n  'desirous of dissipating': 1,\n  'and benevolent spirit': 1,\n  'as then were': 1,\n  'born during Dr.': 1,\n  'Italian. \"I only': 1,\n  'cannot bring myself': 1,\n  'told him, \"that': 1,\n  'thoughts, sentiments and': 1,\n  'could for any': 1,\n  'he wrote to': 1,\n  \"Dr. Russell's life\": 1,\n  'his sanguine and,': 1,\n  'as he had': 1,\n  'and preposterously fanciful': 1,\n  '1852 as Rector': 1,\n  'do some good': 1,\n  'wrote to Dr.': 1,\n  'years and have': 1,\n  '\" spiritual \"': 1,\n  'and editor, till': 1,\n  'Irish members of': 1,\n  'at Maynooth in': 1,\n  'his part that': 1,\n  'smooth \". Newman': 1,\n  'them to which': 1,\n  'appointment as President': 1,\n  'historically, provoked censure': 1,\n  'from the extracts': 1,\n  'the use of': 1,\n  'treatise on the': 1,\n  'hostile scrutiny, I': 1,\n  'which will be': 1,\n  'in 1852 as': 1,\n  'saw in the': 1,\n  'writer and a': 1,\n  'refused to allow': 1,\n  'your criticisms. But': 1,\n  'Ireland. He entered': 1,\n  'forward). He was': 1,\n  'but they did': 1,\n  'and, like others,': 1,\n  'was most ready': 1,\n  'occasion had presented': 1,\n  'a story which': 1,\n  'sought information, and': 1,\n  'augurs happily; and': 1,\n  'editorship of Charles': 1,\n  'in the shocking': 1,\n  'and pleasing man,': 1,\n  'account of him': 1,\n  \"Alfonso Liguori's ser600s\": 1,\n  'whom he quotes,': 1,\n  'your Church was': 1,\n  'gave rise might': 1,\n  'set forth his': 1,\n  'He also wrote': 1,\n  'Father Spencer, like': 1,\n  'Drogheda Grammar School,': 1,\n  'services of the': 1,\n  'If any apology': 1,\n  'of prefixing Dr.': 1,\n  'to be found': 2,\n  'have looked through': 1,\n  'Russell. He can': 1,\n  'more fittingly than': 1,\n  'year before, the': 1,\n  'what passed between': 1,\n  'another intimate friend': 1,\n  'how literally the': 1,\n  'me to hope': 1,\n  'his appointment in': 1,\n  'of dissipating the': 1,\n  'the Dunboyne Establish': 1,\n  'me that, perhaps,': 1,\n  'of old Catholicism': 1,\n  'it is ever': 1,\n  'religious phenomenon which': 1,\n  'been misled by': 1,\n  \"1853: 4' I\": 1,\n  'distinguished him throughout': 1,\n  'which the Apostle': 1,\n  'the very strongest': 1,\n  'of Dr. Russell': 2,\n  'element of the': 1,\n  'least some personal': 1,\n  'Phillips, \"which has': 1,\n  'linguistic attainments by': 1,\n  'and practices which': 1,\n  \"hour in Newman's\": 1,\n  'of incidents which': 1,\n  'much misapprehension of': 1,\n  'that you are': 1,\n  '\" and \"': 2,\n  'public avowal of': 1,\n  'of his native': 1,\n  'and probability, and': 1,\n  'results of the': 1,\n  'unobtrusive, uncontroversial. He': 1,\n  'ancient faith and,': 1,\n  'with the Colleges': 1,\n  'he wrote hi': 1,\n  'bishops and priests': 1,\n  'perhaps, more to': 1,\n  'has reached me,\"': 1,\n  'Russell, to go': 1,\n  'restore Catholic belief': 1,\n  'the \" dear': 1,\n  'dealt with subjects': 1,\n  'other publications for': 1,\n  'of a 600k': 1,\n  'and we had': 1,\n  '\"A report has': 1,\n  'about the desired': 1,\n  'in England, where': 1,\n  'succeeded, as is': 1,\n  'hopes and expectations': 1,\n  'second story. This': 1,\n  'looked upon its': 1,\n  'Review from its': 1,\n  'him a visit': 1,\n  'for almost thirty': 1,\n  'in the Chapel.': 1,\n  'of the story': 3,\n  'Russell seems to': 1,\n  'forward, are copied': 1,\n  'per300tion of the': 1,\n  'countrymen as the': 1,\n  'unanimously in his': 1,\n  'from the Catholic': 1,\n  'Those who have': 1,\n  'as a result': 1,\n  'well as notes': 1,\n  'Loss and Gain.': 1,\n  'the chain which': 1,\n  'writings. You will': 1,\n  'events in his': 1,\n  'and he respectfully': 1,\n  'London.\" The date': 1,\n  'make allowances for': 1,\n  'you. It will': 1,\n  'much as possible,': 1,\n  'member of the': 1,\n  'the auguries of': 1,\n  'editor of the': 1,\n  'impression made by': 1,\n  'advocates of his': 1,\n  'attach blame and': 1,\n  'Newman was made': 1,\n  'from all parts': 1,\n  'the correspondence with': 1,\n  'I trust I': 1,\n  'these with the': 1,\n  'delay, a visit': 1,\n  'which I have': 1,\n  'life, Loss and': 1,\n  'the letters which': 1,\n  'were smitten with': 1,\n  'to dissuade him': 1,\n  'the time when': 1,\n  'your books display,': 1,\n  'won reputation as': 1,\n  'explained to you': 1,\n  'be an approval': 1,\n  'an accession of': 1,\n  'the learned Cardinal': 1,\n  'It grieves me': 1,\n  'soon became known': 1,\n  'and showed him': 1,\n  'as the \"': 1,\n  'hardly have handled': 1,\n  'the review-often three': 1,\n  'the time :': 1,\n  'should abhor as': 1,\n  'to anyone. I': 1,\n  \"University. Newman's residence\": 1,\n  'with much misapprehension': 1,\n  'the Fathers, especially': 1,\n  'that might in': 1,\n  'was especially desirous': 1,\n  'the converts Ward': 1,\n  'had some fears': 1,\n  'whether anything had': 1,\n  'a poet and': 1,\n  'It will relieve': 1,\n  'on Development is': 1,\n  'on fact. It': 1,\n  'peerage as Lord': 1,\n  'retractation of Berengarius,': 1,\n  'work was received': 1,\n  'conversion of the': 1,\n  'where he soon': 1,\n  'in them to': 1,\n  'of this kind': 1,\n  'and happy sketches': 1,\n  'but kindly courtesy': 1,\n  'which you ask': 1,\n  'Articles.\" In forwarding': 1,\n  'them mark the': 1,\n  'of that virtue': 1,\n  'Bishop Taylor to': 1,\n  \"Russell's name to\": 1,\n  'was received with': 1,\n  'writers-Oscar Wilde, W.': 1,\n  'and magazines of': 1,\n  'whose motives and': 1,\n  'Of those who': 1,\n  'see her, not': 1,\n  'obscure the divine': 1,\n  'most cultivated class': 1,\n  'I ought to': 1,\n  'with Prendergast, a': 1,\n  'of thought and': 1,\n  'Justice and by': 1,\n  'a friend in': 1,\n  'strict regard to': 1,\n  'Russell, applying to': 1,\n  'to Catholicism. Newman': 1,\n  'profound erudition in': 1,\n  'Matthew, became a': 1,\n  'and he was': 2,\n  'that, after a': 1,\n  'complete treatise on': 1,\n  'him explaining his': 1,\n  'ten quondam Anglicans': 1,\n  'who has joined': 1,\n  'that I have': 2,\n  'Ceylon. With the': 1,\n  'them on the': 1,\n  \"securing the enemy's\": 1,\n  'seventeenth century and': 1,\n  'and there prevailing,': 1,\n  'us to understand': 1,\n  'was anxious that': 1,\n  'the Holy See.\"': 1,\n  'convert, had visited': 1,\n  'Studies [SEPT, maintained,': 1,\n  'theological course in': 1,\n  'the operation of': 1,\n  'at Oscott when': 1,\n  \"Gladstone's pamphlet on\": 1,\n  'in the Apologia:': 1,\n  'He was also': 1,\n  'entreaty on his': 1,\n  'to you when': 1,\n  'decline the appointment.': 1,\n  'be without matter': 1,\n  'with the love': 1,\n  'shops in Rome.': 1,\n  'Irish writers-Oscar Wilde,': 1,\n  'Newman confessed that': 1,\n  'tells us, was': 1,\n  'for the priesthood,': 1,\n  'Church and with': 1,\n  'the Dublin Review': 3,\n  'was that, drawing': 1,\n  'Colleges which had': 1,\n  'the most complete': 1,\n  'day.\" Dr. Russell': 1,\n  'prospects.\" Newman himself': 1,\n  'further took the': 1,\n  'Newman, Oakeley and': 1,\n  'I should abhor': 1,\n  'answer it by': 1,\n  'than the tone': 1,\n  'to the bishopric': 1,\n  'his way from': 1,\n  '84 the auguries': 1,\n  'in Oxford matters': 1,\n  'outward manner, as': 1,\n  'and which, were': 1,\n  'time with me.\"': 1,\n  'been frightened at': 1,\n  'He let me': 1,\n  'which had already': 1,\n  'the time of': 2,\n  'in the retractation': 1,\n  'he wrote asking': 1,\n  'handled so rudely': 1,\n  'abhor as fervently': 1,\n  'me is not': 1,\n  'to have had': 1,\n  'completed his fourteenth': 1,\n  'of the University.': 1,\n  'there, and that': 1,\n  'described the career': 1,\n  'Maynooth as a': 1,\n  'writings induces me': 1,\n  \"Canon Schmidt's stories\": 1,\n  'had been controverted': 1,\n  'close and friendly': 1,\n  'do with my': 1,\n  'College. Newman was': 1,\n  'known as one': 1,\n  'Russell of Maynooth,': 1,\n  'to sentiments that': 1,\n  'and Russell 390': 1,\n  'sacrament of Confirmation.': 1,\n  'I took him': 1,\n  'dispu tatiousness. It': 1,\n  'fact that, because': 1,\n  'requesting permission, if': 1,\n  '395 in establishing': 1,\n  'fourteenth year, and': 1,\n  'He wrote to': 1,\n  'include you; but,': 1,\n  'and, it must': 1,\n  'you ask me': 1,\n  'views. Then, Russell': 1,\n  'drawn up with': 1,\n  'powerful impulse by': 1,\n  'of one in': 1,\n  'that the writings': 1,\n  'able to satisfy': 1,\n  'reign of James': 1,\n  'your exertions. I': 1,\n  'as \"a gentlemanlike,': 1,\n  'frankness and cordiality': 1,\n  'referred him to': 1,\n  'both repudiate, but': 1,\n  'stories received English': 1,\n  'induce him to': 1,\n  'our Articles.\" In': 1,\n  'some fears lest': 1,\n  'Rome pursuing his': 1,\n  'which the Holy': 1,\n  'a \"walking polyglot\"': 1,\n  'education for Catholics': 1,\n  'from a family': 1,\n  'over some of': 1,\n  'by his sympathy': 1,\n  'theology, antiquities, belles-lettres,': 1,\n  'Vatican Decrees, Russell': 1,\n  'matters at the': 1,\n  'was reported to': 1,\n  'gentle, mild, unobtrusive,': 1,\n  'more known a600g': 1,\n  'In 1848 another': 1,\n  'Ireland, on the': 1,\n  'had, perhaps, more': 1,\n  'a result of': 1,\n  'Oxford. Thus it': 1,\n  'the latter described': 1,\n  'capacity he issued,': 1,\n  'fray. Great and': 1,\n  'brilliancy which he': 1,\n  'where he recorded:': 1,\n  'his meaning. \"': 1,\n  'there. About a': 1,\n  'are full of': 1,\n  '\"in the summer': 1,\n  'least a more': 1,\n  'of all your': 1,\n  'if it is': 1,\n  'the Pope would': 1,\n  'a complete confirmation': 1,\n  'Charles Russell 395': 1,\n  'on Development and': 1,\n  'as Lord Chief': 1,\n  'afterwards fittingly recognised': 1,\n  'such as then': 1,\n  'had succeeded the': 1,\n  'Italian, and afterwards': 1,\n  'be jealous of': 1,\n  'Newman regarding the': 1,\n  'if he had': 1,\n  'apprehensions that another': 1,\n  'on archaeological subjects': 1,\n  'also addressed a': 1,\n  'Russell felt that': 1,\n  'for fear I': 1,\n  'a friendly spirit': 1,\n  'CARDINAL NEWMAN AND': 1,\n  'I have altered': 2,\n  'a scholar, he': 1,\n  'some of the': 1,\n  'friend,\" Dr. Russell': 1,\n  'him any ambitious': 1,\n  'Russell, although the': 1,\n  'am drawn towards': 1,\n  'a visit to': 2,\n  'in recording the': 1,\n  'with the Dublin': 1,\n  'latter to pay': 1,\n  ...}}"
     },
     "execution_count": 5,
     "metadata": {},
     "output_type": "execute_result"
    }
   ],
   "source": [
    "# how does an individual document looks like?\n",
    "dataset_list[2000]"
   ],
   "metadata": {
    "collapsed": false
   }
  },
  {
   "cell_type": "code",
   "execution_count": 6,
   "outputs": [],
   "source": [
    "# transform it into a dataframe object\n",
    "jstor_df = pd.DataFrame(dataset_list)"
   ],
   "metadata": {
    "collapsed": false
   }
  },
  {
   "cell_type": "code",
   "execution_count": 7,
   "outputs": [],
   "source": [
    "del dataset_list"
   ],
   "metadata": {
    "collapsed": false
   }
  },
  {
   "cell_type": "code",
   "execution_count": 9,
   "outputs": [],
   "source": [
    "jstor_df[\"id_kase\"] = [n for n in range(len(jstor_df))]"
   ],
   "metadata": {
    "collapsed": false
   }
  },
  {
   "cell_type": "code",
   "execution_count": 8,
   "outputs": [],
   "source": [
    "data_columns = ['unigramCount', 'bigramCount', 'trigramCount', 'abstract', 'fullText']"
   ],
   "metadata": {
    "collapsed": false
   }
  },
  {
   "cell_type": "code",
   "execution_count": 10,
   "outputs": [],
   "source": [
    "for column in data_columns:\n",
    "    dict_to_save = dict(zip(jstor_df[\"id_kase\"], jstor_df[column]))\n",
    "    pickle.dump(dict_to_save, open(\"../data/large_files/{0}_dict.pickle\".format(column), \"wb\"))"
   ],
   "metadata": {
    "collapsed": false
   }
  },
  {
   "cell_type": "code",
   "execution_count": 11,
   "outputs": [
    {
     "data": {
      "text/plain": "                 creator datePublished  docType                           doi  \\\n0                     []    1959-10-01  article    10.1177/001452465907100107   \n1  [Victor Paul Furnish]    2009-01-01  chapter  10.1017/CBO9780511621321.003   \n2      [Leander E. Keck]    2015-01-01  chapter                           NaN   \n3   [LeAnn Snow Flesher]    2009-02-01  article    10.1177/003463730910600105   \n4      [A. Daunton-Fear]    1995-07-01  article    10.1177/0040571X9509800404   \n\n                        id                                         identifier  \\\n0  ark://27927/phx66812gq6  [{'name': 'doi', 'value': '10.1177/00145246590...   \n1   ark://27927/pbd6fpf5fh  [{'name': 'isbn', 'value': '9780511621321'}, {...   \n2  ark://27927/phw1kd8s300                                                 []   \n3  ark://27927/phx64fptrwj  [{'name': 'doi', 'value': '10.1177/00346373091...   \n4  ark://27927/phx64k1x5c2  [{'name': 'doi', 'value': '10.1177/0040571X950...   \n\n                                            isPartOf issueNumber  \\\n0                                   Expository Times           1   \n1     Jesus According to PaulJesus According to Paul         NaN   \n2                      Christ&#39;s First Theologian         NaN   \n3  Review & Expositor: An International Baptist J...           1   \n4                                           Theology         784   \n\n                                           keyphrase language  \\\n0  [omnipotent reigneth, god omnipotent, silence,...    [eng]   \n1  [saying, books online, jesus tradition, pauls ...    [eng]   \n2  [pharisaism, sandmel genius, judaism, rabbinic...    [eng]   \n3  [scofield, premillennial, premillennial dispen...    [eng]   \n4  [baptism, holy spirit, communion, infant bapti...    [eng]   \n\n                 outputFormat  pageCount pageEnd pageStart pagination  \\\n0  [unigram, bigram, trigram]        8.0      31        24  pp. 24-31   \n1  [unigram, bigram, trigram]       26.0      65        40      40-65   \n2  [unigram, bigram, trigram]       14.0      42        29      29-42   \n3  [unigram, bigram, trigram]       11.0      45        35  pp. 35-45   \n4  [unigram, bigram, trigram]       10.0     282       273    273-282   \n\n  provider  publicationYear                   publisher  sequence  \\\n0  portico             1959           SAGE Publications       7.0   \n1  portico             2009  Cambridge University Press       5.0   \n2  portico             2015     Baylor University Press       8.0   \n3  portico             2009           SAGE Publications       5.0   \n4  portico             1995           SAGE Publications       4.0   \n\n                                         tdmCategory  \\\n0  [Religion - Theology, Religion - Spiritual bel...   \n1  [History - Historical methodology, Religion - ...   \n2  [History - Historical methodology, Religion - ...   \n3  [Religion - Theology, Religion - Spiritual bel...   \n4              [Religion - Spiritual belief systems]   \n\n                                               title  \\\n0                                       In the Study   \n1               3 Sayings of Jesus in Paul's Letters   \n2                  3. The Quest for Pauls Pharisaism   \n3  The Historical Development of Premillennial Di...   \n4  Resisting the Tide Christian Initiation and Co...   \n\n                                            url volumeNumber  wordCount  \\\n0     http://doi.org/10.1177/001452465907100107           71       7382   \n1  https://doi.org/10.1017/CBO9780511621321.003          NaN       8577   \n2                                           NaN          NaN       5354   \n3     http://doi.org/10.1177/003463730910600105          106       3614   \n4     http://doi.org/10.1177/0040571X9509800404           98       4323   \n\n  docSubType sourceCategory subTitle hasPartTitle  id_kase  \n0        NaN            NaN      NaN          NaN        0  \n1        NaN            NaN      NaN          NaN        1  \n2        NaN            NaN      NaN          NaN        2  \n3        NaN            NaN      NaN          NaN        3  \n4        NaN            NaN      NaN          NaN        4  ",
      "text/html": "<div>\n<style scoped>\n    .dataframe tbody tr th:only-of-type {\n        vertical-align: middle;\n    }\n\n    .dataframe tbody tr th {\n        vertical-align: top;\n    }\n\n    .dataframe thead th {\n        text-align: right;\n    }\n</style>\n<table border=\"1\" class=\"dataframe\">\n  <thead>\n    <tr style=\"text-align: right;\">\n      <th></th>\n      <th>creator</th>\n      <th>datePublished</th>\n      <th>docType</th>\n      <th>doi</th>\n      <th>id</th>\n      <th>identifier</th>\n      <th>isPartOf</th>\n      <th>issueNumber</th>\n      <th>keyphrase</th>\n      <th>language</th>\n      <th>outputFormat</th>\n      <th>pageCount</th>\n      <th>pageEnd</th>\n      <th>pageStart</th>\n      <th>pagination</th>\n      <th>provider</th>\n      <th>publicationYear</th>\n      <th>publisher</th>\n      <th>sequence</th>\n      <th>tdmCategory</th>\n      <th>title</th>\n      <th>url</th>\n      <th>volumeNumber</th>\n      <th>wordCount</th>\n      <th>docSubType</th>\n      <th>sourceCategory</th>\n      <th>subTitle</th>\n      <th>hasPartTitle</th>\n      <th>id_kase</th>\n    </tr>\n  </thead>\n  <tbody>\n    <tr>\n      <th>0</th>\n      <td>[]</td>\n      <td>1959-10-01</td>\n      <td>article</td>\n      <td>10.1177/001452465907100107</td>\n      <td>ark://27927/phx66812gq6</td>\n      <td>[{'name': 'doi', 'value': '10.1177/00145246590...</td>\n      <td>Expository Times</td>\n      <td>1</td>\n      <td>[omnipotent reigneth, god omnipotent, silence,...</td>\n      <td>[eng]</td>\n      <td>[unigram, bigram, trigram]</td>\n      <td>8.0</td>\n      <td>31</td>\n      <td>24</td>\n      <td>pp. 24-31</td>\n      <td>portico</td>\n      <td>1959</td>\n      <td>SAGE Publications</td>\n      <td>7.0</td>\n      <td>[Religion - Theology, Religion - Spiritual bel...</td>\n      <td>In the Study</td>\n      <td>http://doi.org/10.1177/001452465907100107</td>\n      <td>71</td>\n      <td>7382</td>\n      <td>NaN</td>\n      <td>NaN</td>\n      <td>NaN</td>\n      <td>NaN</td>\n      <td>0</td>\n    </tr>\n    <tr>\n      <th>1</th>\n      <td>[Victor Paul Furnish]</td>\n      <td>2009-01-01</td>\n      <td>chapter</td>\n      <td>10.1017/CBO9780511621321.003</td>\n      <td>ark://27927/pbd6fpf5fh</td>\n      <td>[{'name': 'isbn', 'value': '9780511621321'}, {...</td>\n      <td>Jesus According to PaulJesus According to Paul</td>\n      <td>NaN</td>\n      <td>[saying, books online, jesus tradition, pauls ...</td>\n      <td>[eng]</td>\n      <td>[unigram, bigram, trigram]</td>\n      <td>26.0</td>\n      <td>65</td>\n      <td>40</td>\n      <td>40-65</td>\n      <td>portico</td>\n      <td>2009</td>\n      <td>Cambridge University Press</td>\n      <td>5.0</td>\n      <td>[History - Historical methodology, Religion - ...</td>\n      <td>3 Sayings of Jesus in Paul's Letters</td>\n      <td>https://doi.org/10.1017/CBO9780511621321.003</td>\n      <td>NaN</td>\n      <td>8577</td>\n      <td>NaN</td>\n      <td>NaN</td>\n      <td>NaN</td>\n      <td>NaN</td>\n      <td>1</td>\n    </tr>\n    <tr>\n      <th>2</th>\n      <td>[Leander E. Keck]</td>\n      <td>2015-01-01</td>\n      <td>chapter</td>\n      <td>NaN</td>\n      <td>ark://27927/phw1kd8s300</td>\n      <td>[]</td>\n      <td>Christ&amp;#39;s First Theologian</td>\n      <td>NaN</td>\n      <td>[pharisaism, sandmel genius, judaism, rabbinic...</td>\n      <td>[eng]</td>\n      <td>[unigram, bigram, trigram]</td>\n      <td>14.0</td>\n      <td>42</td>\n      <td>29</td>\n      <td>29-42</td>\n      <td>portico</td>\n      <td>2015</td>\n      <td>Baylor University Press</td>\n      <td>8.0</td>\n      <td>[History - Historical methodology, Religion - ...</td>\n      <td>3. The Quest for Pauls Pharisaism</td>\n      <td>NaN</td>\n      <td>NaN</td>\n      <td>5354</td>\n      <td>NaN</td>\n      <td>NaN</td>\n      <td>NaN</td>\n      <td>NaN</td>\n      <td>2</td>\n    </tr>\n    <tr>\n      <th>3</th>\n      <td>[LeAnn Snow Flesher]</td>\n      <td>2009-02-01</td>\n      <td>article</td>\n      <td>10.1177/003463730910600105</td>\n      <td>ark://27927/phx64fptrwj</td>\n      <td>[{'name': 'doi', 'value': '10.1177/00346373091...</td>\n      <td>Review &amp; Expositor: An International Baptist J...</td>\n      <td>1</td>\n      <td>[scofield, premillennial, premillennial dispen...</td>\n      <td>[eng]</td>\n      <td>[unigram, bigram, trigram]</td>\n      <td>11.0</td>\n      <td>45</td>\n      <td>35</td>\n      <td>pp. 35-45</td>\n      <td>portico</td>\n      <td>2009</td>\n      <td>SAGE Publications</td>\n      <td>5.0</td>\n      <td>[Religion - Theology, Religion - Spiritual bel...</td>\n      <td>The Historical Development of Premillennial Di...</td>\n      <td>http://doi.org/10.1177/003463730910600105</td>\n      <td>106</td>\n      <td>3614</td>\n      <td>NaN</td>\n      <td>NaN</td>\n      <td>NaN</td>\n      <td>NaN</td>\n      <td>3</td>\n    </tr>\n    <tr>\n      <th>4</th>\n      <td>[A. Daunton-Fear]</td>\n      <td>1995-07-01</td>\n      <td>article</td>\n      <td>10.1177/0040571X9509800404</td>\n      <td>ark://27927/phx64k1x5c2</td>\n      <td>[{'name': 'doi', 'value': '10.1177/0040571X950...</td>\n      <td>Theology</td>\n      <td>784</td>\n      <td>[baptism, holy spirit, communion, infant bapti...</td>\n      <td>[eng]</td>\n      <td>[unigram, bigram, trigram]</td>\n      <td>10.0</td>\n      <td>282</td>\n      <td>273</td>\n      <td>273-282</td>\n      <td>portico</td>\n      <td>1995</td>\n      <td>SAGE Publications</td>\n      <td>4.0</td>\n      <td>[Religion - Spiritual belief systems]</td>\n      <td>Resisting the Tide Christian Initiation and Co...</td>\n      <td>http://doi.org/10.1177/0040571X9509800404</td>\n      <td>98</td>\n      <td>4323</td>\n      <td>NaN</td>\n      <td>NaN</td>\n      <td>NaN</td>\n      <td>NaN</td>\n      <td>4</td>\n    </tr>\n  </tbody>\n</table>\n</div>"
     },
     "execution_count": 11,
     "metadata": {},
     "output_type": "execute_result"
    }
   ],
   "source": [
    "jstor_df.drop(columns=data_columns, inplace=True)\n",
    "jstor_df.head(5)"
   ],
   "metadata": {
    "collapsed": false
   }
  },
  {
   "cell_type": "code",
   "execution_count": 12,
   "outputs": [
    {
     "data": {
      "text/plain": "14103"
     },
     "execution_count": 12,
     "metadata": {},
     "output_type": "execute_result"
    }
   ],
   "source": [
    "len(jstor_df)"
   ],
   "metadata": {
    "collapsed": false
   }
  },
  {
   "cell_type": "code",
   "execution_count": 13,
   "outputs": [
    {
     "name": "stdout",
     "output_type": "stream",
     "text": [
      "CPU times: user 221 ms, sys: 201 ms, total: 423 ms\n",
      "Wall time: 888 ms\n"
     ]
    }
   ],
   "source": [
    "%%time\n",
    "jstor_df.to_feather(\"../data/large_files/jstor_df_v1.feather\")"
   ],
   "metadata": {
    "collapsed": false
   }
  },
  {
   "cell_type": "code",
   "execution_count": null,
   "outputs": [],
   "source": [],
   "metadata": {
    "collapsed": false
   }
  }
 ],
 "metadata": {
  "kernelspec": {
   "name": "mops_venv",
   "language": "python",
   "display_name": "mops_venv"
  },
  "language_info": {
   "codemirror_mode": {
    "name": "ipython",
    "version": 2
   },
   "file_extension": ".py",
   "mimetype": "text/x-python",
   "name": "python",
   "nbconvert_exporter": "python",
   "pygments_lexer": "ipython2",
   "version": "2.7.6"
  }
 },
 "nbformat": 4,
 "nbformat_minor": 0
}
