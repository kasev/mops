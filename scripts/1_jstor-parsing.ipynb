{
 "cells": [
  {
   "cell_type": "code",
   "execution_count": 1,
   "outputs": [
    {
     "name": "stdout",
     "output_type": "stream",
     "text": [
      "Constellate: use and download of datasets is covered by the Terms & Conditions of Use: https://constellate.org/terms-and-conditions/\n"
     ]
    }
   ],
   "source": [
    "import constellate\n",
    "import json\n",
    "import pandas as pd\n",
    "import pickle\n",
    "pd.set_option(\"display.max_columns\", None)\n",
    "import os\n",
    "import csv"
   ],
   "metadata": {
    "collapsed": false,
    "ExecuteTime": {
     "end_time": "2023-05-07T09:01:47.882594Z",
     "start_time": "2023-05-07T09:01:47.846111Z"
    }
   }
  },
  {
   "cell_type": "code",
   "execution_count": 2,
   "outputs": [],
   "source": [
    "dataset = constellate.dataset_reader(\"../data/large_files/jstor_v2023.jsonl\")"
   ],
   "metadata": {
    "collapsed": false,
    "ExecuteTime": {
     "end_time": "2023-05-07T09:01:48.429273Z",
     "start_time": "2023-05-07T09:01:48.422618Z"
    }
   }
  },
  {
   "cell_type": "code",
   "execution_count": 3,
   "outputs": [
    {
     "data": {
      "text/plain": "generator"
     },
     "execution_count": 3,
     "metadata": {},
     "output_type": "execute_result"
    }
   ],
   "source": [
    "type(dataset)"
   ],
   "metadata": {
    "collapsed": false,
    "ExecuteTime": {
     "end_time": "2023-05-07T09:01:49.747749Z",
     "start_time": "2023-05-07T09:01:49.738460Z"
    }
   }
  },
  {
   "cell_type": "code",
   "execution_count": 4,
   "outputs": [],
   "source": [
    "data_columns = ['unigramCount', 'bigramCount', 'trigramCount', 'abstract', 'fullText']\n"
   ],
   "metadata": {
    "collapsed": false,
    "ExecuteTime": {
     "end_time": "2023-05-07T09:01:51.127176Z",
     "start_time": "2023-05-07T09:01:51.121339Z"
    }
   }
  },
  {
   "cell_type": "code",
   "execution_count": 5,
   "outputs": [],
   "source": [
    "path_trigrams = \"../data/large_files/trigrams_raw/\"\n",
    "#os.makedirs(path_trigrams)\n",
    "path_unigrams = \"../data/large_files/unigrams_raw/\"\n",
    "#os.makedirs(path_unigrams)"
   ],
   "metadata": {
    "collapsed": false,
    "ExecuteTime": {
     "end_time": "2023-05-07T09:01:51.912013Z",
     "start_time": "2023-05-07T09:01:51.900716Z"
    }
   }
  },
  {
   "cell_type": "code",
   "execution_count": 7,
   "outputs": [
    {
     "name": "stdout",
     "output_type": "stream",
     "text": [
      "CPU times: user 4min 39s, sys: 32 s, total: 5min 11s\n",
      "Wall time: 5min 43s\n"
     ]
    }
   ],
   "source": [
    "%%time\n",
    "metadata_list = []\n",
    "dataset = constellate.dataset_reader(\"../data/large_files/jstor_v2023.jsonl\")\n",
    "for n, doc_dict in enumerate(dataset):\n",
    "        doc_dict[\"id_kase\"] = n\n",
    "        trigrams = doc_dict[\"trigramCount\"]\n",
    "        with open(path_trigrams + \"trigrams_{}.json\".format(str(n)), \"w\") as f:\n",
    "            json.dump(trigrams, f)\n",
    "        unigrams = doc_dict[\"unigramCount\"]\n",
    "        with open(path_unigrams + \"unigrams_{}.json\".format(str(n)), \"w\") as f:\n",
    "            json.dump(unigrams, f)\n",
    "        for col in ['unigramCount', 'bigramCount', 'trigramCount']: # , 'fullText']:\n",
    "            try:\n",
    "                del doc_dict[col]\n",
    "            except:\n",
    "                pass\n",
    "        metadata_list.append(doc_dict)"
   ],
   "metadata": {
    "collapsed": false,
    "ExecuteTime": {
     "end_time": "2023-05-07T09:09:24.784059Z",
     "start_time": "2023-05-07T09:03:41.589858Z"
    }
   }
  },
  {
   "cell_type": "code",
   "execution_count": 8,
   "outputs": [
    {
     "data": {
      "text/plain": "25000"
     },
     "execution_count": 8,
     "metadata": {},
     "output_type": "execute_result"
    }
   ],
   "source": [
    "metadata_df = pd.DataFrame(metadata_list)\n",
    "len(metadata_df)"
   ],
   "metadata": {
    "collapsed": false,
    "ExecuteTime": {
     "end_time": "2023-05-07T09:21:22.121237Z",
     "start_time": "2023-05-07T09:21:21.936207Z"
    }
   }
  },
  {
   "cell_type": "code",
   "execution_count": 19,
   "outputs": [
    {
     "data": {
      "text/plain": "625"
     },
     "execution_count": 19,
     "metadata": {},
     "output_type": "execute_result"
    }
   ],
   "source": [
    "metadata_df[\"fullText\"].notnull().sum()"
   ],
   "metadata": {
    "collapsed": false,
    "ExecuteTime": {
     "end_time": "2023-05-07T09:24:23.337474Z",
     "start_time": "2023-05-07T09:24:23.332519Z"
    }
   }
  },
  {
   "cell_type": "code",
   "execution_count": 20,
   "outputs": [],
   "source": [
    "metadata_df.drop(\"fullText\", axis=1, inplace=True)"
   ],
   "metadata": {
    "collapsed": false,
    "ExecuteTime": {
     "end_time": "2023-05-07T09:57:54.712299Z",
     "start_time": "2023-05-07T09:57:54.710021Z"
    }
   }
  },
  {
   "cell_type": "code",
   "execution_count": 93,
   "outputs": [],
   "source": [
    "metadata_df.to_json(\"../data/metadata_df.json\")"
   ],
   "metadata": {
    "collapsed": false
   }
  },
  {
   "cell_type": "code",
   "execution_count": 94,
   "outputs": [],
   "source": [
    "ids_dict = dict(zip(metadata_df[\"id\"], metadata_df[\"id_kase\"]))"
   ],
   "metadata": {
    "collapsed": false
   }
  },
  {
   "cell_type": "code",
   "execution_count": 95,
   "outputs": [],
   "source": [
    "with open(\"../data/large_files/ids_dict.json\", \"w\") as f:\n",
    "    json.dump(ids_dict, f)"
   ],
   "metadata": {
    "collapsed": false
   }
  },
  {
   "cell_type": "code",
   "execution_count": null,
   "outputs": [],
   "source": [],
   "metadata": {
    "collapsed": false
   }
  },
  {
   "cell_type": "code",
   "execution_count": null,
   "outputs": [],
   "source": [],
   "metadata": {
    "collapsed": false
   }
  },
  {
   "cell_type": "code",
   "execution_count": null,
   "outputs": [],
   "source": [],
   "metadata": {
    "collapsed": false
   }
  }
 ],
 "metadata": {
  "kernelspec": {
   "name": "mops_venv",
   "language": "python",
   "display_name": "mops_venv"
  },
  "language_info": {
   "codemirror_mode": {
    "name": "ipython",
    "version": 2
   },
   "file_extension": ".py",
   "mimetype": "text/x-python",
   "name": "python",
   "nbconvert_exporter": "python",
   "pygments_lexer": "ipython2",
   "version": "2.7.6"
  }
 },
 "nbformat": 4,
 "nbformat_minor": 0
}
