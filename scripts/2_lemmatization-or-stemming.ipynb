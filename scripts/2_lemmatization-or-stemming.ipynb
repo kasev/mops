{
 "cells": [
  {
   "cell_type": "code",
   "metadata": {
    "collapsed": true,
    "ExecuteTime": {
     "end_time": "2025-03-04T20:13:16.683283Z",
     "start_time": "2025-03-04T20:13:16.092272Z"
    }
   },
   "source": [
    "import pandas as pd\n",
    "import spacy\n",
    "import pickle\n",
    "import random\n",
    "pd.set_option(\"display.max_columns\", None)\n",
    "from collections import Counter\n",
    "import re\n",
    "import google_conf\n",
    "import os\n",
    "import json\n",
    "\n",
    "from nltk.corpus import stopwords"
   ],
   "outputs": [],
   "execution_count": 15
  },
  {
   "metadata": {},
   "cell_type": "markdown",
   "source": "### Testing simpler stemmers and lemmatizers"
  },
  {
   "metadata": {
    "ExecuteTime": {
     "end_time": "2025-03-04T20:13:17.411562Z",
     "start_time": "2025-03-04T20:13:17.405985Z"
    }
   },
   "cell_type": "code",
   "source": [
    "from nltk.stem import PorterStemmer, SnowballStemmer\n",
    "from gensim.parsing.preprocessing import stem_text\n",
    "\n",
    "# Initialize Porter and Snowball Stemmers\n",
    "porter = PorterStemmer()\n",
    "snowball = SnowballStemmer(language=\"english\")\n",
    "\n",
    "# Words to test\n",
    "words = [\"running\", \"jumps\", \"easily\", \"happiness\", \"applies\", \"relational\", \"generously\", \"studies\"]\n",
    "\n",
    "# Stem each word with all three methods\n",
    "for word in words:\n",
    "    porter_stemmed = porter.stem(word)\n",
    "    snowball_stemmed = snowball.stem(word)\n",
    "    gensim_stemmed = stem_text(word)  # Gensim handles entire strings\n",
    "\n",
    "    print(f\"{word:<12} -> Porter: {porter_stemmed:<10} | Snowball: {snowball_stemmed:<10} | Gensim: {gensim_stemmed}\")\n",
    "\n"
   ],
   "outputs": [
    {
     "name": "stdout",
     "output_type": "stream",
     "text": [
      "running      -> Porter: run        | Snowball: run        | Gensim: run\n",
      "jumps        -> Porter: jump       | Snowball: jump       | Gensim: jump\n",
      "easily       -> Porter: easili     | Snowball: easili     | Gensim: easili\n",
      "happiness    -> Porter: happi      | Snowball: happi      | Gensim: happi\n",
      "applies      -> Porter: appli      | Snowball: appli      | Gensim: appli\n",
      "relational   -> Porter: relat      | Snowball: relat      | Gensim: relat\n",
      "generously   -> Porter: gener      | Snowball: generous   | Gensim: gener\n",
      "studies      -> Porter: studi      | Snowball: studi      | Gensim: studi\n"
     ]
    }
   ],
   "execution_count": 16
  },
  {
   "metadata": {
    "ExecuteTime": {
     "end_time": "2025-03-04T20:13:18.579377Z",
     "start_time": "2025-03-04T20:13:18.573733Z"
    }
   },
   "cell_type": "code",
   "source": [
    "###import nltk\n",
    "###nltk.download('wordnet')\n",
    "from nltk.stem import WordNetLemmatizer\n",
    "\n",
    "# Initialize WordNet lemmatizer\n",
    "lemmatizer = WordNetLemmatizer()\n",
    "\n",
    "# Example trigram as a string\n",
    "trigram = \"Paul's letter writes\"\n",
    "\n",
    "# Split into words, lemmatize, and join back\n",
    "lemmatized_trigram = \" \".join([lemmatizer.lemmatize(word, pos=\"v\") for word in trigram.split()])\n",
    "\n",
    "print(lemmatized_trigram)"
   ],
   "outputs": [
    {
     "name": "stdout",
     "output_type": "stream",
     "text": [
      "Paul's letter write\n"
     ]
    }
   ],
   "execution_count": 17
  },
  {
   "cell_type": "code",
   "source": [
    "metadata_df = pd.read_json(\"../data/metadata_df.json\")"
   ],
   "metadata": {
    "collapsed": false,
    "ExecuteTime": {
     "end_time": "2025-03-04T20:13:26.303540Z",
     "start_time": "2025-03-04T20:13:25.836894Z"
    }
   },
   "outputs": [],
   "execution_count": 18
  },
  {
   "cell_type": "code",
   "source": [
    "ids = metadata_df[\"id_kase\"].tolist()"
   ],
   "metadata": {
    "collapsed": false,
    "ExecuteTime": {
     "end_time": "2025-03-04T20:13:27.098346Z",
     "start_time": "2025-03-04T20:13:27.093428Z"
    }
   },
   "outputs": [],
   "execution_count": 19
  },
  {
   "cell_type": "code",
   "source": "mops_data = google_conf.setup(sheet_url=\"https://docs.google.com/spreadsheets/d/1VbCIAJssHKV9hlRTwzVFfm40CGnHesq53KXjv2qy4OM/edit?usp=sharing\", service_account_path=\"../../../ServiceAccountsKey.json\")",
   "metadata": {
    "collapsed": false,
    "ExecuteTime": {
     "end_time": "2025-03-04T20:13:33.866700Z",
     "start_time": "2025-03-04T20:13:33.359665Z"
    }
   },
   "outputs": [],
   "execution_count": 21
  },
  {
   "cell_type": "code",
   "source": [
    "nlp_spacy = spacy.load('en_core_web_lg') # python -m spacy download en_core_web_lg"
   ],
   "metadata": {
    "collapsed": false,
    "ExecuteTime": {
     "end_time": "2025-03-04T20:14:27.418817Z",
     "start_time": "2025-03-04T20:14:26.029751Z"
    }
   },
   "outputs": [],
   "execution_count": 25
  },
  {
   "cell_type": "code",
   "source": [
    "tags = [\"NOUN\", \"ADJ\", \"VERB\", \"PROPN\"]"
   ],
   "metadata": {
    "collapsed": false,
    "ExecuteTime": {
     "end_time": "2025-03-04T20:14:28.830699Z",
     "start_time": "2025-03-04T20:14:28.827945Z"
    }
   },
   "outputs": [],
   "execution_count": 26
  },
  {
   "cell_type": "code",
   "source": [
    "stops = set(stopwords.words('english'))"
   ],
   "metadata": {
    "collapsed": false,
    "ExecuteTime": {
     "end_time": "2025-03-04T20:14:47.797868Z",
     "start_time": "2025-03-04T20:14:47.794519Z"
    }
   },
   "outputs": [],
   "execution_count": 27
  },
  {
   "cell_type": "code",
   "source": [
    "def clean_filter(string):\n",
    "    string = [re.sub(r\"[,.;:!?@#$~^&*{}}°\\\"\\’\\[\\]\\(\\)\\_\\-\\d+]+\", \"\", w) for w in string.split()]\n",
    "    string = \" \".join([w[0] + w[1:].lower() for w in string if ((w not in stops) & (len(w)>1))])\n",
    "    return string\n",
    "clean_filter(\"the; L wouldn't _Word1... \\\"God's PRESS\")"
   ],
   "metadata": {
    "collapsed": false,
    "ExecuteTime": {
     "end_time": "2025-03-04T20:14:55.027512Z",
     "start_time": "2025-03-04T20:14:55.021946Z"
    }
   },
   "outputs": [
    {
     "data": {
      "text/plain": [
       "\"Word God's Press\""
      ]
     },
     "execution_count": 29,
     "metadata": {},
     "output_type": "execute_result"
    }
   ],
   "execution_count": 29
  },
  {
   "cell_type": "code",
   "source": [
    "def filter_dict(mydict, min=2):\n",
    "    mycounter = Counter()\n",
    "    for item in mydict.items():#, key=lambda kv: kv[1], reverse=True))\n",
    "        string = clean_filter(item[0])\n",
    "        string = \" \".join([w for w in string.split() if w not in stops])\n",
    "        if (len(string) >= min) & (len(string.split()) >= min):\n",
    "            mycounter.update({string : item[1]})\n",
    "    return mycounter"
   ],
   "metadata": {
    "collapsed": false,
    "ExecuteTime": {
     "end_time": "2025-03-04T20:15:37.761285Z",
     "start_time": "2025-03-04T20:15:37.756443Z"
    }
   },
   "outputs": [],
   "execution_count": 30
  },
  {
   "metadata": {
    "ExecuteTime": {
     "end_time": "2025-03-04T20:25:06.252162Z",
     "start_time": "2025-03-04T20:25:06.238826Z"
    }
   },
   "cell_type": "code",
   "source": "os.listdir('../data/large_files/unigrams_raw/')[:10]",
   "outputs": [
    {
     "data": {
      "text/plain": [
       "['unigrams_316.json',\n",
       " 'unigrams_1332.json',\n",
       " 'unigrams_11040.json',\n",
       " 'unigrams_5720.json',\n",
       " 'unigrams_5087.json',\n",
       " 'unigrams_22356.json',\n",
       " 'unigrams_1020.json',\n",
       " 'unigrams_16599.json',\n",
       " 'unigrams_11531.json',\n",
       " 'unigrams_12077.json']"
      ]
     },
     "execution_count": 34,
     "metadata": {},
     "output_type": "execute_result"
    }
   ],
   "execution_count": 34
  },
  {
   "metadata": {},
   "cell_type": "code",
   "outputs": [],
   "execution_count": null,
   "source": [
    "id = 1203\n",
    "sourcepath = \"../data/large_files/trigrams_raw/\"\n",
    "ngram_dict = json.load(open(sourcepath +  \"trigrams_{}.json\".format(str(id)), \"r\"))\n",
    "len(ngram_dict)"
   ]
  },
  {
   "cell_type": "code",
   "execution_count": 10,
   "outputs": [
    {
     "data": {
      "text/plain": "{'the broad parameters': 1,\n 'the polis/colonia. While': 1,\n '‘thoughts’ of Satan': 1,\n 'immanent divine mind': 1,\n 'or non-citizen, has': 1,\n 'government (colonial) and': 1,\n 'is the polar': 1,\n 'interdependency and mutual': 1,\n 'his followers that': 1,\n 'Paul’s negative view': 1,\n 'raised about the': 2,\n 'It is also': 1,\n 'they definitely made': 1,\n 'of human connectedness.': 1,\n 'with Judaism while': 1,\n 'root quirky individualists;': 1,\n 'this the focal': 1,\n 'of Western imperialism': 1,\n 'but we give': 1,\n '(\\uf645 Cor \\uf647.\\uf647),': 1,\n 'while their insistence': 1,\n 'originate in other': 1,\n 'of Downing’s Cynics,': 1,\n 'to punish evil': 1,\n 'interest in shaping': 1,\n 'individuals.\\uf644\\uf64a Post-colonial theorists': 1,\n 'he remained true': 1,\n 'and neo-capitalism that': 1,\n 'identity that justifies': 1,\n '\\uf646\\uf645 For Paul,': 1,\n 'University Press, \\uf645\\uf643\\uf644\\uf64c': 1,\n 'embraced only Christ-followers': 1,\n 'Postcolonial Literature. Different': 1,\n 'have guessed that': 1,\n 'and Postcolonial Literature': 1,\n 'in for critical': 1,\n 'the opposite view': 1,\n 'the Stoics concerns': 1,\n 'and practice, including': 1,\n '(superior) Western standards.\\uf644\\uf648': 1,\n 'who should be': 1,\n 'to educate their': 1,\n 'merely absent from': 1,\n 'goal towards which': 1,\n 'myself at odds': 1,\n 'forms of cosmopolitanism': 2,\n 'Cynic and Stoic': 1,\n 'our concerns, he': 1,\n 'he rejoices that': 1,\n 'peoples who insisted': 1,\n 'of behaviour among': 1,\n 'against narrow, parochial': 1,\n 'the ideology of': 1,\n 'aim was to': 1,\n 'Cambridge University Press,': 2,\n 'for those who': 1,\n 'globe. This paradigm': 1,\n 'in establishing or': 1,\n 'plan of salvation': 1,\n 'it might seem': 1,\n 'non-Jews, by contrast,': 1,\n 'social mores and': 1,\n 'eagerness to bring': 1,\n '\\uf644\\uf648\\uf648 vision were': 1,\n 'for the future.': 1,\n 'a group that': 2,\n 'of their resocialisation': 1,\n 'and Politics of': 1,\n 'V. Jabri, ‘Solidarity': 1,\n 'models described in': 1,\n 'noting how it': 1,\n 'God of Israel,': 1,\n 'they reveal by': 1,\n 'Werbner; Oxford/New York:': 2,\n 'that Paul ever': 1,\n 'viewed as shameful.\\uf648': 1,\n 'ideas are only': 1,\n 'temples and marriage)': 1,\n '\\uf644\\uf64c\\uf644, \\uf644\\uf64c\\uf649–\\uf64a. \\uf644\\uf648\\uf643': 1,\n 'Interfaith, Cross-Cultural and': 1,\n '\\uf645\\uf643\\uf644\\uf64c doi:10.1017/S0028688519000249 evidence': 1,\n 'no longer limited': 1,\n 'or avoided by': 1,\n 'outlandish elements of': 1,\n 'Transnational Networks, \\uf644\\uf64b\\uf649\\uf643–\\uf644\\uf64c\\uf648\\uf643': 1,\n 'Fire As a': 1,\n 'Cheah and Robbins,': 1,\n 'all’ (Rom \\uf644\\uf645.\\uf644\\uf64b),': 1,\n 'Stoics. \\uf645\\uf64c The': 1,\n 'it also reflects': 1,\n 'see any evidence': 1,\n 'city to follow.': 1,\n 'basis. Whether they': 1,\n 'the Cosmopolitan? \\uf644\\uf648\\uf64a': 1,\n 'political order. Christ-followers': 1,\n 'Stoics is foreign': 1,\n 'Chrysippus as one': 1,\n 'human rights of': 1,\n 'and conflicts. Fourth,': 1,\n 'the education to': 1,\n 'however, of sectarian': 1,\n 'role of the': 1,\n 'uses of the': 1,\n 'Apostle: Paul through': 1,\n 'a contextual theologian,': 1,\n 'single humanity living': 2,\n 'Kang, Cosmopolitan Theology:': 1,\n 'that categorised them': 1,\n 'to position himself': 1,\n 'through darkly tinted': 1,\n 'of sin’ (Rom': 1,\n 'final area in': 1,\n 'of Greco-Roman mores': 1,\n 'previous lives that': 1,\n 'in the city': 1,\n 'Noted especially by': 1,\n '\\uf644\\uf644\\uf644–\\uf644\\uf64c; D. S.': 1,\n 'J. Haggis, C.': 1,\n 'how to apply': 1,\n 'and his apocalyptic': 1,\n 'their lifestyles and': 1,\n 'to Kant The': 1,\n 'divine power, and': 1,\n 'when done for': 1,\n 'God-given role of': 1,\n 'destructive influence of': 1,\n 'them at odds': 1,\n 'P. Cheah, ‘The': 1,\n 'prevailed for much': 1,\n 'the essential unity': 1,\n 'of Culture: The': 1,\n 'the spectrum and': 1,\n 'to apply Christian': 1,\n 'take place at': 1,\n 'inevitability of their': 1,\n 'live in peace': 1,\n 'the end of': 3,\n 'the founder of': 1,\n 'few points of': 1,\n '\\uf644\\uf643–\\uf644\\uf644; A. A.': 1,\n 'presence of similar': 1,\n 'F. Paisley, Cosmopolitan': 1,\n 'the grievances that': 1,\n 'at \\uf648\\uf644, \\uf648\\uf64a;': 1,\n 'would condone the': 1,\n 'to make a': 1,\n 'reality that Paul': 1,\n '\\uf645\\uf643\\uf644\\uf64a) \\uf644\\uf64a\\uf644–\\uf64b\\uf64b; and': 1,\n 'away, why should': 1,\n 'As members of': 2,\n 'al-Qaeda and ISIS': 1,\n 'single city, but': 1,\n 'apostle Paul has': 1,\n 'aim is to': 1,\n 'willingness to engage': 1,\n 'with frequent injunctions': 1,\n 'political life of': 1,\n 'L. Horta; New': 1,\n 'cosmopolitanism as ‘a': 1,\n '\\uf644\\uf648\\uf64b CHR I': 1,\n '‘globalisation’ and neo-capitalism.\\uf645\\uf643': 1,\n 'provided the social': 1,\n 'neo-cosmopolitan rejection of': 1,\n 'did not flout': 1,\n 'are often cited': 1,\n 'forces of darkness': 1,\n 'compare Paul’s letters': 1,\n 'underestimate the extent': 1,\n 'the polis/colonia. Even': 1,\n 'nations’ (a term': 1,\n 'ordained to promote': 1,\n 'by contrast, offered': 1,\n 'references to people': 1,\n 'status, including poor': 1,\n 'also reflects his': 1,\n 'Paul and Cynic': 1,\n 'Eminent Philosophers (\\uf649.\\uf649\\uf646),': 1,\n 'Jewish Torah or': 1,\n '– but the': 1,\n 'that the universal': 1,\n 'to the broader': 1,\n 'the collapse of': 1,\n 'all circumstances. I': 1,\n 'his teachings would': 1,\n 'continuum with ‘churches’': 1,\n 'could not have': 1,\n 'must begin at': 1,\n 'unlike the Stoic': 1,\n 'renounce central elements': 1,\n 'cosmopolitan patterns of': 2,\n 'create) a world': 1,\n 'was exists’ (B.': 1,\n 'cultures are defined': 1,\n 'But the highest': 1,\n 'world order. Those': 1,\n 'Greek, Neither Slave': 1,\n 'E. Brown, ‘Stoic': 1,\n 'world. This is': 1,\n 'a sharp break': 1,\n 'the Roman empire.': 1,\n 'if they could': 1,\n 'that it reflects': 1,\n 'a unified, divinely': 1,\n 'in other Stoic': 1,\n 'followers of God': 1,\n 'cosmopolitanism of Kant': 1,\n 'ideas regarding the': 1,\n 'of Christ to': 1,\n 'hardly be labelled': 1,\n 'men. Such a': 1,\n 'the new world-view': 1,\n 'speaks explicitly about': 1,\n 'an unexpected resurgence': 1,\n 'concept came in': 1,\n 'of Cosmopolitanism’, After': 1,\n 'the Stoics apply': 1,\n 'Cynics. \\uf648 While': 1,\n 'and thus ‘under': 1,\n 'others, followers of': 1,\n 'used here and': 1,\n '\\uf644.\\uf645 Cosmopolitanism under': 1,\n 'the first section': 1,\n 'i.e. to critique': 1,\n 'is used here': 2,\n 'The New Cosmopolitanism': 1,\n 'the wiles of': 1,\n 'as they aimed': 1,\n 'for oppression and': 1,\n 'just as he': 1,\n 'Western intellectuals. Colonial': 1,\n 'the Jews. Nothing': 1,\n 'establish a unified': 1,\n 'enjoyed in common': 1,\n 'differences must be': 1,\n 'called Christ-followers to': 1,\n 'present in every': 1,\n 'true: they were': 1,\n 'destinies. Justice and': 1,\n 'his theology nor': 1,\n 'whose worship provided': 1,\n 'see Ferguson, Utopias,': 1,\n 'ideas can be': 1,\n 'Messiah of the': 1,\n 'that the whole': 1,\n 'nature are not': 1,\n 'at \\uf644\\uf643–\\uf644\\uf644; A.': 1,\n '\\uf644–\\uf644\\uf643, at \\uf645–\\uf646.': 1,\n '(c) Socialist cosmopolitanism,': 1,\n 'beliefs, practices and': 1,\n 'reflection on the': 1,\n 'experiences rather than': 1,\n 'other Cynic works': 1,\n 'seems to have': 1,\n 'Paul differs markedly': 1,\n 'worthless, and Plato': 1,\n 'and involved the': 1,\n 'who possessed a': 1,\n 'abandoning the gods': 1,\n '\\uf645. Paul the': 1,\n '‘The Cosmopolitical –': 1,\n 'Jewish community (a': 1,\n 'Christ to new': 1,\n 'side can be': 1,\n 'Greek, a Phrygian': 1,\n 'influence. Paul’s negative': 1,\n 'cf. Gal \\uf644.\\uf644\\uf646–\\uf644\\uf647;': 1,\n 'does he cite': 1,\n 'TANLEY deities besides': 1,\n 'as Christ-followers were': 1,\n 'The best way': 1,\n 'education to know': 1,\n 'aimed to unite': 1,\n 'is a thoroughly': 1,\n 'of cosmopolitanism on': 1,\n 'church developed over': 1,\n 'the question of': 1,\n 'gymnasia and even': 1,\n 'their nationality or': 1,\n 'drawn about him': 1,\n 'the door for': 1,\n 'at meals, condemning': 1,\n 'to beings that': 1,\n 'CE), who in': 1,\n 'have viewed his': 1,\n 'Antiquity and Its': 1,\n 'strong following in': 1,\n 'in the God': 1,\n '(and Greeks and': 1,\n 'developed a vision': 1,\n '(\\uf646\\uf646\\uf647–\\uf645\\uf649\\uf645 BCE), who': 1,\n 'recently, questions have': 1,\n 'the city.\\uf64a As': 1,\n '‘The Idea of': 1,\n '‘Roman Cosmopolitanism: The': 1,\n 'the supposedly ‘cosmopolitan’': 1,\n 'most scholars have': 1,\n 'bearing up under': 1,\n '\\uf649\\uf644; McMahon, ‘Fear': 1,\n 'margins of civic': 1,\n 'the violent suppression': 1,\n 'the nature of': 3,\n 'Cynics, it is': 1,\n 'people and slaves,': 1,\n 'and Plato just': 1,\n 'his group were': 1,\n 'at \\uf644\\uf646; R.': 1,\n 'through their exercise': 1,\n 'the ideological or': 1,\n 'outsiders. As Western': 1,\n 'and other critiques,': 1,\n 'Western (or Western-influenced)': 1,\n 'project in the': 1,\n 'not of achieved': 1,\n 'Stoics were ambivalent': 1,\n 'TOPHER D .': 9,\n 'but has become': 1,\n 'the ‘cosmopolitan’ thinking': 1,\n 'have anything good': 1,\n 'path to virtue.': 1,\n 'and Solidarity in': 1,\n 'might seem ‘cosmopolitan’': 1,\n 'me to explore': 1,\n 'Jesus as the': 1,\n 'Male and Female’,': 1,\n 'judgement (Rom \\uf645.\\uf644\\uf649;': 1,\n 'the cosmopolitan models': 1,\n 'the world in': 1,\n 'the local polis/colonia).\\uf645\\uf64c': 1,\n 'The Future of': 1,\n 'nation-state that would': 1,\n 'protect them from': 1,\n 'wished to join': 1,\n 'part of the': 1,\n '\\uf644.\\uf645\\uf64b; \\uf64a.\\uf645\\uf646, \\uf645\\uf648;': 1,\n 'University Press, \\uf645\\uf643\\uf643\\uf64c)': 2,\n 'Neither Slave nor': 1,\n '(or not practise)': 1,\n 'colonial trappings. The': 1,\n 'in public, among': 1,\n 'will take place': 1,\n 'known as Stoicism.': 1,\n 'fills and energises': 1,\n 'discovery of ‘Third': 1,\n 'already given us': 1,\n 'Daedalus \\uf644\\uf646\\uf64a (\\uf645\\uf643\\uf643\\uf64b)': 2,\n 'be confronted and': 1,\n 'cosmopolitical alter ego': 1,\n 'Christian principles to': 1,\n 'Irving, eds., Whose': 1,\n 'Western cosmopolitanism as': 1,\n 'Justinian (Princeton: Princeton': 1,\n 'intact through the': 1,\n 'build a community': 1,\n 'the highest loyalty': 1,\n 'Johnson, ‘On Church': 1,\n 'way to global': 1,\n 'In this he': 1,\n 'the same and': 1,\n 'leading too easily': 1,\n 'promise to bring': 1,\n 'in recent years,': 1,\n 'an institutional standpoint,': 1,\n 'medieval Europe (including': 1,\n 'on the perspective': 1,\n 'remain firm to': 1,\n 'be enjoyed in': 1,\n '\\uf646.\\uf644\\uf644 are often': 1,\n 'divine sonship and': 1,\n 'he speaks of': 1,\n 'the social environment': 2,\n 'we encounter in': 1,\n 'what he had': 1,\n 'can replace the': 1,\n 'effort to assess': 1,\n 'of sectarians. A': 1,\n 'by similar concerns,': 1,\n 'he \\uf646\\uf643 He': 1,\n 'extent to which': 1,\n 'of the Stoics.': 1,\n 'their city, including': 1,\n 'by nature –': 1,\n 'identity and civic': 1,\n 'suppressing the worship': 1,\n 'how they should': 1,\n 'and institutions are': 1,\n 'of Rome’s cosmopolitan': 1,\n 'are proposed by': 1,\n 'orderly sphere governed': 1,\n 'York University Press,': 1,\n 'meant by this': 1,\n 'in scope and': 1,\n 'thought to the': 1,\n '(\\uf644\\uf648\\uf648 CE) glories': 1,\n 'Nowhere in his': 2,\n 'empire. See, for': 1,\n 'life also gave': 1,\n 'to bring some': 1,\n 'interdisciplinary field of': 1,\n 'everywhere. \\uf645. Paul': 1,\n '‘Christianity’ on the': 1,\n 'Cosmopolitanism Reader (ed.': 1,\n 'of course aware': 1,\n 'as a thoroughly': 1,\n '\\uf644 Cor \\uf64c.\\uf645\\uf643–\\uf646)': 1,\n 'reveal a cosmopolitan': 1,\n 'in Late Classical': 1,\n 'status did not': 1,\n 'on the other,': 1,\n 'book. \\uf644\\uf648\\uf647 CHR': 1,\n 'Their aim was': 1,\n '\\uf646\\uf648 On popular': 1,\n 'be difficult to': 1,\n 'social environment in': 2,\n 'Feminist and Vernacular': 2,\n 'loyalty is due': 1,\n 'was driven by': 1,\n 'balanced with planetary': 1,\n 'done for illegitimate': 1,\n 'Everyone must be': 1,\n 'An Archaeological Critique': 1,\n 'few places where': 1,\n 'scriptures, and any': 1,\n 'Fortress, \\uf645\\uf643\\uf644\\uf644) \\uf648\\uf646–\\uf649\\uf644;': 1,\n '\\uf647\\uf647; Douzinas, ‘Metaphysics’,': 1,\n 'the civic cult,': 1,\n 'and that humans': 1,\n 'that are rooted': 1,\n 'still ‘no’. One': 1,\n 'willing to make': 1,\n 'that had given': 1,\n 'the divine order.': 1,\n 'some higher cosmopolitan': 1,\n 'on this point,': 1,\n 'other apocalyptic thinkers.': 1,\n 'read Paul in': 1,\n 'about personal involvement': 1,\n 'the civic deities': 1,\n 'model focuses on': 1,\n 'of imperialism and': 1,\n 'who stand under': 1,\n 'social reality closer': 1,\n 'loyalty is not': 1,\n 'claims and \\uf646\\uf648': 1,\n '(global, post-national, transnational': 1,\n 'than they do.': 1,\n 'God. In Rom': 1,\n 'followers as citizens': 1,\n 'views of people': 1,\n 'G. Downing, Cynics,': 1,\n 'escaped us under': 1,\n 'practice. We are': 1,\n 'which might have': 1,\n 'Studiorum Novi Testamenti': 1,\n 'by ‘the god': 1,\n 'his community as': 1,\n 'that he viewed': 1,\n 'get involved in': 1,\n 'the divine realm': 1,\n 'exclude bad people': 1,\n 'masturbated in public,': 1,\n 'τινος). As a': 1,\n 'thought and practice.': 1,\n '‘sects’ at the': 1,\n 'involved in politics?': 1,\n 'and status did': 1,\n 'recent scholarly claims': 1,\n 'including the right': 1,\n 'Cynics than later': 1,\n 'is the inevitable': 1,\n '(\\uf644 Cor \\uf644\\uf643.\\uf644\\uf647)': 1,\n 'in Aelius Aristides': 1,\n 'days since infancy.': 1,\n 'Braidotti, P. Hanafin': 1,\n 'swept away, why': 1,\n 'of the formerly': 1,\n 'Reason. Reason is': 1,\n 'respected by a': 1,\n 'apocalyptic literature. A': 1,\n 'reflects the cosmopolitan': 1,\n 'reference to Paul),': 1,\n 'or institutional system.': 1,\n 'of the Cynics': 1,\n 'we want Paul': 1,\n '‘Pauline Agency in': 1,\n 'an Uneven World': 1,\n 'Johnson that arrayed': 1,\n 'of temptation and': 1,\n 'surround popular uses': 1,\n 'and loyalties to': 1,\n 'were to be': 1,\n 'see J. Haggis,': 1,\n 'foundations of Western': 1,\n 'backwaters of intellectual': 1,\n 'that originate in': 1,\n 'their differences in': 1,\n 'the parousia of': 1,\n 'theoretical guide to': 1,\n 'new social order).': 1,\n 'disparate tribes are': 1,\n 'activity outside marriage': 1,\n 'only one element': 1,\n 'of division, including': 1,\n 'Judaism, a religion': 1,\n '\\uf644\\uf643–\\uf644\\uf648. \\uf644\\uf645 For': 1,\n 'a common moral': 1,\n 'he was interested': 1,\n 'theorising? Do his': 1,\n 'the vital importance': 1,\n 'and the Stoics': 1,\n 'supreme virtue and': 1,\n 'the seminar, William': 1,\n 'Campbell, Kathy Ehrensperger,': 1,\n 'into a philosophy': 1,\n 'in every individual,': 1,\n 'have only made': 1,\n 'us his answer': 1,\n 'remained deeply rooted': 1,\n 'Press, \\uf645\\uf643\\uf644\\uf643) \\uf645\\uf64a–\\uf647\\uf647;': 1,\n '\\uf644. A Brief': 1,\n 'was and remained': 1,\n 'to join his': 1,\n 'to Justinian (Princeton:': 1,\n 'in fact connected': 1,\n 'Keywords: Paul, Cynic,': 1,\n 'disputes between various': 1,\n 'the formerly colonised': 2,\n 'conviction that (a)': 1,\n 'global democratic institutions': 1,\n 'amount of resocialisation': 1,\n 'more harmonious society': 1,\n 'uncertainty attaches to': 1,\n 'Apollos in his': 1,\n 'of ideas ‘cosmo-': 1,\n 'the negative opinions': 1,\n 'that differed markedly': 1,\n 'resocialisation into the': 1,\n 'it experienced an': 1,\n 'his only thought': 1,\n 'a cosmopolitan community?': 1,\n 'relations with Judaism': 1,\n 'sectarian.\\uf646\\uf649 \\uf646\\uf649 Here': 1,\n 'to that question,': 1,\n '‘sons’. Given this': 1,\n 'them from the': 2,\n 'third point on': 1,\n 'pluralism as leading': 1,\n 'William Campbell, Kathy': 1,\n 'they pursue their': 1,\n 'as potential sources': 1,\n 'of the people-group': 1,\n 'whole are when': 1,\n '‘all who put': 1,\n 'has been seriously': 1,\n 'and pluralism as': 1,\n 'sectarian movements. \\uf646.': 1,\n 'the outcome but': 1,\n 'Cynics, \\uf644\\uf647–\\uf645\\uf646. \\uf64a': 1,\n 'to ‘the Other’.': 1,\n 'and Christian Origins': 1,\n 'us who are': 1,\n 'and more recently': 1,\n 'the New Cosmopolitanism:': 2,\n 'are cosmopolitan’ (Werbner,': 1,\n 'a new identity': 1,\n 'he taught that': 1,\n 'culture… that transforms': 1,\n 'to the present.': 1,\n 'of the polis/colonia,': 1,\n 'does not fit': 1,\n 'of internationalist programmes': 1,\n 'term ‘Jewish’ in': 1,\n 'think so, especially': 1,\n 'rejecting all forms': 1,\n 'of diversity. As': 1,\n 'the Stoics. \\uf645\\uf64c': 1,\n 'all cosmopolitan thinking.': 1,\n 'Thess \\uf648.\\uf648). He': 1,\n 'a clear and': 1,\n 'which all merely': 1,\n 'in an effort': 1,\n 'Bonaventure, NY 14887,': 1,\n 'room for cosmopolitan': 1,\n 'a continuum with': 1,\n 'Rom \\uf644.\\uf644\\uf64b–\\uf646\\uf645 he': 1,\n 'more recently by': 1,\n 'Christ-followers did, nor': 1,\n 'single tribe (φῦλον)': 1,\n 'cf. \\uf644 Cor': 2,\n 'for what a': 1,\n 'Critique of Cosmopolitanism’,': 1,\n 'Paul is working': 1,\n 'a profound concern': 1,\n '\\uf644\\uf646\\uf643–\\uf647. For the': 1,\n '(Rom \\uf646.\\uf645\\uf64c–\\uf646\\uf643) and': 1,\n 'this world’ (\\uf645': 1,\n 'their community; all': 1,\n 'mores regarding sex,': 1,\n 'focuses on the': 2,\n 'politics? So at': 1,\n 'its eventual melding': 1,\n 'a more harmonious': 1,\n 'since virtually all': 1,\n 'The nature of': 1,\n 'hand and Greek': 1,\n 'Galatians, Carians or': 1,\n '\\uf644\\uf648\\uf646 Finally, they': 1,\n 'Cor \\uf644\\uf644.\\uf645\\uf645). His': 1,\n 'such as we': 2,\n 'order. Christ-followers did': 1,\n 'Their thinking also': 1,\n 'collections of excerpts': 1,\n 'of others, promoting': 1,\n 'or individuals.\\uf644\\uf64a Post-colonial': 1,\n 'the culture of': 1,\n 'locally based forms': 1,\n 'Cor \\uf64c.\\uf645\\uf643–\\uf646) in': 1,\n 'righteousness under the': 1,\n 'Christians want Paul': 1,\n '\\uf644\\uf648\\uf643 CHR I': 1,\n 'climate change, communic-': 1,\n 'G. Prakash, ‘Whose': 1,\n 'on the eighth': 1,\n 'philosophy.\\uf645\\uf649 Like the': 1,\n 'who ‘have faith': 1,\n 'have agreed with': 1,\n 'is no cosmopolitan': 1,\n 'for the creation': 1,\n 'Letters in Context’': 1,\n 'NC: Duke University': 1,\n 'formerly colonised peoples;': 1,\n 'apply Christian principles': 1,\n 'to be swept': 1,\n 'European versions of': 1,\n 'more on Cicero’s': 1,\n 'their people and': 1,\n 'Classical Athens and': 1,\n 'as globalisation, neo-liberalism': 1,\n 'manner. Such an': 1,\n 'see F. G.': 1,\n 'as Stoicism. Zeno’s': 1,\n 'odds with scholars': 1,\n 'and ‘barbarians’, having': 1,\n 'American successors of': 1,\n 'Europe (including the': 1,\n 'Theory (Cambridge: Cambridge': 1,\n 'would have produced': 1,\n 'insists that they': 1,\n 'idealised vision into': 1,\n 'prevail everywhere. \\uf645.': 1,\n 'Cynics. My reasons': 1,\n 'devil or their': 1,\n 'kosmos is permeated': 1,\n 'approval if they': 1,\n 'third level of': 1,\n 'and practices that': 2,\n 'reports are trustworthy,': 1,\n 'flexible: cf. \\uf644': 1,\n 'norms, but few': 1,\n 'find acceptance within': 1,\n 'in both ethnic': 1,\n 'the physical cosmos': 1,\n 'of the fountainheads': 1,\n 'insist that cultural': 1,\n 'mind of the': 1,\n 'does share many': 1,\n 'had to pass': 1,\n 'others’ and ‘feelings': 1,\n 'the context shows': 1,\n 'many, would have': 1,\n 'than we might': 1,\n 'Christ at his': 1,\n 'and the Early': 1,\n 'spreading the blessings': 1,\n 'for the community': 1,\n '\\uf645\\uf649 The parallels': 1,\n 'theology of global': 1,\n '(e.g. Greek and': 1,\n 'leaders of apocalyptic': 1,\n 'in Gal \\uf646.\\uf645\\uf64b': 1,\n 'but few questions': 1,\n 'the Kindness of': 1,\n 'psychology and hybridity).': 1,\n 'use it to': 1,\n 'the system of': 1,\n 'appreciation of diversity.': 1,\n 'God’s judgement and': 1,\n 'Horta, \\uf644\\uf64b\\uf64c–\\uf645\\uf643\\uf643, at': 1,\n 'aspect of Greek': 1,\n 'moving on to': 1,\n 'Christ-followers. In the': 1,\n '(SNTS) meeting in': 1,\n 'were inseparably tied': 1,\n 'the claim that': 1,\n 'on the ‘cosmopolitan’': 1,\n 'Latin Authors on': 1,\n 'D. STANLEY Department': 1,\n 'society operating on': 1,\n 'to build a': 1,\n 'he working towards': 1,\n 'followers must ‘flee': 1,\n 'summarised from ‘Cosmopolitan': 1,\n 'of places where': 1,\n 'Jews and Judaism:': 1,\n 'a thoroughly Jewish': 1,\n 'oriented groups are': 2,\n 'in the Study': 1,\n '‘have faith in': 1,\n 'rulers in turn': 1,\n 'and colonised. Its': 1,\n 'that is thoroughly': 1,\n 'which it Paul': 1,\n 'to one’s own': 1,\n 'the nineteenth-century colonial': 1,\n 'just as capable': 1,\n 'do. He does': 1,\n '(ed. C. D.': 1,\n 'Paul’s theology is': 1,\n 'through the ongoing': 1,\n 'swear allegiance to': 1,\n 'Judaism). Do these': 1,\n '(St. Louis: Chalice,': 1,\n 'is foreign to': 1,\n '\\uf644.\\uf644\\uf64b; \\uf645 Cor': 1,\n 'an orderly sphere': 1,\n '\\uf644\\uf64c Noted especially': 1,\n '(ed. G. W.': 1,\n 'ekkles̄ia. Whether he': 1,\n 'local level and': 1,\n 'as a whole.': 1,\n 'do see in': 1,\n 'should think about': 1,\n 'and Apollos in': 1,\n 'Greeks viewed as': 1,\n 'of the Lord': 1,\n 'on early Stoic': 1,\n 'from the formerly': 1,\n 'and his followers': 1,\n '\\uf645.\\uf645 Paul and': 1,\n 'whose vision for': 1,\n 'New Cosmopolitanism As': 1,\n 'Cosmopolitanism’, Cosmopolitics, ed.': 1,\n 'in the upper': 1,\n 'the various ways': 1,\n 'he did with': 1,\n 'It is hard': 1,\n 'is also present': 1,\n 'world, but it': 1,\n 'stand under God’s': 1,\n 'his group consist': 1,\n 'Christian Origins II': 1,\n 'empire of Rome': 1,\n 'exposing the European': 1,\n 'was inseparably tied': 1,\n '\\uf645.\\uf644\\uf644), but ‘the': 1,\n 'York: Routledge, \\uf644\\uf64c\\uf64c\\uf64b);': 1,\n 'towards intellectual and': 1,\n 'including the way': 1,\n 'such as Paul': 1,\n 'he offers in': 1,\n 'Spencer, Cosmopolitan Criticism,': 1,\n 'They could no': 1,\n 'and the growing': 1,\n 'Roman imperialism/colonialism while': 1,\n 'their own desires': 1,\n 'in which all': 2,\n 'rules over all': 1,\n 'reply: ‘κοσμοπολíτης’. In': 1,\n 'exploration and conquest.': 2,\n 'other cultures are': 1,\n 'Jewish) or that': 1,\n 'recently, Karin Neutel': 1,\n 'modernist project more': 1,\n 'eaten raw meat,': 1,\n 'one another through': 1,\n 'his activity is': 1,\n 'Col \\uf646.\\uf644\\uf644 come': 1,\n 'reflected in the': 1,\n 'father of all': 1,\n 'to these various': 1,\n 'of course affirm': 1,\n 'this ‘cosmopolitan’ vision)': 1,\n 'of relating to': 1,\n 'to the diverse': 1,\n 'lives that categorised': 1,\n 'that Christ-followers such': 1,\n '\\uf645\\uf643\\uf643\\uf64b) \\uf644\\uf646–\\uf646\\uf643, at': 1,\n 'or the ‘law': 1,\n 'radical transformation which': 1,\n 'have offered a': 1,\n 'but Christ-followers were': 1,\n 'and influence, the': 1,\n 'the reports are': 1,\n 'and intervening from': 1,\n 'known, as is': 1,\n 'Christ-followers to embrace': 1,\n 'of ‘a common': 1,\n 'his apocalyptic vision': 2,\n 'of the Soviet': 1,\n 'Churches: Cynic and': 1,\n 'community; all were': 1,\n 'could fit under': 1,\n 'which explores how': 1,\n 'of the usual': 1,\n 'a holistic vision': 1,\n 'the rulers in': 1,\n 'oppression and abuse': 1,\n 'Thess \\uf647.\\uf644\\uf648–\\uf644\\uf64a); he': 1,\n 'and elsewhere in': 1,\n 'this model, see': 1,\n 'energises the cosmos.': 1,\n 'world-view, social identity': 1,\n 'give way to': 1,\n 'or by illicit': 1,\n 'faith in Christ,': 1,\n 'while those who': 1,\n 'all of humanity': 1,\n 'other Greeks viewed': 1,\n 'genuine interchange among': 1,\n 'can be said': 4,\n 'each person has': 1,\n 'civic politics. He': 1,\n 'polis or the': 1,\n 'sons (and occasion-': 1,\n 'advocated the use': 1,\n 'a Christ-follower, but': 1,\n 'said for Paul’s': 3,\n 'vision of Stoic': 1,\n 'have had to': 2,\n 'he advocated the': 1,\n 'on God’s side': 1,\n 'humans being made': 1,\n 'or practices. Not': 1,\n 'transformation can only': 1,\n 'example of ignoring': 1,\n 'Cosmopolitics: Thinking and': 1,\n 'of Religion: Secularization,': 1,\n 'oikoumene.̄ In this': 1,\n 'the nascent movement.': 1,\n 'is invariably constructed': 1,\n 'some. This is': 1,\n 'salvation and become': 1,\n 'universalistic premises of': 1,\n 'in common by': 2,\n 'Romanness.’\\uf644\\uf643 With the': 1,\n 'of faithful followers': 1,\n 'and promote international': 1,\n 'I examine how': 1,\n 'As a contextual': 1,\n 'use the term': 1,\n 'of a cosmopolitan': 2,\n 'us to identify': 1,\n 'classed them with': 1,\n 'they naturally presupposed': 1,\n 'affiliation of Christianity': 1,\n 'He is especially': 1,\n 'language about all': 1,\n 'location in the': 1,\n 'Gerald Downing in': 1,\n 'the Ciceronian vision': 1,\n 'the local ekkles̄ia,': 1,\n 'thinking. Nowhere in': 1,\n 'about the universalistic': 1,\n 'While it is': 1,\n 'those who look': 1,\n 'violence against both': 1,\n 'close affiliation of': 1,\n 'any ‘cosmopolitan’ vision': 1,\n 'kin group’ (γένους': 1,\n 'at least runs': 1,\n 'nudge social reality': 1,\n 'under a single': 1,\n 'inseparably tied to': 2,\n 'quite different from': 1,\n 'held (and taught': 1,\n '(\\uf644\\uf64c\\uf64c\\uf649) \\uf647\\uf648\\uf647–\\uf649\\uf645; F.': 1,\n '\\uf648\\uf644, \\uf648\\uf64a; R.': 1,\n 'series of global': 1,\n 'whose minds and': 1,\n 'Downing in several': 1,\n 'will become clear': 1,\n 'peers. Even so,': 1,\n 'Cynic.\\uf645\\uf64b Despite these': 1,\n 'H. Feldman, Jew': 1,\n 'the basic premise': 1,\n '[God]’ is unknowable': 1,\n 'Franciscan Studies, St.': 1,\n 'on the cosmopolitanism': 1,\n 'under the newer': 1,\n 'particular groups or': 1,\n '\\uf644.\\uf645\\uf64a in mind': 1,\n 'to the teachings': 1,\n 'with scholars such': 1,\n 'could remain a': 1,\n 'the rise of': 3,\n 'their followers.\\uf645\\uf648 Efforts': 1,\n 'it as authentic': 1,\n '\\uf645\\uf643\\uf643\\uf64c) \\uf645\\uf64b; D.': 1,\n 'that he visited,': 1,\n 'white European (and': 1,\n 'philosophers such as': 1,\n 'the elites; the': 1,\n 'similar to that': 2,\n 'all kinds of': 1,\n 'leaders ‘a kind': 1,\n 'The following material': 1,\n 'nation or people.': 1,\n 'become children of': 1,\n '\\uf647\\uf648\\uf647–\\uf649\\uf645; F. G.': 1,\n 'in politics, they': 1,\n 'faith (Christianity), culture': 1,\n 'but it also': 1,\n '(γένος). Daniel Richter': 1,\n 'reigns in and': 1,\n '(\\uf645\\uf643\\uf643\\uf64a) \\uf64a\\uf644\\uf648–\\uf645\\uf64b. \\uf644\\uf649': 1,\n 'Christ, when the': 1,\n 'such a theory,': 1,\n 'traumatic. Joining the': 1,\n 'he elsewhere describes': 1,\n 'about the Jewish': 1,\n 'and even marriage.': 1,\n 'the way in': 2,\n 'is a revised': 1,\n 'in harmony with': 2,\n 'lifestyle that they': 1,\n 'this idealised vision': 1,\n 'Cynic, Stoic, cosmopolitan,': 1,\n 'where he speaks': 1,\n 'Cynics, who eschewed': 1,\n 'or people. The': 1,\n 'and present. Cosmopolitan': 1,\n '‘the Greco-Roman world’.': 1,\n 'a cosmopolitan thinker?': 1,\n 'nationalism of the': 1,\n 'way when he': 1,\n 'mindset of Roman': 1,\n 'top of this,': 2,\n 'transformation of Stoic': 1,\n 'also what he': 1,\n 'within the polis/colonia.': 1,\n 'Paul, Cynic, Stoic,': 1,\n 'social and political': 1,\n 'imposed from outside.': 1,\n 'leaves room for': 1,\n 'Greek & Roman': 1,\n 'see any affirming': 1,\n 'deceived by the': 1,\n 'is, in a': 1,\n 'humans should fulfil': 1,\n 'of sectarian movements.': 1,\n 'lived, most scholars': 1,\n 'the Stoics is': 1,\n 'ideas and institutions': 1,\n 'it was no': 1,\n 'that were inseparably': 1,\n 'through Postcolonial Eyes': 1,\n 'in a couple': 1,\n 'the visions promoted': 1,\n '\\uf648\\uf64c, \\uf649\\uf643, \\uf649\\uf646,': 1,\n 'follow. Paul, by': 1,\n 'insofar as we': 1,\n 'have failed in': 1,\n 'what Jews believed': 1,\n 'New Millennium (ed.': 1,\n 'The life of': 1,\n 'about both the': 1,\n 'fact stands far': 1,\n 'for Paul’s views': 1,\n 'His identity was': 1,\n 'multiplication of ‘cosmopolitanisms’': 1,\n 'social psychology and': 1,\n 'who eschewed involvement': 1,\n 'Paul’s relations with': 1,\n 'up under adversity': 1,\n 'mutual openness to': 1,\n 'in the blessings': 1,\n 'and Stoic philosophers': 1,\n '\\uf645\\uf64c The same': 1,\n 'against both Donatists': 1,\n 'of the other': 1,\n '\\uf644–\\uf646\\uf643, at \\uf644\\uf644).': 1,\n 'firm to the': 1,\n 'posed by climate': 1,\n 'between various types': 1,\n 'has been a': 1,\n 'If this understanding': 1,\n 'as members of': 1,\n 'so, most seem': 1,\n 'God-given ‘sword’.\\uf646\\uf647 Similar': 1,\n 'empire is, in': 1,\n 'various ways in': 2,\n 'in his view': 1,\n 'institutions must be': 1,\n 'nineteenth-century colonial and': 1,\n 'to indicate that': 1,\n 'cultural borrowings and': 1,\n 'ekklesia of Christ-followers:': 1,\n 'regarded freedom as': 1,\n 'thinking, whether past': 1,\n 'the other questions': 1,\n '(a term that': 1,\n ...}"
     },
     "execution_count": 10,
     "metadata": {},
     "output_type": "execute_result"
    }
   ],
   "source": [
    "ngram_dict"
   ],
   "metadata": {
    "collapsed": false,
    "ExecuteTime": {
     "end_time": "2023-05-07T11:00:52.562768Z",
     "start_time": "2023-05-07T11:00:52.553432Z"
    }
   }
  },
  {
   "cell_type": "code",
   "execution_count": 12,
   "outputs": [
    {
     "data": {
      "text/plain": "{'\\uf644\\uf649\\uf643': 1,\n 'boundary-crossing,': 2,\n '\\uf647.\\uf644–\\uf64a).': 1,\n 'B.': 6,\n 'abolished': 1,\n '‘Solidarity': 1,\n 'hated': 1,\n 'Christ': 3,\n 'growing': 2,\n 'runs': 1,\n '\\uf645\\uf643\\uf644\\uf644)': 4,\n 'came': 4,\n 'Criticism’': 1,\n '\\uf64b\\uf649–\\uf64a.': 1,\n 'exposing': 1,\n 'wanderer': 1,\n 'allowed': 1,\n 'teachings': 5,\n 'nations;': 1,\n 'opposite': 3,\n 'field': 1,\n 'cosmopolitanism;': 1,\n 'Kleingeld,': 1,\n 'vision,': 3,\n 'Mitsis,': 1,\n 'relatively': 2,\n 'real-world': 1,\n 'humanity': 9,\n 'final': 1,\n 'proliferation;': 1,\n 'trustworthy,': 1,\n 'began': 2,\n '\\uf644.\\uf644\\uf646–\\uf644\\uf647;': 1,\n 'embrace': 5,\n 'traces': 1,\n 'my': 1,\n 'parallels': 2,\n 'duties': 4,\n 'society': 9,\n 'did,': 2,\n 'treated': 3,\n 'Brief': 1,\n '\\uf645.\\uf644\\uf64c': 1,\n 'standing': 1,\n 'Western': 19,\n 'constituted': 1,\n 'years,': 1,\n 'Strangers’,': 1,\n '\\uf644\\uf647\\uf648': 1,\n 'Louis:': 1,\n 'cri-': 1,\n 'official': 1,\n '\\uf646.\\uf645\\uf64b,': 1,\n 'so': 6,\n 'Bonaventure': 1,\n 'found': 1,\n 'non-dominant': 1,\n 'reports': 1,\n '\\uf647\\uf64a': 1,\n 'Kathy': 1,\n '‘Reading': 1,\n 'replied,': 1,\n 'how': 13,\n 'righteousness': 1,\n 'targets': 1,\n '‘in': 1,\n 'Cambridge/Malden,': 1,\n 'analysis': 3,\n 'confronted': 1,\n 'following': 2,\n 'Rom': 2,\n 'letters': 9,\n 'devoted': 1,\n 'Solidarity': 1,\n 'thoroughly': 4,\n 'suspect': 1,\n 'selective': 1,\n 'Kindness': 1,\n 'why': 1,\n 'number': 4,\n '\\uf645.\\uf644': 1,\n 'Immanuel': 1,\n 'ideal.': 1,\n '\\uf644\\uf64c\\uf64c\\uf643s,': 1,\n 'Efforts': 1,\n 'glories': 1,\n 'cultures,': 3,\n 'backing': 1,\n 'most': 7,\n 'evident': 1,\n '(\\uf645\\uf643\\uf643\\uf64a)': 2,\n '(implying': 1,\n 'scrutiny': 1,\n '\\uf644\\uf64c\\uf64c\\uf646);': 1,\n 'genuine': 3,\n 'For': 14,\n 'formerly': 4,\n 'apart': 1,\n '(ethical': 1,\n 'Context': 1,\n 'Christian': 15,\n 'summarised': 1,\n 'formula': 1,\n 'Gundry,': 1,\n 'purported': 1,\n '‘civilisation’': 1,\n 'Along': 1,\n '*': 1,\n 'nation-state': 2,\n 'harmony': 3,\n 'Nussbaum,': 1,\n 'Rerouting': 1,\n 'hearts': 1,\n 'belief': 1,\n 'N.': 2,\n 'things.': 1,\n 'students': 1,\n 'believed': 1,\n 'Do': 2,\n 'engagement.': 1,\n 'gender': 1,\n 'vision?': 1,\n 'Unless': 1,\n 'Nation': 1,\n 'unworldly': 1,\n 'bad': 1,\n 'reason.': 1,\n '‘the': 10,\n '\\uf644\\uf64c\\uf64c\\uf649)': 1,\n 'challenges': 1,\n 'NY:': 1,\n 'Christ-movement.': 1,\n 'image': 3,\n 'gods': 3,\n 'necessity': 1,\n 'collective': 1,\n '\\uf644\\uf648\\uf647': 1,\n 'true': 4,\n 'justice,': 1,\n '\\uf644.\\uf646': 1,\n 'reprogrammed': 1,\n 'tradition': 1,\n 'polar': 1,\n 'framed': 1,\n 'by': 68,\n 'Utopias,': 1,\n 'Christianity.': 1,\n '\\uf648\\uf643–\\uf64b,': 1,\n 'The': 48,\n 'pp.': 1,\n 'purpose': 1,\n 'ruling': 1,\n 'insisted': 2,\n 'confusing': 1,\n 'Soviet': 1,\n '(Rom': 17,\n 'detachment,': 1,\n 'authorities:': 1,\n 'relegated': 3,\n 'establishing': 2,\n 'eventually': 1,\n 'Thess': 4,\n 'standards': 2,\n 'Despite': 4,\n 'Cornell': 1,\n 'followers': 7,\n 'Cosmopolitan?*': 1,\n 'cooperation': 3,\n 'M.': 8,\n '‘barbarians’,': 1,\n 'Connections’,': 2,\n '\\uf644\\uf64c\\uf64c\\uf64b);': 1,\n 'anything': 3,\n 'makes': 1,\n 'regarded': 2,\n 'Christ,': 2,\n '\\uf644\\uf648.\\uf648\\uf644–\\uf64a;': 1,\n 'Cicero’,': 1,\n 'sharp': 2,\n '\\uf644\\uf64b\\uf64c–\\uf645\\uf643\\uf643,': 1,\n 'crucified': 1,\n 'peers.': 1,\n 'programme': 1,\n '(Cambridge:': 1,\n 'nation-states': 2,\n 'enjoyed': 1,\n 'Similar': 2,\n 'burgeoning': 1,\n 'valuation': 1,\n '‘On': 1,\n 'claims': 4,\n 'limit': 1,\n 'planetary': 1,\n 'genos.': 1,\n 'marked': 1,\n 'salvation': 3,\n 'an': 23,\n '‘humanized’': 1,\n 'doubt': 1,\n 'rejecting': 2,\n 'modes': 1,\n '\\uf647.\\uf64b)': 1,\n 'Christ-follower,': 1,\n 'supposedly': 1,\n 'theories:\\uf645\\uf644': 1,\n 'vaguely': 2,\n 'Heaven:': 1,\n 'much': 2,\n 'strategies': 1,\n 'Jewish)': 1,\n 'reconstruct': 1,\n 'enduring': 1,\n 'end.': 1,\n '\\uf644\\uf64c\\uf64c\\uf64a).': 1,\n 'Palgrave': 2,\n 'fulfil': 1,\n 'traumatic.': 1,\n '‘heretics’': 1,\n 'life': 5,\n 'recent': 4,\n 'out': 3,\n 'women': 2,\n 'impacted': 1,\n '(and': 9,\n 'her': 1,\n 'system.': 3,\n '\\uf644\\uf64c\\uf64c\\uf64b)': 1,\n 'Hebrews;': 1,\n 'popularised': 1,\n 'empire.': 1,\n 'differ': 1,\n 'critiques,': 1,\n 'system': 1,\n 'multiplication': 1,\n 'nation': 1,\n 'Perspectives': 2,\n 'odd': 1,\n '(superior)': 1,\n 'around': 4,\n 'judgement': 3,\n 'assert': 1,\n 'parties’.\\uf645\\uf646': 1,\n '\\uf646\\uf643–\\uf64c;': 1,\n 'throughout': 1,\n 'interpretation': 1,\n 'work': 2,\n 'root': 1,\n 'community.': 3,\n 'informed': 1,\n 'Nor': 1,\n 'Cosmopolitanism’,': 8,\n 'synagogue,': 1,\n 'vision': 23,\n 'belief.': 1,\n 'relationships': 1,\n 'types': 1,\n 'hardly': 1,\n 'attempt': 1,\n 'Second,': 1,\n 'loyalties': 2,\n 'taken': 1,\n 'comments': 1,\n 'normative': 2,\n '(the': 1,\n '(a': 3,\n 'disagree': 2,\n '\\uf645\\uf648;': 1,\n 'perspective': 1,\n '‘Roman': 2,\n 'people.': 2,\n 'arrayed': 1,\n 'self-interested’.\\uf644\\uf647': 1,\n 'away,': 1,\n '\\uf646\\uf644.': 1,\n 'philosophy,': 1,\n 'seems': 3,\n 'translate': 1,\n 'lasting': 1,\n 'pages.': 1,\n '\\uf644.\\uf645': 1,\n 'wives': 1,\n 'goes': 1,\n 'exclusivist': 2,\n 'modernist': 1,\n 'cover': 1,\n 'From': 3,\n 'group.': 1,\n 'writings': 2,\n 'Chrysippus': 2,\n 'disparate': 1,\n 'Studies,': 1,\n 'Authors': 1,\n 'distance': 1,\n 'option.': 1,\n 'Empire?’,': 1,\n 'extant,': 1,\n 'offered': 4,\n '\\uf644\\uf648\\uf644': 1,\n 'vols.;': 1,\n '\\uf645–\\uf646.': 1,\n '‘cosmopolitan’.': 2,\n 'universalizing': 1,\n 'testimony': 1,\n 'honour': 1,\n 'denigrate': 1,\n 'internationalist': 1,\n 'Hebrew': 1,\n 'conviction': 3,\n 'fact,': 6,\n 'eulogy': 1,\n 'modicum': 1,\n 'ekkles̄ia.': 1,\n 'conventicles,': 1,\n 'justifies': 1,\n 'free': 1,\n '(Gal': 2,\n 'polis/colonia).\\uf645\\uf64c': 1,\n 'On': 7,\n 'possible': 2,\n 'respect.': 1,\n '\\uf647\\uf643–\\uf649\\uf64c;': 1,\n 'God-given': 2,\n 'Lettevall': 1,\n 'Cosmopolitanisms': 1,\n 'Neutel,': 1,\n 'within': 6,\n '\\uf644\\uf649\\uf646': 1,\n 'Gentiles,': 1,\n 'paternalism.\\uf644\\uf64c': 1,\n 'more': 17,\n 'divine': 14,\n 'Aelius': 1,\n '\\uf648\\uf64a\\uf646–\\uf64c\\uf645;': 1,\n 'life.': 4,\n 'glance': 1,\n 'Greek': 11,\n 'must': 14,\n 'York:': 6,\n 'lifetime': 1,\n 'observe': 1,\n '(\\uf644\\uf64c\\uf649\\uf646)': 1,\n '(andmale-centred)': 1,\n 'cosmopolitanism?': 1,\n 'Berg,': 2,\n 'appears': 1,\n 'intellectuals,': 1,\n 'Richter,': 2,\n 'applying': 1,\n 'carried': 1,\n 'movements.': 1,\n 'visions': 3,\n 'Lives': 2,\n 'rights': 1,\n 'tripartite': 1,\n '‘Galatian’.': 1,\n 'Paul.': 1,\n 'ordered': 3,\n 'successors': 1,\n 'so,': 3,\n 'threats': 1,\n 'intentions': 1,\n 'Two': 1,\n 'According': 1,\n 'Ideal,': 1,\n 'formed': 1,\n 'surround': 1,\n 'efforts': 3,\n 'gives': 1,\n 'doi:10.1017/S0028688519000249': 1,\n 'offensive,': 1,\n 'whether': 6,\n 'Philosophers': 1,\n 'discussed': 1,\n 'prove': 1,\n 'material': 1,\n 'used': 2,\n 'Marchal,': 1,\n 'polis/colonia,': 1,\n 'Societas': 1,\n 'questioned': 1,\n 'turn': 2,\n 'people': 19,\n '‘circumcised': 1,\n 'tantamount': 1,\n 'cosmopolitanism’': 2,\n 'harmonious': 1,\n 'Paul': 72,\n '\\uf644.\\uf644\\uf643;': 1,\n 'Europe.': 1,\n '(Minneapolis:': 1,\n '\\uf647.\\uf647),': 2,\n 'Cor': 24,\n 'post-national,': 1,\n 'νοήματα)': 1,\n 'absent': 1,\n 'literature.': 1,\n 'whole.': 1,\n 'collectively': 1,\n 'about': 23,\n 'purify': 1,\n 'Whether': 4,\n 'temples,': 1,\n 'Gal': 4,\n 'Cheah,': 1,\n 'Christ-followers.': 2,\n 'with': 54,\n '(London/New': 1,\n 'Johnson': 1,\n 'destructive': 1,\n 'truly': 1,\n '\\uf644\\uf648.\\uf645\\uf645;': 1,\n 'endure': 1,\n 'philosophers': 1,\n 'funds': 1,\n 'Minneapolis:': 2,\n 'barrier': 1,\n 'aligning': 1,\n '\\uf648\\uf64a–\\uf64a\\uf649,': 1,\n 'unexpected': 1,\n 'centuries,': 1,\n 'cultures.\\uf644\\uf64b': 1,\n 'dialogue': 2,\n 'insistence': 2,\n 'reason': 1,\n 'is,': 1,\n 'myself': 1,\n 'Laertius’': 1,\n 'life,': 2,\n 'Its': 2,\n 'be': 41,\n 'oneself': 1,\n 'violence': 2,\n 'CE)': 1,\n 'kosmos': 1,\n '\\uf64c\\uf644–\\uf64a;': 1,\n 'ongoing': 1,\n 'parousia': 1,\n 'wiles': 1,\n 'polis,': 1,\n 'colonialism,': 1,\n 'neither': 1,\n '\\uf64c': 1,\n 'conflicts.': 1,\n 'coined)': 1,\n '(Christianity),': 1,\n 'trained': 1,\n 'point': 3,\n '\\uf646\\uf647': 1,\n 'University': 12,\n 'same.': 1,\n 'Jews:': 1,\n 'nations’.': 1,\n 'driving': 1,\n 'collective,': 1,\n 'Empire': 2,\n 'presupposed': 2,\n 'raw': 1,\n 'legalisation': 1,\n '\\uf645\\uf64b': 2,\n 'even': 14,\n 'Bonaventure,': 1,\n 'M.-O.': 1,\n 'offers': 2,\n 'Costas': 1,\n '\\uf644\\uf646–\\uf646\\uf643,': 1,\n 'reward': 1,\n 'perhaps': 1,\n 'possessed': 2,\n 'founders': 1,\n 'later': 5,\n 'collapse': 1,\n '\\uf645.\\uf644\\uf644),': 1,\n 'open,': 1,\n 'profound': 1,\n 'progressing.': 1,\n 'rooted': 3,\n 'gained': 1,\n 'Ioudaios': 1,\n 'considered': 1,\n 'Sceptical': 1,\n 'polis/colonia)': 1,\n 'Irving,': 1,\n 'church': 2,\n 'exercise': 3,\n 'fifth': 1,\n 'evidence': 2,\n 'equally': 2,\n 'individuals.\\uf644\\uf64a': 1,\n 'values': 3,\n 'civic': 12,\n 'Today’,': 1,\n '©': 1,\n 'transcended': 2,\n 'of)': 1,\n 'learned': 2,\n 'He': 14,\n '‘under': 1,\n 'thus': 3,\n 'aim': 3,\n '\\uf644\\uf643.\\uf644\\uf649–\\uf645\\uf644).': 1,\n 'holistic': 1,\n 'produce.\\uf645\\uf645What': 1,\n 'better': 3,\n 'series': 2,\n 'divinely': 2,\n 'for': 68,\n 'legitimate': 1,\n 'potential': 4,\n 'Justinian': 1,\n 'generally),': 1,\n 'Citizens': 1,\n '‘Kant': 1,\n 'thinker': 1,\n 'concerted': 1,\n 'Legacy': 1,\n 'education': 1,\n 'agreed': 1,\n 'humanity.': 1,\n 'human': 15,\n 'West': 1,\n 'unlike': 1,\n '\\uf646\\uf648': 1,\n 'institutional': 2,\n 'highest': 1,\n '\\uf648.\\uf644\\uf645–\\uf645\\uf644;': 1,\n 'between': 7,\n 'Christians': 1,\n 'ordained': 1,\n 'Women,': 1,\n 'few': 4,\n 'As': 11,\n '(Jewish)': 1,\n 'abandon': 1,\n 'negative': 6,\n 'Father.': 1,\n 'influence.': 1,\n 'city.': 2,\n 'USA.': 1,\n '\\uf644\\uf646.\\uf644–\\uf64a).': 1,\n 'never': 3,\n 'nationalism,': 1,\n '\\uf644\\uf644.\\uf645\\uf645).': 1,\n 'effectively': 1,\n 'included.': 1,\n 'colonisers': 1,\n 'politically': 1,\n 'Subaltern’,': 1,\n 'Cosmopolitics,': 1,\n 'remained': 4,\n 'equated': 1,\n 'comes': 2,\n 'elsewhere': 2,\n 'Athens': 2,\n 'agreement.': 1,\n '(τὰ': 1,\n 'wise': 1,\n 'citizenship’': 1,\n 'paradigm': 1,\n '\\uf645\\uf64a': 1,\n 'Christendom': 1,\n 'setting': 1,\n 'ordering': 1,\n 'speak': 2,\n 'respect': 1,\n 'F.': 3,\n 'revised': 1,\n 'sword': 1,\n 'metaphor:': 1,\n 'institutions': 9,\n 'Western-influenced)': 1,\n 'τινος).': 1,\n 'Literature.': 1,\n 'preserved': 1,\n 'Free,': 2,\n 'cite': 1,\n 'sons': 1,\n 'Critique': 2,\n 'Calhoun,': 3,\n 'proposed': 1,\n '‘cosmopolitan': 1,\n 'secularised': 1,\n 'unworthy,': 1,\n 'rather': 7,\n 'slip': 1,\n 'willingness': 2,\n 'off': 1,\n 'Teaching': 1,\n 'reforming': 2,\n 'competing': 2,\n 'newer': 2,\n 'vice': 1,\n 'presented': 2,\n 'achieving': 1,\n 'BCE)': 1,\n 'abstract': 1,\n 'put': 1,\n '‘feelings': 1,\n '(i.e.': 3,\n '\\uf646\\uf646': 2,\n 'History,': 1,\n 'democracy,': 2,\n 'studies’,': 1,\n '‘Judaeans’,': 1,\n '\\uf644\\uf643.\\uf644\\uf647)': 1,\n 'uncertainty': 1,\n 'create)': 1,\n 'occasionally': 1,\n 'serves': 1,\n 'view': 9,\n 'infancy.': 1,\n 'concept': 2,\n 'Werbner,': 1,\n 'Equally': 1,\n 'Brown,': 2,\n 'clinging': 1,\n 'Christ-movement,': 1,\n '‘churches’': 1,\n 'joined': 1,\n 'required': 5,\n 'apostle': 3,\n 'higher': 4,\n 'qualms': 1,\n 'subtle': 1,\n 'opens': 1,\n 'men.': 2,\n '‘world': 1,\n 'Community': 1,\n 'compelled': 1,\n 'Colonial': 1,\n '(cultural,': 1,\n 'Cosmopolitanism:': 4,\n 'vain’': 1,\n 'bearing': 1,\n 'examine': 1,\n 'differently': 1,\n 'structures.': 1,\n 'tribes': 1,\n 'no': 15,\n 'walking': 1,\n 'presuppositions': 1,\n 'conflation': 1,\n '‘[I': 1,\n 'unified,': 1,\n 'Cosmopolitical': 1,\n 'things': 2,\n 'D.': 5,\n 'Downing,': 5,\n '(ed.': 13,\n 'possess': 1,\n 'pass': 1,\n 'gods,': 1,\n 'are': 37,\n 'taught': 4,\n 'Branham': 1,\n 'prevailed': 1,\n 'recognition': 2,\n 'think': 3,\n 'deserving': 1,\n 'aimed': 1,\n 'Gentiles': 1,\n 'Herodotus': 1,\n 'transformed': 2,\n 'August': 1,\n 'frame': 1,\n 'institutions.': 1,\n 'hand,': 1,\n 'follow': 2,\n 'Renewal': 1,\n 'universalism': 1,\n 'defecated': 1,\n 'Historical': 1,\n 'described': 4,\n 'revisioning': 1,\n 'cosmopolitanism’,': 1,\n 'church;': 1,\n '\\uf647\\uf647–\\uf648;': 1,\n 'solidarity.': 2,\n '\\uf645\\uf643.': 1,\n 'coming': 3,\n 'meals,': 1,\n 'describe': 1,\n 'incorporate': 1,\n 'blended': 1,\n 'selectively': 1,\n '\\uf647.\\uf64a).': 1,\n 'structed.': 1,\n 'lives': 4,\n 'T.': 3,\n 'insofar': 4,\n 'competitor': 1,\n 'points': 5,\n 'European': 8,\n 'fulfilment': 1,\n 'rooted,': 1,\n 'near.': 1,\n 'saying.': 1,\n 'Theology': 1,\n 'circumstances.': 1,\n 'contextual': 1,\n 'invariably': 1,\n 'stood': 1,\n 'food': 1,\n 'receptive': 1,\n 'peaceably': 1,\n 'Thought': 1,\n '\\uf645\\uf643': 1,\n 'Ferguson,': 2,\n 'marriage': 2,\n 'intellectual': 5,\n 'occasion-': 1,\n 'That': 1,\n '\\uf644\\uf64c\\uf64b\\uf648)': 1,\n 'towards': 14,\n 'Elusive': 1,\n 'couple': 1,\n 'democratic': 1,\n 'Galatians,': 2,\n 'Humans': 1,\n '‘Introduction’,': 1,\n 'Keywords:': 1,\n 'categorised': 2,\n 'Judaism).': 2,\n 'say': 4,\n 'highly': 1,\n 'shameful.\\uf648': 1,\n '‘a': 4,\n 'outlandish': 1,\n 'have': 60,\n 'Cynics': 7,\n 'minimal': 1,\n 'methodological': 1,\n '\\uf649\\uf644–\\uf64a\\uf646;': 1,\n 'continuum': 1,\n 'If': 5,\n 'favour': 1,\n 'condone': 1,\n 'cosmopolitan': 32,\n 'Jabri,': 1,\n 'developed': 4,\n 'Transnational': 1,\n 'adjustment': 1,\n 'call': 3,\n 'hold': 1,\n '\\uf648.\\uf644\\uf64b–\\uf644\\uf64c;': 1,\n '\\uf647.\\uf646),': 1,\n 'involuntary),': 1,\n 'has': 18,\n 'Pangle,': 2,\n 'Romanness.’\\uf644\\uf643': 1,\n 'beliefs': 2,\n 'well:': 1,\n 'practised': 1,\n 'different': 4,\n 'kinship': 1,\n 'ekklesia': 1,\n 'indication': 1,\n 'socially': 1,\n 'represents': 1,\n '\\uf647\\uf647;': 1,\n '\\uf645\\uf643\\uf643\\uf64b).': 1,\n 'similar': 8,\n '(potentially)': 1,\n 'universalist': 1,\n '\\uf644\\uf64c\\uf643;': 1,\n 'challenge': 1,\n 'Cynic.': 2,\n 'Millennium': 1,\n 'Pauline': 2,\n 'thinking.': 2,\n 'swept': 1,\n 'artefacts': 1,\n 'aside': 1,\n 'other.': 2,\n 'guessed': 1,\n 'νοῦς': 1,\n 'reveal': 4,\n 'universalistic': 2,\n 'injunctions': 2,\n 'Age': 1,\n 'treatment': 1,\n 'firm': 2,\n 'globalisation,': 1,\n 'mass': 1,\n 'path': 1,\n '(e.g.': 2,\n '\\uf644\\uf649': 1,\n 'Towards': 2,\n 'views': 3,\n 'marginalised': 1,\n 'white': 1,\n 'rubrics': 1,\n 'disdained': 1,\n 'exploration': 2,\n 'Cold': 1,\n 'Lettevall,': 1,\n 'Not': 2,\n 'through': 11,\n 'relativised': 1,\n 'owed': 1,\n 'avoided': 1,\n '\\uf644\\uf64b': 1,\n 'To': 3,\n 'societies': 1,\n 'beliefs,': 1,\n 'approaches': 1,\n 'regulated': 1,\n 'still': 2,\n 'sphere': 2,\n 'Nowhere': 2,\n 'Greco-Roman': 3,\n 'century': 3,\n 'Archaeological': 1,\n 'Princeton': 1,\n 'practice,': 2,\n 'same,': 1,\n 'Horta;': 1,\n 'closer': 1,\n 'Cosmopolitanisms,': 1,\n 'migration': 1,\n 'socialised': 2,\n 'Dialectical': 1,\n 'world’': 1,\n 'degenerate.': 1,\n '(European),': 1,\n 'defining': 1,\n 'other': 26,\n 'West.': 1,\n 'rulers': 2,\n 'Such': 4,\n 'experience': 1,\n 'powerful.': 1,\n 'impacts': 1,\n 'regulate': 1,\n 'followers,': 1,\n '\\uf649\\uf64a–\\uf64a\\uf644,': 1,\n 'integrated': 1,\n 'dangerous.': 1,\n 'identity-formation': 1,\n 'world’.': 1,\n 'models': 4,\n 'military': 1,\n 'ties': 2,\n 'specifically': 2,\n '\\uf645\\uf643\\uf644\\uf643)': 2,\n 'outcome': 1,\n 'Judaism,': 3,\n 'exclusivism': 1,\n 'κοινοῦ': 1,\n 'After': 1,\n 'leap.': 1,\n 'theories': 2,\n 'misrepresentations.\\uf646\\uf648': 1,\n 'God.\\uf646\\uf644': 1,\n 'groups.': 1,\n '\\uf644.\\uf644\\uf64c–\\uf645\\uf646;': 1,\n 'Only': 2,\n 'Long,': 1,\n 'anti-colonial': 1,\n 'Fourth,': 1,\n 'Their': 5,\n '\\uf644\\uf648\\uf645': 1,\n 'liberal': 1,\n 'framework': 1,\n 'Franciscan': 1,\n '\\uf644\\uf643': 1,\n 'reflection': 1,\n 'and\\uf644\\uf647\\uf647': 1,\n 'social': 31,\n 'powerlessness': 1,\n 'answer,': 1,\n '(Berkeley:': 1,\n '‘all': 1,\n 'n.': 1,\n 'deities)': 1,\n 'adopted': 2,\n 'CHR': 9,\n 'ultimate': 1,\n 'long': 1,\n 'imperialism': 2,\n 'general': 1,\n 'Early': 1,\n 'substantive': 1,\n 'one-word': 1,\n 'Paul,': 4,\n 'rescue': 1,\n 'elimination': 1,\n 'leaders': 2,\n 'late': 2,\n 'Cross-Cultural': 1,\n '\\uf645.\\uf647': 1,\n 'marriage)': 1,\n '\\uf648\\uf647\\uf645).': 1,\n '‘godless’': 1,\n 'Södertörns': 1,\n 'generally': 2,\n 'critical,': 1,\n '–': 7,\n 'concerned': 2,\n 'obvious': 1,\n 'In': 18,\n 'ruled': 2,\n 'encouraged': 1,\n 'change': 3,\n 'foreigners': 1,\n 'aims': 1,\n 'question': 1,\n 'himself': 3,\n 'subsumed': 1,\n 'religion.': 1,\n 'own': 9,\n 'Romans': 1,\n 'expression': 1,\n 'easily': 1,\n 'coupled': 1,\n 'hierarchies': 1,\n '‘Actually': 1,\n 'where': 9,\n 'Society': 1,\n 'elitism.': 1,\n '(including': 3,\n 'practice': 1,\n 'exposed': 1,\n '\\uf644.\\uf644\\uf648;': 1,\n 'show': 1,\n '\\uf644\\uf646\\uf64a': 2,\n 'would': 30,\n '(b)': 2,\n 'Churches.': 1,\n '\\uf648\\uf647–\\uf64a\\uf64b': 1,\n 'Groups': 1,\n '\\uf644\\uf644\\uf646–\\uf646\\uf64c,': 1,\n 'theologian': 1,\n 'governed': 1,\n 'eaten': 1,\n 'create': 3,\n 'day,': 1,\n '‘Pauline': 1,\n 'Reformation.\\uf644\\uf644': 1,\n 'once': 3,\n 'become': 9,\n 'Bainbridge,': 2,\n '\\uf648\\uf64c,': 1,\n 'conception': 1,\n 'echelons': 1,\n 'backwaters': 1,\n 'intellectuals.': 1,\n 'terms': 1,\n 'progress': 1,\n '‘cults’': 1,\n 'duty': 2,\n 'rendering': 1,\n 'Fortress,': 2,\n 'crude': 1,\n 'interested': 1,\n 'involved': 3,\n 'look': 2,\n 'others’': 1,\n 'despised': 2,\n 'Rome': 4,\n 'Kang': 1,\n '(though': 2,\n 'persuaded': 1,\n 'not,': 1,\n 'energises': 1,\n 'cosmos': 3,\n '‘immoral’.': 1,\n 'market,': 1,\n 'together': 4,\n 'movement': 6,\n 'been': 19,\n 'desires': 1,\n '\\uf645\\uf643\\uf644\\uf648': 1,\n '\\uf645\\uf64a.': 1,\n 'elites': 1,\n 'Judaism': 4,\n 'theorists': 3,\n 'Trembling,': 1,\n 'deadly': 1,\n 'compare': 1,\n '(Cham,': 1,\n 'inhabited': 1,\n 'ἔθνη),': 1,\n '‘sword’.\\uf646\\uf647': 1,\n 'similarities,': 1,\n 'submission': 1,\n 'centuries.': 1,\n 'stage': 1,\n 'Fire': 1,\n 'groups': 5,\n 'Daniel': 1,\n 'L.': 8,\n 'his': 70,\n 'seminar': 1,\n 'darkened': 1,\n 'city': 4,\n 'Future': 1,\n 'scriptures': 1,\n 'Paisley,': 1,\n 'His': 3,\n 'lens': 1,\n ...}"
     },
     "execution_count": 12,
     "metadata": {},
     "output_type": "execute_result"
    }
   ],
   "source": [
    "unigram_dict = json.load(open(\"../data/large_files/unigrams_raw/unigrams_{}.json\".format(str(id)), \"r\"))\n",
    "unigram_dict"
   ],
   "metadata": {
    "collapsed": false,
    "ExecuteTime": {
     "end_time": "2023-05-07T11:03:20.927077Z",
     "start_time": "2023-05-07T11:03:20.885307Z"
    }
   }
  },
  {
   "cell_type": "code",
   "execution_count": 12,
   "outputs": [
    {
     "name": "stdout",
     "output_type": "stream",
     "text": [
      "CPU times: user 22.8 ms, sys: 926 µs, total: 23.8 ms\n",
      "Wall time: 23.1 ms\n"
     ]
    },
    {
     "data": {
      "text/plain": "3465"
     },
     "execution_count": 12,
     "metadata": {},
     "output_type": "execute_result"
    }
   ],
   "source": [
    "%%time\n",
    "ngram_dict_filtered = filter_dict(ngram_dict)\n",
    "len(ngram_dict_filtered)"
   ],
   "metadata": {
    "collapsed": false,
    "ExecuteTime": {
     "start_time": "2023-03-30T21:07:45.220557Z",
     "end_time": "2023-03-30T21:07:45.322048Z"
    }
   }
  },
  {
   "cell_type": "code",
   "execution_count": 12,
   "outputs": [
    {
     "data": {
      "text/plain": "Counter({'illuminating one another': 1,\n         'religious matters': 1,\n         'way As': 1,\n         'another Most bases': 1,\n         'Review forces ‘certainly': 1,\n         'even force': 1,\n         'divine hope': 2,\n         'leaves unresolved': 2,\n         'social service But': 1,\n         'men may': 1,\n         'churches In spite': 1,\n         '‘the Critics': 1,\n         'insufficient attention paid': 1,\n         'stimulated efforts': 1,\n         'racial equality': 2,\n         'one another': 10,\n         'joint action': 5,\n         'His gift': 2,\n         'unity one': 2,\n         'mission common': 1,\n         'one Gospel breaking': 1,\n         'Christian fellowship': 1,\n         'community life This': 1,\n         'Lukas Vxscher': 1,\n         'United churches': 1,\n         'biblical injunction': 2,\n         'important community': 1,\n         'degree order': 1,\n         'Press Movement Lutheran': 1,\n         'worldwide fellowship': 2,\n         'community established': 1,\n         'course every': 1,\n         'inhabiting ‘global': 1,\n         'new appreciation': 2,\n         'Church couid': 2,\n         'Council Churches': 2,\n         'local fellowship': 2,\n         'established maintained': 1,\n         'agreement first': 1,\n         'always seek': 2,\n         'op cit': 10,\n         '‘global village': 2,\n         'doctrine even': 2,\n         'Wcc Commission': 2,\n         'use several': 1,\n         'Conclusion The risk': 1,\n         'side recognized': 1,\n         'failed If': 2,\n         'nego tiating': 2,\n         'church provide': 2,\n         'Commission promote': 1,\n         'preserved The': 1,\n         'Association Press': 2,\n         'Mid Faith': 1,\n         'within diversity': 1,\n         'No hope': 1,\n         'reconciliation persons': 1,\n         'become step': 1,\n         'unity The unity': 1,\n         'benefits union': 1,\n         'loss identity': 1,\n         'particular concept': 1,\n         'counsel Edinburgh': 1,\n         'Moede ‘to call': 1,\n         'restate imperatives': 1,\n         'con versation': 1,\n         'cheap solution': 1,\n         'Discussion Midstream Conference': 1,\n         'salutary welding effect': 1,\n         'wave experimentation': 1,\n         'In following': 1,\n         'education would make': 1,\n         'form life': 1,\n         'truly united church': 1,\n         'conditions negotiating': 1,\n         'doctrinal agreement': 1,\n         'genuine renewal': 2,\n         'threat “uniformity”': 1,\n         'Church Union Negotiations': 1,\n         'hundred twentyfive': 1,\n         'redemp tion': 2,\n         'national unions': 2,\n         'solutions Local': 1,\n         'unity concerned': 1,\n         'As long': 1,\n         'organic corporate': 1,\n         'one eucharistic': 1,\n         'fellowship best': 1,\n         'creatively embody': 1,\n         'Church Union Conference': 1,\n         'ruison dtre': 2,\n         'working toward': 2,\n         'Union Negotiations January': 1,\n         'faith worship sacraments': 1,\n         'treasure insight': 1,\n         'particular projects': 1,\n         'passing Although': 2,\n         'Docetic separation': 2,\n         'Christian body continues': 1,\n         'Ecumenical Review forces': 1,\n         'deeper commitment': 2,\n         'Delhi Assembly': 1,\n         'national istic': 1,\n         'community felt': 2,\n         'pulpit fellowship': 2,\n         'united church': 18,\n         'united churches': 14,\n         'reconciling ministry': 2,\n         'life Plans': 1,\n         'effective common action': 1,\n         'later call': 2,\n         'body continues': 1,\n         'doctrinal viewpoints': 1,\n         'World con': 1,\n         'even subnational': 1,\n         'internationally agreements': 1,\n         'social economic': 2,\n         'description But': 2,\n         'single union': 2,\n         'Holy Spirit': 5,\n         'traditional principle “doctrinal': 1,\n         'informationsharing personal': 1,\n         'may well': 2,\n         'types organization': 1,\n         'South India Commission': 1,\n         'together occasion': 1,\n         'disparate local elements': 1,\n         'forms fellowship': 1,\n         'education informationsharing': 2,\n         'distinctive particular': 1,\n         '‘we believe': 2,\n         'sufficiently allowed': 2,\n         'discussing several': 2,\n         'function eg': 2,\n         'one fully': 2,\n         'mutual theological': 1,\n         'The unity': 4,\n         'understanding synthesis': 1,\n         'inform resulting': 1,\n         'threatening almost invariably': 1,\n         'specific historical': 2,\n         'Ecumenical ‘catholicity': 1,\n         'neither solve': 2,\n         '‘t Hooft ‘various': 1,\n         'visible Vatican': 1,\n         'problem united': 1,\n         'Limuru Midstream': 1,\n         'hand require': 2,\n         'negotiating always': 1,\n         'Unity time': 1,\n         'opportunity make': 1,\n         'left behind': 2,\n         'nature church': 1,\n         'Lukas Vischer': 3,\n         'crucial role': 2,\n         'Perspective Church Union': 1,\n         'reunion But': 2,\n         'recognized place': 1,\n         '‘certainly alternatives': 1,\n         'bring churches together': 1,\n         'conferenceroom divorced': 2,\n         'broadened inclus iveness': 1,\n         'adminis trative type': 1,\n         'racial cultural': 1,\n         'Implies Groscurth': 1,\n         'Church Union As': 10,\n         'indeed leading': 1,\n         'experimentation new': 1,\n         'wider experience': 2,\n         'original positions': 2,\n         'basic realities': 2,\n         'twentytwo unions': 2,\n         'prin ciple': 2,\n         'remembers startling': 1,\n         'regional international': 1,\n         'Furthermore union': 1,\n         'church Although Councils': 1,\n         'Salamanca consultations': 1,\n         'must able': 1,\n         'reached within': 2,\n         '‘the Gospel': 1,\n         'ecumenical fellowship': 2,\n         'widely different': 2,\n         'paper Organic union': 1,\n         'Although Councils': 1,\n         'towards unity': 1,\n         'deeply founded': 2,\n         'union It': 1,\n         'Union Zo': 1,\n         'common prayer': 4,\n         'one sided': 1,\n         'secure Christian unity': 1,\n         'effectively demonstrate': 2,\n         'union remain': 1,\n         'races involved': 2,\n         'leave open': 2,\n         'practical efficiency': 2,\n         'call churches': 3,\n         'Christian bodies confessional': 1,\n         'vital Dr': 1,\n         'see God': 1,\n         'solidarity ‘till': 1,\n         'India The Christian': 1,\n         'The Ecumenical': 9,\n         'organ conference': 1,\n         'loss certain': 1,\n         'faith Any': 1,\n         'churchmeeting format': 1,\n         'permanent organ': 2,\n         'Churchone People': 1,\n         'negotiations aware': 1,\n         'greater theological integrity': 1,\n         'single stream': 2,\n         'loose diocesan structure': 1,\n         'cannot unite unless': 1,\n         'fully shared': 1,\n         'many quarters': 2,\n         'families Or': 1,\n         'Church Union': 22,\n         'brought loss': 2,\n         'Church affirmation': 1,\n         'union range': 2,\n         'wherever celebrate': 1,\n         '‘we open': 1,\n         'term commitment': 1,\n         'churches created': 1,\n         'worship witness': 3,\n         'witness service': 3,\n         'side four': 1,\n         'enable common decisions': 1,\n         'These deeply': 1,\n         'address Paul': 1,\n         'Ecumenical Review Dying': 1,\n         '‘the apostle': 1,\n         'anguished world': 2,\n         'confessional embodiments': 1,\n         'genuine conciliarity': 1,\n         'negotiating committees especially': 1,\n         'parish It': 2,\n         'objected union': 1,\n         'Renewal Advancess': 1,\n         'personal encounter': 2,\n         'direct contact': 2,\n         'attempt restate': 1,\n         'whole human race': 1,\n         'reconciliation providing': 1,\n         'Gassmann discussing': 1,\n         'confessional identities': 1,\n         'certain consistency': 2,\n         'points agreement': 1,\n         'genuine worship': 1,\n         'ecumenical movement include': 1,\n         'incorporates dimension': 1,\n         'final risk No': 1,\n         'mission evan': 1,\n         'problems existing': 1,\n         'physical environment': 2,\n         'ultimate form': 1,\n         'facetoface encounter': 2,\n         'confessional separatism': 2,\n         'even right': 1,\n         'bringing members': 1,\n         'convincingly dramatizes': 1,\n         'mutual recognition': 3,\n         'India set': 1,\n         '‘t Hooft ed': 1,\n         'without stifling': 1,\n         'form may emerge': 1,\n         'possibility genuine': 1,\n         'spiritual hunger': 2,\n         'Union makes clear': 1,\n         'afraid “tensions”': 1,\n         'affect us': 2,\n         'thrown upon': 2,\n         'feasible model': 2,\n         'stifling uniformity': 2,\n         'planning execution': 1,\n         'begun articulate': 1,\n         'upheavals necessitated': 1,\n         'full commitment': 2,\n         'greater theological': 1,\n         'end March': 1,\n         'administratively centralized': 1,\n         'Vischer Midstream op': 1,\n         'state division': 1,\n         '‘structuring possibility': 1,\n         'struggle rival': 1,\n         'Plan If': 2,\n         'accepted primary': 1,\n         'adequate solutions': 2,\n         'negotiating toward': 1,\n         'synthesis cannot': 2,\n         'Uptodate Ecumenist': 1,\n         '‘the Churchone People': 1,\n         'structures nationally': 2,\n         'demonstrate broadened': 1,\n         'rigidly one': 1,\n         'whole must': 2,\n         'world families Or': 1,\n         'union model': 5,\n         'identity involved': 1,\n         'thus offers': 2,\n         'Thus commemoration': 1,\n         'apart even': 1,\n         'fellowship expressed': 1,\n         'many business': 1,\n         'together locally Between': 1,\n         'made manifest': 2,\n         'built mutual': 1,\n         'special meeting': 2,\n         'unpublished Ms': 2,\n         'spirit fullness': 1,\n         'matter stewardship': 1,\n         'church Union planners': 1,\n         'Christs body': 2,\n         'intentionally modest theologically': 1,\n         'cooperation transcends': 1,\n         'everyones satisfaction Indeed': 1,\n         'adherence “the': 1,\n         'Limuru Discussion Midstream': 1,\n         'long term': 1,\n         'nature It': 2,\n         'subsequently disintegrated': 2,\n         'ago Lesslie Newbigin': 1,\n         'world It offers': 1,\n         'centralized administrative authority': 1,\n         '‘the wholeness': 2,\n         'providing true': 1,\n         'therefore understandable': 2,\n         'Christian Unity Gerald': 1,\n         'consortia councils': 1,\n         'demonstrates divine': 1,\n         'ie dimension': 1,\n         'expressed worship': 1,\n         'locally Between': 1,\n         'kind theological': 1,\n         'particular places Although': 1,\n         'united church Although': 1,\n         'original ideas': 2,\n         'taking part': 2,\n         'au Zawe': 1,\n         'By explicit': 1,\n         'rebirth many': 1,\n         'authentic diversity': 2,\n         'apostle extolled': 1,\n         'Of course': 1,\n         'open question': 2,\n         'discern without': 1,\n         'essential reality': 2,\n         'discouraged local efforts': 1,\n         'Herausforderung Kirchen': 1,\n         'world One': 2,\n         'broader area would': 1,\n         'fuller apprehension': 2,\n         'fact living': 1,\n         'More light': 2,\n         'etc By': 2,\n         'express identity': 2,\n         'Lund Report': 4,\n         'mutual assistance': 2,\n         'unity binds': 1,\n         'faith worship': 2,\n         'another locally': 1,\n         'removed bringing': 1,\n         'The Christian Advocate': 1,\n         'structures relationship': 1,\n         'national structures': 1,\n         'local congregations life': 1,\n         'Church Universal”': 2,\n         'worldwide community': 2,\n         'dependent upon': 1,\n         'within basis': 1,\n         '‘united witness': 1,\n         'let alone': 1,\n         'universal dimension ie': 1,\n         'providing multilateral': 1,\n         'preparations union': 1,\n         'joining common': 2,\n         'closer together': 1,\n         'processesthe search': 1,\n         'almost unanimous': 2,\n         'live encounter': 1,\n         'significance The Church': 1,\n         'take place In': 1,\n         'Church Christ': 1,\n         'promptly forthrightly': 1,\n         'many united churches': 1,\n         'What union': 1,\n         'Witness Limuru': 1,\n         'Christians together must': 1,\n         'forgiveness renewed': 1,\n         'Lutheranreformed conversations': 2,\n         'greater freedom': 4,\n         'needs visible': 1,\n         'provision unity': 1,\n         'prejudice “wholeness”': 1,\n         'institutions social': 1,\n         'cannot guarantee': 1,\n         'church unity United': 1,\n         'one faith': 2,\n         'within community': 1,\n         'stumbled Faith': 2,\n         'compromises satisfying': 1,\n         'experience interconnected': 1,\n         '‘the typical churchmeeting': 1,\n         'compel churches': 1,\n         'shift strategy': 1,\n         'visibly single worshipping': 1,\n         '‘theological consensus': 2,\n         'Him Lord': 1,\n         'idealized Union': 2,\n         'old animosities': 2,\n         'parish The two': 1,\n         'common life': 6,\n         'unions consummated since': 1,\n         'Fam ilies Midstream': 1,\n         'particular places': 1,\n         'Christ au Zawe': 1,\n         'various confessions': 2,\n         'costly finally': 1,\n         'explicit decision': 2,\n         'affirming though': 1,\n         'exists wherever': 1,\n         'single congregations': 2,\n         'unity poses': 2,\n         'The Church': 4,\n         'us At': 1,\n         'achievement unity': 1,\n         'India twentyfive years': 1,\n         'Church Usa': 1,\n         'unity mankind': 4,\n         'least religious': 1,\n         'nonunited When six': 1,\n         'churches ‘theological': 1,\n         'The adequate': 1,\n         'The overcoming': 1,\n         'tying broken': 1,\n         'dimension personal': 1,\n         'sug gesting structures': 1,\n         'easily become': 2,\n         'field development': 1,\n         'structure becomes necessary': 1,\n         'see quite clearly': 1,\n         'For adversary': 1,\n         'posed If': 2,\n         'existences achieved beyond': 1,\n         'Third World': 2,\n         '‘corporate imply': 1,\n         'accomplish advantages': 1,\n         'third already': 1,\n         'dependence upon God': 1,\n         'Delhi Statement': 1,\n         'unity People': 2,\n         'question The ecclesiological': 1,\n         'Midstream op cit': 3,\n         'highly centralized': 1,\n         'New Delhi guidelines': 1,\n         'operation In': 1,\n         'among churches': 1,\n         'large measure': 2,\n         'South India': 8,\n         'available particular': 1,\n         'ed Frankfurt': 1,\n         'tions Should': 1,\n         'social questions': 2,\n         'essential however': 2,\n         'dilemma posed': 2,\n         'men may see': 1,\n         'undoubtedly one': 2,\n         'search mutual': 1,\n         'Limuru report': 2,\n         'Gassmann ‘kirchenunion': 2,\n         'churches In': 1,\n         'con stituency along': 1,\n         'inevitably prepared': 1,\n         'become matter': 1,\n         'Review Vol Viii': 1,\n         'many parts': 2,\n         'transcends intersects': 1,\n         'prophetic voice': 2,\n         'That unity': 4,\n         'drawn us': 2,\n         'Should churches': 1,\n         'exercising many negotiating': 1,\n         'ecumenical purpose': 2,\n         'common name': 2,\n         'enthusiasm commitment': 1,\n         'ecclesiatical organization': 1,\n         'fact redemp': 1,\n         'British Council': 2,\n         'It therefore': 1,\n         'world We': 2,\n         'Lutheran World Vol': 2,\n         'new church': 5,\n         'People God': 1,\n         'church represented': 1,\n         'worshipping community As': 1,\n         'workable whole': 1,\n         'sharing certain': 1,\n         '‘a That': 2,\n         'opinions nonessentials': 1,\n         'one apostolic': 2,\n         'together complementary': 1,\n         'difficulty ‘structuring': 1,\n         'Does goal': 1,\n         'necessitated union': 1,\n         'systems lo New': 1,\n         'If presence': 1,\n         'unity growing': 1,\n         'social situations': 2,\n         'two processesthe search': 1,\n         'prepared face': 1,\n         'transcends local': 1,\n         'recovered sense': 2,\n         'exterior structured unity': 1,\n         'union model All': 1,\n         'one bread': 2,\n         'compelling factors': 2,\n         'confessional tradition': 2,\n         '‘truly universal conciliar': 1,\n         'built around': 2,\n         'four differing Gospels': 1,\n         'goal visible': 2,\n         'thing many': 1,\n         'people live': 2,\n         'adventure faith': 1,\n         'Csi makes': 1,\n         '‘the final': 2,\n         'churches recent': 1,\n         'rethink take': 1,\n         'primitive Church': 1,\n         'United Methodist Church': 1,\n         'without least': 1,\n         'churches let alone': 1,\n         'organic union': 7,\n         'still heard': 2,\n         'Is ‘united': 1,\n         'practice Although': 2,\n         'religious experience': 2,\n         'may emerge': 1,\n         'allowed inform': 1,\n         'celebrate eucharist': 1,\n         'Moede United Methodist': 1,\n         'force questions': 1,\n         'discovering unity': 1,\n         'Church performs': 2,\n         'New problems': 1,\n         'Unity unpublished': 1,\n         'highest level': 2,\n         'generally expectation': 1,\n         'behind clearly': 1,\n         'unity present': 1,\n         'compromising doctrine': 1,\n         'experienced old': 1,\n         'last decade Will': 1,\n         'unity among others': 1,\n         'structure whether': 1,\n         'various types': 1,\n         'go beyond': 2,\n         'shown many': 1,\n         'particular doctrine con': 1,\n         'particular task': 2,\n         'varied habits': 2,\n         'source Christian': 1,\n         'attempts continue': 2,\n         'new forms': 2,\n         'place necessary': 1,\n         '‘statement Concerning': 2,\n         'mission carried': 2,\n         'Negotiations January': 1,\n         'union remain intentionally': 1,\n         'Neill articulates': 1,\n         'sacramental action': 2,\n         'unity union': 1,\n         'New Testament': 3,\n         'task one': 1,\n         'division intolerable': 1,\n         'church fellow ship”': 1,\n         'Limuru Midstream pp': 1,\n         'whole Christian fellowship': 1,\n         'renewed appreciation': 2,\n         'involves regrettable': 1,\n         'apostolic church': 2,\n         'faith It offers': 1,\n         'life This question': 1,\n         'little nothing': 1,\n         'attempts union': 1,\n         'clearly one': 1,\n         'Crow Boney': 1,\n         'Midpoint Crow': 2,\n         'Visser ‘t Hooft': 2,\n         'individual churches': 4,\n         'corporate union': 4,\n         'The Limuru Church': 1,\n         'concerned first': 2,\n         'even mutually': 1,\n         'honestly The': 1,\n         'Ecumenical Review Patrick': 1,\n         'negotiations take': 1,\n         'Evanston Speaks': 6,\n         'principle “doctrinal con': 1,\n         'enables effective common': 1,\n         'uniting persons': 2,\n         'union sets': 2,\n         'separate ecclesiatical organization': 1,\n         'Advancess New problems': 1,\n         'changed What': 2,\n         'den siebziger': 1,\n         'envisaged life': 1,\n         'many imperfections': 1,\n         'sense ‘mutually': 1,\n         'Plan Perspective': 1,\n         'denominational treasure': 2,\n         'Uppsala Assemblies': 2,\n         'Point op cit': 1,\n         'articulate recogni': 1,\n         'community As long': 1,\n         'union schemes': 5,\n         'imagined threat': 2,\n         'Christian doctrine But': 1,\n         'misunder standings': 2,\n         'witness mutual responsibility': 1,\n         '‘unity mission': 1,\n         'multilateral ‘encounters': 1,\n         'The universal Church': 1,\n         'redeployed effectively': 1,\n         'unity Witness': 2,\n         '“this sort goes': 1,\n         'questions race': 1,\n         'failure providing': 1,\n         'interconnected life True': 1,\n         'even conflicts': 1,\n         'one notes': 1,\n         'reconciled But': 2,\n         'theological agreements': 1,\n         'faith well': 1,\n         'insisted unity': 1,\n         'life Uppsala': 2,\n         'structures government': 1,\n         'Christ accepted': 1,\n         'mean uniformity': 2,\n         'Spirit indeed': 1,\n         'honestly The overcoming': 1,\n         '‘opposing version': 2,\n         'use Methodist': 1,\n         'families churches': 1,\n         'style The union': 1,\n         'made point': 1,\n         'Elsewhere consortia': 1,\n         'first become': 1,\n         'offers partial': 1,\n         'organiz ation Rather': 1,\n         'said ‘the': 1,\n         'deepened broadened': 1,\n         'sign intimate': 1,\n         'consultation worship': 2,\n         'confrontation one': 1,\n         'mankind Can': 1,\n         'In spite': 1,\n         'separated eucharistic': 2,\n         'overhaul Although': 2,\n         'international level': 2,\n         'necessary freedom': 2,\n         'Toronto Statement': 2,\n         'rival groups': 2,\n         'Christian Unity': 8,\n         'binds Christians': 1,\n         'Midstream op': 1,\n         'contemporary context': 2,\n         'previously existed': 1,\n         'contradictory opinions within': 1,\n         'great honoured': 1,\n         'arouse resistance': 1,\n         'evan gelism Evanston': 1,\n         'mutual theological understanding': 1,\n         '‘christ Hope': 2,\n         'Lesslie Newbigin': 1,\n         'necessary part': 2,\n         'clear kind': 1,\n         'could made': 1,\n         'visible form may': 1,\n         'structurally ex': 1,\n         'human problems': 1,\n         'discern without prejudice': 1,\n         'Recently ‘world': 1,\n         'Christian Literature': 1,\n         'voiced misunder': 1,\n         'accept conciliarity': 1,\n         'necessary conditions': 2,\n         'search authentic': 1,\n         'created even': 2,\n         'churches together locally': 1,\n         'legal questions': 2,\n         'fellowship live': 1,\n         'believe Introduction ‘to': 1,\n         'describe would': 1,\n         'makes clear': 2,\n         'since In': 1,\n         '‘parish Plan': 1,\n         'adequate way': 2,\n         'London Scm': 2,\n         'We believe': 2,\n         'occur Cooperation': 2,\n         'might added': 1,\n         'South India twentyfive': 1,\n         'community exists': 2,\n         'modern life': 2,\n         'may develop ‘the': 1,\n         'Not least': 2,\n         'sentences ‘the': 1,\n         'equitable participation': 2,\n         'inexhaustible life': 1,\n         'even caste': 1,\n         'Churches World': 1,\n         'intimate union': 2,\n         'primary contributions': 2,\n         'progress built': 2,\n         'Methodist phrase': 2,\n         'Church lead': 1,\n         'It exists wherever': 1,\n         'conversations Europe': 1,\n         'increasingly recognized': 1,\n         'Ecumenical Review feared': 1,\n         'Uptodate Ecumenist The': 1,\n         'Hooft could': 1,\n         'inevitable temporary introversion': 1,\n         'Spirit struggle': 1,\n         'contributions church': 1,\n         'union creates many': 1,\n         'sharing difficult': 1,\n         'best kind': 2,\n         'new corporate': 1,\n         'personal reconciliation': 2,\n         'The risk': 1,\n         'take place': 1,\n         'ecumenical options': 2,\n         'This article': 2,\n         'conciliar form': 1,\n         'testing grounds': 1,\n         'congregations various': 1,\n         'primarily emotional': 1,\n         'voice heard': 2,\n         'visible unity': 6,\n         'institutions The': 2,\n         'effectively elsewhere': 2,\n         'basis commitment': 1,\n         'Twentyfifth Meeting': 1,\n         'service But': 1,\n         'requires expression': 1,\n         'Lutheran side': 2,\n         'require This article': 1,\n         'Corinthian Church': 1,\n         'The union': 2,\n         'countless amounts': 2,\n         'His Grace': 2,\n         'longterm commitment It': 1,\n         'via Councils': 2,\n         'invent procedures': 2,\n         'Church two': 1,\n         'particular theological': 2,\n         'encouraged confessional': 1,\n         'much akin': 2,\n         'already referred': 2,\n         'draw past': 1,\n         'What essential': 1,\n         'When one': 1,\n         'theological synthesis': 4,\n         'unified differentiated': 1,\n         'twentyfive churches': 2,\n         'entire regions': 2,\n         'Individual confessions': 2,\n         'everpresent competition': 2,\n         'traditions principles': 1,\n         'Church ‘only': 2,\n         'social pluralism': 2,\n         'exception rather': 2,\n         'answered fears': 2,\n         'theological argument “this': 1,\n         'denominations unite': 1,\n         'experi enced': 1,\n         '‘the achievement': 2,\n         'Church According': 1,\n         'model unity': 3,\n         'local unity growing': 1,\n         'Church The': 1,\n         'sense communion': 1,\n         'iveness race': 1,\n         'require long': 1,\n         'consum mated Most': 1,\n         'work much': 1,\n         'preach ing services': 1,\n         'primarily upon': 1,\n         'churches almost': 1,\n         'clearest way': 2,\n         'barriers cannot': 1,\n         'communion structurally': 1,\n         'freedom initiative': 1,\n         'offen siveness': 2,\n         'doctrine watering': 1,\n         'Gospel breaking': 1,\n         '‘holding one': 1,\n         'true encounter': 1,\n         'mutual commitment': 2,\n         'But union': 1,\n         'larger unity': 2,\n         'organization polity': 1,\n         'Zo Meyer': 1,\n         'Neill eds': 1,\n         'unity homogenizing valid': 1,\n         'start doctrinal': 1,\n         'That full': 1,\n         'obvious advantage': 2,\n         'paper Organic': 1,\n         'Christ confess': 1,\n         'less store': 1,\n         'basic problems': 1,\n         'encounter one': 1,\n         'body spirit': 2,\n         'side four differing': 1,\n         'fought integrated': 1,\n         'efforts bring': 1,\n         'Organic union': 1,\n         'sacramental sharing': 1,\n         'easy escapehatch': 2,\n         'His Church': 2,\n         'differing Gospels': 1,\n         'church commit': 1,\n         'broadened inclus': 1,\n         'structures Will': 1,\n         'renewal greater': 1,\n         'inescapable obligation': 1,\n         'points final': 1,\n         'institution community': 1,\n         'faith It': 1,\n         'Lutheran World Federation': 2,\n         'unite unless': 1,\n         'Christians one': 1,\n         'one Is': 2,\n         'full identity': 2,\n         'committed fellowship without': 1,\n         'far permitting': 1,\n         'recent ‘localizing': 2,\n         'Union Negotiations': 1,\n         'Spirit one': 1,\n         'modest theologically building': 1,\n         'failure bring': 1,\n         'order But': 2,\n         'involvement Faith': 1,\n         'Louvain op cit': 1,\n         'already united': 3,\n         'recognize obedience': 1,\n         'recently prompted': 2,\n         'authority Amsterdam': 1,\n         'Ecumenical Movement': 2,\n         'untouched basic': 1,\n         'foundation These': 2,\n         'bring existence': 1,\n         'social groups': 2,\n         'individual Christians': 2,\n         'normative The': 1,\n         'one another locally': 1,\n         '‘the Church exists': 1,\n         'cultural separations': 2,\n         'society human': 1,\n         'sense isolation': 1,\n         'Hooft could draw': 1,\n         'We agree': 1,\n         'styles community': 1,\n         '‘structures envisaged': 2,\n         'history Acts': 1,\n         'churches live': 3,\n         'Order Commission': 6,\n         'blight war': 1,\n         'church union': 4,\n         'education evangelism institutions': 1,\n         'divisions Christianity': 1,\n         'everyones satisfaction': 1,\n         'Faith Order': 8,\n         'involved It': 2,\n         'interpretation ‘what': 1,\n         'Toronto Statement Iv': 1,\n         'spiritual Part': 1,\n         'community including': 2,\n         'future made': 1,\n         'The phenomenon': 1,\n         'fellowship seriously': 1,\n         'regional world': 1,\n         'possible ingredients': 2,\n         'source energy': 1,\n         'local gathering': 2,\n         'Paul St': 1,\n         'deeper continuity': 2,\n         'perhaps painfully': 2,\n         'North India': 2,\n         'get engaged': 2,\n         'Ecumenical Review Vol': 1,\n         'Gunther Gassmann': 1,\n         'might deserved': 1,\n         'districts seemed': 1,\n         'union thirtyfour': 1,\n         'forces ‘certainly': 1,\n         'new covenant': 2,\n         'sociological forms': 1,\n         'families developed': 1,\n         'renewed fellowship': 2,\n         'concrete fellowship It': 1,\n         'agreed Here': 2,\n         'united church retain': 1,\n         '‘mutually committed': 1,\n         'vividly clear': 1,\n         'structure society': 2,\n         'model All': 1,\n         'provide incentive': 1,\n         'organization Does': 2,\n         'personnel funds': 2,\n         'reform local': 1,\n         'Verlag Lembeck': 1,\n         'bears witness': 1,\n         'governmental order': 2,\n         'Integration Joint': 1,\n         'fruitfully embrace': 2,\n         'Union op cit': 1,\n         'particular projects usually': 1,\n         'churches face': 1,\n         'single organization': 2,\n         'could become one': 1,\n         'would seem': 2,\n         'following paragraphs': 2,\n         'union creates': 1,\n         'intellectual even': 1,\n         'appropriate degree': 2,\n         'possibility regular': 1,\n         'must explicitly': 1,\n         'continental regional': 2,\n         'energy makes': 1,\n         'We recognize': 2,\n         'six ‘parent': 1,\n         'one bread joining': 2,\n         'union must therefore': 1,\n         'hand explicit': 1,\n         'types united': 1,\n         'London Spck': 1,\n         'statements ecumenical': 1,\n         'making possible': 2,\n         'able get': 1,\n         'Scm Press': 4,\n         'union must': 1,\n         'another everyones': 1,\n         'confessional enclaves Every': 1,\n         'local unity': 2,\n         'wider unity': 2,\n         'unity relation': 1,\n         'original intention': 1,\n         'local expressions': 1,\n         '‘plans Union': 1,\n         'previous structures': 2,\n         'Union As': 10,\n         'structured ‘if': 2,\n         'merging institutions': 1,\n         'Christ would': 2,\n         'without prejudice': 1,\n         'ruthlessly selfcritical': 1,\n         'This statement': 1,\n         'instrumental sign': 2,\n         'Movement Lutheran World': 1,\n         'gesting structures': 1,\n         'Joint Action': 2,\n         'Midpoint eit': 1,\n         'community primary': 1,\n         'dimension ie': 1,\n         'life together': 4,\n         'possible reconciliation': 1,\n         'Christ involvement': 1,\n         'new catholic': 1,\n         'fellowship holding': 1,\n         'national regional': 1,\n         'someone else': 2,\n         'known We': 1,\n         'energy mission': 1,\n         'Seek Church Union': 1,\n         'body indivisible': 1,\n         'alternatives union': 1,\n         'corporately renewal': 1,\n         'life faith worship': 1,\n         'parochial division': 2,\n         'den siebziger Jahren': 1,\n         'cheap solution In': 1,\n         'See example': 1,\n         'increasing number': 2,\n         'manifest reality apprehensible': 1,\n         'con viction': 2,\n         'regrettable compromising': 2,\n         'unity never': 1,\n         'necessary The mutual': 1,\n         'alienation social': 1,\n         'listed confrontation': 1,\n         'Methodists But': 2,\n         'ever consider': 1,\n         'former The': 1,\n         'diversity also raises': 1,\n         ...})"
     },
     "execution_count": 12,
     "metadata": {},
     "output_type": "execute_result"
    }
   ],
   "source": [
    "ngram_dict_filtered"
   ],
   "metadata": {
    "collapsed": false
   }
  },
  {
   "cell_type": "markdown",
   "source": [
    "# Unigrams cleaning test"
   ],
   "metadata": {
    "collapsed": false
   }
  },
  {
   "cell_type": "code",
   "execution_count": 21,
   "outputs": [
    {
     "data": {
      "text/plain": "2512"
     },
     "execution_count": 21,
     "metadata": {},
     "output_type": "execute_result"
    }
   ],
   "source": [
    "id = 0\n",
    "sourcepath = \"../data/large_files/unigrams_raw/\"\n",
    "ngram_dict = json.load(open(sourcepath +  \"unigrams_{}.json\".format(str(id)), \"r\"))\n",
    "len(ngram_dict)"
   ],
   "metadata": {
    "collapsed": false,
    "ExecuteTime": {
     "start_time": "2023-03-30T21:12:14.549173Z",
     "end_time": "2023-03-30T21:12:14.569466Z"
    }
   }
  },
  {
   "cell_type": "code",
   "execution_count": 28,
   "outputs": [
    {
     "data": {
      "text/plain": "[('united', 25),\n ('fellowship', 21),\n ('Christ', 20),\n ('new', 20),\n ('local', 20),\n ('many', 20),\n ('must', 19),\n ('world', 17),\n ('even', 17),\n ('‘the', 16),\n ('faith', 16),\n ('community', 15),\n ('confessional', 14),\n ('mission', 14),\n ('It', 14),\n ('together', 14),\n ('theological', 14),\n ('Christians', 14),\n ('Unity', 13),\n ('New', 13),\n ('In', 13),\n ('Of', 13),\n ('structure', 12),\n ('problems', 12),\n ('As', 12),\n ('Ecumenical', 12),\n ('But', 12),\n ('cit', 12),\n ('common', 12),\n ('place', 11),\n ('Review', 11),\n ('communion', 10),\n ('worship', 10),\n ('op', 10),\n ('question', 10),\n ('Report', 10),\n ('Model', 10),\n ('made', 10),\n ('model', 9),\n ('structures', 9),\n ('Order', 9),\n ('may', 9),\n ('form', 9),\n ('Faith', 9),\n ('level', 9),\n ('particular', 9),\n ('negotiations', 9),\n ('people', 9),\n ('experience', 9),\n ('visible', 9),\n ('would', 9),\n ('full', 8),\n ('witness', 8),\n ('questions', 8),\n ('This', 8),\n ('within', 8),\n ('another', 8),\n ('organization', 8),\n ('World', 8),\n ('organic', 8),\n ('universal', 8),\n ('become', 8),\n ('human', 8),\n ('We', 8),\n ('whole', 8),\n ('always', 8),\n ('negotiating', 7),\n ('diversity', 7),\n ('social', 7),\n ('nature', 7),\n ('mankind', 7),\n ('national', 7),\n ('identity', 7),\n ('commitment', 7),\n ('doctrine', 7),\n ('time', 7),\n ('bring', 7),\n ('could', 7),\n ('also', 7),\n ('order', 7),\n ('That', 7),\n ('necessary', 7),\n ('God', 7),\n ('fact', 7),\n ('way', 7),\n ('committed', 7),\n ('Delhi', 7),\n ('levels', 7),\n ('body', 7),\n ('well', 7),\n ('mutual', 7),\n ('India', 7),\n ('least', 7),\n ('without', 7),\n ('What', 7),\n ('clear', 6),\n ('forms', 6),\n ('corporate', 6),\n ('involved', 6),\n ('points', 6),\n ('Lutheran', 6),\n ('possible', 6),\n ('Wcc', 6),\n ('No', 6),\n ('provide', 6),\n ('already', 6),\n ('South', 6),\n ('years', 6),\n ('primary', 6),\n ('uniting', 6),\n ('Churches', 6),\n ('live', 6),\n ('action', 6),\n ('con', 6),\n ('Limuru', 6),\n ('call', 6),\n ('Although', 6),\n ('Commission', 5),\n ('certain', 5),\n ('genuine', 5),\n ('sharing', 5),\n ('Lund', 5),\n ('basis', 5),\n ('ecumenical', 5),\n ('His', 5),\n ('single', 5),\n ('agreement', 5),\n ('Plan', 5),\n ('make', 5),\n ('persons', 5),\n ('yet', 5),\n ('dimension', 5),\n ('places', 5),\n ('true', 5),\n ('work', 5),\n ('goal', 5),\n ('members', 5),\n ('families', 5),\n ('different', 5),\n ('us', 5),\n ('freedom', 5),\n ('express', 5),\n ('United', 5),\n ('Midstream', 5),\n ('indeed', 5),\n ('context', 5),\n ('set', 5),\n ('reconciliation', 5),\n ('possibility', 5),\n ('service', 5),\n ('primarily', 5),\n ('part', 5),\n ('truth', 5),\n ('kind', 5),\n ('rather', 5),\n ('Moede', 4),\n ('Speaks', 4),\n ('unions', 4),\n ('society', 4),\n ('attention', 4),\n ('renewal', 4),\n ('manifest', 4),\n ('For', 4),\n ('divided', 4),\n ('basic', 4),\n ('Is', 4),\n ('racial', 4),\n ('exists', 4),\n ('cannot', 4),\n ('regional', 4),\n ('Newbigin', 4),\n ('insight', 4),\n ('mean', 4),\n ('among', 4),\n ('others', 4),\n ('doctrinal', 4),\n ('Consultation', 4),\n ('centralized', 4),\n ('task', 4),\n ('confessions', 4),\n ('relationship', 4),\n ('race', 4),\n ('conciliarity', 4),\n ('makes', 4),\n ('search', 4),\n ('institutions', 4),\n ('If', 4),\n ('first', 4),\n ('including', 4),\n ('Gospel', 4),\n ('attempt', 4),\n ('spiritual', 4),\n ('encounter', 4),\n ('uniformity', 4),\n ('struggle', 4),\n ('prayer', 4),\n ('deeper', 4),\n ('past', 4),\n ('Press', 4),\n ('said', 4),\n ('called', 4),\n ('effectively', 4),\n ('take', 4),\n ('hand', 4),\n ('end', 4),\n ('apostolic', 4),\n ('two', 4),\n ('believe', 4),\n ('Spirit', 4),\n ('When', 4),\n ('upon', 4),\n ('Vol', 4),\n ('Evanston', 4),\n ('best', 4),\n ('every', 4),\n ('less', 4),\n ('Neill', 4),\n ('men', 4),\n ('various', 4),\n ('previously', 4),\n ('individual', 4),\n ('separate', 4),\n ('toward', 4),\n ('great', 4),\n ('sacramental', 3),\n ('Edinburgh', 3),\n ('behind', 3),\n ('traditions', 3),\n ('long', 3),\n ('begun', 3),\n ('point', 3),\n ('adequate', 3),\n ('plan', 3),\n ('seriously', 3),\n ('strengths', 3),\n ('actual', 3),\n ('spirit', 3),\n ('direction', 3),\n ('forced', 3),\n ('preparation', 3),\n ('distinctive', 3),\n ('ways', 3),\n ('continuing', 3),\n ('division', 3),\n ('need', 3),\n ('Louvain', 3),\n ('cultural', 3),\n ('education', 3),\n ('joint', 3),\n ('risk', 3),\n ('greater', 3),\n ('sense', 3),\n ('preserved', 3),\n ('styles', 3),\n ('never', 3),\n ('fuller', 3),\n ('Amsterdam', 3),\n ('Meyer', 3),\n ('truths', 3),\n ('range', 3),\n ('allow', 3),\n ('posed', 3),\n ('tradition', 3),\n ('Holy', 3),\n ('open', 3),\n ('energy', 3),\n ('schemes', 3),\n ('Paul', 3),\n ('prepared', 3),\n ('pp', 3),\n ('large', 3),\n ('statement', 3),\n ('offers', 3),\n ('administrative', 3),\n ('variety', 3),\n ('desirable', 3),\n ('recognized', 3),\n ('elements', 3),\n ('example', 3),\n ('given', 3),\n ('therefore', 3),\n ('problem', 3),\n ('Hooft', 3),\n ('give', 3),\n ('shall', 3),\n ('Salamanca', 3),\n ('groups', 3),\n ('involves', 3),\n ('efforts', 3),\n ('diverse', 3),\n ('state', 3),\n ('central', 3),\n ('gathering', 3),\n ('forces', 3),\n ('Conference', 3),\n ('planning', 3),\n ('requires', 3),\n ('Lukas', 3),\n ('sign', 3),\n ('Does', 3),\n ('By', 3),\n ('Uniting', 3),\n ('important', 3),\n ('built', 3),\n ('Reunion', 3),\n ('essential', 3),\n ('vital', 3),\n ('Statement', 3),\n ('reality', 3),\n ('decisive', 3),\n ('side', 3),\n ('difficulty', 3),\n ('might', 3),\n ('little', 3),\n ('London', 3),\n ('beyond', 3),\n ('nothing', 3),\n ('Visser', 3),\n ('denominational', 3),\n ('synthesis', 3),\n ('Any', 3),\n ('entire', 3),\n ('recent', 3),\n ('often', 3),\n ('say', 3),\n ('‘to', 3),\n ('felt', 3),\n ('ed', 3),\n ('ministry', 3),\n ('Testament', 3),\n ('conciliar', 3),\n ('relationships', 3),\n ('Dr', 3),\n ('fully', 3),\n ('needs', 3),\n ('movement', 3),\n ('participation', 3),\n ('achieved', 3),\n ('willing', 3),\n ('use', 3),\n ('imply', 3),\n ('far', 3),\n ('loss', 3),\n ('accepted', 3),\n ('regarding', 3),\n ('final', 3),\n ('Geneva', 3),\n ('still', 3),\n ('found', 3),\n ('result', 3),\n ('hope', 3),\n ('clearly', 3),\n ('To', 3),\n ('merely', 3),\n ('original', 3),\n ('Will', 3),\n ('taking', 3),\n ('unite', 3),\n ('People', 3),\n ('Scm', 2),\n ('opportunities', 2),\n ('international', 2),\n ('Indeed', 2),\n ('Gods', 2),\n ('Himself', 2),\n ('old', 2),\n ('extent', 2),\n ('continuity', 2),\n ('Ecumenist', 2),\n ('conditions', 2),\n ('solution', 2),\n ('constitute', 2),\n ('options', 2),\n ('consideration', 2),\n ('recognize', 2),\n ('wide', 2),\n ('Council', 2),\n ('listed', 2),\n ('‘a', 2),\n ('framework', 2),\n ('Preparation', 2),\n ('normative', 2),\n ('‘united', 2),\n ('authentic', 2),\n ('bringing', 2),\n ('agreements', 2),\n ('Gassmann', 2),\n ('almost', 2),\n ('aware', 2),\n ('since', 2),\n ('See', 2),\n ('suppress', 2),\n ('competing', 2),\n ('future', 2),\n ('ingredients', 2),\n ('growing', 2),\n ('existence', 2),\n ('Most', 2),\n ('indivisible', 2),\n ('imperative', 2),\n ('come', 2),\n ('last', 2),\n ('outward', 2),\n ('neither', 2),\n ('inherent', 2),\n ('competition', 2),\n ('ones', 2),\n ('force', 2),\n ('positions', 2),\n ('individuals', 2),\n ('congregation', 2),\n ('study', 2),\n ('Lord', 2),\n ('etc', 2),\n ('reunion', 2),\n ('article', 2),\n ('reaching', 2),\n ('answered', 2),\n ('word', 2),\n ('directions', 2),\n ('revision', 2),\n ('validity', 2),\n ('effort', 2),\n ('encourage', 2),\n ('becomes', 2),\n ('discussing', 2),\n ('act', 2),\n ('Movement', 2),\n ('stimulus', 2),\n ('calls', 2),\n ('reached', 2),\n ('man', 2),\n ('effect', 2),\n ('Midpoint', 2),\n ('develop', 2),\n ('paper', 2),\n ('All', 2),\n ('emerge', 2),\n ('sort', 2),\n ('structured', 2),\n ('personal', 2),\n ('dominated', 2),\n ('though', 2),\n ('shown', 2),\n ('Patrick', 2),\n ('und', 2),\n ('disintegrated', 2),\n ('practice', 2),\n ('integrated', 2),\n ('historical', 2),\n ('parish', 2),\n ('voice', 2),\n ('Toronto', 2),\n ('Here', 2),\n ('Grant', 2),\n ('term', 2),\n ('wherever', 2),\n ('see', 2),\n ('usually', 2),\n ('maintained', 2),\n ('consultation', 2),\n ('perhaps', 2),\n ('description', 2),\n ('twentyfive', 2),\n ('environment', 2),\n ('Many', 2),\n ('factors', 2),\n ('brought', 2),\n ('face', 2),\n ('varied', 2),\n ('leaves', 2),\n ('Groscurth', 2),\n ('phenomenon', 2),\n ('breaking', 2),\n ('family', 2),\n ('wider', 2),\n ('decade', 2),\n ('preaching', 2),\n ('religious', 2),\n ('worldwide', 2),\n ('types', 2),\n ('Jesus', 2),\n ('divisions', 2),\n ('demonstrate', 2),\n ('discuss', 2),\n ('suffice', 2),\n ('St', 2),\n ('source', 2),\n ('States', 2),\n ('Federation', 2),\n ('issues', 2),\n ('six', 2),\n ('today', 2),\n ('integrity', 2),\n ('solidarity', 2),\n ('existing', 2),\n ('Negotiations', 2),\n ('advance', 2),\n ('joining', 2),\n ('room', 2),\n ('Rodger', 2),\n ('shortterm', 2),\n ('simply', 2),\n ('fellow', 2),\n ('‘union', 2),\n ('lo', 2),\n ('precisely', 2),\n ('living', 2),\n ('catholicity', 2),\n ('opportunity', 2),\n ('failure', 2),\n ('congregations', 2),\n ('invariably', 2),\n ('decisionmaking', 2),\n ('deeply', 2),\n ('lives', 2),\n ('recognition', 2),\n ('whether', 2),\n ('poses', 2),\n ('appreciation', 2),\n ('apart', 2),\n ('At', 2),\n ('several', 2),\n ('Uppsala', 2),\n ('spite', 2),\n ('membership', 2),\n ('eds', 2),\n ('provided', 2),\n ('consultations', 2),\n ('understanding', 2),\n ('transcends', 2),\n ('benefit', 2),\n ('intended', 2),\n ('structurally', 2),\n ('loc', 2),\n ('thus', 2),\n ('John', 2),\n ('Nor', 2),\n ('lead', 2),\n ('committees', 2),\n ('‘if', 2),\n ('traditional', 2),\n ('number', 2),\n ('sought', 2),\n ('heard', 2),\n ('economic', 2),\n ('wholeness', 2),\n ('pattern', 2),\n ('eucharistic', 2),\n ('death', 2),\n ('decisions', 2),\n ('Thus', 2),\n ('bodies', 2),\n ('danger', 2),\n ('efficiency', 2),\n ('development', 2),\n ('sake', 2),\n ('isolation', 2),\n ('‘fully', 2),\n ('One', 2),\n ('Methodist', 2),\n ('process', 2),\n ('grow', 2),\n ('able', 2),\n ('opinions', 2),\n ('leave', 2),\n ('‘we', 2),\n ('locally', 2),\n ('threat', 2),\n ('seek', 2),\n ('consensus', 2),\n ('plans', 2),\n ('report', 2),\n ('type', 2),\n ('openness', 2),\n ('around', 2),\n ('‘church', 2),\n ('broadened', 2),\n ('tasks', 2),\n ('sacrament', 2),\n ('require', 2),\n ('conscious', 2),\n ('much', 2),\n ('government', 2),\n ('ecclesiological', 2),\n ('statements', 2),\n ('explicit', 2),\n ('simple', 2),\n ('realities', 2),\n ('differences', 2),\n ('attempts', 2),\n ('crucial', 2),\n ('preoccupation', 2),\n ('standings', 2),\n ('stifling', 2),\n ('reconcile', 2),\n ('‘parish', 2),\n ('building', 2),\n ('consortia', 2),\n ('humanity', 2),\n ('intentionally', 2),\n ('conflict', 2),\n ('fulfil', 2),\n ('gift', 2),\n ('‘unity', 2),\n ('drawn', 2),\n ('permanent', 2),\n ('guarantee', 2),\n ('relate', 2),\n ('effective', 2),\n ('insisted', 2),\n ('agree', 2),\n ('working', 2),\n ('denominations', 2),\n ('worshipping', 2),\n ('find', 2),\n ('address', 2),\n ('describe', 2),\n ('however', 2),\n ('easy', 2),\n ('especially', 2),\n ('‘t', 2),\n ('significance', 2),\n ('Vischer', 2),\n ('missionary', 2),\n ('involvement', 2),\n ('expectation', 2),\n ('achievement', 2),\n ('matter', 2),\n ('governmental', 2),\n ('constantly', 2),\n ('Organic', 2),\n ('renewed', 2),\n ('providing', 2),\n ('Kirchen', 2),\n ('Crow', 2),\n ('developed', 2),\n ('element', 2),\n ('gave', 2),\n ('subsequently', 2),\n ('go', 2),\n ('carried', 2),\n ('oneness', 2),\n ('bread', 2),\n ('continues', 2),\n ('parts', 2),\n ('Councils', 2),\n ('identities', 1),\n ('compelling', 1),\n ('sug', 1),\n ('mated', 1),\n ('fundamentals', 1),\n ('‘education', 1),\n ('operation', 1),\n ('funds', 1),\n ('women', 1),\n ('Reports', 1),\n ('continually', 1),\n ('foundered', 1),\n ('case', 1),\n ('Incarnation', 1),\n ('welding', 1),\n ('secular', 1),\n ('cerning', 1),\n ('yet”', 1),\n ('biblical', 1),\n ('ideas', 1),\n ('fulfilled', 1),\n ('attempted', 1),\n ('Role', 1),\n ('recogni', 1),\n ('decisively', 1),\n ('congregational', 1),\n ('divorced', 1),\n ('fruitful', 1),\n ('confined', 1),\n ('possi', 1),\n ('nonessentials', 1),\n ('becoming', 1),\n ('defence', 1),\n ('potential', 1),\n ('physical', 1),\n ('lypse', 1),\n ('injunction', 1),\n ('differ', 1),\n ('compel', 1),\n ('something', 1),\n ('constitution', 1),\n ('approaches', 1),\n ('done', 1),\n ('Kirchenunionen', 1),\n ('available', 1),\n ('agencies', 1),\n ('broader', 1),\n ('untouched', 1),\n ('inhabiting', 1),\n ('cripple', 1),\n ('spring', 1),\n ('misunderstandings', 1),\n ('challenges', 1),\n ('inseparability', 1),\n ('apostle', 1),\n ('creatively', 1),\n ('intent', 1),\n ('separated', 1),\n ('eit', 1),\n ('faced', 1),\n ('James', 1),\n ('decades', 1),\n ('originally', 1),\n ('modernization', 1),\n ('viction', 1),\n ('apprehended', 1),\n ('Introduction', 1),\n ('week', 1),\n ('ordered', 1),\n ('April', 1),\n ('visibleat', 1),\n ('enclaves', 1),\n ('notes', 1),\n ('sixty', 1),\n ('interchurch', 1),\n ('‘one', 1),\n ('‘mutually', 1),\n ('deserved', 1),\n ('closer', 1),\n ('decision', 1),\n ('escapehatch', 1),\n ('proceed', 1),\n ('nationally', 1),\n ('matured', 1),\n ('‘loss', 1),\n ('broken', 1),\n ('“wholeness”', 1),\n ('quality', 1),\n ('interest', 1),\n ('Such', 1),\n ('concern', 1),\n ('increased', 1),\n ('longestablished', 1),\n ('Gerald', 1),\n ('approach', 1),\n ('regular', 1),\n ('They', 1),\n ('prayed', 1),\n ('Princeton', 1),\n ('assistance', 1),\n ('stewardship', 1),\n ('‘corporate', 1),\n ('thirtyfour', 1),\n ('Frantic', 1),\n ('style', 1),\n ('trative', 1),\n ('thought', 1),\n ('December', 1),\n ('Adversaries', 1),\n ('expressions', 1),\n ('gather', 1),\n ('four', 1),\n ('manifestation', 1),\n ('dared', 1),\n ('prin', 1),\n ('enables', 1),\n ('longterm', 1),\n ('individually', 1),\n ('solutions', 1),\n ('tiating', 1),\n ('rationale', 1),\n ('Joint', 1),\n ('redemp', 1),\n ('circumstances', 1),\n ('hunger', 1),\n ('vividly', 1),\n ('concentration', 1),\n ('avoided', 1),\n ('wise', 1),\n ('Xvii', 1),\n ('village', 1),\n ('seem', 1),\n ('Perhaps', 1),\n ('Cooperation', 1),\n ('Twentyfifth', 1),\n ('watering', 1),\n ('experimentation', 1),\n ('draw', 1),\n ('Reality', 1),\n ('‘today', 1),\n ('lot', 1),\n ('York', 1),\n ('bound', 1),\n ('dis', 1),\n ('initiative', 1),\n ('comprehensible', 1),\n ('gathers', 1),\n ('oftalludedto', 1),\n ('adumbrated', 1),\n ('protean', 1),\n ('outline', 1),\n ('settled', 1),\n ('ago', 1),\n ('product', 1),\n ('eg', 1),\n ('eucharist', 1),\n ('unanimity', 1),\n ('revelation', 1),\n ('honestly', 1),\n ('disparate', 1),\n ('innovation', 1),\n ('seemed', 1),\n ('Boney', 1),\n ('Packer', 1),\n ('sacra', 1),\n ('dangers', 1),\n ('solely', 1),\n ('gemeinschaft', 1),\n ('share', 1),\n ('honoured', 1),\n ('threaten', 1),\n ('reconciling', 1),\n ('respect', 1),\n ('regions', 1),\n ('articulates', 1),\n ('nations', 1),\n ('‘expensive', 1),\n ('firm', 1),\n ('organized', 1),\n ('inviolable', 1),\n ('expressed', 1),\n ('forthrightly', 1),\n ('terms', 1),\n ('reprove', 1),\n ('Wide', 1),\n ('discussion', 1),\n ('dependence', 1),\n ('existences', 1),\n ('tackle', 1),\n ('healing', 1),\n ('equality', 1),\n ('unto', 1),\n ('costly', 1),\n ('offen', 1),\n ('support', 1),\n ('overrule', 1),\n ('belonging', 1),\n ('Anglicans', 1),\n ('differentiated', 1),\n ('carrying', 1),\n ('gesting', 1),\n ('weight', 1),\n ('Utrecht', 1),\n ('succeeded', 1),\n ('adequacy', 1),\n ('threatening', 1),\n ('strategy', 1),\n ('‘kirchenunion', 1),\n ('resistance', 1),\n ('apprehension', 1),\n ('contradictory', 1),\n ('Just', 1),\n ('fears', 1),\n ('obligation', 1),\n ('left', 1),\n ('Between', 1),\n ('Nevertheless', 1),\n ('inclus', 1),\n ('hundred', 1),\n ('akin', 1),\n ('obedience', 1),\n ('understandable', 1),\n ('leaders', 1),\n ('appear', 1),\n ('Attitudes', 1),\n ('widely', 1),\n ('secure', 1),\n ('raises', 1),\n ('quarters', 1),\n ('sets', 1),\n ('‘full', 1),\n ('respects', 1),\n ('specific', 1),\n ('borders', 1),\n ('theologically', 1),\n ('accomplish', 1),\n ('daily', 1),\n ('‘parent', 1),\n ('“circle”', 1),\n ('cause', 1),\n ('traditionally', 1),\n ('organizations', 1),\n ('Docetic', 1),\n ('Churchs', 1),\n ('Canterbury', 1),\n ('tying', 1),\n ('parents', 1),\n ('‘riches', 1),\n ('invent', 1),\n ('gap', 1),\n ('idealized', 1),\n ('encounters', 1),\n ('unity%', 1),\n ('weekby', 1),\n ('Meeting', 1),\n ('organiz', 1),\n ('expostfucto', 1),\n ('“doctrinal', 1),\n ('Christianity', 1),\n ('versation', 1),\n ('taken', 1),\n ('concrete', 1),\n ('intention', 1),\n ('environmental', 1),\n ('amounts', 1),\n ('Advocate', 1),\n ('recognizes', 1),\n ('major', 1),\n ('channels', 1),\n ('redemption', 1),\n ('tend', 1),\n ('baptized', 1),\n ('feasible', 1),\n ('quarrels', 1),\n ('exercising', 1),\n ('Apoca', 1),\n ('aspect', 1),\n ('interconnected', 1),\n ('pulling', 1),\n ('ie', 1),\n ('deepening', 1),\n ('Scheme', 1),\n ('undoubtedly', 1),\n ('overcome', 1),\n ('early', 1),\n ('nego', 1),\n ('entering', 1),\n ('‘that', 1),\n ('enable', 1),\n ('pervert', 1),\n ('minority', 1),\n ('represented', 1),\n ('Archbishop', 1),\n ('peoples', 1),\n ('subservient', 1),\n ('consum', 1),\n ('fullest', 1),\n ('eschatology', 1),\n ('pressed', 1),\n ('everyones', 1),\n ('Confessional', 1),\n ('right', 1),\n ('integrating', 1),\n ('finds', 1),\n ('Action', 1),\n ('appeals', 1),\n ('imagined', 1),\n ('Presbyterians', 1),\n ('divergencies', 1),\n ('interact', 1),\n ('binds', 1),\n ('advantage', 1),\n ('dramatizes', 1),\n ('immense', 1),\n ('degree', 1),\n ('Door', 1),\n ('ing', 1),\n ('accusations', 1),\n ('skeleton', 1),\n ('inevitable', 1),\n ('History', 1),\n ('blight', 1),\n ('cheap', 1),\n ('bases', 1),\n ('Not', 1),\n ('‘organic', 1),\n ('reinforcing', 1),\n ('‘leastcommondenominator', 1),\n ('‘statement', 1),\n ('Cross', 1),\n ('detected', 1),\n ('language', 1),\n ('‘holding', 1),\n ('ministers', 1),\n ('overcoming', 1),\n ('Evian', 1),\n ('ex', 1),\n ('leading', 1),\n ('loyal', 1),\n ('unpublished', 1),\n ('deadlier', 1),\n ('engaged', 1),\n ('faithfulness', 1),\n ('Ecumenicai', 1),\n ('merging', 1),\n ('war', 1),\n ('Third', 1),\n ('consider', 1),\n ('presence', 1),\n ('Assemblies', 1),\n ('‘catholicity', 1),\n ('Association', 1),\n ('betrayal', 1),\n ...]"
     },
     "execution_count": 28,
     "metadata": {},
     "output_type": "execute_result"
    }
   ],
   "source": [
    "ngram_dict_filtered = filter_dict(ngram_dict, min=1)\n",
    "sorted(ngram_dict_filtered.items(), key=lambda x: x[1], reverse=True)[10:]"
   ],
   "metadata": {
    "collapsed": false,
    "ExecuteTime": {
     "start_time": "2023-03-30T21:12:52.721665Z",
     "end_time": "2023-03-30T21:12:52.728901Z"
    }
   }
  },
  {
   "cell_type": "code",
   "execution_count": 26,
   "outputs": [
    {
     "data": {
      "text/plain": "1877"
     },
     "execution_count": 26,
     "metadata": {},
     "output_type": "execute_result"
    }
   ],
   "source": [
    "len(ngram_dict_filtered)"
   ],
   "metadata": {
    "collapsed": false,
    "ExecuteTime": {
     "start_time": "2023-03-30T21:12:26.194156Z",
     "end_time": "2023-03-30T21:12:26.200946Z"
    }
   }
  },
  {
   "cell_type": "markdown",
   "source": [
    "# Applying cleaning on all trigrams"
   ],
   "metadata": {
    "collapsed": false
   }
  },
  {
   "cell_type": "code",
   "execution_count": 23,
   "outputs": [],
   "source": [
    "destpath = \"../data/large_files/trigrams_filtered/\"\n",
    "os.makedirs(destpath)"
   ],
   "metadata": {
    "collapsed": false,
    "ExecuteTime": {
     "start_time": "2023-03-30T14:08:25.630414Z",
     "end_time": "2023-03-30T14:08:25.679077Z"
    }
   }
  },
  {
   "cell_type": "code",
   "execution_count": 27,
   "outputs": [],
   "source": [
    "with open(destpath + \"id_{}.json\".format(str(id)), \"w\") as f:\n",
    "    json.dump(ngram_dict_filtered, f)"
   ],
   "metadata": {
    "collapsed": false
   }
  },
  {
   "cell_type": "code",
   "execution_count": 133,
   "outputs": [
    {
     "data": {
      "text/plain": "{'The requirements': 2,\n 'form legends': 1,\n 'central theme': 1,\n 'given doctrine': 2,\n 'opponent alike They': 1,\n 'outer foreign authority': 1,\n 'com parison': 2,\n 'Jesus return': 1,\n 'Ibid p': 8,\n 'glory establish': 1,\n 'stands agreement': 1,\n 'righteousness Romans': 2,\n 'question existence': 2,\n 'thought within': 2,\n 'p f': 9,\n 'spirit Paul': 1,\n 'The apostle Paul': 1,\n 'become blessed': 2,\n 'situation Ibid': 1,\n 'sin order': 1,\n 'collect interpret': 1,\n 'three figures': 1,\n 'clear even': 1,\n 'means teaching': 2,\n 'less astonishment': 2,\n 'existence three': 1,\n 'Church Paul': 1,\n 'instead solving': 1,\n 'Good works': 1,\n 'resignare ad infernum': 1,\n 'notorious little word': 1,\n 'fall sin': 1,\n 'Luther knew': 1,\n 'The present treatise': 1,\n 'OF GRACE II': 1,\n 'types At': 1,\n 'cultic practices': 2,\n 'trust Similarly one': 1,\n 'symbolic form': 2,\n 'world Kingdom': 1,\n 'civil use': 2,\n 'rans doctrine': 1,\n 'reason proofs': 1,\n 'The changes': 1,\n 'Writings Shin': 2,\n 'Consequently one might': 1,\n 'complement Shinrans': 1,\n 'another tradition We': 1,\n 'pure inwardness': 2,\n 'Schweitzer whose interpretation': 1,\n 'God Luther expects': 1,\n 'joy But': 2,\n 'world death': 1,\n 'That generally': 1,\n 'Middle Ages': 2,\n 'Godenshõ especially': 1,\n 'religious worldviews': 3,\n 'made possible': 5,\n 'disobedience Gods': 1,\n 'radical revaluation': 2,\n 'Dei volúntate': 1,\n 'Shinrans radical': 1,\n 'Buddha Shakyamuni': 1,\n 'two distinct': 1,\n 'Western secularism': 2,\n 'Christianity gain': 1,\n 'writings For': 1,\n 'wish discuss': 1,\n 'participant salvation': 1,\n 'Amidas mercy': 2,\n 'ethical practice': 1,\n 'Faith directed': 1,\n 'former two': 1,\n 'incarnation Amida': 2,\n 'karma ie': 2,\n 'grace Paul': 3,\n 'two fronts': 1,\n 'Buddhists say': 2,\n 'births selfeffort': 1,\n 'mands proof': 1,\n 'visions erruptions': 1,\n 'sphere ethics': 1,\n 'texts others': 1,\n 'translation Shinrans': 1,\n 'Paul Shinran': 27,\n 'texts use': 1,\n 'life really': 2,\n 'reformer Luther': 2,\n 'That briefly': 2,\n 'im portant': 1,\n 'meaning In': 2,\n 'monks Maha': 1,\n 'enough penance': 1,\n 'authority therefore': 1,\n 'promised Messiah': 2,\n 'overlooked This problem': 1,\n 'us First': 2,\n 'plagued demonic': 1,\n 'Buddhism could': 1,\n 'withstand trial': 1,\n 'rather hoped': 2,\n 'Nevertheless must': 1,\n 'ones responsible': 2,\n 'com pletion': 2,\n 'point however': 1,\n 'This thought': 1,\n 'peccati nonimputation': 1,\n 'letters Luther': 1,\n 'hand seems': 2,\n 'works makes': 1,\n 'Christ history': 1,\n 'Despite manifest': 1,\n 'followers All': 1,\n 'word alone This': 1,\n 'tertius usus': 1,\n 'vow lies': 2,\n 'I wish': 2,\n 'evil spirits': 2,\n 'might say': 1,\n 'believe Amida': 1,\n 'oneself subject': 1,\n 'historical development': 2,\n 'developed specific': 1,\n 'Luthers idea': 2,\n 'later life': 1,\n 'son saying': 2,\n 'struggles The': 1,\n 'parts unmentioned One': 1,\n 'God Luther': 1,\n 'original sin cannot': 1,\n 'wholly trusting': 2,\n 'mans difficulty stems': 1,\n 'laws became guilty': 1,\n 'pure belief': 1,\n 'The differences': 1,\n 'corresponding ethical consequences': 1,\n 'process began': 1,\n 'D T Suzuki': 3,\n 'act influenced': 2,\n 'meaning existence': 3,\n 'life story': 2,\n 'Ueda Shizuteru': 1,\n 'within commonality': 1,\n 'separate us': 2,\n 'previously valid': 1,\n 'recipient THE': 1,\n 'things happened': 1,\n 'Gods com mand': 1,\n 'might proceed': 2,\n 'existing world': 7,\n 'acknowledgment guilt': 1,\n 'one destined': 2,\n 'always something': 2,\n 'merit He': 1,\n 'justifica tion took': 1,\n 'often dealings': 1,\n 'necessary sufficient': 1,\n 'dual personality': 2,\n 'doctrines salvation': 1,\n 'want receive': 1,\n 'com munity': 1,\n 'religion theology': 1,\n 'Buddha The': 1,\n 'Bodhisattva There': 2,\n 'Gesshö Collected': 1,\n 'works indeed': 1,\n 'case perform': 1,\n 'expects partly': 1,\n 'salva tion': 2,\n 'gift grace': 1,\n 'God As': 2,\n 'Buddhist Q': 1,\n 'become Bodhisattva': 1,\n 'On karma': 2,\n 'Shinran Luther': 15,\n 'hardly rare': 2,\n 'ones complete trust': 1,\n 'Shin sect': 5,\n 'sacraments Luther found': 1,\n 'exception It': 1,\n 'per ceived': 1,\n 'forms The Messiah': 1,\n 'Buddhist arrives': 1,\n 'Corinthians In': 1,\n 'holy law': 2,\n 'existence process': 1,\n 'justifies ungodly': 1,\n 'grace moves us': 1,\n 'Amidist belief': 4,\n 'albeit various': 1,\n 'present treatise': 3,\n 'enslaved mankind Galatians': 1,\n 'body closely': 1,\n 'says metaphysical': 1,\n 'may count': 2,\n 'The second': 2,\n 'could find': 1,\n 'WesternChristian understanding': 2,\n 'religious traditions': 3,\n 'In fact': 3,\n 'single thought': 2,\n 'young Luther knew': 1,\n 'encounter ideas': 1,\n 'Christian church Luthers': 1,\n 'texts legitimately': 2,\n 'blood theology': 1,\n 'Shinran thought': 1,\n 'holy tradition': 12,\n 'Land Amida': 1,\n 'alone As': 1,\n 'mystical spiritualism': 2,\n 'concept secularism': 1,\n 'I Corinthians': 4,\n 'tradition Each': 2,\n 'differences Paul': 1,\n 'Obendiek Ber Teufel': 1,\n 'age mental': 1,\n 'hand state': 1,\n 'also know': 1,\n 'Shinran making': 1,\n 'grace alone': 12,\n 'particular form': 2,\n 'IV If gracemonism': 1,\n 'traditional early Christian': 1,\n 'Christ Amida': 2,\n 'Shinrans emphasis': 2,\n 'enabled replace': 1,\n 'spiritual rule': 2,\n 'historically psychologically': 1,\n 'nonimputatio peccati nonimputation': 1,\n 'Old Testament': 3,\n 'cognize distinctness': 1,\n 'spirit already': 1,\n 'aeon The effect': 1,\n 'good works': 5,\n 'Luther expects': 1,\n 'cancels commands': 1,\n 'eternally valid truth': 1,\n 'however wish': 1,\n 'beyond limitations': 1,\n 'form aim': 1,\n 'authority instead': 1,\n 'Damascus road': 2,\n 'different mine': 1,\n 'It also': 2,\n 'Amida belief': 8,\n 'wings modern': 1,\n 'became necessary': 2,\n 'traditional texts': 2,\n 'remain true': 2,\n 'grace cancels': 2,\n 'saw Jesus': 1,\n 'new works righteousness': 1,\n 'hoped reaffirm': 1,\n 'time reached': 1,\n 'respective ideas': 3,\n 'arisen new': 1,\n 'excerpts commentaries': 1,\n 'beyond bounds': 1,\n 'us far': 1,\n 'directly related': 2,\n 'leads history toward': 1,\n 'reversed In': 1,\n 'exaggerated formulations Perhaps': 1,\n 'Biblical belief man': 1,\n 'clear however': 2,\n 'ones This similarity': 1,\n 'God stands': 1,\n 'consists doubtlessly': 1,\n 'one sceptical': 1,\n 'definite spiritual': 1,\n 'ways dealing': 1,\n 'reality The': 1,\n 'Suzuki Daisetz': 2,\n 'negative attitude': 1,\n 'criticism Zen': 1,\n 'sunt aut non': 1,\n 'Cf Suzukis': 1,\n 'free joyful': 1,\n 'kingdom God': 1,\n 'teaching instead': 2,\n 'Testament regard': 1,\n 'pattern commonly': 1,\n 'state one': 1,\n 'nonsalvation The inclination': 1,\n 'selfeffort typified': 2,\n 'otherwise tolerant attitude': 1,\n 'yet lives according': 1,\n 'con sequence': 2,\n 'faith Luther': 1,\n 'Amidaization Pauline': 1,\n 'way salvation': 3,\n 'fundamental difference': 1,\n 'sacrifice God': 1,\n 'relation tradition': 2,\n 'THE CONCEPT': 10,\n 'Suzukis English translation': 1,\n 'We might say': 1,\n 'problem common': 2,\n 'practice The': 1,\n 'mans lack': 2,\n 'faith alone without': 1,\n 'Christian life': 2,\n 'presuppositions Those': 2,\n 'try find': 1,\n 'beyond history Paul': 1,\n 'Buddhist canon He': 1,\n 'even hell': 1,\n 'International Congress': 2,\n 'brings three': 1,\n 'Pure Land possible': 1,\n 'cf Tanni Sbõ': 1,\n 'often encountered': 2,\n 'validating authority': 1,\n 'limits example': 1,\n 'Shinran According': 2,\n 'existing world That': 1,\n 'Rokkakudõ Temple': 2,\n 'regardless philosophy': 1,\n 'grace They could': 1,\n 'unique supernatural': 1,\n 'specific way': 1,\n 'sacraments The changes': 1,\n 'realization even': 2,\n 'endtime latterday': 1,\n 'removed final': 1,\n 'sin Romans f': 2,\n 'followers Shinran': 2,\n 'reserve Even': 2,\n 'supplied one basis': 1,\n 'ity Shinrans': 1,\n 'still remains': 1,\n 'Lutheran heresy': 2,\n 'D T': 2,\n 'Amida Buddha': 2,\n 'Christ Paul knows': 1,\n 'THE EASTERN BUDDHIST': 11,\n 'In Christian': 1,\n 'beyond time': 1,\n 'trust given': 1,\n 'Since could': 1,\n 'brings supernatural': 1,\n 'longer share': 2,\n 'The recitation': 1,\n 'grace works': 1,\n 'promised assistance': 2,\n 'Amida Buddhism today': 1,\n 'forms Mahayana': 1,\n 'fundamental differences': 2,\n 'Judaism In Buddhism': 1,\n 'life generally': 1,\n 'Acts But': 1,\n 'subject matter That': 1,\n 'say Paul': 1,\n 'especially significant': 2,\n 'As far': 1,\n 'followers Christianity': 1,\n 'Luther acquainted': 1,\n 'appeared originally': 2,\n 'Luther Fritz': 1,\n 'consequent unworldliness': 2,\n 'intend show': 1,\n 'BUDDHIST Although': 1,\n 'friends opponents': 1,\n 'one might': 1,\n 'contrast Buddhisms': 1,\n 'relying simply': 2,\n 'Buddhistic concepts': 2,\n 'sacred fact': 2,\n 'cycle without': 1,\n 'subjectivity thought': 1,\n 'oneself hell': 1,\n 'blood theology makes': 1,\n 'revelation Galatians': 1,\n 'sacred history': 4,\n 'instance supports': 2,\n 'eschatological idea': 2,\n 'salvation terms': 1,\n 'far I': 1,\n 'us thinking': 1,\n 'On one': 1,\n 'I used parts': 1,\n 'surrounded miraculous': 1,\n 'tradition definite': 1,\n 'Ueda Shizuteru Die': 1,\n 'misunderstand ing': 1,\n 'cannot objectified': 1,\n 'holy tradition The': 1,\n 'legis third use': 1,\n 'everything Does': 2,\n 'Buddhists antipathy': 2,\n 'Yet dual': 1,\n 'religion Shinran': 1,\n 'answers sought': 1,\n 'resurrection Christ': 1,\n 'also simplest': 1,\n 'cycle without beginning': 1,\n 'lives saints': 1,\n 'supernatural experiences': 1,\n 'Avaloki tesvara': 1,\n 'fruitful In order': 1,\n 'In Judaism mans': 1,\n 'temporal continuum': 2,\n 'early Christianity': 1,\n 'resurrection significance': 1,\n 'intellectual environments': 1,\n 'concept today': 2,\n 'saints Such': 1,\n 'impulse certainly': 1,\n 'new aeon': 9,\n 'cross atoned': 2,\n 'similar opposition': 1,\n 'knows neither': 1,\n 'The followers': 1,\n 'even harmful': 1,\n 'Nembutsu example': 1,\n 'possibly derive ultimately': 1,\n 'believing trust For': 1,\n 'Shinran says': 1,\n 'Shinran also': 1,\n 'Schweitzer Die Mystik': 1,\n 'Scheel Dokumente zu': 1,\n 'thought It becomes': 1,\n 'becoming Bodhisattva': 1,\n 'turn first': 1,\n 'misreading Chinese': 1,\n 'evil He': 2,\n 'For Shinran salvation': 1,\n 'Messianic title Christ': 1,\n 'conclusions whereby': 1,\n 'new ones This': 1,\n 'encountered seem': 1,\n 'world karma': 1,\n 'authoritative cannot': 1,\n 'Kyõryõsbinshõ p': 1,\n 'far away': 2,\n 'Shinran along': 2,\n 'It forms': 1,\n 'easily misunderstood': 2,\n 'Christian ity Shinrans': 1,\n 'mine Albert Schweitzer': 1,\n 'reconciliation He': 2,\n 'three dimensions': 1,\n 'man man': 1,\n 'damned God': 1,\n 'resulting entanglement': 2,\n 'two important works': 1,\n 'Christianization Shinran': 1,\n 'teach nothing': 2,\n 'forced regard': 1,\n 'Christs body': 2,\n 'difficulties Christianity': 1,\n 'articles D': 1,\n 'salvation demonstrable': 1,\n 'Christ resurrected': 1,\n 'Christian eschatology Belief': 1,\n 'belief stands': 1,\n 'teachable doctrinal form': 1,\n 'us live': 1,\n 'true intention': 2,\n 'different Nevertheless': 2,\n 'continued existence': 2,\n 'designate center': 1,\n 'gaude sin strongly': 1,\n 'different idea': 2,\n 'believing trust': 1,\n 'deficient polemic': 2,\n 'metaphysical reality': 2,\n 'formulations Perhaps': 1,\n 'realization meaning': 1,\n 'close relation': 2,\n 'Pauls requirement': 2,\n 'said speaking': 1,\n 'leads thought astray': 1,\n 'later developed': 2,\n 'Luthers assertion': 2,\n 'difficulty lies': 2,\n 'Paul stands': 2,\n 'saved The': 1,\n 'common Paul': 2,\n 'taught Shinran': 1,\n 'hell God': 1,\n 'holds true even': 2,\n 'best serve': 2,\n 'In Catholic': 1,\n 'never really': 1,\n 'approach tradition': 1,\n 'Jesuits sint': 1,\n 'cf Acts': 3,\n 'depreciatory judgments': 1,\n 'longer frighten': 2,\n 'foreign authority For': 1,\n 'Amida stands': 2,\n 'Gods command': 2,\n 'salvation maintains': 2,\n 'objectified Not': 2,\n 'In Kyõgyõshinshõ': 1,\n 'reformers furnish us': 1,\n 'Amida really made': 1,\n 'Kingdom God': 8,\n 'original universal religious': 1,\n 'In sense': 1,\n 'revelations Such things': 1,\n 'Otto Scheel Dokumente': 1,\n 'psychologically reference': 1,\n 'The Life': 2,\n 'It true': 1,\n 'three authorities': 1,\n 'blessedness In fact': 1,\n 'Die Mystik des': 1,\n 'ideas regarding incarnation': 1,\n 'withstand final': 1,\n 'demonic forces appear': 1,\n 'acceptance grace': 1,\n 'sacrificial death': 2,\n 'world beset': 2,\n 'man arrives': 1,\n 'That led': 1,\n 'grace within': 1,\n 'better validate': 2,\n 'followed another': 1,\n 'would want': 2,\n 'Zen Just': 2,\n 'divine revelation Galatians': 1,\n 'aforementioned basic concepts': 1,\n 'monastery also': 1,\n 'BiblicalChristian eschatology': 1,\n 'existence seen': 1,\n 'modern Western culture': 1,\n 'alone That': 1,\n 'Pauls questionable': 1,\n 'foreign merit He': 1,\n 'Allembracing Mercy': 3,\n 'mind spirit': 2,\n 'Lutheranism demonstrate': 2,\n 'Their chosen way': 1,\n 'world In spite': 1,\n 'struggle gain': 1,\n 'religions It': 2,\n 'gracemonism stands': 2,\n 'cross resurrection': 1,\n 'salvation put': 1,\n 'More obviously': 2,\n 'As regards': 1,\n 'event dimensionally': 1,\n 'endless repetition However': 1,\n 'mean ing': 2,\n 'earliest Christianity': 2,\n 'married Because Amida': 1,\n 'Luther But': 2,\n 'EASTERN BUDDHIST': 4,\n 'Jesuits sint ut': 1,\n 'existence earlier found': 1,\n 'fact prove': 2,\n 'meaninglessness It': 2,\n 'curious fact': 2,\n 'set refuting': 1,\n 'treatise lectures': 1,\n 'within beyond': 1,\n 'time unites': 1,\n 'salvation freedom': 1,\n 'three figures The': 1,\n 'means resolves': 2,\n 'resurrected body': 1,\n 'finds man': 1,\n 'sin guilt': 1,\n 'suggesting belief': 1,\n 'savior different': 1,\n 'pope take': 2,\n 'discerned albeit': 2,\n 'Paul E Corinthians': 1,\n 'Bodhisattvabeing Amida': 2,\n 'gnostic concept': 2,\n 'Buddhist Society': 3,\n 'characteristic furthermore': 2,\n 'directed toward': 2,\n 'savior types At': 1,\n 'despite basic': 1,\n 'wholly different basis': 1,\n 'consequently also': 2,\n 'ungodly faith': 1,\n 'hereafter referred': 1,\n 'The Songs': 1,\n 'even perhaps': 1,\n 'yet living': 2,\n 'It rests entirely': 1,\n 'change existent': 1,\n 'The inclination': 1,\n 'endured bind': 1,\n 'immediate future Luther': 1,\n 'monastic life': 2,\n 'something Paul': 1,\n 'interprets passage': 1,\n 'grace In': 1,\n 'Paul Luther': 8,\n 'conceptualobjective thinking': 2,\n 'ultimately extinction': 1,\n 'common Paul argues': 1,\n 'Jew well': 1,\n 'idea often': 1,\n 'revered one': 1,\n 'igno rance': 2,\n 'forms Pauls world': 1,\n 'holy act': 2,\n 'publication two': 1,\n 'I Paul Shinran': 1,\n 'EASTERN BUDDHIST This': 1,\n 'may discerned': 1,\n 'historical personality Amida': 1,\n 'means trust': 1,\n 'grace come': 1,\n 'attitude toward': 1,\n 'Collected Writings': 16,\n 'subjectobject scheme': 2,\n 'GRACE reckoned': 1,\n 'church arose among': 1,\n 'Zen although regardless': 1,\n 'supernatural occurrences': 2,\n 'find peace': 2,\n 'given significance': 1,\n 'spiritual landscape': 1,\n 'Their place': 1,\n 'law Paul': 1,\n 'us today': 3,\n 'consequences ethical': 1,\n 'new forms': 3,\n 'Tannisbõy vm included': 1,\n 'constantly hand': 1,\n 'Nembutsu thought': 1,\n 'mental environment': 2,\n 'forth criticism': 1,\n 'every time': 2,\n 'passed away behold': 1,\n 'happened Paul': 1,\n 'As Paul': 1,\n 'baptism believers': 1,\n 'The Kyõryõsbinshõ p': 1,\n 'also us': 1,\n 'Land possible In': 1,\n 'sense three': 1,\n 'go another': 1,\n 'disastrous effect': 2,\n 'JewishChristian com munity': 1,\n 'ethics In': 1,\n 'never experiences Amida': 1,\n 'Shinrans relation': 2,\n 'faith unbelievers men': 1,\n 'humility unworthiness': 1,\n 'arose among': 1,\n 'given credence': 2,\n 'anyway But': 1,\n 'Luther even': 2,\n 'By virtue': 3,\n 'Jõdo sect': 3,\n 'Buddhism Luthers': 1,\n 'law Paul Shinran': 1,\n 'may take': 1,\n 'pp hi f': 1,\n 'Lutheran theology The': 1,\n 'origins grace': 1,\n 'Buddhisms otherwise': 1,\n 'In regard': 1,\n 'position within': 1,\n 'savior Christ': 2,\n 'endtime The significance': 1,\n 'differences awareness': 1,\n 'promises Just': 2,\n 'cycle In': 1,\n 'history The': 1,\n 'Amida Buddhism precisely': 1,\n 'Maha yana represents': 1,\n 'common struggle': 2,\n 'Here became': 1,\n 'discussion historical': 1,\n 'serious contemplation': 2,\n 'existent world In': 1,\n 'wills This': 2,\n 'formal basis': 2,\n 'least Paul': 2,\n 'Christ This parallels': 1,\n 'three cognize': 1,\n 'In Judaism': 2,\n 'earliest Christianitys idea': 1,\n 'existence For Luther': 1,\n 'merit possesses': 1,\n 'Amida power': 1,\n 'end Salvation means': 1,\n 'reference holy': 2,\n 'teaching grounded': 1,\n 'Paul first': 1,\n 'recognizes Jesus': 1,\n 'prevent new': 1,\n 'EASTERN BUDDHIST apocalypticism': 1,\n 'Pauls meaning': 2,\n 'salvation nonsalvation': 1,\n 'Shinran supposed': 1,\n 'reproach Paul': 1,\n 'thereby enter': 2,\n 'leads history': 1,\n 'space It': 2,\n 'attempt realize': 1,\n 'Shinrans Jõdo Shin': 1,\n 'earliest Christian eschatology': 1,\n 'Far Eastern': 2,\n 'opposition tariki': 1,\n 'Jesuit missionary': 1,\n 'new searches': 1,\n 'became founder': 1,\n 'th birthday I': 1,\n 'thinking subjects': 1,\n 'Sutra Eternal': 2,\n 'theologian Shinrans chief': 1,\n 'enviable timelessness': 2,\n 'attitudes might': 2,\n 'differences us': 1,\n 'valid content': 1,\n 'new function But': 1,\n 'Certainly Shinran': 1,\n 'lectures presented': 1,\n 'Buddhism could learn': 1,\n 'faith savior': 1,\n 'heaven This': 2,\n 'promise really': 2,\n 'teachers Jõdo': 1,\n 'faith however consists': 1,\n 'able successfully': 1,\n 'order grace': 1,\n 'historicalsuprahistorical event': 2,\n 'generally followed': 2,\n 'church hymns': 1,\n 'three actually bring': 1,\n 'God Amida': 1,\n 'grace means': 2,\n 'time reached beyond': 1,\n 'two distinct ethical': 1,\n 'religious thinkers Mutual': 1,\n 'Mosaic law': 1,\n 'und der Durchbrucb': 1,\n 'Paul quotes Christian': 1,\n 'basically differences': 2,\n 'Tannisbõ ģm': 1,\n 'II Corinthians': 2,\n 'resign oneself': 2,\n 'since Biblical': 1,\n 'ones act': 1,\n 'three primary': 1,\n 'exaggerated formulations': 3,\n 'Karl Barth Kirchliche': 1,\n 'share Christs': 1,\n 'account recorded': 1,\n 'respective religions': 1,\n 'Jesus In time': 1,\n 'mand therefore': 1,\n 'collection texts': 1,\n 'mind become': 1,\n 'matter personal': 1,\n 'greater portent': 2,\n 'opponent alike': 1,\n 'Pure Land': 13,\n 'earth soul': 1,\n 'share Unlike': 1,\n 'notion Jesus': 1,\n 'Wasan songs Yet': 1,\n 'previously valid concepts': 1,\n 'valuates Christian': 1,\n 'possibilities remain': 2,\n 'understand spiritual': 1,\n 'main tain': 2,\n 'Tannisbõ ģm While': 1,\n 'process moved beyond': 1,\n 'enter Nirvana': 6,\n 'prince advice': 2,\n 'trans formation': 2,\n 'Psalms stories': 1,\n 'forms In': 1,\n 'evangelism All': 1,\n 'sees problem': 1,\n 'Bodhi sattva ideal': 1,\n 'usus legis': 1,\n 'followers Paul': 1,\n 'promise The content': 1,\n 'salvation aims': 2,\n 'For Amida': 1,\n 'piety On': 2,\n 'This process began': 1,\n 'grace resulted': 2,\n 'Suzuki opposes': 2,\n 'confessions But Paul': 1,\n 'church continued': 1,\n 'figures The starting': 1,\n 'legitimately It': 1,\n 'law works': 1,\n 'Wasan songs': 1,\n 'rule evil': 1,\n 'training faith': 1,\n 'winter semester': 2,\n 'public pecca fortiter': 1,\n 'churchly institution': 2,\n 'Christ Paul': 1,\n 'reference Paul': 1,\n 'grace moves': 1,\n 'expects resurrected': 1,\n 'teaching We might': 1,\n 'world foolishness': 1,\n 'eschatology Belief': 1,\n 'similar Luthers': 1,\n 'infernum pro Dei': 1,\n 'belief man arrives': 1,\n 'rejection monasticism': 1,\n 'person never experiences': 1,\n 'tradition Paul': 1,\n 'terms becoming': 1,\n 'spiritual world': 4,\n 'manifest differences': 2,\n 'Shinran interprets': 1,\n 'certain inner': 2,\n 'saviors one may': 1,\n 'imparting salvation': 2,\n 'unsaved area': 2,\n 'frighten believer': 1,\n 'find subjectobject': 1,\n 'aforementioned basic': 1,\n 'main reason': 1,\n 'He state': 1,\n 'devil The good': 1,\n 'Testament Psalms': 1,\n 'holy tradition Each': 1,\n 'even though': 1,\n 'aspects The first': 1,\n 'Luther adjoins': 1,\n 'Buddhism But Christ': 1,\n 'Biblical Buddhist': 1,\n 'divine powers': 2,\n 'Karuna absurd': 1,\n 'friend opponent': 1,\n 'made vow': 2,\n 'theory whether': 1,\n 'In Paul': 1,\n 'tion Shinran radicalized': 1,\n 'ac cording': 1,\n 'lief Paul': 1,\n 'opposition two': 1,\n 'Luther however': 2,\n 'tradition Paul Shinran': 1,\n 'general accordance': 2,\n 'Amidas name': 1,\n 'There also': 1,\n 'overcome Christ': 1,\n 'done enough penance': 1,\n 'aut non sint': 1,\n 'letters asserts': 1,\n 'tradition Luther': 1,\n 'tain relation': 1,\n 'really speak': 2,\n 'Christianization Amida': 1,\n 'attitude inappropriate': 1,\n 'With early': 1,\n 'longer belonged': 2,\n 'concepts faith': 1,\n 'Zen Buddhism': 2,\n 'presented August': 1,\n 'Shinran Shonin': 3,\n 'even worse': 2,\n 'grace Shinran': 3,\n 'betterment If Amida': 1,\n 'one tradition': 1,\n 'separate spheres': 2,\n 'dead successfully withstand': 1,\n 'temporal happening': 2,\n 'hardly accidental': 1,\n 'understand ones': 2,\n 'church found': 2,\n 'authority affirma': 1,\n 'Tannishõ Shinran': 1,\n 'Jesus The nature': 1,\n 'still refuse': 2,\n 'The significance': 1,\n 'teaching also': 1,\n 'Grace Paul': 1,\n 'grace already': 1,\n 'documents differently although': 1,\n 'reconcile former': 1,\n 'driving impulse': 1,\n 'blessed much': 1,\n 'assertion Buddhism': 1,\n 'Amida leaves': 1,\n 'Western world': 2,\n 'Collected Writings pp': 1,\n 'also significant': 2,\n 'justification He reproaches': 1,\n 'OF GRACE V': 1,\n 'honoring teachers': 1,\n 'refuse see': 1,\n 'two important': 1,\n 'doctrine salvation': 1,\n 'early Christians': 2,\n 'active realization': 1,\n 'complete trust': 3,\n 'Christs return': 2,\n 'Kyõgyõshinshõ Shinran': 1,\n 'joyful fulfillment': 4,\n 'distinction good': 1,\n 'He like Amida': 1,\n 'Christianization Buddhism': 1,\n 'understandable Karl': 1,\n 'lives It': 2,\n 'Suzuki Sasaki': 1,\n 'Glossary The': 1,\n 'GRACE karma': 1,\n 'likewise per': 1,\n 'practice The fact': 1,\n 'conflicts nomism': 1,\n 'undemonstrable nature': 1,\n 'suggests possible': 1,\n 'basis Bodhisattvabeing': 1,\n 'theologia crucis': 3,\n 'safe guard': 2,\n 'Mahayana In': 2,\n 'And young': 1,\n 'distinctness three': 1,\n 'Amida transfers': 2,\n 'salvation With': 1,\n 'It characteristic': 1,\n 'figure Christ': 1,\n 'aside vestiges': 1,\n 'Mahayana Buddhism': 2,\n 'world That': 1,\n 'forms worldfleeing': 1,\n 'Buddhist representative': 2,\n 'formula Namuamidabutsu': 2,\n 'f Collected': 1,\n 'This made': 1,\n 'new come': 1,\n 'sense designa': 1,\n 'pecca fortiter sed': 1,\n 'possible Christianization': 2,\n 'effects upon': 2,\n 'visit Japan': 1,\n 'prepares one': 2,\n 'cannot say': 1,\n 'similarity among': 1,\n 'worldfleeing self': 1,\n 'Christian faith': 2,\n 'chosen way': 1,\n 'holy writings For': 1,\n 'conflict traditional': 1,\n 'religions Catholic': 2,\n 'aeon begun': 1,\n 'This trust': 1,\n 'Catholic synergism Luther': 1,\n 'time produces': 1,\n 'OF GRACE still': 1,\n 'solving problems': 1,\n 'another way It': 1,\n 'Luther expect': 2,\n 'circle karma': 1,\n 'thorough serious': 1,\n 'shows men': 2,\n 'good reason': 2,\n 'way life': 2,\n 'Christ arise': 1,\n 'see discussions': 2,\n 'Concept Grace': 1,\n 'religious worldviews Pauls': 1,\n 'Pauline Lutheran': 1,\n 'religions also': 1,\n 'longer endeavours simply': 1,\n 'Romans f': 1,\n 'grace constantly': 2,\n 'concern salvation': 1,\n 'able extinguish': 1,\n 'us evidence': 1,\n 'encountered Amida': 1,\n 'ascended Lord': 1,\n 'salvation possibility': 1,\n 'quite fragile': 1,\n 'Shin Buddhism': 3,\n 'Luthers criticism': 2,\n 'graceless age': 2,\n 'eschatology history comes': 1,\n 'mythology philosophical': 2,\n 'Church originat ing': 1,\n 'religious tradition granted': 1,\n 'Christ This': 1,\n 'belief comes': 1,\n 'For Luther Gods': 1,\n 'therefore say': 2,\n 'Shinrans criticism': 1,\n 'already effective': 2,\n 'certain canonical books': 1,\n 'mentioned In': 1,\n 'salvific significance': 2,\n 'public pecca': 1,\n 'three actually': 1,\n 'Buddhism generally': 1,\n 'Shinran piety': 1,\n 'God The': 1,\n 'partly differing presuppositions': 1,\n 'Messiah dies': 1,\n 'Shinran believes': 2,\n ...}"
     },
     "execution_count": 133,
     "metadata": {},
     "output_type": "execute_result"
    }
   ],
   "source": [
    "#json.load(open(destpath + \"id_1.json\"))"
   ],
   "metadata": {
    "collapsed": false
   }
  },
  {
   "cell_type": "code",
   "execution_count": 17,
   "outputs": [
    {
     "name": "stdout",
     "output_type": "stream",
     "text": [
      "CPU times: user 13min 53s, sys: 22.3 s, total: 14min 15s\n",
      "Wall time: 15min\n"
     ]
    }
   ],
   "source": [
    "%%time\n",
    "data_ngrams = Counter()\n",
    "sourcepath = \"../data/large_files/trigrams_raw/\"\n",
    "for id in ids:\n",
    "    ngram_dict = json.load(open(sourcepath +  \"trigrams_{}.json\".format(str(id)), \"r\"))\n",
    "    d_cleaned = filter_dict(ngram_dict)\n",
    "    with open(destpath + \"filtered_id_{}.json\".format(str(id)), \"w\") as f:\n",
    "        json.dump(d_cleaned, f)\n",
    "    data_ngrams.update(d_cleaned)"
   ],
   "metadata": {
    "collapsed": false
   }
  },
  {
   "cell_type": "code",
   "execution_count": 18,
   "outputs": [
    {
     "data": {
      "text/plain": "45296539"
     },
     "execution_count": 18,
     "metadata": {},
     "output_type": "execute_result"
    }
   ],
   "source": [
    "len(data_ngrams)"
   ],
   "metadata": {
    "collapsed": false
   }
  },
  {
   "cell_type": "code",
   "execution_count": 19,
   "outputs": [
    {
     "name": "stdout",
     "output_type": "stream",
     "text": [
      "CPU times: user 6.15 s, sys: 2.57 s, total: 8.72 s\n",
      "Wall time: 9.93 s\n"
     ]
    },
    {
     "data": {
      "text/plain": "1325945"
     },
     "execution_count": 19,
     "metadata": {},
     "output_type": "execute_result"
    }
   ],
   "source": [
    "%%time\n",
    "data_trigrams_sorted = sorted(data_ngrams.items(), key=lambda kv: kv[1], reverse=True)\n",
    "len([el for el in data_trigrams_sorted if el[1] > 10])"
   ],
   "metadata": {
    "collapsed": false
   }
  },
  {
   "cell_type": "code",
   "execution_count": 20,
   "outputs": [
    {
     "data": {
      "text/plain": "2330940"
     },
     "execution_count": 20,
     "metadata": {},
     "output_type": "execute_result"
    }
   ],
   "source": [
    "to_lemmatize = [el for el in data_trigrams_sorted if el[1] > 5]\n",
    "len(to_lemmatize)"
   ],
   "metadata": {
    "collapsed": false
   }
  },
  {
   "cell_type": "code",
   "execution_count": 36,
   "outputs": [],
   "source": [
    "# use spacy to generate \"Doc\" object for ngram\n",
    "# (use carefully, takes some time)\n",
    "tags = [\"NOUN\", \"ADJ\", \"VERB\", \"PROPN\"]\n",
    "\n",
    "def get_lemma_filtered(string):\n",
    "    #lemmata = \" \".join([t.lemma for t in nlp_stanza(string).sentences[0].words if t.pos in tags])\n",
    "    lemmata = \" \".join([t.lemma_ for t in nlp_spacy(string) if t.pos_ in tags])\n",
    "    return lemmata"
   ],
   "metadata": {
    "collapsed": false,
    "ExecuteTime": {
     "start_time": "2023-03-30T21:28:37.121425Z",
     "end_time": "2023-03-30T21:28:37.170472Z"
    }
   }
  },
  {
   "cell_type": "code",
   "execution_count": 25,
   "outputs": [
    {
     "name": "stdout",
     "output_type": "stream",
     "text": [
      "0\n",
      "2000\n",
      "4000\n",
      "6000\n",
      "8000\n",
      "10000\n",
      "12000\n",
      "14000\n",
      "16000\n",
      "18000\n",
      "20000\n",
      "22000\n",
      "24000\n",
      "26000\n",
      "28000\n",
      "30000\n",
      "32000\n",
      "34000\n",
      "36000\n",
      "38000\n",
      "40000\n",
      "42000\n",
      "44000\n",
      "46000\n",
      "48000\n",
      "50000\n",
      "52000\n",
      "54000\n",
      "56000\n",
      "58000\n",
      "60000\n",
      "62000\n",
      "64000\n",
      "66000\n",
      "68000\n",
      "70000\n",
      "72000\n",
      "74000\n",
      "76000\n",
      "78000\n",
      "80000\n",
      "82000\n",
      "84000\n",
      "86000\n",
      "88000\n",
      "90000\n",
      "92000\n",
      "94000\n",
      "96000\n",
      "98000\n",
      "100000\n",
      "102000\n",
      "104000\n",
      "106000\n",
      "108000\n",
      "110000\n",
      "112000\n",
      "114000\n",
      "116000\n",
      "118000\n",
      "120000\n",
      "122000\n",
      "124000\n",
      "126000\n",
      "128000\n",
      "130000\n",
      "132000\n",
      "134000\n",
      "136000\n",
      "138000\n",
      "140000\n",
      "142000\n",
      "144000\n",
      "146000\n",
      "148000\n",
      "150000\n",
      "152000\n",
      "154000\n",
      "156000\n",
      "158000\n",
      "160000\n",
      "162000\n",
      "164000\n",
      "166000\n",
      "168000\n",
      "170000\n",
      "172000\n",
      "174000\n",
      "176000\n",
      "178000\n",
      "180000\n",
      "182000\n",
      "184000\n",
      "186000\n",
      "188000\n",
      "190000\n",
      "192000\n",
      "194000\n",
      "196000\n",
      "198000\n",
      "200000\n",
      "202000\n",
      "204000\n",
      "206000\n",
      "208000\n",
      "210000\n",
      "212000\n",
      "214000\n",
      "216000\n",
      "218000\n",
      "220000\n",
      "222000\n",
      "224000\n",
      "226000\n",
      "228000\n",
      "230000\n",
      "232000\n",
      "234000\n",
      "236000\n",
      "238000\n",
      "240000\n",
      "242000\n",
      "244000\n",
      "246000\n",
      "248000\n",
      "250000\n",
      "252000\n",
      "254000\n",
      "256000\n",
      "258000\n",
      "260000\n",
      "262000\n",
      "264000\n",
      "266000\n",
      "268000\n",
      "270000\n",
      "272000\n",
      "274000\n",
      "276000\n",
      "278000\n",
      "280000\n",
      "282000\n",
      "284000\n",
      "286000\n",
      "288000\n",
      "290000\n",
      "292000\n",
      "294000\n",
      "296000\n",
      "298000\n",
      "300000\n",
      "302000\n",
      "304000\n",
      "306000\n",
      "308000\n",
      "310000\n",
      "312000\n",
      "314000\n",
      "316000\n",
      "318000\n",
      "320000\n",
      "322000\n",
      "324000\n",
      "326000\n",
      "328000\n",
      "330000\n",
      "332000\n",
      "334000\n",
      "336000\n",
      "338000\n",
      "340000\n",
      "342000\n",
      "344000\n",
      "346000\n",
      "348000\n",
      "350000\n",
      "352000\n",
      "354000\n",
      "356000\n",
      "358000\n",
      "360000\n",
      "362000\n",
      "364000\n",
      "366000\n",
      "368000\n",
      "370000\n",
      "372000\n",
      "374000\n",
      "376000\n",
      "378000\n",
      "380000\n",
      "382000\n",
      "384000\n",
      "386000\n",
      "388000\n",
      "390000\n",
      "392000\n",
      "394000\n",
      "396000\n",
      "398000\n",
      "400000\n",
      "402000\n",
      "404000\n",
      "406000\n",
      "408000\n",
      "410000\n",
      "412000\n",
      "414000\n",
      "416000\n",
      "418000\n",
      "420000\n",
      "422000\n",
      "424000\n",
      "426000\n",
      "428000\n",
      "430000\n",
      "432000\n",
      "434000\n",
      "436000\n",
      "438000\n",
      "440000\n",
      "442000\n",
      "444000\n",
      "446000\n",
      "448000\n",
      "450000\n",
      "452000\n",
      "454000\n",
      "456000\n",
      "458000\n",
      "460000\n",
      "462000\n",
      "464000\n",
      "466000\n",
      "468000\n",
      "470000\n",
      "472000\n",
      "474000\n",
      "476000\n",
      "478000\n",
      "480000\n",
      "482000\n",
      "484000\n",
      "486000\n",
      "488000\n",
      "490000\n",
      "492000\n",
      "494000\n",
      "496000\n",
      "498000\n",
      "500000\n",
      "502000\n",
      "504000\n",
      "506000\n",
      "508000\n",
      "510000\n",
      "512000\n",
      "514000\n",
      "516000\n",
      "518000\n",
      "520000\n",
      "522000\n",
      "524000\n",
      "526000\n",
      "528000\n",
      "530000\n",
      "532000\n",
      "534000\n",
      "536000\n",
      "538000\n",
      "540000\n",
      "542000\n",
      "544000\n",
      "546000\n",
      "548000\n",
      "550000\n",
      "552000\n",
      "554000\n",
      "556000\n",
      "558000\n",
      "560000\n",
      "562000\n",
      "564000\n",
      "566000\n",
      "568000\n",
      "570000\n",
      "572000\n",
      "574000\n",
      "576000\n",
      "578000\n",
      "580000\n",
      "582000\n",
      "584000\n",
      "586000\n",
      "588000\n",
      "590000\n",
      "592000\n",
      "594000\n",
      "596000\n",
      "598000\n",
      "600000\n",
      "602000\n",
      "604000\n",
      "606000\n",
      "608000\n",
      "610000\n",
      "612000\n",
      "614000\n",
      "616000\n",
      "618000\n",
      "620000\n",
      "622000\n",
      "624000\n",
      "626000\n",
      "628000\n",
      "630000\n",
      "632000\n",
      "634000\n",
      "636000\n",
      "638000\n",
      "640000\n",
      "642000\n",
      "644000\n",
      "646000\n",
      "648000\n",
      "650000\n",
      "652000\n",
      "654000\n",
      "656000\n",
      "658000\n",
      "660000\n",
      "662000\n",
      "664000\n",
      "666000\n",
      "668000\n",
      "670000\n",
      "672000\n",
      "674000\n",
      "676000\n",
      "678000\n",
      "680000\n",
      "682000\n",
      "684000\n",
      "686000\n",
      "688000\n",
      "690000\n",
      "692000\n",
      "694000\n",
      "696000\n",
      "698000\n",
      "700000\n",
      "702000\n",
      "704000\n",
      "706000\n",
      "708000\n",
      "710000\n",
      "712000\n",
      "714000\n",
      "716000\n",
      "718000\n",
      "720000\n",
      "722000\n",
      "724000\n",
      "726000\n",
      "728000\n",
      "730000\n",
      "732000\n",
      "734000\n",
      "736000\n",
      "738000\n",
      "740000\n",
      "742000\n",
      "744000\n",
      "746000\n",
      "748000\n",
      "750000\n",
      "752000\n",
      "754000\n",
      "756000\n",
      "758000\n",
      "760000\n",
      "762000\n",
      "764000\n",
      "766000\n",
      "768000\n",
      "770000\n",
      "772000\n",
      "774000\n",
      "776000\n",
      "778000\n",
      "780000\n",
      "782000\n",
      "784000\n",
      "786000\n",
      "788000\n",
      "790000\n",
      "792000\n",
      "794000\n",
      "796000\n",
      "798000\n",
      "800000\n",
      "802000\n",
      "804000\n",
      "806000\n",
      "808000\n",
      "810000\n",
      "812000\n",
      "814000\n",
      "816000\n",
      "818000\n",
      "820000\n",
      "822000\n",
      "824000\n",
      "826000\n",
      "828000\n",
      "830000\n",
      "832000\n",
      "834000\n",
      "836000\n",
      "838000\n",
      "840000\n",
      "842000\n",
      "844000\n",
      "846000\n",
      "848000\n",
      "850000\n",
      "852000\n",
      "854000\n",
      "856000\n",
      "858000\n",
      "860000\n",
      "862000\n",
      "864000\n",
      "866000\n",
      "868000\n",
      "870000\n",
      "872000\n",
      "874000\n",
      "876000\n",
      "878000\n",
      "880000\n",
      "882000\n",
      "884000\n",
      "886000\n",
      "888000\n",
      "890000\n",
      "892000\n",
      "894000\n",
      "896000\n",
      "898000\n",
      "900000\n",
      "902000\n",
      "904000\n",
      "906000\n",
      "908000\n",
      "910000\n",
      "912000\n",
      "914000\n",
      "916000\n",
      "918000\n",
      "920000\n",
      "922000\n",
      "924000\n",
      "926000\n",
      "928000\n",
      "930000\n",
      "932000\n",
      "934000\n",
      "936000\n",
      "938000\n",
      "940000\n",
      "942000\n",
      "944000\n",
      "946000\n",
      "948000\n",
      "950000\n",
      "952000\n",
      "954000\n",
      "956000\n",
      "958000\n",
      "960000\n",
      "962000\n",
      "964000\n",
      "966000\n",
      "968000\n",
      "970000\n",
      "972000\n",
      "974000\n",
      "976000\n",
      "978000\n",
      "980000\n",
      "982000\n",
      "984000\n",
      "986000\n",
      "988000\n",
      "990000\n",
      "992000\n",
      "994000\n",
      "996000\n",
      "998000\n",
      "1000000\n",
      "1002000\n",
      "1004000\n",
      "1006000\n",
      "1008000\n",
      "1010000\n",
      "1012000\n",
      "1014000\n",
      "1016000\n",
      "1018000\n",
      "1020000\n",
      "1022000\n",
      "1024000\n",
      "1026000\n",
      "1028000\n",
      "1030000\n",
      "1032000\n",
      "1034000\n",
      "1036000\n",
      "1038000\n",
      "1040000\n",
      "1042000\n",
      "1044000\n",
      "1046000\n",
      "1048000\n",
      "1050000\n",
      "1052000\n",
      "1054000\n",
      "1056000\n",
      "1058000\n",
      "1060000\n",
      "1062000\n",
      "1064000\n",
      "1066000\n",
      "1068000\n",
      "1070000\n",
      "1072000\n",
      "1074000\n",
      "1076000\n",
      "1078000\n",
      "1080000\n",
      "1082000\n",
      "1084000\n",
      "1086000\n",
      "1088000\n",
      "1090000\n",
      "1092000\n",
      "1094000\n",
      "1096000\n",
      "1098000\n",
      "1100000\n",
      "1102000\n",
      "1104000\n",
      "1106000\n",
      "1108000\n",
      "1110000\n",
      "1112000\n",
      "1114000\n",
      "1116000\n",
      "1118000\n",
      "1120000\n",
      "1122000\n",
      "1124000\n",
      "1126000\n",
      "1128000\n",
      "1130000\n",
      "1132000\n",
      "1134000\n",
      "1136000\n",
      "1138000\n",
      "1140000\n",
      "1142000\n",
      "1144000\n",
      "1146000\n",
      "1148000\n",
      "1150000\n",
      "1152000\n",
      "1154000\n",
      "1156000\n",
      "1158000\n",
      "1160000\n",
      "1162000\n",
      "1164000\n",
      "1166000\n",
      "1168000\n",
      "1170000\n",
      "1172000\n",
      "1174000\n",
      "1176000\n",
      "1178000\n",
      "1180000\n",
      "1182000\n",
      "1184000\n",
      "1186000\n",
      "1188000\n",
      "1190000\n",
      "1192000\n",
      "1194000\n",
      "1196000\n",
      "1198000\n",
      "1200000\n",
      "1202000\n",
      "1204000\n",
      "1206000\n",
      "1208000\n",
      "1210000\n",
      "1212000\n",
      "1214000\n",
      "1216000\n",
      "1218000\n",
      "1220000\n",
      "1222000\n",
      "1224000\n",
      "1226000\n",
      "1228000\n",
      "1230000\n",
      "1232000\n",
      "1234000\n",
      "1236000\n",
      "1238000\n",
      "1240000\n",
      "1242000\n",
      "1244000\n",
      "1246000\n",
      "1248000\n",
      "1250000\n",
      "1252000\n",
      "1254000\n",
      "1256000\n",
      "1258000\n",
      "1260000\n",
      "1262000\n",
      "1264000\n",
      "1266000\n",
      "1268000\n",
      "1270000\n",
      "1272000\n",
      "1274000\n",
      "1276000\n",
      "1278000\n",
      "1280000\n",
      "1282000\n",
      "1284000\n",
      "1286000\n",
      "1288000\n",
      "1290000\n",
      "1292000\n",
      "1294000\n",
      "1296000\n",
      "1298000\n",
      "1300000\n",
      "1302000\n",
      "1304000\n",
      "1306000\n",
      "1308000\n",
      "1310000\n",
      "1312000\n",
      "1314000\n",
      "1316000\n",
      "1318000\n",
      "1320000\n",
      "1322000\n",
      "1324000\n",
      "1326000\n",
      "1328000\n",
      "1330000\n",
      "1332000\n",
      "1334000\n",
      "1336000\n",
      "1338000\n",
      "1340000\n",
      "1342000\n",
      "1344000\n",
      "1346000\n",
      "1348000\n",
      "1350000\n",
      "1352000\n",
      "1354000\n",
      "1356000\n",
      "1358000\n",
      "1360000\n",
      "1362000\n",
      "1364000\n",
      "1366000\n",
      "1368000\n",
      "1370000\n",
      "1372000\n",
      "1374000\n",
      "1376000\n",
      "1378000\n",
      "1380000\n",
      "1382000\n",
      "1384000\n",
      "1386000\n",
      "1388000\n",
      "1390000\n",
      "1392000\n",
      "1394000\n",
      "1396000\n",
      "1398000\n",
      "1400000\n",
      "1402000\n",
      "1404000\n",
      "1406000\n",
      "1408000\n",
      "1410000\n",
      "1412000\n",
      "1414000\n",
      "1416000\n",
      "1418000\n",
      "1420000\n",
      "1422000\n",
      "1424000\n",
      "1426000\n",
      "1428000\n",
      "1430000\n",
      "1432000\n",
      "1434000\n",
      "1436000\n",
      "1438000\n",
      "1440000\n",
      "1442000\n",
      "1444000\n",
      "1446000\n",
      "1448000\n",
      "1450000\n",
      "1452000\n",
      "1454000\n",
      "1456000\n",
      "1458000\n",
      "1460000\n",
      "1462000\n",
      "1464000\n",
      "1466000\n",
      "1468000\n",
      "1470000\n",
      "1472000\n",
      "1474000\n",
      "1476000\n",
      "1478000\n",
      "1480000\n",
      "1482000\n",
      "1484000\n",
      "1486000\n",
      "1488000\n",
      "1490000\n",
      "1492000\n",
      "1494000\n",
      "1496000\n",
      "1498000\n",
      "1500000\n",
      "1502000\n",
      "1504000\n",
      "1506000\n",
      "1508000\n",
      "1510000\n",
      "1512000\n",
      "1514000\n",
      "1516000\n",
      "1518000\n",
      "1520000\n",
      "1522000\n",
      "1524000\n",
      "1526000\n",
      "1528000\n",
      "1530000\n",
      "1532000\n",
      "1534000\n",
      "1536000\n",
      "1538000\n",
      "1540000\n",
      "1542000\n",
      "1544000\n",
      "1546000\n",
      "1548000\n",
      "1550000\n",
      "1552000\n",
      "1554000\n",
      "1556000\n",
      "1558000\n",
      "1560000\n",
      "1562000\n",
      "1564000\n",
      "1566000\n",
      "1568000\n",
      "1570000\n",
      "1572000\n",
      "1574000\n",
      "1576000\n",
      "1578000\n",
      "1580000\n",
      "1582000\n",
      "1584000\n",
      "1586000\n",
      "1588000\n",
      "1590000\n",
      "1592000\n",
      "1594000\n",
      "1596000\n",
      "1598000\n",
      "1600000\n",
      "1602000\n",
      "1604000\n",
      "1606000\n",
      "1608000\n",
      "1610000\n",
      "1612000\n",
      "1614000\n",
      "1616000\n",
      "1618000\n",
      "1620000\n",
      "1622000\n",
      "1624000\n",
      "1626000\n",
      "1628000\n",
      "1630000\n",
      "1632000\n",
      "1634000\n",
      "1636000\n",
      "1638000\n",
      "1640000\n",
      "1642000\n",
      "1644000\n",
      "1646000\n",
      "1648000\n",
      "1650000\n",
      "1652000\n",
      "1654000\n",
      "1656000\n",
      "1658000\n",
      "1660000\n",
      "1662000\n",
      "1664000\n",
      "1666000\n",
      "1668000\n",
      "1670000\n",
      "1672000\n",
      "1674000\n",
      "1676000\n",
      "1678000\n",
      "1680000\n",
      "1682000\n",
      "1684000\n",
      "1686000\n",
      "1688000\n",
      "1690000\n",
      "1692000\n",
      "1694000\n",
      "1696000\n",
      "1698000\n",
      "1700000\n",
      "1702000\n",
      "1704000\n",
      "1706000\n",
      "1708000\n",
      "1710000\n",
      "1712000\n",
      "1714000\n",
      "1716000\n",
      "1718000\n",
      "1720000\n",
      "1722000\n",
      "1724000\n",
      "1726000\n",
      "1728000\n",
      "1730000\n",
      "1732000\n",
      "1734000\n",
      "1736000\n",
      "1738000\n",
      "1740000\n",
      "1742000\n",
      "1744000\n",
      "1746000\n",
      "1748000\n",
      "1750000\n",
      "1752000\n",
      "1754000\n",
      "1756000\n",
      "1758000\n",
      "1760000\n",
      "1762000\n",
      "1764000\n",
      "1766000\n",
      "1768000\n",
      "1770000\n",
      "1772000\n",
      "1774000\n",
      "1776000\n",
      "1778000\n",
      "1780000\n",
      "1782000\n",
      "1784000\n",
      "1786000\n",
      "1788000\n",
      "1790000\n",
      "1792000\n",
      "1794000\n",
      "1796000\n",
      "1798000\n",
      "1800000\n",
      "1802000\n",
      "1804000\n",
      "1806000\n",
      "1808000\n",
      "1810000\n",
      "1812000\n",
      "1814000\n",
      "1816000\n",
      "1818000\n",
      "1820000\n",
      "1822000\n",
      "1824000\n",
      "1826000\n",
      "1828000\n",
      "1830000\n",
      "1832000\n",
      "1834000\n",
      "1836000\n",
      "1838000\n",
      "1840000\n",
      "1842000\n",
      "1844000\n",
      "1846000\n",
      "1848000\n",
      "1850000\n",
      "1852000\n",
      "1854000\n",
      "1856000\n",
      "1858000\n",
      "1860000\n",
      "1862000\n",
      "1864000\n",
      "1866000\n",
      "1868000\n",
      "1870000\n",
      "1872000\n",
      "1874000\n",
      "1876000\n",
      "1878000\n",
      "1880000\n",
      "1882000\n",
      "1884000\n",
      "1886000\n",
      "1888000\n",
      "1890000\n",
      "1892000\n",
      "1894000\n",
      "1896000\n",
      "1898000\n",
      "1900000\n",
      "1902000\n",
      "1904000\n",
      "1906000\n",
      "1908000\n",
      "1910000\n",
      "1912000\n",
      "1914000\n",
      "1916000\n",
      "1918000\n",
      "1920000\n",
      "1922000\n",
      "1924000\n",
      "1926000\n",
      "1928000\n",
      "1930000\n",
      "1932000\n",
      "1934000\n",
      "1936000\n",
      "1938000\n",
      "1940000\n",
      "1942000\n",
      "1944000\n",
      "1946000\n",
      "1948000\n",
      "1950000\n",
      "1952000\n",
      "1954000\n",
      "1956000\n",
      "1958000\n",
      "1960000\n",
      "1962000\n",
      "1964000\n",
      "1966000\n",
      "1968000\n",
      "1970000\n",
      "1972000\n",
      "1974000\n",
      "1976000\n",
      "1978000\n",
      "1980000\n",
      "1982000\n",
      "1984000\n",
      "1986000\n",
      "1988000\n",
      "1990000\n",
      "1992000\n",
      "1994000\n",
      "1996000\n",
      "1998000\n",
      "2000000\n",
      "2002000\n",
      "2004000\n",
      "2006000\n",
      "2008000\n",
      "2010000\n",
      "2012000\n",
      "2014000\n",
      "2016000\n",
      "2018000\n",
      "2020000\n",
      "2022000\n",
      "2024000\n",
      "2026000\n",
      "2028000\n",
      "2030000\n",
      "2032000\n",
      "2034000\n",
      "2036000\n",
      "2038000\n",
      "2040000\n",
      "2042000\n",
      "2044000\n",
      "2046000\n",
      "2048000\n",
      "2050000\n",
      "2052000\n",
      "2054000\n",
      "2056000\n",
      "2058000\n",
      "2060000\n",
      "2062000\n",
      "2064000\n",
      "2066000\n",
      "2068000\n",
      "2070000\n",
      "2072000\n",
      "2074000\n",
      "2076000\n",
      "2078000\n",
      "2080000\n",
      "2082000\n",
      "2084000\n",
      "2086000\n",
      "2088000\n",
      "2090000\n",
      "2092000\n",
      "2094000\n",
      "2096000\n",
      "2098000\n",
      "2100000\n",
      "2102000\n",
      "2104000\n",
      "2106000\n",
      "2108000\n",
      "2110000\n",
      "2112000\n",
      "2114000\n",
      "2116000\n",
      "2118000\n",
      "2120000\n",
      "2122000\n",
      "2124000\n",
      "2126000\n",
      "2128000\n",
      "2130000\n",
      "2132000\n",
      "2134000\n",
      "2136000\n",
      "2138000\n",
      "2140000\n",
      "2142000\n",
      "2144000\n",
      "2146000\n",
      "2148000\n",
      "2150000\n",
      "2152000\n",
      "2154000\n",
      "2156000\n",
      "2158000\n",
      "2160000\n",
      "2162000\n",
      "2164000\n",
      "2166000\n",
      "2168000\n",
      "2170000\n",
      "2172000\n",
      "2174000\n",
      "2176000\n",
      "2178000\n",
      "2180000\n",
      "2182000\n",
      "2184000\n",
      "2186000\n",
      "2188000\n",
      "2190000\n",
      "2192000\n",
      "2194000\n",
      "2196000\n",
      "2198000\n",
      "2200000\n",
      "2202000\n",
      "2204000\n",
      "2206000\n",
      "2208000\n",
      "2210000\n",
      "2212000\n",
      "2214000\n",
      "2216000\n",
      "2218000\n",
      "2220000\n",
      "2222000\n",
      "2224000\n",
      "2226000\n",
      "2228000\n",
      "2230000\n",
      "2232000\n",
      "2234000\n",
      "2236000\n",
      "2238000\n",
      "2240000\n",
      "2242000\n",
      "2244000\n",
      "2246000\n",
      "2248000\n",
      "2250000\n",
      "2252000\n",
      "2254000\n",
      "2256000\n",
      "2258000\n",
      "2260000\n",
      "2262000\n",
      "2264000\n",
      "2266000\n",
      "2268000\n",
      "2270000\n",
      "2272000\n",
      "2274000\n",
      "2276000\n",
      "2278000\n",
      "2280000\n",
      "2282000\n",
      "2284000\n",
      "2286000\n",
      "2288000\n",
      "2290000\n",
      "2292000\n",
      "2294000\n",
      "2296000\n",
      "2298000\n",
      "2300000\n",
      "2302000\n",
      "2304000\n",
      "2306000\n",
      "2308000\n",
      "2310000\n",
      "2312000\n",
      "2314000\n",
      "2316000\n",
      "2318000\n",
      "2320000\n",
      "2322000\n",
      "2324000\n",
      "2326000\n",
      "2328000\n",
      "2330000\n",
      "CPU times: user 1h 35min 47s, sys: 1min 56s, total: 1h 37min 44s\n",
      "Wall time: 1h 40min 20s\n"
     ]
    }
   ],
   "source": [
    "%%time\n",
    "monitor = [n for n in range(0, len(to_lemmatize), 2000)]\n",
    "trigrams_lemmata_dict= {}\n",
    "for n, tup in enumerate(to_lemmatize):\n",
    "    lemmata = get_lemma_filtered(tup[0])\n",
    "    if n in monitor:\n",
    "        print(n)\n",
    "    if len(lemmata.split()) > 1:\n",
    "        trigrams_lemmata_dict[tup[0]] = {\"lemmata\" : lemmata, \"count\" : tup[1]}"
   ],
   "metadata": {
    "collapsed": false
   }
  },
  {
   "cell_type": "code",
   "execution_count": 26,
   "outputs": [],
   "source": [
    "with open(\"../data/large_files/trigrams_lemmata_dict.pickle\", \"wb\") as f:\n",
    "    pickle.dump(trigrams_lemmata_dict, f)"
   ],
   "metadata": {
    "collapsed": false
   }
  },
  {
   "cell_type": "code",
   "execution_count": 13,
   "outputs": [
    {
     "data": {
      "text/plain": "1768166"
     },
     "execution_count": 13,
     "metadata": {},
     "output_type": "execute_result"
    }
   ],
   "source": [
    "trigrams_lemmata_dict = pickle.load(open(\"../data/large_files/trigrams_lemmata_dict.pickle\", \"rb\"))\n",
    "len(trigrams_lemmata_dict)"
   ],
   "metadata": {
    "collapsed": false,
    "ExecuteTime": {
     "start_time": "2023-03-30T14:02:30.156959Z",
     "end_time": "2023-03-30T14:02:31.169786Z"
    }
   }
  },
  {
   "cell_type": "code",
   "execution_count": 14,
   "outputs": [
    {
     "name": "stdout",
     "output_type": "stream",
     "text": [
      "CPU times: user 4.66 ms, sys: 2.88 ms, total: 7.54 ms\n",
      "Wall time: 7.39 ms\n"
     ]
    }
   ],
   "source": [
    "%%time\n",
    "# developing application to individual documents\n",
    "sourcepath = \"../data/large_files/trigrams_filtered/\"\n",
    "id = 0\n",
    "with open(sourcepath + \"filtered_id_{}.json\".format(str(id)), \"r\") as f:\n",
    "    d_cleaned = json.load(f)\n",
    "counter = Counter()\n",
    "for item in d_cleaned.items():\n",
    "    try:\n",
    "        counter.update({trigrams_lemmata_dict[item[0]][\"lemmata\"] : item[1]})\n",
    "    except:\n",
    "        pass"
   ],
   "metadata": {
    "collapsed": false,
    "ExecuteTime": {
     "start_time": "2023-03-30T14:02:50.694889Z",
     "end_time": "2023-03-30T14:02:50.721069Z"
    }
   }
  },
  {
   "cell_type": "code",
   "execution_count": 15,
   "outputs": [],
   "source": [
    "trigrams_list = []\n",
    "for tup in counter.items():\n",
    "    trigrams_list.extend([tup[0]]*tup[1])"
   ],
   "metadata": {
    "collapsed": false,
    "ExecuteTime": {
     "start_time": "2023-03-30T14:02:56.176695Z",
     "end_time": "2023-03-30T14:02:56.192508Z"
    }
   }
  },
  {
   "cell_type": "code",
   "execution_count": 16,
   "outputs": [
    {
     "data": {
      "text/plain": "['religious matter',\n 'divine hope',\n 'divine hope',\n 'leave unresolved',\n 'leave unresolved',\n 'racial equality',\n 'racial equality',\n 'joint action',\n 'joint action',\n 'joint action',\n 'joint action',\n 'joint action',\n 'christian fellowship',\n 'biblical injunction',\n 'biblical injunction',\n 'important community',\n 'degree order',\n 'worldwide fellowship',\n 'worldwide fellowship',\n 'community establish',\n 'new appreciation',\n 'new appreciation',\n 'Council church',\n 'Council church',\n 'local fellowship',\n 'local fellowship',\n 'establish maintain',\n 'op cit',\n 'op cit',\n 'op cit',\n 'op cit',\n 'op cit',\n 'op cit',\n 'op cit',\n 'op cit',\n 'op cit',\n 'op cit',\n 'op cit',\n 'Wcc Commission',\n 'Wcc Commission',\n 'use several',\n 'nego tiating',\n 'nego tiating',\n 'church provide',\n 'church provide',\n 'church provide',\n 'Association Press',\n 'Association Press',\n 'loss identity',\n 'particular concept',\n 'con versation',\n 'form life',\n 'doctrinal agreement',\n 'genuine renewal',\n 'genuine renewal',\n 'Church Union Negotiations',\n 'redemp tion',\n 'redemp tion',\n 'ruison dtre',\n 'ruison dtre',\n 'particular project',\n 'deep commitment',\n 'deep commitment',\n 'Delhi Assembly',\n 'national istic',\n 'community feel',\n 'community feel',\n 'united church',\n 'united church',\n 'united church',\n 'united church',\n 'united church',\n 'united church',\n 'united church',\n 'united church',\n 'united church',\n 'united church',\n 'united church',\n 'united church',\n 'united church',\n 'united church',\n 'united church',\n 'united church',\n 'united church',\n 'united church',\n 'united churches',\n 'united churches',\n 'united churches',\n 'united churches',\n 'united churches',\n 'united churches',\n 'united churches',\n 'united churches',\n 'united churches',\n 'united churches',\n 'united churches',\n 'united churches',\n 'united churches',\n 'united churches',\n 'body continue']"
     },
     "execution_count": 16,
     "metadata": {},
     "output_type": "execute_result"
    }
   ],
   "source": [
    "trigrams_list[:100]"
   ],
   "metadata": {
    "collapsed": false,
    "ExecuteTime": {
     "start_time": "2023-03-30T14:03:02.999080Z",
     "end_time": "2023-03-30T14:03:03.024317Z"
    }
   }
  },
  {
   "cell_type": "code",
   "execution_count": 18,
   "outputs": [],
   "source": [
    "trigrams_list = [\"{}\\n\".format(i) for i in trigrams_list]"
   ],
   "metadata": {
    "collapsed": false,
    "ExecuteTime": {
     "start_time": "2023-03-30T14:06:11.568152Z",
     "end_time": "2023-03-30T14:06:11.577049Z"
    }
   }
  },
  {
   "cell_type": "code",
   "execution_count": 19,
   "outputs": [],
   "source": [
    "with open(\"test.txt\", \"w\") as f:\n",
    "    f.writelines(trigrams_list)"
   ],
   "metadata": {
    "collapsed": false,
    "ExecuteTime": {
     "start_time": "2023-03-30T14:06:13.089657Z",
     "end_time": "2023-03-30T14:06:13.103123Z"
    }
   }
  },
  {
   "cell_type": "code",
   "execution_count": 24,
   "outputs": [],
   "source": [
    "sourcepath = destpath\n",
    "destpath = \"../data/large_files/trigrams_lemmatized/\"\n",
    "try:\n",
    "    os.makedirs(destpath)\n",
    "except:\n",
    "    pass"
   ],
   "metadata": {
    "collapsed": false,
    "ExecuteTime": {
     "start_time": "2023-03-30T14:08:44.269295Z",
     "end_time": "2023-03-30T14:08:44.276077Z"
    }
   }
  },
  {
   "cell_type": "code",
   "execution_count": 25,
   "outputs": [
    {
     "name": "stdout",
     "output_type": "stream",
     "text": [
      "CPU times: user 1min 49s, sys: 6.9 s, total: 1min 56s\n",
      "Wall time: 2min 6s\n"
     ]
    }
   ],
   "source": [
    "%%time\n",
    "for id in ids:\n",
    "    with open(sourcepath + \"filtered_id_{}.json\".format(str(id)), \"r\") as f:\n",
    "        d_cleaned = json.load(f)\n",
    "    counter = Counter()\n",
    "    for item in d_cleaned.items():\n",
    "        try:\n",
    "            counter.update({trigrams_lemmata_dict[item[0]][\"lemmata\"] : item[1]})\n",
    "        except:\n",
    "            pass\n",
    "    trigrams_list = []\n",
    "    for tup in counter.items():\n",
    "        trigrams_list.extend([tup[0]]*tup[1])\n",
    "    trigrams_list = [\"{}\\n\".format(i) for i in trigrams_list]\n",
    "    with open(destpath + \"trigrams_lemmata_id_{}.txt\".format(str(id)), \"w\") as f:\n",
    "        f.writelines(trigrams_list)"
   ],
   "metadata": {
    "collapsed": false,
    "ExecuteTime": {
     "start_time": "2023-03-30T14:08:48.242023Z",
     "end_time": "2023-03-30T14:10:54.280848Z"
    }
   }
  },
  {
   "cell_type": "code",
   "execution_count": null,
   "outputs": [],
   "source": [],
   "metadata": {
    "collapsed": false
   }
  },
  {
   "cell_type": "markdown",
   "source": [
    "# Aplying cleaning to all unigrams"
   ],
   "metadata": {
    "collapsed": false
   }
  },
  {
   "cell_type": "code",
   "execution_count": 30,
   "outputs": [],
   "source": [
    "destpath = \"../data/large_files/unigrams_filtered/\"\n",
    "os.makedirs(destpath)"
   ],
   "metadata": {
    "collapsed": false,
    "ExecuteTime": {
     "start_time": "2023-03-30T21:19:18.259834Z",
     "end_time": "2023-03-30T21:19:18.278155Z"
    }
   }
  },
  {
   "cell_type": "code",
   "execution_count": 31,
   "outputs": [
    {
     "name": "stdout",
     "output_type": "stream",
     "text": [
      "CPU times: user 3min 41s, sys: 13.2 s, total: 3min 54s\n",
      "Wall time: 4min 21s\n"
     ]
    },
    {
     "data": {
      "text/plain": "2769088"
     },
     "execution_count": 31,
     "metadata": {},
     "output_type": "execute_result"
    }
   ],
   "source": [
    "%%time\n",
    "data_ngrams = Counter()\n",
    "sourcepath = \"../data/large_files/unigrams_raw/\"\n",
    "for id in ids:\n",
    "    ngram_dict = json.load(open(sourcepath + \"unigrams_{}.json\".format(str(id)), \"r\"))\n",
    "    d_cleaned = filter_dict(ngram_dict, min=1)\n",
    "    with open(destpath + \"filtered_id_{}.json\".format(str(id)), \"w\") as f:\n",
    "        json.dump(d_cleaned, f)\n",
    "    data_ngrams.update(d_cleaned)\n",
    "len(data_ngrams)"
   ],
   "metadata": {
    "collapsed": false,
    "ExecuteTime": {
     "start_time": "2023-03-30T21:20:18.188600Z",
     "end_time": "2023-03-30T21:24:39.589221Z"
    }
   }
  },
  {
   "cell_type": "code",
   "execution_count": 32,
   "outputs": [
    {
     "name": "stdout",
     "output_type": "stream",
     "text": [
      "CPU times: user 526 ms, sys: 92.2 ms, total: 618 ms\n",
      "Wall time: 651 ms\n"
     ]
    },
    {
     "data": {
      "text/plain": "272768"
     },
     "execution_count": 32,
     "metadata": {},
     "output_type": "execute_result"
    }
   ],
   "source": [
    "%%time\n",
    "data_unigrams_sorted = sorted(data_ngrams.items(), key=lambda kv: kv[1], reverse=True)\n",
    "len([el for el in data_unigrams_sorted if el[1] > 10])"
   ],
   "metadata": {
    "collapsed": false,
    "ExecuteTime": {
     "start_time": "2023-03-30T21:24:39.872985Z",
     "end_time": "2023-03-30T21:24:40.244143Z"
    }
   }
  },
  {
   "cell_type": "code",
   "execution_count": 34,
   "outputs": [
    {
     "data": {
      "text/plain": "410708"
     },
     "execution_count": 34,
     "metadata": {},
     "output_type": "execute_result"
    }
   ],
   "source": [
    "to_lemmatize = [el for el in data_unigrams_sorted if el[1] > 5]\n",
    "len(to_lemmatize)"
   ],
   "metadata": {
    "collapsed": false,
    "ExecuteTime": {
     "start_time": "2023-03-30T21:24:54.461880Z",
     "end_time": "2023-03-30T21:24:54.694404Z"
    }
   }
  },
  {
   "cell_type": "code",
   "execution_count": 37,
   "outputs": [
    {
     "name": "stdout",
     "output_type": "stream",
     "text": [
      "0\n",
      "2000\n",
      "4000\n",
      "6000\n",
      "8000\n",
      "10000\n",
      "12000\n",
      "14000\n",
      "16000\n",
      "18000\n",
      "20000\n",
      "22000\n",
      "24000\n",
      "26000\n",
      "28000\n",
      "30000\n",
      "32000\n",
      "34000\n",
      "36000\n",
      "38000\n",
      "40000\n",
      "42000\n",
      "44000\n",
      "46000\n",
      "48000\n",
      "50000\n",
      "52000\n",
      "54000\n",
      "56000\n",
      "58000\n",
      "60000\n",
      "62000\n",
      "64000\n",
      "66000\n",
      "68000\n",
      "70000\n",
      "72000\n",
      "74000\n",
      "76000\n",
      "78000\n",
      "80000\n",
      "82000\n",
      "84000\n",
      "86000\n",
      "88000\n",
      "90000\n",
      "92000\n",
      "94000\n",
      "96000\n",
      "98000\n",
      "100000\n",
      "102000\n",
      "104000\n",
      "106000\n",
      "108000\n",
      "110000\n",
      "112000\n",
      "114000\n",
      "116000\n",
      "118000\n",
      "120000\n",
      "122000\n",
      "124000\n",
      "126000\n",
      "128000\n",
      "130000\n",
      "132000\n",
      "134000\n",
      "136000\n",
      "138000\n",
      "140000\n",
      "142000\n",
      "144000\n",
      "146000\n",
      "148000\n",
      "150000\n",
      "152000\n",
      "154000\n",
      "156000\n",
      "158000\n",
      "160000\n",
      "162000\n",
      "164000\n",
      "166000\n",
      "168000\n",
      "170000\n",
      "172000\n",
      "174000\n",
      "176000\n",
      "178000\n",
      "180000\n",
      "182000\n",
      "184000\n",
      "186000\n",
      "188000\n",
      "190000\n",
      "192000\n",
      "194000\n",
      "196000\n",
      "198000\n",
      "200000\n",
      "202000\n",
      "204000\n",
      "206000\n",
      "208000\n",
      "210000\n",
      "212000\n",
      "214000\n",
      "216000\n",
      "218000\n",
      "220000\n",
      "222000\n",
      "224000\n",
      "226000\n",
      "228000\n",
      "230000\n",
      "232000\n",
      "234000\n",
      "236000\n",
      "238000\n",
      "240000\n",
      "242000\n",
      "244000\n",
      "246000\n",
      "248000\n",
      "250000\n",
      "252000\n",
      "254000\n",
      "256000\n",
      "258000\n",
      "260000\n",
      "262000\n",
      "264000\n",
      "266000\n",
      "268000\n",
      "270000\n",
      "272000\n",
      "274000\n",
      "276000\n",
      "278000\n",
      "280000\n",
      "282000\n",
      "284000\n",
      "286000\n",
      "288000\n",
      "290000\n",
      "292000\n",
      "294000\n",
      "296000\n",
      "298000\n",
      "300000\n",
      "302000\n",
      "304000\n",
      "306000\n",
      "308000\n",
      "310000\n",
      "312000\n",
      "314000\n",
      "316000\n",
      "318000\n",
      "320000\n",
      "322000\n",
      "324000\n",
      "326000\n",
      "328000\n",
      "330000\n",
      "332000\n",
      "334000\n",
      "336000\n",
      "338000\n",
      "340000\n",
      "342000\n",
      "344000\n",
      "346000\n",
      "348000\n",
      "350000\n",
      "352000\n",
      "354000\n",
      "356000\n",
      "358000\n",
      "360000\n",
      "362000\n",
      "364000\n",
      "366000\n",
      "368000\n",
      "370000\n",
      "372000\n",
      "374000\n",
      "376000\n",
      "378000\n",
      "380000\n",
      "382000\n",
      "384000\n",
      "386000\n",
      "388000\n",
      "390000\n",
      "392000\n",
      "394000\n",
      "396000\n",
      "398000\n",
      "400000\n",
      "402000\n",
      "404000\n",
      "406000\n",
      "408000\n",
      "410000\n",
      "CPU times: user 17min 15s, sys: 8.93 s, total: 17min 24s\n",
      "Wall time: 17min 35s\n"
     ]
    }
   ],
   "source": [
    "%%time\n",
    "monitor = [n for n in range(0, len(to_lemmatize), 2000)]\n",
    "unigrams_lemmata_dict = {}\n",
    "for n, tup in enumerate(to_lemmatize):\n",
    "    lemmata = get_lemma_filtered(tup[0])\n",
    "    if n in monitor:\n",
    "        print(n)\n",
    "    if len(lemmata.split()) > 0:\n",
    "        unigrams_lemmata_dict[tup[0]] = {\"lemmata\": lemmata, \"count\": tup[1]}"
   ],
   "metadata": {
    "collapsed": false,
    "ExecuteTime": {
     "start_time": "2023-03-30T21:28:43.815675Z",
     "end_time": "2023-03-30T21:46:19.007974Z"
    }
   }
  },
  {
   "cell_type": "code",
   "execution_count": 38,
   "outputs": [
    {
     "data": {
      "text/plain": "388171"
     },
     "execution_count": 38,
     "metadata": {},
     "output_type": "execute_result"
    }
   ],
   "source": [
    "with open(\"../data/large_files/unigrams_lemmata_dict.pickle\", \"wb\") as f:\n",
    "    pickle.dump(unigrams_lemmata_dict, f)\n",
    "#unigrams_lemmata_dict = pickle.load(open(\"../data/large_files/trigrams_lemmata_dict.pickle\", \"rb\"))\n",
    "len(unigrams_lemmata_dict)"
   ],
   "metadata": {
    "collapsed": false,
    "ExecuteTime": {
     "start_time": "2023-03-30T22:01:50.594781Z",
     "end_time": "2023-03-30T22:01:51.056397Z"
    }
   }
  },
  {
   "cell_type": "code",
   "execution_count": 40,
   "outputs": [
    {
     "data": {
      "text/plain": "[('God', {'lemmata': 'God', 'count': 434622}),\n ('Christian', {'lemmata': 'christian', 'count': 336049}),\n ('Paul', {'lemmata': 'Paul', 'count': 335617}),\n ('Jesus', {'lemmata': 'Jesus', 'count': 300420}),\n ('book', {'lemmata': 'book', 'count': 299610}),\n ('New', {'lemmata': 'new', 'count': 291510}),\n ('University', {'lemmata': 'university', 'count': 268405}),\n ('work', {'lemmata': 'work', 'count': 250950}),\n ('life', {'lemmata': 'life', 'count': 212251}),\n ('Christ', {'lemmata': 'Christ', 'count': 210690})]"
     },
     "execution_count": 40,
     "metadata": {},
     "output_type": "execute_result"
    }
   ],
   "source": [
    "sorted(unigrams_lemmata_dict.items(), key=lambda x: x[1][\"count\"], reverse=True)[:10]"
   ],
   "metadata": {
    "collapsed": false,
    "ExecuteTime": {
     "start_time": "2023-03-30T22:03:10.819237Z",
     "end_time": "2023-03-30T22:03:10.855298Z"
    }
   }
  },
  {
   "cell_type": "code",
   "execution_count": 41,
   "outputs": [
    {
     "name": "stdout",
     "output_type": "stream",
     "text": [
      "CPU times: user 2 µs, sys: 10 µs, total: 12 µs\n",
      "Wall time: 16.9 µs\n"
     ]
    }
   ],
   "source": [
    "%%time\n",
    "# developing application to individual documents\n",
    "sourcepath = \"../data/large_files/unigrams_filtered/\""
   ],
   "metadata": {
    "collapsed": false,
    "ExecuteTime": {
     "start_time": "2023-03-30T22:04:56.251474Z",
     "end_time": "2023-03-30T22:04:56.314777Z"
    }
   }
  },
  {
   "cell_type": "code",
   "execution_count": 42,
   "outputs": [],
   "source": [
    "destpath = \"../data/large_files/unigrams_lemmatized/\"\n",
    "try:\n",
    "    os.makedirs(destpath)\n",
    "except:\n",
    "    pass"
   ],
   "metadata": {
    "collapsed": false,
    "ExecuteTime": {
     "start_time": "2023-03-30T22:04:58.988740Z",
     "end_time": "2023-03-30T22:04:58.990799Z"
    }
   }
  },
  {
   "cell_type": "code",
   "execution_count": 43,
   "outputs": [
    {
     "name": "stdout",
     "output_type": "stream",
     "text": [
      "CPU times: user 1min 41s, sys: 9.58 s, total: 1min 50s\n",
      "Wall time: 2min 13s\n"
     ]
    }
   ],
   "source": [
    "%%time\n",
    "for id in ids:\n",
    "    with open(sourcepath + \"filtered_id_{}.json\".format(str(id)), \"r\") as f:\n",
    "        d_cleaned = json.load(f)\n",
    "    counter = Counter()\n",
    "    for item in d_cleaned.items():\n",
    "        try:\n",
    "            counter.update({unigrams_lemmata_dict[item[0]][\"lemmata\"]: item[1]})\n",
    "        except:\n",
    "            pass\n",
    "    unigrams_list = []\n",
    "    for tup in counter.items():\n",
    "        unigrams_list.extend([tup[0]] * tup[1])\n",
    "    unigrams_list = [\"{}\\n\".format(i) for i in unigrams_list]\n",
    "    with open(destpath + \"unigrams_lemmata_id_{}.txt\".format(str(id)), \"w\") as f:\n",
    "        f.writelines(unigrams_list)"
   ],
   "metadata": {
    "collapsed": false
   }
  },
  {
   "cell_type": "code",
   "execution_count": null,
   "outputs": [],
   "source": [],
   "metadata": {
    "collapsed": false
   }
  },
  {
   "cell_type": "code",
   "execution_count": null,
   "outputs": [],
   "source": [],
   "metadata": {
    "collapsed": false
   }
  },
  {
   "cell_type": "code",
   "execution_count": null,
   "outputs": [],
   "source": [],
   "metadata": {
    "collapsed": false
   }
  },
  {
   "cell_type": "code",
   "execution_count": null,
   "outputs": [],
   "source": [],
   "metadata": {
    "collapsed": false
   }
  },
  {
   "cell_type": "code",
   "execution_count": null,
   "outputs": [],
   "source": [],
   "metadata": {
    "collapsed": false
   }
  },
  {
   "cell_type": "code",
   "execution_count": null,
   "outputs": [],
   "source": [],
   "metadata": {
    "collapsed": false
   }
  },
  {
   "cell_type": "code",
   "execution_count": null,
   "outputs": [],
   "source": [],
   "metadata": {
    "collapsed": false
   }
  },
  {
   "cell_type": "code",
   "execution_count": null,
   "outputs": [],
   "source": [],
   "metadata": {
    "collapsed": false
   }
  },
  {
   "cell_type": "markdown",
   "source": [
    "# Backup"
   ],
   "metadata": {
    "collapsed": false
   }
  },
  {
   "cell_type": "markdown",
   "source": [
    "# Most frequent unigrams to nlp docs"
   ],
   "metadata": {
    "collapsed": false
   }
  },
  {
   "cell_type": "code",
   "execution_count": 108,
   "outputs": [],
   "source": [
    "# load spacy english nlp model & english stopwords...\n",
    "#stop_words = nlp_spacy.Defaults.stop_words"
   ],
   "metadata": {
    "collapsed": false
   }
  },
  {
   "cell_type": "code",
   "execution_count": 109,
   "outputs": [
    {
     "data": {
      "text/plain": "[('the', 64204),\n ('of', 43727),\n ('and', 29112),\n ('to', 24051),\n ('in', 23227),\n ('is', 11614),\n ('that', 11283),\n ('as', 8204),\n ('The', 6860),\n ('for', 6850),\n ('his', 6283),\n ('with', 6121),\n ('was', 5995),\n ('he', 5314),\n ('by', 5164),\n ('not', 5095),\n ('on', 4746),\n ('from', 4525),\n ('it', 4500),\n ('this', 4388),\n ('be', 4355),\n ('or', 3657),\n ('which', 3568),\n ('are', 3401),\n ('an', 3185),\n ('their', 3085),\n ('who', 3080),\n ('God', 3032),\n ('have', 2951),\n ('but', 2774),\n ('at', 2649),\n ('Paul', 2601),\n ('were', 2543),\n ('they', 2531),\n ('In', 2524),\n ('had', 2435),\n ('one', 2336),\n ('all', 2258),\n ('has', 2093),\n ('him', 1966),\n ('we', 1966),\n ('Christ', 1886),\n ('also', 1854),\n ('its', 1685),\n ('them', 1600),\n ('Christian', 1594),\n ('more', 1579),\n ('Jesus', 1546),\n ('would', 1496),\n ('what', 1489),\n ('you', 1474),\n ('This', 1472),\n ('been', 1441),\n ('will', 1439),\n ('other', 1423),\n ('into', 1356),\n ('only', 1342),\n ('It', 1324),\n ('so', 1322),\n ('no', 1299),\n ('about', 1293),\n ('He', 1288),\n ('life', 1260),\n ('these', 1253),\n ('New', 1197),\n ('there', 1196),\n ('when', 1170),\n ('than', 1166),\n ('some', 1115),\n ('through', 1086),\n ('between', 1079),\n ('such', 1075),\n ('those', 1072),\n ('do', 1066),\n ('can', 1055),\n ('see', 1049),\n ('church', 1034),\n ('our', 1032),\n ('my', 1020),\n ('people', 1013),\n ('her', 997),\n ('For', 996),\n ('first', 990),\n ('own', 922),\n ('Pauls', 919),\n ('us', 910),\n ('even', 908),\n ('two', 905),\n ('could', 903),\n ('faith', 899),\n ('out', 898),\n ('Church', 897),\n ('may', 884),\n ('if', 882),\n ('does', 881),\n ('religious', 875),\n ('See', 869),\n ('me', 869),\n ('world', 861),\n ('most', 856),\n ('time', 853),\n ('way', 846),\n ('Jewish', 840),\n ('But', 833),\n ('man', 821),\n ('both', 807),\n ('many', 804),\n ('because', 803),\n ('Christians', 802),\n ('And', 801),\n ('love', 800),\n ('work', 797),\n ('Gods', 778),\n ('new', 772),\n ('did', 757),\n ('Spirit', 740),\n ('should', 738),\n ('how', 735),\n ('where', 735),\n ('being', 716),\n ('same', 706),\n ('John', 695),\n ('human', 689),\n ('any', 683),\n ('well', 680),\n ('himself', 679),\n ('Press', 677),\n ('social', 675),\n ('then', 673),\n ('de', 664),\n ('up', 655),\n ('upon', 654),\n ('made', 642),\n ('University', 642),\n ('like', 641),\n ('As', 641),\n ('before', 640),\n ('after', 640),\n ('over', 634),\n ('Testament', 633),\n ('said', 624),\n ('against', 623),\n ('et', 621),\n ('must', 613),\n ('part', 596),\n ('good', 592),\n ('Lord', 586),\n ('among', 585),\n ('century', 583),\n ('she', 580),\n ('order', 577),\n ('Jews', 576),\n ('law', 575),\n ('very', 568),\n ('here', 566),\n ('much', 557),\n ('power', 556),\n ('your', 556),\n ('community', 552),\n ('Catholic', 548),\n ('HB', 541),\n ('death', 535),\n ('text', 535),\n ('Christianity', 532),\n ('while', 530),\n ('early', 530),\n ('now', 516),\n ('On', 506),\n ('men', 505),\n ('rather', 502),\n ('found', 499),\n ('words', 496),\n ('called', 483),\n ('however', 482),\n ('without', 479),\n ('might', 475),\n ('ed', 474),\n ('three', 470),\n ('history', 465),\n ('place', 464),\n ('They', 460),\n ('THE', 459),\n ('book', 459),\n ('say', 455),\n ('others', 455),\n ('Greek', 454),\n ('under', 453),\n ('spiritual', 453),\n ('churches', 452),\n ('reading', 450),\n ('divine', 450),\n ('use', 449),\n ('word', 445),\n ('within', 443),\n ('Cf', 436),\n ('pp', 436),\n ('Cor', 436),\n ('another', 434),\n ('thought', 432),\n ('whom', 432),\n ('make', 425),\n ('His', 423),\n ('Father', 423),\n ('sense', 420),\n ('great', 417),\n ('Bible', 416),\n ('Judaism', 416),\n ('Law', 414),\n ('salvation', 412),\n ('fact', 411),\n ('nature', 410),\n ('If', 409),\n ('religion', 409),\n ('means', 409),\n ('Cambridge', 409),\n ('Romans', 408),\n ('tradition', 407),\n ('Gospel', 407),\n ('view', 407),\n ('Corinthians', 404),\n ('example', 403),\n ('There', 401),\n ('come', 400),\n ('says', 399),\n ('each', 399),\n ('Roman', 399),\n ('later', 399),\n ('Holy', 398),\n ('given', 396),\n ('years', 396),\n ('om', 396),\n ('Luke', 395),\n ('itself', 394),\n ('point', 394),\n ('day', 394),\n ('letter', 392),\n ('different', 390),\n ('form', 389),\n ('understanding', 388),\n ('St', 388),\n ('women', 387),\n ('know', 386),\n ('spirit', 384),\n ('came', 384),\n ('authority', 384),\n ('We', 383),\n ('works', 381),\n ('often', 381),\n ('become', 379),\n ('themselves', 378),\n ('theology', 376),\n ('things', 373),\n ('question', 372),\n ('Israel', 371),\n ('What', 370),\n ('end', 368),\n ('person', 367),\n ('York', 367),\n ('Rom', 363),\n ('poor', 363),\n ('just', 358),\n ('became', 356),\n ('meaning', 355),\n ('theological', 354),\n ('used', 353),\n ('though', 350),\n ('holy', 348),\n ('Acts', 347),\n ('second', 344),\n ('experience', 343),\n ('important', 343),\n ('context', 343),\n ('grace', 342),\n ('present', 340),\n ('still', 339),\n ('according', 338),\n ('sin', 336),\n ('practice', 335),\n ('American', 333),\n ('To', 332),\n ('too', 331),\n ('cf', 329),\n ('When', 329),\n ('Christs', 327),\n ('general', 327),\n ('interpretation', 325),\n ('English', 324),\n ('gospel', 324),\n ('Jerusalem', 323),\n ('language', 323),\n ('One', 321),\n ('Thus', 320),\n ('case', 319),\n ('OF', 317),\n ('certain', 316),\n ('name', 315),\n ('especially', 315),\n ('righteousness', 313),\n ('political', 313),\n ('study', 312),\n ('give', 312),\n ('true', 311),\n ('texts', 309),\n ('together', 309),\n ('biblical', 309),\n ('whole', 308),\n ('take', 307),\n ('whose', 307),\n ('state', 306),\n ('II', 305),\n ('since', 305),\n ('find', 305),\n ('light', 304),\n ('historical', 303),\n ('By', 303),\n ('during', 303),\n ('every', 302),\n ('whether', 301),\n ('seen', 301),\n ('particular', 296),\n ('clear', 295),\n ('read', 295),\n ('common', 293),\n ('down', 292),\n ('following', 291),\n ('body', 291),\n ('Peter', 291),\n ('therefore', 290),\n ('above', 290),\n ('ones', 289),\n ('least', 288),\n ('hand', 287),\n ('shall', 286),\n ('terms', 285),\n ('account', 284),\n ('relationship', 283),\n ('am', 282),\n ('These', 281),\n ('role', 281),\n ('away', 279),\n ('members', 278),\n ('never', 276),\n ('That', 276),\n ('thus', 275),\n ('little', 274),\n ('author', 273),\n ('set', 272),\n ('At', 272),\n ('again', 271),\n ('cannot', 271),\n ('heart', 270),\n ('known', 269),\n ('knowledge', 269),\n ('idea', 267),\n ('reason', 267),\n ('until', 266),\n ('Old', 266),\n ('truth', 265),\n ('Religion', 265),\n ('letters', 264),\n ('long', 264),\n ('need', 263),\n ('Emerson', 262),\n ('Protestant', 261),\n ('far', 261),\n ('seems', 261),\n ('further', 261),\n ('number', 261),\n ('nor', 260),\n ('prayer', 260),\n ('back', 259),\n ('taken', 258),\n ('Pauline', 257),\n ('less', 256),\n ('took', 255),\n ('Son', 255),\n ('several', 255),\n ('James', 255),\n ('something', 253),\n ('soul', 253),\n ('chapter', 253),\n ('service', 252),\n ('already', 251),\n ('An', 251),\n ('Th', 251),\n ('various', 250),\n ('While', 249),\n ('personal', 249),\n ('yet', 248),\n ('makes', 247),\n ('always', 247),\n ('city', 247),\n ('From', 245),\n ('Latin', 245),\n ('So', 243),\n ('History', 242),\n ('position', 240),\n ('Gal', 240),\n ('mind', 239),\n ('similar', 237),\n ('written', 237),\n ('moral', 236),\n ('covenant', 236),\n ('course', 234),\n ('few', 234),\n ('living', 233),\n ('However', 232),\n ('movement', 232),\n ('woman', 229),\n ('children', 229),\n ('priest', 229),\n ('gave', 228),\n ('ways', 227),\n ('identity', 227),\n ('family', 227),\n ('went', 226),\n ('toward', 225),\n ('modern', 225),\n ('argument', 225),\n ('discussion', 224),\n ('kind', 224),\n ('authorities', 223),\n ('old', 221),\n ('ad', 221),\n ('term', 221),\n ('African', 221),\n ('perhaps', 220),\n ('London', 219),\n ('De', 219),\n ('once', 218),\n ('times', 218),\n ('fi', 218),\n ('Abraham', 218),\n ('ins', 218),\n ('go', 217),\n ('Rome', 217),\n ('According', 216),\n ('public', 216),\n ('right', 216),\n ('image', 215),\n ('act', 215),\n ('Scripture', 215),\n ('understood', 214),\n ('last', 214),\n ('pages', 214),\n ('reference', 213),\n ('evidence', 213),\n ('ancient', 212),\n ('saw', 211),\n ('evil', 211),\n ('put', 211),\n ('Theology', 211),\n ('reality', 209),\n ('und', 209),\n ('Saint', 209),\n ('land', 208),\n ('basis', 207),\n ('passage', 207),\n ('Apostle', 207),\n ('David', 207),\n ('group', 207),\n ('call', 206),\n ('based', 206),\n ('including', 206),\n ('live', 205),\n ('left', 205),\n ('period', 205),\n ('think', 205),\n ('Although', 205),\n ('How', 205),\n ('year', 205),\n ('hope', 204),\n ('problem', 204),\n ('Hebrews', 204),\n ('Moses', 204),\n ('baptism', 203),\n ('comes', 203),\n ('began', 203),\n ('matter', 202),\n ('although', 202),\n ('understand', 202),\n ('translation', 202),\n ('Hebrew', 202),\n ('revelation', 201),\n ('best', 201),\n ('received', 201),\n ('scholars', 201),\n ('society', 201),\n ('possible', 200),\n ('father', 199),\n ('cross', 199),\n ('nothing', 199),\n ('Journal', 199),\n ('almost', 199),\n ('ministry', 199),\n ('communion', 198),\n ('friend', 197),\n ('contemporary', 197),\n ('leaders', 197),\n ('Ibid', 196),\n ('Gentiles', 196),\n ('why', 195),\n ('commentary', 194),\n ('sources', 194),\n ('local', 194),\n ('communities', 194),\n ('support', 192),\n ('teaching', 191),\n ('believers', 191),\n ('story', 191),\n ('late', 191),\n ('mission', 191),\n ('worship', 191),\n ('having', 190),\n ('wrote', 190),\n ('third', 189),\n ('free', 189),\n ('help', 189),\n ('let', 189),\n ('four', 189),\n ('full', 189),\n ('situation', 188),\n ('earlier', 188),\n ('Studies', 188),\n ('status', 188),\n ('traditions', 187),\n ('doctrine', 187),\n ('particularly', 187),\n ('done', 186),\n ('earth', 186),\n ('traditional', 186),\n ('angels', 186),\n ('creation', 185),\n ('beyond', 185),\n ('kingdom', 185),\n ('considered', 185),\n ('states', 185),\n ('held', 185),\n ('clearly', 184),\n ('action', 184),\n ('relation', 183),\n ('simply', 183),\n ('private', 183),\n ('After', 183),\n ('trans', 182),\n ('First', 182),\n ('freedom', 182),\n ('attention', 182),\n ('tion', 181),\n ('ideas', 181),\n ('gives', 181),\n ('blood', 181),\n ('Philemon', 181),\n ('brother', 181),\n ('days', 181),\n ('white', 181),\n ('able', 180),\n ('house', 180),\n ('HTBP', 180),\n ('turn', 179),\n ('either', 179),\n ('necessary', 179),\n ('brought', 178),\n ('Books', 178),\n ('die', 177),\n ('forms', 175),\n ('alone', 175),\n ('Luther', 175),\n ('heaven', 175),\n ('argues', 175),\n ('son', 174),\n ('appears', 174),\n ('doing', 174),\n ('Thomas', 174),\n ('presence', 173),\n ('told', 173),\n ('beginning', 172),\n ('theory', 172),\n ('lives', 172),\n ('vol', 172),\n ('led', 171),\n ('conversion', 171),\n ('slaves', 171),\n ('influence', 171),\n ('material', 170),\n ('Oxford', 170),\n ('literature', 170),\n ('eg', 170),\n ('belief', 169),\n ('ever', 169),\n ('friends', 169),\n ('individual', 169),\n ('subject', 168),\n ('slave', 168),\n ('age', 167),\n ('vision', 167),\n ('around', 167),\n ('Some', 167),\n ('Bonaventure', 167),\n ('Yet', 166),\n ('She', 166),\n ('leadership', 166),\n ('Galatians', 165),\n ('established', 165),\n ('Book', 165),\n ('clergy', 165),\n ('wisdom', 165),\n ('Augustine', 165),\n ('process', 164),\n ('Therefore', 164),\n ('AND', 164),\n ('outside', 163),\n ('refers', 163),\n ('close', 163),\n ('Biblical', 163),\n ('groups', 163),\n ('asked', 162),\n ('side', 162),\n ('published', 162),\n ('high', 162),\n ('Africa', 162),\n ('believe', 161),\n ('collection', 161),\n ('volume', 161),\n ('writing', 161),\n ('faithful', 161),\n ('culture', 160),\n ('approach', 160),\n ('indeed', 160),\n ('World', 160),\n ('confession', 160),\n ('questions', 159),\n ('better', 159),\n ('article', 159),\n ('peace', 159),\n ('contrast', 159),\n ('longer', 159),\n ('return', 159),\n ('described', 159),\n ('chapters', 158),\n ('sent', 158),\n ('Zoroastrian', 158),\n ('final', 157),\n ('speak', 156),\n ('religions', 156),\n ('Society', 156),\n ('All', 156),\n ('throughout', 156),\n ('claim', 156),\n ('humanity', 156),\n ('perspective', 156),\n ('play', 156),\n ('mentioned', 155),\n ('apostle', 155),\n ('With', 155),\n ('suggests', 155),\n ('England', 155),\n ('head', 155),\n ('remained', 155),\n ('verse', 155),\n ('system', 155),\n ('Grand', 155),\n ('points', 154),\n ('instance', 154),\n ('latter', 154),\n ('rule', 154),\n ('Colossians', 154),\n ('friendship', 154),\n ('William', 154),\n ('character', 153),\n ('America', 153),\n ('la', 153),\n ('source', 153),\n ('Is', 153),\n ('Gentile', 153),\n ('sins', 152),\n ('resurrection', 152),\n ('Here', 152),\n ('Religious', 152),\n ('Early', 152),\n ('charity', 152),\n ('follow', 152),\n ('books', 151),\n ('saints', 151),\n ('country', 151),\n ('justice', 151),\n ('passages', 151),\n ('authors', 151),\n ('want', 150),\n ('ie', 150),\n ('des', 150),\n ('natural', 150),\n ('actions', 150),\n ('followed', 149),\n ('writings', 149),\n ('practices', 149),\n ('model', 149),\n ('sometimes', 149),\n ('Europe', 149),\n ('est', 149),\n ('regard', 148),\n ('receive', 148),\n ('interest', 148),\n ('issue', 148),\n ('young', 147),\n ('existence', 147),\n ('Reformation', 147),\n ('der', 147),\n ('show', 147),\n ('cultural', 147),\n ('probably', 147),\n ('mean', 146),\n ('believed', 146),\n ('persons', 146),\n ('sacred', 146),\n ('neither', 146),\n ('rest', 146),\n ('response', 146),\n ('disciples', 146),\n ('Christology', 146),\n ('followers', 145),\n ('provided', 145),\n ('recent', 145),\n ('note', 145),\n ('sons', 145),\n ('nations', 145),\n ('face', 144),\n ('quite', 144),\n ('heard', 144),\n ('section', 144),\n ('structure', 143),\n ('eschatological', 143),\n ('thing', 143),\n ('key', 143),\n ('noted', 143),\n ('making', 142),\n ('lived', 142),\n ('difficult', 142),\n ('food', 142),\n ('appear', 141),\n ('glory', 141),\n ('Matthew', 141),\n ('flesh', 140),\n ('emphasis', 140),\n ('message', 140),\n ('popular', 140),\n ('East', 140),\n ('phrase', 140),\n ('eyes', 140),\n ('Richard', 140),\n ('claims', 140),\n ('Bonaventures', 140),\n ('generally', 139),\n ('judgment', 139),\n ('preaching', 139),\n ('strong', 139),\n ('event', 139),\n ('Even', 139),\n ('You', 139),\n ('hands', 139),\n ('powers', 138),\n ('along', 138),\n ('expression', 138),\n ('unity', 138),\n ('relations', 138),\n ('No', 138),\n ('narrative', 138),\n ('Rapids', 138),\n ('concept', 137),\n ('saying', 137),\n ('becomes', 137),\n ('brothers', 137),\n ('Daniel', 137),\n ('Now', 137),\n ('Body', 137),\n ('cause', 137),\n ('central', 136),\n ('purpose', 136),\n ('home', 136),\n ('offer', 136),\n ('Mark', 136),\n ('introduction', 136),\n ('obedience', 136),\n ('next', 136),\n ('Lk', 136),\n ('Second', 136),\n ('Patrick', 136),\n ('significant', 135),\n ('developed', 135),\n ('ing', 135),\n ('coming', 135),\n ('centuries', 135),\n ('offered', 135),\n ('Commentary', 135),\n ('former', 134),\n ('original', 134),\n ('shows', 134),\n ('certainly', 134),\n ('force', 134),\n ('off', 134),\n ('institutions', 134),\n ('healing', 134),\n ('soon', 133),\n ('greater', 133),\n ('care', 133),\n ('Then', 133),\n ('priests', 133),\n ('water', 133),\n ('speaks', 132),\n ('bring', 132),\n ('town', 132),\n ('future', 131),\n ('statement', 131),\n ('continued', 131),\n ('development', 131),\n ('lay', 131),\n ('eds', 131),\n ('Pentecostal', 131),\n ('sought', 130),\n ('mystery', 130),\n ('Anna', 130),\n ('takes', 130),\n ('revealed', 130),\n ('en', 130),\n ('related', 129),\n ('liturgy', 129),\n ('readers', 129),\n ('issues', 129),\n ('small', 129),\n ('large', 128),\n ('beings', 128),\n ('Russian', 128),\n ('Great', 128),\n ('served', 128),\n ('Pp', 128),\n ('IN', 128),\n ('gift', 127),\n ('apocalyptic', 127),\n ('suffering', 127),\n ('Bernard', 127),\n ('figure', 126),\n ('Such', 126),\n ('included', 126),\n ('missionary', 126),\n ('king', 126),\n ('Its', 126),\n ('result', 126),\n ('wife', 126),\n ('events', 125),\n ('Faith', 125),\n ('specific', 125),\n ('Martin', 125),\n ('version', 125),\n ('speaking', 125),\n ('bishop', 125),\n ('Catholics', 125),\n ('prayers', 125),\n ('provide', 125),\n ('Literature', 125),\n ('Their', 124),\n ('Western', 124),\n ('ritual', 124),\n ('uses', 124),\n ('places', 124),\n ('black', 124),\n ('laws', 123),\n ('mercy', 123),\n ('real', 123),\n ('keep', 123),\n ('really', 123),\n ('change', 123),\n ('respect', 123),\n ('marriage', 123),\n ('justification', 122),\n ('lead', 122),\n ('today', 122),\n ('theme', 122),\n ('Dei', 122),\n ('war', 122),\n ('calls', 122),\n ('manner', 122),\n ('offers', 122),\n ('exegesis', 122),\n ('created', 122),\n ('Lords', 122),\n ('dead', 121),\n ('connection', 121),\n ('likely', 121),\n ('special', 121),\n ('My', 121),\n ('fellow', 121),\n ('died', 121),\n ('unto', 121),\n ('services', 121),\n ('HBP', 121),\n ('instead', 120),\n ('con', 120),\n ('main', 120),\n ('reader', 120),\n ('appeared', 119),\n ('Part', 119),\n ('evangelical', 119),\n ('analysis', 119),\n ('major', 119),\n ('follows', 119),\n ('NT', 119),\n ('get', 119),\n ('th', 118),\n ('title', 118),\n ('effect', 118),\n ('ask', 118),\n ('Jew', 118),\n ('concern', 118),\n ('views', 118),\n ('participation', 118),\n ('South', 118),\n ('literary', 118),\n ('desire', 118),\n ('suggest', 118),\n ('West', 117),\n ('towards', 117),\n ('studies', 117),\n ('share', 117),\n ('III', 117),\n ('Word', 117),\n ('open', 117),\n ('ST', 117),\n ('parts', 116),\n ('placed', 116),\n ('Study', 116),\n ('gifts', 116),\n ('bread', 116),\n ('prophets', 116),\n ('value', 115),\n ('criticism', 115),\n ('activity', 115),\n ('righteous', 115),\n ('Orthodox', 115),\n ('Joseph', 115),\n ('acts', 115),\n ('prophet', 115),\n ('honor', 115),\n ('debate', 115),\n ('giving', 114),\n ('Lutheran', 114),\n ('knew', 114),\n ('images', 114),\n ('focus', 114),\n ('doubt', 114),\n ('Social', 114),\n ('frequently', 114),\n ('Introduction', 114),\n ('lost', 113),\n ('scripture', 113),\n ('fear', 113),\n ('Col', 113),\n ('economic', 113),\n ('monastery', 112),\n ('presented', 112),\n ('struggle', 112),\n ('notes', 112),\n ('principle', 112),\n ('past', 112),\n ('felt', 112),\n ('Passover', 112),\n ('problems', 111),\n ('expressed', 111),\n ('learned', 111),\n ('single', 111),\n ('eternal', 111),\n ('concerning', 111),\n ('short', 111),\n ('apostles', 111),\n ('kings', 111),\n ('actually', 110),\n ('content', 110),\n ('significance', 110),\n ('enemies', 110),\n ('Charles', 110),\n ('leading', 110),\n ('involved', 110),\n ('etc', 110),\n ('re', 109),\n ('include', 109),\n ('State', 109),\n ('description', 109),\n ('shared', 109),\n ('Life', 108),\n ('heavenly', 108),\n ('liturgical', 108),\n ('European', 108),\n ('Mass', 108),\n ('seek', 108),\n ('voice', 108),\n ('Noah', 108),\n ('notion', 107),\n ('Gospels', 107),\n ('fully', 107),\n ('witness', 107),\n ('Paris', 107)]"
     },
     "execution_count": 109,
     "metadata": {},
     "output_type": "execute_result"
    }
   ],
   "source": [
    "# check how raw unigrams look like\n",
    "data_unigrams_sorted = sorted(data_unigrams.items(), key=lambda kv: kv[1], reverse=True)\n",
    "data_unigrams_sorted[:1000]"
   ],
   "metadata": {
    "collapsed": false
   }
  },
  {
   "cell_type": "code",
   "execution_count": 110,
   "outputs": [
    {
     "data": {
      "text/plain": "[('the', 64204),\n ('of', 43727),\n ('and', 29112),\n ('to', 24051),\n ('in', 23227),\n ('is', 11614),\n ('that', 11283),\n ('as', 8204),\n ('The', 6860),\n ('for', 6850),\n ('his', 6283),\n ('with', 6121),\n ('was', 5995),\n ('he', 5314),\n ('by', 5164),\n ('not', 5095),\n ('on', 4746),\n ('from', 4525),\n ('it', 4500),\n ('this', 4388),\n ('be', 4355),\n ('or', 3657),\n ('which', 3568),\n ('are', 3401),\n ('an', 3185),\n ('their', 3085),\n ('who', 3080),\n ('God', 3032),\n ('have', 2951),\n ('but', 2774),\n ('at', 2649),\n ('Paul', 2601),\n ('were', 2543),\n ('they', 2531),\n ('In', 2524),\n ('had', 2435),\n ('one', 2336),\n ('all', 2258),\n ('has', 2093),\n ('him', 1966),\n ('we', 1966),\n ('Christ', 1886),\n ('also', 1854),\n ('its', 1685),\n ('them', 1600),\n ('Christian', 1594),\n ('more', 1579),\n ('Jesus', 1546),\n ('would', 1496),\n ('what', 1489),\n ('you', 1474),\n ('This', 1472),\n ('been', 1441),\n ('will', 1439),\n ('other', 1423),\n ('into', 1356),\n ('only', 1342),\n ('It', 1324),\n ('so', 1322),\n ('no', 1299),\n ('about', 1293),\n ('He', 1288),\n ('life', 1260),\n ('these', 1253),\n ('New', 1197),\n ('there', 1196),\n ('when', 1170),\n ('than', 1166),\n ('some', 1115),\n ('through', 1086),\n ('between', 1079),\n ('such', 1075),\n ('those', 1072),\n ('do', 1066),\n ('can', 1055),\n ('see', 1049),\n ('church', 1034),\n ('our', 1032),\n ('my', 1020),\n ('people', 1013),\n ('her', 997),\n ('For', 996),\n ('first', 990),\n ('own', 922),\n ('Pauls', 919),\n ('us', 910),\n ('even', 908),\n ('two', 905),\n ('could', 903),\n ('faith', 899),\n ('out', 898),\n ('Church', 897),\n ('may', 884),\n ('if', 882),\n ('does', 881),\n ('religious', 875),\n ('See', 869),\n ('me', 869),\n ('world', 861),\n ('most', 856),\n ('time', 853),\n ('way', 846),\n ('Jewish', 840),\n ('But', 833),\n ('man', 821),\n ('both', 807),\n ('many', 804),\n ('because', 803),\n ('Christians', 802),\n ('And', 801),\n ('love', 800),\n ('work', 797),\n ('Gods', 778),\n ('new', 772),\n ('did', 757),\n ('Spirit', 740),\n ('should', 738),\n ('how', 735),\n ('where', 735),\n ('being', 716),\n ('same', 706),\n ('John', 695),\n ('human', 689),\n ('any', 683),\n ('well', 680),\n ('himself', 679),\n ('Press', 677),\n ('social', 675),\n ('then', 673),\n ('de', 664),\n ('up', 655),\n ('upon', 654),\n ('made', 642),\n ('University', 642),\n ('like', 641),\n ('As', 641),\n ('before', 640),\n ('after', 640),\n ('over', 634),\n ('Testament', 633),\n ('said', 624),\n ('against', 623),\n ('et', 621),\n ('must', 613),\n ('part', 596),\n ('good', 592),\n ('Lord', 586),\n ('among', 585),\n ('century', 583),\n ('she', 580),\n ('order', 577),\n ('Jews', 576),\n ('law', 575),\n ('very', 568),\n ('here', 566),\n ('much', 557),\n ('power', 556),\n ('your', 556),\n ('community', 552),\n ('Catholic', 548),\n ('HB', 541),\n ('death', 535),\n ('text', 535),\n ('Christianity', 532),\n ('while', 530),\n ('early', 530),\n ('now', 516),\n ('On', 506),\n ('men', 505),\n ('rather', 502),\n ('found', 499),\n ('words', 496),\n ('called', 483),\n ('however', 482),\n ('without', 479),\n ('might', 475),\n ('ed', 474),\n ('three', 470),\n ('history', 465),\n ('place', 464),\n ('They', 460),\n ('THE', 459),\n ('book', 459),\n ('say', 455),\n ('others', 455),\n ('Greek', 454),\n ('under', 453),\n ('spiritual', 453),\n ('churches', 452),\n ('reading', 450),\n ('divine', 450),\n ('use', 449),\n ('word', 445),\n ('within', 443),\n ('Cf', 436),\n ('pp', 436),\n ('Cor', 436),\n ('another', 434),\n ('thought', 432),\n ('whom', 432),\n ('make', 425),\n ('His', 423),\n ('Father', 423),\n ('sense', 420),\n ('great', 417),\n ('Bible', 416),\n ('Judaism', 416),\n ('Law', 414),\n ('salvation', 412),\n ('fact', 411),\n ('nature', 410),\n ('If', 409),\n ('religion', 409),\n ('means', 409),\n ('Cambridge', 409),\n ('Romans', 408),\n ('tradition', 407),\n ('Gospel', 407),\n ('view', 407),\n ('Corinthians', 404),\n ('example', 403),\n ('There', 401),\n ('come', 400),\n ('says', 399),\n ('each', 399),\n ('Roman', 399),\n ('later', 399),\n ('Holy', 398),\n ('given', 396),\n ('years', 396),\n ('om', 396),\n ('Luke', 395),\n ('itself', 394),\n ('point', 394),\n ('day', 394),\n ('letter', 392),\n ('different', 390),\n ('form', 389),\n ('understanding', 388),\n ('St', 388),\n ('women', 387),\n ('know', 386),\n ('spirit', 384),\n ('came', 384),\n ('authority', 384),\n ('We', 383),\n ('works', 381),\n ('often', 381),\n ('become', 379),\n ('themselves', 378),\n ('theology', 376),\n ('things', 373),\n ('question', 372),\n ('Israel', 371),\n ('What', 370),\n ('end', 368),\n ('person', 367),\n ('York', 367),\n ('Rom', 363),\n ('poor', 363),\n ('just', 358),\n ('became', 356),\n ('meaning', 355),\n ('theological', 354),\n ('used', 353),\n ('though', 350),\n ('holy', 348),\n ('Acts', 347),\n ('second', 344),\n ('experience', 343),\n ('important', 343),\n ('context', 343),\n ('grace', 342),\n ('present', 340),\n ('still', 339),\n ('according', 338),\n ('sin', 336),\n ('practice', 335),\n ('American', 333),\n ('To', 332),\n ('too', 331),\n ('cf', 329),\n ('When', 329),\n ('Christs', 327),\n ('general', 327),\n ('interpretation', 325),\n ('English', 324),\n ('gospel', 324),\n ('Jerusalem', 323),\n ('language', 323),\n ('One', 321),\n ('Thus', 320),\n ('case', 319),\n ('OF', 317),\n ('certain', 316),\n ('name', 315),\n ('especially', 315),\n ('righteousness', 313),\n ('political', 313),\n ('study', 312),\n ('give', 312),\n ('true', 311),\n ('texts', 309),\n ('together', 309),\n ('biblical', 309),\n ('whole', 308),\n ('take', 307),\n ('whose', 307),\n ('state', 306),\n ('II', 305),\n ('since', 305),\n ('find', 305),\n ('light', 304),\n ('historical', 303),\n ('By', 303),\n ('during', 303),\n ('every', 302),\n ('whether', 301),\n ('seen', 301),\n ('particular', 296),\n ('clear', 295),\n ('read', 295),\n ('common', 293),\n ('down', 292),\n ('following', 291),\n ('body', 291),\n ('Peter', 291),\n ('therefore', 290),\n ('above', 290),\n ('ones', 289),\n ('least', 288),\n ('hand', 287),\n ('shall', 286),\n ('terms', 285),\n ('account', 284),\n ('relationship', 283),\n ('am', 282),\n ('These', 281),\n ('role', 281),\n ('away', 279),\n ('members', 278),\n ('never', 276),\n ('That', 276),\n ('thus', 275),\n ('little', 274),\n ('author', 273),\n ('set', 272),\n ('At', 272),\n ('again', 271),\n ('cannot', 271),\n ('heart', 270),\n ('known', 269),\n ('knowledge', 269),\n ('idea', 267),\n ('reason', 267),\n ('until', 266),\n ('Old', 266),\n ('truth', 265),\n ('Religion', 265),\n ('letters', 264),\n ('long', 264),\n ('need', 263),\n ('Emerson', 262),\n ('Protestant', 261),\n ('far', 261),\n ('seems', 261),\n ('further', 261),\n ('number', 261),\n ('nor', 260),\n ('prayer', 260),\n ('back', 259),\n ('taken', 258),\n ('Pauline', 257),\n ('less', 256),\n ('took', 255),\n ('Son', 255),\n ('several', 255),\n ('James', 255),\n ('something', 253),\n ('soul', 253),\n ('chapter', 253),\n ('service', 252),\n ('already', 251),\n ('An', 251),\n ('Th', 251),\n ('various', 250),\n ('While', 249),\n ('personal', 249),\n ('yet', 248),\n ('makes', 247),\n ('always', 247),\n ('city', 247),\n ('From', 245),\n ('Latin', 245),\n ('So', 243),\n ('History', 242),\n ('position', 240),\n ('Gal', 240),\n ('mind', 239),\n ('similar', 237),\n ('written', 237),\n ('moral', 236),\n ('covenant', 236),\n ('course', 234),\n ('few', 234),\n ('living', 233),\n ('However', 232),\n ('movement', 232),\n ('woman', 229),\n ('children', 229),\n ('priest', 229),\n ('gave', 228),\n ('ways', 227),\n ('identity', 227),\n ('family', 227),\n ('went', 226),\n ('toward', 225),\n ('modern', 225),\n ('argument', 225),\n ('discussion', 224),\n ('kind', 224),\n ('authorities', 223),\n ('old', 221),\n ('ad', 221),\n ('term', 221),\n ('African', 221),\n ('perhaps', 220),\n ('London', 219),\n ('De', 219),\n ('once', 218),\n ('times', 218),\n ('fi', 218),\n ('Abraham', 218),\n ('ins', 218),\n ('go', 217),\n ('Rome', 217),\n ('According', 216),\n ('public', 216),\n ('right', 216),\n ('image', 215),\n ('act', 215),\n ('Scripture', 215),\n ('understood', 214),\n ('last', 214),\n ('pages', 214),\n ('reference', 213),\n ('evidence', 213),\n ('ancient', 212),\n ('saw', 211),\n ('evil', 211),\n ('put', 211),\n ('Theology', 211),\n ('reality', 209),\n ('und', 209),\n ('Saint', 209),\n ('land', 208),\n ('basis', 207),\n ('passage', 207),\n ('Apostle', 207),\n ('David', 207),\n ('group', 207),\n ('call', 206),\n ('based', 206),\n ('including', 206),\n ('live', 205),\n ('left', 205),\n ('period', 205),\n ('think', 205),\n ('Although', 205),\n ('How', 205),\n ('year', 205),\n ('hope', 204),\n ('problem', 204),\n ('Hebrews', 204),\n ('Moses', 204),\n ('baptism', 203),\n ('comes', 203),\n ('began', 203),\n ('matter', 202),\n ('although', 202),\n ('understand', 202),\n ('translation', 202),\n ('Hebrew', 202),\n ('revelation', 201),\n ('best', 201),\n ('received', 201),\n ('scholars', 201),\n ('society', 201),\n ('possible', 200),\n ('father', 199),\n ('cross', 199),\n ('nothing', 199),\n ('Journal', 199),\n ('almost', 199),\n ('ministry', 199),\n ('communion', 198),\n ('friend', 197),\n ('contemporary', 197),\n ('leaders', 197),\n ('Ibid', 196),\n ('Gentiles', 196),\n ('why', 195),\n ('commentary', 194),\n ('sources', 194),\n ('local', 194),\n ('communities', 194),\n ('support', 192),\n ('teaching', 191),\n ('believers', 191),\n ('story', 191),\n ('late', 191),\n ('mission', 191),\n ('worship', 191),\n ('having', 190),\n ('wrote', 190),\n ('third', 189),\n ('free', 189),\n ('help', 189),\n ('let', 189),\n ('four', 189),\n ('full', 189),\n ('situation', 188),\n ('earlier', 188),\n ('Studies', 188),\n ('status', 188),\n ('traditions', 187),\n ('doctrine', 187),\n ('particularly', 187),\n ('done', 186),\n ('earth', 186),\n ('traditional', 186),\n ('angels', 186),\n ('creation', 185),\n ('beyond', 185),\n ('kingdom', 185),\n ('considered', 185),\n ('states', 185),\n ('held', 185),\n ('clearly', 184),\n ('action', 184),\n ('relation', 183),\n ('simply', 183),\n ('private', 183),\n ('After', 183),\n ('trans', 182),\n ('First', 182),\n ('freedom', 182),\n ('attention', 182),\n ('tion', 181),\n ('ideas', 181),\n ('gives', 181),\n ('blood', 181),\n ('Philemon', 181),\n ('brother', 181),\n ('days', 181),\n ('white', 181),\n ('able', 180),\n ('house', 180),\n ('HTBP', 180),\n ('turn', 179),\n ('either', 179),\n ('necessary', 179),\n ('brought', 178),\n ('Books', 178),\n ('die', 177),\n ('forms', 175),\n ('alone', 175),\n ('Luther', 175),\n ('heaven', 175),\n ('argues', 175),\n ('son', 174),\n ('appears', 174),\n ('doing', 174),\n ('Thomas', 174),\n ('presence', 173),\n ('told', 173),\n ('beginning', 172),\n ('theory', 172),\n ('lives', 172),\n ('vol', 172),\n ('led', 171),\n ('conversion', 171),\n ('slaves', 171),\n ('influence', 171),\n ('material', 170),\n ('Oxford', 170),\n ('literature', 170),\n ('eg', 170),\n ('belief', 169),\n ('ever', 169),\n ('friends', 169),\n ('individual', 169),\n ('subject', 168),\n ('slave', 168),\n ('age', 167),\n ('vision', 167),\n ('around', 167),\n ('Some', 167),\n ('Bonaventure', 167),\n ('Yet', 166),\n ('She', 166),\n ('leadership', 166),\n ('Galatians', 165),\n ('established', 165),\n ('Book', 165),\n ('clergy', 165),\n ('wisdom', 165),\n ('Augustine', 165),\n ('process', 164),\n ('Therefore', 164),\n ('AND', 164),\n ('outside', 163),\n ('refers', 163),\n ('close', 163),\n ('Biblical', 163),\n ('groups', 163),\n ('asked', 162),\n ('side', 162),\n ('published', 162),\n ('high', 162),\n ('Africa', 162),\n ('believe', 161),\n ('collection', 161),\n ('volume', 161),\n ('writing', 161),\n ('faithful', 161),\n ('culture', 160),\n ('approach', 160),\n ('indeed', 160),\n ('World', 160),\n ('confession', 160),\n ('questions', 159),\n ('better', 159),\n ('article', 159),\n ('peace', 159),\n ('contrast', 159),\n ('longer', 159),\n ('return', 159),\n ('described', 159),\n ('chapters', 158),\n ('sent', 158),\n ('Zoroastrian', 158),\n ('final', 157),\n ('speak', 156),\n ('religions', 156),\n ('Society', 156),\n ('All', 156),\n ('throughout', 156),\n ('claim', 156),\n ('humanity', 156),\n ('perspective', 156),\n ('play', 156),\n ('mentioned', 155),\n ('apostle', 155),\n ('With', 155),\n ('suggests', 155),\n ('England', 155),\n ('head', 155),\n ('remained', 155),\n ('verse', 155),\n ('system', 155),\n ('Grand', 155),\n ('points', 154),\n ('instance', 154),\n ('latter', 154),\n ('rule', 154),\n ('Colossians', 154),\n ('friendship', 154),\n ('William', 154),\n ('character', 153),\n ('America', 153),\n ('la', 153),\n ('source', 153),\n ('Is', 153),\n ('Gentile', 153),\n ('sins', 152),\n ('resurrection', 152),\n ('Here', 152),\n ('Religious', 152),\n ('Early', 152),\n ('charity', 152),\n ('follow', 152),\n ('books', 151),\n ('saints', 151),\n ('country', 151),\n ('justice', 151),\n ('passages', 151),\n ('authors', 151),\n ('want', 150),\n ('ie', 150),\n ('des', 150),\n ('natural', 150),\n ('actions', 150),\n ('followed', 149),\n ('writings', 149),\n ('practices', 149),\n ('model', 149),\n ('sometimes', 149),\n ('Europe', 149),\n ('est', 149),\n ('regard', 148),\n ('receive', 148),\n ('interest', 148),\n ('issue', 148),\n ('young', 147),\n ('existence', 147),\n ('Reformation', 147),\n ('der', 147),\n ('show', 147),\n ('cultural', 147),\n ('probably', 147),\n ('mean', 146),\n ('believed', 146),\n ('persons', 146),\n ('sacred', 146),\n ('neither', 146),\n ('rest', 146),\n ('response', 146),\n ('disciples', 146),\n ('Christology', 146),\n ('followers', 145),\n ('provided', 145),\n ('recent', 145),\n ('note', 145),\n ('sons', 145),\n ('nations', 145),\n ('face', 144),\n ('quite', 144),\n ('heard', 144),\n ('section', 144),\n ('structure', 143),\n ('eschatological', 143),\n ('thing', 143),\n ('key', 143),\n ('noted', 143),\n ('making', 142),\n ('lived', 142),\n ('difficult', 142),\n ('food', 142),\n ('appear', 141),\n ('glory', 141),\n ('Matthew', 141),\n ('flesh', 140),\n ('emphasis', 140),\n ('message', 140),\n ('popular', 140),\n ('East', 140),\n ('phrase', 140),\n ('eyes', 140),\n ('Richard', 140),\n ('claims', 140),\n ('Bonaventures', 140),\n ('generally', 139),\n ('judgment', 139),\n ('preaching', 139),\n ('strong', 139),\n ('event', 139),\n ('Even', 139),\n ('You', 139),\n ('hands', 139),\n ('powers', 138),\n ('along', 138),\n ('expression', 138),\n ('unity', 138),\n ('relations', 138),\n ('No', 138),\n ('narrative', 138),\n ('Rapids', 138),\n ('concept', 137),\n ('saying', 137),\n ('becomes', 137),\n ('brothers', 137),\n ('Daniel', 137),\n ('Now', 137),\n ('Body', 137),\n ('cause', 137),\n ('central', 136),\n ('purpose', 136),\n ('home', 136),\n ('offer', 136),\n ('Mark', 136),\n ('introduction', 136),\n ('obedience', 136),\n ('next', 136),\n ('Lk', 136),\n ('Second', 136),\n ('Patrick', 136),\n ('significant', 135),\n ('developed', 135),\n ('ing', 135),\n ('coming', 135),\n ('centuries', 135),\n ('offered', 135),\n ('Commentary', 135),\n ('former', 134),\n ('original', 134),\n ('shows', 134),\n ('certainly', 134),\n ('force', 134),\n ('off', 134),\n ('institutions', 134),\n ('healing', 134),\n ('soon', 133),\n ('greater', 133),\n ('care', 133),\n ('Then', 133),\n ('priests', 133),\n ('water', 133),\n ('speaks', 132),\n ('bring', 132),\n ('town', 132),\n ('future', 131),\n ('statement', 131),\n ('continued', 131),\n ('development', 131),\n ('lay', 131),\n ('eds', 131),\n ('Pentecostal', 131),\n ('sought', 130),\n ('mystery', 130),\n ('Anna', 130),\n ('takes', 130),\n ('revealed', 130),\n ('en', 130),\n ('related', 129),\n ('liturgy', 129),\n ('readers', 129),\n ('issues', 129),\n ('small', 129),\n ('large', 128),\n ('beings', 128),\n ('Russian', 128),\n ('Great', 128),\n ('served', 128),\n ('Pp', 128),\n ('IN', 128),\n ('gift', 127),\n ('apocalyptic', 127),\n ('suffering', 127),\n ('Bernard', 127),\n ('figure', 126),\n ('Such', 126),\n ('included', 126),\n ('missionary', 126),\n ('king', 126),\n ('Its', 126),\n ('result', 126),\n ('wife', 126),\n ('events', 125),\n ('Faith', 125),\n ('specific', 125),\n ('Martin', 125),\n ('version', 125),\n ('speaking', 125),\n ('bishop', 125),\n ('Catholics', 125),\n ('prayers', 125),\n ('provide', 125),\n ('Literature', 125),\n ('Their', 124),\n ('Western', 124),\n ('ritual', 124),\n ('uses', 124),\n ('places', 124),\n ('black', 124),\n ('laws', 123),\n ('mercy', 123),\n ('real', 123),\n ('keep', 123),\n ('really', 123),\n ('change', 123),\n ('respect', 123),\n ('marriage', 123),\n ('justification', 122),\n ('lead', 122),\n ('today', 122),\n ('theme', 122),\n ('Dei', 122),\n ('war', 122),\n ('calls', 122),\n ('manner', 122),\n ('offers', 122),\n ('exegesis', 122),\n ('created', 122),\n ('Lords', 122),\n ('dead', 121),\n ('connection', 121),\n ('likely', 121),\n ('special', 121),\n ('My', 121),\n ('fellow', 121),\n ('died', 121),\n ('unto', 121),\n ('services', 121),\n ('HBP', 121),\n ('instead', 120),\n ('con', 120),\n ('main', 120),\n ('reader', 120),\n ('appeared', 119),\n ('Part', 119),\n ('evangelical', 119),\n ('analysis', 119),\n ('major', 119),\n ('follows', 119),\n ('NT', 119),\n ('get', 119),\n ('th', 118),\n ('title', 118),\n ('effect', 118),\n ('ask', 118),\n ('Jew', 118),\n ('concern', 118),\n ('views', 118),\n ('participation', 118),\n ('South', 118),\n ('literary', 118),\n ('desire', 118),\n ('suggest', 118),\n ('West', 117),\n ('towards', 117),\n ('studies', 117),\n ('share', 117),\n ('III', 117),\n ('Word', 117),\n ('open', 117),\n ('ST', 117),\n ('parts', 116),\n ('placed', 116),\n ('Study', 116),\n ('gifts', 116),\n ('bread', 116),\n ('prophets', 116),\n ('value', 115),\n ('criticism', 115),\n ('activity', 115),\n ('righteous', 115),\n ('Orthodox', 115),\n ('Joseph', 115),\n ('acts', 115),\n ('prophet', 115),\n ('honor', 115),\n ('debate', 115),\n ('giving', 114),\n ('Lutheran', 114),\n ('knew', 114),\n ('images', 114),\n ('focus', 114),\n ('doubt', 114),\n ('Social', 114),\n ('frequently', 114),\n ('Introduction', 114),\n ('lost', 113),\n ('scripture', 113),\n ('fear', 113),\n ('Col', 113),\n ('economic', 113),\n ('monastery', 112),\n ('presented', 112),\n ('struggle', 112),\n ('notes', 112),\n ('principle', 112),\n ('past', 112),\n ('felt', 112),\n ('Passover', 112),\n ('problems', 111),\n ('expressed', 111),\n ('learned', 111),\n ('single', 111),\n ('eternal', 111),\n ('concerning', 111),\n ('short', 111),\n ('apostles', 111),\n ('kings', 111),\n ('actually', 110),\n ('content', 110),\n ('significance', 110),\n ('enemies', 110),\n ('Charles', 110),\n ('leading', 110),\n ('involved', 110),\n ('etc', 110),\n ('re', 109),\n ('include', 109),\n ('State', 109),\n ('description', 109),\n ('shared', 109),\n ('Life', 108),\n ('heavenly', 108),\n ('liturgical', 108),\n ('European', 108),\n ('Mass', 108),\n ('seek', 108),\n ('voice', 108),\n ('Noah', 108),\n ('notion', 107),\n ('Gospels', 107),\n ('fully', 107),\n ('witness', 107),\n ('Paris', 107)]"
     },
     "execution_count": 110,
     "metadata": {},
     "output_type": "execute_result"
    }
   ],
   "source": [
    "data_unigrams_sorted[:1000]"
   ],
   "metadata": {
    "collapsed": false
   }
  },
  {
   "cell_type": "code",
   "execution_count": 111,
   "outputs": [],
   "source": [
    "# how many of the 100 most frequent unigrams are actually not stopwords?\n",
    "#len([el for el in data_unigrams_sorted[:100] if el[0].lower() not in stop_words])"
   ],
   "metadata": {
    "collapsed": false
   }
  },
  {
   "cell_type": "code",
   "execution_count": 113,
   "outputs": [
    {
     "data": {
      "text/plain": "7810"
     },
     "execution_count": 113,
     "metadata": {},
     "output_type": "execute_result"
    }
   ],
   "source": [
    "# what is the number of unigrams appearing more than 10 times?\n",
    "len([el for el in data_unigrams_sorted if el[1] > 10])"
   ],
   "metadata": {
    "collapsed": false
   }
  },
  {
   "cell_type": "code",
   "execution_count": 124,
   "outputs": [],
   "source": [
    "\n",
    "# use spacy to generate \"Doc\" object for ngram\n",
    "# (use carefully, takes some time)\n",
    "tags = [\"NOUN\", \"ADJ\", \"VERB\", \"PROPN\"]\n",
    "def get_lemma_filtered(string):\n",
    "    lemmata = \" \".join([t.lemma for t in nlp_stanza(string).sentences[0].words if t.pos in tags])\n",
    "    return lemmata"
   ],
   "metadata": {
    "collapsed": false
   }
  },
  {
   "cell_type": "code",
   "execution_count": 131,
   "outputs": [],
   "source": [
    "data_unigrams_lemmata = Counter()\n",
    "for el in data_unigrams_sorted:\n",
    "    if el[1] > 10:\n",
    "        lemmata_str = get_lemma_filtered(el[0])\n",
    "        if len(lemmata_str) > 1:\n",
    "            data_unigrams_lemmata.update({lemmata_str : el[1]})"
   ],
   "metadata": {
    "collapsed": false
   }
  },
  {
   "cell_type": "code",
   "execution_count": null,
   "outputs": [],
   "source": [],
   "metadata": {
    "collapsed": false
   }
  },
  {
   "cell_type": "code",
   "execution_count": null,
   "outputs": [],
   "source": [
    "data_unigrams = merge_data_from_ids(all, unigramCount_dict)\n",
    "len(data_unigrams)"
   ],
   "metadata": {
    "collapsed": false
   }
  },
  {
   "cell_type": "code",
   "execution_count": null,
   "outputs": [],
   "source": [
    "# check how raw unigrams look like\n",
    "data_unigrams_sorted = sorted(data_unigrams.items(), key=lambda kv: kv[1], reverse=True)\n",
    "data_unigrams_sorted[:1000]\n"
   ],
   "metadata": {
    "collapsed": false
   }
  },
  {
   "cell_type": "code",
   "execution_count": null,
   "outputs": [],
   "source": [],
   "metadata": {
    "collapsed": false
   }
  },
  {
   "cell_type": "code",
   "execution_count": null,
   "outputs": [],
   "source": [],
   "metadata": {
    "collapsed": false
   }
  },
  {
   "cell_type": "code",
   "execution_count": null,
   "outputs": [],
   "source": [],
   "metadata": {
    "collapsed": false
   }
  },
  {
   "cell_type": "code",
   "execution_count": null,
   "outputs": [],
   "source": [
    "[(el[0], {\"doc\" : get_lemma_filtered(el[0]), \"count\" : el[1]}) for el in data_unigrams_sorted if el[1] > 1000]"
   ],
   "metadata": {
    "collapsed": false
   }
  },
  {
   "cell_type": "code",
   "execution_count": 34,
   "outputs": [
    {
     "name": "stdout",
     "output_type": "stream",
     "text": [
      "CPU times: user 1min 12s, sys: 7.5 s, total: 1min 20s\n",
      "Wall time: 1min 21s\n"
     ]
    }
   ],
   "source": [
    "\n",
    "data_unigrams_sorted_nlp = [(el[0], {\"doc\" : get_lemma_filtered(el[0]), \"count\" : el[1]}) for el in data_unigrams_sorted if el[1] > 1000]\n",
    "\n",
    "#data_unigrams_sorted_nlp = [(el[0], {\"doc\" : nlp_stanza(el[0]), \"count\" : el[1]}) for el in data_unigrams_sorted if el[1] > 1000]"
   ],
   "metadata": {
    "collapsed": false
   }
  },
  {
   "cell_type": "code",
   "execution_count": 38,
   "outputs": [
    {
     "data": {
      "text/plain": "('G.',\n {'doc': [\n    [\n      {\n        \"id\": 1,\n        \"text\": \"G.\",\n        \"lemma\": \"G.\",\n        \"upos\": \"X\",\n        \"xpos\": \"ADD\",\n        \"head\": 0,\n        \"deprel\": \"root\",\n        \"start_char\": 0,\n        \"end_char\": 2,\n        \"ner\": \"O\",\n        \"multi_ner\": [\n          \"O\"\n        ]\n      }\n    ]\n  ],\n  'count': 1856})"
     },
     "execution_count": 38,
     "metadata": {},
     "output_type": "execute_result"
    }
   ],
   "source": [
    "data_unigrams_sorted_nlp[501]"
   ],
   "metadata": {
    "collapsed": false
   }
  },
  {
   "cell_type": "code",
   "execution_count": 15,
   "outputs": [
    {
     "data": {
      "text/plain": "[('the', {'doc': the, 'count': 3333595}),\n ('of', {'doc': of, 'count': 2261372}),\n ('and', {'doc': and, 'count': 1459413}),\n ('to', {'doc': to, 'count': 1228717}),\n ('in', {'doc': in, 'count': 1151878})]"
     },
     "execution_count": 15,
     "metadata": {},
     "output_type": "execute_result"
    }
   ],
   "source": [
    "data_unigrams_sorted_nlp[:5]"
   ],
   "metadata": {
    "collapsed": false
   }
  },
  {
   "cell_type": "code",
   "execution_count": 16,
   "outputs": [],
   "source": [
    "data_unigrams_nlp_dict = dict(data_unigrams_sorted_nlp)"
   ],
   "metadata": {
    "collapsed": false
   }
  },
  {
   "cell_type": "code",
   "execution_count": 17,
   "outputs": [],
   "source": [
    "# save for future usage\n",
    "with open(\"../data/large_files/data_unigrams_nlp_dict.pickle\", \"wb\") as f:\n",
    "    pickle.dump(data_unigrams_nlp_dict, f)"
   ],
   "metadata": {
    "collapsed": false
   }
  },
  {
   "cell_type": "code",
   "execution_count": 18,
   "outputs": [],
   "source": [
    "# remove middle-step data to save CPU...\n",
    "del data_unigrams\n",
    "del data_unigrams_sorted\n",
    "del data_unigrams_sorted_nlp"
   ],
   "metadata": {
    "collapsed": false
   }
  },
  {
   "cell_type": "markdown",
   "source": [
    "# Trigrams to nlp docs"
   ],
   "metadata": {
    "collapsed": false
   }
  },
  {
   "cell_type": "code",
   "execution_count": null,
   "outputs": [],
   "source": [
    "trigramCount_dict = pickle.load(open(\"../data/large_files/trigramCount_dict.pickle\", \"rb\"))"
   ],
   "metadata": {
    "collapsed": false
   }
  },
  {
   "cell_type": "code",
   "execution_count": null,
   "outputs": [],
   "source": [
    "#data_unigrams = merge_data_from_ids(ids, unigramCount_dict)\n",
    "#data_bigrams = merge_data_from_ids(ids, bigramCount_dict)\n",
    "data_trigrams = merge_data_from_ids(ids, trigramCount_dict)"
   ],
   "metadata": {
    "collapsed": false
   }
  },
  {
   "cell_type": "code",
   "execution_count": null,
   "outputs": [],
   "source": [
    "ids2 = [k for k in list(trigramCount_dict.keys()) if k not in ids]\n",
    "len(ids2)"
   ],
   "metadata": {
    "collapsed": false
   }
  },
  {
   "cell_type": "code",
   "execution_count": null,
   "outputs": [],
   "source": [
    "data_trigrams2 = merge_data_from_ids(ids2, trigramCount_dict)"
   ],
   "metadata": {
    "collapsed": false
   }
  },
  {
   "cell_type": "code",
   "execution_count": null,
   "outputs": [],
   "source": [
    "del trigramCount_dict"
   ],
   "metadata": {
    "collapsed": false
   }
  },
  {
   "cell_type": "code",
   "execution_count": null,
   "outputs": [],
   "source": [],
   "metadata": {
    "collapsed": false
   }
  },
  {
   "cell_type": "code",
   "execution_count": 11,
   "outputs": [
    {
     "data": {
      "text/plain": "458444"
     },
     "execution_count": 11,
     "metadata": {},
     "output_type": "execute_result"
    }
   ],
   "source": [
    "data_trigrams_sorted = sorted(data_trigrams.items(), key=lambda kv: kv[1], reverse=True)\n",
    "len([el for el in data_trigrams_sorted if el[1] > 10])"
   ],
   "metadata": {
    "collapsed": false
   }
  },
  {
   "cell_type": "code",
   "execution_count": 26,
   "outputs": [
    {
     "name": "stdout",
     "output_type": "stream",
     "text": [
      "CPU times: user 21min 37s, sys: 33.8 s, total: 22min 11s\n",
      "Wall time: 23min 14s\n"
     ]
    }
   ],
   "source": [
    "%%time\n",
    "data_trigrams_sorted_nlp = [(el[0], {\"doc\" : nlp(el[0]), \"count\" : el[1]}) for el in data_trigrams_sorted if el[1] > 10]"
   ],
   "metadata": {
    "collapsed": false
   }
  },
  {
   "cell_type": "code",
   "execution_count": 16,
   "outputs": [],
   "source": [
    "del data_trigrams_sorted"
   ],
   "metadata": {
    "collapsed": false
   }
  },
  {
   "cell_type": "code",
   "execution_count": 27,
   "outputs": [],
   "source": [
    "data_trigrams_nlp_dict = dict(data_trigrams_sorted_nlp)"
   ],
   "metadata": {
    "collapsed": false
   }
  },
  {
   "cell_type": "code",
   "execution_count": 28,
   "outputs": [],
   "source": [
    "with open(\"../data/large_files/data_trigrams_nlp_dict.pickle\", \"wb\") as f:\n",
    "    pickle.dump(data_trigrams_nlp_dict, f)"
   ],
   "metadata": {
    "collapsed": false
   }
  },
  {
   "cell_type": "markdown",
   "source": [
    "# Second round of merged trigrams nlp preprocessing"
   ],
   "metadata": {
    "collapsed": false
   }
  },
  {
   "cell_type": "code",
   "execution_count": 12,
   "outputs": [
    {
     "data": {
      "text/plain": "46627339"
     },
     "execution_count": 12,
     "metadata": {},
     "output_type": "execute_result"
    }
   ],
   "source": [
    "len(data_trigrams2)"
   ],
   "metadata": {
    "collapsed": false
   }
  },
  {
   "cell_type": "code",
   "execution_count": 42,
   "outputs": [],
   "source": [
    "data_trigrams2 = dict(data_trigrams2)"
   ],
   "metadata": {
    "collapsed": false
   }
  },
  {
   "cell_type": "code",
   "execution_count": 13,
   "outputs": [
    {
     "data": {
      "text/plain": "458444"
     },
     "execution_count": 13,
     "metadata": {},
     "output_type": "execute_result"
    }
   ],
   "source": [
    "keys1 = [el[0] for el in data_trigrams.items() if el[1] > 10]\n",
    "len(keys1)"
   ],
   "metadata": {
    "collapsed": false
   }
  },
  {
   "cell_type": "code",
   "execution_count": 22,
   "outputs": [],
   "source": [
    "del data_trigrams"
   ],
   "metadata": {
    "collapsed": false
   }
  },
  {
   "cell_type": "code",
   "execution_count": 14,
   "outputs": [
    {
     "data": {
      "text/plain": "774574"
     },
     "execution_count": 14,
     "metadata": {},
     "output_type": "execute_result"
    }
   ],
   "source": [
    "keys2 = [el[0] for el in data_trigrams2.items() if el[1] > 10]\n",
    "len(keys2) #  [el[0] for el in data_trigrams2_filtered]"
   ],
   "metadata": {
    "collapsed": false
   }
  },
  {
   "cell_type": "code",
   "execution_count": 15,
   "outputs": [
    {
     "data": {
      "text/plain": "342693"
     },
     "execution_count": 15,
     "metadata": {},
     "output_type": "execute_result"
    }
   ],
   "source": [
    "keys2_filtered = list((set(keys2) ^ set(keys1)) & set(keys2))\n",
    "len(keys2_filtered)"
   ],
   "metadata": {
    "collapsed": false
   }
  },
  {
   "cell_type": "code",
   "execution_count": 31,
   "outputs": [],
   "source": [
    "del nlp"
   ],
   "metadata": {
    "collapsed": false
   }
  },
  {
   "cell_type": "code",
   "execution_count": 32,
   "outputs": [
    {
     "name": "stdout",
     "output_type": "stream",
     "text": [
      "hello\n"
     ]
    }
   ],
   "source": [
    "print(\"hello\")"
   ],
   "metadata": {
    "collapsed": false
   }
  },
  {
   "cell_type": "code",
   "execution_count": 39,
   "outputs": [],
   "source": [
    "pickle.dump(keys2_filtered, open(\"../data/large_files/keys2_filtered.pickle\", \"wb\"))\n",
    "pickle.dump(data_trigrams2, open(\"../data/large_files/data_trigrams2.pickle\", \"wb\"))"
   ],
   "metadata": {
    "collapsed": false
   }
  },
  {
   "cell_type": "code",
   "execution_count": 40,
   "outputs": [
    {
     "data": {
      "text/plain": "46627339"
     },
     "execution_count": 40,
     "metadata": {},
     "output_type": "execute_result"
    }
   ],
   "source": [
    "len(data_trigrams2)"
   ],
   "metadata": {
    "collapsed": false
   }
  },
  {
   "cell_type": "code",
   "execution_count": 43,
   "outputs": [
    {
     "name": "stdout",
     "output_type": "stream",
     "text": [
      "0\n",
      "5000\n",
      "10000\n",
      "15000\n",
      "20000\n",
      "25000\n",
      "30000\n",
      "35000\n",
      "40000\n",
      "45000\n",
      "50000\n",
      "55000\n",
      "60000\n",
      "65000\n",
      "70000\n",
      "75000\n",
      "80000\n",
      "85000\n",
      "90000\n",
      "95000\n",
      "100000\n",
      "105000\n",
      "110000\n",
      "115000\n",
      "120000\n",
      "125000\n",
      "130000\n",
      "135000\n",
      "140000\n",
      "145000\n",
      "150000\n",
      "155000\n",
      "160000\n",
      "165000\n",
      "170000\n",
      "175000\n",
      "180000\n",
      "185000\n",
      "190000\n",
      "195000\n",
      "200000\n",
      "205000\n",
      "210000\n",
      "215000\n",
      "220000\n",
      "225000\n",
      "230000\n",
      "235000\n",
      "240000\n",
      "245000\n",
      "250000\n",
      "255000\n",
      "260000\n",
      "265000\n",
      "270000\n",
      "275000\n",
      "280000\n",
      "285000\n",
      "290000\n",
      "295000\n",
      "300000\n",
      "305000\n",
      "310000\n",
      "315000\n",
      "320000\n",
      "325000\n",
      "330000\n",
      "335000\n",
      "340000\n",
      "CPU times: user 285 ms, sys: 286 ms, total: 572 ms\n",
      "Wall time: 839 ms\n"
     ]
    }
   ],
   "source": [
    "%%time\n",
    "data_trigrams2_filtered = []\n",
    "n = 0\n",
    "for el in keys2_filtered:\n",
    "    if n in range(0, len(keys2_filtered), 5000):\n",
    "        print(n)\n",
    "    n += 1\n",
    "    data_trigrams2_filtered.append((el, data_trigrams2[el]))"
   ],
   "metadata": {
    "collapsed": false
   }
  },
  {
   "cell_type": "code",
   "execution_count": 44,
   "outputs": [
    {
     "data": {
      "text/plain": "342693"
     },
     "execution_count": 44,
     "metadata": {},
     "output_type": "execute_result"
    }
   ],
   "source": [
    "len(data_trigrams2_filtered)"
   ],
   "metadata": {
    "collapsed": false
   }
  },
  {
   "cell_type": "code",
   "execution_count": 46,
   "outputs": [],
   "source": [
    "pickle.dump(data_trigrams2_filtered, open(\"../data/large_files/data_trigrams2_filtered.pickle\", \"wb\"))"
   ],
   "metadata": {
    "collapsed": false
   }
  },
  {
   "cell_type": "code",
   "execution_count": 47,
   "outputs": [],
   "source": [
    "nlp = spacy.load('en_core_web_lg')"
   ],
   "metadata": {
    "collapsed": false
   }
  },
  {
   "cell_type": "code",
   "execution_count": 48,
   "outputs": [
    {
     "name": "stdout",
     "output_type": "stream",
     "text": [
      "0\n",
      "5000\n",
      "10000\n",
      "15000\n",
      "20000\n",
      "25000\n",
      "30000\n",
      "35000\n",
      "40000\n",
      "45000\n",
      "50000\n",
      "55000\n",
      "60000\n",
      "65000\n",
      "70000\n",
      "75000\n",
      "80000\n",
      "85000\n",
      "90000\n",
      "95000\n",
      "100000\n",
      "105000\n",
      "110000\n",
      "115000\n",
      "120000\n",
      "125000\n",
      "130000\n",
      "135000\n",
      "140000\n",
      "145000\n",
      "150000\n",
      "155000\n",
      "160000\n",
      "165000\n",
      "170000\n",
      "175000\n",
      "180000\n",
      "185000\n",
      "190000\n",
      "195000\n",
      "200000\n",
      "205000\n",
      "210000\n",
      "215000\n",
      "220000\n",
      "225000\n",
      "230000\n",
      "235000\n",
      "240000\n",
      "245000\n",
      "250000\n",
      "255000\n",
      "260000\n",
      "265000\n",
      "270000\n",
      "275000\n",
      "280000\n",
      "285000\n",
      "290000\n",
      "295000\n",
      "300000\n",
      "305000\n",
      "310000\n",
      "315000\n",
      "320000\n",
      "325000\n",
      "330000\n",
      "335000\n",
      "340000\n",
      "CPU times: user 14min 25s, sys: 14.3 s, total: 14min 39s\n",
      "Wall time: 14min 44s\n"
     ]
    }
   ],
   "source": [
    "%%time\n",
    "data_trigrams2_nlp_tups = []\n",
    "n = 0\n",
    "for el in data_trigrams2_filtered:\n",
    "    if n in range(0, len(data_trigrams2_filtered), 5000):\n",
    "        print(n)\n",
    "    n += 1\n",
    "    data_trigrams2_nlp_tups.append((el[0], {\"doc\" : nlp(el[0]), \"count\" : el[1]}))"
   ],
   "metadata": {
    "collapsed": false
   }
  },
  {
   "cell_type": "code",
   "execution_count": 49,
   "outputs": [],
   "source": [
    "pickle.dump(dict(data_trigrams2_nlp_tups), open(\"../data/large_files/data_trigrams2_nlp_dict.pickle\", \"wb\"))"
   ],
   "metadata": {
    "collapsed": false
   }
  },
  {
   "cell_type": "code",
   "execution_count": null,
   "outputs": [],
   "source": [],
   "metadata": {
    "collapsed": false
   }
  },
  {
   "cell_type": "code",
   "execution_count": null,
   "outputs": [],
   "source": [],
   "metadata": {
    "collapsed": false
   }
  },
  {
   "cell_type": "code",
   "execution_count": null,
   "outputs": [],
   "source": [],
   "metadata": {
    "collapsed": false
   }
  }
 ],
 "metadata": {
  "kernelspec": {
   "name": "python3",
   "language": "python",
   "display_name": "Python 3 (ipykernel)"
  },
  "language_info": {
   "codemirror_mode": {
    "name": "ipython",
    "version": 2
   },
   "file_extension": ".py",
   "mimetype": "text/x-python",
   "name": "python",
   "nbconvert_exporter": "python",
   "pygments_lexer": "ipython2",
   "version": "2.7.6"
  }
 },
 "nbformat": 4,
 "nbformat_minor": 0
}
