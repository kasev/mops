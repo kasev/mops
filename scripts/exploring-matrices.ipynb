{
 "cells": [
  {
   "cell_type": "markdown",
   "metadata": {
    "id": "view-in-github",
    "colab_type": "text"
   },
   "source": [
    "<a href=\"https://colab.research.google.com/github/kasev/mops/blob/master/scripts/exploring-matrices.ipynb\" target=\"_parent\"><img src=\"https://colab.research.google.com/assets/colab-badge.svg\" alt=\"Open In Colab\"/></a>"
   ]
  },
  {
   "cell_type": "code",
   "source": [
    "import pandas as pd\n",
    "import pickle\n",
    "import urllib\n",
    "import numpy as np\n",
    "import seaborn as sns\n",
    "\n",
    "import matplotlib.pyplot as plt"
   ],
   "metadata": {
    "id": "2yzMx-MRLrSa",
    "ExecuteTime": {
     "end_time": "2024-02-29T22:16:36.426659Z",
     "start_time": "2024-02-29T22:16:36.421718Z"
    }
   },
   "outputs": [],
   "execution_count": 1
  },
  {
   "cell_type": "code",
   "source": [
    "\n",
    "from google.colab import files\n",
    "# defining function for saving+downloading the latest figure\n",
    "\n",
    "def download_figure(fig=None, filename=None):\n",
    "  if (filename==None) | (\".png\" not in str(filename)):\n",
    "    filename = \"figure.png\"\n",
    "  if fig==None:\n",
    "    plt.savefig(filename)\n",
    "  else:\n",
    "    fig.savefig(filename)\n",
    "  files.download(filename)"
   ],
   "metadata": {
    "id": "9BJN0ah0vrC4",
    "ExecuteTime": {
     "end_time": "2023-05-09T14:37:56.246323Z",
     "start_time": "2023-05-09T14:37:56.235948Z"
    }
   },
   "execution_count": 6,
   "outputs": []
  },
  {
   "cell_type": "code",
   "source": [
    "# load vocabularies\n",
    "try:\n",
    "    bidecades_vocabs_counts_df = pickle.load(open(\"../data/bidecades_vocabs_counts_df.pickle\", \"rb\"))\n",
    "except:\n",
    "    bidecades_vocabs_counts_df = pickle.load(urllib.request.urlopen(\"https://github.com/kasev/mops/raw/master/data/bidecades_vocabs_counts_df.pickle\"))"
   ],
   "metadata": {
    "id": "fEFMIqbKLrSc",
    "ExecuteTime": {
     "end_time": "2024-02-29T22:16:46.102039Z",
     "start_time": "2024-02-29T22:16:46.096104Z"
    }
   },
   "outputs": [],
   "execution_count": 2
  },
  {
   "cell_type": "code",
   "source": [
    "# locally\n",
    "try:\n",
    "    cooc_dict = pickle.load(open(\"../data/cooc_dict.pickle\", \"rb\"))\n",
    "except:\n",
    "    urllib.request.urlretrieve(\"https://github.com/kasev/mops/raw/master/data/cooc_dict.pickle\", \"temp.pickle\")\n",
    "    with open(\"temp.pickle\", \"rb\") as f:\n",
    "        cooc_dict = pickle.load(f)"
   ],
   "metadata": {
    "id": "7mRTR-iXLrSf",
    "ExecuteTime": {
     "end_time": "2024-02-29T22:16:57.676135Z",
     "start_time": "2024-02-29T22:16:57.658701Z"
    }
   },
   "outputs": [],
   "execution_count": 4
  },
  {
   "cell_type": "code",
   "source": [
    "# transform the matrcices into dataframes (much more memory consuming...)\n",
    "for bidecade, cooc in cooc_dict.items():\n",
    "    try:\n",
    "        cooc_df = pd.DataFrame(cooc.todense())\n",
    "        cooc_norm_df = cooc_df / cooc_df.max()\n",
    "        cooc_norm_df.columns = bidecades_vocabs_counts_df.index\n",
    "        cooc_norm_df.index = bidecades_vocabs_counts_df.index\n",
    "        cooc_dict[bidecade] = cooc_norm_df\n",
    "    except:\n",
    "        pass"
   ],
   "metadata": {
    "id": "zw4QX383LrSg",
    "ExecuteTime": {
     "end_time": "2024-02-29T22:17:00.294779Z",
     "start_time": "2024-02-29T22:16:59.662259Z"
    }
   },
   "outputs": [],
   "execution_count": 5
  },
  {
   "cell_type": "code",
   "source": [
    "cooc_dict[\"1900-1919\"][\"Paul\"].sort_values(ascending=False).head(20)"
   ],
   "metadata": {
    "id": "pyhS-Q65LrSh",
    "outputId": "b7a05b1a-929c-401d-8c34-1e5e04d754c2",
    "colab": {
     "base_uri": "https://localhost:8080/"
    },
    "ExecuteTime": {
     "end_time": "2024-02-29T22:17:01.228973Z",
     "start_time": "2024-02-29T22:17:01.219081Z"
    }
   },
   "outputs": [
    {
     "data": {
      "text/plain": [
       "Paul          1.000000\n",
       "epistle       0.055488\n",
       "Apostle       0.035643\n",
       "letter        0.028799\n",
       "apostle       0.028537\n",
       "Jesus         0.012408\n",
       "saint         0.011310\n",
       "write         0.010595\n",
       "use           0.009164\n",
       "say           0.008548\n",
       "life          0.008089\n",
       "Peter         0.008084\n",
       "doctrine      0.007852\n",
       "conception    0.007025\n",
       "view          0.006483\n",
       "act           0.006210\n",
       "thought       0.006088\n",
       "make          0.005838\n",
       "speak         0.005711\n",
       "preach        0.005615\n",
       "Name: Paul, dtype: float64"
      ]
     },
     "execution_count": 6,
     "metadata": {},
     "output_type": "execute_result"
    }
   ],
   "execution_count": 6
  },
  {
   "cell_type": "code",
   "source": [
    "cooc_dict[\"1980-1999\"][\"Paul\"].sort_values(ascending=False).head(20)"
   ],
   "metadata": {
    "id": "yFA6JRL9LrSi",
    "outputId": "01dad068-6fd4-4969-8239-22fc20956f84",
    "colab": {
     "base_uri": "https://localhost:8080/"
    },
    "ExecuteTime": {
     "end_time": "2024-02-29T22:17:05.002143Z",
     "start_time": "2024-02-29T22:17:04.995630Z"
    }
   },
   "outputs": [
    {
     "data": {
      "text/plain": [
       "Paul          1.000000\n",
       "letter        0.052684\n",
       "Apostle       0.025385\n",
       "use           0.021093\n",
       "epistle       0.016693\n",
       "apostle       0.014810\n",
       "say           0.012032\n",
       "write         0.010240\n",
       "theology      0.009905\n",
       "John          0.009842\n",
       "see           0.008296\n",
       "view          0.007742\n",
       "argument      0.007689\n",
       "thought       0.007393\n",
       "speak         0.007334\n",
       "understand    0.006118\n",
       "make          0.006090\n",
       "Siebeck       0.005324\n",
       "Jesus         0.005295\n",
       "argue         0.004876\n",
       "Name: Paul, dtype: float64"
      ]
     },
     "execution_count": 7,
     "metadata": {},
     "output_type": "execute_result"
    }
   ],
   "execution_count": 7
  },
  {
   "cell_type": "code",
   "source": [
    "def return_tfidf_position(key1, key2, bidecade):\n",
    "    position = cooc_dict[bidecade][key1].sort_values(ascending=False).index.get_loc(key2)\n",
    "    return position"
   ],
   "metadata": {
    "id": "8NNTMWYRLrSj",
    "ExecuteTime": {
     "end_time": "2024-02-29T22:17:07.366657Z",
     "start_time": "2024-02-29T22:17:07.363400Z"
    }
   },
   "outputs": [],
   "execution_count": 8
  },
  {
   "cell_type": "code",
   "source": [
    "# define bidecades:\n",
    "bidecades_list = ['1900-1919', '1920-1939', '1940-1959', '1960-1979', '1980-1999',\n",
    " '2000-2019']"
   ],
   "metadata": {
    "id": "wWNSXg_a1FIm",
    "ExecuteTime": {
     "end_time": "2024-02-29T22:17:07.700178Z",
     "start_time": "2024-02-29T22:17:07.692947Z"
    }
   },
   "outputs": [],
   "execution_count": 9
  },
  {
   "cell_type": "code",
   "source": [
    "return_tfidf_position(\"Paul\", \"apostle\", \"1940-1959\")"
   ],
   "metadata": {
    "id": "Du7e79rULrSk",
    "outputId": "4921c128-991a-4be1-a2ef-6e2243fdad5b",
    "colab": {
     "base_uri": "https://localhost:8080/"
    },
    "ExecuteTime": {
     "end_time": "2024-02-29T22:17:08.468142Z",
     "start_time": "2024-02-29T22:17:08.461418Z"
    }
   },
   "outputs": [
    {
     "data": {
      "text/plain": [
       "7"
      ]
     },
     "execution_count": 10,
     "metadata": {},
     "output_type": "execute_result"
    }
   ],
   "execution_count": 10
  },
  {
   "cell_type": "code",
   "source": [
    "# development...\n",
    "key1 = \"Paul\"\n",
    "key2 = \"apostle\"\n",
    "positions = []\n",
    "for bidecade in bidecades_list:\n",
    "    positions.append(return_tfidf_position(key1, key2, bidecade))"
   ],
   "metadata": {
    "id": "2pZEQlTRLrSl",
    "ExecuteTime": {
     "end_time": "2024-02-29T22:17:09.084923Z",
     "start_time": "2024-02-29T22:17:09.075184Z"
    }
   },
   "outputs": [],
   "execution_count": 11
  },
  {
   "cell_type": "code",
   "source": [
    "def position_by_bidecade(key1, key2):\n",
    "    positions = []\n",
    "    for bidecade in bidecades_list:\n",
    "        positions.append(return_tfidf_position(key1, key2, bidecade))\n",
    "    return positions"
   ],
   "metadata": {
    "id": "GMWszPWSLrSm",
    "ExecuteTime": {
     "end_time": "2024-02-29T22:17:10.019149Z",
     "start_time": "2024-02-29T22:17:10.013815Z"
    }
   },
   "outputs": [],
   "execution_count": 12
  },
  {
   "cell_type": "markdown",
   "source": [
    "# Explorations..."
   ],
   "metadata": {
    "id": "erroHPBBMuDt"
   }
  },
  {
   "cell_type": "code",
   "source": [
    "position_by_bidecade(\"Paul\", \"judaism\")"
   ],
   "metadata": {
    "id": "d9Z7G4MMLrSm",
    "outputId": "38342000-bfb8-46e4-cbe7-fc1591d0e6ad",
    "colab": {
     "base_uri": "https://localhost:8080/"
    },
    "ExecuteTime": {
     "end_time": "2024-02-29T22:17:11.203588Z",
     "start_time": "2024-02-29T22:17:11.173613Z"
    }
   },
   "outputs": [
    {
     "data": {
      "text/plain": [
       "[843, 3399, 561, 1353, 1925, 698]"
      ]
     },
     "execution_count": 13,
     "metadata": {},
     "output_type": "execute_result"
    }
   ],
   "execution_count": 13
  },
  {
   "cell_type": "code",
   "source": [
    "position_by_bidecade(\"Paul\", \"apostle\")\n"
   ],
   "metadata": {
    "id": "JaZi8gwWLrSn",
    "outputId": "b2c13d60-6308-4af7-a407-a6de32d43956",
    "colab": {
     "base_uri": "https://localhost:8080/"
    },
    "ExecuteTime": {
     "end_time": "2024-02-29T22:17:11.628477Z",
     "start_time": "2024-02-29T22:17:11.613460Z"
    }
   },
   "outputs": [
    {
     "data": {
      "text/plain": [
       "[4, 5, 7, 5, 5, 5]"
      ]
     },
     "execution_count": 14,
     "metadata": {},
     "output_type": "execute_result"
    }
   ],
   "execution_count": 14
  },
  {
   "cell_type": "code",
   "source": [
    "position_by_bidecade(\"Paul\", \"Apostle\")"
   ],
   "metadata": {
    "id": "cUULaVa4LrSo",
    "outputId": "4cd0ea7e-c5df-4975-d1f7-1937711e4a1c",
    "colab": {
     "base_uri": "https://localhost:8080/"
    },
    "ExecuteTime": {
     "end_time": "2024-02-29T22:17:12.231709Z",
     "start_time": "2024-02-29T22:17:12.214750Z"
    }
   },
   "outputs": [
    {
     "data": {
      "text/plain": [
       "[2, 1, 1, 2, 2, 1]"
      ]
     },
     "execution_count": 15,
     "metadata": {},
     "output_type": "execute_result"
    }
   ],
   "execution_count": 15
  },
  {
   "cell_type": "code",
   "source": [
    "\n",
    "def plot_postion_by_bidecade(tuples, figsize=(6,4)):\n",
    "  fig, ax = plt.subplots(tight_layout=True, figsize=figsize, dpi=150)\n",
    "  #fig.patch.set_facecolor(\"black\")\n",
    "  #ax.set_facecolor(\"black\")\n",
    "  colors = sns.color_palette(None, len(tuples))\n",
    "  for terms, color in zip(tuples, colors):\n",
    "    positions = position_by_bidecade(terms[0], terms[1])\n",
    "    ax.plot(positions, linewidth=2, color=color, label=terms[0]+\"~\"+terms[1])\n",
    "  ax.set_title(\", \".join([terms[0]+\"~\"+terms[1] for terms in tuples]), color=\"white\")\n",
    "  ax.set_xticks(range(6))\n",
    "  #ax.set_xticklabels(bidecades_list, color=\"black\", rotation=90)\n",
    "  ax.set_xticklabels(bidecades_list, rotation=90)\n",
    "  if np.max(positions) < 5:\n",
    "    ax.set_yticklabels([str(np.round(el, 1)) for el in ax.get_yticks()], color=\"black\")\n",
    "  else:\n",
    "    ax.set_yticklabels([str(int(el)) for el in ax.get_yticks()], color=\"black\")\n",
    "  ax.invert_yaxis()\n",
    "  ax.set_xlabel(\"bidecade\", color=\"black\")\n",
    "  ax.set_ylabel(\"rank\", color=\"black\")\n",
    "  # ax.spines['bottom'].set_color('white')\n",
    "  #ax.spines['top'].set_color('white') \n",
    "  #ax.spines['right'].set_color('white')\n",
    "  #ax.spines['left'].set_color('white')\n",
    "  ax.legend() # facecolor=\"black\", labelcolor=\"white\")\n",
    "  return fig"
   ],
   "metadata": {
    "id": "fTr-WMoLLrSp",
    "ExecuteTime": {
     "end_time": "2024-02-29T22:21:04.225683Z",
     "start_time": "2024-02-29T22:21:04.216432Z"
    }
   },
   "outputs": [],
   "execution_count": 22
  },
  {
   "cell_type": "code",
   "source": "fig = plot_postion_by_bidecade([(\"Paul\", \"saint\"), (\"Paul\", \"historical\")], figsize=(6,4))",
   "metadata": {
    "colab": {
     "base_uri": "https://localhost:8080/",
     "height": 636
    },
    "id": "Tzk5ugDylqXG",
    "outputId": "933ec161-f3ab-48af-bf0d-65bca2098949",
    "ExecuteTime": {
     "end_time": "2024-02-29T22:21:04.874293Z",
     "start_time": "2024-02-29T22:21:04.710038Z"
    }
   },
   "outputs": [
    {
     "name": "stderr",
     "output_type": "stream",
     "text": [
      "/var/folders/57/tg7c_g894t5c2z3swkqzds5h0000gn/T/ipykernel_7607/223742153.py:16: UserWarning: set_ticklabels() should only be used with a fixed number of ticks, i.e. after set_ticks() or using a FixedLocator.\n",
      "  ax.set_yticklabels([str(int(el)) for el in ax.get_yticks()], color=\"black\")\n"
     ]
    },
    {
     "data": {
      "text/plain": [
       "<Figure size 900x600 with 1 Axes>"
      ],
      "image/png": "[encoded data removed]"
     },
     "metadata": {},
     "output_type": "display_data"
    }
   ],
   "execution_count": 23
  },
  {
   "metadata": {
    "ExecuteTime": {
     "end_time": "2024-02-29T22:22:44.782894Z",
     "start_time": "2024-02-29T22:22:44.682990Z"
    }
   },
   "cell_type": "code",
   "source": "fig.savefig(\"../figures/paul-saint_vs_historical.png\")",
   "outputs": [],
   "execution_count": 24
  },
  {
   "cell_type": "code",
   "source": [
    "\n",
    "# download_figure(fig)"
   ],
   "metadata": {
    "id": "UF2oue-95Q2g",
    "colab": {
     "base_uri": "https://localhost:8080/",
     "height": 17
    },
    "outputId": "62692049-0fee-447f-8fb1-948f153486f0"
   },
   "execution_count": 25,
   "outputs": [
    {
     "output_type": "display_data",
     "data": {
      "text/plain": [
       "<IPython.core.display.Javascript object>"
      ],
      "application/javascript": [
       "\n",
       "    async function download(id, filename, size) {\n",
       "      if (!google.colab.kernel.accessAllowed) {\n",
       "        return;\n",
       "      }\n",
       "      const div = document.createElement('div');\n",
       "      const label = document.createElement('label');\n",
       "      label.textContent = `Downloading \"${filename}\": `;\n",
       "      div.appendChild(label);\n",
       "      const progress = document.createElement('progress');\n",
       "      progress.max = size;\n",
       "      div.appendChild(progress);\n",
       "      document.body.appendChild(div);\n",
       "\n",
       "      const buffers = [];\n",
       "      let downloaded = 0;\n",
       "\n",
       "      const channel = await google.colab.kernel.comms.open(id);\n",
       "      // Send a message to notify the kernel that we're ready.\n",
       "      channel.send({})\n",
       "\n",
       "      for await (const message of channel.messages) {\n",
       "        // Send a message to notify the kernel that we're ready.\n",
       "        channel.send({})\n",
       "        if (message.buffers) {\n",
       "          for (const buffer of message.buffers) {\n",
       "            buffers.push(buffer);\n",
       "            downloaded += buffer.byteLength;\n",
       "            progress.value = downloaded;\n",
       "          }\n",
       "        }\n",
       "      }\n",
       "      const blob = new Blob(buffers, {type: 'application/binary'});\n",
       "      const a = document.createElement('a');\n",
       "      a.href = window.URL.createObjectURL(blob);\n",
       "      a.download = filename;\n",
       "      div.appendChild(a);\n",
       "      a.click();\n",
       "      div.remove();\n",
       "    }\n",
       "  "
      ]
     },
     "metadata": {}
    },
    {
     "output_type": "display_data",
     "data": {
      "text/plain": [
       "<IPython.core.display.Javascript object>"
      ],
      "application/javascript": [
       "download(\"download_e4a1a0c2-1f93-4cc7-8a1f-331f8cf95d3a\", \"figure.png\", 28192)"
      ]
     },
     "metadata": {}
    }
   ]
  },
  {
   "cell_type": "markdown",
   "source": [
    "# Explorations of half-decades from the last 30 years..."
   ],
   "metadata": {
    "collapsed": false
   }
  },
  {
   "cell_type": "markdown",
   "source": [
    "I divided the last 30 years into these six halfdecades:\n",
    "halfdecades_strs = ['1990-1994', '1995-1999', '2000-2004', '2005-2009', '2010-2014', '2015-2019']\n",
    "These\n",
    "\n"
   ],
   "metadata": {
    "collapsed": false
   }
  },
  {
   "cell_type": "code",
   "execution_count": 34,
   "outputs": [],
   "source": [
    "# locally\n",
    "try:\n",
    "    cooc_dict_2000 = pickle.load(open(\"../data/cooc_dict_2000.pickle\", \"rb\"))\n",
    "except:\n",
    "    urllib.request.urlretrieve(\"https://github.com/kasev/mops/raw/master/data/cooc_dict_2000.pickle\", \"temp.pickle\")\n",
    "    with open(\"temp.pickle\", \"rb\") as f:\n",
    "        cooc_dict_2000 = pickle.load(f)"
   ],
   "metadata": {
    "collapsed": false,
    "ExecuteTime": {
     "end_time": "2023-05-09T16:00:07.936866Z",
     "start_time": "2023-05-09T16:00:07.897261Z"
    }
   }
  },
  {
   "cell_type": "code",
   "execution_count": 35,
   "outputs": [
    {
     "data": {
      "text/plain": "dict_keys(['1990-1994', '1995-1999', '2000-2004', '2005-2009', '2010-2014', '2015-2019'])"
     },
     "execution_count": 35,
     "metadata": {},
     "output_type": "execute_result"
    }
   ],
   "source": [
    "cooc_dict_2000.keys()"
   ],
   "metadata": {
    "collapsed": false,
    "ExecuteTime": {
     "end_time": "2023-05-09T16:00:08.626382Z",
     "start_time": "2023-05-09T16:00:08.610613Z"
    }
   }
  },
  {
   "cell_type": "code",
   "execution_count": 44,
   "outputs": [],
   "source": [
    "halfdecades_strs = ['1990-1994', '1995-1999', '2000-2004', '2005-2009', '2010-2014', '2015-2019']"
   ],
   "metadata": {
    "collapsed": false,
    "ExecuteTime": {
     "end_time": "2023-05-09T16:04:51.407136Z",
     "start_time": "2023-05-09T16:04:51.392251Z"
    }
   }
  },
  {
   "cell_type": "code",
   "execution_count": 36,
   "outputs": [],
   "source": [
    "# transform the matrcices into dataframes (much more memory consuming...)\n",
    "for halfdecade, cooc in cooc_dict_2000.items():\n",
    "    try:\n",
    "        cooc_df = pd.DataFrame(cooc.todense())\n",
    "        cooc_norm_df = cooc_df / cooc_df.max()\n",
    "        cooc_norm_df.columns = bidecades_vocabs_counts_df.index\n",
    "        cooc_norm_df.index = bidecades_vocabs_counts_df.index\n",
    "        cooc_dict_2000[halfdecade] = cooc_norm_df\n",
    "    except:\n",
    "        pass"
   ],
   "metadata": {
    "collapsed": false,
    "ExecuteTime": {
     "end_time": "2023-05-09T16:00:38.408095Z",
     "start_time": "2023-05-09T16:00:37.661674Z"
    }
   }
  },
  {
   "cell_type": "code",
   "execution_count": 37,
   "outputs": [
    {
     "data": {
      "text/plain": "                   man       new     Jesus        et       God      Paul  \\\nman           1.000000  0.004537  0.002785  0.000000  0.005426  0.000781   \nnew           0.005763  1.000000  0.000630  0.000000  0.001933  0.000395   \nJesus         0.004639  0.000826  1.000000  0.000318  0.006830  0.006371   \net            0.000000  0.000000  0.000140  1.000000  0.000000  0.001512   \nGod           0.016099  0.004516  0.012164  0.000000  1.000000  0.003436   \n...                ...       ...       ...       ...       ...       ...   \nIan           0.000000  0.000000  0.000000  0.000000  0.000000  0.000000   \ngesture       0.000000  0.000000  0.000000  0.000000  0.000000  0.000000   \nmetaphorical  0.000000  0.000104  0.000000  0.000000  0.000000  0.000020   \nlayer         0.000000  0.000050  0.000000  0.000000  0.000000  0.000000   \nless          0.000282  0.000000  0.000000  0.000000  0.000215  0.000043   \n\n                  make    church      life       see  ...     angle  \\\nman           0.010146  0.000551  0.002848  0.002834  ...  0.000000   \nnew           0.003201  0.006738  0.019811  0.001480  ...  0.063196   \nJesus         0.004361  0.001530  0.014420  0.005011  ...  0.000000   \net            0.000000  0.000000  0.000000  0.000141  ...  0.000000   \nGod           0.024296  0.005424  0.011544  0.013914  ...  0.000000   \n...                ...       ...       ...       ...  ...       ...   \nIan           0.000000  0.000000  0.000000  0.000123  ...  0.000000   \ngesture       0.000267  0.000000  0.000000  0.000000  ...  0.000000   \nmetaphorical  0.000000  0.000000  0.000000  0.000000  ...  0.000000   \nlayer         0.000000  0.000000  0.000000  0.000000  ...  0.000000   \nless          0.001395  0.000000  0.000153  0.000166  ...  0.000000   \n\n              substantive  noteworthy  Kevin     locus  Ian  gesture  \\\nman                   0.0         0.0    0.0  0.000000  0.0      0.0   \nnew                   0.0         0.0    0.0  0.007328  0.0      0.0   \nJesus                 0.0         0.0    0.0  0.000000  0.0      0.0   \net                    0.0         0.0    0.0  0.000000  0.0      0.0   \nGod                   0.0         0.0    0.0  0.009951  0.0      0.0   \n...                   ...         ...    ...       ...  ...      ...   \nIan                   0.0         0.0    0.0  0.000000  1.0      0.0   \ngesture               0.0         0.0    0.0  0.000000  0.0      1.0   \nmetaphorical          0.0         0.0    0.0  0.000000  0.0      0.0   \nlayer                 0.0         0.0    0.0  0.000000  0.0      0.0   \nless                  0.0         0.0    0.0  0.000000  0.0      0.0   \n\n              metaphorical     layer      less  \nman               0.000000  0.000000  0.003748  \nnew               0.004082  0.003428  0.000000  \nJesus             0.000000  0.000000  0.000000  \net                0.000000  0.000000  0.000000  \nGod               0.000000  0.000000  0.008474  \n...                    ...       ...       ...  \nIan               0.000000  0.000000  0.000000  \ngesture           0.000000  0.000000  0.000000  \nmetaphorical      1.000000  0.000000  0.000000  \nlayer             0.000000  1.000000  0.000000  \nless              0.000000  0.000000  1.000000  \n\n[4804 rows x 4804 columns]",
      "text/html": "<div>\n<style scoped>\n    .dataframe tbody tr th:only-of-type {\n        vertical-align: middle;\n    }\n\n    .dataframe tbody tr th {\n        vertical-align: top;\n    }\n\n    .dataframe thead th {\n        text-align: right;\n    }\n</style>\n<table border=\"1\" class=\"dataframe\">\n  <thead>\n    <tr style=\"text-align: right;\">\n      <th></th>\n      <th>man</th>\n      <th>new</th>\n      <th>Jesus</th>\n      <th>et</th>\n      <th>God</th>\n      <th>Paul</th>\n      <th>make</th>\n      <th>church</th>\n      <th>life</th>\n      <th>see</th>\n      <th>...</th>\n      <th>angle</th>\n      <th>substantive</th>\n      <th>noteworthy</th>\n      <th>Kevin</th>\n      <th>locus</th>\n      <th>Ian</th>\n      <th>gesture</th>\n      <th>metaphorical</th>\n      <th>layer</th>\n      <th>less</th>\n    </tr>\n  </thead>\n  <tbody>\n    <tr>\n      <th>man</th>\n      <td>1.000000</td>\n      <td>0.004537</td>\n      <td>0.002785</td>\n      <td>0.000000</td>\n      <td>0.005426</td>\n      <td>0.000781</td>\n      <td>0.010146</td>\n      <td>0.000551</td>\n      <td>0.002848</td>\n      <td>0.002834</td>\n      <td>...</td>\n      <td>0.000000</td>\n      <td>0.0</td>\n      <td>0.0</td>\n      <td>0.0</td>\n      <td>0.000000</td>\n      <td>0.0</td>\n      <td>0.0</td>\n      <td>0.000000</td>\n      <td>0.000000</td>\n      <td>0.003748</td>\n    </tr>\n    <tr>\n      <th>new</th>\n      <td>0.005763</td>\n      <td>1.000000</td>\n      <td>0.000630</td>\n      <td>0.000000</td>\n      <td>0.001933</td>\n      <td>0.000395</td>\n      <td>0.003201</td>\n      <td>0.006738</td>\n      <td>0.019811</td>\n      <td>0.001480</td>\n      <td>...</td>\n      <td>0.063196</td>\n      <td>0.0</td>\n      <td>0.0</td>\n      <td>0.0</td>\n      <td>0.007328</td>\n      <td>0.0</td>\n      <td>0.0</td>\n      <td>0.004082</td>\n      <td>0.003428</td>\n      <td>0.000000</td>\n    </tr>\n    <tr>\n      <th>Jesus</th>\n      <td>0.004639</td>\n      <td>0.000826</td>\n      <td>1.000000</td>\n      <td>0.000318</td>\n      <td>0.006830</td>\n      <td>0.006371</td>\n      <td>0.004361</td>\n      <td>0.001530</td>\n      <td>0.014420</td>\n      <td>0.005011</td>\n      <td>...</td>\n      <td>0.000000</td>\n      <td>0.0</td>\n      <td>0.0</td>\n      <td>0.0</td>\n      <td>0.000000</td>\n      <td>0.0</td>\n      <td>0.0</td>\n      <td>0.000000</td>\n      <td>0.000000</td>\n      <td>0.000000</td>\n    </tr>\n    <tr>\n      <th>et</th>\n      <td>0.000000</td>\n      <td>0.000000</td>\n      <td>0.000140</td>\n      <td>1.000000</td>\n      <td>0.000000</td>\n      <td>0.001512</td>\n      <td>0.000000</td>\n      <td>0.000000</td>\n      <td>0.000000</td>\n      <td>0.000141</td>\n      <td>...</td>\n      <td>0.000000</td>\n      <td>0.0</td>\n      <td>0.0</td>\n      <td>0.0</td>\n      <td>0.000000</td>\n      <td>0.0</td>\n      <td>0.0</td>\n      <td>0.000000</td>\n      <td>0.000000</td>\n      <td>0.000000</td>\n    </tr>\n    <tr>\n      <th>God</th>\n      <td>0.016099</td>\n      <td>0.004516</td>\n      <td>0.012164</td>\n      <td>0.000000</td>\n      <td>1.000000</td>\n      <td>0.003436</td>\n      <td>0.024296</td>\n      <td>0.005424</td>\n      <td>0.011544</td>\n      <td>0.013914</td>\n      <td>...</td>\n      <td>0.000000</td>\n      <td>0.0</td>\n      <td>0.0</td>\n      <td>0.0</td>\n      <td>0.009951</td>\n      <td>0.0</td>\n      <td>0.0</td>\n      <td>0.000000</td>\n      <td>0.000000</td>\n      <td>0.008474</td>\n    </tr>\n    <tr>\n      <th>...</th>\n      <td>...</td>\n      <td>...</td>\n      <td>...</td>\n      <td>...</td>\n      <td>...</td>\n      <td>...</td>\n      <td>...</td>\n      <td>...</td>\n      <td>...</td>\n      <td>...</td>\n      <td>...</td>\n      <td>...</td>\n      <td>...</td>\n      <td>...</td>\n      <td>...</td>\n      <td>...</td>\n      <td>...</td>\n      <td>...</td>\n      <td>...</td>\n      <td>...</td>\n      <td>...</td>\n    </tr>\n    <tr>\n      <th>Ian</th>\n      <td>0.000000</td>\n      <td>0.000000</td>\n      <td>0.000000</td>\n      <td>0.000000</td>\n      <td>0.000000</td>\n      <td>0.000000</td>\n      <td>0.000000</td>\n      <td>0.000000</td>\n      <td>0.000000</td>\n      <td>0.000123</td>\n      <td>...</td>\n      <td>0.000000</td>\n      <td>0.0</td>\n      <td>0.0</td>\n      <td>0.0</td>\n      <td>0.000000</td>\n      <td>1.0</td>\n      <td>0.0</td>\n      <td>0.000000</td>\n      <td>0.000000</td>\n      <td>0.000000</td>\n    </tr>\n    <tr>\n      <th>gesture</th>\n      <td>0.000000</td>\n      <td>0.000000</td>\n      <td>0.000000</td>\n      <td>0.000000</td>\n      <td>0.000000</td>\n      <td>0.000000</td>\n      <td>0.000267</td>\n      <td>0.000000</td>\n      <td>0.000000</td>\n      <td>0.000000</td>\n      <td>...</td>\n      <td>0.000000</td>\n      <td>0.0</td>\n      <td>0.0</td>\n      <td>0.0</td>\n      <td>0.000000</td>\n      <td>0.0</td>\n      <td>1.0</td>\n      <td>0.000000</td>\n      <td>0.000000</td>\n      <td>0.000000</td>\n    </tr>\n    <tr>\n      <th>metaphorical</th>\n      <td>0.000000</td>\n      <td>0.000104</td>\n      <td>0.000000</td>\n      <td>0.000000</td>\n      <td>0.000000</td>\n      <td>0.000020</td>\n      <td>0.000000</td>\n      <td>0.000000</td>\n      <td>0.000000</td>\n      <td>0.000000</td>\n      <td>...</td>\n      <td>0.000000</td>\n      <td>0.0</td>\n      <td>0.0</td>\n      <td>0.0</td>\n      <td>0.000000</td>\n      <td>0.0</td>\n      <td>0.0</td>\n      <td>1.000000</td>\n      <td>0.000000</td>\n      <td>0.000000</td>\n    </tr>\n    <tr>\n      <th>layer</th>\n      <td>0.000000</td>\n      <td>0.000050</td>\n      <td>0.000000</td>\n      <td>0.000000</td>\n      <td>0.000000</td>\n      <td>0.000000</td>\n      <td>0.000000</td>\n      <td>0.000000</td>\n      <td>0.000000</td>\n      <td>0.000000</td>\n      <td>...</td>\n      <td>0.000000</td>\n      <td>0.0</td>\n      <td>0.0</td>\n      <td>0.0</td>\n      <td>0.000000</td>\n      <td>0.0</td>\n      <td>0.0</td>\n      <td>0.000000</td>\n      <td>1.000000</td>\n      <td>0.000000</td>\n    </tr>\n    <tr>\n      <th>less</th>\n      <td>0.000282</td>\n      <td>0.000000</td>\n      <td>0.000000</td>\n      <td>0.000000</td>\n      <td>0.000215</td>\n      <td>0.000043</td>\n      <td>0.001395</td>\n      <td>0.000000</td>\n      <td>0.000153</td>\n      <td>0.000166</td>\n      <td>...</td>\n      <td>0.000000</td>\n      <td>0.0</td>\n      <td>0.0</td>\n      <td>0.0</td>\n      <td>0.000000</td>\n      <td>0.0</td>\n      <td>0.0</td>\n      <td>0.000000</td>\n      <td>0.000000</td>\n      <td>1.000000</td>\n    </tr>\n  </tbody>\n</table>\n<p>4804 rows × 4804 columns</p>\n</div>"
     },
     "execution_count": 37,
     "metadata": {},
     "output_type": "execute_result"
    }
   ],
   "source": [
    "cooc_dict_2000[halfdecades_strs[0]]"
   ],
   "metadata": {
    "collapsed": false,
    "ExecuteTime": {
     "end_time": "2023-05-09T16:00:39.113653Z",
     "start_time": "2023-05-09T16:00:39.072889Z"
    }
   }
  },
  {
   "cell_type": "code",
   "execution_count": 39,
   "outputs": [],
   "source": [
    "def return_tfidf_position_halfdecade(key1, key2, halfdecade):\n",
    "    position = cooc_dict_2000[halfdecade][key1].sort_values(ascending=False).index.get_loc(key2)\n",
    "    return position"
   ],
   "metadata": {
    "collapsed": false,
    "ExecuteTime": {
     "end_time": "2023-05-09T16:03:03.956820Z",
     "start_time": "2023-05-09T16:03:03.928672Z"
    }
   }
  },
  {
   "cell_type": "code",
   "execution_count": 40,
   "outputs": [],
   "source": [
    "def position_by_halfdecade(key1, key2):\n",
    "    positions = []\n",
    "    for halfdecade in halfdecades_strs:\n",
    "        positions.append(return_tfidf_position_halfdecade(key1, key2, halfdecade))\n",
    "    return positions"
   ],
   "metadata": {
    "collapsed": false,
    "ExecuteTime": {
     "end_time": "2023-05-09T16:03:04.546797Z",
     "start_time": "2023-05-09T16:03:04.536182Z"
    }
   }
  },
  {
   "cell_type": "code",
   "execution_count": 45,
   "outputs": [],
   "source": [
    "def plot_postion_by_halfdecade(tuples, figsize=(6,4)):\n",
    "    fig, ax = plt.subplots(tight_layout=True, figsize=figsize, dpi=150)\n",
    "    fig.patch.set_facecolor(\"black\")\n",
    "    ax.set_facecolor(\"black\")\n",
    "    colors = sns.color_palette(None, len(tuples))\n",
    "    for terms, color in zip(tuples, colors):\n",
    "        positions = position_by_halfdecade(terms[0], terms[1])\n",
    "        ax.plot(positions, linewidth=2, color=color, label=terms[0]+\"~\"+terms[1])\n",
    "    ax.set_title(\", \".join([terms[0]+\"~\"+terms[1] for terms in tuples]), color=\"white\")\n",
    "    ax.set_xticks(range(6))\n",
    "    ax.set_xticklabels(halfdecades_strs, color=\"white\", rotation=90)\n",
    "    #if np.max(positions) < 5:\n",
    "    #  ax.set_yticklabels([str(np.round(el, 1)) for el in ax.get_yticks()], color=\"white\")\n",
    "    #else:\n",
    "    ax.set_yticklabels([str(int(el)) for el in ax.get_yticks()], color=\"white\")\n",
    "    #ax.invert_yaxis()\n",
    "    ax.set_xlabel(\"halfdecade\", color=\"white\")\n",
    "    ax.set_ylabel(\"rank\", color=\"white\")\n",
    "    ax.spines['bottom'].set_color('white')\n",
    "    ax.spines['top'].set_color('white')\n",
    "    ax.spines['right'].set_color('white')\n",
    "    ax.spines['left'].set_color('white')\n",
    "    ax.legend(facecolor=\"black\", labelcolor=\"white\")\n",
    "    return fig"
   ],
   "metadata": {
    "collapsed": false,
    "ExecuteTime": {
     "end_time": "2023-05-09T16:04:55.374302Z",
     "start_time": "2023-05-09T16:04:55.366751Z"
    }
   }
  },
  {
   "cell_type": "code",
   "execution_count": 46,
   "outputs": [
    {
     "name": "stderr",
     "output_type": "stream",
     "text": [
      "/var/folders/zg/zvg9y3rs7j527jxfq9sc2xqc0000gn/T/ipykernel_33415/3287329326.py:15: UserWarning: FixedFormatter should only be used together with FixedLocator\n",
      "  ax.set_yticklabels([str(int(el)) for el in ax.get_yticks()], color=\"white\")\n"
     ]
    },
    {
     "data": {
      "text/plain": "<Figure size 900x600 with 1 Axes>",
      "image/png": "[encoded data removed]"
     },
     "metadata": {},
     "output_type": "display_data"
    }
   ],
   "source": [
    "fig = plot_postion_by_halfdecade([(\"Paul\", \"apostle\")])"
   ],
   "metadata": {
    "collapsed": false,
    "ExecuteTime": {
     "end_time": "2023-05-09T16:04:56.706689Z",
     "start_time": "2023-05-09T16:04:56.523871Z"
    }
   }
  },
  {
   "cell_type": "code",
   "execution_count": null,
   "outputs": [],
   "source": [],
   "metadata": {
    "collapsed": false
   }
  }
 ],
 "metadata": {
  "kernelspec": {
   "name": "python3",
   "language": "python",
   "display_name": "Python 3 (ipykernel)"
  },
  "language_info": {
   "codemirror_mode": {
    "name": "ipython",
    "version": 2
   },
   "file_extension": ".py",
   "mimetype": "text/x-python",
   "name": "python",
   "nbconvert_exporter": "python",
   "pygments_lexer": "ipython2",
   "version": "2.7.6"
  },
  "colab": {
   "provenance": [],
   "include_colab_link": true
  }
 },
 "nbformat": 4,
 "nbformat_minor": 0
}
