{
 "cells": [
  {
   "cell_type": "code",
   "execution_count": 12,
   "outputs": [],
   "source": [
    "import pandas as pd\n",
    "import pickle\n",
    "import urllib"
   ],
   "metadata": {
    "collapsed": false,
    "ExecuteTime": {
     "start_time": "2023-05-01T12:08:59.011772Z",
     "end_time": "2023-05-01T12:08:59.021650Z"
    }
   }
  },
  {
   "cell_type": "code",
   "execution_count": 19,
   "outputs": [
    {
     "data": {
      "text/plain": "       1900-1919  1920-1939  1940-1959  1960-1979  1980-1999  2000-2019\nman      11218.0     8342.0    24108.0    39199.0    48435.0   100670.0\nnew      10183.0    10192.0    23469.0    42092.0    97421.0   293457.0\nJesus     9650.0     4911.0    12134.0    23416.0    49765.0   215687.0\net        9325.0    11818.0    20805.0    35969.0    49326.0    73464.0\nGod       9248.0     6276.0    26328.0    45751.0    99505.0   293240.0",
      "text/html": "<div>\n<style scoped>\n    .dataframe tbody tr th:only-of-type {\n        vertical-align: middle;\n    }\n\n    .dataframe tbody tr th {\n        vertical-align: top;\n    }\n\n    .dataframe thead th {\n        text-align: right;\n    }\n</style>\n<table border=\"1\" class=\"dataframe\">\n  <thead>\n    <tr style=\"text-align: right;\">\n      <th></th>\n      <th>1900-1919</th>\n      <th>1920-1939</th>\n      <th>1940-1959</th>\n      <th>1960-1979</th>\n      <th>1980-1999</th>\n      <th>2000-2019</th>\n    </tr>\n  </thead>\n  <tbody>\n    <tr>\n      <th>man</th>\n      <td>11218.0</td>\n      <td>8342.0</td>\n      <td>24108.0</td>\n      <td>39199.0</td>\n      <td>48435.0</td>\n      <td>100670.0</td>\n    </tr>\n    <tr>\n      <th>new</th>\n      <td>10183.0</td>\n      <td>10192.0</td>\n      <td>23469.0</td>\n      <td>42092.0</td>\n      <td>97421.0</td>\n      <td>293457.0</td>\n    </tr>\n    <tr>\n      <th>Jesus</th>\n      <td>9650.0</td>\n      <td>4911.0</td>\n      <td>12134.0</td>\n      <td>23416.0</td>\n      <td>49765.0</td>\n      <td>215687.0</td>\n    </tr>\n    <tr>\n      <th>et</th>\n      <td>9325.0</td>\n      <td>11818.0</td>\n      <td>20805.0</td>\n      <td>35969.0</td>\n      <td>49326.0</td>\n      <td>73464.0</td>\n    </tr>\n    <tr>\n      <th>God</th>\n      <td>9248.0</td>\n      <td>6276.0</td>\n      <td>26328.0</td>\n      <td>45751.0</td>\n      <td>99505.0</td>\n      <td>293240.0</td>\n    </tr>\n  </tbody>\n</table>\n</div>"
     },
     "execution_count": 19,
     "metadata": {},
     "output_type": "execute_result"
    }
   ],
   "source": [
    "# load vocabularies\n",
    "bidecades_vocabs_counts_df = pickle.load(urllib.request.urlopen(\"https://github.com/kasev/mops/raw/master/data/bidecades_vocabs_counts_df.pickle\"))\n",
    "bidecades_vocabs_counts_df.head(5)"
   ],
   "metadata": {
    "collapsed": false,
    "ExecuteTime": {
     "start_time": "2023-05-01T12:24:36.635474Z",
     "end_time": "2023-05-01T12:24:37.480667Z"
    }
   }
  },
  {
   "cell_type": "code",
   "execution_count": 20,
   "outputs": [
    {
     "data": {
      "text/plain": "1900-1919     11218.0\n1920-1939      8342.0\n1940-1959     24108.0\n1960-1979     39199.0\n1980-1999     48435.0\n2000-2019    100670.0\nName: man, dtype: float64"
     },
     "execution_count": 20,
     "metadata": {},
     "output_type": "execute_result"
    }
   ],
   "source": [
    "# explore the counts on your own\n",
    "bidecades_vocabs_counts_df.loc[\"man\"]"
   ],
   "metadata": {
    "collapsed": false,
    "ExecuteTime": {
     "start_time": "2023-05-01T12:24:49.070251Z",
     "end_time": "2023-05-01T12:24:49.080044Z"
    }
   }
  },
  {
   "cell_type": "code",
   "execution_count": 15,
   "outputs": [],
   "source": [
    "# download the matrices\n",
    "urllib.request.urlretrieve(\"https://github.com/kasev/mops/raw/master/data/cooc_norm_dict.pickle\", \"temp.pickle\")\n",
    "with open(\"temp.pickle\", \"rb\") as f:\n",
    "    cooc_norm_dict = pickle.load(f)"
   ],
   "metadata": {
    "collapsed": false,
    "ExecuteTime": {
     "start_time": "2023-05-01T12:12:02.762355Z",
     "end_time": "2023-05-01T12:12:32.136253Z"
    }
   }
  },
  {
   "cell_type": "code",
   "execution_count": 23,
   "outputs": [
    {
     "data": {
      "text/plain": "dict_keys(['1900-1919', '1920-1939', '1940-1959', '1960-1979', '1980-1999', '2000-2019'])"
     },
     "execution_count": 23,
     "metadata": {},
     "output_type": "execute_result"
    }
   ],
   "source": [
    "cooc_norm_dict.keys()"
   ],
   "metadata": {
    "collapsed": false,
    "ExecuteTime": {
     "start_time": "2023-05-01T12:27:45.297626Z",
     "end_time": "2023-05-01T12:27:45.309380Z"
    }
   }
  },
  {
   "cell_type": "code",
   "execution_count": 25,
   "outputs": [],
   "source": [
    "# transform the matrcices into dataframes (much more memory consuming...)\n",
    "for bidecade, cooc in cooc_norm_dict.items():\n",
    "    try:\n",
    "        cooc_norm_df = pd.DataFrame(cooc.todense())\n",
    "        cooc_norm_df / cooc.max()\n",
    "        cooc_norm_df.columns = bidecades_vocabs_counts_df.index\n",
    "        cooc_norm_df.index = bidecades_vocabs_counts_df.index\n",
    "        cooc_norm_dict[bidecade] = cooc_norm_df\n",
    "    except:\n",
    "        pass"
   ],
   "metadata": {
    "collapsed": false,
    "ExecuteTime": {
     "start_time": "2023-05-01T12:28:24.830662Z",
     "end_time": "2023-05-01T12:28:24.843269Z"
    }
   }
  },
  {
   "cell_type": "code",
   "execution_count": 27,
   "outputs": [
    {
     "data": {
      "text/plain": "                man        new       Jesus         et         God  \\\nPaul      37.591206  19.827310  340.144298  67.904433  187.480555   \nletter    30.454707  17.903023    3.960803   0.000000    6.305044   \nApostle    0.000000   0.000000    9.785745   0.000000    7.135993   \nuse       49.490922  37.482732  118.766885   0.000000  114.165990   \nepistle    0.000000   0.000000    0.000000   0.000000    0.904978   \n...             ...        ...         ...        ...         ...   \nopposite   0.000000   0.000000    0.000000   0.000000    0.000000   \nSimeon     0.000000   0.000000    0.000000   0.000000    0.000000   \nwithdraw   0.000000   0.000000    3.130978   0.000000    3.648156   \nvote       3.056514   0.000000    0.000000   0.000000    0.000000   \nless       8.892973   0.000000    0.000000   0.000000    9.901102   \n\n                  Paul        make      church        life         see  ...  \\\nPaul      64243.168622  391.246234  144.828710  242.478575  532.952291  ...   \nletter     3384.586931   51.795131   15.934704   97.528689  163.889360  ...   \nApostle    1630.807205    6.085162    0.000000    6.146624    4.009407  ...   \nuse        1355.097080  913.578752   63.491026   14.995467   38.910173  ...   \nepistle    1072.419443    2.835295    0.000000    6.576420   18.826563  ...   \n...                ...         ...         ...         ...         ...  ...   \nopposite      0.000000    0.876012    0.000000    0.000000    2.225970  ...   \nSimeon        0.000000    0.000000    0.000000    0.000000    0.000000  ...   \nwithdraw      0.000000    0.000000    0.806888    1.204763    0.000000  ...   \nvote          0.000000    0.000000    0.857702    0.000000    0.000000  ...   \nless          0.000000   36.520686    0.000000    1.381570   11.763887  ...   \n\n             angle  substantive  noteworthy  Kevin     locus  Ian   gesture  \\\nPaul      0.000000     0.000000     1.05304    0.0  0.000000  0.0  0.000000   \nletter    0.000000     0.000000     0.00000    0.0  0.000000  0.0  0.000000   \nApostle   0.000000     0.000000     0.00000    0.0  0.000000  0.0  0.000000   \nuse       0.000000     6.610575     0.00000    0.0  1.738599  0.0  0.832223   \nepistle   0.000000     0.000000     0.00000    0.0  0.000000  0.0  0.000000   \n...            ...          ...         ...    ...       ...  ...       ...   \nopposite  0.990307     0.000000     0.00000    0.0  0.000000  0.0  0.000000   \nSimeon    0.000000     0.000000     0.00000    0.0  0.000000  0.0  0.000000   \nwithdraw  0.000000     0.000000     0.00000    0.0  0.000000  0.0  0.000000   \nvote      0.000000     0.000000     0.00000    0.0  0.000000  0.0  0.000000   \nless      0.000000     0.000000     0.00000    0.0  0.000000  0.0  0.000000   \n\n          metaphorical  layer         less  \nPaul          1.593666    0.0     0.000000  \nletter        0.000000    0.0     0.000000  \nApostle       0.000000    0.0     0.000000  \nuse          35.925463    0.0     7.902183  \nepistle       0.000000    0.0     0.000000  \n...                ...    ...          ...  \nopposite      0.000000    0.0     0.000000  \nSimeon        0.000000    0.0     0.000000  \nwithdraw      0.000000    0.0     0.000000  \nvote          0.000000    0.0     0.000000  \nless          0.000000    0.0  1584.996747  \n\n[4804 rows x 4804 columns]",
      "text/html": "<div>\n<style scoped>\n    .dataframe tbody tr th:only-of-type {\n        vertical-align: middle;\n    }\n\n    .dataframe tbody tr th {\n        vertical-align: top;\n    }\n\n    .dataframe thead th {\n        text-align: right;\n    }\n</style>\n<table border=\"1\" class=\"dataframe\">\n  <thead>\n    <tr style=\"text-align: right;\">\n      <th></th>\n      <th>man</th>\n      <th>new</th>\n      <th>Jesus</th>\n      <th>et</th>\n      <th>God</th>\n      <th>Paul</th>\n      <th>make</th>\n      <th>church</th>\n      <th>life</th>\n      <th>see</th>\n      <th>...</th>\n      <th>angle</th>\n      <th>substantive</th>\n      <th>noteworthy</th>\n      <th>Kevin</th>\n      <th>locus</th>\n      <th>Ian</th>\n      <th>gesture</th>\n      <th>metaphorical</th>\n      <th>layer</th>\n      <th>less</th>\n    </tr>\n  </thead>\n  <tbody>\n    <tr>\n      <th>Paul</th>\n      <td>37.591206</td>\n      <td>19.827310</td>\n      <td>340.144298</td>\n      <td>67.904433</td>\n      <td>187.480555</td>\n      <td>64243.168622</td>\n      <td>391.246234</td>\n      <td>144.828710</td>\n      <td>242.478575</td>\n      <td>532.952291</td>\n      <td>...</td>\n      <td>0.000000</td>\n      <td>0.000000</td>\n      <td>1.05304</td>\n      <td>0.0</td>\n      <td>0.000000</td>\n      <td>0.0</td>\n      <td>0.000000</td>\n      <td>1.593666</td>\n      <td>0.0</td>\n      <td>0.000000</td>\n    </tr>\n    <tr>\n      <th>letter</th>\n      <td>30.454707</td>\n      <td>17.903023</td>\n      <td>3.960803</td>\n      <td>0.000000</td>\n      <td>6.305044</td>\n      <td>3384.586931</td>\n      <td>51.795131</td>\n      <td>15.934704</td>\n      <td>97.528689</td>\n      <td>163.889360</td>\n      <td>...</td>\n      <td>0.000000</td>\n      <td>0.000000</td>\n      <td>0.00000</td>\n      <td>0.0</td>\n      <td>0.000000</td>\n      <td>0.0</td>\n      <td>0.000000</td>\n      <td>0.000000</td>\n      <td>0.0</td>\n      <td>0.000000</td>\n    </tr>\n    <tr>\n      <th>Apostle</th>\n      <td>0.000000</td>\n      <td>0.000000</td>\n      <td>9.785745</td>\n      <td>0.000000</td>\n      <td>7.135993</td>\n      <td>1630.807205</td>\n      <td>6.085162</td>\n      <td>0.000000</td>\n      <td>6.146624</td>\n      <td>4.009407</td>\n      <td>...</td>\n      <td>0.000000</td>\n      <td>0.000000</td>\n      <td>0.00000</td>\n      <td>0.0</td>\n      <td>0.000000</td>\n      <td>0.0</td>\n      <td>0.000000</td>\n      <td>0.000000</td>\n      <td>0.0</td>\n      <td>0.000000</td>\n    </tr>\n    <tr>\n      <th>use</th>\n      <td>49.490922</td>\n      <td>37.482732</td>\n      <td>118.766885</td>\n      <td>0.000000</td>\n      <td>114.165990</td>\n      <td>1355.097080</td>\n      <td>913.578752</td>\n      <td>63.491026</td>\n      <td>14.995467</td>\n      <td>38.910173</td>\n      <td>...</td>\n      <td>0.000000</td>\n      <td>6.610575</td>\n      <td>0.00000</td>\n      <td>0.0</td>\n      <td>1.738599</td>\n      <td>0.0</td>\n      <td>0.832223</td>\n      <td>35.925463</td>\n      <td>0.0</td>\n      <td>7.902183</td>\n    </tr>\n    <tr>\n      <th>epistle</th>\n      <td>0.000000</td>\n      <td>0.000000</td>\n      <td>0.000000</td>\n      <td>0.000000</td>\n      <td>0.904978</td>\n      <td>1072.419443</td>\n      <td>2.835295</td>\n      <td>0.000000</td>\n      <td>6.576420</td>\n      <td>18.826563</td>\n      <td>...</td>\n      <td>0.000000</td>\n      <td>0.000000</td>\n      <td>0.00000</td>\n      <td>0.0</td>\n      <td>0.000000</td>\n      <td>0.0</td>\n      <td>0.000000</td>\n      <td>0.000000</td>\n      <td>0.0</td>\n      <td>0.000000</td>\n    </tr>\n    <tr>\n      <th>...</th>\n      <td>...</td>\n      <td>...</td>\n      <td>...</td>\n      <td>...</td>\n      <td>...</td>\n      <td>...</td>\n      <td>...</td>\n      <td>...</td>\n      <td>...</td>\n      <td>...</td>\n      <td>...</td>\n      <td>...</td>\n      <td>...</td>\n      <td>...</td>\n      <td>...</td>\n      <td>...</td>\n      <td>...</td>\n      <td>...</td>\n      <td>...</td>\n      <td>...</td>\n      <td>...</td>\n    </tr>\n    <tr>\n      <th>opposite</th>\n      <td>0.000000</td>\n      <td>0.000000</td>\n      <td>0.000000</td>\n      <td>0.000000</td>\n      <td>0.000000</td>\n      <td>0.000000</td>\n      <td>0.876012</td>\n      <td>0.000000</td>\n      <td>0.000000</td>\n      <td>2.225970</td>\n      <td>...</td>\n      <td>0.990307</td>\n      <td>0.000000</td>\n      <td>0.00000</td>\n      <td>0.0</td>\n      <td>0.000000</td>\n      <td>0.0</td>\n      <td>0.000000</td>\n      <td>0.000000</td>\n      <td>0.0</td>\n      <td>0.000000</td>\n    </tr>\n    <tr>\n      <th>Simeon</th>\n      <td>0.000000</td>\n      <td>0.000000</td>\n      <td>0.000000</td>\n      <td>0.000000</td>\n      <td>0.000000</td>\n      <td>0.000000</td>\n      <td>0.000000</td>\n      <td>0.000000</td>\n      <td>0.000000</td>\n      <td>0.000000</td>\n      <td>...</td>\n      <td>0.000000</td>\n      <td>0.000000</td>\n      <td>0.00000</td>\n      <td>0.0</td>\n      <td>0.000000</td>\n      <td>0.0</td>\n      <td>0.000000</td>\n      <td>0.000000</td>\n      <td>0.0</td>\n      <td>0.000000</td>\n    </tr>\n    <tr>\n      <th>withdraw</th>\n      <td>0.000000</td>\n      <td>0.000000</td>\n      <td>3.130978</td>\n      <td>0.000000</td>\n      <td>3.648156</td>\n      <td>0.000000</td>\n      <td>0.000000</td>\n      <td>0.806888</td>\n      <td>1.204763</td>\n      <td>0.000000</td>\n      <td>...</td>\n      <td>0.000000</td>\n      <td>0.000000</td>\n      <td>0.00000</td>\n      <td>0.0</td>\n      <td>0.000000</td>\n      <td>0.0</td>\n      <td>0.000000</td>\n      <td>0.000000</td>\n      <td>0.0</td>\n      <td>0.000000</td>\n    </tr>\n    <tr>\n      <th>vote</th>\n      <td>3.056514</td>\n      <td>0.000000</td>\n      <td>0.000000</td>\n      <td>0.000000</td>\n      <td>0.000000</td>\n      <td>0.000000</td>\n      <td>0.000000</td>\n      <td>0.857702</td>\n      <td>0.000000</td>\n      <td>0.000000</td>\n      <td>...</td>\n      <td>0.000000</td>\n      <td>0.000000</td>\n      <td>0.00000</td>\n      <td>0.0</td>\n      <td>0.000000</td>\n      <td>0.0</td>\n      <td>0.000000</td>\n      <td>0.000000</td>\n      <td>0.0</td>\n      <td>0.000000</td>\n    </tr>\n    <tr>\n      <th>less</th>\n      <td>8.892973</td>\n      <td>0.000000</td>\n      <td>0.000000</td>\n      <td>0.000000</td>\n      <td>9.901102</td>\n      <td>0.000000</td>\n      <td>36.520686</td>\n      <td>0.000000</td>\n      <td>1.381570</td>\n      <td>11.763887</td>\n      <td>...</td>\n      <td>0.000000</td>\n      <td>0.000000</td>\n      <td>0.00000</td>\n      <td>0.0</td>\n      <td>0.000000</td>\n      <td>0.0</td>\n      <td>0.000000</td>\n      <td>0.000000</td>\n      <td>0.0</td>\n      <td>1584.996747</td>\n    </tr>\n  </tbody>\n</table>\n<p>4804 rows × 4804 columns</p>\n</div>"
     },
     "execution_count": 27,
     "metadata": {},
     "output_type": "execute_result"
    }
   ],
   "source": [
    "cooc_norm_dict[\"1980-1999\"].sort_values(\"Paul\", ascending=False)"
   ],
   "metadata": {
    "collapsed": false,
    "ExecuteTime": {
     "start_time": "2023-05-01T12:29:12.499629Z",
     "end_time": "2023-05-01T12:29:12.576533Z"
    }
   }
  },
  {
   "cell_type": "code",
   "execution_count": null,
   "outputs": [],
   "source": [],
   "metadata": {
    "collapsed": false
   }
  }
 ],
 "metadata": {
  "kernelspec": {
   "name": "mops_venv",
   "language": "python",
   "display_name": "mops_venv"
  },
  "language_info": {
   "codemirror_mode": {
    "name": "ipython",
    "version": 2
   },
   "file_extension": ".py",
   "mimetype": "text/x-python",
   "name": "python",
   "nbconvert_exporter": "python",
   "pygments_lexer": "ipython2",
   "version": "2.7.6"
  }
 },
 "nbformat": 4,
 "nbformat_minor": 0
}
