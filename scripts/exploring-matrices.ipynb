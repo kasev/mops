{
 "cells": [
  {
   "cell_type": "code",
   "execution_count": 12,
   "outputs": [],
   "source": [
    "import pandas as pd\n",
    "import pickle\n",
    "import urllib"
   ],
   "metadata": {
    "collapsed": false,
    "ExecuteTime": {
     "start_time": "2023-05-01T12:08:59.011772Z",
     "end_time": "2023-05-01T12:08:59.021650Z"
    }
   }
  },
  {
   "cell_type": "code",
   "execution_count": 19,
   "outputs": [
    {
     "data": {
      "text/plain": "       1900-1919  1920-1939  1940-1959  1960-1979  1980-1999  2000-2019\nman      11218.0     8342.0    24108.0    39199.0    48435.0   100670.0\nnew      10183.0    10192.0    23469.0    42092.0    97421.0   293457.0\nJesus     9650.0     4911.0    12134.0    23416.0    49765.0   215687.0\net        9325.0    11818.0    20805.0    35969.0    49326.0    73464.0\nGod       9248.0     6276.0    26328.0    45751.0    99505.0   293240.0",
      "text/html": "<div>\n<style scoped>\n    .dataframe tbody tr th:only-of-type {\n        vertical-align: middle;\n    }\n\n    .dataframe tbody tr th {\n        vertical-align: top;\n    }\n\n    .dataframe thead th {\n        text-align: right;\n    }\n</style>\n<table border=\"1\" class=\"dataframe\">\n  <thead>\n    <tr style=\"text-align: right;\">\n      <th></th>\n      <th>1900-1919</th>\n      <th>1920-1939</th>\n      <th>1940-1959</th>\n      <th>1960-1979</th>\n      <th>1980-1999</th>\n      <th>2000-2019</th>\n    </tr>\n  </thead>\n  <tbody>\n    <tr>\n      <th>man</th>\n      <td>11218.0</td>\n      <td>8342.0</td>\n      <td>24108.0</td>\n      <td>39199.0</td>\n      <td>48435.0</td>\n      <td>100670.0</td>\n    </tr>\n    <tr>\n      <th>new</th>\n      <td>10183.0</td>\n      <td>10192.0</td>\n      <td>23469.0</td>\n      <td>42092.0</td>\n      <td>97421.0</td>\n      <td>293457.0</td>\n    </tr>\n    <tr>\n      <th>Jesus</th>\n      <td>9650.0</td>\n      <td>4911.0</td>\n      <td>12134.0</td>\n      <td>23416.0</td>\n      <td>49765.0</td>\n      <td>215687.0</td>\n    </tr>\n    <tr>\n      <th>et</th>\n      <td>9325.0</td>\n      <td>11818.0</td>\n      <td>20805.0</td>\n      <td>35969.0</td>\n      <td>49326.0</td>\n      <td>73464.0</td>\n    </tr>\n    <tr>\n      <th>God</th>\n      <td>9248.0</td>\n      <td>6276.0</td>\n      <td>26328.0</td>\n      <td>45751.0</td>\n      <td>99505.0</td>\n      <td>293240.0</td>\n    </tr>\n  </tbody>\n</table>\n</div>"
     },
     "execution_count": 19,
     "metadata": {},
     "output_type": "execute_result"
    }
   ],
   "source": [
    "# load vocabularies\n",
    "bidecades_vocabs_counts_df = pickle.load(urllib.request.urlopen(\"https://github.com/kasev/mops/raw/master/data/bidecades_vocabs_counts_df.pickle\"))\n",
    "bidecades_vocabs_counts_df.head(5)"
   ],
   "metadata": {
    "collapsed": false,
    "ExecuteTime": {
     "start_time": "2023-05-01T12:24:36.635474Z",
     "end_time": "2023-05-01T12:24:37.480667Z"
    }
   }
  },
  {
   "cell_type": "code",
   "execution_count": 20,
   "outputs": [
    {
     "data": {
      "text/plain": "1900-1919     11218.0\n1920-1939      8342.0\n1940-1959     24108.0\n1960-1979     39199.0\n1980-1999     48435.0\n2000-2019    100670.0\nName: man, dtype: float64"
     },
     "execution_count": 20,
     "metadata": {},
     "output_type": "execute_result"
    }
   ],
   "source": [
    "# explore the counts on your own\n",
    "bidecades_vocabs_counts_df.loc[\"man\"]"
   ],
   "metadata": {
    "collapsed": false,
    "ExecuteTime": {
     "start_time": "2023-05-01T12:24:49.070251Z",
     "end_time": "2023-05-01T12:24:49.080044Z"
    }
   }
  },
  {
   "cell_type": "code",
   "execution_count": 28,
   "outputs": [],
   "source": [
    "# locally\n",
    "#cooc_dict = pickle.load(open(\"../data/cooc_dict.pickle\", \"rb\")\n",
    "\n",
    "urllib.request.urlretrieve(\"https://github.com/kasev/mops/raw/master/data/cooc_dict.pickle\", \"temp.pickle\")\n",
    "with open(\"temp.pickle\", \"rb\") as f:\n",
    "    cooc_dict = pickle.load(f)"
   ],
   "metadata": {
    "collapsed": false,
    "ExecuteTime": {
     "start_time": "2023-05-01T13:28:48.715516Z",
     "end_time": "2023-05-01T13:29:22.346383Z"
    }
   }
  },
  {
   "cell_type": "code",
   "execution_count": 29,
   "outputs": [
    {
     "data": {
      "text/plain": "dict_keys(['1900-1919', '1920-1939', '1940-1959', '1960-1979', '1980-1999', '2000-2019'])"
     },
     "execution_count": 29,
     "metadata": {},
     "output_type": "execute_result"
    }
   ],
   "source": [
    "cooc_dict.keys()"
   ],
   "metadata": {
    "collapsed": false,
    "ExecuteTime": {
     "start_time": "2023-05-01T13:29:54.118928Z",
     "end_time": "2023-05-01T13:29:54.137491Z"
    }
   }
  },
  {
   "cell_type": "code",
   "execution_count": 30,
   "outputs": [],
   "source": [
    "# transform the matrcices into dataframes (much more memory consuming...)\n",
    "for bidecade, cooc in cooc_dict.items():\n",
    "    try:\n",
    "        cooc_df = pd.DataFrame(cooc.todense())\n",
    "        cooc_norm_df = cooc_df / cooc_df.max()\n",
    "        cooc_norm_df.columns = bidecades_vocabs_counts_df.index\n",
    "        cooc_norm_df.index = bidecades_vocabs_counts_df.index\n",
    "        cooc_dict[bidecade] = cooc_norm_df\n",
    "    except:\n",
    "        pass"
   ],
   "metadata": {
    "collapsed": false,
    "ExecuteTime": {
     "start_time": "2023-05-01T13:30:19.065740Z",
     "end_time": "2023-05-01T13:30:19.856316Z"
    }
   }
  },
  {
   "cell_type": "code",
   "execution_count": 34,
   "outputs": [
    {
     "data": {
      "text/plain": "Paul              1.000000\nepistle           0.055488\nApostle           0.035643\nletter            0.028799\napostle           0.028537\n                    ...   \nreckon            0.000000\nEliot             0.000000\nvase              0.000000\nsister            0.000000\nresponsibility    0.000000\nName: Paul, Length: 4804, dtype: float64"
     },
     "execution_count": 34,
     "metadata": {},
     "output_type": "execute_result"
    }
   ],
   "source": [
    "cooc_dict[\"1900-1919\"][\"Paul\"].sort_values(ascending=False)"
   ],
   "metadata": {
    "collapsed": false,
    "ExecuteTime": {
     "start_time": "2023-05-01T13:33:35.956992Z",
     "end_time": "2023-05-01T13:33:35.978923Z"
    }
   }
  },
  {
   "cell_type": "code",
   "execution_count": 35,
   "outputs": [
    {
     "data": {
      "text/plain": "Paul        1.000000\nletter      0.052684\nApostle     0.025385\nuse         0.021093\nepistle     0.016693\n              ...   \nopposite    0.000000\nSimeon      0.000000\nwithdraw    0.000000\nvote        0.000000\nless        0.000000\nName: Paul, Length: 4804, dtype: float64"
     },
     "execution_count": 35,
     "metadata": {},
     "output_type": "execute_result"
    }
   ],
   "source": [
    "cooc_dict[\"1980-1999\"][\"Paul\"].sort_values(ascending=False)"
   ],
   "metadata": {
    "collapsed": false,
    "ExecuteTime": {
     "start_time": "2023-05-01T13:36:32.630435Z",
     "end_time": "2023-05-01T13:36:32.658796Z"
    }
   }
  },
  {
   "cell_type": "code",
   "execution_count": 43,
   "outputs": [
    {
     "data": {
      "text/plain": "6"
     },
     "execution_count": 43,
     "metadata": {},
     "output_type": "execute_result"
    }
   ],
   "source": [
    "key1 = \"Paul\"\n",
    "key2 = \"saint\"\n",
    "bidecade = \"1900-1919\"\n",
    "cooc_dict[bidecade][key1].sort_values(ascending=False).index.get_loc(key2)"
   ],
   "metadata": {
    "collapsed": false,
    "ExecuteTime": {
     "start_time": "2023-05-01T13:42:37.454372Z",
     "end_time": "2023-05-01T13:42:37.499658Z"
    }
   }
  },
  {
   "cell_type": "code",
   "execution_count": 45,
   "outputs": [],
   "source": [
    "def return_tfidf_position(key1, key2, bidecade):\n",
    "    position = cooc_dict[bidecade][key1].sort_values(ascending=False).index.get_loc(key2)\n",
    "    return position"
   ],
   "metadata": {
    "collapsed": false,
    "ExecuteTime": {
     "start_time": "2023-05-01T13:44:02.046896Z",
     "end_time": "2023-05-01T13:44:02.057162Z"
    }
   }
  },
  {
   "cell_type": "code",
   "execution_count": 51,
   "outputs": [
    {
     "data": {
      "text/plain": "6"
     },
     "execution_count": 51,
     "metadata": {},
     "output_type": "execute_result"
    }
   ],
   "source": [
    "key1 = \"Paul\"\n",
    "key2 = \"saint\"\n",
    "bidecade = \"1900-1919\"\n",
    "return_tfidf_position(key1, key2, bidecade)"
   ],
   "metadata": {
    "collapsed": false,
    "ExecuteTime": {
     "start_time": "2023-05-01T13:47:53.936623Z",
     "end_time": "2023-05-01T13:47:53.958791Z"
    }
   }
  },
  {
   "cell_type": "code",
   "execution_count": 47,
   "outputs": [
    {
     "data": {
      "text/plain": "7"
     },
     "execution_count": 47,
     "metadata": {},
     "output_type": "execute_result"
    }
   ],
   "source": [
    "return_tfidf_position(\"Paul\", \"apostle\", \"1940-1959\")"
   ],
   "metadata": {
    "collapsed": false,
    "ExecuteTime": {
     "start_time": "2023-05-01T13:44:52.800876Z",
     "end_time": "2023-05-01T13:44:52.834980Z"
    }
   }
  },
  {
   "cell_type": "code",
   "execution_count": 52,
   "outputs": [],
   "source": [
    "positions = []\n",
    "for bidecade in ['1900-1919', '1920-1939', '1940-1959', '1960-1979', '1980-1999',\n",
    " '2000-2019']:\n",
    "    positions.append(return_tfidf_position(key1, key2, bidecade))"
   ],
   "metadata": {
    "collapsed": false,
    "ExecuteTime": {
     "start_time": "2023-05-01T13:48:01.710141Z",
     "end_time": "2023-05-01T13:48:01.725339Z"
    }
   }
  },
  {
   "cell_type": "code",
   "execution_count": 54,
   "outputs": [],
   "source": [
    "def position_by_bidecade(key1, key2):\n",
    "    positions = []\n",
    "    for bidecade in ['1900-1919', '1920-1939', '1940-1959', '1960-1979', '1980-1999', '2000-2019']:\n",
    "        positions.append(return_tfidf_position(key1, key2, bidecade))\n",
    "    return positions"
   ],
   "metadata": {
    "collapsed": false,
    "ExecuteTime": {
     "start_time": "2023-05-01T13:49:52.139337Z",
     "end_time": "2023-05-01T13:49:52.172898Z"
    }
   }
  },
  {
   "cell_type": "code",
   "execution_count": 57,
   "outputs": [
    {
     "data": {
      "text/plain": "[843, 3399, 561, 1353, 1925, 698]"
     },
     "execution_count": 57,
     "metadata": {},
     "output_type": "execute_result"
    }
   ],
   "source": [
    "position_by_bidecade(\"Paul\", \"judaism\")"
   ],
   "metadata": {
    "collapsed": false,
    "ExecuteTime": {
     "start_time": "2023-05-01T13:50:22.782997Z",
     "end_time": "2023-05-01T13:50:22.794439Z"
    }
   }
  },
  {
   "cell_type": "code",
   "execution_count": 58,
   "outputs": [
    {
     "data": {
      "text/plain": "[4, 5, 7, 5, 5, 5]"
     },
     "execution_count": 58,
     "metadata": {},
     "output_type": "execute_result"
    }
   ],
   "source": [
    "position_by_bidecade(\"Paul\", \"apostle\")\n"
   ],
   "metadata": {
    "collapsed": false,
    "ExecuteTime": {
     "start_time": "2023-05-01T13:54:33.152105Z",
     "end_time": "2023-05-01T13:54:33.179420Z"
    }
   }
  },
  {
   "cell_type": "code",
   "execution_count": 59,
   "outputs": [
    {
     "data": {
      "text/plain": "[2, 1, 1, 2, 2, 1]"
     },
     "execution_count": 59,
     "metadata": {},
     "output_type": "execute_result"
    }
   ],
   "source": [
    "position_by_bidecade(\"Paul\", \"Apostle\")"
   ],
   "metadata": {
    "collapsed": false,
    "ExecuteTime": {
     "start_time": "2023-05-01T13:54:43.966231Z",
     "end_time": "2023-05-01T13:54:43.984021Z"
    }
   }
  },
  {
   "cell_type": "code",
   "execution_count": null,
   "outputs": [],
   "source": [],
   "metadata": {
    "collapsed": false
   }
  }
 ],
 "metadata": {
  "kernelspec": {
   "name": "mops_venv",
   "language": "python",
   "display_name": "mops_venv"
  },
  "language_info": {
   "codemirror_mode": {
    "name": "ipython",
    "version": 2
   },
   "file_extension": ".py",
   "mimetype": "text/x-python",
   "name": "python",
   "nbconvert_exporter": "python",
   "pygments_lexer": "ipython2",
   "version": "2.7.6"
  }
 },
 "nbformat": 4,
 "nbformat_minor": 0
}
