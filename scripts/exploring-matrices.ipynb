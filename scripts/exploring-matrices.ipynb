{
  "cells": [
    {
      "cell_type": "markdown",
      "metadata": {
        "id": "view-in-github",
        "colab_type": "text"
      },
      "source": [
        "<a href=\"https://colab.research.google.com/github/kasev/mops/blob/master/scripts/exploring-matrices.ipynb\" target=\"_parent\"><img src=\"https://colab.research.google.com/assets/colab-badge.svg\" alt=\"Open In Colab\"/></a>"
      ]
    },
    {
      "cell_type": "code",
      "execution_count": null,
      "outputs": [],
      "source": [
        "import pandas as pd\n",
        "import pickle\n",
        "import urllib\n",
        "\n",
        "import matplotlib.pyplot as plt"
      ],
      "metadata": {
        "ExecuteTime": {
          "start_time": "2023-05-01T12:08:59.011772Z",
          "end_time": "2023-05-01T12:08:59.021650Z"
        },
        "id": "2yzMx-MRLrSa"
      }
    },
    {
      "cell_type": "code",
      "source": [
        "\n",
        "from google.colab import files\n",
        "# defining function for saving+downloading the latest figure\n",
        "\n",
        "def download_figure(filename=None, fig=None):\n",
        "  if (filename==None) | (\".png\" not in str(filename)):\n",
        "    filename = \"figure.png\"\n",
        "  if fig==None:\n",
        "    plt.savefig(filename)\n",
        "  else:\n",
        "    fig.savefig(filename)\n",
        "  files.download(filename)"
      ],
      "metadata": {
        "id": "9BJN0ah0vrC4"
      },
      "execution_count": 27,
      "outputs": []
    },
    {
      "cell_type": "code",
      "execution_count": null,
      "outputs": [],
      "source": [
        "# load vocabularies\n",
        "bidecades_vocabs_counts_df = pickle.load(urllib.request.urlopen(\"https://github.com/kasev/mops/raw/master/data/bidecades_vocabs_counts_df.pickle\"))"
      ],
      "metadata": {
        "ExecuteTime": {
          "start_time": "2023-05-01T12:24:36.635474Z",
          "end_time": "2023-05-01T12:24:37.480667Z"
        },
        "id": "fEFMIqbKLrSc"
      }
    },
    {
      "cell_type": "code",
      "execution_count": null,
      "outputs": [],
      "source": [
        "# locally\n",
        "#cooc_dict = pickle.load(open(\"../data/cooc_dict.pickle\", \"rb\")\n",
        "\n",
        "urllib.request.urlretrieve(\"https://github.com/kasev/mops/raw/master/data/cooc_dict.pickle\", \"temp.pickle\")\n",
        "with open(\"temp.pickle\", \"rb\") as f:\n",
        "    cooc_dict = pickle.load(f)"
      ],
      "metadata": {
        "ExecuteTime": {
          "start_time": "2023-05-01T13:28:48.715516Z",
          "end_time": "2023-05-01T13:29:22.346383Z"
        },
        "id": "7mRTR-iXLrSf"
      }
    },
    {
      "cell_type": "code",
      "execution_count": null,
      "outputs": [],
      "source": [
        "# transform the matrcices into dataframes (much more memory consuming...)\n",
        "for bidecade, cooc in cooc_dict.items():\n",
        "    try:\n",
        "        cooc_df = pd.DataFrame(cooc.todense())\n",
        "        cooc_norm_df = cooc_df / cooc_df.max()\n",
        "        cooc_norm_df.columns = bidecades_vocabs_counts_df.index\n",
        "        cooc_norm_df.index = bidecades_vocabs_counts_df.index\n",
        "        cooc_dict[bidecade] = cooc_norm_df\n",
        "    except:\n",
        "        pass"
      ],
      "metadata": {
        "ExecuteTime": {
          "start_time": "2023-05-01T13:30:19.065740Z",
          "end_time": "2023-05-01T13:30:19.856316Z"
        },
        "id": "zw4QX383LrSg"
      }
    },
    {
      "cell_type": "code",
      "execution_count": null,
      "outputs": [
        {
          "output_type": "execute_result",
          "data": {
            "text/plain": [
              "Paul          1.000000\n",
              "epistle       0.055488\n",
              "Apostle       0.035643\n",
              "letter        0.028799\n",
              "apostle       0.028537\n",
              "Jesus         0.012408\n",
              "saint         0.011310\n",
              "write         0.010595\n",
              "use           0.009164\n",
              "say           0.008548\n",
              "life          0.008089\n",
              "Peter         0.008084\n",
              "doctrine      0.007852\n",
              "conception    0.007025\n",
              "view          0.006483\n",
              "act           0.006210\n",
              "thought       0.006088\n",
              "make          0.005838\n",
              "speak         0.005711\n",
              "preach        0.005615\n",
              "Name: Paul, dtype: float64"
            ]
          },
          "metadata": {},
          "execution_count": 5
        }
      ],
      "source": [
        "cooc_dict[\"1900-1919\"][\"Paul\"].sort_values(ascending=False).head(20)"
      ],
      "metadata": {
        "ExecuteTime": {
          "start_time": "2023-05-01T13:33:35.956992Z",
          "end_time": "2023-05-01T13:33:35.978923Z"
        },
        "id": "pyhS-Q65LrSh",
        "outputId": "4148ded5-1d7c-41ab-9dd3-3662ada6912a",
        "colab": {
          "base_uri": "https://localhost:8080/"
        }
      }
    },
    {
      "cell_type": "code",
      "execution_count": null,
      "outputs": [
        {
          "output_type": "execute_result",
          "data": {
            "text/plain": [
              "Paul          1.000000\n",
              "letter        0.052684\n",
              "Apostle       0.025385\n",
              "use           0.021093\n",
              "epistle       0.016693\n",
              "apostle       0.014810\n",
              "say           0.012032\n",
              "write         0.010240\n",
              "theology      0.009905\n",
              "John          0.009842\n",
              "see           0.008296\n",
              "view          0.007742\n",
              "argument      0.007689\n",
              "thought       0.007393\n",
              "speak         0.007334\n",
              "understand    0.006118\n",
              "make          0.006090\n",
              "Siebeck       0.005324\n",
              "Jesus         0.005295\n",
              "argue         0.004876\n",
              "Name: Paul, dtype: float64"
            ]
          },
          "metadata": {},
          "execution_count": 6
        }
      ],
      "source": [
        "cooc_dict[\"1980-1999\"][\"Paul\"].sort_values(ascending=False).head(20)"
      ],
      "metadata": {
        "ExecuteTime": {
          "start_time": "2023-05-01T13:36:32.630435Z",
          "end_time": "2023-05-01T13:36:32.658796Z"
        },
        "id": "yFA6JRL9LrSi",
        "outputId": "1458f80b-117b-48af-8d0d-b044865212ff",
        "colab": {
          "base_uri": "https://localhost:8080/"
        }
      }
    },
    {
      "cell_type": "code",
      "execution_count": null,
      "outputs": [],
      "source": [
        "def return_tfidf_position(key1, key2, bidecade):\n",
        "    position = cooc_dict[bidecade][key1].sort_values(ascending=False).index.get_loc(key2)\n",
        "    return position"
      ],
      "metadata": {
        "ExecuteTime": {
          "start_time": "2023-05-01T13:44:02.046896Z",
          "end_time": "2023-05-01T13:44:02.057162Z"
        },
        "id": "8NNTMWYRLrSj"
      }
    },
    {
      "cell_type": "code",
      "execution_count": null,
      "outputs": [
        {
          "output_type": "execute_result",
          "data": {
            "text/plain": [
              "7"
            ]
          },
          "metadata": {},
          "execution_count": 8
        }
      ],
      "source": [
        "return_tfidf_position(\"Paul\", \"apostle\", \"1940-1959\")"
      ],
      "metadata": {
        "ExecuteTime": {
          "start_time": "2023-05-01T13:44:52.800876Z",
          "end_time": "2023-05-01T13:44:52.834980Z"
        },
        "id": "Du7e79rULrSk",
        "outputId": "2d317e06-03f3-457d-d8c0-e811b4422f5a",
        "colab": {
          "base_uri": "https://localhost:8080/"
        }
      }
    },
    {
      "cell_type": "code",
      "execution_count": null,
      "outputs": [],
      "source": [
        "# development...\n",
        "key1 = \"Paul\"\n",
        "key2 = \"apostle\"\n",
        "positions = []\n",
        "for bidecade in ['1900-1919', '1920-1939', '1940-1959', '1960-1979', '1980-1999',\n",
        " '2000-2019']:\n",
        "    positions.append(return_tfidf_position(key1, key2, bidecade))"
      ],
      "metadata": {
        "ExecuteTime": {
          "start_time": "2023-05-01T13:48:01.710141Z",
          "end_time": "2023-05-01T13:48:01.725339Z"
        },
        "id": "2pZEQlTRLrSl"
      }
    },
    {
      "cell_type": "code",
      "execution_count": null,
      "outputs": [],
      "source": [
        "def position_by_bidecade(key1, key2):\n",
        "    positions = []\n",
        "    for bidecade in ['1900-1919', '1920-1939', '1940-1959', '1960-1979', '1980-1999', '2000-2019']:\n",
        "        positions.append(return_tfidf_position(key1, key2, bidecade))\n",
        "    return positions"
      ],
      "metadata": {
        "ExecuteTime": {
          "start_time": "2023-05-01T13:49:52.139337Z",
          "end_time": "2023-05-01T13:49:52.172898Z"
        },
        "id": "GMWszPWSLrSm"
      }
    },
    {
      "cell_type": "markdown",
      "source": [
        "# Explorations..."
      ],
      "metadata": {
        "id": "erroHPBBMuDt"
      }
    },
    {
      "cell_type": "code",
      "execution_count": null,
      "outputs": [
        {
          "output_type": "execute_result",
          "data": {
            "text/plain": [
              "[843, 3399, 561, 1353, 1925, 698]"
            ]
          },
          "metadata": {},
          "execution_count": 11
        }
      ],
      "source": [
        "position_by_bidecade(\"Paul\", \"judaism\")"
      ],
      "metadata": {
        "ExecuteTime": {
          "start_time": "2023-05-01T13:50:22.782997Z",
          "end_time": "2023-05-01T13:50:22.794439Z"
        },
        "id": "d9Z7G4MMLrSm",
        "outputId": "ad866ebe-a5e8-4ff7-8d95-ba156ea01de8",
        "colab": {
          "base_uri": "https://localhost:8080/"
        }
      }
    },
    {
      "cell_type": "code",
      "execution_count": null,
      "outputs": [
        {
          "output_type": "execute_result",
          "data": {
            "text/plain": [
              "[4, 5, 7, 5, 5, 5]"
            ]
          },
          "metadata": {},
          "execution_count": 12
        }
      ],
      "source": [
        "position_by_bidecade(\"Paul\", \"apostle\")\n"
      ],
      "metadata": {
        "ExecuteTime": {
          "start_time": "2023-05-01T13:54:33.152105Z",
          "end_time": "2023-05-01T13:54:33.179420Z"
        },
        "id": "JaZi8gwWLrSn",
        "outputId": "e8fdb341-9e52-422c-da32-147918359f67",
        "colab": {
          "base_uri": "https://localhost:8080/"
        }
      }
    },
    {
      "cell_type": "code",
      "execution_count": null,
      "outputs": [
        {
          "output_type": "execute_result",
          "data": {
            "text/plain": [
              "[2, 1, 1, 2, 2, 1]"
            ]
          },
          "metadata": {},
          "execution_count": 13
        }
      ],
      "source": [
        "position_by_bidecade(\"Paul\", \"Apostle\")"
      ],
      "metadata": {
        "ExecuteTime": {
          "start_time": "2023-05-01T13:54:43.966231Z",
          "end_time": "2023-05-01T13:54:43.984021Z"
        },
        "id": "cUULaVa4LrSo",
        "outputId": "05df4779-b355-4470-cbcf-f31c450a9e7f",
        "colab": {
          "base_uri": "https://localhost:8080/"
        }
      }
    },
    {
      "cell_type": "code",
      "execution_count": null,
      "outputs": [
        {
          "output_type": "display_data",
          "data": {
            "text/plain": [
              "<IPython.core.display.Javascript object>"
            ],
            "application/javascript": [
              "\n",
              "    async function download(id, filename, size) {\n",
              "      if (!google.colab.kernel.accessAllowed) {\n",
              "        return;\n",
              "      }\n",
              "      const div = document.createElement('div');\n",
              "      const label = document.createElement('label');\n",
              "      label.textContent = `Downloading \"${filename}\": `;\n",
              "      div.appendChild(label);\n",
              "      const progress = document.createElement('progress');\n",
              "      progress.max = size;\n",
              "      div.appendChild(progress);\n",
              "      document.body.appendChild(div);\n",
              "\n",
              "      const buffers = [];\n",
              "      let downloaded = 0;\n",
              "\n",
              "      const channel = await google.colab.kernel.comms.open(id);\n",
              "      // Send a message to notify the kernel that we're ready.\n",
              "      channel.send({})\n",
              "\n",
              "      for await (const message of channel.messages) {\n",
              "        // Send a message to notify the kernel that we're ready.\n",
              "        channel.send({})\n",
              "        if (message.buffers) {\n",
              "          for (const buffer of message.buffers) {\n",
              "            buffers.push(buffer);\n",
              "            downloaded += buffer.byteLength;\n",
              "            progress.value = downloaded;\n",
              "          }\n",
              "        }\n",
              "      }\n",
              "      const blob = new Blob(buffers, {type: 'application/binary'});\n",
              "      const a = document.createElement('a');\n",
              "      a.href = window.URL.createObjectURL(blob);\n",
              "      a.download = filename;\n",
              "      div.appendChild(a);\n",
              "      a.click();\n",
              "      div.remove();\n",
              "    }\n",
              "  "
            ]
          },
          "metadata": {}
        },
        {
          "output_type": "display_data",
          "data": {
            "text/plain": [
              "<IPython.core.display.Javascript object>"
            ],
            "application/javascript": [
              "download(\"download_b8cecb88-8d90-450b-9307-6ecd58fcb4dc\", \"figure.png\", 18382)"
            ]
          },
          "metadata": {}
        },
        {
          "output_type": "display_data",
          "data": {
            "text/plain": [
              "<Figure size 640x480 with 1 Axes>"
            ],
            "image/png": "[encoded data removed]"
          },
          "metadata": {}
        }
      ],
      "source": [
        "plt.plot(position_by_bidecade(\"Paul\", \"Apostle\"))\n",
        "download_figure()"
      ],
      "metadata": {
        "id": "fTr-WMoLLrSp",
        "outputId": "18841809-512e-4460-87d2-4b6860359ed6",
        "colab": {
          "base_uri": "https://localhost:8080/",
          "height": 430
        }
      }
    },
    {
      "cell_type": "code",
      "source": [
        "download_figure()"
      ],
      "metadata": {
        "id": "B_n3OzUPwD_8",
        "outputId": "42b59897-7ed5-4451-f21e-5b5cb2e388d9",
        "colab": {
          "base_uri": "https://localhost:8080/",
          "height": 34
        }
      },
      "execution_count": null,
      "outputs": [
        {
          "output_type": "display_data",
          "data": {
            "text/plain": [
              "<IPython.core.display.Javascript object>"
            ],
            "application/javascript": [
              "\n",
              "    async function download(id, filename, size) {\n",
              "      if (!google.colab.kernel.accessAllowed) {\n",
              "        return;\n",
              "      }\n",
              "      const div = document.createElement('div');\n",
              "      const label = document.createElement('label');\n",
              "      label.textContent = `Downloading \"${filename}\": `;\n",
              "      div.appendChild(label);\n",
              "      const progress = document.createElement('progress');\n",
              "      progress.max = size;\n",
              "      div.appendChild(progress);\n",
              "      document.body.appendChild(div);\n",
              "\n",
              "      const buffers = [];\n",
              "      let downloaded = 0;\n",
              "\n",
              "      const channel = await google.colab.kernel.comms.open(id);\n",
              "      // Send a message to notify the kernel that we're ready.\n",
              "      channel.send({})\n",
              "\n",
              "      for await (const message of channel.messages) {\n",
              "        // Send a message to notify the kernel that we're ready.\n",
              "        channel.send({})\n",
              "        if (message.buffers) {\n",
              "          for (const buffer of message.buffers) {\n",
              "            buffers.push(buffer);\n",
              "            downloaded += buffer.byteLength;\n",
              "            progress.value = downloaded;\n",
              "          }\n",
              "        }\n",
              "      }\n",
              "      const blob = new Blob(buffers, {type: 'application/binary'});\n",
              "      const a = document.createElement('a');\n",
              "      a.href = window.URL.createObjectURL(blob);\n",
              "      a.download = filename;\n",
              "      div.appendChild(a);\n",
              "      a.click();\n",
              "      div.remove();\n",
              "    }\n",
              "  "
            ]
          },
          "metadata": {}
        },
        {
          "output_type": "display_data",
          "data": {
            "text/plain": [
              "<IPython.core.display.Javascript object>"
            ],
            "application/javascript": [
              "download(\"download_96165c3d-246c-44d8-a0a3-ccc87e5eb55e\", \"figure.png\", 2396)"
            ]
          },
          "metadata": {}
        },
        {
          "output_type": "display_data",
          "data": {
            "text/plain": [
              "<Figure size 640x480 with 0 Axes>"
            ]
          },
          "metadata": {}
        }
      ]
    },
    {
      "cell_type": "code",
      "source": [
        "plt.plot(position_by_bidecade(\"Paul\", \"judaism\"))"
      ],
      "metadata": {
        "id": "t42qYXUeM2mn",
        "outputId": "f75dda80-cefb-4eb9-e98d-6e4f837f24df",
        "colab": {
          "base_uri": "https://localhost:8080/",
          "height": 447
        }
      },
      "execution_count": null,
      "outputs": [
        {
          "output_type": "execute_result",
          "data": {
            "text/plain": [
              "[<matplotlib.lines.Line2D at 0x7fb56ea06680>]"
            ]
          },
          "metadata": {},
          "execution_count": 22
        },
        {
          "output_type": "display_data",
          "data": {
            "text/plain": [
              "<Figure size 640x480 with 1 Axes>"
            ],
            "image/png": "[encoded data removed]"
          },
          "metadata": {}
        }
      ]
    },
    {
      "cell_type": "code",
      "source": [
        "plt.plot(position_by_bidecade(\"Paul\", \"saint\"))"
      ],
      "metadata": {
        "id": "RVtBOZQ9M8LN",
        "outputId": "7b05acab-8651-43cd-9034-156a7348bf2f",
        "colab": {
          "base_uri": "https://localhost:8080/",
          "height": 447
        }
      },
      "execution_count": null,
      "outputs": [
        {
          "output_type": "execute_result",
          "data": {
            "text/plain": [
              "[<matplotlib.lines.Line2D at 0x7fb56ea439a0>]"
            ]
          },
          "metadata": {},
          "execution_count": 23
        },
        {
          "output_type": "display_data",
          "data": {
            "text/plain": [
              "<Figure size 640x480 with 1 Axes>"
            ],
            "image/png": "[encoded data removed]"
          },
          "metadata": {}
        }
      ]
    },
    {
      "cell_type": "code",
      "source": [],
      "metadata": {
        "id": "fvWI-jCONDFZ"
      },
      "execution_count": null,
      "outputs": []
    }
  ],
  "metadata": {
    "kernelspec": {
      "name": "mops_venv",
      "language": "python",
      "display_name": "mops_venv"
    },
    "language_info": {
      "codemirror_mode": {
        "name": "ipython",
        "version": 2
      },
      "file_extension": ".py",
      "mimetype": "text/x-python",
      "name": "python",
      "nbconvert_exporter": "python",
      "pygments_lexer": "ipython2",
      "version": "2.7.6"
    },
    "colab": {
      "provenance": [],
      "include_colab_link": true
    }
  },
  "nbformat": 4,
  "nbformat_minor": 0
}