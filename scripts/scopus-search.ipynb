{
 "cells": [
  {
   "cell_type": "markdown",
   "source": [
    "[API documentation](https://dev.elsevier.com/documentation/ScopusSearchAPI.wadl)\n"
   ],
   "metadata": {
    "collapsed": false,
    "pycharm": {
     "name": "#%% md\n"
    }
   }
  },
  {
   "cell_type": "code",
   "execution_count": 77,
   "outputs": [],
   "source": [
    "import requests\n",
    "import pandas as pd\n",
    "import time\n",
    "import pickle\n",
    "import re"
   ],
   "metadata": {
    "collapsed": false,
    "pycharm": {
     "name": "#%%\n"
    }
   }
  },
  {
   "cell_type": "code",
   "execution_count": 3,
   "outputs": [
    {
     "name": "stdout",
     "output_type": "stream",
     "text": [
      "endpoint variable has been configured to: https://sciencedata.dk/files/\n"
     ]
    }
   ],
   "source": [
    "# to communicate with google spreadsheet...\n",
    "import gspread\n",
    "from gspread_dataframe import get_as_dataframe\n",
    "from gspread_dataframe import set_with_dataframe\n",
    "from google.oauth2 import service_account # based on google-auth library\n",
    "import sddk\n",
    "\n",
    "s = sddk.cloudSession(\"sciencedata.dk\")\n",
    "# establish connection with gogglesheets...\n",
    "file_data = s.read_file(\"https://sciencedata.dk/files/ServiceAccountsKey.json\", \"dict\") # or load it from a local storage: json.load(open(\"../../ServiceAccountsKey.json\", \"r\"))\n",
    "credentials = service_account.Credentials.from_service_account_info(file_data)\n",
    "gc = gspread.Client(auth=credentials.with_scopes(['https://spreadsheets.google.com/feeds', 'https://www.googleapis.com/auth/drive']))\n",
    "mops_data = gc.open_by_url(\"https://docs.google.com/spreadsheets/d/1VbCIAJssHKV9hlRTwzVFfm40CGnHesq53KXjv2qy4OM/edit?usp=sharing\")"
   ],
   "metadata": {
    "collapsed": false,
    "pycharm": {
     "name": "#%%\n"
    }
   }
  },
  {
   "cell_type": "code",
   "execution_count": 5,
   "outputs": [],
   "source": [
    "apikey = input(\"go to https://dev.elsevier.com/documentation/ScopusSearchAPI.wadl, generate your API key, copy it and insert it here: \")"
   ],
   "metadata": {
    "collapsed": false,
    "pycharm": {
     "name": "#%%\n"
    }
   }
  },
  {
   "cell_type": "code",
   "execution_count": 6,
   "outputs": [],
   "source": [
    "headers = {\"X-ELS-APIKey\" : apikey}"
   ],
   "metadata": {
    "collapsed": false,
    "pycharm": {
     "name": "#%%\n"
    }
   }
  },
  {
   "cell_type": "code",
   "execution_count": 7,
   "outputs": [
    {
     "name": "stdout",
     "output_type": "stream",
     "text": [
      "https://api.elsevier.com/content/search/scopus?&query=\n"
     ]
    }
   ],
   "source": [
    "\n",
    "api_address = \"https://api.elsevier.com/content/search/scopus?\"\n",
    "base_url = api_address + \"&query=\"\n",
    "print(base_url)"
   ],
   "metadata": {
    "collapsed": false,
    "pycharm": {
     "name": "#%%\n"
    }
   }
  },
  {
   "cell_type": "code",
   "execution_count": 8,
   "outputs": [
    {
     "data": {
      "text/plain": "'https://api.elsevier.com/content/search/scopus?&query=religion'"
     },
     "execution_count": 8,
     "metadata": {},
     "output_type": "execute_result"
    }
   ],
   "source": [
    "query = \"religion\"\n",
    "base_url + query"
   ],
   "metadata": {
    "collapsed": false,
    "pycharm": {
     "name": "#%%\n"
    }
   }
  },
  {
   "cell_type": "code",
   "execution_count": 9,
   "outputs": [
    {
     "data": {
      "text/plain": "'635772'"
     },
     "execution_count": 9,
     "metadata": {},
     "output_type": "execute_result"
    }
   ],
   "source": [
    "requests.get(base_url + query, headers=headers).json()[\"search-results\"][\"opensearch:totalResults\"]"
   ],
   "metadata": {
    "collapsed": false,
    "pycharm": {
     "name": "#%%\n"
    }
   }
  },
  {
   "cell_type": "code",
   "execution_count": 10,
   "outputs": [
    {
     "data": {
      "text/plain": "'522'"
     },
     "execution_count": 10,
     "metadata": {},
     "output_type": "execute_result"
    }
   ],
   "source": [
    "query= \"TITLE-ABS-KEY ( \\\"Paul the Apostle\\\"  OR  \\\"Apostle Paul\\\"  OR  \\\"Paul of Tarsus\\\"  OR  \\\"Pauline liter\\\" )\"\n",
    "resp = requests.get(base_url + query, headers=headers)\n",
    "resp.json()[\"search-results\"][\"opensearch:totalResults\"]"
   ],
   "metadata": {
    "collapsed": false,
    "pycharm": {
     "name": "#%%\n"
    }
   }
  },
  {
   "cell_type": "code",
   "execution_count": 11,
   "outputs": [
    {
     "data": {
      "text/plain": "'1075'"
     },
     "execution_count": 11,
     "metadata": {},
     "output_type": "execute_result"
    }
   ],
   "source": [
    "query= 'TITLE-ABS-KEY ( \"Paul the Apostle\"  OR  \"Apostle Paul\"  OR  \"Paul of Tarsus\"  OR  \"Pauline literature\"  OR  \"Paul\\'s epistles\"  OR  \"Paul\\'s letters\"  OR  \"letters of Paul\" )'\n",
    "resp = requests.get(base_url + query, headers=headers)\n",
    "resp.json()[\"search-results\"][\"opensearch:totalResults\"]"
   ],
   "metadata": {
    "collapsed": false,
    "pycharm": {
     "name": "#%%\n"
    }
   }
  },
  {
   "cell_type": "code",
   "execution_count": 12,
   "outputs": [
    {
     "name": "stdout",
     "output_type": "stream",
     "text": [
      "TITLE ( \"paul the apostle\")\n",
      "ABS ( \"paul the apostle\")\n",
      "KEY ( \"paul the apostle\")\n",
      "TITLE ( \"apostle paul\")\n",
      "ABS ( \"apostle paul\")\n",
      "KEY ( \"apostle paul\")\n",
      "TITLE ( \"paul of tarsus\")\n",
      "ABS ( \"paul of tarsus\")\n",
      "KEY ( \"paul of tarsus\")\n",
      "TITLE ( \"pauline literature\")\n",
      "ABS ( \"pauline literature\")\n",
      "KEY ( \"pauline literature\")\n",
      "TITLE ( \"paul's epistle\")\n",
      "ABS ( \"paul's epistle\")\n",
      "KEY ( \"paul's epistle\")\n",
      "TITLE ( \"Paul's letter\")\n",
      "ABS ( \"Paul's letter\")\n",
      "KEY ( \"Paul's letter\")\n",
      "TITLE ( \"letter of Paul\")\n",
      "ABS ( \"letter of Paul\")\n",
      "KEY ( \"letter of Paul\")\n",
      "TITLE ( \"epistle of paul\")\n",
      "ABS ( \"epistle of paul\")\n",
      "KEY ( \"epistle of paul\")\n"
     ]
    }
   ],
   "source": [
    "phrases_data = []\n",
    "phrases = [\"paul the apostle\",\n",
    "           \"apostle paul\",\n",
    "           \"paul of tarsus\",\n",
    "           \"pauline literature\",\n",
    "           \"paul\\'s epistle\",\n",
    "           \"Paul\\'s letter\",\n",
    "           \"letter of Paul\",\n",
    "           \"epistle of paul\"]\n",
    "\n",
    "for phrase in phrases:\n",
    "    cats_data = {}\n",
    "    cats_data[\"phrase\"] = phrase\n",
    "    for cat in [\"TITLE\", \"ABS\", \"KEY\"]:\n",
    "        query = cat + \" ( \\\"{0}\\\")\".format(phrase)\n",
    "        print(query)\n",
    "        resp = requests.get(base_url + query, headers=headers)\n",
    "        cats_data[cat] = resp.json()[\"search-results\"][\"opensearch:totalResults\"]\n",
    "    phrases_data.append(cats_data)"
   ],
   "metadata": {
    "collapsed": false,
    "pycharm": {
     "name": "#%%\n"
    }
   }
  },
  {
   "cell_type": "code",
   "execution_count": 13,
   "outputs": [
    {
     "data": {
      "text/plain": "               phrase TITLE  ABS KEY\n0    paul the apostle    16   45  25\n1        apostle paul    84  308  67\n2      paul of tarsus    15   37  19\n3  pauline literature     3   13  12\n4      paul's epistle    28   67   4\n5       Paul's letter   102  280  25\n6      letter of Paul    37   73   7\n7     epistle of paul     0   26   3",
      "text/html": "<div>\n<style scoped>\n    .dataframe tbody tr th:only-of-type {\n        vertical-align: middle;\n    }\n\n    .dataframe tbody tr th {\n        vertical-align: top;\n    }\n\n    .dataframe thead th {\n        text-align: right;\n    }\n</style>\n<table border=\"1\" class=\"dataframe\">\n  <thead>\n    <tr style=\"text-align: right;\">\n      <th></th>\n      <th>phrase</th>\n      <th>TITLE</th>\n      <th>ABS</th>\n      <th>KEY</th>\n    </tr>\n  </thead>\n  <tbody>\n    <tr>\n      <th>0</th>\n      <td>paul the apostle</td>\n      <td>16</td>\n      <td>45</td>\n      <td>25</td>\n    </tr>\n    <tr>\n      <th>1</th>\n      <td>apostle paul</td>\n      <td>84</td>\n      <td>308</td>\n      <td>67</td>\n    </tr>\n    <tr>\n      <th>2</th>\n      <td>paul of tarsus</td>\n      <td>15</td>\n      <td>37</td>\n      <td>19</td>\n    </tr>\n    <tr>\n      <th>3</th>\n      <td>pauline literature</td>\n      <td>3</td>\n      <td>13</td>\n      <td>12</td>\n    </tr>\n    <tr>\n      <th>4</th>\n      <td>paul's epistle</td>\n      <td>28</td>\n      <td>67</td>\n      <td>4</td>\n    </tr>\n    <tr>\n      <th>5</th>\n      <td>Paul's letter</td>\n      <td>102</td>\n      <td>280</td>\n      <td>25</td>\n    </tr>\n    <tr>\n      <th>6</th>\n      <td>letter of Paul</td>\n      <td>37</td>\n      <td>73</td>\n      <td>7</td>\n    </tr>\n    <tr>\n      <th>7</th>\n      <td>epistle of paul</td>\n      <td>0</td>\n      <td>26</td>\n      <td>3</td>\n    </tr>\n  </tbody>\n</table>\n</div>"
     },
     "execution_count": 13,
     "metadata": {},
     "output_type": "execute_result"
    }
   ],
   "source": [
    "scopus_phrases_overview = pd.DataFrame(phrases_data)\n",
    "scopus_phrases_overview"
   ],
   "metadata": {
    "collapsed": false,
    "pycharm": {
     "name": "#%%\n"
    }
   }
  },
  {
   "cell_type": "code",
   "execution_count": null,
   "outputs": [],
   "source": [
    "set_with_dataframe(mops_data.add_worksheet(\"scopus_phrases_overview\", 1,1), scopus_phrases_overview)"
   ],
   "metadata": {
    "collapsed": false,
    "pycharm": {
     "name": "#%%\n"
    }
   }
  },
  {
   "cell_type": "code",
   "execution_count": 14,
   "outputs": [
    {
     "name": "stdout",
     "output_type": "stream",
     "text": [
      "(\"paul the apostle\") OR (\"apostle paul\") OR (\"paul of tarsus\") OR (\"pauline literature\") OR (\"paul's epistle\") OR (\"Paul's letter\") OR (\"letter of Paul\") OR (\"epistle of paul\")\n"
     ]
    }
   ],
   "source": [
    "phrases_combined = \"(\\\"\" + \"\\\") OR (\\\"\".join(phrases) + \"\\\")\"\n",
    "print(phrases_combined)"
   ],
   "metadata": {
    "collapsed": false,
    "pycharm": {
     "name": "#%%\n"
    }
   }
  },
  {
   "cell_type": "code",
   "execution_count": 19,
   "outputs": [],
   "source": [
    "query = \"TITLE-ABS-KEY (\" + phrases_combined + \" )\"\n",
    "resp = requests.get(base_url + query, headers=headers)\n",
    "resp_json = resp.json()"
   ],
   "metadata": {
    "collapsed": false,
    "pycharm": {
     "name": "#%%\n"
    }
   }
  },
  {
   "cell_type": "code",
   "execution_count": 20,
   "outputs": [],
   "source": [
    "items = resp_json[\"search-results\"][\"opensearch:totalResults\"]\n",
    "pagelength = resp_json[\"search-results\"][\"opensearch:itemsPerPage\"]\n",
    "entries = resp_json[\"search-results\"][\"entry\"]"
   ],
   "metadata": {
    "collapsed": false,
    "pycharm": {
     "name": "#%%\n"
    }
   }
  },
  {
   "cell_type": "code",
   "execution_count": 21,
   "outputs": [
    {
     "name": "stdout",
     "output_type": "stream",
     "text": [
      "[0, 25, 50, 75, 100, 125, 150, 175, 200, 225, 250, 275, 300, 325, 350, 375, 400, 425, 450, 475, 500, 525, 550, 575, 600, 625, 650, 675, 700, 725, 750, 775, 800, 825, 850, 875, 900, 925, 950, 975, 1000, 1025, 1050, 1075, 1100]\n"
     ]
    }
   ],
   "source": [
    "indices = list(range(0, int(items), int(pagelength)))\n",
    "print(indices)"
   ],
   "metadata": {
    "collapsed": false,
    "pycharm": {
     "name": "#%%\n"
    }
   }
  },
  {
   "cell_type": "code",
   "execution_count": 72,
   "outputs": [],
   "source": [
    "entries = []\n",
    "for i in indices:\n",
    "    resp = requests.get(base_url + query + \"&start={0}\".format(str(i)) + \"&view=COMPLETE\", headers=headers)\n",
    "    resp_json = resp.json()\n",
    "    entry = resp_json[\"search-results\"][\"entry\"]\n",
    "    entries.extend(entry)"
   ],
   "metadata": {
    "collapsed": false,
    "pycharm": {
     "name": "#%%\n"
    }
   }
  },
  {
   "cell_type": "code",
   "execution_count": 73,
   "outputs": [],
   "source": [
    "pickle.dump(entries, open(\"../data/entries_v3.pkl\", \"wb\"))"
   ],
   "metadata": {
    "collapsed": false,
    "pycharm": {
     "name": "#%%\n"
    }
   }
  },
  {
   "cell_type": "markdown",
   "source": [
    "# working with raw entries"
   ],
   "metadata": {
    "collapsed": false,
    "pycharm": {
     "name": "#%% md\n"
    }
   }
  },
  {
   "cell_type": "code",
   "execution_count": 28,
   "outputs": [],
   "source": [
    "#entries = pickle.load(open(\"../data/entries_v1.pkl\", \"rb\"))"
   ],
   "metadata": {
    "collapsed": false,
    "pycharm": {
     "name": "#%%\n"
    }
   }
  },
  {
   "cell_type": "code",
   "execution_count": 94,
   "outputs": [],
   "source": [
    "entries_df = pd.DataFrame(entries)"
   ],
   "metadata": {
    "collapsed": false,
    "pycharm": {
     "name": "#%%\n"
    }
   }
  },
  {
   "cell_type": "code",
   "execution_count": 95,
   "outputs": [
    {
     "data": {
      "text/plain": "   @_fa                                               link  \\\n0  true  [{'@_fa': 'true', '@ref': 'self', '@href': 'ht...   \n1  true  [{'@_fa': 'true', '@ref': 'self', '@href': 'ht...   \n2  true  [{'@_fa': 'true', '@ref': 'self', '@href': 'ht...   \n3  true  [{'@_fa': 'true', '@ref': 'self', '@href': 'ht...   \n4  true  [{'@_fa': 'true', '@ref': 'self', '@href': 'ht...   \n\n                                           prism:url          dc:identifier  \\\n0  https://api.elsevier.com/content/abstract/scop...  SCOPUS_ID:85133680470   \n1  https://api.elsevier.com/content/abstract/scop...  SCOPUS_ID:85132346905   \n2  https://api.elsevier.com/content/abstract/scop...  SCOPUS_ID:85132445095   \n3  https://api.elsevier.com/content/abstract/scop...  SCOPUS_ID:85130551837   \n4  https://api.elsevier.com/content/abstract/scop...  SCOPUS_ID:85125526138   \n\n                  eid                                           dc:title  \\\n0  2-s2.0-85133680470                     An Unwonted Hagiographic Topos   \n1  2-s2.0-85132346905         Grounded Hope in God: Epiphany and Promise   \n2  2-s2.0-85132445095  Nosque Filio in haereditatem a Deo patre donam...   \n3  2-s2.0-85130551837  Recasting Paul as a Chauvinist within the West...   \n4  2-s2.0-85125526138  Cruciform Onesimus? Considering How a Slave Wo...   \n\n      dc:creator prism:publicationName prism:eIssn prism:volume  ...  \\\n0       Boicu D.             Religions    20771444           13  ...   \n1     Moser P.K.        Theology Today    20442556           79  ...   \n2  Alba López A.    Scripta Theologica    22546227           54  ...   \n3  Wilson J.A.P.             Religions    20771444           13  ...   \n4       Gupta N.      Expository Times    17455308          133  ...   \n\n  openaccess openaccessFlag  \\\n0          1           True   \n1          0          False   \n2          1           True   \n3          1           True   \n4          0          False   \n\n                                          freetoread  \\\n0  {'value': [{'$': 'all'}, {'$': 'publisherfullg...   \n1                                                NaN   \n2  {'value': [{'$': 'all'}, {'$': 'publisherhybri...   \n3  {'value': [{'$': 'all'}, {'$': 'publisherfullg...   \n4                                                NaN   \n\n                                     freetoreadLabel prism:issn  pii fund-acr  \\\n0  {'value': [{'$': 'All Open Access'}, {'$': 'Go...        NaN  NaN      NaN   \n1                                                NaN   00405736  NaN      NaN   \n2  {'value': [{'$': 'All Open Access'}, {'$': 'Hy...   00369764  NaN      NaN   \n3  {'value': [{'$': 'All Open Access'}, {'$': 'Go...        NaN  NaN      NaN   \n4                                                NaN   00145246  NaN      NaN   \n\n  fund-sponsor prism:isbn pubmed-id  \n0          NaN        NaN       NaN  \n1          NaN        NaN       NaN  \n2          NaN        NaN       NaN  \n3          NaN        NaN       NaN  \n4          NaN        NaN       NaN  \n\n[5 rows x 37 columns]",
      "text/html": "<div>\n<style scoped>\n    .dataframe tbody tr th:only-of-type {\n        vertical-align: middle;\n    }\n\n    .dataframe tbody tr th {\n        vertical-align: top;\n    }\n\n    .dataframe thead th {\n        text-align: right;\n    }\n</style>\n<table border=\"1\" class=\"dataframe\">\n  <thead>\n    <tr style=\"text-align: right;\">\n      <th></th>\n      <th>@_fa</th>\n      <th>link</th>\n      <th>prism:url</th>\n      <th>dc:identifier</th>\n      <th>eid</th>\n      <th>dc:title</th>\n      <th>dc:creator</th>\n      <th>prism:publicationName</th>\n      <th>prism:eIssn</th>\n      <th>prism:volume</th>\n      <th>...</th>\n      <th>openaccess</th>\n      <th>openaccessFlag</th>\n      <th>freetoread</th>\n      <th>freetoreadLabel</th>\n      <th>prism:issn</th>\n      <th>pii</th>\n      <th>fund-acr</th>\n      <th>fund-sponsor</th>\n      <th>prism:isbn</th>\n      <th>pubmed-id</th>\n    </tr>\n  </thead>\n  <tbody>\n    <tr>\n      <th>0</th>\n      <td>true</td>\n      <td>[{'@_fa': 'true', '@ref': 'self', '@href': 'ht...</td>\n      <td>https://api.elsevier.com/content/abstract/scop...</td>\n      <td>SCOPUS_ID:85133680470</td>\n      <td>2-s2.0-85133680470</td>\n      <td>An Unwonted Hagiographic Topos</td>\n      <td>Boicu D.</td>\n      <td>Religions</td>\n      <td>20771444</td>\n      <td>13</td>\n      <td>...</td>\n      <td>1</td>\n      <td>True</td>\n      <td>{'value': [{'$': 'all'}, {'$': 'publisherfullg...</td>\n      <td>{'value': [{'$': 'All Open Access'}, {'$': 'Go...</td>\n      <td>NaN</td>\n      <td>NaN</td>\n      <td>NaN</td>\n      <td>NaN</td>\n      <td>NaN</td>\n      <td>NaN</td>\n    </tr>\n    <tr>\n      <th>1</th>\n      <td>true</td>\n      <td>[{'@_fa': 'true', '@ref': 'self', '@href': 'ht...</td>\n      <td>https://api.elsevier.com/content/abstract/scop...</td>\n      <td>SCOPUS_ID:85132346905</td>\n      <td>2-s2.0-85132346905</td>\n      <td>Grounded Hope in God: Epiphany and Promise</td>\n      <td>Moser P.K.</td>\n      <td>Theology Today</td>\n      <td>20442556</td>\n      <td>79</td>\n      <td>...</td>\n      <td>0</td>\n      <td>False</td>\n      <td>NaN</td>\n      <td>NaN</td>\n      <td>00405736</td>\n      <td>NaN</td>\n      <td>NaN</td>\n      <td>NaN</td>\n      <td>NaN</td>\n      <td>NaN</td>\n    </tr>\n    <tr>\n      <th>2</th>\n      <td>true</td>\n      <td>[{'@_fa': 'true', '@ref': 'self', '@href': 'ht...</td>\n      <td>https://api.elsevier.com/content/abstract/scop...</td>\n      <td>SCOPUS_ID:85132445095</td>\n      <td>2-s2.0-85132445095</td>\n      <td>Nosque Filio in haereditatem a Deo patre donam...</td>\n      <td>Alba López A.</td>\n      <td>Scripta Theologica</td>\n      <td>22546227</td>\n      <td>54</td>\n      <td>...</td>\n      <td>1</td>\n      <td>True</td>\n      <td>{'value': [{'$': 'all'}, {'$': 'publisherhybri...</td>\n      <td>{'value': [{'$': 'All Open Access'}, {'$': 'Hy...</td>\n      <td>00369764</td>\n      <td>NaN</td>\n      <td>NaN</td>\n      <td>NaN</td>\n      <td>NaN</td>\n      <td>NaN</td>\n    </tr>\n    <tr>\n      <th>3</th>\n      <td>true</td>\n      <td>[{'@_fa': 'true', '@ref': 'self', '@href': 'ht...</td>\n      <td>https://api.elsevier.com/content/abstract/scop...</td>\n      <td>SCOPUS_ID:85130551837</td>\n      <td>2-s2.0-85130551837</td>\n      <td>Recasting Paul as a Chauvinist within the West...</td>\n      <td>Wilson J.A.P.</td>\n      <td>Religions</td>\n      <td>20771444</td>\n      <td>13</td>\n      <td>...</td>\n      <td>1</td>\n      <td>True</td>\n      <td>{'value': [{'$': 'all'}, {'$': 'publisherfullg...</td>\n      <td>{'value': [{'$': 'All Open Access'}, {'$': 'Go...</td>\n      <td>NaN</td>\n      <td>NaN</td>\n      <td>NaN</td>\n      <td>NaN</td>\n      <td>NaN</td>\n      <td>NaN</td>\n    </tr>\n    <tr>\n      <th>4</th>\n      <td>true</td>\n      <td>[{'@_fa': 'true', '@ref': 'self', '@href': 'ht...</td>\n      <td>https://api.elsevier.com/content/abstract/scop...</td>\n      <td>SCOPUS_ID:85125526138</td>\n      <td>2-s2.0-85125526138</td>\n      <td>Cruciform Onesimus? Considering How a Slave Wo...</td>\n      <td>Gupta N.</td>\n      <td>Expository Times</td>\n      <td>17455308</td>\n      <td>133</td>\n      <td>...</td>\n      <td>0</td>\n      <td>False</td>\n      <td>NaN</td>\n      <td>NaN</td>\n      <td>00145246</td>\n      <td>NaN</td>\n      <td>NaN</td>\n      <td>NaN</td>\n      <td>NaN</td>\n      <td>NaN</td>\n    </tr>\n  </tbody>\n</table>\n<p>5 rows × 37 columns</p>\n</div>"
     },
     "execution_count": 95,
     "metadata": {},
     "output_type": "execute_result"
    }
   ],
   "source": [
    "entries_df.head(5)"
   ],
   "metadata": {
    "collapsed": false,
    "pycharm": {
     "name": "#%%\n"
    }
   }
  },
  {
   "cell_type": "code",
   "execution_count": 96,
   "outputs": [],
   "source": [
    "entries_df.drop(columns=['@_fa', 'link', 'freetoread', 'freetoreadLabel'], inplace=True)"
   ],
   "metadata": {
    "collapsed": false,
    "pycharm": {
     "name": "#%%\n"
    }
   }
  },
  {
   "cell_type": "code",
   "execution_count": 99,
   "outputs": [],
   "source": [
    "entries_df['author-count'] = entries_df['author-count'].apply(lambda x: int(x[\"@total\"]))"
   ],
   "metadata": {
    "collapsed": false,
    "pycharm": {
     "name": "#%%\n"
    }
   }
  },
  {
   "cell_type": "code",
   "execution_count": 105,
   "outputs": [],
   "source": [
    "def extract_affiliation_names(x):\n",
    "    try:\n",
    "        return [el[\"affilname\"] for el in x]\n",
    "    except:\n",
    "        []\n",
    "entries_df[\"affiliation_simple\"] = entries_df[\"affiliation\"].apply(extract_affiliation_names)"
   ],
   "metadata": {
    "collapsed": false,
    "pycharm": {
     "name": "#%%\n"
    }
   }
  },
  {
   "cell_type": "code",
   "execution_count": 106,
   "outputs": [],
   "source": [
    "set_with_dataframe(mops_data.add_worksheet(\"entries_df_v3\", 1,1), entries_df)"
   ],
   "metadata": {
    "collapsed": false,
    "pycharm": {
     "name": "#%%\n"
    }
   }
  },
  {
   "cell_type": "code",
   "execution_count": 107,
   "outputs": [
    {
     "data": {
      "text/plain": "Index(['prism:url', 'dc:identifier', 'eid', 'dc:title', 'dc:creator',\n       'prism:publicationName', 'prism:eIssn', 'prism:volume',\n       'prism:issueIdentifier', 'prism:pageRange', 'prism:coverDate',\n       'prism:coverDisplayDate', 'prism:doi', 'dc:description',\n       'citedby-count', 'affiliation', 'prism:aggregationType', 'subtype',\n       'subtypeDescription', 'author-count', 'author', 'authkeywords',\n       'article-number', 'source-id', 'fund-no', 'openaccess',\n       'openaccessFlag', 'prism:issn', 'pii', 'fund-acr', 'fund-sponsor',\n       'prism:isbn', 'pubmed-id', 'affiliation_simple'],\n      dtype='object')"
     },
     "execution_count": 107,
     "metadata": {},
     "output_type": "execute_result"
    }
   ],
   "source": [
    "entries_df.columns"
   ],
   "metadata": {
    "collapsed": false,
    "pycharm": {
     "name": "#%%\n"
    }
   }
  },
  {
   "cell_type": "markdown",
   "source": [
    "* 'dc:title' - title\n",
    "* 'dc:creator' - author\n",
    "* 'prism:publicationName' - name of the journal or of an volume\n",
    "* 'prism:coverDate' - date of publication\n",
    "* 'dc:description' - abstract\n",
    "* 'subtypeDescription' - type of the entry (i,e, either Article or book chapter etc...)\n",
    "* 'author-count' - number of authors\n",
    "* 'author' - nested data containing additional information about all authors -> needs to be explored in more detail\n",
    "* 'affiliation_simple' - a list of all mentioned affiliations"
   ],
   "metadata": {
    "collapsed": false,
    "pycharm": {
     "name": "#%% md\n"
    }
   }
  },
  {
   "cell_type": "markdown",
   "source": [
    "entries_df.columns\n"
   ],
   "metadata": {
    "collapsed": false,
    "pycharm": {
     "name": "#%% md\n"
    }
   }
  },
  {
   "cell_type": "code",
   "execution_count": null,
   "outputs": [],
   "source": [
    "entries_df.columns\n"
   ],
   "metadata": {
    "collapsed": false,
    "pycharm": {
     "name": "#%%\n"
    }
   }
  },
  {
   "cell_type": "markdown",
   "source": [
    "# Simple explorations"
   ],
   "metadata": {
    "collapsed": false,
    "pycharm": {
     "name": "#%% md\n"
    }
   }
  },
  {
   "cell_type": "code",
   "execution_count": 108,
   "outputs": [
    {
     "data": {
      "text/plain": "                                              prism:url  \\\n10    https://api.elsevier.com/content/abstract/scop...   \n24    https://api.elsevier.com/content/abstract/scop...   \n55    https://api.elsevier.com/content/abstract/scop...   \n82    https://api.elsevier.com/content/abstract/scop...   \n89    https://api.elsevier.com/content/abstract/scop...   \n...                                                 ...   \n1039  https://api.elsevier.com/content/abstract/scop...   \n1045  https://api.elsevier.com/content/abstract/scop...   \n1064  https://api.elsevier.com/content/abstract/scop...   \n1066  https://api.elsevier.com/content/abstract/scop...   \n1071  https://api.elsevier.com/content/abstract/scop...   \n\n              dc:identifier                 eid  \\\n10    SCOPUS_ID:85126848614  2-s2.0-85126848614   \n24    SCOPUS_ID:85127816783  2-s2.0-85127816783   \n55    SCOPUS_ID:85099398166  2-s2.0-85099398166   \n82    SCOPUS_ID:85111726701  2-s2.0-85111726701   \n89    SCOPUS_ID:85105631267  2-s2.0-85105631267   \n...                     ...                 ...   \n1039   SCOPUS_ID:1542463682   2-s2.0-1542463682   \n1045  SCOPUS_ID:84953959083  2-s2.0-84953959083   \n1064   SCOPUS_ID:0020629376   2-s2.0-0020629376   \n1066   SCOPUS_ID:0020051029   2-s2.0-0020051029   \n1071  SCOPUS_ID:84952511773  2-s2.0-84952511773   \n\n                                               dc:title       dc:creator  \\\n10    Discourse-Rhetorical Strategies of Pauline Epi...     Chidume S.N.   \n24    Saint Paul’s Thorn in the Flesh: a Dermatologi...     Pascual A.M.   \n55    How could the spirit not be secular? Dialogue ...        Rohmer C.   \n82    Onesimus, philemon’s runaway slave boy: A brie...       Manus C.U.   \n89    Jesus as a socially (ir)responsible innovator:...         Woods C.   \n...                                                 ...              ...   \n1039  The ethic of caring: the moral response to suf...      Hitchens E.   \n1045  Testimonium spiritus sancti—an example of bern...  Bell T.M.M.A.C.   \n1064                       Teaching Humanistic Medicine    Taegtmeyer H.   \n1066  Death after trauma involving the maxillofacial...   Zachariades N.   \n1071  Saint paul and divorce: Divorce counseling for...      Barnhart J.   \n\n                             prism:publicationName prism:eIssn prism:volume  \\\n10                                       SAGE Open    21582440           12   \n24                               Scientia et Fides    23535636           10   \n55              Etudes Theologiques et Religieuses    22729011           95   \n82    HTS Teologiese Studies / Theological Studies    20728050           77   \n89        International Journal of Public Theology    15697320           15   \n...                                            ...         ...          ...   \n1039                    Christian scholar's review         NaN           23   \n1045                                     Bijdragen         NaN           53   \n1064               New England Journal of Medicine    15334406          309   \n1066              Journal of Maxillofacial Surgery         NaN           10   \n1071                            Journal of Divorce         NaN            1   \n\n     prism:issueIdentifier prism:pageRange  ...    fund-no openaccess  \\\n10                       1            None  ...  undefined          1   \n24                       1            9-27  ...  undefined          1   \n55                       4         625-644  ...  undefined          0   \n82                       1            None  ...  undefined          1   \n89                       1         118-142  ...  undefined          0   \n...                    ...             ...  ...        ...        ...   \n1039                     3         307-317  ...  undefined          0   \n1045                     1           62-72  ...  undefined          0   \n1064                    14         860-862  ...  undefined          0   \n1066                     C         123-125  ...  undefined          0   \n1071                     2         141-151  ...  undefined          0   \n\n     openaccessFlag prism:issn                pii fund-acr fund-sponsor  \\\n10             True        NaN                NaN      NaN          NaN   \n24             True   23007648                NaN      NaN          NaN   \n55            False   00142239                NaN      NaN          NaN   \n82             True   02599422                NaN      NaN          NaN   \n89            False   18725171                NaN      NaN          NaN   \n...             ...        ...                ...      ...          ...   \n1039          False   00172251                NaN      NaN          NaN   \n1045          False   00062278                NaN      NaN          NaN   \n1064          False   00284793                NaN      NaN          NaN   \n1066          False   03010503  S0301050382800246      NaN          NaN   \n1071          False   01474022                NaN      NaN          NaN   \n\n     prism:isbn pubmed-id                                 affiliation_simple  \n10          NaN       NaN                            [University of Nigeria]  \n24          NaN       NaN  [Hospital Universitari de Bellvitge, Universid...  \n55          NaN       NaN                           [Faculté de Montpellier]  \n82          NaN       NaN  [University of Pretoria, National University o...  \n89          NaN       NaN  [The University of Auckland Business School, F...  \n...         ...       ...                                                ...  \n1039        NaN  14628772                       [Seattle Pacific University]  \n1045        NaN       NaN  [Universiteit van Amsterdam, Dutch Luther Cons...  \n1064        NaN   6888478  [University of Texas Health Science Center at ...  \n1066        NaN   6954224                                     [KAT Hospital]  \n1071        NaN       NaN                        [University of North Texas]  \n\n[77 rows x 34 columns]",
      "text/html": "<div>\n<style scoped>\n    .dataframe tbody tr th:only-of-type {\n        vertical-align: middle;\n    }\n\n    .dataframe tbody tr th {\n        vertical-align: top;\n    }\n\n    .dataframe thead th {\n        text-align: right;\n    }\n</style>\n<table border=\"1\" class=\"dataframe\">\n  <thead>\n    <tr style=\"text-align: right;\">\n      <th></th>\n      <th>prism:url</th>\n      <th>dc:identifier</th>\n      <th>eid</th>\n      <th>dc:title</th>\n      <th>dc:creator</th>\n      <th>prism:publicationName</th>\n      <th>prism:eIssn</th>\n      <th>prism:volume</th>\n      <th>prism:issueIdentifier</th>\n      <th>prism:pageRange</th>\n      <th>...</th>\n      <th>fund-no</th>\n      <th>openaccess</th>\n      <th>openaccessFlag</th>\n      <th>prism:issn</th>\n      <th>pii</th>\n      <th>fund-acr</th>\n      <th>fund-sponsor</th>\n      <th>prism:isbn</th>\n      <th>pubmed-id</th>\n      <th>affiliation_simple</th>\n    </tr>\n  </thead>\n  <tbody>\n    <tr>\n      <th>10</th>\n      <td>https://api.elsevier.com/content/abstract/scop...</td>\n      <td>SCOPUS_ID:85126848614</td>\n      <td>2-s2.0-85126848614</td>\n      <td>Discourse-Rhetorical Strategies of Pauline Epi...</td>\n      <td>Chidume S.N.</td>\n      <td>SAGE Open</td>\n      <td>21582440</td>\n      <td>12</td>\n      <td>1</td>\n      <td>None</td>\n      <td>...</td>\n      <td>undefined</td>\n      <td>1</td>\n      <td>True</td>\n      <td>NaN</td>\n      <td>NaN</td>\n      <td>NaN</td>\n      <td>NaN</td>\n      <td>NaN</td>\n      <td>NaN</td>\n      <td>[University of Nigeria]</td>\n    </tr>\n    <tr>\n      <th>24</th>\n      <td>https://api.elsevier.com/content/abstract/scop...</td>\n      <td>SCOPUS_ID:85127816783</td>\n      <td>2-s2.0-85127816783</td>\n      <td>Saint Paul’s Thorn in the Flesh: a Dermatologi...</td>\n      <td>Pascual A.M.</td>\n      <td>Scientia et Fides</td>\n      <td>23535636</td>\n      <td>10</td>\n      <td>1</td>\n      <td>9-27</td>\n      <td>...</td>\n      <td>undefined</td>\n      <td>1</td>\n      <td>True</td>\n      <td>23007648</td>\n      <td>NaN</td>\n      <td>NaN</td>\n      <td>NaN</td>\n      <td>NaN</td>\n      <td>NaN</td>\n      <td>[Hospital Universitari de Bellvitge, Universid...</td>\n    </tr>\n    <tr>\n      <th>55</th>\n      <td>https://api.elsevier.com/content/abstract/scop...</td>\n      <td>SCOPUS_ID:85099398166</td>\n      <td>2-s2.0-85099398166</td>\n      <td>How could the spirit not be secular? Dialogue ...</td>\n      <td>Rohmer C.</td>\n      <td>Etudes Theologiques et Religieuses</td>\n      <td>22729011</td>\n      <td>95</td>\n      <td>4</td>\n      <td>625-644</td>\n      <td>...</td>\n      <td>undefined</td>\n      <td>0</td>\n      <td>False</td>\n      <td>00142239</td>\n      <td>NaN</td>\n      <td>NaN</td>\n      <td>NaN</td>\n      <td>NaN</td>\n      <td>NaN</td>\n      <td>[Faculté de Montpellier]</td>\n    </tr>\n    <tr>\n      <th>82</th>\n      <td>https://api.elsevier.com/content/abstract/scop...</td>\n      <td>SCOPUS_ID:85111726701</td>\n      <td>2-s2.0-85111726701</td>\n      <td>Onesimus, philemon’s runaway slave boy: A brie...</td>\n      <td>Manus C.U.</td>\n      <td>HTS Teologiese Studies / Theological Studies</td>\n      <td>20728050</td>\n      <td>77</td>\n      <td>1</td>\n      <td>None</td>\n      <td>...</td>\n      <td>undefined</td>\n      <td>1</td>\n      <td>True</td>\n      <td>02599422</td>\n      <td>NaN</td>\n      <td>NaN</td>\n      <td>NaN</td>\n      <td>NaN</td>\n      <td>NaN</td>\n      <td>[University of Pretoria, National University o...</td>\n    </tr>\n    <tr>\n      <th>89</th>\n      <td>https://api.elsevier.com/content/abstract/scop...</td>\n      <td>SCOPUS_ID:85105631267</td>\n      <td>2-s2.0-85105631267</td>\n      <td>Jesus as a socially (ir)responsible innovator:...</td>\n      <td>Woods C.</td>\n      <td>International Journal of Public Theology</td>\n      <td>15697320</td>\n      <td>15</td>\n      <td>1</td>\n      <td>118-142</td>\n      <td>...</td>\n      <td>undefined</td>\n      <td>0</td>\n      <td>False</td>\n      <td>18725171</td>\n      <td>NaN</td>\n      <td>NaN</td>\n      <td>NaN</td>\n      <td>NaN</td>\n      <td>NaN</td>\n      <td>[The University of Auckland Business School, F...</td>\n    </tr>\n    <tr>\n      <th>...</th>\n      <td>...</td>\n      <td>...</td>\n      <td>...</td>\n      <td>...</td>\n      <td>...</td>\n      <td>...</td>\n      <td>...</td>\n      <td>...</td>\n      <td>...</td>\n      <td>...</td>\n      <td>...</td>\n      <td>...</td>\n      <td>...</td>\n      <td>...</td>\n      <td>...</td>\n      <td>...</td>\n      <td>...</td>\n      <td>...</td>\n      <td>...</td>\n      <td>...</td>\n      <td>...</td>\n    </tr>\n    <tr>\n      <th>1039</th>\n      <td>https://api.elsevier.com/content/abstract/scop...</td>\n      <td>SCOPUS_ID:1542463682</td>\n      <td>2-s2.0-1542463682</td>\n      <td>The ethic of caring: the moral response to suf...</td>\n      <td>Hitchens E.</td>\n      <td>Christian scholar's review</td>\n      <td>NaN</td>\n      <td>23</td>\n      <td>3</td>\n      <td>307-317</td>\n      <td>...</td>\n      <td>undefined</td>\n      <td>0</td>\n      <td>False</td>\n      <td>00172251</td>\n      <td>NaN</td>\n      <td>NaN</td>\n      <td>NaN</td>\n      <td>NaN</td>\n      <td>14628772</td>\n      <td>[Seattle Pacific University]</td>\n    </tr>\n    <tr>\n      <th>1045</th>\n      <td>https://api.elsevier.com/content/abstract/scop...</td>\n      <td>SCOPUS_ID:84953959083</td>\n      <td>2-s2.0-84953959083</td>\n      <td>Testimonium spiritus sancti—an example of bern...</td>\n      <td>Bell T.M.M.A.C.</td>\n      <td>Bijdragen</td>\n      <td>NaN</td>\n      <td>53</td>\n      <td>1</td>\n      <td>62-72</td>\n      <td>...</td>\n      <td>undefined</td>\n      <td>0</td>\n      <td>False</td>\n      <td>00062278</td>\n      <td>NaN</td>\n      <td>NaN</td>\n      <td>NaN</td>\n      <td>NaN</td>\n      <td>NaN</td>\n      <td>[Universiteit van Amsterdam, Dutch Luther Cons...</td>\n    </tr>\n    <tr>\n      <th>1064</th>\n      <td>https://api.elsevier.com/content/abstract/scop...</td>\n      <td>SCOPUS_ID:0020629376</td>\n      <td>2-s2.0-0020629376</td>\n      <td>Teaching Humanistic Medicine</td>\n      <td>Taegtmeyer H.</td>\n      <td>New England Journal of Medicine</td>\n      <td>15334406</td>\n      <td>309</td>\n      <td>14</td>\n      <td>860-862</td>\n      <td>...</td>\n      <td>undefined</td>\n      <td>0</td>\n      <td>False</td>\n      <td>00284793</td>\n      <td>NaN</td>\n      <td>NaN</td>\n      <td>NaN</td>\n      <td>NaN</td>\n      <td>6888478</td>\n      <td>[University of Texas Health Science Center at ...</td>\n    </tr>\n    <tr>\n      <th>1066</th>\n      <td>https://api.elsevier.com/content/abstract/scop...</td>\n      <td>SCOPUS_ID:0020051029</td>\n      <td>2-s2.0-0020051029</td>\n      <td>Death after trauma involving the maxillofacial...</td>\n      <td>Zachariades N.</td>\n      <td>Journal of Maxillofacial Surgery</td>\n      <td>NaN</td>\n      <td>10</td>\n      <td>C</td>\n      <td>123-125</td>\n      <td>...</td>\n      <td>undefined</td>\n      <td>0</td>\n      <td>False</td>\n      <td>03010503</td>\n      <td>S0301050382800246</td>\n      <td>NaN</td>\n      <td>NaN</td>\n      <td>NaN</td>\n      <td>6954224</td>\n      <td>[KAT Hospital]</td>\n    </tr>\n    <tr>\n      <th>1071</th>\n      <td>https://api.elsevier.com/content/abstract/scop...</td>\n      <td>SCOPUS_ID:84952511773</td>\n      <td>2-s2.0-84952511773</td>\n      <td>Saint paul and divorce: Divorce counseling for...</td>\n      <td>Barnhart J.</td>\n      <td>Journal of Divorce</td>\n      <td>NaN</td>\n      <td>1</td>\n      <td>2</td>\n      <td>141-151</td>\n      <td>...</td>\n      <td>undefined</td>\n      <td>0</td>\n      <td>False</td>\n      <td>01474022</td>\n      <td>NaN</td>\n      <td>NaN</td>\n      <td>NaN</td>\n      <td>NaN</td>\n      <td>NaN</td>\n      <td>[University of North Texas]</td>\n    </tr>\n  </tbody>\n</table>\n<p>77 rows × 34 columns</p>\n</div>"
     },
     "execution_count": 108,
     "metadata": {},
     "output_type": "execute_result"
    }
   ],
   "source": [
    "entries_df[entries_df[\"author-count\"] > 1]"
   ],
   "metadata": {
    "collapsed": false,
    "pycharm": {
     "name": "#%%\n"
    }
   }
  }
 ],
 "metadata": {
  "kernelspec": {
   "display_name": "Python 3",
   "language": "python",
   "name": "python3"
  },
  "language_info": {
   "codemirror_mode": {
    "name": "ipython",
    "version": 2
   },
   "file_extension": ".py",
   "mimetype": "text/x-python",
   "name": "python",
   "nbconvert_exporter": "python",
   "pygments_lexer": "ipython2",
   "version": "2.7.6"
  }
 },
 "nbformat": 4,
 "nbformat_minor": 0
}