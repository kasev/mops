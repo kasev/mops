{
 "cells": [
  {
   "cell_type": "markdown",
   "source": [
    "[API documentation](https://dev.elsevier.com/documentation/ScopusSearchAPI.wadl)\n"
   ],
   "metadata": {
    "collapsed": false,
    "pycharm": {
     "name": "#%% md\n"
    }
   }
  },
  {
   "cell_type": "code",
   "execution_count": 34,
   "metadata": {
    "collapsed": true,
    "pycharm": {
     "name": "#%%\n"
    }
   },
   "outputs": [],
   "source": [
    "import requests\n",
    "import pandas as pd\n",
    "import sddk"
   ]
  },
  {
   "cell_type": "code",
   "execution_count": 35,
   "outputs": [
    {
     "name": "stdout",
     "output_type": "stream",
     "text": [
      "endpoint variable has been configured to: https://sciencedata.dk/files/\n"
     ]
    }
   ],
   "source": [
    "# to communicate with google spreadsheet...\n",
    "import gspread\n",
    "from gspread_dataframe import get_as_dataframe\n",
    "from gspread_dataframe import set_with_dataframe\n",
    "from google.oauth2 import service_account # based on google-auth library\n",
    "import sddk\n",
    "\n",
    "s = sddk.cloudSession(\"sciencedata.dk\")\n",
    "# establish connection with gogglesheets...\n",
    "file_data = s.read_file(\"https://sciencedata.dk/files/ServiceAccountsKey.json\", \"dict\") # or load it from a local storage: json.load(open(\"../../ServiceAccountsKey.json\", \"r\"))\n",
    "credentials = service_account.Credentials.from_service_account_info(file_data)\n",
    "gc = gspread.Client(auth=credentials.with_scopes(['https://spreadsheets.google.com/feeds', 'https://www.googleapis.com/auth/drive']))\n",
    "mops_data = gc.open_by_url(\"https://docs.google.com/spreadsheets/d/1VbCIAJssHKV9hlRTwzVFfm40CGnHesq53KXjv2qy4OM/edit?usp=sharing\")"
   ],
   "metadata": {
    "collapsed": false,
    "pycharm": {
     "name": "#%%\n"
    }
   }
  },
  {
   "cell_type": "code",
   "execution_count": 46,
   "outputs": [],
   "source": [
    "apikey = input(\"go to https://dev.elsevier.com/documentation/ScopusSearchAPI.wadl, generate your API key, copy it and insert it here: \")"
   ],
   "metadata": {
    "collapsed": false,
    "pycharm": {
     "name": "#%%\n"
    }
   }
  },
  {
   "cell_type": "code",
   "execution_count": 6,
   "outputs": [
    {
     "name": "stdout",
     "output_type": "stream",
     "text": [
      "https://api.elsevier.com/content/search/scopus?apiKey=4404b4d72ab1855cbe109fc606745d66&query=\n"
     ]
    }
   ],
   "source": [
    "api_address = \"https://api.elsevier.com/content/search/scopus?\"\n",
    "auth_params = \"apiKey=\" + apikey  # {0}&access_token={1}\".format(apikey, access_token)\n",
    "base_url = api_address + auth_params + \"&query=\"\n",
    "print(base_url)"
   ],
   "metadata": {
    "collapsed": false,
    "pycharm": {
     "name": "#%%\n"
    }
   }
  },
  {
   "cell_type": "code",
   "execution_count": 7,
   "outputs": [
    {
     "data": {
      "text/plain": "'https://api.elsevier.com/content/search/scopus?apiKey=4404b4d72ab1855cbe109fc606745d66&query=religion'"
     },
     "execution_count": 7,
     "metadata": {},
     "output_type": "execute_result"
    }
   ],
   "source": [
    "query = \"religion\"\n",
    "base_url + query"
   ],
   "metadata": {
    "collapsed": false,
    "pycharm": {
     "name": "#%%\n"
    }
   }
  },
  {
   "cell_type": "code",
   "execution_count": 14,
   "outputs": [
    {
     "data": {
      "text/plain": "'635748'"
     },
     "execution_count": 14,
     "metadata": {},
     "output_type": "execute_result"
    }
   ],
   "source": [
    "requests.get(base_url + query).json()[\"search-results\"][\"opensearch:totalResults\"]"
   ],
   "metadata": {
    "collapsed": false,
    "pycharm": {
     "name": "#%%\n"
    }
   }
  },
  {
   "cell_type": "code",
   "execution_count": 16,
   "outputs": [
    {
     "data": {
      "text/plain": "'547'"
     },
     "execution_count": 16,
     "metadata": {},
     "output_type": "execute_result"
    }
   ],
   "source": [
    "query= \"TITLE-ABS-KEY ( \\\"Paul the Apostle\\\"  OR  \\\"Apostle Paul\\\"  OR  \\\"Paul of Tarsus\\\"  OR  \\\"Pauline liter\\\" )\"\n",
    "resp = requests.get(base_url + query)\n",
    "resp.json()[\"search-results\"][\"opensearch:totalResults\"]"
   ],
   "metadata": {
    "collapsed": false,
    "pycharm": {
     "name": "#%%\n"
    }
   }
  },
  {
   "cell_type": "code",
   "execution_count": 18,
   "outputs": [
    {
     "data": {
      "text/plain": "'1075'"
     },
     "execution_count": 18,
     "metadata": {},
     "output_type": "execute_result"
    }
   ],
   "source": [
    "query= 'TITLE-ABS-KEY ( \"Paul the Apostle\"  OR  \"Apostle Paul\"  OR  \"Paul of Tarsus\"  OR  \"Pauline literature\"  OR  \"Paul\\'s epistles\"  OR  \"Paul\\'s letters\"  OR  \"letters of Paul\" )'\n",
    "resp = requests.get(base_url + query)\n",
    "resp.json()[\"search-results\"][\"opensearch:totalResults\"]"
   ],
   "metadata": {
    "collapsed": false,
    "pycharm": {
     "name": "#%%\n"
    }
   }
  },
  {
   "cell_type": "code",
   "execution_count": 32,
   "outputs": [
    {
     "name": "stdout",
     "output_type": "stream",
     "text": [
      "TITLE ( \"paul the apostle\")\n",
      "ABS ( \"paul the apostle\")\n",
      "KEY ( \"paul the apostle\")\n",
      "TITLE ( \"apostle paul\")\n",
      "ABS ( \"apostle paul\")\n",
      "KEY ( \"apostle paul\")\n",
      "TITLE ( \"paul of tarsus\")\n",
      "ABS ( \"paul of tarsus\")\n",
      "KEY ( \"paul of tarsus\")\n",
      "TITLE ( \"pauline literature\")\n",
      "ABS ( \"pauline literature\")\n",
      "KEY ( \"pauline literature\")\n",
      "TITLE ( \"paul's epistle\")\n",
      "ABS ( \"paul's epistle\")\n",
      "KEY ( \"paul's epistle\")\n",
      "TITLE ( \"Paul's letter\")\n",
      "ABS ( \"Paul's letter\")\n",
      "KEY ( \"Paul's letter\")\n",
      "TITLE ( \"letter of Paul\")\n",
      "ABS ( \"letter of Paul\")\n",
      "KEY ( \"letter of Paul\")\n",
      "TITLE ( \"epistle of paul\")\n",
      "ABS ( \"epistle of paul\")\n",
      "KEY ( \"epistle of paul\")\n"
     ]
    }
   ],
   "source": [
    "phrases_data = []\n",
    "phrases = [\"paul the apostle\",\n",
    "           \"apostle paul\",\n",
    "           \"paul of tarsus\",\n",
    "           \"pauline literature\",\n",
    "           \"paul\\'s epistle\",\n",
    "           \"Paul\\'s letter\",\n",
    "           \"letter of Paul\",\n",
    "           \"epistle of paul\"]\n",
    "\n",
    "for phrase in phrases:\n",
    "    cats_data = {}\n",
    "    cats_data[\"phrase\"] = phrase\n",
    "    for cat in [\"TITLE\", \"ABS\", \"KEY\"]:\n",
    "        query = cat + \" ( \\\"{0}\\\")\".format(phrase)\n",
    "        print(query)\n",
    "        resp = requests.get(base_url + query)\n",
    "        cats_data[cat] = resp.json()[\"search-results\"][\"opensearch:totalResults\"]\n",
    "    phrases_data.append(cats_data)"
   ],
   "metadata": {
    "collapsed": false,
    "pycharm": {
     "name": "#%%\n"
    }
   }
  },
  {
   "cell_type": "code",
   "execution_count": 33,
   "outputs": [
    {
     "data": {
      "text/plain": "               phrase TITLE  ABS KEY\n0    paul the apostle    16   45  25\n1        apostle paul    84  308  67\n2      paul of tarsus    15   37  19\n3  pauline literature     3   13  12\n4      paul's epistle    28   67   4\n5       Paul's letter   102  280  25\n6      letter of Paul    37   73   7\n7     epistle of paul     0   26   3",
      "text/html": "<div>\n<style scoped>\n    .dataframe tbody tr th:only-of-type {\n        vertical-align: middle;\n    }\n\n    .dataframe tbody tr th {\n        vertical-align: top;\n    }\n\n    .dataframe thead th {\n        text-align: right;\n    }\n</style>\n<table border=\"1\" class=\"dataframe\">\n  <thead>\n    <tr style=\"text-align: right;\">\n      <th></th>\n      <th>phrase</th>\n      <th>TITLE</th>\n      <th>ABS</th>\n      <th>KEY</th>\n    </tr>\n  </thead>\n  <tbody>\n    <tr>\n      <th>0</th>\n      <td>paul the apostle</td>\n      <td>16</td>\n      <td>45</td>\n      <td>25</td>\n    </tr>\n    <tr>\n      <th>1</th>\n      <td>apostle paul</td>\n      <td>84</td>\n      <td>308</td>\n      <td>67</td>\n    </tr>\n    <tr>\n      <th>2</th>\n      <td>paul of tarsus</td>\n      <td>15</td>\n      <td>37</td>\n      <td>19</td>\n    </tr>\n    <tr>\n      <th>3</th>\n      <td>pauline literature</td>\n      <td>3</td>\n      <td>13</td>\n      <td>12</td>\n    </tr>\n    <tr>\n      <th>4</th>\n      <td>paul's epistle</td>\n      <td>28</td>\n      <td>67</td>\n      <td>4</td>\n    </tr>\n    <tr>\n      <th>5</th>\n      <td>Paul's letter</td>\n      <td>102</td>\n      <td>280</td>\n      <td>25</td>\n    </tr>\n    <tr>\n      <th>6</th>\n      <td>letter of Paul</td>\n      <td>37</td>\n      <td>73</td>\n      <td>7</td>\n    </tr>\n    <tr>\n      <th>7</th>\n      <td>epistle of paul</td>\n      <td>0</td>\n      <td>26</td>\n      <td>3</td>\n    </tr>\n  </tbody>\n</table>\n</div>"
     },
     "execution_count": 33,
     "metadata": {},
     "output_type": "execute_result"
    }
   ],
   "source": [
    "scopus_phrases_overview = pd.DataFrame(phrases_data)\n",
    "scopus_phrases_overview"
   ],
   "metadata": {
    "collapsed": false,
    "pycharm": {
     "name": "#%%\n"
    }
   }
  },
  {
   "cell_type": "code",
   "execution_count": 36,
   "outputs": [],
   "source": [
    "set_with_dataframe(mops_data.add_worksheet(\"scopus_phrases_overview\", 1,1), scopus_phrases_overview)"
   ],
   "metadata": {
    "collapsed": false,
    "pycharm": {
     "name": "#%%\n"
    }
   }
  },
  {
   "cell_type": "code",
   "execution_count": 43,
   "outputs": [
    {
     "name": "stdout",
     "output_type": "stream",
     "text": [
      "(\"paul the apostle\") OR (\"apostle paul\") OR (\"paul of tarsus\") OR (\"pauline literature\") OR (\"paul's epistle\") OR (\"Paul's letter\") OR (\"letter of Paul\") OR (\"epistle of paul\")\n"
     ]
    }
   ],
   "source": [
    "phrases_combined = \"(\\\"\" + \"\\\") OR (\\\"\".join(phrases) + \"\\\")\"\n",
    "print(phrases_combined)"
   ],
   "metadata": {
    "collapsed": false,
    "pycharm": {
     "name": "#%%\n"
    }
   }
  },
  {
   "cell_type": "code",
   "execution_count": 47,
   "outputs": [
    {
     "data": {
      "text/plain": "{'search-results': {'opensearch:totalResults': '1102',\n  'opensearch:startIndex': '0',\n  'opensearch:itemsPerPage': '25',\n  'opensearch:Query': {'@role': 'request',\n   '@searchTerms': 'TITLE-ABS-KEY ((\"paul the apostle\") OR (\"apostle paul\") OR (\"paul of tarsus\") OR (\"pauline literature\") OR (\"paul\\'s epistle\") OR (\"Paul\\'s letter\") OR (\"letter of Paul\") OR (\"epistle of paul\") )',\n   '@startPage': '0'},\n  'link': [{'@_fa': 'true',\n    '@ref': 'self',\n    '@href': 'https://api.elsevier.com/content/search/scopus?start=0&count=25&query=TITLE-ABS-KEY+%28%28%22paul+the+apostle%22%29+OR+%28%22apostle+paul%22%29+OR+%28%22paul+of+tarsus%22%29+OR+%28%22pauline+literature%22%29+OR+%28%22paul%27s+epistle%22%29+OR+%28%22Paul%27s+letter%22%29+OR+%28%22letter+of+Paul%22%29+OR+%28%22epistle+of+paul%22%29+%29',\n    '@type': 'application/json'},\n   {'@_fa': 'true',\n    '@ref': 'first',\n    '@href': 'https://api.elsevier.com/content/search/scopus?start=0&count=25&query=TITLE-ABS-KEY+%28%28%22paul+the+apostle%22%29+OR+%28%22apostle+paul%22%29+OR+%28%22paul+of+tarsus%22%29+OR+%28%22pauline+literature%22%29+OR+%28%22paul%27s+epistle%22%29+OR+%28%22Paul%27s+letter%22%29+OR+%28%22letter+of+Paul%22%29+OR+%28%22epistle+of+paul%22%29+%29',\n    '@type': 'application/json'},\n   {'@_fa': 'true',\n    '@ref': 'next',\n    '@href': 'https://api.elsevier.com/content/search/scopus?start=25&count=25&query=TITLE-ABS-KEY+%28%28%22paul+the+apostle%22%29+OR+%28%22apostle+paul%22%29+OR+%28%22paul+of+tarsus%22%29+OR+%28%22pauline+literature%22%29+OR+%28%22paul%27s+epistle%22%29+OR+%28%22Paul%27s+letter%22%29+OR+%28%22letter+of+Paul%22%29+OR+%28%22epistle+of+paul%22%29+%29',\n    '@type': 'application/json'},\n   {'@_fa': 'true',\n    '@ref': 'last',\n    '@href': 'https://api.elsevier.com/content/search/scopus?start=1077&count=25&query=TITLE-ABS-KEY+%28%28%22paul+the+apostle%22%29+OR+%28%22apostle+paul%22%29+OR+%28%22paul+of+tarsus%22%29+OR+%28%22pauline+literature%22%29+OR+%28%22paul%27s+epistle%22%29+OR+%28%22Paul%27s+letter%22%29+OR+%28%22letter+of+Paul%22%29+OR+%28%22epistle+of+paul%22%29+%29',\n    '@type': 'application/json'}],\n  'entry': [{'@_fa': 'true',\n    'link': [{'@_fa': 'true',\n      '@ref': 'self',\n      '@href': 'https://api.elsevier.com/content/abstract/scopus_id/85133680470'},\n     {'@_fa': 'true',\n      '@ref': 'author-affiliation',\n      '@href': 'https://api.elsevier.com/content/abstract/scopus_id/85133680470?field=author,affiliation'},\n     {'@_fa': 'true',\n      '@ref': 'scopus',\n      '@href': 'https://www.scopus.com/inward/record.uri?partnerID=HzOxMe3b&scp=85133680470&origin=inward'},\n     {'@_fa': 'true',\n      '@ref': 'scopus-citedby',\n      '@href': 'https://www.scopus.com/inward/citedby.uri?partnerID=HzOxMe3b&scp=85133680470&origin=inward'}],\n    'prism:url': 'https://api.elsevier.com/content/abstract/scopus_id/85133680470',\n    'dc:identifier': 'SCOPUS_ID:85133680470',\n    'eid': '2-s2.0-85133680470',\n    'dc:title': 'An Unwonted Hagiographic Topos',\n    'dc:creator': 'Boicu D.',\n    'prism:publicationName': 'Religions',\n    'prism:eIssn': '20771444',\n    'prism:volume': '13',\n    'prism:issueIdentifier': '7',\n    'prism:pageRange': None,\n    'prism:coverDate': '2022-07-01',\n    'prism:coverDisplayDate': 'July 2022',\n    'prism:doi': '10.3390/rel13070613',\n    'citedby-count': '0',\n    'affiliation': [{'@_fa': 'true',\n      'affilname': 'Universitatea Lucian Blaga din Sibiu',\n      'affiliation-city': 'Sibiu',\n      'affiliation-country': None}],\n    'prism:aggregationType': 'Journal',\n    'subtype': 'ar',\n    'subtypeDescription': 'Article',\n    'article-number': '613',\n    'source-id': '21100286926',\n    'openaccess': '1',\n    'openaccessFlag': True,\n    'freetoread': {'value': [{'$': 'all'}, {'$': 'publisherfullgold'}]},\n    'freetoreadLabel': {'value': [{'$': 'All Open Access'}, {'$': 'Gold'}]}},\n   {'@_fa': 'true',\n    'link': [{'@_fa': 'true',\n      '@ref': 'self',\n      '@href': 'https://api.elsevier.com/content/abstract/scopus_id/85132346905'},\n     {'@_fa': 'true',\n      '@ref': 'author-affiliation',\n      '@href': 'https://api.elsevier.com/content/abstract/scopus_id/85132346905?field=author,affiliation'},\n     {'@_fa': 'true',\n      '@ref': 'scopus',\n      '@href': 'https://www.scopus.com/inward/record.uri?partnerID=HzOxMe3b&scp=85132346905&origin=inward'},\n     {'@_fa': 'true',\n      '@ref': 'scopus-citedby',\n      '@href': 'https://www.scopus.com/inward/citedby.uri?partnerID=HzOxMe3b&scp=85132346905&origin=inward'}],\n    'prism:url': 'https://api.elsevier.com/content/abstract/scopus_id/85132346905',\n    'dc:identifier': 'SCOPUS_ID:85132346905',\n    'eid': '2-s2.0-85132346905',\n    'dc:title': 'Grounded Hope in God: Epiphany and Promise',\n    'dc:creator': 'Moser P.K.',\n    'prism:publicationName': 'Theology Today',\n    'prism:issn': '00405736',\n    'prism:eIssn': '20442556',\n    'prism:volume': '79',\n    'prism:issueIdentifier': '2',\n    'prism:pageRange': '104-114',\n    'prism:coverDate': '2022-07-01',\n    'prism:coverDisplayDate': 'July 2022',\n    'prism:doi': '10.1177/00405736221091917',\n    'citedby-count': '0',\n    'affiliation': [{'@_fa': 'true',\n      'affilname': 'Loyola University of Chicago',\n      'affiliation-city': 'Chicago',\n      'affiliation-country': 'United States'}],\n    'prism:aggregationType': 'Journal',\n    'subtype': 'ar',\n    'subtypeDescription': 'Article',\n    'source-id': '5800161166',\n    'openaccess': '0',\n    'openaccessFlag': False},\n   {'@_fa': 'true',\n    'link': [{'@_fa': 'true',\n      '@ref': 'self',\n      '@href': 'https://api.elsevier.com/content/abstract/scopus_id/85132445095'},\n     {'@_fa': 'true',\n      '@ref': 'author-affiliation',\n      '@href': 'https://api.elsevier.com/content/abstract/scopus_id/85132445095?field=author,affiliation'},\n     {'@_fa': 'true',\n      '@ref': 'scopus',\n      '@href': 'https://www.scopus.com/inward/record.uri?partnerID=HzOxMe3b&scp=85132445095&origin=inward'},\n     {'@_fa': 'true',\n      '@ref': 'scopus-citedby',\n      '@href': 'https://www.scopus.com/inward/citedby.uri?partnerID=HzOxMe3b&scp=85132445095&origin=inward'}],\n    'prism:url': 'https://api.elsevier.com/content/abstract/scopus_id/85132445095',\n    'dc:identifier': 'SCOPUS_ID:85132445095',\n    'eid': '2-s2.0-85132445095',\n    'dc:title': 'Nosque Filio in haereditatem a Deo patre donamur (De Trinitate 4,37). Man as an Inheritance Given to Christ by God the Father: A Reflection on the Pauline Concept of klhronomi, a in the Work of Hilary of Poitiers',\n    'dc:creator': 'Alba López A.',\n    'prism:publicationName': 'Scripta Theologica',\n    'prism:issn': '00369764',\n    'prism:eIssn': '22546227',\n    'prism:volume': '54',\n    'prism:issueIdentifier': '2',\n    'prism:pageRange': '287-309',\n    'prism:coverDate': '2022-06-01',\n    'prism:coverDisplayDate': 'June 2022',\n    'prism:doi': '10.15581/006.54.2.287-309',\n    'citedby-count': '0',\n    'affiliation': [{'@_fa': 'true',\n      'affilname': 'Universidad Nacional de Educacion a Distancia',\n      'affiliation-city': 'Madrid',\n      'affiliation-country': 'Spain'}],\n    'prism:aggregationType': 'Journal',\n    'subtype': 'ar',\n    'subtypeDescription': 'Article',\n    'source-id': '21100203940',\n    'openaccess': '1',\n    'openaccessFlag': True,\n    'freetoread': {'value': [{'$': 'all'}, {'$': 'publisherhybridgold'}]},\n    'freetoreadLabel': {'value': [{'$': 'All Open Access'},\n      {'$': 'Hybrid Gold'}]}},\n   {'@_fa': 'true',\n    'link': [{'@_fa': 'true',\n      '@ref': 'self',\n      '@href': 'https://api.elsevier.com/content/abstract/scopus_id/85130551837'},\n     {'@_fa': 'true',\n      '@ref': 'author-affiliation',\n      '@href': 'https://api.elsevier.com/content/abstract/scopus_id/85130551837?field=author,affiliation'},\n     {'@_fa': 'true',\n      '@ref': 'scopus',\n      '@href': 'https://www.scopus.com/inward/record.uri?partnerID=HzOxMe3b&scp=85130551837&origin=inward'},\n     {'@_fa': 'true',\n      '@ref': 'scopus-citedby',\n      '@href': 'https://www.scopus.com/inward/citedby.uri?partnerID=HzOxMe3b&scp=85130551837&origin=inward'}],\n    'prism:url': 'https://api.elsevier.com/content/abstract/scopus_id/85130551837',\n    'dc:identifier': 'SCOPUS_ID:85130551837',\n    'eid': '2-s2.0-85130551837',\n    'dc:title': 'Recasting Paul as a Chauvinist within the Western Text-Type Manuscript Tradition: Implications for the Authorship Debate on 1 Corinthians 14.34-35',\n    'dc:creator': 'Wilson J.A.P.',\n    'prism:publicationName': 'Religions',\n    'prism:eIssn': '20771444',\n    'prism:volume': '13',\n    'prism:issueIdentifier': '5',\n    'prism:pageRange': None,\n    'prism:coverDate': '2022-05-01',\n    'prism:coverDisplayDate': 'May 2022',\n    'prism:doi': '10.3390/rel13050432',\n    'citedby-count': '0',\n    'affiliation': [{'@_fa': 'true',\n      'affilname': 'Sacred Heart University Fairfield',\n      'affiliation-city': 'Fairfield',\n      'affiliation-country': 'United States'},\n     {'@_fa': 'true',\n      'affilname': 'Worcester State University',\n      'affiliation-city': 'Worcester',\n      'affiliation-country': 'United States'},\n     {'@_fa': 'true',\n      'affilname': 'Fairfield University',\n      'affiliation-city': 'Fairfield',\n      'affiliation-country': 'United States'}],\n    'prism:aggregationType': 'Journal',\n    'subtype': 'ar',\n    'subtypeDescription': 'Article',\n    'article-number': '432',\n    'source-id': '21100286926',\n    'openaccess': '1',\n    'openaccessFlag': True,\n    'freetoread': {'value': [{'$': 'all'}, {'$': 'publisherfullgold'}]},\n    'freetoreadLabel': {'value': [{'$': 'All Open Access'}, {'$': 'Gold'}]}},\n   {'@_fa': 'true',\n    'link': [{'@_fa': 'true',\n      '@ref': 'self',\n      '@href': 'https://api.elsevier.com/content/abstract/scopus_id/85125526138'},\n     {'@_fa': 'true',\n      '@ref': 'author-affiliation',\n      '@href': 'https://api.elsevier.com/content/abstract/scopus_id/85125526138?field=author,affiliation'},\n     {'@_fa': 'true',\n      '@ref': 'scopus',\n      '@href': 'https://www.scopus.com/inward/record.uri?partnerID=HzOxMe3b&scp=85125526138&origin=inward'},\n     {'@_fa': 'true',\n      '@ref': 'scopus-citedby',\n      '@href': 'https://www.scopus.com/inward/citedby.uri?partnerID=HzOxMe3b&scp=85125526138&origin=inward'}],\n    'prism:url': 'https://api.elsevier.com/content/abstract/scopus_id/85125526138',\n    'dc:identifier': 'SCOPUS_ID:85125526138',\n    'eid': '2-s2.0-85125526138',\n    'dc:title': 'Cruciform Onesimus? Considering How a Slave Would Respond to Paul’s Call for a Cross-Shaped Lifestyle<sup> 1</sup>',\n    'dc:creator': 'Gupta N.',\n    'prism:publicationName': 'Expository Times',\n    'prism:issn': '00145246',\n    'prism:eIssn': '17455308',\n    'prism:volume': '133',\n    'prism:issueIdentifier': '8',\n    'prism:pageRange': '325-333',\n    'prism:coverDate': '2022-05-01',\n    'prism:coverDisplayDate': 'May 2022',\n    'prism:doi': '10.1177/00145246221075897',\n    'citedby-count': '0',\n    'affiliation': [{'@_fa': 'true',\n      'affilname': 'Northern Seminary',\n      'affiliation-city': 'Lisle',\n      'affiliation-country': 'United States'}],\n    'prism:aggregationType': 'Journal',\n    'subtype': 'ar',\n    'subtypeDescription': 'Article',\n    'source-id': '5800162102',\n    'openaccess': '0',\n    'openaccessFlag': False},\n   {'@_fa': 'true',\n    'link': [{'@_fa': 'true',\n      '@ref': 'self',\n      '@href': 'https://api.elsevier.com/content/abstract/scopus_id/85128676242'},\n     {'@_fa': 'true',\n      '@ref': 'author-affiliation',\n      '@href': 'https://api.elsevier.com/content/abstract/scopus_id/85128676242?field=author,affiliation'},\n     {'@_fa': 'true',\n      '@ref': 'scopus',\n      '@href': 'https://www.scopus.com/inward/record.uri?partnerID=HzOxMe3b&scp=85128676242&origin=inward'},\n     {'@_fa': 'true',\n      '@ref': 'scopus-citedby',\n      '@href': 'https://www.scopus.com/inward/citedby.uri?partnerID=HzOxMe3b&scp=85128676242&origin=inward'}],\n    'prism:url': 'https://api.elsevier.com/content/abstract/scopus_id/85128676242',\n    'dc:identifier': 'SCOPUS_ID:85128676242',\n    'eid': '2-s2.0-85128676242',\n    'dc:title': 'Far be it! A diatribic formula and its equivalents in the Apostolos of Franciscus Skorina',\n    'dc:creator': 'Kakridis Y.',\n    'prism:publicationName': 'Zeitschrift fur Slawistik',\n    'prism:issn': '00443506',\n    'prism:volume': '67',\n    'prism:issueIdentifier': '1',\n    'prism:pageRange': '44-59',\n    'prism:coverDate': '2022-04-01',\n    'prism:coverDisplayDate': '1 April 2022',\n    'prism:doi': '10.1515/slaw-2022-0002',\n    'citedby-count': '0',\n    'affiliation': [{'@_fa': 'true',\n      'affilname': 'Institut Für Slavische Sprachen Und Literaturen',\n      'affiliation-city': 'Bern',\n      'affiliation-country': 'Switzerland'}],\n    'prism:aggregationType': 'Journal',\n    'subtype': 'ar',\n    'subtypeDescription': 'Article',\n    'source-id': '5800221971',\n    'openaccess': '0',\n    'openaccessFlag': False},\n   {'@_fa': 'true',\n    'link': [{'@_fa': 'true',\n      '@ref': 'self',\n      '@href': 'https://api.elsevier.com/content/abstract/scopus_id/85128463333'},\n     {'@_fa': 'true',\n      '@ref': 'author-affiliation',\n      '@href': 'https://api.elsevier.com/content/abstract/scopus_id/85128463333?field=author,affiliation'},\n     {'@_fa': 'true',\n      '@ref': 'scopus',\n      '@href': 'https://www.scopus.com/inward/record.uri?partnerID=HzOxMe3b&scp=85128463333&origin=inward'},\n     {'@_fa': 'true',\n      '@ref': 'scopus-citedby',\n      '@href': 'https://www.scopus.com/inward/citedby.uri?partnerID=HzOxMe3b&scp=85128463333&origin=inward'}],\n    'prism:url': 'https://api.elsevier.com/content/abstract/scopus_id/85128463333',\n    'dc:identifier': 'SCOPUS_ID:85128463333',\n    'eid': '2-s2.0-85128463333',\n    'dc:title': \"Vessels of Wrath and God's Pathos: Potter/Clay Imagery in Rom 9:20-23\",\n    'dc:creator': 'Staples J.A.',\n    'prism:publicationName': 'Harvard Theological Review',\n    'prism:issn': '00178160',\n    'prism:volume': '115',\n    'prism:issueIdentifier': '2',\n    'prism:pageRange': '197-218',\n    'prism:coverDate': '2022-04-01',\n    'prism:coverDisplayDate': '1 April 2022',\n    'prism:doi': '10.1017/S0017816022000116',\n    'citedby-count': '0',\n    'affiliation': [{'@_fa': 'true',\n      'affilname': 'NC State University',\n      'affiliation-city': 'Raleigh',\n      'affiliation-country': 'United States'}],\n    'prism:aggregationType': 'Journal',\n    'subtype': 'ar',\n    'subtypeDescription': 'Article',\n    'source-id': '26331',\n    'openaccess': '1',\n    'openaccessFlag': True,\n    'freetoread': {'value': [{'$': 'all'}, {'$': 'publisherhybridgold'}]},\n    'freetoreadLabel': {'value': [{'$': 'All Open Access'},\n      {'$': 'Hybrid Gold'}]}},\n   {'@_fa': 'true',\n    'link': [{'@_fa': 'true',\n      '@ref': 'self',\n      '@href': 'https://api.elsevier.com/content/abstract/scopus_id/85126628576'},\n     {'@_fa': 'true',\n      '@ref': 'author-affiliation',\n      '@href': 'https://api.elsevier.com/content/abstract/scopus_id/85126628576?field=author,affiliation'},\n     {'@_fa': 'true',\n      '@ref': 'scopus',\n      '@href': 'https://www.scopus.com/inward/record.uri?partnerID=HzOxMe3b&scp=85126628576&origin=inward'},\n     {'@_fa': 'true',\n      '@ref': 'scopus-citedby',\n      '@href': 'https://www.scopus.com/inward/citedby.uri?partnerID=HzOxMe3b&scp=85126628576&origin=inward'}],\n    'prism:url': 'https://api.elsevier.com/content/abstract/scopus_id/85126628576',\n    'dc:identifier': 'SCOPUS_ID:85126628576',\n    'eid': '2-s2.0-85126628576',\n    'dc:title': 'Paul’s Escape from Damascus (2 Cor 11.32–3) and the corona muralis',\n    'dc:creator': 'Pawlak M.',\n    'prism:publicationName': 'New Testament Studies',\n    'prism:issn': '00286885',\n    'prism:volume': '68',\n    'prism:issueIdentifier': '2',\n    'prism:pageRange': '172-187',\n    'prism:coverDate': '2022-04-01',\n    'prism:coverDisplayDate': '1 April 2022',\n    'prism:doi': '10.1017/S0028688521000345',\n    'citedby-count': '0',\n    'affiliation': [{'@_fa': 'true',\n      'affilname': 'Eberhard Karls Universität Tübingen',\n      'affiliation-city': 'Tubingen',\n      'affiliation-country': 'Germany'}],\n    'prism:aggregationType': 'Journal',\n    'subtype': 'ar',\n    'subtypeDescription': 'Article',\n    'source-id': '16200154712',\n    'openaccess': '1',\n    'openaccessFlag': True,\n    'freetoread': {'value': [{'$': 'all'}, {'$': 'publisherhybridgold'}]},\n    'freetoreadLabel': {'value': [{'$': 'All Open Access'},\n      {'$': 'Hybrid Gold'}]}},\n   {'@_fa': 'true',\n    'link': [{'@_fa': 'true',\n      '@ref': 'self',\n      '@href': 'https://api.elsevier.com/content/abstract/scopus_id/85128362887'},\n     {'@_fa': 'true',\n      '@ref': 'author-affiliation',\n      '@href': 'https://api.elsevier.com/content/abstract/scopus_id/85128362887?field=author,affiliation'},\n     {'@_fa': 'true',\n      '@ref': 'scopus',\n      '@href': 'https://www.scopus.com/inward/record.uri?partnerID=HzOxMe3b&scp=85128362887&origin=inward'},\n     {'@_fa': 'true',\n      '@ref': 'scopus-citedby',\n      '@href': 'https://www.scopus.com/inward/citedby.uri?partnerID=HzOxMe3b&scp=85128362887&origin=inward'}],\n    'prism:url': 'https://api.elsevier.com/content/abstract/scopus_id/85128362887',\n    'dc:identifier': 'SCOPUS_ID:85128362887',\n    'eid': '2-s2.0-85128362887',\n    'dc:title': 'Early Modern Economic Theology and Oikonomia in the Merchant of Venice',\n    'dc:creator': 'Kim J.',\n    'prism:publicationName': 'Literature and Theology',\n    'prism:issn': '02691205',\n    'prism:volume': '36',\n    'prism:issueIdentifier': '1',\n    'prism:pageRange': '42-61',\n    'prism:coverDate': '2022-03-01',\n    'prism:coverDisplayDate': '1 March 2022',\n    'prism:doi': '10.1093/litthe/frac005',\n    'citedby-count': '0',\n    'affiliation': [{'@_fa': 'true',\n      'affilname': 'Yonsei University',\n      'affiliation-city': 'Seoul',\n      'affiliation-country': 'South Korea'}],\n    'prism:aggregationType': 'Journal',\n    'subtype': 'ar',\n    'subtypeDescription': 'Article',\n    'source-id': '6400153199',\n    'openaccess': '0',\n    'openaccessFlag': False},\n   {'@_fa': 'true',\n    'link': [{'@_fa': 'true',\n      '@ref': 'self',\n      '@href': 'https://api.elsevier.com/content/abstract/scopus_id/85127406028'},\n     {'@_fa': 'true',\n      '@ref': 'author-affiliation',\n      '@href': 'https://api.elsevier.com/content/abstract/scopus_id/85127406028?field=author,affiliation'},\n     {'@_fa': 'true',\n      '@ref': 'scopus',\n      '@href': 'https://www.scopus.com/inward/record.uri?partnerID=HzOxMe3b&scp=85127406028&origin=inward'},\n     {'@_fa': 'true',\n      '@ref': 'scopus-citedby',\n      '@href': 'https://www.scopus.com/inward/citedby.uri?partnerID=HzOxMe3b&scp=85127406028&origin=inward'}],\n    'prism:url': 'https://api.elsevier.com/content/abstract/scopus_id/85127406028',\n    'dc:identifier': 'SCOPUS_ID:85127406028',\n    'eid': '2-s2.0-85127406028',\n    'dc:title': 'Paul the apostle and distance educator: Ancient pedagogy for the pandemic era',\n    'dc:creator': 'Yuckman C.H.',\n    'prism:publicationName': 'Teaching Theology and Religion',\n    'prism:issn': '13684868',\n    'prism:eIssn': '14679647',\n    'prism:volume': '25',\n    'prism:issueIdentifier': '1',\n    'prism:pageRange': '14-21',\n    'prism:coverDate': '2022-03-01',\n    'prism:coverDisplayDate': 'March 2022',\n    'prism:doi': '10.1111/teth.12606',\n    'citedby-count': '0',\n    'affiliation': [{'@_fa': 'true',\n      'affilname': 'Duke University',\n      'affiliation-city': 'Durham',\n      'affiliation-country': 'United States'}],\n    'prism:aggregationType': 'Journal',\n    'subtype': 'ar',\n    'subtypeDescription': 'Article',\n    'source-id': '18700156707',\n    'openaccess': '0',\n    'openaccessFlag': False},\n   {'@_fa': 'true',\n    'link': [{'@_fa': 'true',\n      '@ref': 'self',\n      '@href': 'https://api.elsevier.com/content/abstract/scopus_id/85126848614'},\n     {'@_fa': 'true',\n      '@ref': 'author-affiliation',\n      '@href': 'https://api.elsevier.com/content/abstract/scopus_id/85126848614?field=author,affiliation'},\n     {'@_fa': 'true',\n      '@ref': 'scopus',\n      '@href': 'https://www.scopus.com/inward/record.uri?partnerID=HzOxMe3b&scp=85126848614&origin=inward'},\n     {'@_fa': 'true',\n      '@ref': 'scopus-citedby',\n      '@href': 'https://www.scopus.com/inward/citedby.uri?partnerID=HzOxMe3b&scp=85126848614&origin=inward'}],\n    'prism:url': 'https://api.elsevier.com/content/abstract/scopus_id/85126848614',\n    'dc:identifier': 'SCOPUS_ID:85126848614',\n    'eid': '2-s2.0-85126848614',\n    'dc:title': 'Discourse-Rhetorical Strategies of Pauline Epistles: Rhetorical Situation Theory Approach to the Book of First Thessalonians',\n    'dc:creator': 'Chidume S.N.',\n    'prism:publicationName': 'SAGE Open',\n    'prism:eIssn': '21582440',\n    'prism:volume': '12',\n    'prism:issueIdentifier': '1',\n    'prism:pageRange': None,\n    'prism:coverDate': '2022-03-01',\n    'prism:coverDisplayDate': 'March 2022',\n    'prism:doi': '10.1177/21582440221085589',\n    'citedby-count': '0',\n    'affiliation': [{'@_fa': 'true',\n      'affilname': 'University of Nigeria',\n      'affiliation-city': 'Nsukka',\n      'affiliation-country': 'Nigeria'}],\n    'prism:aggregationType': 'Journal',\n    'subtype': 'ar',\n    'subtypeDescription': 'Article',\n    'source-id': '21100255401',\n    'openaccess': '1',\n    'openaccessFlag': True,\n    'freetoread': {'value': [{'$': 'all'}, {'$': 'publisherfullgold'}]},\n    'freetoreadLabel': {'value': [{'$': 'All Open Access'}, {'$': 'Gold'}]}},\n   {'@_fa': 'true',\n    'link': [{'@_fa': 'true',\n      '@ref': 'self',\n      '@href': 'https://api.elsevier.com/content/abstract/scopus_id/85123236475'},\n     {'@_fa': 'true',\n      '@ref': 'author-affiliation',\n      '@href': 'https://api.elsevier.com/content/abstract/scopus_id/85123236475?field=author,affiliation'},\n     {'@_fa': 'true',\n      '@ref': 'scopus',\n      '@href': 'https://www.scopus.com/inward/record.uri?partnerID=HzOxMe3b&scp=85123236475&origin=inward'},\n     {'@_fa': 'true',\n      '@ref': 'scopus-citedby',\n      '@href': 'https://www.scopus.com/inward/citedby.uri?partnerID=HzOxMe3b&scp=85123236475&origin=inward'}],\n    'prism:url': 'https://api.elsevier.com/content/abstract/scopus_id/85123236475',\n    'dc:identifier': 'SCOPUS_ID:85123236475',\n    'eid': '2-s2.0-85123236475',\n    'dc:title': 'Salvation in Koinonia: Faith and Works as Metonymy in Paul and James',\n    'dc:creator': 'Love C.',\n    'prism:publicationName': 'Irish Theological Quarterly',\n    'prism:issn': '00211400',\n    'prism:eIssn': '17524989',\n    'prism:volume': '87',\n    'prism:issueIdentifier': '1',\n    'prism:pageRange': '22-35',\n    'prism:coverDate': '2022-02-01',\n    'prism:coverDisplayDate': 'February 2022',\n    'prism:doi': '10.1177/00211400211060632',\n    'citedby-count': '0',\n    'affiliation': [{'@_fa': 'true',\n      'affilname': 'Glenstal Abbey',\n      'affiliation-city': 'Limerick',\n      'affiliation-country': 'Ireland'}],\n    'prism:aggregationType': 'Journal',\n    'subtype': 'ar',\n    'subtypeDescription': 'Article',\n    'source-id': '26856',\n    'openaccess': '0',\n    'openaccessFlag': False},\n   {'@_fa': 'true',\n    'link': [{'@_fa': 'true',\n      '@ref': 'self',\n      '@href': 'https://api.elsevier.com/content/abstract/scopus_id/85109128350'},\n     {'@_fa': 'true',\n      '@ref': 'author-affiliation',\n      '@href': 'https://api.elsevier.com/content/abstract/scopus_id/85109128350?field=author,affiliation'},\n     {'@_fa': 'true',\n      '@ref': 'scopus',\n      '@href': 'https://www.scopus.com/inward/record.uri?partnerID=HzOxMe3b&scp=85109128350&origin=inward'},\n     {'@_fa': 'true',\n      '@ref': 'scopus-citedby',\n      '@href': 'https://www.scopus.com/inward/citedby.uri?partnerID=HzOxMe3b&scp=85109128350&origin=inward'}],\n    'prism:url': 'https://api.elsevier.com/content/abstract/scopus_id/85109128350',\n    'dc:identifier': 'SCOPUS_ID:85109128350',\n    'eid': '2-s2.0-85109128350',\n    'dc:title': 'God as Righteous Agitator: Grounding Biblical Theology',\n    'dc:creator': 'Moser P.K.',\n    'prism:publicationName': 'Biblical Theology Bulletin',\n    'prism:issn': '01461079',\n    'prism:eIssn': '19457596',\n    'prism:volume': '52',\n    'prism:issueIdentifier': '1',\n    'prism:pageRange': '17-26',\n    'prism:coverDate': '2022-02-01',\n    'prism:coverDisplayDate': 'February 2022',\n    'prism:doi': '10.1177/01461079211029098',\n    'citedby-count': '0',\n    'affiliation': [{'@_fa': 'true',\n      'affilname': 'Vanderbilt University',\n      'affiliation-city': 'Nashville',\n      'affiliation-country': 'United States'}],\n    'prism:aggregationType': 'Journal',\n    'subtype': 'ar',\n    'subtypeDescription': 'Article',\n    'source-id': '16400154747',\n    'openaccess': '0',\n    'openaccessFlag': False},\n   {'@_fa': 'true',\n    'link': [{'@_fa': 'true',\n      '@ref': 'self',\n      '@href': 'https://api.elsevier.com/content/abstract/scopus_id/85127543283'},\n     {'@_fa': 'true',\n      '@ref': 'author-affiliation',\n      '@href': 'https://api.elsevier.com/content/abstract/scopus_id/85127543283?field=author,affiliation'},\n     {'@_fa': 'true',\n      '@ref': 'scopus',\n      '@href': 'https://www.scopus.com/inward/record.uri?partnerID=HzOxMe3b&scp=85127543283&origin=inward'},\n     {'@_fa': 'true',\n      '@ref': 'scopus-citedby',\n      '@href': 'https://www.scopus.com/inward/citedby.uri?partnerID=HzOxMe3b&scp=85127543283&origin=inward'}],\n    'prism:url': 'https://api.elsevier.com/content/abstract/scopus_id/85127543283',\n    'dc:identifier': 'SCOPUS_ID:85127543283',\n    'eid': '2-s2.0-85127543283',\n    'dc:title': 'Martin Luther on the Legitimacy of Resisting the Emperor',\n    'dc:creator': 'Raley J.M.',\n    'prism:publicationName': 'Journal of Law and Religion',\n    'prism:issn': '07480814',\n    'prism:eIssn': '21633088',\n    'prism:volume': '37',\n    'prism:issueIdentifier': '1',\n    'prism:pageRange': '96-132',\n    'prism:coverDate': '2022-01-27',\n    'prism:coverDisplayDate': '27 January 2022',\n    'prism:doi': '10.1017/jlr.2021.83',\n    'pii': 'S0748081421000837',\n    'citedby-count': '0',\n    'affiliation': [{'@_fa': 'true',\n      'affilname': 'Hanover College',\n      'affiliation-city': 'Hanover',\n      'affiliation-country': 'United States'}],\n    'prism:aggregationType': 'Journal',\n    'subtype': 'cp',\n    'subtypeDescription': 'Conference Paper',\n    'source-id': '16239',\n    'openaccess': '0',\n    'openaccessFlag': False},\n   {'@_fa': 'true',\n    'link': [{'@_fa': 'true',\n      '@ref': 'self',\n      '@href': 'https://api.elsevier.com/content/abstract/scopus_id/85133877626'},\n     {'@_fa': 'true',\n      '@ref': 'author-affiliation',\n      '@href': 'https://api.elsevier.com/content/abstract/scopus_id/85133877626?field=author,affiliation'},\n     {'@_fa': 'true',\n      '@ref': 'scopus',\n      '@href': 'https://www.scopus.com/inward/record.uri?partnerID=HzOxMe3b&scp=85133877626&origin=inward'},\n     {'@_fa': 'true',\n      '@ref': 'scopus-citedby',\n      '@href': 'https://www.scopus.com/inward/citedby.uri?partnerID=HzOxMe3b&scp=85133877626&origin=inward'}],\n    'prism:url': 'https://api.elsevier.com/content/abstract/scopus_id/85133877626',\n    'dc:identifier': 'SCOPUS_ID:85133877626',\n    'eid': '2-s2.0-85133877626',\n    'dc:title': 'STRONG SISTERS IN ROMAN ANTIQUITY: SAINTS PUDENTIANA AND PRAEXEDE, DAUGHTERS OF SENATOR PUDENS',\n    'dc:creator': 'Szaniszló Op I.M.V.',\n    'prism:publicationName': 'Astra Salvensis',\n    'prism:issn': '23934727',\n    'prism:eIssn': '23441887',\n    'prism:volume': '2022',\n    'prism:issueIdentifier': '1',\n    'prism:pageRange': '777-796',\n    'prism:coverDate': '2022-01-01',\n    'prism:coverDisplayDate': '2022',\n    'citedby-count': '0',\n    'affiliation': [{'@_fa': 'true',\n      'affilname': 'Pontifical University of St Thomas (Angelicum)',\n      'affiliation-city': 'Rome',\n      'affiliation-country': 'Italy'}],\n    'prism:aggregationType': 'Journal',\n    'subtype': 'ar',\n    'subtypeDescription': 'Article',\n    'source-id': '21100787020',\n    'openaccess': '0',\n    'openaccessFlag': False},\n   {'@_fa': 'true',\n    'link': [{'@_fa': 'true',\n      '@ref': 'self',\n      '@href': 'https://api.elsevier.com/content/abstract/scopus_id/85133522430'},\n     {'@_fa': 'true',\n      '@ref': 'author-affiliation',\n      '@href': 'https://api.elsevier.com/content/abstract/scopus_id/85133522430?field=author,affiliation'},\n     {'@_fa': 'true',\n      '@ref': 'scopus',\n      '@href': 'https://www.scopus.com/inward/record.uri?partnerID=HzOxMe3b&scp=85133522430&origin=inward'},\n     {'@_fa': 'true',\n      '@ref': 'scopus-citedby',\n      '@href': 'https://www.scopus.com/inward/citedby.uri?partnerID=HzOxMe3b&scp=85133522430&origin=inward'}],\n    'prism:url': 'https://api.elsevier.com/content/abstract/scopus_id/85133522430',\n    'dc:identifier': 'SCOPUS_ID:85133522430',\n    'eid': '2-s2.0-85133522430',\n    'dc:title': \"“THOSE WHO CANNOT SEE THE WHOLE ARE OFFENDED BY THE APPARENT DEFORMITY OF A PART”: DISABILITY IN AUGUSTINE'S CITY OF GOD\",\n    'dc:creator': 'Massmann A.',\n    'prism:publicationName': 'Journal of Religious Ethics',\n    'prism:issn': '03849694',\n    'prism:eIssn': '14679795',\n    'prism:pageRange': None,\n    'prism:coverDate': '2022-01-01',\n    'prism:coverDisplayDate': '2022',\n    'prism:doi': '10.1111/jore.12399',\n    'citedby-count': '0',\n    'affiliation': [{'@_fa': 'true',\n      'affilname': 'Faculty of Divinity',\n      'affiliation-city': 'Cambridge',\n      'affiliation-country': 'United Kingdom'}],\n    'prism:aggregationType': 'Journal',\n    'subtype': 'ar',\n    'subtypeDescription': 'Article',\n    'source-id': '27341',\n    'openaccess': '1',\n    'openaccessFlag': True,\n    'freetoread': {'value': [{'$': 'all'},\n      {'$': 'repository'},\n      {'$': 'repositoryvor'}]},\n    'freetoreadLabel': {'value': [{'$': 'All Open Access'}, {'$': 'Green'}]}},\n   {'@_fa': 'true',\n    'link': [{'@_fa': 'true',\n      '@ref': 'self',\n      '@href': 'https://api.elsevier.com/content/abstract/scopus_id/85132839688'},\n     {'@_fa': 'true',\n      '@ref': 'author-affiliation',\n      '@href': 'https://api.elsevier.com/content/abstract/scopus_id/85132839688?field=author,affiliation'},\n     {'@_fa': 'true',\n      '@ref': 'scopus',\n      '@href': 'https://www.scopus.com/inward/record.uri?partnerID=HzOxMe3b&scp=85132839688&origin=inward'},\n     {'@_fa': 'true',\n      '@ref': 'scopus-citedby',\n      '@href': 'https://www.scopus.com/inward/citedby.uri?partnerID=HzOxMe3b&scp=85132839688&origin=inward'}],\n    'prism:url': 'https://api.elsevier.com/content/abstract/scopus_id/85132839688',\n    'dc:identifier': 'SCOPUS_ID:85132839688',\n    'eid': '2-s2.0-85132839688',\n    'dc:title': 'Paul, the Rabbis, and the Gentiles Conversing with Adi Ophir and Ishay Rosen-Zvi',\n    'dc:creator': 'Tomson P.J.',\n    'prism:publicationName': 'NTT Journal for Theology and the Study of Religion',\n    'prism:issn': '25426583',\n    'prism:eIssn': '25903268',\n    'prism:volume': '76',\n    'prism:issueIdentifier': '2',\n    'prism:pageRange': '131-150',\n    'prism:coverDate': '2022-01-01',\n    'prism:coverDisplayDate': '2022',\n    'prism:doi': '10.5117/NTT2022.2.003.TOMS',\n    'citedby-count': '0',\n    'affiliation': [{'@_fa': 'true',\n      'affilname': 'KU Leuven',\n      'affiliation-city': '3000 Leuven',\n      'affiliation-country': 'Belgium'},\n     {'@_fa': 'true',\n      'affilname': 'Faculty of Protestant Theology',\n      'affiliation-city': 'Brussels',\n      'affiliation-country': 'Belgium'}],\n    'prism:aggregationType': 'Journal',\n    'subtype': 're',\n    'subtypeDescription': 'Review',\n    'source-id': '21101044225',\n    'openaccess': '0',\n    'openaccessFlag': False},\n   {'@_fa': 'true',\n    'link': [{'@_fa': 'true',\n      '@ref': 'self',\n      '@href': 'https://api.elsevier.com/content/abstract/scopus_id/85132729886'},\n     {'@_fa': 'true',\n      '@ref': 'author-affiliation',\n      '@href': 'https://api.elsevier.com/content/abstract/scopus_id/85132729886?field=author,affiliation'},\n     {'@_fa': 'true',\n      '@ref': 'scopus',\n      '@href': 'https://www.scopus.com/inward/record.uri?partnerID=HzOxMe3b&scp=85132729886&origin=inward'},\n     {'@_fa': 'true',\n      '@ref': 'scopus-citedby',\n      '@href': 'https://www.scopus.com/inward/citedby.uri?partnerID=HzOxMe3b&scp=85132729886&origin=inward'}],\n    'prism:url': 'https://api.elsevier.com/content/abstract/scopus_id/85132729886',\n    'dc:identifier': 'SCOPUS_ID:85132729886',\n    'eid': '2-s2.0-85132729886',\n    'dc:title': 'Wounded in Mission: Where in the World Are You from? Identity and Suffering in Discipleship and Witness',\n    'dc:creator': 'Ewell R.V.',\n    'prism:publicationName': 'Mission Studies',\n    'prism:issn': '01689789',\n    'prism:eIssn': '15733831',\n    'prism:volume': '39',\n    'prism:issueIdentifier': '2',\n    'prism:pageRange': '203-218',\n    'prism:coverDate': '2022-01-01',\n    'prism:coverDisplayDate': '2022',\n    'prism:doi': '10.1163/15733831-12341847',\n    'citedby-count': '0',\n    'affiliation': [{'@_fa': 'true',\n      'affilname': 'United Bible Societies',\n      'affiliation-city': 'Swindon',\n      'affiliation-country': 'United Kingdom'}],\n    'prism:aggregationType': 'Journal',\n    'subtype': 'ar',\n    'subtypeDescription': 'Article',\n    'source-id': '16200154711',\n    'openaccess': '0',\n    'openaccessFlag': False},\n   {'@_fa': 'true',\n    'link': [{'@_fa': 'true',\n      '@ref': 'self',\n      '@href': 'https://api.elsevier.com/content/abstract/scopus_id/85132715447'},\n     {'@_fa': 'true',\n      '@ref': 'author-affiliation',\n      '@href': 'https://api.elsevier.com/content/abstract/scopus_id/85132715447?field=author,affiliation'},\n     {'@_fa': 'true',\n      '@ref': 'scopus',\n      '@href': 'https://www.scopus.com/inward/record.uri?partnerID=HzOxMe3b&scp=85132715447&origin=inward'},\n     {'@_fa': 'true',\n      '@ref': 'scopus-citedby',\n      '@href': 'https://www.scopus.com/inward/citedby.uri?partnerID=HzOxMe3b&scp=85132715447&origin=inward'}],\n    'prism:url': 'https://api.elsevier.com/content/abstract/scopus_id/85132715447',\n    'dc:identifier': 'SCOPUS_ID:85132715447',\n    'eid': '2-s2.0-85132715447',\n    'dc:title': 'The Construction and Contents of the Beatty-Michigan Pauline Epistles Codex (B46)',\n    'dc:creator': 'Nongbri B.',\n    'prism:publicationName': 'Novum Testamentum',\n    'prism:issn': '00481009',\n    'prism:eIssn': '15685365',\n    'prism:volume': '64',\n    'prism:issueIdentifier': '3',\n    'prism:pageRange': '388-407',\n    'prism:coverDate': '2022-01-01',\n    'prism:coverDisplayDate': '2022',\n    'prism:doi': '10.1163/15685365-bja10024',\n    'citedby-count': '0',\n    'affiliation': [{'@_fa': 'true',\n      'affilname': 'Det teologiske Menighetsfakultet',\n      'affiliation-city': 'Oslo',\n      'affiliation-country': 'Norway'}],\n    'prism:aggregationType': 'Journal',\n    'subtype': 'ar',\n    'subtypeDescription': 'Article',\n    'source-id': '7100153141',\n    'openaccess': '0',\n    'openaccessFlag': False},\n   {'@_fa': 'true',\n    'link': [{'@_fa': 'true',\n      '@ref': 'self',\n      '@href': 'https://api.elsevier.com/content/abstract/scopus_id/85132691238'},\n     {'@_fa': 'true',\n      '@ref': 'author-affiliation',\n      '@href': 'https://api.elsevier.com/content/abstract/scopus_id/85132691238?field=author,affiliation'},\n     {'@_fa': 'true',\n      '@ref': 'scopus',\n      '@href': 'https://www.scopus.com/inward/record.uri?partnerID=HzOxMe3b&scp=85132691238&origin=inward'},\n     {'@_fa': 'true',\n      '@ref': 'scopus-citedby',\n      '@href': 'https://www.scopus.com/inward/citedby.uri?partnerID=HzOxMe3b&scp=85132691238&origin=inward'}],\n    'prism:url': 'https://api.elsevier.com/content/abstract/scopus_id/85132691238',\n    'dc:identifier': 'SCOPUS_ID:85132691238',\n    'eid': '2-s2.0-85132691238',\n    'dc:title': 'Reflecting Ancient Ethics',\n    'dc:creator': 'Smith D.A.',\n    'prism:publicationName': 'Novum Testamentum',\n    'prism:issn': '00481009',\n    'prism:eIssn': '15685365',\n    'prism:volume': '64',\n    'prism:issueIdentifier': '3',\n    'prism:pageRange': '296-317',\n    'prism:coverDate': '2022-01-01',\n    'prism:coverDisplayDate': '2022',\n    'prism:doi': '10.1163/15685365-bja10022',\n    'citedby-count': '0',\n    'affiliation': [{'@_fa': 'true',\n      'affilname': 'Asbury Theological Seminary',\n      'affiliation-city': 'Wilmore',\n      'affiliation-country': 'United States'}],\n    'prism:aggregationType': 'Journal',\n    'subtype': 'ar',\n    'subtypeDescription': 'Article',\n    'source-id': '7100153141',\n    'openaccess': '0',\n    'openaccessFlag': False},\n   {'@_fa': 'true',\n    'link': [{'@_fa': 'true',\n      '@ref': 'self',\n      '@href': 'https://api.elsevier.com/content/abstract/scopus_id/85132384847'},\n     {'@_fa': 'true',\n      '@ref': 'author-affiliation',\n      '@href': 'https://api.elsevier.com/content/abstract/scopus_id/85132384847?field=author,affiliation'},\n     {'@_fa': 'true',\n      '@ref': 'scopus',\n      '@href': 'https://www.scopus.com/inward/record.uri?partnerID=HzOxMe3b&scp=85132384847&origin=inward'},\n     {'@_fa': 'true',\n      '@ref': 'scopus-citedby',\n      '@href': 'https://www.scopus.com/inward/citedby.uri?partnerID=HzOxMe3b&scp=85132384847&origin=inward'}],\n    'prism:url': 'https://api.elsevier.com/content/abstract/scopus_id/85132384847',\n    'dc:identifier': 'SCOPUS_ID:85132384847',\n    'eid': '2-s2.0-85132384847',\n    'dc:title': 'Questioning the Pauline Authorship of Philemon: Crackpot Theory or Plausible Alternative?',\n    'dc:creator': 'Paley J.',\n    'prism:publicationName': 'Expository Times',\n    'prism:issn': '00145246',\n    'prism:eIssn': '17455308',\n    'prism:pageRange': None,\n    'prism:coverDate': '2022-01-01',\n    'prism:coverDisplayDate': '2022',\n    'prism:doi': '10.1177/00145246221105649',\n    'citedby-count': '0',\n    'prism:aggregationType': 'Journal',\n    'subtype': 'ar',\n    'subtypeDescription': 'Article',\n    'source-id': '5800162102',\n    'openaccess': '0',\n    'openaccessFlag': False},\n   {'@_fa': 'true',\n    'link': [{'@_fa': 'true',\n      '@ref': 'self',\n      '@href': 'https://api.elsevier.com/content/abstract/scopus_id/85132303155'},\n     {'@_fa': 'true',\n      '@ref': 'author-affiliation',\n      '@href': 'https://api.elsevier.com/content/abstract/scopus_id/85132303155?field=author,affiliation'},\n     {'@_fa': 'true',\n      '@ref': 'scopus',\n      '@href': 'https://www.scopus.com/inward/record.uri?partnerID=HzOxMe3b&scp=85132303155&origin=inward'},\n     {'@_fa': 'true',\n      '@ref': 'scopus-citedby',\n      '@href': 'https://www.scopus.com/inward/citedby.uri?partnerID=HzOxMe3b&scp=85132303155&origin=inward'}],\n    'prism:url': 'https://api.elsevier.com/content/abstract/scopus_id/85132303155',\n    'dc:identifier': 'SCOPUS_ID:85132303155',\n    'eid': '2-s2.0-85132303155',\n    'dc:title': 'Rethinking Charis in English and Yoruba Bible Interpretations: from Biblical Exegesis to Translation Analysis',\n    'dc:creator': 'Adeyefa D.C.',\n    'prism:publicationName': 'Southern Semiotic Review',\n    'prism:eIssn': '22022783',\n    'prism:volume': '2022',\n    'prism:issueIdentifier': '16',\n    'prism:pageRange': '176-203',\n    'prism:coverDate': '2022-01-01',\n    'prism:coverDisplayDate': '2022',\n    'prism:doi': '10.33234/SSR.16.7',\n    'citedby-count': '0',\n    'affiliation': [{'@_fa': 'true',\n      'affilname': 'Olabisi Onabanjo University',\n      'affiliation-city': 'Ago-Iwoye',\n      'affiliation-country': 'Nigeria'}],\n    'prism:aggregationType': 'Journal',\n    'subtype': 're',\n    'subtypeDescription': 'Review',\n    'source-id': '21101089399',\n    'openaccess': '0',\n    'openaccessFlag': False},\n   {'@_fa': 'true',\n    'link': [{'@_fa': 'true',\n      '@ref': 'self',\n      '@href': 'https://api.elsevier.com/content/abstract/scopus_id/85132118556'},\n     {'@_fa': 'true',\n      '@ref': 'author-affiliation',\n      '@href': 'https://api.elsevier.com/content/abstract/scopus_id/85132118556?field=author,affiliation'},\n     {'@_fa': 'true',\n      '@ref': 'scopus',\n      '@href': 'https://www.scopus.com/inward/record.uri?partnerID=HzOxMe3b&scp=85132118556&origin=inward'},\n     {'@_fa': 'true',\n      '@ref': 'scopus-citedby',\n      '@href': 'https://www.scopus.com/inward/citedby.uri?partnerID=HzOxMe3b&scp=85132118556&origin=inward'}],\n    'prism:url': 'https://api.elsevier.com/content/abstract/scopus_id/85132118556',\n    'dc:identifier': 'SCOPUS_ID:85132118556',\n    'eid': '2-s2.0-85132118556',\n    'dc:title': 'Kardia in the Pauline Anthropology',\n    'dc:creator': 'Bloechl J.',\n    'prism:publicationName': 'Contributions To Phenomenology',\n    'prism:issn': '09239545',\n    'prism:eIssn': '22151915',\n    'prism:volume': '117',\n    'prism:pageRange': '3-17',\n    'prism:coverDate': '2022-01-01',\n    'prism:coverDisplayDate': '2022',\n    'prism:doi': '10.1007/978-3-030-91928-3_1',\n    'citedby-count': '0',\n    'affiliation': [{'@_fa': 'true',\n      'affilname': 'Boston College',\n      'affiliation-city': 'Chestnut Hill',\n      'affiliation-country': 'United States'}],\n    'prism:aggregationType': 'Book Series',\n    'subtype': 'ch',\n    'subtypeDescription': 'Book Chapter',\n    'source-id': '21101058175',\n    'openaccess': '0',\n    'openaccessFlag': False},\n   {'@_fa': 'true',\n    'link': [{'@_fa': 'true',\n      '@ref': 'self',\n      '@href': 'https://api.elsevier.com/content/abstract/scopus_id/85131834201'},\n     {'@_fa': 'true',\n      '@ref': 'author-affiliation',\n      '@href': 'https://api.elsevier.com/content/abstract/scopus_id/85131834201?field=author,affiliation'},\n     {'@_fa': 'true',\n      '@ref': 'scopus',\n      '@href': 'https://www.scopus.com/inward/record.uri?partnerID=HzOxMe3b&scp=85131834201&origin=inward'},\n     {'@_fa': 'true',\n      '@ref': 'scopus-citedby',\n      '@href': 'https://www.scopus.com/inward/citedby.uri?partnerID=HzOxMe3b&scp=85131834201&origin=inward'}],\n    'prism:url': 'https://api.elsevier.com/content/abstract/scopus_id/85131834201',\n    'dc:identifier': 'SCOPUS_ID:85131834201',\n    'eid': '2-s2.0-85131834201',\n    'dc:title': 'From the Katechōn of Anti-Black Original Sin to the Mystery of Black Messianic Lawlessness: Notes on a Form-of-Life-Toward-Social-Death',\n    'dc:creator': 'Kaplan A.S.',\n    'prism:publicationName': 'Political Theology',\n    'prism:issn': '1462317X',\n    'prism:eIssn': '17431719',\n    'prism:pageRange': None,\n    'prism:coverDate': '2022-01-01',\n    'prism:coverDisplayDate': '2022',\n    'prism:doi': '10.1080/1462317X.2022.2087554',\n    'citedby-count': '0',\n    'affiliation': [{'@_fa': 'true',\n      'affilname': 'Emory University',\n      'affiliation-city': 'Atlanta',\n      'affiliation-country': 'United States'}],\n    'prism:aggregationType': 'Journal',\n    'subtype': 'ar',\n    'subtypeDescription': 'Article',\n    'source-id': '5700168539',\n    'openaccess': '0',\n    'openaccessFlag': False},\n   {'@_fa': 'true',\n    'link': [{'@_fa': 'true',\n      '@ref': 'self',\n      '@href': 'https://api.elsevier.com/content/abstract/scopus_id/85127816783'},\n     {'@_fa': 'true',\n      '@ref': 'author-affiliation',\n      '@href': 'https://api.elsevier.com/content/abstract/scopus_id/85127816783?field=author,affiliation'},\n     {'@_fa': 'true',\n      '@ref': 'scopus',\n      '@href': 'https://www.scopus.com/inward/record.uri?partnerID=HzOxMe3b&scp=85127816783&origin=inward'},\n     {'@_fa': 'true',\n      '@ref': 'scopus-citedby',\n      '@href': 'https://www.scopus.com/inward/citedby.uri?partnerID=HzOxMe3b&scp=85127816783&origin=inward'}],\n    'prism:url': 'https://api.elsevier.com/content/abstract/scopus_id/85127816783',\n    'dc:identifier': 'SCOPUS_ID:85127816783',\n    'eid': '2-s2.0-85127816783',\n    'dc:title': 'Saint Paul’s Thorn in the Flesh: a Dermatological Weakness?',\n    'dc:creator': 'Pascual A.M.',\n    'prism:publicationName': 'Scientia et Fides',\n    'prism:issn': '23007648',\n    'prism:eIssn': '23535636',\n    'prism:volume': '10',\n    'prism:issueIdentifier': '1',\n    'prism:pageRange': '9-27',\n    'prism:coverDate': '2022-01-01',\n    'prism:coverDisplayDate': '2022',\n    'prism:doi': '10.12775/SetF.2022.001',\n    'citedby-count': '0',\n    'affiliation': [{'@_fa': 'true',\n      'affilname': 'Hospital Universitari de Bellvitge',\n      'affiliation-city': 'Barcelona',\n      'affiliation-country': 'Spain'}],\n    'prism:aggregationType': 'Journal',\n    'subtype': 'ar',\n    'subtypeDescription': 'Article',\n    'source-id': '21100456774',\n    'openaccess': '1',\n    'openaccessFlag': True,\n    'freetoread': {'value': [{'$': 'all'},\n      {'$': 'publisherfullgold'},\n      {'$': 'repository'},\n      {'$': 'repositoryvor'}]},\n    'freetoreadLabel': {'value': [{'$': 'All Open Access'},\n      {'$': 'Gold'},\n      {'$': 'Green'}]}}]}}"
     },
     "execution_count": 47,
     "metadata": {},
     "output_type": "execute_result"
    }
   ],
   "source": [
    "query = \"TITLE-ABS-KEY (\" + phrases_combined + \" )\"\n",
    "resp = requests.get(base_url + query)\n",
    "resp.json()"
   ],
   "metadata": {
    "collapsed": false,
    "pycharm": {
     "name": "#%%\n"
    }
   }
  }
 ],
 "metadata": {
  "kernelspec": {
   "display_name": "Python 3",
   "language": "python",
   "name": "python3"
  },
  "language_info": {
   "codemirror_mode": {
    "name": "ipython",
    "version": 2
   },
   "file_extension": ".py",
   "mimetype": "text/x-python",
   "name": "python",
   "nbconvert_exporter": "python",
   "pygments_lexer": "ipython2",
   "version": "2.7.6"
  }
 },
 "nbformat": 4,
 "nbformat_minor": 0
}