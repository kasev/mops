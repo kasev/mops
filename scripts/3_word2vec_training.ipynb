{
 "cells": [
  {
   "cell_type": "code",
   "execution_count": 1,
   "metadata": {
    "collapsed": true,
    "ExecuteTime": {
     "start_time": "2023-03-31T00:38:54.262342Z",
     "end_time": "2023-03-31T00:38:55.642588Z"
    }
   },
   "outputs": [],
   "source": [
    "import pandas as pd\n",
    "import pickle\n",
    "import json\n",
    "from gensim.models import Word2Vec\n",
    "from gensim.corpora import Dictionary\n",
    "from gensim.models.callbacks import CallbackAny2Vec\n",
    "from gensim.models import KeyedVectors\n",
    "import numpy as np"
   ]
  },
  {
   "cell_type": "code",
   "execution_count": 2,
   "outputs": [],
   "source": [
    "metadata_df = pd.read_json(\"../data/metadata_rich_df.json\")\n"
   ],
   "metadata": {
    "collapsed": false,
    "ExecuteTime": {
     "start_time": "2023-03-31T00:38:55.618664Z",
     "end_time": "2023-03-31T00:38:56.418381Z"
    }
   }
  },
  {
   "cell_type": "code",
   "execution_count": 3,
   "outputs": [],
   "source": [
    "sourcepath = \"../data/large_files/trigrams_lemmatized/\"\n",
    "with open(sourcepath + \"trigrams_lemmata_id_0.txt\".format(str(id)), \"r\") as f:\n",
    "    trigrams_list = f.readlines()"
   ],
   "metadata": {
    "collapsed": false,
    "ExecuteTime": {
     "start_time": "2023-03-31T00:38:56.421349Z",
     "end_time": "2023-03-31T00:38:56.425197Z"
    }
   }
  },
  {
   "cell_type": "code",
   "execution_count": 4,
   "outputs": [
    {
     "data": {
      "text/plain": "['religious matter',\n 'divine hope',\n 'divine hope',\n 'leave unresolved',\n 'leave unresolved',\n 'racial equality',\n 'racial equality',\n 'joint action',\n 'joint action',\n 'joint action']"
     },
     "execution_count": 4,
     "metadata": {},
     "output_type": "execute_result"
    }
   ],
   "source": [
    "\n",
    "[el.strip() for el in trigrams_list][:10]"
   ],
   "metadata": {
    "collapsed": false,
    "ExecuteTime": {
     "start_time": "2023-03-31T00:38:56.429348Z",
     "end_time": "2023-03-31T00:38:56.434506Z"
    }
   }
  },
  {
   "cell_type": "code",
   "execution_count": 5,
   "outputs": [
    {
     "data": {
      "text/plain": "['1900-1919', '1920-1939', '1940-1959', '1960-1979', '1980-1999', '2000-2019']"
     },
     "execution_count": 5,
     "metadata": {},
     "output_type": "execute_result"
    }
   ],
   "source": [
    "bidecades_strs = sorted([el for el in list(set(metadata_df[\"bidecade\"])) if el != None])\n",
    "bidecades_strs"
   ],
   "metadata": {
    "collapsed": false,
    "ExecuteTime": {
     "start_time": "2023-03-31T00:38:56.440161Z",
     "end_time": "2023-03-31T00:38:56.489112Z"
    }
   }
  },
  {
   "cell_type": "code",
   "execution_count": 6,
   "outputs": [
    {
     "data": {
      "text/plain": "782"
     },
     "execution_count": 6,
     "metadata": {},
     "output_type": "execute_result"
    }
   ],
   "source": [
    "bidecade = \"1900-1919\"\n",
    "ids = metadata_df[metadata_df[\"bidecade\"]==bidecade][\"id_kase\"]\n",
    "len(ids)"
   ],
   "metadata": {
    "collapsed": false,
    "ExecuteTime": {
     "start_time": "2023-03-31T00:38:56.447450Z",
     "end_time": "2023-03-31T00:38:56.490590Z"
    }
   }
  },
  {
   "cell_type": "code",
   "execution_count": 27,
   "outputs": [],
   "source": [
    "trigrams_lemmata = []\n",
    "for id in ids:\n",
    "    with open(\"../data/large_files/trigrams_lemmatized/trigrams_lemmata_id_{}.txt\".format(str(id)), \"r\") as f:\n",
    "        trigrams_lemmata.extend([el for el in f.readlines()])"
   ],
   "metadata": {
    "collapsed": false,
    "ExecuteTime": {
     "start_time": "2023-03-31T00:02:19.243126Z",
     "end_time": "2023-03-31T00:02:19.527642Z"
    }
   }
  },
  {
   "cell_type": "code",
   "execution_count": 28,
   "outputs": [
    {
     "data": {
      "text/plain": "['Michigan Ann Arbor\\n',\n 'Bonner University\\n',\n 'Bonner University\\n',\n 'Iowa Iowa\\n',\n 'Iowa Iowa\\n',\n 'Kansas Lawrence\\n',\n 'Ginn Co\\n',\n 'Elliott University\\n',\n 'Elliott University\\n',\n 'Kansas Lawrence Kansas\\n',\n 'Northfield Minnesota\\n',\n 'Drake University Des\\n',\n 'aspect athenian\\n',\n 'Paul epistle\\n',\n 'Paul epistle\\n',\n 'various paper\\n',\n 'various paper\\n',\n 'place assembly\\n',\n 'State College\\n',\n 'Hellems University\\n',\n 'Hellems University\\n',\n 'meeting Thursday\\n',\n 'meeting Thursday\\n',\n 'Boulder Colorado\\n',\n 'Word Order\\n',\n 'Barber University\\n',\n 'Barber University\\n',\n 'Missouri Columbia\\n',\n 'final copy\\n',\n 'final copy\\n',\n 'final copy\\n',\n 'Walker University\\n',\n 'Walker University\\n',\n 'University Minnesota\\n',\n 'Chicago Chicago\\n',\n 'Chicago Chicago\\n',\n 'Classical Journal\\n',\n 'Classical Journal\\n',\n 'Classical Journal\\n',\n 'Chamber Commerce\\n',\n 'Kelsey University\\n',\n 'Kelsey University\\n',\n \"o'clock Saturday\\n\",\n \"o'clock Saturday\\n\",\n 'State Normal School\\n',\n 'Wisconsin Madison\\n',\n 'University Chicago\\n',\n 'University Chicago\\n',\n 'Normal College Ypsilanti\\n',\n 'Classical Association\\n',\n 'Classical Association\\n',\n 'Classical Association\\n',\n 'Classical Association\\n',\n 'various institution\\n',\n 'various institution\\n',\n 'University Texas\\n',\n 'Carleton College Northfield\\n',\n 'Annual Meeting\\n',\n 'City Iowa\\n',\n 'Secondary Education\\n',\n 'Secondary Education\\n',\n 'Michigan Ann\\n',\n 'Central High\\n',\n 'Central High\\n',\n 'Central High\\n',\n 'university Colorado\\n',\n 'William Jewell College\\n',\n 'ancient modern\\n',\n 'ancient modern\\n',\n 'time permit\\n',\n 'Prescott University\\n',\n 'Prescott University\\n',\n 'various committee\\n',\n 'various committee\\n',\n 'Michigan State Normal\\n',\n 'University Kansas\\n',\n 'College Northfield Minnesota\\n',\n 'Colorado Boulder\\n',\n 'State Normal College\\n',\n 'New Orleans Louisiana\\n',\n 'Texas Austin\\n',\n 'Wabash College Crawfordsville\\n',\n 'Grinnell College Grinnell\\n',\n 'Charles Smiley\\n',\n 'Indiana University Bloomington\\n',\n 'Iowa Iowa City\\n',\n 'Iowa Iowa City\\n',\n 'Jewell College Liberty\\n',\n 'Moines Iowa\\n',\n 'Friday Pm\\n',\n 'Central High School\\n',\n 'Central High School\\n',\n 'Central High School\\n',\n 'Ann Arbor Michigan\\n',\n 'Nebraska Lincoln\\n',\n 'Chicago Illinois\\n',\n 'Chicago Chicago Illinois\\n',\n 'Chicago Chicago Illinois\\n',\n 'Florida State College\\n',\n 'High Schools\\n',\n 'High Schools\\n',\n 'Thursday Pm\\n',\n 'Thursday Pm\\n',\n 'Arthur Keith\\n',\n 'com parison\\n',\n 'com parison\\n',\n 'Daniel Penick\\n',\n 'World Dominion\\n',\n 'University Nebraska\\n',\n 'fair play\\n',\n 'Virgil Milton\\n',\n 'Iowa City Iowa\\n',\n 'Iowa City Iowa\\n',\n 'Wisconsin Madison Wisconsin\\n',\n 'West South\\n',\n 'South Dakota\\n',\n 'Francis Kelsey\\n',\n 'Systematic Study\\n',\n 'Systematic Study\\n',\n 'modern World\\n',\n 'University Des Moines\\n',\n 'Minnesota Minneapolis\\n',\n 'College woman\\n',\n 'University Bloomington Indiana\\n',\n 'Des Moines Iowa\\n',\n 'informal gathering\\n',\n 'University Missouri\\n',\n 'High School\\n',\n 'High School\\n',\n 'High School\\n',\n 'University Iowa\\n',\n 'University Iowa\\n',\n 'Henry Prescott\\n',\n 'Nebraska April\\n',\n 'middle West\\n',\n 'University Michigan\\n',\n 'University Wisconsin\\n',\n 'Homer Virgil\\n',\n 'Homer Virgil\\n',\n 'Penick University\\n',\n 'Penick University\\n',\n 'Texas Austin Texas\\n',\n 'Cooperation Latin\\n',\n 'College Ypsilanti Mich\\n',\n 'University South\\n',\n 'study English\\n',\n 'Middle West\\n',\n 'study style\\n',\n 'far time\\n',\n 'discuss various\\n',\n 'Highschool Latin\\n',\n 'Entwicklung Christentums\\n',\n 'archimedean point\\n',\n 'archimedean point\\n',\n 'dominant view\\n',\n 'dominant view\\n',\n 'intermediate step\\n',\n 'intermediate step\\n',\n 'whole evolution\\n',\n 'whole evolution\\n',\n 'time add\\n',\n 'Jews reject\\n',\n 'justify certain\\n',\n 'godless world\\n',\n 'godless world\\n',\n 'thing develop\\n',\n 'thing develop\\n',\n 'light life\\n',\n 'sinful mass\\n',\n 'sinful mass\\n',\n 'criterion judgment\\n',\n 'greek philosophy\\n',\n 'greek philosophy\\n',\n 'greek philosophy\\n',\n 'divine truth\\n',\n 'divine truth\\n',\n 'divine truth\\n',\n 'divine truth\\n',\n 'divine truth\\n',\n 'divine truth\\n',\n 'divine truth\\n',\n 'Romans build\\n',\n 'Romans build\\n',\n 'Testament become\\n',\n 'unity God\\n',\n 'view opinion\\n',\n 'church history\\n',\n 'church history\\n',\n 'church history\\n',\n 'church history\\n',\n 'church history\\n',\n 'church history\\n',\n 'church history\\n',\n 'church history\\n',\n 'church history\\n',\n 'church history\\n',\n 'church history\\n',\n 'church history\\n',\n 'main article\\n',\n 'main article\\n',\n 'dogma worship\\n',\n 'dogma worship\\n',\n 'fact Jesus\\n',\n 'ecclesiastical form\\n',\n 'ecclesiastical form\\n',\n 'severe word\\n',\n 'severe word\\n',\n 'India Greece\\n',\n 'become human\\n',\n 'ancient dualism\\n',\n 'ancient dualism\\n',\n 'personify ideal\\n',\n 'personify ideal\\n',\n 'old question\\n',\n 'old question\\n',\n 'bring light\\n',\n 'bring light\\n',\n 'bring light\\n',\n 'bring light\\n',\n 'spirit ual\\n',\n 'spirit ual\\n',\n 'large number\\n',\n 'large number\\n',\n 'perfect thing\\n',\n 'perfect thing\\n',\n 'ethical action\\n',\n 'law culture\\n',\n 'theology today\\n',\n 'justification faith\\n',\n 'side side\\n',\n 'enchanted world\\n',\n 'enchanted world\\n',\n 'family tie\\n',\n 'family tie\\n',\n 'magic spear\\n',\n 'magic spear\\n',\n 'profound thinker\\n',\n 'profound thinker\\n',\n 'opposed faction\\n',\n 'opposed faction\\n',\n 'comparative truth\\n',\n 'comparative truth\\n',\n 'christian faith\\n',\n 'christian faith\\n',\n 'christian faith\\n',\n 'christian faith\\n',\n 'christian faith\\n',\n 'christian faith\\n',\n 'christian faith\\n',\n 'christian faith\\n',\n 'pessimistic answer\\n',\n 'pessimistic answer\\n',\n 'time today\\n',\n 'time today\\n',\n 'religious conviction\\n',\n 'religious conviction\\n',\n 'ecclesiastical history\\n',\n 'ecclesiastical history\\n',\n 'ecclesiastical history\\n',\n 'ecclesiastical history\\n',\n 'ecclesiastical history\\n',\n 'ecclesiastical history\\n',\n 'ecclesiastical history\\n',\n 'christian religion\\n',\n 'christian religion\\n',\n 'christian religion\\n',\n 'christian religion\\n',\n 'manifold way\\n',\n 'manifold way\\n',\n 'hope reward\\n',\n 'catholic historian\\n',\n 'catholic historian\\n',\n 'life Jesus\\n',\n 'lawful fruit\\n',\n 'lawful fruit\\n',\n 'high ideal\\n',\n 'high ideal\\n',\n 'equal rank\\n',\n 'equal rank\\n',\n 'Trinity Incarnation\\n',\n 'century believe\\n',\n 'holy love\\n',\n 'holy love\\n',\n 'opposite extreme\\n',\n 'contain whole\\n',\n 'latter interpretation\\n',\n 'latter interpretation\\n',\n 'inflict wound\\n',\n 'inflict wound\\n',\n 'dogmatic thought\\n',\n 'dogmatic thought\\n',\n 'salvation redemption\\n',\n 'salvation redemption\\n',\n 'science consist\\n',\n 'expression mean\\n',\n 'unreserved recognition\\n',\n 'unreserved recognition\\n',\n 'leader modern\\n',\n 'christian ethic\\n',\n 'christian ethic\\n',\n 'christian ethic\\n',\n 'christian ethic\\n',\n 'view protestantism\\n',\n 'Son man\\n',\n 'origin Christianity\\n',\n 'origin Christianity\\n',\n 'Christian Church\\n',\n 'Christian Church\\n',\n 'Christian Church\\n',\n 'Christian Church\\n',\n 'effort make\\n',\n 'Jews Nothing\\n',\n 'Jews Nothing\\n',\n 'Mosaic law\\n',\n 'Mosaic law\\n',\n 'Mosaic law\\n',\n 'pure universal\\n',\n 'child God\\n',\n 'family society\\n',\n 'family society\\n',\n 'early day\\n',\n 'early day\\n',\n 'secularization christianity\\n',\n 'take place\\n',\n 'trade family\\n',\n 'open question\\n',\n 'sinful world\\n',\n 'sinful world\\n',\n 'Gospel St\\n',\n 'gospel Jesus\\n',\n 'gospel Jesus\\n',\n 'gospel Jesus\\n',\n 'gospel Jesus\\n',\n 'gospel Jesus\\n',\n 'new form\\n',\n 'new form\\n',\n 'intrinsic necessity\\n',\n 'intrinsic necessity\\n',\n 'people seek\\n',\n 'people seek\\n',\n 'die Entstehung des\\n',\n 'die Entstehung des\\n',\n 'order heal\\n',\n 'devil demon\\n',\n 'moral sense\\n',\n 'moral sense\\n',\n 'new protestantism\\n',\n 'new protestantism\\n',\n 'work die\\n',\n 'pleasant task\\n',\n 'pleasant task\\n',\n 'progress history\\n',\n 'early realization\\n',\n 'early realization\\n',\n 'treatment ecclesiastical\\n',\n 'new God\\n',\n 'new God\\n',\n 'entire church\\n',\n 'universal rule\\n',\n 'universal rule\\n',\n 'intellectual development\\n',\n 'intellectual development\\n',\n 'fact Christianity\\n',\n 'present day\\n',\n 'present day\\n',\n 'final word\\n',\n 'final word\\n',\n 'exist ing\\n',\n 'modern science\\n',\n 'animal nature\\n',\n 'deification humanity\\n',\n 'Christianity today\\n',\n 'modern theology\\n',\n 'modern theology\\n',\n 'last century\\n',\n 'last century\\n',\n 'Gos pel\\n',\n 'true revealer\\n',\n 'true revealer\\n',\n 'create divine\\n',\n 'spiritual freedom\\n',\n 'spiritual freedom\\n',\n 'less blame\\n',\n 'Jesus preaching\\n',\n 'Jesus preaching\\n',\n 'entire history\\n',\n 'entire history\\n',\n 'entire history\\n',\n 'entire history\\n',\n 'divine miracle\\n',\n 'divine miracle\\n',\n 'divine miracle\\n',\n 'ethical activity\\n',\n 'ethical activity\\n',\n 'first dawn\\n',\n 'find spirit\\n',\n 'arise various\\n',\n 'internal development\\n',\n 'internal development\\n',\n 'begin shake\\n',\n 'die Entwicklung des\\n',\n 'die Entwicklung des\\n',\n 'und Religionen\\n',\n 'und Religionen\\n',\n 'apocalyptic expectation\\n',\n 'apocalyptic expectation\\n',\n 'apocalyptic expectation\\n',\n 'apocalyptic expectation\\n',\n 'apocalyptic expectation\\n',\n 'apocalyptic expectation\\n',\n 'christian community\\n',\n 'christian community\\n',\n 'live faith\\n',\n 'live faith\\n',\n 'church father\\n',\n 'church father\\n',\n 'church father\\n',\n 'church father\\n',\n 'apostolic period\\n',\n 'apostolic period\\n',\n 'heal body\\n',\n 'heal body\\n',\n 'old protestant\\n',\n 'old protestant\\n',\n 'independent think\\n',\n 'independent think\\n',\n 'greek theologian\\n',\n 'greek theologian\\n',\n 'today call\\n',\n 'today call\\n',\n 'history say\\n',\n 'Paul Cor\\n',\n 'make sure\\n',\n 'make sure\\n',\n 'first evangelist\\n',\n 'influence Christian\\n',\n 'Platonism Stoicism\\n',\n 'divine control\\n',\n 'true Greek\\n',\n 'whole history\\n',\n 'whole history\\n',\n 'different ecclesiastical\\n',\n 'protestant critique\\n',\n 'comforting word\\n',\n 'comforting word\\n',\n 'comforting word\\n',\n 'comforting word\\n',\n 'worship ethic\\n',\n 'order appreciate\\n',\n 'hostile world\\n',\n 'hostile world\\n',\n 'recognize divine\\n',\n 'seem much\\n',\n 'initial development\\n',\n 'become conscious\\n',\n 'become conscious\\n',\n 'obscure point\\n',\n 'obscure point\\n',\n 'Evolution christianity\\n',\n 'Evolution christianity\\n',\n 'Evolution christianity\\n',\n 'Evolution christianity\\n',\n 'Evolution christianity\\n',\n 'Evolution christianity\\n',\n 'Evolution christianity\\n',\n 'Evolution christianity\\n',\n 'Evolution christianity\\n',\n 'Evolution christianity\\n',\n 'christian truth\\n',\n 'christian truth\\n',\n 'spacial temporal\\n',\n 'opposition christianity\\n',\n 'thing find\\n',\n 'noble race\\n',\n 'noble race\\n',\n 'make exception\\n',\n 'make exception\\n',\n 'announce new\\n',\n 'historical science\\n',\n 'historical science\\n',\n 'time become\\n',\n 'time become\\n',\n 'Apostle Paul\\n',\n 'Apostle Paul\\n',\n 'Apostle Paul\\n',\n 'Apostle Paul\\n',\n 'Apostle Paul\\n',\n 'Apostle Paul\\n',\n 'believe today\\n',\n 'compassionate love\\n',\n 'compassionate love\\n',\n 'compassionate love\\n',\n 'compassionate love\\n',\n 'certain step\\n',\n 'certain step\\n',\n 'redemption deliverance\\n',\n 'live religion\\n',\n 'live religion\\n',\n 'protestant church\\n',\n 'protestant church\\n',\n 'begin advance\\n',\n 'institution found\\n',\n 'institution found\\n',\n 'apocalyptic writing\\n',\n 'positive conclusion\\n',\n 'positive conclusion\\n',\n 'high unity\\n',\n 'high unity\\n',\n 'Jews look\\n',\n 'Jews look\\n',\n 'point view\\n',\n 'point view\\n',\n 'single individual\\n',\n 'single individual\\n',\n 'whole Mosaic\\n',\n 'old protestantism\\n',\n 'old protestantism\\n',\n 'old protestantism\\n',\n 'old protestantism\\n',\n 'old protestantism\\n',\n 'old protestantism\\n',\n 'old protestantism\\n',\n 'old protestantism\\n',\n 'narrow exclusive\\n',\n 'Middle Ages\\n',\n 'Middle Ages\\n',\n 'Middle Ages\\n',\n 'Middle Ages\\n',\n 'church tory\\n',\n 'pure gospel\\n',\n 'pure gospel\\n',\n 'evolutionary point\\n',\n 'evolutionary point\\n',\n 'necessary christianity\\n',\n 'prepare people\\n',\n 'natural motive\\n',\n 'natural motive\\n',\n 'dogma ritual\\n',\n 'publish series\\n',\n 'head Christ\\n',\n 'lie deceit\\n',\n 'hold view\\n',\n 'sovereignty God\\n',\n 'late work\\n',\n 'late work\\n',\n 'extreme need\\n',\n 'extreme need\\n',\n 'perfect mean\\n',\n 'perfect mean\\n',\n 'people put\\n',\n 'Greece make\\n',\n 'show reason\\n',\n 'great crisis\\n',\n 'great crisis\\n',\n 'old ecclesiastical\\n',\n 'old ecclesiastical\\n',\n 'Bible Christianity\\n',\n 'primitive form\\n',\n 'primitive form\\n',\n 'natural manifestation\\n',\n 'natural manifestation\\n',\n 'view entire\\n',\n 'early end\\n',\n 'early end\\n',\n 'find new\\n',\n 'mythical form\\n',\n 'mythical form\\n',\n 'ene mie\\n',\n 'ene mie\\n',\n 'history mankind\\n',\n 'whole hierarchy\\n',\n 'whole hierarchy\\n',\n 'Son God\\n',\n 'Son God\\n',\n 'Jesus portray\\n',\n 'wisdom India\\n',\n 'New Testament\\n',\n 'New Testament\\n',\n 'New Testament\\n',\n 'New Testament\\n',\n 'New Testament\\n',\n 'New Testament\\n',\n 'New Testament christianity\\n',\n 'development christianity\\n',\n 'development christianity\\n',\n 'devout spirit\\n',\n 'particular capacity\\n',\n 'particular capacity\\n',\n 'religious political\\n',\n 'become Christianity\\n',\n 'advanced step\\n',\n 'advanced step\\n',\n 'Christianity make\\n',\n 'Christianity make\\n',\n 'certain philosophical\\n',\n 'divine revelation\\n',\n 'divine revelation\\n',\n 'call disease\\n',\n 'course true\\n',\n 'course true\\n',\n 'old Catholic\\n',\n 'old Catholic\\n',\n 'communal faith\\n',\n 'communal faith\\n',\n 'Testament time\\n',\n 'whole become\\n',\n 'give quantity\\n',\n 'definite work\\n',\n 'hand accord\\n',\n 'hand accord\\n',\n 'establish kingdom\\n',\n 'national legal\\n',\n 'give summary\\n',\n 'organized community\\n',\n 'organized community\\n',\n 'definite expression\\n',\n 'definite expression\\n',\n 'moral world\\n',\n 'moral world\\n',\n 'case Christianity\\n',\n 'God accord\\n',\n 'God accord\\n',\n 'God accord\\n',\n 'miraculous revelation\\n',\n 'miraculous revelation\\n',\n 'nature Romans\\n',\n 'find fault\\n',\n 'find fault\\n',\n 'natural humanity\\n',\n 'natural humanity\\n',\n 'objectionable sense\\n',\n 'objectionable sense\\n',\n 'pagan Romans\\n',\n 'death resurrection\\n',\n 'Christianity become\\n',\n 'entire christianity\\n',\n 'entire christianity\\n',\n 'expectation Jesus\\n',\n 'episcopal office\\n',\n 'episcopal office\\n',\n 'actual world\\n',\n 'actual world\\n',\n 'true essence\\n',\n 'true essence\\n',\n 'Israel Gentiles\\n',\n 'religious ethical\\n',\n 'holy nature\\n',\n 'holy nature\\n',\n 'gentile exclude\\n',\n 'early religion\\n',\n 'early religion\\n',\n 'new fact\\n',\n 'direct influence\\n',\n 'understand legitimate\\n',\n 'ancient world\\n',\n 'ancient world\\n',\n 'ancient world\\n',\n 'ancient world\\n',\n 'organization develop\\n',\n 'fruit seed\\n',\n 'Jesus different\\n',\n 'Catholic Church\\n',\n 'Catholic Church\\n',\n 'various direction\\n',\n 'various direction\\n',\n 'accord John\\n',\n 'early conception\\n',\n 'christian pale\\n',\n 'temporal kingdom\\n',\n 'temporal kingdom\\n',\n 'faith God\\n',\n 'Christianity Berlin\\n',\n 'persian religion\\n',\n 'persian religion\\n',\n 'accord Ritschl\\n',\n 'other take\\n',\n 'half century\\n',\n 'new religion\\n',\n 'new religion\\n',\n 'new religion\\n',\n 'new religion\\n',\n 'earthly hierarchy\\n',\n 'earthly hierarchy\\n',\n 'spiritual unity\\n',\n 'spiritual unity\\n',\n 'ethical significance\\n',\n 'power Jesus\\n',\n 'point history\\n',\n 'become accord\\n',\n 'remote echo\\n',\n 'remote echo\\n',\n 'prevalent conception\\n',\n 'prevalent conception\\n',\n 'world old\\n',\n 'prophet Hosea\\n',\n 'single phenomenon\\n',\n 'single phenomenon\\n',\n 'view seem\\n',\n 'view seem\\n',\n 'remote God\\n',\n 'remote God\\n',\n 'historical research\\n',\n 'continuous process\\n',\n 'continuous process\\n',\n 'apocalyptic idea\\n',\n 'apocalyptic idea\\n',\n 'first year\\n',\n 'first year\\n',\n 'order rise\\n',\n 'historical probability\\n',\n 'historical probability\\n',\n 'origin evolution\\n',\n 'prominent feature\\n',\n 'prominent feature\\n',\n 'perfect essence\\n',\n 'perfect essence\\n',\n 'prophetic calling\\n',\n 'dogmatic history\\n',\n 'dogmatic history\\n',\n 'demand new\\n',\n 'die Entstehung\\n',\n 'die Entstehung\\n',\n 'new epoch\\n',\n 'new epoch\\n',\n 'Church Catholicism\\n',\n 'Church Catholicism\\n',\n 'present life\\n',\n 'present life\\n',\n 'world exist\\n',\n 'ecclesiastical dogmatic\\n',\n 'way arise\\n',\n 'word modern\\n',\n 'world antiquity\\n',\n 'pessimistic view\\n',\n 'pessimistic view\\n',\n 'pessimistic view\\n',\n 'make bring\\n',\n 'doctrine evolution\\n',\n 'become aware\\n',\n 'become aware\\n',\n 'Romans iii\\n',\n 'Romans iii\\n',\n 'pope consider\\n',\n 'religion true\\n',\n 'historical status\\n',\n 'historical status\\n',\n 'Gospel proclaim\\n',\n 'found Christ\\n',\n 'universal law\\n',\n 'universal law\\n',\n 'flesh Jesus\\n',\n 'point begin\\n',\n 'state happiness\\n',\n 'kingdom God\\n',\n 'kingdom God\\n',\n 'kingdom God\\n',\n 'kingdom God\\n',\n 'kingdom God\\n',\n 'kingdom God\\n',\n 'kingdom God\\n',\n 'kingdom God\\n',\n 'church dogma\\n',\n 'first century\\n',\n 'central idea\\n',\n 'central idea\\n',\n 'able exist\\n',\n 'certain article\\n',\n 'certain article\\n',\n 'time challenge\\n',\n 'Baur accord\\n',\n 'Baur accord\\n',\n 'close connection\\n',\n 'close connection\\n',\n 'world adopt\\n',\n 'difficulty arrive\\n',\n 'Protestantism follow\\n',\n 'entire literature\\n',\n 'entire literature\\n',\n 'house Israel\\n',\n 'save act\\n',\n 'save act\\n',\n 'sermon God\\n',\n 'former seem\\n',\n 'intellectual union\\n',\n 'intellectual union\\n',\n 'assumption fundamental\\n',\n 'science history\\n',\n 'idea express\\n',\n 'political motive\\n',\n 'political motive\\n',\n 'essence Christianity\\n',\n 'essence Christianity\\n',\n 'essence Christianity\\n',\n 'Jesus Christianity\\n',\n 'science today\\n',\n 'Religion und Religionen\\n',\n 'Religion und Religionen\\n',\n 'lost sheep\\n',\n 'lost sheep\\n',\n 'contemplative wisdom\\n',\n 'contemplative wisdom\\n',\n 'New Testament time\\n',\n 'new spirit\\n',\n 'new spirit\\n',\n 'inner union\\n',\n 'inner union\\n',\n 'follow people\\n',\n 'evolution christianity\\n',\n 'evolution christianity\\n',\n 'evolution christianity\\n',\n 'profound idea\\n',\n 'profound idea\\n',\n 'real truth\\n',\n 'different spirit\\n',\n 'different spirit\\n',\n 'new struggle\\n',\n 'jewish kingdom\\n',\n 'man new\\n',\n 'kingdom accord\\n',\n 'kingdom accord\\n',\n 'former order\\n',\n 'new idea\\n',\n 'new idea\\n',\n 'freedom God\\n',\n 'freedom God\\n',\n 'principle evolution\\n',\n 'history Christianity\\n',\n 'history Christianity\\n',\n 'history Christianity\\n',\n 'history Christianity\\n',\n 'history Christianity\\n',\n 'imaginary one\\n',\n 'last half century\\n',\n 'judgment day\\n',\n 'crisis bring\\n',\n 'crisis bring\\n',\n 'become flesh\\n',\n 'become flesh\\n',\n 'hebrew prophet\\n',\n 'hebrew prophet\\n',\n 'part correspond\\n',\n 'part correspond\\n',\n 'add thereto\\n',\n 'add thereto\\n',\n 'life originate\\n',\n 'believe man\\n',\n 'church look\\n',\n 'church look\\n',\n 'Hosea Jeremiah\\n',\n 'approach kingdom\\n',\n 'approach kingdom\\n',\n 'John Baptist\\n',\n 'John Baptist\\n',\n 'catholic protestant\\n',\n 'structure establish\\n',\n 'fundamental thought\\n',\n 'ideal Christian\\n',\n 'body soul\\n',\n 'body soul\\n',\n 'God God\\n',\n 'various actor\\n',\n 'various actor\\n',\n 'heaven human\\n',\n 'moral life\\n',\n 'moral life\\n',\n 'saving power\\n',\n 'saving power\\n',\n 'Church appear\\n',\n 'Church appear\\n',\n 'original feature\\n',\n 'original feature\\n',\n 'love man\\n',\n 'faith life\\n',\n 'historical education\\n',\n 'historical education\\n',\n 'nature God\\n',\n 'time extreme\\n',\n 'direct presence\\n',\n 'direct presence\\n',\n 'jewish people\\n',\n 'add great\\n',\n 'theology man\\n',\n 'people stir\\n',\n 'people stir\\n',\n 'Lord heaven\\n',\n 'universal spiritual\\n',\n 'make generous\\n',\n 'education fit\\n',\n 'remain conceal\\n',\n 'imagine least\\n',\n 'imagine least\\n',\n 'Jesus realize\\n',\n 'peculiar feature\\n',\n 'peculiar feature\\n',\n 'take liberty\\n',\n 'word criticism\\n',\n 'lead idea\\n',\n 'lead idea\\n',\n 'jewish nation\\n',\n 'jewish nation\\n',\n 'new problem\\n',\n 'new problem\\n',\n 'series book\\n',\n 'recent one\\n',\n 'recent one\\n',\n 'natural man\\n',\n 'human society\\n',\n 'human society\\n',\n 'human society\\n',\n 'become equal\\n',\n 'source none\\n',\n 'source none\\n',\n 'possible give\\n',\n 'new ideal\\n',\n 'new ideal\\n',\n 'well knowledge\\n',\n 'well knowledge\\n',\n 'human spirit\\n',\n 'human spirit\\n',\n 'human spirit\\n',\n 'human spirit\\n',\n 'human spirit\\n',\n 'influence Greece\\n',\n 'jewish form\\n',\n 'jewish form\\n',\n 'believe teach\\n',\n 'ecclesiastical tendency\\n',\n 'important element\\n',\n 'moral power\\n',\n 'step step\\n',\n 'view church\\n',\n 'view church\\n',\n 'world God\\n',\n 'difficult reconcile\\n',\n 'pharisaic theology\\n',\n 'pharisaic theology\\n',\n 'people today\\n',\n 'devout character\\n',\n 'devout character\\n',\n 'problem involve\\n',\n 'ancient form\\n',\n 'ancient form\\n',\n 'life human\\n',\n 'different Jesus\\n',\n 'different Jesus\\n',\n 'messianic concept\\n',\n 'messianic concept\\n',\n 'matter say\\n',\n 'begin follow\\n',\n 'begin follow\\n',\n 'turn point\\n',\n 'theoretical conception\\n',\n 'perversion christianity\\n',\n 'article faith\\n',\n 'legitimate development\\n',\n 'legitimate development\\n',\n 'earthly state\\n',\n 'earthly state\\n',\n 'come historical\\n',\n 'good spirit\\n',\n 'good spirit\\n',\n 'produce various\\n',\n 'system justification\\n',\n 'confide love\\n',\n 'confide love\\n',\n 'take literal\\n',\n 'think cultural\\n',\n 'general assumption\\n',\n 'general assumption\\n',\n 'interpretation Church\\n',\n 'universal truth\\n',\n 'new order\\n',\n 'new order\\n',\n 'Paul today\\n',\n 'view Jesus\\n',\n 'judgment regard\\n',\n 'entire world\\n',\n 'entire world\\n',\n 'subj ect\\n',\n 'divine authority\\n',\n 'divine authority\\n',\n 'epoch Christianity\\n',\n 'general truth\\n',\n 'form pure\\n',\n 'give God\\n',\n 'first appearance\\n',\n 'first appearance\\n',\n 'fulfil call\\n',\n 'natural reflex\\n',\n 'natural reflex\\n',\n 'definite time\\n',\n 'onlybegotten Son\\n',\n 'onlybegotten Son\\n',\n 'exist order\\n',\n 'exist order\\n',\n 'appearance earth\\n',\n 'faith cult\\n',\n 'today theologian\\n',\n 'truth grace\\n',\n 'man accord\\n',\n ...]"
     },
     "execution_count": 28,
     "metadata": {},
     "output_type": "execute_result"
    }
   ],
   "source": [
    "trigrams_lemmata"
   ],
   "metadata": {
    "collapsed": false,
    "ExecuteTime": {
     "start_time": "2023-03-31T00:02:20.082026Z",
     "end_time": "2023-03-31T00:02:20.091313Z"
    }
   }
  },
  {
   "cell_type": "code",
   "execution_count": 7,
   "outputs": [
    {
     "name": "stdout",
     "output_type": "stream",
     "text": [
      "1900-1919 722798\n",
      "1920-1939 793794\n",
      "1940-1959 1816044\n",
      "1960-1979 3100450\n",
      "1980-1999 8616167\n",
      "2000-2019 45358562\n"
     ]
    }
   ],
   "source": [
    "for bidecade in bidecades_strs:\n",
    "    ids = metadata_df[metadata_df[\"bidecade\"]==bidecade][\"id_kase\"]\n",
    "    trigrams_lemmata = []\n",
    "    for id in ids:\n",
    "        with open(\"../data/large_files/trigrams_lemmatized/trigrams_lemmata_id_{}.txt\".format(str(id)), \"r\") as f:\n",
    "            trigrams_lemmata.extend([el for el in f.readlines()])\n",
    "    with open(\"../data/large_files/bidecade_trigrams_{}.txt\".format(bidecade), \"w\") as f:\n",
    "        f.writelines(trigrams_lemmata)\n",
    "    print(bidecade, len(trigrams_lemmata))"
   ],
   "metadata": {
    "collapsed": false,
    "ExecuteTime": {
     "start_time": "2023-03-31T00:40:22.515257Z",
     "end_time": "2023-03-31T00:40:45.561580Z"
    }
   }
  },
  {
   "cell_type": "code",
   "execution_count": null,
   "outputs": [],
   "source": [],
   "metadata": {
    "collapsed": false
   }
  },
  {
   "cell_type": "code",
   "execution_count": null,
   "outputs": [],
   "source": [],
   "metadata": {
    "collapsed": false
   }
  },
  {
   "cell_type": "markdown",
   "source": [
    "# word2vec model development"
   ],
   "metadata": {
    "collapsed": false
   }
  },
  {
   "cell_type": "code",
   "execution_count": 14,
   "outputs": [],
   "source": [
    "class NgramCorpusSample(object):\n",
    "    def __init__(self, filepath, sample_size=None, sample_seed=1, bow=False, dct=None):\n",
    "        self.sample_size = sample_size\n",
    "        with open(filepath, \"r\") as f:\n",
    "            self.file_data = [el.strip() for el in f.readlines()]\n",
    "        if sample_size != None:\n",
    "            np.random.seed(sample_seed)\n",
    "            sample_lines = np.random.randint(0, len(self.file_data), sample_size)\n",
    "        else:\n",
    "            sample_lines = np.array([n for n in range(0, self.file_data)])\n",
    "        self.len = len(sample_lines)\n",
    "        self.sample_lines = sample_lines\n",
    "    def __len__(self):\n",
    "        #[el for el in self]\n",
    "        return self.len\n",
    "    def __iter__(self):\n",
    "        for li in self.sample_lines:\n",
    "            line = self.file_data[li] # for line index in subcorpus lineindexes\n",
    "            if bool(line.split()):\n",
    "                yield line.split()"
   ],
   "metadata": {
    "collapsed": false,
    "ExecuteTime": {
     "start_time": "2023-03-31T00:57:38.031855Z",
     "end_time": "2023-03-31T00:57:38.043780Z"
    }
   }
  },
  {
   "cell_type": "code",
   "execution_count": 24,
   "outputs": [],
   "source": [
    "bidecade = \"1900-1919\"\n",
    "sample_size = 1000000\n",
    "subcorpus_ngrams =  NgramCorpusSample(\"../data/large_files/bidecade_trigrams_{}.txt\".format(bidecade), sample_size=sample_size)"
   ],
   "metadata": {
    "collapsed": false,
    "ExecuteTime": {
     "start_time": "2023-03-31T01:04:59.674310Z",
     "end_time": "2023-03-31T01:04:59.822472Z"
    }
   }
  },
  {
   "cell_type": "code",
   "execution_count": 25,
   "outputs": [
    {
     "data": {
      "text/plain": "[['Historical', 'Publications'],\n ['die', 'Lxx'],\n ['external', 'evidence'],\n ['Lehre', 'von', 'der'],\n ['mean', 'death'],\n ['perfect', 'right'],\n ['Theologische', 'Studien', 'und'],\n ['new', 'order'],\n ['World', 'God'],\n ['Paul', 'merge']]"
     },
     "execution_count": 25,
     "metadata": {},
     "output_type": "execute_result"
    }
   ],
   "source": [
    "[doc for doc in subcorpus_ngrams][:10]"
   ],
   "metadata": {
    "collapsed": false,
    "ExecuteTime": {
     "start_time": "2023-03-31T01:05:02.835980Z",
     "end_time": "2023-03-31T01:05:13.861263Z"
    }
   }
  },
  {
   "cell_type": "code",
   "execution_count": 26,
   "outputs": [
    {
     "data": {
      "text/plain": "       1900-1919  1920-1939  1940-1959  1960-1979  1980-1999  2000-2019\nman      11218.0     8342.0    24108.0    39199.0    48435.0   100670.0\nnew      10183.0    10192.0    23469.0    42092.0    97421.0   293457.0\nJesus     9650.0     4911.0    12134.0    23416.0    49765.0   215687.0\net        9325.0    11818.0    20805.0    35969.0    49326.0    73464.0\nGod       9248.0     6276.0    26328.0    45751.0    99505.0   293240.0",
      "text/html": "<div>\n<style scoped>\n    .dataframe tbody tr th:only-of-type {\n        vertical-align: middle;\n    }\n\n    .dataframe tbody tr th {\n        vertical-align: top;\n    }\n\n    .dataframe thead th {\n        text-align: right;\n    }\n</style>\n<table border=\"1\" class=\"dataframe\">\n  <thead>\n    <tr style=\"text-align: right;\">\n      <th></th>\n      <th>1900-1919</th>\n      <th>1920-1939</th>\n      <th>1940-1959</th>\n      <th>1960-1979</th>\n      <th>1980-1999</th>\n      <th>2000-2019</th>\n    </tr>\n  </thead>\n  <tbody>\n    <tr>\n      <th>man</th>\n      <td>11218.0</td>\n      <td>8342.0</td>\n      <td>24108.0</td>\n      <td>39199.0</td>\n      <td>48435.0</td>\n      <td>100670.0</td>\n    </tr>\n    <tr>\n      <th>new</th>\n      <td>10183.0</td>\n      <td>10192.0</td>\n      <td>23469.0</td>\n      <td>42092.0</td>\n      <td>97421.0</td>\n      <td>293457.0</td>\n    </tr>\n    <tr>\n      <th>Jesus</th>\n      <td>9650.0</td>\n      <td>4911.0</td>\n      <td>12134.0</td>\n      <td>23416.0</td>\n      <td>49765.0</td>\n      <td>215687.0</td>\n    </tr>\n    <tr>\n      <th>et</th>\n      <td>9325.0</td>\n      <td>11818.0</td>\n      <td>20805.0</td>\n      <td>35969.0</td>\n      <td>49326.0</td>\n      <td>73464.0</td>\n    </tr>\n    <tr>\n      <th>God</th>\n      <td>9248.0</td>\n      <td>6276.0</td>\n      <td>26328.0</td>\n      <td>45751.0</td>\n      <td>99505.0</td>\n      <td>293240.0</td>\n    </tr>\n  </tbody>\n</table>\n</div>"
     },
     "execution_count": 26,
     "metadata": {},
     "output_type": "execute_result"
    }
   ],
   "source": [
    "bidecades_vocabs_counts_df = pickle.load(open(\"../data/bidecades_vocabs_counts_df.pickle\", \"rb\"))\n",
    "bidecades_vocabs_counts_df.head(5)"
   ],
   "metadata": {
    "collapsed": false,
    "ExecuteTime": {
     "start_time": "2023-03-31T01:05:13.860436Z",
     "end_time": "2023-03-31T01:05:13.874501Z"
    }
   }
  },
  {
   "cell_type": "code",
   "execution_count": 26,
   "outputs": [],
   "source": [],
   "metadata": {
    "collapsed": false,
    "ExecuteTime": {
     "start_time": "2023-03-31T01:05:13.874050Z",
     "end_time": "2023-03-31T01:05:13.880225Z"
    }
   }
  },
  {
   "cell_type": "code",
   "execution_count": 27,
   "outputs": [],
   "source": [
    "model = Word2Vec(vector_size=100, window=3, negative=5, ns_exponent=1, sg=0, workers=8)\n",
    "freqs_tups = dict(bidecades_vocabs_counts_df[bidecade]).items()\n",
    "model.build_vocab_from_freq(word_freq=dict(freqs_tups))"
   ],
   "metadata": {
    "collapsed": false,
    "ExecuteTime": {
     "start_time": "2023-03-31T01:05:13.900680Z",
     "end_time": "2023-03-31T01:05:14.012425Z"
    }
   }
  },
  {
   "cell_type": "code",
   "execution_count": 28,
   "outputs": [
    {
     "name": "stdout",
     "output_type": "stream",
     "text": [
      "CPU times: user 40.7 s, sys: 3.19 s, total: 43.9 s\n",
      "Wall time: 38.8 s\n"
     ]
    },
    {
     "data": {
      "text/plain": "(6931103, 10293575)"
     },
     "execution_count": 28,
     "metadata": {},
     "output_type": "execute_result"
    }
   ],
   "source": [
    "%%time\n",
    "model.train(corpus_iterable=subcorpus_ngrams, total_examples=sample_size, epochs=5)"
   ],
   "metadata": {
    "collapsed": false,
    "ExecuteTime": {
     "start_time": "2023-03-31T01:05:20.874460Z",
     "end_time": "2023-03-31T01:05:59.639879Z"
    }
   }
  },
  {
   "cell_type": "code",
   "execution_count": 29,
   "outputs": [
    {
     "data": {
      "text/plain": "[('pastoral', 0.6063287258148193),\n ('clement', 0.6025952696800232),\n ('Augustine', 0.6009352207183838),\n ('Creed', 0.5917514562606812),\n ('pillar', 0.5720595717430115),\n ('Philo', 0.5548839569091797),\n ('James', 0.5362641215324402),\n ('Peter', 0.5349253416061401),\n ('Newman', 0.5310553312301636),\n ('Pauline', 0.518301248550415)]"
     },
     "execution_count": 29,
     "metadata": {},
     "output_type": "execute_result"
    }
   ],
   "source": [
    "model.wv.most_similar(\"Paul\")"
   ],
   "metadata": {
    "collapsed": false,
    "ExecuteTime": {
     "start_time": "2023-03-31T01:07:03.190867Z",
     "end_time": "2023-03-31T01:07:03.258000Z"
    }
   }
  },
  {
   "cell_type": "code",
   "execution_count": 32,
   "outputs": [
    {
     "name": "stdout",
     "output_type": "stream",
     "text": [
      "going to train 1900-1919 subcorpus model\n",
      "finished training 1900-1919 subcorpus model\n",
      "going to train 1920-1939 subcorpus model\n",
      "finished training 1920-1939 subcorpus model\n",
      "going to train 1940-1959 subcorpus model\n",
      "finished training 1940-1959 subcorpus model\n",
      "going to train 1960-1979 subcorpus model\n",
      "finished training 1960-1979 subcorpus model\n",
      "going to train 1980-1999 subcorpus model\n",
      "finished training 1980-1999 subcorpus model\n",
      "going to train 2000-2019 subcorpus model\n",
      "finished training 2000-2019 subcorpus model\n"
     ]
    }
   ],
   "source": [
    "sample_size = 1000000\n",
    "for bidecade in bidecades_strs:\n",
    "    subcorpus_ngrams =  NgramCorpusSample(\"../data/large_files/bidecade_trigrams_{}.txt\".format(bidecade), sample_size=sample_size)\n",
    "    model = Word2Vec(vector_size=100, window=3, negative=5, ns_exponent=1, sg=0, workers=8)\n",
    "    freqs_tups = dict(bidecades_vocabs_counts_df[bidecade])\n",
    "    model.build_vocab_from_freq(word_freq=freqs_tups)\n",
    "    print(\"going to train \" + bidecade + \" subcorpus model\")\n",
    "    model.train(corpus_iterable=subcorpus_ngrams, total_examples=sample_size, epochs=5)\n",
    "    vectors = model.wv\n",
    "    vectors.save(\"../data/large_files/vectors_{0}_sample{1}.kv\".format(bidecade, str(sample_size)))\n",
    "    print(\"finished training \" + bidecade + \" subcorpus model\")"
   ],
   "metadata": {
    "collapsed": false,
    "ExecuteTime": {
     "start_time": "2023-03-31T01:11:36.248017Z",
     "end_time": "2023-03-31T01:22:34.653366Z"
    }
   }
  },
  {
   "cell_type": "code",
   "execution_count": null,
   "outputs": [],
   "source": [],
   "metadata": {
    "collapsed": false
   }
  },
  {
   "cell_type": "code",
   "execution_count": null,
   "outputs": [],
   "source": [],
   "metadata": {
    "collapsed": false
   }
  },
  {
   "cell_type": "code",
   "execution_count": null,
   "outputs": [],
   "source": [],
   "metadata": {
    "collapsed": false
   }
  },
  {
   "cell_type": "code",
   "execution_count": null,
   "outputs": [],
   "source": [],
   "metadata": {
    "collapsed": false
   }
  },
  {
   "cell_type": "code",
   "execution_count": null,
   "outputs": [],
   "source": [],
   "metadata": {
    "collapsed": false
   }
  },
  {
   "cell_type": "markdown",
   "source": [
    "# Backup"
   ],
   "metadata": {
    "collapsed": false
   }
  },
  {
   "cell_type": "code",
   "execution_count": 113,
   "outputs": [
    {
     "data": {
      "text/plain": "[('crucified', 0.6054939031600952),\n ('risen', 0.5864917039871216),\n ('Ali', 0.5596235394477844),\n ('parousia', 0.5448322892189026),\n ('supper', 0.5399717688560486),\n ('crucify', 0.539387583732605),\n ('Philem', 0.5347006916999817),\n ('Grillmeier', 0.5329602360725403),\n ('Epaphras', 0.5325378179550171),\n ('Nicodemus', 0.5318003296852112)]"
     },
     "execution_count": 113,
     "metadata": {},
     "output_type": "execute_result"
    }
   ],
   "source": [
    "model.wv.most_similar(\"Jesus\")"
   ],
   "metadata": {
    "collapsed": false
   }
  },
  {
   "cell_type": "code",
   "execution_count": 115,
   "outputs": [
    {
     "data": {
      "text/plain": "41385"
     },
     "execution_count": 115,
     "metadata": {},
     "output_type": "execute_result"
    }
   ],
   "source": [
    "len(model.wv.index_to_key)"
   ],
   "metadata": {
    "collapsed": false
   }
  },
  {
   "cell_type": "code",
   "execution_count": 117,
   "outputs": [],
   "source": [
    "words_to_keep = [tup[0] for tup in freqs_tups[:3000]]"
   ],
   "metadata": {
    "collapsed": false
   }
  },
  {
   "cell_type": "code",
   "execution_count": 118,
   "outputs": [],
   "source": [
    "def filter_wv(wv, words_to_keep):\n",
    "    model_words = wv.index_to_key\n",
    "    words_to_trim = list((set(model_words).difference(set(words_to_keep))))\n",
    "    ids_to_trim = [wv.key_to_index[w] for w in words_to_trim]\n",
    "    for w in words_to_trim:\n",
    "        del wv.key_to_index[w]\n",
    "    wv.vectors = np.delete(wv.vectors, ids_to_trim, axis=0)\n",
    "    wv.fill_norms()\n",
    "    for i in sorted(ids_to_trim, reverse=True):\n",
    "        del(wv.index_to_key[i])\n",
    "    return wv"
   ],
   "metadata": {
    "collapsed": false
   }
  },
  {
   "cell_type": "code",
   "execution_count": 119,
   "outputs": [],
   "source": [
    "test_wv = model.wv"
   ],
   "metadata": {
    "collapsed": false
   }
  },
  {
   "cell_type": "code",
   "execution_count": 120,
   "outputs": [],
   "source": [
    "model_vw_filtered = filter_wv(test_wv, words_to_keep)"
   ],
   "metadata": {
    "collapsed": false
   }
  },
  {
   "cell_type": "code",
   "execution_count": null,
   "outputs": [],
   "source": [
    "# but there is much more straightforward solution to this!\n",
    "model_vw_filtered = model.wv.vectors_for_all(words_to_keep)"
   ],
   "metadata": {
    "collapsed": false
   }
  },
  {
   "cell_type": "code",
   "execution_count": 121,
   "outputs": [
    {
     "data": {
      "text/plain": "3000"
     },
     "execution_count": 121,
     "metadata": {},
     "output_type": "execute_result"
    }
   ],
   "source": [
    "len(model_vw_filtered)"
   ],
   "metadata": {
    "collapsed": false
   }
  },
  {
   "cell_type": "code",
   "execution_count": 124,
   "outputs": [
    {
     "data": {
      "text/plain": "[('Pauline', 0.807790994644165),\n ('colossian', 0.4637281894683838),\n ('athanasius', 0.43054693937301636),\n ('contributor', 0.4175826907157898),\n ('ephesian', 0.41415196657180786),\n ('inspire', 0.4122663140296936),\n ('Titus', 0.40873152017593384),\n ('shape', 0.4032384753227234),\n ('Robinson', 0.3954716622829437),\n ('Hebrews', 0.39504387974739075)]"
     },
     "execution_count": 124,
     "metadata": {},
     "output_type": "execute_result"
    }
   ],
   "source": [
    "model_vw_filtered.most_similar(\"Paul\")"
   ],
   "metadata": {
    "collapsed": false
   }
  },
  {
   "cell_type": "code",
   "execution_count": 134,
   "outputs": [],
   "source": [
    "def ids_from_colvals(df_name, col, matchstring):\n",
    "    ids = eval('{0}[{0}[\"{1}\"]{2}]'.format(df_name, col, matchstring))[\"id\"].tolist()\n",
    "    return ids"
   ],
   "metadata": {
    "collapsed": false
   }
  },
  {
   "cell_type": "code",
   "execution_count": 137,
   "outputs": [
    {
     "data": {
      "text/plain": "['1900,1919', '1920,1939', '1940,1959', '1960,1979', '1980,1999', '2000,2019']"
     },
     "execution_count": 137,
     "metadata": {},
     "output_type": "execute_result"
    }
   ],
   "source": [
    "generations = []\n",
    "for n in range (1900, 2001, 20):\n",
    "    generations.append((str(n) + \",\" + str(n+19)))\n",
    "generations"
   ],
   "metadata": {
    "collapsed": false
   }
  },
  {
   "cell_type": "code",
   "execution_count": 139,
   "outputs": [
    {
     "data": {
      "text/plain": "'1980,1999'"
     },
     "execution_count": 139,
     "metadata": {},
     "output_type": "execute_result"
    }
   ],
   "source": [
    "test_gen = generations[-2]\n",
    "test_gen"
   ],
   "metadata": {
    "collapsed": false
   }
  },
  {
   "cell_type": "code",
   "execution_count": 140,
   "outputs": [
    {
     "data": {
      "text/plain": "2520"
     },
     "execution_count": 140,
     "metadata": {},
     "output_type": "execute_result"
    }
   ],
   "source": [
    "ids = ids_from_colvals(\"jstor_df\", \"publicationYear\", \".between({})\".format(test_gen))\n",
    "len(ids)"
   ],
   "metadata": {
    "collapsed": false
   }
  },
  {
   "cell_type": "code",
   "execution_count": 141,
   "outputs": [
    {
     "data": {
      "text/plain": "(39413004, 40391550)"
     },
     "execution_count": 141,
     "metadata": {},
     "output_type": "execute_result"
    }
   ],
   "source": [
    "corpus = FriendlyCorpus()\n",
    "corpus_len = len([doc for doc in corpus])\n",
    "model = Word2Vec(vector_size=150, window=3, negative=5, ns_exponent=1, sg=0, workers=8)\n",
    "model.build_vocab_from_freq(word_freq=dict(freqs_tups))\n",
    "model.train(corpus_iterable=corpus, total_examples=corpus_len, epochs=5)\n",
    "model_vectors = model.wv"
   ],
   "metadata": {
    "collapsed": false
   }
  },
  {
   "cell_type": "code",
   "execution_count": 149,
   "outputs": [],
   "source": [
    "model_vectors.save(\"../data/large_files/model_vectors_{}.wv\".format(test_gen))"
   ],
   "metadata": {
    "collapsed": false
   }
  },
  {
   "cell_type": "code",
   "execution_count": 154,
   "outputs": [],
   "source": [
    "model_vectors_loaded = KeyedVectors.load(\"../data/large_files/model_vectors_{}.wv\".format(test_gen))"
   ],
   "metadata": {
    "collapsed": false
   }
  },
  {
   "cell_type": "markdown",
   "source": [
    "# word2vec main application"
   ],
   "metadata": {
    "collapsed": false
   }
  },
  {
   "cell_type": "code",
   "execution_count": 157,
   "outputs": [
    {
     "data": {
      "text/plain": "['1900,1919', '1920,1939', '1940,1959', '1960,1979', '1980,1999', '2000,2019']"
     },
     "execution_count": 157,
     "metadata": {},
     "output_type": "execute_result"
    }
   ],
   "source": [
    "generations = []\n",
    "for n in range (1900, 2001, 20):\n",
    "    generations.append((str(n) + \",\" + str(n+19)))\n",
    "generations"
   ],
   "metadata": {
    "collapsed": false
   }
  },
  {
   "cell_type": "code",
   "execution_count": null,
   "outputs": [],
   "source": [],
   "metadata": {
    "collapsed": false
   }
  },
  {
   "cell_type": "code",
   "execution_count": 158,
   "outputs": [
    {
     "name": "stdout",
     "output_type": "stream",
     "text": [
      "generation 1900,1919 model training\n",
      "generation 1900,1919 ready. saving...\n",
      "generation 1920,1939 model training\n",
      "generation 1920,1939 ready. saving...\n",
      "generation 1940,1959 model training\n",
      "generation 1940,1959 ready. saving...\n",
      "generation 1960,1979 model training\n",
      "generation 1960,1979 ready. saving...\n",
      "generation 1980,1999 model training\n",
      "generation 1980,1999 ready. saving...\n",
      "generation 2000,2019 model training\n",
      "generation 2000,2019 ready. saving...\n"
     ]
    }
   ],
   "source": [
    "for gen in generations:\n",
    "    print(\"generation {} model training\".format(gen))\n",
    "    ids = ids_from_colvals(\"jstor_df\", \"publicationYear\", \".between({})\".format(test_gen))\n",
    "    corpus = FriendlyCorpus()\n",
    "    corpus_len = len([doc for doc in corpus])\n",
    "    model = Word2Vec(vector_size=150, window=3, negative=5, ns_exponent=1, sg=0, workers=8)\n",
    "    model.build_vocab_from_freq(word_freq=dict(freqs_tups))\n",
    "    model.train(corpus_iterable=corpus, total_examples=corpus_len, epochs=5)\n",
    "    model_vectors = model.wv\n",
    "    print(\"generation {} ready. saving...\".format(gen))\n",
    "    model_vectors.save(\"../data/large_files/model_vectors_{}.wv\".format(gen))"
   ],
   "metadata": {
    "collapsed": false
   }
  },
  {
   "cell_type": "code",
   "execution_count": null,
   "outputs": [],
   "source": [],
   "metadata": {
    "collapsed": false
   }
  }
 ],
 "metadata": {
  "kernelspec": {
   "name": "mops_venv",
   "language": "python",
   "display_name": "mops_venv"
  },
  "language_info": {
   "codemirror_mode": {
    "name": "ipython",
    "version": 2
   },
   "file_extension": ".py",
   "mimetype": "text/x-python",
   "name": "python",
   "nbconvert_exporter": "python",
   "pygments_lexer": "ipython2",
   "version": "2.7.6"
  }
 },
 "nbformat": 4,
 "nbformat_minor": 0
}
