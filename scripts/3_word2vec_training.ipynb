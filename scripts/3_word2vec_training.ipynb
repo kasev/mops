{
 "cells": [
  {
   "cell_type": "code",
   "execution_count": 1,
   "outputs": [
    {
     "name": "stdout",
     "output_type": "stream",
     "text": [
      "hello\n"
     ]
    }
   ],
   "source": [
    "print(\"hello\")"
   ],
   "metadata": {
    "collapsed": false,
    "ExecuteTime": {
     "start_time": "2023-03-29T16:04:08.105154Z",
     "end_time": "2023-03-29T16:04:08.109142Z"
    }
   }
  },
  {
   "cell_type": "code",
   "execution_count": 8,
   "metadata": {
    "collapsed": true,
    "ExecuteTime": {
     "start_time": "2023-03-30T16:20:07.502266Z",
     "end_time": "2023-03-30T16:20:07.504444Z"
    }
   },
   "outputs": [],
   "source": [
    "import pandas as pd\n",
    "import pickle\n",
    "import json\n",
    "from gensim.models import Word2Vec\n",
    "from gensim.corpora import Dictionary\n",
    "from gensim.models.callbacks import CallbackAny2Vec\n",
    "from gensim.models import KeyedVectors\n",
    "import numpy as np"
   ]
  },
  {
   "cell_type": "code",
   "execution_count": null,
   "outputs": [],
   "source": [],
   "metadata": {
    "collapsed": false
   }
  },
  {
   "cell_type": "code",
   "execution_count": 4,
   "outputs": [],
   "source": [
    "sourcepath = \"../data/large_files/trigrams_lemmatized/\"\n",
    "with open(sourcepath + \"trigrams_lemmata_id_0.txt\".format(str(id)), \"r\") as f:\n",
    "    trigrams_list = f.readlines()"
   ],
   "metadata": {
    "collapsed": false,
    "ExecuteTime": {
     "start_time": "2023-03-29T16:17:20.895497Z",
     "end_time": "2023-03-29T16:17:20.904131Z"
    }
   }
  },
  {
   "cell_type": "code",
   "execution_count": 6,
   "outputs": [
    {
     "data": {
      "text/plain": "1"
     },
     "execution_count": 6,
     "metadata": {},
     "output_type": "execute_result"
    }
   ],
   "source": [
    "len(trigrams_list)"
   ],
   "metadata": {
    "collapsed": false,
    "ExecuteTime": {
     "start_time": "2023-03-29T16:17:39.843296Z",
     "end_time": "2023-03-29T16:17:39.853990Z"
    }
   }
  },
  {
   "cell_type": "code",
   "execution_count": 7,
   "outputs": [
    {
     "data": {
      "text/plain": "['religious matterdivine hopedivine hopeleave unresolvedleave unresolvedracial equalityracial equalityjoint actionjoint actionjoint actionjoint actionjoint actionchristian fellowshipbiblical injunctionbiblical injunctionimportant communitydegree orderworldwide fellowshipworldwide fellowshipcommunity establishnew appreciationnew appreciationCouncil churchCouncil churchlocal fellowshiplocal fellowshipestablish maintainop citop citop citop citop citop citop citop citop citop citop citWcc CommissionWcc Commissionuse severalnego tiatingnego tiatingchurch providechurch providechurch provideAssociation PressAssociation Pressloss identityparticular conceptcon versationform lifedoctrinal agreementgenuine renewalgenuine renewalChurch Union Negotiationsredemp tionredemp tionruison dtreruison dtreparticular projectdeep commitmentdeep commitmentDelhi Assemblynational isticcommunity feelcommunity feelunited churchunited churchunited churchunited churchunited churchunited churchunited churchunited churchunited churchunited churchunited churchunited churchunited churchunited churchunited churchunited churchunited churchunited churchunited churchesunited churchesunited churchesunited churchesunited churchesunited churchesunited churchesunited churchesunited churchesunited churchesunited churchesunited churchesunited churchesunited churchesbody continuesocial economicsocial economicsingle unionsingle unionHoly SpiritHoly SpiritHoly SpiritHoly SpiritHoly Spiritdiscuss severaldiscuss severalfunction egfunction egspecific historicalspecific historicalhand requirehand requireopportunity makenature churchLukas VischerLukas VischerLukas Vischercrucial rolecrucial rolerecognize placeracial culturalChurch UnionChurch UnionChurch UnionChurch UnionChurch UnionChurch UnionChurch UnionChurch UnionChurch UnionChurch UnionChurch UnionChurch UnionChurch UnionChurch UnionChurch UnionChurch UnionChurch UnionChurch UnionChurch UnionChurch UnionChurch UnionChurch UnionChurch UnionChurch UnionChurch UnionChurch UnionChurch UnionChurch UnionChurch UnionChurch UnionChurch UnionChurch Unionwide experiencewide experienceoriginal positionoriginal positionbasic realitybasic realityprin cipleprin cipleregional internationalecumenical fellowshipecumenical fellowshipcommon prayercommon prayercommon prayercommon prayerleave openleave openpractical efficiencypractical efficiencycall churchcall churchcall churchsee Godloss certainsingle streamsingle streammany quartermany quarterbring lossbring lossworship witnessworship witnessworship witnesswitness servicewitness servicewitness serviceaddress Paulpersonal encounterpersonal encounterdirect contactdirect contactwhole human raceconfessional identitycertain consistencycertain consistencypoint agreementgenuine worshipproblem existphysical environmentphysical environmentultimate formfacetoface encounterfacetoface encounterbring membermutual recognitionmutual recognitionmutual recognitionpossibility genuinespiritual hungerspiritual hungerplanning executionfull commitmentfull commitmentgreat theologicalend Marchstruggle rivalidentity involvefellowship expressmany businessmake manifestmake manifestspecial meetingspecial meetingunpublishe Msunpublishe Mschrist bodychrist bodylong termexpress worshiporiginal ideaoriginal ideatake parttake partopen questionopen questionessential realityessential realityfact liveMore lightMore lightexpress identityexpress identitymutual assistancemutual assistanceunity bindfaith worshipfaith worshipworldwide communityworldwide communitytake placetake placeChurch Christgreat freedomgreat freedomgreat freedomgreat freedominstitution socialcommon lifecommon lifecommon lifecommon lifecommon lifecommon lifeparticular placevarious confessionvarious confessionexplicit decisionexplicit decisionunity poseunity poseachievement unityChurch Usaunity mankindunity mankindunity mankindunity mankindleast religiousdimension personalfield developmentthird Worldthird Worlddependence Godlarge measurelarge measureSouth IndiaSouth IndiaSouth IndiaSouth IndiaSouth IndiaSouth IndiaSouth IndiaSouth IndiaSouth Indiaed Frankfurtsocial questionsocial questiondilemma posedilemma poseman seemany partmany partprophetic voiceprophetic voiceecumenical purposeecumenical purposecommon namecommon nameBritish CouncilBritish Councilnew churchnew churchnew churchnew churchnew churchPeople Godchurch representsocial situationsocial situationprepared faceconfessional traditionconfessional traditionconfessional traditionconfessional traditiongoal visiblegoal visiblething manypeople livepeople liveprimitive churchUnited Methodist Churchorganic unionorganic unionorganic unionorganic unionorganic unionorganic unionorganic unionreligious experiencereligious experiencecelebrate eucharistforce questionchurch performchurch performnew problemnew problemnew problemnew problemhigh levelhigh levelunity presentvarious typevarious typeshow manyparticular taskparticular tasksource christianattempt continueattempt continuenew formnew formplace necessarymission carrymission carrysacramental actionsacramental actionunity unionNew TestamentNew TestamentNew Testamentrenew appreciationrenew appreciationapostolic churchapostolic churchVisser t HooftVisser t Hooftindividual churchindividual churchindividual churchindividual churchindividual churchindividual churchcorporate unioncorporate unioncorporate unioncorporate unionEvanston speakEvanston speakEvanston speakEvanston speakEvanston speakEvanston speakunion schemeunion schemeunion schemeunion schemeunion schemechristian doctrinechristian doctrinemisunder standingmisunder standinguniversal Churchuniversal Churchuniversal Churchquestion racestructure governmentChrist acceptmean uniformitymean uniformityfamily churchmake pointoffer partialinternational levelinternational levelnecessary freedomnecessary freedomToronto StatementToronto StatementToronto Statementrival grouprival groupChristian UnityChristian UnityChristian UnityChristian UnityChristian UnityChristian UnityChristian UnityChristian UnityChristian UnityChristian UnityChristian UnityChristian UnityChristian UnityChristian UnityChristian UnityChristian UnityChristian Unitybind Christianscontemporary contextcontemporary contextLesslie Newbiginnecessary partnecessary partclear kindhuman problemChristian Literaturenecessary conditionnecessary conditionsearch authenticlegal questionlegal questionmake clearmake clearmake clearadequate wayadequate wayLondon ScmLondon Scmcommunity existcommunity existmodern lifemodern lifechurch Worldintimate unionintimate unionchurch leadcontribution churchgood kindgood kindnew corporatepersonal reconciliationpersonal reconciliationtesting groundvoice hearvoice hearvisible unityvisible unityvisible unityvisible unityvisible unityvisible unityrequire expressionLutheran sideLutheran sideCorinthian Churchparticular theologicalparticular theologicaltheological synthesistheological synthesistheological synthesistheological synthesisentire regionentire regionsocial pluralismsocial pluralismchurch accordmodel unitymodel unitymodel unitysense communionclear wayclear wayfreedom initiativetrue encountermutual commitmentmutual commitmentlarge unitylarge unityNeill edsobvious advantageobvious advantageChrist confesbasic problembody spiritbody spiriteffort bringeffort bringsacramental sharinginescapable obligationinstitution communityLutheran World FederationLutheran World Federationfull identityfull identityUnion Negotiationsfailure bringEcumenical MovementEcumenical Movementbring existencesocial groupsocial groupindividual Christiansindividual ChristiansChurch existsociety humansense isolationhistory actchurch livechurch livechurch livechurch livechurch liveOrder CommissionOrder CommissionOrder CommissionOrder CommissionOrder CommissionOrder Commissionchurch unionchurch unionchurch unionchurch uniondivision christianityFaith OrderFaith OrderFaith OrderFaith OrderFaith OrderFaith OrderFaith OrderFaith Ordercommunity includecommunity includefuture makesource energylocal gatheringlocal gatheringPaul StNorth IndiaNorth IndiaEcumenical Review VolGunther Gassmannnew covenantnew covenantrenew fellowshiprenew fellowshipstructure societystructure societyprovide incentivebear witnessgovernmental ordergovernmental orderchurch facefollow paragraphfollow paragraphappropriate degreeappropriate degreeenergy makehand explicitLondon Spckmake possiblemake possibleScm PressScm PressScm PressScm Presslocal unitylocal unitywide unitywide unityoriginal intentionlocal expressionJoint ActionJoint Actioncommunity primarypossible reconciliationnational regionalsee exampleincrease numberincrease numbercon victioncon victionJesus ChristJesus ChristJesus Christspirit needquestion structurequestion structurechurch op citNeill op citlife faithtrue communityhuman beinghuman beingplace variousstruggle overcomeunion resultcertain directioncertain directionchristian faithchristian faithchristian faithchristian faithquestion adequacygood examplegood examplechurch sharechurch sharepose threatgreat riskChrist prayChrist prayamount timebegin giveChurch LundChurch LundChurch Lundrevelation Christleave untouchedleave untouchedministry memberpossibility conflictset newcommon basised Genevaend productend productchurch organizeapostolic faithapostolic faithcon sciousnessstewardship resourcenew articulationnew articulationLutheran theologianLutheran theologianchurch Johnchurch bodychurch bodychurch bodycontinue failurecontinue failurework paperwork paperchristian patternchristian patternentire undertakingentire undertakingdivided Churchlive lifeuniversal formuniversal formNew Testament speakarticle attemptCommission FaithWorld Missionarychurch allowfind primarycommon actionbecome clearvariety opinionapostolic historyapostolic historyvisible formvisible formSaviour bringmissionary contextmany feelGeneva WccGeneva WccGeneva Wccallow encourageNew DelhiNew DelhiNew DelhiNew DelhiNew DelhiNew DelhiNew Delhiwhole enterprisewhole enterprisenew constitutionnew constitutionregional nationallife flowlife flowworld communionworld communionrecent yearreal relationshipreal relationshipnew lifechurch involvedecision bringinvolve includepeople involveplan implementationunite churchunite churchunite churchunite churchunite churchcommit fellowshipcommit fellowshipcommit fellowshipcommit fellowshipcommit fellowshipcommit fellowshipleast possibilityidea unionprocess theologicalprofound questionprofound questionactual lifeactual lifepress ppmission manymission unityunity ordermake basisfull developmentfull developmenttruth otherplace unitycentral questioncentral questionnew structuregive modelbecome visiblebecome visibleGerald Moedestructure dominatestructure dominateactual localnegative statementPaul CrowPaul Crowlocal regionalgive timewitness Christarticulate problemmeasure agreementDelhi Reportaction missionaction missionversion Christiandiverse situationcon nectionWorld VolEpistles Stlocal levellocal levellocal levellocal levellocal levellocal levellast decadelast decadecompete denominationcompete denominationlife thinkcrucial pointcrucial pointway startway startemotional natureprovide significantbaptize Jesusdraw mandraw mancontinue workcentralized organizationlife beginVisser Hooftexplicit agreementexplicit agreementidentity otherChrist makenew rangeearly stateearly stateneed remainneed remainmany directionmany directionpast statementpast statementChrist UnitingChrist Unitingfaith transcendminority groupminority groupcommon goalcommon goalVisser tVisser tdescribe discusscherish traditioncherish traditionmany pointmany pointoffer easywhole newPresbyterians Methodistsunion Godconfessional divisionconfessional divisionfind waytheological integrityform worshipcon cerningeducation evangelismskeleton outlineskeleton outlineprocess preparehuman spirithuman spiritinnumerable probleminnumerable problemimperative ChristianUnited StatesUnited StatesUnited StatesUnited Statestheological consensustheological consensusfull communionfull communiongreat difficultygreat difficultycontinue bearagreement faithoption availableoption availablestream lifechristian truthchristian truthmuch revisionmuch revisionraise issuedo Christspend timespend timeman womancultural contextbasic naturebasic natureMissionary ConferenceLutherans Presbyterianschurch directgovernment orderhuman societypartial solutionpartial solutionuniversal fellowshipuniversal fellowshipdis appearancedis appearancevaried approachvaried approachChurch dependChurch dependprimary significanceprimary significanceconflict interestfamily manCouncils churchCouncils churchdifferent typedifferent typeDr VisserDr Vissermake voiceVol Xix nopresence Christevan gelismmake humanIndia maketime placechristian bodysee meyerUnited ChurchesUnited Churchesprocess ordermembership includeYork Associationdecisionmake processdecisionmake processPlan UnionPlan Unionlarge varietylarge varietyconfession faithapproach churchman ministerman ministerdu Christ auchurch forcenote greatGod callGod callfact unityworld bodyworld bodytake cognizancetake cognizancechurch lifechurch lifechurch lifeunion churchleader followerexist particularserve unityNew Delhi Assemblyex pressorder Louvainorder Louvainorder Louvainorder Louvainorder LouvainRev DrRev Drbroad areastartling factstartling factclose collaborationunity christianunity christianpossible saytake accountterm comprehensibleterm comprehensiblemake visiblemake visiblediverse giftdiverse giftChrist HimselfChrist Himselfworship lifeenergy moneystruggle racialConference EdinburghGod requirechristian unitychristian unitychristian unitychristian unitylife Christlife Christreconciliation humanlocal communitylocal communitylocal communityproblem involveeucharistic fellowshiporder movementorder movementunity faithchurch unitychurch unityproblem poseproblem posechurch requirechurch requirecertain patterncertain patternbear markilluminate oneworship stylechange oneworld missionworld missionLord makeearly yearearly yearfull churchyear peoplemake onegive placegive placecultural experiencecultural experienceobedience godcircumstance requirereconciliation newaccom plishedaccom plishedattempt maintainmissionary taskmissionary taskpossibility sharedistinctive elementdistinctive elementJesus Christ Himselfprovide easyChrist breakChrist breakparticular missionarycouncil churchseparation bodybody Christwhole churchwhole churchfirm adherencefirm adherenceservice missionwilling takebuild communitycommon experiencegive attentionstructure becomehuman weaknesskind structureliterature Societyform worldtype unityunity christcongregations lifeseparate identityseparate identityoffer possibilitychurch seeunion giveunion givebring churchwhole Christianwhole Christianfull truthfull truthsimple factsimple factbasis nationallocal effortgive unitygive unityHarding Meyermake societyrecent year manyconscious attemptconscious attemptlocal congregationprovide roomapoca lypseapoca lypsemany formmany formdifferent theologicalrecognize dangertraditional principlelife worshipstructure necessarystructure necessaryreadiness giveworld believelocal elementappear differenteconomic racialeconomic racialkind formfullness lifemutual responsibilityArchbishop Canterburyaccusation makeaccusation makeministry acknowledgeministry acknowledgemany placemany placeset sideset sidecommunity lifeTestament speakChristians livecommunion personcommunion personstruggle racismbecome placenecessary inventexample addressforce concludeforgive communityforgive communityFederation Churchesact speakorganization openform newcommunity peopletheological argumenttake finalagreement doctrinevarious conceptdivide lineorganic unityorganic unityuniversal dimensionuniversal dimensionuniversal dimensionminute reportbasis faithcommunity Christsocial institutionperson greattruth orderAnglicans Lutheransproblem opportunitybeing called New Yorkworship communitymanifest realitytime unitednational basisnational basisfaith ordersug gesteGod doGospel proclaimhope promiseChristian Advocateencourage strengthenchristian communitychristian communitytrue naturetrue naturerisk involverecognize validitydaily livemean churchWorld FederationWorld Federationfeel sensecorporate lifecorporate lifecorporate lifecorporate lifesuch concernprovide manydivide statedivide stateexample writemutual forgivenessmutual forgivenessproblem regardreality Jesushuman diversityhuman diversitybroken piecetheological significancetheological significanceeffect practicenew unitynew unityexist Christdenominational confessionalside sideseparate existenceimmense complexityimmense complexityunion negotiationunion negotiationunion negotiationunion negotiationed Londonpreparation unionpreparation unionpreparation unionkind continuityinclude churchspiritual unityspiritual unitychurch option Christtraditional sourcetraditional sourcemake unionEcumenical ReviewEcumenical ReviewEcumenical ReviewEcumenical ReviewEcumenical ReviewEcumenical ReviewEcumenical ReviewEcumenical ReviewEcumenical Reviewfaith termNew Testament pointwilling dielocal churchrecent decaderecent decadeform churchexperience lifetheological understandingtype organizationvol Xviiparticular confessionalcommunion Christsearch communitylevel lifesocial serviceword sacramentincrease awarenessincrease awarenessdivert attentiondivert attentioncerning naturediversity socialcommon worshipprimary factorprimary factorvol Xvii noorganization structureshare experienceMadras Christiandifferent standingtheological agreementactual historicalserve obscurevital elementChristian Literature Societyhear makemany uniteApostle PaulApostle Paulpossi bilitypossi bilityChrist spiritualcall questioncall questionold wayold wayWorld Missionary Conferenceterrible difficultyterrible difficultyvariety formattention payname fulloccasion requireoccasion requireattention energymake communionmankind becomeshow differentracism povertykind unitymean deepenlife missionConference Churchorganization providesolve dilemmadeep theologicalplay crucialsearch theologicalchurch existchurch showchurch findchurch findchurch formlife reachlife reachdimen siondimen sionstrengthen Christiansstrengthen Christianskeep mindother preservecertain placecertain placemodel Christianmodel Christianmodel Christianmodel Christianmodel Christianmodel Christianmodel Christianmodel Christianmodel Christianmodel Christiantwentyfive yearChurch SouthChurch SouthChurch SouthChurch SouthChurch SouthChurch SouthChurch LondonChurch Londonwhole christian traditionask dodevel opmentconsum matetime energytime energypeople insistmember acceptlittle wordexpress truthexpress truththeological schooltheological schoolprayer manyobligation workNew YorkNew Delhi Reportexpress unityexpress unityrequire involvementtheological socialtheological sociallive realityorder genuineLutheran Worlddeath rebirthfaith doctrineJohn Grantpreach ingbecome permanentRobert Nelsonset goodracial barrierloc citloc cithistoric episcopatehistoric episcopatewide varietywide varietywide varietywide varietyGrace Archbishopdifficult envisageredemption Christform structureseparate entitynational confessionalChurches Unionminister membertake decisionlocal lifecause ChristChristians leaddeep yearningdeep yearningintend buildrace classwhole humanCentral Committeepose problemunity solidaritydifferent sociologicalSt JamesSt Jamesimply possibilitybring actualimply acceptancestyle lifedecisive elementdecisive elementunity diversityrespect importantgrow numberLord Saviouraddress questionhold oneecclesiological implicationtheological culturalconfessional unitysimple avoidancesimple avoidancecon stituencyseek unitySt PaulSt Paulmany problemidentity membersignificant opportunitydiocesan structureattempt obeyleast importancereview seefreedom diversitymake contributionforce modernarticulation faithchurch willingunite formform unitylife Christiansregard lossfaith unityque tionecumenical movementproblem emergetheological insightfellow manproblem peopleable discernfaith preachfaith preachConsultation ChurchConsultation ChurchConsultation ChurchConsultation Churchsufficient motivateproblem arisedraw manyshare otherGospels epistlesacramental communionway Christgather christianchurch expressdoctrine lifedevelopment peoplevariety localunion possibleman feelorder integrityhistorical culturalfull integrationfull integrationparticular doctrineconfessional familyexpression faith']"
     },
     "execution_count": 7,
     "metadata": {},
     "output_type": "execute_result"
    }
   ],
   "source": [
    "trigrams_list"
   ],
   "metadata": {
    "collapsed": false,
    "ExecuteTime": {
     "start_time": "2023-03-30T14:01:37.969742Z",
     "end_time": "2023-03-30T14:01:37.969946Z"
    }
   }
  },
  {
   "cell_type": "code",
   "execution_count": null,
   "outputs": [],
   "source": [],
   "metadata": {
    "collapsed": false
   }
  },
  {
   "cell_type": "code",
   "execution_count": 3,
   "outputs": [],
   "source": [
    "jstor_df = pd.read_feather(\"../data/large_files/jstor_df_v1.feather\")\n",
    "\n",
    "article_ids_dict = pickle.load(open(\"../data/article_ids_dict.pickle\", \"rb\"))\n",
    "\n",
    "dictionary = pickle.load(open(\"../data/dictionary_main.pickle\", \"rb\"))\n",
    "len(dictionary)\n",
    "\n",
    "freqs_tups = pickle.load(open(\"../data/freqs_tups.pickle\", \"rb\"))"
   ],
   "metadata": {
    "collapsed": false
   }
  },
  {
   "cell_type": "code",
   "execution_count": 4,
   "outputs": [],
   "source": [
    "class FriendlyCorpus:\n",
    "    def __iter__(self):\n",
    "        for id in ids:\n",
    "            short_id_str = str(article_ids_dict[id])\n",
    "            id_filepath = \"../data/large_files/article_docs/{}.pickle\".format(short_id_str)\n",
    "            for doc in pickle.load(open(id_filepath, \"rb\")):\n",
    "                yield [dictionary[tup[0]] for tup in doc]"
   ],
   "metadata": {
    "collapsed": false
   }
  },
  {
   "cell_type": "markdown",
   "source": [
    "# word2vec model development"
   ],
   "metadata": {
    "collapsed": false
   }
  },
  {
   "cell_type": "code",
   "execution_count": 5,
   "outputs": [],
   "source": [
    "ids = jstor_df[\"id\"].tolist()[:1000]\n",
    "corpus = FriendlyCorpus()\n",
    "corpus_len = len([doc for doc in corpus])"
   ],
   "metadata": {
    "collapsed": false
   }
  },
  {
   "cell_type": "code",
   "execution_count": 109,
   "outputs": [],
   "source": [
    "model = Word2Vec(vector_size=100, window=3, negative=5, ns_exponent=1, sg=0, workers=8)"
   ],
   "metadata": {
    "collapsed": false
   }
  },
  {
   "cell_type": "code",
   "execution_count": 110,
   "outputs": [],
   "source": [
    "model.build_vocab_from_freq(word_freq=dict(freqs_tups))"
   ],
   "metadata": {
    "collapsed": false
   }
  },
  {
   "cell_type": "code",
   "execution_count": 111,
   "outputs": [
    {
     "name": "stdout",
     "output_type": "stream",
     "text": [
      "CPU times: user 47.1 s, sys: 589 ms, total: 47.7 s\n",
      "Wall time: 29.2 s\n"
     ]
    },
    {
     "data": {
      "text/plain": "(22240101, 22783065)"
     },
     "execution_count": 111,
     "metadata": {},
     "output_type": "execute_result"
    }
   ],
   "source": [
    "%%time\n",
    "model.train(corpus_iterable=corpus, total_examples=corpus_len, epochs=5)"
   ],
   "metadata": {
    "collapsed": false
   }
  },
  {
   "cell_type": "code",
   "execution_count": 114,
   "outputs": [
    {
     "data": {
      "text/plain": "[('Pauline', 0.807790994644165),\n ('Branick', 0.5509141683578491),\n ('Krister', 0.5115583539009094),\n ('undisputed', 0.4922533631324768),\n ('deutero_Pauline', 0.4876696467399597),\n ('erature', 0.4874403774738312),\n ('thi', 0.48649412393569946),\n ('colossian', 0.4637281894683838),\n ('spe', 0.45533061027526855),\n ('Finlan', 0.45361194014549255)]"
     },
     "execution_count": 114,
     "metadata": {},
     "output_type": "execute_result"
    }
   ],
   "source": [
    "model.wv.most_similar(\"Paul\")"
   ],
   "metadata": {
    "collapsed": false
   }
  },
  {
   "cell_type": "code",
   "execution_count": 112,
   "outputs": [
    {
     "data": {
      "text/plain": "[('Galatians', 0.746419370174408),\n ('Thessalonians', 0.6330987215042114),\n ('Ephesians', 0.6219400763511658),\n ('Eph', 0.6069772839546204),\n ('Corinthians', 0.6063165664672852),\n ('Philippians', 0.5878782272338867),\n ('Matera', 0.5725627541542053),\n ('521', 0.563494861125946),\n ('Colossians', 0.5631004571914673),\n ('Brendan', 0.5271100401878357)]"
     },
     "execution_count": 112,
     "metadata": {},
     "output_type": "execute_result"
    }
   ],
   "source": [
    "model.wv.most_similar(\"Romans\")"
   ],
   "metadata": {
    "collapsed": false
   }
  },
  {
   "cell_type": "code",
   "execution_count": 113,
   "outputs": [
    {
     "data": {
      "text/plain": "[('crucified', 0.6054939031600952),\n ('risen', 0.5864917039871216),\n ('Ali', 0.5596235394477844),\n ('parousia', 0.5448322892189026),\n ('supper', 0.5399717688560486),\n ('crucify', 0.539387583732605),\n ('Philem', 0.5347006916999817),\n ('Grillmeier', 0.5329602360725403),\n ('Epaphras', 0.5325378179550171),\n ('Nicodemus', 0.5318003296852112)]"
     },
     "execution_count": 113,
     "metadata": {},
     "output_type": "execute_result"
    }
   ],
   "source": [
    "model.wv.most_similar(\"Jesus\")"
   ],
   "metadata": {
    "collapsed": false
   }
  },
  {
   "cell_type": "code",
   "execution_count": 115,
   "outputs": [
    {
     "data": {
      "text/plain": "41385"
     },
     "execution_count": 115,
     "metadata": {},
     "output_type": "execute_result"
    }
   ],
   "source": [
    "len(model.wv.index_to_key)"
   ],
   "metadata": {
    "collapsed": false
   }
  },
  {
   "cell_type": "code",
   "execution_count": 117,
   "outputs": [],
   "source": [
    "words_to_keep = [tup[0] for tup in freqs_tups[:3000]]"
   ],
   "metadata": {
    "collapsed": false
   }
  },
  {
   "cell_type": "code",
   "execution_count": 118,
   "outputs": [],
   "source": [
    "def filter_wv(wv, words_to_keep):\n",
    "    model_words = wv.index_to_key\n",
    "    words_to_trim = list((set(model_words).difference(set(words_to_keep))))\n",
    "    ids_to_trim = [wv.key_to_index[w] for w in words_to_trim]\n",
    "    for w in words_to_trim:\n",
    "        del wv.key_to_index[w]\n",
    "    wv.vectors = np.delete(wv.vectors, ids_to_trim, axis=0)\n",
    "    wv.fill_norms()\n",
    "    for i in sorted(ids_to_trim, reverse=True):\n",
    "        del(wv.index_to_key[i])\n",
    "    return wv"
   ],
   "metadata": {
    "collapsed": false
   }
  },
  {
   "cell_type": "code",
   "execution_count": 119,
   "outputs": [],
   "source": [
    "test_wv = model.wv"
   ],
   "metadata": {
    "collapsed": false
   }
  },
  {
   "cell_type": "code",
   "execution_count": 120,
   "outputs": [],
   "source": [
    "model_vw_filtered = filter_wv(test_wv, words_to_keep)"
   ],
   "metadata": {
    "collapsed": false
   }
  },
  {
   "cell_type": "code",
   "execution_count": null,
   "outputs": [],
   "source": [
    "# but there is much more straightforward solution to this!\n",
    "model_vw_filtered = model.wv.vectors_for_all(words_to_keep)"
   ],
   "metadata": {
    "collapsed": false
   }
  },
  {
   "cell_type": "code",
   "execution_count": 121,
   "outputs": [
    {
     "data": {
      "text/plain": "3000"
     },
     "execution_count": 121,
     "metadata": {},
     "output_type": "execute_result"
    }
   ],
   "source": [
    "len(model_vw_filtered)"
   ],
   "metadata": {
    "collapsed": false
   }
  },
  {
   "cell_type": "code",
   "execution_count": 124,
   "outputs": [
    {
     "data": {
      "text/plain": "[('Pauline', 0.807790994644165),\n ('colossian', 0.4637281894683838),\n ('athanasius', 0.43054693937301636),\n ('contributor', 0.4175826907157898),\n ('ephesian', 0.41415196657180786),\n ('inspire', 0.4122663140296936),\n ('Titus', 0.40873152017593384),\n ('shape', 0.4032384753227234),\n ('Robinson', 0.3954716622829437),\n ('Hebrews', 0.39504387974739075)]"
     },
     "execution_count": 124,
     "metadata": {},
     "output_type": "execute_result"
    }
   ],
   "source": [
    "model_vw_filtered.most_similar(\"Paul\")"
   ],
   "metadata": {
    "collapsed": false
   }
  },
  {
   "cell_type": "code",
   "execution_count": 134,
   "outputs": [],
   "source": [
    "def ids_from_colvals(df_name, col, matchstring):\n",
    "    ids = eval('{0}[{0}[\"{1}\"]{2}]'.format(df_name, col, matchstring))[\"id\"].tolist()\n",
    "    return ids"
   ],
   "metadata": {
    "collapsed": false
   }
  },
  {
   "cell_type": "code",
   "execution_count": 137,
   "outputs": [
    {
     "data": {
      "text/plain": "['1900,1919', '1920,1939', '1940,1959', '1960,1979', '1980,1999', '2000,2019']"
     },
     "execution_count": 137,
     "metadata": {},
     "output_type": "execute_result"
    }
   ],
   "source": [
    "generations = []\n",
    "for n in range (1900, 2001, 20):\n",
    "    generations.append((str(n) + \",\" + str(n+19)))\n",
    "generations"
   ],
   "metadata": {
    "collapsed": false
   }
  },
  {
   "cell_type": "code",
   "execution_count": 139,
   "outputs": [
    {
     "data": {
      "text/plain": "'1980,1999'"
     },
     "execution_count": 139,
     "metadata": {},
     "output_type": "execute_result"
    }
   ],
   "source": [
    "test_gen = generations[-2]\n",
    "test_gen"
   ],
   "metadata": {
    "collapsed": false
   }
  },
  {
   "cell_type": "code",
   "execution_count": 140,
   "outputs": [
    {
     "data": {
      "text/plain": "2520"
     },
     "execution_count": 140,
     "metadata": {},
     "output_type": "execute_result"
    }
   ],
   "source": [
    "ids = ids_from_colvals(\"jstor_df\", \"publicationYear\", \".between({})\".format(test_gen))\n",
    "len(ids)"
   ],
   "metadata": {
    "collapsed": false
   }
  },
  {
   "cell_type": "code",
   "execution_count": 141,
   "outputs": [
    {
     "data": {
      "text/plain": "(39413004, 40391550)"
     },
     "execution_count": 141,
     "metadata": {},
     "output_type": "execute_result"
    }
   ],
   "source": [
    "corpus = FriendlyCorpus()\n",
    "corpus_len = len([doc for doc in corpus])\n",
    "model = Word2Vec(vector_size=150, window=3, negative=5, ns_exponent=1, sg=0, workers=8)\n",
    "model.build_vocab_from_freq(word_freq=dict(freqs_tups))\n",
    "model.train(corpus_iterable=corpus, total_examples=corpus_len, epochs=5)\n",
    "model_vectors = model.wv"
   ],
   "metadata": {
    "collapsed": false
   }
  },
  {
   "cell_type": "code",
   "execution_count": 149,
   "outputs": [],
   "source": [
    "model_vectors.save(\"../data/large_files/model_vectors_{}.wv\".format(test_gen))"
   ],
   "metadata": {
    "collapsed": false
   }
  },
  {
   "cell_type": "code",
   "execution_count": 154,
   "outputs": [],
   "source": [
    "model_vectors_loaded = KeyedVectors.load(\"../data/large_files/model_vectors_{}.wv\".format(test_gen))"
   ],
   "metadata": {
    "collapsed": false
   }
  },
  {
   "cell_type": "markdown",
   "source": [
    "# word2vec main application"
   ],
   "metadata": {
    "collapsed": false
   }
  },
  {
   "cell_type": "code",
   "execution_count": 157,
   "outputs": [
    {
     "data": {
      "text/plain": "['1900,1919', '1920,1939', '1940,1959', '1960,1979', '1980,1999', '2000,2019']"
     },
     "execution_count": 157,
     "metadata": {},
     "output_type": "execute_result"
    }
   ],
   "source": [
    "generations = []\n",
    "for n in range (1900, 2001, 20):\n",
    "    generations.append((str(n) + \",\" + str(n+19)))\n",
    "generations"
   ],
   "metadata": {
    "collapsed": false
   }
  },
  {
   "cell_type": "code",
   "execution_count": null,
   "outputs": [],
   "source": [],
   "metadata": {
    "collapsed": false
   }
  },
  {
   "cell_type": "code",
   "execution_count": 158,
   "outputs": [
    {
     "name": "stdout",
     "output_type": "stream",
     "text": [
      "generation 1900,1919 model training\n",
      "generation 1900,1919 ready. saving...\n",
      "generation 1920,1939 model training\n",
      "generation 1920,1939 ready. saving...\n",
      "generation 1940,1959 model training\n",
      "generation 1940,1959 ready. saving...\n",
      "generation 1960,1979 model training\n",
      "generation 1960,1979 ready. saving...\n",
      "generation 1980,1999 model training\n",
      "generation 1980,1999 ready. saving...\n",
      "generation 2000,2019 model training\n",
      "generation 2000,2019 ready. saving...\n"
     ]
    }
   ],
   "source": [
    "for gen in generations:\n",
    "    print(\"generation {} model training\".format(gen))\n",
    "    ids = ids_from_colvals(\"jstor_df\", \"publicationYear\", \".between({})\".format(test_gen))\n",
    "    corpus = FriendlyCorpus()\n",
    "    corpus_len = len([doc for doc in corpus])\n",
    "    model = Word2Vec(vector_size=150, window=3, negative=5, ns_exponent=1, sg=0, workers=8)\n",
    "    model.build_vocab_from_freq(word_freq=dict(freqs_tups))\n",
    "    model.train(corpus_iterable=corpus, total_examples=corpus_len, epochs=5)\n",
    "    model_vectors = model.wv\n",
    "    print(\"generation {} ready. saving...\".format(gen))\n",
    "    model_vectors.save(\"../data/large_files/model_vectors_{}.wv\".format(gen))"
   ],
   "metadata": {
    "collapsed": false
   }
  },
  {
   "cell_type": "code",
   "execution_count": null,
   "outputs": [],
   "source": [],
   "metadata": {
    "collapsed": false
   }
  }
 ],
 "metadata": {
  "kernelspec": {
   "name": "mops_venv",
   "language": "python",
   "display_name": "mops_venv"
  },
  "language_info": {
   "codemirror_mode": {
    "name": "ipython",
    "version": 2
   },
   "file_extension": ".py",
   "mimetype": "text/x-python",
   "name": "python",
   "nbconvert_exporter": "python",
   "pygments_lexer": "ipython2",
   "version": "2.7.6"
  }
 },
 "nbformat": 4,
 "nbformat_minor": 0
}
