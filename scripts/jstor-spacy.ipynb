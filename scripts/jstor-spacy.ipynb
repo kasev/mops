{
 "cells": [
  {
   "cell_type": "code",
   "execution_count": 1,
   "metadata": {
    "collapsed": true,
    "pycharm": {
     "name": "#%%\n"
    }
   },
   "outputs": [],
   "source": [
    "import pandas as pd\n",
    "import pickle\n",
    "pd.set_option(\"display.max_columns\", None)\n",
    "from collections import Counter\n",
    "import spacy"
   ]
  },
  {
   "cell_type": "code",
   "execution_count": 2,
   "outputs": [
    {
     "name": "stdout",
     "output_type": "stream",
     "text": [
      "endpoint variable has been configured to: https://sciencedata.dk/files/\n"
     ]
    }
   ],
   "source": [
    "# to communicate with google spreadsheet...\n",
    "import gspread\n",
    "from gspread_dataframe import get_as_dataframe\n",
    "from gspread_dataframe import set_with_dataframe\n",
    "from google.oauth2 import service_account # based on google-auth library\n",
    "import sddk\n",
    "\n",
    "s = sddk.cloudSession(\"sciencedata.dk\")\n",
    "# establish connection with gogglesheets...\n",
    "file_data = s.read_file(\"https://sciencedata.dk/files/ServiceAccountsKey.json\", \"dict\") # or load it from a local storage: json.load(open(\"../../ServiceAccountsKey.json\", \"r\"))\n",
    "credentials = service_account.Credentials.from_service_account_info(file_data)\n",
    "gc = gspread.Client(auth=credentials.with_scopes(['https://spreadsheets.google.com/feeds', 'https://www.googleapis.com/auth/drive']))\n",
    "mops_data = gc.open_by_url(\"https://docs.google.com/spreadsheets/d/1VbCIAJssHKV9hlRTwzVFfm40CGnHesq53KXjv2qy4OM/edit?usp=sharing\")"
   ],
   "metadata": {
    "collapsed": false,
    "pycharm": {
     "name": "#%%\n"
    }
   }
  },
  {
   "cell_type": "code",
   "execution_count": 3,
   "outputs": [],
   "source": [
    "jstor_df = pd.read_feather(\"../data/large_files/jstor_df_v1.feather\")"
   ],
   "metadata": {
    "collapsed": false,
    "pycharm": {
     "name": "#%%\n"
    }
   }
  },
  {
   "cell_type": "code",
   "execution_count": 4,
   "outputs": [
    {
     "data": {
      "text/plain": "                 creator datePublished  docType                           doi  \\\n0                     []    1959-10-01  article    10.1177/001452465907100107   \n1  [Victor Paul Furnish]    2009-01-01  chapter  10.1017/CBO9780511621321.003   \n2      [Leander E. Keck]    2015-01-01  chapter                          None   \n3   [LeAnn Snow Flesher]    2009-02-01  article    10.1177/003463730910600105   \n4      [A. Daunton-Fear]    1995-07-01  article    10.1177/0040571X9509800404   \n\n                        id                                         identifier  \\\n0  ark://27927/phx66812gq6  [{'name': 'doi', 'value': '10.1177/00145246590...   \n1   ark://27927/pbd6fpf5fh  [{'name': 'isbn', 'value': '9780511621321'}, {...   \n2  ark://27927/phw1kd8s300                                                 []   \n3  ark://27927/phx64fptrwj  [{'name': 'doi', 'value': '10.1177/00346373091...   \n4  ark://27927/phx64k1x5c2  [{'name': 'doi', 'value': '10.1177/0040571X950...   \n\n                                            isPartOf issueNumber  \\\n0                                   Expository Times           1   \n1     Jesus According to PaulJesus According to Paul        None   \n2                      Christ&#39;s First Theologian        None   \n3  Review & Expositor: An International Baptist J...           1   \n4                                           Theology         784   \n\n                                           keyphrase language  \\\n0  [omnipotent reigneth, god omnipotent, silence,...    [eng]   \n1  [saying, books online, jesus tradition, pauls ...    [eng]   \n2  [pharisaism, sandmel genius, judaism, rabbinic...    [eng]   \n3  [scofield, premillennial, premillennial dispen...    [eng]   \n4  [baptism, holy spirit, communion, infant bapti...    [eng]   \n\n                 outputFormat  pageCount pageEnd pageStart pagination  \\\n0  [unigram, bigram, trigram]        8.0      31        24  pp. 24-31   \n1  [unigram, bigram, trigram]       26.0      65        40      40-65   \n2  [unigram, bigram, trigram]       14.0      42        29      29-42   \n3  [unigram, bigram, trigram]       11.0      45        35  pp. 35-45   \n4  [unigram, bigram, trigram]       10.0     282       273    273-282   \n\n  provider  publicationYear                   publisher  sequence  \\\n0  portico             1959           SAGE Publications       7.0   \n1  portico             2009  Cambridge University Press       5.0   \n2  portico             2015     Baylor University Press       8.0   \n3  portico             2009           SAGE Publications       5.0   \n4  portico             1995           SAGE Publications       4.0   \n\n                                         tdmCategory  \\\n0  [Religion - Theology, Religion - Spiritual bel...   \n1  [History - Historical methodology, Religion - ...   \n2  [History - Historical methodology, Religion - ...   \n3  [Religion - Theology, Religion - Spiritual bel...   \n4              [Religion - Spiritual belief systems]   \n\n                                               title  \\\n0                                       In the Study   \n1               3 Sayings of Jesus in Paul's Letters   \n2                  3. The Quest for Pauls Pharisaism   \n3  The Historical Development of Premillennial Di...   \n4  Resisting the Tide Christian Initiation and Co...   \n\n                                            url volumeNumber  wordCount  \\\n0     http://doi.org/10.1177/001452465907100107           71       7382   \n1  https://doi.org/10.1017/CBO9780511621321.003         None       8577   \n2                                          None         None       5354   \n3     http://doi.org/10.1177/003463730910600105          106       3614   \n4     http://doi.org/10.1177/0040571X9509800404           98       4323   \n\n  docSubType sourceCategory subTitle hasPartTitle  \n0       None           None     None         None  \n1       None           None     None         None  \n2       None           None     None         None  \n3       None           None     None         None  \n4       None           None     None         None  ",
      "text/html": "<div>\n<style scoped>\n    .dataframe tbody tr th:only-of-type {\n        vertical-align: middle;\n    }\n\n    .dataframe tbody tr th {\n        vertical-align: top;\n    }\n\n    .dataframe thead th {\n        text-align: right;\n    }\n</style>\n<table border=\"1\" class=\"dataframe\">\n  <thead>\n    <tr style=\"text-align: right;\">\n      <th></th>\n      <th>creator</th>\n      <th>datePublished</th>\n      <th>docType</th>\n      <th>doi</th>\n      <th>id</th>\n      <th>identifier</th>\n      <th>isPartOf</th>\n      <th>issueNumber</th>\n      <th>keyphrase</th>\n      <th>language</th>\n      <th>outputFormat</th>\n      <th>pageCount</th>\n      <th>pageEnd</th>\n      <th>pageStart</th>\n      <th>pagination</th>\n      <th>provider</th>\n      <th>publicationYear</th>\n      <th>publisher</th>\n      <th>sequence</th>\n      <th>tdmCategory</th>\n      <th>title</th>\n      <th>url</th>\n      <th>volumeNumber</th>\n      <th>wordCount</th>\n      <th>docSubType</th>\n      <th>sourceCategory</th>\n      <th>subTitle</th>\n      <th>hasPartTitle</th>\n    </tr>\n  </thead>\n  <tbody>\n    <tr>\n      <th>0</th>\n      <td>[]</td>\n      <td>1959-10-01</td>\n      <td>article</td>\n      <td>10.1177/001452465907100107</td>\n      <td>ark://27927/phx66812gq6</td>\n      <td>[{'name': 'doi', 'value': '10.1177/00145246590...</td>\n      <td>Expository Times</td>\n      <td>1</td>\n      <td>[omnipotent reigneth, god omnipotent, silence,...</td>\n      <td>[eng]</td>\n      <td>[unigram, bigram, trigram]</td>\n      <td>8.0</td>\n      <td>31</td>\n      <td>24</td>\n      <td>pp. 24-31</td>\n      <td>portico</td>\n      <td>1959</td>\n      <td>SAGE Publications</td>\n      <td>7.0</td>\n      <td>[Religion - Theology, Religion - Spiritual bel...</td>\n      <td>In the Study</td>\n      <td>http://doi.org/10.1177/001452465907100107</td>\n      <td>71</td>\n      <td>7382</td>\n      <td>None</td>\n      <td>None</td>\n      <td>None</td>\n      <td>None</td>\n    </tr>\n    <tr>\n      <th>1</th>\n      <td>[Victor Paul Furnish]</td>\n      <td>2009-01-01</td>\n      <td>chapter</td>\n      <td>10.1017/CBO9780511621321.003</td>\n      <td>ark://27927/pbd6fpf5fh</td>\n      <td>[{'name': 'isbn', 'value': '9780511621321'}, {...</td>\n      <td>Jesus According to PaulJesus According to Paul</td>\n      <td>None</td>\n      <td>[saying, books online, jesus tradition, pauls ...</td>\n      <td>[eng]</td>\n      <td>[unigram, bigram, trigram]</td>\n      <td>26.0</td>\n      <td>65</td>\n      <td>40</td>\n      <td>40-65</td>\n      <td>portico</td>\n      <td>2009</td>\n      <td>Cambridge University Press</td>\n      <td>5.0</td>\n      <td>[History - Historical methodology, Religion - ...</td>\n      <td>3 Sayings of Jesus in Paul's Letters</td>\n      <td>https://doi.org/10.1017/CBO9780511621321.003</td>\n      <td>None</td>\n      <td>8577</td>\n      <td>None</td>\n      <td>None</td>\n      <td>None</td>\n      <td>None</td>\n    </tr>\n    <tr>\n      <th>2</th>\n      <td>[Leander E. Keck]</td>\n      <td>2015-01-01</td>\n      <td>chapter</td>\n      <td>None</td>\n      <td>ark://27927/phw1kd8s300</td>\n      <td>[]</td>\n      <td>Christ&amp;#39;s First Theologian</td>\n      <td>None</td>\n      <td>[pharisaism, sandmel genius, judaism, rabbinic...</td>\n      <td>[eng]</td>\n      <td>[unigram, bigram, trigram]</td>\n      <td>14.0</td>\n      <td>42</td>\n      <td>29</td>\n      <td>29-42</td>\n      <td>portico</td>\n      <td>2015</td>\n      <td>Baylor University Press</td>\n      <td>8.0</td>\n      <td>[History - Historical methodology, Religion - ...</td>\n      <td>3. The Quest for Pauls Pharisaism</td>\n      <td>None</td>\n      <td>None</td>\n      <td>5354</td>\n      <td>None</td>\n      <td>None</td>\n      <td>None</td>\n      <td>None</td>\n    </tr>\n    <tr>\n      <th>3</th>\n      <td>[LeAnn Snow Flesher]</td>\n      <td>2009-02-01</td>\n      <td>article</td>\n      <td>10.1177/003463730910600105</td>\n      <td>ark://27927/phx64fptrwj</td>\n      <td>[{'name': 'doi', 'value': '10.1177/00346373091...</td>\n      <td>Review &amp; Expositor: An International Baptist J...</td>\n      <td>1</td>\n      <td>[scofield, premillennial, premillennial dispen...</td>\n      <td>[eng]</td>\n      <td>[unigram, bigram, trigram]</td>\n      <td>11.0</td>\n      <td>45</td>\n      <td>35</td>\n      <td>pp. 35-45</td>\n      <td>portico</td>\n      <td>2009</td>\n      <td>SAGE Publications</td>\n      <td>5.0</td>\n      <td>[Religion - Theology, Religion - Spiritual bel...</td>\n      <td>The Historical Development of Premillennial Di...</td>\n      <td>http://doi.org/10.1177/003463730910600105</td>\n      <td>106</td>\n      <td>3614</td>\n      <td>None</td>\n      <td>None</td>\n      <td>None</td>\n      <td>None</td>\n    </tr>\n    <tr>\n      <th>4</th>\n      <td>[A. Daunton-Fear]</td>\n      <td>1995-07-01</td>\n      <td>article</td>\n      <td>10.1177/0040571X9509800404</td>\n      <td>ark://27927/phx64k1x5c2</td>\n      <td>[{'name': 'doi', 'value': '10.1177/0040571X950...</td>\n      <td>Theology</td>\n      <td>784</td>\n      <td>[baptism, holy spirit, communion, infant bapti...</td>\n      <td>[eng]</td>\n      <td>[unigram, bigram, trigram]</td>\n      <td>10.0</td>\n      <td>282</td>\n      <td>273</td>\n      <td>273-282</td>\n      <td>portico</td>\n      <td>1995</td>\n      <td>SAGE Publications</td>\n      <td>4.0</td>\n      <td>[Religion - Spiritual belief systems]</td>\n      <td>Resisting the Tide Christian Initiation and Co...</td>\n      <td>http://doi.org/10.1177/0040571X9509800404</td>\n      <td>98</td>\n      <td>4323</td>\n      <td>None</td>\n      <td>None</td>\n      <td>None</td>\n      <td>None</td>\n    </tr>\n  </tbody>\n</table>\n</div>"
     },
     "execution_count": 4,
     "metadata": {},
     "output_type": "execute_result"
    }
   ],
   "source": [
    "jstor_df.head(5)"
   ],
   "metadata": {
    "collapsed": false,
    "pycharm": {
     "name": "#%%\n"
    }
   }
  },
  {
   "cell_type": "code",
   "execution_count": 5,
   "outputs": [],
   "source": [
    "unigramCount_dict = pickle.load(open(\"../data/large_files/unigramCount_dict.pickle\", \"rb\"))"
   ],
   "metadata": {
    "collapsed": false,
    "pycharm": {
     "name": "#%%\n"
    }
   }
  },
  {
   "cell_type": "code",
   "execution_count": null,
   "outputs": [],
   "source": [
    "bigramCount_dict = pickle.load(open(\"../data/large_files/bigramCount_dict.pickle\", \"rb\"))"
   ],
   "metadata": {
    "collapsed": false,
    "pycharm": {
     "name": "#%%\n"
    }
   }
  },
  {
   "cell_type": "code",
   "execution_count": 6,
   "outputs": [],
   "source": [
    "trigramCount_dict = pickle.load(open(\"../data/large_files/trigramCount_dict.pickle\", \"rb\"))"
   ],
   "metadata": {
    "collapsed": false,
    "pycharm": {
     "name": "#%%\n"
    }
   }
  },
  {
   "cell_type": "code",
   "execution_count": 9,
   "outputs": [],
   "source": [
    "def ids_from_colvals(col, matchstring):\n",
    "    ids = eval('jstor_df[jstor_df[\"{0}\"]{1}]'.format(col, matchstring))[\"id\"].tolist()\n",
    "    return ids\n",
    "\n",
    "def merge_data_from_ids(ids, datadict):\n",
    "    c = Counter()\n",
    "    for id in ids:\n",
    "        d = datadict[id]\n",
    "        c.update(d)\n",
    "    return c\n"
   ],
   "metadata": {
    "collapsed": false,
    "pycharm": {
     "name": "#%%\n"
    }
   }
  },
  {
   "cell_type": "code",
   "execution_count": 8,
   "outputs": [],
   "source": [
    "from userfunctions import *"
   ],
   "metadata": {
    "collapsed": false,
    "pycharm": {
     "name": "#%%\n"
    }
   }
  },
  {
   "cell_type": "markdown",
   "source": [
    "# Cleaning the texts"
   ],
   "metadata": {
    "collapsed": false,
    "pycharm": {
     "name": "#%% md\n"
    }
   }
  },
  {
   "cell_type": "code",
   "execution_count": 19,
   "outputs": [],
   "source": [
    "ids = jstor_df.sample(500, random_state=0)[\"id\"].tolist()"
   ],
   "metadata": {
    "collapsed": false,
    "pycharm": {
     "name": "#%%\n"
    }
   }
  },
  {
   "cell_type": "code",
   "execution_count": 20,
   "outputs": [],
   "source": [
    "data_unigrams = merge_data_from_ids(ids, unigramCount_dict)\n",
    "data_trigrams = merge_data_from_ids(ids, trigramCount_dict)"
   ],
   "metadata": {
    "collapsed": false,
    "pycharm": {
     "name": "#%%\n"
    }
   }
  },
  {
   "cell_type": "code",
   "execution_count": 27,
   "outputs": [
    {
     "data": {
      "text/plain": "383643"
     },
     "execution_count": 27,
     "metadata": {},
     "output_type": "execute_result"
    }
   ],
   "source": [
    "len(data_unigrams_sorted)"
   ],
   "metadata": {
    "collapsed": false,
    "pycharm": {
     "name": "#%%\n"
    }
   }
  },
  {
   "cell_type": "code",
   "execution_count": 29,
   "outputs": [
    {
     "data": {
      "text/plain": "4910"
     },
     "execution_count": 29,
     "metadata": {},
     "output_type": "execute_result"
    }
   ],
   "source": [
    "len([el for el in data_unigrams_sorted if el[1] > 100])"
   ],
   "metadata": {
    "collapsed": false,
    "pycharm": {
     "name": "#%%\n"
    }
   }
  },
  {
   "cell_type": "code",
   "execution_count": 33,
   "outputs": [],
   "source": [
    "#english stopwords...\n",
    "nlp = spacy.load('en_core_web_lg')\n",
    "stop_words = nlp.Defaults.stop_words"
   ],
   "metadata": {
    "collapsed": false,
    "pycharm": {
     "name": "#%%\n"
    }
   }
  },
  {
   "cell_type": "markdown",
   "source": [
    "# Unigrams to nlp docs"
   ],
   "metadata": {
    "collapsed": false,
    "pycharm": {
     "name": "#%% md\n"
    }
   }
  },
  {
   "cell_type": "code",
   "execution_count": 21,
   "outputs": [
    {
     "data": {
      "text/plain": "[('the', 336493),\n ('of', 225089),\n ('and', 148677),\n ('to', 126990),\n ('in', 114966),\n ('a', 78570),\n ('that', 65269),\n ('is', 62699),\n ('as', 42797),\n ('for', 35255),\n ('The', 31223),\n ('with', 30096),\n ('not', 29514),\n ('by', 28451),\n ('his', 27668),\n ('was', 26984),\n ('be', 26606),\n ('on', 25270),\n ('it', 23724),\n ('this', 23606),\n ('from', 23214),\n ('he', 22876),\n ('are', 19724),\n ('which', 18696),\n ('or', 18425),\n ('have', 16821),\n ('their', 16045),\n ('an', 15817),\n ('but', 15780),\n ('who', 15725),\n ('they', 14424),\n ('at', 13556),\n ('I', 12627),\n ('.', 12309),\n ('were', 12115),\n ('we', 11799),\n ('one', 11640),\n ('all', 11409),\n ('In', 11151),\n ('has', 11101),\n ('had', 10916),\n ('God', 10602),\n ('also', 10216),\n ('will', 8742),\n ('its', 8556),\n ('more', 8359),\n ('Christian', 8215),\n ('been', 8139),\n ('would', 7957),\n ('Paul', 7668),\n ('what', 7518),\n ('so', 7216),\n ('only', 7186),\n ('other', 7140),\n ('these', 6983),\n ('This', 6917),\n ('no', 6784),\n ('our', 6780),\n ('about', 6772),\n ('into', 6767),\n ('Jesus', 6727),\n ('than', 6576),\n ('you', 6409),\n ('when', 6148),\n ('It', 6133),\n ('them', 6083),\n ('can', 6083),\n ('there', 6062),\n ('such', 6043),\n ('those', 6039),\n ('A', 5879),\n ('some', 5789),\n ('may', 5777),\n ('if', 5685),\n ('between', 5638),\n ('through', 5364),\n ('He', 5353),\n ('For', 5304),\n ('should', 5266),\n ('even', 5156),\n ('1', 5102),\n ('first', 5097),\n ('New', 5088),\n ('him', 5057),\n ('do', 5031),\n ('see', 4981),\n ('Jewish', 4942),\n ('But', 4897),\n ('own', 4647),\n ('most', 4599),\n ('because', 4537),\n ('does', 4531),\n ('out', 4463),\n ('could', 4462),\n ('Christ', 4404),\n ('two', 4277),\n ('both', 4277),\n ('how', 4237),\n ('us', 4222),\n ('any', 4203)]"
     },
     "execution_count": 21,
     "metadata": {},
     "output_type": "execute_result"
    }
   ],
   "source": [
    "data_unigrams_sorted = sorted(data_unigrams.items(), key=lambda kv: kv[1], reverse=True)\n",
    "data_unigrams_sorted[:100]"
   ],
   "metadata": {
    "collapsed": false,
    "pycharm": {
     "name": "#%%\n"
    }
   }
  },
  {
   "cell_type": "code",
   "execution_count": 34,
   "outputs": [
    {
     "data": {
      "text/plain": "9"
     },
     "execution_count": 34,
     "metadata": {},
     "output_type": "execute_result"
    }
   ],
   "source": [
    "len([el for el in data_unigrams_sorted[:100] if el[0].lower() not in stop_words])"
   ],
   "metadata": {
    "collapsed": false,
    "pycharm": {
     "name": "#%%\n"
    }
   }
  },
  {
   "cell_type": "code",
   "execution_count": 58,
   "outputs": [
    {
     "data": {
      "text/plain": "30897"
     },
     "execution_count": 58,
     "metadata": {},
     "output_type": "execute_result"
    }
   ],
   "source": [
    "len([el for el in data_unigrams_sorted if el[1] > 10])"
   ],
   "metadata": {
    "collapsed": false,
    "pycharm": {
     "name": "#%%\n"
    }
   }
  },
  {
   "cell_type": "code",
   "execution_count": 59,
   "outputs": [
    {
     "name": "stdout",
     "output_type": "stream",
     "text": [
      "CPU times: user 1min 15s, sys: 1.64 s, total: 1min 17s\n",
      "Wall time: 1min 18s\n"
     ]
    }
   ],
   "source": [
    "%%time\n",
    "data_unigrams_sorted_nlp = [(el[0], {\"doc\" : nlp(el[0]), \"count\" : el[1]}) for el in data_unigrams_sorted if el[1] > 10]"
   ],
   "metadata": {
    "collapsed": false,
    "pycharm": {
     "name": "#%%\n"
    }
   }
  },
  {
   "cell_type": "code",
   "execution_count": 60,
   "outputs": [
    {
     "data": {
      "text/plain": "[('the', {'doc': the, 'count': 336493}),\n ('of', {'doc': of, 'count': 225089}),\n ('and', {'doc': and, 'count': 148677}),\n ('to', {'doc': to, 'count': 126990}),\n ('in', {'doc': in, 'count': 114966})]"
     },
     "execution_count": 60,
     "metadata": {},
     "output_type": "execute_result"
    }
   ],
   "source": [
    "data_unigrams_sorted_nlp[:5]"
   ],
   "metadata": {
    "collapsed": false,
    "pycharm": {
     "name": "#%%\n"
    }
   }
  },
  {
   "cell_type": "code",
   "execution_count": 71,
   "outputs": [],
   "source": [
    "data_unigrams_nlp_dict = dict(data_unigrams_sorted_nlp)"
   ],
   "metadata": {
    "collapsed": false,
    "pycharm": {
     "name": "#%%\n"
    }
   }
  },
  {
   "cell_type": "code",
   "execution_count": 62,
   "outputs": [],
   "source": [
    "with open(\"../data/large_files/data_unigrams_nlp_dict.pickle\", \"wb\") as f:\n",
    "    pickle.dump(data_unigrams_nlp_dict, f)"
   ],
   "metadata": {
    "collapsed": false,
    "pycharm": {
     "name": "#%%\n"
    }
   }
  },
  {
   "cell_type": "code",
   "execution_count": 63,
   "outputs": [],
   "source": [
    "#data_unigrams_nlp_dict = pickle.load(open(\"../data/large_files/data_unigrams_nlp_dict.pickle\", \"rb\"))"
   ],
   "metadata": {
    "collapsed": false,
    "pycharm": {
     "name": "#%%\n"
    }
   }
  },
  {
   "cell_type": "code",
   "execution_count": 74,
   "outputs": [
    {
     "data": {
      "text/plain": "['go']"
     },
     "execution_count": 74,
     "metadata": {},
     "output_type": "execute_result"
    }
   ],
   "source": [
    "[t.lemma_ for t in data_unigrams_nlp_dict[\"goes\"][\"doc\"]]"
   ],
   "metadata": {
    "collapsed": false,
    "pycharm": {
     "name": "#%%\n"
    }
   }
  },
  {
   "cell_type": "markdown",
   "source": [
    "# Trigrams to nlp docs"
   ],
   "metadata": {
    "collapsed": false,
    "pycharm": {
     "name": "#%% md\n"
    }
   }
  },
  {
   "cell_type": "code",
   "execution_count": 51,
   "outputs": [],
   "source": [
    "data_trigrams_sorted = sorted(data_trigrams.items(), key=lambda kv: kv[1], reverse=True)\n",
    "data_trigrams_sorted_nlp = [(nlp(el[0]), el[1]) for el in data_trigrams_sorted[:1000]]"
   ],
   "metadata": {
    "collapsed": false,
    "pycharm": {
     "name": "#%%\n"
    }
   }
  },
  {
   "cell_type": "code",
   "execution_count": 77,
   "outputs": [
    {
     "data": {
      "text/plain": "22972"
     },
     "execution_count": 77,
     "metadata": {},
     "output_type": "execute_result"
    }
   ],
   "source": [
    "len([el for el in data_trigrams_sorted if el[1] > 10])"
   ],
   "metadata": {
    "collapsed": false,
    "pycharm": {
     "name": "#%%\n"
    }
   }
  },
  {
   "cell_type": "code",
   "execution_count": 78,
   "outputs": [
    {
     "name": "stdout",
     "output_type": "stream",
     "text": [
      "CPU times: user 58.7 s, sys: 660 ms, total: 59.4 s\n",
      "Wall time: 59.8 s\n"
     ]
    }
   ],
   "source": [
    "%%time\n",
    "data_trigrams_sorted_nlp = [(el[0], {\"doc\" : nlp(el[0]), \"count\" : el[1]}) for el in data_trigrams_sorted if el[1] > 10]"
   ],
   "metadata": {
    "collapsed": false,
    "pycharm": {
     "name": "#%%\n"
    }
   }
  },
  {
   "cell_type": "code",
   "execution_count": 79,
   "outputs": [],
   "source": [
    "data_trigrams_nlp_dict = dict(data_trigrams_sorted_nlp)"
   ],
   "metadata": {
    "collapsed": false,
    "pycharm": {
     "name": "#%%\n"
    }
   }
  },
  {
   "cell_type": "code",
   "execution_count": 80,
   "outputs": [],
   "source": [
    "with open(\"../data/large_files/data_trigrams_nlp_dict.pickle\", \"wb\") as f:\n",
    "    pickle.dump(data_trigrams_nlp_dict, f)"
   ],
   "metadata": {
    "collapsed": false,
    "pycharm": {
     "name": "#%%\n"
    }
   }
  },
  {
   "cell_type": "code",
   "execution_count": null,
   "outputs": [],
   "source": [],
   "metadata": {
    "collapsed": false,
    "pycharm": {
     "name": "#%%\n"
    }
   }
  },
  {
   "cell_type": "markdown",
   "source": [
    "# Explorations"
   ],
   "metadata": {
    "collapsed": false,
    "pycharm": {
     "name": "#%% md\n"
    }
   }
  },
  {
   "cell_type": "code",
   "execution_count": 109,
   "outputs": [],
   "source": [
    "def get_tops(col, matchstring, n=10):\n",
    "    ids = ids_from_colvals(col, matchstring)\n",
    "    c = merge_data_from_ids(ids, unigramCount_dict)\n",
    "    c_tups = [el for el in c.items() if el[0].lower() not in list(stop_words) + [\".\", \"-\", \"\\\"\"]]\n",
    "    top10 = sorted(c_tups, key=lambda kv: kv[1], reverse=True)[:n]\n",
    "    return top10"
   ],
   "metadata": {
    "collapsed": false,
    "pycharm": {
     "name": "#%%\n"
    }
   }
  },
  {
   "cell_type": "code",
   "execution_count": 110,
   "outputs": [
    {
     "data": {
      "text/plain": "[('Paul', 409),\n ('God', 404),\n ('Testament', 339),\n ('Christian', 331),\n ('New', 281),\n ('Old', 279),\n ('p.', 260),\n ('Jesus', 248),\n ('man', 238),\n ('Christ', 237),\n ('Gospel', 233),\n ('life', 225),\n ('law', 208),\n ('love', 192),\n ('new', 173),\n ('Church', 170),\n ('St.', 168),\n (';', 167),\n ('men', 161),\n (\"God's\", 156)]"
     },
     "execution_count": 110,
     "metadata": {},
     "output_type": "execute_result"
    }
   ],
   "source": [
    "get_tops(\"publicationYear\", \"==1951\", 20)"
   ],
   "metadata": {
    "collapsed": false,
    "pycharm": {
     "name": "#%%\n"
    }
   }
  },
  {
   "cell_type": "code",
   "execution_count": 111,
   "outputs": [
    {
     "data": {
      "text/plain": "[('God', 5002),\n ('Paul', 3773),\n ('Christian', 3543),\n ('Christ', 3098),\n ('New', 2981),\n ('Church', 2966),\n ('Jesus', 2862),\n ('p.', 2506),\n ('life', 2377),\n ('St.', 2364)]"
     },
     "execution_count": 111,
     "metadata": {},
     "output_type": "execute_result"
    }
   ],
   "source": [
    "get_tops(\"publicationYear\", \".between(1950,1959)\")"
   ],
   "metadata": {
    "collapsed": false,
    "pycharm": {
     "name": "#%%\n"
    }
   }
  },
  {
   "cell_type": "code",
   "execution_count": 112,
   "outputs": [
    {
     "name": "stdout",
     "output_type": "stream",
     "text": [
      "1900,1909\n",
      "1910,1919\n",
      "1920,1929\n",
      "1930,1939\n",
      "1940,1949\n",
      "1950,1959\n",
      "1960,1969\n",
      "1970,1979\n",
      "1980,1989\n",
      "1990,1999\n"
     ]
    }
   ],
   "source": [
    "for decade_n in range(0,10):\n",
    "    print(\"19{0}0,19{0}9\".format(str(decade_n)))"
   ],
   "metadata": {
    "collapsed": false,
    "pycharm": {
     "name": "#%%\n"
    }
   }
  },
  {
   "cell_type": "code",
   "execution_count": 113,
   "outputs": [
    {
     "name": "stdout",
     "output_type": "stream",
     "text": [
      "1900,1909 [('Proc.', 3172), ('d.', 2347), (':', 2342), ('2', 2219), ('de', 2113), ('Jesus', 2013), ('u.', 1737), ('&', 1650), ('God', 1647), ('New', 1622), ('Christian', 1493), ('der', 1478), ('Paul', 1440), ('3', 1371), ('des', 1366), ('Testament', 1330), ('Christ', 1290), ('?', 1251), ('et', 1209), ('1', 1179)]\n",
      "1910,1919 [('Jesus', 1776), ('God', 1736), ('Christian', 1542), ('great', 1405), ('church', 1200), ('life', 1182), ('time', 1177), ('p.', 1171), ('man', 1128), ('Paul', 1126), ('New', 1096), ('religious', 950), ('Christ', 905), ('men', 893), ('shall', 878), ('?', 858), (';', 845), ('found', 812), ('new', 794), ('work', 787)]\n",
      "1920,1929 [('|', 7527), ('p.', 2363), ('pp.', 1682), ('New', 1568), (':', 1110), ('Christian', 1054), ('1', 900), ('work', 871), ('Paul', 852), ('St.', 845), (';', 811), ('great', 788), ('time', 764), ('God', 754), ('religious', 725), ('A.', 702), ('Jewish', 692), ('American', 683), (\"'\", 635), ('new', 629)]\n",
      "1930,1939 [('et', 2512), ('p.', 1790), ('God', 1426), ('Church', 1297), ('Christian', 1098), ('New', 1054), ('St.', 1007), ('de', 979), ('ad', 893), ('Jesus', 855), ('time', 849), ('great', 834), ('shall', 772), ('ac', 759), ('life', 729), ('work', 698), (',', 698), ('new', 696), ('church', 691), ('1', 689)]\n",
      "1940,1949 [('God', 3034), ('Christian', 2257), ('Paul', 2119), ('Christ', 1932), ('p.', 1885), ('Jesus', 1824), ('Church', 1800), ('New', 1604), ('’', 1596), ('St.', 1570), ('man', 1528), ('life', 1389), (';', 1367), ('time', 1277), ('great', 1229), ('men', 1189), ('world', 1139), ('work', 1131), ('new', 1108), ('pp.', 1103)]\n",
      "1950,1959 [('God', 5002), ('Paul', 3773), ('Christian', 3543), ('Christ', 3098), ('New', 2981), ('Church', 2966), ('Jesus', 2862), ('p.', 2506), ('life', 2377), ('St.', 2364), (';', 2200), (':', 2179), ('man', 2168), ('pp.', 2060), ('time', 2047), ('new', 2025), ('’', 1947), ('Testament', 1897), ('work', 1779), ('John', 1735)]\n",
      "1960,1969 [('God', 6859), ('Christian', 5452), ('Paul', 5017), ('p.', 4536), ('Christ', 4514), ('New', 4338), ('Jesus', 3872), ('Church', 3720), ('man', 3165), (':', 3052), ('life', 2978), ('St.', 2938), ('J.', 2878), ('pp.', 2876), ('1', 2785), (';', 2674), ('time', 2639), ('new', 2476), ('church', 2417), ('John', 2370)]\n",
      "1970,1979 [('God', 8668), ('Paul', 7863), ('p.', 7357), ('Christian', 7085), ('pp.', 6461), ('1', 6218), ('Christ', 5480), ('New', 5380), ('Jesus', 5060), ('Church', 4096), ('church', 4018), ('new', 3953), ('de', 3865), ('man', 3741), ('2', 3673), ('life', 3432), (':', 3383), ('Testament', 3235), ('J.', 3207), ('et', 3166)]\n",
      "1980,1989 [('God', 16217), ('Paul', 15768), ('Christian', 12641), ('1', 10552), ('Jesus', 9551), ('p.', 9398), ('Christ', 9162), ('New', 8361), ('pp.', 7651), ('church', 6936), (\"Paul's\", 6909), ('life', 6586), ('new', 6509), ('Church', 6054), ('Jewish', 5856), ('people', 5805), ('John', 5781), ('2', 5500), ('human', 5402), ('time', 5379)]\n",
      "1990,1999 [('Paul', 19595), ('God', 17776), ('Christian', 16304), ('1', 14460), ('New', 12540), ('Jesus', 11065), (',', 10060), ('Christ', 9389), ('Jewish', 9304), (\"Paul's\", 8677), ('p.', 8593), ('church', 8228), ('new', 7997), ('John', 7976), ('pp.', 7913), ('2', 7702), ('et', 7598), ('human', 7497), ('people', 7427), ('Testament', 7108)]\n"
     ]
    }
   ],
   "source": [
    "for decade_n in range(0,10):\n",
    "    decade = \"19{0}0,19{0}9\".format(str(decade_n))\n",
    "    print(decade, get_tops(\"publicationYear\", \".between({0})\".format(decade), 20))\n"
   ],
   "metadata": {
    "collapsed": false,
    "pycharm": {
     "name": "#%%\n"
    }
   }
  },
  {
   "cell_type": "code",
   "execution_count": 102,
   "outputs": [],
   "source": [
    "bigramCount_dict = pickle.load(open(\"../data/large_files/bigramCount_dict.pickle\", \"rb\"))"
   ],
   "metadata": {
    "collapsed": false,
    "pycharm": {
     "name": "#%%\n"
    }
   }
  },
  {
   "cell_type": "code",
   "execution_count": 107,
   "outputs": [],
   "source": [
    "def get_top_bigrams(col, matchstring, n=10):\n",
    "    ids = ids_from_colvals(col, matchstring)\n",
    "    c = merge_data_from_ids(ids, bigramCount_dict)\n",
    "    #c_tups = [el for el in c.items() if el[0].lower() not in list(stop_words)]\n",
    "    tops = sorted(c.items(), key=lambda kv: kv[1], reverse=True)[:n]\n",
    "    return tops"
   ],
   "metadata": {
    "collapsed": false,
    "pycharm": {
     "name": "#%%\n"
    }
   }
  },
  {
   "cell_type": "code",
   "execution_count": 108,
   "outputs": [
    {
     "name": "stdout",
     "output_type": "stream",
     "text": [
      "1900,1909 [('of the', 21104), ('in the', 8596), ('to the', 5662), ('and the', 3227), ('- -', 3015), ('. .', 2882), ('that the', 2608), ('on the', 2244), ('by the', 2183), ('to be', 2122)]\n",
      "1910,1919 [('of the', 18350), ('in the', 8101), ('to the', 5355), ('and the', 3300), ('that the', 2540), ('. .', 2416), ('on the', 2058), ('to be', 2054), ('from the', 2042), ('with the', 1988)]\n",
      "1920,1929 [('of the', 13452), ('in the', 5457), ('. .', 4018), ('to the', 3686), ('and the', 2241), ('on the', 1742), ('for the', 1564), ('with the', 1452), ('from the', 1426), ('by the', 1419)]\n",
      "1930,1939 [('of the', 13587), ('in the', 5959), ('to the', 4491), ('and the', 2441), ('that the', 1689), ('for the', 1599), ('by the', 1516), ('to be', 1460), ('with the', 1453), ('on the', 1420)]\n",
      "1940,1949 [('of the', 21661), ('in the', 9715), ('to the', 6489), ('and the', 3567), ('that the', 3104), ('to be', 2730), ('on the', 2425), ('for the', 2410), ('with the', 2384), ('by the', 2219)]\n",
      "1950,1959 [('of the', 37166), ('in the', 16252), ('to the', 10997), ('and the', 6345), ('that the', 5088), ('for the', 4542), ('to be', 4511), ('on the', 4047), ('with the', 3991), ('by the', 3894)]\n",
      "1960,1969 [('of the', 46702), ('in the', 20991), ('to the', 14574), ('and the', 8420), ('that the', 6978), ('to be', 5835), ('on the', 5446), ('for the', 5210), ('with the', 5179), ('by the', 4880)]\n",
      "1970,1979 [('of the', 63277), ('in the', 30173), ('to the', 20987), ('and the', 12386), ('that the', 9531), ('to be', 8192), ('on the', 8070), ('with the', 7458), ('for the', 7407), ('from the', 6585)]\n",
      "1980,1989 [('of the', 108262), ('in the', 50470), ('to the', 34712), ('and the', 21938), ('that the', 15045), ('to be', 14105), ('on the', 14087), ('for the', 12841), ('with the', 12612), ('from the', 11322)]\n",
      "1990,1999 [('of the', 140196), ('in the', 66595), ('to the', 45841), ('and the', 30077), ('that the', 20309), ('on the', 19401), ('to be', 16874), ('for the', 16502), ('with the', 16275), ('from the', 15060)]\n"
     ]
    }
   ],
   "source": [
    "for decade_n in range(0,10):\n",
    "    decade = \"19{0}0,19{0}9\".format(str(decade_n))\n",
    "    print(decade, get_top_bigrams(\"publicationYear\", \".between({0})\".format(decade), 10))"
   ],
   "metadata": {
    "collapsed": false,
    "pycharm": {
     "name": "#%%\n"
    }
   }
  },
  {
   "cell_type": "code",
   "execution_count": null,
   "outputs": [],
   "source": [],
   "metadata": {
    "collapsed": false,
    "pycharm": {
     "name": "#%%\n"
    }
   }
  }
 ],
 "metadata": {
  "kernelspec": {
   "display_name": "Python 3",
   "language": "python",
   "name": "python3"
  },
  "language_info": {
   "codemirror_mode": {
    "name": "ipython",
    "version": 2
   },
   "file_extension": ".py",
   "mimetype": "text/x-python",
   "name": "python",
   "nbconvert_exporter": "python",
   "pygments_lexer": "ipython2",
   "version": "2.7.6"
  }
 },
 "nbformat": 4,
 "nbformat_minor": 0
}