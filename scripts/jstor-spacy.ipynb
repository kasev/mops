{
 "cells": [
  {
   "cell_type": "code",
   "execution_count": 125,
   "metadata": {
    "collapsed": true,
    "pycharm": {
     "name": "#%%\n"
    }
   },
   "outputs": [],
   "source": [
    "import pandas as pd\n",
    "import pickle\n",
    "import random\n",
    "pd.set_option(\"display.max_columns\", None)\n",
    "from collections import Counter\n",
    "import spacy\n",
    "import re"
   ]
  },
  {
   "cell_type": "code",
   "execution_count": 13,
   "outputs": [
    {
     "name": "stdout",
     "output_type": "stream",
     "text": [
      "endpoint variable has been configured to: https://sciencedata.dk/files/\n"
     ]
    }
   ],
   "source": [
    "# to communicate with google spreadsheet...\n",
    "import gspread\n",
    "from gspread_dataframe import get_as_dataframe\n",
    "from gspread_dataframe import set_with_dataframe\n",
    "from google.oauth2 import service_account # based on google-auth library\n",
    "import sddk\n",
    "\n",
    "s = sddk.cloudSession(\"sciencedata.dk\")\n",
    "# establish connection with gogglesheets...\n",
    "file_data = s.read_file(\"https://sciencedata.dk/files/ServiceAccountsKey.json\", \"dict\") # or load it from a local storage: json.load(open(\"../../ServiceAccountsKey.json\", \"r\"))\n",
    "credentials = service_account.Credentials.from_service_account_info(file_data)\n",
    "gc = gspread.Client(auth=credentials.with_scopes(['https://spreadsheets.google.com/feeds', 'https://www.googleapis.com/auth/drive']))\n",
    "mops_data = gc.open_by_url(\"https://docs.google.com/spreadsheets/d/1VbCIAJssHKV9hlRTwzVFfm40CGnHesq53KXjv2qy4OM/edit?usp=sharing\")"
   ],
   "metadata": {
    "collapsed": false,
    "pycharm": {
     "name": "#%%\n"
    }
   }
  },
  {
   "cell_type": "code",
   "execution_count": 20,
   "outputs": [],
   "source": [
    "unigramCount_dict = pickle.load(open(\"../data/large_files/unigramCount_dict.pickle\", \"rb\"))"
   ],
   "metadata": {
    "collapsed": false,
    "pycharm": {
     "name": "#%%\n"
    }
   }
  },
  {
   "cell_type": "code",
   "execution_count": 136,
   "outputs": [],
   "source": [
    "bigramCount_dict = pickle.load(open(\"../data/large_files/bigramCount_dict.pickle\", \"rb\"))"
   ],
   "metadata": {
    "collapsed": false,
    "pycharm": {
     "name": "#%%\n"
    }
   }
  },
  {
   "cell_type": "code",
   "execution_count": 16,
   "outputs": [],
   "source": [
    "trigramCount_dict = pickle.load(open(\"../data/large_files/trigramCount_dict.pickle\", \"rb\"))"
   ],
   "metadata": {
    "collapsed": false,
    "pycharm": {
     "name": "#%%\n"
    }
   }
  },
  {
   "cell_type": "markdown",
   "source": [
    "# Generating most frequent ngrams for preprocessing"
   ],
   "metadata": {
    "collapsed": false,
    "pycharm": {
     "name": "#%% md\n"
    }
   }
  },
  {
   "cell_type": "code",
   "execution_count": 17,
   "outputs": [],
   "source": [
    "def merge_data_from_ids(ids, datadict):\n",
    "    c = Counter()\n",
    "    for id in ids:\n",
    "        d = datadict[id]\n",
    "        c.update(d)\n",
    "    return c\n"
   ],
   "metadata": {
    "collapsed": false,
    "pycharm": {
     "name": "#%%\n"
    }
   }
  },
  {
   "cell_type": "code",
   "execution_count": 200,
   "outputs": [],
   "source": [
    "# create a sample to preprocess the most frequent ngrams\n",
    "random.seed(0)\n",
    "ids = random.sample(list(unigramCount_dict.keys()), 5000)"
   ],
   "metadata": {
    "collapsed": false,
    "pycharm": {
     "name": "#%%\n"
    }
   }
  },
  {
   "cell_type": "code",
   "execution_count": null,
   "outputs": [],
   "source": [
    "data_unigrams = merge_data_from_ids(ids, unigramCount_dict)\n",
    "data_bigrams = merge_data_from_ids(ids, bigramCount_dict)\n",
    "data_trigrams = merge_data_from_ids(ids, trigramCount_dict)"
   ],
   "metadata": {
    "collapsed": false,
    "pycharm": {
     "name": "#%%\n",
     "is_executing": true
    }
   }
  },
  {
   "cell_type": "markdown",
   "source": [
    "# Most frequent unigrams to nlp docs"
   ],
   "metadata": {
    "collapsed": false,
    "pycharm": {
     "name": "#%% md\n"
    }
   }
  },
  {
   "cell_type": "code",
   "execution_count": 138,
   "outputs": [],
   "source": [
    "#english stopwords...\n",
    "nlp = spacy.load('en_core_web_lg')\n",
    "stop_words = nlp.Defaults.stop_words"
   ],
   "metadata": {
    "collapsed": false,
    "pycharm": {
     "name": "#%%\n"
    }
   }
  },
  {
   "cell_type": "code",
   "execution_count": 139,
   "outputs": [
    {
     "data": {
      "text/plain": "[('the', 685375),\n ('of', 469302),\n ('and', 301990),\n ('to', 255776),\n ('in', 236293),\n ('a', 162034),\n ('is', 130518),\n ('that', 128544),\n ('as', 87930),\n ('for', 71446),\n ('The', 65300),\n ('with', 61132),\n ('his', 59222),\n ('by', 56837),\n ('was', 56632),\n ('not', 56560),\n ('be', 51834),\n ('on', 51290),\n ('this', 48676),\n ('he', 46988),\n ('it', 46724),\n ('from', 45904),\n ('are', 39980),\n ('which', 38964),\n ('or', 34802),\n ('have', 32562),\n ('an', 31941),\n ('but', 30530),\n ('their', 30193),\n ('who', 30147),\n ('at', 28609),\n ('they', 26319),\n ('I', 25802),\n ('one', 24324),\n ('In', 24115),\n ('were', 24076),\n ('.', 23377),\n ('has', 23247),\n ('had', 22137),\n ('we', 21984),\n ('all', 21824),\n ('God', 20702),\n ('also', 19900),\n ('its', 18719),\n ('more', 17119),\n ('will', 16627),\n ('been', 16608),\n ('Christian', 16249),\n ('would', 15640),\n ('Paul', 15371),\n ('This', 15191),\n ('these', 15057),\n ('what', 14940),\n ('other', 14579),\n ('only', 14382),\n ('into', 13888),\n ('He', 13273),\n ('so', 13237),\n ('no', 13195),\n ('It', 13091),\n ('than', 13073),\n ('about', 13043),\n ('Jesus', 12611),\n ('can', 12398),\n ('our', 12316),\n ('there', 12220),\n ('when', 12052),\n ('those', 11913),\n ('some', 11821),\n ('you', 11738),\n ('such', 11396),\n ('A', 11391),\n ('between', 11244),\n ('them', 11166),\n ('may', 11032),\n ('first', 10871),\n ('New', 10869),\n ('through', 10624),\n ('For', 10600),\n ('see', 10503),\n ('1', 10338),\n ('if', 10245),\n ('him', 10244),\n ('even', 9621),\n ('do', 9509),\n ('most', 9476),\n ('Christ', 9455),\n ('does', 9383),\n ('two', 9269),\n ('because', 9206),\n ('own', 9118),\n ('both', 8971),\n ('many', 8828),\n ('should', 8709),\n ('could', 8644),\n ('church', 8610),\n ('out', 8494),\n ('Jewish', 8360),\n ('her', 8329),\n ('But', 8252)]"
     },
     "execution_count": 139,
     "metadata": {},
     "output_type": "execute_result"
    }
   ],
   "source": [
    "# check how raw unigrams look like\n",
    "data_unigrams_sorted = sorted(data_unigrams.items(), key=lambda kv: kv[1], reverse=True)\n",
    "data_unigrams_sorted[:100]"
   ],
   "metadata": {
    "collapsed": false,
    "pycharm": {
     "name": "#%%\n"
    }
   }
  },
  {
   "cell_type": "code",
   "execution_count": 140,
   "outputs": [
    {
     "data": {
      "text/plain": "10"
     },
     "execution_count": 140,
     "metadata": {},
     "output_type": "execute_result"
    }
   ],
   "source": [
    "# how many of the 100 most frequent unigrams are actually not stopwords?\n",
    "len([el for el in data_unigrams_sorted[:100] if el[0].lower() not in stop_words])"
   ],
   "metadata": {
    "collapsed": false,
    "pycharm": {
     "name": "#%%\n"
    }
   }
  },
  {
   "cell_type": "code",
   "execution_count": 141,
   "outputs": [
    {
     "data": {
      "text/plain": "51694"
     },
     "execution_count": 141,
     "metadata": {},
     "output_type": "execute_result"
    }
   ],
   "source": [
    "# what is the number of unigrams appearing more than 10 times?\n",
    "len([el for el in data_unigrams_sorted if el[1] > 10])"
   ],
   "metadata": {
    "collapsed": false,
    "pycharm": {
     "name": "#%%\n"
    }
   }
  },
  {
   "cell_type": "code",
   "execution_count": 142,
   "outputs": [
    {
     "name": "stdout",
     "output_type": "stream",
     "text": [
      "CPU times: user 2min 11s, sys: 2.27 s, total: 2min 13s\n",
      "Wall time: 2min 15s\n"
     ]
    }
   ],
   "source": [
    "%%time\n",
    "# use spacy to generate \"Doc\" object for ngram\n",
    "# (use carefully, takes some time)\n",
    "data_unigrams_sorted_nlp = [(el[0], {\"doc\" : nlp(el[0]), \"count\" : el[1]}) for el in data_unigrams_sorted if el[1] > 10]"
   ],
   "metadata": {
    "collapsed": false,
    "pycharm": {
     "name": "#%%\n"
    }
   }
  },
  {
   "cell_type": "code",
   "execution_count": 143,
   "outputs": [
    {
     "data": {
      "text/plain": "[('the', {'doc': the, 'count': 685375}),\n ('of', {'doc': of, 'count': 469302}),\n ('and', {'doc': and, 'count': 301990}),\n ('to', {'doc': to, 'count': 255776}),\n ('in', {'doc': in, 'count': 236293})]"
     },
     "execution_count": 143,
     "metadata": {},
     "output_type": "execute_result"
    }
   ],
   "source": [
    "data_unigrams_sorted_nlp[:5]"
   ],
   "metadata": {
    "collapsed": false,
    "pycharm": {
     "name": "#%%\n"
    }
   }
  },
  {
   "cell_type": "code",
   "execution_count": 144,
   "outputs": [],
   "source": [
    "data_unigrams_nlp_dict = dict(data_unigrams_sorted_nlp)"
   ],
   "metadata": {
    "collapsed": false,
    "pycharm": {
     "name": "#%%\n"
    }
   }
  },
  {
   "cell_type": "code",
   "execution_count": 145,
   "outputs": [],
   "source": [
    "# save for future usage\n",
    "with open(\"../data/large_files/data_unigrams_nlp_dict.pickle\", \"wb\") as f:\n",
    "    pickle.dump(data_unigrams_nlp_dict, f)"
   ],
   "metadata": {
    "collapsed": false,
    "pycharm": {
     "name": "#%%\n"
    }
   }
  },
  {
   "cell_type": "code",
   "execution_count": 146,
   "outputs": [],
   "source": [
    "# remove middle-step data to save CPU...\n",
    "del data_unigrams\n",
    "del data_unigrams_sorted\n",
    "del data_unigrams_sorted_nlp"
   ],
   "metadata": {
    "collapsed": false,
    "pycharm": {
     "name": "#%%\n"
    }
   }
  },
  {
   "cell_type": "markdown",
   "source": [
    "# Bigrams to nlp docs"
   ],
   "metadata": {
    "collapsed": false,
    "pycharm": {
     "name": "#%% md\n"
    }
   }
  },
  {
   "cell_type": "code",
   "execution_count": 147,
   "outputs": [
    {
     "data": {
      "text/plain": "100053"
     },
     "execution_count": 147,
     "metadata": {},
     "output_type": "execute_result"
    }
   ],
   "source": [
    "data_bigrams_sorted = sorted(data_bigrams.items(), key=lambda kv: kv[1], reverse=True)\n",
    "len([el for el in data_bigrams_sorted if el[1] > 10])"
   ],
   "metadata": {
    "collapsed": false,
    "pycharm": {
     "name": "#%%\n"
    }
   }
  },
  {
   "cell_type": "code",
   "execution_count": 148,
   "outputs": [
    {
     "data": {
      "text/plain": "[('of the', 129296),\n ('in the', 63799),\n ('to the', 43688),\n ('and the', 29429),\n ('that the', 18916),\n ('on the', 18678),\n ('to be', 16996),\n ('for the', 16229),\n ('with the', 15980),\n ('from the', 14888)]"
     },
     "execution_count": 148,
     "metadata": {},
     "output_type": "execute_result"
    }
   ],
   "source": [
    "data_bigrams_sorted[:10]"
   ],
   "metadata": {
    "collapsed": false,
    "pycharm": {
     "name": "#%%\n"
    }
   }
  },
  {
   "cell_type": "code",
   "execution_count": 149,
   "outputs": [
    {
     "name": "stdout",
     "output_type": "stream",
     "text": [
      "CPU times: user 4min 4s, sys: 3.19 s, total: 4min 7s\n",
      "Wall time: 4min 9s\n"
     ]
    }
   ],
   "source": [
    "%%time\n",
    "data_bigrams_sorted_nlp = [(el[0], {\"doc\" : nlp(el[0]), \"count\" : el[1]}) for el in data_bigrams_sorted if el[1] > 10]"
   ],
   "metadata": {
    "collapsed": false,
    "pycharm": {
     "name": "#%%\n"
    }
   }
  },
  {
   "cell_type": "code",
   "execution_count": 152,
   "outputs": [],
   "source": [
    "data_bigrams_nlp_dict = dict(data_bigrams_sorted_nlp)"
   ],
   "metadata": {
    "collapsed": false,
    "pycharm": {
     "name": "#%%\n"
    }
   }
  },
  {
   "cell_type": "code",
   "execution_count": 153,
   "outputs": [],
   "source": [
    "with open(\"../data/large_files/data_bigrams_nlp_dict.pickle\", \"wb\") as f:\n",
    "    pickle.dump(data_bigrams_nlp_dict, f)"
   ],
   "metadata": {
    "collapsed": false,
    "pycharm": {
     "name": "#%%\n"
    }
   }
  },
  {
   "cell_type": "code",
   "execution_count": 154,
   "outputs": [],
   "source": [
    "del data_bigrams\n",
    "del data_bigrams_sorted_nlp"
   ],
   "metadata": {
    "collapsed": false,
    "pycharm": {
     "name": "#%%\n"
    }
   }
  },
  {
   "cell_type": "markdown",
   "source": [
    "# Trigrams to nlp docs"
   ],
   "metadata": {
    "collapsed": false,
    "pycharm": {
     "name": "#%% md\n"
    }
   }
  },
  {
   "cell_type": "code",
   "execution_count": 155,
   "outputs": [
    {
     "data": {
      "text/plain": "56376"
     },
     "execution_count": 155,
     "metadata": {},
     "output_type": "execute_result"
    }
   ],
   "source": [
    "data_trigrams_sorted = sorted(data_trigrams.items(), key=lambda kv: kv[1], reverse=True)\n",
    "len([el for el in data_trigrams_sorted if el[1] > 10])"
   ],
   "metadata": {
    "collapsed": false,
    "pycharm": {
     "name": "#%%\n"
    }
   }
  },
  {
   "cell_type": "code",
   "execution_count": 156,
   "outputs": [
    {
     "name": "stdout",
     "output_type": "stream",
     "text": [
      "CPU times: user 2min 21s, sys: 2.15 s, total: 2min 23s\n",
      "Wall time: 2min 25s\n"
     ]
    }
   ],
   "source": [
    "%%time\n",
    "data_trigrams_sorted_nlp = [(el[0], {\"doc\" : nlp(el[0]), \"count\" : el[1]}) for el in data_trigrams_sorted if el[1] > 10]"
   ],
   "metadata": {
    "collapsed": false,
    "pycharm": {
     "name": "#%%\n"
    }
   }
  },
  {
   "cell_type": "code",
   "execution_count": 157,
   "outputs": [],
   "source": [
    "data_trigrams_nlp_dict = dict(data_trigrams_sorted_nlp)"
   ],
   "metadata": {
    "collapsed": false,
    "pycharm": {
     "name": "#%%\n"
    }
   }
  },
  {
   "cell_type": "code",
   "execution_count": 158,
   "outputs": [],
   "source": [
    "with open(\"../data/large_files/data_trigrams_nlp_dict.pickle\", \"wb\") as f:\n",
    "    pickle.dump(data_trigrams_nlp_dict, f)"
   ],
   "metadata": {
    "collapsed": false,
    "pycharm": {
     "name": "#%%\n"
    }
   }
  },
  {
   "cell_type": "markdown",
   "source": [
    "# Applying preprocessing to individual documents"
   ],
   "metadata": {
    "collapsed": false,
    "pycharm": {
     "name": "#%% md\n"
    }
   }
  },
  {
   "cell_type": "code",
   "execution_count": 183,
   "outputs": [],
   "source": [
    "postags = [\"PROPN\", \"NOUN\", \"VERB\", \"ADJ\"]\n",
    "\n",
    "def clean_token(token):\n",
    "    token = re.sub(\"\\W\", \"\", token)\n",
    "    token = token[0] + token[1:].lower()\n",
    "    return token\n",
    "\n",
    "def doc_to_lemmata(doc, postags):\n",
    "    lemmata_list = [t.lemma_ for t in doc if t.pos_ in postags]\n",
    "    lemmata_list = [clean_token(el) for el in lemmata_list if len(el)>0]\n",
    "    joined_lemmata_sorted = \" \".join(sorted(lemmata_list))\n",
    "    return joined_lemmata_sorted\n",
    "\n",
    "\n",
    "ngram_nlp_dicts = {\n",
    "    \"unigram\" : data_unigrams_nlp_dict,\n",
    "    \"bigram\" : data_bigrams_nlp_dict,\n",
    "    \"trigram\" : data_trigrams_nlp_dict\n",
    "}\n",
    "\n",
    "def ngram_to_lemmata(ngram, ngram_type=\"trigram\"):\n",
    "    ngram_nlp_dict = ngram_nlp_dicts[ngram_type]\n",
    "    try:\n",
    "        lemmata_sorted_str = doc_to_lemmata(ngram_nlp_dict[ngram][\"doc\"], postags)\n",
    "        #print(\"found in preprocessed\") # (used for execution time tests...)\n",
    "    except:\n",
    "        try:\n",
    "            lemmata_sorted_str = doc_to_lemmata(nlp(ngram), postags)\n",
    "            # print(\"processed now\") # (used for execution time tests...)\n",
    "        except:\n",
    "            lemmata_sorted_str = \"\"\n",
    "    return lemmata_sorted_str\n",
    "\n",
    "def article_data_to_lemmata(ngrams_dict, ngram_type=\"trigram\"):\n",
    "    lemmata_tups = []\n",
    "    for string, count in ngrams_dict.items():\n",
    "        lemmata_tups.append((ngram_to_lemmata(string, ngram_type=ngram_type), count))\n",
    "    lemmata_tups = [tup for tup in lemmata_tups if len(tup[0]) > 1]\n",
    "    lemmata_dict = Counter()\n",
    "    for x,y in lemmata_tups:\n",
    "        lemmata_dict.update({x : y})\n",
    "    return lemmata_dict\n"
   ],
   "metadata": {
    "collapsed": false,
    "pycharm": {
     "name": "#%%\n"
    }
   }
  },
  {
   "cell_type": "code",
   "execution_count": 187,
   "outputs": [
    {
     "name": "stdout",
     "output_type": "stream",
     "text": [
      "CPU times: user 2.73 s, sys: 117 ms, total: 2.85 s\n",
      "Wall time: 2.99 s\n"
     ]
    },
    {
     "data": {
      "text/plain": "[('Paul', 11),\n ('paraphrase', 9),\n ('deal', 9),\n ('debate', 8),\n ('text', 8),\n ('biblical text', 7),\n ('meaning', 7),\n ('gap', 7),\n ('give', 6),\n ('section', 6),\n ('argument', 6),\n ('New Testament', 6),\n ('make', 5),\n ('historical', 5),\n ('translation', 5),\n ('constitute', 5),\n ('relevant', 5),\n ('chapter', 5),\n ('Pauline', 5),\n ('occasion', 5),\n ('letter', 5),\n ('center', 5),\n ('book', 4),\n ('context', 4),\n ('biblical material', 4),\n ('Pauline epistle', 4),\n ('guide', 4),\n ('relevance', 4),\n ('clear make', 4),\n ('hand', 4),\n ('article', 4),\n ('nature', 4),\n ('work', 4),\n ('number', 4),\n ('pp', 4),\n ('relationship', 4),\n ('follow', 4),\n ('New', 4),\n ('wish', 4),\n ('address', 4),\n ('serve', 4),\n ('know', 4),\n ('situation', 4),\n ('deliver', 3),\n ('treatment', 3),\n ('treat', 3),\n ('difficult', 3),\n ('act', 3),\n ('literal', 3),\n ('discussion', 3),\n ('translate', 3),\n ('Paul thought', 3),\n ('add', 3),\n ('expand', 3),\n ('write', 3),\n ('Bruce work', 3),\n ('understanding', 3),\n ('expansion', 3),\n ('controversy', 3),\n ('miracle', 3),\n ('worship', 3),\n ('context historical', 3),\n ('version', 3),\n ('Pauline letter', 3),\n ('perceive', 3),\n ('new', 3),\n ('own', 3),\n ('grouping', 3),\n ('Bornkamm Guenther', 3),\n ('Paul letter', 3),\n ('title', 3),\n ('fill', 3),\n ('amanuensis', 3),\n ('addition', 3),\n ('overdone', 3),\n ('include', 3),\n ('have', 3),\n ('bring', 3),\n ('ex pansion', 3),\n ('epistle', 3),\n ('result', 3),\n ('Bruce Professor', 3),\n ('such', 3),\n ('English', 2),\n ('easy', 2),\n ('incorporate', 2),\n ('human reason', 2),\n ('scribe task', 2),\n ('Letters', 2),\n ('Marxsen Willi', 2),\n ('meditation sermon', 2),\n ('contemporary situation', 2),\n ('context own', 2),\n ('tempt', 2),\n ('basic format', 2),\n ('function', 2),\n ('critical historical method', 2),\n ('issue', 2),\n ('discussion great', 2),\n ('chapter succeed', 2)]"
     },
     "execution_count": 187,
     "metadata": {},
     "output_type": "execute_result"
    }
   ],
   "source": [
    "%%time\n",
    "test_ngrams_dict = (list(trigramCount_dict.items())[4000][1])\n",
    "test_output = article_data_to_lemmata(test_ngrams_dict, ngram_type=\"trigram\")\n",
    "sorted(test_output.items(), key=lambda pair: pair[1], reverse=True)[:100]"
   ],
   "metadata": {
    "collapsed": false,
    "pycharm": {
     "name": "#%%\n"
    }
   }
  },
  {
   "cell_type": "code",
   "execution_count": 188,
   "outputs": [],
   "source": [
    "%%time\n",
    "# small test...\n",
    "\n",
    "\n",
    "cleanedTrigrams_tups = []\n",
    "for k, v in list(trigramCount_dict.items())[:10]:\n",
    "    cleanedTrigrams_tups.append((k, article_data_to_lemmata(v)))"
   ],
   "metadata": {
    "collapsed": false,
    "pycharm": {
     "name": "#%%\n"
    }
   }
  },
  {
   "cell_type": "code",
   "execution_count": 191,
   "outputs": [
    {
     "data": {
      "text/plain": "('ark://27927/phx66812gq6',\n Counter({'F H mathews': 1,\n          'Jesus': 24,\n          'life vicissitude': 2,\n          'preparation': 3,\n          'age': 10,\n          'death man': 2,\n          'ambition uncleanness': 1,\n          'lord': 2,\n          'Bd Crieff Hepburn': 1,\n          'knotty point': 2,\n          'easy': 10,\n          'act': 12,\n          'story': 8,\n          'compose': 2,\n          'do thing': 2,\n          'Dr Hunter point': 1,\n          'Somme': 4,\n          'consequence obedience': 1,\n          'human': 7,\n          'field': 3,\n          'allow take': 1,\n          'Sir speaker': 1,\n          'hear': 15,\n          'Ba Brown Robert': 1,\n          'Kingdom supernatural': 2,\n          'sentry': 3,\n          'share truth': 1,\n          'God': 62,\n          'go': 27,\n          'take': 12,\n          'frightening world': 2,\n          'world': 18,\n          'clean': 1,\n          'Jesus react': 1,\n          'convenient moment': 1,\n          'generous': 3,\n          'avoid moral': 2,\n          'Calvary': 1,\n          'pain sin': 1,\n          'sure': 11,\n          'compound': 1,\n          'confusion': 1,\n          'set': 14,\n          'cover': 9,\n          'risk': 3,\n          'Psalms': 2,\n          'room': 4,\n          'bridge': 1,\n          'have year': 1,\n          'give': 14,\n          'ruling': 1,\n          'do': 40,\n          'receive': 2,\n          'history prove': 2,\n          'courage': 1,\n          'achieve war': 1,\n          'prefer': 4,\n          'ordinary': 3,\n          'space': 3,\n          'testing': 1,\n          'Archbishop Temple have': 1,\n          'Memorial War': 2,\n          'anguish inexpressible': 2,\n          'perpetual': 1,\n          'destiny': 1,\n          'awesome': 2,\n          'man normal sinful': 1,\n          'go thing': 1,\n          'idea': 2,\n          'Bradley Macbeth Professor': 1,\n          'minister': 1,\n          'futility': 2,\n          'figure shatter': 1,\n          'God operation': 1,\n          'war': 9,\n          'wilt': 1,\n          'realize': 3,\n          'bring': 6,\n          'exposure': 4,\n          'wise': 8,\n          'God day': 1,\n          'have': 57,\n          'tunnel': 3,\n          'challenge show': 1,\n          'Stephenson enthusiast': 1,\n          'man': 47,\n          'faith outlook shake': 1,\n          'cheap': 2,\n          'event world': 2,\n          'break': 9,\n          'saving': 1,\n          'plant': 1,\n          'half inch': 4,\n          'travel': 7,\n          'defeat': 2,\n          'question': 24,\n          'free': 7,\n          'application direct': 1,\n          'be silence': 2,\n          'earth': 10,\n          'gauge wide': 2,\n          'desire': 3,\n          'develop suffer': 1,\n          'learning': 2,\n          'father': 8,\n          'bear': 4,\n          'faith transform': 1,\n          'category precise': 2,\n          'redeem': 3,\n          'be': 35,\n          'scrutiny': 2,\n          'such way': 2,\n          'aspect joyous': 2,\n          'disciple wash': 1,\n          'come': 25,\n          'have live memory': 1,\n          'know': 45,\n          'Dd Obe Small': 1,\n          'committal': 2,\n          'man wise': 4,\n          'long': 1,\n          'moral teaching': 4,\n          'accomplish': 1,\n          'John believe': 2,\n          'first': 5,\n          'fight': 3,\n          'bother': 3,\n          'unquenchable': 2,\n          'home many': 2,\n          'suffer': 8,\n          'border need': 1,\n          'make': 13,\n          'become straight': 2,\n          'point': 6,\n          'call': 14,\n          'regard way': 1,\n          'build': 5,\n          'Craftsman Master': 3,\n          'omnipotence': 17,\n          'way': 33,\n          'love': 26,\n          'come work': 2,\n          'faith': 15,\n          'run': 7,\n          'life span': 1,\n          'Divine act': 1,\n          'be eternity': 1,\n          'expect': 7,\n          'application man': 1,\n          'die engineer great': 1,\n          'George Reverend very': 1,\n          'live': 17,\n          'service': 11,\n          'order worldly': 2,\n          'cut large': 1,\n          'Bishop Corson': 1,\n          'question sort': 2,\n          'range': 2,\n          'Barth Karl': 2,\n          'stay': 6,\n          'beautiful face': 1,\n          'convert': 2,\n          'add': 8,\n          'give self service': 2,\n          'forbid': 2,\n          'experience know': 2,\n          'metal': 3,\n          'realm': 2,\n          'meaning': 4,\n          'multitude': 1,\n          'remembrance': 1,\n          'happen': 9,\n          'life our': 1,\n          'Lord Prayer': 2,\n          'disclose': 2,\n          'valid': 3,\n          'character': 3,\n          'convincing make real': 1,\n          'inconvenient time': 2,\n          'outlook shake': 1,\n          'die': 10,\n          'climb': 3,\n          'Canadian patient': 1,\n          'inwardness radical': 2,\n          'Robert Stephenson': 3,\n          'fact': 5,\n          'speak': 10,\n          'T W learner': 1,\n          'holiday': 3,\n          'confidence let': 1,\n          'great present': 1,\n          'implicit life': 1,\n          'instance time': 1,\n          'normal vanity': 1,\n          'bomber': 3,\n          'own': 12,\n          'singe': 2,\n          'say': 38,\n          'much': 9,\n          'ask much': 2,\n          'advantage': 1,\n          'aware': 3,\n          'history wind': 1,\n          'religion': 7,\n          'Sir Stephen remark': 1,\n          'burst': 1,\n          'force': 7,\n          'remember': 6,\n          'His': 1,\n          'hide': 12,\n          'baffle earth wonder': 1,\n          'uttermost': 2,\n          'learn': 4,\n          'seek': 3,\n          'book entitle little': 1,\n          'court law resist': 1,\n          'good': 19,\n          'man ordinary': 5,\n          'faith patience': 1,\n          'Lord earthly existence': 1,\n          'white': 3,\n          'War': 3,\n          'pride shut': 1,\n          'reverent silence': 8,\n          'find': 9,\n          'Cameron Highlanders go': 1,\n          'new': 2,\n          'God character': 1,\n          'consider death': 1,\n          'lovely touch': 2,\n          'death': 8,\n          'Parable': 1,\n          'basic certain principle': 1,\n          'bear burden': 1,\n          'man transform': 2,\n          'number': 5,\n          'canst make thou': 1,\n          'low': 2,\n          'have view': 1,\n          'agree': 3,\n          'complain war': 1,\n          'face such': 1,\n          'life such': 1,\n          'high hill': 2,\n          'Lord action': 1,\n          'Father Heavenly intention': 1,\n          'agony': 4,\n          'evil good': 2,\n          'awake broad spirit': 1,\n          'one': 19,\n          'warn': 3,\n          'word': 14,\n          'precious': 1,\n          'year': 14,\n          'chaos': 2,\n          'assize great': 2,\n          'obtuseness sin': 1,\n          'achievement': 3,\n          'camp own': 2,\n          'have lovely': 1,\n          'power unfeele': 1,\n          'Germany kill': 1,\n          'silence': 18,\n          'go railway': 2,\n          'Jesus spring': 2,\n          'God present': 1,\n          'heareth saying': 1,\n          'escape': 5,\n          'almightiness': 1,\n          'man willing': 1,\n          'have need': 2,\n          'lamp': 3,\n          'life': 56,\n          'ask year': 2,\n          'struggle': 12,\n          'clear crystal': 2,\n          'fear none': 2,\n          '61a Bishop debtor': 1,\n          'old': 5,\n          'austere': 3,\n          'God man': 2,\n          'show': 10,\n          'George meet': 1,\n          'earnest excellence': 1,\n          'appeal': 2,\n          'astronomical mind': 2,\n          'history': 5,\n          'guarantee': 3,\n          'say wrong': 1,\n          'imagine': 4,\n          'depend': 3,\n          'ask question': 8,\n          'provoke': 3,\n          'prepared receive': 1,\n          'capacity sinful': 1,\n          'old young': 2,\n          'express stand': 1,\n          'depth inconceivable such': 1,\n          'decide wide': 1,\n          'few week': 2,\n          'minute': 6,\n          'look way': 1,\n          'enslaved man': 2,\n          'one short': 1,\n          'nerve': 2,\n          'fact question': 1,\n          'human humanity': 1,\n          'assistance': 2,\n          'Jesus love': 1,\n          'cost': 5,\n          'compound redemption': 1,\n          'regard self': 2,\n          'flesh heir': 1,\n          'hour': 8,\n          'dream': 2,\n          'accept': 5,\n          'wonderful world': 1,\n          'think': 15,\n          'swear': 2,\n          'Reverend very': 1,\n          'comfort': 3,\n          'message': 3,\n          'draw': 1,\n          'wrong': 4,\n          'Cornwall': 2,\n          'graver word': 2,\n          'time': 21,\n          'change': 8,\n          'man prepare': 2,\n          'praise': 3,\n          'vague': 4,\n          'handicapped': 1,\n          'introduce': 3,\n          'trespass': 7,\n          'subtler way': 2,\n          'submit': 2,\n          'day go': 2,\n          'reaction': 3,\n          'see': 34,\n          'Design entitle': 1,\n          'thought true': 2,\n          'need': 13,\n          'extreme view': 2,\n          'platoon': 2,\n          'final list view': 1,\n          'Puerisque question': 1,\n          'line': 8,\n          'liveth man': 2,\n          'feel man': 1,\n          'enter street': 1,\n          'forgiveness grace': 1,\n          'firm stand': 2,\n          'different take': 1,\n          'static': 3,\n          'battle': 15,\n          'mean': 15,\n          'Leonard Obe Small': 1,\n          'boy girl': 1,\n          'know television': 1,\n          'God love': 4,\n          'engage': 3,\n          'form traditional': 2,\n          'man old': 2,\n          'ask': 18,\n          'thing': 24,\n          'life measure': 2,\n          'more': 6,\n          'shooting': 1,\n          'answer': 9,\n          'sight': 3,\n          'reveal': 17,\n          'direction': 3,\n          'Organizations Youth': 2,\n          'Testament': 1,\n          'God describe': 2,\n          'debtor': 5,\n          'hide thing': 2,\n          'salutary stop': 1,\n          'heaven': 11,\n          'ticket': 3,\n          'foot': 21,\n          'human race': 2,\n          'Jesus suffer': 2,\n          'H letter': 1,\n          'Ffestiniog': 2,\n          'situation': 3,\n          'T W late': 1,\n          'God intention': 2,\n          'hope': 2,\n          'eternity year': 1,\n          'hold': 6,\n          'circle widen': 2,\n          'miss significance teaching': 1,\n          'only': 4,\n          'man other': 3,\n          'do reign': 1,\n          'only way': 5,\n          'Son': 4,\n          'Dd Jeffrey Johnstone': 1,\n          'great': 7,\n          'heart': 13,\n          'good struggle': 1,\n          'idea uplifting': 2,\n          'water': 2,\n          'ignorant poor': 2,\n          'ledger': 3,\n          'name': 12,\n          'task': 4,\n          'way well': 2,\n          'acceptance supine': 2,\n          'wisdom': 2,\n          'own way': 2,\n          'answer correct': 2,\n          'relationship': 5,\n          'instrument living': 1,\n          'look': 16,\n          'Bbc television': 2,\n          'grasp mind': 1,\n          'useless waste': 2,\n          'detail strange': 2,\n          'peace task': 1,\n          'assent atheist': 1,\n          'Ba Bd Brown': 1,\n          'begin': 4,\n          'home lesson': 2,\n          'many province': 2,\n          'folk see': 2,\n          'evil': 18,\n          'man submarine': 1,\n          'climax': 3,\n          'follow': 4,\n          'shirker': 2,\n          'fairness': 1,\n          'Lord': 13,\n          'Third Twenty forgive': 1,\n          'Bradley Professor say': 1,\n          'pattern': 3,\n          'have learn': 1,\n          'inspire': 9,\n          'company different railway': 1,\n          'know writer': 2,\n          'different line': 2,\n          'religion seek': 1,\n          'Old do': 1,\n          'insight moral': 2,\n          'Gethsemane': 3,\n          'Fourth Twenty': 1,\n          'million': 2,\n          'day do': 2,\n          'only plan': 1,\n          'God leave': 3,\n          'apocalyptic eschatology': 2,\n          'ideal unattainable': 2,\n          'achieve': 2,\n          'voice': 2,\n          'performing': 2,\n          'navvy': 3,\n          'obedience': 6,\n          'God strike': 2,\n          'Jesus man': 1,\n          'England': 3,\n          'Brunel famous follow': 1,\n          'present': 6,\n          'cardboard': 2,\n          'radical': 1,\n          'involve man': 1,\n          'Holy Word remember': 1,\n          'Kilsby tunnel': 1,\n          'Germany fight german': 1,\n          'victor': 3,\n          'grim harvest': 2,\n          'save': 4,\n          'purpose': 5,\n          'supine': 1,\n          'grateful': 3,\n          'lay': 5,\n          'Tolstoy expect': 2,\n          'succeed': 3,\n          'need repentance': 1,\n          'juggle': 2,\n          'advantage take': 2,\n          'pray true': 2,\n          'giving self': 1,\n          'challenge': 6,\n          'first secret': 2,\n          'reckoning': 3,\n          'action kill': 1,\n          'young': 3,\n          'call clarion': 2,\n          'cry': 6,\n          'financial present serious': 1,\n          'ideal': 6,\n          'do influence': 1,\n          'Second Sunday Twenty year': 1,\n          'Jesus do': 1,\n          'sea': 3,\n          'Trinity debt': 1,\n          'new universe': 1,\n          'hurt': 2,\n          'belong': 2,\n          'seek share': 1,\n          'Forgive substitute': 1,\n          'glad': 2,\n          'price': 9,\n          'clause conditional': 2,\n          'day instance': 1,\n          'Niebuhr Richard': 1,\n          'Jesus bid': 2,\n          'disposition essential': 2,\n          'father problem': 1,\n          'human personal': 1,\n          'full half shaft': 2,\n          'engineering': 1,\n          'problem': 2,\n          'man resist': 1,\n          'power': 9,\n          'engineer': 2,\n          'interpretation': 2,\n          'evil produce': 1,\n          'help': 7,\n          'understand': 7,\n          'Lord come': 2,\n          'face persecution': 1,\n          'come exposition': 1,\n          'many moment': 1,\n          'gauge': 18,\n          'keep parent': 2,\n          'course war': 1,\n          'period': 2,\n          'Manson T W': 2,\n          'uniform': 1,\n          'Ba Bd Blackpool': 1,\n          'New': 3,\n          'Jesus live': 1,\n          'truck': 2,\n          'heart such': 1,\n          'Kingdom beingthe': 2,\n          'God declare forgiveness': 1,\n          'dwell': 4,\n          'Kingdom': 6,\n          'God sanctuary': 1,\n          'much other': 1,\n          'narrow': 3,\n          'eternity': 2,\n          'Revelation': 1,\n          'concern': 4,\n          'Isambard Stephenson': 1,\n          'hold one': 1,\n          'debt vast': 1,\n          'dead': 1,\n          'infantry platoon': 1,\n          'face': 13,\n          'trust': 2,\n          'centurion look son': 1,\n          'looker on': 1,\n          'toy': 3,\n          'disparity': 4,\n          'crystal': 1,\n          'Judge sayings': 1,\n          'Sermon imply': 2,\n          'emaciated leper': 2,\n          'apply': 3,\n          'enable': 2,\n          'Sermon': 22,\n          'near': 1,\n          'extinction look': 1,\n          'clear': 5,\n          'resentful': 3,\n          'Upper room': 1,\n          'shout sing': 1,\n          'outcome': 3,\n          'Saltash': 2,\n          'desire goal': 2,\n          'fool juggle': 1,\n          'standard': 3,\n          'other': 9,\n          'human split': 1,\n          'music shut': 1,\n          'great tribulation': 1,\n          'kill': 4,\n          'truth': 23,\n          'obvious': 3,\n          'betray evil': 2,\n          'little need': 1,\n          'forgive': 25,\n          'Mount': 7,\n          'house': 5,\n          'north travel': 3,\n          'absolute obedience': 2,\n          'stand': 18,\n          'mind': 8,\n          'Sir remark': 1,\n          'mischievous schoolboy': 1,\n          'grace': 4,\n          'rock': 2,\n          'choose provide': 1,\n          'shout': 4,\n          'mystery': 2,\n          'measure symbol': 1,\n          'fairness obvious': 2,\n          'big change': 1,\n          'claim': 3,\n          'say voice': 2,\n          'element have': 1,\n          'experiment start': 1,\n          'Church little unresisting': 1,\n          'a trinity': 1,\n          'destiny noble': 2,\n          'amputate': 1,\n          'have master': 1,\n          'New Testament': 7,\n          'altar year': 1,\n          'prevail': 4,\n          'God will': 6,\n          'Hong Kong': 2,\n          'figure total': 1,\n          'Imperial Rome': 2,\n          'gospel': 4,\n          'association forbid': 3,\n          'good unassailable': 2,\n          'cold power unfeele': 1,\n          'morality religion': 1,\n          'grasp': 5,\n          'difficulty sort': 1,\n          'defiant': 1,\n          'fail': 4,\n          'operation': 3,\n          'Church Methodist tell': 1,\n          'recognizable': 2,\n          'experience': 8,\n          'prophetic': 1,\n          'carriage': 2,\n          'piece tricky': 2,\n          'Day Remembrance bid': 1,\n          'resent': 2,\n          'Spirit': 3,\n          'allow': 2,\n          'theological': 1,\n          'church compose tiny': 1,\n          'kind': 6,\n          'many sided': 3,\n          'trouble': 2,\n          'chain': 1,\n          'consider': 2,\n          'debt': 9,\n          'Cathcart Glasgow Ma': 1,\n          'area plague stricken': 2,\n          'rocket': 2,\n          'believe': 11,\n          'strive': 9,\n          'eye own': 2,\n          'new steamer': 2,\n          'first step': 2,\n          'exact keep': 1,\n          'misshapen': 2,\n          'mere sense': 1,\n          'path': 2,\n          'afraid suffer': 1,\n          'savour': 2,\n          'professor rock': 1,\n          'Hunter M a': 1,\n          'circle': 1,\n          'hand other': 2,\n          'debtor forgive': 2,\n          'real': 3,\n          'near planet': 2,\n          'new omnipotence': 1,\n          'Armistice first': 1,\n          'living': 8,\n          'eye lid': 3,\n          'criterion': 2,\n          'Brunel famous': 1,\n          'gauge take': 1,\n          'comfort know': 1,\n          'American Church Methodist': 1,\n          'home wealthy': 2,\n          'right': 3,\n          'important live person': 1,\n          'Armistice Day': 1,\n          'fellow man serve': 1,\n          'great span': 2,\n          'work': 17,\n          'do man': 6,\n          'Brunel go working': 1,\n          'againthose same': 2,\n          'shack': 1,\n          'important thing': 4,\n          'control knowledge': 1,\n          'make religion': 2,\n          'final view': 1,\n          'respond': 2,\n          'amputate leg': 2,\n          'camp': 3,\n          'home': 1,\n          'midst': 6,\n          'full half water': 1,\n          'impose': 1,\n          'people': 3,\n          'ministry': 3,\n          'chain form': 1,\n          'mark': 3,\n          'uncertain': 3,\n          'malice prejudice': 1,\n          'relic see': 2,\n          'man purpose': 1,\n          'sit thoroughfare': 1,\n          'harmony unheard': 2,\n          'General Governor': 2,\n          'Manson W': 2,\n          'Harrison': 3,\n          'mean regret': 1,\n          'Aberdeen Hunter': 1,\n          'intervention teaching': 1,\n          'inordinate victim': 1,\n          'text': 10,\n          'read remembrance': 1,\n          'important person': 1,\n          'instance saying': 1,\n          'go valuable': 1,\n          'liberate': 3,\n          '61a Bishop Corson': 1,\n          'category need': 1,\n          'read': 3,\n          'issue spiritual': 2,\n          'smother': 3,\n          'force mind': 1,\n          'root': 1,\n          'soul': 2,\n          'step': 1,\n          'hydrogen': 1,\n          'human life': 3,\n          'philosophy various': 2,\n          'Jesus reveal': 1,\n          'convincing real': 1,\n          'first ray': 2,\n          'other similar': 1,\n          'least': 5,\n          'Garden': 2,\n          'life many': 1,\n          'Jesus time': 2,\n          'John sound': 1,\n          'hand': 4,\n          'handicap': 4,\n          'puncture': 3,\n          'delicacy': 2,\n          'omnipotence word': 3,\n          'diverse remember': 1,\n          'street': 3,\n          'evidence': 3,\n          'preserve': 2,\n          'God open': 1,\n          'write': 7,\n          'warp': 2,\n          'Western great railway': 1,\n          'day': 15,\n          'possess': 5,\n          'squadron': 2,\n          'impose reverent silence': 1,\n          'fearsome': 1,\n          'telephone': 2,\n          'fellow man spring': 2,\n          'war year': 1,\n          'approach theological': 2,\n          'urgency': 2,\n          'cut': 3,\n          'secret': 2,\n          'abdicate': 3,\n          'diversity': 2,\n          'Archbishop late': 1,\n          'scripture': 1,\n          'implicit': 2,\n          'devotion': 3,\n          'knowledge': 2,\n          'Mediterranean british': 1,\n          'shoddy sophisticated': 1,\n          'reverent': 3,\n          'criticism feel': 1,\n          'Cross': 9,\n          'country': 4,\n          'oftener': 1,\n          'assize': 1,\n          'nature': 5,\n          'climbing mischievous schoolboy': 1,\n          'folk ordinary spirit': 1,\n          'ask say': 1,\n          'Sermon supply': 2,\n          'stop': 5,\n          'surface': 3,\n          'reigneth': 3,\n          'listen': 4,\n          'busy thoroughfare': 2,\n          'province': 1,\n          'truth way': 1,\n          'din': 3,\n          'Mt': 1,\n          'wait': 1,\n          'forbidding': 1,\n          'Robert other': 1,\n          'Stephenson construct': 1,\n          'headedly pig stick': 2,\n          'bed rock stuff': 2,\n          'active love redemptive': 1,\n          'high mark water': 2,\n          'account exact': 2,\n          'committee stringency': 1,\n          'Bible': 1,\n          'unassailable unquenchable': 1,\n          'allegiance': 2,\n          'pride selfish': 1,\n          'fellowship remembering': 1,\n          'Room Upper': 2,\n          'room wall': 1,\n          'circumstance': 6,\n          'morass': 2,\n          'Father': 4,\n          'little': 1,\n          'slave': 5,\n          'inconvenient': 1,\n          'Temple say': 1,\n          'Johannes Muller': 2,\n          'different side': 1,\n          'inspiring': 1,\n          'assume': 2,\n          'german uneasy': 1,\n          'face plain': 1,\n          'Jesus express': 2,\n          'certain enter': 1,\n          'goeth': 2,\n          'loser': 3,\n          'look thing': 1,\n          'God dead desire': 1,\n          'knotty': 1,\n          'example': 1,\n          'complete forget tale': 1,\n          'enough': 2,\n          'ask father': 1,\n          'kindness': 2,\n          'experience share': 1,\n          'lie': 6,\n          'intellectualism mere': 2,\n          'look survivor': 2,\n          'Wales': 1,\n          'term': 12,\n          'awe': 1,\n          'Brunel go': 1,\n          'object': 1,\n          'picture': 7,\n          'job': 1,\n          'humble reverent': 1,\n          'apply seek': 1,\n          'new terrible': 1,\n          'react': 1,\n          'deep sense': 2,\n          'exposure need': 1,\n          'body': 9,\n          'book contemplate': 2,\n          'God defiant': 1,\n          'locos roll': 1,\n          'conditional': 1,\n          'duty let': 2,\n          'have strange time': 1,\n          'New Testament textual': 1,\n          'sinful': 1,\n          'eternal fellowship': 2,\n          'evil keep': 2,\n          'include time': 2,\n          'Committee Ward': 2,\n          'reckless': 2,\n          'circumstance more': 1,\n          'appraisal final': 2,\n          'criterion morality': 1,\n          'fool': 2,\n          'issue': 5,\n          'last': 10,\n          'course': 8,\n          'resolution': 1,\n          'logic': 3,\n          'purification': 3,\n          'dim': 3,\n          'long take': 1,\n          'impressed': 1,\n          'british cruiser': 1,\n          'duty': 4,\n          'needless wasteful': 2,\n          'expressive': 1,\n          'do hallowing': 1,\n          'join': 3,\n          'joyous': 1,\n          'submarine': 2,\n          'hang': 2,\n          'clear have': 1,\n          'accord': 3,\n          'awe inspiring': 1,\n          'Mt ioae': 1,\n          'sit': 5,\n          'life picture': 1,\n          'Brunel fight': 2,\n          'clasp wrinkle': 1,\n          'dquo say': 1,\n          'occasion river': 1,\n          'mercy': 6,\n          'light take year': 1,\n          'disclose life': 1,\n          'gaze': 2,\n          'assent': 1,\n          'walk': 1,\n          'Worship entrust': 1,\n          'stab': 3,\n          'seem': 1,\n          'testimony': 3,\n          'theology': 2,\n          'hatred malice prejudice': 1,\n          'pay': 5,\n          'disciple': 3,\n          'fact simple': 2,\n          'God live': 2,\n          'Euston': 2,\n          'burst river': 2,\n          'express': 3,\n          'need think': 1,\n          'watch': 2,\n          'slanderer': 3,\n          'true': 5,\n          'eye generous': 1,\n          'grow': 3,\n          'area': 1,\n          'betray': 1,\n          'reckon': 3,\n          'clear dim': 1,\n          'lead': 2,\n          'truth underlie': 2,\n          'habit': 4,\n          'split': 1,\n          'peril': 3,\n          'part': 3,\n          'get': 7,\n          'good second': 1,\n          'complaining querulous': 1,\n          'universe': 5,\n          'crisis immediate': 1,\n          'big': 1,\n          'weakness': 6,\n          'self': 1,\n          'oil': 1,\n          'typical': 1,\n          'seeth': 2,\n          'law': 4,\n          'Sir Stephen': 1,\n          'camp erect': 1,\n          'ignore': 3,\n          'agony situation': 1,\n          'own soul': 2,\n          'great unveiling': 1,\n          'believe lead': 1,\n          'roll': 2,\n          'blocs camp ideology': 1,\n          'vibrate': 3,\n          'loyalty': 2,\n          'calculability evil': 1,\n          'worry': 3,\n          'do less': 1,\n          'compulsion': 3,\n          'arise circumstance': 1,\n          'earthly existence washing': 1,\n          'earth tone': 1,\n          'm right': 1,\n          'parent see': 1,\n          'patient': 1,\n          'personal total': 1,\n          'Barclay tell': 1,\n          'child include': 2,\n          'shoot': 2,\n          'have mind': 1,\n          'cause good': 2,\n          'form': 6,\n          'shrink': 3,\n          'same': 2,\n          'decide': 3,\n          'feel': 5,\n          'Corson': 1,\n          'half turn': 1,\n          'course world': 1,\n          'remind': 2,\n          'honest straight': 1,\n          'baffle earth': 1,\n          'Christ Jesus': 4,\n          'bom unshadowed': 1,\n          'godless live': 1,\n          'tinsel': 3,\n          'ask one': 1,\n          'present writer': 2,\n          'Christian Second Twenty Year': 1,\n          'arise': 2,\n          'great picture': 2,\n          'line set': 1,\n          'inwardness': 1,\n          'retain': 2,\n          'have moment': 1,\n          'certain': 1,\n          'Sunday Third Twenty forgive': 1,\n          ...}))"
     },
     "execution_count": 191,
     "metadata": {},
     "output_type": "execute_result"
    }
   ],
   "source": [
    "cleanedTrigrams_tups[0]"
   ],
   "metadata": {
    "collapsed": false,
    "pycharm": {
     "name": "#%%\n"
    }
   }
  },
  {
   "cell_type": "code",
   "execution_count": 193,
   "outputs": [
    {
     "name": "stdout",
     "output_type": "stream",
     "text": [
      "[('reverent silence', 8), ('ask question', 8), ('New Testament', 7), ('God will', 6), ('do man', 6), ('man ordinary', 5), ('only way', 5), ('God Lord', 5), ('half inch', 4), ('man wise', 4)]\n",
      "[('Jesus tradition', 31), ('Press University', 26), ('Books Cambridge Online', 26), ('Cambridge Press University', 26), ('Jesus accord', 22), ('Jesus saying', 20), ('Paul letter', 20), ('Jesus say', 16), ('saying traditional', 15), ('Jesus Paul', 15)]\n",
      "[('Judaism rabbinic', 18), ('Paul genius', 16), ('Sandmel genius', 15), ('Paul Schoeps', 15), ('Judaism palestinian', 15), ('Paul have', 13), ('Genius Sandmel', 13), ('Paul Sanders', 12), ('Davies Paul', 12), ('Paul Pharisaism', 11)]\n",
      "[('Church true', 14), ('Development Historical', 14), ('Apocalypse Winter', 12), ('Bible Scofield', 11), ('Christ Jesus', 10), ('Dispensationalism Premillennial', 10), ('Holy Spirit', 7), ('dispensational system', 7), ('Premillennial development', 7), ('dichotomous entity', 6)]\n",
      "[('Holy Spirit', 43), ('baptism infant', 21), ('christian initiation', 15), ('Statement Toronto', 9), ('A Daunton Fear', 9), ('Church England', 7), ('communion receive', 7), ('Knaresborough Report', 6), ('baptize infant', 6), ('General Synod', 6)]\n",
      "[('Publications Sage', 22), ('God love', 21), ('June publication', 11), ('God know', 8), ('God see', 8), ('Christ Jesus', 7), ('God have', 7), ('God seek', 6), ('God Spirit', 6), ('fruit righteousness', 6)]\n",
      "[('anthrõpos new', 23), ('Christ follower', 20), ('Diversity Unity', 18), ('Church Transformation', 17), ('January transformation', 16), ('New Testament', 13), ('Christ follower jewish', 12), ('identity jewish', 12), ('compound sun', 12), ('gentile jewish', 11)]\n",
      "[('end time', 33), ('Thessalonians page', 20), ('Jesus Lord', 17), ('letter thessalonian', 16), ('Press University', 13), ('first letter', 12), ('New Testament', 12), ('God Thess', 11), ('Holy Spirit', 11), ('Letters thessalonian', 11)]\n",
      "[('Isis Osiris', 31), ('Bible Hebrew', 26), ('other people', 22), ('greek philosophy', 21), ('same time', 20), ('apologist empire philosopher', 19), ('Empire apologist', 18), ('barbarian wisdom', 14), ('law natural', 13), ('god high', 11)]\n",
      "[('New Testament', 21), ('Believing wife', 20), ('Jesus disciple', 19), ('Cf Mark', 18), ('Jesus follow', 17), ('apostle other', 15), ('collector tax', 14), ('disciple leave', 14), ('believe wife', 13), ('Cf Matt', 13)]\n"
     ]
    }
   ],
   "source": [
    "for n in range(10):\n",
    "    print(sorted([el for el in cleanedTrigrams_tups[n][1].items() if len(el[0].split()) > 1], key=lambda pair: pair[1], reverse=True)[:10])"
   ],
   "metadata": {
    "collapsed": false,
    "pycharm": {
     "name": "#%%\n"
    }
   }
  },
  {
   "cell_type": "code",
   "execution_count": 195,
   "outputs": [
    {
     "name": "stdout",
     "output_type": "stream",
     "text": [
      "CPU times: user 46.3 s, sys: 315 ms, total: 46.6 s\n",
      "Wall time: 47.2 s\n"
     ]
    }
   ],
   "source": [
    "%%time\n",
    "# small test...\n",
    "cleanedTrigrams_tups = [cleanedTrigrams_tups.append((k, article_data_to_lemmata(v))) for k, v in list(trigramCount_dict.items())[:3]]"
   ],
   "metadata": {
    "collapsed": false,
    "pycharm": {
     "name": "#%%\n"
    }
   }
  },
  {
   "cell_type": "code",
   "execution_count": 199,
   "outputs": [
    {
     "name": "stdout",
     "output_type": "stream",
     "text": [
      "CPU times: user 52.6 s, sys: 1.24 s, total: 53.9 s\n",
      "Wall time: 55.1 s\n"
     ]
    }
   ],
   "source": [
    "%%time\n",
    "cleanedTrigrams_tups = []\n",
    "for k, v in list(trigramCount_dict.items())[:3]:\n",
    "    cleanedTrigrams_tups.append((k, article_data_to_lemmata(v)))"
   ],
   "metadata": {
    "collapsed": false,
    "pycharm": {
     "name": "#%%\n"
    }
   }
  },
  {
   "cell_type": "code",
   "execution_count": null,
   "outputs": [],
   "source": [
    "\n",
    "doc = nlp(\"our Lord Jesus\")\n",
    "doc_to_lemmata(doc, postags)\n",
    "trigram_to_lemmata(\"our Lord Jesus\")\n",
    "[data_trigrams_nlp_dict[el[0]][\"doc\"] for el in v.items()"
   ],
   "metadata": {
    "collapsed": false,
    "pycharm": {
     "name": "#%%\n"
    }
   }
  },
  {
   "cell_type": "code",
   "execution_count": 39,
   "outputs": [
    {
     "data": {
      "text/plain": "14103"
     },
     "execution_count": 39,
     "metadata": {},
     "output_type": "execute_result"
    }
   ],
   "source": [
    "len(trigramCount_dict)"
   ],
   "metadata": {
    "collapsed": false,
    "pycharm": {
     "name": "#%%\n"
    }
   }
  },
  {
   "cell_type": "code",
   "execution_count": 40,
   "outputs": [
    {
     "data": {
      "text/plain": "('http://www.jstor.org/stable/1453640',\n {'who maintain the': 1,\n  'un- translatable. The': 1,\n  'des personnes plus': 1,\n  'same caves at': 1,\n  'the Rule, \"But': 1,\n  'The archaeologists are': 1,\n  'Zion.\" The publicity': 1,\n  'written by Bar': 3,\n  'pp. I96-2II; Jan.': 1,\n  'I96I, pp. 269-272.': 1,\n  'teacher of righteousness.': 1,\n  'stand regarding the': 1,\n  'by Claudius Lysis': 1,\n  'are ancient does': 1,\n  'The Jewish Chronicle,': 1,\n  'First I shall': 1,\n  'were righteous but': 1,\n  'nfl:3 ` I': 1,\n  'Kokba discovered in': 1,\n  'time sought to': 1,\n  'is a very': 1,\n  'discovery of this': 1,\n  'the Devil is': 1,\n  'tlhe existence of': 1,\n  'The sages who': 1,\n  'of this movement': 1,\n  'The members of': 1,\n  'and placed the': 1,\n  'copied texts, which': 1,\n  'men. Were there': 1,\n  'that it is': 1,\n  'Israel Exploration Society,': 1,\n  'independent state. Some': 1,\n  'refute my arguments-they': 1,\n  'translates the phrase': 1,\n  'sections in the': 2,\n  'said, \"If the': 1,\n  'not historical, which': 1,\n  'knowledge of Hebrew': 1,\n  'EXISTENCE OF BAR': 1,\n  'once for all': 1,\n  '* n2V1 32OMW': 1,\n  \"a * .'''_\": 1,\n  'Babylonian and Egyptian': 1,\n  'Dupont-Sommer was the': 1,\n  'obstinacy he could': 1,\n  'The word Kosba': 1,\n  'the first time': 2,\n  'The term I712H4': 1,\n  'Dead Sea Scrolls.': 1,\n  'and R. de': 2,\n  'article to the': 1,\n  'connecting line between': 2,\n  'since its inception.': 1,\n  'add that the': 1,\n  'the Zadokite Fragments': 2,\n  'scholarship. On April': 1,\n  'Nathan have been': 1,\n  'the revolt, whom': 1,\n  'of I960. In': 1,\n  'have reiterated many': 1,\n  'r6ticences ou les': 1,\n  'in the Roman': 1,\n  'in Palestine nor': 1,\n  'et de Mird,': 1,\n  'sum up-the Hebrew': 1,\n  'the imagination assume': 1,\n  'Cf.b as Sn.': 1,\n  'Kokba. It was': 1,\n  'world.\" \"Sweet to': 1,\n  'The Hebrew Scrolls,': 2,\n  'they date I17': 1,\n  'Palestine. Hence I': 1,\n  'Previously I have': 1,\n  'a Messiah and': 1,\n  'are faulty. First': 1,\n  'and ended in': 1,\n  'Scroll, so called': 1,\n  'also of a': 1,\n  'during the Second': 4,\n  'by Simon Bar': 3,\n  'Palestine but was': 1,\n  'effects for prehistory': 1,\n  'introductions on Archaeology': 1,\n  'from December ioth,': 1,\n  '. C- _': 1,\n  'to escape sought': 1,\n  'of Jesus. In': 1,\n  'with circumcision and': 1,\n  'these two vital': 1,\n  'Akiba, detested men': 1,\n  'in immortality and': 1,\n  'the connecting line,': 1,\n  '9 of the': 1,\n  'the Arabic period,': 1,\n  'the pakography and': 1,\n  '..! .9} i': 1,\n  \"Marabba'at have been\": 1,\n  'Kochba revolt. The': 1,\n  'acteristic of the': 1,\n  'J EWISH QUARTERLY': 1,\n  'who held that': 1,\n  'with a sin.': 1,\n  'the Book of': 2,\n  'of the pentateuchal': 1,\n  'photostat of this': 1,\n  'mind. I shall': 1,\n  'HEBREW SCROLLS-ZEITLIN 359': 1,\n  'into English of': 1,\n  'Here is the': 1,\n  'Burrows, Allegro and': 1,\n  'not yet been': 1,\n  'The rendering is': 1,\n  'than his discoveries': 1,\n  'the text of': 2,\n  'discoveries. He said': 1,\n  'on early Christianity': 1,\n  'to in the': 2,\n  'His Righteousness comes': 1,\n  'writings of antiquity.': 1,\n  'Nathan of Gaza.': 1,\n  'to the time': 1,\n  'were present at': 1,\n  'Gnostic.\" The book,': 1,\n  'which were either': 1,\n  'they are untranslatable.': 1,\n  'not venture to': 1,\n  'detested men who': 1,\n  'comes to naught.': 1,\n  'archangel Michael and': 2,\n  \"S'il l'avait fait,\": 1,\n  'times, they shall': 1,\n  'to the Shetar': 1,\n  'few examples in': 1,\n  'teacher of righteousness,': 1,\n  'by the author.': 1,\n  'literature and the': 1,\n  'due to archaeological': 1,\n  'the majority of': 1,\n  '494 v IwJ': 1,\n  'ment on verse': 1,\n  'of the caves,': 1,\n  'time,\" i.e. the': 1,\n  'of the Scrolls.': 2,\n  'and ably expressed': 1,\n  'employed innuendoes instead': 1,\n  'the stcrics about': 1,\n  'scientific world, and': 1,\n  'belief in immortality': 2,\n  'antiquity. He was': 1,\n  'prefixed to the': 1,\n  '\"I cannot understand': 1,\n  'Cf. Yeb. 48.': 1,\n  'document. A slight': 1,\n  'both state that': 1,\n  'designated time,\" i.e.': 1,\n  'Exodus and Numbers.': 1,\n  'confused minds of': 1,\n  'bankers, doctors and': 1,\n  'not coincide with': 1,\n  'teacher, but never': 1,\n  'the \"Mourners of': 2,\n  'my steps and': 1,\n  'am \"obstinate\" in': 1,\n  'rapports des arch6ologues,': 1,\n  'is a psalm': 1,\n  'proof against my': 1,\n  'the tenth century': 1,\n  'historical, which I': 1,\n  'of the tenants': 1,\n  'Origen, De Principiis': 1,\n  'matter, with the': 1,\n  'proper name, which': 1,\n  'of Dupont- Sommer': 1,\n  'accusation, but said': 1,\n  'composition. Rabin has': 1,\n  'rich and poor,': 1,\n  'Pentateuch. The Palestinian': 1,\n  'of the building.\"': 1,\n  'of Discipline was': 1,\n  'literature as well': 1,\n  'the Observer stated': 1,\n  'the correctness of': 1,\n  'used the word': 2,\n  'of a connecting': 1,\n  'and His power,': 1,\n  'n i2 u': 1,\n  'JQR 1951, pp.': 1,\n  \"Evans's system for\": 1,\n  'there are more': 1,\n  'was coined after': 1,\n  'epistles of Peter': 1,\n  'not the first': 1,\n  'been published and': 1,\n  '35. 10 Cf.': 1,\n  'that the Hebrew': 5,\n  'Scrolls. While admitting': 1,\n  'teacher, good teacher,': 1,\n  'either by Bar': 1,\n  'theologians would refute': 1,\n  'jamais pris en': 1,\n  'ones. No one': 1,\n  'beauty contest. Scholarship': 1,\n  'as follows: Me6me': 1,\n  'dealt with some': 1,\n  'Knossos.\" In introducing': 1,\n  'scholarly fashion. If': 1,\n  'a living man,': 1,\n  'my theory that': 1,\n  'a lamp and': 1,\n  'nisrlo?n rim r-nin': 1,\n  'of Jesus, Peter,': 1,\n  'on an old': 1,\n  'of dualism in': 1,\n  'documents which were': 1,\n  'sender. We have': 1,\n  'I say openly': 1,\n  'Being is the': 1,\n  'translatable. The letters': 1,\n  'OF THE ANTIQUITY': 1,\n  'have numerous letters': 1,\n  'Jews followed the': 1,\n  'wrote, \"Caesar or': 1,\n  'represented a variety': 1,\n  'that period and': 1,\n  'contrary I appealed': 1,\n  'text of the': 2,\n  'retract. Their claim': 1,\n  'period basing himself': 1,\n  'ikliL;--s ;.. t': 1,\n  'JIM A. Z.': 1,\n  'a title an': 1,\n  'resorting to radio,': 1,\n  'sections of the': 1,\n  'copied there, which': 1,\n  'wX ..l |': 1,\n  'scroll described the': 1,\n  'the same time.': 1,\n  'of a person,': 1,\n  'favour, the sign': 1,\n  '9 There are': 1,\n  'I shall deal': 1,\n  'only of Greece': 1,\n  'pre-Christian period? Even': 1,\n  'order to assert': 1,\n  'correctness of the': 1,\n  'plan and construction,': 1,\n  'himself on archaeology.': 1,\n  'stcrics about him': 1,\n  'does not coincide': 1,\n  'by Milik, on': 1,\n  'This rendering likewise': 1,\n  'of the house': 2,\n  'were contested by': 1,\n  'this at the': 1,\n  'collapse of the': 1,\n  'Lord, which shows': 1,\n  'on the sabbath': 2,\n  'before me, for': 1,\n  '1171 wllXX .': 1,\n  'sake of the': 1,\n  'could have demonstrated': 1,\n  'pentateuchal sections. This': 1,\n  'University and that': 1,\n  'dwelt in the': 1,\n  'examining it can': 1,\n  'are untranslatable. Some': 1,\n  'Ages, not eallier': 1,\n  'everything found in': 1,\n  'be accurate, which': 1,\n  'paren- theses to': 1,\n  'three from an': 1,\n  'Cross and Yadlin': 1,\n  'in the JQR': 1,\n  'order that the': 1,\n  'to how the': 1,\n  'Hence I stated': 1,\n  'sufficient, it could': 1,\n  'The book The': 1,\n  'belief that I': 1,\n  'is not counted': 1,\n  'death. 22 There': 1,\n  'tl`l1ll7 Xl=?= nn': 1,\n  'et quingentesimus annus': 1,\n  'Sea literature prepared': 1,\n  'Evans employed in': 1,\n  'The protagonists of': 1,\n  'of the authors': 1,\n  'jaw bone was': 1,\n  'true scholarship that': 1,\n  'as of great': 1,\n  'manuscripts, but no': 1,\n  'I42. THE HEBREW': 1,\n  'number of the': 1,\n  'Scrolls could not': 1,\n  'Slt:rS 2LW1 is': 1,\n  'words are connected,': 1,\n  'Knossos in the': 1,\n  'but Jerusalem is': 1,\n  'cS X i': 1,\n  'HEBREW SCROLLS-ZEITLIN 363': 1,\n  'the Jews were': 1,\n  'Josephus and Philo': 2,\n  'shall express my': 1,\n  'In B. Kid.': 1,\n  'may also do': 1,\n  'from outside into': 1,\n  'the Essenes we': 1,\n  'the style of': 1,\n  'by a semi-': 2,\n  'the sense or': 1,\n  'The placing of': 1,\n  'were many scriptoria': 1,\n  'and for good': 1,\n  'p. 394 Prof.': 1,\n  'of Aram, Usz': 1,\n  't 494 v': 1,\n  't^_ a r': 1,\n  'to the kings': 1,\n  'editor may amend': 1,\n  'Spirit of perversity': 1,\n  'QUARTERLY REVIEW The': 1,\n  'four dots are': 1,\n  '~X nnx x\"):)': 1,\n  'any vessels or': 1,\n  'which Josephus wrote.': 1,\n  'would never grant,': 1,\n  'I947, pp. I-45.': 1,\n  'fact the Hebrew': 1,\n  'pp. 264-268. 4': 1,\n  'Commonwealth foreign pagan': 1,\n  '546-66 C.E. annihilates': 1,\n  'translation. A photostat': 1,\n  'April, I96I. Among': 1,\n  'the revolt, the': 1,\n  'of them sought': 1,\n  'text reads as': 1,\n  'the statement that': 1,\n  'they are of': 2,\n  'in rabbinic literature.': 1,\n  'Bedouin have the': 1,\n  'one of its': 1,\n  'Karaites followed this': 1,\n  'r , .': 1,\n  'Scrolls. On p.': 1,\n  'shall quote what': 1,\n  'insinuating that the': 1,\n  'know from long': 1,\n  'merchants were involved,': 1,\n  'of Nero Caesar.': 1,\n  'Bedouin, he maintained': 1,\n  'also begin with-Paul,': 1,\n  'the cave indicates': 1,\n  'explain why in': 1,\n  'sine qua non': 1,\n  'indicates that the': 1,\n  'earlier. The word': 1,\n  'woolens.\" To this': 1,\n  'the light of': 1,\n  'Cross expressed his': 1,\n  '\"As they renew': 1,\n  'the Issiim (Essenes)': 1,\n  'The law that': 1,\n  'HEBREW SCROLLS-ZEITLIN 36I': 1,\n  'the name of': 6,\n  'another language he': 1,\n  'By far the': 1,\n  'the future historian': 1,\n  'but of the': 1,\n  'be uttered, is': 1,\n  'the forty-nine skeletons': 1,\n  'Cross, of Harvard': 1,\n  \"se moque. S'il\": 1,\n  'Vol. IV. 262-63.': 1,\n  'that due to': 1,\n  'that five scrolls': 1,\n  'regrettable that not': 1,\n  'FROM the grottoes': 1,\n  'have already stated': 1,\n  'Writings from Qumran,': 1,\n  'my views on': 2,\n  'surrender my position.\"': 1,\n  'Scrolls were enacted': 1,\n  'Observer, July 3,': 1,\n  'Dr. Yadin is': 1,\n  'wrote that five': 1,\n  'nor the other': 1,\n  'even greater differences': 1,\n  'this scroll demonstrates': 1,\n  'were not written': 1,\n  'who could do': 1,\n  'prayers on a': 1,\n  'these tephilin have': 1,\n  'does not make': 2,\n  '\"the bonds binding': 1,\n  'icon of a': 1,\n  'further wrote, \"Assumptio': 1,\n  'Cando and Georges': 1,\n  \"Devil argued: 'His\": 1,\n  'found in this': 1,\n  'were copied there,': 1,\n  'Romans? We know': 1,\n  'Vol. XXI, I96I': 1,\n  'arguments. At the': 1,\n  'tephilin, reproduced in': 1,\n  'Discoveries in the': 1,\n  'has proved that': 1,\n  'Adonai in their': 1,\n  'if we assume': 1,\n  'from the day': 1,\n  'I called attention': 1,\n  'QUARTERLY REVIEW rolled': 1,\n  'E_ ,4_ _': 1,\n  'this law. However': 1,\n  'scholar ever saw': 2,\n  'such a title': 1,\n  'sed omnia praevidit': 1,\n  '262) \"a book': 1,\n  'To the phrase': 1,\n  'his eternal mercies.\"': 1,\n  'examples in those': 1,\n  'fragment is almost': 1,\n  'in caves. One': 1,\n  'my views upon': 1,\n  'I am intrigued': 1,\n  'articles published in': 1,\n  'late composition. Parentheses': 1,\n  'still can see': 1,\n  'S. Zeitlin, Megillat': 1,\n  'and those of': 1,\n  'been either of': 1,\n  'that there are': 2,\n  'i.e. the time': 1,\n  'one which Dr.': 1,\n  'the Hebrew literature': 1,\n  'right hand, and': 1,\n  'P. Benoit, 0.': 1,\n  'assistance in dating': 1,\n  'of the gentiles.\"': 1,\n  'who were illiterate.': 1,\n  'Shetar Kiddushin not': 1,\n  'of the prehistoric': 1,\n  '\"Sweet to the': 1,\n  'Anyone examining it': 1,\n  'figure in Jewish': 1,\n  'to the proper': 1,\n  'Simon Magus, who': 1,\n  'I question, why': 1,\n  'of warfare were': 1,\n  'In it the': 1,\n  'it could not': 2,\n  'a creatura orbis': 1,\n  'lived there and': 1,\n  'this quotation the': 1,\n  'and the Sons': 3,\n  'a scholarly fashion.': 1,\n  'assert the anti-': 1,\n  'is duty bound': 1,\n  'that Dr. Yadin': 1,\n  'omitted and in': 1,\n  'of the Bedouin': 1,\n  'the history of': 2,\n  'the Second Temple.': 4,\n  'C.E., belonging to': 1,\n  'inception. The archaeologists': 1,\n  'This I have': 1,\n  'proper name came': 1,\n  'D. 546-66, does': 1,\n  'war which lately': 1,\n  'of my contentious': 1,\n  'the Qumran discoveries': 1,\n  'Thus the term': 1,\n  'tured Jerusalem, the': 1,\n  'publicity that prevailed': 1,\n  'of Paul and': 1,\n  'pas que le': 1,\n  'letter of Bar': 2,\n  'of the Essenes': 2,\n  'Cf. also JQR,': 1,\n  'found even once.': 1,\n  'previously many times,': 1,\n  'is contrary to': 1,\n  'which shows that': 2,\n  'criterion for the': 1,\n  'In the Observer,': 1,\n  'Prof. Zeitlin to': 1,\n  \"for God's truth\": 1,\n  'Murabba\\'at.\" Prof. Supont-Sommer': 1,\n  'of Abraham,\" Dupont-': 1,\n  'of Orientalists, held': 1,\n  'express my views': 1,\n  'and supplied photostats': 1,\n  'movement stood an': 1,\n  'as a Source': 1,\n  'obstinate. On the': 1,\n  'early Gnostic.\" The': 1,\n  'Scrolls. There is': 1,\n  'indicate that it': 1,\n  '(or, a key)': 1,\n  'I am too': 1,\n  'the tephilin. On': 1,\n  'is not faithful.': 1,\n  'no connection between': 1,\n  'was published in': 1,\n  'found in rabbinic': 1,\n  'well have demon-': 1,\n  'and under whose': 1,\n  'refuted. I ask': 1,\n  'I957, pp. 264-268.': 1,\n  'follows: nnu rx': 1,\n  'these matters. It': 1,\n  'found evidence in': 1,\n  'who had the': 1,\n  'Egyptian tephilin be': 1,\n  'simultaneously with the': 1,\n  'may add that': 1,\n  'Temple. 26 The': 1,\n  'accepted by scholars': 1,\n  'tlt117 I`0lt. Dupont-Sommer': 1,\n  '7\".1 I10t0D ;lt7D': 1,\n  'are not valid.': 1,\n  'a bag. The': 1,\n  'ably expressed their': 1,\n  'were employed in': 1,\n  'psalm composed by': 1,\n  'practiced by the': 1,\n  'Essenes we could': 1,\n  'letters to Bar': 1,\n  'answers Fr. de': 1,\n  'the textiles. Mrs.': 1,\n  'in point is': 1,\n  'the service of': 1,\n  'had done so': 1,\n  'to him by': 1,\n  '| _ .': 1,\n  'r 4 l': 1,\n  'and Satan over': 1,\n  'sions are incoherent.': 1,\n  'I96I, ignored my': 1,\n  'spell the name': 1,\n  'Palestinian Jewry placed': 1,\n  'Kosba, which is': 1,\n  'very interesting and': 1,\n  'millesimus et quingentesimus': 1,\n  'may have analogy': 1,\n  'greatly by the': 1,\n  'were ostracized and': 1,\n  'assume that they': 1,\n  'Hebrew literature. In': 1,\n  'immortality and reward': 1,\n  'the struggle between': 1,\n  'interpretations are faulty.': 1,\n  'literate person must': 1,\n  'the teachers of': 1,\n  'in his widely': 1,\n  'my arguments. He': 1,\n  'used a connecting': 1,\n  '\"These documents actually': 1,\n  'and still am': 1,\n  'whom I have': 1,\n  'is named \"MI': 1,\n  'At that time': 1,\n  'circumcision and that': 1,\n  'many to doubt': 1,\n  '\\'Him\\'.\" The Hebrew': 1,\n  'name Togar came': 1,\n  'As a matter': 3,\n  'line to, indicate': 1,\n  'of the psalm.': 1,\n  'the excavation at': 1,\n  'sin. In my': 1,\n  'plagued the subject': 1,\n  'duty bound to': 1,\n  'by Benoit, and': 1,\n  'this many times.': 1,\n  'sender \"to\". I': 1,\n  'Egypt and placed': 1,\n  'Moreh Zedek, teacher': 1,\n  'archangel, when contending': 1,\n  'is regrettable that': 2,\n  'by Bar Kokba': 2,\n  'findings of the': 1,\n  'G. Vermes, The': 1,\n  'are different. I': 1,\n  '\"Qui est bis': 1,\n  'of them do': 1,\n  'the Observer, Feb.': 1,\n  'paleography of the': 1,\n  'this statement without': 1,\n  'and other theologians': 2,\n  'of God and': 1,\n  'correct word instead.': 1,\n  'of the engravings': 1,\n  'God and that': 1,\n  'Nathan, of the': 1,\n  '\"And when these': 1,\n  'The word Kittim': 1,\n  'photostat was given': 1,\n  'Jew to walk': 1,\n  'Yadin that the': 1,\n  'purchased them. Later': 1,\n  'the anti- quity': 1,\n  'the title Piltdown': 1,\n  'against their antiquity.': 1,\n  'This phrase Slt:rS': 1,\n  'who was the': 1,\n  'used by any': 1,\n  'Kittim in this': 1,\n  'XXI, I96I described': 1,\n  'the discovery of': 2,\n  '21 Previously I': 1,\n  'which he learned': 1,\n  'III, 2.I.). In': 1,\n  'called teacher, good': 1,\n  'ZYf7 VS ...': 1,\n  'He said \"Circumstances': 1,\n  'that time. The': 1,\n  'Cando, of Bethlehem,': 1,\n  'the Shetar Kiddushin': 1,\n  'between the scriptorium': 1,\n  '26 The Essenes': 1,\n  'shows some dualistic': 1,\n  'decisive proof against': 1,\n  'have been refuted': 1,\n  'the wars of': 1,\n  'was shat- tered.': 1,\n  'Kosba written on': 1,\n  'that the laymen': 1,\n  'x- ........... Za': 1,\n  'my arguments. I': 1,\n  'was in Palestine.': 1,\n  'pp. 35I-36i. 27': 1,\n  'to the Persians': 1,\n  'Scroll of the': 2,\n  'the London Observer,': 1,\n  '22 Jewish War,': 1,\n  'examine the case;-If': 1,\n  'unlocking (or, a': 1,\n  'li _:. |': 1,\n  'Bar Kokba. The': 1,\n  'written without mentioning': 1,\n  'nothing shall be': 1,\n  'tephilin are given.': 1,\n  'parentheses and the': 1,\n  '\"Mourners of Zion.\"': 1,\n  'if Dr. Yeivin': 1,\n  'E M .B': 1,\n  'wrote that on': 1,\n  'the Romans were': 1,\n  'Yeivin is right,': 1,\n  'the vast Hebrew': 1,\n  'Hebrew Scrolls, was': 1,\n  'THE JEWISH QUARTERLY': 9,\n  'for every case': 1,\n  'those of Murabba\\'at.\"': 1,\n  'the W. Square,': 1,\n  'Peter and Paul': 1,\n  'terms-I\"2V 7 n1n': 1,\n  'Cando, a letter': 1,\n  'to know the': 1,\n  'in believing the': 1,\n  'used in Palestine': 1,\n  'value to the': 1,\n  'Circumcision is frequently': 1,\n  \": ?#F '\": 1,\n  'period. The term': 1,\n  'Could not they': 1,\n  'ramass6 moi-meme a': 1,\n  'by Dr. Sanders': 1,\n  'contract which they': 1,\n  'following, \"What are': 1,\n  'the laymen as': 1,\n  'scroll has Iflfl,': 1,\n  'known in the': 1,\n  'letter, \"stamps it,': 1,\n  'Bedouin. The editors': 1,\n  'them. Later he': 1,\n  'the interest of': 1,\n  '\"Praise of thee': 1,\n  'not agree with': 1,\n  'the scrolls can': 1,\n  'a missing word': 1,\n  'Karaitic literature. The': 1,\n  'even among themselves': 1,\n  'the text. The': 1,\n  'the prehistoric archaeology': 1,\n  'by not giving': 1,\n  'to the archaic': 1,\n  'of this psalm': 1,\n  'in the scientific': 1,\n  'described the wars': 1,\n  'At the Twenty-fourth': 1,\n  'and the connecting': 1,\n  'untranslatable. Some of': 1,\n  'and a connecting': 1,\n  'Christianity\" 20 by': 1,\n  'on Greek and': 1,\n  'sensa- tional headings': 1,\n  'Second Temple. The': 1,\n  'Hebrew Scrolls, pp.': 1,\n  'for them a': 1,\n  'have an open': 1,\n  '2I, I952, still': 1,\n  'evidence of the': 1,\n  'to the reader': 2,\n  'From this quotation': 1,\n  'Testaments of the': 1,\n  'occupation with the': 1,\n  'psalms, particularly the': 1,\n  'Psalms. In this': 1,\n  'were brought to': 2,\n  'definitely that during': 1,\n  'and is entitled': 1,\n  'difficulty can be': 1,\n  'and Karaitic literature.': 1,\n  'foisted upon students': 1,\n  '- t cS': 1,\n  'orbe terrarum providit,': 1,\n  'Vermes, The World': 1,\n  'occurs in the': 2,\n  'Qumran, that of': 1,\n  'introduced at a': 1,\n  'His power, the': 1,\n  'stressed as of': 1,\n  'all the Jews.': 1,\n  'ioi the editor': 1,\n  'of their publications': 1,\n  'and archaeologists state': 1,\n  'been published were': 1,\n  'doubt considered such': 1,\n  'a manuscript on': 1,\n  'dissimilarities between the': 1,\n  'les meilleurs arguments': 1,\n  'the centuries with': 1,\n  '18 and that': 1,\n  'any known occupation.\"': 1,\n  'that the skull': 1,\n  'Babylonia during the': 1,\n  'question arises why': 1,\n  'of the Hebrew': 14,\n  'letters in their': 1,\n  'it is. If': 1,\n  'which the rabbis': 1,\n  'from the fact': 1,\n  'editors and other': 1,\n  'their publication. S.': 1,\n  'repeat their their': 1,\n  'the Ketubah. 9': 1,\n  'I state definitely': 1,\n  'Prof. Sukenik purchased': 1,\n  'in his messaianism,': 1,\n  'Essenes. Again, the': 1,\n  'as we have': 1,\n  'war in this': 1,\n  'has caused many': 1,\n  'champion of the': 1,\n  'dualistic and predestina-': 1,\n  'deceptive, 18 and': 1,\n  'to explain why': 2,\n  'wrote, that Cando,': 1,\n  'the caves where': 3,\n  'There are even': 1,\n  'shall retract. Their': 1,\n  '18 Cf. JQR': 1,\n  'about him in': 1,\n  'out the difficulties': 1,\n  'evidence? One thousand': 1,\n  'in the same': 2,\n  'a fragment of': 1,\n  'dots, ellipses. Dupont-Sommer': 1,\n  'Gentiles that these': 1,\n  'my stand regarding': 1,\n  '-)=5l Ilt \"V=7': 1,\n  'by the professors': 1,\n  'were piurchased from': 1,\n  'their theories that': 1,\n  'Could not the': 1,\n  '5>nz5> -7T. R15': 1,\n  'based their theories': 1,\n  ';.. t -': 1,\n  'any Jew. The': 1,\n  'the Middle Age': 1,\n  'QUARTERLY REVIEW Orientalists,': 1,\n  \"Esse'niens De'couverts Pres\": 1,\n  'toute discussion avec': 1,\n  'and that this': 1,\n  'and theologians would': 1,\n  'To this we': 1,\n  'letters, in the': 1,\n  'supplied photostats of': 1,\n  'occupation at the': 1,\n  'They did not': 1,\n  'Oct. I956, pp.': 1,\n  'exact connections linking': 1,\n  'a translation of': 2,\n  'heralded a great': 1,\n  'Yadin to explain': 1,\n  'and deceit, cruelty': 1,\n  'I would like': 1,\n  'YADIN PROVE EXISTENCE': 1,\n  'Abraham,\" Dupont- Sommer': 1,\n  'Yadin is not': 1,\n  \"melles 'a l'aventure.\": 1,\n  'are deluded in': 1,\n  'of His Righteousness': 1,\n  'the engraving would': 1,\n  'of May, I952,': 1,\n  'The Scroll, so': 1,\n  ')X\"1 5X 25': 1,\n  '\"to\". I also': 1,\n  'maintained that the': 1,\n  'contradictions des r6cits': 1,\n  'to answer and': 1,\n  'is the stay': 1,\n  'or from the': 1,\n  'began. Thus the': 1,\n  'In the subsequent': 1,\n  'of Darkness is': 1,\n  '\"Michael the archangel,': 1,\n  'rendered as follows:': 1,\n  'as follows: nnu': 1,\n  'arguments-they remained silent.': 1,\n  'book Sefer ha-Jashar.': 1,\n  'documents actually establish': 1,\n  'Zeuner on some': 1,\n  'arguments. I said,': 1,\n  'Caesar. Reference is': 1,\n  'and lived in': 1,\n  'my con- tention': 1,\n  'law. However the': 1,\n  'Test. Father de': 1,\n  'followed this law': 1,\n  'applied to the': 4,\n  'des r6cits qui': 1,\n  'the leader of': 3,\n  'with the Hebrew': 1,\n  'intrigued to learn': 1,\n  'struggle between the': 1,\n  'and used by': 1,\n  'from the Chalcolithique': 1,\n  'to Bar Kokba': 1,\n  'agree even among': 1,\n  'Texts by Grohmann.': 1,\n  'sale, tephilin and': 1,\n  'in claiming that': 1,\n  'be explained. The': 1,\n  'praevidit illos et': 1,\n  'copying the text.': 1,\n  'nor in the': 1,\n  'have pointed out': 3,\n  '\"The most complete': 1,\n  'contending with the': 1,\n  'fallacy. 366 THE': 1,\n  'of texts on': 1,\n  'the New York': 1,\n  'word Adonai. During': 1,\n  'reader that it': 1,\n  'in the Judaean': 1,\n  '5 Cf. S.': 1,\n  '| _ K': 1,\n  'placing of dots': 1,\n  'date return, A.': 1,\n  'New York Times': 1,\n  'these deals two': 1,\n  'can be explained.': 1,\n  'of Mackenzie, the': 1,\n  'different. I also': 1,\n  'exitum saeculi, et': 1,\n  '1 ult X!': 1,\n  'which cannot carry': 1,\n  'began the thirteenth': 1,\n  'could be measured': 1,\n  'Israel Exploration Society)': 2,\n  'and Georges brought': 1,\n  'Dr. Yeivin added,': 1,\n  'of Moses and': 1,\n  'It was a': 1,\n  'the supposition that': 1,\n  'the Second temple.': 1,\n  'doing so I': 1,\n  'reader can readily': 1,\n  'title Rabbenu prefixed': 2,\n  'his work. 15': 1,\n  'Sutcliffe and other': 1,\n  'tephilin were brought': 1,\n  'must be accurate,': 1,\n  'persecuted. This phenomenon': 1,\n  'Jewish Chronicle, London': 1,\n  'I3-2I; Deut. 6.': 1,\n  'Christianity resort to': 1,\n  'from the Qumran': 1,\n  'have axes to': 1,\n  'I add that': 1,\n  'be circumcised. The': 1,\n  'four sections in': 1,\n  'all cases when': 1,\n  'that archaeology must': 1,\n  'by one in': 1,\n  'Roman worship. Part': 1,\n  'He accused Evans': 1,\n  'Century. Among the': 1,\n  'Vaux, on Hebrew;and': 1,\n  'which they were': 1,\n  'Scripta Hierosolymitana Vol.': 1,\n  'have demon- strated': 1,\n  'The so-called translations': 1,\n  'Book of Psalms': 1,\n  'been accepted by': 1,\n  \"On Palmer's charge\": 1,\n  \"Origen's story is\": 1,\n  'and theologians do': 1,\n  'this new evidence?': 1,\n  'circumcision and has': 1,\n  'prepare the way': 1,\n  'my justification. From': 1,\n  'Jews an independent': 1,\n  'Essenes. He found': 1,\n  \"classification' was the\": 1,\n  '25 rr: flfXJ': 1,\n  'I953. 3 Cf.': 1,\n  'pounds, approximately one': 1,\n  'ancient Israelites represented': 1,\n  'I. 31 14': 1,\n  'ideas. Such is': 1,\n  'forthcoming publication. Dr.': 1,\n  'which were written': 1,\n  'of according to': 1,\n  'of Murabba\\'at.\" Prof.': 1,\n  'no editor has': 1,\n  'antiquity of these': 2,\n  'Jesus, Jude, the': 1,\n  'these letters Dr.': 1,\n  'seems strange that': 1,\n  'and from the': 1,\n  'placed four dots,': 1,\n  'stat of this': 1,\n  'the Judaean Desert': 1,\n  'of Romans? We': 1,\n  'and indicate that': 1,\n  \"is faulty. Rabin's\": 1,\n  'or of the': 1,\n  'Moses is found': 1,\n  'de Vaux informs': 1,\n  'the Bar Kochba': 1,\n  'the archangel Michael': 2,\n  'word Yahweh. The': 1,\n  'Such is not': 1,\n  'placed the four': 1,\n  'I960, he again': 1,\n  'purchased five scrolls': 1,\n  'during the Roman': 1,\n  '(huha). In the': 1,\n  'line, demonstrate without': 1,\n  'term, as THE': 1,\n  'Kokba, the leader': 1,\n  'impression on reading': 1,\n  'E ; ;': 1,\n  'n1u On p.': 1,\n  'phylacteries, contained four': 1,\n  'dragon, the erasing': 1,\n  'serious scholarly presentation.': 1,\n  '7 n1n 111?': 1,\n  'of Hebrew literature': 1,\n  'Chalcolithique period to': 1,\n  'that the scroll': 1,\n  '\"formule essentielle de': 1,\n  '|_i_ II (By': 1,\n  'P., J. T.': 1,\n  'ascertain the antiquity': 1,\n  'sun, moon or': 1,\n  'Zadokite Fragments it': 1,\n  'versed either in': 1,\n  'Society I reproduce': 1,\n  'from II 7.': 1,\n  'there are two': 1,\n  'that not only': 1,\n  'is known from': 1,\n  'The term \"teacher\"': 1,\n  'includes probably most': 1,\n  'the key of': 1,\n  'wish to believe.': 1,\n  'trust that in': 1,\n  'on the other': 1,\n  'Sea Scrolls. On': 1,\n  'about the Assumption': 1,\n  'that they begin': 1,\n  'of demonstrating that': 1,\n  'principles of scholarship': 1,\n  'are the conclusions': 1,\n  'C.E. annihilates the': 1,\n  'errors in copying': 1,\n  \".S'- T' r_\": 1,\n  'tive one.\" The': 1,\n  'the sender \"to\".': 1,\n  'book Sefer ha-Jashar': 1,\n  'the word x6ipLo': 1,\n  'monde ne valent': 1,\n  '* M:;t _': 1,\n  \"Allegro's book The\": 1,\n  'axes to grind.': 1,\n  ...})"
     },
     "execution_count": 40,
     "metadata": {},
     "output_type": "execute_result"
    }
   ],
   "source": [
    "list(trigramCount_dict.items())[1000]"
   ],
   "metadata": {
    "collapsed": false,
    "pycharm": {
     "name": "#%%\n"
    }
   }
  },
  {
   "cell_type": "code",
   "execution_count": null,
   "outputs": [],
   "source": [
    "trigramCount_tups_of_tups = []\n",
    "for k, v in list(trigramCount_dict.items())[:10]:\n",
    "    trigramCount_tups_of_tups.append((k, v))"
   ],
   "metadata": {
    "collapsed": false,
    "pycharm": {
     "name": "#%%\n"
    }
   }
  },
  {
   "cell_type": "code",
   "execution_count": null,
   "outputs": [],
   "source": [],
   "metadata": {
    "collapsed": false,
    "pycharm": {
     "name": "#%%\n"
    }
   }
  },
  {
   "cell_type": "code",
   "execution_count": null,
   "outputs": [],
   "source": [],
   "metadata": {
    "collapsed": false,
    "pycharm": {
     "name": "#%%\n"
    }
   }
  },
  {
   "cell_type": "code",
   "execution_count": null,
   "outputs": [],
   "source": [],
   "metadata": {
    "collapsed": false,
    "pycharm": {
     "name": "#%%\n"
    }
   }
  },
  {
   "cell_type": "code",
   "execution_count": null,
   "outputs": [],
   "source": [],
   "metadata": {
    "collapsed": false,
    "pycharm": {
     "name": "#%%\n"
    }
   }
  },
  {
   "cell_type": "markdown",
   "source": [
    "# Explorations"
   ],
   "metadata": {
    "collapsed": false,
    "pycharm": {
     "name": "#%% md\n"
    }
   }
  },
  {
   "cell_type": "code",
   "execution_count": null,
   "outputs": [],
   "source": [
    "def get_tops(col, matchstring, n=10):\n",
    "    ids = ids_from_colvals(col, matchstring)\n",
    "    c = merge_data_from_ids(ids, unigramCount_dict)\n",
    "    c_tups = [el for el in c.items() if el[0].lower() not in list(stop_words) + [\".\", \"-\", \"\\\"\"]]\n",
    "    top10 = sorted(c_tups, key=lambda kv: kv[1], reverse=True)[:n]\n",
    "    return top10"
   ],
   "metadata": {
    "collapsed": false,
    "pycharm": {
     "name": "#%%\n"
    }
   }
  },
  {
   "cell_type": "code",
   "execution_count": null,
   "outputs": [],
   "source": [
    "get_tops(\"publicationYear\", \"==1951\", 20)"
   ],
   "metadata": {
    "collapsed": false,
    "pycharm": {
     "name": "#%%\n"
    }
   }
  },
  {
   "cell_type": "code",
   "execution_count": null,
   "outputs": [],
   "source": [
    "get_tops(\"publicationYear\", \".between(1950,1959)\")"
   ],
   "metadata": {
    "collapsed": false,
    "pycharm": {
     "name": "#%%\n"
    }
   }
  },
  {
   "cell_type": "code",
   "execution_count": null,
   "outputs": [],
   "source": [
    "for decade_n in range(0,10):\n",
    "    print(\"19{0}0,19{0}9\".format(str(decade_n)))"
   ],
   "metadata": {
    "collapsed": false,
    "pycharm": {
     "name": "#%%\n"
    }
   }
  },
  {
   "cell_type": "code",
   "execution_count": null,
   "outputs": [],
   "source": [
    "for decade_n in range(0,10):\n",
    "    decade = \"19{0}0,19{0}9\".format(str(decade_n))\n",
    "    print(decade, get_tops(\"publicationYear\", \".between({0})\".format(decade), 20))\n"
   ],
   "metadata": {
    "collapsed": false,
    "pycharm": {
     "name": "#%%\n"
    }
   }
  },
  {
   "cell_type": "code",
   "execution_count": null,
   "outputs": [],
   "source": [
    "bigramCount_dict = pickle.load(open(\"../data/large_files/bigramCount_dict.pickle\", \"rb\"))"
   ],
   "metadata": {
    "collapsed": false,
    "pycharm": {
     "name": "#%%\n"
    }
   }
  },
  {
   "cell_type": "code",
   "execution_count": null,
   "outputs": [],
   "source": [
    "def get_top_bigrams(col, matchstring, n=10):\n",
    "    ids = ids_from_colvals(col, matchstring)\n",
    "    c = merge_data_from_ids(ids, bigramCount_dict)\n",
    "    #c_tups = [el for el in c.items() if el[0].lower() not in list(stop_words)]\n",
    "    tops = sorted(c.items(), key=lambda kv: kv[1], reverse=True)[:n]\n",
    "    return tops"
   ],
   "metadata": {
    "collapsed": false,
    "pycharm": {
     "name": "#%%\n"
    }
   }
  },
  {
   "cell_type": "code",
   "execution_count": null,
   "outputs": [],
   "source": [
    "for decade_n in range(0,10):\n",
    "    decade = \"19{0}0,19{0}9\".format(str(decade_n))\n",
    "    print(decade, get_top_bigrams(\"publicationYear\", \".between({0})\".format(decade), 10))"
   ],
   "metadata": {
    "collapsed": false,
    "pycharm": {
     "name": "#%%\n"
    }
   }
  },
  {
   "cell_type": "code",
   "execution_count": null,
   "outputs": [],
   "source": [],
   "metadata": {
    "collapsed": false,
    "pycharm": {
     "name": "#%%\n"
    }
   }
  }
 ],
 "metadata": {
  "kernelspec": {
   "display_name": "Python 3",
   "language": "python",
   "name": "python3"
  },
  "language_info": {
   "codemirror_mode": {
    "name": "ipython",
    "version": 2
   },
   "file_extension": ".py",
   "mimetype": "text/x-python",
   "name": "python",
   "nbconvert_exporter": "python",
   "pygments_lexer": "ipython2",
   "version": "2.7.6"
  }
 },
 "nbformat": 4,
 "nbformat_minor": 0
}