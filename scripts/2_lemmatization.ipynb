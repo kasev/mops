{
 "cells": [
  {
   "cell_type": "code",
   "execution_count": 34,
   "metadata": {
    "collapsed": true
   },
   "outputs": [],
   "source": [
    "import pandas as pd\n",
    "import pickle\n",
    "import random\n",
    "pd.set_option(\"display.max_columns\", None)\n",
    "from collections import Counter\n",
    "import google_conf"
   ]
  },
  {
   "cell_type": "code",
   "execution_count": 2,
   "outputs": [],
   "source": [
    "mops_data = google_conf.setup(sheet_url=\"https://docs.google.com/spreadsheets/d/1VbCIAJssHKV9hlRTwzVFfm40CGnHesq53KXjv2qy4OM/edit?usp=sharing\", service_account_path=\"../../ServiceAccountsKey.json\")"
   ],
   "metadata": {
    "collapsed": false
   }
  },
  {
   "cell_type": "markdown",
   "source": [
    "# Compare nltk, spacy & stanza lemmatizers"
   ],
   "metadata": {
    "collapsed": false
   }
  },
  {
   "cell_type": "code",
   "execution_count": 107,
   "outputs": [],
   "source": [
    "import stanza\n",
    "import spacy\n",
    "import nltk"
   ],
   "metadata": {
    "collapsed": false
   }
  },
  {
   "cell_type": "code",
   "execution_count": null,
   "outputs": [],
   "source": [
    "#stanza.download('en') # download English model\n",
    "\n",
    "#nltk.download(\"wordnet\")\n",
    "#nltk.download(\"stopwords\")"
   ],
   "metadata": {
    "collapsed": false
   }
  },
  {
   "cell_type": "code",
   "execution_count": 73,
   "outputs": [],
   "source": [
    "nlp_spacy = spacy.load('en_core_web_lg') # python -m spacy download en_core_web_lg"
   ],
   "metadata": {
    "collapsed": false
   }
  },
  {
   "cell_type": "code",
   "execution_count": 47,
   "outputs": [
    {
     "name": "stderr",
     "output_type": "stream",
     "text": [
      "2023-02-17 10:51:29 INFO: Checking for updates to resources.json in case models have been updated.  Note: this behavior can be turned off with download_method=None or download_method=DownloadMethod.REUSE_RESOURCES\n"
     ]
    },
    {
     "data": {
      "text/plain": "Downloading https://raw.githubusercontent.com/stanfordnlp/stanza-resources/main/resources_1.4.1.json:   0%|   …",
      "application/vnd.jupyter.widget-view+json": {
       "version_major": 2,
       "version_minor": 0,
       "model_id": "e693bb432cff48d295f9a4882dadaa38"
      }
     },
     "metadata": {},
     "output_type": "display_data"
    },
    {
     "name": "stderr",
     "output_type": "stream",
     "text": [
      "2023-02-17 10:51:31 INFO: Loading these models for language: en (English):\n",
      "============================\n",
      "| Processor    | Package   |\n",
      "----------------------------\n",
      "| tokenize     | combined  |\n",
      "| pos          | combined  |\n",
      "| lemma        | combined  |\n",
      "| depparse     | combined  |\n",
      "| sentiment    | sstplus   |\n",
      "| constituency | wsj       |\n",
      "| ner          | ontonotes |\n",
      "============================\n",
      "\n",
      "2023-02-17 10:51:31 INFO: Use device: cpu\n",
      "2023-02-17 10:51:31 INFO: Loading: tokenize\n",
      "2023-02-17 10:51:31 INFO: Loading: pos\n",
      "2023-02-17 10:51:31 INFO: Loading: lemma\n",
      "2023-02-17 10:51:31 INFO: Loading: depparse\n",
      "2023-02-17 10:51:31 INFO: Loading: sentiment\n",
      "2023-02-17 10:51:32 INFO: Loading: constituency\n",
      "2023-02-17 10:51:32 INFO: Loading: ner\n",
      "2023-02-17 10:51:32 INFO: Done loading processors!\n"
     ]
    }
   ],
   "source": [
    "nlp_stanza = stanza.Pipeline('en') # initialize English neural pipeline"
   ],
   "metadata": {
    "collapsed": false
   }
  },
  {
   "cell_type": "code",
   "execution_count": 44,
   "outputs": [],
   "source": [
    "from nltk.stem import WordNetLemmatizer\n",
    "nltk_lemmatizer = WordNetLemmatizer()"
   ],
   "metadata": {
    "collapsed": false
   }
  },
  {
   "cell_type": "code",
   "execution_count": 79,
   "outputs": [
    {
     "data": {
      "text/plain": "'did.'"
     },
     "execution_count": 79,
     "metadata": {},
     "output_type": "execute_result"
    }
   ],
   "source": [
    "nltk_lemmatizer.lemmatize(\"did.\")"
   ],
   "metadata": {
    "collapsed": false
   }
  },
  {
   "cell_type": "code",
   "execution_count": 89,
   "outputs": [
    {
     "data": {
      "text/plain": "[{\n   \"id\": 1,\n   \"text\": \"Did\",\n   \"lemma\": \"do\",\n   \"upos\": \"VERB\",\n   \"xpos\": \"VBD\",\n   \"feats\": \"Mood=Ind|Number=Sing|Person=3|Tense=Past|VerbForm=Fin\",\n   \"head\": 0,\n   \"deprel\": \"root\",\n   \"start_char\": 0,\n   \"end_char\": 3\n },\n {\n   \"id\": 2,\n   \"text\": \".\",\n   \"lemma\": \".\",\n   \"upos\": \"PUNCT\",\n   \"xpos\": \".\",\n   \"head\": 1,\n   \"deprel\": \"punct\",\n   \"start_char\": 3,\n   \"end_char\": 4\n }]"
     },
     "execution_count": 89,
     "metadata": {},
     "output_type": "execute_result"
    }
   ],
   "source": [
    "[t for t in nlp_stanza(\"Did.\").sentences[0].words]"
   ],
   "metadata": {
    "collapsed": false
   }
  },
  {
   "cell_type": "code",
   "execution_count": 87,
   "outputs": [
    {
     "data": {
      "text/plain": "['do']"
     },
     "execution_count": 87,
     "metadata": {},
     "output_type": "execute_result"
    }
   ],
   "source": [
    "[t.lemma for t in nlp_stanza(\"Did.\").sentences[0].words if t.pos in [\"NOUN\", \"VERB\"]]"
   ],
   "metadata": {
    "collapsed": false
   }
  },
  {
   "cell_type": "code",
   "execution_count": 102,
   "outputs": [
    {
     "data": {
      "text/plain": "['rightwe']"
     },
     "execution_count": 102,
     "metadata": {},
     "output_type": "execute_result"
    }
   ],
   "source": [
    "[t.lemma_ for t in nlp_spacy(\"rightwing\")]"
   ],
   "metadata": {
    "collapsed": false
   }
  },
  {
   "cell_type": "code",
   "execution_count": 103,
   "outputs": [
    {
     "data": {
      "text/plain": "['rightwing']"
     },
     "execution_count": 103,
     "metadata": {},
     "output_type": "execute_result"
    }
   ],
   "source": [
    "[t.lemma for t in nlp_stanza(\"rightwing\").sentences[0].words]"
   ],
   "metadata": {
    "collapsed": false
   }
  },
  {
   "cell_type": "code",
   "execution_count": 110,
   "outputs": [
    {
     "name": "stdout",
     "output_type": "stream",
     "text": [
      "CPU times: user 8 ms, sys: 1.75 ms, total: 9.75 ms\n",
      "Wall time: 8.01 ms\n"
     ]
    },
    {
     "data": {
      "text/plain": "['write']"
     },
     "execution_count": 110,
     "metadata": {},
     "output_type": "execute_result"
    }
   ],
   "source": [
    "%%time\n",
    "[t.lemma_ for t in nlp_spacy(\"Wrote\")]"
   ],
   "metadata": {
    "collapsed": false
   }
  },
  {
   "cell_type": "code",
   "execution_count": 111,
   "outputs": [
    {
     "name": "stdout",
     "output_type": "stream",
     "text": [
      "CPU times: user 85.4 ms, sys: 9.75 ms, total: 95.2 ms\n",
      "Wall time: 92.8 ms\n"
     ]
    },
    {
     "data": {
      "text/plain": "['write']"
     },
     "execution_count": 111,
     "metadata": {},
     "output_type": "execute_result"
    }
   ],
   "source": [
    "%%time\n",
    "[t.lemma for t in nlp_stanza(\"Wrote\").sentences[0].words]"
   ],
   "metadata": {
    "collapsed": false
   }
  },
  {
   "cell_type": "code",
   "execution_count": 112,
   "outputs": [],
   "source": [
    "unigramCount_dict = pickle.load(open(\"../data/large_files/unigramCount_dict.pickle\", \"rb\"))"
   ],
   "metadata": {
    "collapsed": false
   }
  },
  {
   "cell_type": "code",
   "execution_count": null,
   "outputs": [],
   "source": [
    "#bigramCount_dict = pickle.load(open(\"../data/large_files/bigramCount_dict.pickle\", \"rb\"))"
   ],
   "metadata": {
    "collapsed": false,
    "pycharm": {
     "is_executing": true
    }
   }
  },
  {
   "cell_type": "code",
   "execution_count": null,
   "outputs": [],
   "source": [
    "# trigramCount_dict = pickle.load(open(\"../data/large_files/trigramCount_dict.pickle\", \"rb\"))"
   ],
   "metadata": {
    "collapsed": false,
    "pycharm": {
     "is_executing": true
    }
   }
  },
  {
   "cell_type": "code",
   "execution_count": 113,
   "outputs": [],
   "source": [
    "def merge_data_from_ids(ids, datadict):\n",
    "    c = Counter()\n",
    "    for id in ids:\n",
    "        d = datadict[id]\n",
    "        c.update(d)\n",
    "    return c"
   ],
   "metadata": {
    "collapsed": false
   }
  },
  {
   "cell_type": "code",
   "execution_count": 117,
   "outputs": [
    {
     "data": {
      "text/plain": "1000"
     },
     "execution_count": 117,
     "metadata": {},
     "output_type": "execute_result"
    }
   ],
   "source": [
    "# create a sample to preprocess the most frequent ngrams\n",
    "random.seed(0)\n",
    "ids = random.sample(list(unigramCount_dict.keys()), 1000)\n",
    "len(ids)"
   ],
   "metadata": {
    "collapsed": false
   }
  },
  {
   "cell_type": "code",
   "execution_count": 118,
   "outputs": [],
   "source": [
    "data_unigrams = merge_data_from_ids(ids, unigramCount_dict)"
   ],
   "metadata": {
    "collapsed": false
   }
  },
  {
   "cell_type": "code",
   "execution_count": 119,
   "outputs": [
    {
     "data": {
      "text/plain": "Counter({'himself;': 35,\n         'ihre': 28,\n         'cognize': 7,\n         'saw': 1646,\n         'possibility': 882,\n         'notion': 1079,\n         'history,': 739,\n         'old': 1907,\n         'creation': 1686,\n         '14': 908,\n         'points': 1655,\n         'semester': 24,\n         'Karl': 370,\n         'reform': 526,\n         'Scheel,': 1,\n         'non-earthly': 1,\n         'carries': 252,\n         'fulfillment': 319,\n         'age,': 284,\n         'regard,': 100,\n         'changes': 626,\n         'terrible': 165,\n         'Tbc': 1,\n         'Salvation': 189,\n         '26': 644,\n         '1549,': 28,\n         'attitudes': 348,\n         'structures': 387,\n         'discuss': 481,\n         'Lutheranism': 26,\n         'asked,': 88,\n         'sint': 26,\n         'representative': 342,\n         'monks,': 113,\n         'well': 6427,\n         'it,': 2323,\n         '\"that': 153,\n         'karma': 13,\n         'theology.': 569,\n         'case,': 855,\n         'undemonstrable': 1,\n         'Jesus,': 1691,\n         'All-embracing': 2,\n         'generally': 1142,\n         'emerges': 200,\n         'Collected': 64,\n         'accordance': 425,\n         'resignare': 1,\n         '53,': 146,\n         'necessarily': 731,\n         'pro': 299,\n         'known.': 104,\n         'evil.': 219,\n         'reckoned': 126,\n         'correspondence': 297,\n         'reproaches': 15,\n         'instead': 991,\n         'mediately': 10,\n         'divided': 524,\n         'forms': 1331,\n         'According': 1733,\n         'imparting': 24,\n         'Amida5': 4,\n         'confesses': 64,\n         'beyond.': 54,\n         'pursue': 194,\n         'Christian-': 55,\n         'ethical': 856,\n         'partially': 145,\n         'prince,': 33,\n         '(third': 13,\n         'th': 128,\n         'father': 1114,\n         'sins': 1018,\n         'God.': 3236,\n         'trans.': 869,\n         'ways': 1684,\n         'putation': 1,\n         'proofs': 69,\n         'establish': 718,\n         'pass': 458,\n         'strength': 597,\n         'encountered': 222,\n         'oneself': 226,\n         'entanglement': 12,\n         'future': 1483,\n         'reconciled': 167,\n         'affairs': 267,\n         'relation': 1470,\n         'igno-': 2,\n         'dual': 102,\n         'exception.': 50,\n         'devil.5': 1,\n         'object': 534,\n         'songs.17': 1,\n         'wanting': 109,\n         'translates': 140,\n         'monastery': 394,\n         'commentary': 1313,\n         'dent': 65,\n         'realizations': 7,\n         'when': 12052,\n         'figure,': 93,\n         'revelations': 151,\n         'some': 11821,\n         'judgment.': 186,\n         'converting': 81,\n         'supernatural': 277,\n         'never': 3194,\n         'otherwise': 592,\n         'referred': 665,\n         'mode': 371,\n         'affirma-': 4,\n         'scribe.': 9,\n         'attributed': 546,\n         '16': 897,\n         'Mystik': 4,\n         'transformations': 55,\n         'ground': 643,\n         \"ran's\": 1,\n         'see,': 442,\n         'complete': 1002,\n         'all': 21824,\n         'be.': 239,\n         'study': 3304,\n         'commentaries': 328,\n         'Kyõgyõéimhõ': 1,\n         'followers,': 109,\n         'turn': 1402,\n         'insight': 447,\n         'enough': 953,\n         'stages': 236,\n         'good': 5417,\n         'promises': 503,\n         'end-time': 33,\n         'oriented': 102,\n         'events': 1160,\n         '1973),': 66,\n         'joyful': 55,\n         'accepts': 220,\n         'woman': 1608,\n         '29': 567,\n         'pecca': 2,\n         'proclaim': 274,\n         'Buddhaization': 1,\n         'letters.': 314,\n         'types': 404,\n         'inwardness': 7,\n         'problematic': 255,\n         'actually': 1398,\n         'self-salvation': 2,\n         'charges': 225,\n         'Zen-': 1,\n         'tion,': 259,\n         'count': 172,\n         'be-': 251,\n         'West,': 232,\n         'clear,': 247,\n         'comforted': 18,\n         'designate': 96,\n         'speak': 1517,\n         'common.': 54,\n         'separate': 836,\n         'Avaloki': 1,\n         'teleology': 8,\n         'him': 10244,\n         'im-': 99,\n         'antipathy': 29,\n         'remain': 1099,\n         '31,': 257,\n         'form,': 338,\n         'Japan.': 67,\n         'trust': 506,\n         'questions': 1585,\n         'karma,': 11,\n         'won': 249,\n         'attuned': 43,\n         'are': 39980,\n         'misreading': 33,\n         'Eckbarts': 1,\n         'types.': 17,\n         'equally': 535,\n         'imagined': 188,\n         'recourse': 131,\n         '(nonimputation': 1,\n         'if': 10245,\n         'Examples': 56,\n         'ideas,': 192,\n         'call': 2018,\n         'power.': 409,\n         'here.9': 1,\n         'perform': 292,\n         'Die': 604,\n         'laws': 1115,\n         'asserts': 298,\n         'Nevertheless,': 810,\n         'derives': 189,\n         'sinners': 264,\n         'religions.': 150,\n         'truth,': 499,\n         'transcendence,': 20,\n         'Ibid.,': 1864,\n         'teaching': 2179,\n         'value': 921,\n         'resurrection': 1438,\n         'part': 5302,\n         'better': 1714,\n         'cases': 712,\n         ':3f.': 1,\n         'forensic': 101,\n         'reasoning': 200,\n         'hell.': 83,\n         'radicalized': 17,\n         'passed': 665,\n         'again': 1907,\n         'fronts.': 9,\n         'very': 6895,\n         'mine.': 65,\n         'altar': 315,\n         'law)': 21,\n         'August,': 35,\n         'lievers,': 6,\n         'blessedness,': 10,\n         'trusts': 29,\n         'differing': 181,\n         'enslaved': 121,\n         'H.': 2454,\n         'transfers': 24,\n         'Faith': 712,\n         'live.': 110,\n         'if.).': 4,\n         'can,': 138,\n         'thorough': 286,\n         'worldly.': 3,\n         'church.': 1367,\n         'Consequently,': 285,\n         'matters.11': 1,\n         'course,': 1130,\n         '33': 547,\n         'make': 4807,\n         'books': 1782,\n         'environment': 244,\n         'spirit)': 7,\n         'under': 4549,\n         'Dokumente': 10,\n         '5:17).': 13,\n         'title': 1058,\n         'sees': 1007,\n         'abrogatio': 1,\n         'reformer': 73,\n         'objects': 239,\n         'belief;': 7,\n         'powers': 731,\n         'remarkable': 497,\n         'collect': 94,\n         'and,': 3719,\n         'Congress': 173,\n         'believer.': 65,\n         '\"If': 213,\n         'resulting': 239,\n         'have.': 74,\n         'See': 7907,\n         'process': 1524,\n         'savior': 69,\n         'large': 1300,\n         'rationally': 37,\n         'culture,': 345,\n         'consequences': 404,\n         'lectures,': 47,\n         'conceptual-objective': 1,\n         'effectiveness': 72,\n         'confessions.': 12,\n         'com-': 472,\n         'stimulus': 38,\n         'Grace': 180,\n         'makes': 2951,\n         'Dogmatics': 34,\n         'Christianity,': 883,\n         'condition': 592,\n         '(Acts': 707,\n         'history': 3879,\n         'perception,': 27,\n         'Bodhi-': 1,\n         'along': 1363,\n         'sphere': 232,\n         'unmentioned.': 2,\n         '8': 1733,\n         'mercy': 669,\n         'promises.18': 2,\n         'powers,': 146,\n         'whereby': 345,\n         'withdraws': 15,\n         'holy': 2362,\n         'want': 1228,\n         'rose': 231,\n         'Shinran,': 25,\n         'attitude': 713,\n         'Bodhisattva.': 6,\n         'depicted': 306,\n         'resulted': 303,\n         'Protestant': 1561,\n         'self-effort,': 1,\n         'remarks': 353,\n         'puts': 421,\n         'function,': 58,\n         'supports': 192,\n         'his-': 105,\n         'dealings': 90,\n         \"man's\": 480,\n         'wrong': 438,\n         'reality.': 206,\n         'modernity': 58,\n         'sense,': 693,\n         'put': 2173,\n         'legendary': 62,\n         'nor': 2750,\n         'astray.': 39,\n         'block': 102,\n         'More': 705,\n         '24': 697,\n         'elect': 243,\n         'possible': 2169,\n         'done': 1578,\n         'a': 162034,\n         'his': 59222,\n         'son,': 300,\n         'New': 10869,\n         'victory': 397,\n         'assertion': 305,\n         'perhaps': 2486,\n         'distinctness': 7,\n         'alone)': 7,\n         'commonly': 410,\n         'pronounced': 159,\n         'II': 1311,\n         'forms.': 93,\n         'per-': 169,\n         'the': 685375,\n         'trial': 266,\n         'aware': 707,\n         'left': 1873,\n         'free': 1683,\n         'still': 3486,\n         '(I': 288,\n         'fatal': 57,\n         'conclusions': 455,\n         'consequently': 139,\n         'expected': 634,\n         'angelic': 195,\n         'partial': 173,\n         'made': 6839,\n         \"believer's\": 32,\n         'dies': 112,\n         'things': 3818,\n         ':i8f.).': 1,\n         '(imputation': 1,\n         'grace-monism': 2,\n         'clarity': 193,\n         'volúntate': 2,\n         'effect': 874,\n         'disastrous': 40,\n         'article': 1629,\n         'handed': 264,\n         'derive': 166,\n         'help': 1639,\n         'time': 6888,\n         'spiritual': 3927,\n         'To': 3345,\n         'so': 13237,\n         'regard': 1475,\n         'arising': 141,\n         'origin,': 109,\n         'said': 4123,\n         'more': 17119,\n         'Jewish-early': 1,\n         'justification.': 119,\n         'exposition': 329,\n         'sin)': 9,\n         'valid': 202,\n         'concept': 1318,\n         'Similar': 125,\n         'expects': 110,\n         'attesta-': 3,\n         'suggesting': 267,\n         'nomism': 15,\n         'himself,': 748,\n         'requirements': 190,\n         'common': 3004,\n         'cite': 270,\n         'treatise,': 76,\n         'He': 13273,\n         'unpublished': 93,\n         'requirement': 131,\n         'furthermore,': 84,\n         'hardly': 690,\n         'who': 30147,\n         'thought.': 354,\n         'age': 1106,\n         'gnostic': 190,\n         'interpret': 625,\n         'metaphysics,': 12,\n         'righteousness\"': 24,\n         'lead': 1091,\n         'outside': 1264,\n         'successful': 351,\n         'to': 255776,\n         '170': 112,\n         'thinkers.': 26,\n         'self,\"': 4,\n         'tion;': 13,\n         'opposition': 645,\n         'leave': 709,\n         'Zeitschrift,': 3,\n         'limits': 297,\n         'identity.': 242,\n         'making': 1499,\n         'ask': 883,\n         'Bible': 3791,\n         'se': 264,\n         'objectified.': 2,\n         '41': 465,\n         'Here': 1265,\n         'sity,': 8,\n         'situated,': 7,\n         '22': 718,\n         'sbõ': 1,\n         '-': 4131,\n         'long': 2751,\n         'consciousness': 300,\n         'towards': 1304,\n         'justifia': 1,\n         'inner': 531,\n         'engage': 441,\n         'an': 31941,\n         'Sinai': 166,\n         'institutionalizing': 8,\n         'dimensions': 263,\n         \"Amida'\": 1,\n         'path': 415,\n         'whole.': 264,\n         'humility': 220,\n         'ideal': 580,\n         'carried': 740,\n         'opposes': 56,\n         'period': 1706,\n         'away.': 175,\n         'consequences.': 57,\n         'revaluation,': 2,\n         'training': 391,\n         'timeless,': 7,\n         'confronting': 82,\n         'beginning.': 92,\n         'how-': 48,\n         'shinshöy': 1,\n         'Shakyamuni,': 1,\n         'aim,': 20,\n         'has,': 149,\n         'arose': 307,\n         'refuse': 176,\n         'circle': 227,\n         'repetition.': 16,\n         'meaninglessness': 9,\n         'matter': 1811,\n         'Shonin,\"': 1,\n         'Kyõgyõshinshõ,': 1,\n         'Certainly': 149,\n         'ever,': 126,\n         'may': 11032,\n         'approach': 1887,\n         'untenable,': 4,\n         'tradition,': 847,\n         'extinction': 22,\n         'moments.': 9,\n         'law).': 9,\n         'Belief': 71,\n         'scheme': 152,\n         'reborn': 36,\n         'maintenance': 93,\n         'presented': 1101,\n         'brought': 1824,\n         'T.': 1652,\n         'this': 48676,\n         'clearly': 2035,\n         'might': 5233,\n         'us.1': 1,\n         'G.': 1856,\n         'wish': 725,\n         'lies': 661,\n         'situation.': 184,\n         'Men.': 10,\n         'i.e.,': 372,\n         'sacraments.': 46,\n         'teachable,': 1,\n         'themselves': 2790,\n         'young': 1118,\n         'Since': 1051,\n         'mentioned.': 100,\n         '36': 517,\n         'dawning': 15,\n         'maintains': 222,\n         'surprise': 142,\n         'statements': 691,\n         'works': 2609,\n         'circumstances': 444,\n         'meaning.': 239,\n         'sinner': 235,\n         'once,': 103,\n         'occurs': 676,\n         \"Amida,'\": 1,\n         'zu': 233,\n         'recipient?': 1,\n         'itself.': 587,\n         'alone,': 365,\n         '\"way': 4,\n         'Unlike': 249,\n         '1/2,': 6,\n         'mistrust': 7,\n         'therefore': 1916,\n         'tries,': 3,\n         'up': 6326,\n         'appearance': 550,\n         'Hellenistic': 781,\n         'wishes': 290,\n         'far': 2669,\n         'experience,': 319,\n         'conflict': 636,\n         'think': 2047,\n         'ascended': 96,\n         'also': 19900,\n         'extinguishes': 5,\n         'origins': 463,\n         'serious': 767,\n         \"God's\": 2609,\n         'baptism': 1243,\n         'Gospels.': 204,\n         'sect': 228,\n         '37': 564,\n         'about': 13043,\n         'reformers,': 46,\n         'name': 2648,\n         'Although': 2065,\n         'less': 2677,\n         'grace?': 13,\n         'Mahayana': 28,\n         \"Christ's\": 710,\n         'Pure': 36,\n         'ready': 472,\n         'forces': 555,\n         'Mosaic': 269,\n         'Kyõgyõsbinshõ,': 1,\n         'curse': 245,\n         'historical': 3740,\n         'reserve.': 3,\n         'Luthers': 33,\n         'immediate': 525,\n         'criticism': 808,\n         'Society,': 341,\n         'Land': 189,\n         'endeavours': 36,\n         'mind,24': 1,\n         'Kyõgyõ-': 1,\n         'cf.': 1833,\n         'formulations?': 2,\n         'studies,': 269,\n         'Paul,': 2114,\n         'salvific': 123,\n         'increase?\"': 1,\n         'unjustly': 29,\n         'Nor': 445,\n         'commonality': 23,\n         'former,': 70,\n         '\"Christ\"': 6,\n         'obviously': 337,\n         'visions': 249,\n         'criterion': 180,\n         'second': 4280,\n         'hope': 1423,\n         'reconcile': 169,\n         'driving': 90,\n         'absurd': 81,\n         'sunken': 3,\n         'characteristic,': 15,\n         'wants': 558,\n         'misunderstood': 81,\n         'alone.\"': 5,\n         'decided': 423,\n         'English': 2297,\n         'trust.': 32,\n         'reading,': 303,\n         'moment': 614,\n         'uncover': 65,\n         'lief': 8,\n         'Kingdom,': 65,\n         'mentary': 41,\n         'reformation.': 25,\n         'belonged': 235,\n         'friends': 491,\n         '\"alone.\"': 1,\n         'creation;': 29,\n         'say': 3229,\n         'proceed,': 18,\n         'face': 1255,\n         'limitation': 63,\n         '\"sint': 1,\n         'representative,': 25,\n         'revelations.': 21,\n         'Therefore,': 973,\n         'ethics.': 90,\n         'image': 1637,\n         'goal,': 56,\n         'Despite': 537,\n         'factor': 252,\n         'unites': 72,\n         \"Luther's\": 306,\n         'prevent': 284,\n         'Obendiek,': 1,\n         'texts': 2900,\n         'formulation': 213,\n         'existence': 1146,\n         'trans-': 100,\n         'could': 8644,\n         'differ': 201,\n         'themselves.': 328,\n         'regards': 423,\n         'finds': 849,\n         'rejects': 189,\n         'whether': 3136,\n         'but,': 400,\n         'deliberations': 23,\n         'Buddhistic': 2,\n         'zur': 376,\n         '(according': 61,\n         'regarding': 1211,\n         'Luther.': 56,\n         'himself-': 1,\n         'Reformation.15': 1,\n         'unique': 732,\n         'with': 61132,\n         'Age': 225,\n         'BUDDHIST': 12,\n         '(sin': 12,\n         '(be': 5,\n         'Biblical-Christian': 2,\n         'knows,': 26,\n         'resurrected,': 13,\n         'vow': 305,\n         'secularism': 24,\n         'explains': 590,\n         'part,': 512,\n         'remark': 184,\n         'above': 1778,\n         'hymns': 170,\n         'world-fleeing': 1,\n         'Amidaization': 2,\n         'know,': 248,\n         'toward': 2320,\n         'jmeuma': 1,\n         'extrinsically': 2,\n         'speaks': 1205,\n         'lived': 1019,\n         'portant': 26,\n         'convinced': 502,\n         'rests': 138,\n         'savior,': 22,\n         'presuppositions': 117,\n         'forgiveness.': 56,\n         '74.': 164,\n         'Gospel': 3452,\n         'let': 1647,\n         'structure,': 158,\n         'final': 1999,\n         'revere': 15,\n         'ut': 377,\n         'surrogate': 20,\n         'imputatio': 10,\n         'truth': 2026,\n         'Concept': 68,\n         'refers': 1457,\n         'identical,': 18,\n         'most': 9476,\n         'preceding': 371,\n         'risks': 57,\n         'state,': 330,\n         'know': 3371,\n         'Judaism.': 444,\n         'History': 1955,\n         'excerpts': 45,\n         'meaning,': 233,\n         '128': 152,\n         'explained': 668,\n         'space.': 68,\n         'complement': 71,\n         'real': 1450,\n         'law': 3664,\n         'Ryukoku': 1,\n         'surrounded': 114,\n         'canon.': 93,\n         'freed.': 7,\n         'Damascus': 170,\n         'anyone': 998,\n         'tertius': 2,\n         'impulse': 114,\n         'did': 7464,\n         'keep': 1080,\n         'Because': 867,\n         'led': 1733,\n         'subjective': 157,\n         'adjoins': 2,\n         'degree': 776,\n         '4:5).': 14,\n         '(theology': 3,\n         'betterment.': 2,\n         'passing': 345,\n         'saved,': 80,\n         'various': 2598,\n         '800th': 1,\n         'attitude.': 36,\n         'secularism,': 14,\n         'subjugation': 23,\n         'end': 3129,\n         'documents': 514,\n         'Zen': 49,\n         'mythology': 58,\n         'demonstration.': 9,\n         'so.': 239,\n         'religion.': 529,\n         'essence': 387,\n         'although': 2106,\n         'vows': 101,\n         'center': 568,\n         'primary': 1079,\n         'whenever': 191,\n         '77f.)': 1,\n         'spoken': 485,\n         'worse.': 29,\n         'does': 9383,\n         'aspect': 766,\n         'way': 6974,\n         'transcendence': 136,\n         'simply': 2460,\n         \"one's\": 518,\n         'since': 4046,\n         'creatively': 38,\n         'basis': 1571,\n         'belong': 599,\n         'presupposes': 144,\n         'concept,': 60,\n         'earth,': 522,\n         'His': 4862,\n         'successfully': 186,\n         'today,': 232,\n         'apostle': 1169,\n         'characteristic': 517,\n         'too,': 665,\n         'earliest': 826,\n         'attempt': 1371,\n         'teach': 827,\n         'close': 1316,\n         '(Romans': 91,\n         'different': 4007,\n         'None': 114,\n         'ÇWasan)': 1,\n         'arise': 221,\n         'usual': 330,\n         'inclined': 180,\n         'Schweitzer,': 51,\n         'Biblical': 1905,\n         'historicizing': 2,\n         'recognizes': 269,\n         '1:19-24;': 1,\n         'faith.': 908,\n         'entry': 349,\n         'relationship': 2645,\n         'areas': 462,\n         'traditions,': 413,\n         'freed': 214,\n         'dissolution': 69,\n         'being': 7122,\n         'complemented': 41,\n         'Their': 964,\n         'understandable': 82,\n         'existent': 18,\n         'conditions': 479,\n         'it.': 2425,\n         '50,': 208,\n         'demonic': 159,\n         'need': 3106,\n         'instance,': 763,\n         'central': 1385,\n         '21': 829,\n         'furnish': 68,\n         'legitimatizing': 1,\n         'purposes.': 117,\n         'working': 884,\n         'thinkers': 239,\n         'wished': 304,\n         'blessedness.': 13,\n         'them.': 1912,\n         'dealing': 518,\n         'thereby': 722,\n         'samsaric': 2,\n         'crucifixion': 280,\n         'These': 2991,\n         'works,': 429,\n         'two': 9269,\n         'That': 2587,\n         'reformative': 1,\n         'matter.': 203,\n         'Perhaps': 724,\n         'landscape': 133,\n         'philosophy': 621,\n         'Sufferings': 13,\n         'revered': 111,\n         'goal': 620,\n         'sinfulness': 87,\n         'ultimately': 730,\n         'valuates': 1,\n         '34': 505,\n         'constantly': 369,\n         'Kirchliche': 3,\n         'least': 2794,\n         'shares': 198,\n         'try': 475,\n         '\"through': 35,\n         'begun.': 37,\n         'Konfrontation': 1,\n         'They': 4317,\n         '119;': 31,\n         'functions': 431,\n         'und': 1683,\n         'mand,': 1,\n         'have': 32562,\n         'followed,': 63,\n         'Eternal': 122,\n         'sigh': 21,\n         'mit': 80,\n         'comparative': 243,\n         'ethics,': 183,\n         'toricity,': 1,\n         'dimensionally': 2,\n         'material': 1737,\n         'knows': 673,\n         'taught': 1092,\n         'Lord': 3865,\n         'broken': 337,\n         'all)': 50,\n         'understand': 1931,\n         'likewise': 437,\n         'compare': 342,\n         'International': 542,\n         'Yet': 1292,\n         'radical': 669,\n         \"Christianity's\": 38,\n         'bind': 142,\n         'stems': 97,\n         'aut': 114,\n         'Q': 573,\n         'determining': 156,\n         'thunderstorm,': 1,\n         'world-views': 4,\n         'other': 14579,\n         'worldly': 326,\n         'differently': 154,\n         '(Kyoto': 1,\n         'say:': 245,\n         'should': 8709,\n         'away': 1841,\n         'cording': 38,\n         'necessity': 490,\n         'sacrificial': 204,\n         'them,': 1925,\n         'fortius': 2,\n         'Rokkakudõ': 1,\n         'here,': 761,\n         'discerned': 83,\n         'notion,': 30,\n         'trace': 262,\n         'inspiration': 288,\n         'appears': 1896,\n         'pattern': 615,\n         'simultaneously,': 17,\n         'literal': 625,\n         'judgments': 165,\n         'their': 30193,\n         'dissertation': 274,\n         'des': 1346,\n         'The': 65300,\n         'kingdom': 1443,\n         'give': 2788,\n         'parison': 5,\n         'peace': 1022,\n         'extinguish': 8,\n         'concepts': 407,\n         'enviable': 31,\n         'infallible': 70,\n         'On': 4559,\n         'ones.': 149,\n         'intolerant': 24,\n         'Such': 1341,\n         'virtue': 713,\n         'became': 3013,\n         'something': 2402,\n         'Amida,': 10,\n         'objectified,': 2,\n         'belief,': 138,\n         'love': 4556,\n         'evil.\"13': 1,\n         'phasize': 4,\n         '293.': 26,\n         'mind': 1712,\n         'significant': 1384,\n         'Fritz': 25,\n         'asked': 1084,\n         'self-': 197,\n         'originally': 510,\n         '(to': 260,\n         \"Buddhists'\": 1,\n         'believer,': 62,\n         'formal': 532,\n         'believers': 1200,\n         'division': 342,\n         'Jesuit': 116,\n         'set': 2567,\n         'arisen,': 8,\n         'formulation,': 27,\n         'says,': 1070,\n         'divine': 5063,\n         'justifies': 107,\n         'consequent': 93,\n         'authorities,': 110,\n         'Similarly,': 456,\n         'intolerance,': 12,\n         'In': 24115,\n         ':i6).': 1,\n         'Hõnen': 1,\n         'latter': 1454,\n         'terms': 2402,\n         'manuscripts': 406,\n         'con-': 927,\n         '\"justified': 4,\n         'facing': 205,\n         'own': 9118,\n         'theologia': 27,\n         'answer.': 81,\n         'A': 11391,\n         'known': 2343,\n         'Shizuteru,': 1,\n         'order': 4642,\n         'ethics': 435,\n         'developed': 1182,\n         'ity;': 13,\n         'merit': 308,\n         'comes': 1944,\n         'Luther,': 255,\n         'seen,': 315,\n         'tradition.': 709,\n         'Christ.\"': 76,\n         'great': 4552,\n         'emergence': 205,\n         'lectures': 205,\n         'until': 2364,\n         'regarded': 978,\n         'different.': 102,\n         'acceptance': 462,\n         'each': 4375,\n         'elaboration': 69,\n         'sacrifice,': 144,\n         'Apostels': 16,\n         'destination': 44,\n         'interesting': 1069,\n         '\"justification': 4,\n         'sect.': 47,\n         'state': 2397,\n         'treatise': 448,\n         'giving': 1058,\n         'work.': 723,\n         'sense': 3573,\n         '(E': 4,\n         'kata': 8,\n         'non': 769,\n         'contemplation': 123,\n         'do': 9509,\n         'Suzuki': 9,\n         'reformers.': 15,\n         \"'While\": 4,\n         'within': 6032,\n         'sequence': 274,\n         'lost': 1033,\n         'spiritualists': 2,\n         'cal': 276,\n         '23': 750,\n         'cycle.': 8,\n         'unbelievers,': 12,\n         'However,': 2463,\n         'cultic': 196,\n         'learn': 859,\n         \"Barth's\": 29,\n         'uncertainty': 81,\n         'captivity': 76,\n         'Messiah': 501,\n         ...})"
     },
     "execution_count": 119,
     "metadata": {},
     "output_type": "execute_result"
    }
   ],
   "source": [
    "data_unigrams"
   ],
   "metadata": {
    "collapsed": false
   }
  },
  {
   "cell_type": "markdown",
   "source": [
    "# Generating most frequent ngrams for preprocessing"
   ],
   "metadata": {
    "collapsed": false
   }
  },
  {
   "cell_type": "code",
   "execution_count": 6,
   "outputs": [],
   "source": [
    "#data_unigrams = merge_data_from_ids(ids, unigramCount_dict)\n",
    "#data_bigrams = merge_data_from_ids(ids, bigramCount_dict)\n",
    "data_trigrams = merge_data_from_ids(ids, trigramCount_dict)"
   ],
   "metadata": {
    "collapsed": false
   }
  },
  {
   "cell_type": "code",
   "execution_count": 7,
   "outputs": [
    {
     "data": {
      "text/plain": "9103"
     },
     "execution_count": 7,
     "metadata": {},
     "output_type": "execute_result"
    }
   ],
   "source": [
    "ids2 = [k for k in list(trigramCount_dict.keys()) if k not in ids]\n",
    "len(ids2)"
   ],
   "metadata": {
    "collapsed": false
   }
  },
  {
   "cell_type": "code",
   "execution_count": 9,
   "outputs": [],
   "source": [
    "data_trigrams2 = merge_data_from_ids(ids2, trigramCount_dict)"
   ],
   "metadata": {
    "collapsed": false
   }
  },
  {
   "cell_type": "code",
   "execution_count": 17,
   "outputs": [],
   "source": [
    "del trigramCount_dict"
   ],
   "metadata": {
    "collapsed": false
   }
  },
  {
   "cell_type": "markdown",
   "source": [
    "# Most frequent unigrams to nlp docs"
   ],
   "metadata": {
    "collapsed": false
   }
  },
  {
   "cell_type": "code",
   "execution_count": 121,
   "outputs": [],
   "source": [
    "# load spacy english nlp model & english stopwords...\n",
    "stop_words = nlp_spacy.Defaults.stop_words"
   ],
   "metadata": {
    "collapsed": false
   }
  },
  {
   "cell_type": "code",
   "execution_count": 120,
   "outputs": [
    {
     "data": {
      "text/plain": "[('the', 685375),\n ('of', 469302),\n ('and', 301990),\n ('to', 255776),\n ('in', 236293),\n ('a', 162034),\n ('is', 130518),\n ('that', 128544),\n ('as', 87930),\n ('for', 71446),\n ('The', 65300),\n ('with', 61132),\n ('his', 59222),\n ('by', 56837),\n ('was', 56632),\n ('not', 56560),\n ('be', 51834),\n ('on', 51290),\n ('this', 48676),\n ('he', 46988),\n ('it', 46724),\n ('from', 45904),\n ('are', 39980),\n ('which', 38964),\n ('or', 34802),\n ('have', 32562),\n ('an', 31941),\n ('but', 30530),\n ('their', 30193),\n ('who', 30147),\n ('at', 28609),\n ('they', 26319),\n ('I', 25802),\n ('one', 24324),\n ('In', 24115),\n ('were', 24076),\n ('.', 23377),\n ('has', 23247),\n ('had', 22137),\n ('we', 21984),\n ('all', 21824),\n ('God', 20702),\n ('also', 19900),\n ('its', 18719),\n ('more', 17119),\n ('will', 16627),\n ('been', 16608),\n ('Christian', 16249),\n ('would', 15640),\n ('Paul', 15371),\n ('This', 15191),\n ('these', 15057),\n ('what', 14940),\n ('other', 14579),\n ('only', 14382),\n ('into', 13888),\n ('He', 13273),\n ('so', 13237),\n ('no', 13195),\n ('It', 13091),\n ('than', 13073),\n ('about', 13043),\n ('Jesus', 12611),\n ('can', 12398),\n ('our', 12316),\n ('there', 12220),\n ('when', 12052),\n ('those', 11913),\n ('some', 11821),\n ('you', 11738),\n ('such', 11396),\n ('A', 11391),\n ('between', 11244),\n ('them', 11166),\n ('may', 11032),\n ('first', 10871),\n ('New', 10869),\n ('through', 10624),\n ('For', 10600),\n ('see', 10503),\n ('1', 10338),\n ('if', 10245),\n ('him', 10244),\n ('even', 9621),\n ('do', 9509),\n ('most', 9476),\n ('Christ', 9455),\n ('does', 9383),\n ('two', 9269),\n ('because', 9206),\n ('own', 9118),\n ('both', 8971),\n ('many', 8828),\n ('should', 8709),\n ('could', 8644),\n ('church', 8610),\n ('out', 8494),\n ('Jewish', 8360),\n ('her', 8329),\n ('But', 8252)]"
     },
     "execution_count": 120,
     "metadata": {},
     "output_type": "execute_result"
    }
   ],
   "source": [
    "# check how raw unigrams look like\n",
    "data_unigrams_sorted = sorted(data_unigrams.items(), key=lambda kv: kv[1], reverse=True)\n",
    "data_unigrams_sorted[:100]"
   ],
   "metadata": {
    "collapsed": false
   }
  },
  {
   "cell_type": "code",
   "execution_count": 11,
   "outputs": [
    {
     "data": {
      "text/plain": "9"
     },
     "execution_count": 11,
     "metadata": {},
     "output_type": "execute_result"
    }
   ],
   "source": [
    "# how many of the 100 most frequent unigrams are actually not stopwords?\n",
    "len([el for el in data_unigrams_sorted[:100] if el[0].lower() not in stop_words])"
   ],
   "metadata": {
    "collapsed": false
   }
  },
  {
   "cell_type": "code",
   "execution_count": 12,
   "outputs": [
    {
     "data": {
      "text/plain": "158342"
     },
     "execution_count": 12,
     "metadata": {},
     "output_type": "execute_result"
    }
   ],
   "source": [
    "# what is the number of unigrams appearing more than 10 times?\n",
    "len([el for el in data_unigrams_sorted if el[1] > 10])"
   ],
   "metadata": {
    "collapsed": false
   }
  },
  {
   "cell_type": "code",
   "execution_count": 14,
   "outputs": [
    {
     "name": "stdout",
     "output_type": "stream",
     "text": [
      "CPU times: user 7min 42s, sys: 8.41 s, total: 7min 50s\n",
      "Wall time: 8min 3s\n"
     ]
    }
   ],
   "source": [
    "%%time\n",
    "# use spacy to generate \"Doc\" object for ngram\n",
    "# (use carefully, takes some time)\n",
    "data_unigrams_sorted_nlp = [(el[0], {\"doc\" : nlp(el[0]), \"count\" : el[1]}) for el in data_unigrams_sorted if el[1] > 10]"
   ],
   "metadata": {
    "collapsed": false
   }
  },
  {
   "cell_type": "code",
   "execution_count": 15,
   "outputs": [
    {
     "data": {
      "text/plain": "[('the', {'doc': the, 'count': 3333595}),\n ('of', {'doc': of, 'count': 2261372}),\n ('and', {'doc': and, 'count': 1459413}),\n ('to', {'doc': to, 'count': 1228717}),\n ('in', {'doc': in, 'count': 1151878})]"
     },
     "execution_count": 15,
     "metadata": {},
     "output_type": "execute_result"
    }
   ],
   "source": [
    "data_unigrams_sorted_nlp[:5]"
   ],
   "metadata": {
    "collapsed": false
   }
  },
  {
   "cell_type": "code",
   "execution_count": 16,
   "outputs": [],
   "source": [
    "data_unigrams_nlp_dict = dict(data_unigrams_sorted_nlp)"
   ],
   "metadata": {
    "collapsed": false
   }
  },
  {
   "cell_type": "code",
   "execution_count": 17,
   "outputs": [],
   "source": [
    "# save for future usage\n",
    "with open(\"../data/large_files/data_unigrams_nlp_dict.pickle\", \"wb\") as f:\n",
    "    pickle.dump(data_unigrams_nlp_dict, f)"
   ],
   "metadata": {
    "collapsed": false
   }
  },
  {
   "cell_type": "code",
   "execution_count": 18,
   "outputs": [],
   "source": [
    "# remove middle-step data to save CPU...\n",
    "del data_unigrams\n",
    "del data_unigrams_sorted\n",
    "del data_unigrams_sorted_nlp"
   ],
   "metadata": {
    "collapsed": false
   }
  },
  {
   "cell_type": "markdown",
   "source": [
    "# Trigrams to nlp docs"
   ],
   "metadata": {
    "collapsed": false
   }
  },
  {
   "cell_type": "code",
   "execution_count": 11,
   "outputs": [
    {
     "data": {
      "text/plain": "458444"
     },
     "execution_count": 11,
     "metadata": {},
     "output_type": "execute_result"
    }
   ],
   "source": [
    "data_trigrams_sorted = sorted(data_trigrams.items(), key=lambda kv: kv[1], reverse=True)\n",
    "len([el for el in data_trigrams_sorted if el[1] > 10])"
   ],
   "metadata": {
    "collapsed": false
   }
  },
  {
   "cell_type": "code",
   "execution_count": 26,
   "outputs": [
    {
     "name": "stdout",
     "output_type": "stream",
     "text": [
      "CPU times: user 21min 37s, sys: 33.8 s, total: 22min 11s\n",
      "Wall time: 23min 14s\n"
     ]
    }
   ],
   "source": [
    "%%time\n",
    "data_trigrams_sorted_nlp = [(el[0], {\"doc\" : nlp(el[0]), \"count\" : el[1]}) for el in data_trigrams_sorted if el[1] > 10]"
   ],
   "metadata": {
    "collapsed": false
   }
  },
  {
   "cell_type": "code",
   "execution_count": 16,
   "outputs": [],
   "source": [
    "del data_trigrams_sorted"
   ],
   "metadata": {
    "collapsed": false
   }
  },
  {
   "cell_type": "code",
   "execution_count": 27,
   "outputs": [],
   "source": [
    "data_trigrams_nlp_dict = dict(data_trigrams_sorted_nlp)"
   ],
   "metadata": {
    "collapsed": false
   }
  },
  {
   "cell_type": "code",
   "execution_count": 28,
   "outputs": [],
   "source": [
    "with open(\"../data/large_files/data_trigrams_nlp_dict.pickle\", \"wb\") as f:\n",
    "    pickle.dump(data_trigrams_nlp_dict, f)"
   ],
   "metadata": {
    "collapsed": false
   }
  },
  {
   "cell_type": "markdown",
   "source": [
    "# Second round of merged trigrams nlp preprocessing"
   ],
   "metadata": {
    "collapsed": false
   }
  },
  {
   "cell_type": "code",
   "execution_count": 12,
   "outputs": [
    {
     "data": {
      "text/plain": "46627339"
     },
     "execution_count": 12,
     "metadata": {},
     "output_type": "execute_result"
    }
   ],
   "source": [
    "len(data_trigrams2)"
   ],
   "metadata": {
    "collapsed": false
   }
  },
  {
   "cell_type": "code",
   "execution_count": 42,
   "outputs": [],
   "source": [
    "data_trigrams2 = dict(data_trigrams2)"
   ],
   "metadata": {
    "collapsed": false
   }
  },
  {
   "cell_type": "code",
   "execution_count": 13,
   "outputs": [
    {
     "data": {
      "text/plain": "458444"
     },
     "execution_count": 13,
     "metadata": {},
     "output_type": "execute_result"
    }
   ],
   "source": [
    "keys1 = [el[0] for el in data_trigrams.items() if el[1] > 10]\n",
    "len(keys1)"
   ],
   "metadata": {
    "collapsed": false
   }
  },
  {
   "cell_type": "code",
   "execution_count": 22,
   "outputs": [],
   "source": [
    "del data_trigrams"
   ],
   "metadata": {
    "collapsed": false
   }
  },
  {
   "cell_type": "code",
   "execution_count": 14,
   "outputs": [
    {
     "data": {
      "text/plain": "774574"
     },
     "execution_count": 14,
     "metadata": {},
     "output_type": "execute_result"
    }
   ],
   "source": [
    "keys2 = [el[0] for el in data_trigrams2.items() if el[1] > 10]\n",
    "len(keys2) #  [el[0] for el in data_trigrams2_filtered]"
   ],
   "metadata": {
    "collapsed": false
   }
  },
  {
   "cell_type": "code",
   "execution_count": 15,
   "outputs": [
    {
     "data": {
      "text/plain": "342693"
     },
     "execution_count": 15,
     "metadata": {},
     "output_type": "execute_result"
    }
   ],
   "source": [
    "keys2_filtered = list((set(keys2) ^ set(keys1)) & set(keys2))\n",
    "len(keys2_filtered)"
   ],
   "metadata": {
    "collapsed": false
   }
  },
  {
   "cell_type": "code",
   "execution_count": 31,
   "outputs": [],
   "source": [
    "del nlp"
   ],
   "metadata": {
    "collapsed": false
   }
  },
  {
   "cell_type": "code",
   "execution_count": 32,
   "outputs": [
    {
     "name": "stdout",
     "output_type": "stream",
     "text": [
      "hello\n"
     ]
    }
   ],
   "source": [
    "print(\"hello\")"
   ],
   "metadata": {
    "collapsed": false
   }
  },
  {
   "cell_type": "code",
   "execution_count": 39,
   "outputs": [],
   "source": [
    "pickle.dump(keys2_filtered, open(\"../data/large_files/keys2_filtered.pickle\", \"wb\"))\n",
    "pickle.dump(data_trigrams2, open(\"../data/large_files/data_trigrams2.pickle\", \"wb\"))"
   ],
   "metadata": {
    "collapsed": false
   }
  },
  {
   "cell_type": "code",
   "execution_count": 40,
   "outputs": [
    {
     "data": {
      "text/plain": "46627339"
     },
     "execution_count": 40,
     "metadata": {},
     "output_type": "execute_result"
    }
   ],
   "source": [
    "len(data_trigrams2)"
   ],
   "metadata": {
    "collapsed": false
   }
  },
  {
   "cell_type": "code",
   "execution_count": 43,
   "outputs": [
    {
     "name": "stdout",
     "output_type": "stream",
     "text": [
      "0\n",
      "5000\n",
      "10000\n",
      "15000\n",
      "20000\n",
      "25000\n",
      "30000\n",
      "35000\n",
      "40000\n",
      "45000\n",
      "50000\n",
      "55000\n",
      "60000\n",
      "65000\n",
      "70000\n",
      "75000\n",
      "80000\n",
      "85000\n",
      "90000\n",
      "95000\n",
      "100000\n",
      "105000\n",
      "110000\n",
      "115000\n",
      "120000\n",
      "125000\n",
      "130000\n",
      "135000\n",
      "140000\n",
      "145000\n",
      "150000\n",
      "155000\n",
      "160000\n",
      "165000\n",
      "170000\n",
      "175000\n",
      "180000\n",
      "185000\n",
      "190000\n",
      "195000\n",
      "200000\n",
      "205000\n",
      "210000\n",
      "215000\n",
      "220000\n",
      "225000\n",
      "230000\n",
      "235000\n",
      "240000\n",
      "245000\n",
      "250000\n",
      "255000\n",
      "260000\n",
      "265000\n",
      "270000\n",
      "275000\n",
      "280000\n",
      "285000\n",
      "290000\n",
      "295000\n",
      "300000\n",
      "305000\n",
      "310000\n",
      "315000\n",
      "320000\n",
      "325000\n",
      "330000\n",
      "335000\n",
      "340000\n",
      "CPU times: user 285 ms, sys: 286 ms, total: 572 ms\n",
      "Wall time: 839 ms\n"
     ]
    }
   ],
   "source": [
    "%%time\n",
    "data_trigrams2_filtered = []\n",
    "n = 0\n",
    "for el in keys2_filtered:\n",
    "    if n in range(0, len(keys2_filtered), 5000):\n",
    "        print(n)\n",
    "    n += 1\n",
    "    data_trigrams2_filtered.append((el, data_trigrams2[el]))"
   ],
   "metadata": {
    "collapsed": false
   }
  },
  {
   "cell_type": "code",
   "execution_count": 44,
   "outputs": [
    {
     "data": {
      "text/plain": "342693"
     },
     "execution_count": 44,
     "metadata": {},
     "output_type": "execute_result"
    }
   ],
   "source": [
    "len(data_trigrams2_filtered)"
   ],
   "metadata": {
    "collapsed": false
   }
  },
  {
   "cell_type": "code",
   "execution_count": 46,
   "outputs": [],
   "source": [
    "pickle.dump(data_trigrams2_filtered, open(\"../data/large_files/data_trigrams2_filtered.pickle\", \"wb\"))"
   ],
   "metadata": {
    "collapsed": false
   }
  },
  {
   "cell_type": "code",
   "execution_count": 47,
   "outputs": [],
   "source": [
    "nlp = spacy.load('en_core_web_lg')"
   ],
   "metadata": {
    "collapsed": false
   }
  },
  {
   "cell_type": "code",
   "execution_count": 48,
   "outputs": [
    {
     "name": "stdout",
     "output_type": "stream",
     "text": [
      "0\n",
      "5000\n",
      "10000\n",
      "15000\n",
      "20000\n",
      "25000\n",
      "30000\n",
      "35000\n",
      "40000\n",
      "45000\n",
      "50000\n",
      "55000\n",
      "60000\n",
      "65000\n",
      "70000\n",
      "75000\n",
      "80000\n",
      "85000\n",
      "90000\n",
      "95000\n",
      "100000\n",
      "105000\n",
      "110000\n",
      "115000\n",
      "120000\n",
      "125000\n",
      "130000\n",
      "135000\n",
      "140000\n",
      "145000\n",
      "150000\n",
      "155000\n",
      "160000\n",
      "165000\n",
      "170000\n",
      "175000\n",
      "180000\n",
      "185000\n",
      "190000\n",
      "195000\n",
      "200000\n",
      "205000\n",
      "210000\n",
      "215000\n",
      "220000\n",
      "225000\n",
      "230000\n",
      "235000\n",
      "240000\n",
      "245000\n",
      "250000\n",
      "255000\n",
      "260000\n",
      "265000\n",
      "270000\n",
      "275000\n",
      "280000\n",
      "285000\n",
      "290000\n",
      "295000\n",
      "300000\n",
      "305000\n",
      "310000\n",
      "315000\n",
      "320000\n",
      "325000\n",
      "330000\n",
      "335000\n",
      "340000\n",
      "CPU times: user 14min 25s, sys: 14.3 s, total: 14min 39s\n",
      "Wall time: 14min 44s\n"
     ]
    }
   ],
   "source": [
    "%%time\n",
    "data_trigrams2_nlp_tups = []\n",
    "n = 0\n",
    "for el in data_trigrams2_filtered:\n",
    "    if n in range(0, len(data_trigrams2_filtered), 5000):\n",
    "        print(n)\n",
    "    n += 1\n",
    "    data_trigrams2_nlp_tups.append((el[0], {\"doc\" : nlp(el[0]), \"count\" : el[1]}))"
   ],
   "metadata": {
    "collapsed": false
   }
  },
  {
   "cell_type": "code",
   "execution_count": 49,
   "outputs": [],
   "source": [
    "pickle.dump(dict(data_trigrams2_nlp_tups), open(\"../data/large_files/data_trigrams2_nlp_dict.pickle\", \"wb\"))"
   ],
   "metadata": {
    "collapsed": false
   }
  },
  {
   "cell_type": "code",
   "execution_count": null,
   "outputs": [],
   "source": [],
   "metadata": {
    "collapsed": false
   }
  },
  {
   "cell_type": "code",
   "execution_count": null,
   "outputs": [],
   "source": [],
   "metadata": {
    "collapsed": false
   }
  },
  {
   "cell_type": "code",
   "execution_count": null,
   "outputs": [],
   "source": [],
   "metadata": {
    "collapsed": false
   }
  }
 ],
 "metadata": {
  "kernelspec": {
   "name": "mops_venv",
   "language": "python",
   "display_name": "mops_venv"
  },
  "language_info": {
   "codemirror_mode": {
    "name": "ipython",
    "version": 2
   },
   "file_extension": ".py",
   "mimetype": "text/x-python",
   "name": "python",
   "nbconvert_exporter": "python",
   "pygments_lexer": "ipython2",
   "version": "2.7.6"
  }
 },
 "nbformat": 4,
 "nbformat_minor": 0
}
