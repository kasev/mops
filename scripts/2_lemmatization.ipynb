{
 "cells": [
  {
   "cell_type": "code",
   "execution_count": 3,
   "metadata": {
    "collapsed": true
   },
   "outputs": [],
   "source": [
    "import pandas as pd\n",
    "import spacy\n",
    "import pickle\n",
    "import random\n",
    "pd.set_option(\"display.max_columns\", None)\n",
    "from collections import Counter\n",
    "import re\n",
    "import google_conf\n",
    "import os\n",
    "import json\n",
    "\n",
    "from nltk.corpus import stopwords"
   ]
  },
  {
   "cell_type": "code",
   "execution_count": 2,
   "outputs": [],
   "source": [
    "mops_data = google_conf.setup(sheet_url=\"https://docs.google.com/spreadsheets/d/1VbCIAJssHKV9hlRTwzVFfm40CGnHesq53KXjv2qy4OM/edit?usp=sharing\", service_account_path=\"../../ServiceAccountsKey.json\")"
   ],
   "metadata": {
    "collapsed": false
   }
  },
  {
   "cell_type": "code",
   "execution_count": 71,
   "outputs": [],
   "source": [
    "nlp_spacy = spacy.load('en_core_web_lg') # python -m spacy download en_core_web_lg"
   ],
   "metadata": {
    "collapsed": false
   }
  },
  {
   "cell_type": "code",
   "execution_count": 4,
   "outputs": [],
   "source": [
    "tags = [\"NOUN\", \"ADJ\", \"VERB\", \"PROPN\"]"
   ],
   "metadata": {
    "collapsed": false
   }
  },
  {
   "cell_type": "code",
   "execution_count": 5,
   "outputs": [],
   "source": [
    "trigramCount_dict = pickle.load(open(\"../data/large_files/trigramCount_dict.pickle\", \"rb\"))"
   ],
   "metadata": {
    "collapsed": false
   }
  },
  {
   "cell_type": "code",
   "execution_count": 6,
   "outputs": [],
   "source": [
    "stops = set(stopwords.words('english'))"
   ],
   "metadata": {
    "collapsed": false
   }
  },
  {
   "cell_type": "code",
   "execution_count": 7,
   "outputs": [
    {
     "data": {
      "text/plain": "'Word'"
     },
     "execution_count": 7,
     "metadata": {},
     "output_type": "execute_result"
    }
   ],
   "source": [
    "def clean_filter(string):\n",
    "    string = [re.sub(\"\\W+|\\d+|\\_\", \"\", w) for w in string.split()]\n",
    "    string = \" \".join([w for w in string if w not in stops])\n",
    "    return string\n",
    "clean_filter(\"the _Word1. \")"
   ],
   "metadata": {
    "collapsed": false
   }
  },
  {
   "cell_type": "code",
   "execution_count": 8,
   "outputs": [],
   "source": [
    "def filter_dict(mydict):\n",
    "    mycounter = Counter()\n",
    "    for item in mydict.items():#, key=lambda kv: kv[1], reverse=True))\n",
    "        string = clean_filter(item[0])\n",
    "        string = \" \".join([w for w in string.split() if w not in stops])\n",
    "        if (len(string) > 1) & (len(string.split()) > 1):\n",
    "            mycounter.update({string : item[1]})\n",
    "    return mycounter"
   ],
   "metadata": {
    "collapsed": false
   }
  },
  {
   "cell_type": "code",
   "execution_count": 22,
   "outputs": [
    {
     "data": {
      "text/plain": "7150"
     },
     "execution_count": 22,
     "metadata": {},
     "output_type": "execute_result"
    }
   ],
   "source": [
    "id = 0\n",
    "ngram_dict = trigramCount_dict[id]\n",
    "len(ngram_dict)"
   ],
   "metadata": {
    "collapsed": false
   }
  },
  {
   "cell_type": "code",
   "execution_count": null,
   "outputs": [],
   "source": [
    "\"please, the name the tasks and better way than supine acceptance\""
   ],
   "metadata": {
    "collapsed": false
   }
  },
  {
   "cell_type": "code",
   "execution_count": 23,
   "outputs": [
    {
     "data": {
      "text/plain": "{'H. F. MATHEWS,': 1,\n 'of Jesus. For': 1,\n 'through life’s vicissitudes': 1,\n 'their preparations the': 1,\n 'age of twelve': 1,\n 'in death, man': 1,\n 'ambition or uncleanness.': 1,\n 'then, your lord': 1,\n 'HEPBURN, B.D., CRIEFF': 1,\n 'knotty points of': 1,\n 'not so easy': 1,\n 'His acts of': 1,\n 'the story is': 2,\n 'Him was composed': 1,\n 'thing to do.': 1,\n 'Dr. Hunter points': 1,\n 'the Somme recently': 1,\n 'consequences. This obedience': 1,\n 'down into human': 1,\n 'fields and in': 1,\n 'allowed to take': 1,\n 'and speaker, Sir': 1,\n 'heard of the': 1,\n 'ROBERT BROWN, B.A.,': 1,\n 'supernatural Kingdom will': 1,\n 'sentry at his': 1,\n 'shared this truth.': 1,\n 'This is God’s': 1,\n 'twenty and went': 1,\n 'nor take away.': 1,\n 'frightening world. How': 1,\n 'world in which': 1,\n 'me clean.’ And,': 1,\n 'Jesus, react positively': 1,\n 'a convenient moment,': 1,\n 'is generous, the': 1,\n 'for avoiding moral': 1,\n 'is what Calvary': 1,\n 'in that we,': 1,\n 'pain and sin': 1,\n 'the more sure': 1,\n 'is compounded of': 1,\n 'this confusion of': 1,\n 'so. So long': 1,\n 'would set its': 1,\n 'nothing covered, that': 2,\n 'at the risk': 1,\n 'the Psalms which': 1,\n 'Room, in this': 1,\n 'the bridges at': 1,\n 'years that have': 1,\n 'He gave to': 1,\n 'If the ruling': 1,\n 'up. Out of': 1,\n 'we did not': 1,\n 'to receive the': 1,\n 'history proved it.': 1,\n 'which should be': 1,\n 'and courage, too.': 1,\n 'war never achieves': 1,\n 'we prefer our': 1,\n 'to the ordinary': 1,\n 'about the space': 1,\n 'during the testing': 1,\n 'Archbishop Temple had': 1,\n 'which is going': 1,\n 'War Memorial of': 1,\n 'inexpressible anguish of': 1,\n 'been a perpetual': 1,\n 'God, it is': 1,\n 'destiny. ’ Goodness,': 1,\n 'awesome, and no': 1,\n 'normal, sinful man': 1,\n 'only when God': 1,\n 'things are going': 1,\n 'our ideas of': 1,\n 'Macbeth, Professor Bradley': 1,\n 'your minister, in': 1,\n 'the futility of': 1,\n 'figures would shatter': 1,\n 'operation of God’s': 1,\n 'war ’ but': 1,\n 'If thou wilt,': 1,\n 'might be realized.': 1,\n 'brings in the': 1,\n 'such an exposure': 1,\n 'not be wise,': 1,\n 'God. For the': 1,\n 'God this day': 1,\n 'All right. Have': 1,\n 'the tunnel under': 1,\n 'challenged to show': 1,\n 'by enthusiasts. Stephenson': 1,\n 'and man, then,': 1,\n 'faith shaken, outlook': 1,\n 'something cheap is': 1,\n 'world events, but': 1,\n 'broken during the': 1,\n 'in the saving': 1,\n 'planting in the': 1,\n 'half inches, the': 1,\n 'it; but he': 1,\n 'don’t travel by': 1,\n 'inevitably defeat His': 1,\n 'to the question,’': 1,\n 'it all in,': 1,\n 'of men, never': 1,\n 'freed from every': 1,\n 'direct application to': 1,\n 'to, and all': 1,\n 'stock and re-laying': 1,\n 'There was silence': 1,\n ': hence the': 1,\n 'It is comparatively': 1,\n 'be with him': 1,\n 'earth or in': 1,\n 'my wide gauge.’': 1,\n 'sincerely desired. They': 1,\n 'suffer to develop': 1,\n 'learning is to': 1,\n 'is not so': 1,\n 'father in a': 1,\n 'to bear the': 1,\n 'transformed this faith': 1,\n 'painfully precise category.': 1,\n 'been redeemed by': 1,\n 'But since the': 1,\n 'there was one': 1,\n 'of the scrutiny': 1,\n 'some such way,': 1,\n 'joyous aspect of': 1,\n 'Washing the disc.iples’': 1,\n ': and then': 1,\n 'come, who both': 1,\n 'living memory has': 1,\n 'would know exactly': 1,\n 'SMALL, O.B.E., D.D.,': 1,\n 'and committal to': 1,\n 'wise man, which': 1,\n 'how much longer': 1,\n 'It is a': 1,\n 'moral teaching of': 2,\n 'will is accomplished.': 1,\n 'it. John believed': 1,\n 'until the first': 1,\n 'It was the': 1,\n 'we fight, often': 1,\n 'I’m not bothered': 1,\n 'will of unquenchable': 1,\n 'many homes were': 1,\n 'perhaps you were': 1,\n 'then suffered. This': 1,\n 'it. But something': 1,\n 'man can no': 1,\n 'borders, to much-needed': 1,\n 'and will make': 1,\n 'never become straight': 1,\n 'This is what': 1,\n 'pointing to the': 1,\n 'no more I': 1,\n 'have been called': 1,\n 'way of regarding': 1,\n 'was human, His': 1,\n 'built. If you': 1,\n 'the Master-Craftsman ?': 1,\n 'omnipotence ? ’': 1,\n 'But there was': 1,\n 'this way and': 1,\n 'love. This is': 1,\n 'and in whomsoever': 1,\n 'they sincerely desired.': 1,\n 'work and come': 1,\n 'the faith to': 1,\n 'he ran into': 1,\n 'life-span and no': 1,\n 'act of Divine': 1,\n 'eternity. There is': 1,\n 'cannot be expected': 1,\n 'application to men': 1,\n 'great engineers died': 1,\n 'here for the': 1,\n 'VERY REVEREND GEORGE': 1,\n 'live. It is': 1,\n 'of His service.': 1,\n 'the wise men': 1,\n 'is no longer': 1,\n 'this-worldly order of': 1,\n 'cut a large': 1,\n 'Bishop Corson of': 1,\n 'sorts of questions,': 1,\n 'and range of': 1,\n 'of Karl Barth': 1,\n 'I shall stay': 1,\n 'face beautiful with': 1,\n 'God nothing but': 1,\n 'there would have': 2,\n 'converting in the': 1,\n 'be added that': 1,\n 'also ought to': 1,\n 'self-giving service is': 1,\n 'War in the': 1,\n 'has nothing to': 1,\n 'forbidding associa.tions. They': 1,\n 'experience know that': 1,\n 'been easy. Not,': 1,\n 'with metals that': 1,\n 'a realm of': 1,\n 'the meaning of': 1,\n 'multitudes of ’': 1,\n 'remembrance of what': 1,\n 'know that the': 3,\n 'Until that happens': 1,\n 'ours, the lives': 1,\n 'Both were men': 1,\n 'Lord’s Prayer. They': 1,\n 'will disclose themselves': 1,\n 'it is valid': 1,\n 'love I must': 1,\n 'of the this-worldly': 1,\n 'is the character': 1,\n 'made real, convincing': 1,\n 'inconvenient times. For': 1,\n 'then, inevitably, this': 1,\n 'shaken, outlook hopelessly': 1,\n 'after they died,': 1,\n 'climbed and finally': 1,\n 'the patient Canadian': 1,\n 'the radical inwardness': 1,\n 'Robert Stephenson and': 1,\n 'the way in': 1,\n 'the fact that': 1,\n 'speaking ? ’': 1,\n 'learners. T. W.': 1,\n 'your holidays and': 1,\n 'confidence let us': 1,\n 'presents a great': 1,\n 'implicit in life': 1,\n 'times. For instance,': 1,\n 'But if your': 1,\n 'sure that at': 1,\n 'vanity. The normal,': 1,\n 'I speaking ?': 1,\n 'of a bomber': 1,\n 'of his own': 1,\n 'the entire ship’s': 1,\n 'in singing Onward,': 1,\n 'to say, in': 1,\n 'us, how much': 1,\n '’ Ask Much': 1,\n 'advantage of him,': 1,\n 'we own in': 1,\n 'was aware of': 1,\n 'all right ’': 1,\n 'winds up history': 1,\n 'religions is the': 1,\n 'remarked Sir Stephen,': 1,\n 'who still suffer,': 1,\n 'those who were': 1,\n 'was the omnipotence': 2,\n 'burst into the': 1,\n 'to the forces': 1,\n 'remember this, to': 1,\n 'it is in': 1,\n 'of His. The': 1,\n 'for myself an': 1,\n 'be hidden only': 1,\n 'earth, baffled, wondering': 1,\n 'to the uttermost,': 1,\n 'learning anyhow, to': 1,\n 'we do well': 1,\n 'us seek to': 1,\n 'way, and the': 1,\n 'little book entitled': 1,\n 'law courts. Resist': 1,\n 'good and 29': 1,\n 'The ordinary man': 1,\n 'faith, in patience,': 1,\n 'saying, with a': 1,\n 'Lord’s earthly existence.': 1,\n 'in the white': 2,\n 'during the War,': 1,\n 'pride which shuts': 1,\n 'reverent silence our': 1,\n 'be known ’.-Mt': 1,\n 'found himself in': 1,\n 'Cameron Highlanders went': 1,\n 'for their new': 1,\n 'character of God': 1,\n 'death ’. Consider': 1,\n 'a lovely touch': 1,\n 'deaths that were': 1,\n 'The Parable of': 1,\n 'certain basic principles': 1,\n 'bear the burdens': 1,\n 'it says He': 1,\n 'transformed man will': 1,\n 'the number who,': 1,\n 'thou canst make': 1,\n 'later, the low': 1,\n 'six views have': 1,\n 'before going to': 1,\n 'Eventually they agreed': 1,\n 'complaining that war': 1,\n 'the service of': 1,\n 'such faces and': 1,\n 'life where such': 1,\n 'the highest hill.': 1,\n 'action, our Lord': 1,\n 'else. I shall': 1,\n 'Heavenly Father’s intentions.': 1,\n 'this agony. The': 1,\n 'This is the': 3,\n 'evil, between best': 1,\n 'spirit broad awake.': 1,\n 'that some one': 1,\n 'and again warns': 1,\n 'For the word': 1,\n 'by the precious': 1,\n 'the father in': 1,\n 'two thousand years': 1,\n 'that they would': 1,\n 'What chaos there': 1,\n 'that great assize': 1,\n 'obtuseness and sin': 1,\n 'the achievement of': 1,\n 'his own camp,': 1,\n 'has a lovely': 1,\n 'the H on': 1,\n 'unfeeling power that': 1,\n 'killed in Germany': 1,\n 'silence from our': 1,\n 'a transformed man': 1,\n 'and he was': 1,\n 'My railway’s going': 1,\n 'Jesus springs from': 1,\n 'is a new': 1,\n 'present to God': 1,\n 'heareth these sayings': 1,\n 'cannot possibly escape': 1,\n 'the almightiness of': 1,\n 'men, never willing': 1,\n 'who have been': 1,\n 'have no need': 1,\n 'lamp of the': 1,\n 'Just one hundred': 1,\n 'their lives just': 1,\n 'a year, ask': 1,\n 'is a struggle': 1,\n 'is His. In': 1,\n 'is crystal clear': 1,\n 'fear-none of these': 1,\n 'and of death': 1,\n 'debtors.’Mt 61a. Bishop': 1,\n 'and old alike,': 1,\n 'first the austere': 1,\n 'God and man,': 1,\n 'show yourself a': 1,\n 'George was meeting': 1,\n 'excellence, some earnest': 1,\n 'He appealed for': 1,\n 'astronomical-the mind cannot': 1,\n 'history ; it': 1,\n 'guaranteed, but the': 1,\n 'wrong to say,': 1,\n 'we vainly imagine': 1,\n 'all depended on': 1,\n 'asking them questions': 1,\n 'died as a': 1,\n 'its force and': 1,\n 'will provoke. All': 1,\n 'prepared to receive': 1,\n 'capacities of sinful': 1,\n 'young and old': 1,\n 'expressed. We stand': 1,\n 'such inconceivable depth,': 1,\n 'decided how wide': 1,\n 'what He says': 1,\n 'A FEW weeks': 1,\n 'minutes in a': 1,\n 'this is a': 1,\n 'whomsoever it is': 1,\n 'way of looking': 1,\n 'and enslaved men': 1,\n 'him, or to': 1,\n 'take for Him': 1,\n 'a short one': 1,\n 'the nerves of': 1,\n 'questions. In fact': 1,\n 'at all ’': 1,\n 'human, His humanity': 1,\n 'their assistance and': 1,\n 'love of Jesus,': 1,\n 'at the cost': 1,\n 'redemption is compounded': 1,\n 'self-regard. If I': 1,\n 'flesh is heir': 1,\n 'War, or amid': 1,\n 'hours at a': 1,\n 'They gave to': 1,\n 'of some dream': 1,\n 'us that there': 1,\n 'those who accept': 1,\n 'and wonderful world,': 1,\n 'earth, it is': 1,\n 'thinks, honestly and': 1,\n '’ Swear not': 1,\n 'THE VERY REVEREND': 1,\n 'life hereafter, for': 1,\n 'be a comfort': 1,\n 'the message of': 1,\n 'are drawn into': 1,\n 'force and can': 1,\n 'suffered. This was': 1,\n 'there, perhaps, nothing': 1,\n 'is quite wrong': 1,\n 'Cornwall for your': 1,\n 'Surely graver words': 1,\n 'so to do,': 1,\n 'a time. If': 1,\n 'changing all the': 1,\n 'man prepared to': 1,\n 'wash one another’s': 1,\n ': ’ Can': 1,\n 'and the praises': 1,\n 'vague, while the': 1,\n 'and death should': 1,\n 'and permanently handicapped': 1,\n 'introduce into it': 1,\n 'shouldn’t say to': 1,\n 'that trespass against': 1,\n 'subtler ways, will': 1,\n 'which he so': 1,\n 're-building all his': 1,\n 'and their history': 1,\n 'simply submit. What': 1,\n 'far as it': 1,\n 'in days gone': 1,\n 'the reaction you': 1,\n 'must yet be': 1,\n 'which is set': 1,\n 'did not see': 1,\n 'we could imagine,': 1,\n 'entitled Design for': 1,\n 'of true thoughts,': 1,\n 'and his need': 1,\n 'The extreme views': 1,\n 'of a platoon': 1,\n 'In his struggle': 1,\n 'which twice in': 1,\n 'final view listed': 1,\n 'Puerisque Any Questions': 1,\n 'to be. This': 1,\n 'its lines. Some': 1,\n 'the omnipotence the': 1,\n 'man liveth unto': 1,\n 'in His way.': 1,\n 'that men felt': 1,\n 'street and enter': 1,\n 'forgiveness and grace': 1,\n 'to stand firm': 1,\n 'They took different': 1,\n 'unless it be': 1,\n 'static ; either': 1,\n 'for him an': 1,\n 'as they were,': 1,\n 'has ’ a': 1,\n 'into that battle': 1,\n '‘ What mean': 1,\n 'men like that': 1,\n 'LEONARD SMALL, O.B.E.,': 1,\n 'the faith. This': 1,\n 'boys and girls': 1,\n 'all the time.': 1,\n 'television that well-known': 1,\n 'God’s love for': 1,\n 'committal to the': 1,\n 'Men by themselves': 1,\n 'it that we': 1,\n '? p Why': 1,\n 'been engaged throughout': 1,\n 'a call to': 1,\n 'the traditional form,': 1,\n 'old, Men by': 1,\n 'this, to ask': 1,\n 'work, he came': 1,\n 'is a thing': 1,\n 'measure life in': 1,\n 'and no more': 1,\n 'a ’ shooting': 1,\n 'answered to their': 1,\n 'and the sight': 1,\n 'for me, revealed': 1,\n 'yet another direction': 1,\n '? Third, we': 1,\n 'Youth Organizations once': 1,\n 'Testament. They and': 1,\n '’ describes God': 1,\n 'are debtor to': 1,\n 'the hidden things': 1,\n 'salutary to stop': 1,\n 'in heaven, with': 1,\n 'as ’ the': 1,\n 'the tickets, so': 1,\n 'as two feet': 1,\n 'the human race': 1,\n 'Jesus and to': 1,\n 'When Jesus suffered': 1,\n 'letter H out': 1,\n 'the Ffestiniog and': 1,\n 'are two situations': 1,\n 'late T. W.': 1,\n 'God’s intentions than': 1,\n 'some hope of': 1,\n 'outwardly in our': 1,\n 'years nearer Eternity': 1,\n 'held that he': 1,\n 'to . one': 1,\n 'circles widen, as': 1,\n 'teaching-a significance missed': 1,\n 'is the only': 3,\n 'of God. Until': 1,\n 'what other men': 1,\n 'reigns. It did': 1,\n 'is, with men': 1,\n 'the only way': 3,\n 'the Son of': 1,\n 'of Jesus springs': 1,\n 'JOHNSTONE JEFFREY D.D.,': 1,\n 'himself in the': 1,\n 'this great and': 1,\n 'were to ask': 1,\n 'and wasn’t that': 1,\n 'of the hearts': 1,\n 'His Son. The': 1,\n 'struggle between good': 1,\n 'down. Here is': 1,\n 'uplifting idea. This': 1,\n 'of water, and': 1,\n 'a line that': 1,\n 'poor, ignorant and': 1,\n 'beyond us but': 1,\n 'you travel by': 1,\n 'their ledger is': 1,\n 'these, ’ There': 1,\n '’ He bore': 1,\n 'please, the name': 1,\n 'the tasks and': 1,\n 'better way than': 1,\n 'supine acceptance. He': 1,\n 'In the wisdom': 1,\n 'In fact he': 1,\n 'in the deaths': 1,\n 'with all the': 1,\n 'ourselves, and the': 1,\n 'our own way.': 1,\n 'correct answer, but': 1,\n 'in our relationships.': 1,\n 'living instrument are': 1,\n 'you were looking': 1,\n 'on B.B.C. television': 1,\n 'mind cannot grasp': 1,\n 'was useless waste.': 1,\n 'strange detail ?': 1,\n 'tasks of peace.': 1,\n 'atheist assents to': 1,\n 'BROWN, B.A., B.D.,': 1,\n 'they began their': 1,\n 'home lessons.’ Well,': 1,\n 'how many provinces': 1,\n 'to the world,': 1,\n 'him and their': 1,\n 'folk saw that,': 1,\n 'not evil ’': 1,\n 'he so remorsefully': 1,\n 'submarine, the men': 1,\n '’, but the': 1,\n 'climax of a': 1,\n 'that follows the': 1,\n 'the shirker who': 1,\n 'this set of': 1,\n 'fairness that the': 1,\n 'to the Lord’s': 1,\n 'be forgiven. TWENTY-THIRD': 1,\n 'Professor Bradley says': 1,\n 'gave to it': 1,\n 'The pattern of': 1,\n 'has to learn': 1,\n 'come to the': 1,\n 'inspired by the': 3,\n 'different railway companies': 1,\n 'well-known writer and': 1,\n 'six different lines': 1,\n 'religion seeks to': 1,\n 'Nor is it': 1,\n 'did in Old': 1,\n 'moral insights of': 1,\n 'as early as': 1,\n 'Time. We are': 1,\n 'of Gethsemane He': 1,\n 'on such a': 1,\n 'there is the': 2,\n '102 ~Hf.l TWENTY-FOURTH': 1,\n 'to be literally': 1,\n 'after it, or': 1,\n 'which millions of': 1,\n 'day do its': 1,\n 'His way. We': 1,\n '24 In the': 1,\n 'the only plans': 1,\n 'the hours of': 1,\n 'God can leave': 1,\n 'of apocalyptic eschatology,': 1,\n 'unattainable ideal which': 1,\n 'come for our': 1,\n 'never achieves anything,': 1,\n 'Whereupon the voice': 1,\n 'Yet the performing': 1,\n 'that God who': 1,\n '’ The name': 1,\n 'are living for': 1,\n 'navvies who were': 1,\n 'obedience. For it': 1,\n 'God strikes a': 1,\n 'Jesus, and man': 1,\n 'to be painfully': 1,\n 'This was his': 1,\n 'back to England': 1,\n 'Brunel followed famous': 1,\n 'your fathers and': 1,\n 'He was presenting': 1,\n 'would come into': 1,\n 'out of cardboard': 1,\n '; either it': 1,\n 'of the radical': 1,\n 'the man involved,': 1,\n 'But because he': 1,\n 'rather than to': 1,\n 'Holy Word. Remembering': 1,\n 'Kilsby tunnel, where': 1,\n 'Germany fighting Germans’.': 1,\n 'of the victors': 1,\n 'grim harvest that': 1,\n 'cannot save ourselves,': 1,\n 'purpose of His': 1,\n 'with a supine': 1,\n 'grateful, and should': 1,\n 'of the reaction': 1,\n 'who laid down': 1,\n 'and Tolstoy expected': 1,\n 'can ultimately succeed': 1,\n 'need for repentance.': 1,\n 'myself juggling intellectually': 1,\n 'take advantage of': 1,\n 'only does it': 1,\n 'true. Praying in': 1,\n 'itself in self-giving': 1,\n 'he is challenged': 1,\n 'two situations in': 1,\n 'to England to': 1,\n 'first secret of': 1,\n 'this reckoning. Our': 1,\n 'will had to': 1,\n 'story is that': 1,\n 'it for it': 1,\n 'killed in action': 1,\n 'of a young': 1,\n 'of one another,': 1,\n 'right. Have you': 1,\n 'clarion call to': 1,\n 'they cried in': 1,\n 'present serious financial': 1,\n 'of Ideals BY': 1,\n 'do to influence': 1,\n 'Year TWENTY-SECOND SUNDAY': 1,\n 'as Jesus did.': 1,\n 'the sea could': 1,\n 'service. In that': 1,\n 'TRINITY The Debt': 1,\n 'of the Two': 1,\n 'universe. The new': 1,\n '’ Good and': 1,\n 'from every hurt': 1,\n 'had come to': 2,\n 'belongs to the': 1,\n 'seek to share': 1,\n 'We need the': 1,\n 'substitute ’ Forgive': 1,\n 'a glad and': 1,\n 'priced For thirty': 1,\n 'conditional clauses. The': 1,\n 'going to the': 1,\n 'days, for instance.': 1,\n 'Richard Niebuhr, who': 1,\n 'Jesus bids us': 1,\n 'the essential disposition': 1,\n 'problems his father': 1,\n 'into personal human': 1,\n '25 shaft, half-full': 1,\n 'find amid all': 1,\n 'engineering of the': 1,\n 'But we are': 1,\n 'if we did': 1,\n 'the problems his': 1,\n 'own way. We': 1,\n '‘ If you': 1,\n 'men cannot resist': 1,\n 'covered will be': 1,\n 'to a power': 1,\n 'also engineers. Both': 1,\n 'interpretation of the': 1,\n 'produced by evil': 1,\n 'he cannot help': 1,\n 'to understand that': 1,\n 'that meant re-building': 1,\n '’ How long': 1,\n 'the Lord come,': 1,\n 'to face persecution,': 1,\n 'exposition. It comes': 1,\n 'moments when many': 1,\n 'the ’ gauge': 1,\n 'death, man must': 1,\n 'their parents keeping': 1,\n 'war- of course': 1,\n 'before her, her': 1,\n 'Ask Much ’.': 1,\n 'a period of': 1,\n 'T. W. Manson,': 1,\n 'be a uniform': 1,\n 'B.A., B.D., BLACKPOOL': 1,\n 'purely on New': 1,\n 'live as Jesus': 1,\n 'in a struggle': 1,\n 'thought. But it': 1,\n 'trucks were to': 1,\n 'in these words.': 1,\n 'much longer will': 1,\n 'the lives of': 2,\n 'hearts on such': 1,\n 'into beingthe Kingdom': 1,\n 'man, and was': 1,\n 'God’s forgiveness declared': 1,\n '’ or these,': 1,\n 'not dwell too': 1,\n 'the Kingdom of': 1,\n 'sanctuary of God,': 1,\n 'much about other': 1,\n 'as narrow in': 1,\n 'of eternity. There': 1,\n 'The Revelation of': 1,\n 'Swear not at': 1,\n 'was concerned therefore': 1,\n 'Stephenson and Isambard': 1,\n 'should never be': 1,\n 'One who holds': 1,\n 'vast the debt': 1,\n 'them into its': 1,\n 'them, really and': 1,\n 'them were as': 1,\n 'you ever been': 1,\n 'all our dead': 1,\n 'platoon of infantry': 1,\n 'their faces to': 1,\n 'trust. In the': 1,\n 'centurion’s son. Look': 1,\n '- :r The': 1,\n 'The looker-on can': 1,\n 'toying with the': 1,\n 'no disparity. He': 1,\n 'It is crystal': 1,\n 'You don’t travel': 1,\n 'sayings-’ Judge nothing': 1,\n 'avoiding moral and': 1,\n 'the Sermon imply': 1,\n 'the emaciated leper': 1,\n 'and apply the': 1,\n 'to enable them': 1,\n 'years ago two': 1,\n 'been said, ’': 1,\n 'the Sermon a': 1,\n 'from the nearest': 1,\n 'looked like extinction,': 1,\n 'is clear that': 1,\n 'a resentful but': 1,\n 'that Upper Rooms': 1,\n 'sang, they shouted,': 1,\n 'Thee (I’ The': 1,\n 'is the outcome': 1,\n 'at Saltash with': 1,\n 'might know that': 2,\n 'desired goal, to': 1,\n 'names on the': 1,\n 'not two thousand': 1,\n 'fool myself juggling': 1,\n 'have come out': 1,\n 'the standards of': 1,\n 'of 31 others-for': 1,\n 'splits the human': 1,\n 'music shut up': 1,\n 'Kingdom will it': 1,\n 'going on all': 1,\n 'once found himself': 1,\n 'of great tribulation-a': 1,\n 'you generously ’.': 1,\n 'laid down their': 1,\n 'of heaven about': 1,\n 'of Him who': 1,\n 'were killed in': 1,\n 'Rooms If I': 1,\n 'truth to which': 1,\n 'that the power': 1,\n 'obvious enough. It': 1,\n 'also evil betrays': 1,\n 'It needs little': 1,\n 'of the problems': 1,\n 'the forgiven would': 1,\n 'the Mount, then,': 1,\n 'the houses, on': 1,\n 'properly in His': 1,\n 'travelled north out': 1,\n 'to absolute obedience': 1,\n 'way. We may': 1,\n 'Fourthly, we stand': 1,\n 'half an hour.’-Rev': 1,\n 'of the mind': 1,\n 'do,’ remarked Sir': 1,\n 'a mischievous schoolboy': 1,\n 'His grace can': 1,\n 'a rock.’-Mt 7’.': 1,\n 'provided you choose': 1,\n 'ye in it.’': 1,\n 'the shouts of': 1,\n 'about this age': 1,\n 'mystery : ’': 1,\n 'symbol and measure': 1,\n 'with obvious fairness': 1,\n 'change the biggest': 1,\n 'the claim of': 1,\n 'in this way': 1,\n 'voice said :': 1,\n '’ Whereupon the': 1,\n 'have elements of': 1,\n 'started the experiments': 1,\n 'can be hidden': 1,\n 'little unresisting Church,': 1,\n 'amid all the': 1,\n 'all, in this': 1,\n 'of Jesus. We': 1,\n 'that he should': 1,\n 'AFTER TRINITY A': 1,\n 'a noble destiny.': 1,\n 'amputated as a': 1,\n 'and master, have': 1,\n 'the New Testament': 1,\n 'altar. Years upon': 1,\n 'is found, and': 1,\n 'cried in a': 1,\n 'to Him in': 1,\n 'prevail because he': 1,\n 'will of God': 1,\n 'Hong-Kong, and His': 1,\n 'to Him was': 1,\n 'the way, to': 1,\n 'figure, each total': 1,\n 'Imperial Rome was': 1,\n 'the gospel of': 1,\n 'have forbidding associations.': 1,\n 'unassailable good. No': 1,\n 'cold, unfeeling power': 1,\n 'religion and morality': 1,\n 'For all it': 1,\n 'grasp them unless': 1,\n 'to happen. If': 1,\n 'as we see': 1,\n 'sorts of difficulties': 1,\n 'more defiant of': 1,\n 'Not only does': 1,\n 'who failed in': 1,\n 'operation on that': 1,\n 'was not of': 1,\n 'Methodist Church tells': 1,\n 'are astronomical-the mind': 1,\n 'to be recognizable.': 1,\n 'and from experience': 1,\n 'first. Would it': 1,\n 'is prophetic, not': 1,\n '’ And how': 1,\n 'than anything we': 1,\n 'after the battle': 1,\n 'if carriages and': 1,\n 'tricky pieces of': 1,\n 'Remembrance Day, bidding': 1,\n 'which they resent.': 1,\n 'in the Ffestiniog': 1,\n 'so that, for': 1,\n 'for the Spirit': 1,\n 'be allowed to': 1,\n 'is the theological': 1,\n 'time, until the': 1,\n '’ meant for': 1,\n 'love. Even now': 1,\n 'tiny church, composed': 1,\n 'in Jesus, and': 1,\n 'on earth. Its': 1,\n 'he takes it': 1,\n 'in the Lord': 1,\n 'by a kind': 1,\n 'up history and': 1,\n 'is always many-sided': 1,\n 'trouble with the': 1,\n '1 ’ A': 1,\n 'as frightening world.': 1,\n '? That time': 1,\n 'a chain of': 1,\n 'and you will': 2,\n 'One thing is': 1,\n '’. Consider first': 1,\n 'our debts, as': 2,\n 'poorly understand, and': 1,\n 'unanimously on the': 1,\n 'God. Until that': 1,\n 'came back to': 1,\n '? All right.': 1,\n 'our trespasses as': 1,\n 'I will not': 1,\n 'M.A., CATHCART, GLASGOW': 1,\n 'that struggle we': 1,\n 'plague-stricken area where': 1,\n 'and to the': 1,\n 'a rocket yourself.’': 1,\n 'things by an': 1,\n 'which have been': 1,\n 'What we have': 1,\n 'to believe in': 1,\n 'things in His': 1,\n 'will strive to': 1,\n 'his own eyes,': 1,\n 'of life is': 1,\n 'new steamers. Both': 1,\n 'is going on': 1,\n 'you see the': 1,\n 'the first step': 1,\n 'keep very exact': 1,\n '’ there was': 1,\n 'Him was misshapen': 1,\n 'sense beyond mere': 1,\n 'the path of': 1,\n 'is truth wheresoever': 1,\n 'meaning of His': 1,\n '’, suffering, afraid': 1,\n 'a savour of': 1,\n 'inwardly to our': 1,\n 'not merely with': 1,\n 'be revealed ;': 2,\n 'rock.’-Mt 7’. Professor': 1,\n 'not ’ or': 1,\n 'A. M. Hunter': 1,\n 'How the circles': 1,\n 'other hand, you': 1,\n 'all it is': 1,\n 'forgive our debtors’.': 1,\n 'the basically real.': 1,\n 'nearest planet to': 1,\n 'The new omnipotence': 1,\n '(;1 . >': 1,\n 'the first Armistice': 1,\n 'a living and': 2,\n 'an eye-lid and': 1,\n 'they, too, are': 1,\n 'to the painfully': 1,\n 'as the criterion': 1,\n 'the Somme at': 1,\n 'Sermon imply that': 1,\n 'in which He': 1,\n 'over Brunel’s famous': 1,\n 'gauge. It took': 1,\n 'comfort to know': 1,\n 'American Methodist Church': 1,\n 'a wealthy home': 1,\n 'are right to': 1,\n 'important person living': 1,\n 'Armistice Day, when': 1,\n 'resentful but a': 1,\n 'Serve your fellow-men': 1,\n 'out of our': 1,\n 'two great spans': 1,\n 'work to the': 1,\n 'men do they': 1,\n 'questions.’-Lk 2~°. A': 1,\n 'workings. Brunel went': 1,\n 'the same againthose': 1,\n 'of God, it': 1,\n 'questions, only not': 1,\n 'in shacks in': 1,\n 'still, and what': 1,\n 'for ninety-six hours': 1,\n 'important things. They': 1,\n 'with what looked': 1,\n 'control and knowledge': 1,\n 'a silence they': 1,\n 'hence make religion': 1,\n ...}"
     },
     "execution_count": 23,
     "metadata": {},
     "output_type": "execute_result"
    }
   ],
   "source": [
    "ngram_dict"
   ],
   "metadata": {
    "collapsed": false
   }
  },
  {
   "cell_type": "code",
   "execution_count": 24,
   "outputs": [
    {
     "name": "stdout",
     "output_type": "stream",
     "text": [
      "CPU times: user 23.7 ms, sys: 1.64 ms, total: 25.3 ms\n",
      "Wall time: 25.6 ms\n"
     ]
    },
    {
     "data": {
      "text/plain": "3165"
     },
     "execution_count": 24,
     "metadata": {},
     "output_type": "execute_result"
    }
   ],
   "source": [
    "%%time\n",
    "ngram_dict_filtered = filter_dict(ngram_dict)\n",
    "len(ngram_dict_filtered)"
   ],
   "metadata": {
    "collapsed": false
   }
  },
  {
   "cell_type": "code",
   "execution_count": 25,
   "outputs": [
    {
     "data": {
      "text/plain": "Counter({'H F MATHEWS': 1,\n         'Jesus For': 2,\n         'lifes vicissitudes': 2,\n         'age twelve': 1,\n         'death man': 1,\n         'ambition uncleanness': 1,\n         'HEPBURN BD CRIEFF': 1,\n         'knotty points': 2,\n         'His acts': 2,\n         'Him composed': 1,\n         'Dr Hunter points': 1,\n         'Somme recently': 2,\n         'consequences This obedience': 1,\n         'allowed take': 1,\n         'speaker Sir': 1,\n         'ROBERT BROWN BA': 1,\n         'supernatural Kingdom': 2,\n         'shared truth': 1,\n         'This Gods': 1,\n         'twenty went': 1,\n         'take away': 1,\n         'frightening world How': 1,\n         'clean And': 1,\n         'Jesus react positively': 1,\n         'convenient moment': 1,\n         'avoiding moral': 2,\n         'pain sin': 1,\n         'So long': 2,\n         'would set': 2,\n         'nothing covered': 4,\n         'He gave': 1,\n         'If ruling': 1,\n         'history proved': 2,\n         'war never achieves': 1,\n         'Archbishop Temple': 1,\n         'War Memorial': 2,\n         'inexpressible anguish': 2,\n         'destiny Goodness': 1,\n         'normal sinful man': 1,\n         'things going': 1,\n         'Macbeth Professor Bradley': 1,\n         'figures would shatter': 1,\n         'operation Gods': 1,\n         'If thou wilt': 1,\n         'might realized': 1,\n         'God For': 2,\n         'God day': 1,\n         'All right Have': 1,\n         'challenged show': 1,\n         'enthusiasts Stephenson': 1,\n         'faith shaken outlook': 1,\n         'something cheap': 2,\n         'world events': 2,\n         'half inches': 3,\n         'dont travel': 1,\n         'inevitably defeat His': 1,\n         'men never': 1,\n         'freed every': 1,\n         'direct application': 1,\n         'stock relaying': 1,\n         'There silence': 1,\n         'It comparatively': 1,\n         'wide gauge': 1,\n         'sincerely desired They': 1,\n         'suffer develop': 1,\n         'transformed faith': 1,\n         'painfully precise category': 1,\n         'But since': 1,\n         'joyous aspect': 2,\n         'Washing disciples': 1,\n         'living memory': 2,\n         'would know exactly': 1,\n         'SMALL OBE DD': 1,\n         'wise man': 2,\n         'much longer': 2,\n         'moral teaching': 4,\n         'John believed': 2,\n         'fight often': 1,\n         'Im bothered': 1,\n         'many homes': 1,\n         'suffered This': 2,\n         'But something': 2,\n         'borders muchneeded': 1,\n         'never become straight': 1,\n         'way regarding': 1,\n         'human His': 1,\n         'built If': 2,\n         'love This': 1,\n         'sincerely desired': 1,\n         'work come': 1,\n         'act Divine': 1,\n         'eternity There': 2,\n         'cannot expected': 1,\n         'application men': 1,\n         'great engineers died': 1,\n         'VERY REVEREND GEORGE': 1,\n         'live It': 1,\n         'His service': 1,\n         'wise men': 2,\n         'thisworldly order': 2,\n         'cut large': 1,\n         'Bishop Corson': 2,\n         'sorts questions': 2,\n         'Karl Barth': 2,\n         'I shall stay': 1,\n         'face beautiful': 1,\n         'God nothing': 2,\n         'also ought': 1,\n         'selfgiving service': 2,\n         'forbidding associations They': 1,\n         'experience know': 2,\n         'easy Not': 2,\n         'Until happens': 1,\n         'Both men': 1,\n         'Lords Prayer They': 1,\n         'love I must': 1,\n         'made real convincing': 1,\n         'inconvenient times For': 1,\n         'shaken outlook hopelessly': 1,\n         'climbed finally': 1,\n         'patient Canadian': 1,\n         'radical inwardness': 2,\n         'Robert Stephenson': 2,\n         'learners T W': 1,\n         'confidence let us': 1,\n         'presents great': 1,\n         'implicit life': 1,\n         'times For instance': 1,\n         'vanity The normal': 1,\n         'I speaking': 2,\n         'entire ships': 1,\n         'singing Onward': 1,\n         'us much': 1,\n         'Ask Much': 2,\n         'winds history': 1,\n         'remarked Sir Stephen': 1,\n         'still suffer': 2,\n         'His The': 1,\n         'earth baffled wondering': 1,\n         'learning anyhow': 2,\n         'us seek': 1,\n         'little book entitled': 1,\n         'law courts Resist': 1,\n         'The ordinary man': 1,\n         'faith patience': 1,\n         'Lords earthly existence': 1,\n         'pride shuts': 1,\n         'reverent silence': 7,\n         'known Mt': 1,\n         'Cameron Highlanders went': 1,\n         'character God': 1,\n         'death Consider': 1,\n         'lovely touch': 2,\n         'The Parable': 1,\n         'certain basic principles': 1,\n         'bear burdens': 1,\n         'says He': 2,\n         'transformed man': 2,\n         'thou canst make': 1,\n         'later low': 1,\n         'six views': 2,\n         'Eventually agreed': 1,\n         'complaining war': 1,\n         'highest hill': 1,\n         'action Lord': 1,\n         'else I shall': 1,\n         'Heavenly Fathers intentions': 1,\n         'agony The': 1,\n         'evil best': 1,\n         'spirit broad awake': 1,\n         'For word': 1,\n         'two thousand years': 1,\n         'What chaos': 1,\n         'great assize': 2,\n         'obtuseness sin': 1,\n         'unfeeling power': 1,\n         'killed Germany': 1,\n         'My railways going': 1,\n         'Jesus springs': 2,\n         'present God': 1,\n         'heareth sayings': 1,\n         'cannot possibly escape': 1,\n         'men never willing': 1,\n         'Just one hundred': 1,\n         'year ask': 2,\n         'His In': 1,\n         'crystal clear': 2,\n         'debtorsMt Bishop': 1,\n         'old alike': 1,\n         'first austere': 1,\n         'God man': 1,\n         'George meeting': 1,\n         'excellence earnest': 1,\n         'He appealed': 1,\n         'astronomicalthe mind cannot': 1,\n         'wrong say': 1,\n         'vainly imagine': 2,\n         'asking questions': 3,\n         'provoke All': 2,\n         'prepared receive': 1,\n         'capacities sinful': 1,\n         'young old': 2,\n         'expressed We stand': 1,\n         'inconceivable depth': 1,\n         'decided wide': 1,\n         'He says': 2,\n         'A FEW weeks': 1,\n         'way looking': 1,\n         'enslaved men': 2,\n         'take Him': 1,\n         'short one': 1,\n         'questions In fact': 1,\n         'human His humanity': 1,\n         'love Jesus': 1,\n         'redemption compounded': 1,\n         'selfregard If I': 1,\n         'flesh heir': 1,\n         'War amid': 1,\n         'They gave': 1,\n         'wonderful world': 1,\n         'thinks honestly': 1,\n         'THE VERY REVEREND': 1,\n         'life hereafter': 2,\n         'perhaps nothing': 2,\n         'quite wrong': 2,\n         'Surely graver words': 1,\n         'time If': 2,\n         'man prepared': 2,\n         'wash one anothers': 1,\n         'permanently handicapped': 2,\n         'shouldnt say': 2,\n         'subtler ways': 2,\n         'simply submit What': 1,\n         'days gone': 2,\n         'must yet': 2,\n         'could imagine': 1,\n         'entitled Design': 1,\n         'true thoughts': 1,\n         'The extreme views': 1,\n         'In struggle': 2,\n         'final view listed': 1,\n         'Puerisque Any Questions': 1,\n         'lines Some': 2,\n         'man liveth unto': 1,\n         'His way': 1,\n         'men felt': 1,\n         'street enter': 1,\n         'forgiveness grace': 1,\n         'stand firm': 2,\n         'They took different': 1,\n         'static either': 1,\n         'What mean': 1,\n         'men like': 1,\n         'LEONARD SMALL OBE': 1,\n         'faith This': 2,\n         'boys girls': 1,\n         'television wellknown': 1,\n         'Gods love': 2,\n         'p Why': 2,\n         'engaged throughout': 1,\n         'traditional form': 2,\n         'old Men': 2,\n         'work came': 1,\n         'measure life': 2,\n         'yet another direction': 1,\n         'Youth Organizations': 2,\n         'Testament They': 1,\n         'describes God': 2,\n         'hidden things': 2,\n         'salutary stop': 1,\n         'two feet': 2,\n         'human race': 2,\n         'When Jesus suffered': 1,\n         'letter H': 1,\n         'two situations': 2,\n         'late T W': 1,\n         'Gods intentions': 2,\n         'years nearer Eternity': 1,\n         'circles widen': 2,\n         'teachinga significance missed': 1,\n         'God Until': 2,\n         'reigns It': 1,\n         'JOHNSTONE JEFFREY DD': 1,\n         'His Son The': 1,\n         'struggle good': 1,\n         'uplifting idea This': 1,\n         'poor ignorant': 2,\n         'beyond us': 2,\n         'He bore': 2,\n         'please name': 1,\n         'better way': 2,\n         'supine acceptance He': 1,\n         'In wisdom': 1,\n         'In fact': 1,\n         'correct answer': 2,\n         'living instrument': 2,\n         'BBC television': 2,\n         'mind cannot grasp': 1,\n         'useless waste': 1,\n         'strange detail': 2,\n         'tasks peace': 1,\n         'atheist assents': 1,\n         'BROWN BA BD': 1,\n         'home lessons Well': 1,\n         'many provinces': 2,\n         'folk saw': 1,\n         'submarine men': 1,\n         'forgiven TWENTYTHIRD': 1,\n         'Professor Bradley says': 1,\n         'The pattern': 1,\n         'different railway companies': 1,\n         'wellknown writer': 2,\n         'six different lines': 1,\n         'religion seeks': 1,\n         'moral insights': 2,\n         'Time We': 2,\n         'Gethsemane He': 2,\n         'Hfl TWENTYFOURTH': 1,\n         'His way We': 1,\n         'God leave': 1,\n         'apocalyptic eschatology': 2,\n         'unattainable ideal': 2,\n         'never achieves anything': 1,\n         'Whereupon voice': 1,\n         'Yet performing': 1,\n         'The name': 2,\n         'obedience For': 1,\n         'God strikes': 2,\n         'Jesus man': 1,\n         'back England': 1,\n         'Brunel followed famous': 1,\n         'He presenting': 1,\n         'would come': 1,\n         'man involved': 1,\n         'Holy Word Remembering': 1,\n         'Kilsby tunnel': 1,\n         'Germany fighting Germans': 1,\n         'grim harvest': 2,\n         'cannot save': 2,\n         'purpose His': 1,\n         'Tolstoy expected': 2,\n         'ultimately succeed': 2,\n         'need repentance': 1,\n         'juggling intellectually': 2,\n         'take advantage': 2,\n         'true Praying': 2,\n         'first secret': 2,\n         'reckoning Our': 1,\n         'killed action': 1,\n         'one another': 2,\n         'right Have': 1,\n         'clarion call': 2,\n         'present serious financial': 1,\n         'Ideals BY': 1,\n         'Year TWENTYSECOND SUNDAY': 1,\n         'sea could': 2,\n         'service In': 2,\n         'TRINITY The Debt': 1,\n         'universe The new': 1,\n         'every hurt': 2,\n         'seek share': 1,\n         'We need': 3,\n         'substitute Forgive': 1,\n         'priced For thirty': 1,\n         'conditional clauses The': 1,\n         'days instance': 1,\n         'Richard Niebuhr': 1,\n         'Jesus bids us': 1,\n         'essential disposition': 2,\n         'problems father': 1,\n         'personal human': 1,\n         'shaft halffull': 2,\n         'find amid': 2,\n         'way We': 1,\n         'men cannot resist': 1,\n         'also engineers Both': 1,\n         'produced evil': 1,\n         'cannot help': 2,\n         'meant rebuilding': 2,\n         'How long': 2,\n         'Lord come': 2,\n         'face persecution': 1,\n         'exposition It comes': 1,\n         'moments many': 1,\n         'death man must': 1,\n         'parents keeping': 2,\n         'war course': 1,\n         'T W Manson': 2,\n         'BA BD BLACKPOOL': 1,\n         'purely New': 1,\n         'live Jesus': 1,\n         'thought But': 1,\n         'beingthe Kingdom': 2,\n         'Gods forgiveness declared': 1,\n         'sanctuary God': 1,\n         'The Revelation': 1,\n         'concerned therefore': 2,\n         'Stephenson Isambard': 1,\n         'One holds': 1,\n         'vast debt': 1,\n         'platoon infantry': 1,\n         'trust In': 2,\n         'centurions son Look': 1,\n         'r The': 1,\n         'The lookeron': 1,\n         'disparity He': 2,\n         'It crystal': 1,\n         'You dont travel': 1,\n         'sayings Judge nothing': 1,\n         'Sermon imply': 2,\n         'emaciated leper': 2,\n         'years ago two': 1,\n         'looked like extinction': 1,\n         'Upper Rooms': 1,\n         'sang shouted': 1,\n         'Thee I The': 1,\n         'might know': 3,\n         'desired goal': 2,\n         'two thousand': 1,\n         'fool juggling': 1,\n         'splits human': 1,\n         'music shut': 1,\n         'great tribulationa': 1,\n         'Rooms If I': 1,\n         'obvious enough It': 1,\n         'also evil betrays': 1,\n         'It needs little': 1,\n         'forgiven would': 2,\n         'properly His': 1,\n         'travelled north': 1,\n         'absolute obedience': 2,\n         'way We may': 1,\n         'Fourthly stand': 1,\n         'half hourRev': 1,\n         'remarked Sir': 1,\n         'mischievous schoolboy': 1,\n         'His grace': 2,\n         'provided choose': 1,\n         'symbol measure': 1,\n         'obvious fairness': 2,\n         'change biggest': 1,\n         'voice said': 2,\n         'started experiments': 1,\n         'little unresisting Church': 1,\n         'Jesus We': 1,\n         'AFTER TRINITY A': 1,\n         'noble destiny': 2,\n         'New Testament': 6,\n         'altar Years upon': 1,\n         'HongKong His': 1,\n         'figure total': 1,\n         'Imperial Rome': 2,\n         'forbidding associations': 2,\n         'unassailable good No': 1,\n         'cold unfeeling power': 1,\n         'religion morality': 1,\n         'grasp unless': 1,\n         'happen If': 2,\n         'sorts difficulties': 1,\n         'Methodist Church tells': 1,\n         'astronomicalthe mind': 1,\n         'first Would': 1,\n         'tricky pieces': 2,\n         'Remembrance Day bidding': 1,\n         'love Even': 1,\n         'tiny church composed': 1,\n         'earth Its': 1,\n         'always manysided': 2,\n         'frightening world': 1,\n         'That time': 1,\n         'One thing': 3,\n         'Consider first': 2,\n         'poorly understand': 2,\n         'came back': 4,\n         'All right': 1,\n         'MA CATHCART GLASGOW': 1,\n         'plaguestricken area': 2,\n         'things His': 1,\n         'new steamers Both': 1,\n         'first step': 2,\n         'keep exact': 1,\n         'Him misshapen': 1,\n         'sense beyond mere': 1,\n         'truth wheresoever': 2,\n         'meaning His': 1,\n         'suffering afraid': 2,\n         'rockMt Professor': 1,\n         'A M Hunter': 1,\n         'How circles': 1,\n         'forgive debtors': 1,\n         'basically real': 1,\n         'nearest planet': 2,\n         'The new omnipotence': 1,\n         'first Armistice': 1,\n         'Brunels famous': 1,\n         'gauge It took': 1,\n         'comfort know': 1,\n         'American Methodist Church': 1,\n         'wealthy home': 2,\n         'important person living': 1,\n         'Armistice Day': 1,\n         'Serve fellowmen': 1,\n         'two great spans': 1,\n         'questionsLk A': 1,\n         'workings Brunel went': 1,\n         'ninetysix hours': 2,\n         'important things They': 1,\n         'control knowledge': 1,\n         'hence make religion': 1,\n         'imagine Gods allprevailing': 1,\n         'The final view': 1,\n         'I respond': 2,\n         'world neither': 1,\n         'living worldly': 1,\n         'leg amputated': 2,\n         'halffull water': 1,\n         'Look wider still': 1,\n         'people still': 2,\n         'His ministry For': 1,\n         'forming chain': 1,\n         'mark If': 1,\n         'prejudice malice': 1,\n         'see relics': 2,\n         'man purpose': 1,\n         'given Then': 1,\n         'thoroughfare sit': 1,\n         'unheard harmonies': 2,\n         'Governor General': 2,\n         'W Manson happily': 1,\n         'Jesus He': 1,\n         'Harrison whoever': 1,\n         'regret It means': 1,\n         'every one': 2,\n         'would make': 2,\n         'uplifting idea': 1,\n         'Hunter Aberdeen': 1,\n         'intervention The teaching': 1,\n         'possibly escape': 1,\n         'victim inordinate': 1,\n         'No power': 1,\n         'space half': 1,\n         'read Remembrance': 1,\n         'important person': 1,\n         'instance saying': 1,\n         'valuable going': 1,\n         'category It needs': 1,\n         'often read': 2,\n         'spiritual issues': 1,\n         'mind force': 1,\n         'The soul': 2,\n         'human life': 3,\n         'rJO Still': 2,\n         'various philosophies': 2,\n         'revealed Jesus': 1,\n         'real convincing': 1,\n         'first rays': 2,\n         'life seriously would': 1,\n         'finally revealed': 2,\n         'life many': 1,\n         'That time Jesus': 1,\n         'John sound': 1,\n         'us say': 1,\n         'handicap Surely': 2,\n         'word omnipotence': 2,\n         'Remembering diverse': 1,\n         'In He': 1,\n         'God open': 1,\n         'though say': 1,\n         'gauge four': 1,\n         'warped How': 1,\n         'Great Western Railway': 1,\n         'reverent silence imposed': 1,\n         'generous every': 1,\n         'In way': 1,\n         'debtors Eventually': 2,\n         'one telephoned': 2,\n         'fellowmen springing': 2,\n         'years war': 1,\n         'theological approach': 2,\n         'But cut': 1,\n         'secret How': 1,\n         'hopelessly warped How': 1,\n         'one hundred years': 1,\n         'would abdicate': 1,\n         'The diversity': 2,\n         'The late Archbishop': 1,\n         'Mediterranean British': 1,\n         'shoddy sophisticated': 1,\n         'Him reverent': 1,\n         'criticism felt': 1,\n         'mischievous schoolboy climbing': 1,\n         'spirit ordinary folk': 1,\n         'said ask': 1,\n         'Sermon supplies': 2,\n         'surface We': 2,\n         'reigneth How': 1,\n         'busy thoroughfare': 2,\n         'help He': 1,\n         'Truth Way': 1,\n         'wait Until He': 1,\n         'Both Robert': 1,\n         'Stephenson constructedone': 1,\n         'We stick pigheadedly': 1,\n         'bedrock stuff': 2,\n         'active redemptive love': 1,\n         'highwater mark': 1,\n         'exact accounts': 2,\n         'stringency Committee': 1,\n         'long ago': 1,\n         'unquenchable unassailable': 1,\n         'two minutes': 5,\n         'selfish pride': 1,\n         'fellowship remembering': 1,\n         'Upper Room': 2,\n         'Do believe': 1,\n         'room The walls': 1,\n         'know exactly': 2,\n         'His Fathers': 2,\n         'another kind': 1,\n         'Temple says': 1,\n         'Himself much': 1,\n         'Johannes Muller': 2,\n         'revealed It must': 1,\n         'different sides': 1,\n         'inspiring If': 2,\n         'Germans This uneasy': 1,\n         'plain face': 1,\n         'Jesus expressing': 2,\n         'change particularly': 1,\n         'enter certain': 1,\n         'goeth abroad': 2,\n         'always loser': 1,\n         'looking things': 1,\n         'would prefer': 2,\n         'dead desireGod': 1,\n         'intellectually knotty': 1,\n         'longer leave God': 1,\n         'tale complete forget': 1,\n         'back life': 1,\n         'ask fathers': 1,\n         'share experience': 1,\n         'God The': 1,\n         'lie us': 1,\n         'beyond mere intellectualism': 1,\n         'His life All': 1,\n         'It comes': 1,\n         'one survivor Look': 1,\n         'Brunel went': 1,\n         'objects His': 1,\n         'pictures For': 1,\n         'exactly job': 1,\n         'reverent humble': 1,\n         'His Son': 1,\n         'seek apply': 1,\n         'new terrible': 1,\n         'react positively': 1,\n         'deep sense': 2,\n         'exposure We need': 1,\n         'body So': 2,\n         'books Contemplating': 2,\n         'defiant Gods': 1,\n         'locos rolling': 1,\n         'duty let': 1,\n         'time strange': 1,\n         'New Testament textual': 1,\n         'long sinful': 1,\n         'eternal fellowship This': 1,\n         'evil keep': 2,\n         'reigneth Hfl': 1,\n         'time including': 2,\n         'Ward Committee': 2,\n         'final appraisal': 2,\n         'criterion morality': 1,\n         'may fool': 1,\n         'last first Would': 1,\n         'might quite well': 1,\n         'resolution In': 1,\n         'purification It': 2,\n         'took long': 1,\n         'grasp It': 1,\n         'British cruiser': 1,\n         'duty How': 1,\n         'wasteful needless': 2,\n         'shall every': 1,\n         'us hangs': 1,\n         'looked like': 1,\n         'aweinspiring A': 1,\n         'clearly I': 1,\n         'Mt ioae There': 1,\n         'He sitting': 1,\n         'things They': 1,\n         'picture life': 1,\n         'fight Brunel': 2,\n         'clasped wrinkles': 1,\n         'dquo I say': 1,\n         'long earnestly': 1,\n         'outwards lay': 1,\n         'every age': 1,\n         'occasion river': 1,\n         'lightyears takes': 1,\n         'life disclose': 1,\n         'gaze Him': 1,\n         'walk ye': 1,\n         'Worship entrusted': 2,\n         'Jl No': 1,\n         'theology I': 1,\n         'prejudice malice hatred': 1,\n         'challenge us': 1,\n         'pay One': 1,\n         'He would abdicate': 1,\n         'often without knowing': 1,\n         'simple fact': 1,\n         'living God I': 1,\n         'river burst': 2,\n         'need think': 1,\n         'hide Wherever': 2,\n         'trespasses rather': 1,\n         'looking round': 2,\n         'eye generous': 1,\n         'set aside': 2,\n         'silently reckon': 2,\n         'dim clear': 1,\n         'underlying truth': 2,\n         'There two': 2,\n         'The habit': 2,\n         'What splits': 1,\n         'obedience His': 1,\n         'probably get': 1,\n         'best second': 1,\n         'relationships If': 2,\n         'querulous complaining': 2,\n         'universe Because': 1,\n         'crisis immediate': 1,\n         'promptly given': 1,\n         'self Surely': 1,\n         'one typical': 1,\n         'universe The': 1,\n         'Sir Stephen': 1,\n         'hurriedlyerected camp': 1,\n         'agony The situation': 1,\n         'souls We': 2,\n         'MasterCraftsman Third': 1,\n         'Although He': 2,\n         'great unveiling O': 1,\n         'led believe': 1,\n         'When roll': 1,\n         'camps ideologies blocs': 1,\n         'vibrate along': 2,\n         'calculability evil': 1,\n         'worry much': 1,\n         'man whose': 1,\n         'circumstances arise': 1,\n         'earthly existence Washing': 1,\n         'earth Its tone': 1,\n         'Im right': 1,\n         'saw parents': 1,\n         'Again patient': 1,\n         'priced For': 1,\n         'And mark': 1,\n         'total personal': 1,\n         'one day': 2,\n         'Barclay tells us': 1,\n         'children including': 2,\n         'mind We': 2,\n         'Well go': 2,\n         'good causes': 2,\n         'must form': 1,\n         'ask sometimes': 2,\n         'turn half': 1,\n         'course world': 1,\n         'reminds us': 1,\n         'give please': 1,\n         'inconvenient times': 1,\n         'straight honest': 1,\n         'earth baffled': 1,\n         'goes whatever': 2,\n         'cost like': 2,\n         'Jesus Christ When': 1,\n         'bom unshadowed': 1,\n         'living godless': 1,\n         'ask one': 1,\n         'writer presents': 2,\n         'Free I': 1,\n         'Christian Year TWENTYSECOND': 1,\n         'arise inevitably': 1,\n         'great picture': 2,\n         'set lines': 1,\n         'punctures deftly': 1,\n         'moments He': 1,\n         'forgiven TWENTYTHIRD SUNDAY': 1,\n         'task revising': 1,\n         'service God': 1,\n         'happens Genuine concern': 1,\n         'gauges At': 1,\n         'man involved thinking': 1,\n         'trifling debt': 2,\n         'The Lord': 2,\n         'little exposition It': 1,\n         'must simply submit': 1,\n         'leave great': 1,\n         'poppies bring': 2,\n         'meaningless muddle': 2,\n         'mean ye': 1,\n         'illumined But': 2,\n         'He entering': 1,\n         'seedavarice ambition': 1,\n         'clear understanding': 2,\n         'mans control': 1,\n         'dramatic action': 2,\n         'BD CRIEFF': 1,\n         'Talyllyn railways': 2,\n         'isi calculability': 2,\n         'us live': 1,\n         'lad accidentally': 1,\n         'Higher Service': 2,\n         'It puts': 1,\n         'patient Canadian official': 1,\n         'leave God': 1,\n         'world Every situation': 1,\n         'whole heredity': 2,\n         'GEORGE JOHNSTONE JEFFREY': 1,\n         'thoughts like ceaseless': 1,\n         'face persecution danger': 1,\n         'London asked': 1,\n         'shipbuilders use': 1,\n         'see mercy': 1,\n         'possible life': 1,\n         'two great': 2,\n         'John proclaimed': 2,\n         'almightiness God': 1,\n         'redeemed God': 1,\n         'fathers religion': 1,\n         'tea room The': 1,\n         'American Methodist': 1,\n         'whose inner life': 1,\n         'seventyfive survivors': 2,\n         'His grasp': 2,\n         'cruiser got': 1,\n         'textual criticism felt': 1,\n         'Sermon new': 1,\n         'lost frightened': 1,\n         'savour life': 1,\n         'doeth I': 1,\n         'said My': 1,\n         'silence imposed': 1,\n         'truth break': 1,\n         'twentieth century': 1,\n         'selfcentred universe Because': 1,\n         'view also': 1,\n         'diverse lines': 2,\n         'Christian puts': 2,\n         'go Cornwall': 1,\n         'Christ Let us': 1,\n         'stop silently': 1,\n         'William Barclay tells': 1,\n         'testing years': 2,\n         'Jesus If thou': 1,\n         'omnipotence God': 1,\n         'proper dues': 1,\n         'Shakespeare felt': 1,\n         'What must': 2,\n         'uniform gauge': 1,\n         'delayed action effect': 1,\n         'Father hes': 1,\n         'something happened': 1,\n         'wounded maimed': 2,\n         'came existence': 1,\n         'evil seedavarice': 1,\n         'sense need': 1,\n         'John transformed': 1,\n         'reverent humble remembrance': 1,\n         'gathereth iniquity': 1,\n         'God regardless': 2,\n         'evil written': 2,\n         'glorious refutation': 2,\n         'form prayer': 1,\n         'enjoy freedom': 1,\n         'Church encircled': 1,\n         'carriages trucks': 1,\n         'ignorance obtuseness': 1,\n         'terrible occasion': 1,\n         'question What': 2,\n         'He showed us': 1,\n         'prayer crying': 2,\n         'basically real What': 1,\n         'feet eight': 2,\n         'Said Jesus': 2,\n         'time It': 2,\n         'fear sudden': 1,\n         'AFTER TRINITY The': 2,\n         'report work': 1,\n         'rolling stock': 2,\n         'concern rooted': 1,\n         'TWENTYFOURTH SUNDAY AFTER': 1,\n         'sinful men': 2,\n         'room passengers': 1,\n         'God His Kingdom': 1,\n         'sick man': 2,\n         'girls saw': 2,\n         'duties lie': 1,\n         'takes life seriously': 1,\n         'spirit ordinary': 1,\n         'false valuations': 2,\n         'universe stuff': 1,\n         'Judas sold Himself': 1,\n         'He uncertain': 1,\n         'immediate judgment': 2,\n         'figures would': 1,\n         'natural tribute': 2,\n         'get wrought': 1,\n         'house upon': 2,\n         'M Hunter': 1,\n         'Day bidding us': 1,\n         'wide apart': 2,\n         'researches purely': 2,\n         'temptingly easy': 1,\n         'important thing': 2,\n         'Lord God': 2,\n         'smite us': 2,\n         'fact said': 1,\n         'new society would': 1,\n         'blessed life': 1,\n         'selfregard If': 1,\n         'struggle virtue': 1,\n         'Thee I': 1,\n         'takes light': 1,\n         'peril First': 1,\n         'life selfdeception': 1,\n         'misunderstanding The ordinary': 1,\n         'uniform saying': 1,\n         'life within': 2,\n         'perverted mans': 1,\n         'instance shouldnt': 1,\n         'Christian man': 2,\n         'feet even': 1,\n         'Gods allprevailing power': 1,\n         'liar God plans': 1,\n         'hands clasped': 2,\n         'wisdom God': 1,\n         'feet ye': 1,\n         'next Itdquo': 1,\n         'ought wash': 1,\n         'generously Nor': 1,\n         'break forth': 2,\n         'sun rising': 2,\n         'broad awake A': 1,\n         'vicissitudes bring': 1,\n         'unguarded moments He': 1,\n         'man living': 1,\n         'great victory': 1,\n         'many look': 1,\n         'fellowship This': 1,\n         'power forgiveness': 2,\n         'yet lays': 1,\n         'When slaves': 1,\n         'emotion But I': 1,\n         'Mt belongs': 1,\n         'open New': 1,\n         'His heart gathereth': 1,\n         'could run trains': 1,\n         'going well': 2,\n         'building tunnel': 1,\n         'Cross The fifth': 1,\n         'went South': 1,\n         'hearta conversion What': 1,\n         'death stand': 1,\n         'Any Questions': 3,\n         'If cut': 1,\n         'unique quality': 2,\n         'generously treated But': 1,\n         'In view': 2,\n         'well indicate': 1,\n         'certain day': 2,\n         'meant human life': 1,\n         'planet reach': 1,\n         'even less': 2,\n         'best worst': 1,\n         'words One': 2,\n         'debt becomes Count': 1,\n         'asking There': 2,\n         'blood Jesus': 1,\n         'General Canada': 1,\n         'really valuable': 1,\n         'men When': 1,\n         'fellowChristians placed': 2,\n         'open Bible': 2,\n         'unresisting Church encircled': 1,\n         'may start something': 1,\n         'slaves Jamaica': 1,\n         'Way The Christian': 1,\n         'ago two': 1,\n         'eternal Kingdom': 2,\n         'denominational Book': 2,\n         'nations broken': 2,\n         'one heed': 1,\n         'Can give': 1,\n         'face Then also': 1,\n         'glee reversing': 1,\n         'eternally The pattern': 1,\n         'victory parade': 3,\n         ...})"
     },
     "execution_count": 25,
     "metadata": {},
     "output_type": "execute_result"
    }
   ],
   "source": [
    "ngram_dict_filtered"
   ],
   "metadata": {
    "collapsed": false
   }
  },
  {
   "cell_type": "code",
   "execution_count": 26,
   "outputs": [],
   "source": [
    "destpath = \"../data/large_files/trigrams_filtered/\"\n",
    "#os.makedirs(destpath)"
   ],
   "metadata": {
    "collapsed": false
   }
  },
  {
   "cell_type": "code",
   "execution_count": 27,
   "outputs": [],
   "source": [
    "with open(destpath + \"id_{}.json\".format(str(id)), \"w\") as f:\n",
    "    json.dump(ngram_dict_filtered, f)"
   ],
   "metadata": {
    "collapsed": false
   }
  },
  {
   "cell_type": "code",
   "execution_count": 133,
   "outputs": [
    {
     "data": {
      "text/plain": "{'The requirements': 2,\n 'form legends': 1,\n 'central theme': 1,\n 'given doctrine': 2,\n 'opponent alike They': 1,\n 'outer foreign authority': 1,\n 'com parison': 2,\n 'Jesus return': 1,\n 'Ibid p': 8,\n 'glory establish': 1,\n 'stands agreement': 1,\n 'righteousness Romans': 2,\n 'question existence': 2,\n 'thought within': 2,\n 'p f': 9,\n 'spirit Paul': 1,\n 'The apostle Paul': 1,\n 'become blessed': 2,\n 'situation Ibid': 1,\n 'sin order': 1,\n 'collect interpret': 1,\n 'three figures': 1,\n 'clear even': 1,\n 'means teaching': 2,\n 'less astonishment': 2,\n 'existence three': 1,\n 'Church Paul': 1,\n 'instead solving': 1,\n 'Good works': 1,\n 'resignare ad infernum': 1,\n 'notorious little word': 1,\n 'fall sin': 1,\n 'Luther knew': 1,\n 'The present treatise': 1,\n 'OF GRACE II': 1,\n 'types At': 1,\n 'cultic practices': 2,\n 'trust Similarly one': 1,\n 'symbolic form': 2,\n 'world Kingdom': 1,\n 'civil use': 2,\n 'rans doctrine': 1,\n 'reason proofs': 1,\n 'The changes': 1,\n 'Writings Shin': 2,\n 'Consequently one might': 1,\n 'complement Shinrans': 1,\n 'another tradition We': 1,\n 'pure inwardness': 2,\n 'Schweitzer whose interpretation': 1,\n 'God Luther expects': 1,\n 'joy But': 2,\n 'world death': 1,\n 'That generally': 1,\n 'Middle Ages': 2,\n 'Godenshõ especially': 1,\n 'religious worldviews': 3,\n 'made possible': 5,\n 'disobedience Gods': 1,\n 'radical revaluation': 2,\n 'Dei volúntate': 1,\n 'Shinrans radical': 1,\n 'Buddha Shakyamuni': 1,\n 'two distinct': 1,\n 'Western secularism': 2,\n 'Christianity gain': 1,\n 'writings For': 1,\n 'wish discuss': 1,\n 'participant salvation': 1,\n 'Amidas mercy': 2,\n 'ethical practice': 1,\n 'Faith directed': 1,\n 'former two': 1,\n 'incarnation Amida': 2,\n 'karma ie': 2,\n 'grace Paul': 3,\n 'two fronts': 1,\n 'Buddhists say': 2,\n 'births selfeffort': 1,\n 'mands proof': 1,\n 'visions erruptions': 1,\n 'sphere ethics': 1,\n 'texts others': 1,\n 'translation Shinrans': 1,\n 'Paul Shinran': 27,\n 'texts use': 1,\n 'life really': 2,\n 'reformer Luther': 2,\n 'That briefly': 2,\n 'im portant': 1,\n 'meaning In': 2,\n 'monks Maha': 1,\n 'enough penance': 1,\n 'authority therefore': 1,\n 'promised Messiah': 2,\n 'overlooked This problem': 1,\n 'us First': 2,\n 'plagued demonic': 1,\n 'Buddhism could': 1,\n 'withstand trial': 1,\n 'rather hoped': 2,\n 'Nevertheless must': 1,\n 'ones responsible': 2,\n 'com pletion': 2,\n 'point however': 1,\n 'This thought': 1,\n 'peccati nonimputation': 1,\n 'letters Luther': 1,\n 'hand seems': 2,\n 'works makes': 1,\n 'Christ history': 1,\n 'Despite manifest': 1,\n 'followers All': 1,\n 'word alone This': 1,\n 'tertius usus': 1,\n 'vow lies': 2,\n 'I wish': 2,\n 'evil spirits': 2,\n 'might say': 1,\n 'believe Amida': 1,\n 'oneself subject': 1,\n 'historical development': 2,\n 'developed specific': 1,\n 'Luthers idea': 2,\n 'later life': 1,\n 'son saying': 2,\n 'struggles The': 1,\n 'parts unmentioned One': 1,\n 'God Luther': 1,\n 'original sin cannot': 1,\n 'wholly trusting': 2,\n 'mans difficulty stems': 1,\n 'laws became guilty': 1,\n 'pure belief': 1,\n 'The differences': 1,\n 'corresponding ethical consequences': 1,\n 'process began': 1,\n 'D T Suzuki': 3,\n 'act influenced': 2,\n 'meaning existence': 3,\n 'life story': 2,\n 'Ueda Shizuteru': 1,\n 'within commonality': 1,\n 'separate us': 2,\n 'previously valid': 1,\n 'recipient THE': 1,\n 'things happened': 1,\n 'Gods com mand': 1,\n 'might proceed': 2,\n 'existing world': 7,\n 'acknowledgment guilt': 1,\n 'one destined': 2,\n 'always something': 2,\n 'merit He': 1,\n 'justifica tion took': 1,\n 'often dealings': 1,\n 'necessary sufficient': 1,\n 'dual personality': 2,\n 'doctrines salvation': 1,\n 'want receive': 1,\n 'com munity': 1,\n 'religion theology': 1,\n 'Buddha The': 1,\n 'Bodhisattva There': 2,\n 'Gesshö Collected': 1,\n 'works indeed': 1,\n 'case perform': 1,\n 'expects partly': 1,\n 'salva tion': 2,\n 'gift grace': 1,\n 'God As': 2,\n 'Buddhist Q': 1,\n 'become Bodhisattva': 1,\n 'On karma': 2,\n 'Shinran Luther': 15,\n 'hardly rare': 2,\n 'ones complete trust': 1,\n 'Shin sect': 5,\n 'sacraments Luther found': 1,\n 'exception It': 1,\n 'per ceived': 1,\n 'forms The Messiah': 1,\n 'Buddhist arrives': 1,\n 'Corinthians In': 1,\n 'holy law': 2,\n 'existence process': 1,\n 'justifies ungodly': 1,\n 'grace moves us': 1,\n 'Amidist belief': 4,\n 'albeit various': 1,\n 'present treatise': 3,\n 'enslaved mankind Galatians': 1,\n 'body closely': 1,\n 'says metaphysical': 1,\n 'may count': 2,\n 'The second': 2,\n 'could find': 1,\n 'WesternChristian understanding': 2,\n 'religious traditions': 3,\n 'In fact': 3,\n 'single thought': 2,\n 'young Luther knew': 1,\n 'encounter ideas': 1,\n 'Christian church Luthers': 1,\n 'texts legitimately': 2,\n 'blood theology': 1,\n 'Shinran thought': 1,\n 'holy tradition': 12,\n 'Land Amida': 1,\n 'alone As': 1,\n 'mystical spiritualism': 2,\n 'concept secularism': 1,\n 'I Corinthians': 4,\n 'tradition Each': 2,\n 'differences Paul': 1,\n 'Obendiek Ber Teufel': 1,\n 'age mental': 1,\n 'hand state': 1,\n 'also know': 1,\n 'Shinran making': 1,\n 'grace alone': 12,\n 'particular form': 2,\n 'IV If gracemonism': 1,\n 'traditional early Christian': 1,\n 'Christ Amida': 2,\n 'Shinrans emphasis': 2,\n 'enabled replace': 1,\n 'spiritual rule': 2,\n 'historically psychologically': 1,\n 'nonimputatio peccati nonimputation': 1,\n 'Old Testament': 3,\n 'cognize distinctness': 1,\n 'spirit already': 1,\n 'aeon The effect': 1,\n 'good works': 5,\n 'Luther expects': 1,\n 'cancels commands': 1,\n 'eternally valid truth': 1,\n 'however wish': 1,\n 'beyond limitations': 1,\n 'form aim': 1,\n 'authority instead': 1,\n 'Damascus road': 2,\n 'different mine': 1,\n 'It also': 2,\n 'Amida belief': 8,\n 'wings modern': 1,\n 'became necessary': 2,\n 'traditional texts': 2,\n 'remain true': 2,\n 'grace cancels': 2,\n 'saw Jesus': 1,\n 'new works righteousness': 1,\n 'hoped reaffirm': 1,\n 'time reached': 1,\n 'respective ideas': 3,\n 'arisen new': 1,\n 'excerpts commentaries': 1,\n 'beyond bounds': 1,\n 'us far': 1,\n 'directly related': 2,\n 'leads history toward': 1,\n 'reversed In': 1,\n 'exaggerated formulations Perhaps': 1,\n 'Biblical belief man': 1,\n 'clear however': 2,\n 'ones This similarity': 1,\n 'God stands': 1,\n 'consists doubtlessly': 1,\n 'one sceptical': 1,\n 'definite spiritual': 1,\n 'ways dealing': 1,\n 'reality The': 1,\n 'Suzuki Daisetz': 2,\n 'negative attitude': 1,\n 'criticism Zen': 1,\n 'sunt aut non': 1,\n 'Cf Suzukis': 1,\n 'free joyful': 1,\n 'kingdom God': 1,\n 'teaching instead': 2,\n 'Testament regard': 1,\n 'pattern commonly': 1,\n 'state one': 1,\n 'nonsalvation The inclination': 1,\n 'selfeffort typified': 2,\n 'otherwise tolerant attitude': 1,\n 'yet lives according': 1,\n 'con sequence': 2,\n 'faith Luther': 1,\n 'Amidaization Pauline': 1,\n 'way salvation': 3,\n 'fundamental difference': 1,\n 'sacrifice God': 1,\n 'relation tradition': 2,\n 'THE CONCEPT': 10,\n 'Suzukis English translation': 1,\n 'We might say': 1,\n 'problem common': 2,\n 'practice The': 1,\n 'mans lack': 2,\n 'faith alone without': 1,\n 'Christian life': 2,\n 'presuppositions Those': 2,\n 'try find': 1,\n 'beyond history Paul': 1,\n 'Buddhist canon He': 1,\n 'even hell': 1,\n 'International Congress': 2,\n 'brings three': 1,\n 'Pure Land possible': 1,\n 'cf Tanni Sbõ': 1,\n 'often encountered': 2,\n 'validating authority': 1,\n 'limits example': 1,\n 'Shinran According': 2,\n 'existing world That': 1,\n 'Rokkakudõ Temple': 2,\n 'regardless philosophy': 1,\n 'grace They could': 1,\n 'unique supernatural': 1,\n 'specific way': 1,\n 'sacraments The changes': 1,\n 'realization even': 2,\n 'endtime latterday': 1,\n 'removed final': 1,\n 'sin Romans f': 2,\n 'followers Shinran': 2,\n 'reserve Even': 2,\n 'supplied one basis': 1,\n 'ity Shinrans': 1,\n 'still remains': 1,\n 'Lutheran heresy': 2,\n 'D T': 2,\n 'Amida Buddha': 2,\n 'Christ Paul knows': 1,\n 'THE EASTERN BUDDHIST': 11,\n 'In Christian': 1,\n 'beyond time': 1,\n 'trust given': 1,\n 'Since could': 1,\n 'brings supernatural': 1,\n 'longer share': 2,\n 'The recitation': 1,\n 'grace works': 1,\n 'promised assistance': 2,\n 'Amida Buddhism today': 1,\n 'forms Mahayana': 1,\n 'fundamental differences': 2,\n 'Judaism In Buddhism': 1,\n 'life generally': 1,\n 'Acts But': 1,\n 'subject matter That': 1,\n 'say Paul': 1,\n 'especially significant': 2,\n 'As far': 1,\n 'followers Christianity': 1,\n 'Luther acquainted': 1,\n 'appeared originally': 2,\n 'Luther Fritz': 1,\n 'consequent unworldliness': 2,\n 'intend show': 1,\n 'BUDDHIST Although': 1,\n 'friends opponents': 1,\n 'one might': 1,\n 'contrast Buddhisms': 1,\n 'relying simply': 2,\n 'Buddhistic concepts': 2,\n 'sacred fact': 2,\n 'cycle without': 1,\n 'subjectivity thought': 1,\n 'oneself hell': 1,\n 'blood theology makes': 1,\n 'revelation Galatians': 1,\n 'sacred history': 4,\n 'instance supports': 2,\n 'eschatological idea': 2,\n 'salvation terms': 1,\n 'far I': 1,\n 'us thinking': 1,\n 'On one': 1,\n 'I used parts': 1,\n 'surrounded miraculous': 1,\n 'tradition definite': 1,\n 'Ueda Shizuteru Die': 1,\n 'misunderstand ing': 1,\n 'cannot objectified': 1,\n 'holy tradition The': 1,\n 'legis third use': 1,\n 'everything Does': 2,\n 'Buddhists antipathy': 2,\n 'Yet dual': 1,\n 'religion Shinran': 1,\n 'answers sought': 1,\n 'resurrection Christ': 1,\n 'also simplest': 1,\n 'cycle without beginning': 1,\n 'lives saints': 1,\n 'supernatural experiences': 1,\n 'Avaloki tesvara': 1,\n 'fruitful In order': 1,\n 'In Judaism mans': 1,\n 'temporal continuum': 2,\n 'early Christianity': 1,\n 'resurrection significance': 1,\n 'intellectual environments': 1,\n 'concept today': 2,\n 'saints Such': 1,\n 'impulse certainly': 1,\n 'new aeon': 9,\n 'cross atoned': 2,\n 'similar opposition': 1,\n 'knows neither': 1,\n 'The followers': 1,\n 'even harmful': 1,\n 'Nembutsu example': 1,\n 'possibly derive ultimately': 1,\n 'believing trust For': 1,\n 'Shinran says': 1,\n 'Shinran also': 1,\n 'Schweitzer Die Mystik': 1,\n 'Scheel Dokumente zu': 1,\n 'thought It becomes': 1,\n 'becoming Bodhisattva': 1,\n 'turn first': 1,\n 'misreading Chinese': 1,\n 'evil He': 2,\n 'For Shinran salvation': 1,\n 'Messianic title Christ': 1,\n 'conclusions whereby': 1,\n 'new ones This': 1,\n 'encountered seem': 1,\n 'world karma': 1,\n 'authoritative cannot': 1,\n 'Kyõryõsbinshõ p': 1,\n 'far away': 2,\n 'Shinran along': 2,\n 'It forms': 1,\n 'easily misunderstood': 2,\n 'Christian ity Shinrans': 1,\n 'mine Albert Schweitzer': 1,\n 'reconciliation He': 2,\n 'three dimensions': 1,\n 'man man': 1,\n 'damned God': 1,\n 'resulting entanglement': 2,\n 'two important works': 1,\n 'Christianization Shinran': 1,\n 'teach nothing': 2,\n 'forced regard': 1,\n 'Christs body': 2,\n 'difficulties Christianity': 1,\n 'articles D': 1,\n 'salvation demonstrable': 1,\n 'Christ resurrected': 1,\n 'Christian eschatology Belief': 1,\n 'belief stands': 1,\n 'teachable doctrinal form': 1,\n 'us live': 1,\n 'true intention': 2,\n 'different Nevertheless': 2,\n 'continued existence': 2,\n 'designate center': 1,\n 'gaude sin strongly': 1,\n 'different idea': 2,\n 'believing trust': 1,\n 'deficient polemic': 2,\n 'metaphysical reality': 2,\n 'formulations Perhaps': 1,\n 'realization meaning': 1,\n 'close relation': 2,\n 'Pauls requirement': 2,\n 'said speaking': 1,\n 'leads thought astray': 1,\n 'later developed': 2,\n 'Luthers assertion': 2,\n 'difficulty lies': 2,\n 'Paul stands': 2,\n 'saved The': 1,\n 'common Paul': 2,\n 'taught Shinran': 1,\n 'hell God': 1,\n 'holds true even': 2,\n 'best serve': 2,\n 'In Catholic': 1,\n 'never really': 1,\n 'approach tradition': 1,\n 'Jesuits sint': 1,\n 'cf Acts': 3,\n 'depreciatory judgments': 1,\n 'longer frighten': 2,\n 'foreign authority For': 1,\n 'Amida stands': 2,\n 'Gods command': 2,\n 'salvation maintains': 2,\n 'objectified Not': 2,\n 'In Kyõgyõshinshõ': 1,\n 'reformers furnish us': 1,\n 'Amida really made': 1,\n 'Kingdom God': 8,\n 'original universal religious': 1,\n 'In sense': 1,\n 'revelations Such things': 1,\n 'Otto Scheel Dokumente': 1,\n 'psychologically reference': 1,\n 'The Life': 2,\n 'It true': 1,\n 'three authorities': 1,\n 'blessedness In fact': 1,\n 'Die Mystik des': 1,\n 'ideas regarding incarnation': 1,\n 'withstand final': 1,\n 'demonic forces appear': 1,\n 'acceptance grace': 1,\n 'sacrificial death': 2,\n 'world beset': 2,\n 'man arrives': 1,\n 'That led': 1,\n 'grace within': 1,\n 'better validate': 2,\n 'followed another': 1,\n 'would want': 2,\n 'Zen Just': 2,\n 'divine revelation Galatians': 1,\n 'aforementioned basic concepts': 1,\n 'monastery also': 1,\n 'BiblicalChristian eschatology': 1,\n 'existence seen': 1,\n 'modern Western culture': 1,\n 'alone That': 1,\n 'Pauls questionable': 1,\n 'foreign merit He': 1,\n 'Allembracing Mercy': 3,\n 'mind spirit': 2,\n 'Lutheranism demonstrate': 2,\n 'Their chosen way': 1,\n 'world In spite': 1,\n 'struggle gain': 1,\n 'religions It': 2,\n 'gracemonism stands': 2,\n 'cross resurrection': 1,\n 'salvation put': 1,\n 'More obviously': 2,\n 'As regards': 1,\n 'event dimensionally': 1,\n 'endless repetition However': 1,\n 'mean ing': 2,\n 'earliest Christianity': 2,\n 'married Because Amida': 1,\n 'Luther But': 2,\n 'EASTERN BUDDHIST': 4,\n 'Jesuits sint ut': 1,\n 'existence earlier found': 1,\n 'fact prove': 2,\n 'meaninglessness It': 2,\n 'curious fact': 2,\n 'set refuting': 1,\n 'treatise lectures': 1,\n 'within beyond': 1,\n 'time unites': 1,\n 'salvation freedom': 1,\n 'three figures The': 1,\n 'means resolves': 2,\n 'resurrected body': 1,\n 'finds man': 1,\n 'sin guilt': 1,\n 'suggesting belief': 1,\n 'savior different': 1,\n 'pope take': 2,\n 'discerned albeit': 2,\n 'Paul E Corinthians': 1,\n 'Bodhisattvabeing Amida': 2,\n 'gnostic concept': 2,\n 'Buddhist Society': 3,\n 'characteristic furthermore': 2,\n 'directed toward': 2,\n 'savior types At': 1,\n 'despite basic': 1,\n 'wholly different basis': 1,\n 'consequently also': 2,\n 'ungodly faith': 1,\n 'hereafter referred': 1,\n 'The Songs': 1,\n 'even perhaps': 1,\n 'yet living': 2,\n 'It rests entirely': 1,\n 'change existent': 1,\n 'The inclination': 1,\n 'endured bind': 1,\n 'immediate future Luther': 1,\n 'monastic life': 2,\n 'something Paul': 1,\n 'interprets passage': 1,\n 'grace In': 1,\n 'Paul Luther': 8,\n 'conceptualobjective thinking': 2,\n 'ultimately extinction': 1,\n 'common Paul argues': 1,\n 'Jew well': 1,\n 'idea often': 1,\n 'revered one': 1,\n 'igno rance': 2,\n 'forms Pauls world': 1,\n 'holy act': 2,\n 'publication two': 1,\n 'I Paul Shinran': 1,\n 'EASTERN BUDDHIST This': 1,\n 'may discerned': 1,\n 'historical personality Amida': 1,\n 'means trust': 1,\n 'grace come': 1,\n 'attitude toward': 1,\n 'Collected Writings': 16,\n 'subjectobject scheme': 2,\n 'GRACE reckoned': 1,\n 'church arose among': 1,\n 'Zen although regardless': 1,\n 'supernatural occurrences': 2,\n 'find peace': 2,\n 'given significance': 1,\n 'spiritual landscape': 1,\n 'Their place': 1,\n 'law Paul': 1,\n 'us today': 3,\n 'consequences ethical': 1,\n 'new forms': 3,\n 'Tannisbõy vm included': 1,\n 'constantly hand': 1,\n 'Nembutsu thought': 1,\n 'mental environment': 2,\n 'forth criticism': 1,\n 'every time': 2,\n 'passed away behold': 1,\n 'happened Paul': 1,\n 'As Paul': 1,\n 'baptism believers': 1,\n 'The Kyõryõsbinshõ p': 1,\n 'also us': 1,\n 'Land possible In': 1,\n 'sense three': 1,\n 'go another': 1,\n 'disastrous effect': 2,\n 'JewishChristian com munity': 1,\n 'ethics In': 1,\n 'never experiences Amida': 1,\n 'Shinrans relation': 2,\n 'faith unbelievers men': 1,\n 'humility unworthiness': 1,\n 'arose among': 1,\n 'given credence': 2,\n 'anyway But': 1,\n 'Luther even': 2,\n 'By virtue': 3,\n 'Jõdo sect': 3,\n 'Buddhism Luthers': 1,\n 'law Paul Shinran': 1,\n 'may take': 1,\n 'pp hi f': 1,\n 'Lutheran theology The': 1,\n 'origins grace': 1,\n 'Buddhisms otherwise': 1,\n 'In regard': 1,\n 'position within': 1,\n 'savior Christ': 2,\n 'endtime The significance': 1,\n 'differences awareness': 1,\n 'promises Just': 2,\n 'cycle In': 1,\n 'history The': 1,\n 'Amida Buddhism precisely': 1,\n 'Maha yana represents': 1,\n 'common struggle': 2,\n 'Here became': 1,\n 'discussion historical': 1,\n 'serious contemplation': 2,\n 'existent world In': 1,\n 'wills This': 2,\n 'formal basis': 2,\n 'least Paul': 2,\n 'Christ This parallels': 1,\n 'three cognize': 1,\n 'In Judaism': 2,\n 'earliest Christianitys idea': 1,\n 'existence For Luther': 1,\n 'merit possesses': 1,\n 'Amida power': 1,\n 'end Salvation means': 1,\n 'reference holy': 2,\n 'teaching grounded': 1,\n 'Paul first': 1,\n 'recognizes Jesus': 1,\n 'prevent new': 1,\n 'EASTERN BUDDHIST apocalypticism': 1,\n 'Pauls meaning': 2,\n 'salvation nonsalvation': 1,\n 'Shinran supposed': 1,\n 'reproach Paul': 1,\n 'thereby enter': 2,\n 'leads history': 1,\n 'space It': 2,\n 'attempt realize': 1,\n 'Shinrans Jõdo Shin': 1,\n 'earliest Christian eschatology': 1,\n 'Far Eastern': 2,\n 'opposition tariki': 1,\n 'Jesuit missionary': 1,\n 'new searches': 1,\n 'became founder': 1,\n 'th birthday I': 1,\n 'thinking subjects': 1,\n 'Sutra Eternal': 2,\n 'theologian Shinrans chief': 1,\n 'enviable timelessness': 2,\n 'attitudes might': 2,\n 'differences us': 1,\n 'valid content': 1,\n 'new function But': 1,\n 'Certainly Shinran': 1,\n 'lectures presented': 1,\n 'Buddhism could learn': 1,\n 'faith savior': 1,\n 'heaven This': 2,\n 'promise really': 2,\n 'teachers Jõdo': 1,\n 'faith however consists': 1,\n 'able successfully': 1,\n 'order grace': 1,\n 'historicalsuprahistorical event': 2,\n 'generally followed': 2,\n 'church hymns': 1,\n 'three actually bring': 1,\n 'God Amida': 1,\n 'grace means': 2,\n 'time reached beyond': 1,\n 'two distinct ethical': 1,\n 'religious thinkers Mutual': 1,\n 'Mosaic law': 1,\n 'und der Durchbrucb': 1,\n 'Paul quotes Christian': 1,\n 'basically differences': 2,\n 'Tannisbõ ģm': 1,\n 'II Corinthians': 2,\n 'resign oneself': 2,\n 'since Biblical': 1,\n 'ones act': 1,\n 'three primary': 1,\n 'exaggerated formulations': 3,\n 'Karl Barth Kirchliche': 1,\n 'share Christs': 1,\n 'account recorded': 1,\n 'respective religions': 1,\n 'Jesus In time': 1,\n 'mand therefore': 1,\n 'collection texts': 1,\n 'mind become': 1,\n 'matter personal': 1,\n 'greater portent': 2,\n 'opponent alike': 1,\n 'Pure Land': 13,\n 'earth soul': 1,\n 'share Unlike': 1,\n 'notion Jesus': 1,\n 'Wasan songs Yet': 1,\n 'previously valid concepts': 1,\n 'valuates Christian': 1,\n 'possibilities remain': 2,\n 'understand spiritual': 1,\n 'main tain': 2,\n 'Tannisbõ ģm While': 1,\n 'process moved beyond': 1,\n 'enter Nirvana': 6,\n 'prince advice': 2,\n 'trans formation': 2,\n 'Psalms stories': 1,\n 'forms In': 1,\n 'evangelism All': 1,\n 'sees problem': 1,\n 'Bodhi sattva ideal': 1,\n 'usus legis': 1,\n 'followers Paul': 1,\n 'promise The content': 1,\n 'salvation aims': 2,\n 'For Amida': 1,\n 'piety On': 2,\n 'This process began': 1,\n 'grace resulted': 2,\n 'Suzuki opposes': 2,\n 'confessions But Paul': 1,\n 'church continued': 1,\n 'figures The starting': 1,\n 'legitimately It': 1,\n 'law works': 1,\n 'Wasan songs': 1,\n 'rule evil': 1,\n 'training faith': 1,\n 'winter semester': 2,\n 'public pecca fortiter': 1,\n 'churchly institution': 2,\n 'Christ Paul': 1,\n 'reference Paul': 1,\n 'grace moves': 1,\n 'expects resurrected': 1,\n 'teaching We might': 1,\n 'world foolishness': 1,\n 'eschatology Belief': 1,\n 'similar Luthers': 1,\n 'infernum pro Dei': 1,\n 'belief man arrives': 1,\n 'rejection monasticism': 1,\n 'person never experiences': 1,\n 'tradition Paul': 1,\n 'terms becoming': 1,\n 'spiritual world': 4,\n 'manifest differences': 2,\n 'Shinran interprets': 1,\n 'certain inner': 2,\n 'saviors one may': 1,\n 'imparting salvation': 2,\n 'unsaved area': 2,\n 'frighten believer': 1,\n 'find subjectobject': 1,\n 'aforementioned basic': 1,\n 'main reason': 1,\n 'He state': 1,\n 'devil The good': 1,\n 'Testament Psalms': 1,\n 'holy tradition Each': 1,\n 'even though': 1,\n 'aspects The first': 1,\n 'Luther adjoins': 1,\n 'Buddhism But Christ': 1,\n 'Biblical Buddhist': 1,\n 'divine powers': 2,\n 'Karuna absurd': 1,\n 'friend opponent': 1,\n 'made vow': 2,\n 'theory whether': 1,\n 'In Paul': 1,\n 'tion Shinran radicalized': 1,\n 'ac cording': 1,\n 'lief Paul': 1,\n 'opposition two': 1,\n 'Luther however': 2,\n 'tradition Paul Shinran': 1,\n 'general accordance': 2,\n 'Amidas name': 1,\n 'There also': 1,\n 'overcome Christ': 1,\n 'done enough penance': 1,\n 'aut non sint': 1,\n 'letters asserts': 1,\n 'tradition Luther': 1,\n 'tain relation': 1,\n 'really speak': 2,\n 'Christianization Amida': 1,\n 'attitude inappropriate': 1,\n 'With early': 1,\n 'longer belonged': 2,\n 'concepts faith': 1,\n 'Zen Buddhism': 2,\n 'presented August': 1,\n 'Shinran Shonin': 3,\n 'even worse': 2,\n 'grace Shinran': 3,\n 'betterment If Amida': 1,\n 'one tradition': 1,\n 'separate spheres': 2,\n 'dead successfully withstand': 1,\n 'temporal happening': 2,\n 'hardly accidental': 1,\n 'understand ones': 2,\n 'church found': 2,\n 'authority affirma': 1,\n 'Tannishõ Shinran': 1,\n 'Jesus The nature': 1,\n 'still refuse': 2,\n 'The significance': 1,\n 'teaching also': 1,\n 'Grace Paul': 1,\n 'grace already': 1,\n 'documents differently although': 1,\n 'reconcile former': 1,\n 'driving impulse': 1,\n 'blessed much': 1,\n 'assertion Buddhism': 1,\n 'Amida leaves': 1,\n 'Western world': 2,\n 'Collected Writings pp': 1,\n 'also significant': 2,\n 'justification He reproaches': 1,\n 'OF GRACE V': 1,\n 'honoring teachers': 1,\n 'refuse see': 1,\n 'two important': 1,\n 'doctrine salvation': 1,\n 'early Christians': 2,\n 'active realization': 1,\n 'complete trust': 3,\n 'Christs return': 2,\n 'Kyõgyõshinshõ Shinran': 1,\n 'joyful fulfillment': 4,\n 'distinction good': 1,\n 'He like Amida': 1,\n 'Christianization Buddhism': 1,\n 'understandable Karl': 1,\n 'lives It': 2,\n 'Suzuki Sasaki': 1,\n 'Glossary The': 1,\n 'GRACE karma': 1,\n 'likewise per': 1,\n 'practice The fact': 1,\n 'conflicts nomism': 1,\n 'undemonstrable nature': 1,\n 'suggests possible': 1,\n 'basis Bodhisattvabeing': 1,\n 'theologia crucis': 3,\n 'safe guard': 2,\n 'Mahayana In': 2,\n 'And young': 1,\n 'distinctness three': 1,\n 'Amida transfers': 2,\n 'salvation With': 1,\n 'It characteristic': 1,\n 'figure Christ': 1,\n 'aside vestiges': 1,\n 'Mahayana Buddhism': 2,\n 'world That': 1,\n 'forms worldfleeing': 1,\n 'Buddhist representative': 2,\n 'formula Namuamidabutsu': 2,\n 'f Collected': 1,\n 'This made': 1,\n 'new come': 1,\n 'sense designa': 1,\n 'pecca fortiter sed': 1,\n 'possible Christianization': 2,\n 'effects upon': 2,\n 'visit Japan': 1,\n 'prepares one': 2,\n 'cannot say': 1,\n 'similarity among': 1,\n 'worldfleeing self': 1,\n 'Christian faith': 2,\n 'chosen way': 1,\n 'holy writings For': 1,\n 'conflict traditional': 1,\n 'religions Catholic': 2,\n 'aeon begun': 1,\n 'This trust': 1,\n 'Catholic synergism Luther': 1,\n 'time produces': 1,\n 'OF GRACE still': 1,\n 'solving problems': 1,\n 'another way It': 1,\n 'Luther expect': 2,\n 'circle karma': 1,\n 'thorough serious': 1,\n 'shows men': 2,\n 'good reason': 2,\n 'way life': 2,\n 'Christ arise': 1,\n 'see discussions': 2,\n 'Concept Grace': 1,\n 'religious worldviews Pauls': 1,\n 'Pauline Lutheran': 1,\n 'religions also': 1,\n 'longer endeavours simply': 1,\n 'Romans f': 1,\n 'grace constantly': 2,\n 'concern salvation': 1,\n 'able extinguish': 1,\n 'us evidence': 1,\n 'encountered Amida': 1,\n 'ascended Lord': 1,\n 'salvation possibility': 1,\n 'quite fragile': 1,\n 'Shin Buddhism': 3,\n 'Luthers criticism': 2,\n 'graceless age': 2,\n 'eschatology history comes': 1,\n 'mythology philosophical': 2,\n 'Church originat ing': 1,\n 'religious tradition granted': 1,\n 'Christ This': 1,\n 'belief comes': 1,\n 'For Luther Gods': 1,\n 'therefore say': 2,\n 'Shinrans criticism': 1,\n 'already effective': 2,\n 'certain canonical books': 1,\n 'mentioned In': 1,\n 'salvific significance': 2,\n 'public pecca': 1,\n 'three actually': 1,\n 'Buddhism generally': 1,\n 'Shinran piety': 1,\n 'God The': 1,\n 'partly differing presuppositions': 1,\n 'Messiah dies': 1,\n 'Shinran believes': 2,\n ...}"
     },
     "execution_count": 133,
     "metadata": {},
     "output_type": "execute_result"
    }
   ],
   "source": [
    "#json.load(open(destpath + \"id_1.json\"))"
   ],
   "metadata": {
    "collapsed": false
   }
  },
  {
   "cell_type": "code",
   "execution_count": 28,
   "outputs": [],
   "source": [
    "def merge_data_from_ids(ids, datadict):\n",
    "    c = Counter()\n",
    "    for id in ids:\n",
    "        d = datadict[id]\n",
    "        d_cleaned = filter_dict(d)\n",
    "        with open(destpath + \"id_{}.json\".format(str(id)), \"w\") as f:\n",
    "            json.dump(d_cleaned, f)\n",
    "        c.update(d_cleaned)\n",
    "    return c"
   ],
   "metadata": {
    "collapsed": false
   }
  },
  {
   "cell_type": "code",
   "execution_count": 29,
   "outputs": [
    {
     "data": {
      "text/plain": "100"
     },
     "execution_count": 29,
     "metadata": {},
     "output_type": "execute_result"
    }
   ],
   "source": [
    "# create a sample to preprocess the most frequent ngrams\n",
    "random.seed(0)\n",
    "ids = list(trigramCount_dict.keys())\n",
    "test_ids = random.sample(list(trigramCount_dict.keys()), 100)\n",
    "len(test_ids)"
   ],
   "metadata": {
    "collapsed": false
   }
  },
  {
   "cell_type": "code",
   "execution_count": 30,
   "outputs": [
    {
     "data": {
      "text/plain": "14103"
     },
     "execution_count": 30,
     "metadata": {},
     "output_type": "execute_result"
    }
   ],
   "source": [
    "len(ids)"
   ],
   "metadata": {
    "collapsed": false
   }
  },
  {
   "cell_type": "code",
   "execution_count": 31,
   "outputs": [
    {
     "name": "stdout",
     "output_type": "stream",
     "text": [
      "CPU times: user 9min 6s, sys: 47.5 s, total: 9min 53s\n",
      "Wall time: 11min 7s\n"
     ]
    }
   ],
   "source": [
    "%%time\n",
    "data_ngrams = merge_data_from_ids(ids, trigramCount_dict)"
   ],
   "metadata": {
    "collapsed": false
   }
  },
  {
   "cell_type": "code",
   "execution_count": 32,
   "outputs": [
    {
     "data": {
      "text/plain": "30889299"
     },
     "execution_count": 32,
     "metadata": {},
     "output_type": "execute_result"
    }
   ],
   "source": [
    "len(data_ngrams)"
   ],
   "metadata": {
    "collapsed": false
   }
  },
  {
   "cell_type": "code",
   "execution_count": 33,
   "outputs": [
    {
     "name": "stdout",
     "output_type": "stream",
     "text": [
      "CPU times: user 4.95 s, sys: 2.52 s, total: 7.47 s\n",
      "Wall time: 10.7 s\n"
     ]
    },
    {
     "data": {
      "text/plain": "847930"
     },
     "execution_count": 33,
     "metadata": {},
     "output_type": "execute_result"
    }
   ],
   "source": [
    "%%time\n",
    "data_trigrams_sorted = sorted(data_ngrams.items(), key=lambda kv: kv[1], reverse=True)\n",
    "len([el for el in data_trigrams_sorted if el[1] > 10])"
   ],
   "metadata": {
    "collapsed": false
   }
  },
  {
   "cell_type": "code",
   "execution_count": 92,
   "outputs": [
    {
     "data": {
      "text/plain": "1723317"
     },
     "execution_count": 92,
     "metadata": {},
     "output_type": "execute_result"
    }
   ],
   "source": [
    "to_lemmatize = [el for el in data_trigrams_sorted if el[1] > 5]\n",
    "len(to_lemmatize)"
   ],
   "metadata": {
    "collapsed": false
   }
  },
  {
   "cell_type": "code",
   "execution_count": 89,
   "outputs": [],
   "source": [
    "\n",
    "# use spacy to generate \"Doc\" object for ngram\n",
    "# (use carefully, takes some time)\n",
    "tags = [\"NOUN\", \"ADJ\", \"VERB\", \"PROPN\"]\n",
    "\n",
    "def get_lemma_filtered(string):\n",
    "    #lemmata = \" \".join([t.lemma for t in nlp_stanza(string).sentences[0].words if t.pos in tags])\n",
    "    lemmata = \" \".join([t.lemma_ for t in nlp_spacy(string) if t.pos_ in tags])\n",
    "    return lemmata"
   ],
   "metadata": {
    "collapsed": false
   }
  },
  {
   "cell_type": "code",
   "execution_count": null,
   "outputs": [],
   "source": [
    "monitor = [n for n in range(0, )]"
   ],
   "metadata": {
    "collapsed": false
   }
  },
  {
   "cell_type": "code",
   "execution_count": 99,
   "outputs": [
    {
     "name": "stdout",
     "output_type": "stream",
     "text": [
      "0\n",
      "2000\n",
      "4000\n",
      "6000\n",
      "8000\n",
      "10000\n",
      "12000\n",
      "14000\n",
      "16000\n",
      "18000\n",
      "20000\n",
      "22000\n",
      "24000\n",
      "26000\n",
      "28000\n",
      "30000\n",
      "32000\n",
      "34000\n",
      "36000\n",
      "38000\n",
      "40000\n",
      "42000\n",
      "44000\n",
      "46000\n",
      "48000\n",
      "50000\n",
      "52000\n",
      "54000\n",
      "56000\n",
      "58000\n",
      "60000\n",
      "62000\n",
      "64000\n",
      "66000\n",
      "68000\n",
      "70000\n",
      "72000\n",
      "74000\n",
      "76000\n",
      "78000\n",
      "80000\n",
      "82000\n",
      "84000\n",
      "86000\n",
      "88000\n",
      "90000\n",
      "92000\n",
      "94000\n",
      "96000\n",
      "98000\n",
      "100000\n",
      "102000\n",
      "104000\n",
      "106000\n",
      "108000\n",
      "110000\n",
      "112000\n",
      "114000\n",
      "116000\n",
      "118000\n",
      "120000\n",
      "122000\n",
      "124000\n",
      "126000\n",
      "128000\n",
      "130000\n",
      "132000\n",
      "134000\n",
      "136000\n",
      "138000\n",
      "140000\n",
      "142000\n",
      "144000\n",
      "146000\n",
      "148000\n",
      "150000\n",
      "152000\n",
      "154000\n",
      "156000\n",
      "158000\n",
      "160000\n",
      "162000\n",
      "164000\n",
      "166000\n",
      "168000\n",
      "170000\n",
      "172000\n",
      "174000\n",
      "176000\n",
      "178000\n",
      "180000\n",
      "182000\n",
      "184000\n",
      "186000\n",
      "188000\n",
      "190000\n",
      "192000\n",
      "194000\n",
      "196000\n",
      "198000\n",
      "200000\n",
      "202000\n",
      "204000\n",
      "206000\n",
      "208000\n",
      "210000\n",
      "212000\n",
      "214000\n",
      "216000\n",
      "218000\n",
      "220000\n",
      "222000\n",
      "224000\n",
      "226000\n",
      "228000\n",
      "230000\n",
      "232000\n",
      "234000\n",
      "236000\n",
      "238000\n",
      "240000\n",
      "242000\n",
      "244000\n",
      "246000\n",
      "248000\n",
      "250000\n",
      "252000\n",
      "254000\n",
      "256000\n",
      "258000\n",
      "260000\n",
      "262000\n",
      "264000\n",
      "266000\n",
      "268000\n",
      "270000\n",
      "272000\n",
      "274000\n",
      "276000\n",
      "278000\n",
      "280000\n",
      "282000\n",
      "284000\n",
      "286000\n",
      "288000\n",
      "290000\n",
      "292000\n",
      "294000\n",
      "296000\n",
      "298000\n",
      "300000\n",
      "302000\n",
      "304000\n",
      "306000\n",
      "308000\n",
      "310000\n",
      "312000\n",
      "314000\n",
      "316000\n",
      "318000\n",
      "320000\n",
      "322000\n",
      "324000\n",
      "326000\n",
      "328000\n",
      "330000\n",
      "332000\n",
      "334000\n",
      "336000\n",
      "338000\n",
      "340000\n",
      "342000\n",
      "344000\n",
      "346000\n",
      "348000\n",
      "350000\n",
      "352000\n",
      "354000\n",
      "356000\n",
      "358000\n",
      "360000\n",
      "362000\n",
      "364000\n",
      "366000\n",
      "368000\n",
      "370000\n",
      "372000\n",
      "374000\n",
      "376000\n",
      "378000\n",
      "380000\n",
      "382000\n",
      "384000\n",
      "386000\n",
      "388000\n",
      "390000\n",
      "392000\n",
      "394000\n",
      "396000\n",
      "398000\n",
      "400000\n",
      "402000\n",
      "404000\n",
      "406000\n",
      "408000\n",
      "410000\n",
      "412000\n",
      "414000\n",
      "416000\n",
      "418000\n",
      "420000\n",
      "422000\n",
      "424000\n",
      "426000\n",
      "428000\n",
      "430000\n",
      "432000\n",
      "434000\n",
      "436000\n",
      "438000\n",
      "440000\n",
      "442000\n",
      "444000\n",
      "446000\n",
      "448000\n",
      "450000\n",
      "452000\n",
      "454000\n",
      "456000\n",
      "458000\n",
      "460000\n",
      "462000\n",
      "464000\n",
      "466000\n",
      "468000\n",
      "470000\n",
      "472000\n",
      "474000\n",
      "476000\n",
      "478000\n",
      "480000\n",
      "482000\n",
      "484000\n",
      "486000\n",
      "488000\n",
      "490000\n",
      "492000\n",
      "494000\n",
      "496000\n",
      "498000\n",
      "500000\n",
      "502000\n",
      "504000\n",
      "506000\n",
      "508000\n",
      "510000\n",
      "512000\n",
      "514000\n",
      "516000\n",
      "518000\n",
      "520000\n",
      "522000\n",
      "524000\n",
      "526000\n",
      "528000\n",
      "530000\n",
      "532000\n",
      "534000\n",
      "536000\n",
      "538000\n",
      "540000\n",
      "542000\n",
      "544000\n",
      "546000\n",
      "548000\n",
      "550000\n",
      "552000\n",
      "554000\n",
      "556000\n",
      "558000\n",
      "560000\n",
      "562000\n",
      "564000\n",
      "566000\n",
      "568000\n",
      "570000\n",
      "572000\n",
      "574000\n",
      "576000\n",
      "578000\n",
      "580000\n",
      "582000\n",
      "584000\n",
      "586000\n",
      "588000\n",
      "590000\n",
      "592000\n",
      "594000\n",
      "596000\n",
      "598000\n",
      "600000\n",
      "602000\n",
      "604000\n",
      "606000\n",
      "608000\n",
      "610000\n",
      "612000\n",
      "614000\n",
      "616000\n",
      "618000\n",
      "620000\n",
      "622000\n",
      "624000\n",
      "626000\n",
      "628000\n",
      "630000\n",
      "632000\n",
      "634000\n",
      "636000\n",
      "638000\n",
      "640000\n",
      "642000\n",
      "644000\n",
      "646000\n",
      "648000\n",
      "650000\n",
      "652000\n",
      "654000\n",
      "656000\n",
      "658000\n",
      "660000\n",
      "662000\n",
      "664000\n",
      "666000\n",
      "668000\n",
      "670000\n",
      "672000\n",
      "674000\n",
      "676000\n",
      "678000\n",
      "680000\n",
      "682000\n",
      "684000\n",
      "686000\n",
      "688000\n",
      "690000\n",
      "692000\n",
      "694000\n",
      "696000\n",
      "698000\n",
      "700000\n",
      "702000\n",
      "704000\n",
      "706000\n",
      "708000\n",
      "710000\n",
      "712000\n",
      "714000\n",
      "716000\n",
      "718000\n",
      "720000\n",
      "722000\n",
      "724000\n",
      "726000\n",
      "728000\n",
      "730000\n",
      "732000\n",
      "734000\n",
      "736000\n",
      "738000\n",
      "740000\n",
      "742000\n",
      "744000\n",
      "746000\n",
      "748000\n",
      "750000\n",
      "752000\n",
      "754000\n",
      "756000\n",
      "758000\n",
      "760000\n",
      "762000\n",
      "764000\n",
      "766000\n",
      "768000\n",
      "770000\n",
      "772000\n",
      "774000\n",
      "776000\n",
      "778000\n",
      "780000\n",
      "782000\n",
      "784000\n",
      "786000\n",
      "788000\n",
      "790000\n",
      "792000\n",
      "794000\n",
      "796000\n",
      "798000\n",
      "800000\n",
      "802000\n",
      "804000\n",
      "806000\n",
      "808000\n",
      "810000\n",
      "812000\n",
      "814000\n",
      "816000\n",
      "818000\n",
      "820000\n",
      "822000\n",
      "824000\n",
      "826000\n",
      "828000\n",
      "830000\n",
      "832000\n",
      "834000\n",
      "836000\n",
      "838000\n",
      "840000\n",
      "842000\n",
      "844000\n",
      "846000\n",
      "848000\n",
      "850000\n",
      "852000\n",
      "854000\n",
      "856000\n",
      "858000\n",
      "860000\n",
      "862000\n",
      "864000\n",
      "866000\n",
      "868000\n",
      "870000\n",
      "872000\n",
      "874000\n",
      "876000\n",
      "878000\n",
      "880000\n",
      "882000\n",
      "884000\n",
      "886000\n",
      "888000\n",
      "890000\n",
      "892000\n",
      "894000\n",
      "896000\n",
      "898000\n",
      "900000\n",
      "902000\n",
      "904000\n",
      "906000\n",
      "908000\n",
      "910000\n",
      "912000\n",
      "914000\n",
      "916000\n",
      "918000\n",
      "920000\n",
      "922000\n",
      "924000\n",
      "926000\n",
      "928000\n",
      "930000\n",
      "932000\n",
      "934000\n",
      "936000\n",
      "938000\n",
      "940000\n",
      "942000\n",
      "944000\n",
      "946000\n",
      "948000\n",
      "950000\n",
      "952000\n",
      "954000\n",
      "956000\n",
      "958000\n",
      "960000\n",
      "962000\n",
      "964000\n",
      "966000\n",
      "968000\n",
      "970000\n",
      "972000\n",
      "974000\n",
      "976000\n",
      "978000\n",
      "980000\n",
      "982000\n",
      "984000\n",
      "986000\n",
      "988000\n",
      "990000\n",
      "992000\n",
      "994000\n",
      "996000\n",
      "998000\n",
      "1000000\n",
      "1002000\n",
      "1004000\n",
      "1006000\n",
      "1008000\n",
      "1010000\n",
      "1012000\n",
      "1014000\n",
      "1016000\n",
      "1018000\n",
      "1020000\n",
      "1022000\n",
      "1024000\n",
      "1026000\n",
      "1028000\n",
      "1030000\n",
      "1032000\n",
      "1034000\n",
      "1036000\n",
      "1038000\n",
      "1040000\n",
      "1042000\n",
      "1044000\n",
      "1046000\n",
      "1048000\n",
      "1050000\n",
      "1052000\n",
      "1054000\n",
      "1056000\n",
      "1058000\n",
      "1060000\n",
      "1062000\n",
      "1064000\n",
      "1066000\n",
      "1068000\n",
      "1070000\n",
      "1072000\n",
      "1074000\n",
      "1076000\n",
      "1078000\n",
      "1080000\n",
      "1082000\n",
      "1084000\n",
      "1086000\n",
      "1088000\n",
      "1090000\n",
      "1092000\n",
      "1094000\n",
      "1096000\n",
      "1098000\n",
      "1100000\n",
      "1102000\n",
      "1104000\n",
      "1106000\n",
      "1108000\n",
      "1110000\n",
      "1112000\n",
      "1114000\n",
      "1116000\n",
      "1118000\n",
      "1120000\n",
      "1122000\n",
      "1124000\n",
      "1126000\n",
      "1128000\n",
      "1130000\n",
      "1132000\n",
      "1134000\n",
      "1136000\n",
      "1138000\n",
      "1140000\n",
      "1142000\n",
      "1144000\n",
      "1146000\n",
      "1148000\n",
      "1150000\n",
      "1152000\n",
      "1154000\n",
      "1156000\n",
      "1158000\n",
      "1160000\n",
      "1162000\n",
      "1164000\n",
      "1166000\n",
      "1168000\n",
      "1170000\n",
      "1172000\n",
      "1174000\n",
      "1176000\n",
      "1178000\n",
      "1180000\n",
      "1182000\n",
      "1184000\n",
      "1186000\n",
      "1188000\n",
      "1190000\n",
      "1192000\n",
      "1194000\n",
      "1196000\n",
      "1198000\n",
      "1200000\n",
      "1202000\n",
      "1204000\n",
      "1206000\n",
      "1208000\n",
      "1210000\n",
      "1212000\n",
      "1214000\n",
      "1216000\n",
      "1218000\n",
      "1220000\n",
      "1222000\n",
      "1224000\n",
      "1226000\n",
      "1228000\n",
      "1230000\n",
      "1232000\n",
      "1234000\n",
      "1236000\n",
      "1238000\n",
      "1240000\n",
      "1242000\n",
      "1244000\n",
      "1246000\n",
      "1248000\n",
      "1250000\n",
      "1252000\n",
      "1254000\n",
      "1256000\n",
      "1258000\n",
      "1260000\n",
      "1262000\n",
      "1264000\n",
      "1266000\n",
      "1268000\n",
      "1270000\n",
      "1272000\n",
      "1274000\n",
      "1276000\n",
      "1278000\n",
      "1280000\n",
      "1282000\n",
      "1284000\n",
      "1286000\n",
      "1288000\n",
      "1290000\n",
      "1292000\n",
      "1294000\n",
      "1296000\n",
      "1298000\n",
      "1300000\n",
      "1302000\n",
      "1304000\n",
      "1306000\n",
      "1308000\n",
      "1310000\n",
      "1312000\n",
      "1314000\n",
      "1316000\n",
      "1318000\n",
      "1320000\n",
      "1322000\n",
      "1324000\n",
      "1326000\n",
      "1328000\n",
      "1330000\n",
      "1332000\n",
      "1334000\n",
      "1336000\n",
      "1338000\n",
      "1340000\n",
      "1342000\n",
      "1344000\n",
      "1346000\n",
      "1348000\n",
      "1350000\n",
      "1352000\n",
      "1354000\n",
      "1356000\n",
      "1358000\n",
      "1360000\n",
      "1362000\n",
      "1364000\n",
      "1366000\n",
      "1368000\n",
      "1370000\n",
      "1372000\n",
      "1374000\n",
      "1376000\n",
      "1378000\n",
      "1380000\n",
      "1382000\n",
      "1384000\n",
      "1386000\n",
      "1388000\n",
      "1390000\n",
      "1392000\n",
      "1394000\n",
      "1396000\n",
      "1398000\n",
      "1400000\n",
      "1402000\n",
      "1404000\n",
      "1406000\n",
      "1408000\n",
      "1410000\n",
      "1412000\n",
      "1414000\n",
      "1416000\n",
      "1418000\n",
      "1420000\n",
      "1422000\n",
      "1424000\n",
      "1426000\n",
      "1428000\n",
      "1430000\n",
      "1432000\n",
      "1434000\n",
      "1436000\n",
      "1438000\n",
      "1440000\n",
      "1442000\n",
      "1444000\n",
      "1446000\n",
      "1448000\n",
      "1450000\n",
      "1452000\n",
      "1454000\n",
      "1456000\n",
      "1458000\n",
      "1460000\n",
      "1462000\n",
      "1464000\n",
      "1466000\n",
      "1468000\n",
      "1470000\n",
      "1472000\n",
      "1474000\n",
      "1476000\n",
      "1478000\n",
      "1480000\n",
      "1482000\n",
      "1484000\n",
      "1486000\n",
      "1488000\n",
      "1490000\n",
      "1492000\n",
      "1494000\n",
      "1496000\n",
      "1498000\n",
      "1500000\n",
      "1502000\n",
      "1504000\n",
      "1506000\n",
      "1508000\n",
      "1510000\n",
      "1512000\n",
      "1514000\n",
      "1516000\n",
      "1518000\n",
      "1520000\n",
      "1522000\n",
      "1524000\n",
      "1526000\n",
      "1528000\n",
      "1530000\n",
      "1532000\n",
      "1534000\n",
      "1536000\n",
      "1538000\n",
      "1540000\n",
      "1542000\n",
      "1544000\n",
      "1546000\n",
      "1548000\n",
      "1550000\n",
      "1552000\n",
      "1554000\n",
      "1556000\n",
      "1558000\n",
      "1560000\n",
      "1562000\n",
      "1564000\n",
      "1566000\n",
      "1568000\n",
      "1570000\n",
      "1572000\n",
      "1574000\n",
      "1576000\n",
      "1578000\n",
      "1580000\n",
      "1582000\n",
      "1584000\n",
      "1586000\n",
      "1588000\n",
      "1590000\n",
      "1592000\n",
      "1594000\n",
      "1596000\n",
      "1598000\n",
      "1600000\n",
      "1602000\n",
      "1604000\n",
      "1606000\n",
      "1608000\n",
      "1610000\n",
      "1612000\n",
      "1614000\n",
      "1616000\n",
      "1618000\n",
      "1620000\n",
      "1622000\n",
      "1624000\n",
      "1626000\n",
      "1628000\n",
      "1630000\n",
      "1632000\n",
      "1634000\n",
      "1636000\n",
      "1638000\n",
      "1640000\n",
      "1642000\n",
      "1644000\n",
      "1646000\n",
      "1648000\n",
      "1650000\n",
      "1652000\n",
      "1654000\n",
      "1656000\n",
      "1658000\n",
      "1660000\n",
      "1662000\n",
      "1664000\n",
      "1666000\n",
      "1668000\n",
      "1670000\n",
      "1672000\n",
      "1674000\n",
      "1676000\n",
      "1678000\n",
      "1680000\n",
      "1682000\n",
      "1684000\n",
      "1686000\n",
      "1688000\n",
      "1690000\n",
      "1692000\n",
      "1694000\n",
      "1696000\n",
      "1698000\n",
      "1700000\n",
      "1702000\n",
      "1704000\n",
      "1706000\n",
      "1708000\n",
      "1710000\n",
      "1712000\n",
      "1714000\n",
      "1716000\n",
      "1718000\n",
      "1720000\n",
      "1722000\n",
      "CPU times: user 1h 11min 13s, sys: 54.5 s, total: 1h 12min 8s\n",
      "Wall time: 1h 13min 8s\n"
     ]
    }
   ],
   "source": [
    "%%time\n",
    "monitor = [n for n in range(0, len(to_lemmatize), 2000)]\n",
    "trigrams_lemmata_dict= {}\n",
    "for n, tup in enumerate(to_lemmatize):\n",
    "    lemmata = get_lemma_filtered(tup[0])\n",
    "    if n in monitor:\n",
    "        print(n)\n",
    "    if len(lemmata.split()) > 1:\n",
    "        trigrams_lemmata_dict[tup[0]] = {\"lemmata\" : lemmata, \"count\" : tup[1]}"
   ],
   "metadata": {
    "collapsed": false
   }
  },
  {
   "cell_type": "code",
   "execution_count": 100,
   "outputs": [],
   "source": [
    "with open(\"../data/large_files/trigrams_lemmata_dict.pickle\", \"wb\") as f:\n",
    "    pickle.dump(trigrams_lemmata_dict, f)"
   ],
   "metadata": {
    "collapsed": false
   }
  },
  {
   "cell_type": "code",
   "execution_count": 10,
   "outputs": [],
   "source": [
    "del trigramCount_dict"
   ],
   "metadata": {
    "collapsed": false
   }
  },
  {
   "cell_type": "code",
   "execution_count": 9,
   "outputs": [
    {
     "data": {
      "text/plain": "1246103"
     },
     "execution_count": 9,
     "metadata": {},
     "output_type": "execute_result"
    }
   ],
   "source": [
    "trigrams_lemmata_dict = pickle.load(open(\"../data/large_files/trigrams_lemmata_dict.pickle\", \"rb\"))\n",
    "len(trigrams_lemmata_dict)"
   ],
   "metadata": {
    "collapsed": false
   }
  },
  {
   "cell_type": "code",
   "execution_count": 13,
   "outputs": [
    {
     "name": "stdout",
     "output_type": "stream",
     "text": [
      "CPU times: user 2.71 ms, sys: 3.95 ms, total: 6.66 ms\n",
      "Wall time: 6.17 ms\n"
     ]
    }
   ],
   "source": [
    "%%time\n",
    "# developing application to individual documents\n",
    "destpath = \"../data/large_files/trigrams_filtered/\"\n",
    "id = 0\n",
    "with open(destpath + \"id_{}.json\".format(str(id)), \"r\") as f:\n",
    "    d_cleaned = json.load(f)\n",
    "counter = Counter()\n",
    "for item in d_cleaned.items():\n",
    "    try:\n",
    "        counter.update({trigrams_lemmata_dict[item[0]][\"lemmata\"] : item[1]})\n",
    "    except:\n",
    "        pass"
   ],
   "metadata": {
    "collapsed": false
   }
  },
  {
   "cell_type": "code",
   "execution_count": 15,
   "outputs": [],
   "source": [
    "trigrams_list = []\n",
    "for tup in counter.items():\n",
    "    trigrams_list.extend([tup[0]]*tup[1])"
   ],
   "metadata": {
    "collapsed": false
   }
  },
  {
   "cell_type": "code",
   "execution_count": 16,
   "outputs": [
    {
     "data": {
      "text/plain": "['H F MATHEWS',\n 'lifes vicissitude',\n 'lifes vicissitude',\n 'death man',\n 'allow take',\n 'supernatural Kingdom',\n 'supernatural Kingdom',\n 'pain sin',\n 'history prove',\n 'history prove',\n 'War Memorial',\n 'War Memorial',\n 'thing go',\n 'operation god',\n 'God day',\n 'world event',\n 'world event',\n 'half inch',\n 'half inch',\n 'half inch',\n 'direct application',\n 'transform faith',\n 'living memory',\n 'living memory',\n 'wise man',\n 'wise man',\n 'wise man',\n 'wise man',\n 'moral teaching',\n 'moral teaching',\n 'moral teaching',\n 'moral teaching',\n 'John believe',\n 'John believe',\n 'many home',\n 'way regard',\n 'work come',\n 'work come',\n 'act Divine',\n 'sort question',\n 'sort question',\n 'Karl Barth',\n 'Karl Barth',\n 'selfgive service',\n 'selfgive service',\n 'experience know',\n 'experience know',\n 'time instance',\n 'little book entitle',\n 'faith patience',\n 'reverent silence',\n 'reverent silence',\n 'reverent silence',\n 'reverent silence',\n 'reverent silence',\n 'reverent silence',\n 'reverent silence',\n 'know Mt',\n 'character God',\n 'death consider',\n 'bear burden',\n 'high hill',\n 'great assize',\n 'great assize',\n 'present God',\n 'crystal clear',\n 'crystal clear',\n 'God man',\n 'wrong say',\n 'ask question',\n 'ask question',\n 'ask question',\n 'ask question',\n 'prepare receive',\n 'young old',\n 'young old',\n 'way look',\n 'enslaved man',\n 'enslaved man',\n 'short one',\n 'love Jesus',\n 'wonderful world',\n 'very reverend',\n 'man prepare',\n 'man prepare',\n 'wash another',\n 'day go',\n 'day go',\n 'man feel',\n 'forgiveness grace',\n 'stand firm',\n 'stand firm',\n 'boy girl',\n 'god love',\n 'god love',\n 'traditional form',\n 'traditional form',\n 'measure life',\n 'measure life',\n 'describe God',\n 'describe God',\n 'hide thing',\n 'hide thing',\n 'human race',\n 'human race',\n 'letter h',\n 'Gods intention',\n 'Gods intention',\n 'JOHNSTONE JEFFREY DD',\n 'struggle good',\n 'poor ignorant',\n 'poor ignorant',\n 'well way',\n 'well way',\n 'correct answer',\n 'correct answer',\n 'mind grasp',\n 'many province',\n 'many province',\n 'wellknown writer',\n 'wellknown writer',\n 'religion seek',\n 'moral insight',\n 'moral insight',\n 'God leave',\n 'apocalyptic eschatology',\n 'apocalyptic eschatology',\n 'unattainable ideal',\n 'unattainable ideal',\n 'God strike',\n 'God strike',\n 'Jesus man',\n 'man involve',\n 'need repentance',\n 'take advantage',\n 'take advantage',\n 'kill action',\n 'clarion call',\n 'clarion call',\n 'seek share',\n 'Richard Niebuhr',\n 'personal human',\n 'Lord come',\n 'Lord come',\n 'face persecution',\n 'T W Manson',\n 'T W Manson',\n 'live Jesus',\n 'sanctuary God',\n 'vast debt',\n 'desire goal',\n 'desire goal',\n 'absolute obedience',\n 'absolute obedience',\n 'voice say',\n 'voice say',\n 'Jesus We',\n 'New Testament',\n 'New Testament',\n 'New Testament',\n 'New Testament',\n 'New Testament',\n 'New Testament',\n 'New Testament',\n 'imperial Rome',\n 'imperial Rome',\n 'religion morality',\n 'consider first',\n 'consider first',\n 'MA CATHCART GLASGOW',\n 'first step',\n 'first step',\n 'M Hunter',\n 'M Hunter',\n 'forgive debtor',\n 'control knowledge',\n 'leg amputate',\n 'leg amputate',\n 'see relic',\n 'see relic',\n 'Governor General',\n 'Governor General',\n 'important person',\n 'spiritual issue',\n 'mind force',\n 'human life',\n 'human life',\n 'human life',\n 'various philosophy',\n 'various philosophy',\n 'reveal Jesus',\n 'first ray',\n 'first ray',\n 'life many',\n 'God open',\n 'year war',\n 'theological approach',\n 'theological approach',\n 'criticism feel',\n 'say ask',\n 'busy thoroughfare',\n 'busy thoroughfare',\n 'Truth Way',\n 'highwater mark',\n 'selfish pride',\n 'Upper Room',\n 'Upper Room',\n 'different side',\n 'Jesus express',\n 'Jesus express',\n 'look thing',\n 'ask father',\n 'share experience',\n 'seek apply',\n 'deep sense',\n 'deep sense',\n 'duty let',\n 'New Testament textual',\n 'time include',\n 'time include',\n 'picture life',\n 'simple fact',\n 'live God',\n 'live God',\n 'underlie truth',\n 'underlie truth',\n 'lead believe',\n 'total personal',\n 'child include',\n 'child include',\n 'good cause',\n 'good cause',\n 'course world',\n 'Jesus Christ',\n 'Jesus Christ',\n 'Jesus Christ',\n 'Jesus Christ',\n 'writer present',\n 'writer present',\n 'great picture',\n 'great picture',\n 'task revise',\n 'service God',\n 'leave great',\n 'clear understanding',\n 'clear understanding',\n 'mans control',\n 'dramatic action',\n 'dramatic action',\n 'leave God',\n 'GEORGE JOHNSTONE jeffrey',\n 'possible life',\n 'John proclaim',\n 'John proclaim',\n 'redeem God',\n 'father religion',\n 'American Methodist',\n 'silence impose',\n 'twentieth century',\n 'diverse line',\n 'diverse line',\n 'Christian put',\n 'Christian put',\n 'Christ let',\n 'omnipotence God',\n 'come existence',\n 'sense need',\n 'John transform',\n 'form prayer',\n 'enjoy freedom',\n 'prayer cry',\n 'prayer cry',\n 'report work',\n 'sinful man',\n 'sinful man',\n 'sinful man',\n 'sick man',\n 'sick man',\n 'girl see',\n 'girl see',\n 'immediate judgment',\n 'immediate judgment',\n 'important thing',\n 'important thing',\n 'Lord God',\n 'Lord God',\n 'Lord God',\n 'Lord God',\n 'Lord God',\n 'fact say',\n 'bless life',\n 'struggle virtue',\n 'christian man',\n 'christian man',\n 'hand clasped',\n 'hand clasped',\n 'wisdom God',\n 'foot ye',\n 'sun rise',\n 'sun rise',\n 'man live',\n 'man live',\n 'great victory',\n 'many look',\n 'power forgiveness',\n 'power forgiveness',\n 'open New',\n 'go South',\n 'death stand',\n 'unique quality',\n 'unique quality',\n 'certain day',\n 'certain day',\n 'blood Jesus',\n 'open Bible',\n 'open Bible',\n 'eternal Kingdom',\n 'eternal Kingdom',\n 'victory parade',\n 'victory parade',\n 'victory parade',\n 'leave way',\n 'show man',\n 'show man',\n 'happen John',\n 'John know',\n 'John know',\n 'Gerhard Kittel',\n 'Gerhard Kittel',\n 'praise God',\n 'conditional clause',\n 'make clean',\n 'experience Jesus',\n 'experience Jesus',\n 'final day',\n 'final day',\n 'fall man',\n 'fall man',\n 'new way',\n 'new way',\n 'Kingdom God',\n 'Kingdom God',\n 'Kingdom God',\n 'thing darkness',\n 'inch width',\n 'lord master',\n 'moral demand',\n 'god persistent',\n 'god persistent',\n 'soul seem',\n 'group people',\n 'transmit faith',\n 'human countenance',\n 'human countenance',\n 'SUNDAY trinity',\n 'SUNDAY trinity',\n 'SUNDAY trinity',\n 'SUNDAY trinity',\n 'make manifest',\n 'make manifest',\n 'make manifest',\n 'time Jesus',\n 'willing obedience',\n 'imperfect world',\n 'God allow',\n 'true spirituality',\n 'true spirituality',\n 'shop window',\n 'shop window',\n 'measure god',\n 'Rome face',\n 'Rome face',\n 'extreme view',\n 'great faith',\n 'great faith',\n 'make steel',\n 'point view',\n 'good man',\n 'good man',\n 'human term',\n 'human term',\n 'fact ask',\n 'fact ask',\n 'hear answer',\n 'task dutie',\n 'take life',\n 'JEFFREY DD GLASGOW',\n 'god perfect',\n 'god perfect',\n 'god final',\n 'god final',\n 'god final',\n 'man nation',\n 'struggle fight',\n 'history bring',\n 'wash one',\n 'Schweitzer regard',\n 'CATHCART GLASGOW',\n 'North Wales',\n 'North Wales',\n 'light truth',\n 'want war',\n 'want war',\n 'depth complexity',\n 'text suggest',\n 'way man',\n 'God do',\n 'God do',\n 'full strength',\n 'full strength',\n 'Jesus bid',\n 'glory God',\n 'become straight',\n 'people difficult',\n 'power reveal',\n 'live child',\n 'need share',\n 'shoot war',\n 'shoot war',\n 'bring light',\n 'world flesh',\n 'literal obedience',\n 'literal obedience',\n 'difficult day',\n 'difficult day',\n 'hydrogen bomb',\n 'hydrogen bomb',\n 'member society',\n 'life bring',\n 'life bring',\n 'military uniform',\n 'military uniform',\n 'ordinary man',\n 'ordinary man',\n 'ordinary man',\n 'ordinary man',\n 'bless hope',\n 'seeth secret',\n 'moral striving',\n 'moral striving',\n 'foot hold',\n 'old woman',\n 'old woman',\n 'equal object',\n 'equal object',\n 'perpetual torment',\n 'perpetual torment',\n 'ordinary task',\n 'ordinary task',\n 'call evil',\n 'work Christ',\n 'german name',\n 'german name',\n 'assistance receive',\n 'strong faith',\n 'man woman',\n 'man woman',\n 'save work',\n 'save work',\n 'Church tell',\n 'go live',\n 'love Christ',\n 'christian religion',\n 'Apostle John',\n 'Apostle John',\n 'rule motive',\n 'rule motive',\n 'make well',\n 'KENT MA CATHCART',\n 'vast multitude',\n 'vast multitude',\n 'name Johannes',\n 'make plain',\n 'round world',\n 'death destroy',\n 'follow resolution',\n 'follow resolution',\n 'love God',\n 'incalculable power',\n 'incalculable power',\n 'come know',\n 'happen man',\n 'happen man',\n 'F MATHEWS MA',\n 'dwell little',\n 'hear prayer',\n 'say Hell',\n 'new law',\n 'new law',\n 'mans character',\n 'mans character',\n 'terrible power',\n 'terrible power',\n 'earthly value',\n 'earthly value',\n 'long time',\n 'long time',\n 'day reckon',\n 'situation face',\n 'proper thing',\n 'proper thing',\n 'receive reply',\n 'undergone change',\n 'mean God',\n 'know God',\n 'know God',\n 'Jesus Christ Let',\n 'forgive debt',\n 'forgive debt',\n 'mans sin',\n 'mans sin',\n 'truth A',\n 'mercy God',\n 'mercy God',\n 'way life',\n 'way life',\n 'question question',\n 'question question',\n 'whole fabric',\n 'whole fabric',\n 'god world',\n 'god world',\n 'god world',\n 'god world',\n 'control authority',\n 'God earth',\n 'God earth',\n 'true sense',\n 'true sense',\n 'full equal',\n 'let one',\n 'famous scholar',\n 'Jesus help',\n 'philosophy religion',\n 'execute god',\n 'execute god',\n 'situation life',\n 'possible way',\n 'possible way',\n 'people observe',\n 'people observe',\n 'seem feel',\n 'Old Testament day',\n 'million child',\n 'possess new',\n 'possess new',\n 'debt forgive',\n 'debt forgive',\n 'account human',\n 'old roman',\n 'broken world',\n 'broken world',\n 'seek power',\n 'lose much',\n 'kind spirit',\n 'hear accept',\n 'social consequence',\n 'pos sible',\n 'pos sible',\n 'Testament day',\n 'father George',\n 'father George',\n 'REVEREND GEORGE JOHNSTONE',\n 'uneasy peace',\n 'name address',\n 'interim ethic',\n 'interim ethic',\n 'white garment',\n 'white garment',\n 'another foot',\n 'infinite compassion',\n 'infinite compassion',\n 'meet gaze',\n 'danger death',\n 'Emil Brunner',\n 'Emil Brunner',\n 'let seek',\n 'live breathing',\n 'new society',\n 'picturesque language',\n 'picturesque language',\n 'prophetic legal',\n 'voice go',\n 'voice go',\n 'life get',\n 'say m',\n 'holy place',\n 'silence heaven',\n 'silence heaven',\n 'silence heaven',\n 'people assume',\n 'people assume',\n 'Gods forgiveness',\n 'need God',\n 'need God',\n 'eternal fellowship',\n 'certain basic',\n 'day come',\n 'day come',\n 'time decide',\n 'question life',\n 'seek good',\n 'Himself Christ',\n 'love make',\n 'thing least',\n 'last great',\n 'see evil',\n 'wound suffer',\n 'white light',\n 'white light',\n 'true self',\n 'make human',\n 'Son God',\n 'translate word',\n 'god care',\n 'god care',\n 'boy die',\n 'person live',\n 'book office',\n 'saint true',\n 'enough truth',\n 'enough truth',\n 'obedience new',\n 'time make',\n 'time make',\n 'South America',\n 'South America',\n 'God make',\n 'give take',\n 'much ordinary',\n 'similar group',\n 'similar group',\n 'Professor A',\n 'faith hold',\n 'write play',\n 'Word God',\n 'thou wilt',\n 'wash foot',\n 'man exist',\n 'ideal picture',\n 'ideal picture',\n 'precious blood',\n 'precious blood',\n 'Apostle Paul',\n 'Apostle Paul',\n 'truth truth',\n 'law court',\n 'old Testament',\n 'people thing',\n 'Passover Feast',\n 'take pain',\n 'take pain',\n 'christian people',\n 'life term',\n 'power earth',\n 'pure gold',\n 'need dwell',\n 'gospel god',\n 'Dr Hunter',\n 'Dr Hunter',\n 'prepare pay',\n 'enough hold',\n 'action effect',\n 'helpful look',\n 'present serious',\n 'hold thing',\n 'World Wars',\n 'World Wars',\n 'Stanley Jones',\n 'REVEREND JOHN',\n 'dd EDINBURGH',\n 'retain traditional',\n 'natural consequence',\n 'natural consequence',\n 'little direct',\n 'insight Jesus',\n 'Remembrance Day',\n 'write help',\n 'beat sword',\n 'beat sword',\n 'woman prepare',\n 'father mother',\n 'light hide',\n 'set circumstance',\n 'prayer people',\n 'W Manson',\n 'divine intervention',\n 'Testament textual criticism',\n 'make religion',\n 'man praise',\n 'Jesus ask',\n 'important one',\n 'inner life',\n 'good report',\n 'good report',\n 'Professor A M',\n 'delay action',\n 'precede chapter',\n 'precede chapter',\n 'goal freedom',\n 'roll call',\n 'Lord God omnipotent',\n 'Lord God omnipotent',\n 'Lord God omnipotent',\n 'Lord God omnipotent',\n 'great wonderful',\n 'need fear',\n 'proclaim faith',\n 'Christian Year',\n 'sense urgency',\n 'forgive trespass',\n 'God A',\n 'Jones find',\n 'human face',\n 'basic principle',\n 'see exemplified',\n 'Kirk Session',\n 'Kirk Session',\n 'last hour',\n 'inner world',\n 'inner world',\n 'force wickedness',\n 'Albert Schweitzer',\n 'Albert Schweitzer',\n 'REVEREND JOHN L',\n 'spiritual weakness',\n 'spiritual weakness',\n 'receive gospel',\n 'man answer',\n 'manifest counsel',\n 'circumstance produce',\n 'line approach',\n 'found love',\n 'Jesus example',\n 'Jesus example',\n 'understand god',\n 'man military',\n 'different line',\n 'hour darkness',\n 'chapter writer',\n 'service man',\n 'include long',\n 'demonstrate gratitude',\n 'disciple feet',\n 's one',\n 'point theology',\n 'strange way',\n 'strange way',\n 'God know',\n 'love endure',\n 'John see',\n 'God reveal',\n 'God reveal',\n 'Jesus say',\n 'Jesus say',\n 'young man',\n 'young man',\n 'good evil',\n 'absolute truth',\n 'absolute truth',\n 'mans ignorance',\n 'Lord Jesus Christ',\n 'face face',\n 'congregation begin',\n 'russian novelist',\n 'put trust',\n 'mean end',\n 'great Western',\n 'line interpretation',\n 'claim Jesus',\n 'goodness truth',\n 'subsequent career',\n 'sin death',\n 'PHD KIDDERMINSTER',\n 'life enter',\n 'offer God',\n 'offer God',\n 'offer God',\n 'host heaven',\n 'path redemption',\n 'divine love',\n 'question God',\n 'power God',\n 'power God',\n 'Lord Jesus',\n 'Lord Jesus',\n 'God speak',\n 'view associate',\n 'daily life',\n 'daily life',\n 'help Christian',\n 'term apocalyptic',\n 'God call',\n 'holy man',\n 'man liveth',\n 'us debt',\n 'us debt',\n 'tell story',\n 'striking contrast',\n 'force man',\n 'centurion son',\n 'prepared treat',\n 'Gods holy',\n 'ship company',\n 'man escape',\n 'REVEREND r',\n 'influence course',\n 'writer speaker',\n 'hand go',\n 'visible form',\n 'faith bear',\n 'apply passage',\n 'L KENT MA',\n 'fill heart',\n 'teacher ask',\n 'order thing',\n 'life life',\n 'lord earthly',\n 'say term',\n 'death death',\n 'listen hear',\n 'build house',\n 'H F',\n 'tone prophetic',\n 'Jesus John',\n 'man go',\n 'God hear',\n 'God love',\n 'involve think',\n 'Jesus suffer',\n 'much man',\n 'act kindness',\n 'pure lovely',\n 'demand Jesus',\n 'teach Jesus',\n 'teach Jesus',\n 'book write',\n 'JOHN L KENT',\n 'need challenge',\n 'immense debt',\n 'power man',\n 'strike contrast',\n 'time look',\n 'call mind',\n 'short week',\n 'moral spiritual',\n 'moral spiritual',\n 'invincible love',\n 'canst make',\n 'begin preparation',\n 'light Truth',\n 'christian soldier',\n 'constant theme',\n 'patience wait',\n 'give correct',\n 'understand word',\n 'element truth',\n 'church compose',\n 'list name',\n 'spirit mean',\n 'mean Jesus',\n 'DD GLASGOW',\n 'detail p',\n 'Gods Holy Word',\n 'Jesus meet',\n 'variety range',\n 'period wait',\n 'day begin',\n 'christian revelation',\n 'thought imagination',\n 'throw arm',\n 'man build',\n 'sword ploughshare',\n 'character service',\n 'Lords Prayer']"
     },
     "execution_count": 16,
     "metadata": {},
     "output_type": "execute_result"
    }
   ],
   "source": [
    "trigrams_list"
   ],
   "metadata": {
    "collapsed": false
   }
  },
  {
   "cell_type": "code",
   "execution_count": 22,
   "outputs": [],
   "source": [
    "trigrams_list\n",
    "with open(\"test.txt\", \"w\") as f:\n",
    "    f.writelines(trigrams_list)"
   ],
   "metadata": {
    "collapsed": false
   }
  },
  {
   "cell_type": "code",
   "execution_count": 108,
   "outputs": [],
   "source": [
    "sourcepath = destpath\n",
    "destpath = \"../data/large_files/trigrams_lemmatized/\"\n",
    "try:\n",
    "    os.makedirs(destpath)\n",
    "except:\n",
    "    pass"
   ],
   "metadata": {
    "collapsed": false
   }
  },
  {
   "cell_type": "code",
   "execution_count": 110,
   "outputs": [
    {
     "name": "stdout",
     "output_type": "stream",
     "text": [
      "CPU times: user 1min 21s, sys: 12.3 s, total: 1min 33s\n",
      "Wall time: 2min 13s\n"
     ]
    }
   ],
   "source": [
    "%%time\n",
    "for id in ids:\n",
    "    with open(sourcepath + \"id_{}.json\".format(str(id)), \"r\") as f:\n",
    "        d_cleaned = json.load(f)\n",
    "    counter = Counter()\n",
    "    for item in d_cleaned.items():\n",
    "        try:\n",
    "            counter.update({trigrams_lemmata_dict[item[0]][\"lemmata\"] : item[1]})\n",
    "        except:\n",
    "            pass\n",
    "    with open(destpath + \"trigrams_lemmata_id_{}.json\".format(str(id)), \"w\") as f:\n",
    "        json.dump(counter, f)\n"
   ],
   "metadata": {
    "collapsed": false
   }
  },
  {
   "cell_type": "code",
   "execution_count": 113,
   "outputs": [
    {
     "data": {
      "text/plain": "3083"
     },
     "execution_count": 113,
     "metadata": {},
     "output_type": "execute_result"
    }
   ],
   "source": [
    "len([fname for fname in os.listdir(sourcepath) if \"lemmata\" in fname])"
   ],
   "metadata": {
    "collapsed": false
   }
  },
  {
   "cell_type": "code",
   "execution_count": 114,
   "outputs": [],
   "source": [
    "for fname in [fname for fname in os.listdir(sourcepath) if \"lemmata\" in fname]:\n",
    "    os.remove(sourcepath + fname)"
   ],
   "metadata": {
    "collapsed": false
   }
  },
  {
   "cell_type": "code",
   "execution_count": null,
   "outputs": [],
   "source": [],
   "metadata": {
    "collapsed": false
   }
  },
  {
   "cell_type": "code",
   "execution_count": null,
   "outputs": [],
   "source": [],
   "metadata": {
    "collapsed": false
   }
  },
  {
   "cell_type": "code",
   "execution_count": null,
   "outputs": [],
   "source": [],
   "metadata": {
    "collapsed": false
   }
  },
  {
   "cell_type": "code",
   "execution_count": 101,
   "outputs": [],
   "source": [
    "# Backup"
   ],
   "metadata": {
    "collapsed": false
   }
  },
  {
   "cell_type": "markdown",
   "source": [
    "# Most frequent unigrams to nlp docs"
   ],
   "metadata": {
    "collapsed": false
   }
  },
  {
   "cell_type": "code",
   "execution_count": 108,
   "outputs": [],
   "source": [
    "# load spacy english nlp model & english stopwords...\n",
    "#stop_words = nlp_spacy.Defaults.stop_words"
   ],
   "metadata": {
    "collapsed": false
   }
  },
  {
   "cell_type": "code",
   "execution_count": 109,
   "outputs": [
    {
     "data": {
      "text/plain": "[('the', 64204),\n ('of', 43727),\n ('and', 29112),\n ('to', 24051),\n ('in', 23227),\n ('is', 11614),\n ('that', 11283),\n ('as', 8204),\n ('The', 6860),\n ('for', 6850),\n ('his', 6283),\n ('with', 6121),\n ('was', 5995),\n ('he', 5314),\n ('by', 5164),\n ('not', 5095),\n ('on', 4746),\n ('from', 4525),\n ('it', 4500),\n ('this', 4388),\n ('be', 4355),\n ('or', 3657),\n ('which', 3568),\n ('are', 3401),\n ('an', 3185),\n ('their', 3085),\n ('who', 3080),\n ('God', 3032),\n ('have', 2951),\n ('but', 2774),\n ('at', 2649),\n ('Paul', 2601),\n ('were', 2543),\n ('they', 2531),\n ('In', 2524),\n ('had', 2435),\n ('one', 2336),\n ('all', 2258),\n ('has', 2093),\n ('him', 1966),\n ('we', 1966),\n ('Christ', 1886),\n ('also', 1854),\n ('its', 1685),\n ('them', 1600),\n ('Christian', 1594),\n ('more', 1579),\n ('Jesus', 1546),\n ('would', 1496),\n ('what', 1489),\n ('you', 1474),\n ('This', 1472),\n ('been', 1441),\n ('will', 1439),\n ('other', 1423),\n ('into', 1356),\n ('only', 1342),\n ('It', 1324),\n ('so', 1322),\n ('no', 1299),\n ('about', 1293),\n ('He', 1288),\n ('life', 1260),\n ('these', 1253),\n ('New', 1197),\n ('there', 1196),\n ('when', 1170),\n ('than', 1166),\n ('some', 1115),\n ('through', 1086),\n ('between', 1079),\n ('such', 1075),\n ('those', 1072),\n ('do', 1066),\n ('can', 1055),\n ('see', 1049),\n ('church', 1034),\n ('our', 1032),\n ('my', 1020),\n ('people', 1013),\n ('her', 997),\n ('For', 996),\n ('first', 990),\n ('own', 922),\n ('Pauls', 919),\n ('us', 910),\n ('even', 908),\n ('two', 905),\n ('could', 903),\n ('faith', 899),\n ('out', 898),\n ('Church', 897),\n ('may', 884),\n ('if', 882),\n ('does', 881),\n ('religious', 875),\n ('See', 869),\n ('me', 869),\n ('world', 861),\n ('most', 856),\n ('time', 853),\n ('way', 846),\n ('Jewish', 840),\n ('But', 833),\n ('man', 821),\n ('both', 807),\n ('many', 804),\n ('because', 803),\n ('Christians', 802),\n ('And', 801),\n ('love', 800),\n ('work', 797),\n ('Gods', 778),\n ('new', 772),\n ('did', 757),\n ('Spirit', 740),\n ('should', 738),\n ('how', 735),\n ('where', 735),\n ('being', 716),\n ('same', 706),\n ('John', 695),\n ('human', 689),\n ('any', 683),\n ('well', 680),\n ('himself', 679),\n ('Press', 677),\n ('social', 675),\n ('then', 673),\n ('de', 664),\n ('up', 655),\n ('upon', 654),\n ('made', 642),\n ('University', 642),\n ('like', 641),\n ('As', 641),\n ('before', 640),\n ('after', 640),\n ('over', 634),\n ('Testament', 633),\n ('said', 624),\n ('against', 623),\n ('et', 621),\n ('must', 613),\n ('part', 596),\n ('good', 592),\n ('Lord', 586),\n ('among', 585),\n ('century', 583),\n ('she', 580),\n ('order', 577),\n ('Jews', 576),\n ('law', 575),\n ('very', 568),\n ('here', 566),\n ('much', 557),\n ('power', 556),\n ('your', 556),\n ('community', 552),\n ('Catholic', 548),\n ('HB', 541),\n ('death', 535),\n ('text', 535),\n ('Christianity', 532),\n ('while', 530),\n ('early', 530),\n ('now', 516),\n ('On', 506),\n ('men', 505),\n ('rather', 502),\n ('found', 499),\n ('words', 496),\n ('called', 483),\n ('however', 482),\n ('without', 479),\n ('might', 475),\n ('ed', 474),\n ('three', 470),\n ('history', 465),\n ('place', 464),\n ('They', 460),\n ('THE', 459),\n ('book', 459),\n ('say', 455),\n ('others', 455),\n ('Greek', 454),\n ('under', 453),\n ('spiritual', 453),\n ('churches', 452),\n ('reading', 450),\n ('divine', 450),\n ('use', 449),\n ('word', 445),\n ('within', 443),\n ('Cf', 436),\n ('pp', 436),\n ('Cor', 436),\n ('another', 434),\n ('thought', 432),\n ('whom', 432),\n ('make', 425),\n ('His', 423),\n ('Father', 423),\n ('sense', 420),\n ('great', 417),\n ('Bible', 416),\n ('Judaism', 416),\n ('Law', 414),\n ('salvation', 412),\n ('fact', 411),\n ('nature', 410),\n ('If', 409),\n ('religion', 409),\n ('means', 409),\n ('Cambridge', 409),\n ('Romans', 408),\n ('tradition', 407),\n ('Gospel', 407),\n ('view', 407),\n ('Corinthians', 404),\n ('example', 403),\n ('There', 401),\n ('come', 400),\n ('says', 399),\n ('each', 399),\n ('Roman', 399),\n ('later', 399),\n ('Holy', 398),\n ('given', 396),\n ('years', 396),\n ('om', 396),\n ('Luke', 395),\n ('itself', 394),\n ('point', 394),\n ('day', 394),\n ('letter', 392),\n ('different', 390),\n ('form', 389),\n ('understanding', 388),\n ('St', 388),\n ('women', 387),\n ('know', 386),\n ('spirit', 384),\n ('came', 384),\n ('authority', 384),\n ('We', 383),\n ('works', 381),\n ('often', 381),\n ('become', 379),\n ('themselves', 378),\n ('theology', 376),\n ('things', 373),\n ('question', 372),\n ('Israel', 371),\n ('What', 370),\n ('end', 368),\n ('person', 367),\n ('York', 367),\n ('Rom', 363),\n ('poor', 363),\n ('just', 358),\n ('became', 356),\n ('meaning', 355),\n ('theological', 354),\n ('used', 353),\n ('though', 350),\n ('holy', 348),\n ('Acts', 347),\n ('second', 344),\n ('experience', 343),\n ('important', 343),\n ('context', 343),\n ('grace', 342),\n ('present', 340),\n ('still', 339),\n ('according', 338),\n ('sin', 336),\n ('practice', 335),\n ('American', 333),\n ('To', 332),\n ('too', 331),\n ('cf', 329),\n ('When', 329),\n ('Christs', 327),\n ('general', 327),\n ('interpretation', 325),\n ('English', 324),\n ('gospel', 324),\n ('Jerusalem', 323),\n ('language', 323),\n ('One', 321),\n ('Thus', 320),\n ('case', 319),\n ('OF', 317),\n ('certain', 316),\n ('name', 315),\n ('especially', 315),\n ('righteousness', 313),\n ('political', 313),\n ('study', 312),\n ('give', 312),\n ('true', 311),\n ('texts', 309),\n ('together', 309),\n ('biblical', 309),\n ('whole', 308),\n ('take', 307),\n ('whose', 307),\n ('state', 306),\n ('II', 305),\n ('since', 305),\n ('find', 305),\n ('light', 304),\n ('historical', 303),\n ('By', 303),\n ('during', 303),\n ('every', 302),\n ('whether', 301),\n ('seen', 301),\n ('particular', 296),\n ('clear', 295),\n ('read', 295),\n ('common', 293),\n ('down', 292),\n ('following', 291),\n ('body', 291),\n ('Peter', 291),\n ('therefore', 290),\n ('above', 290),\n ('ones', 289),\n ('least', 288),\n ('hand', 287),\n ('shall', 286),\n ('terms', 285),\n ('account', 284),\n ('relationship', 283),\n ('am', 282),\n ('These', 281),\n ('role', 281),\n ('away', 279),\n ('members', 278),\n ('never', 276),\n ('That', 276),\n ('thus', 275),\n ('little', 274),\n ('author', 273),\n ('set', 272),\n ('At', 272),\n ('again', 271),\n ('cannot', 271),\n ('heart', 270),\n ('known', 269),\n ('knowledge', 269),\n ('idea', 267),\n ('reason', 267),\n ('until', 266),\n ('Old', 266),\n ('truth', 265),\n ('Religion', 265),\n ('letters', 264),\n ('long', 264),\n ('need', 263),\n ('Emerson', 262),\n ('Protestant', 261),\n ('far', 261),\n ('seems', 261),\n ('further', 261),\n ('number', 261),\n ('nor', 260),\n ('prayer', 260),\n ('back', 259),\n ('taken', 258),\n ('Pauline', 257),\n ('less', 256),\n ('took', 255),\n ('Son', 255),\n ('several', 255),\n ('James', 255),\n ('something', 253),\n ('soul', 253),\n ('chapter', 253),\n ('service', 252),\n ('already', 251),\n ('An', 251),\n ('Th', 251),\n ('various', 250),\n ('While', 249),\n ('personal', 249),\n ('yet', 248),\n ('makes', 247),\n ('always', 247),\n ('city', 247),\n ('From', 245),\n ('Latin', 245),\n ('So', 243),\n ('History', 242),\n ('position', 240),\n ('Gal', 240),\n ('mind', 239),\n ('similar', 237),\n ('written', 237),\n ('moral', 236),\n ('covenant', 236),\n ('course', 234),\n ('few', 234),\n ('living', 233),\n ('However', 232),\n ('movement', 232),\n ('woman', 229),\n ('children', 229),\n ('priest', 229),\n ('gave', 228),\n ('ways', 227),\n ('identity', 227),\n ('family', 227),\n ('went', 226),\n ('toward', 225),\n ('modern', 225),\n ('argument', 225),\n ('discussion', 224),\n ('kind', 224),\n ('authorities', 223),\n ('old', 221),\n ('ad', 221),\n ('term', 221),\n ('African', 221),\n ('perhaps', 220),\n ('London', 219),\n ('De', 219),\n ('once', 218),\n ('times', 218),\n ('fi', 218),\n ('Abraham', 218),\n ('ins', 218),\n ('go', 217),\n ('Rome', 217),\n ('According', 216),\n ('public', 216),\n ('right', 216),\n ('image', 215),\n ('act', 215),\n ('Scripture', 215),\n ('understood', 214),\n ('last', 214),\n ('pages', 214),\n ('reference', 213),\n ('evidence', 213),\n ('ancient', 212),\n ('saw', 211),\n ('evil', 211),\n ('put', 211),\n ('Theology', 211),\n ('reality', 209),\n ('und', 209),\n ('Saint', 209),\n ('land', 208),\n ('basis', 207),\n ('passage', 207),\n ('Apostle', 207),\n ('David', 207),\n ('group', 207),\n ('call', 206),\n ('based', 206),\n ('including', 206),\n ('live', 205),\n ('left', 205),\n ('period', 205),\n ('think', 205),\n ('Although', 205),\n ('How', 205),\n ('year', 205),\n ('hope', 204),\n ('problem', 204),\n ('Hebrews', 204),\n ('Moses', 204),\n ('baptism', 203),\n ('comes', 203),\n ('began', 203),\n ('matter', 202),\n ('although', 202),\n ('understand', 202),\n ('translation', 202),\n ('Hebrew', 202),\n ('revelation', 201),\n ('best', 201),\n ('received', 201),\n ('scholars', 201),\n ('society', 201),\n ('possible', 200),\n ('father', 199),\n ('cross', 199),\n ('nothing', 199),\n ('Journal', 199),\n ('almost', 199),\n ('ministry', 199),\n ('communion', 198),\n ('friend', 197),\n ('contemporary', 197),\n ('leaders', 197),\n ('Ibid', 196),\n ('Gentiles', 196),\n ('why', 195),\n ('commentary', 194),\n ('sources', 194),\n ('local', 194),\n ('communities', 194),\n ('support', 192),\n ('teaching', 191),\n ('believers', 191),\n ('story', 191),\n ('late', 191),\n ('mission', 191),\n ('worship', 191),\n ('having', 190),\n ('wrote', 190),\n ('third', 189),\n ('free', 189),\n ('help', 189),\n ('let', 189),\n ('four', 189),\n ('full', 189),\n ('situation', 188),\n ('earlier', 188),\n ('Studies', 188),\n ('status', 188),\n ('traditions', 187),\n ('doctrine', 187),\n ('particularly', 187),\n ('done', 186),\n ('earth', 186),\n ('traditional', 186),\n ('angels', 186),\n ('creation', 185),\n ('beyond', 185),\n ('kingdom', 185),\n ('considered', 185),\n ('states', 185),\n ('held', 185),\n ('clearly', 184),\n ('action', 184),\n ('relation', 183),\n ('simply', 183),\n ('private', 183),\n ('After', 183),\n ('trans', 182),\n ('First', 182),\n ('freedom', 182),\n ('attention', 182),\n ('tion', 181),\n ('ideas', 181),\n ('gives', 181),\n ('blood', 181),\n ('Philemon', 181),\n ('brother', 181),\n ('days', 181),\n ('white', 181),\n ('able', 180),\n ('house', 180),\n ('HTBP', 180),\n ('turn', 179),\n ('either', 179),\n ('necessary', 179),\n ('brought', 178),\n ('Books', 178),\n ('die', 177),\n ('forms', 175),\n ('alone', 175),\n ('Luther', 175),\n ('heaven', 175),\n ('argues', 175),\n ('son', 174),\n ('appears', 174),\n ('doing', 174),\n ('Thomas', 174),\n ('presence', 173),\n ('told', 173),\n ('beginning', 172),\n ('theory', 172),\n ('lives', 172),\n ('vol', 172),\n ('led', 171),\n ('conversion', 171),\n ('slaves', 171),\n ('influence', 171),\n ('material', 170),\n ('Oxford', 170),\n ('literature', 170),\n ('eg', 170),\n ('belief', 169),\n ('ever', 169),\n ('friends', 169),\n ('individual', 169),\n ('subject', 168),\n ('slave', 168),\n ('age', 167),\n ('vision', 167),\n ('around', 167),\n ('Some', 167),\n ('Bonaventure', 167),\n ('Yet', 166),\n ('She', 166),\n ('leadership', 166),\n ('Galatians', 165),\n ('established', 165),\n ('Book', 165),\n ('clergy', 165),\n ('wisdom', 165),\n ('Augustine', 165),\n ('process', 164),\n ('Therefore', 164),\n ('AND', 164),\n ('outside', 163),\n ('refers', 163),\n ('close', 163),\n ('Biblical', 163),\n ('groups', 163),\n ('asked', 162),\n ('side', 162),\n ('published', 162),\n ('high', 162),\n ('Africa', 162),\n ('believe', 161),\n ('collection', 161),\n ('volume', 161),\n ('writing', 161),\n ('faithful', 161),\n ('culture', 160),\n ('approach', 160),\n ('indeed', 160),\n ('World', 160),\n ('confession', 160),\n ('questions', 159),\n ('better', 159),\n ('article', 159),\n ('peace', 159),\n ('contrast', 159),\n ('longer', 159),\n ('return', 159),\n ('described', 159),\n ('chapters', 158),\n ('sent', 158),\n ('Zoroastrian', 158),\n ('final', 157),\n ('speak', 156),\n ('religions', 156),\n ('Society', 156),\n ('All', 156),\n ('throughout', 156),\n ('claim', 156),\n ('humanity', 156),\n ('perspective', 156),\n ('play', 156),\n ('mentioned', 155),\n ('apostle', 155),\n ('With', 155),\n ('suggests', 155),\n ('England', 155),\n ('head', 155),\n ('remained', 155),\n ('verse', 155),\n ('system', 155),\n ('Grand', 155),\n ('points', 154),\n ('instance', 154),\n ('latter', 154),\n ('rule', 154),\n ('Colossians', 154),\n ('friendship', 154),\n ('William', 154),\n ('character', 153),\n ('America', 153),\n ('la', 153),\n ('source', 153),\n ('Is', 153),\n ('Gentile', 153),\n ('sins', 152),\n ('resurrection', 152),\n ('Here', 152),\n ('Religious', 152),\n ('Early', 152),\n ('charity', 152),\n ('follow', 152),\n ('books', 151),\n ('saints', 151),\n ('country', 151),\n ('justice', 151),\n ('passages', 151),\n ('authors', 151),\n ('want', 150),\n ('ie', 150),\n ('des', 150),\n ('natural', 150),\n ('actions', 150),\n ('followed', 149),\n ('writings', 149),\n ('practices', 149),\n ('model', 149),\n ('sometimes', 149),\n ('Europe', 149),\n ('est', 149),\n ('regard', 148),\n ('receive', 148),\n ('interest', 148),\n ('issue', 148),\n ('young', 147),\n ('existence', 147),\n ('Reformation', 147),\n ('der', 147),\n ('show', 147),\n ('cultural', 147),\n ('probably', 147),\n ('mean', 146),\n ('believed', 146),\n ('persons', 146),\n ('sacred', 146),\n ('neither', 146),\n ('rest', 146),\n ('response', 146),\n ('disciples', 146),\n ('Christology', 146),\n ('followers', 145),\n ('provided', 145),\n ('recent', 145),\n ('note', 145),\n ('sons', 145),\n ('nations', 145),\n ('face', 144),\n ('quite', 144),\n ('heard', 144),\n ('section', 144),\n ('structure', 143),\n ('eschatological', 143),\n ('thing', 143),\n ('key', 143),\n ('noted', 143),\n ('making', 142),\n ('lived', 142),\n ('difficult', 142),\n ('food', 142),\n ('appear', 141),\n ('glory', 141),\n ('Matthew', 141),\n ('flesh', 140),\n ('emphasis', 140),\n ('message', 140),\n ('popular', 140),\n ('East', 140),\n ('phrase', 140),\n ('eyes', 140),\n ('Richard', 140),\n ('claims', 140),\n ('Bonaventures', 140),\n ('generally', 139),\n ('judgment', 139),\n ('preaching', 139),\n ('strong', 139),\n ('event', 139),\n ('Even', 139),\n ('You', 139),\n ('hands', 139),\n ('powers', 138),\n ('along', 138),\n ('expression', 138),\n ('unity', 138),\n ('relations', 138),\n ('No', 138),\n ('narrative', 138),\n ('Rapids', 138),\n ('concept', 137),\n ('saying', 137),\n ('becomes', 137),\n ('brothers', 137),\n ('Daniel', 137),\n ('Now', 137),\n ('Body', 137),\n ('cause', 137),\n ('central', 136),\n ('purpose', 136),\n ('home', 136),\n ('offer', 136),\n ('Mark', 136),\n ('introduction', 136),\n ('obedience', 136),\n ('next', 136),\n ('Lk', 136),\n ('Second', 136),\n ('Patrick', 136),\n ('significant', 135),\n ('developed', 135),\n ('ing', 135),\n ('coming', 135),\n ('centuries', 135),\n ('offered', 135),\n ('Commentary', 135),\n ('former', 134),\n ('original', 134),\n ('shows', 134),\n ('certainly', 134),\n ('force', 134),\n ('off', 134),\n ('institutions', 134),\n ('healing', 134),\n ('soon', 133),\n ('greater', 133),\n ('care', 133),\n ('Then', 133),\n ('priests', 133),\n ('water', 133),\n ('speaks', 132),\n ('bring', 132),\n ('town', 132),\n ('future', 131),\n ('statement', 131),\n ('continued', 131),\n ('development', 131),\n ('lay', 131),\n ('eds', 131),\n ('Pentecostal', 131),\n ('sought', 130),\n ('mystery', 130),\n ('Anna', 130),\n ('takes', 130),\n ('revealed', 130),\n ('en', 130),\n ('related', 129),\n ('liturgy', 129),\n ('readers', 129),\n ('issues', 129),\n ('small', 129),\n ('large', 128),\n ('beings', 128),\n ('Russian', 128),\n ('Great', 128),\n ('served', 128),\n ('Pp', 128),\n ('IN', 128),\n ('gift', 127),\n ('apocalyptic', 127),\n ('suffering', 127),\n ('Bernard', 127),\n ('figure', 126),\n ('Such', 126),\n ('included', 126),\n ('missionary', 126),\n ('king', 126),\n ('Its', 126),\n ('result', 126),\n ('wife', 126),\n ('events', 125),\n ('Faith', 125),\n ('specific', 125),\n ('Martin', 125),\n ('version', 125),\n ('speaking', 125),\n ('bishop', 125),\n ('Catholics', 125),\n ('prayers', 125),\n ('provide', 125),\n ('Literature', 125),\n ('Their', 124),\n ('Western', 124),\n ('ritual', 124),\n ('uses', 124),\n ('places', 124),\n ('black', 124),\n ('laws', 123),\n ('mercy', 123),\n ('real', 123),\n ('keep', 123),\n ('really', 123),\n ('change', 123),\n ('respect', 123),\n ('marriage', 123),\n ('justification', 122),\n ('lead', 122),\n ('today', 122),\n ('theme', 122),\n ('Dei', 122),\n ('war', 122),\n ('calls', 122),\n ('manner', 122),\n ('offers', 122),\n ('exegesis', 122),\n ('created', 122),\n ('Lords', 122),\n ('dead', 121),\n ('connection', 121),\n ('likely', 121),\n ('special', 121),\n ('My', 121),\n ('fellow', 121),\n ('died', 121),\n ('unto', 121),\n ('services', 121),\n ('HBP', 121),\n ('instead', 120),\n ('con', 120),\n ('main', 120),\n ('reader', 120),\n ('appeared', 119),\n ('Part', 119),\n ('evangelical', 119),\n ('analysis', 119),\n ('major', 119),\n ('follows', 119),\n ('NT', 119),\n ('get', 119),\n ('th', 118),\n ('title', 118),\n ('effect', 118),\n ('ask', 118),\n ('Jew', 118),\n ('concern', 118),\n ('views', 118),\n ('participation', 118),\n ('South', 118),\n ('literary', 118),\n ('desire', 118),\n ('suggest', 118),\n ('West', 117),\n ('towards', 117),\n ('studies', 117),\n ('share', 117),\n ('III', 117),\n ('Word', 117),\n ('open', 117),\n ('ST', 117),\n ('parts', 116),\n ('placed', 116),\n ('Study', 116),\n ('gifts', 116),\n ('bread', 116),\n ('prophets', 116),\n ('value', 115),\n ('criticism', 115),\n ('activity', 115),\n ('righteous', 115),\n ('Orthodox', 115),\n ('Joseph', 115),\n ('acts', 115),\n ('prophet', 115),\n ('honor', 115),\n ('debate', 115),\n ('giving', 114),\n ('Lutheran', 114),\n ('knew', 114),\n ('images', 114),\n ('focus', 114),\n ('doubt', 114),\n ('Social', 114),\n ('frequently', 114),\n ('Introduction', 114),\n ('lost', 113),\n ('scripture', 113),\n ('fear', 113),\n ('Col', 113),\n ('economic', 113),\n ('monastery', 112),\n ('presented', 112),\n ('struggle', 112),\n ('notes', 112),\n ('principle', 112),\n ('past', 112),\n ('felt', 112),\n ('Passover', 112),\n ('problems', 111),\n ('expressed', 111),\n ('learned', 111),\n ('single', 111),\n ('eternal', 111),\n ('concerning', 111),\n ('short', 111),\n ('apostles', 111),\n ('kings', 111),\n ('actually', 110),\n ('content', 110),\n ('significance', 110),\n ('enemies', 110),\n ('Charles', 110),\n ('leading', 110),\n ('involved', 110),\n ('etc', 110),\n ('re', 109),\n ('include', 109),\n ('State', 109),\n ('description', 109),\n ('shared', 109),\n ('Life', 108),\n ('heavenly', 108),\n ('liturgical', 108),\n ('European', 108),\n ('Mass', 108),\n ('seek', 108),\n ('voice', 108),\n ('Noah', 108),\n ('notion', 107),\n ('Gospels', 107),\n ('fully', 107),\n ('witness', 107),\n ('Paris', 107)]"
     },
     "execution_count": 109,
     "metadata": {},
     "output_type": "execute_result"
    }
   ],
   "source": [
    "# check how raw unigrams look like\n",
    "data_unigrams_sorted = sorted(data_unigrams.items(), key=lambda kv: kv[1], reverse=True)\n",
    "data_unigrams_sorted[:1000]"
   ],
   "metadata": {
    "collapsed": false
   }
  },
  {
   "cell_type": "code",
   "execution_count": 110,
   "outputs": [
    {
     "data": {
      "text/plain": "[('the', 64204),\n ('of', 43727),\n ('and', 29112),\n ('to', 24051),\n ('in', 23227),\n ('is', 11614),\n ('that', 11283),\n ('as', 8204),\n ('The', 6860),\n ('for', 6850),\n ('his', 6283),\n ('with', 6121),\n ('was', 5995),\n ('he', 5314),\n ('by', 5164),\n ('not', 5095),\n ('on', 4746),\n ('from', 4525),\n ('it', 4500),\n ('this', 4388),\n ('be', 4355),\n ('or', 3657),\n ('which', 3568),\n ('are', 3401),\n ('an', 3185),\n ('their', 3085),\n ('who', 3080),\n ('God', 3032),\n ('have', 2951),\n ('but', 2774),\n ('at', 2649),\n ('Paul', 2601),\n ('were', 2543),\n ('they', 2531),\n ('In', 2524),\n ('had', 2435),\n ('one', 2336),\n ('all', 2258),\n ('has', 2093),\n ('him', 1966),\n ('we', 1966),\n ('Christ', 1886),\n ('also', 1854),\n ('its', 1685),\n ('them', 1600),\n ('Christian', 1594),\n ('more', 1579),\n ('Jesus', 1546),\n ('would', 1496),\n ('what', 1489),\n ('you', 1474),\n ('This', 1472),\n ('been', 1441),\n ('will', 1439),\n ('other', 1423),\n ('into', 1356),\n ('only', 1342),\n ('It', 1324),\n ('so', 1322),\n ('no', 1299),\n ('about', 1293),\n ('He', 1288),\n ('life', 1260),\n ('these', 1253),\n ('New', 1197),\n ('there', 1196),\n ('when', 1170),\n ('than', 1166),\n ('some', 1115),\n ('through', 1086),\n ('between', 1079),\n ('such', 1075),\n ('those', 1072),\n ('do', 1066),\n ('can', 1055),\n ('see', 1049),\n ('church', 1034),\n ('our', 1032),\n ('my', 1020),\n ('people', 1013),\n ('her', 997),\n ('For', 996),\n ('first', 990),\n ('own', 922),\n ('Pauls', 919),\n ('us', 910),\n ('even', 908),\n ('two', 905),\n ('could', 903),\n ('faith', 899),\n ('out', 898),\n ('Church', 897),\n ('may', 884),\n ('if', 882),\n ('does', 881),\n ('religious', 875),\n ('See', 869),\n ('me', 869),\n ('world', 861),\n ('most', 856),\n ('time', 853),\n ('way', 846),\n ('Jewish', 840),\n ('But', 833),\n ('man', 821),\n ('both', 807),\n ('many', 804),\n ('because', 803),\n ('Christians', 802),\n ('And', 801),\n ('love', 800),\n ('work', 797),\n ('Gods', 778),\n ('new', 772),\n ('did', 757),\n ('Spirit', 740),\n ('should', 738),\n ('how', 735),\n ('where', 735),\n ('being', 716),\n ('same', 706),\n ('John', 695),\n ('human', 689),\n ('any', 683),\n ('well', 680),\n ('himself', 679),\n ('Press', 677),\n ('social', 675),\n ('then', 673),\n ('de', 664),\n ('up', 655),\n ('upon', 654),\n ('made', 642),\n ('University', 642),\n ('like', 641),\n ('As', 641),\n ('before', 640),\n ('after', 640),\n ('over', 634),\n ('Testament', 633),\n ('said', 624),\n ('against', 623),\n ('et', 621),\n ('must', 613),\n ('part', 596),\n ('good', 592),\n ('Lord', 586),\n ('among', 585),\n ('century', 583),\n ('she', 580),\n ('order', 577),\n ('Jews', 576),\n ('law', 575),\n ('very', 568),\n ('here', 566),\n ('much', 557),\n ('power', 556),\n ('your', 556),\n ('community', 552),\n ('Catholic', 548),\n ('HB', 541),\n ('death', 535),\n ('text', 535),\n ('Christianity', 532),\n ('while', 530),\n ('early', 530),\n ('now', 516),\n ('On', 506),\n ('men', 505),\n ('rather', 502),\n ('found', 499),\n ('words', 496),\n ('called', 483),\n ('however', 482),\n ('without', 479),\n ('might', 475),\n ('ed', 474),\n ('three', 470),\n ('history', 465),\n ('place', 464),\n ('They', 460),\n ('THE', 459),\n ('book', 459),\n ('say', 455),\n ('others', 455),\n ('Greek', 454),\n ('under', 453),\n ('spiritual', 453),\n ('churches', 452),\n ('reading', 450),\n ('divine', 450),\n ('use', 449),\n ('word', 445),\n ('within', 443),\n ('Cf', 436),\n ('pp', 436),\n ('Cor', 436),\n ('another', 434),\n ('thought', 432),\n ('whom', 432),\n ('make', 425),\n ('His', 423),\n ('Father', 423),\n ('sense', 420),\n ('great', 417),\n ('Bible', 416),\n ('Judaism', 416),\n ('Law', 414),\n ('salvation', 412),\n ('fact', 411),\n ('nature', 410),\n ('If', 409),\n ('religion', 409),\n ('means', 409),\n ('Cambridge', 409),\n ('Romans', 408),\n ('tradition', 407),\n ('Gospel', 407),\n ('view', 407),\n ('Corinthians', 404),\n ('example', 403),\n ('There', 401),\n ('come', 400),\n ('says', 399),\n ('each', 399),\n ('Roman', 399),\n ('later', 399),\n ('Holy', 398),\n ('given', 396),\n ('years', 396),\n ('om', 396),\n ('Luke', 395),\n ('itself', 394),\n ('point', 394),\n ('day', 394),\n ('letter', 392),\n ('different', 390),\n ('form', 389),\n ('understanding', 388),\n ('St', 388),\n ('women', 387),\n ('know', 386),\n ('spirit', 384),\n ('came', 384),\n ('authority', 384),\n ('We', 383),\n ('works', 381),\n ('often', 381),\n ('become', 379),\n ('themselves', 378),\n ('theology', 376),\n ('things', 373),\n ('question', 372),\n ('Israel', 371),\n ('What', 370),\n ('end', 368),\n ('person', 367),\n ('York', 367),\n ('Rom', 363),\n ('poor', 363),\n ('just', 358),\n ('became', 356),\n ('meaning', 355),\n ('theological', 354),\n ('used', 353),\n ('though', 350),\n ('holy', 348),\n ('Acts', 347),\n ('second', 344),\n ('experience', 343),\n ('important', 343),\n ('context', 343),\n ('grace', 342),\n ('present', 340),\n ('still', 339),\n ('according', 338),\n ('sin', 336),\n ('practice', 335),\n ('American', 333),\n ('To', 332),\n ('too', 331),\n ('cf', 329),\n ('When', 329),\n ('Christs', 327),\n ('general', 327),\n ('interpretation', 325),\n ('English', 324),\n ('gospel', 324),\n ('Jerusalem', 323),\n ('language', 323),\n ('One', 321),\n ('Thus', 320),\n ('case', 319),\n ('OF', 317),\n ('certain', 316),\n ('name', 315),\n ('especially', 315),\n ('righteousness', 313),\n ('political', 313),\n ('study', 312),\n ('give', 312),\n ('true', 311),\n ('texts', 309),\n ('together', 309),\n ('biblical', 309),\n ('whole', 308),\n ('take', 307),\n ('whose', 307),\n ('state', 306),\n ('II', 305),\n ('since', 305),\n ('find', 305),\n ('light', 304),\n ('historical', 303),\n ('By', 303),\n ('during', 303),\n ('every', 302),\n ('whether', 301),\n ('seen', 301),\n ('particular', 296),\n ('clear', 295),\n ('read', 295),\n ('common', 293),\n ('down', 292),\n ('following', 291),\n ('body', 291),\n ('Peter', 291),\n ('therefore', 290),\n ('above', 290),\n ('ones', 289),\n ('least', 288),\n ('hand', 287),\n ('shall', 286),\n ('terms', 285),\n ('account', 284),\n ('relationship', 283),\n ('am', 282),\n ('These', 281),\n ('role', 281),\n ('away', 279),\n ('members', 278),\n ('never', 276),\n ('That', 276),\n ('thus', 275),\n ('little', 274),\n ('author', 273),\n ('set', 272),\n ('At', 272),\n ('again', 271),\n ('cannot', 271),\n ('heart', 270),\n ('known', 269),\n ('knowledge', 269),\n ('idea', 267),\n ('reason', 267),\n ('until', 266),\n ('Old', 266),\n ('truth', 265),\n ('Religion', 265),\n ('letters', 264),\n ('long', 264),\n ('need', 263),\n ('Emerson', 262),\n ('Protestant', 261),\n ('far', 261),\n ('seems', 261),\n ('further', 261),\n ('number', 261),\n ('nor', 260),\n ('prayer', 260),\n ('back', 259),\n ('taken', 258),\n ('Pauline', 257),\n ('less', 256),\n ('took', 255),\n ('Son', 255),\n ('several', 255),\n ('James', 255),\n ('something', 253),\n ('soul', 253),\n ('chapter', 253),\n ('service', 252),\n ('already', 251),\n ('An', 251),\n ('Th', 251),\n ('various', 250),\n ('While', 249),\n ('personal', 249),\n ('yet', 248),\n ('makes', 247),\n ('always', 247),\n ('city', 247),\n ('From', 245),\n ('Latin', 245),\n ('So', 243),\n ('History', 242),\n ('position', 240),\n ('Gal', 240),\n ('mind', 239),\n ('similar', 237),\n ('written', 237),\n ('moral', 236),\n ('covenant', 236),\n ('course', 234),\n ('few', 234),\n ('living', 233),\n ('However', 232),\n ('movement', 232),\n ('woman', 229),\n ('children', 229),\n ('priest', 229),\n ('gave', 228),\n ('ways', 227),\n ('identity', 227),\n ('family', 227),\n ('went', 226),\n ('toward', 225),\n ('modern', 225),\n ('argument', 225),\n ('discussion', 224),\n ('kind', 224),\n ('authorities', 223),\n ('old', 221),\n ('ad', 221),\n ('term', 221),\n ('African', 221),\n ('perhaps', 220),\n ('London', 219),\n ('De', 219),\n ('once', 218),\n ('times', 218),\n ('fi', 218),\n ('Abraham', 218),\n ('ins', 218),\n ('go', 217),\n ('Rome', 217),\n ('According', 216),\n ('public', 216),\n ('right', 216),\n ('image', 215),\n ('act', 215),\n ('Scripture', 215),\n ('understood', 214),\n ('last', 214),\n ('pages', 214),\n ('reference', 213),\n ('evidence', 213),\n ('ancient', 212),\n ('saw', 211),\n ('evil', 211),\n ('put', 211),\n ('Theology', 211),\n ('reality', 209),\n ('und', 209),\n ('Saint', 209),\n ('land', 208),\n ('basis', 207),\n ('passage', 207),\n ('Apostle', 207),\n ('David', 207),\n ('group', 207),\n ('call', 206),\n ('based', 206),\n ('including', 206),\n ('live', 205),\n ('left', 205),\n ('period', 205),\n ('think', 205),\n ('Although', 205),\n ('How', 205),\n ('year', 205),\n ('hope', 204),\n ('problem', 204),\n ('Hebrews', 204),\n ('Moses', 204),\n ('baptism', 203),\n ('comes', 203),\n ('began', 203),\n ('matter', 202),\n ('although', 202),\n ('understand', 202),\n ('translation', 202),\n ('Hebrew', 202),\n ('revelation', 201),\n ('best', 201),\n ('received', 201),\n ('scholars', 201),\n ('society', 201),\n ('possible', 200),\n ('father', 199),\n ('cross', 199),\n ('nothing', 199),\n ('Journal', 199),\n ('almost', 199),\n ('ministry', 199),\n ('communion', 198),\n ('friend', 197),\n ('contemporary', 197),\n ('leaders', 197),\n ('Ibid', 196),\n ('Gentiles', 196),\n ('why', 195),\n ('commentary', 194),\n ('sources', 194),\n ('local', 194),\n ('communities', 194),\n ('support', 192),\n ('teaching', 191),\n ('believers', 191),\n ('story', 191),\n ('late', 191),\n ('mission', 191),\n ('worship', 191),\n ('having', 190),\n ('wrote', 190),\n ('third', 189),\n ('free', 189),\n ('help', 189),\n ('let', 189),\n ('four', 189),\n ('full', 189),\n ('situation', 188),\n ('earlier', 188),\n ('Studies', 188),\n ('status', 188),\n ('traditions', 187),\n ('doctrine', 187),\n ('particularly', 187),\n ('done', 186),\n ('earth', 186),\n ('traditional', 186),\n ('angels', 186),\n ('creation', 185),\n ('beyond', 185),\n ('kingdom', 185),\n ('considered', 185),\n ('states', 185),\n ('held', 185),\n ('clearly', 184),\n ('action', 184),\n ('relation', 183),\n ('simply', 183),\n ('private', 183),\n ('After', 183),\n ('trans', 182),\n ('First', 182),\n ('freedom', 182),\n ('attention', 182),\n ('tion', 181),\n ('ideas', 181),\n ('gives', 181),\n ('blood', 181),\n ('Philemon', 181),\n ('brother', 181),\n ('days', 181),\n ('white', 181),\n ('able', 180),\n ('house', 180),\n ('HTBP', 180),\n ('turn', 179),\n ('either', 179),\n ('necessary', 179),\n ('brought', 178),\n ('Books', 178),\n ('die', 177),\n ('forms', 175),\n ('alone', 175),\n ('Luther', 175),\n ('heaven', 175),\n ('argues', 175),\n ('son', 174),\n ('appears', 174),\n ('doing', 174),\n ('Thomas', 174),\n ('presence', 173),\n ('told', 173),\n ('beginning', 172),\n ('theory', 172),\n ('lives', 172),\n ('vol', 172),\n ('led', 171),\n ('conversion', 171),\n ('slaves', 171),\n ('influence', 171),\n ('material', 170),\n ('Oxford', 170),\n ('literature', 170),\n ('eg', 170),\n ('belief', 169),\n ('ever', 169),\n ('friends', 169),\n ('individual', 169),\n ('subject', 168),\n ('slave', 168),\n ('age', 167),\n ('vision', 167),\n ('around', 167),\n ('Some', 167),\n ('Bonaventure', 167),\n ('Yet', 166),\n ('She', 166),\n ('leadership', 166),\n ('Galatians', 165),\n ('established', 165),\n ('Book', 165),\n ('clergy', 165),\n ('wisdom', 165),\n ('Augustine', 165),\n ('process', 164),\n ('Therefore', 164),\n ('AND', 164),\n ('outside', 163),\n ('refers', 163),\n ('close', 163),\n ('Biblical', 163),\n ('groups', 163),\n ('asked', 162),\n ('side', 162),\n ('published', 162),\n ('high', 162),\n ('Africa', 162),\n ('believe', 161),\n ('collection', 161),\n ('volume', 161),\n ('writing', 161),\n ('faithful', 161),\n ('culture', 160),\n ('approach', 160),\n ('indeed', 160),\n ('World', 160),\n ('confession', 160),\n ('questions', 159),\n ('better', 159),\n ('article', 159),\n ('peace', 159),\n ('contrast', 159),\n ('longer', 159),\n ('return', 159),\n ('described', 159),\n ('chapters', 158),\n ('sent', 158),\n ('Zoroastrian', 158),\n ('final', 157),\n ('speak', 156),\n ('religions', 156),\n ('Society', 156),\n ('All', 156),\n ('throughout', 156),\n ('claim', 156),\n ('humanity', 156),\n ('perspective', 156),\n ('play', 156),\n ('mentioned', 155),\n ('apostle', 155),\n ('With', 155),\n ('suggests', 155),\n ('England', 155),\n ('head', 155),\n ('remained', 155),\n ('verse', 155),\n ('system', 155),\n ('Grand', 155),\n ('points', 154),\n ('instance', 154),\n ('latter', 154),\n ('rule', 154),\n ('Colossians', 154),\n ('friendship', 154),\n ('William', 154),\n ('character', 153),\n ('America', 153),\n ('la', 153),\n ('source', 153),\n ('Is', 153),\n ('Gentile', 153),\n ('sins', 152),\n ('resurrection', 152),\n ('Here', 152),\n ('Religious', 152),\n ('Early', 152),\n ('charity', 152),\n ('follow', 152),\n ('books', 151),\n ('saints', 151),\n ('country', 151),\n ('justice', 151),\n ('passages', 151),\n ('authors', 151),\n ('want', 150),\n ('ie', 150),\n ('des', 150),\n ('natural', 150),\n ('actions', 150),\n ('followed', 149),\n ('writings', 149),\n ('practices', 149),\n ('model', 149),\n ('sometimes', 149),\n ('Europe', 149),\n ('est', 149),\n ('regard', 148),\n ('receive', 148),\n ('interest', 148),\n ('issue', 148),\n ('young', 147),\n ('existence', 147),\n ('Reformation', 147),\n ('der', 147),\n ('show', 147),\n ('cultural', 147),\n ('probably', 147),\n ('mean', 146),\n ('believed', 146),\n ('persons', 146),\n ('sacred', 146),\n ('neither', 146),\n ('rest', 146),\n ('response', 146),\n ('disciples', 146),\n ('Christology', 146),\n ('followers', 145),\n ('provided', 145),\n ('recent', 145),\n ('note', 145),\n ('sons', 145),\n ('nations', 145),\n ('face', 144),\n ('quite', 144),\n ('heard', 144),\n ('section', 144),\n ('structure', 143),\n ('eschatological', 143),\n ('thing', 143),\n ('key', 143),\n ('noted', 143),\n ('making', 142),\n ('lived', 142),\n ('difficult', 142),\n ('food', 142),\n ('appear', 141),\n ('glory', 141),\n ('Matthew', 141),\n ('flesh', 140),\n ('emphasis', 140),\n ('message', 140),\n ('popular', 140),\n ('East', 140),\n ('phrase', 140),\n ('eyes', 140),\n ('Richard', 140),\n ('claims', 140),\n ('Bonaventures', 140),\n ('generally', 139),\n ('judgment', 139),\n ('preaching', 139),\n ('strong', 139),\n ('event', 139),\n ('Even', 139),\n ('You', 139),\n ('hands', 139),\n ('powers', 138),\n ('along', 138),\n ('expression', 138),\n ('unity', 138),\n ('relations', 138),\n ('No', 138),\n ('narrative', 138),\n ('Rapids', 138),\n ('concept', 137),\n ('saying', 137),\n ('becomes', 137),\n ('brothers', 137),\n ('Daniel', 137),\n ('Now', 137),\n ('Body', 137),\n ('cause', 137),\n ('central', 136),\n ('purpose', 136),\n ('home', 136),\n ('offer', 136),\n ('Mark', 136),\n ('introduction', 136),\n ('obedience', 136),\n ('next', 136),\n ('Lk', 136),\n ('Second', 136),\n ('Patrick', 136),\n ('significant', 135),\n ('developed', 135),\n ('ing', 135),\n ('coming', 135),\n ('centuries', 135),\n ('offered', 135),\n ('Commentary', 135),\n ('former', 134),\n ('original', 134),\n ('shows', 134),\n ('certainly', 134),\n ('force', 134),\n ('off', 134),\n ('institutions', 134),\n ('healing', 134),\n ('soon', 133),\n ('greater', 133),\n ('care', 133),\n ('Then', 133),\n ('priests', 133),\n ('water', 133),\n ('speaks', 132),\n ('bring', 132),\n ('town', 132),\n ('future', 131),\n ('statement', 131),\n ('continued', 131),\n ('development', 131),\n ('lay', 131),\n ('eds', 131),\n ('Pentecostal', 131),\n ('sought', 130),\n ('mystery', 130),\n ('Anna', 130),\n ('takes', 130),\n ('revealed', 130),\n ('en', 130),\n ('related', 129),\n ('liturgy', 129),\n ('readers', 129),\n ('issues', 129),\n ('small', 129),\n ('large', 128),\n ('beings', 128),\n ('Russian', 128),\n ('Great', 128),\n ('served', 128),\n ('Pp', 128),\n ('IN', 128),\n ('gift', 127),\n ('apocalyptic', 127),\n ('suffering', 127),\n ('Bernard', 127),\n ('figure', 126),\n ('Such', 126),\n ('included', 126),\n ('missionary', 126),\n ('king', 126),\n ('Its', 126),\n ('result', 126),\n ('wife', 126),\n ('events', 125),\n ('Faith', 125),\n ('specific', 125),\n ('Martin', 125),\n ('version', 125),\n ('speaking', 125),\n ('bishop', 125),\n ('Catholics', 125),\n ('prayers', 125),\n ('provide', 125),\n ('Literature', 125),\n ('Their', 124),\n ('Western', 124),\n ('ritual', 124),\n ('uses', 124),\n ('places', 124),\n ('black', 124),\n ('laws', 123),\n ('mercy', 123),\n ('real', 123),\n ('keep', 123),\n ('really', 123),\n ('change', 123),\n ('respect', 123),\n ('marriage', 123),\n ('justification', 122),\n ('lead', 122),\n ('today', 122),\n ('theme', 122),\n ('Dei', 122),\n ('war', 122),\n ('calls', 122),\n ('manner', 122),\n ('offers', 122),\n ('exegesis', 122),\n ('created', 122),\n ('Lords', 122),\n ('dead', 121),\n ('connection', 121),\n ('likely', 121),\n ('special', 121),\n ('My', 121),\n ('fellow', 121),\n ('died', 121),\n ('unto', 121),\n ('services', 121),\n ('HBP', 121),\n ('instead', 120),\n ('con', 120),\n ('main', 120),\n ('reader', 120),\n ('appeared', 119),\n ('Part', 119),\n ('evangelical', 119),\n ('analysis', 119),\n ('major', 119),\n ('follows', 119),\n ('NT', 119),\n ('get', 119),\n ('th', 118),\n ('title', 118),\n ('effect', 118),\n ('ask', 118),\n ('Jew', 118),\n ('concern', 118),\n ('views', 118),\n ('participation', 118),\n ('South', 118),\n ('literary', 118),\n ('desire', 118),\n ('suggest', 118),\n ('West', 117),\n ('towards', 117),\n ('studies', 117),\n ('share', 117),\n ('III', 117),\n ('Word', 117),\n ('open', 117),\n ('ST', 117),\n ('parts', 116),\n ('placed', 116),\n ('Study', 116),\n ('gifts', 116),\n ('bread', 116),\n ('prophets', 116),\n ('value', 115),\n ('criticism', 115),\n ('activity', 115),\n ('righteous', 115),\n ('Orthodox', 115),\n ('Joseph', 115),\n ('acts', 115),\n ('prophet', 115),\n ('honor', 115),\n ('debate', 115),\n ('giving', 114),\n ('Lutheran', 114),\n ('knew', 114),\n ('images', 114),\n ('focus', 114),\n ('doubt', 114),\n ('Social', 114),\n ('frequently', 114),\n ('Introduction', 114),\n ('lost', 113),\n ('scripture', 113),\n ('fear', 113),\n ('Col', 113),\n ('economic', 113),\n ('monastery', 112),\n ('presented', 112),\n ('struggle', 112),\n ('notes', 112),\n ('principle', 112),\n ('past', 112),\n ('felt', 112),\n ('Passover', 112),\n ('problems', 111),\n ('expressed', 111),\n ('learned', 111),\n ('single', 111),\n ('eternal', 111),\n ('concerning', 111),\n ('short', 111),\n ('apostles', 111),\n ('kings', 111),\n ('actually', 110),\n ('content', 110),\n ('significance', 110),\n ('enemies', 110),\n ('Charles', 110),\n ('leading', 110),\n ('involved', 110),\n ('etc', 110),\n ('re', 109),\n ('include', 109),\n ('State', 109),\n ('description', 109),\n ('shared', 109),\n ('Life', 108),\n ('heavenly', 108),\n ('liturgical', 108),\n ('European', 108),\n ('Mass', 108),\n ('seek', 108),\n ('voice', 108),\n ('Noah', 108),\n ('notion', 107),\n ('Gospels', 107),\n ('fully', 107),\n ('witness', 107),\n ('Paris', 107)]"
     },
     "execution_count": 110,
     "metadata": {},
     "output_type": "execute_result"
    }
   ],
   "source": [
    "data_unigrams_sorted[:1000]"
   ],
   "metadata": {
    "collapsed": false
   }
  },
  {
   "cell_type": "code",
   "execution_count": 111,
   "outputs": [],
   "source": [
    "# how many of the 100 most frequent unigrams are actually not stopwords?\n",
    "#len([el for el in data_unigrams_sorted[:100] if el[0].lower() not in stop_words])"
   ],
   "metadata": {
    "collapsed": false
   }
  },
  {
   "cell_type": "code",
   "execution_count": 113,
   "outputs": [
    {
     "data": {
      "text/plain": "7810"
     },
     "execution_count": 113,
     "metadata": {},
     "output_type": "execute_result"
    }
   ],
   "source": [
    "# what is the number of unigrams appearing more than 10 times?\n",
    "len([el for el in data_unigrams_sorted if el[1] > 10])"
   ],
   "metadata": {
    "collapsed": false
   }
  },
  {
   "cell_type": "code",
   "execution_count": 124,
   "outputs": [],
   "source": [
    "\n",
    "# use spacy to generate \"Doc\" object for ngram\n",
    "# (use carefully, takes some time)\n",
    "tags = [\"NOUN\", \"ADJ\", \"VERB\", \"PROPN\"]\n",
    "def get_lemma_filtered(string):\n",
    "    lemmata = \" \".join([t.lemma for t in nlp_stanza(string).sentences[0].words if t.pos in tags])\n",
    "    return lemmata"
   ],
   "metadata": {
    "collapsed": false
   }
  },
  {
   "cell_type": "code",
   "execution_count": 131,
   "outputs": [],
   "source": [
    "data_unigrams_lemmata = Counter()\n",
    "for el in data_unigrams_sorted:\n",
    "    if el[1] > 10:\n",
    "        lemmata_str = get_lemma_filtered(el[0])\n",
    "        if len(lemmata_str) > 1:\n",
    "            data_unigrams_lemmata.update({lemmata_str : el[1]})"
   ],
   "metadata": {
    "collapsed": false
   }
  },
  {
   "cell_type": "code",
   "execution_count": null,
   "outputs": [],
   "source": [],
   "metadata": {
    "collapsed": false
   }
  },
  {
   "cell_type": "code",
   "execution_count": null,
   "outputs": [],
   "source": [
    "data_unigrams = merge_data_from_ids(all, unigramCount_dict)\n",
    "len(data_unigrams)"
   ],
   "metadata": {
    "collapsed": false
   }
  },
  {
   "cell_type": "code",
   "execution_count": null,
   "outputs": [],
   "source": [
    "# check how raw unigrams look like\n",
    "data_unigrams_sorted = sorted(data_unigrams.items(), key=lambda kv: kv[1], reverse=True)\n",
    "data_unigrams_sorted[:1000]\n"
   ],
   "metadata": {
    "collapsed": false
   }
  },
  {
   "cell_type": "code",
   "execution_count": null,
   "outputs": [],
   "source": [],
   "metadata": {
    "collapsed": false
   }
  },
  {
   "cell_type": "code",
   "execution_count": null,
   "outputs": [],
   "source": [],
   "metadata": {
    "collapsed": false
   }
  },
  {
   "cell_type": "code",
   "execution_count": null,
   "outputs": [],
   "source": [],
   "metadata": {
    "collapsed": false
   }
  },
  {
   "cell_type": "code",
   "execution_count": null,
   "outputs": [],
   "source": [
    "[(el[0], {\"doc\" : get_lemma_filtered(el[0]), \"count\" : el[1]}) for el in data_unigrams_sorted if el[1] > 1000]"
   ],
   "metadata": {
    "collapsed": false
   }
  },
  {
   "cell_type": "code",
   "execution_count": 34,
   "outputs": [
    {
     "name": "stdout",
     "output_type": "stream",
     "text": [
      "CPU times: user 1min 12s, sys: 7.5 s, total: 1min 20s\n",
      "Wall time: 1min 21s\n"
     ]
    }
   ],
   "source": [
    "\n",
    "data_unigrams_sorted_nlp = [(el[0], {\"doc\" : get_lemma_filtered(el[0]), \"count\" : el[1]}) for el in data_unigrams_sorted if el[1] > 1000]\n",
    "\n",
    "#data_unigrams_sorted_nlp = [(el[0], {\"doc\" : nlp_stanza(el[0]), \"count\" : el[1]}) for el in data_unigrams_sorted if el[1] > 1000]"
   ],
   "metadata": {
    "collapsed": false
   }
  },
  {
   "cell_type": "code",
   "execution_count": 38,
   "outputs": [
    {
     "data": {
      "text/plain": "('G.',\n {'doc': [\n    [\n      {\n        \"id\": 1,\n        \"text\": \"G.\",\n        \"lemma\": \"G.\",\n        \"upos\": \"X\",\n        \"xpos\": \"ADD\",\n        \"head\": 0,\n        \"deprel\": \"root\",\n        \"start_char\": 0,\n        \"end_char\": 2,\n        \"ner\": \"O\",\n        \"multi_ner\": [\n          \"O\"\n        ]\n      }\n    ]\n  ],\n  'count': 1856})"
     },
     "execution_count": 38,
     "metadata": {},
     "output_type": "execute_result"
    }
   ],
   "source": [
    "data_unigrams_sorted_nlp[501]"
   ],
   "metadata": {
    "collapsed": false
   }
  },
  {
   "cell_type": "code",
   "execution_count": 15,
   "outputs": [
    {
     "data": {
      "text/plain": "[('the', {'doc': the, 'count': 3333595}),\n ('of', {'doc': of, 'count': 2261372}),\n ('and', {'doc': and, 'count': 1459413}),\n ('to', {'doc': to, 'count': 1228717}),\n ('in', {'doc': in, 'count': 1151878})]"
     },
     "execution_count": 15,
     "metadata": {},
     "output_type": "execute_result"
    }
   ],
   "source": [
    "data_unigrams_sorted_nlp[:5]"
   ],
   "metadata": {
    "collapsed": false
   }
  },
  {
   "cell_type": "code",
   "execution_count": 16,
   "outputs": [],
   "source": [
    "data_unigrams_nlp_dict = dict(data_unigrams_sorted_nlp)"
   ],
   "metadata": {
    "collapsed": false
   }
  },
  {
   "cell_type": "code",
   "execution_count": 17,
   "outputs": [],
   "source": [
    "# save for future usage\n",
    "with open(\"../data/large_files/data_unigrams_nlp_dict.pickle\", \"wb\") as f:\n",
    "    pickle.dump(data_unigrams_nlp_dict, f)"
   ],
   "metadata": {
    "collapsed": false
   }
  },
  {
   "cell_type": "code",
   "execution_count": 18,
   "outputs": [],
   "source": [
    "# remove middle-step data to save CPU...\n",
    "del data_unigrams\n",
    "del data_unigrams_sorted\n",
    "del data_unigrams_sorted_nlp"
   ],
   "metadata": {
    "collapsed": false
   }
  },
  {
   "cell_type": "markdown",
   "source": [
    "# Trigrams to nlp docs"
   ],
   "metadata": {
    "collapsed": false
   }
  },
  {
   "cell_type": "code",
   "execution_count": null,
   "outputs": [],
   "source": [
    "trigramCount_dict = pickle.load(open(\"../data/large_files/trigramCount_dict.pickle\", \"rb\"))"
   ],
   "metadata": {
    "collapsed": false
   }
  },
  {
   "cell_type": "code",
   "execution_count": null,
   "outputs": [],
   "source": [
    "#data_unigrams = merge_data_from_ids(ids, unigramCount_dict)\n",
    "#data_bigrams = merge_data_from_ids(ids, bigramCount_dict)\n",
    "data_trigrams = merge_data_from_ids(ids, trigramCount_dict)"
   ],
   "metadata": {
    "collapsed": false
   }
  },
  {
   "cell_type": "code",
   "execution_count": null,
   "outputs": [],
   "source": [
    "ids2 = [k for k in list(trigramCount_dict.keys()) if k not in ids]\n",
    "len(ids2)"
   ],
   "metadata": {
    "collapsed": false
   }
  },
  {
   "cell_type": "code",
   "execution_count": null,
   "outputs": [],
   "source": [
    "data_trigrams2 = merge_data_from_ids(ids2, trigramCount_dict)"
   ],
   "metadata": {
    "collapsed": false
   }
  },
  {
   "cell_type": "code",
   "execution_count": null,
   "outputs": [],
   "source": [
    "del trigramCount_dict"
   ],
   "metadata": {
    "collapsed": false
   }
  },
  {
   "cell_type": "code",
   "execution_count": null,
   "outputs": [],
   "source": [],
   "metadata": {
    "collapsed": false
   }
  },
  {
   "cell_type": "code",
   "execution_count": 11,
   "outputs": [
    {
     "data": {
      "text/plain": "458444"
     },
     "execution_count": 11,
     "metadata": {},
     "output_type": "execute_result"
    }
   ],
   "source": [
    "data_trigrams_sorted = sorted(data_trigrams.items(), key=lambda kv: kv[1], reverse=True)\n",
    "len([el for el in data_trigrams_sorted if el[1] > 10])"
   ],
   "metadata": {
    "collapsed": false
   }
  },
  {
   "cell_type": "code",
   "execution_count": 26,
   "outputs": [
    {
     "name": "stdout",
     "output_type": "stream",
     "text": [
      "CPU times: user 21min 37s, sys: 33.8 s, total: 22min 11s\n",
      "Wall time: 23min 14s\n"
     ]
    }
   ],
   "source": [
    "%%time\n",
    "data_trigrams_sorted_nlp = [(el[0], {\"doc\" : nlp(el[0]), \"count\" : el[1]}) for el in data_trigrams_sorted if el[1] > 10]"
   ],
   "metadata": {
    "collapsed": false
   }
  },
  {
   "cell_type": "code",
   "execution_count": 16,
   "outputs": [],
   "source": [
    "del data_trigrams_sorted"
   ],
   "metadata": {
    "collapsed": false
   }
  },
  {
   "cell_type": "code",
   "execution_count": 27,
   "outputs": [],
   "source": [
    "data_trigrams_nlp_dict = dict(data_trigrams_sorted_nlp)"
   ],
   "metadata": {
    "collapsed": false
   }
  },
  {
   "cell_type": "code",
   "execution_count": 28,
   "outputs": [],
   "source": [
    "with open(\"../data/large_files/data_trigrams_nlp_dict.pickle\", \"wb\") as f:\n",
    "    pickle.dump(data_trigrams_nlp_dict, f)"
   ],
   "metadata": {
    "collapsed": false
   }
  },
  {
   "cell_type": "markdown",
   "source": [
    "# Second round of merged trigrams nlp preprocessing"
   ],
   "metadata": {
    "collapsed": false
   }
  },
  {
   "cell_type": "code",
   "execution_count": 12,
   "outputs": [
    {
     "data": {
      "text/plain": "46627339"
     },
     "execution_count": 12,
     "metadata": {},
     "output_type": "execute_result"
    }
   ],
   "source": [
    "len(data_trigrams2)"
   ],
   "metadata": {
    "collapsed": false
   }
  },
  {
   "cell_type": "code",
   "execution_count": 42,
   "outputs": [],
   "source": [
    "data_trigrams2 = dict(data_trigrams2)"
   ],
   "metadata": {
    "collapsed": false
   }
  },
  {
   "cell_type": "code",
   "execution_count": 13,
   "outputs": [
    {
     "data": {
      "text/plain": "458444"
     },
     "execution_count": 13,
     "metadata": {},
     "output_type": "execute_result"
    }
   ],
   "source": [
    "keys1 = [el[0] for el in data_trigrams.items() if el[1] > 10]\n",
    "len(keys1)"
   ],
   "metadata": {
    "collapsed": false
   }
  },
  {
   "cell_type": "code",
   "execution_count": 22,
   "outputs": [],
   "source": [
    "del data_trigrams"
   ],
   "metadata": {
    "collapsed": false
   }
  },
  {
   "cell_type": "code",
   "execution_count": 14,
   "outputs": [
    {
     "data": {
      "text/plain": "774574"
     },
     "execution_count": 14,
     "metadata": {},
     "output_type": "execute_result"
    }
   ],
   "source": [
    "keys2 = [el[0] for el in data_trigrams2.items() if el[1] > 10]\n",
    "len(keys2) #  [el[0] for el in data_trigrams2_filtered]"
   ],
   "metadata": {
    "collapsed": false
   }
  },
  {
   "cell_type": "code",
   "execution_count": 15,
   "outputs": [
    {
     "data": {
      "text/plain": "342693"
     },
     "execution_count": 15,
     "metadata": {},
     "output_type": "execute_result"
    }
   ],
   "source": [
    "keys2_filtered = list((set(keys2) ^ set(keys1)) & set(keys2))\n",
    "len(keys2_filtered)"
   ],
   "metadata": {
    "collapsed": false
   }
  },
  {
   "cell_type": "code",
   "execution_count": 31,
   "outputs": [],
   "source": [
    "del nlp"
   ],
   "metadata": {
    "collapsed": false
   }
  },
  {
   "cell_type": "code",
   "execution_count": 32,
   "outputs": [
    {
     "name": "stdout",
     "output_type": "stream",
     "text": [
      "hello\n"
     ]
    }
   ],
   "source": [
    "print(\"hello\")"
   ],
   "metadata": {
    "collapsed": false
   }
  },
  {
   "cell_type": "code",
   "execution_count": 39,
   "outputs": [],
   "source": [
    "pickle.dump(keys2_filtered, open(\"../data/large_files/keys2_filtered.pickle\", \"wb\"))\n",
    "pickle.dump(data_trigrams2, open(\"../data/large_files/data_trigrams2.pickle\", \"wb\"))"
   ],
   "metadata": {
    "collapsed": false
   }
  },
  {
   "cell_type": "code",
   "execution_count": 40,
   "outputs": [
    {
     "data": {
      "text/plain": "46627339"
     },
     "execution_count": 40,
     "metadata": {},
     "output_type": "execute_result"
    }
   ],
   "source": [
    "len(data_trigrams2)"
   ],
   "metadata": {
    "collapsed": false
   }
  },
  {
   "cell_type": "code",
   "execution_count": 43,
   "outputs": [
    {
     "name": "stdout",
     "output_type": "stream",
     "text": [
      "0\n",
      "5000\n",
      "10000\n",
      "15000\n",
      "20000\n",
      "25000\n",
      "30000\n",
      "35000\n",
      "40000\n",
      "45000\n",
      "50000\n",
      "55000\n",
      "60000\n",
      "65000\n",
      "70000\n",
      "75000\n",
      "80000\n",
      "85000\n",
      "90000\n",
      "95000\n",
      "100000\n",
      "105000\n",
      "110000\n",
      "115000\n",
      "120000\n",
      "125000\n",
      "130000\n",
      "135000\n",
      "140000\n",
      "145000\n",
      "150000\n",
      "155000\n",
      "160000\n",
      "165000\n",
      "170000\n",
      "175000\n",
      "180000\n",
      "185000\n",
      "190000\n",
      "195000\n",
      "200000\n",
      "205000\n",
      "210000\n",
      "215000\n",
      "220000\n",
      "225000\n",
      "230000\n",
      "235000\n",
      "240000\n",
      "245000\n",
      "250000\n",
      "255000\n",
      "260000\n",
      "265000\n",
      "270000\n",
      "275000\n",
      "280000\n",
      "285000\n",
      "290000\n",
      "295000\n",
      "300000\n",
      "305000\n",
      "310000\n",
      "315000\n",
      "320000\n",
      "325000\n",
      "330000\n",
      "335000\n",
      "340000\n",
      "CPU times: user 285 ms, sys: 286 ms, total: 572 ms\n",
      "Wall time: 839 ms\n"
     ]
    }
   ],
   "source": [
    "%%time\n",
    "data_trigrams2_filtered = []\n",
    "n = 0\n",
    "for el in keys2_filtered:\n",
    "    if n in range(0, len(keys2_filtered), 5000):\n",
    "        print(n)\n",
    "    n += 1\n",
    "    data_trigrams2_filtered.append((el, data_trigrams2[el]))"
   ],
   "metadata": {
    "collapsed": false
   }
  },
  {
   "cell_type": "code",
   "execution_count": 44,
   "outputs": [
    {
     "data": {
      "text/plain": "342693"
     },
     "execution_count": 44,
     "metadata": {},
     "output_type": "execute_result"
    }
   ],
   "source": [
    "len(data_trigrams2_filtered)"
   ],
   "metadata": {
    "collapsed": false
   }
  },
  {
   "cell_type": "code",
   "execution_count": 46,
   "outputs": [],
   "source": [
    "pickle.dump(data_trigrams2_filtered, open(\"../data/large_files/data_trigrams2_filtered.pickle\", \"wb\"))"
   ],
   "metadata": {
    "collapsed": false
   }
  },
  {
   "cell_type": "code",
   "execution_count": 47,
   "outputs": [],
   "source": [
    "nlp = spacy.load('en_core_web_lg')"
   ],
   "metadata": {
    "collapsed": false
   }
  },
  {
   "cell_type": "code",
   "execution_count": 48,
   "outputs": [
    {
     "name": "stdout",
     "output_type": "stream",
     "text": [
      "0\n",
      "5000\n",
      "10000\n",
      "15000\n",
      "20000\n",
      "25000\n",
      "30000\n",
      "35000\n",
      "40000\n",
      "45000\n",
      "50000\n",
      "55000\n",
      "60000\n",
      "65000\n",
      "70000\n",
      "75000\n",
      "80000\n",
      "85000\n",
      "90000\n",
      "95000\n",
      "100000\n",
      "105000\n",
      "110000\n",
      "115000\n",
      "120000\n",
      "125000\n",
      "130000\n",
      "135000\n",
      "140000\n",
      "145000\n",
      "150000\n",
      "155000\n",
      "160000\n",
      "165000\n",
      "170000\n",
      "175000\n",
      "180000\n",
      "185000\n",
      "190000\n",
      "195000\n",
      "200000\n",
      "205000\n",
      "210000\n",
      "215000\n",
      "220000\n",
      "225000\n",
      "230000\n",
      "235000\n",
      "240000\n",
      "245000\n",
      "250000\n",
      "255000\n",
      "260000\n",
      "265000\n",
      "270000\n",
      "275000\n",
      "280000\n",
      "285000\n",
      "290000\n",
      "295000\n",
      "300000\n",
      "305000\n",
      "310000\n",
      "315000\n",
      "320000\n",
      "325000\n",
      "330000\n",
      "335000\n",
      "340000\n",
      "CPU times: user 14min 25s, sys: 14.3 s, total: 14min 39s\n",
      "Wall time: 14min 44s\n"
     ]
    }
   ],
   "source": [
    "%%time\n",
    "data_trigrams2_nlp_tups = []\n",
    "n = 0\n",
    "for el in data_trigrams2_filtered:\n",
    "    if n in range(0, len(data_trigrams2_filtered), 5000):\n",
    "        print(n)\n",
    "    n += 1\n",
    "    data_trigrams2_nlp_tups.append((el[0], {\"doc\" : nlp(el[0]), \"count\" : el[1]}))"
   ],
   "metadata": {
    "collapsed": false
   }
  },
  {
   "cell_type": "code",
   "execution_count": 49,
   "outputs": [],
   "source": [
    "pickle.dump(dict(data_trigrams2_nlp_tups), open(\"../data/large_files/data_trigrams2_nlp_dict.pickle\", \"wb\"))"
   ],
   "metadata": {
    "collapsed": false
   }
  },
  {
   "cell_type": "code",
   "execution_count": null,
   "outputs": [],
   "source": [],
   "metadata": {
    "collapsed": false
   }
  },
  {
   "cell_type": "code",
   "execution_count": null,
   "outputs": [],
   "source": [],
   "metadata": {
    "collapsed": false
   }
  },
  {
   "cell_type": "code",
   "execution_count": null,
   "outputs": [],
   "source": [],
   "metadata": {
    "collapsed": false
   }
  }
 ],
 "metadata": {
  "kernelspec": {
   "name": "mops_venv",
   "language": "python",
   "display_name": "mops_venv"
  },
  "language_info": {
   "codemirror_mode": {
    "name": "ipython",
    "version": 2
   },
   "file_extension": ".py",
   "mimetype": "text/x-python",
   "name": "python",
   "nbconvert_exporter": "python",
   "pygments_lexer": "ipython2",
   "version": "2.7.6"
  }
 },
 "nbformat": 4,
 "nbformat_minor": 0
}
