{
 "cells": [
  {
   "cell_type": "code",
   "execution_count": 1,
   "metadata": {
    "collapsed": true
   },
   "outputs": [],
   "source": [
    "import pandas as pd\n",
    "import spacy\n",
    "import pickle\n",
    "import random\n",
    "pd.set_option(\"display.max_columns\", None)\n",
    "from collections import Counter\n",
    "import re\n",
    "import google_conf\n",
    "import os\n",
    "import json\n",
    "\n",
    "from nltk.corpus import stopwords"
   ]
  },
  {
   "cell_type": "code",
   "execution_count": 2,
   "outputs": [],
   "source": [
    "metadata_df = pd.read_json(\"../data/metadata_df.json\")"
   ],
   "metadata": {
    "collapsed": false
   }
  },
  {
   "cell_type": "code",
   "execution_count": 16,
   "outputs": [],
   "source": [
    "ids = metadata_df[\"id_kase\"].tolist()"
   ],
   "metadata": {
    "collapsed": false
   }
  },
  {
   "cell_type": "code",
   "execution_count": 3,
   "outputs": [],
   "source": [
    "mops_data = google_conf.setup(sheet_url=\"https://docs.google.com/spreadsheets/d/1VbCIAJssHKV9hlRTwzVFfm40CGnHesq53KXjv2qy4OM/edit?usp=sharing\", service_account_path=\"../../ServiceAccountsKey.json\")"
   ],
   "metadata": {
    "collapsed": false
   }
  },
  {
   "cell_type": "code",
   "execution_count": 4,
   "outputs": [],
   "source": [
    "nlp_spacy = spacy.load('en_core_web_lg') # python -m spacy download en_core_web_lg"
   ],
   "metadata": {
    "collapsed": false
   }
  },
  {
   "cell_type": "code",
   "execution_count": 5,
   "outputs": [],
   "source": [
    "tags = [\"NOUN\", \"ADJ\", \"VERB\", \"PROPN\"]"
   ],
   "metadata": {
    "collapsed": false
   }
  },
  {
   "cell_type": "code",
   "execution_count": 6,
   "outputs": [],
   "source": [
    "stops = set(stopwords.words('english'))"
   ],
   "metadata": {
    "collapsed": false
   }
  },
  {
   "cell_type": "code",
   "execution_count": 7,
   "outputs": [
    {
     "data": {
      "text/plain": "\"Word God's Press\""
     },
     "execution_count": 7,
     "metadata": {},
     "output_type": "execute_result"
    }
   ],
   "source": [
    "def clean_filter(string):\n",
    "    string = [re.sub(\"[,.;:!?@#$~^&*{}}°\\\"\\’\\[\\]\\(\\)\\_\\-\\d+]+\", \"\", w) for w in string.split()]\n",
    "    string = \" \".join([w[0] + w[1:].lower() for w in string if ((w not in stops) & (len(w)>1))])\n",
    "    return string\n",
    "clean_filter(\"the; L wouldn't _Word1... \\\"God's PRESS\")"
   ],
   "metadata": {
    "collapsed": false
   }
  },
  {
   "cell_type": "code",
   "execution_count": 8,
   "outputs": [],
   "source": [
    "def filter_dict(mydict):\n",
    "    mycounter = Counter()\n",
    "    for item in mydict.items():#, key=lambda kv: kv[1], reverse=True))\n",
    "        string = clean_filter(item[0])\n",
    "        string = \" \".join([w for w in string.split() if w not in stops])\n",
    "        if (len(string) > 1) & (len(string.split()) > 1):\n",
    "            mycounter.update({string : item[1]})\n",
    "    return mycounter"
   ],
   "metadata": {
    "collapsed": false
   }
  },
  {
   "cell_type": "code",
   "execution_count": 15,
   "outputs": [
    {
     "data": {
      "text/plain": "7455"
     },
     "execution_count": 15,
     "metadata": {},
     "output_type": "execute_result"
    }
   ],
   "source": [
    "id = 0\n",
    "sourcepath = \"../data/large_files/trigrams_raw/\"\n",
    "ngram_dict = json.load(open(sourcepath +  \"trigrams_{}.json\".format(str(id)), \"r\"))\n",
    "len(ngram_dict)"
   ],
   "metadata": {
    "collapsed": false
   }
  },
  {
   "cell_type": "code",
   "execution_count": 10,
   "outputs": [
    {
     "data": {
      "text/plain": "{'framework of a': 1,\n 'illuminating one another': 1,\n 'Reunion of the': 2,\n 'all parts of': 1,\n 'in religious matters.': 1,\n 'way.’ 22 As': 1,\n 'another. Most bases': 1,\n 'REVIEW forces. ‘Certainly': 1,\n '(to use a': 1,\n 'even force, such': 1,\n 'in the Consultation': 1,\n 'the divine hope': 1,\n 'leaves unresolved. I': 1,\n 'the healing of': 1,\n 'social service. But': 1,\n 'which men may': 1,\n 'churches. In spite': 1,\n '‘The Critics and': 1,\n 'context, and as': 1,\n 'that is inherent': 1,\n 'range from the': 1,\n 'the Church, the': 1,\n 'insufficient, attention paid': 1,\n 'stimulated the efforts': 1,\n 'flow and be': 1,\n 'for racial equality,': 1,\n 'to be faced,': 1,\n 'with one another)': 1,\n 'which the reconciliation': 1,\n 'as the structures': 1,\n 'has preserved into': 1,\n 'own? And if': 1,\n 'of the issues': 1,\n 'far we have': 1,\n 'and joint action': 1,\n 'and His gift': 1,\n 'involved in such': 1,\n 'to articulate this': 1,\n 'to be re-interpreted': 1,\n 'that, in spite': 1,\n 'unity in one': 1,\n 'X, 6, September-October,': 1,\n 'in mission, common': 1,\n 'will be visible-at': 1,\n 'which might have': 1,\n 'demonstrate that the': 1,\n 'one Gospel, breaking': 1,\n 'Christian fellowship in': 1,\n 'not only unity': 1,\n 'community life? This': 1,\n 'solution to the': 1,\n 'is impossible that': 1,\n 'a goal of': 1,\n 'the address by': 1,\n '231. LUKAS VXSCHER,': 1,\n 'United churches, to': 1,\n 'biblical injunction to': 1,\n 'and discuss the': 1,\n 'in structures of': 1,\n 'important, when community': 1,\n 'degree of order': 1,\n 'Press, Movement’, Lutheran': 1,\n 'world-wide fellowship should': 1,\n 'gifts of the': 1,\n 'the adequacy of': 1,\n 'community established and': 1,\n 'course, in every': 1,\n 'inhabiting a ‘global': 1,\n 'new appreciation of': 1,\n '253.) d) That': 1,\n 'the Church couId': 1,\n 'Council of Churches,': 1,\n 'local fellowship is': 1,\n 'established and maintained?': 1,\n 'to be ‘one': 1,\n 'to live in': 1,\n 'have been more': 1,\n 'of the compelling': 1,\n 'agreement first, and': 1,\n 'always seek not': 1,\n 'has become a': 1,\n 'op, cit., p.': 1,\n 'a ‘global village’': 1,\n 'doctrine, even while': 1,\n 'for example, the': 1,\n 'the WCC Commission': 1,\n 'use several of': 1,\n 'Conclusion: The risk': 1,\n 'side, been recognized': 1,\n '-or failed. If': 1,\n 'are nego- tiating,': 1,\n 'church provide so': 1,\n 'Commission to promote': 1,\n 'and increases the': 1,\n 'at the end': 1,\n 'd’2tre ? l2': 1,\n 'for the whole': 1,\n 'be preserved. The': 1,\n 'persons who themselves': 1,\n 'prepared, how will': 1,\n 'Association Press, 1972,': 1,\n 'Mid- 29 Faith': 1,\n 'within diversity in': 1,\n '28 What is': 1,\n 'strand in the': 1,\n 'No hope of': 1,\n 'reconciliation of persons': 1,\n 'into their decision-making': 1,\n 'of the source': 1,\n 'the strengths of': 1,\n 'become a step': 1,\n 'by specialists, a': 1,\n 'unity. The unity': 1,\n 'the reconciliation of': 3,\n 'benefits of union': 1,\n 'loss of identity': 1,\n 'particular concept of': 1,\n 'and counsel (Edinburgh': 1,\n 'and implementation of': 1,\n '3, 1972, z1': 1,\n 'found which can': 1,\n 'MOEDE ‘To call': 1,\n 're-state the imperatives': 1,\n 'factors in the': 2,\n 'be victims of': 1,\n 'con- versation and': 1,\n 'or cheap solution.': 1,\n 'Discussion’, Mid-Stream, Conference': 1,\n 'salutary welding effect': 1,\n 'a sense of': 1,\n 'wave of experimentation': 1,\n 'In the following': 1,\n 'for the reconciling': 1,\n 'education) would make': 1,\n 'the WCC did': 1,\n 'form of life’': 1,\n 'truly united church,': 1,\n 'conditions, as negotiating': 1,\n 'and doctrinal agreement': 1,\n '291) go into': 1,\n 'genuine renewal which': 1,\n 'had experience of': 1,\n 'threat of “uniformity”': 1,\n 'Church Union Negotiations,': 1,\n 'hundred and twenty-five': 1,\n 'especially in the': 1,\n 'redemp- tion into': 1,\n 'in national unions,': 1,\n 'solutions. 1. Local': 1,\n 'unity be concerned': 1,\n 'As long as': 1,\n 'of the other': 1,\n 'organic or corporate': 1,\n 'in one eucharistic': 1,\n 'it is impossible': 1,\n 'fellowship’ can best': 1,\n 'a conflict of': 1,\n 'creatively embody the': 1,\n 'Church Union Conference': 1,\n 'ruison d’2tre ?': 1,\n 'working toward a': 1,\n 'by members of': 1,\n 'a step on': 1,\n 'which can be': 2,\n 'as the struggle': 1,\n 'Union Negotiations’. January': 1,\n 'is being maintained.': 1,\n 'and who have': 2,\n 'by which a': 1,\n 'and life is': 1,\n '(faith, worship, sacraments,': 1,\n 'treasure and insight,': 1,\n 'on particular projects,': 1,\n 'starting from the': 1,\n 'passing. Although there': 1,\n 'consensus - that': 1,\n 'its own life': 1,\n 'no Docetic separation': 1,\n 'Christian body continues': 1,\n 'ECUMENICAL REVIEW forces.': 1,\n 'and deeper commitment.': 1,\n 'Delhi Assembly in': 1,\n 'as national- istic': 1,\n 'community felt by': 1,\n 'of the truth': 1,\n 'and pulpit fellowship’': 1,\n 'contact with those': 1,\n 'united church, after': 1,\n 'be achieved by': 1,\n 'united churches ;': 1,\n 'in the Corinthian': 1,\n 'reconciling ministry of': 1,\n 'life.’ l7 Plans': 1,\n 'effective common action': 1,\n '1910 was that': 1,\n 'all minorities at': 1,\n 'of any particular': 1,\n 'later call into': 1,\n 'have shown that': 1,\n 'body continues to': 1,\n 'into it. Here,': 1,\n 'doctrinal viewpoints to': 1,\n 'World, the con-': 1,\n 'or even sub-national': 1,\n 'internationally, when agreements': 1,\n 'social, economic, and': 1,\n 'what God has': 1,\n 'be fostered with': 1,\n 'description. But how': 1,\n '263 sign: here': 1,\n 'January 1972, p.': 1,\n 'to obscure the': 1,\n 'a single union': 1,\n 'a third are': 1,\n 'the Holy Spirit,': 1,\n 'traditional principle “doctrinal': 1,\n 'information-sharing and personal': 1,\n 'it may well': 1,\n 'types of organization': 1,\n 'South India Commission': 1,\n 'together as occasion': 1,\n 'the Epistles of': 1,\n 'as by the': 1,\n 'disparate local elements': 1,\n 'of Christians as': 1,\n 'forms of fellowship': 1,\n 'education, information-sharing and': 1,\n 'have developed as': 1,\n 'has indeed been': 1,\n 'followed by these': 1,\n 'distinctive and particular': 1,\n 'by a lot': 1,\n '‘We believe that': 1,\n 'sufficiently allowed to': 1,\n 'been discussing several': 1,\n 'is difficult to': 1,\n 'function, e.g. in': 1,\n 'into one fully': 1,\n 'for mutual theological': 1,\n '- The unity': 1,\n 'all levels is': 1,\n 'understanding and synthesis': 1,\n 'inform the resulting': 1,\n 'threatening), almost invariably': 1,\n 'is desirable ?': 1,\n 'specific historical and': 1,\n 'Ecumenical l6 ‘Catholicity': 1,\n 'the rule ;': 1,\n 'realities in the': 1,\n 'neither solve the': 1,\n 'be made to': 1,\n '‘T HOOFT, ‘Various': 1,\n 'visible in Vatican': 1,\n 'problem to united': 1,\n 'and encourage and': 1,\n 'the Limuru Mid-Stream.': 1,\n 'church has to': 1,\n 'remembering that it': 1,\n 'of the value': 1,\n 'is simply a': 1,\n 'hand require no': 1,\n 'negotiating, should always': 1,\n 'UNITY 259 time’': 1,\n 'opportunity to make': 1,\n 'left behind, that': 1,\n 'result of a': 1,\n 'nature of church': 1,\n 'united churches have': 2,\n 'both Lukas Vischer': 1,\n ': ‘Education for': 1,\n 'a crucial role': 1,\n 'Perspective’, Church Union': 1,\n 'of reunion. But': 1,\n 'as usual’ in': 1,\n 'advance (. .': 1,\n 'recognized the place': 1,\n 'It is not': 2,\n '‘Certainly the alternatives': 1,\n 'bring churches together': 1,\n 'the conference-room, divorced': 1,\n 'broadened inclus- iveness': 1,\n 'adminis- trative type': 1,\n 'phenomenon which most': 1,\n 'racial and cultural': 1,\n 'Implies, R. Groscurth': 1,\n 'CHURCH UNION As': 1,\n 'that is arguable': 1,\n 'indeed been leading': 1,\n 'to the continuing': 1,\n 'experimentation in new': 1,\n 'A wider experience': 1,\n 'then, no more': 1,\n 'of the original': 1,\n 'to one another,': 1,\n 'been leading them': 1,\n 'own original positions': 1,\n 'question has been': 1,\n 'the basic realities': 1,\n 'than twenty-two unions': 1,\n 'is a sign': 1,\n 'prin- ciple, but': 1,\n 'remembers the startling': 1,\n 'regional and international,': 1,\n 'on the regional': 1,\n 'l8 Furthermore, union': 1,\n 'order that will': 1,\n 'be deadlier for': 1,\n 'church. Although Councils': 1,\n 'places ; the': 1,\n 'action ? A': 1,\n 'and Salamanca consultations': 1,\n 'must be able': 1,\n 'which all who': 1,\n 'ordered in such': 1,\n 'reached within a': 1,\n 'To do so': 1,\n 'has therefore been': 1,\n 'further benefit of': 1,\n 'has been its': 1,\n '‘The Gospel and': 1,\n 'manifestation of the': 1,\n 'ecumenical fellowship had': 1,\n 'be avoided. f)': 1,\n 'for widely different,': 1,\n 'have but confirmed': 1,\n 'paper. Organic union': 1,\n 'a manifestation of': 1,\n 'Although Councils of': 1,\n 'manifesting in its': 1,\n 'made should be': 1,\n 'towards that unity': 1,\n 'be transcended; the': 1,\n 'caricature and in': 1,\n 'deeply founded than': 1,\n 'before union. It': 1,\n 'Union at Zo': 1,\n 'are in full': 1,\n 'all Christians in': 2,\n 'that wholeness of': 1,\n 'is to serve': 1,\n 'common prayer, and': 1,\n 'one- sided and': 1,\n 'secure Christian unity': 1,\n 'effectively demonstrate that': 1,\n 'WCC Commission on': 1,\n 'of union remain': 1,\n 'then remembers the': 1,\n 'or councils of': 1,\n 'how are the': 1,\n 'can be achieved': 1,\n 'not be overlooked': 1,\n 'races involved in': 1,\n 'they leave open': 1,\n 'practical efficiency is': 1,\n 'call the churches': 2,\n 'from the divided': 1,\n '21 December 1972,': 1,\n 'Christian bodies (confessional,': 1,\n 'is vital. Dr': 1,\n '‘gatherings’ can (and': 1,\n 'union is in': 1,\n 'see what God': 1,\n 'solidarity ‘till the': 1,\n 'India’, The Christian': 1,\n 'the forms which': 1,\n 'of the oneness': 1,\n '254 THE ECUMENICAL': 1,\n '; Geneva :': 1,\n 'organ of conference': 1,\n 'loss in certain': 1,\n 'of faith. Any': 1,\n 'church-meeting format does': 1,\n 'of living and': 1,\n 'some permanent organ': 1,\n 'Church-One People in': 1,\n 'diakonia, which will': 1,\n 'negotiations are aware': 1,\n 'only by a': 1,\n 'greater theological integrity,': 1,\n 'those who have': 3,\n 'single stream of': 1,\n 'of uniformity (.': 1,\n 'loose diocesan structure': 1,\n 'cannot unite unless': 1,\n 'and no part': 1,\n 'a fully shared': 1,\n 'many quarters a': 1,\n 'families? Or should': 1,\n '82-100. CHURCH UNION': 1,\n 'at the time': 1,\n 'have brought loss': 1,\n 'a genuine and': 1,\n 'unions, have been': 1,\n 'Church, the affirmation': 1,\n '23 Recently the': 1,\n 'union range from': 1,\n 'it is that': 1,\n 'any benefit -': 1,\n 'wherever they celebrate': 1,\n 'a church has': 1,\n 'cit., p. 226.': 1,\n '‘We open ourselves': 1,\n 'term commitment and': 1,\n 'p. 23.) g)': 1,\n 'united church is': 1,\n 'of the Ecumenical': 1,\n 'churches have created': 1,\n 'or are in': 1,\n 'all spring from': 1,\n 'worship and witness': 1,\n 'of conference and': 1,\n 'been the conscious': 1,\n 'witness and service,': 1,\n 'by side four': 1,\n 'Therefore it is': 1,\n 'at union, or': 1,\n 'to their original': 1,\n 'enable common decisions': 1,\n 'A distinction is': 1,\n 'These are deeply': 1,\n 'of Union of': 1,\n 'is surely no': 1,\n 'address by Paul': 1,\n 'ECUMENICAL REVIEW Dying': 1,\n '‘The same apostle': 1,\n 'of interest can': 1,\n 'and planning, is': 1,\n 'anguished world where': 1,\n 'they do imply': 1,\n 'for fullness of': 1,\n 'confessional embodiments of': 1,\n 'will be precisely': 1,\n 'channels through which': 1,\n 'that genuine conciliarity': 1,\n 'negotiating committees, especially': 1,\n 'the parish. It': 1,\n 'is a member': 1,\n 'from the conviction': 1,\n 'objected that union': 1,\n 'Renewal and Advance.ss': 1,\n 'from mission ;': 1,\n 'more and more': 1,\n 'which emerge in': 1,\n 'and personal encounter': 1,\n 'if they belong': 1,\n 'been recognized as': 1,\n 'use of the': 1,\n 'into direct contact': 1,\n 'attempt to re-state': 1,\n 'whole human race’.': 1,\n 'reconciliation are providing': 1,\n 'Gassmann, in discussing': 1,\n 'confessional identities and': 1,\n 'a certain consistency': 1,\n 'points where agreement': 1,\n 'of genuine worship.': 1,\n 'ecumenical movement include': 1,\n 'incorporates the dimension': 1,\n 'final risk. No': 1,\n 'brought by the': 1,\n 'who have committed': 1,\n 'mission of evan-': 1,\n 'problems existing between': 1,\n 'for the full': 1,\n 'physical environment in': 1,\n 'in this way': 1,\n 'which was able': 1,\n 'an ultimate form.': 1,\n 'face-to-face encounter, which': 1,\n 'the confessional separatism': 1,\n 'even the right,': 1,\n 'bringing the members': 1,\n 'will and His': 1,\n 'convincingly dramatizes the': 1,\n 'mutual recognition of': 1,\n 'India has set': 1,\n '‘T HOOFT (ed.).': 1,\n 'without stifling the': 1,\n 'form may emerge': 1,\n 'possibility for genuine': 1,\n 'between the churches': 1,\n 'of the truths': 1,\n 'spiritual hunger and': 1,\n 'the fact of': 1,\n 'Union makes clear': 1,\n '258 THE ECUMENICAL': 1,\n 'afraid of “tensions”': 1,\n 'way : ’': 1,\n 'affect us ?’': 1,\n 'thrown upon their': 1,\n 'never have been': 1,\n 'feasible model of': 1,\n 'stifling uniformity.’ 28': 1,\n 'planning and execution': 1,\n '1, 1973, p.': 1,\n 'begun to articulate': 1,\n 'upheavals necessitated by': 1,\n 'who are baptized': 1,\n '; full commitment': 1,\n 'nor greater theological': 1,\n 'But how are': 1,\n 'the acceptance of': 1,\n 'is the subject': 1,\n 'end of March': 1,\n '; it is': 1,\n 'is “0 Lord,': 1,\n 'an administratively centralized': 1,\n 'VISCHER, Mid-Stream, op.': 1,\n 'state of division.': 1,\n 'in so far': 1,\n '‘structuring’ the possibility': 1,\n 'struggle of rival': 1,\n 'which has resulted': 1,\n 'not to be': 1,\n 'Speaks, p. 18': 1,\n 'here. Union at': 1,\n 'Plan? If this': 1,\n 'end of 22': 1,\n 'as well as': 5,\n 'and develop, some': 1,\n 'between the visible': 1,\n 'the truths the': 1,\n 'accepted as primary,': 1,\n 'article is a': 1,\n 'with adequate solutions.': 1,\n 'now negotiating toward': 1,\n 'decision-making in such': 1,\n 'and to which': 1,\n 'synthesis cannot be': 1,\n 'the Up-To-Date Ecumenist’,': 1,\n '‘The Church-One People': 1,\n 'structures, nationally or': 1,\n 'of the negotiating': 1,\n 'demonstrate a broadened': 1,\n '.) There is': 1,\n 'are willing to': 3,\n 'by now with': 1,\n 'is a given': 1,\n 'too rigidly one-': 1,\n 'a whole must': 1,\n 'world families? Or': 1,\n 'acted as a': 1,\n 'the union model': 2,\n 'identity is involved.': 1,\n 'it thus offers': 1,\n 'Thus, in commemoration': 1,\n 'apart (even if': 1,\n 'fellowship expressed in': 1,\n 'so many business': 1,\n 'together locally. Between': 1,\n 'be made manifest': 1,\n 'built on mutual': 1,\n 'special meeting on': 1,\n 'unpublished MS of': 1,\n 'spirit for fullness': 1,\n 'matter of stewardship': 1,\n 'church. Union planners': 1,\n 'Christ’s body is': 1,\n 'p. 50. CHURCH': 1,\n 'intentionally modest theologically,': 1,\n 'cooperation which transcends': 1,\n '.) ’ !': 1,\n 'the churches nor': 1,\n 'everyone’s satisfaction. Indeed,': 1,\n 'adherence to “the': 1,\n 'Limuru Discussion’, Mid-Stream,': 1,\n 'no long- term': 1,\n 'in nature. It': 1,\n 'has subsequently disintegrated': 1,\n 'ago, Lesslie Newbigin': 1,\n 'feared that a': 1,\n 'world. It offers': 1,\n 'in the Ecumenical': 1,\n 'it is recognized': 1,\n 'centralized administrative authority': 1,\n '‘the wholeness of': 1,\n '83. p. 45.': 1,\n 'in providing true': 1,\n 'limited to the': 1,\n 'therefore understandable that': 1,\n 'CHRISTIAN UNITY GERALD': 1,\n 'consortia or councils': 1,\n 'a death and': 1,\n '1972, p. 2.': 1,\n 'Christians at all': 1,\n 'demonstrates the divine': 1,\n 'the biblical injunction': 1,\n 'i.e. the dimension': 1,\n 'expressed in worship': 1,\n 'locally. Between the': 1,\n 'kind of theological': 1,\n '- a break': 1,\n 'of Christians in': 1,\n 'have had difficulty': 1,\n 'commitment and do': 1,\n 'is the end': 1,\n 'particular places.’’ Although': 1,\n 'united church. Although': 1,\n 'order that the': 1,\n 'possible (. .': 1,\n 'a form of': 1,\n 'the original ideas': 1,\n 'are taking part': 1,\n 'au ZaWe is': 1,\n 'to be genuine,': 1,\n 'By its explicit': 1,\n 'rebirth of many': 1,\n '1971, p. 231.': 1,\n 'for authentic diversity': 1,\n 'made in the': 1,\n 'a united church': 3,\n 'be made in': 1,\n 'apostle who extolled': 1,\n 'is that the': 3,\n 'Of course, in': 1,\n 'represented at some': 1,\n 'open the question': 1,\n 'is to find': 1,\n 'can be drawn': 1,\n 'to discern without': 1,\n 'essential reality in': 1,\n 'there is simply': 1,\n 'discouraged local efforts': 1,\n 'is not merely': 1,\n 'of their own?': 1,\n 'Herausforderung 7’. Kirchen-': 1,\n 'world One of': 1,\n 'broader area would': 1,\n 'fuller apprehension of': 1,\n '.82 I11 Conclusion:': 1,\n 'fact of living': 1,\n 'Press, 1962, p.': 1,\n 'them. More light': 1,\n 'of unity for': 1,\n 'as negotiating and': 1,\n '20, etc.).’ By': 1,\n 'express identity is': 1,\n 'Lund Report, p.': 1,\n 'to Churches in': 1,\n 'mutual assistance on': 1,\n 'unity which binds': 1,\n 'for the quality': 1,\n 'of many is': 1,\n 'in faith, worship': 1,\n 'another locally. 2': 1,\n 'removed by bringing': 1,\n 'to a lack': 1,\n 'it bring about': 1,\n 'The Christian Advocate,': 1,\n 'structures of relationship': 1,\n 'or national structures.': 1,\n 'local congregation’s life': 1,\n 'Church Universal” ’.': 1,\n 'in their contemporary': 1,\n 'far as it': 1,\n 'the world-wide community': 1,\n 'so dependent upon': 1,\n 'within a basis': 1,\n 'a ‘united’ witness': 1,\n '? Will not': 1,\n 'let alone the': 1,\n 'own life that': 1,\n 'universal dimension, i.e.': 1,\n 'than a death': 1,\n 'are providing multilateral': 1,\n 'the regional or': 1,\n '($ l), it': 1,\n 'have had experience': 1,\n 'preparations for union': 1,\n 'joining in common': 2,\n 'closer together (and,': 1,\n 'the identity of': 1,\n 'less than a': 1,\n 'processes-the search for': 1,\n 'almost unanimous in': 1,\n 'to reconcile into': 1,\n 'that the tests': 1,\n 'live and encounter': 1,\n '; a common': 1,\n 'significance. The Church': 1,\n 'for Encounter’, in': 1,\n 'of unity has': 1,\n 'even in the': 1,\n 'between the uniting': 1,\n 'the World’, p.': 1,\n 'take place. In': 1,\n 'Church of Christ': 1,\n 'members that is': 1,\n 'promptly and forthrightly': 1,\n 'many united churches,': 1,\n 'in each place’,': 1,\n 'only when they': 1,\n 'What union does': 1,\n 'Witness the Limuru': 1,\n 'and the Up-To-Date': 1,\n 'Christians together must': 1,\n 'unity in the': 1,\n 'experience of those': 1,\n 'do not occur.': 1,\n 'forgiveness and renewed': 1,\n 'is a clear': 1,\n '253) are required,': 1,\n 'Lutheran-Reformed conversations in': 1,\n 'or practical efficiency': 1,\n '249 and Order': 1,\n 'be greater freedom': 1,\n 'in that description,': 1,\n 'right, of the': 1,\n 'lack in the': 1,\n 'by all, and': 1,\n 'has served to': 1,\n 'needs a visible': 1,\n 'but that a': 1,\n 'consensus’ has been': 1,\n 'provision for unity': 1,\n 'uniformity of 8': 1,\n 'prejudice the “wholeness”': 1,\n '(and not only': 1,\n 'counts (. .': 1,\n 'p. 215. Plea': 1,\n 'that a new,': 1,\n 'institutions or social': 1,\n 'cannot guarantee any': 1,\n 'all places and': 1,\n 'church unity. United': 1,\n 'in one faith': 1,\n 'within a community': 1,\n 'have stumbled. Faith': 1,\n 'compromises satisfying no': 1,\n 'experience of inter-connected': 1,\n 'there are ‘riches': 1,\n '‘The typical church-meeting': 1,\n 'compel the churches': 1,\n 'is a very': 1,\n 'be, in fact,': 1,\n 'shift its strategy': 1,\n 'has preserved, to': 1,\n 'visibly single worshipping': 1,\n 'that it is': 2,\n 'WCC ; the': 1,\n '‘theological consensus’ has': 1,\n 'been its particularity,': 1,\n 'Him as Lord': 1,\n '‘What is this': 1,\n 'g) That this': 1,\n 'has yet been': 1,\n 'gathering of the': 1,\n 'idealized. Union and': 1,\n 'to the world.': 1,\n 'of Christ’s body': 1,\n 'not sure what': 1,\n 'and old animosities': 1,\n 'parish. The two': 1,\n 'preferably at the': 1,\n 'in a church': 2,\n 'common life in': 1,\n 'unions consummated since': 1,\n 'to face.’ as': 1,\n 'Fam- ilies’, Mid-Stream,': 1,\n 'are passed -or': 1,\n 'in particular places.’’': 1,\n 'Christ au ZaWe': 1,\n 'of the world': 1,\n 'various confessions can': 1,\n 'pages here, and': 1,\n 'costly can finally': 1,\n 'its explicit decision': 1,\n 'affirming that, though': 1,\n 'exists wherever the': 1,\n 'single congregations the': 1,\n 'and as individuals.': 1,\n 'unity poses a': 1,\n 'hand, as by': 1,\n 'The Church is': 2,\n 'same Council of': 1,\n 'us ?’ At': 1,\n 'achievement of unity': 1,\n 'India twenty-five years': 1,\n 'Church USA, is': 1,\n 'unity of mankind': 2,\n 'least in religious': 1,\n 'structures in its': 1,\n '264 THE ECUMENICAL': 1,\n 'non-united. When six': 1,\n 'churches, after ‘theological': 1,\n 'The only adequate': 1,\n 'The overcoming of': 1,\n 'tying the broken': 1,\n 'most negotiations there': 1,\n 'dimension of personal': 1,\n 'sug- gesting structures': 1,\n 'on the new': 1,\n 'too easily become': 1,\n 'locally. 2 .': 1,\n 'field of development': 1,\n 'structure becomes necessary.': 1,\n '8 ‘Notes from': 1,\n 'see quite clearly': 1,\n 'some pages here,': 1,\n 'For this adversary': 1,\n 'context, it has': 1,\n 'been posed. If': 1,\n 'existences achieved beyond': 1,\n 'Third World, the': 1,\n '‘corporate’) we imply': 1,\n 'accomplish, its advantages': 1,\n 'third are already': 1,\n 'dependence upon God': 1,\n 'Delhi Statement on': 1,\n 'unity. People have': 1,\n 'been sufficiently allowed': 1,\n 'question. The ecclesiological': 1,\n 'Mid-Stream, op. cit.,': 3,\n 'have a salutary': 1,\n 'a highly centralized': 1,\n 'they are set,': 1,\n 'only unity in': 1,\n '1954, p. 495.': 1,\n '109 ;he quotes': 1,\n 'I ~ 251': 1,\n 'to inform the': 1,\n 'New Delhi guidelines': 1,\n 'for the creation': 1,\n 'operation.’ In the': 1,\n 'is both God’s': 1,\n 'among churches is': 1,\n 'a large measure': 1,\n 'of South India': 5,\n 'can neither solve': 1,\n 'available to particular': 1,\n '1970. Faith and': 1,\n 'witness to their': 1,\n '(ed.), Frankfurt :': 1,\n 'continues to be': 1,\n 'tions. Should the': 1,\n 'amid all that': 1,\n 'and which was': 1,\n '27 See, for': 1,\n 'social questions which': 1,\n 'leave open the': 1,\n 'is essential, however,': 1,\n 'the dilemma posed': 1,\n 'men may see': 1,\n 'them into fuller': 1,\n 'is undoubtedly one': 1,\n 'or nothing to': 1,\n 'search for mutual': 1,\n 'is not an': 2,\n 'Limuru report :': 1,\n 'be accepted ;': 1,\n 'in many quarters': 1,\n 'of the People': 1,\n 'from which our': 1,\n 'of organization and': 1,\n '(below, p. 291)': 1,\n '. GASSMANN, ‘Kirchenunion': 1,\n 'union in this': 1,\n 'of churches. In': 1,\n 'and search for': 1,\n 'con- stituency along': 1,\n 'was intended to': 1,\n 'inevitably be prepared': 1,\n 'carried on in': 1,\n 'Vatican 11, where,': 1,\n '? Is there': 1,\n 'a member of': 1,\n 'who have had': 1,\n 'themselves as separate': 1,\n 'become a matter': 1,\n '. .) We': 1,\n 'single union has': 1,\n 'Review, Vol. VIII': 1,\n 'in many parts': 1,\n 'transcends and intersects': 1,\n 'but just as': 1,\n 'the prophetic voice': 1,\n 'That this unity': 2,\n 'of experimentation in': 1,\n 'drawn us into': 1,\n 'Should the churches': 1,\n 'exercising many negotiating': 1,\n 'which is undoubtedly': 1,\n 'of ecumenical purpose': 1,\n 'common name ;': 1,\n 'enthusiasm and commitment': 1,\n 'ecclesiatical organization the': 1,\n 'fact of redemp-': 1,\n 'R. Rouse and': 1,\n 'the British Council': 1,\n 'It is therefore': 1,\n 'the world. We': 1,\n 'that l 3': 1,\n 'Lutheran World, Vol.': 2,\n 'the call for': 1,\n 'new church to': 1,\n 'which the Apostle': 1,\n 'People of God': 1,\n 'church be represented': 1,\n 'not Christians at': 1,\n 'of mission and': 1,\n 'forms, and for': 1,\n 'worshipping community As': 1,\n 'a workable whole': 1,\n 'sharing of certain': 1,\n ': ‘a) That': 1,\n 'opinions on non-essentials': 1,\n 'the one apostolic': 2,\n 'but unity in': 1,\n 'together of complementary': 1,\n 'wider experience of': 1,\n 'difficulty in ‘structuring’': 1,\n 'Does the goal': 1,\n 'at least a': 1,\n 'necessitated by union': 1,\n 'systems.’ lo New': 1,\n '‘encounters’ in the': 1,\n 'If the presence': 1,\n 'has written :': 1,\n 'is vital that': 1,\n 'important $0 T.': 1,\n 'unity growing out': 1,\n 'very struggle to': 1,\n 'and social situations': 1,\n 'two processes-the search': 1,\n 'History of the': 1,\n 'prepared to face.’': 1,\n 'transcends the local': 1,\n 'emerge in the': 1,\n 'Christians for which': 1,\n 'A recovered sense': 1,\n 'exterior, structured unity': 1,\n 'union model. All': 1,\n 'by which organic': 1,\n 'the one bread,': 2,\n 'compelling factors in': 1,\n 'or confessional tradition': 1,\n '‘truly universal conciliar': 1,\n 'easily become a': 1,\n 'and as they': 1,\n 'which most sharply': 1,\n 'into conformity with': 1,\n 'built around the': 1,\n 'four differing Gospels,': 1,\n 'it is necessary': 1,\n 'goal of visible': 2,\n 'of these were': 1,\n 'thing that many': 1,\n 'the tasks to': 1,\n 'that of the': 1,\n 'to give up': 1,\n 'all races involved': 1,\n 'of the study': 1,\n 'people live ?': 1,\n 'regarding themselves as': 1,\n 'p. 491. 35': 1,\n 'adventure in faith.': 1,\n 'involves ; both': 1,\n 'Report, p. 51': 1,\n 'environment in which': 1,\n 'the CSI makes': 1,\n '‘The final and': 1,\n 'union as a': 2,\n 'conciliar and the': 1,\n 'be prepared by': 1,\n 'churches in recent': 1,\n 'is a revision': 1,\n 'is inherent in': 1,\n '22. 248 THE': 1,\n 'rethink, to take': 1,\n 'the primitive Church.': 1,\n 'United Methodist Church': 1,\n 'without at least': 1,\n 'as to non-united.': 1,\n 'churches, let alone': 1,\n 'of organic union.*': 1,\n 'a desirable or': 1,\n 'study and the': 1,\n 'are still heard': 1,\n 'appearance from the': 1,\n 'Is a ‘united’': 1,\n 'have been posed.': 1,\n 'the goal of': 3,\n 'practice. Although the': 1,\n 'of the WCC': 2,\n 'the religious experience': 1,\n 'of the characteristics': 1,\n 'may emerge in': 1,\n 'allowed to inform': 1,\n 'past and an': 1,\n 'celebrate the eucharist,': 1,\n 'the ways by': 1,\n 'patterns in all': 1,\n 'MOEDE, United Methodist': 1,\n 'both God’s will': 1,\n 'force, such questions': 1,\n 'be limited to': 1,\n 'of mission, between': 1,\n 'to the members': 1,\n 'the world of': 1,\n 'catholicity of the': 1,\n ...}"
     },
     "execution_count": 10,
     "metadata": {},
     "output_type": "execute_result"
    }
   ],
   "source": [
    "ngram_dict"
   ],
   "metadata": {
    "collapsed": false
   }
  },
  {
   "cell_type": "code",
   "execution_count": 11,
   "outputs": [
    {
     "name": "stdout",
     "output_type": "stream",
     "text": [
      "CPU times: user 24.1 ms, sys: 851 µs, total: 24.9 ms\n",
      "Wall time: 25.5 ms\n"
     ]
    },
    {
     "data": {
      "text/plain": "3465"
     },
     "execution_count": 11,
     "metadata": {},
     "output_type": "execute_result"
    }
   ],
   "source": [
    "%%time\n",
    "ngram_dict_filtered = filter_dict(ngram_dict)\n",
    "len(ngram_dict_filtered)"
   ],
   "metadata": {
    "collapsed": false
   }
  },
  {
   "cell_type": "code",
   "execution_count": 12,
   "outputs": [
    {
     "data": {
      "text/plain": "Counter({'illuminating one another': 1,\n         'religious matters': 1,\n         'way As': 1,\n         'another Most bases': 1,\n         'Review forces ‘certainly': 1,\n         'even force': 1,\n         'divine hope': 2,\n         'leaves unresolved': 2,\n         'social service But': 1,\n         'men may': 1,\n         'churches In spite': 1,\n         '‘the Critics': 1,\n         'insufficient attention paid': 1,\n         'stimulated efforts': 1,\n         'racial equality': 2,\n         'one another': 10,\n         'joint action': 5,\n         'His gift': 2,\n         'unity one': 2,\n         'mission common': 1,\n         'one Gospel breaking': 1,\n         'Christian fellowship': 1,\n         'community life This': 1,\n         'Lukas Vxscher': 1,\n         'United churches': 1,\n         'biblical injunction': 2,\n         'important community': 1,\n         'degree order': 1,\n         'Press Movement Lutheran': 1,\n         'worldwide fellowship': 2,\n         'community established': 1,\n         'course every': 1,\n         'inhabiting ‘global': 1,\n         'new appreciation': 2,\n         'Church couid': 2,\n         'Council Churches': 2,\n         'local fellowship': 2,\n         'established maintained': 1,\n         'agreement first': 1,\n         'always seek': 2,\n         'op cit': 10,\n         '‘global village': 2,\n         'doctrine even': 2,\n         'Wcc Commission': 2,\n         'use several': 1,\n         'Conclusion The risk': 1,\n         'side recognized': 1,\n         'failed If': 2,\n         'nego tiating': 2,\n         'church provide': 2,\n         'Commission promote': 1,\n         'preserved The': 1,\n         'Association Press': 2,\n         'Mid Faith': 1,\n         'within diversity': 1,\n         'No hope': 1,\n         'reconciliation persons': 1,\n         'become step': 1,\n         'unity The unity': 1,\n         'benefits union': 1,\n         'loss identity': 1,\n         'particular concept': 1,\n         'counsel Edinburgh': 1,\n         'Moede ‘to call': 1,\n         'restate imperatives': 1,\n         'con versation': 1,\n         'cheap solution': 1,\n         'Discussion Midstream Conference': 1,\n         'salutary welding effect': 1,\n         'wave experimentation': 1,\n         'In following': 1,\n         'education would make': 1,\n         'form life': 1,\n         'truly united church': 1,\n         'conditions negotiating': 1,\n         'doctrinal agreement': 1,\n         'genuine renewal': 2,\n         'threat “uniformity”': 1,\n         'Church Union Negotiations': 1,\n         'hundred twentyfive': 1,\n         'redemp tion': 2,\n         'national unions': 2,\n         'solutions Local': 1,\n         'unity concerned': 1,\n         'As long': 1,\n         'organic corporate': 1,\n         'one eucharistic': 1,\n         'fellowship best': 1,\n         'creatively embody': 1,\n         'Church Union Conference': 1,\n         'ruison dtre': 2,\n         'working toward': 2,\n         'Union Negotiations January': 1,\n         'faith worship sacraments': 1,\n         'treasure insight': 1,\n         'particular projects': 1,\n         'passing Although': 2,\n         'Docetic separation': 2,\n         'Christian body continues': 1,\n         'Ecumenical Review forces': 1,\n         'deeper commitment': 2,\n         'Delhi Assembly': 1,\n         'national istic': 1,\n         'community felt': 2,\n         'pulpit fellowship': 2,\n         'united church': 18,\n         'united churches': 14,\n         'reconciling ministry': 2,\n         'life Plans': 1,\n         'effective common action': 1,\n         'later call': 2,\n         'body continues': 1,\n         'doctrinal viewpoints': 1,\n         'World con': 1,\n         'even subnational': 1,\n         'internationally agreements': 1,\n         'social economic': 2,\n         'description But': 2,\n         'single union': 2,\n         'Holy Spirit': 5,\n         'traditional principle “doctrinal': 1,\n         'informationsharing personal': 1,\n         'may well': 2,\n         'types organization': 1,\n         'South India Commission': 1,\n         'together occasion': 1,\n         'disparate local elements': 1,\n         'forms fellowship': 1,\n         'education informationsharing': 2,\n         'distinctive particular': 1,\n         '‘we believe': 2,\n         'sufficiently allowed': 2,\n         'discussing several': 2,\n         'function eg': 2,\n         'one fully': 2,\n         'mutual theological': 1,\n         'The unity': 4,\n         'understanding synthesis': 1,\n         'inform resulting': 1,\n         'threatening almost invariably': 1,\n         'specific historical': 2,\n         'Ecumenical ‘catholicity': 1,\n         'neither solve': 2,\n         '‘t Hooft ‘various': 1,\n         'visible Vatican': 1,\n         'problem united': 1,\n         'Limuru Midstream': 1,\n         'hand require': 2,\n         'negotiating always': 1,\n         'Unity time': 1,\n         'opportunity make': 1,\n         'left behind': 2,\n         'nature church': 1,\n         'Lukas Vischer': 3,\n         'crucial role': 2,\n         'Perspective Church Union': 1,\n         'reunion But': 2,\n         'recognized place': 1,\n         '‘certainly alternatives': 1,\n         'bring churches together': 1,\n         'conferenceroom divorced': 2,\n         'broadened inclus iveness': 1,\n         'adminis trative type': 1,\n         'racial cultural': 1,\n         'Implies Groscurth': 1,\n         'Church Union As': 10,\n         'indeed leading': 1,\n         'experimentation new': 1,\n         'wider experience': 2,\n         'original positions': 2,\n         'basic realities': 2,\n         'twentytwo unions': 2,\n         'prin ciple': 2,\n         'remembers startling': 1,\n         'regional international': 1,\n         'Furthermore union': 1,\n         'church Although Councils': 1,\n         'Salamanca consultations': 1,\n         'must able': 1,\n         'reached within': 2,\n         '‘the Gospel': 1,\n         'ecumenical fellowship': 2,\n         'widely different': 2,\n         'paper Organic union': 1,\n         'Although Councils': 1,\n         'towards unity': 1,\n         'deeply founded': 2,\n         'union It': 1,\n         'Union Zo': 1,\n         'common prayer': 4,\n         'one sided': 1,\n         'secure Christian unity': 1,\n         'effectively demonstrate': 2,\n         'union remain': 1,\n         'races involved': 2,\n         'leave open': 2,\n         'practical efficiency': 2,\n         'call churches': 3,\n         'Christian bodies confessional': 1,\n         'vital Dr': 1,\n         'see God': 1,\n         'solidarity ‘till': 1,\n         'India The Christian': 1,\n         'The Ecumenical': 9,\n         'organ conference': 1,\n         'loss certain': 1,\n         'faith Any': 1,\n         'churchmeeting format': 1,\n         'permanent organ': 2,\n         'Churchone People': 1,\n         'negotiations aware': 1,\n         'greater theological integrity': 1,\n         'single stream': 2,\n         'loose diocesan structure': 1,\n         'cannot unite unless': 1,\n         'fully shared': 1,\n         'many quarters': 2,\n         'families Or': 1,\n         'Church Union': 22,\n         'brought loss': 2,\n         'Church affirmation': 1,\n         'union range': 2,\n         'wherever celebrate': 1,\n         '‘we open': 1,\n         'term commitment': 1,\n         'churches created': 1,\n         'worship witness': 3,\n         'witness service': 3,\n         'side four': 1,\n         'enable common decisions': 1,\n         'These deeply': 1,\n         'address Paul': 1,\n         'Ecumenical Review Dying': 1,\n         '‘the apostle': 1,\n         'anguished world': 2,\n         'confessional embodiments': 1,\n         'genuine conciliarity': 1,\n         'negotiating committees especially': 1,\n         'parish It': 2,\n         'objected union': 1,\n         'Renewal Advancess': 1,\n         'personal encounter': 2,\n         'direct contact': 2,\n         'attempt restate': 1,\n         'whole human race': 1,\n         'reconciliation providing': 1,\n         'Gassmann discussing': 1,\n         'confessional identities': 1,\n         'certain consistency': 2,\n         'points agreement': 1,\n         'genuine worship': 1,\n         'ecumenical movement include': 1,\n         'incorporates dimension': 1,\n         'final risk No': 1,\n         'mission evan': 1,\n         'problems existing': 1,\n         'physical environment': 2,\n         'ultimate form': 1,\n         'facetoface encounter': 2,\n         'confessional separatism': 2,\n         'even right': 1,\n         'bringing members': 1,\n         'convincingly dramatizes': 1,\n         'mutual recognition': 3,\n         'India set': 1,\n         '‘t Hooft ed': 1,\n         'without stifling': 1,\n         'form may emerge': 1,\n         'possibility genuine': 1,\n         'spiritual hunger': 2,\n         'Union makes clear': 1,\n         'afraid “tensions”': 1,\n         'affect us': 2,\n         'thrown upon': 2,\n         'feasible model': 2,\n         'stifling uniformity': 2,\n         'planning execution': 1,\n         'begun articulate': 1,\n         'upheavals necessitated': 1,\n         'full commitment': 2,\n         'greater theological': 1,\n         'end March': 1,\n         'administratively centralized': 1,\n         'Vischer Midstream op': 1,\n         'state division': 1,\n         '‘structuring possibility': 1,\n         'struggle rival': 1,\n         'Plan If': 2,\n         'accepted primary': 1,\n         'adequate solutions': 2,\n         'negotiating toward': 1,\n         'synthesis cannot': 2,\n         'Uptodate Ecumenist': 1,\n         '‘the Churchone People': 1,\n         'structures nationally': 2,\n         'demonstrate broadened': 1,\n         'rigidly one': 1,\n         'whole must': 2,\n         'world families Or': 1,\n         'union model': 5,\n         'identity involved': 1,\n         'thus offers': 2,\n         'Thus commemoration': 1,\n         'apart even': 1,\n         'fellowship expressed': 1,\n         'many business': 1,\n         'together locally Between': 1,\n         'made manifest': 2,\n         'built mutual': 1,\n         'special meeting': 2,\n         'unpublished Ms': 2,\n         'spirit fullness': 1,\n         'matter stewardship': 1,\n         'church Union planners': 1,\n         'Christs body': 2,\n         'intentionally modest theologically': 1,\n         'cooperation transcends': 1,\n         'everyones satisfaction Indeed': 1,\n         'adherence “the': 1,\n         'Limuru Discussion Midstream': 1,\n         'long term': 1,\n         'nature It': 2,\n         'subsequently disintegrated': 2,\n         'ago Lesslie Newbigin': 1,\n         'world It offers': 1,\n         'centralized administrative authority': 1,\n         '‘the wholeness': 2,\n         'providing true': 1,\n         'therefore understandable': 2,\n         'Christian Unity Gerald': 1,\n         'consortia councils': 1,\n         'demonstrates divine': 1,\n         'ie dimension': 1,\n         'expressed worship': 1,\n         'locally Between': 1,\n         'kind theological': 1,\n         'particular places Although': 1,\n         'united church Although': 1,\n         'original ideas': 2,\n         'taking part': 2,\n         'au Zawe': 1,\n         'By explicit': 1,\n         'rebirth many': 1,\n         'authentic diversity': 2,\n         'apostle extolled': 1,\n         'Of course': 1,\n         'open question': 2,\n         'discern without': 1,\n         'essential reality': 2,\n         'discouraged local efforts': 1,\n         'Herausforderung Kirchen': 1,\n         'world One': 2,\n         'broader area would': 1,\n         'fuller apprehension': 2,\n         'fact living': 1,\n         'More light': 2,\n         'etc By': 2,\n         'express identity': 2,\n         'Lund Report': 4,\n         'mutual assistance': 2,\n         'unity binds': 1,\n         'faith worship': 2,\n         'another locally': 1,\n         'removed bringing': 1,\n         'The Christian Advocate': 1,\n         'structures relationship': 1,\n         'national structures': 1,\n         'local congregations life': 1,\n         'Church Universal”': 2,\n         'worldwide community': 2,\n         'dependent upon': 1,\n         'within basis': 1,\n         '‘united witness': 1,\n         'let alone': 1,\n         'universal dimension ie': 1,\n         'providing multilateral': 1,\n         'preparations union': 1,\n         'joining common': 2,\n         'closer together': 1,\n         'processesthe search': 1,\n         'almost unanimous': 2,\n         'live encounter': 1,\n         'significance The Church': 1,\n         'take place In': 1,\n         'Church Christ': 1,\n         'promptly forthrightly': 1,\n         'many united churches': 1,\n         'What union': 1,\n         'Witness Limuru': 1,\n         'Christians together must': 1,\n         'forgiveness renewed': 1,\n         'Lutheranreformed conversations': 2,\n         'greater freedom': 4,\n         'needs visible': 1,\n         'provision unity': 1,\n         'prejudice “wholeness”': 1,\n         'institutions social': 1,\n         'cannot guarantee': 1,\n         'church unity United': 1,\n         'one faith': 2,\n         'within community': 1,\n         'stumbled Faith': 2,\n         'compromises satisfying': 1,\n         'experience interconnected': 1,\n         '‘the typical churchmeeting': 1,\n         'compel churches': 1,\n         'shift strategy': 1,\n         'visibly single worshipping': 1,\n         '‘theological consensus': 2,\n         'Him Lord': 1,\n         'idealized Union': 2,\n         'old animosities': 2,\n         'parish The two': 1,\n         'common life': 6,\n         'unions consummated since': 1,\n         'Fam ilies Midstream': 1,\n         'particular places': 1,\n         'Christ au Zawe': 1,\n         'various confessions': 2,\n         'costly finally': 1,\n         'explicit decision': 2,\n         'affirming though': 1,\n         'exists wherever': 1,\n         'single congregations': 2,\n         'unity poses': 2,\n         'The Church': 4,\n         'us At': 1,\n         'achievement unity': 1,\n         'India twentyfive years': 1,\n         'Church Usa': 1,\n         'unity mankind': 4,\n         'least religious': 1,\n         'nonunited When six': 1,\n         'churches ‘theological': 1,\n         'The adequate': 1,\n         'The overcoming': 1,\n         'tying broken': 1,\n         'dimension personal': 1,\n         'sug gesting structures': 1,\n         'easily become': 2,\n         'field development': 1,\n         'structure becomes necessary': 1,\n         'see quite clearly': 1,\n         'For adversary': 1,\n         'posed If': 2,\n         'existences achieved beyond': 1,\n         'Third World': 2,\n         '‘corporate imply': 1,\n         'accomplish advantages': 1,\n         'third already': 1,\n         'dependence upon God': 1,\n         'Delhi Statement': 1,\n         'unity People': 2,\n         'question The ecclesiological': 1,\n         'Midstream op cit': 3,\n         'highly centralized': 1,\n         'New Delhi guidelines': 1,\n         'operation In': 1,\n         'among churches': 1,\n         'large measure': 2,\n         'South India': 8,\n         'available particular': 1,\n         'ed Frankfurt': 1,\n         'tions Should': 1,\n         'social questions': 2,\n         'essential however': 2,\n         'dilemma posed': 2,\n         'men may see': 1,\n         'undoubtedly one': 2,\n         'search mutual': 1,\n         'Limuru report': 2,\n         'Gassmann ‘kirchenunion': 2,\n         'churches In': 1,\n         'con stituency along': 1,\n         'inevitably prepared': 1,\n         'become matter': 1,\n         'Review Vol Viii': 1,\n         'many parts': 2,\n         'transcends intersects': 1,\n         'prophetic voice': 2,\n         'That unity': 4,\n         'drawn us': 2,\n         'Should churches': 1,\n         'exercising many negotiating': 1,\n         'ecumenical purpose': 2,\n         'common name': 2,\n         'enthusiasm commitment': 1,\n         'ecclesiatical organization': 1,\n         'fact redemp': 1,\n         'British Council': 2,\n         'It therefore': 1,\n         'world We': 2,\n         'Lutheran World Vol': 2,\n         'new church': 5,\n         'People God': 1,\n         'church represented': 1,\n         'worshipping community As': 1,\n         'workable whole': 1,\n         'sharing certain': 1,\n         '‘a That': 2,\n         'opinions nonessentials': 1,\n         'one apostolic': 2,\n         'together complementary': 1,\n         'difficulty ‘structuring': 1,\n         'Does goal': 1,\n         'necessitated union': 1,\n         'systems lo New': 1,\n         'If presence': 1,\n         'unity growing': 1,\n         'social situations': 2,\n         'two processesthe search': 1,\n         'prepared face': 1,\n         'transcends local': 1,\n         'recovered sense': 2,\n         'exterior structured unity': 1,\n         'union model All': 1,\n         'one bread': 2,\n         'compelling factors': 2,\n         'confessional tradition': 2,\n         '‘truly universal conciliar': 1,\n         'built around': 2,\n         'four differing Gospels': 1,\n         'goal visible': 2,\n         'thing many': 1,\n         'people live': 2,\n         'adventure faith': 1,\n         'Csi makes': 1,\n         '‘the final': 2,\n         'churches recent': 1,\n         'rethink take': 1,\n         'primitive Church': 1,\n         'United Methodist Church': 1,\n         'without least': 1,\n         'churches let alone': 1,\n         'organic union': 7,\n         'still heard': 2,\n         'Is ‘united': 1,\n         'practice Although': 2,\n         'religious experience': 2,\n         'may emerge': 1,\n         'allowed inform': 1,\n         'celebrate eucharist': 1,\n         'Moede United Methodist': 1,\n         'force questions': 1,\n         'discovering unity': 1,\n         'Church performs': 2,\n         'New problems': 1,\n         'Unity unpublished': 1,\n         'highest level': 2,\n         'generally expectation': 1,\n         'behind clearly': 1,\n         'unity present': 1,\n         'compromising doctrine': 1,\n         'experienced old': 1,\n         'last decade Will': 1,\n         'unity among others': 1,\n         'structure whether': 1,\n         'various types': 1,\n         'go beyond': 2,\n         'shown many': 1,\n         'particular doctrine con': 1,\n         'particular task': 2,\n         'varied habits': 2,\n         'source Christian': 1,\n         'attempts continue': 2,\n         'new forms': 2,\n         'place necessary': 1,\n         '‘statement Concerning': 2,\n         'mission carried': 2,\n         'Negotiations January': 1,\n         'union remain intentionally': 1,\n         'Neill articulates': 1,\n         'sacramental action': 2,\n         'unity union': 1,\n         'New Testament': 3,\n         'task one': 1,\n         'division intolerable': 1,\n         'church fellow ship”': 1,\n         'Limuru Midstream pp': 1,\n         'whole Christian fellowship': 1,\n         'renewed appreciation': 2,\n         'involves regrettable': 1,\n         'apostolic church': 2,\n         'faith It offers': 1,\n         'life This question': 1,\n         'little nothing': 1,\n         'attempts union': 1,\n         'clearly one': 1,\n         'Crow Boney': 1,\n         'Midpoint Crow': 2,\n         'Visser ‘t Hooft': 2,\n         'individual churches': 4,\n         'corporate union': 4,\n         'The Limuru Church': 1,\n         'concerned first': 2,\n         'even mutually': 1,\n         'honestly The': 1,\n         'Ecumenical Review Patrick': 1,\n         'negotiations take': 1,\n         'Evanston Speaks': 6,\n         'principle “doctrinal con': 1,\n         'enables effective common': 1,\n         'uniting persons': 2,\n         'union sets': 2,\n         'separate ecclesiatical organization': 1,\n         'Advancess New problems': 1,\n         'changed What': 2,\n         'den siebziger': 1,\n         'envisaged life': 1,\n         'many imperfections': 1,\n         'sense ‘mutually': 1,\n         'Plan Perspective': 1,\n         'denominational treasure': 2,\n         'Uppsala Assemblies': 2,\n         'Point op cit': 1,\n         'articulate recogni': 1,\n         'community As long': 1,\n         'union schemes': 5,\n         'imagined threat': 2,\n         'Christian doctrine But': 1,\n         'misunder standings': 2,\n         'witness mutual responsibility': 1,\n         '‘unity mission': 1,\n         'multilateral ‘encounters': 1,\n         'The universal Church': 1,\n         'redeployed effectively': 1,\n         'unity Witness': 2,\n         '“this sort goes': 1,\n         'questions race': 1,\n         'failure providing': 1,\n         'interconnected life True': 1,\n         'even conflicts': 1,\n         'one notes': 1,\n         'reconciled But': 2,\n         'theological agreements': 1,\n         'faith well': 1,\n         'insisted unity': 1,\n         'life Uppsala': 2,\n         'structures government': 1,\n         'Christ accepted': 1,\n         'mean uniformity': 2,\n         'Spirit indeed': 1,\n         'honestly The overcoming': 1,\n         '‘opposing version': 2,\n         'use Methodist': 1,\n         'families churches': 1,\n         'style The union': 1,\n         'made point': 1,\n         'Elsewhere consortia': 1,\n         'first become': 1,\n         'offers partial': 1,\n         'organiz ation Rather': 1,\n         'said ‘the': 1,\n         'deepened broadened': 1,\n         'sign intimate': 1,\n         'consultation worship': 2,\n         'confrontation one': 1,\n         'mankind Can': 1,\n         'In spite': 1,\n         'separated eucharistic': 2,\n         'overhaul Although': 2,\n         'international level': 2,\n         'necessary freedom': 2,\n         'Toronto Statement': 2,\n         'rival groups': 2,\n         'Christian Unity': 8,\n         'binds Christians': 1,\n         'Midstream op': 1,\n         'contemporary context': 2,\n         'previously existed': 1,\n         'contradictory opinions within': 1,\n         'great honoured': 1,\n         'arouse resistance': 1,\n         'evan gelism Evanston': 1,\n         'mutual theological understanding': 1,\n         '‘christ Hope': 2,\n         'Lesslie Newbigin': 1,\n         'necessary part': 2,\n         'clear kind': 1,\n         'could made': 1,\n         'visible form may': 1,\n         'structurally ex': 1,\n         'human problems': 1,\n         'discern without prejudice': 1,\n         'Recently ‘world': 1,\n         'Christian Literature': 1,\n         'voiced misunder': 1,\n         'accept conciliarity': 1,\n         'necessary conditions': 2,\n         'search authentic': 1,\n         'created even': 2,\n         'churches together locally': 1,\n         'legal questions': 2,\n         'fellowship live': 1,\n         'believe Introduction ‘to': 1,\n         'describe would': 1,\n         'makes clear': 2,\n         'since In': 1,\n         '‘parish Plan': 1,\n         'adequate way': 2,\n         'London Scm': 2,\n         'We believe': 2,\n         'occur Cooperation': 2,\n         'might added': 1,\n         'South India twentyfive': 1,\n         'community exists': 2,\n         'modern life': 2,\n         'may develop ‘the': 1,\n         'Not least': 2,\n         'sentences ‘the': 1,\n         'equitable participation': 2,\n         'inexhaustible life': 1,\n         'even caste': 1,\n         'Churches World': 1,\n         'intimate union': 2,\n         'primary contributions': 2,\n         'progress built': 2,\n         'Methodist phrase': 2,\n         'Church lead': 1,\n         'It exists wherever': 1,\n         'conversations Europe': 1,\n         'increasingly recognized': 1,\n         'Ecumenical Review feared': 1,\n         'Uptodate Ecumenist The': 1,\n         'Hooft could': 1,\n         'inevitable temporary introversion': 1,\n         'Spirit struggle': 1,\n         'contributions church': 1,\n         'union creates many': 1,\n         'sharing difficult': 1,\n         'best kind': 2,\n         'new corporate': 1,\n         'personal reconciliation': 2,\n         'The risk': 1,\n         'take place': 1,\n         'ecumenical options': 2,\n         'This article': 2,\n         'conciliar form': 1,\n         'testing grounds': 1,\n         'congregations various': 1,\n         'primarily emotional': 1,\n         'voice heard': 2,\n         'visible unity': 6,\n         'institutions The': 2,\n         'effectively elsewhere': 2,\n         'basis commitment': 1,\n         'Twentyfifth Meeting': 1,\n         'service But': 1,\n         'requires expression': 1,\n         'Lutheran side': 2,\n         'require This article': 1,\n         'Corinthian Church': 1,\n         'The union': 2,\n         'countless amounts': 2,\n         'His Grace': 2,\n         'longterm commitment It': 1,\n         'via Councils': 2,\n         'invent procedures': 2,\n         'Church two': 1,\n         'particular theological': 2,\n         'encouraged confessional': 1,\n         'much akin': 2,\n         'already referred': 2,\n         'draw past': 1,\n         'What essential': 1,\n         'When one': 1,\n         'theological synthesis': 4,\n         'unified differentiated': 1,\n         'twentyfive churches': 2,\n         'entire regions': 2,\n         'Individual confessions': 2,\n         'everpresent competition': 2,\n         'traditions principles': 1,\n         'Church ‘only': 2,\n         'social pluralism': 2,\n         'exception rather': 2,\n         'answered fears': 2,\n         'theological argument “this': 1,\n         'denominations unite': 1,\n         'experi enced': 1,\n         '‘the achievement': 2,\n         'Church According': 1,\n         'model unity': 3,\n         'local unity growing': 1,\n         'Church The': 1,\n         'sense communion': 1,\n         'iveness race': 1,\n         'require long': 1,\n         'consum mated Most': 1,\n         'work much': 1,\n         'preach ing services': 1,\n         'primarily upon': 1,\n         'churches almost': 1,\n         'clearest way': 2,\n         'barriers cannot': 1,\n         'communion structurally': 1,\n         'freedom initiative': 1,\n         'offen siveness': 2,\n         'doctrine watering': 1,\n         'Gospel breaking': 1,\n         '‘holding one': 1,\n         'true encounter': 1,\n         'mutual commitment': 2,\n         'But union': 1,\n         'larger unity': 2,\n         'organization polity': 1,\n         'Zo Meyer': 1,\n         'Neill eds': 1,\n         'unity homogenizing valid': 1,\n         'start doctrinal': 1,\n         'That full': 1,\n         'obvious advantage': 2,\n         'paper Organic': 1,\n         'Christ confess': 1,\n         'less store': 1,\n         'basic problems': 1,\n         'encounter one': 1,\n         'body spirit': 2,\n         'side four differing': 1,\n         'fought integrated': 1,\n         'efforts bring': 1,\n         'Organic union': 1,\n         'sacramental sharing': 1,\n         'easy escapehatch': 2,\n         'His Church': 2,\n         'differing Gospels': 1,\n         'church commit': 1,\n         'broadened inclus': 1,\n         'structures Will': 1,\n         'renewal greater': 1,\n         'inescapable obligation': 1,\n         'points final': 1,\n         'institution community': 1,\n         'faith It': 1,\n         'Lutheran World Federation': 2,\n         'unite unless': 1,\n         'Christians one': 1,\n         'one Is': 2,\n         'full identity': 2,\n         'committed fellowship without': 1,\n         'far permitting': 1,\n         'recent ‘localizing': 2,\n         'Union Negotiations': 1,\n         'Spirit one': 1,\n         'modest theologically building': 1,\n         'failure bring': 1,\n         'order But': 2,\n         'involvement Faith': 1,\n         'Louvain op cit': 1,\n         'already united': 3,\n         'recognize obedience': 1,\n         'recently prompted': 2,\n         'authority Amsterdam': 1,\n         'Ecumenical Movement': 2,\n         'untouched basic': 1,\n         'foundation These': 2,\n         'bring existence': 1,\n         'social groups': 2,\n         'individual Christians': 2,\n         'normative The': 1,\n         'one another locally': 1,\n         '‘the Church exists': 1,\n         'cultural separations': 2,\n         'society human': 1,\n         'sense isolation': 1,\n         'Hooft could draw': 1,\n         'We agree': 1,\n         'styles community': 1,\n         '‘structures envisaged': 2,\n         'history Acts': 1,\n         'churches live': 3,\n         'Order Commission': 6,\n         'blight war': 1,\n         'church union': 4,\n         'education evangelism institutions': 1,\n         'divisions Christianity': 1,\n         'everyones satisfaction': 1,\n         'Faith Order': 8,\n         'involved It': 2,\n         'interpretation ‘what': 1,\n         'Toronto Statement Iv': 1,\n         'spiritual Part': 1,\n         'community including': 2,\n         'future made': 1,\n         'The phenomenon': 1,\n         'fellowship seriously': 1,\n         'regional world': 1,\n         'possible ingredients': 2,\n         'source energy': 1,\n         'local gathering': 2,\n         'Paul St': 1,\n         'deeper continuity': 2,\n         'perhaps painfully': 2,\n         'North India': 2,\n         'get engaged': 2,\n         'Ecumenical Review Vol': 1,\n         'Gunther Gassmann': 1,\n         'might deserved': 1,\n         'districts seemed': 1,\n         'union thirtyfour': 1,\n         'forces ‘certainly': 1,\n         'new covenant': 2,\n         'sociological forms': 1,\n         'families developed': 1,\n         'renewed fellowship': 2,\n         'concrete fellowship It': 1,\n         'agreed Here': 2,\n         'united church retain': 1,\n         '‘mutually committed': 1,\n         'vividly clear': 1,\n         'structure society': 2,\n         'model All': 1,\n         'provide incentive': 1,\n         'organization Does': 2,\n         'personnel funds': 2,\n         'reform local': 1,\n         'Verlag Lembeck': 1,\n         'bears witness': 1,\n         'governmental order': 2,\n         'Integration Joint': 1,\n         'fruitfully embrace': 2,\n         'Union op cit': 1,\n         'particular projects usually': 1,\n         'churches face': 1,\n         'single organization': 2,\n         'could become one': 1,\n         'would seem': 2,\n         'following paragraphs': 2,\n         'union creates': 1,\n         'intellectual even': 1,\n         'appropriate degree': 2,\n         'possibility regular': 1,\n         'must explicitly': 1,\n         'continental regional': 2,\n         'energy makes': 1,\n         'We recognize': 2,\n         'six ‘parent': 1,\n         'one bread joining': 2,\n         'union must therefore': 1,\n         'hand explicit': 1,\n         'types united': 1,\n         'London Spck': 1,\n         'statements ecumenical': 1,\n         'making possible': 2,\n         'able get': 1,\n         'Scm Press': 4,\n         'union must': 1,\n         'another everyones': 1,\n         'confessional enclaves Every': 1,\n         'local unity': 2,\n         'wider unity': 2,\n         'unity relation': 1,\n         'original intention': 1,\n         'local expressions': 1,\n         '‘plans Union': 1,\n         'previous structures': 2,\n         'Union As': 10,\n         'structured ‘if': 2,\n         'merging institutions': 1,\n         'Christ would': 2,\n         'without prejudice': 1,\n         'ruthlessly selfcritical': 1,\n         'This statement': 1,\n         'instrumental sign': 2,\n         'Movement Lutheran World': 1,\n         'gesting structures': 1,\n         'Joint Action': 2,\n         'Midpoint eit': 1,\n         'community primary': 1,\n         'dimension ie': 1,\n         'life together': 4,\n         'possible reconciliation': 1,\n         'Christ involvement': 1,\n         'new catholic': 1,\n         'fellowship holding': 1,\n         'national regional': 1,\n         'someone else': 2,\n         'known We': 1,\n         'energy mission': 1,\n         'Seek Church Union': 1,\n         'body indivisible': 1,\n         'alternatives union': 1,\n         'corporately renewal': 1,\n         'life faith worship': 1,\n         'parochial division': 2,\n         'den siebziger Jahren': 1,\n         'cheap solution In': 1,\n         'See example': 1,\n         'increasing number': 2,\n         'manifest reality apprehensible': 1,\n         'con viction': 2,\n         'regrettable compromising': 2,\n         'unity never': 1,\n         'necessary The mutual': 1,\n         'alienation social': 1,\n         'listed confrontation': 1,\n         'Methodists But': 2,\n         'ever consider': 1,\n         'former The': 1,\n         'diversity also raises': 1,\n         ...})"
     },
     "execution_count": 12,
     "metadata": {},
     "output_type": "execute_result"
    }
   ],
   "source": [
    "ngram_dict_filtered"
   ],
   "metadata": {
    "collapsed": false
   }
  },
  {
   "cell_type": "code",
   "execution_count": 14,
   "outputs": [],
   "source": [
    "destpath = \"../data/large_files/trigrams_filtered/\"\n",
    "os.makedirs(destpath)"
   ],
   "metadata": {
    "collapsed": false
   }
  },
  {
   "cell_type": "code",
   "execution_count": 27,
   "outputs": [],
   "source": [
    "with open(destpath + \"id_{}.json\".format(str(id)), \"w\") as f:\n",
    "    json.dump(ngram_dict_filtered, f)"
   ],
   "metadata": {
    "collapsed": false
   }
  },
  {
   "cell_type": "code",
   "execution_count": 133,
   "outputs": [
    {
     "data": {
      "text/plain": "{'The requirements': 2,\n 'form legends': 1,\n 'central theme': 1,\n 'given doctrine': 2,\n 'opponent alike They': 1,\n 'outer foreign authority': 1,\n 'com parison': 2,\n 'Jesus return': 1,\n 'Ibid p': 8,\n 'glory establish': 1,\n 'stands agreement': 1,\n 'righteousness Romans': 2,\n 'question existence': 2,\n 'thought within': 2,\n 'p f': 9,\n 'spirit Paul': 1,\n 'The apostle Paul': 1,\n 'become blessed': 2,\n 'situation Ibid': 1,\n 'sin order': 1,\n 'collect interpret': 1,\n 'three figures': 1,\n 'clear even': 1,\n 'means teaching': 2,\n 'less astonishment': 2,\n 'existence three': 1,\n 'Church Paul': 1,\n 'instead solving': 1,\n 'Good works': 1,\n 'resignare ad infernum': 1,\n 'notorious little word': 1,\n 'fall sin': 1,\n 'Luther knew': 1,\n 'The present treatise': 1,\n 'OF GRACE II': 1,\n 'types At': 1,\n 'cultic practices': 2,\n 'trust Similarly one': 1,\n 'symbolic form': 2,\n 'world Kingdom': 1,\n 'civil use': 2,\n 'rans doctrine': 1,\n 'reason proofs': 1,\n 'The changes': 1,\n 'Writings Shin': 2,\n 'Consequently one might': 1,\n 'complement Shinrans': 1,\n 'another tradition We': 1,\n 'pure inwardness': 2,\n 'Schweitzer whose interpretation': 1,\n 'God Luther expects': 1,\n 'joy But': 2,\n 'world death': 1,\n 'That generally': 1,\n 'Middle Ages': 2,\n 'Godenshõ especially': 1,\n 'religious worldviews': 3,\n 'made possible': 5,\n 'disobedience Gods': 1,\n 'radical revaluation': 2,\n 'Dei volúntate': 1,\n 'Shinrans radical': 1,\n 'Buddha Shakyamuni': 1,\n 'two distinct': 1,\n 'Western secularism': 2,\n 'Christianity gain': 1,\n 'writings For': 1,\n 'wish discuss': 1,\n 'participant salvation': 1,\n 'Amidas mercy': 2,\n 'ethical practice': 1,\n 'Faith directed': 1,\n 'former two': 1,\n 'incarnation Amida': 2,\n 'karma ie': 2,\n 'grace Paul': 3,\n 'two fronts': 1,\n 'Buddhists say': 2,\n 'births selfeffort': 1,\n 'mands proof': 1,\n 'visions erruptions': 1,\n 'sphere ethics': 1,\n 'texts others': 1,\n 'translation Shinrans': 1,\n 'Paul Shinran': 27,\n 'texts use': 1,\n 'life really': 2,\n 'reformer Luther': 2,\n 'That briefly': 2,\n 'im portant': 1,\n 'meaning In': 2,\n 'monks Maha': 1,\n 'enough penance': 1,\n 'authority therefore': 1,\n 'promised Messiah': 2,\n 'overlooked This problem': 1,\n 'us First': 2,\n 'plagued demonic': 1,\n 'Buddhism could': 1,\n 'withstand trial': 1,\n 'rather hoped': 2,\n 'Nevertheless must': 1,\n 'ones responsible': 2,\n 'com pletion': 2,\n 'point however': 1,\n 'This thought': 1,\n 'peccati nonimputation': 1,\n 'letters Luther': 1,\n 'hand seems': 2,\n 'works makes': 1,\n 'Christ history': 1,\n 'Despite manifest': 1,\n 'followers All': 1,\n 'word alone This': 1,\n 'tertius usus': 1,\n 'vow lies': 2,\n 'I wish': 2,\n 'evil spirits': 2,\n 'might say': 1,\n 'believe Amida': 1,\n 'oneself subject': 1,\n 'historical development': 2,\n 'developed specific': 1,\n 'Luthers idea': 2,\n 'later life': 1,\n 'son saying': 2,\n 'struggles The': 1,\n 'parts unmentioned One': 1,\n 'God Luther': 1,\n 'original sin cannot': 1,\n 'wholly trusting': 2,\n 'mans difficulty stems': 1,\n 'laws became guilty': 1,\n 'pure belief': 1,\n 'The differences': 1,\n 'corresponding ethical consequences': 1,\n 'process began': 1,\n 'D T Suzuki': 3,\n 'act influenced': 2,\n 'meaning existence': 3,\n 'life story': 2,\n 'Ueda Shizuteru': 1,\n 'within commonality': 1,\n 'separate us': 2,\n 'previously valid': 1,\n 'recipient THE': 1,\n 'things happened': 1,\n 'Gods com mand': 1,\n 'might proceed': 2,\n 'existing world': 7,\n 'acknowledgment guilt': 1,\n 'one destined': 2,\n 'always something': 2,\n 'merit He': 1,\n 'justifica tion took': 1,\n 'often dealings': 1,\n 'necessary sufficient': 1,\n 'dual personality': 2,\n 'doctrines salvation': 1,\n 'want receive': 1,\n 'com munity': 1,\n 'religion theology': 1,\n 'Buddha The': 1,\n 'Bodhisattva There': 2,\n 'Gesshö Collected': 1,\n 'works indeed': 1,\n 'case perform': 1,\n 'expects partly': 1,\n 'salva tion': 2,\n 'gift grace': 1,\n 'God As': 2,\n 'Buddhist Q': 1,\n 'become Bodhisattva': 1,\n 'On karma': 2,\n 'Shinran Luther': 15,\n 'hardly rare': 2,\n 'ones complete trust': 1,\n 'Shin sect': 5,\n 'sacraments Luther found': 1,\n 'exception It': 1,\n 'per ceived': 1,\n 'forms The Messiah': 1,\n 'Buddhist arrives': 1,\n 'Corinthians In': 1,\n 'holy law': 2,\n 'existence process': 1,\n 'justifies ungodly': 1,\n 'grace moves us': 1,\n 'Amidist belief': 4,\n 'albeit various': 1,\n 'present treatise': 3,\n 'enslaved mankind Galatians': 1,\n 'body closely': 1,\n 'says metaphysical': 1,\n 'may count': 2,\n 'The second': 2,\n 'could find': 1,\n 'WesternChristian understanding': 2,\n 'religious traditions': 3,\n 'In fact': 3,\n 'single thought': 2,\n 'young Luther knew': 1,\n 'encounter ideas': 1,\n 'Christian church Luthers': 1,\n 'texts legitimately': 2,\n 'blood theology': 1,\n 'Shinran thought': 1,\n 'holy tradition': 12,\n 'Land Amida': 1,\n 'alone As': 1,\n 'mystical spiritualism': 2,\n 'concept secularism': 1,\n 'I Corinthians': 4,\n 'tradition Each': 2,\n 'differences Paul': 1,\n 'Obendiek Ber Teufel': 1,\n 'age mental': 1,\n 'hand state': 1,\n 'also know': 1,\n 'Shinran making': 1,\n 'grace alone': 12,\n 'particular form': 2,\n 'IV If gracemonism': 1,\n 'traditional early Christian': 1,\n 'Christ Amida': 2,\n 'Shinrans emphasis': 2,\n 'enabled replace': 1,\n 'spiritual rule': 2,\n 'historically psychologically': 1,\n 'nonimputatio peccati nonimputation': 1,\n 'Old Testament': 3,\n 'cognize distinctness': 1,\n 'spirit already': 1,\n 'aeon The effect': 1,\n 'good works': 5,\n 'Luther expects': 1,\n 'cancels commands': 1,\n 'eternally valid truth': 1,\n 'however wish': 1,\n 'beyond limitations': 1,\n 'form aim': 1,\n 'authority instead': 1,\n 'Damascus road': 2,\n 'different mine': 1,\n 'It also': 2,\n 'Amida belief': 8,\n 'wings modern': 1,\n 'became necessary': 2,\n 'traditional texts': 2,\n 'remain true': 2,\n 'grace cancels': 2,\n 'saw Jesus': 1,\n 'new works righteousness': 1,\n 'hoped reaffirm': 1,\n 'time reached': 1,\n 'respective ideas': 3,\n 'arisen new': 1,\n 'excerpts commentaries': 1,\n 'beyond bounds': 1,\n 'us far': 1,\n 'directly related': 2,\n 'leads history toward': 1,\n 'reversed In': 1,\n 'exaggerated formulations Perhaps': 1,\n 'Biblical belief man': 1,\n 'clear however': 2,\n 'ones This similarity': 1,\n 'God stands': 1,\n 'consists doubtlessly': 1,\n 'one sceptical': 1,\n 'definite spiritual': 1,\n 'ways dealing': 1,\n 'reality The': 1,\n 'Suzuki Daisetz': 2,\n 'negative attitude': 1,\n 'criticism Zen': 1,\n 'sunt aut non': 1,\n 'Cf Suzukis': 1,\n 'free joyful': 1,\n 'kingdom God': 1,\n 'teaching instead': 2,\n 'Testament regard': 1,\n 'pattern commonly': 1,\n 'state one': 1,\n 'nonsalvation The inclination': 1,\n 'selfeffort typified': 2,\n 'otherwise tolerant attitude': 1,\n 'yet lives according': 1,\n 'con sequence': 2,\n 'faith Luther': 1,\n 'Amidaization Pauline': 1,\n 'way salvation': 3,\n 'fundamental difference': 1,\n 'sacrifice God': 1,\n 'relation tradition': 2,\n 'THE CONCEPT': 10,\n 'Suzukis English translation': 1,\n 'We might say': 1,\n 'problem common': 2,\n 'practice The': 1,\n 'mans lack': 2,\n 'faith alone without': 1,\n 'Christian life': 2,\n 'presuppositions Those': 2,\n 'try find': 1,\n 'beyond history Paul': 1,\n 'Buddhist canon He': 1,\n 'even hell': 1,\n 'International Congress': 2,\n 'brings three': 1,\n 'Pure Land possible': 1,\n 'cf Tanni Sbõ': 1,\n 'often encountered': 2,\n 'validating authority': 1,\n 'limits example': 1,\n 'Shinran According': 2,\n 'existing world That': 1,\n 'Rokkakudõ Temple': 2,\n 'regardless philosophy': 1,\n 'grace They could': 1,\n 'unique supernatural': 1,\n 'specific way': 1,\n 'sacraments The changes': 1,\n 'realization even': 2,\n 'endtime latterday': 1,\n 'removed final': 1,\n 'sin Romans f': 2,\n 'followers Shinran': 2,\n 'reserve Even': 2,\n 'supplied one basis': 1,\n 'ity Shinrans': 1,\n 'still remains': 1,\n 'Lutheran heresy': 2,\n 'D T': 2,\n 'Amida Buddha': 2,\n 'Christ Paul knows': 1,\n 'THE EASTERN BUDDHIST': 11,\n 'In Christian': 1,\n 'beyond time': 1,\n 'trust given': 1,\n 'Since could': 1,\n 'brings supernatural': 1,\n 'longer share': 2,\n 'The recitation': 1,\n 'grace works': 1,\n 'promised assistance': 2,\n 'Amida Buddhism today': 1,\n 'forms Mahayana': 1,\n 'fundamental differences': 2,\n 'Judaism In Buddhism': 1,\n 'life generally': 1,\n 'Acts But': 1,\n 'subject matter That': 1,\n 'say Paul': 1,\n 'especially significant': 2,\n 'As far': 1,\n 'followers Christianity': 1,\n 'Luther acquainted': 1,\n 'appeared originally': 2,\n 'Luther Fritz': 1,\n 'consequent unworldliness': 2,\n 'intend show': 1,\n 'BUDDHIST Although': 1,\n 'friends opponents': 1,\n 'one might': 1,\n 'contrast Buddhisms': 1,\n 'relying simply': 2,\n 'Buddhistic concepts': 2,\n 'sacred fact': 2,\n 'cycle without': 1,\n 'subjectivity thought': 1,\n 'oneself hell': 1,\n 'blood theology makes': 1,\n 'revelation Galatians': 1,\n 'sacred history': 4,\n 'instance supports': 2,\n 'eschatological idea': 2,\n 'salvation terms': 1,\n 'far I': 1,\n 'us thinking': 1,\n 'On one': 1,\n 'I used parts': 1,\n 'surrounded miraculous': 1,\n 'tradition definite': 1,\n 'Ueda Shizuteru Die': 1,\n 'misunderstand ing': 1,\n 'cannot objectified': 1,\n 'holy tradition The': 1,\n 'legis third use': 1,\n 'everything Does': 2,\n 'Buddhists antipathy': 2,\n 'Yet dual': 1,\n 'religion Shinran': 1,\n 'answers sought': 1,\n 'resurrection Christ': 1,\n 'also simplest': 1,\n 'cycle without beginning': 1,\n 'lives saints': 1,\n 'supernatural experiences': 1,\n 'Avaloki tesvara': 1,\n 'fruitful In order': 1,\n 'In Judaism mans': 1,\n 'temporal continuum': 2,\n 'early Christianity': 1,\n 'resurrection significance': 1,\n 'intellectual environments': 1,\n 'concept today': 2,\n 'saints Such': 1,\n 'impulse certainly': 1,\n 'new aeon': 9,\n 'cross atoned': 2,\n 'similar opposition': 1,\n 'knows neither': 1,\n 'The followers': 1,\n 'even harmful': 1,\n 'Nembutsu example': 1,\n 'possibly derive ultimately': 1,\n 'believing trust For': 1,\n 'Shinran says': 1,\n 'Shinran also': 1,\n 'Schweitzer Die Mystik': 1,\n 'Scheel Dokumente zu': 1,\n 'thought It becomes': 1,\n 'becoming Bodhisattva': 1,\n 'turn first': 1,\n 'misreading Chinese': 1,\n 'evil He': 2,\n 'For Shinran salvation': 1,\n 'Messianic title Christ': 1,\n 'conclusions whereby': 1,\n 'new ones This': 1,\n 'encountered seem': 1,\n 'world karma': 1,\n 'authoritative cannot': 1,\n 'Kyõryõsbinshõ p': 1,\n 'far away': 2,\n 'Shinran along': 2,\n 'It forms': 1,\n 'easily misunderstood': 2,\n 'Christian ity Shinrans': 1,\n 'mine Albert Schweitzer': 1,\n 'reconciliation He': 2,\n 'three dimensions': 1,\n 'man man': 1,\n 'damned God': 1,\n 'resulting entanglement': 2,\n 'two important works': 1,\n 'Christianization Shinran': 1,\n 'teach nothing': 2,\n 'forced regard': 1,\n 'Christs body': 2,\n 'difficulties Christianity': 1,\n 'articles D': 1,\n 'salvation demonstrable': 1,\n 'Christ resurrected': 1,\n 'Christian eschatology Belief': 1,\n 'belief stands': 1,\n 'teachable doctrinal form': 1,\n 'us live': 1,\n 'true intention': 2,\n 'different Nevertheless': 2,\n 'continued existence': 2,\n 'designate center': 1,\n 'gaude sin strongly': 1,\n 'different idea': 2,\n 'believing trust': 1,\n 'deficient polemic': 2,\n 'metaphysical reality': 2,\n 'formulations Perhaps': 1,\n 'realization meaning': 1,\n 'close relation': 2,\n 'Pauls requirement': 2,\n 'said speaking': 1,\n 'leads thought astray': 1,\n 'later developed': 2,\n 'Luthers assertion': 2,\n 'difficulty lies': 2,\n 'Paul stands': 2,\n 'saved The': 1,\n 'common Paul': 2,\n 'taught Shinran': 1,\n 'hell God': 1,\n 'holds true even': 2,\n 'best serve': 2,\n 'In Catholic': 1,\n 'never really': 1,\n 'approach tradition': 1,\n 'Jesuits sint': 1,\n 'cf Acts': 3,\n 'depreciatory judgments': 1,\n 'longer frighten': 2,\n 'foreign authority For': 1,\n 'Amida stands': 2,\n 'Gods command': 2,\n 'salvation maintains': 2,\n 'objectified Not': 2,\n 'In Kyõgyõshinshõ': 1,\n 'reformers furnish us': 1,\n 'Amida really made': 1,\n 'Kingdom God': 8,\n 'original universal religious': 1,\n 'In sense': 1,\n 'revelations Such things': 1,\n 'Otto Scheel Dokumente': 1,\n 'psychologically reference': 1,\n 'The Life': 2,\n 'It true': 1,\n 'three authorities': 1,\n 'blessedness In fact': 1,\n 'Die Mystik des': 1,\n 'ideas regarding incarnation': 1,\n 'withstand final': 1,\n 'demonic forces appear': 1,\n 'acceptance grace': 1,\n 'sacrificial death': 2,\n 'world beset': 2,\n 'man arrives': 1,\n 'That led': 1,\n 'grace within': 1,\n 'better validate': 2,\n 'followed another': 1,\n 'would want': 2,\n 'Zen Just': 2,\n 'divine revelation Galatians': 1,\n 'aforementioned basic concepts': 1,\n 'monastery also': 1,\n 'BiblicalChristian eschatology': 1,\n 'existence seen': 1,\n 'modern Western culture': 1,\n 'alone That': 1,\n 'Pauls questionable': 1,\n 'foreign merit He': 1,\n 'Allembracing Mercy': 3,\n 'mind spirit': 2,\n 'Lutheranism demonstrate': 2,\n 'Their chosen way': 1,\n 'world In spite': 1,\n 'struggle gain': 1,\n 'religions It': 2,\n 'gracemonism stands': 2,\n 'cross resurrection': 1,\n 'salvation put': 1,\n 'More obviously': 2,\n 'As regards': 1,\n 'event dimensionally': 1,\n 'endless repetition However': 1,\n 'mean ing': 2,\n 'earliest Christianity': 2,\n 'married Because Amida': 1,\n 'Luther But': 2,\n 'EASTERN BUDDHIST': 4,\n 'Jesuits sint ut': 1,\n 'existence earlier found': 1,\n 'fact prove': 2,\n 'meaninglessness It': 2,\n 'curious fact': 2,\n 'set refuting': 1,\n 'treatise lectures': 1,\n 'within beyond': 1,\n 'time unites': 1,\n 'salvation freedom': 1,\n 'three figures The': 1,\n 'means resolves': 2,\n 'resurrected body': 1,\n 'finds man': 1,\n 'sin guilt': 1,\n 'suggesting belief': 1,\n 'savior different': 1,\n 'pope take': 2,\n 'discerned albeit': 2,\n 'Paul E Corinthians': 1,\n 'Bodhisattvabeing Amida': 2,\n 'gnostic concept': 2,\n 'Buddhist Society': 3,\n 'characteristic furthermore': 2,\n 'directed toward': 2,\n 'savior types At': 1,\n 'despite basic': 1,\n 'wholly different basis': 1,\n 'consequently also': 2,\n 'ungodly faith': 1,\n 'hereafter referred': 1,\n 'The Songs': 1,\n 'even perhaps': 1,\n 'yet living': 2,\n 'It rests entirely': 1,\n 'change existent': 1,\n 'The inclination': 1,\n 'endured bind': 1,\n 'immediate future Luther': 1,\n 'monastic life': 2,\n 'something Paul': 1,\n 'interprets passage': 1,\n 'grace In': 1,\n 'Paul Luther': 8,\n 'conceptualobjective thinking': 2,\n 'ultimately extinction': 1,\n 'common Paul argues': 1,\n 'Jew well': 1,\n 'idea often': 1,\n 'revered one': 1,\n 'igno rance': 2,\n 'forms Pauls world': 1,\n 'holy act': 2,\n 'publication two': 1,\n 'I Paul Shinran': 1,\n 'EASTERN BUDDHIST This': 1,\n 'may discerned': 1,\n 'historical personality Amida': 1,\n 'means trust': 1,\n 'grace come': 1,\n 'attitude toward': 1,\n 'Collected Writings': 16,\n 'subjectobject scheme': 2,\n 'GRACE reckoned': 1,\n 'church arose among': 1,\n 'Zen although regardless': 1,\n 'supernatural occurrences': 2,\n 'find peace': 2,\n 'given significance': 1,\n 'spiritual landscape': 1,\n 'Their place': 1,\n 'law Paul': 1,\n 'us today': 3,\n 'consequences ethical': 1,\n 'new forms': 3,\n 'Tannisbõy vm included': 1,\n 'constantly hand': 1,\n 'Nembutsu thought': 1,\n 'mental environment': 2,\n 'forth criticism': 1,\n 'every time': 2,\n 'passed away behold': 1,\n 'happened Paul': 1,\n 'As Paul': 1,\n 'baptism believers': 1,\n 'The Kyõryõsbinshõ p': 1,\n 'also us': 1,\n 'Land possible In': 1,\n 'sense three': 1,\n 'go another': 1,\n 'disastrous effect': 2,\n 'JewishChristian com munity': 1,\n 'ethics In': 1,\n 'never experiences Amida': 1,\n 'Shinrans relation': 2,\n 'faith unbelievers men': 1,\n 'humility unworthiness': 1,\n 'arose among': 1,\n 'given credence': 2,\n 'anyway But': 1,\n 'Luther even': 2,\n 'By virtue': 3,\n 'Jõdo sect': 3,\n 'Buddhism Luthers': 1,\n 'law Paul Shinran': 1,\n 'may take': 1,\n 'pp hi f': 1,\n 'Lutheran theology The': 1,\n 'origins grace': 1,\n 'Buddhisms otherwise': 1,\n 'In regard': 1,\n 'position within': 1,\n 'savior Christ': 2,\n 'endtime The significance': 1,\n 'differences awareness': 1,\n 'promises Just': 2,\n 'cycle In': 1,\n 'history The': 1,\n 'Amida Buddhism precisely': 1,\n 'Maha yana represents': 1,\n 'common struggle': 2,\n 'Here became': 1,\n 'discussion historical': 1,\n 'serious contemplation': 2,\n 'existent world In': 1,\n 'wills This': 2,\n 'formal basis': 2,\n 'least Paul': 2,\n 'Christ This parallels': 1,\n 'three cognize': 1,\n 'In Judaism': 2,\n 'earliest Christianitys idea': 1,\n 'existence For Luther': 1,\n 'merit possesses': 1,\n 'Amida power': 1,\n 'end Salvation means': 1,\n 'reference holy': 2,\n 'teaching grounded': 1,\n 'Paul first': 1,\n 'recognizes Jesus': 1,\n 'prevent new': 1,\n 'EASTERN BUDDHIST apocalypticism': 1,\n 'Pauls meaning': 2,\n 'salvation nonsalvation': 1,\n 'Shinran supposed': 1,\n 'reproach Paul': 1,\n 'thereby enter': 2,\n 'leads history': 1,\n 'space It': 2,\n 'attempt realize': 1,\n 'Shinrans Jõdo Shin': 1,\n 'earliest Christian eschatology': 1,\n 'Far Eastern': 2,\n 'opposition tariki': 1,\n 'Jesuit missionary': 1,\n 'new searches': 1,\n 'became founder': 1,\n 'th birthday I': 1,\n 'thinking subjects': 1,\n 'Sutra Eternal': 2,\n 'theologian Shinrans chief': 1,\n 'enviable timelessness': 2,\n 'attitudes might': 2,\n 'differences us': 1,\n 'valid content': 1,\n 'new function But': 1,\n 'Certainly Shinran': 1,\n 'lectures presented': 1,\n 'Buddhism could learn': 1,\n 'faith savior': 1,\n 'heaven This': 2,\n 'promise really': 2,\n 'teachers Jõdo': 1,\n 'faith however consists': 1,\n 'able successfully': 1,\n 'order grace': 1,\n 'historicalsuprahistorical event': 2,\n 'generally followed': 2,\n 'church hymns': 1,\n 'three actually bring': 1,\n 'God Amida': 1,\n 'grace means': 2,\n 'time reached beyond': 1,\n 'two distinct ethical': 1,\n 'religious thinkers Mutual': 1,\n 'Mosaic law': 1,\n 'und der Durchbrucb': 1,\n 'Paul quotes Christian': 1,\n 'basically differences': 2,\n 'Tannisbõ ģm': 1,\n 'II Corinthians': 2,\n 'resign oneself': 2,\n 'since Biblical': 1,\n 'ones act': 1,\n 'three primary': 1,\n 'exaggerated formulations': 3,\n 'Karl Barth Kirchliche': 1,\n 'share Christs': 1,\n 'account recorded': 1,\n 'respective religions': 1,\n 'Jesus In time': 1,\n 'mand therefore': 1,\n 'collection texts': 1,\n 'mind become': 1,\n 'matter personal': 1,\n 'greater portent': 2,\n 'opponent alike': 1,\n 'Pure Land': 13,\n 'earth soul': 1,\n 'share Unlike': 1,\n 'notion Jesus': 1,\n 'Wasan songs Yet': 1,\n 'previously valid concepts': 1,\n 'valuates Christian': 1,\n 'possibilities remain': 2,\n 'understand spiritual': 1,\n 'main tain': 2,\n 'Tannisbõ ģm While': 1,\n 'process moved beyond': 1,\n 'enter Nirvana': 6,\n 'prince advice': 2,\n 'trans formation': 2,\n 'Psalms stories': 1,\n 'forms In': 1,\n 'evangelism All': 1,\n 'sees problem': 1,\n 'Bodhi sattva ideal': 1,\n 'usus legis': 1,\n 'followers Paul': 1,\n 'promise The content': 1,\n 'salvation aims': 2,\n 'For Amida': 1,\n 'piety On': 2,\n 'This process began': 1,\n 'grace resulted': 2,\n 'Suzuki opposes': 2,\n 'confessions But Paul': 1,\n 'church continued': 1,\n 'figures The starting': 1,\n 'legitimately It': 1,\n 'law works': 1,\n 'Wasan songs': 1,\n 'rule evil': 1,\n 'training faith': 1,\n 'winter semester': 2,\n 'public pecca fortiter': 1,\n 'churchly institution': 2,\n 'Christ Paul': 1,\n 'reference Paul': 1,\n 'grace moves': 1,\n 'expects resurrected': 1,\n 'teaching We might': 1,\n 'world foolishness': 1,\n 'eschatology Belief': 1,\n 'similar Luthers': 1,\n 'infernum pro Dei': 1,\n 'belief man arrives': 1,\n 'rejection monasticism': 1,\n 'person never experiences': 1,\n 'tradition Paul': 1,\n 'terms becoming': 1,\n 'spiritual world': 4,\n 'manifest differences': 2,\n 'Shinran interprets': 1,\n 'certain inner': 2,\n 'saviors one may': 1,\n 'imparting salvation': 2,\n 'unsaved area': 2,\n 'frighten believer': 1,\n 'find subjectobject': 1,\n 'aforementioned basic': 1,\n 'main reason': 1,\n 'He state': 1,\n 'devil The good': 1,\n 'Testament Psalms': 1,\n 'holy tradition Each': 1,\n 'even though': 1,\n 'aspects The first': 1,\n 'Luther adjoins': 1,\n 'Buddhism But Christ': 1,\n 'Biblical Buddhist': 1,\n 'divine powers': 2,\n 'Karuna absurd': 1,\n 'friend opponent': 1,\n 'made vow': 2,\n 'theory whether': 1,\n 'In Paul': 1,\n 'tion Shinran radicalized': 1,\n 'ac cording': 1,\n 'lief Paul': 1,\n 'opposition two': 1,\n 'Luther however': 2,\n 'tradition Paul Shinran': 1,\n 'general accordance': 2,\n 'Amidas name': 1,\n 'There also': 1,\n 'overcome Christ': 1,\n 'done enough penance': 1,\n 'aut non sint': 1,\n 'letters asserts': 1,\n 'tradition Luther': 1,\n 'tain relation': 1,\n 'really speak': 2,\n 'Christianization Amida': 1,\n 'attitude inappropriate': 1,\n 'With early': 1,\n 'longer belonged': 2,\n 'concepts faith': 1,\n 'Zen Buddhism': 2,\n 'presented August': 1,\n 'Shinran Shonin': 3,\n 'even worse': 2,\n 'grace Shinran': 3,\n 'betterment If Amida': 1,\n 'one tradition': 1,\n 'separate spheres': 2,\n 'dead successfully withstand': 1,\n 'temporal happening': 2,\n 'hardly accidental': 1,\n 'understand ones': 2,\n 'church found': 2,\n 'authority affirma': 1,\n 'Tannishõ Shinran': 1,\n 'Jesus The nature': 1,\n 'still refuse': 2,\n 'The significance': 1,\n 'teaching also': 1,\n 'Grace Paul': 1,\n 'grace already': 1,\n 'documents differently although': 1,\n 'reconcile former': 1,\n 'driving impulse': 1,\n 'blessed much': 1,\n 'assertion Buddhism': 1,\n 'Amida leaves': 1,\n 'Western world': 2,\n 'Collected Writings pp': 1,\n 'also significant': 2,\n 'justification He reproaches': 1,\n 'OF GRACE V': 1,\n 'honoring teachers': 1,\n 'refuse see': 1,\n 'two important': 1,\n 'doctrine salvation': 1,\n 'early Christians': 2,\n 'active realization': 1,\n 'complete trust': 3,\n 'Christs return': 2,\n 'Kyõgyõshinshõ Shinran': 1,\n 'joyful fulfillment': 4,\n 'distinction good': 1,\n 'He like Amida': 1,\n 'Christianization Buddhism': 1,\n 'understandable Karl': 1,\n 'lives It': 2,\n 'Suzuki Sasaki': 1,\n 'Glossary The': 1,\n 'GRACE karma': 1,\n 'likewise per': 1,\n 'practice The fact': 1,\n 'conflicts nomism': 1,\n 'undemonstrable nature': 1,\n 'suggests possible': 1,\n 'basis Bodhisattvabeing': 1,\n 'theologia crucis': 3,\n 'safe guard': 2,\n 'Mahayana In': 2,\n 'And young': 1,\n 'distinctness three': 1,\n 'Amida transfers': 2,\n 'salvation With': 1,\n 'It characteristic': 1,\n 'figure Christ': 1,\n 'aside vestiges': 1,\n 'Mahayana Buddhism': 2,\n 'world That': 1,\n 'forms worldfleeing': 1,\n 'Buddhist representative': 2,\n 'formula Namuamidabutsu': 2,\n 'f Collected': 1,\n 'This made': 1,\n 'new come': 1,\n 'sense designa': 1,\n 'pecca fortiter sed': 1,\n 'possible Christianization': 2,\n 'effects upon': 2,\n 'visit Japan': 1,\n 'prepares one': 2,\n 'cannot say': 1,\n 'similarity among': 1,\n 'worldfleeing self': 1,\n 'Christian faith': 2,\n 'chosen way': 1,\n 'holy writings For': 1,\n 'conflict traditional': 1,\n 'religions Catholic': 2,\n 'aeon begun': 1,\n 'This trust': 1,\n 'Catholic synergism Luther': 1,\n 'time produces': 1,\n 'OF GRACE still': 1,\n 'solving problems': 1,\n 'another way It': 1,\n 'Luther expect': 2,\n 'circle karma': 1,\n 'thorough serious': 1,\n 'shows men': 2,\n 'good reason': 2,\n 'way life': 2,\n 'Christ arise': 1,\n 'see discussions': 2,\n 'Concept Grace': 1,\n 'religious worldviews Pauls': 1,\n 'Pauline Lutheran': 1,\n 'religions also': 1,\n 'longer endeavours simply': 1,\n 'Romans f': 1,\n 'grace constantly': 2,\n 'concern salvation': 1,\n 'able extinguish': 1,\n 'us evidence': 1,\n 'encountered Amida': 1,\n 'ascended Lord': 1,\n 'salvation possibility': 1,\n 'quite fragile': 1,\n 'Shin Buddhism': 3,\n 'Luthers criticism': 2,\n 'graceless age': 2,\n 'eschatology history comes': 1,\n 'mythology philosophical': 2,\n 'Church originat ing': 1,\n 'religious tradition granted': 1,\n 'Christ This': 1,\n 'belief comes': 1,\n 'For Luther Gods': 1,\n 'therefore say': 2,\n 'Shinrans criticism': 1,\n 'already effective': 2,\n 'certain canonical books': 1,\n 'mentioned In': 1,\n 'salvific significance': 2,\n 'public pecca': 1,\n 'three actually': 1,\n 'Buddhism generally': 1,\n 'Shinran piety': 1,\n 'God The': 1,\n 'partly differing presuppositions': 1,\n 'Messiah dies': 1,\n 'Shinran believes': 2,\n ...}"
     },
     "execution_count": 133,
     "metadata": {},
     "output_type": "execute_result"
    }
   ],
   "source": [
    "#json.load(open(destpath + \"id_1.json\"))"
   ],
   "metadata": {
    "collapsed": false
   }
  },
  {
   "cell_type": "code",
   "execution_count": 17,
   "outputs": [
    {
     "name": "stdout",
     "output_type": "stream",
     "text": [
      "CPU times: user 13min 53s, sys: 22.3 s, total: 14min 15s\n",
      "Wall time: 15min\n"
     ]
    }
   ],
   "source": [
    "%%time\n",
    "data_ngrams = Counter()\n",
    "sourcepath = \"../data/large_files/trigrams_raw/\"\n",
    "for id in ids:\n",
    "    ngram_dict = json.load(open(sourcepath +  \"trigrams_{}.json\".format(str(id)), \"r\"))\n",
    "    d_cleaned = filter_dict(ngram_dict)\n",
    "    with open(destpath + \"filtered_id_{}.json\".format(str(id)), \"w\") as f:\n",
    "        json.dump(d_cleaned, f)\n",
    "    data_ngrams.update(d_cleaned)"
   ],
   "metadata": {
    "collapsed": false
   }
  },
  {
   "cell_type": "code",
   "execution_count": 18,
   "outputs": [
    {
     "data": {
      "text/plain": "45296539"
     },
     "execution_count": 18,
     "metadata": {},
     "output_type": "execute_result"
    }
   ],
   "source": [
    "len(data_ngrams)"
   ],
   "metadata": {
    "collapsed": false
   }
  },
  {
   "cell_type": "code",
   "execution_count": 19,
   "outputs": [
    {
     "name": "stdout",
     "output_type": "stream",
     "text": [
      "CPU times: user 6.15 s, sys: 2.57 s, total: 8.72 s\n",
      "Wall time: 9.93 s\n"
     ]
    },
    {
     "data": {
      "text/plain": "1325945"
     },
     "execution_count": 19,
     "metadata": {},
     "output_type": "execute_result"
    }
   ],
   "source": [
    "%%time\n",
    "data_trigrams_sorted = sorted(data_ngrams.items(), key=lambda kv: kv[1], reverse=True)\n",
    "len([el for el in data_trigrams_sorted if el[1] > 10])"
   ],
   "metadata": {
    "collapsed": false
   }
  },
  {
   "cell_type": "code",
   "execution_count": 20,
   "outputs": [
    {
     "data": {
      "text/plain": "2330940"
     },
     "execution_count": 20,
     "metadata": {},
     "output_type": "execute_result"
    }
   ],
   "source": [
    "to_lemmatize = [el for el in data_trigrams_sorted if el[1] > 5]\n",
    "len(to_lemmatize)"
   ],
   "metadata": {
    "collapsed": false
   }
  },
  {
   "cell_type": "code",
   "execution_count": 23,
   "outputs": [],
   "source": [
    "# use spacy to generate \"Doc\" object for ngram\n",
    "# (use carefully, takes some time)\n",
    "tags = [\"NOUN\", \"ADJ\", \"VERB\", \"PROPN\"]\n",
    "\n",
    "def get_lemma_filtered(string):\n",
    "    #lemmata = \" \".join([t.lemma for t in nlp_stanza(string).sentences[0].words if t.pos in tags])\n",
    "    lemmata = \" \".join([t.lemma_ for t in nlp_spacy(string) if t.pos_ in tags])\n",
    "    return lemmata"
   ],
   "metadata": {
    "collapsed": false
   }
  },
  {
   "cell_type": "code",
   "execution_count": 24,
   "outputs": [],
   "source": [
    "monitor = [n for n in range(0, )]"
   ],
   "metadata": {
    "collapsed": false
   }
  },
  {
   "cell_type": "code",
   "execution_count": 25,
   "outputs": [
    {
     "name": "stdout",
     "output_type": "stream",
     "text": [
      "0\n",
      "2000\n",
      "4000\n",
      "6000\n",
      "8000\n",
      "10000\n",
      "12000\n",
      "14000\n",
      "16000\n",
      "18000\n",
      "20000\n",
      "22000\n",
      "24000\n",
      "26000\n",
      "28000\n",
      "30000\n",
      "32000\n",
      "34000\n",
      "36000\n",
      "38000\n",
      "40000\n",
      "42000\n",
      "44000\n",
      "46000\n",
      "48000\n",
      "50000\n",
      "52000\n",
      "54000\n",
      "56000\n",
      "58000\n",
      "60000\n",
      "62000\n",
      "64000\n",
      "66000\n",
      "68000\n",
      "70000\n",
      "72000\n",
      "74000\n",
      "76000\n",
      "78000\n",
      "80000\n",
      "82000\n",
      "84000\n",
      "86000\n",
      "88000\n",
      "90000\n",
      "92000\n",
      "94000\n",
      "96000\n",
      "98000\n",
      "100000\n",
      "102000\n",
      "104000\n",
      "106000\n",
      "108000\n",
      "110000\n",
      "112000\n",
      "114000\n",
      "116000\n",
      "118000\n",
      "120000\n",
      "122000\n",
      "124000\n",
      "126000\n",
      "128000\n",
      "130000\n",
      "132000\n",
      "134000\n",
      "136000\n",
      "138000\n",
      "140000\n",
      "142000\n",
      "144000\n",
      "146000\n",
      "148000\n",
      "150000\n",
      "152000\n",
      "154000\n",
      "156000\n",
      "158000\n",
      "160000\n",
      "162000\n",
      "164000\n",
      "166000\n",
      "168000\n",
      "170000\n",
      "172000\n",
      "174000\n",
      "176000\n",
      "178000\n",
      "180000\n",
      "182000\n",
      "184000\n",
      "186000\n",
      "188000\n",
      "190000\n",
      "192000\n",
      "194000\n",
      "196000\n",
      "198000\n",
      "200000\n",
      "202000\n",
      "204000\n",
      "206000\n",
      "208000\n",
      "210000\n",
      "212000\n",
      "214000\n",
      "216000\n",
      "218000\n",
      "220000\n",
      "222000\n",
      "224000\n",
      "226000\n",
      "228000\n",
      "230000\n",
      "232000\n",
      "234000\n",
      "236000\n",
      "238000\n",
      "240000\n",
      "242000\n",
      "244000\n",
      "246000\n",
      "248000\n",
      "250000\n",
      "252000\n",
      "254000\n",
      "256000\n",
      "258000\n",
      "260000\n",
      "262000\n",
      "264000\n",
      "266000\n",
      "268000\n",
      "270000\n",
      "272000\n",
      "274000\n",
      "276000\n",
      "278000\n",
      "280000\n",
      "282000\n",
      "284000\n",
      "286000\n",
      "288000\n",
      "290000\n",
      "292000\n",
      "294000\n",
      "296000\n",
      "298000\n",
      "300000\n",
      "302000\n",
      "304000\n",
      "306000\n",
      "308000\n",
      "310000\n",
      "312000\n",
      "314000\n",
      "316000\n",
      "318000\n",
      "320000\n",
      "322000\n",
      "324000\n",
      "326000\n",
      "328000\n",
      "330000\n",
      "332000\n",
      "334000\n",
      "336000\n",
      "338000\n",
      "340000\n",
      "342000\n",
      "344000\n",
      "346000\n",
      "348000\n",
      "350000\n",
      "352000\n",
      "354000\n",
      "356000\n",
      "358000\n",
      "360000\n",
      "362000\n",
      "364000\n",
      "366000\n",
      "368000\n",
      "370000\n",
      "372000\n",
      "374000\n",
      "376000\n",
      "378000\n",
      "380000\n",
      "382000\n",
      "384000\n",
      "386000\n",
      "388000\n",
      "390000\n",
      "392000\n",
      "394000\n",
      "396000\n",
      "398000\n",
      "400000\n",
      "402000\n",
      "404000\n",
      "406000\n",
      "408000\n",
      "410000\n",
      "412000\n",
      "414000\n",
      "416000\n",
      "418000\n",
      "420000\n",
      "422000\n",
      "424000\n",
      "426000\n",
      "428000\n",
      "430000\n",
      "432000\n",
      "434000\n",
      "436000\n",
      "438000\n",
      "440000\n",
      "442000\n",
      "444000\n",
      "446000\n",
      "448000\n",
      "450000\n",
      "452000\n",
      "454000\n",
      "456000\n",
      "458000\n",
      "460000\n",
      "462000\n",
      "464000\n",
      "466000\n",
      "468000\n",
      "470000\n",
      "472000\n",
      "474000\n",
      "476000\n",
      "478000\n",
      "480000\n",
      "482000\n",
      "484000\n",
      "486000\n",
      "488000\n",
      "490000\n",
      "492000\n",
      "494000\n",
      "496000\n",
      "498000\n",
      "500000\n",
      "502000\n",
      "504000\n",
      "506000\n",
      "508000\n",
      "510000\n",
      "512000\n",
      "514000\n",
      "516000\n",
      "518000\n",
      "520000\n",
      "522000\n",
      "524000\n",
      "526000\n",
      "528000\n",
      "530000\n",
      "532000\n",
      "534000\n",
      "536000\n",
      "538000\n",
      "540000\n",
      "542000\n",
      "544000\n",
      "546000\n",
      "548000\n",
      "550000\n",
      "552000\n",
      "554000\n",
      "556000\n",
      "558000\n",
      "560000\n",
      "562000\n",
      "564000\n",
      "566000\n",
      "568000\n",
      "570000\n",
      "572000\n",
      "574000\n",
      "576000\n",
      "578000\n",
      "580000\n",
      "582000\n",
      "584000\n",
      "586000\n",
      "588000\n",
      "590000\n",
      "592000\n",
      "594000\n",
      "596000\n",
      "598000\n",
      "600000\n",
      "602000\n",
      "604000\n",
      "606000\n",
      "608000\n",
      "610000\n",
      "612000\n",
      "614000\n",
      "616000\n",
      "618000\n",
      "620000\n",
      "622000\n",
      "624000\n",
      "626000\n",
      "628000\n",
      "630000\n",
      "632000\n",
      "634000\n",
      "636000\n",
      "638000\n",
      "640000\n",
      "642000\n",
      "644000\n",
      "646000\n",
      "648000\n",
      "650000\n",
      "652000\n",
      "654000\n",
      "656000\n",
      "658000\n",
      "660000\n",
      "662000\n",
      "664000\n",
      "666000\n",
      "668000\n",
      "670000\n",
      "672000\n",
      "674000\n",
      "676000\n",
      "678000\n",
      "680000\n",
      "682000\n",
      "684000\n",
      "686000\n",
      "688000\n",
      "690000\n",
      "692000\n",
      "694000\n",
      "696000\n",
      "698000\n",
      "700000\n",
      "702000\n",
      "704000\n",
      "706000\n",
      "708000\n",
      "710000\n",
      "712000\n",
      "714000\n",
      "716000\n",
      "718000\n",
      "720000\n",
      "722000\n",
      "724000\n",
      "726000\n",
      "728000\n",
      "730000\n",
      "732000\n",
      "734000\n",
      "736000\n",
      "738000\n",
      "740000\n",
      "742000\n",
      "744000\n",
      "746000\n",
      "748000\n",
      "750000\n",
      "752000\n",
      "754000\n",
      "756000\n",
      "758000\n",
      "760000\n",
      "762000\n",
      "764000\n",
      "766000\n",
      "768000\n",
      "770000\n",
      "772000\n",
      "774000\n",
      "776000\n",
      "778000\n",
      "780000\n",
      "782000\n",
      "784000\n",
      "786000\n",
      "788000\n",
      "790000\n",
      "792000\n",
      "794000\n",
      "796000\n",
      "798000\n",
      "800000\n",
      "802000\n",
      "804000\n",
      "806000\n",
      "808000\n",
      "810000\n",
      "812000\n",
      "814000\n",
      "816000\n",
      "818000\n",
      "820000\n",
      "822000\n",
      "824000\n",
      "826000\n",
      "828000\n",
      "830000\n",
      "832000\n",
      "834000\n",
      "836000\n",
      "838000\n",
      "840000\n",
      "842000\n",
      "844000\n",
      "846000\n",
      "848000\n",
      "850000\n",
      "852000\n",
      "854000\n",
      "856000\n",
      "858000\n",
      "860000\n",
      "862000\n",
      "864000\n",
      "866000\n",
      "868000\n",
      "870000\n",
      "872000\n",
      "874000\n",
      "876000\n",
      "878000\n",
      "880000\n",
      "882000\n",
      "884000\n",
      "886000\n",
      "888000\n",
      "890000\n",
      "892000\n",
      "894000\n",
      "896000\n",
      "898000\n",
      "900000\n",
      "902000\n",
      "904000\n",
      "906000\n",
      "908000\n",
      "910000\n",
      "912000\n",
      "914000\n",
      "916000\n",
      "918000\n",
      "920000\n",
      "922000\n",
      "924000\n",
      "926000\n",
      "928000\n",
      "930000\n",
      "932000\n",
      "934000\n",
      "936000\n",
      "938000\n",
      "940000\n",
      "942000\n",
      "944000\n",
      "946000\n",
      "948000\n",
      "950000\n",
      "952000\n",
      "954000\n",
      "956000\n",
      "958000\n",
      "960000\n",
      "962000\n",
      "964000\n",
      "966000\n",
      "968000\n",
      "970000\n",
      "972000\n",
      "974000\n",
      "976000\n",
      "978000\n",
      "980000\n",
      "982000\n",
      "984000\n",
      "986000\n",
      "988000\n",
      "990000\n",
      "992000\n",
      "994000\n",
      "996000\n",
      "998000\n",
      "1000000\n",
      "1002000\n",
      "1004000\n",
      "1006000\n",
      "1008000\n",
      "1010000\n",
      "1012000\n",
      "1014000\n",
      "1016000\n",
      "1018000\n",
      "1020000\n",
      "1022000\n",
      "1024000\n",
      "1026000\n",
      "1028000\n",
      "1030000\n",
      "1032000\n",
      "1034000\n",
      "1036000\n",
      "1038000\n",
      "1040000\n",
      "1042000\n",
      "1044000\n",
      "1046000\n",
      "1048000\n",
      "1050000\n",
      "1052000\n",
      "1054000\n",
      "1056000\n",
      "1058000\n",
      "1060000\n",
      "1062000\n",
      "1064000\n",
      "1066000\n",
      "1068000\n",
      "1070000\n",
      "1072000\n",
      "1074000\n",
      "1076000\n",
      "1078000\n",
      "1080000\n",
      "1082000\n",
      "1084000\n",
      "1086000\n",
      "1088000\n",
      "1090000\n",
      "1092000\n",
      "1094000\n",
      "1096000\n",
      "1098000\n",
      "1100000\n",
      "1102000\n",
      "1104000\n",
      "1106000\n",
      "1108000\n",
      "1110000\n",
      "1112000\n",
      "1114000\n",
      "1116000\n",
      "1118000\n",
      "1120000\n",
      "1122000\n",
      "1124000\n",
      "1126000\n",
      "1128000\n",
      "1130000\n",
      "1132000\n",
      "1134000\n",
      "1136000\n",
      "1138000\n",
      "1140000\n",
      "1142000\n",
      "1144000\n",
      "1146000\n",
      "1148000\n",
      "1150000\n",
      "1152000\n",
      "1154000\n",
      "1156000\n",
      "1158000\n",
      "1160000\n",
      "1162000\n",
      "1164000\n",
      "1166000\n",
      "1168000\n",
      "1170000\n",
      "1172000\n",
      "1174000\n",
      "1176000\n",
      "1178000\n",
      "1180000\n",
      "1182000\n",
      "1184000\n",
      "1186000\n",
      "1188000\n",
      "1190000\n",
      "1192000\n",
      "1194000\n",
      "1196000\n",
      "1198000\n",
      "1200000\n",
      "1202000\n",
      "1204000\n",
      "1206000\n",
      "1208000\n",
      "1210000\n",
      "1212000\n",
      "1214000\n",
      "1216000\n",
      "1218000\n",
      "1220000\n",
      "1222000\n",
      "1224000\n",
      "1226000\n",
      "1228000\n",
      "1230000\n",
      "1232000\n",
      "1234000\n",
      "1236000\n",
      "1238000\n",
      "1240000\n",
      "1242000\n",
      "1244000\n",
      "1246000\n",
      "1248000\n",
      "1250000\n",
      "1252000\n",
      "1254000\n",
      "1256000\n",
      "1258000\n",
      "1260000\n",
      "1262000\n",
      "1264000\n",
      "1266000\n",
      "1268000\n",
      "1270000\n",
      "1272000\n",
      "1274000\n",
      "1276000\n",
      "1278000\n",
      "1280000\n",
      "1282000\n",
      "1284000\n",
      "1286000\n",
      "1288000\n",
      "1290000\n",
      "1292000\n",
      "1294000\n",
      "1296000\n",
      "1298000\n",
      "1300000\n",
      "1302000\n",
      "1304000\n",
      "1306000\n",
      "1308000\n",
      "1310000\n",
      "1312000\n",
      "1314000\n",
      "1316000\n",
      "1318000\n",
      "1320000\n",
      "1322000\n",
      "1324000\n",
      "1326000\n",
      "1328000\n",
      "1330000\n",
      "1332000\n",
      "1334000\n",
      "1336000\n",
      "1338000\n",
      "1340000\n",
      "1342000\n",
      "1344000\n",
      "1346000\n",
      "1348000\n",
      "1350000\n",
      "1352000\n",
      "1354000\n",
      "1356000\n",
      "1358000\n",
      "1360000\n",
      "1362000\n",
      "1364000\n",
      "1366000\n",
      "1368000\n",
      "1370000\n",
      "1372000\n",
      "1374000\n",
      "1376000\n",
      "1378000\n",
      "1380000\n",
      "1382000\n",
      "1384000\n",
      "1386000\n",
      "1388000\n",
      "1390000\n",
      "1392000\n",
      "1394000\n",
      "1396000\n",
      "1398000\n",
      "1400000\n",
      "1402000\n",
      "1404000\n",
      "1406000\n",
      "1408000\n",
      "1410000\n",
      "1412000\n",
      "1414000\n",
      "1416000\n",
      "1418000\n",
      "1420000\n",
      "1422000\n",
      "1424000\n",
      "1426000\n",
      "1428000\n",
      "1430000\n",
      "1432000\n",
      "1434000\n",
      "1436000\n",
      "1438000\n",
      "1440000\n",
      "1442000\n",
      "1444000\n",
      "1446000\n",
      "1448000\n",
      "1450000\n",
      "1452000\n",
      "1454000\n",
      "1456000\n",
      "1458000\n",
      "1460000\n",
      "1462000\n",
      "1464000\n",
      "1466000\n",
      "1468000\n",
      "1470000\n",
      "1472000\n",
      "1474000\n",
      "1476000\n",
      "1478000\n",
      "1480000\n",
      "1482000\n",
      "1484000\n",
      "1486000\n",
      "1488000\n",
      "1490000\n",
      "1492000\n",
      "1494000\n",
      "1496000\n",
      "1498000\n",
      "1500000\n",
      "1502000\n",
      "1504000\n",
      "1506000\n",
      "1508000\n",
      "1510000\n",
      "1512000\n",
      "1514000\n",
      "1516000\n",
      "1518000\n",
      "1520000\n",
      "1522000\n",
      "1524000\n",
      "1526000\n",
      "1528000\n",
      "1530000\n",
      "1532000\n",
      "1534000\n",
      "1536000\n",
      "1538000\n",
      "1540000\n",
      "1542000\n",
      "1544000\n",
      "1546000\n",
      "1548000\n",
      "1550000\n",
      "1552000\n",
      "1554000\n",
      "1556000\n",
      "1558000\n",
      "1560000\n",
      "1562000\n",
      "1564000\n",
      "1566000\n",
      "1568000\n",
      "1570000\n",
      "1572000\n",
      "1574000\n",
      "1576000\n",
      "1578000\n",
      "1580000\n",
      "1582000\n",
      "1584000\n",
      "1586000\n",
      "1588000\n",
      "1590000\n",
      "1592000\n",
      "1594000\n",
      "1596000\n",
      "1598000\n",
      "1600000\n",
      "1602000\n",
      "1604000\n",
      "1606000\n",
      "1608000\n",
      "1610000\n",
      "1612000\n",
      "1614000\n",
      "1616000\n",
      "1618000\n",
      "1620000\n",
      "1622000\n",
      "1624000\n",
      "1626000\n",
      "1628000\n",
      "1630000\n",
      "1632000\n",
      "1634000\n",
      "1636000\n",
      "1638000\n",
      "1640000\n",
      "1642000\n",
      "1644000\n",
      "1646000\n",
      "1648000\n",
      "1650000\n",
      "1652000\n",
      "1654000\n",
      "1656000\n",
      "1658000\n",
      "1660000\n",
      "1662000\n",
      "1664000\n",
      "1666000\n",
      "1668000\n",
      "1670000\n",
      "1672000\n",
      "1674000\n",
      "1676000\n",
      "1678000\n",
      "1680000\n",
      "1682000\n",
      "1684000\n",
      "1686000\n",
      "1688000\n",
      "1690000\n",
      "1692000\n",
      "1694000\n",
      "1696000\n",
      "1698000\n",
      "1700000\n",
      "1702000\n",
      "1704000\n",
      "1706000\n",
      "1708000\n",
      "1710000\n",
      "1712000\n",
      "1714000\n",
      "1716000\n",
      "1718000\n",
      "1720000\n",
      "1722000\n",
      "1724000\n",
      "1726000\n",
      "1728000\n",
      "1730000\n",
      "1732000\n",
      "1734000\n",
      "1736000\n",
      "1738000\n",
      "1740000\n",
      "1742000\n",
      "1744000\n",
      "1746000\n",
      "1748000\n",
      "1750000\n",
      "1752000\n",
      "1754000\n",
      "1756000\n",
      "1758000\n",
      "1760000\n",
      "1762000\n",
      "1764000\n",
      "1766000\n",
      "1768000\n",
      "1770000\n",
      "1772000\n",
      "1774000\n",
      "1776000\n",
      "1778000\n",
      "1780000\n",
      "1782000\n",
      "1784000\n",
      "1786000\n",
      "1788000\n",
      "1790000\n",
      "1792000\n",
      "1794000\n",
      "1796000\n",
      "1798000\n",
      "1800000\n",
      "1802000\n",
      "1804000\n",
      "1806000\n",
      "1808000\n",
      "1810000\n",
      "1812000\n",
      "1814000\n",
      "1816000\n",
      "1818000\n",
      "1820000\n",
      "1822000\n",
      "1824000\n",
      "1826000\n",
      "1828000\n",
      "1830000\n",
      "1832000\n",
      "1834000\n",
      "1836000\n",
      "1838000\n",
      "1840000\n",
      "1842000\n",
      "1844000\n",
      "1846000\n",
      "1848000\n",
      "1850000\n",
      "1852000\n",
      "1854000\n",
      "1856000\n",
      "1858000\n",
      "1860000\n",
      "1862000\n",
      "1864000\n",
      "1866000\n",
      "1868000\n",
      "1870000\n",
      "1872000\n",
      "1874000\n",
      "1876000\n",
      "1878000\n",
      "1880000\n",
      "1882000\n",
      "1884000\n",
      "1886000\n",
      "1888000\n",
      "1890000\n",
      "1892000\n",
      "1894000\n",
      "1896000\n",
      "1898000\n",
      "1900000\n",
      "1902000\n",
      "1904000\n",
      "1906000\n",
      "1908000\n",
      "1910000\n",
      "1912000\n",
      "1914000\n",
      "1916000\n",
      "1918000\n",
      "1920000\n",
      "1922000\n",
      "1924000\n",
      "1926000\n",
      "1928000\n",
      "1930000\n",
      "1932000\n",
      "1934000\n",
      "1936000\n",
      "1938000\n",
      "1940000\n",
      "1942000\n",
      "1944000\n",
      "1946000\n",
      "1948000\n",
      "1950000\n",
      "1952000\n",
      "1954000\n",
      "1956000\n",
      "1958000\n",
      "1960000\n",
      "1962000\n",
      "1964000\n",
      "1966000\n",
      "1968000\n",
      "1970000\n",
      "1972000\n",
      "1974000\n",
      "1976000\n",
      "1978000\n",
      "1980000\n",
      "1982000\n",
      "1984000\n",
      "1986000\n",
      "1988000\n",
      "1990000\n",
      "1992000\n",
      "1994000\n",
      "1996000\n",
      "1998000\n",
      "2000000\n",
      "2002000\n",
      "2004000\n",
      "2006000\n",
      "2008000\n",
      "2010000\n",
      "2012000\n",
      "2014000\n",
      "2016000\n",
      "2018000\n",
      "2020000\n",
      "2022000\n",
      "2024000\n",
      "2026000\n",
      "2028000\n",
      "2030000\n",
      "2032000\n",
      "2034000\n",
      "2036000\n",
      "2038000\n",
      "2040000\n",
      "2042000\n",
      "2044000\n",
      "2046000\n",
      "2048000\n",
      "2050000\n",
      "2052000\n",
      "2054000\n",
      "2056000\n",
      "2058000\n",
      "2060000\n",
      "2062000\n",
      "2064000\n",
      "2066000\n",
      "2068000\n",
      "2070000\n",
      "2072000\n",
      "2074000\n",
      "2076000\n",
      "2078000\n",
      "2080000\n",
      "2082000\n",
      "2084000\n",
      "2086000\n",
      "2088000\n",
      "2090000\n",
      "2092000\n",
      "2094000\n",
      "2096000\n",
      "2098000\n",
      "2100000\n",
      "2102000\n",
      "2104000\n",
      "2106000\n",
      "2108000\n",
      "2110000\n",
      "2112000\n",
      "2114000\n",
      "2116000\n",
      "2118000\n",
      "2120000\n",
      "2122000\n",
      "2124000\n",
      "2126000\n",
      "2128000\n",
      "2130000\n",
      "2132000\n",
      "2134000\n",
      "2136000\n",
      "2138000\n",
      "2140000\n",
      "2142000\n",
      "2144000\n",
      "2146000\n",
      "2148000\n",
      "2150000\n",
      "2152000\n",
      "2154000\n",
      "2156000\n",
      "2158000\n",
      "2160000\n",
      "2162000\n",
      "2164000\n",
      "2166000\n",
      "2168000\n",
      "2170000\n",
      "2172000\n",
      "2174000\n",
      "2176000\n",
      "2178000\n",
      "2180000\n",
      "2182000\n",
      "2184000\n",
      "2186000\n",
      "2188000\n",
      "2190000\n",
      "2192000\n",
      "2194000\n",
      "2196000\n",
      "2198000\n",
      "2200000\n",
      "2202000\n",
      "2204000\n",
      "2206000\n",
      "2208000\n",
      "2210000\n",
      "2212000\n",
      "2214000\n",
      "2216000\n",
      "2218000\n",
      "2220000\n",
      "2222000\n",
      "2224000\n",
      "2226000\n",
      "2228000\n",
      "2230000\n",
      "2232000\n",
      "2234000\n",
      "2236000\n",
      "2238000\n",
      "2240000\n",
      "2242000\n",
      "2244000\n",
      "2246000\n",
      "2248000\n",
      "2250000\n",
      "2252000\n",
      "2254000\n",
      "2256000\n",
      "2258000\n",
      "2260000\n",
      "2262000\n",
      "2264000\n",
      "2266000\n",
      "2268000\n",
      "2270000\n",
      "2272000\n",
      "2274000\n",
      "2276000\n",
      "2278000\n",
      "2280000\n",
      "2282000\n",
      "2284000\n",
      "2286000\n",
      "2288000\n",
      "2290000\n",
      "2292000\n",
      "2294000\n",
      "2296000\n",
      "2298000\n",
      "2300000\n",
      "2302000\n",
      "2304000\n",
      "2306000\n",
      "2308000\n",
      "2310000\n",
      "2312000\n",
      "2314000\n",
      "2316000\n",
      "2318000\n",
      "2320000\n",
      "2322000\n",
      "2324000\n",
      "2326000\n",
      "2328000\n",
      "2330000\n",
      "CPU times: user 1h 35min 47s, sys: 1min 56s, total: 1h 37min 44s\n",
      "Wall time: 1h 40min 20s\n"
     ]
    }
   ],
   "source": [
    "%%time\n",
    "monitor = [n for n in range(0, len(to_lemmatize), 2000)]\n",
    "trigrams_lemmata_dict= {}\n",
    "for n, tup in enumerate(to_lemmatize):\n",
    "    lemmata = get_lemma_filtered(tup[0])\n",
    "    if n in monitor:\n",
    "        print(n)\n",
    "    if len(lemmata.split()) > 1:\n",
    "        trigrams_lemmata_dict[tup[0]] = {\"lemmata\" : lemmata, \"count\" : tup[1]}"
   ],
   "metadata": {
    "collapsed": false
   }
  },
  {
   "cell_type": "code",
   "execution_count": 26,
   "outputs": [],
   "source": [
    "with open(\"../data/large_files/trigrams_lemmata_dict.pickle\", \"wb\") as f:\n",
    "    pickle.dump(trigrams_lemmata_dict, f)"
   ],
   "metadata": {
    "collapsed": false
   }
  },
  {
   "cell_type": "code",
   "execution_count": 9,
   "outputs": [
    {
     "data": {
      "text/plain": "1246103"
     },
     "execution_count": 9,
     "metadata": {},
     "output_type": "execute_result"
    }
   ],
   "source": [
    "#trigrams_lemmata_dict = pickle.load(open(\"../data/large_files/trigrams_lemmata_dict.pickle\", \"rb\"))\n",
    "#len(trigrams_lemmata_dict)"
   ],
   "metadata": {
    "collapsed": false
   }
  },
  {
   "cell_type": "code",
   "execution_count": 27,
   "outputs": [
    {
     "name": "stdout",
     "output_type": "stream",
     "text": [
      "CPU times: user 3.1 ms, sys: 4.46 ms, total: 7.56 ms\n",
      "Wall time: 8.07 ms\n"
     ]
    }
   ],
   "source": [
    "%%time\n",
    "# developing application to individual documents\n",
    "sourcepath = \"../data/large_files/trigrams_filtered/\"\n",
    "id = 0\n",
    "with open(sourcepath + \"filtered_id_{}.json\".format(str(id)), \"r\") as f:\n",
    "    d_cleaned = json.load(f)\n",
    "counter = Counter()\n",
    "for item in d_cleaned.items():\n",
    "    try:\n",
    "        counter.update({trigrams_lemmata_dict[item[0]][\"lemmata\"] : item[1]})\n",
    "    except:\n",
    "        pass"
   ],
   "metadata": {
    "collapsed": false
   }
  },
  {
   "cell_type": "code",
   "execution_count": 28,
   "outputs": [],
   "source": [
    "trigrams_list = []\n",
    "for tup in counter.items():\n",
    "    trigrams_list.extend([tup[0]]*tup[1])"
   ],
   "metadata": {
    "collapsed": false
   }
  },
  {
   "cell_type": "code",
   "execution_count": 29,
   "outputs": [
    {
     "data": {
      "text/plain": "['religious matter',\n 'divine hope',\n 'divine hope',\n 'leave unresolved',\n 'leave unresolved',\n 'racial equality',\n 'racial equality',\n 'joint action',\n 'joint action',\n 'joint action',\n 'joint action',\n 'joint action',\n 'christian fellowship',\n 'biblical injunction',\n 'biblical injunction',\n 'important community',\n 'degree order',\n 'worldwide fellowship',\n 'worldwide fellowship',\n 'community establish',\n 'new appreciation',\n 'new appreciation',\n 'Council church',\n 'Council church',\n 'local fellowship',\n 'local fellowship',\n 'establish maintain',\n 'op cit',\n 'op cit',\n 'op cit',\n 'op cit',\n 'op cit',\n 'op cit',\n 'op cit',\n 'op cit',\n 'op cit',\n 'op cit',\n 'op cit',\n 'Wcc Commission',\n 'Wcc Commission',\n 'use several',\n 'nego tiating',\n 'nego tiating',\n 'church provide',\n 'church provide',\n 'church provide',\n 'Association Press',\n 'Association Press',\n 'loss identity',\n 'particular concept',\n 'con versation',\n 'form life',\n 'doctrinal agreement',\n 'genuine renewal',\n 'genuine renewal',\n 'Church Union Negotiations',\n 'redemp tion',\n 'redemp tion',\n 'ruison dtre',\n 'ruison dtre',\n 'particular project',\n 'deep commitment',\n 'deep commitment',\n 'Delhi Assembly',\n 'national istic',\n 'community feel',\n 'community feel',\n 'united church',\n 'united church',\n 'united church',\n 'united church',\n 'united church',\n 'united church',\n 'united church',\n 'united church',\n 'united church',\n 'united church',\n 'united church',\n 'united church',\n 'united church',\n 'united church',\n 'united church',\n 'united church',\n 'united church',\n 'united church',\n 'united churches',\n 'united churches',\n 'united churches',\n 'united churches',\n 'united churches',\n 'united churches',\n 'united churches',\n 'united churches',\n 'united churches',\n 'united churches',\n 'united churches',\n 'united churches',\n 'united churches',\n 'united churches',\n 'body continue']"
     },
     "execution_count": 29,
     "metadata": {},
     "output_type": "execute_result"
    }
   ],
   "source": [
    "trigrams_list[:100]"
   ],
   "metadata": {
    "collapsed": false
   }
  },
  {
   "cell_type": "code",
   "execution_count": 30,
   "outputs": [],
   "source": [
    "sourcepath = destpath\n",
    "destpath = \"../data/large_files/trigrams_lemmatized/\"\n",
    "try:\n",
    "    os.makedirs(destpath)\n",
    "except:\n",
    "    pass"
   ],
   "metadata": {
    "collapsed": false
   }
  },
  {
   "cell_type": "code",
   "execution_count": 33,
   "outputs": [
    {
     "name": "stdout",
     "output_type": "stream",
     "text": [
      "CPU times: user 2min 4s, sys: 20.4 s, total: 2min 25s\n",
      "Wall time: 2min 50s\n"
     ]
    }
   ],
   "source": [
    "%%time\n",
    "for id in ids:\n",
    "    with open(sourcepath + \"filtered_id_{}.json\".format(str(id)), \"r\") as f:\n",
    "        d_cleaned = json.load(f)\n",
    "    counter = Counter()\n",
    "    for item in d_cleaned.items():\n",
    "        try:\n",
    "            counter.update({trigrams_lemmata_dict[item[0]][\"lemmata\"] : item[1]})\n",
    "        except:\n",
    "            pass\n",
    "    trigrams_list = []\n",
    "    for tup in counter.items():\n",
    "        trigrams_list.extend([tup[0]]*tup[1])\n",
    "    with open(destpath + \"trigrams_lemmata_id_{}.txt\".format(str(id)), \"w\") as f:\n",
    "        f.writelines(trigrams_list)"
   ],
   "metadata": {
    "collapsed": false
   }
  },
  {
   "cell_type": "code",
   "execution_count": null,
   "outputs": [],
   "source": [],
   "metadata": {
    "collapsed": false
   }
  },
  {
   "cell_type": "code",
   "execution_count": null,
   "outputs": [],
   "source": [],
   "metadata": {
    "collapsed": false
   }
  },
  {
   "cell_type": "code",
   "execution_count": null,
   "outputs": [],
   "source": [],
   "metadata": {
    "collapsed": false
   }
  },
  {
   "cell_type": "markdown",
   "source": [
    "# Backup"
   ],
   "metadata": {
    "collapsed": false
   }
  },
  {
   "cell_type": "markdown",
   "source": [
    "# Most frequent unigrams to nlp docs"
   ],
   "metadata": {
    "collapsed": false
   }
  },
  {
   "cell_type": "code",
   "execution_count": 108,
   "outputs": [],
   "source": [
    "# load spacy english nlp model & english stopwords...\n",
    "#stop_words = nlp_spacy.Defaults.stop_words"
   ],
   "metadata": {
    "collapsed": false
   }
  },
  {
   "cell_type": "code",
   "execution_count": 109,
   "outputs": [
    {
     "data": {
      "text/plain": "[('the', 64204),\n ('of', 43727),\n ('and', 29112),\n ('to', 24051),\n ('in', 23227),\n ('is', 11614),\n ('that', 11283),\n ('as', 8204),\n ('The', 6860),\n ('for', 6850),\n ('his', 6283),\n ('with', 6121),\n ('was', 5995),\n ('he', 5314),\n ('by', 5164),\n ('not', 5095),\n ('on', 4746),\n ('from', 4525),\n ('it', 4500),\n ('this', 4388),\n ('be', 4355),\n ('or', 3657),\n ('which', 3568),\n ('are', 3401),\n ('an', 3185),\n ('their', 3085),\n ('who', 3080),\n ('God', 3032),\n ('have', 2951),\n ('but', 2774),\n ('at', 2649),\n ('Paul', 2601),\n ('were', 2543),\n ('they', 2531),\n ('In', 2524),\n ('had', 2435),\n ('one', 2336),\n ('all', 2258),\n ('has', 2093),\n ('him', 1966),\n ('we', 1966),\n ('Christ', 1886),\n ('also', 1854),\n ('its', 1685),\n ('them', 1600),\n ('Christian', 1594),\n ('more', 1579),\n ('Jesus', 1546),\n ('would', 1496),\n ('what', 1489),\n ('you', 1474),\n ('This', 1472),\n ('been', 1441),\n ('will', 1439),\n ('other', 1423),\n ('into', 1356),\n ('only', 1342),\n ('It', 1324),\n ('so', 1322),\n ('no', 1299),\n ('about', 1293),\n ('He', 1288),\n ('life', 1260),\n ('these', 1253),\n ('New', 1197),\n ('there', 1196),\n ('when', 1170),\n ('than', 1166),\n ('some', 1115),\n ('through', 1086),\n ('between', 1079),\n ('such', 1075),\n ('those', 1072),\n ('do', 1066),\n ('can', 1055),\n ('see', 1049),\n ('church', 1034),\n ('our', 1032),\n ('my', 1020),\n ('people', 1013),\n ('her', 997),\n ('For', 996),\n ('first', 990),\n ('own', 922),\n ('Pauls', 919),\n ('us', 910),\n ('even', 908),\n ('two', 905),\n ('could', 903),\n ('faith', 899),\n ('out', 898),\n ('Church', 897),\n ('may', 884),\n ('if', 882),\n ('does', 881),\n ('religious', 875),\n ('See', 869),\n ('me', 869),\n ('world', 861),\n ('most', 856),\n ('time', 853),\n ('way', 846),\n ('Jewish', 840),\n ('But', 833),\n ('man', 821),\n ('both', 807),\n ('many', 804),\n ('because', 803),\n ('Christians', 802),\n ('And', 801),\n ('love', 800),\n ('work', 797),\n ('Gods', 778),\n ('new', 772),\n ('did', 757),\n ('Spirit', 740),\n ('should', 738),\n ('how', 735),\n ('where', 735),\n ('being', 716),\n ('same', 706),\n ('John', 695),\n ('human', 689),\n ('any', 683),\n ('well', 680),\n ('himself', 679),\n ('Press', 677),\n ('social', 675),\n ('then', 673),\n ('de', 664),\n ('up', 655),\n ('upon', 654),\n ('made', 642),\n ('University', 642),\n ('like', 641),\n ('As', 641),\n ('before', 640),\n ('after', 640),\n ('over', 634),\n ('Testament', 633),\n ('said', 624),\n ('against', 623),\n ('et', 621),\n ('must', 613),\n ('part', 596),\n ('good', 592),\n ('Lord', 586),\n ('among', 585),\n ('century', 583),\n ('she', 580),\n ('order', 577),\n ('Jews', 576),\n ('law', 575),\n ('very', 568),\n ('here', 566),\n ('much', 557),\n ('power', 556),\n ('your', 556),\n ('community', 552),\n ('Catholic', 548),\n ('HB', 541),\n ('death', 535),\n ('text', 535),\n ('Christianity', 532),\n ('while', 530),\n ('early', 530),\n ('now', 516),\n ('On', 506),\n ('men', 505),\n ('rather', 502),\n ('found', 499),\n ('words', 496),\n ('called', 483),\n ('however', 482),\n ('without', 479),\n ('might', 475),\n ('ed', 474),\n ('three', 470),\n ('history', 465),\n ('place', 464),\n ('They', 460),\n ('THE', 459),\n ('book', 459),\n ('say', 455),\n ('others', 455),\n ('Greek', 454),\n ('under', 453),\n ('spiritual', 453),\n ('churches', 452),\n ('reading', 450),\n ('divine', 450),\n ('use', 449),\n ('word', 445),\n ('within', 443),\n ('Cf', 436),\n ('pp', 436),\n ('Cor', 436),\n ('another', 434),\n ('thought', 432),\n ('whom', 432),\n ('make', 425),\n ('His', 423),\n ('Father', 423),\n ('sense', 420),\n ('great', 417),\n ('Bible', 416),\n ('Judaism', 416),\n ('Law', 414),\n ('salvation', 412),\n ('fact', 411),\n ('nature', 410),\n ('If', 409),\n ('religion', 409),\n ('means', 409),\n ('Cambridge', 409),\n ('Romans', 408),\n ('tradition', 407),\n ('Gospel', 407),\n ('view', 407),\n ('Corinthians', 404),\n ('example', 403),\n ('There', 401),\n ('come', 400),\n ('says', 399),\n ('each', 399),\n ('Roman', 399),\n ('later', 399),\n ('Holy', 398),\n ('given', 396),\n ('years', 396),\n ('om', 396),\n ('Luke', 395),\n ('itself', 394),\n ('point', 394),\n ('day', 394),\n ('letter', 392),\n ('different', 390),\n ('form', 389),\n ('understanding', 388),\n ('St', 388),\n ('women', 387),\n ('know', 386),\n ('spirit', 384),\n ('came', 384),\n ('authority', 384),\n ('We', 383),\n ('works', 381),\n ('often', 381),\n ('become', 379),\n ('themselves', 378),\n ('theology', 376),\n ('things', 373),\n ('question', 372),\n ('Israel', 371),\n ('What', 370),\n ('end', 368),\n ('person', 367),\n ('York', 367),\n ('Rom', 363),\n ('poor', 363),\n ('just', 358),\n ('became', 356),\n ('meaning', 355),\n ('theological', 354),\n ('used', 353),\n ('though', 350),\n ('holy', 348),\n ('Acts', 347),\n ('second', 344),\n ('experience', 343),\n ('important', 343),\n ('context', 343),\n ('grace', 342),\n ('present', 340),\n ('still', 339),\n ('according', 338),\n ('sin', 336),\n ('practice', 335),\n ('American', 333),\n ('To', 332),\n ('too', 331),\n ('cf', 329),\n ('When', 329),\n ('Christs', 327),\n ('general', 327),\n ('interpretation', 325),\n ('English', 324),\n ('gospel', 324),\n ('Jerusalem', 323),\n ('language', 323),\n ('One', 321),\n ('Thus', 320),\n ('case', 319),\n ('OF', 317),\n ('certain', 316),\n ('name', 315),\n ('especially', 315),\n ('righteousness', 313),\n ('political', 313),\n ('study', 312),\n ('give', 312),\n ('true', 311),\n ('texts', 309),\n ('together', 309),\n ('biblical', 309),\n ('whole', 308),\n ('take', 307),\n ('whose', 307),\n ('state', 306),\n ('II', 305),\n ('since', 305),\n ('find', 305),\n ('light', 304),\n ('historical', 303),\n ('By', 303),\n ('during', 303),\n ('every', 302),\n ('whether', 301),\n ('seen', 301),\n ('particular', 296),\n ('clear', 295),\n ('read', 295),\n ('common', 293),\n ('down', 292),\n ('following', 291),\n ('body', 291),\n ('Peter', 291),\n ('therefore', 290),\n ('above', 290),\n ('ones', 289),\n ('least', 288),\n ('hand', 287),\n ('shall', 286),\n ('terms', 285),\n ('account', 284),\n ('relationship', 283),\n ('am', 282),\n ('These', 281),\n ('role', 281),\n ('away', 279),\n ('members', 278),\n ('never', 276),\n ('That', 276),\n ('thus', 275),\n ('little', 274),\n ('author', 273),\n ('set', 272),\n ('At', 272),\n ('again', 271),\n ('cannot', 271),\n ('heart', 270),\n ('known', 269),\n ('knowledge', 269),\n ('idea', 267),\n ('reason', 267),\n ('until', 266),\n ('Old', 266),\n ('truth', 265),\n ('Religion', 265),\n ('letters', 264),\n ('long', 264),\n ('need', 263),\n ('Emerson', 262),\n ('Protestant', 261),\n ('far', 261),\n ('seems', 261),\n ('further', 261),\n ('number', 261),\n ('nor', 260),\n ('prayer', 260),\n ('back', 259),\n ('taken', 258),\n ('Pauline', 257),\n ('less', 256),\n ('took', 255),\n ('Son', 255),\n ('several', 255),\n ('James', 255),\n ('something', 253),\n ('soul', 253),\n ('chapter', 253),\n ('service', 252),\n ('already', 251),\n ('An', 251),\n ('Th', 251),\n ('various', 250),\n ('While', 249),\n ('personal', 249),\n ('yet', 248),\n ('makes', 247),\n ('always', 247),\n ('city', 247),\n ('From', 245),\n ('Latin', 245),\n ('So', 243),\n ('History', 242),\n ('position', 240),\n ('Gal', 240),\n ('mind', 239),\n ('similar', 237),\n ('written', 237),\n ('moral', 236),\n ('covenant', 236),\n ('course', 234),\n ('few', 234),\n ('living', 233),\n ('However', 232),\n ('movement', 232),\n ('woman', 229),\n ('children', 229),\n ('priest', 229),\n ('gave', 228),\n ('ways', 227),\n ('identity', 227),\n ('family', 227),\n ('went', 226),\n ('toward', 225),\n ('modern', 225),\n ('argument', 225),\n ('discussion', 224),\n ('kind', 224),\n ('authorities', 223),\n ('old', 221),\n ('ad', 221),\n ('term', 221),\n ('African', 221),\n ('perhaps', 220),\n ('London', 219),\n ('De', 219),\n ('once', 218),\n ('times', 218),\n ('fi', 218),\n ('Abraham', 218),\n ('ins', 218),\n ('go', 217),\n ('Rome', 217),\n ('According', 216),\n ('public', 216),\n ('right', 216),\n ('image', 215),\n ('act', 215),\n ('Scripture', 215),\n ('understood', 214),\n ('last', 214),\n ('pages', 214),\n ('reference', 213),\n ('evidence', 213),\n ('ancient', 212),\n ('saw', 211),\n ('evil', 211),\n ('put', 211),\n ('Theology', 211),\n ('reality', 209),\n ('und', 209),\n ('Saint', 209),\n ('land', 208),\n ('basis', 207),\n ('passage', 207),\n ('Apostle', 207),\n ('David', 207),\n ('group', 207),\n ('call', 206),\n ('based', 206),\n ('including', 206),\n ('live', 205),\n ('left', 205),\n ('period', 205),\n ('think', 205),\n ('Although', 205),\n ('How', 205),\n ('year', 205),\n ('hope', 204),\n ('problem', 204),\n ('Hebrews', 204),\n ('Moses', 204),\n ('baptism', 203),\n ('comes', 203),\n ('began', 203),\n ('matter', 202),\n ('although', 202),\n ('understand', 202),\n ('translation', 202),\n ('Hebrew', 202),\n ('revelation', 201),\n ('best', 201),\n ('received', 201),\n ('scholars', 201),\n ('society', 201),\n ('possible', 200),\n ('father', 199),\n ('cross', 199),\n ('nothing', 199),\n ('Journal', 199),\n ('almost', 199),\n ('ministry', 199),\n ('communion', 198),\n ('friend', 197),\n ('contemporary', 197),\n ('leaders', 197),\n ('Ibid', 196),\n ('Gentiles', 196),\n ('why', 195),\n ('commentary', 194),\n ('sources', 194),\n ('local', 194),\n ('communities', 194),\n ('support', 192),\n ('teaching', 191),\n ('believers', 191),\n ('story', 191),\n ('late', 191),\n ('mission', 191),\n ('worship', 191),\n ('having', 190),\n ('wrote', 190),\n ('third', 189),\n ('free', 189),\n ('help', 189),\n ('let', 189),\n ('four', 189),\n ('full', 189),\n ('situation', 188),\n ('earlier', 188),\n ('Studies', 188),\n ('status', 188),\n ('traditions', 187),\n ('doctrine', 187),\n ('particularly', 187),\n ('done', 186),\n ('earth', 186),\n ('traditional', 186),\n ('angels', 186),\n ('creation', 185),\n ('beyond', 185),\n ('kingdom', 185),\n ('considered', 185),\n ('states', 185),\n ('held', 185),\n ('clearly', 184),\n ('action', 184),\n ('relation', 183),\n ('simply', 183),\n ('private', 183),\n ('After', 183),\n ('trans', 182),\n ('First', 182),\n ('freedom', 182),\n ('attention', 182),\n ('tion', 181),\n ('ideas', 181),\n ('gives', 181),\n ('blood', 181),\n ('Philemon', 181),\n ('brother', 181),\n ('days', 181),\n ('white', 181),\n ('able', 180),\n ('house', 180),\n ('HTBP', 180),\n ('turn', 179),\n ('either', 179),\n ('necessary', 179),\n ('brought', 178),\n ('Books', 178),\n ('die', 177),\n ('forms', 175),\n ('alone', 175),\n ('Luther', 175),\n ('heaven', 175),\n ('argues', 175),\n ('son', 174),\n ('appears', 174),\n ('doing', 174),\n ('Thomas', 174),\n ('presence', 173),\n ('told', 173),\n ('beginning', 172),\n ('theory', 172),\n ('lives', 172),\n ('vol', 172),\n ('led', 171),\n ('conversion', 171),\n ('slaves', 171),\n ('influence', 171),\n ('material', 170),\n ('Oxford', 170),\n ('literature', 170),\n ('eg', 170),\n ('belief', 169),\n ('ever', 169),\n ('friends', 169),\n ('individual', 169),\n ('subject', 168),\n ('slave', 168),\n ('age', 167),\n ('vision', 167),\n ('around', 167),\n ('Some', 167),\n ('Bonaventure', 167),\n ('Yet', 166),\n ('She', 166),\n ('leadership', 166),\n ('Galatians', 165),\n ('established', 165),\n ('Book', 165),\n ('clergy', 165),\n ('wisdom', 165),\n ('Augustine', 165),\n ('process', 164),\n ('Therefore', 164),\n ('AND', 164),\n ('outside', 163),\n ('refers', 163),\n ('close', 163),\n ('Biblical', 163),\n ('groups', 163),\n ('asked', 162),\n ('side', 162),\n ('published', 162),\n ('high', 162),\n ('Africa', 162),\n ('believe', 161),\n ('collection', 161),\n ('volume', 161),\n ('writing', 161),\n ('faithful', 161),\n ('culture', 160),\n ('approach', 160),\n ('indeed', 160),\n ('World', 160),\n ('confession', 160),\n ('questions', 159),\n ('better', 159),\n ('article', 159),\n ('peace', 159),\n ('contrast', 159),\n ('longer', 159),\n ('return', 159),\n ('described', 159),\n ('chapters', 158),\n ('sent', 158),\n ('Zoroastrian', 158),\n ('final', 157),\n ('speak', 156),\n ('religions', 156),\n ('Society', 156),\n ('All', 156),\n ('throughout', 156),\n ('claim', 156),\n ('humanity', 156),\n ('perspective', 156),\n ('play', 156),\n ('mentioned', 155),\n ('apostle', 155),\n ('With', 155),\n ('suggests', 155),\n ('England', 155),\n ('head', 155),\n ('remained', 155),\n ('verse', 155),\n ('system', 155),\n ('Grand', 155),\n ('points', 154),\n ('instance', 154),\n ('latter', 154),\n ('rule', 154),\n ('Colossians', 154),\n ('friendship', 154),\n ('William', 154),\n ('character', 153),\n ('America', 153),\n ('la', 153),\n ('source', 153),\n ('Is', 153),\n ('Gentile', 153),\n ('sins', 152),\n ('resurrection', 152),\n ('Here', 152),\n ('Religious', 152),\n ('Early', 152),\n ('charity', 152),\n ('follow', 152),\n ('books', 151),\n ('saints', 151),\n ('country', 151),\n ('justice', 151),\n ('passages', 151),\n ('authors', 151),\n ('want', 150),\n ('ie', 150),\n ('des', 150),\n ('natural', 150),\n ('actions', 150),\n ('followed', 149),\n ('writings', 149),\n ('practices', 149),\n ('model', 149),\n ('sometimes', 149),\n ('Europe', 149),\n ('est', 149),\n ('regard', 148),\n ('receive', 148),\n ('interest', 148),\n ('issue', 148),\n ('young', 147),\n ('existence', 147),\n ('Reformation', 147),\n ('der', 147),\n ('show', 147),\n ('cultural', 147),\n ('probably', 147),\n ('mean', 146),\n ('believed', 146),\n ('persons', 146),\n ('sacred', 146),\n ('neither', 146),\n ('rest', 146),\n ('response', 146),\n ('disciples', 146),\n ('Christology', 146),\n ('followers', 145),\n ('provided', 145),\n ('recent', 145),\n ('note', 145),\n ('sons', 145),\n ('nations', 145),\n ('face', 144),\n ('quite', 144),\n ('heard', 144),\n ('section', 144),\n ('structure', 143),\n ('eschatological', 143),\n ('thing', 143),\n ('key', 143),\n ('noted', 143),\n ('making', 142),\n ('lived', 142),\n ('difficult', 142),\n ('food', 142),\n ('appear', 141),\n ('glory', 141),\n ('Matthew', 141),\n ('flesh', 140),\n ('emphasis', 140),\n ('message', 140),\n ('popular', 140),\n ('East', 140),\n ('phrase', 140),\n ('eyes', 140),\n ('Richard', 140),\n ('claims', 140),\n ('Bonaventures', 140),\n ('generally', 139),\n ('judgment', 139),\n ('preaching', 139),\n ('strong', 139),\n ('event', 139),\n ('Even', 139),\n ('You', 139),\n ('hands', 139),\n ('powers', 138),\n ('along', 138),\n ('expression', 138),\n ('unity', 138),\n ('relations', 138),\n ('No', 138),\n ('narrative', 138),\n ('Rapids', 138),\n ('concept', 137),\n ('saying', 137),\n ('becomes', 137),\n ('brothers', 137),\n ('Daniel', 137),\n ('Now', 137),\n ('Body', 137),\n ('cause', 137),\n ('central', 136),\n ('purpose', 136),\n ('home', 136),\n ('offer', 136),\n ('Mark', 136),\n ('introduction', 136),\n ('obedience', 136),\n ('next', 136),\n ('Lk', 136),\n ('Second', 136),\n ('Patrick', 136),\n ('significant', 135),\n ('developed', 135),\n ('ing', 135),\n ('coming', 135),\n ('centuries', 135),\n ('offered', 135),\n ('Commentary', 135),\n ('former', 134),\n ('original', 134),\n ('shows', 134),\n ('certainly', 134),\n ('force', 134),\n ('off', 134),\n ('institutions', 134),\n ('healing', 134),\n ('soon', 133),\n ('greater', 133),\n ('care', 133),\n ('Then', 133),\n ('priests', 133),\n ('water', 133),\n ('speaks', 132),\n ('bring', 132),\n ('town', 132),\n ('future', 131),\n ('statement', 131),\n ('continued', 131),\n ('development', 131),\n ('lay', 131),\n ('eds', 131),\n ('Pentecostal', 131),\n ('sought', 130),\n ('mystery', 130),\n ('Anna', 130),\n ('takes', 130),\n ('revealed', 130),\n ('en', 130),\n ('related', 129),\n ('liturgy', 129),\n ('readers', 129),\n ('issues', 129),\n ('small', 129),\n ('large', 128),\n ('beings', 128),\n ('Russian', 128),\n ('Great', 128),\n ('served', 128),\n ('Pp', 128),\n ('IN', 128),\n ('gift', 127),\n ('apocalyptic', 127),\n ('suffering', 127),\n ('Bernard', 127),\n ('figure', 126),\n ('Such', 126),\n ('included', 126),\n ('missionary', 126),\n ('king', 126),\n ('Its', 126),\n ('result', 126),\n ('wife', 126),\n ('events', 125),\n ('Faith', 125),\n ('specific', 125),\n ('Martin', 125),\n ('version', 125),\n ('speaking', 125),\n ('bishop', 125),\n ('Catholics', 125),\n ('prayers', 125),\n ('provide', 125),\n ('Literature', 125),\n ('Their', 124),\n ('Western', 124),\n ('ritual', 124),\n ('uses', 124),\n ('places', 124),\n ('black', 124),\n ('laws', 123),\n ('mercy', 123),\n ('real', 123),\n ('keep', 123),\n ('really', 123),\n ('change', 123),\n ('respect', 123),\n ('marriage', 123),\n ('justification', 122),\n ('lead', 122),\n ('today', 122),\n ('theme', 122),\n ('Dei', 122),\n ('war', 122),\n ('calls', 122),\n ('manner', 122),\n ('offers', 122),\n ('exegesis', 122),\n ('created', 122),\n ('Lords', 122),\n ('dead', 121),\n ('connection', 121),\n ('likely', 121),\n ('special', 121),\n ('My', 121),\n ('fellow', 121),\n ('died', 121),\n ('unto', 121),\n ('services', 121),\n ('HBP', 121),\n ('instead', 120),\n ('con', 120),\n ('main', 120),\n ('reader', 120),\n ('appeared', 119),\n ('Part', 119),\n ('evangelical', 119),\n ('analysis', 119),\n ('major', 119),\n ('follows', 119),\n ('NT', 119),\n ('get', 119),\n ('th', 118),\n ('title', 118),\n ('effect', 118),\n ('ask', 118),\n ('Jew', 118),\n ('concern', 118),\n ('views', 118),\n ('participation', 118),\n ('South', 118),\n ('literary', 118),\n ('desire', 118),\n ('suggest', 118),\n ('West', 117),\n ('towards', 117),\n ('studies', 117),\n ('share', 117),\n ('III', 117),\n ('Word', 117),\n ('open', 117),\n ('ST', 117),\n ('parts', 116),\n ('placed', 116),\n ('Study', 116),\n ('gifts', 116),\n ('bread', 116),\n ('prophets', 116),\n ('value', 115),\n ('criticism', 115),\n ('activity', 115),\n ('righteous', 115),\n ('Orthodox', 115),\n ('Joseph', 115),\n ('acts', 115),\n ('prophet', 115),\n ('honor', 115),\n ('debate', 115),\n ('giving', 114),\n ('Lutheran', 114),\n ('knew', 114),\n ('images', 114),\n ('focus', 114),\n ('doubt', 114),\n ('Social', 114),\n ('frequently', 114),\n ('Introduction', 114),\n ('lost', 113),\n ('scripture', 113),\n ('fear', 113),\n ('Col', 113),\n ('economic', 113),\n ('monastery', 112),\n ('presented', 112),\n ('struggle', 112),\n ('notes', 112),\n ('principle', 112),\n ('past', 112),\n ('felt', 112),\n ('Passover', 112),\n ('problems', 111),\n ('expressed', 111),\n ('learned', 111),\n ('single', 111),\n ('eternal', 111),\n ('concerning', 111),\n ('short', 111),\n ('apostles', 111),\n ('kings', 111),\n ('actually', 110),\n ('content', 110),\n ('significance', 110),\n ('enemies', 110),\n ('Charles', 110),\n ('leading', 110),\n ('involved', 110),\n ('etc', 110),\n ('re', 109),\n ('include', 109),\n ('State', 109),\n ('description', 109),\n ('shared', 109),\n ('Life', 108),\n ('heavenly', 108),\n ('liturgical', 108),\n ('European', 108),\n ('Mass', 108),\n ('seek', 108),\n ('voice', 108),\n ('Noah', 108),\n ('notion', 107),\n ('Gospels', 107),\n ('fully', 107),\n ('witness', 107),\n ('Paris', 107)]"
     },
     "execution_count": 109,
     "metadata": {},
     "output_type": "execute_result"
    }
   ],
   "source": [
    "# check how raw unigrams look like\n",
    "data_unigrams_sorted = sorted(data_unigrams.items(), key=lambda kv: kv[1], reverse=True)\n",
    "data_unigrams_sorted[:1000]"
   ],
   "metadata": {
    "collapsed": false
   }
  },
  {
   "cell_type": "code",
   "execution_count": 110,
   "outputs": [
    {
     "data": {
      "text/plain": "[('the', 64204),\n ('of', 43727),\n ('and', 29112),\n ('to', 24051),\n ('in', 23227),\n ('is', 11614),\n ('that', 11283),\n ('as', 8204),\n ('The', 6860),\n ('for', 6850),\n ('his', 6283),\n ('with', 6121),\n ('was', 5995),\n ('he', 5314),\n ('by', 5164),\n ('not', 5095),\n ('on', 4746),\n ('from', 4525),\n ('it', 4500),\n ('this', 4388),\n ('be', 4355),\n ('or', 3657),\n ('which', 3568),\n ('are', 3401),\n ('an', 3185),\n ('their', 3085),\n ('who', 3080),\n ('God', 3032),\n ('have', 2951),\n ('but', 2774),\n ('at', 2649),\n ('Paul', 2601),\n ('were', 2543),\n ('they', 2531),\n ('In', 2524),\n ('had', 2435),\n ('one', 2336),\n ('all', 2258),\n ('has', 2093),\n ('him', 1966),\n ('we', 1966),\n ('Christ', 1886),\n ('also', 1854),\n ('its', 1685),\n ('them', 1600),\n ('Christian', 1594),\n ('more', 1579),\n ('Jesus', 1546),\n ('would', 1496),\n ('what', 1489),\n ('you', 1474),\n ('This', 1472),\n ('been', 1441),\n ('will', 1439),\n ('other', 1423),\n ('into', 1356),\n ('only', 1342),\n ('It', 1324),\n ('so', 1322),\n ('no', 1299),\n ('about', 1293),\n ('He', 1288),\n ('life', 1260),\n ('these', 1253),\n ('New', 1197),\n ('there', 1196),\n ('when', 1170),\n ('than', 1166),\n ('some', 1115),\n ('through', 1086),\n ('between', 1079),\n ('such', 1075),\n ('those', 1072),\n ('do', 1066),\n ('can', 1055),\n ('see', 1049),\n ('church', 1034),\n ('our', 1032),\n ('my', 1020),\n ('people', 1013),\n ('her', 997),\n ('For', 996),\n ('first', 990),\n ('own', 922),\n ('Pauls', 919),\n ('us', 910),\n ('even', 908),\n ('two', 905),\n ('could', 903),\n ('faith', 899),\n ('out', 898),\n ('Church', 897),\n ('may', 884),\n ('if', 882),\n ('does', 881),\n ('religious', 875),\n ('See', 869),\n ('me', 869),\n ('world', 861),\n ('most', 856),\n ('time', 853),\n ('way', 846),\n ('Jewish', 840),\n ('But', 833),\n ('man', 821),\n ('both', 807),\n ('many', 804),\n ('because', 803),\n ('Christians', 802),\n ('And', 801),\n ('love', 800),\n ('work', 797),\n ('Gods', 778),\n ('new', 772),\n ('did', 757),\n ('Spirit', 740),\n ('should', 738),\n ('how', 735),\n ('where', 735),\n ('being', 716),\n ('same', 706),\n ('John', 695),\n ('human', 689),\n ('any', 683),\n ('well', 680),\n ('himself', 679),\n ('Press', 677),\n ('social', 675),\n ('then', 673),\n ('de', 664),\n ('up', 655),\n ('upon', 654),\n ('made', 642),\n ('University', 642),\n ('like', 641),\n ('As', 641),\n ('before', 640),\n ('after', 640),\n ('over', 634),\n ('Testament', 633),\n ('said', 624),\n ('against', 623),\n ('et', 621),\n ('must', 613),\n ('part', 596),\n ('good', 592),\n ('Lord', 586),\n ('among', 585),\n ('century', 583),\n ('she', 580),\n ('order', 577),\n ('Jews', 576),\n ('law', 575),\n ('very', 568),\n ('here', 566),\n ('much', 557),\n ('power', 556),\n ('your', 556),\n ('community', 552),\n ('Catholic', 548),\n ('HB', 541),\n ('death', 535),\n ('text', 535),\n ('Christianity', 532),\n ('while', 530),\n ('early', 530),\n ('now', 516),\n ('On', 506),\n ('men', 505),\n ('rather', 502),\n ('found', 499),\n ('words', 496),\n ('called', 483),\n ('however', 482),\n ('without', 479),\n ('might', 475),\n ('ed', 474),\n ('three', 470),\n ('history', 465),\n ('place', 464),\n ('They', 460),\n ('THE', 459),\n ('book', 459),\n ('say', 455),\n ('others', 455),\n ('Greek', 454),\n ('under', 453),\n ('spiritual', 453),\n ('churches', 452),\n ('reading', 450),\n ('divine', 450),\n ('use', 449),\n ('word', 445),\n ('within', 443),\n ('Cf', 436),\n ('pp', 436),\n ('Cor', 436),\n ('another', 434),\n ('thought', 432),\n ('whom', 432),\n ('make', 425),\n ('His', 423),\n ('Father', 423),\n ('sense', 420),\n ('great', 417),\n ('Bible', 416),\n ('Judaism', 416),\n ('Law', 414),\n ('salvation', 412),\n ('fact', 411),\n ('nature', 410),\n ('If', 409),\n ('religion', 409),\n ('means', 409),\n ('Cambridge', 409),\n ('Romans', 408),\n ('tradition', 407),\n ('Gospel', 407),\n ('view', 407),\n ('Corinthians', 404),\n ('example', 403),\n ('There', 401),\n ('come', 400),\n ('says', 399),\n ('each', 399),\n ('Roman', 399),\n ('later', 399),\n ('Holy', 398),\n ('given', 396),\n ('years', 396),\n ('om', 396),\n ('Luke', 395),\n ('itself', 394),\n ('point', 394),\n ('day', 394),\n ('letter', 392),\n ('different', 390),\n ('form', 389),\n ('understanding', 388),\n ('St', 388),\n ('women', 387),\n ('know', 386),\n ('spirit', 384),\n ('came', 384),\n ('authority', 384),\n ('We', 383),\n ('works', 381),\n ('often', 381),\n ('become', 379),\n ('themselves', 378),\n ('theology', 376),\n ('things', 373),\n ('question', 372),\n ('Israel', 371),\n ('What', 370),\n ('end', 368),\n ('person', 367),\n ('York', 367),\n ('Rom', 363),\n ('poor', 363),\n ('just', 358),\n ('became', 356),\n ('meaning', 355),\n ('theological', 354),\n ('used', 353),\n ('though', 350),\n ('holy', 348),\n ('Acts', 347),\n ('second', 344),\n ('experience', 343),\n ('important', 343),\n ('context', 343),\n ('grace', 342),\n ('present', 340),\n ('still', 339),\n ('according', 338),\n ('sin', 336),\n ('practice', 335),\n ('American', 333),\n ('To', 332),\n ('too', 331),\n ('cf', 329),\n ('When', 329),\n ('Christs', 327),\n ('general', 327),\n ('interpretation', 325),\n ('English', 324),\n ('gospel', 324),\n ('Jerusalem', 323),\n ('language', 323),\n ('One', 321),\n ('Thus', 320),\n ('case', 319),\n ('OF', 317),\n ('certain', 316),\n ('name', 315),\n ('especially', 315),\n ('righteousness', 313),\n ('political', 313),\n ('study', 312),\n ('give', 312),\n ('true', 311),\n ('texts', 309),\n ('together', 309),\n ('biblical', 309),\n ('whole', 308),\n ('take', 307),\n ('whose', 307),\n ('state', 306),\n ('II', 305),\n ('since', 305),\n ('find', 305),\n ('light', 304),\n ('historical', 303),\n ('By', 303),\n ('during', 303),\n ('every', 302),\n ('whether', 301),\n ('seen', 301),\n ('particular', 296),\n ('clear', 295),\n ('read', 295),\n ('common', 293),\n ('down', 292),\n ('following', 291),\n ('body', 291),\n ('Peter', 291),\n ('therefore', 290),\n ('above', 290),\n ('ones', 289),\n ('least', 288),\n ('hand', 287),\n ('shall', 286),\n ('terms', 285),\n ('account', 284),\n ('relationship', 283),\n ('am', 282),\n ('These', 281),\n ('role', 281),\n ('away', 279),\n ('members', 278),\n ('never', 276),\n ('That', 276),\n ('thus', 275),\n ('little', 274),\n ('author', 273),\n ('set', 272),\n ('At', 272),\n ('again', 271),\n ('cannot', 271),\n ('heart', 270),\n ('known', 269),\n ('knowledge', 269),\n ('idea', 267),\n ('reason', 267),\n ('until', 266),\n ('Old', 266),\n ('truth', 265),\n ('Religion', 265),\n ('letters', 264),\n ('long', 264),\n ('need', 263),\n ('Emerson', 262),\n ('Protestant', 261),\n ('far', 261),\n ('seems', 261),\n ('further', 261),\n ('number', 261),\n ('nor', 260),\n ('prayer', 260),\n ('back', 259),\n ('taken', 258),\n ('Pauline', 257),\n ('less', 256),\n ('took', 255),\n ('Son', 255),\n ('several', 255),\n ('James', 255),\n ('something', 253),\n ('soul', 253),\n ('chapter', 253),\n ('service', 252),\n ('already', 251),\n ('An', 251),\n ('Th', 251),\n ('various', 250),\n ('While', 249),\n ('personal', 249),\n ('yet', 248),\n ('makes', 247),\n ('always', 247),\n ('city', 247),\n ('From', 245),\n ('Latin', 245),\n ('So', 243),\n ('History', 242),\n ('position', 240),\n ('Gal', 240),\n ('mind', 239),\n ('similar', 237),\n ('written', 237),\n ('moral', 236),\n ('covenant', 236),\n ('course', 234),\n ('few', 234),\n ('living', 233),\n ('However', 232),\n ('movement', 232),\n ('woman', 229),\n ('children', 229),\n ('priest', 229),\n ('gave', 228),\n ('ways', 227),\n ('identity', 227),\n ('family', 227),\n ('went', 226),\n ('toward', 225),\n ('modern', 225),\n ('argument', 225),\n ('discussion', 224),\n ('kind', 224),\n ('authorities', 223),\n ('old', 221),\n ('ad', 221),\n ('term', 221),\n ('African', 221),\n ('perhaps', 220),\n ('London', 219),\n ('De', 219),\n ('once', 218),\n ('times', 218),\n ('fi', 218),\n ('Abraham', 218),\n ('ins', 218),\n ('go', 217),\n ('Rome', 217),\n ('According', 216),\n ('public', 216),\n ('right', 216),\n ('image', 215),\n ('act', 215),\n ('Scripture', 215),\n ('understood', 214),\n ('last', 214),\n ('pages', 214),\n ('reference', 213),\n ('evidence', 213),\n ('ancient', 212),\n ('saw', 211),\n ('evil', 211),\n ('put', 211),\n ('Theology', 211),\n ('reality', 209),\n ('und', 209),\n ('Saint', 209),\n ('land', 208),\n ('basis', 207),\n ('passage', 207),\n ('Apostle', 207),\n ('David', 207),\n ('group', 207),\n ('call', 206),\n ('based', 206),\n ('including', 206),\n ('live', 205),\n ('left', 205),\n ('period', 205),\n ('think', 205),\n ('Although', 205),\n ('How', 205),\n ('year', 205),\n ('hope', 204),\n ('problem', 204),\n ('Hebrews', 204),\n ('Moses', 204),\n ('baptism', 203),\n ('comes', 203),\n ('began', 203),\n ('matter', 202),\n ('although', 202),\n ('understand', 202),\n ('translation', 202),\n ('Hebrew', 202),\n ('revelation', 201),\n ('best', 201),\n ('received', 201),\n ('scholars', 201),\n ('society', 201),\n ('possible', 200),\n ('father', 199),\n ('cross', 199),\n ('nothing', 199),\n ('Journal', 199),\n ('almost', 199),\n ('ministry', 199),\n ('communion', 198),\n ('friend', 197),\n ('contemporary', 197),\n ('leaders', 197),\n ('Ibid', 196),\n ('Gentiles', 196),\n ('why', 195),\n ('commentary', 194),\n ('sources', 194),\n ('local', 194),\n ('communities', 194),\n ('support', 192),\n ('teaching', 191),\n ('believers', 191),\n ('story', 191),\n ('late', 191),\n ('mission', 191),\n ('worship', 191),\n ('having', 190),\n ('wrote', 190),\n ('third', 189),\n ('free', 189),\n ('help', 189),\n ('let', 189),\n ('four', 189),\n ('full', 189),\n ('situation', 188),\n ('earlier', 188),\n ('Studies', 188),\n ('status', 188),\n ('traditions', 187),\n ('doctrine', 187),\n ('particularly', 187),\n ('done', 186),\n ('earth', 186),\n ('traditional', 186),\n ('angels', 186),\n ('creation', 185),\n ('beyond', 185),\n ('kingdom', 185),\n ('considered', 185),\n ('states', 185),\n ('held', 185),\n ('clearly', 184),\n ('action', 184),\n ('relation', 183),\n ('simply', 183),\n ('private', 183),\n ('After', 183),\n ('trans', 182),\n ('First', 182),\n ('freedom', 182),\n ('attention', 182),\n ('tion', 181),\n ('ideas', 181),\n ('gives', 181),\n ('blood', 181),\n ('Philemon', 181),\n ('brother', 181),\n ('days', 181),\n ('white', 181),\n ('able', 180),\n ('house', 180),\n ('HTBP', 180),\n ('turn', 179),\n ('either', 179),\n ('necessary', 179),\n ('brought', 178),\n ('Books', 178),\n ('die', 177),\n ('forms', 175),\n ('alone', 175),\n ('Luther', 175),\n ('heaven', 175),\n ('argues', 175),\n ('son', 174),\n ('appears', 174),\n ('doing', 174),\n ('Thomas', 174),\n ('presence', 173),\n ('told', 173),\n ('beginning', 172),\n ('theory', 172),\n ('lives', 172),\n ('vol', 172),\n ('led', 171),\n ('conversion', 171),\n ('slaves', 171),\n ('influence', 171),\n ('material', 170),\n ('Oxford', 170),\n ('literature', 170),\n ('eg', 170),\n ('belief', 169),\n ('ever', 169),\n ('friends', 169),\n ('individual', 169),\n ('subject', 168),\n ('slave', 168),\n ('age', 167),\n ('vision', 167),\n ('around', 167),\n ('Some', 167),\n ('Bonaventure', 167),\n ('Yet', 166),\n ('She', 166),\n ('leadership', 166),\n ('Galatians', 165),\n ('established', 165),\n ('Book', 165),\n ('clergy', 165),\n ('wisdom', 165),\n ('Augustine', 165),\n ('process', 164),\n ('Therefore', 164),\n ('AND', 164),\n ('outside', 163),\n ('refers', 163),\n ('close', 163),\n ('Biblical', 163),\n ('groups', 163),\n ('asked', 162),\n ('side', 162),\n ('published', 162),\n ('high', 162),\n ('Africa', 162),\n ('believe', 161),\n ('collection', 161),\n ('volume', 161),\n ('writing', 161),\n ('faithful', 161),\n ('culture', 160),\n ('approach', 160),\n ('indeed', 160),\n ('World', 160),\n ('confession', 160),\n ('questions', 159),\n ('better', 159),\n ('article', 159),\n ('peace', 159),\n ('contrast', 159),\n ('longer', 159),\n ('return', 159),\n ('described', 159),\n ('chapters', 158),\n ('sent', 158),\n ('Zoroastrian', 158),\n ('final', 157),\n ('speak', 156),\n ('religions', 156),\n ('Society', 156),\n ('All', 156),\n ('throughout', 156),\n ('claim', 156),\n ('humanity', 156),\n ('perspective', 156),\n ('play', 156),\n ('mentioned', 155),\n ('apostle', 155),\n ('With', 155),\n ('suggests', 155),\n ('England', 155),\n ('head', 155),\n ('remained', 155),\n ('verse', 155),\n ('system', 155),\n ('Grand', 155),\n ('points', 154),\n ('instance', 154),\n ('latter', 154),\n ('rule', 154),\n ('Colossians', 154),\n ('friendship', 154),\n ('William', 154),\n ('character', 153),\n ('America', 153),\n ('la', 153),\n ('source', 153),\n ('Is', 153),\n ('Gentile', 153),\n ('sins', 152),\n ('resurrection', 152),\n ('Here', 152),\n ('Religious', 152),\n ('Early', 152),\n ('charity', 152),\n ('follow', 152),\n ('books', 151),\n ('saints', 151),\n ('country', 151),\n ('justice', 151),\n ('passages', 151),\n ('authors', 151),\n ('want', 150),\n ('ie', 150),\n ('des', 150),\n ('natural', 150),\n ('actions', 150),\n ('followed', 149),\n ('writings', 149),\n ('practices', 149),\n ('model', 149),\n ('sometimes', 149),\n ('Europe', 149),\n ('est', 149),\n ('regard', 148),\n ('receive', 148),\n ('interest', 148),\n ('issue', 148),\n ('young', 147),\n ('existence', 147),\n ('Reformation', 147),\n ('der', 147),\n ('show', 147),\n ('cultural', 147),\n ('probably', 147),\n ('mean', 146),\n ('believed', 146),\n ('persons', 146),\n ('sacred', 146),\n ('neither', 146),\n ('rest', 146),\n ('response', 146),\n ('disciples', 146),\n ('Christology', 146),\n ('followers', 145),\n ('provided', 145),\n ('recent', 145),\n ('note', 145),\n ('sons', 145),\n ('nations', 145),\n ('face', 144),\n ('quite', 144),\n ('heard', 144),\n ('section', 144),\n ('structure', 143),\n ('eschatological', 143),\n ('thing', 143),\n ('key', 143),\n ('noted', 143),\n ('making', 142),\n ('lived', 142),\n ('difficult', 142),\n ('food', 142),\n ('appear', 141),\n ('glory', 141),\n ('Matthew', 141),\n ('flesh', 140),\n ('emphasis', 140),\n ('message', 140),\n ('popular', 140),\n ('East', 140),\n ('phrase', 140),\n ('eyes', 140),\n ('Richard', 140),\n ('claims', 140),\n ('Bonaventures', 140),\n ('generally', 139),\n ('judgment', 139),\n ('preaching', 139),\n ('strong', 139),\n ('event', 139),\n ('Even', 139),\n ('You', 139),\n ('hands', 139),\n ('powers', 138),\n ('along', 138),\n ('expression', 138),\n ('unity', 138),\n ('relations', 138),\n ('No', 138),\n ('narrative', 138),\n ('Rapids', 138),\n ('concept', 137),\n ('saying', 137),\n ('becomes', 137),\n ('brothers', 137),\n ('Daniel', 137),\n ('Now', 137),\n ('Body', 137),\n ('cause', 137),\n ('central', 136),\n ('purpose', 136),\n ('home', 136),\n ('offer', 136),\n ('Mark', 136),\n ('introduction', 136),\n ('obedience', 136),\n ('next', 136),\n ('Lk', 136),\n ('Second', 136),\n ('Patrick', 136),\n ('significant', 135),\n ('developed', 135),\n ('ing', 135),\n ('coming', 135),\n ('centuries', 135),\n ('offered', 135),\n ('Commentary', 135),\n ('former', 134),\n ('original', 134),\n ('shows', 134),\n ('certainly', 134),\n ('force', 134),\n ('off', 134),\n ('institutions', 134),\n ('healing', 134),\n ('soon', 133),\n ('greater', 133),\n ('care', 133),\n ('Then', 133),\n ('priests', 133),\n ('water', 133),\n ('speaks', 132),\n ('bring', 132),\n ('town', 132),\n ('future', 131),\n ('statement', 131),\n ('continued', 131),\n ('development', 131),\n ('lay', 131),\n ('eds', 131),\n ('Pentecostal', 131),\n ('sought', 130),\n ('mystery', 130),\n ('Anna', 130),\n ('takes', 130),\n ('revealed', 130),\n ('en', 130),\n ('related', 129),\n ('liturgy', 129),\n ('readers', 129),\n ('issues', 129),\n ('small', 129),\n ('large', 128),\n ('beings', 128),\n ('Russian', 128),\n ('Great', 128),\n ('served', 128),\n ('Pp', 128),\n ('IN', 128),\n ('gift', 127),\n ('apocalyptic', 127),\n ('suffering', 127),\n ('Bernard', 127),\n ('figure', 126),\n ('Such', 126),\n ('included', 126),\n ('missionary', 126),\n ('king', 126),\n ('Its', 126),\n ('result', 126),\n ('wife', 126),\n ('events', 125),\n ('Faith', 125),\n ('specific', 125),\n ('Martin', 125),\n ('version', 125),\n ('speaking', 125),\n ('bishop', 125),\n ('Catholics', 125),\n ('prayers', 125),\n ('provide', 125),\n ('Literature', 125),\n ('Their', 124),\n ('Western', 124),\n ('ritual', 124),\n ('uses', 124),\n ('places', 124),\n ('black', 124),\n ('laws', 123),\n ('mercy', 123),\n ('real', 123),\n ('keep', 123),\n ('really', 123),\n ('change', 123),\n ('respect', 123),\n ('marriage', 123),\n ('justification', 122),\n ('lead', 122),\n ('today', 122),\n ('theme', 122),\n ('Dei', 122),\n ('war', 122),\n ('calls', 122),\n ('manner', 122),\n ('offers', 122),\n ('exegesis', 122),\n ('created', 122),\n ('Lords', 122),\n ('dead', 121),\n ('connection', 121),\n ('likely', 121),\n ('special', 121),\n ('My', 121),\n ('fellow', 121),\n ('died', 121),\n ('unto', 121),\n ('services', 121),\n ('HBP', 121),\n ('instead', 120),\n ('con', 120),\n ('main', 120),\n ('reader', 120),\n ('appeared', 119),\n ('Part', 119),\n ('evangelical', 119),\n ('analysis', 119),\n ('major', 119),\n ('follows', 119),\n ('NT', 119),\n ('get', 119),\n ('th', 118),\n ('title', 118),\n ('effect', 118),\n ('ask', 118),\n ('Jew', 118),\n ('concern', 118),\n ('views', 118),\n ('participation', 118),\n ('South', 118),\n ('literary', 118),\n ('desire', 118),\n ('suggest', 118),\n ('West', 117),\n ('towards', 117),\n ('studies', 117),\n ('share', 117),\n ('III', 117),\n ('Word', 117),\n ('open', 117),\n ('ST', 117),\n ('parts', 116),\n ('placed', 116),\n ('Study', 116),\n ('gifts', 116),\n ('bread', 116),\n ('prophets', 116),\n ('value', 115),\n ('criticism', 115),\n ('activity', 115),\n ('righteous', 115),\n ('Orthodox', 115),\n ('Joseph', 115),\n ('acts', 115),\n ('prophet', 115),\n ('honor', 115),\n ('debate', 115),\n ('giving', 114),\n ('Lutheran', 114),\n ('knew', 114),\n ('images', 114),\n ('focus', 114),\n ('doubt', 114),\n ('Social', 114),\n ('frequently', 114),\n ('Introduction', 114),\n ('lost', 113),\n ('scripture', 113),\n ('fear', 113),\n ('Col', 113),\n ('economic', 113),\n ('monastery', 112),\n ('presented', 112),\n ('struggle', 112),\n ('notes', 112),\n ('principle', 112),\n ('past', 112),\n ('felt', 112),\n ('Passover', 112),\n ('problems', 111),\n ('expressed', 111),\n ('learned', 111),\n ('single', 111),\n ('eternal', 111),\n ('concerning', 111),\n ('short', 111),\n ('apostles', 111),\n ('kings', 111),\n ('actually', 110),\n ('content', 110),\n ('significance', 110),\n ('enemies', 110),\n ('Charles', 110),\n ('leading', 110),\n ('involved', 110),\n ('etc', 110),\n ('re', 109),\n ('include', 109),\n ('State', 109),\n ('description', 109),\n ('shared', 109),\n ('Life', 108),\n ('heavenly', 108),\n ('liturgical', 108),\n ('European', 108),\n ('Mass', 108),\n ('seek', 108),\n ('voice', 108),\n ('Noah', 108),\n ('notion', 107),\n ('Gospels', 107),\n ('fully', 107),\n ('witness', 107),\n ('Paris', 107)]"
     },
     "execution_count": 110,
     "metadata": {},
     "output_type": "execute_result"
    }
   ],
   "source": [
    "data_unigrams_sorted[:1000]"
   ],
   "metadata": {
    "collapsed": false
   }
  },
  {
   "cell_type": "code",
   "execution_count": 111,
   "outputs": [],
   "source": [
    "# how many of the 100 most frequent unigrams are actually not stopwords?\n",
    "#len([el for el in data_unigrams_sorted[:100] if el[0].lower() not in stop_words])"
   ],
   "metadata": {
    "collapsed": false
   }
  },
  {
   "cell_type": "code",
   "execution_count": 113,
   "outputs": [
    {
     "data": {
      "text/plain": "7810"
     },
     "execution_count": 113,
     "metadata": {},
     "output_type": "execute_result"
    }
   ],
   "source": [
    "# what is the number of unigrams appearing more than 10 times?\n",
    "len([el for el in data_unigrams_sorted if el[1] > 10])"
   ],
   "metadata": {
    "collapsed": false
   }
  },
  {
   "cell_type": "code",
   "execution_count": 124,
   "outputs": [],
   "source": [
    "\n",
    "# use spacy to generate \"Doc\" object for ngram\n",
    "# (use carefully, takes some time)\n",
    "tags = [\"NOUN\", \"ADJ\", \"VERB\", \"PROPN\"]\n",
    "def get_lemma_filtered(string):\n",
    "    lemmata = \" \".join([t.lemma for t in nlp_stanza(string).sentences[0].words if t.pos in tags])\n",
    "    return lemmata"
   ],
   "metadata": {
    "collapsed": false
   }
  },
  {
   "cell_type": "code",
   "execution_count": 131,
   "outputs": [],
   "source": [
    "data_unigrams_lemmata = Counter()\n",
    "for el in data_unigrams_sorted:\n",
    "    if el[1] > 10:\n",
    "        lemmata_str = get_lemma_filtered(el[0])\n",
    "        if len(lemmata_str) > 1:\n",
    "            data_unigrams_lemmata.update({lemmata_str : el[1]})"
   ],
   "metadata": {
    "collapsed": false
   }
  },
  {
   "cell_type": "code",
   "execution_count": null,
   "outputs": [],
   "source": [],
   "metadata": {
    "collapsed": false
   }
  },
  {
   "cell_type": "code",
   "execution_count": null,
   "outputs": [],
   "source": [
    "data_unigrams = merge_data_from_ids(all, unigramCount_dict)\n",
    "len(data_unigrams)"
   ],
   "metadata": {
    "collapsed": false
   }
  },
  {
   "cell_type": "code",
   "execution_count": null,
   "outputs": [],
   "source": [
    "# check how raw unigrams look like\n",
    "data_unigrams_sorted = sorted(data_unigrams.items(), key=lambda kv: kv[1], reverse=True)\n",
    "data_unigrams_sorted[:1000]\n"
   ],
   "metadata": {
    "collapsed": false
   }
  },
  {
   "cell_type": "code",
   "execution_count": null,
   "outputs": [],
   "source": [],
   "metadata": {
    "collapsed": false
   }
  },
  {
   "cell_type": "code",
   "execution_count": null,
   "outputs": [],
   "source": [],
   "metadata": {
    "collapsed": false
   }
  },
  {
   "cell_type": "code",
   "execution_count": null,
   "outputs": [],
   "source": [],
   "metadata": {
    "collapsed": false
   }
  },
  {
   "cell_type": "code",
   "execution_count": null,
   "outputs": [],
   "source": [
    "[(el[0], {\"doc\" : get_lemma_filtered(el[0]), \"count\" : el[1]}) for el in data_unigrams_sorted if el[1] > 1000]"
   ],
   "metadata": {
    "collapsed": false
   }
  },
  {
   "cell_type": "code",
   "execution_count": 34,
   "outputs": [
    {
     "name": "stdout",
     "output_type": "stream",
     "text": [
      "CPU times: user 1min 12s, sys: 7.5 s, total: 1min 20s\n",
      "Wall time: 1min 21s\n"
     ]
    }
   ],
   "source": [
    "\n",
    "data_unigrams_sorted_nlp = [(el[0], {\"doc\" : get_lemma_filtered(el[0]), \"count\" : el[1]}) for el in data_unigrams_sorted if el[1] > 1000]\n",
    "\n",
    "#data_unigrams_sorted_nlp = [(el[0], {\"doc\" : nlp_stanza(el[0]), \"count\" : el[1]}) for el in data_unigrams_sorted if el[1] > 1000]"
   ],
   "metadata": {
    "collapsed": false
   }
  },
  {
   "cell_type": "code",
   "execution_count": 38,
   "outputs": [
    {
     "data": {
      "text/plain": "('G.',\n {'doc': [\n    [\n      {\n        \"id\": 1,\n        \"text\": \"G.\",\n        \"lemma\": \"G.\",\n        \"upos\": \"X\",\n        \"xpos\": \"ADD\",\n        \"head\": 0,\n        \"deprel\": \"root\",\n        \"start_char\": 0,\n        \"end_char\": 2,\n        \"ner\": \"O\",\n        \"multi_ner\": [\n          \"O\"\n        ]\n      }\n    ]\n  ],\n  'count': 1856})"
     },
     "execution_count": 38,
     "metadata": {},
     "output_type": "execute_result"
    }
   ],
   "source": [
    "data_unigrams_sorted_nlp[501]"
   ],
   "metadata": {
    "collapsed": false
   }
  },
  {
   "cell_type": "code",
   "execution_count": 15,
   "outputs": [
    {
     "data": {
      "text/plain": "[('the', {'doc': the, 'count': 3333595}),\n ('of', {'doc': of, 'count': 2261372}),\n ('and', {'doc': and, 'count': 1459413}),\n ('to', {'doc': to, 'count': 1228717}),\n ('in', {'doc': in, 'count': 1151878})]"
     },
     "execution_count": 15,
     "metadata": {},
     "output_type": "execute_result"
    }
   ],
   "source": [
    "data_unigrams_sorted_nlp[:5]"
   ],
   "metadata": {
    "collapsed": false
   }
  },
  {
   "cell_type": "code",
   "execution_count": 16,
   "outputs": [],
   "source": [
    "data_unigrams_nlp_dict = dict(data_unigrams_sorted_nlp)"
   ],
   "metadata": {
    "collapsed": false
   }
  },
  {
   "cell_type": "code",
   "execution_count": 17,
   "outputs": [],
   "source": [
    "# save for future usage\n",
    "with open(\"../data/large_files/data_unigrams_nlp_dict.pickle\", \"wb\") as f:\n",
    "    pickle.dump(data_unigrams_nlp_dict, f)"
   ],
   "metadata": {
    "collapsed": false
   }
  },
  {
   "cell_type": "code",
   "execution_count": 18,
   "outputs": [],
   "source": [
    "# remove middle-step data to save CPU...\n",
    "del data_unigrams\n",
    "del data_unigrams_sorted\n",
    "del data_unigrams_sorted_nlp"
   ],
   "metadata": {
    "collapsed": false
   }
  },
  {
   "cell_type": "markdown",
   "source": [
    "# Trigrams to nlp docs"
   ],
   "metadata": {
    "collapsed": false
   }
  },
  {
   "cell_type": "code",
   "execution_count": null,
   "outputs": [],
   "source": [
    "trigramCount_dict = pickle.load(open(\"../data/large_files/trigramCount_dict.pickle\", \"rb\"))"
   ],
   "metadata": {
    "collapsed": false
   }
  },
  {
   "cell_type": "code",
   "execution_count": null,
   "outputs": [],
   "source": [
    "#data_unigrams = merge_data_from_ids(ids, unigramCount_dict)\n",
    "#data_bigrams = merge_data_from_ids(ids, bigramCount_dict)\n",
    "data_trigrams = merge_data_from_ids(ids, trigramCount_dict)"
   ],
   "metadata": {
    "collapsed": false
   }
  },
  {
   "cell_type": "code",
   "execution_count": null,
   "outputs": [],
   "source": [
    "ids2 = [k for k in list(trigramCount_dict.keys()) if k not in ids]\n",
    "len(ids2)"
   ],
   "metadata": {
    "collapsed": false
   }
  },
  {
   "cell_type": "code",
   "execution_count": null,
   "outputs": [],
   "source": [
    "data_trigrams2 = merge_data_from_ids(ids2, trigramCount_dict)"
   ],
   "metadata": {
    "collapsed": false
   }
  },
  {
   "cell_type": "code",
   "execution_count": null,
   "outputs": [],
   "source": [
    "del trigramCount_dict"
   ],
   "metadata": {
    "collapsed": false
   }
  },
  {
   "cell_type": "code",
   "execution_count": null,
   "outputs": [],
   "source": [],
   "metadata": {
    "collapsed": false
   }
  },
  {
   "cell_type": "code",
   "execution_count": 11,
   "outputs": [
    {
     "data": {
      "text/plain": "458444"
     },
     "execution_count": 11,
     "metadata": {},
     "output_type": "execute_result"
    }
   ],
   "source": [
    "data_trigrams_sorted = sorted(data_trigrams.items(), key=lambda kv: kv[1], reverse=True)\n",
    "len([el for el in data_trigrams_sorted if el[1] > 10])"
   ],
   "metadata": {
    "collapsed": false
   }
  },
  {
   "cell_type": "code",
   "execution_count": 26,
   "outputs": [
    {
     "name": "stdout",
     "output_type": "stream",
     "text": [
      "CPU times: user 21min 37s, sys: 33.8 s, total: 22min 11s\n",
      "Wall time: 23min 14s\n"
     ]
    }
   ],
   "source": [
    "%%time\n",
    "data_trigrams_sorted_nlp = [(el[0], {\"doc\" : nlp(el[0]), \"count\" : el[1]}) for el in data_trigrams_sorted if el[1] > 10]"
   ],
   "metadata": {
    "collapsed": false
   }
  },
  {
   "cell_type": "code",
   "execution_count": 16,
   "outputs": [],
   "source": [
    "del data_trigrams_sorted"
   ],
   "metadata": {
    "collapsed": false
   }
  },
  {
   "cell_type": "code",
   "execution_count": 27,
   "outputs": [],
   "source": [
    "data_trigrams_nlp_dict = dict(data_trigrams_sorted_nlp)"
   ],
   "metadata": {
    "collapsed": false
   }
  },
  {
   "cell_type": "code",
   "execution_count": 28,
   "outputs": [],
   "source": [
    "with open(\"../data/large_files/data_trigrams_nlp_dict.pickle\", \"wb\") as f:\n",
    "    pickle.dump(data_trigrams_nlp_dict, f)"
   ],
   "metadata": {
    "collapsed": false
   }
  },
  {
   "cell_type": "markdown",
   "source": [
    "# Second round of merged trigrams nlp preprocessing"
   ],
   "metadata": {
    "collapsed": false
   }
  },
  {
   "cell_type": "code",
   "execution_count": 12,
   "outputs": [
    {
     "data": {
      "text/plain": "46627339"
     },
     "execution_count": 12,
     "metadata": {},
     "output_type": "execute_result"
    }
   ],
   "source": [
    "len(data_trigrams2)"
   ],
   "metadata": {
    "collapsed": false
   }
  },
  {
   "cell_type": "code",
   "execution_count": 42,
   "outputs": [],
   "source": [
    "data_trigrams2 = dict(data_trigrams2)"
   ],
   "metadata": {
    "collapsed": false
   }
  },
  {
   "cell_type": "code",
   "execution_count": 13,
   "outputs": [
    {
     "data": {
      "text/plain": "458444"
     },
     "execution_count": 13,
     "metadata": {},
     "output_type": "execute_result"
    }
   ],
   "source": [
    "keys1 = [el[0] for el in data_trigrams.items() if el[1] > 10]\n",
    "len(keys1)"
   ],
   "metadata": {
    "collapsed": false
   }
  },
  {
   "cell_type": "code",
   "execution_count": 22,
   "outputs": [],
   "source": [
    "del data_trigrams"
   ],
   "metadata": {
    "collapsed": false
   }
  },
  {
   "cell_type": "code",
   "execution_count": 14,
   "outputs": [
    {
     "data": {
      "text/plain": "774574"
     },
     "execution_count": 14,
     "metadata": {},
     "output_type": "execute_result"
    }
   ],
   "source": [
    "keys2 = [el[0] for el in data_trigrams2.items() if el[1] > 10]\n",
    "len(keys2) #  [el[0] for el in data_trigrams2_filtered]"
   ],
   "metadata": {
    "collapsed": false
   }
  },
  {
   "cell_type": "code",
   "execution_count": 15,
   "outputs": [
    {
     "data": {
      "text/plain": "342693"
     },
     "execution_count": 15,
     "metadata": {},
     "output_type": "execute_result"
    }
   ],
   "source": [
    "keys2_filtered = list((set(keys2) ^ set(keys1)) & set(keys2))\n",
    "len(keys2_filtered)"
   ],
   "metadata": {
    "collapsed": false
   }
  },
  {
   "cell_type": "code",
   "execution_count": 31,
   "outputs": [],
   "source": [
    "del nlp"
   ],
   "metadata": {
    "collapsed": false
   }
  },
  {
   "cell_type": "code",
   "execution_count": 32,
   "outputs": [
    {
     "name": "stdout",
     "output_type": "stream",
     "text": [
      "hello\n"
     ]
    }
   ],
   "source": [
    "print(\"hello\")"
   ],
   "metadata": {
    "collapsed": false
   }
  },
  {
   "cell_type": "code",
   "execution_count": 39,
   "outputs": [],
   "source": [
    "pickle.dump(keys2_filtered, open(\"../data/large_files/keys2_filtered.pickle\", \"wb\"))\n",
    "pickle.dump(data_trigrams2, open(\"../data/large_files/data_trigrams2.pickle\", \"wb\"))"
   ],
   "metadata": {
    "collapsed": false
   }
  },
  {
   "cell_type": "code",
   "execution_count": 40,
   "outputs": [
    {
     "data": {
      "text/plain": "46627339"
     },
     "execution_count": 40,
     "metadata": {},
     "output_type": "execute_result"
    }
   ],
   "source": [
    "len(data_trigrams2)"
   ],
   "metadata": {
    "collapsed": false
   }
  },
  {
   "cell_type": "code",
   "execution_count": 43,
   "outputs": [
    {
     "name": "stdout",
     "output_type": "stream",
     "text": [
      "0\n",
      "5000\n",
      "10000\n",
      "15000\n",
      "20000\n",
      "25000\n",
      "30000\n",
      "35000\n",
      "40000\n",
      "45000\n",
      "50000\n",
      "55000\n",
      "60000\n",
      "65000\n",
      "70000\n",
      "75000\n",
      "80000\n",
      "85000\n",
      "90000\n",
      "95000\n",
      "100000\n",
      "105000\n",
      "110000\n",
      "115000\n",
      "120000\n",
      "125000\n",
      "130000\n",
      "135000\n",
      "140000\n",
      "145000\n",
      "150000\n",
      "155000\n",
      "160000\n",
      "165000\n",
      "170000\n",
      "175000\n",
      "180000\n",
      "185000\n",
      "190000\n",
      "195000\n",
      "200000\n",
      "205000\n",
      "210000\n",
      "215000\n",
      "220000\n",
      "225000\n",
      "230000\n",
      "235000\n",
      "240000\n",
      "245000\n",
      "250000\n",
      "255000\n",
      "260000\n",
      "265000\n",
      "270000\n",
      "275000\n",
      "280000\n",
      "285000\n",
      "290000\n",
      "295000\n",
      "300000\n",
      "305000\n",
      "310000\n",
      "315000\n",
      "320000\n",
      "325000\n",
      "330000\n",
      "335000\n",
      "340000\n",
      "CPU times: user 285 ms, sys: 286 ms, total: 572 ms\n",
      "Wall time: 839 ms\n"
     ]
    }
   ],
   "source": [
    "%%time\n",
    "data_trigrams2_filtered = []\n",
    "n = 0\n",
    "for el in keys2_filtered:\n",
    "    if n in range(0, len(keys2_filtered), 5000):\n",
    "        print(n)\n",
    "    n += 1\n",
    "    data_trigrams2_filtered.append((el, data_trigrams2[el]))"
   ],
   "metadata": {
    "collapsed": false
   }
  },
  {
   "cell_type": "code",
   "execution_count": 44,
   "outputs": [
    {
     "data": {
      "text/plain": "342693"
     },
     "execution_count": 44,
     "metadata": {},
     "output_type": "execute_result"
    }
   ],
   "source": [
    "len(data_trigrams2_filtered)"
   ],
   "metadata": {
    "collapsed": false
   }
  },
  {
   "cell_type": "code",
   "execution_count": 46,
   "outputs": [],
   "source": [
    "pickle.dump(data_trigrams2_filtered, open(\"../data/large_files/data_trigrams2_filtered.pickle\", \"wb\"))"
   ],
   "metadata": {
    "collapsed": false
   }
  },
  {
   "cell_type": "code",
   "execution_count": 47,
   "outputs": [],
   "source": [
    "nlp = spacy.load('en_core_web_lg')"
   ],
   "metadata": {
    "collapsed": false
   }
  },
  {
   "cell_type": "code",
   "execution_count": 48,
   "outputs": [
    {
     "name": "stdout",
     "output_type": "stream",
     "text": [
      "0\n",
      "5000\n",
      "10000\n",
      "15000\n",
      "20000\n",
      "25000\n",
      "30000\n",
      "35000\n",
      "40000\n",
      "45000\n",
      "50000\n",
      "55000\n",
      "60000\n",
      "65000\n",
      "70000\n",
      "75000\n",
      "80000\n",
      "85000\n",
      "90000\n",
      "95000\n",
      "100000\n",
      "105000\n",
      "110000\n",
      "115000\n",
      "120000\n",
      "125000\n",
      "130000\n",
      "135000\n",
      "140000\n",
      "145000\n",
      "150000\n",
      "155000\n",
      "160000\n",
      "165000\n",
      "170000\n",
      "175000\n",
      "180000\n",
      "185000\n",
      "190000\n",
      "195000\n",
      "200000\n",
      "205000\n",
      "210000\n",
      "215000\n",
      "220000\n",
      "225000\n",
      "230000\n",
      "235000\n",
      "240000\n",
      "245000\n",
      "250000\n",
      "255000\n",
      "260000\n",
      "265000\n",
      "270000\n",
      "275000\n",
      "280000\n",
      "285000\n",
      "290000\n",
      "295000\n",
      "300000\n",
      "305000\n",
      "310000\n",
      "315000\n",
      "320000\n",
      "325000\n",
      "330000\n",
      "335000\n",
      "340000\n",
      "CPU times: user 14min 25s, sys: 14.3 s, total: 14min 39s\n",
      "Wall time: 14min 44s\n"
     ]
    }
   ],
   "source": [
    "%%time\n",
    "data_trigrams2_nlp_tups = []\n",
    "n = 0\n",
    "for el in data_trigrams2_filtered:\n",
    "    if n in range(0, len(data_trigrams2_filtered), 5000):\n",
    "        print(n)\n",
    "    n += 1\n",
    "    data_trigrams2_nlp_tups.append((el[0], {\"doc\" : nlp(el[0]), \"count\" : el[1]}))"
   ],
   "metadata": {
    "collapsed": false
   }
  },
  {
   "cell_type": "code",
   "execution_count": 49,
   "outputs": [],
   "source": [
    "pickle.dump(dict(data_trigrams2_nlp_tups), open(\"../data/large_files/data_trigrams2_nlp_dict.pickle\", \"wb\"))"
   ],
   "metadata": {
    "collapsed": false
   }
  },
  {
   "cell_type": "code",
   "execution_count": null,
   "outputs": [],
   "source": [],
   "metadata": {
    "collapsed": false
   }
  },
  {
   "cell_type": "code",
   "execution_count": null,
   "outputs": [],
   "source": [],
   "metadata": {
    "collapsed": false
   }
  },
  {
   "cell_type": "code",
   "execution_count": null,
   "outputs": [],
   "source": [],
   "metadata": {
    "collapsed": false
   }
  }
 ],
 "metadata": {
  "kernelspec": {
   "name": "mops_venv",
   "language": "python",
   "display_name": "mops_venv"
  },
  "language_info": {
   "codemirror_mode": {
    "name": "ipython",
    "version": 2
   },
   "file_extension": ".py",
   "mimetype": "text/x-python",
   "name": "python",
   "nbconvert_exporter": "python",
   "pygments_lexer": "ipython2",
   "version": "2.7.6"
  }
 },
 "nbformat": 4,
 "nbformat_minor": 0
}
