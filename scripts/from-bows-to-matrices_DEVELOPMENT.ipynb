{
 "cells": [
  {
   "cell_type": "code",
   "execution_count": 39,
   "metadata": {
    "collapsed": true,
    "pycharm": {
     "name": "#%%\n"
    }
   },
   "outputs": [],
   "source": [
    "import pickle\n",
    "import numpy as np\n",
    "import pandas as pd\n",
    "from gensim.matutils import corpus2csc\n",
    "from gensim.matutils import corpus2dense\n",
    "from gensim.corpora import Dictionary\n",
    "from datetime import datetime"
   ]
  },
  {
   "cell_type": "code",
   "execution_count": 40,
   "outputs": [
    {
     "name": "stdout",
     "output_type": "stream",
     "text": [
      "endpoint variable has been configured to: https://sciencedata.dk/files/\n"
     ]
    }
   ],
   "source": [
    "# to communicate with google spreadsheet...\n",
    "import gspread\n",
    "from gspread_dataframe import get_as_dataframe\n",
    "from gspread_dataframe import set_with_dataframe\n",
    "from google.oauth2 import service_account # based on google-auth library\n",
    "import sddk\n",
    "\n",
    "s = sddk.cloudSession(\"sciencedata.dk\")\n",
    "# establish connection with gogglesheets...\n",
    "file_data = s.read_file(\"https://sciencedata.dk/files/ServiceAccountsKey.json\", \"dict\") # or load it from a local storage: json.load(open(\"../../ServiceAccountsKey.json\", \"r\"))\n",
    "credentials = service_account.Credentials.from_service_account_info(file_data)\n",
    "gc = gspread.Client(auth=credentials.with_scopes(['https://spreadsheets.google.com/feeds', 'https://www.googleapis.com/auth/drive']))\n",
    "mops_data = gc.open_by_url(\"https://docs.google.com/spreadsheets/d/1VbCIAJssHKV9hlRTwzVFfm40CGnHesq53KXjv2qy4OM/edit?usp=sharing\")"
   ],
   "metadata": {
    "collapsed": false,
    "pycharm": {
     "name": "#%%\n"
    }
   }
  },
  {
   "cell_type": "code",
   "execution_count": 2,
   "outputs": [],
   "source": [
    "jstor_df = pd.read_feather(\"../data/large_files/jstor_df_v1.feather\")"
   ],
   "metadata": {
    "collapsed": false,
    "pycharm": {
     "name": "#%%\n"
    }
   }
  },
  {
   "cell_type": "code",
   "execution_count": 3,
   "outputs": [
    {
     "data": {
      "text/plain": "14103"
     },
     "execution_count": 3,
     "metadata": {},
     "output_type": "execute_result"
    }
   ],
   "source": [
    "len(jstor_df)"
   ],
   "metadata": {
    "collapsed": false,
    "pycharm": {
     "name": "#%%\n"
    }
   }
  },
  {
   "cell_type": "code",
   "execution_count": 4,
   "outputs": [
    {
     "data": {
      "text/plain": "                 creator datePublished  docType                           doi  \\\n0                     []    1959-10-01  article    10.1177/001452465907100107   \n1  [Victor Paul Furnish]    2009-01-01  chapter  10.1017/CBO9780511621321.003   \n2      [Leander E. Keck]    2015-01-01  chapter                          None   \n3   [LeAnn Snow Flesher]    2009-02-01  article    10.1177/003463730910600105   \n4      [A. Daunton-Fear]    1995-07-01  article    10.1177/0040571X9509800404   \n\n                        id                                         identifier  \\\n0  ark://27927/phx66812gq6  [{'name': 'doi', 'value': '10.1177/00145246590...   \n1   ark://27927/pbd6fpf5fh  [{'name': 'isbn', 'value': '9780511621321'}, {...   \n2  ark://27927/phw1kd8s300                                                 []   \n3  ark://27927/phx64fptrwj  [{'name': 'doi', 'value': '10.1177/00346373091...   \n4  ark://27927/phx64k1x5c2  [{'name': 'doi', 'value': '10.1177/0040571X950...   \n\n                                            isPartOf issueNumber  \\\n0                                   Expository Times           1   \n1     Jesus According to PaulJesus According to Paul        None   \n2                      Christ&#39;s First Theologian        None   \n3  Review & Expositor: An International Baptist J...           1   \n4                                           Theology         784   \n\n                                           keyphrase language  ... sequence  \\\n0  [omnipotent reigneth, god omnipotent, silence,...    [eng]  ...      7.0   \n1  [saying, books online, jesus tradition, pauls ...    [eng]  ...      5.0   \n2  [pharisaism, sandmel genius, judaism, rabbinic...    [eng]  ...      8.0   \n3  [scofield, premillennial, premillennial dispen...    [eng]  ...      5.0   \n4  [baptism, holy spirit, communion, infant bapti...    [eng]  ...      4.0   \n\n                                         tdmCategory  \\\n0  [Religion - Theology, Religion - Spiritual bel...   \n1  [History - Historical methodology, Religion - ...   \n2  [History - Historical methodology, Religion - ...   \n3  [Religion - Theology, Religion - Spiritual bel...   \n4              [Religion - Spiritual belief systems]   \n\n                                               title  \\\n0                                       In the Study   \n1               3 Sayings of Jesus in Paul's Letters   \n2                  3. The Quest for Pauls Pharisaism   \n3  The Historical Development of Premillennial Di...   \n4  Resisting the Tide Christian Initiation and Co...   \n\n                                            url volumeNumber wordCount  \\\n0     http://doi.org/10.1177/001452465907100107           71      7382   \n1  https://doi.org/10.1017/CBO9780511621321.003         None      8577   \n2                                          None         None      5354   \n3     http://doi.org/10.1177/003463730910600105          106      3614   \n4     http://doi.org/10.1177/0040571X9509800404           98      4323   \n\n   docSubType sourceCategory  subTitle hasPartTitle  \n0        None           None      None         None  \n1        None           None      None         None  \n2        None           None      None         None  \n3        None           None      None         None  \n4        None           None      None         None  \n\n[5 rows x 28 columns]",
      "text/html": "<div>\n<style scoped>\n    .dataframe tbody tr th:only-of-type {\n        vertical-align: middle;\n    }\n\n    .dataframe tbody tr th {\n        vertical-align: top;\n    }\n\n    .dataframe thead th {\n        text-align: right;\n    }\n</style>\n<table border=\"1\" class=\"dataframe\">\n  <thead>\n    <tr style=\"text-align: right;\">\n      <th></th>\n      <th>creator</th>\n      <th>datePublished</th>\n      <th>docType</th>\n      <th>doi</th>\n      <th>id</th>\n      <th>identifier</th>\n      <th>isPartOf</th>\n      <th>issueNumber</th>\n      <th>keyphrase</th>\n      <th>language</th>\n      <th>...</th>\n      <th>sequence</th>\n      <th>tdmCategory</th>\n      <th>title</th>\n      <th>url</th>\n      <th>volumeNumber</th>\n      <th>wordCount</th>\n      <th>docSubType</th>\n      <th>sourceCategory</th>\n      <th>subTitle</th>\n      <th>hasPartTitle</th>\n    </tr>\n  </thead>\n  <tbody>\n    <tr>\n      <th>0</th>\n      <td>[]</td>\n      <td>1959-10-01</td>\n      <td>article</td>\n      <td>10.1177/001452465907100107</td>\n      <td>ark://27927/phx66812gq6</td>\n      <td>[{'name': 'doi', 'value': '10.1177/00145246590...</td>\n      <td>Expository Times</td>\n      <td>1</td>\n      <td>[omnipotent reigneth, god omnipotent, silence,...</td>\n      <td>[eng]</td>\n      <td>...</td>\n      <td>7.0</td>\n      <td>[Religion - Theology, Religion - Spiritual bel...</td>\n      <td>In the Study</td>\n      <td>http://doi.org/10.1177/001452465907100107</td>\n      <td>71</td>\n      <td>7382</td>\n      <td>None</td>\n      <td>None</td>\n      <td>None</td>\n      <td>None</td>\n    </tr>\n    <tr>\n      <th>1</th>\n      <td>[Victor Paul Furnish]</td>\n      <td>2009-01-01</td>\n      <td>chapter</td>\n      <td>10.1017/CBO9780511621321.003</td>\n      <td>ark://27927/pbd6fpf5fh</td>\n      <td>[{'name': 'isbn', 'value': '9780511621321'}, {...</td>\n      <td>Jesus According to PaulJesus According to Paul</td>\n      <td>None</td>\n      <td>[saying, books online, jesus tradition, pauls ...</td>\n      <td>[eng]</td>\n      <td>...</td>\n      <td>5.0</td>\n      <td>[History - Historical methodology, Religion - ...</td>\n      <td>3 Sayings of Jesus in Paul's Letters</td>\n      <td>https://doi.org/10.1017/CBO9780511621321.003</td>\n      <td>None</td>\n      <td>8577</td>\n      <td>None</td>\n      <td>None</td>\n      <td>None</td>\n      <td>None</td>\n    </tr>\n    <tr>\n      <th>2</th>\n      <td>[Leander E. Keck]</td>\n      <td>2015-01-01</td>\n      <td>chapter</td>\n      <td>None</td>\n      <td>ark://27927/phw1kd8s300</td>\n      <td>[]</td>\n      <td>Christ&amp;#39;s First Theologian</td>\n      <td>None</td>\n      <td>[pharisaism, sandmel genius, judaism, rabbinic...</td>\n      <td>[eng]</td>\n      <td>...</td>\n      <td>8.0</td>\n      <td>[History - Historical methodology, Religion - ...</td>\n      <td>3. The Quest for Pauls Pharisaism</td>\n      <td>None</td>\n      <td>None</td>\n      <td>5354</td>\n      <td>None</td>\n      <td>None</td>\n      <td>None</td>\n      <td>None</td>\n    </tr>\n    <tr>\n      <th>3</th>\n      <td>[LeAnn Snow Flesher]</td>\n      <td>2009-02-01</td>\n      <td>article</td>\n      <td>10.1177/003463730910600105</td>\n      <td>ark://27927/phx64fptrwj</td>\n      <td>[{'name': 'doi', 'value': '10.1177/00346373091...</td>\n      <td>Review &amp; Expositor: An International Baptist J...</td>\n      <td>1</td>\n      <td>[scofield, premillennial, premillennial dispen...</td>\n      <td>[eng]</td>\n      <td>...</td>\n      <td>5.0</td>\n      <td>[Religion - Theology, Religion - Spiritual bel...</td>\n      <td>The Historical Development of Premillennial Di...</td>\n      <td>http://doi.org/10.1177/003463730910600105</td>\n      <td>106</td>\n      <td>3614</td>\n      <td>None</td>\n      <td>None</td>\n      <td>None</td>\n      <td>None</td>\n    </tr>\n    <tr>\n      <th>4</th>\n      <td>[A. Daunton-Fear]</td>\n      <td>1995-07-01</td>\n      <td>article</td>\n      <td>10.1177/0040571X9509800404</td>\n      <td>ark://27927/phx64k1x5c2</td>\n      <td>[{'name': 'doi', 'value': '10.1177/0040571X950...</td>\n      <td>Theology</td>\n      <td>784</td>\n      <td>[baptism, holy spirit, communion, infant bapti...</td>\n      <td>[eng]</td>\n      <td>...</td>\n      <td>4.0</td>\n      <td>[Religion - Spiritual belief systems]</td>\n      <td>Resisting the Tide Christian Initiation and Co...</td>\n      <td>http://doi.org/10.1177/0040571X9509800404</td>\n      <td>98</td>\n      <td>4323</td>\n      <td>None</td>\n      <td>None</td>\n      <td>None</td>\n      <td>None</td>\n    </tr>\n  </tbody>\n</table>\n<p>5 rows × 28 columns</p>\n</div>"
     },
     "execution_count": 4,
     "metadata": {},
     "output_type": "execute_result"
    }
   ],
   "source": [
    "jstor_df.head(5)"
   ],
   "metadata": {
    "collapsed": false,
    "pycharm": {
     "name": "#%%\n"
    }
   }
  },
  {
   "cell_type": "code",
   "execution_count": 5,
   "outputs": [
    {
     "data": {
      "text/plain": "14096"
     },
     "execution_count": 5,
     "metadata": {},
     "output_type": "execute_result"
    }
   ],
   "source": [
    "# in english only?\n",
    "jstor_df[\"language\"].apply(lambda x: (\"eng\" in x) & (len(x)==1)).sum()"
   ],
   "metadata": {
    "collapsed": false,
    "pycharm": {
     "name": "#%%\n"
    }
   }
  },
  {
   "cell_type": "code",
   "execution_count": 6,
   "outputs": [],
   "source": [
    "article_ids_dict = pickle.load(open(\"../data/article_ids_dict.pickle\", \"rb\"))"
   ],
   "metadata": {
    "collapsed": false,
    "pycharm": {
     "name": "#%%\n"
    }
   }
  },
  {
   "cell_type": "code",
   "execution_count": 7,
   "outputs": [
    {
     "data": {
      "text/plain": "44592"
     },
     "execution_count": 7,
     "metadata": {},
     "output_type": "execute_result"
    }
   ],
   "source": [
    "dictionary = pickle.load(open(\"../data/dictionary_main.pickle\", \"rb\"))\n",
    "len(dictionary)"
   ],
   "metadata": {
    "collapsed": false,
    "pycharm": {
     "name": "#%%\n"
    }
   }
  },
  {
   "cell_type": "code",
   "execution_count": 8,
   "outputs": [
    {
     "data": {
      "text/plain": "['1900,1909',\n '1910,1919',\n '1920,1929',\n '1930,1939',\n '1940,1949',\n '1950,1959',\n '1960,1969',\n '1970,1979',\n '1980,1989',\n '1990,1999',\n '2000,2009',\n '2010,2019']"
     },
     "execution_count": 8,
     "metadata": {},
     "output_type": "execute_result"
    }
   ],
   "source": [
    "decades = []\n",
    "for decade_n in range(0,10):\n",
    "    decades.append(\"19{0}0,19{0}9\".format(str(decade_n)))\n",
    "decades += [\"2000,2009\", \"2010,2019\"]\n",
    "decades"
   ],
   "metadata": {
    "collapsed": false,
    "pycharm": {
     "name": "#%%\n"
    }
   }
  },
  {
   "cell_type": "code",
   "execution_count": 9,
   "outputs": [],
   "source": [
    "def ids_from_colvals(df_name, col, matchstring):\n",
    "    ids = eval('{0}[{0}[\"{1}\"]{2}]'.format(df_name, col, matchstring))[\"id\"].tolist()\n",
    "    return ids"
   ],
   "metadata": {
    "collapsed": false,
    "pycharm": {
     "name": "#%%\n"
    }
   }
  },
  {
   "cell_type": "code",
   "execution_count": 10,
   "outputs": [
    {
     "data": {
      "text/plain": "132"
     },
     "execution_count": 10,
     "metadata": {},
     "output_type": "execute_result"
    }
   ],
   "source": [
    "decade = decades[2]\n",
    "ids = ids_from_colvals(\"jstor_df\", \"publicationYear\", \".between({})\".format(decade))\n",
    "len(ids)"
   ],
   "metadata": {
    "collapsed": false,
    "pycharm": {
     "name": "#%%\n"
    }
   }
  },
  {
   "cell_type": "code",
   "execution_count": 34,
   "outputs": [],
   "source": [
    "def corpus_from_ids(ids):\n",
    "    corpus = []\n",
    "    for id in ids:\n",
    "        short_id_str = str(article_ids_dict[id])\n",
    "        id_filepath = \"../data/large_files/article_docs/{}.pickle\".format(short_id_str)\n",
    "        corpus.extend(pickle.load(open(id_filepath, \"rb\")))\n",
    "    return corpus\n",
    "\n",
    "class MyCorpus:\n",
    "    def __iter__(self):\n",
    "        for id in ids:\n",
    "            short_id_str = str(article_ids_dict[id])\n",
    "            id_filepath = \"../data/large_files/article_docs/{}.pickle\".format(short_id_str)\n",
    "            for doc in pickle.load(open(id_filepath, \"rb\")):\n",
    "                yield doc"
   ],
   "metadata": {
    "collapsed": false,
    "pycharm": {
     "name": "#%%\n"
    }
   }
  },
  {
   "cell_type": "code",
   "execution_count": 12,
   "outputs": [],
   "source": [
    "corpus = corpus_from_ids(ids)"
   ],
   "metadata": {
    "collapsed": false,
    "pycharm": {
     "name": "#%%\n"
    }
   }
  },
  {
   "cell_type": "code",
   "execution_count": 13,
   "outputs": [
    {
     "data": {
      "text/plain": "[[(15054, 1), (25971, 1)],\n [(2802, 1), (13164, 1), (20706, 1)],\n [(231, 1), (41987, 1)],\n [(7884, 1), (10898, 1)],\n [(19525, 1), (29542, 1)],\n [(27686, 1), (36201, 1)],\n [(21394, 1), (28249, 1)],\n [(18414, 1), (19037, 1)],\n [(23985, 1), (30919, 1)],\n [(29860, 1), (33322, 1)]]"
     },
     "execution_count": 13,
     "metadata": {},
     "output_type": "execute_result"
    }
   ],
   "source": [
    "len(corpus)\n",
    "corpus[:10]"
   ],
   "metadata": {
    "collapsed": false,
    "pycharm": {
     "name": "#%%\n"
    }
   }
  },
  {
   "cell_type": "code",
   "execution_count": 14,
   "outputs": [],
   "source": [
    "dct_corpus = Dictionary.from_corpus(corpus, id2word=dictionary)"
   ],
   "metadata": {
    "collapsed": false,
    "pycharm": {
     "name": "#%%\n"
    }
   }
  },
  {
   "cell_type": "code",
   "execution_count": 15,
   "outputs": [],
   "source": [
    "vocabulary = list(dct_corpus.values())"
   ],
   "metadata": {
    "collapsed": false,
    "pycharm": {
     "name": "#%%\n"
    }
   }
  },
  {
   "cell_type": "code",
   "execution_count": 16,
   "outputs": [
    {
     "data": {
      "text/plain": "44592"
     },
     "execution_count": 16,
     "metadata": {},
     "output_type": "execute_result"
    }
   ],
   "source": [
    "len(dct_corpus)"
   ],
   "metadata": {
    "collapsed": false,
    "pycharm": {
     "name": "#%%\n"
    }
   }
  },
  {
   "cell_type": "code",
   "execution_count": 17,
   "outputs": [
    {
     "data": {
      "text/plain": "17724"
     },
     "execution_count": 17,
     "metadata": {},
     "output_type": "execute_result"
    }
   ],
   "source": [
    " len([tup for tup in dct_corpus.dfs.items() if tup[1] > 0])"
   ],
   "metadata": {
    "collapsed": false,
    "pycharm": {
     "name": "#%%\n"
    }
   }
  },
  {
   "cell_type": "code",
   "execution_count": 18,
   "outputs": [
    {
     "data": {
      "text/plain": "249295"
     },
     "execution_count": 18,
     "metadata": {},
     "output_type": "execute_result"
    }
   ],
   "source": [
    "dct_corpus.num_docs"
   ],
   "metadata": {
    "collapsed": false,
    "pycharm": {
     "name": "#%%\n"
    }
   }
  },
  {
   "cell_type": "code",
   "execution_count": 19,
   "outputs": [
    {
     "data": {
      "text/plain": "3052"
     },
     "execution_count": 19,
     "metadata": {},
     "output_type": "execute_result"
    }
   ],
   "source": [
    "dct_corpus.token2id[\"Christ\"]"
   ],
   "metadata": {
    "collapsed": false,
    "pycharm": {
     "name": "#%%\n"
    }
   }
  },
  {
   "cell_type": "code",
   "execution_count": 20,
   "outputs": [
    {
     "data": {
      "text/plain": "6553"
     },
     "execution_count": 20,
     "metadata": {},
     "output_type": "execute_result"
    }
   ],
   "source": [
    "dct_corpus.token2id[\"Harnack\"]"
   ],
   "metadata": {
    "collapsed": false,
    "pycharm": {
     "name": "#%%\n"
    }
   }
  },
  {
   "cell_type": "code",
   "execution_count": 21,
   "outputs": [
    {
     "data": {
      "text/plain": "75"
     },
     "execution_count": 21,
     "metadata": {},
     "output_type": "execute_result"
    }
   ],
   "source": [
    "dct_corpus.dfs[dct_corpus.token2id[\"Harnack\"]]"
   ],
   "metadata": {
    "collapsed": false,
    "pycharm": {
     "name": "#%%\n"
    }
   }
  },
  {
   "cell_type": "code",
   "execution_count": 22,
   "outputs": [],
   "source": [
    "term_doc_mat = corpus2csc(corpus, num_terms=len(dct_corpus))"
   ],
   "metadata": {
    "collapsed": false,
    "pycharm": {
     "name": "#%%\n"
    }
   }
  },
  {
   "cell_type": "code",
   "execution_count": 23,
   "outputs": [
    {
     "data": {
      "text/plain": "scipy.sparse._csc.csc_matrix"
     },
     "execution_count": 23,
     "metadata": {},
     "output_type": "execute_result"
    }
   ],
   "source": [
    "type(term_doc_mat)"
   ],
   "metadata": {
    "collapsed": false,
    "pycharm": {
     "name": "#%%\n"
    }
   }
  },
  {
   "cell_type": "code",
   "execution_count": 24,
   "outputs": [
    {
     "data": {
      "text/plain": "(44592, 249295)"
     },
     "execution_count": 24,
     "metadata": {},
     "output_type": "execute_result"
    }
   ],
   "source": [
    "term_doc_mat.shape"
   ],
   "metadata": {
    "collapsed": false,
    "pycharm": {
     "name": "#%%\n"
    }
   }
  },
  {
   "cell_type": "code",
   "execution_count": 25,
   "outputs": [],
   "source": [
    "cooc = np.dot(term_doc_mat, term_doc_mat.T)"
   ],
   "metadata": {
    "collapsed": false,
    "pycharm": {
     "name": "#%%\n"
    }
   }
  },
  {
   "cell_type": "code",
   "execution_count": 26,
   "outputs": [],
   "source": [
    "cooc_dense = cooc.todense()"
   ],
   "metadata": {
    "collapsed": false,
    "pycharm": {
     "name": "#%%\n"
    }
   }
  },
  {
   "cell_type": "code",
   "execution_count": 27,
   "outputs": [
    {
     "data": {
      "text/plain": "1383.0"
     },
     "execution_count": 27,
     "metadata": {},
     "output_type": "execute_result"
    }
   ],
   "source": [
    "# target term frequency in coocurrence matrix (i.e. the value on the diagonal\n",
    "target = \"Christ\"\n",
    "cooc[dct_corpus.token2id[target],dct_corpus.token2id[target]]"
   ],
   "metadata": {
    "collapsed": false,
    "pycharm": {
     "name": "#%%\n"
    }
   }
  },
  {
   "cell_type": "code",
   "execution_count": 28,
   "outputs": [
    {
     "data": {
      "text/plain": "364.0"
     },
     "execution_count": 28,
     "metadata": {},
     "output_type": "execute_result"
    }
   ],
   "source": [
    "# coocurrence calculator\n",
    "target1, target2 = \"Christ\", \"Jesus\"\n",
    "cooc[dct_corpus.token2id[target1],dct_corpus.token2id[target2]]"
   ],
   "metadata": {
    "collapsed": false,
    "pycharm": {
     "name": "#%%\n"
    }
   }
  },
  {
   "cell_type": "code",
   "execution_count": 30,
   "outputs": [],
   "source": [
    "def normalize_ppmi3_matrix(pmi_matrix_df):\n",
    "    minval, maxval = pmi_matrix_df.min().min(), pmi_matrix_df.max().max()\n",
    "    diff = abs(maxval-minval)\n",
    "    minval_doubled = minval - diff\n",
    "    pmi_matrix_df.fillna(minval_doubled, inplace=True)\n",
    "    pmi_matrix_norm_df = (pmi_matrix_df - minval_doubled) / (maxval - minval_doubled)\n",
    "    return pmi_matrix_norm_df\n",
    "\n",
    "def get_ppmi_df(cooc, vocabulary, normalize=True, exp=2):\n",
    "    pmi_rows_list = []\n",
    "    for i in range(cooc.shape[1]):\n",
    "        ab = np.array([row_el for row_el in list(cooc[i].toarray()[0])], dtype=float)\n",
    "        ab_exp = np.power(ab, exp)\n",
    "        axb = np.array([cooc[row_el[0], row_el[0]] * cooc[i, i] for row_el in enumerate(list(cooc[i].toarray()[0]))], dtype=float)\n",
    "        pmi_row = np.divide(ab_exp, axb, out=np.zeros_like(ab_exp), where=axb!=0)\n",
    "        pmi_row = [np.log(n) if n>0 else None for n in pmi_row]\n",
    "        pmi_rows_list.append(pmi_row)\n",
    "    pmi_matrix_df = pd.DataFrame(pmi_rows_list, columns=vocabulary, index=vocabulary)\n",
    "    if normalize == True:\n",
    "        pmi_matrix_df = normalize_ppmi3_matrix(pmi_matrix_df)\n",
    "        np.fill_diagonal(pmi_matrix_df.to_numpy(), 1)\n",
    "    return pmi_matrix_df #pmi_matrix_norm_df"
   ],
   "metadata": {
    "collapsed": false,
    "pycharm": {
     "name": "#%%\n"
    }
   }
  },
  {
   "cell_type": "code",
   "execution_count": null,
   "outputs": [],
   "source": [
    "ppmi_matrix = get_ppmi_df(cooc, vocabulary, normalize=False)"
   ],
   "metadata": {
    "collapsed": false,
    "pycharm": {
     "name": "#%%\n"
    }
   }
  },
  {
   "cell_type": "code",
   "execution_count": 31,
   "outputs": [
    {
     "name": "stdout",
     "output_type": "stream",
     "text": [
      "CPU times: user 16 s, sys: 99.1 ms, total: 16.1 s\n",
      "Wall time: 16.4 s\n"
     ]
    }
   ],
   "source": [
    "%%time\n",
    "# test...\n",
    "ppmi_matrix = get_ppmi_df(cooc, vocabulary, normalize=False)"
   ],
   "metadata": {
    "collapsed": false,
    "pycharm": {
     "name": "#%%\n"
    }
   }
  },
  {
   "cell_type": "code",
   "execution_count": null,
   "outputs": [],
   "source": [
    "pickle.dump(ppmi_matrix , open(\"../data/large_files/ppmi_matrix_test.pickle\", \"wb\"))"
   ],
   "metadata": {
    "collapsed": false,
    "pycharm": {
     "name": "#%%\n",
     "is_executing": true
    }
   }
  },
  {
   "cell_type": "code",
   "execution_count": null,
   "outputs": [],
   "source": [
    "gspread_cell_row = 1\n",
    "for decade in decades:\n",
    "    ids = ids_from_colvals(\"jstor_df\", \"publicationYear\", \".between({0})\".format(decade))\n",
    "    corpus = MyCorpus()\n",
    "    dct_corpus = Dictionary.from_corpus(corpus, id2word=dictionary)\n",
    "    term_doc_mat = corpus2csc(corpus, num_terms=len(dct_corpus))\n",
    "    cooc = np.dot(term_doc_mat, term_doc_mat.T)\n",
    "    ppmi_matrix = get_ppmi_df(cooc, vocabulary, normalize=False)\n",
    "    pickle.dump(ppmi_matrix, open(\"../data/large_files/ppmi_matrix_{}.pickle\".format(decade.replace(\",\", \"_\")), \"wb\"))\n",
    "    mops_data.worksheet(\"ppmi_progress\").update_cell(gspread_cell_row, 1, decade + \" ({0})\".format(datetime.now().strftime(\"%H:%M:%S\")))\n",
    "    gspread_cell_row += 1"
   ],
   "metadata": {
    "collapsed": false,
    "pycharm": {
     "name": "#%%\n",
     "is_executing": true
    }
   }
  },
  {
   "cell_type": "code",
   "execution_count": null,
   "outputs": [],
   "source": [],
   "metadata": {
    "collapsed": false,
    "pycharm": {
     "name": "#%%\n"
    }
   }
  }
 ],
 "metadata": {
  "kernelspec": {
   "display_name": "Python 3",
   "language": "python",
   "name": "python3"
  },
  "language_info": {
   "codemirror_mode": {
    "name": "ipython",
    "version": 2
   },
   "file_extension": ".py",
   "mimetype": "text/x-python",
   "name": "python",
   "nbconvert_exporter": "python",
   "pygments_lexer": "ipython2",
   "version": "2.7.6"
  }
 },
 "nbformat": 4,
 "nbformat_minor": 0
}