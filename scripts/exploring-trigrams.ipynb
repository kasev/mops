{
 "cells": [
  {
   "cell_type": "code",
   "execution_count": 13,
   "outputs": [],
   "source": [
    "import pandas as pd\n",
    "import pickle\n",
    "from collections import Counter"
   ],
   "metadata": {
    "collapsed": false,
    "pycharm": {
     "name": "#%%\n"
    }
   }
  },
  {
   "cell_type": "code",
   "execution_count": 8,
   "outputs": [
    {
     "name": "stdout",
     "output_type": "stream",
     "text": [
      "endpoint variable has been configured to: https://sciencedata.dk/files/\n"
     ]
    }
   ],
   "source": [
    "# to communicate with google spreadsheet...\n",
    "import gspread\n",
    "from gspread_dataframe import get_as_dataframe\n",
    "from gspread_dataframe import set_with_dataframe\n",
    "from google.oauth2 import service_account # based on google-auth library\n",
    "import sddk\n",
    "\n",
    "s = sddk.cloudSession(\"sciencedata.dk\")\n",
    "# establish connection with gogglesheets...\n",
    "file_data = s.read_file(\"https://sciencedata.dk/files/ServiceAccountsKey.json\", \"dict\") # or load it from a local storage: json.load(open(\"../../ServiceAccountsKey.json\", \"r\"))\n",
    "credentials = service_account.Credentials.from_service_account_info(file_data)\n",
    "gc = gspread.Client(auth=credentials.with_scopes(['https://spreadsheets.google.com/feeds', 'https://www.googleapis.com/auth/drive']))\n",
    "mops_data = gc.open_by_url(\"https://docs.google.com/spreadsheets/d/1VbCIAJssHKV9hlRTwzVFfm40CGnHesq53KXjv2qy4OM/edit?usp=sharing\")"
   ],
   "metadata": {
    "collapsed": false,
    "pycharm": {
     "name": "#%%\n"
    }
   }
  },
  {
   "cell_type": "code",
   "execution_count": 10,
   "outputs": [],
   "source": [
    "jstor_df = pd.read_feather(\"../data/large_files/jstor_df_v1.feather\")"
   ],
   "metadata": {
    "collapsed": false,
    "pycharm": {
     "name": "#%%\n"
    }
   }
  },
  {
   "cell_type": "code",
   "execution_count": 9,
   "outputs": [],
   "source": [
    "trigramCount_cleaned_dict = pickle.load(open(\"../data/large_files/trigramCount_cleaned_dict.pickle\", \"rb\"))"
   ],
   "metadata": {
    "collapsed": false,
    "pycharm": {
     "name": "#%%\n"
    }
   }
  },
  {
   "cell_type": "code",
   "execution_count": 23,
   "outputs": [],
   "source": [
    "id = list(trigramCount_cleaned_dict.keys())[0]"
   ],
   "metadata": {
    "collapsed": false,
    "pycharm": {
     "name": "#%%\n"
    }
   }
  },
  {
   "cell_type": "code",
   "execution_count": 24,
   "outputs": [
    {
     "data": {
      "text/plain": "Counter({'F H MATHEWS': 1,\n         'Jesus': 16,\n         'lifes through vicissitudes': 1,\n         'preparations the their': 1,\n         'age': 6,\n         'death in man': 1,\n         'ambition or uncleanness': 1,\n         'lord then your': 1,\n         'BD CRIEFF HEPBURN': 1,\n         'knotty of points': 1,\n         'easy': 3,\n         'His acts of': 2,\n         'story': 8,\n         'Him composed was': 1,\n         'do thing': 1,\n         'Dr Hunter points': 1,\n         'Somme recently the': 1,\n         'This consequences obedience': 1,\n         'down human into': 1,\n         'and fields in': 1,\n         'allow take': 1,\n         'Sir and speaker': 1,\n         'hear': 8,\n         'BA BROWN ROBERT': 1,\n         'Kingdom supernatural will': 1,\n         'at his sentry': 1,\n         'shared this truth': 1,\n         'God': 40,\n         'and twenty went': 1,\n         'away nor take': 1,\n         'How frightening world': 1,\n         'world': 10,\n         'And clean me': 1,\n         'Jesus positively react': 1,\n         'a convenient moment': 1,\n         'generous is the': 1,\n         'avoiding for moral': 1,\n         'Calvary is what': 1,\n         'in that we': 1,\n         'and pain sin': 1,\n         'more sure the': 1,\n         'compound': 1,\n         'confusion of this': 1,\n         'So long so': 1,\n         'its set would': 1,\n         'covered nothing that': 2,\n         'risk': 3,\n         'Psalms': 2,\n         'Room in this': 1,\n         'at bridges the': 1,\n         'have year': 1,\n         'give': 4,\n         'If ruling the': 1,\n         'Out of up': 1,\n         'do': 24,\n         'receive': 2,\n         'history it proved': 1,\n         'and courage too': 1,\n         'achieves never war': 1,\n         'our prefer we': 1,\n         'ordinary': 2,\n         'about space the': 1,\n         'during testing the': 1,\n         'Archbishop Temple had': 1,\n         'go': 11,\n         'Memorial War of': 1,\n         'anguish inexpressible of': 1,\n         'a been perpetual': 1,\n         'Goodness destiny': 1,\n         'and awesome no': 1,\n         'man normal sinful': 1,\n         'go thing': 1,\n         'idea': 2,\n         'Bradley Macbeth Professor': 1,\n         'in minister your': 1,\n         'futility': 1,\n         'figures shatter would': 1,\n         'Gods of operation': 1,\n         'but war': 1,\n         'If thou wilt': 1,\n         'be might realized': 1,\n         'bring': 4,\n         'an exposure such': 1,\n         'be not wise': 1,\n         'God day this': 1,\n         'All Have right': 1,\n         'the tunnel under': 2,\n         'challenged show to': 1,\n         'Stephenson by enthusiasts': 1,\n         'and man then': 1,\n         'faith outlook shaken': 1,\n         'cheap is something': 1,\n         'but events world': 1,\n         'broken during the': 1,\n         'saving': 1,\n         'in planting the': 2,\n         'half inches the': 1,\n         'by dont travel': 1,\n         'His defeat inevitably': 1,\n         'question the to': 1,\n         'all in it': 1,\n         'men never of': 1,\n         'every freed from': 1,\n         'application direct': 1,\n         'all and to': 1,\n         'and relaying stock': 1,\n         'There silence was': 1,\n         'hence the': 1,\n         'It comparatively is': 1,\n         'earth': 4,\n         'gauge my wide': 1,\n         'They desired sincerely': 1,\n         'develop suffer to': 1,\n         'is learning to': 2,\n         'father': 4,\n         'bear': 1,\n         'faith this transformed': 1,\n         'category painfully precise': 1,\n         'redeem': 3,\n         'be': 28,\n         'of scrutiny the': 1,\n         'some such way': 1,\n         'aspect joyous of': 1,\n         'Washing disciples the': 1,\n         'and then': 1,\n         'both come who': 1,\n         'has living memory': 1,\n         'exactly know would': 1,\n         'DD OBE SMALL': 1,\n         'and committal to': 1,\n         'man which wise': 1,\n         'how longer much': 1,\n         'moral teaching': 4,\n         'accomplished is will': 1,\n         'John believed it': 1,\n         'first': 3,\n         'fight often we': 1,\n         'Im bothered not': 1,\n         'of unquenchable will': 1,\n         'homes many were': 1,\n         'perhaps were you': 1,\n         'This suffered then': 1,\n         'But it something': 1,\n         'can man no': 1,\n         'borders muchneeded to': 1,\n         'make': 7,\n         'become never straight': 1,\n         'point': 4,\n         'I more no': 1,\n         'call': 10,\n         'of regarding way': 1,\n         'His human was': 1,\n         'If built you': 1,\n         'MasterCraftsman the': 1,\n         'omnipotence': 4,\n         'way': 19,\n         'love': 11,\n         'and in whomsoever': 1,\n         'desired sincerely they': 1,\n         'and come work': 1,\n         'faith': 11,\n         'he into ran': 1,\n         'and lifespan no': 1,\n         'Divine act of': 1,\n         'There eternity is': 1,\n         'expect': 2,\n         'application men to': 1,\n         'died engineers great': 1,\n         'GEORGE REVEREND VERY': 1,\n         'live': 7,\n         'His of service': 1,\n         'man wise': 2,\n         'of order thisworldly': 1,\n         'a cut large': 1,\n         'Bishop Corson of': 1,\n         'question sort': 1,\n         'range': 1,\n         'Barth Karl': 2,\n         'I shall stay': 1,\n         'beautiful face with': 1,\n         'God but nothing': 1,\n         'have': 38,\n         'converting in the': 1,\n         'add': 1,\n         'is selfgiving service': 1,\n         'war': 2,\n         'They associations forbidding': 1,\n         'experience know that': 1,\n         'Not been easy': 1,\n         'metals that with': 1,\n         'realm': 1,\n         'meaning': 2,\n         'multitudes of': 1,\n         'of remembrance what': 1,\n         'know': 25,\n         'Until happens that': 1,\n         'lives ours the': 1,\n         'Both men were': 1,\n         'Lords Prayer They': 1,\n         'disclose themselves will': 1,\n         'valid': 1,\n         'I love must': 1,\n         'of the thisworldly': 1,\n         'character': 2,\n         'convincing made real': 1,\n         'For inconvenient times': 1,\n         'inevitably then this': 1,\n         'hopelessly outlook shaken': 1,\n         'after died they': 1,\n         'and climbed finally': 1,\n         'Canadian patient the': 1,\n         'inwardness radical the': 1,\n         'Robert Stephenson and': 1,\n         'fact': 3,\n         'speaking': 1,\n         'T W learners': 1,\n         'and holidays your': 1,\n         'confidence let us': 1,\n         'a great presents': 1,\n         'implicit in life': 1,\n         'For instance times': 1,\n         'But if your': 1,\n         'at sure that': 1,\n         'The normal vanity': 1,\n         'I speaking': 1,\n         'a bomber of': 1,\n         'own': 6,\n         'entire ships the': 1,\n         'Onward in singing': 1,\n         'say': 14,\n         'how much us': 1,\n         'Ask Much': 2,\n         'advantage him of': 1,\n         'in own we': 1,\n         'aware': 1,\n         'all right': 1,\n         'history up winds': 1,\n         'religion': 4,\n         'Sir Stephen remarked': 1,\n         'still suffer who': 1,\n         'omnipotence the was': 2,\n         'burst': 1,\n         'force': 3,\n         'remember this to': 1,\n         'His The of': 1,\n         'an for myself': 1,\n         'be hidden only': 1,\n         'baffled earth wondering': 1,\n         'the to uttermost': 1,\n         'anyhow learning to': 1,\n         'seek': 2,\n         'book entitled little': 1,\n         'Resist courts law': 1,\n         '29 and good': 1,\n         'The man ordinary': 1,\n         'faith in patience': 1,\n         'a saying with': 1,\n         'Lords earthly existence': 1,\n         'white': 2,\n         'War during the': 1,\n         'pride shuts which': 1,\n         'our reverent silence': 2,\n         'Mt be known': 1,\n         'find': 4,\n         'Cameron Highlanders went': 1,\n         'new': 2,\n         'God character': 1,\n         'Consider death': 1,\n         'a lovely touch': 1,\n         'deaths that were': 1,\n         'Parable': 1,\n         'basic certain principles': 1,\n         'bear burden': 1,\n         'He it says': 1,\n         'man transformed will': 1,\n         'number the who': 1,\n         'canst make thou': 1,\n         'later low the': 1,\n         'have six views': 1,\n         'Eventually agreed they': 1,\n         'complaining that war': 1,\n         'service': 5,\n         'and faces such': 1,\n         'life such where': 1,\n         'highest hill the': 1,\n         'Lord action our': 1,\n         'I else shall': 1,\n         'Fathers Heavenly intentions': 1,\n         'The agony this': 1,\n         'best between evil': 1,\n         'awake broad spirit': 1,\n         'one': 13,\n         'again and warns': 1,\n         'word': 7,\n         'precious': 1,\n         'year': 9,\n         'What chaos there': 1,\n         'assize great that': 1,\n         'and obtuseness sin': 1,\n         'achievement': 2,\n         'camp his own': 1,\n         'a has lovely': 1,\n         'H on the': 1,\n         'power that unfeeling': 1,\n         'Germany in killed': 1,\n         'from our silence': 1,\n         'a man transformed': 1,\n         'My going railways': 1,\n         'Jesus from springs': 1,\n         'God present': 1,\n         'heareth sayings these': 1,\n         'cannot escape possibly': 1,\n         'almightiness of the': 1,\n         'men never willing': 1,\n         'have need': 2,\n         'lamp': 2,\n         'Just hundred one': 1,\n         'just lives their': 1,\n         'a ask year': 1,\n         'struggle': 7,\n         'His In is': 1,\n         'clear crystal is': 1,\n         'fearnone of these': 1,\n         'death': 3,\n         '61a Bishop debtorsMt': 1,\n         'alike and old': 1,\n         'austere first the': 1,\n         'God man': 1,\n         'a show yourself': 1,\n         'George meeting was': 1,\n         'earnest excellence some': 1,\n         'He appealed for': 1,\n         'astronomicalthe cannot mind': 1,\n         'history it': 1,\n         'but guaranteed the': 1,\n         'say to wrong': 1,\n         'imagine vainly we': 1,\n         'all depended on': 1,\n         'asking questions them': 1,\n         'die': 4,\n         'and force its': 1,\n         'All provoke will': 1,\n         'prepared receive': 1,\n         'capacities of sinful': 1,\n         'old young': 2,\n         'We expressed stand': 1,\n         'depth inconceivable such': 1,\n         'decided how wide': 1,\n         'A FEW weeks': 1,\n         'a in minutes': 1,\n         'is it whomsoever': 1,\n         'look way': 1,\n         'and enslaved men': 2,\n         'Him for take': 1,\n         'a one short': 1,\n         'nerves of the': 1,\n         'In fact questions': 1,\n         'all at': 1,\n         'His human humanity': 1,\n         'and assistance their': 1,\n         'Jesus love': 1,\n         'cost': 2,\n         'compounded is redemption': 1,\n         'I If selfregard': 1,\n         'flesh heir is': 1,\n         'War amid or': 1,\n         'a at hours': 1,\n         'They gave to': 1,\n         'dream of some': 2,\n         'accept': 1,\n         'and wonderful world': 1,\n         'and honestly thinks': 1,\n         'Swear not': 1,\n         'REVEREND THE VERY': 1,\n         'for hereafter life': 1,\n         'comfort': 2,\n         'message': 2,\n         'draw': 1,\n         'and can force': 1,\n         'This suffered was': 1,\n         'nothing perhaps there': 1,\n         'is quite wrong': 1,\n         'Cornwall for your': 1,\n         'Surely graver words': 1,\n         'If a time': 1,\n         'all changing the': 1,\n         'man prepared to': 1,\n         ' wash': 1,\n         'Can': 1,\n         'and praises the': 1,\n         'the vague while': 1,\n         'and death should': 1,\n         'and handicapped permanently': 1,\n         'into introduce it': 1,\n         'say shouldnt to': 1,\n         'against that trespass': 1,\n         'subtler ways will': 1,\n         'all his rebuilding': 1,\n         'and history their': 1,\n         'What simply submit': 1,\n         'days gone in': 1,\n         'reaction the you': 1,\n         'be must yet': 1,\n         'set': 9,\n         'see': 24,\n         'could imagine we': 1,\n         'Design entitled for': 1,\n         'of thoughts true': 1,\n         'need': 8,\n         'The extreme views': 1,\n         'a of platoon': 2,\n         'In his struggle': 1,\n         'in twice which': 1,\n         'final listed view': 1,\n         'Any Puerisque Questions': 1,\n         'Some its lines': 1,\n         'omnipotence the the': 1,\n         'liveth man unto': 1,\n         'His in way': 1,\n         'felt men that': 1,\n         'and enter street': 1,\n         'and forgiveness grace': 1,\n         'firm stand': 2,\n         'They different took': 1,\n         'either static': 1,\n         'a has': 1,\n         'battle into that': 1,\n         'What mean': 1,\n         'like men that': 1,\n         'LEONARD OBE SMALL': 1,\n         'boy girl': 1,\n         'time': 11,\n         'television that wellknown': 1,\n         'God love': 4,\n         'committal the to': 1,\n         'Men by themselves': 1,\n         'Why p': 1,\n         'been engaged throughout': 1,\n         'form the traditional': 1,\n         'Men by old': 1,\n         'ask this to': 1,\n         'came he work': 1,\n         'thing': 14,\n         'in life measure': 1,\n         'more': 4,\n         'a shooting': 1,\n         'answered their to': 1,\n         'sight': 1,\n         'for me revealed': 1,\n         'another direction yet': 1,\n         'Third we': 1,\n         'Organizations Youth once': 1,\n         'Testament They and': 1,\n         'God describes': 1,\n         'are debtor to': 1,\n         'hide thing': 2,\n         'salutary stop to': 1,\n         'heaven in with': 1,\n         'as the': 1,\n         'so the tickets': 1,\n         'as feet two': 1,\n         'human race': 1,\n         'Jesus When suffered': 1,\n         'H letter out': 1,\n         'Ffestiniog and the': 1,\n         'are situations two': 1,\n         'T W late': 1,\n         'Gods intentions than': 1,\n         'hope': 1,\n         'in our outwardly': 1,\n         'Eternity nearer years': 1,\n         'he held that': 1,\n         'one to': 1,\n         'as circles widen': 1,\n         'missed significance teachinga': 1,\n         'only': 4,\n         'God Until of': 1,\n         'men other what': 1,\n         'It did reigns': 1,\n         'is men with': 1,\n         'only way': 5,\n         'Son': 3,\n         'Jesus of springs': 1,\n         'DD JEFFREY JOHNSTONE': 1,\n         'great': 4,\n         'ask': 3,\n         'and that wasnt': 1,\n         'heart': 7,\n         'His Son The': 1,\n         'good struggle': 1,\n         'Here down is': 1,\n         'This idea uplifting': 1,\n         'water': 1,\n         'line': 3,\n         'and ignorant poor': 1,\n         'beyond but us': 1,\n         'by travel you': 1,\n         'is ledger their': 1,\n         'There these': 1,\n         'He bore': 1,\n         'name please the': 1,\n         'and tasks the': 1,\n         'better than way': 1,\n         'He acceptance supine': 1,\n         'In the wisdom': 1,\n         'our own way': 1,\n         'answer but correct': 1,\n         'in our relationships': 1,\n         'are instrument living': 1,\n         'looking were you': 1,\n         'BBC on television': 1,\n         'cannot grasp mind': 1,\n         'useless was waste': 1,\n         'detail strange': 1,\n         'of peace tasks': 1,\n         'assents atheist to': 1,\n         'BA BD BROWN': 1,\n         'begin': 4,\n         'Well home lessons': 1,\n         'how many provinces': 1,\n         'folk saw that': 1,\n         'evil not': 1,\n         'he remorsefully so': 1,\n         'men submarine the': 1,\n         'but the': 1,\n         'climax': 3,\n         'follow': 1,\n         'shirker the who': 1,\n         'fairness that the': 1,\n         'Lord': 8,\n         'TWENTYTHIRD be forgiven': 1,\n         'Bradley Professor says': 1,\n         'gave it to': 1,\n         'pattern': 1,\n         'have learn': 1,\n         'come': 18,\n         'inspire': 5,\n         'companies different railway': 1,\n         'and wellknown writer': 1,\n         'different lines six': 1,\n         'religion seeks to': 1,\n         'Old did in': 1,\n         'insights moral of': 1,\n         'Time We are': 1,\n         'Gethsemane He of': 1,\n         '102 Hfl TWENTYFOURTH': 1,\n         'after it or': 1,\n         'millions of which': 1,\n         'day do its': 1,\n         'His We way': 1,\n         'only plans the': 1,\n         'hour': 1,\n         'God can leave': 1,\n         'apocalyptic eschatology': 1,\n         'ideal unattainable which': 1,\n         'come for our': 1,\n         'achieves anything never': 1,\n         'Whereupon the voice': 1,\n         'Yet performing the': 1,\n         'The name': 1,\n         'are for living': 1,\n         'navvies were who': 1,\n         'For it obedience': 1,\n         'God a strikes': 1,\n         'Jesus and man': 1,\n         'be painfully to': 1,\n         'England': 3,\n         'Brunel famous followed': 1,\n         'and fathers your': 1,\n         'He presenting was': 1,\n         'cardboard of out': 1,\n         'either it': 1,\n         'radical': 1,\n         'involved man the': 1,\n         'Holy Remembering Word': 1,\n         'Kilsby tunnel where': 1,\n         'Germans Germany fighting': 1,\n         'of the victors': 1,\n         'grim harvest that': 1,\n         'cannot ourselves save': 1,\n         'His of purpose': 1,\n         'a supine with': 1,\n         'and grateful should': 1,\n         'reaction': 1,\n         'lay': 2,\n         'Tolstoy and expected': 1,\n         'can succeed ultimately': 1,\n         'for need repentance': 1,\n         'intellectually juggling myself': 1,\n         'advantage take': 2,\n         'Praying in true': 1,\n         'in itself selfgiving': 1,\n         'challenged he is': 1,\n         'in situations two': 1,\n         'first of secret': 1,\n         'Our reckoning this': 1,\n         'had to will': 1,\n         'for it it': 1,\n         'action kill': 1,\n         'young': 2,\n         'Have right you': 1,\n         'call clarion': 1,\n         'cried in they': 1,\n         'financial present serious': 1,\n         'BY Ideals of': 1,\n         'do influence to': 1,\n         'SUNDAY TWENTYSECOND Year': 1,\n         'Jesus do': 1,\n         'could sea the': 1,\n         'In service that': 1,\n         'Debt TRINITY The': 1,\n         'The new universe': 1,\n         'Good and': 1,\n         'every from hurt': 1,\n         'belong': 1,\n         'seek share to': 1,\n         'Forgive substitute': 1,\n         'a and glad': 1,\n         'For priced thirty': 1,\n         'The clauses conditional': 1,\n         'days for instance': 1,\n         'Niebuhr Richard who': 1,\n         'Jesus bids us': 1,\n         'disposition essential the': 1,\n         'father his problems': 1,\n         'human into personal': 1,\n         '25 halffull shaft': 1,\n         'all amid find': 1,\n         'engineering of the': 1,\n         'his problems the': 1,\n         'We own way': 1,\n         'If you': 3,\n         'cannot men resist': 1,\n         'be covered will': 1,\n         'power': 4,\n         'Both also engineers': 1,\n         'interpretation': 2,\n         'by evil produced': 1,\n         'help': 3,\n         'understand': 4,\n         'meant rebuilding that': 1,\n         'How long': 2,\n         'Lord come the': 1,\n         'face persecution to': 1,\n         'It comes exposition': 1,\n         'many moments when': 1,\n         'gauge the': 1,\n         'death man must': 1,\n         'keeping parents their': 1,\n         'course of war': 1,\n         'before her her': 1,\n         'period': 1,\n         'Manson T W': 2,\n         'a be uniform': 1,\n         'BA BD BLACKPOOL': 1,\n         'New on purely': 1,\n         'Jesus as live': 1,\n         'But it thought': 1,\n         'to trucks were': 1,\n         'longer much will': 1,\n         'life': 28,\n         'hearts on such': 1,\n         'Kingdom beingthe into': 1,\n         'man': 27,\n         'Gods declared forgiveness': 1,\n         'or these': 2,\n         'dwell not too': 1,\n         'Kingdom': 3,\n         'God of sanctuary': 1,\n         'about much other': 1,\n         'as in narrow': 1,\n         'There eternity of': 1,\n         'Revelation': 1,\n         'Swear at not': 1,\n         'concerned therefore was': 1,\n         'Isambard Stephenson and': 1,\n         'One holds who': 1,\n         'debt the vast': 1,\n         'into its them': 1,\n         'and really them': 1,\n         'as them were': 1,\n         'been ever you': 1,\n         'all dead our': 1,\n         'infantry of platoon': 1,\n         'face': 4,\n         'In the trust': 1,\n         'Look centurions son': 1,\n         'The r': 1,\n         'The can lookeron': 1,\n         'the toying with': 1,\n         'He disparity no': 1,\n         'It crystal is': 1,\n         'You dont travel': 1,\n         'Judge nothing sayings': 1,\n         'and avoiding moral': 1,\n         'Sermon imply the': 1,\n         'emaciated leper the': 1,\n         'apply': 2,\n         'enable': 2,\n         'ago two years': 1,\n         'been said': 1,\n         'Sermon a the': 1,\n         'near': 1,\n         'extinction like looked': 1,\n         'clear': 4,\n         'a but resentful': 2,\n         'Rooms Upper that': 1,\n         'sang shouted they': 1,\n         'I The Thee': 1,\n         'outcome': 1,\n         'Saltash at with': 1,\n         'desired goal to': 1,\n         'name': 6,\n         'not thousand two': 1,\n         'fool juggling myself': 1,\n         'standard': 2,\n         '31 of othersfor': 1,\n         'human splits the': 1,\n         'music shut up': 1,\n         'Kingdom it will': 1,\n         'all going on': 1,\n         'found himself once': 1,\n         'great of tribulationa': 1,\n         'generously you': 1,\n         'about heaven of': 1,\n         'kill': 4,\n         'I If Rooms': 1,\n         'truth': 13,\n         'It enough obvious': 1,\n         'also betrays evil': 1,\n         'It little needs': 1,\n         'problem': 1,\n         'forgiven the would': 1,\n         'Mount the then': 1,\n         'houses on the': 2,\n         'His in properly': 1,\n         'north out travelled': 1,\n         'absolute obedience to': 1,\n         'We may way': 1,\n         'Fourthly stand we': 1,\n         'an half hourRev': 1,\n         'mind': 4,\n         'Sir do remarked': 1,\n         'a mischievous schoolboy': 1,\n         'His can grace': 1,\n         '7 a rockMt': 1,\n         'choose provided you': 1,\n         'in it ye': 1,\n         'shout': 2,\n         'about age this': 1,\n         'mystery': 1,\n         'and measure symbol': 1,\n         'fairness obvious with': 1,\n         'biggest change the': 1,\n         'claim': 2,\n         'said voice': 1,\n         'Whereupon the': 1,\n         'elements have of': 1,\n         'experiments started the': 1,\n         'be can hidden': 1,\n         'Church little unresisting': 1,\n         'all in this': 1,\n         'A AFTER TRINITY': 1,\n         'a destiny noble': 1,\n         'a amputated as': 1,\n         'and have master': 1,\n         'New Testament': 7,\n         'Years altar upon': 1,\n         'and found is': 1,\n         'a cried in': 1,\n         'because he prevail': 1,\n         'God will': 4,\n         'His HongKong and': 1,\n         'Him to was': 1,\n         'the to way': 1,\n         'each figure total': 1,\n         'Imperial Rome was': 1,\n         'gospel': 1,\n         'associations forbidding have': 1,\n         'No good unassailable': 1,\n         'cold power unfeeling': 1,\n         'morality religion': 1,\n         'For all it': 1,\n         'grasp them unless': 1,\n         'If happen to': 1,\n         'difficulties of sorts': 1,\n         'defiant more of': 1,\n         'failed in who': 1,\n         'on operation that': 1,\n         'Church Methodist tells': 1,\n         'are astronomicalthe mind': 1,\n         'be recognizable to': 1,\n         'and experience from': 1,\n         'Would first it': 1,\n         'is not prophetic': 1,\n         'And how': 1,\n         'battle': 7,\n         'and carriages if': 1,\n         'of pieces tricky': 1,\n         'Day Remembrance bidding': 1,\n         'resent they which': 1,\n         'Ffestiniog in the': 1,\n         'Spirit': 3,\n         'allow': 2,\n         'theological': 1,\n         'for meant': 1,\n         'Even love now': 1,\n         'church composed tiny': 1,\n         'Its earth on': 1,\n         'take': 4,\n         'kind': 6,\n         'and history up': 1,\n         'always is manysided': 1,\n         'trouble': 2,\n         '1 A': 1,\n         'as frightening world': 1,\n         'That time': 1,\n         'chain': 1,\n         'Consider first': 1,\n         'debt': 6,\n         'and poorly understand': 1,\n         'on the unanimously': 1,\n         'God Until that': 1,\n         'All right': 1,\n         'trespass': 3,\n         'CATHCART GLASGOW MA': 1,\n         'struggle that we': 1,\n         'area plaguestricken where': 1,\n         'a rocket yourself': 1,\n         'an by things': 1,\n         'believe': 8,\n         'His in things': 1,\n         'strive': 2,\n         'eye own': 1,\n         'Both new steamers': 1,\n         'first step': 2,\n         'exact keep very': 1,\n         'there was': 1,\n         'Him misshapen was': 1,\n         'beyond mere sense': 1,\n         'path': 2,\n         'is truth wheresoever': 1,\n         'His meaning of': 1,\n         'afraid suffering': 1,\n         'a of savour': 1,\n         'inwardly our to': 1,\n         'be revealed': 2,\n         '7 Professor rockMt': 1,\n         'not or': 1,\n         'Hunter M a': 1,\n         'How circles the': 1,\n         'hand other': 2,\n         'debtors forgive our': 1,\n         'basically real the': 1,\n         'nearest planet to': 1,\n         'The new omnipotence': 1,\n         '1': 1,\n         'Armistice first the': 1,\n         'living': 7,\n         'an and eyelid': 1,\n         'painfully the to': 1,\n         'criterion': 2,\n         'Somme at the': 1,\n         'Sermon imply that': 1,\n         'Brunels famous over': 1,\n         'It gauge took': 1,\n         'comfort know to': 1,\n         'American Church Methodist': 1,\n         'a home wealthy': 1,\n         'right': 2,\n         'important living person': 1,\n         'Armistice Day when': 1,\n         'Serve fellowmen your': 1,\n         'great spans two': 1,\n         'work': 8,\n         'do men they': 1,\n         '2 A questionsLk': 1,\n         'Brunel went workings': 1,\n         'againthose same the': 1,\n         'not only questions': 1,\n         'in in shacks': 1,\n         'and still what': 1,\n         'for hours ninetysix': 1,\n         'They important things': 1,\n         'looked what with': 1,\n         'and control knowledge': 1,\n         'a silence they': 1,\n         'hence make religion': 1,\n         'Gods allprevailing imagine': 1,\n         'down has known': 1,\n         'each that there': 1,\n         'The final view': 1,\n         'respond': 2,\n         'can neither world': 1,\n         'a living worldly': 1,\n         'amputated as leg': 1,\n         'camp his in': 1,\n         'For God out': 1,\n         'stand they where': 4,\n         'home': 1,\n         'midst': 6,\n         'halffull of water': 1,\n         'by imposed this': 1,\n         'Look still wider': 1,\n         'of people still': 1,\n         'For His ministry': 1,\n         'a be world': 1,\n         'a chain forming': 1,\n         'If mark you': 1,\n         'or uncertain was': 1,\n         'malice of prejudice': 1,\n         'can relics see': 1,\n         'its man purpose': 1,\n         'Then given the': 1,\n         'and sit thoroughfare': 1,\n         'harmonies of unheard': 1,\n         'General Governor of': 1,\n         'Manson W happily': 1,\n         'Harrison he whoever': 1,\n         'It means regret': 1,\n         'every one': 1,\n         'but idea uplifting': 1,\n         'Aberdeen Hunter of': 1,\n         'The intervention teaching': 1,\n         'but us which': 1,\n         'escape it possibly': 1,\n         'and any change': 1,\n         'life of': 3,\n         'inordinate of victim': 1,\n         'No in power': 1,\n         'Some lines of': 1,\n         'text': 7,\n         'half of space': 1,\n         'and asked': 1,\n         'Remembrance on read': 1,\n         'important person': 1,\n         'instance saying the': 1,\n         'going is valuable': 1,\n         'a liberated on': 1,\n         '61a Bishop Corson': 1,\n         'It category needs': 1,\n         'often read very': 1,\n         'and issues spiritual': 1,\n         'it or smother': 2,\n         'as known': 1,\n         'think': 9,\n         'a force mind': 1,\n         'because it way': 1,\n         'root': 1,\n         'The soul what': 1,\n         'depended each on': 1,\n         'step': 1,\n         'hydrogen of the': 1,\n         'human life': 3,\n         'silence the with': 1,\n         'Still as rJO': 1,\n         'into philosophies various': 1,\n         'Jesus in revealed': 1,\n         'and convincing real': 1,\n         'first rays the': 1,\n         'other similar to': 1,\n         'least': 3,\n         'course he not': 1,\n         'life seriously would': 1,\n         'be finally revealed': 1,\n         'no something that': 1,\n         'Garden': 1,\n         'been ever on': 1,\n         'in lovely touch': 1,\n         'life many with': 1,\n         'Jesus That time': 1,\n         'John sound to': 1,\n         'hands in our': 1,\n         'for going is': 1,\n         'Surely and handicap': 1,\n         'it punctures so': 1,\n         'delicacy that when': 1,\n         'omnipotence the word': 1,\n         'Remembering diverse these': 1,\n         'street': 3,\n         'evidence': 3,\n         'preserve': 2,\n         'He In it': 1,\n         'What the': 1,\n         'God her open': 1,\n         'say though to': 1,\n         'for hidden only': 1,\n         'four gauge of': 1,\n         'write': 4,\n         'How the warped': 1,\n         'Great Railway Western': 1,\n         'and they until': 1,\n         'a day': 1,\n         'by possessed that': 1,\n         'a or squadron': 1,\n         'order the thisworldly': 1,\n         'imposed reverent silence': 1,\n         'every generous': 1,\n         'One at thing': 1,\n         'a fearsome is': 1,\n         ...})"
     },
     "execution_count": 24,
     "metadata": {},
     "output_type": "execute_result"
    }
   ],
   "source": [
    "trigramCount_cleaned_dict[id]"
   ],
   "metadata": {
    "collapsed": false,
    "pycharm": {
     "name": "#%%\n"
    }
   }
  },
  {
   "cell_type": "code",
   "execution_count": 16,
   "outputs": [
    {
     "data": {
      "text/plain": "['1900,1909',\n '1910,1919',\n '1920,1929',\n '1930,1939',\n '1940,1949',\n '1950,1959',\n '1960,1969',\n '1970,1979',\n '1980,1989',\n '1990,1999',\n '2000,2009',\n '2010,2019']"
     },
     "execution_count": 16,
     "metadata": {},
     "output_type": "execute_result"
    }
   ],
   "source": [
    "def ids_from_colvals(df_name, col, matchstring):\n",
    "    ids = eval('{0}[{0}[\"{1}\"]{2}]'.format(df_name, col, matchstring))[\"id\"].tolist()\n",
    "    return ids\n",
    "\n",
    "def merge_data_from_ids(ids, datadict):\n",
    "    c = Counter()\n",
    "    for id in ids:\n",
    "        d = datadict[id]\n",
    "        c.update(d)\n",
    "    return c\n",
    "\n",
    "def get_tops(df_name, col, matchstring, n=10):\n",
    "    ids = ids_from_colvals(df_name, col, matchstring)\n",
    "    c = merge_data_from_ids(ids, unigramCount_dict)\n",
    "    c_tups = [el for el in c.items() if el[0] != \"\"]\n",
    "    top10 = sorted(c_tups, key=lambda kv: kv[1], reverse=True)[:n]\n",
    "    return top10\n",
    "\n",
    "decades = []\n",
    "for decade_n in range(0,10):\n",
    "    decades.append(\"19{0}0,19{0}9\".format(str(decade_n)))\n",
    "decades += [\"2000,2009\", \"2010,2019\"]\n",
    "decades"
   ],
   "metadata": {
    "collapsed": false,
    "pycharm": {
     "name": "#%%\n"
    }
   }
  },
  {
   "cell_type": "code",
   "execution_count": 26,
   "outputs": [
    {
     "data": {
      "text/plain": "132"
     },
     "execution_count": 26,
     "metadata": {},
     "output_type": "execute_result"
    }
   ],
   "source": [
    "# test with function...\n",
    "ids = ids_from_colvals(\"jstor_df\", \"publicationYear\", \".between(1920, 1929)\")\n",
    "len(ids)"
   ],
   "metadata": {
    "collapsed": false,
    "pycharm": {
     "name": "#%%\n"
    }
   }
  },
  {
   "cell_type": "code",
   "execution_count": 27,
   "outputs": [],
   "source": [
    "c = merge_data_from_ids(ids, trigramCount_cleaned_dict)"
   ],
   "metadata": {
    "collapsed": false,
    "pycharm": {
     "name": "#%%\n"
    }
   }
  },
  {
   "cell_type": "code",
   "execution_count": 29,
   "outputs": [
    {
     "data": {
      "text/plain": "[('have', 3081),\n ('do', 1380),\n ('be', 1229),\n ('time', 1207),\n ('work', 1206),\n ('make', 1180),\n ('say', 1105),\n ('find', 1025),\n ('God', 999),\n ('give', 966)]"
     },
     "execution_count": 29,
     "metadata": {},
     "output_type": "execute_result"
    }
   ],
   "source": [
    "sorted(c.items(), key=lambda kv: kv[1], reverse=True)[:10]"
   ],
   "metadata": {
    "collapsed": false,
    "pycharm": {
     "name": "#%%\n"
    }
   }
  },
  {
   "cell_type": "code",
   "execution_count": 30,
   "outputs": [],
   "source": [
    "def get_tops(df_name, col, matchstring, n=10):\n",
    "    ids = ids_from_colvals(df_name, col, matchstring)\n",
    "    c = merge_data_from_ids(ids, trigramCount_cleaned_dict)\n",
    "    c_tups = [el for el in c.items() if len(el[0].split()) > 1]\n",
    "    tops = sorted(c_tups, key=lambda kv: kv[1], reverse=True)[:n]\n",
    "    return tops"
   ],
   "metadata": {
    "collapsed": false,
    "pycharm": {
     "name": "#%%\n"
    }
   }
  },
  {
   "cell_type": "code",
   "execution_count": 31,
   "outputs": [
    {
     "name": "stdout",
     "output_type": "stream",
     "text": [
      "[('New Testament', 1097), ('Old Testament', 783), ('American Journal', 764), ('Christ Jesus', 515), ('Journal Theology', 363), ('hand other', 348), ('same time', 260), ('Epic Indian', 224), ('Biblical World', 217), ('Paul St', 202), ('Paul Saint', 176), ('Fourth Gospel', 172), ('century second', 168), ('School Sunday', 159), ('point view', 157), ('Holy Spirit', 151), ('Man Son', 142), ('States United', 141), ('place take', 134), ('birth virgin', 130), ('New York', 124), ('Jesus life', 120), ('X X', 120), ('Paul apostle', 114), ('J P Peters', 114), ('have seem', 111), ('century first', 107), ('Christ resurrection', 104), ('Apostle Paul', 103), ('Biblical Literature', 102)]\n",
      "[('New Testament', 821), ('American Journal', 534), ('Old Testament', 313), ('Christ Jesus', 308), ('Paul St', 232), ('Journal Theology', 228), ('same time', 224), ('hand other', 223), ('Biblical World', 216), ('point view', 165), ('place take', 162), ('Apostle Paul', 160), ('Holy Spirit', 156), ('Fourth Gospel', 151), ('Harvard Review Theological', 151), ('century second', 139), ('have seem', 132), ('Jesus Lord', 130), ('century first', 120), ('States United', 106), ('Paul apostle', 105), ('christian church', 104), ('Chicago University', 101), ('New York', 89), ('century fourth', 88), ('God have', 86), ('Testament new', 85), ('Jesus have', 82), ('day first', 82), ('long time', 82)]\n",
      "[('New Testament', 479), ('New York', 345), ('p title', 304), ('copy locate', 270), ('States United', 264), ('S n p', 248), ('Old Testament', 240), ('American Journal', 229), ('i p title', 217), ('Christ Jesus', 210), ('collation p', 175), ('e h t', 164), ('Harvard Review Theological', 158), ('Paul St', 157), ('Journal Religion', 150), ('Chicago University', 148), ('blank p', 146), ('S c p', 145), ('hand other', 134), ('Catholic Church', 129), ('place take', 128), ('same time', 125), ('Historical Society jewish', 124), ('Historical american jewish', 124), ('blank ii p', 119), ('Bibliography Jewish', 112), ('Macmillan York', 112), ('american jewish', 111), ('Bibliography american jewish', 111), ('c p p', 110)]\n",
      "[('New Testament', 461), ('States United', 420), ('Christ Jesus', 347), ('Church Presbyterian', 298), ('Paul St', 268), ('New York', 184), ('hand other', 168), ('Holy See', 158), ('God Kingdom', 137), ('same time', 130), ('Old Testament', 126), ('Catholic Church', 122), ('Datum Romae apud', 117), ('Harvard Review Theological', 110), ('Romae S apud', 110), ('England New', 100), ('De Martinis source', 100), ('Biblical Literature', 99), ('Holy Spirit', 93), ('E R S', 93), ('Apostle Paul', 92), ('place take', 90), ('anno nostri pontificatus', 88), ('century second', 87), ('New Orleans', 83), ('Mr Revd', 81), ('God have', 80), ('English Medieval', 80), ('English Life Medieval', 80), ('Medieval franciscan', 80)]\n",
      "[('New Testament', 886), ('Christ Jesus', 768), ('Paul St', 583), ('Old Testament', 552), ('Holy Spirit', 528), ('hand other', 275), ('G P', 261), ('Publications Sage', 254), ('Catholic Church', 248), ('States United', 222), ('same time', 216), ('Biblical Literature', 200), ('God have', 192), ('Apostle Paul', 176), ('place take', 158), ('christian faith', 153), ('century second', 151), ('New York', 149), ('God word', 140), ('have seem', 135), ('God Kingdom', 134), ('Ghost Holy', 132), ('June publication', 127), ('God love', 125), ('Harvard Review Theological', 117), ('Biblical Journal', 114), (' cit op p', 113), ('first place', 110), ('point view', 108), ('church early', 108)]\n",
      "[('New Testament', 1815), ('Christ Jesus', 1133), ('Old Testament', 1110), ('Holy Spirit', 736), ('Paul St', 658), ('hand other', 486), ('same time', 479), ('New York', 460), ('Publications Sage', 448), ('Apostle Paul', 377), (' cit op p', 367), ('place take', 364), ('God have', 319), ('States United', 318), ('God word', 307), ('G d z', 259), ('Diarium G d', 257), ('Sem study', 251), ('Biblical Literature', 250), ('other word', 239), ('have seem', 238), ('God love', 229), ('June publication', 224), ('Fourth Gospel', 208), ('christian faith', 207), ('Paul have', 205), ('Testament old', 191), ('Dead Sea', 186), ('grad study', 183), ('Bethlehem G z', 183)]\n",
      "[('New Testament', 2086), ('Christ Jesus', 1352), ('Holy Spirit', 1163), ('Old Testament', 1082), ('grad study', 847), ('hand other', 652), ('Paul St', 647), ('same time', 627), ('place take', 491), (' cit op p', 485), ('New York', 411), ('Publications Sage', 402), ('Apostle Paul', 395), ('God have', 391), ('C D Wash', 388), ('Bibl Pont', 378), ('Script teach', 374), ('God word', 363), ('Bibl Inst Pont', 354), ('June ord', 344), ('Pont script', 319), ('have seem', 298), ('C E Purinton', 296), ('study theol', 282), ('christian faith', 280), ('century second', 250), ('God love', 243), ('Paul have', 241), ('Jesus Lord', 239), ('God Son', 234)]\n",
      "[('New Testament', 2908), ('Christ Jesus', 1786), ('Old Testament', 1189), ('Holy Spirit', 1177), ('hand other', 1060), ('same time', 844), ('New York', 692), (' cit op p', 553), ('States United', 535), ('place take', 496), ('England New', 487), ('Paul St', 475), ('God have', 469), ('Cor I', 424), ('century first', 417), ('Paul letter', 416), ('christian community', 409), ('Apostle Paul', 406), ('Christian early', 399), ('other word', 390), ('God Son', 387), ('Paul have', 370), ('christian faith', 355), ('have seem', 354), ('God word', 352), ('Fourth Gospel', 351), ('Jesus Lord', 315), ('Christianity early', 311), ('Man Son', 306), ('man woman', 304)]\n",
      "[('New Testament', 4009), ('Christ Jesus', 3437), ('Holy Spirit', 2330), ('Old Testament', 1610), ('hand other', 1482), ('same time', 1432), ('being human', 1193), ('place take', 1016), ('God have', 991), ('States United', 928), ('God love', 898), ('New York', 870), ('Paul have', 773), ('Council World', 745), ('Paul letter', 733), ('Apostle Paul', 731), ('Paul use', 726), ('God word', 720), ('other word', 683), ('Christian early', 672), ('have seem', 671), ('Press University', 663), ('christian community', 640), ('century first', 633), ('Paul do', 622), ('Paul St', 555), ('Biblical Literature', 546), ('Christianity early', 523), ('God kingdom', 501), ('man woman', 500)]\n",
      "[('New Testament', 5689), ('Christ Jesus', 2681), ('Holy Spirit', 2549), ('Old Testament', 2210), ('Press University', 2125), ('hand other', 1793), ('same time', 1762), ('note supra', 1674), ('being human', 1571), ('Paul letter', 1302), ('Christian early', 1244), ('place take', 1205), ('States United', 1175), ('Paul use', 1158), ('New York', 1144), ('other word', 1108), ('century first', 1076), ('Christianity early', 991), ('n n n', 985), ('God have', 978), ('Paul have', 909), ('man woman', 892), ('christian community', 883), ('have seem', 799), ('Apostle Paul', 771), ('Biblical Literature', 710), ('century second', 708), ('Paul apostle', 665), ('Cambridge Press University', 665), ('Paul do', 662)]\n",
      "[('New Testament', 12552), ('Press University', 10859), ('Christ Jesus', 7774), ('Cambridge Press University', 7173), ('Holy Spirit', 6743), (' Cambridge University', 5480), (' Cambridge Online', 5480), (' Online book', 5480), ('Books Cambridge Online', 5411), ('Old Testament', 4767), ('same time', 4708), ('hand other', 4019), ('States United', 3850), ('being human', 3600), ('place take', 3499), ('Christianity early', 3384), ('Christian early', 3234), ('God have', 2898), ('New York', 2887), ('other word', 2808), ('Paul letter', 2705), ('Press pp', 2703), ('century first', 2347), ('have seem', 2159), ('Apostle Paul', 2125), ('Paul use', 1934), ('christian community', 1866), ('God word', 1864), ('man woman', 1799), ('Paul St', 1732)]\n",
      "[('New Testament', 37694), ('Holy Spirit', 27283), ('Press University', 21785), ('Christ Jesus', 21228), ('Old Testament', 16353), ('Book reviews', 15062), ('Paul letter', 12879), ('same time', 12645), ('being human', 10651), ('hand other', 10189), ('Christian early', 9599), ('place take', 8990), ('God have', 8677), ('Oxford Press University', 8052), ('States United', 7984), ('Christianity early', 7802), ('other word', 7585), ('God word', 7362), ('Paul use', 7166), ('century first', 6550), ('Bible Hebrew', 6352), ('Grand Mi Rapids', 6154), ('God love', 6016), ('biblical text', 5991), ('Cambridge Press University', 5719), ('New York', 5705), ('Fourth Gospel', 5434), ('Apostle Paul', 5362), ('God Son', 5272), ('Paul have', 5193)]\n"
     ]
    }
   ],
   "source": [
    "for decade in decades:\n",
    "    print(get_tops(\"jstor_df\", \"publicationYear\", \".between({0})\".format(decade), n=30))"
   ],
   "metadata": {
    "collapsed": false,
    "pycharm": {
     "name": "#%%\n"
    }
   }
  },
  {
   "cell_type": "code",
   "execution_count": 32,
   "outputs": [],
   "source": [
    "to_replace = {\n",
    "    \"christian\" : \"Christian\",\n",
    "    \"Biblical\" : \"biblical\",\n",
    "    \"Church\" : \"church\",\n",
    "    \"Faith\" : \"faith\",\n",
    "    \"Apostle\" : \"apostle\",\n",
    "    \"american\" : \"American\",\n",
    "    \"jewish\" : \"Jewish\",\n",
    "    \"old Testament\" : \"Old Testament\",\n",
    "    \"Paul St\" : \"Paul saint\"\n",
    "}\n"
   ],
   "metadata": {
    "collapsed": false,
    "pycharm": {
     "name": "#%%\n"
    }
   }
  },
  {
   "cell_type": "code",
   "execution_count": null,
   "outputs": [],
   "source": [],
   "metadata": {
    "collapsed": false,
    "pycharm": {
     "name": "#%%\n"
    }
   }
  }
 ],
 "metadata": {
  "kernelspec": {
   "display_name": "Python 3",
   "language": "python",
   "name": "python3"
  },
  "language_info": {
   "codemirror_mode": {
    "name": "ipython",
    "version": 2
   },
   "file_extension": ".py",
   "mimetype": "text/x-python",
   "name": "python",
   "nbconvert_exporter": "python",
   "pygments_lexer": "ipython2",
   "version": "2.7.6"
  }
 },
 "nbformat": 4,
 "nbformat_minor": 0
}