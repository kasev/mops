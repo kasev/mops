{
 "cells": [
  {
   "cell_type": "code",
   "execution_count": 156,
   "metadata": {
    "collapsed": true,
    "pycharm": {
     "name": "#%%\n"
    }
   },
   "outputs": [],
   "source": [
    "import pandas as pd\n",
    "import pickle\n",
    "import json\n",
    "from gensim.models import Word2Vec\n",
    "from gensim.corpora import Dictionary\n",
    "from gensim.models.callbacks import CallbackAny2Vec\n",
    "from gensim.models import KeyedVectors\n",
    "import numpy as np"
   ]
  },
  {
   "cell_type": "code",
   "execution_count": 3,
   "outputs": [],
   "source": [
    "jstor_df = pd.read_feather(\"../data/large_files/jstor_df_v1.feather\")\n",
    "\n",
    "article_ids_dict = pickle.load(open(\"../data/article_ids_dict.pickle\", \"rb\"))\n",
    "\n",
    "dictionary = pickle.load(open(\"../data/dictionary_main.pickle\", \"rb\"))\n",
    "len(dictionary)\n",
    "\n",
    "freqs_tups = pickle.load(open(\"../data/freqs_tups.pickle\", \"rb\"))"
   ],
   "metadata": {
    "collapsed": false,
    "pycharm": {
     "name": "#%%\n"
    }
   }
  },
  {
   "cell_type": "code",
   "execution_count": 4,
   "outputs": [],
   "source": [
    "class FriendlyCorpus:\n",
    "    def __iter__(self):\n",
    "        for id in ids:\n",
    "            short_id_str = str(article_ids_dict[id])\n",
    "            id_filepath = \"../data/large_files/article_docs/{}.pickle\".format(short_id_str)\n",
    "            for doc in pickle.load(open(id_filepath, \"rb\")):\n",
    "                yield [dictionary[tup[0]] for tup in doc]"
   ],
   "metadata": {
    "collapsed": false,
    "pycharm": {
     "name": "#%%\n"
    }
   }
  },
  {
   "cell_type": "markdown",
   "source": [
    "# word2vec model development"
   ],
   "metadata": {
    "collapsed": false,
    "pycharm": {
     "name": "#%% md\n"
    }
   }
  },
  {
   "cell_type": "code",
   "execution_count": 5,
   "outputs": [],
   "source": [
    "ids = jstor_df[\"id\"].tolist()[:1000]\n",
    "corpus = FriendlyCorpus()\n",
    "corpus_len = len([doc for doc in corpus])"
   ],
   "metadata": {
    "collapsed": false,
    "pycharm": {
     "name": "#%%\n"
    }
   }
  },
  {
   "cell_type": "code",
   "execution_count": 109,
   "outputs": [],
   "source": [
    "model = Word2Vec(vector_size=100, window=3, negative=5, ns_exponent=1, sg=0, workers=8)"
   ],
   "metadata": {
    "collapsed": false,
    "pycharm": {
     "name": "#%%\n"
    }
   }
  },
  {
   "cell_type": "code",
   "execution_count": 110,
   "outputs": [],
   "source": [
    "model.build_vocab_from_freq(word_freq=dict(freqs_tups))"
   ],
   "metadata": {
    "collapsed": false,
    "pycharm": {
     "name": "#%%\n"
    }
   }
  },
  {
   "cell_type": "code",
   "execution_count": 111,
   "outputs": [
    {
     "name": "stdout",
     "output_type": "stream",
     "text": [
      "CPU times: user 47.1 s, sys: 589 ms, total: 47.7 s\n",
      "Wall time: 29.2 s\n"
     ]
    },
    {
     "data": {
      "text/plain": "(22240101, 22783065)"
     },
     "execution_count": 111,
     "metadata": {},
     "output_type": "execute_result"
    }
   ],
   "source": [
    "%%time\n",
    "model.train(corpus_iterable=corpus, total_examples=corpus_len, epochs=5)"
   ],
   "metadata": {
    "collapsed": false,
    "pycharm": {
     "name": "#%%\n"
    }
   }
  },
  {
   "cell_type": "code",
   "execution_count": 114,
   "outputs": [
    {
     "data": {
      "text/plain": "[('Pauline', 0.807790994644165),\n ('Branick', 0.5509141683578491),\n ('Krister', 0.5115583539009094),\n ('undisputed', 0.4922533631324768),\n ('deutero_Pauline', 0.4876696467399597),\n ('erature', 0.4874403774738312),\n ('thi', 0.48649412393569946),\n ('colossian', 0.4637281894683838),\n ('spe', 0.45533061027526855),\n ('Finlan', 0.45361194014549255)]"
     },
     "execution_count": 114,
     "metadata": {},
     "output_type": "execute_result"
    }
   ],
   "source": [
    "model.wv.most_similar(\"Paul\")"
   ],
   "metadata": {
    "collapsed": false,
    "pycharm": {
     "name": "#%%\n"
    }
   }
  },
  {
   "cell_type": "code",
   "execution_count": 112,
   "outputs": [
    {
     "data": {
      "text/plain": "[('Galatians', 0.746419370174408),\n ('Thessalonians', 0.6330987215042114),\n ('Ephesians', 0.6219400763511658),\n ('Eph', 0.6069772839546204),\n ('Corinthians', 0.6063165664672852),\n ('Philippians', 0.5878782272338867),\n ('Matera', 0.5725627541542053),\n ('521', 0.563494861125946),\n ('Colossians', 0.5631004571914673),\n ('Brendan', 0.5271100401878357)]"
     },
     "execution_count": 112,
     "metadata": {},
     "output_type": "execute_result"
    }
   ],
   "source": [
    "model.wv.most_similar(\"Romans\")"
   ],
   "metadata": {
    "collapsed": false,
    "pycharm": {
     "name": "#%%\n"
    }
   }
  },
  {
   "cell_type": "code",
   "execution_count": 113,
   "outputs": [
    {
     "data": {
      "text/plain": "[('crucified', 0.6054939031600952),\n ('risen', 0.5864917039871216),\n ('Ali', 0.5596235394477844),\n ('parousia', 0.5448322892189026),\n ('supper', 0.5399717688560486),\n ('crucify', 0.539387583732605),\n ('Philem', 0.5347006916999817),\n ('Grillmeier', 0.5329602360725403),\n ('Epaphras', 0.5325378179550171),\n ('Nicodemus', 0.5318003296852112)]"
     },
     "execution_count": 113,
     "metadata": {},
     "output_type": "execute_result"
    }
   ],
   "source": [
    "model.wv.most_similar(\"Jesus\")"
   ],
   "metadata": {
    "collapsed": false,
    "pycharm": {
     "name": "#%%\n"
    }
   }
  },
  {
   "cell_type": "code",
   "execution_count": 115,
   "outputs": [
    {
     "data": {
      "text/plain": "41385"
     },
     "execution_count": 115,
     "metadata": {},
     "output_type": "execute_result"
    }
   ],
   "source": [
    "len(model.wv.index_to_key)"
   ],
   "metadata": {
    "collapsed": false,
    "pycharm": {
     "name": "#%%\n"
    }
   }
  },
  {
   "cell_type": "code",
   "execution_count": 117,
   "outputs": [],
   "source": [
    "words_to_keep = [tup[0] for tup in freqs_tups[:3000]]"
   ],
   "metadata": {
    "collapsed": false,
    "pycharm": {
     "name": "#%%\n"
    }
   }
  },
  {
   "cell_type": "code",
   "execution_count": 118,
   "outputs": [],
   "source": [
    "def filter_wv(wv, words_to_keep):\n",
    "    model_words = wv.index_to_key\n",
    "    words_to_trim = list((set(model_words).difference(set(words_to_keep))))\n",
    "    ids_to_trim = [wv.key_to_index[w] for w in words_to_trim]\n",
    "    for w in words_to_trim:\n",
    "        del wv.key_to_index[w]\n",
    "    wv.vectors = np.delete(wv.vectors, ids_to_trim, axis=0)\n",
    "    wv.fill_norms()\n",
    "    for i in sorted(ids_to_trim, reverse=True):\n",
    "        del(wv.index_to_key[i])\n",
    "    return wv"
   ],
   "metadata": {
    "collapsed": false,
    "pycharm": {
     "name": "#%%\n"
    }
   }
  },
  {
   "cell_type": "code",
   "execution_count": 119,
   "outputs": [],
   "source": [
    "test_wv = model.wv"
   ],
   "metadata": {
    "collapsed": false,
    "pycharm": {
     "name": "#%%\n"
    }
   }
  },
  {
   "cell_type": "code",
   "execution_count": 120,
   "outputs": [],
   "source": [
    "model_vw_filtered = filter_wv(test_wv, words_to_keep)"
   ],
   "metadata": {
    "collapsed": false,
    "pycharm": {
     "name": "#%%\n"
    }
   }
  },
  {
   "cell_type": "code",
   "execution_count": null,
   "outputs": [],
   "source": [
    "# but there is much more straightforward solution to this!\n",
    "model_vw_filtered = model.wv.vectors_for_all(words_to_keep)"
   ],
   "metadata": {
    "collapsed": false,
    "pycharm": {
     "name": "#%%\n"
    }
   }
  },
  {
   "cell_type": "code",
   "execution_count": 121,
   "outputs": [
    {
     "data": {
      "text/plain": "3000"
     },
     "execution_count": 121,
     "metadata": {},
     "output_type": "execute_result"
    }
   ],
   "source": [
    "len(model_vw_filtered)"
   ],
   "metadata": {
    "collapsed": false,
    "pycharm": {
     "name": "#%%\n"
    }
   }
  },
  {
   "cell_type": "code",
   "execution_count": 124,
   "outputs": [
    {
     "data": {
      "text/plain": "[('Pauline', 0.807790994644165),\n ('colossian', 0.4637281894683838),\n ('athanasius', 0.43054693937301636),\n ('contributor', 0.4175826907157898),\n ('ephesian', 0.41415196657180786),\n ('inspire', 0.4122663140296936),\n ('Titus', 0.40873152017593384),\n ('shape', 0.4032384753227234),\n ('Robinson', 0.3954716622829437),\n ('Hebrews', 0.39504387974739075)]"
     },
     "execution_count": 124,
     "metadata": {},
     "output_type": "execute_result"
    }
   ],
   "source": [
    "model_vw_filtered.most_similar(\"Paul\")"
   ],
   "metadata": {
    "collapsed": false,
    "pycharm": {
     "name": "#%%\n"
    }
   }
  },
  {
   "cell_type": "code",
   "execution_count": 134,
   "outputs": [],
   "source": [
    "def ids_from_colvals(df_name, col, matchstring):\n",
    "    ids = eval('{0}[{0}[\"{1}\"]{2}]'.format(df_name, col, matchstring))[\"id\"].tolist()\n",
    "    return ids"
   ],
   "metadata": {
    "collapsed": false,
    "pycharm": {
     "name": "#%%\n"
    }
   }
  },
  {
   "cell_type": "code",
   "execution_count": 137,
   "outputs": [
    {
     "data": {
      "text/plain": "['1900,1919', '1920,1939', '1940,1959', '1960,1979', '1980,1999', '2000,2019']"
     },
     "execution_count": 137,
     "metadata": {},
     "output_type": "execute_result"
    }
   ],
   "source": [
    "generations = []\n",
    "for n in range (1900, 2001, 20):\n",
    "    generations.append((str(n) + \",\" + str(n+19)))\n",
    "generations"
   ],
   "metadata": {
    "collapsed": false,
    "pycharm": {
     "name": "#%%\n"
    }
   }
  },
  {
   "cell_type": "code",
   "execution_count": 139,
   "outputs": [
    {
     "data": {
      "text/plain": "'1980,1999'"
     },
     "execution_count": 139,
     "metadata": {},
     "output_type": "execute_result"
    }
   ],
   "source": [
    "test_gen = generations[-2]\n",
    "test_gen"
   ],
   "metadata": {
    "collapsed": false,
    "pycharm": {
     "name": "#%%\n"
    }
   }
  },
  {
   "cell_type": "code",
   "execution_count": 140,
   "outputs": [
    {
     "data": {
      "text/plain": "2520"
     },
     "execution_count": 140,
     "metadata": {},
     "output_type": "execute_result"
    }
   ],
   "source": [
    "ids = ids_from_colvals(\"jstor_df\", \"publicationYear\", \".between({})\".format(test_gen))\n",
    "len(ids)"
   ],
   "metadata": {
    "collapsed": false,
    "pycharm": {
     "name": "#%%\n"
    }
   }
  },
  {
   "cell_type": "code",
   "execution_count": 141,
   "outputs": [
    {
     "data": {
      "text/plain": "(39413004, 40391550)"
     },
     "execution_count": 141,
     "metadata": {},
     "output_type": "execute_result"
    }
   ],
   "source": [
    "corpus = FriendlyCorpus()\n",
    "corpus_len = len([doc for doc in corpus])\n",
    "model = Word2Vec(vector_size=150, window=3, negative=5, ns_exponent=1, sg=0, workers=8)\n",
    "model.build_vocab_from_freq(word_freq=dict(freqs_tups))\n",
    "model.train(corpus_iterable=corpus, total_examples=corpus_len, epochs=5)\n",
    "model_vectors = model.wv"
   ],
   "metadata": {
    "collapsed": false,
    "pycharm": {
     "name": "#%%\n"
    }
   }
  },
  {
   "cell_type": "code",
   "execution_count": 149,
   "outputs": [],
   "source": [
    "model_vectors.save(\"../data/large_files/model_vectors_{}.wv\".format(test_gen))"
   ],
   "metadata": {
    "collapsed": false,
    "pycharm": {
     "name": "#%%\n"
    }
   }
  },
  {
   "cell_type": "code",
   "execution_count": 154,
   "outputs": [],
   "source": [
    "model_vectors_loaded = KeyedVectors.load(\"../data/large_files/model_vectors_{}.wv\".format(test_gen))"
   ],
   "metadata": {
    "collapsed": false,
    "pycharm": {
     "name": "#%%\n"
    }
   }
  },
  {
   "cell_type": "markdown",
   "source": [
    "# word2vec main application"
   ],
   "metadata": {
    "collapsed": false,
    "pycharm": {
     "name": "#%% md\n"
    }
   }
  },
  {
   "cell_type": "code",
   "execution_count": 157,
   "outputs": [
    {
     "data": {
      "text/plain": "['1900,1919', '1920,1939', '1940,1959', '1960,1979', '1980,1999', '2000,2019']"
     },
     "execution_count": 157,
     "metadata": {},
     "output_type": "execute_result"
    }
   ],
   "source": [
    "generations = []\n",
    "for n in range (1900, 2001, 20):\n",
    "    generations.append((str(n) + \",\" + str(n+19)))\n",
    "generations"
   ],
   "metadata": {
    "collapsed": false,
    "pycharm": {
     "name": "#%%\n"
    }
   }
  },
  {
   "cell_type": "code",
   "execution_count": null,
   "outputs": [],
   "source": [],
   "metadata": {
    "collapsed": false,
    "pycharm": {
     "name": "#%%\n"
    }
   }
  },
  {
   "cell_type": "code",
   "execution_count": 158,
   "outputs": [
    {
     "name": "stdout",
     "output_type": "stream",
     "text": [
      "generation 1900,1919 model training\n",
      "generation 1900,1919 ready. saving...\n",
      "generation 1920,1939 model training\n",
      "generation 1920,1939 ready. saving...\n",
      "generation 1940,1959 model training\n",
      "generation 1940,1959 ready. saving...\n",
      "generation 1960,1979 model training\n",
      "generation 1960,1979 ready. saving...\n",
      "generation 1980,1999 model training\n",
      "generation 1980,1999 ready. saving...\n",
      "generation 2000,2019 model training\n",
      "generation 2000,2019 ready. saving...\n"
     ]
    }
   ],
   "source": [
    "for gen in generations:\n",
    "    print(\"generation {} model training\".format(gen))\n",
    "    ids = ids_from_colvals(\"jstor_df\", \"publicationYear\", \".between({})\".format(test_gen))\n",
    "    corpus = FriendlyCorpus()\n",
    "    corpus_len = len([doc for doc in corpus])\n",
    "    model = Word2Vec(vector_size=150, window=3, negative=5, ns_exponent=1, sg=0, workers=8)\n",
    "    model.build_vocab_from_freq(word_freq=dict(freqs_tups))\n",
    "    model.train(corpus_iterable=corpus, total_examples=corpus_len, epochs=5)\n",
    "    model_vectors = model.wv\n",
    "    print(\"generation {} ready. saving...\".format(gen))\n",
    "    model_vectors.save(\"../data/large_files/model_vectors_{}.wv\".format(gen))"
   ],
   "metadata": {
    "collapsed": false,
    "pycharm": {
     "name": "#%%\n"
    }
   }
  },
  {
   "cell_type": "code",
   "execution_count": null,
   "outputs": [],
   "source": [],
   "metadata": {
    "collapsed": false,
    "pycharm": {
     "name": "#%%\n"
    }
   }
  }
 ],
 "metadata": {
  "kernelspec": {
   "name": "mops_venv",
   "language": "python",
   "display_name": "mops_venv"
  },
  "language_info": {
   "codemirror_mode": {
    "name": "ipython",
    "version": 2
   },
   "file_extension": ".py",
   "mimetype": "text/x-python",
   "name": "python",
   "nbconvert_exporter": "python",
   "pygments_lexer": "ipython2",
   "version": "2.7.6"
  }
 },
 "nbformat": 4,
 "nbformat_minor": 0
}