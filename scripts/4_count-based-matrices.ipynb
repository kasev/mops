{
 "cells": [
  {
   "cell_type": "code",
   "execution_count": 1,
   "metadata": {
    "collapsed": true,
    "ExecuteTime": {
     "start_time": "2023-05-01T10:55:38.618373Z",
     "end_time": "2023-05-01T10:55:41.624670Z"
    }
   },
   "outputs": [],
   "source": [
    "import pandas as pd\n",
    "import pickle\n",
    "from sklearn.feature_extraction.text import TfidfVectorizer\n"
   ]
  },
  {
   "cell_type": "code",
   "execution_count": 2,
   "outputs": [],
   "source": [
    "metadata_df = pd.read_json(\"../data/metadata_rich_df.json\")\n"
   ],
   "metadata": {
    "collapsed": false,
    "ExecuteTime": {
     "start_time": "2023-05-01T10:55:43.218006Z",
     "end_time": "2023-05-01T10:55:43.658895Z"
    }
   }
  },
  {
   "cell_type": "code",
   "execution_count": 3,
   "outputs": [],
   "source": [
    "sourcepath = \"../data/large_files/trigrams_lemmatized/\"\n",
    "with open(sourcepath + \"trigrams_lemmata_id_0.txt\".format(str(id)), \"r\") as f:\n",
    "    trigrams_list = f.readlines()"
   ],
   "metadata": {
    "collapsed": false,
    "ExecuteTime": {
     "start_time": "2023-05-01T10:55:43.659819Z",
     "end_time": "2023-05-01T10:55:43.662163Z"
    }
   }
  },
  {
   "cell_type": "code",
   "execution_count": 4,
   "outputs": [
    {
     "data": {
      "text/plain": "['religious matter',\n 'divine hope',\n 'divine hope',\n 'leave unresolved',\n 'leave unresolved',\n 'racial equality',\n 'racial equality',\n 'joint action',\n 'joint action',\n 'joint action']"
     },
     "execution_count": 4,
     "metadata": {},
     "output_type": "execute_result"
    }
   ],
   "source": [
    "[el.strip() for el in trigrams_list][:10]"
   ],
   "metadata": {
    "collapsed": false,
    "ExecuteTime": {
     "start_time": "2023-05-01T10:55:43.735896Z",
     "end_time": "2023-05-01T10:55:43.740490Z"
    }
   }
  },
  {
   "cell_type": "markdown",
   "source": [
    "# Load vocabulary"
   ],
   "metadata": {
    "collapsed": false
   }
  },
  {
   "cell_type": "code",
   "execution_count": 5,
   "outputs": [
    {
     "data": {
      "text/plain": "       1900-1919  1920-1939  1940-1959  1960-1979  1980-1999  2000-2019\nman      11218.0     8342.0    24108.0    39199.0    48435.0   100670.0\nnew      10183.0    10192.0    23469.0    42092.0    97421.0   293457.0\nJesus     9650.0     4911.0    12134.0    23416.0    49765.0   215687.0\net        9325.0    11818.0    20805.0    35969.0    49326.0    73464.0\nGod       9248.0     6276.0    26328.0    45751.0    99505.0   293240.0",
      "text/html": "<div>\n<style scoped>\n    .dataframe tbody tr th:only-of-type {\n        vertical-align: middle;\n    }\n\n    .dataframe tbody tr th {\n        vertical-align: top;\n    }\n\n    .dataframe thead th {\n        text-align: right;\n    }\n</style>\n<table border=\"1\" class=\"dataframe\">\n  <thead>\n    <tr style=\"text-align: right;\">\n      <th></th>\n      <th>1900-1919</th>\n      <th>1920-1939</th>\n      <th>1940-1959</th>\n      <th>1960-1979</th>\n      <th>1980-1999</th>\n      <th>2000-2019</th>\n    </tr>\n  </thead>\n  <tbody>\n    <tr>\n      <th>man</th>\n      <td>11218.0</td>\n      <td>8342.0</td>\n      <td>24108.0</td>\n      <td>39199.0</td>\n      <td>48435.0</td>\n      <td>100670.0</td>\n    </tr>\n    <tr>\n      <th>new</th>\n      <td>10183.0</td>\n      <td>10192.0</td>\n      <td>23469.0</td>\n      <td>42092.0</td>\n      <td>97421.0</td>\n      <td>293457.0</td>\n    </tr>\n    <tr>\n      <th>Jesus</th>\n      <td>9650.0</td>\n      <td>4911.0</td>\n      <td>12134.0</td>\n      <td>23416.0</td>\n      <td>49765.0</td>\n      <td>215687.0</td>\n    </tr>\n    <tr>\n      <th>et</th>\n      <td>9325.0</td>\n      <td>11818.0</td>\n      <td>20805.0</td>\n      <td>35969.0</td>\n      <td>49326.0</td>\n      <td>73464.0</td>\n    </tr>\n    <tr>\n      <th>God</th>\n      <td>9248.0</td>\n      <td>6276.0</td>\n      <td>26328.0</td>\n      <td>45751.0</td>\n      <td>99505.0</td>\n      <td>293240.0</td>\n    </tr>\n  </tbody>\n</table>\n</div>"
     },
     "execution_count": 5,
     "metadata": {},
     "output_type": "execute_result"
    }
   ],
   "source": [
    "bidecades_vocabs_counts_df = pickle.load(open(\"../data/bidecades_vocabs_counts_df.pickle\", \"rb\"))\n",
    "bidecades_vocabs_counts_df.head(5)"
   ],
   "metadata": {
    "collapsed": false,
    "ExecuteTime": {
     "start_time": "2023-05-01T10:55:44.413950Z",
     "end_time": "2023-05-01T10:55:44.422701Z"
    }
   }
  },
  {
   "cell_type": "code",
   "execution_count": 6,
   "outputs": [],
   "source": [
    "vocabulary = dict([(el[1], el[0]) for el in enumerate(bidecades_vocabs_counts_df.index)])"
   ],
   "metadata": {
    "collapsed": false,
    "ExecuteTime": {
     "start_time": "2023-05-01T10:55:44.773168Z",
     "end_time": "2023-05-01T10:55:44.794263Z"
    }
   }
  },
  {
   "cell_type": "markdown",
   "source": [
    "# Load trigrams"
   ],
   "metadata": {
    "collapsed": false
   }
  },
  {
   "cell_type": "code",
   "execution_count": 7,
   "outputs": [
    {
     "data": {
      "text/plain": "['1900-1919', '1920-1939', '1940-1959', '1960-1979', '1980-1999', '2000-2019']"
     },
     "execution_count": 7,
     "metadata": {},
     "output_type": "execute_result"
    }
   ],
   "source": [
    "bidecades_strs = sorted([el for el in list(set(metadata_df[\"bidecade\"])) if el != None])\n",
    "bidecades_strs"
   ],
   "metadata": {
    "collapsed": false,
    "ExecuteTime": {
     "start_time": "2023-05-01T10:55:45.530281Z",
     "end_time": "2023-05-01T10:55:45.542894Z"
    }
   }
  },
  {
   "cell_type": "code",
   "execution_count": 7,
   "outputs": [],
   "source": [],
   "metadata": {
    "collapsed": false,
    "ExecuteTime": {
     "start_time": "2023-05-01T10:55:45.950893Z",
     "end_time": "2023-05-01T10:55:45.954659Z"
    }
   }
  },
  {
   "cell_type": "code",
   "execution_count": 8,
   "outputs": [
    {
     "data": {
      "text/plain": "782"
     },
     "execution_count": 8,
     "metadata": {},
     "output_type": "execute_result"
    }
   ],
   "source": [
    "bidecade = \"1900-1919\"\n",
    "ids = metadata_df[metadata_df[\"bidecade\"]==bidecade][\"id_kase\"]\n",
    "len(ids)"
   ],
   "metadata": {
    "collapsed": false,
    "ExecuteTime": {
     "start_time": "2023-05-01T10:55:46.325453Z",
     "end_time": "2023-05-01T10:55:46.335580Z"
    }
   }
  },
  {
   "cell_type": "code",
   "execution_count": 9,
   "outputs": [],
   "source": [
    "with open(\"../data/large_files/bidecade_trigrams_{}.txt\".format(bidecade), \"r\") as f:\n",
    "    subcorpus_ngrams = f.readlines()"
   ],
   "metadata": {
    "collapsed": false,
    "ExecuteTime": {
     "start_time": "2023-05-01T10:55:46.562891Z",
     "end_time": "2023-05-01T10:55:46.610528Z"
    }
   }
  },
  {
   "cell_type": "code",
   "execution_count": 10,
   "outputs": [
    {
     "data": {
      "text/plain": "['Michigan Ann Arbor',\n 'Bonner University',\n 'Bonner University',\n 'Iowa Iowa',\n 'Iowa Iowa',\n 'Kansas Lawrence',\n 'Ginn Co',\n 'Elliott University',\n 'Elliott University',\n 'Kansas Lawrence Kansas']"
     },
     "execution_count": 10,
     "metadata": {},
     "output_type": "execute_result"
    }
   ],
   "source": [
    "[el.strip() for el in subcorpus_ngrams[:10]]"
   ],
   "metadata": {
    "collapsed": false,
    "ExecuteTime": {
     "start_time": "2023-05-01T10:55:46.937487Z",
     "end_time": "2023-05-01T10:55:46.952504Z"
    }
   }
  },
  {
   "cell_type": "code",
   "execution_count": 11,
   "outputs": [],
   "source": [
    "vectorizer = TfidfVectorizer(vocabulary=vocabulary, lowercase=False)\n",
    "X = vectorizer.fit_transform(subcorpus_ngrams)"
   ],
   "metadata": {
    "collapsed": false,
    "ExecuteTime": {
     "start_time": "2023-05-01T10:56:33.798021Z",
     "end_time": "2023-05-01T10:56:34.889507Z"
    }
   }
  },
  {
   "cell_type": "code",
   "execution_count": 12,
   "outputs": [
    {
     "data": {
      "text/plain": "(722798, 4804)"
     },
     "execution_count": 12,
     "metadata": {},
     "output_type": "execute_result"
    }
   ],
   "source": [
    "X.shape"
   ],
   "metadata": {
    "collapsed": false,
    "ExecuteTime": {
     "start_time": "2023-05-01T10:56:55.981899Z",
     "end_time": "2023-05-01T10:56:55.999637Z"
    }
   }
  },
  {
   "cell_type": "code",
   "execution_count": 15,
   "outputs": [],
   "source": [
    "cooc = X.T * X"
   ],
   "metadata": {
    "collapsed": false,
    "ExecuteTime": {
     "start_time": "2023-05-01T10:59:41.176739Z",
     "end_time": "2023-05-01T10:59:41.230392Z"
    }
   }
  },
  {
   "cell_type": "code",
   "execution_count": 16,
   "outputs": [
    {
     "data": {
      "text/plain": "(4804, 4804)"
     },
     "execution_count": 16,
     "metadata": {},
     "output_type": "execute_result"
    }
   ],
   "source": [
    "cooc.shape"
   ],
   "metadata": {
    "collapsed": false,
    "ExecuteTime": {
     "start_time": "2023-05-01T10:59:46.389568Z",
     "end_time": "2023-05-01T10:59:46.398016Z"
    }
   }
  },
  {
   "cell_type": "code",
   "execution_count": 30,
   "outputs": [
    {
     "name": "stdout",
     "output_type": "stream",
     "text": [
      "[[4.18600351e+03 1.24084146e+01 3.95763797e+01 ... 0.00000000e+00\n",
      "  0.00000000e+00 1.33054155e+00]]\n"
     ]
    }
   ],
   "source": [
    "print(cooc.todense()[0][:10])"
   ],
   "metadata": {
    "collapsed": false,
    "ExecuteTime": {
     "start_time": "2023-05-01T11:03:56.940246Z",
     "end_time": "2023-05-01T11:03:56.991987Z"
    }
   }
  },
  {
   "cell_type": "code",
   "execution_count": 31,
   "outputs": [
    {
     "data": {
      "text/plain": "                   man       new     Jesus        et       God      Paul  \\\nman           0.666853  0.001977  0.006305  0.000000  0.019845  0.001990   \nnew           0.001977  0.373283  0.001257  0.000000  0.001498  0.000113   \nJesus         0.006305  0.001257  0.828934  0.000309  0.005996  0.012408   \net            0.000000  0.000000  0.000309  0.282104  0.000000  0.003248   \nGod           0.019845  0.001498  0.005996  0.000000  0.771731  0.001713   \n...                ...       ...       ...       ...       ...       ...   \nIan           0.000000  0.000000  0.000000  0.000000  0.000000  0.000000   \ngesture       0.000000  0.000000  0.000000  0.000000  0.000000  0.000000   \nmetaphorical  0.000000  0.000000  0.000000  0.000000  0.000000  0.000000   \nlayer         0.000000  0.000000  0.000000  0.000000  0.000000  0.000000   \nless          0.000212  0.000000  0.000000  0.000000  0.000490  0.000069   \n\n                  make    church      life       see  ...    angle  \\\nman           0.008782  0.000871  0.008197  0.004872  ...  0.00000   \nnew           0.001669  0.002708  0.010922  0.000875  ...  0.00013   \nJesus         0.006683  0.000945  0.031356  0.004366  ...  0.00000   \net            0.000000  0.000000  0.000000  0.000716  ...  0.00000   \nGod           0.010154  0.001658  0.003495  0.005688  ...  0.00000   \n...                ...       ...       ...       ...  ...      ...   \nIan           0.000000  0.000000  0.000000  0.000000  ...  0.00000   \ngesture       0.000000  0.000000  0.000000  0.000000  ...  0.00000   \nmetaphorical  0.000000  0.000000  0.000000  0.000000  ...  0.00000   \nlayer         0.000000  0.000000  0.000000  0.000000  ...  0.00000   \nless          0.000435  0.000000  0.000072  0.000151  ...  0.00000   \n\n              substantive  noteworthy  Kevin  locus       Ian   gesture  \\\nman                   0.0         0.0    0.0    0.0  0.000000  0.000000   \nnew                   0.0         0.0    0.0    0.0  0.000000  0.000000   \nJesus                 0.0         0.0    0.0    0.0  0.000000  0.000000   \net                    0.0         0.0    0.0    0.0  0.000000  0.000000   \nGod                   0.0         0.0    0.0    0.0  0.000000  0.000000   \n...                   ...         ...    ...    ...       ...       ...   \nIan                   0.0         0.0    0.0    0.0  0.000538  0.000000   \ngesture               0.0         0.0    0.0    0.0  0.000000  0.000112   \nmetaphorical          0.0         0.0    0.0    0.0  0.000000  0.000000   \nlayer                 0.0         0.0    0.0    0.0  0.000000  0.000000   \nless                  0.0         0.0    0.0    0.0  0.000000  0.000000   \n\n              metaphorical     layer      less  \nman                0.00000  0.000000  0.000212  \nnew                0.00000  0.000000  0.000000  \nJesus              0.00000  0.000000  0.000000  \net                 0.00000  0.000000  0.000000  \nGod                0.00000  0.000000  0.000490  \n...                    ...       ...       ...  \nIan                0.00000  0.000000  0.000000  \ngesture            0.00000  0.000000  0.000000  \nmetaphorical       0.00256  0.000000  0.000000  \nlayer              0.00000  0.000797  0.000000  \nless               0.00000  0.000000  0.032138  \n\n[4804 rows x 4804 columns]",
      "text/html": "<div>\n<style scoped>\n    .dataframe tbody tr th:only-of-type {\n        vertical-align: middle;\n    }\n\n    .dataframe tbody tr th {\n        vertical-align: top;\n    }\n\n    .dataframe thead th {\n        text-align: right;\n    }\n</style>\n<table border=\"1\" class=\"dataframe\">\n  <thead>\n    <tr style=\"text-align: right;\">\n      <th></th>\n      <th>man</th>\n      <th>new</th>\n      <th>Jesus</th>\n      <th>et</th>\n      <th>God</th>\n      <th>Paul</th>\n      <th>make</th>\n      <th>church</th>\n      <th>life</th>\n      <th>see</th>\n      <th>...</th>\n      <th>angle</th>\n      <th>substantive</th>\n      <th>noteworthy</th>\n      <th>Kevin</th>\n      <th>locus</th>\n      <th>Ian</th>\n      <th>gesture</th>\n      <th>metaphorical</th>\n      <th>layer</th>\n      <th>less</th>\n    </tr>\n  </thead>\n  <tbody>\n    <tr>\n      <th>man</th>\n      <td>0.666853</td>\n      <td>0.001977</td>\n      <td>0.006305</td>\n      <td>0.000000</td>\n      <td>0.019845</td>\n      <td>0.001990</td>\n      <td>0.008782</td>\n      <td>0.000871</td>\n      <td>0.008197</td>\n      <td>0.004872</td>\n      <td>...</td>\n      <td>0.00000</td>\n      <td>0.0</td>\n      <td>0.0</td>\n      <td>0.0</td>\n      <td>0.0</td>\n      <td>0.000000</td>\n      <td>0.000000</td>\n      <td>0.00000</td>\n      <td>0.000000</td>\n      <td>0.000212</td>\n    </tr>\n    <tr>\n      <th>new</th>\n      <td>0.001977</td>\n      <td>0.373283</td>\n      <td>0.001257</td>\n      <td>0.000000</td>\n      <td>0.001498</td>\n      <td>0.000113</td>\n      <td>0.001669</td>\n      <td>0.002708</td>\n      <td>0.010922</td>\n      <td>0.000875</td>\n      <td>...</td>\n      <td>0.00013</td>\n      <td>0.0</td>\n      <td>0.0</td>\n      <td>0.0</td>\n      <td>0.0</td>\n      <td>0.000000</td>\n      <td>0.000000</td>\n      <td>0.00000</td>\n      <td>0.000000</td>\n      <td>0.000000</td>\n    </tr>\n    <tr>\n      <th>Jesus</th>\n      <td>0.006305</td>\n      <td>0.001257</td>\n      <td>0.828934</td>\n      <td>0.000309</td>\n      <td>0.005996</td>\n      <td>0.012408</td>\n      <td>0.006683</td>\n      <td>0.000945</td>\n      <td>0.031356</td>\n      <td>0.004366</td>\n      <td>...</td>\n      <td>0.00000</td>\n      <td>0.0</td>\n      <td>0.0</td>\n      <td>0.0</td>\n      <td>0.0</td>\n      <td>0.000000</td>\n      <td>0.000000</td>\n      <td>0.00000</td>\n      <td>0.000000</td>\n      <td>0.000000</td>\n    </tr>\n    <tr>\n      <th>et</th>\n      <td>0.000000</td>\n      <td>0.000000</td>\n      <td>0.000309</td>\n      <td>0.282104</td>\n      <td>0.000000</td>\n      <td>0.003248</td>\n      <td>0.000000</td>\n      <td>0.000000</td>\n      <td>0.000000</td>\n      <td>0.000716</td>\n      <td>...</td>\n      <td>0.00000</td>\n      <td>0.0</td>\n      <td>0.0</td>\n      <td>0.0</td>\n      <td>0.0</td>\n      <td>0.000000</td>\n      <td>0.000000</td>\n      <td>0.00000</td>\n      <td>0.000000</td>\n      <td>0.000000</td>\n    </tr>\n    <tr>\n      <th>God</th>\n      <td>0.019845</td>\n      <td>0.001498</td>\n      <td>0.005996</td>\n      <td>0.000000</td>\n      <td>0.771731</td>\n      <td>0.001713</td>\n      <td>0.010154</td>\n      <td>0.001658</td>\n      <td>0.003495</td>\n      <td>0.005688</td>\n      <td>...</td>\n      <td>0.00000</td>\n      <td>0.0</td>\n      <td>0.0</td>\n      <td>0.0</td>\n      <td>0.0</td>\n      <td>0.000000</td>\n      <td>0.000000</td>\n      <td>0.00000</td>\n      <td>0.000000</td>\n      <td>0.000490</td>\n    </tr>\n    <tr>\n      <th>...</th>\n      <td>...</td>\n      <td>...</td>\n      <td>...</td>\n      <td>...</td>\n      <td>...</td>\n      <td>...</td>\n      <td>...</td>\n      <td>...</td>\n      <td>...</td>\n      <td>...</td>\n      <td>...</td>\n      <td>...</td>\n      <td>...</td>\n      <td>...</td>\n      <td>...</td>\n      <td>...</td>\n      <td>...</td>\n      <td>...</td>\n      <td>...</td>\n      <td>...</td>\n      <td>...</td>\n    </tr>\n    <tr>\n      <th>Ian</th>\n      <td>0.000000</td>\n      <td>0.000000</td>\n      <td>0.000000</td>\n      <td>0.000000</td>\n      <td>0.000000</td>\n      <td>0.000000</td>\n      <td>0.000000</td>\n      <td>0.000000</td>\n      <td>0.000000</td>\n      <td>0.000000</td>\n      <td>...</td>\n      <td>0.00000</td>\n      <td>0.0</td>\n      <td>0.0</td>\n      <td>0.0</td>\n      <td>0.0</td>\n      <td>0.000538</td>\n      <td>0.000000</td>\n      <td>0.00000</td>\n      <td>0.000000</td>\n      <td>0.000000</td>\n    </tr>\n    <tr>\n      <th>gesture</th>\n      <td>0.000000</td>\n      <td>0.000000</td>\n      <td>0.000000</td>\n      <td>0.000000</td>\n      <td>0.000000</td>\n      <td>0.000000</td>\n      <td>0.000000</td>\n      <td>0.000000</td>\n      <td>0.000000</td>\n      <td>0.000000</td>\n      <td>...</td>\n      <td>0.00000</td>\n      <td>0.0</td>\n      <td>0.0</td>\n      <td>0.0</td>\n      <td>0.0</td>\n      <td>0.000000</td>\n      <td>0.000112</td>\n      <td>0.00000</td>\n      <td>0.000000</td>\n      <td>0.000000</td>\n    </tr>\n    <tr>\n      <th>metaphorical</th>\n      <td>0.000000</td>\n      <td>0.000000</td>\n      <td>0.000000</td>\n      <td>0.000000</td>\n      <td>0.000000</td>\n      <td>0.000000</td>\n      <td>0.000000</td>\n      <td>0.000000</td>\n      <td>0.000000</td>\n      <td>0.000000</td>\n      <td>...</td>\n      <td>0.00000</td>\n      <td>0.0</td>\n      <td>0.0</td>\n      <td>0.0</td>\n      <td>0.0</td>\n      <td>0.000000</td>\n      <td>0.000000</td>\n      <td>0.00256</td>\n      <td>0.000000</td>\n      <td>0.000000</td>\n    </tr>\n    <tr>\n      <th>layer</th>\n      <td>0.000000</td>\n      <td>0.000000</td>\n      <td>0.000000</td>\n      <td>0.000000</td>\n      <td>0.000000</td>\n      <td>0.000000</td>\n      <td>0.000000</td>\n      <td>0.000000</td>\n      <td>0.000000</td>\n      <td>0.000000</td>\n      <td>...</td>\n      <td>0.00000</td>\n      <td>0.0</td>\n      <td>0.0</td>\n      <td>0.0</td>\n      <td>0.0</td>\n      <td>0.000000</td>\n      <td>0.000000</td>\n      <td>0.00000</td>\n      <td>0.000797</td>\n      <td>0.000000</td>\n    </tr>\n    <tr>\n      <th>less</th>\n      <td>0.000212</td>\n      <td>0.000000</td>\n      <td>0.000000</td>\n      <td>0.000000</td>\n      <td>0.000490</td>\n      <td>0.000069</td>\n      <td>0.000435</td>\n      <td>0.000000</td>\n      <td>0.000072</td>\n      <td>0.000151</td>\n      <td>...</td>\n      <td>0.00000</td>\n      <td>0.0</td>\n      <td>0.0</td>\n      <td>0.0</td>\n      <td>0.0</td>\n      <td>0.000000</td>\n      <td>0.000000</td>\n      <td>0.00000</td>\n      <td>0.000000</td>\n      <td>0.032138</td>\n    </tr>\n  </tbody>\n</table>\n<p>4804 rows × 4804 columns</p>\n</div>"
     },
     "execution_count": 31,
     "metadata": {},
     "output_type": "execute_result"
    }
   ],
   "source": [
    "cooc_norm = pd.DataFrame((cooc / cooc.max() ).todense())\n",
    "cooc_norm.columns = vocabulary.keys()\n",
    "cooc_norm.index = vocabulary.keys()\n",
    "cooc_norm"
   ],
   "metadata": {
    "collapsed": false,
    "ExecuteTime": {
     "start_time": "2023-05-01T11:04:53.607947Z",
     "end_time": "2023-05-01T11:04:53.638496Z"
    }
   }
  },
  {
   "cell_type": "code",
   "execution_count": 33,
   "outputs": [
    {
     "data": {
      "text/plain": "Paul              1.000000\nepistle           0.055488\nApostle           0.035643\nletter            0.028799\napostle           0.028537\n                    ...   \nreckon            0.000000\nEliot             0.000000\nvase              0.000000\nsister            0.000000\nresponsibility    0.000000\nName: Paul, Length: 4804, dtype: float64"
     },
     "execution_count": 33,
     "metadata": {},
     "output_type": "execute_result"
    }
   ],
   "source": [
    "cooc_norm[\"Paul\"].sort_values(ascending=False)"
   ],
   "metadata": {
    "collapsed": false,
    "ExecuteTime": {
     "start_time": "2023-05-01T11:06:08.385067Z",
     "end_time": "2023-05-01T11:06:08.394462Z"
    }
   }
  },
  {
   "cell_type": "code",
   "execution_count": 35,
   "outputs": [],
   "source": [
    "cooc_norm_dict = {}\n",
    "for bidecade in bidecades_strs:\n",
    "    with open(\"../data/large_files/bidecade_trigrams_{}.txt\".format(bidecade), \"r\") as f:\n",
    "        subcorpus_ngrams = f.readlines()\n",
    "    vectorizer = TfidfVectorizer(vocabulary=vocabulary, lowercase=False)\n",
    "    X = vectorizer.fit_transform(subcorpus_ngrams)\n",
    "    cooc = X.T * X\n",
    "    cooc_norm = pd.DataFrame((cooc / cooc.max() ).todense())\n",
    "    cooc_norm.columns = vocabulary.keys()\n",
    "    cooc_norm.index = vocabulary.keys()\n",
    "    cooc_norm_dict[bidecade] = cooc_norm"
   ],
   "metadata": {
    "collapsed": false,
    "ExecuteTime": {
     "start_time": "2023-05-01T11:11:45.923155Z",
     "end_time": "2023-05-01T11:13:25.626306Z"
    }
   }
  },
  {
   "cell_type": "code",
   "execution_count": 40,
   "outputs": [],
   "source": [
    "pickle.dump(cooc_norm_dict, open(\"../data/cooc_norm_dict.pickle\", \"wb\"))"
   ],
   "metadata": {
    "collapsed": false,
    "ExecuteTime": {
     "start_time": "2023-05-01T11:17:43.866678Z",
     "end_time": "2023-05-01T11:17:46.269244Z"
    }
   }
  },
  {
   "cell_type": "code",
   "execution_count": 36,
   "outputs": [
    {
     "data": {
      "text/plain": "Paul       1.000000\nApostle    0.043437\nepistle    0.041307\nletter     0.033104\nsaint      0.014529\n             ...   \ndeu        0.000000\nxvii       0.000000\nNeuen      0.000000\ngold       0.000000\nless       0.000000\nName: Paul, Length: 4804, dtype: float64"
     },
     "execution_count": 36,
     "metadata": {},
     "output_type": "execute_result"
    }
   ],
   "source": [
    "cooc_norm_dict[\"1920-1939\"][\"Paul\"].sort_values(ascending=False)"
   ],
   "metadata": {
    "collapsed": false,
    "ExecuteTime": {
     "start_time": "2023-05-01T11:14:41.104321Z",
     "end_time": "2023-05-01T11:14:41.136119Z"
    }
   }
  },
  {
   "cell_type": "code",
   "execution_count": 39,
   "outputs": [
    {
     "data": {
      "text/plain": "Paul        1.000000\nletter      0.052684\nApostle     0.025385\nuse         0.021093\nepistle     0.016693\n              ...   \nopposite    0.000000\nSimeon      0.000000\nwithdraw    0.000000\nvote        0.000000\nless        0.000000\nName: Paul, Length: 4804, dtype: float64"
     },
     "execution_count": 39,
     "metadata": {},
     "output_type": "execute_result"
    }
   ],
   "source": [
    "cooc_norm_dict[\"1980-1999\"][\"Paul\"].sort_values(ascending=False)"
   ],
   "metadata": {
    "collapsed": false,
    "ExecuteTime": {
     "start_time": "2023-05-01T11:16:49.940954Z",
     "end_time": "2023-05-01T11:16:49.951520Z"
    }
   }
  },
  {
   "cell_type": "code",
   "execution_count": null,
   "outputs": [],
   "source": [],
   "metadata": {
    "collapsed": false
   }
  }
 ],
 "metadata": {
  "kernelspec": {
   "name": "mops_venv",
   "language": "python",
   "display_name": "mops_venv"
  },
  "language_info": {
   "codemirror_mode": {
    "name": "ipython",
    "version": 2
   },
   "file_extension": ".py",
   "mimetype": "text/x-python",
   "name": "python",
   "nbconvert_exporter": "python",
   "pygments_lexer": "ipython2",
   "version": "2.7.6"
  }
 },
 "nbformat": 4,
 "nbformat_minor": 0
}
