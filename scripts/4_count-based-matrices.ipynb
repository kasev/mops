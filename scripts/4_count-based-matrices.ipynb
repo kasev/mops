{
 "cells": [
  {
   "cell_type": "code",
   "execution_count": 75,
   "metadata": {
    "collapsed": true,
    "ExecuteTime": {
     "start_time": "2023-05-01T11:29:21.688993Z",
     "end_time": "2023-05-01T11:29:21.709058Z"
    }
   },
   "outputs": [],
   "source": [
    "import pandas as pd\n",
    "import pickle\n",
    "from sklearn.feature_extraction.text import TfidfVectorizer\n",
    "import numpy as np\n",
    "import sys"
   ]
  },
  {
   "cell_type": "code",
   "execution_count": 2,
   "outputs": [],
   "source": [
    "metadata_df = pd.read_json(\"../data/metadata_rich_df.json\")\n"
   ],
   "metadata": {
    "collapsed": false,
    "ExecuteTime": {
     "start_time": "2023-05-01T10:55:43.218006Z",
     "end_time": "2023-05-01T10:55:43.658895Z"
    }
   }
  },
  {
   "cell_type": "code",
   "execution_count": 51,
   "outputs": [],
   "source": [
    "sourcepath = \"../data/large_files/trigrams_lemmatized/\"\n",
    "with open(sourcepath + \"trigrams_lemmata_id_0.txt\".format(str(id)), \"r\") as f:\n",
    "    trigrams_list = f.readlines()"
   ],
   "metadata": {
    "collapsed": false,
    "ExecuteTime": {
     "start_time": "2023-05-01T11:25:18.652732Z",
     "end_time": "2023-05-01T11:25:18.671627Z"
    }
   }
  },
  {
   "cell_type": "code",
   "execution_count": 52,
   "outputs": [
    {
     "data": {
      "text/plain": "['religious matter',\n 'divine hope',\n 'divine hope',\n 'leave unresolved',\n 'leave unresolved',\n 'racial equality',\n 'racial equality',\n 'joint action',\n 'joint action',\n 'joint action']"
     },
     "execution_count": 52,
     "metadata": {},
     "output_type": "execute_result"
    }
   ],
   "source": [
    "[el.strip() for el in trigrams_list][:10]"
   ],
   "metadata": {
    "collapsed": false,
    "ExecuteTime": {
     "start_time": "2023-05-01T11:25:19.068190Z",
     "end_time": "2023-05-01T11:25:19.073246Z"
    }
   }
  },
  {
   "cell_type": "markdown",
   "source": [
    "# Load vocabulary"
   ],
   "metadata": {
    "collapsed": false
   }
  },
  {
   "cell_type": "code",
   "execution_count": 53,
   "outputs": [
    {
     "data": {
      "text/plain": "       1900-1919  1920-1939  1940-1959  1960-1979  1980-1999  2000-2019\nman      11218.0     8342.0    24108.0    39199.0    48435.0   100670.0\nnew      10183.0    10192.0    23469.0    42092.0    97421.0   293457.0\nJesus     9650.0     4911.0    12134.0    23416.0    49765.0   215687.0\net        9325.0    11818.0    20805.0    35969.0    49326.0    73464.0\nGod       9248.0     6276.0    26328.0    45751.0    99505.0   293240.0",
      "text/html": "<div>\n<style scoped>\n    .dataframe tbody tr th:only-of-type {\n        vertical-align: middle;\n    }\n\n    .dataframe tbody tr th {\n        vertical-align: top;\n    }\n\n    .dataframe thead th {\n        text-align: right;\n    }\n</style>\n<table border=\"1\" class=\"dataframe\">\n  <thead>\n    <tr style=\"text-align: right;\">\n      <th></th>\n      <th>1900-1919</th>\n      <th>1920-1939</th>\n      <th>1940-1959</th>\n      <th>1960-1979</th>\n      <th>1980-1999</th>\n      <th>2000-2019</th>\n    </tr>\n  </thead>\n  <tbody>\n    <tr>\n      <th>man</th>\n      <td>11218.0</td>\n      <td>8342.0</td>\n      <td>24108.0</td>\n      <td>39199.0</td>\n      <td>48435.0</td>\n      <td>100670.0</td>\n    </tr>\n    <tr>\n      <th>new</th>\n      <td>10183.0</td>\n      <td>10192.0</td>\n      <td>23469.0</td>\n      <td>42092.0</td>\n      <td>97421.0</td>\n      <td>293457.0</td>\n    </tr>\n    <tr>\n      <th>Jesus</th>\n      <td>9650.0</td>\n      <td>4911.0</td>\n      <td>12134.0</td>\n      <td>23416.0</td>\n      <td>49765.0</td>\n      <td>215687.0</td>\n    </tr>\n    <tr>\n      <th>et</th>\n      <td>9325.0</td>\n      <td>11818.0</td>\n      <td>20805.0</td>\n      <td>35969.0</td>\n      <td>49326.0</td>\n      <td>73464.0</td>\n    </tr>\n    <tr>\n      <th>God</th>\n      <td>9248.0</td>\n      <td>6276.0</td>\n      <td>26328.0</td>\n      <td>45751.0</td>\n      <td>99505.0</td>\n      <td>293240.0</td>\n    </tr>\n  </tbody>\n</table>\n</div>"
     },
     "execution_count": 53,
     "metadata": {},
     "output_type": "execute_result"
    }
   ],
   "source": [
    "bidecades_vocabs_counts_df = pickle.load(open(\"../data/bidecades_vocabs_counts_df.pickle\", \"rb\"))\n",
    "bidecades_vocabs_counts_df.head(5)"
   ],
   "metadata": {
    "collapsed": false,
    "ExecuteTime": {
     "start_time": "2023-05-01T11:25:19.410037Z",
     "end_time": "2023-05-01T11:25:19.426766Z"
    }
   }
  },
  {
   "cell_type": "code",
   "execution_count": 54,
   "outputs": [],
   "source": [
    "vocabulary = dict([(el[1], el[0]) for el in enumerate(bidecades_vocabs_counts_df.index)])"
   ],
   "metadata": {
    "collapsed": false,
    "ExecuteTime": {
     "start_time": "2023-05-01T11:25:19.875546Z",
     "end_time": "2023-05-01T11:25:19.877665Z"
    }
   }
  },
  {
   "cell_type": "markdown",
   "source": [
    "# Load trigrams"
   ],
   "metadata": {
    "collapsed": false
   }
  },
  {
   "cell_type": "code",
   "execution_count": 116,
   "outputs": [
    {
     "data": {
      "text/plain": "['1900-1919', '1920-1939', '1940-1959', '1960-1979', '1980-1999', '2000-2019']"
     },
     "execution_count": 116,
     "metadata": {},
     "output_type": "execute_result"
    }
   ],
   "source": [
    "bidecades_strs = sorted([el for el in list(set(metadata_df[\"bidecade\"])) if el != None])\n",
    "bidecades_strs"
   ],
   "metadata": {
    "collapsed": false,
    "ExecuteTime": {
     "start_time": "2023-05-01T13:21:25.732110Z",
     "end_time": "2023-05-01T13:21:25.762514Z"
    }
   }
  },
  {
   "cell_type": "code",
   "execution_count": 117,
   "outputs": [
    {
     "data": {
      "text/plain": "782"
     },
     "execution_count": 117,
     "metadata": {},
     "output_type": "execute_result"
    }
   ],
   "source": [
    "bidecade = \"1900-1919\"\n",
    "ids = metadata_df[metadata_df[\"bidecade\"]==bidecade][\"id_kase\"]\n",
    "len(ids)"
   ],
   "metadata": {
    "collapsed": false,
    "ExecuteTime": {
     "start_time": "2023-05-01T13:21:29.002212Z",
     "end_time": "2023-05-01T13:21:29.060622Z"
    }
   }
  },
  {
   "cell_type": "code",
   "execution_count": 118,
   "outputs": [],
   "source": [
    "with open(\"../data/large_files/bidecade_trigrams_{}.txt\".format(bidecade), \"r\") as f:\n",
    "    subcorpus_ngrams = f.readlines()"
   ],
   "metadata": {
    "collapsed": false,
    "ExecuteTime": {
     "start_time": "2023-05-01T13:21:36.117268Z",
     "end_time": "2023-05-01T13:21:36.896852Z"
    }
   }
  },
  {
   "cell_type": "code",
   "execution_count": 119,
   "outputs": [
    {
     "data": {
      "text/plain": "['Michigan Ann Arbor',\n 'Bonner University',\n 'Bonner University',\n 'Iowa Iowa',\n 'Iowa Iowa',\n 'Kansas Lawrence',\n 'Ginn Co',\n 'Elliott University',\n 'Elliott University',\n 'Kansas Lawrence Kansas']"
     },
     "execution_count": 119,
     "metadata": {},
     "output_type": "execute_result"
    }
   ],
   "source": [
    "[el.strip() for el in subcorpus_ngrams[:10]]"
   ],
   "metadata": {
    "collapsed": false,
    "ExecuteTime": {
     "start_time": "2023-05-01T13:22:06.102708Z",
     "end_time": "2023-05-01T13:22:06.122661Z"
    }
   }
  },
  {
   "cell_type": "code",
   "execution_count": 120,
   "outputs": [],
   "source": [
    "vectorizer = TfidfVectorizer(vocabulary=vocabulary, lowercase=False)\n",
    "X = vectorizer.fit_transform(subcorpus_ngrams)"
   ],
   "metadata": {
    "collapsed": false,
    "ExecuteTime": {
     "start_time": "2023-05-01T13:22:12.489914Z",
     "end_time": "2023-05-01T13:22:13.671712Z"
    }
   }
  },
  {
   "cell_type": "code",
   "execution_count": 121,
   "outputs": [
    {
     "data": {
      "text/plain": "(722798, 4804)"
     },
     "execution_count": 121,
     "metadata": {},
     "output_type": "execute_result"
    }
   ],
   "source": [
    "X.shape"
   ],
   "metadata": {
    "collapsed": false,
    "ExecuteTime": {
     "start_time": "2023-05-01T13:22:15.178706Z",
     "end_time": "2023-05-01T13:22:15.189826Z"
    }
   }
  },
  {
   "cell_type": "code",
   "execution_count": 122,
   "outputs": [],
   "source": [
    "cooc = X.T * X"
   ],
   "metadata": {
    "collapsed": false,
    "ExecuteTime": {
     "start_time": "2023-05-01T13:22:58.851320Z",
     "end_time": "2023-05-01T13:22:58.898726Z"
    }
   }
  },
  {
   "cell_type": "code",
   "execution_count": 123,
   "outputs": [
    {
     "data": {
      "text/plain": "6277.248125246523"
     },
     "execution_count": 123,
     "metadata": {},
     "output_type": "execute_result"
    }
   ],
   "source": [
    "cooc.max()"
   ],
   "metadata": {
    "collapsed": false,
    "ExecuteTime": {
     "start_time": "2023-05-01T13:23:01.901517Z",
     "end_time": "2023-05-01T13:23:01.915505Z"
    }
   }
  },
  {
   "cell_type": "code",
   "execution_count": 124,
   "outputs": [
    {
     "data": {
      "text/plain": "6277.248125246523"
     },
     "execution_count": 124,
     "metadata": {},
     "output_type": "execute_result"
    }
   ],
   "source": [
    "cooc.todense().max()"
   ],
   "metadata": {
    "collapsed": false,
    "ExecuteTime": {
     "start_time": "2023-05-01T13:23:04.566522Z",
     "end_time": "2023-05-01T13:23:04.600919Z"
    }
   }
  },
  {
   "cell_type": "code",
   "execution_count": 125,
   "outputs": [],
   "source": [
    "cooc_norm_dict = {}\n",
    "for bidecade in bidecades_strs:\n",
    "    with open(\"../data/large_files/bidecade_trigrams_{}.txt\".format(bidecade), \"r\") as f:\n",
    "        subcorpus_ngrams = f.readlines()\n",
    "    vectorizer = TfidfVectorizer(vocabulary=vocabulary, lowercase=False)\n",
    "    X = vectorizer.fit_transform(subcorpus_ngrams)\n",
    "    cooc = X.T * X\n",
    "    cooc_norm_dict[bidecade] = cooc"
   ],
   "metadata": {
    "collapsed": false,
    "ExecuteTime": {
     "start_time": "2023-05-01T13:23:22.387933Z",
     "end_time": "2023-05-01T13:25:02.760812Z"
    }
   }
  },
  {
   "cell_type": "code",
   "execution_count": 127,
   "outputs": [],
   "source": [
    "pickle.dump(cooc_norm_dict, open(\"../data/cooc_dict.pickle\", \"wb\"))"
   ],
   "metadata": {
    "collapsed": false,
    "ExecuteTime": {
     "start_time": "2023-05-01T13:25:13.888876Z",
     "end_time": "2023-05-01T13:25:13.959411Z"
    }
   }
  },
  {
   "cell_type": "code",
   "execution_count": null,
   "outputs": [],
   "source": [],
   "metadata": {
    "collapsed": false
   }
  },
  {
   "cell_type": "code",
   "execution_count": null,
   "outputs": [],
   "source": [],
   "metadata": {
    "collapsed": false
   }
  },
  {
   "cell_type": "code",
   "execution_count": null,
   "outputs": [],
   "source": [],
   "metadata": {
    "collapsed": false
   }
  },
  {
   "cell_type": "code",
   "execution_count": null,
   "outputs": [],
   "source": [],
   "metadata": {
    "collapsed": false
   }
  },
  {
   "cell_type": "code",
   "execution_count": 39,
   "outputs": [
    {
     "data": {
      "text/plain": "Paul        1.000000\nletter      0.052684\nApostle     0.025385\nuse         0.021093\nepistle     0.016693\n              ...   \nopposite    0.000000\nSimeon      0.000000\nwithdraw    0.000000\nvote        0.000000\nless        0.000000\nName: Paul, Length: 4804, dtype: float64"
     },
     "execution_count": 39,
     "metadata": {},
     "output_type": "execute_result"
    }
   ],
   "source": [
    "cooc_norm_dict[\"1980-1999\"][\"Paul\"].sort_values(ascending=False)"
   ],
   "metadata": {
    "collapsed": false,
    "ExecuteTime": {
     "start_time": "2023-05-01T11:16:49.940954Z",
     "end_time": "2023-05-01T11:16:49.951520Z"
    }
   }
  },
  {
   "cell_type": "code",
   "execution_count": null,
   "outputs": [],
   "source": [],
   "metadata": {
    "collapsed": false
   }
  }
 ],
 "metadata": {
  "kernelspec": {
   "name": "mops_venv",
   "language": "python",
   "display_name": "mops_venv"
  },
  "language_info": {
   "codemirror_mode": {
    "name": "ipython",
    "version": 2
   },
   "file_extension": ".py",
   "mimetype": "text/x-python",
   "name": "python",
   "nbconvert_exporter": "python",
   "pygments_lexer": "ipython2",
   "version": "2.7.6"
  }
 },
 "nbformat": 4,
 "nbformat_minor": 0
}
