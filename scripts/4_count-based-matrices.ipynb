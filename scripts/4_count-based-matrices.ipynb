{
 "cells": [
  {
   "cell_type": "code",
   "execution_count": 139,
   "metadata": {
    "collapsed": true,
    "ExecuteTime": {
     "end_time": "2023-05-08T18:18:23.192104Z",
     "start_time": "2023-05-08T18:18:23.186229Z"
    }
   },
   "outputs": [],
   "source": [
    "import nltk\n",
    "import pandas as pd\n",
    "import pickle\n",
    "from sklearn.feature_extraction.text import TfidfVectorizer\n",
    "from sklearn.feature_extraction.text import CountVectorizer\n",
    "\n",
    "import numpy as np\n",
    "import math\n",
    "import sys"
   ]
  },
  {
   "cell_type": "code",
   "execution_count": 2,
   "outputs": [],
   "source": [
    "metadata_df = pd.read_json(\"../data/metadata_rich_df.json\")\n"
   ],
   "metadata": {
    "collapsed": false,
    "ExecuteTime": {
     "end_time": "2023-05-05T08:33:58.371926Z",
     "start_time": "2023-05-05T08:33:57.877746Z"
    }
   }
  },
  {
   "cell_type": "code",
   "execution_count": 3,
   "outputs": [],
   "source": [
    "sourcepath = \"../data/large_files/trigrams_lemmatized/\"\n",
    "with open(sourcepath + \"trigrams_lemmata_id_0.txt\".format(str(id)), \"r\") as f:\n",
    "    trigrams_list = f.readlines()"
   ],
   "metadata": {
    "collapsed": false,
    "ExecuteTime": {
     "end_time": "2023-05-05T08:33:58.379719Z",
     "start_time": "2023-05-05T08:33:58.373224Z"
    }
   }
  },
  {
   "cell_type": "code",
   "execution_count": 4,
   "outputs": [
    {
     "data": {
      "text/plain": "['religious matter',\n 'divine hope',\n 'divine hope',\n 'leave unresolved',\n 'leave unresolved',\n 'racial equality',\n 'racial equality',\n 'joint action',\n 'joint action',\n 'joint action']"
     },
     "execution_count": 4,
     "metadata": {},
     "output_type": "execute_result"
    }
   ],
   "source": [
    "[el.strip() for el in trigrams_list][:10]"
   ],
   "metadata": {
    "collapsed": false,
    "ExecuteTime": {
     "end_time": "2023-05-05T08:33:58.388767Z",
     "start_time": "2023-05-05T08:33:58.381994Z"
    }
   }
  },
  {
   "cell_type": "markdown",
   "source": [
    "# Load vocabulary"
   ],
   "metadata": {
    "collapsed": false
   }
  },
  {
   "cell_type": "code",
   "execution_count": 5,
   "outputs": [
    {
     "data": {
      "text/plain": "       1900-1919  1920-1939  1940-1959  1960-1979  1980-1999  2000-2019\nman      11218.0     8342.0    24108.0    39199.0    48435.0   100670.0\nnew      10183.0    10192.0    23469.0    42092.0    97421.0   293457.0\nJesus     9650.0     4911.0    12134.0    23416.0    49765.0   215687.0\net        9325.0    11818.0    20805.0    35969.0    49326.0    73464.0\nGod       9248.0     6276.0    26328.0    45751.0    99505.0   293240.0",
      "text/html": "<div>\n<style scoped>\n    .dataframe tbody tr th:only-of-type {\n        vertical-align: middle;\n    }\n\n    .dataframe tbody tr th {\n        vertical-align: top;\n    }\n\n    .dataframe thead th {\n        text-align: right;\n    }\n</style>\n<table border=\"1\" class=\"dataframe\">\n  <thead>\n    <tr style=\"text-align: right;\">\n      <th></th>\n      <th>1900-1919</th>\n      <th>1920-1939</th>\n      <th>1940-1959</th>\n      <th>1960-1979</th>\n      <th>1980-1999</th>\n      <th>2000-2019</th>\n    </tr>\n  </thead>\n  <tbody>\n    <tr>\n      <th>man</th>\n      <td>11218.0</td>\n      <td>8342.0</td>\n      <td>24108.0</td>\n      <td>39199.0</td>\n      <td>48435.0</td>\n      <td>100670.0</td>\n    </tr>\n    <tr>\n      <th>new</th>\n      <td>10183.0</td>\n      <td>10192.0</td>\n      <td>23469.0</td>\n      <td>42092.0</td>\n      <td>97421.0</td>\n      <td>293457.0</td>\n    </tr>\n    <tr>\n      <th>Jesus</th>\n      <td>9650.0</td>\n      <td>4911.0</td>\n      <td>12134.0</td>\n      <td>23416.0</td>\n      <td>49765.0</td>\n      <td>215687.0</td>\n    </tr>\n    <tr>\n      <th>et</th>\n      <td>9325.0</td>\n      <td>11818.0</td>\n      <td>20805.0</td>\n      <td>35969.0</td>\n      <td>49326.0</td>\n      <td>73464.0</td>\n    </tr>\n    <tr>\n      <th>God</th>\n      <td>9248.0</td>\n      <td>6276.0</td>\n      <td>26328.0</td>\n      <td>45751.0</td>\n      <td>99505.0</td>\n      <td>293240.0</td>\n    </tr>\n  </tbody>\n</table>\n</div>"
     },
     "execution_count": 5,
     "metadata": {},
     "output_type": "execute_result"
    }
   ],
   "source": [
    "bidecades_vocabs_counts_df = pickle.load(open(\"../data/bidecades_vocabs_counts_df.pickle\", \"rb\"))\n",
    "bidecades_vocabs_counts_df.head(5)"
   ],
   "metadata": {
    "collapsed": false,
    "ExecuteTime": {
     "end_time": "2023-05-05T08:33:58.426712Z",
     "start_time": "2023-05-05T08:33:58.388504Z"
    }
   }
  },
  {
   "cell_type": "code",
   "execution_count": 6,
   "outputs": [],
   "source": [
    "vocabulary = dict([(el[1], el[0]) for el in enumerate(bidecades_vocabs_counts_df.index)])"
   ],
   "metadata": {
    "collapsed": false,
    "ExecuteTime": {
     "end_time": "2023-05-05T08:33:58.427778Z",
     "start_time": "2023-05-05T08:33:58.397370Z"
    }
   }
  },
  {
   "cell_type": "markdown",
   "source": [
    "# Load trigrams"
   ],
   "metadata": {
    "collapsed": false
   }
  },
  {
   "cell_type": "code",
   "execution_count": 7,
   "outputs": [
    {
     "data": {
      "text/plain": "['1900-1919', '1920-1939', '1940-1959', '1960-1979', '1980-1999', '2000-2019']"
     },
     "execution_count": 7,
     "metadata": {},
     "output_type": "execute_result"
    }
   ],
   "source": [
    "bidecades_strs = sorted([el for el in list(set(metadata_df[\"bidecade\"])) if el != None])\n",
    "bidecades_strs"
   ],
   "metadata": {
    "collapsed": false,
    "ExecuteTime": {
     "end_time": "2023-05-05T08:33:58.428107Z",
     "start_time": "2023-05-05T08:33:58.405122Z"
    }
   }
  },
  {
   "cell_type": "code",
   "execution_count": 8,
   "outputs": [
    {
     "data": {
      "text/plain": "782"
     },
     "execution_count": 8,
     "metadata": {},
     "output_type": "execute_result"
    }
   ],
   "source": [
    "bidecade = \"1900-1919\"\n",
    "ids = metadata_df[metadata_df[\"bidecade\"]==bidecade][\"id_kase\"]\n",
    "len(ids)"
   ],
   "metadata": {
    "collapsed": false,
    "ExecuteTime": {
     "end_time": "2023-05-05T08:33:58.428415Z",
     "start_time": "2023-05-05T08:33:58.419219Z"
    }
   }
  },
  {
   "cell_type": "code",
   "execution_count": 23,
   "outputs": [],
   "source": [
    "with open(\"../data/large_files/bidecade_trigrams_{}.txt\".format(bidecade), \"r\") as f:\n",
    "    subcorpus_ngrams = f.readlines()"
   ],
   "metadata": {
    "collapsed": false,
    "ExecuteTime": {
     "end_time": "2023-05-05T13:20:20.521528Z",
     "start_time": "2023-05-05T13:20:20.449079Z"
    }
   }
  },
  {
   "cell_type": "code",
   "execution_count": 24,
   "outputs": [
    {
     "data": {
      "text/plain": "['Michigan Ann Arbor',\n 'Bonner University',\n 'Bonner University',\n 'Iowa Iowa',\n 'Iowa Iowa',\n 'Kansas Lawrence',\n 'Ginn Co',\n 'Elliott University',\n 'Elliott University',\n 'Kansas Lawrence Kansas']"
     },
     "execution_count": 24,
     "metadata": {},
     "output_type": "execute_result"
    }
   ],
   "source": [
    "[el.strip() for el in subcorpus_ngrams[:10]]"
   ],
   "metadata": {
    "collapsed": false,
    "ExecuteTime": {
     "end_time": "2023-05-05T13:20:21.075148Z",
     "start_time": "2023-05-05T13:20:21.068807Z"
    }
   }
  },
  {
   "cell_type": "code",
   "execution_count": 120,
   "outputs": [],
   "source": [
    "vectorizer = TfidfVectorizer(vocabulary=vocabulary, lowercase=False)\n",
    "X = vectorizer.fit_transform(subcorpus_ngrams)"
   ],
   "metadata": {
    "collapsed": false,
    "ExecuteTime": {
     "start_time": "2023-05-01T13:22:12.489914Z",
     "end_time": "2023-05-01T13:22:13.671712Z"
    }
   }
  },
  {
   "cell_type": "code",
   "execution_count": 121,
   "outputs": [
    {
     "data": {
      "text/plain": "(722798, 4804)"
     },
     "execution_count": 121,
     "metadata": {},
     "output_type": "execute_result"
    }
   ],
   "source": [
    "X.shape"
   ],
   "metadata": {
    "collapsed": false,
    "ExecuteTime": {
     "start_time": "2023-05-01T13:22:15.178706Z",
     "end_time": "2023-05-01T13:22:15.189826Z"
    }
   }
  },
  {
   "cell_type": "code",
   "execution_count": 122,
   "outputs": [],
   "source": [
    "cooc = X.T * X"
   ],
   "metadata": {
    "collapsed": false,
    "ExecuteTime": {
     "start_time": "2023-05-01T13:22:58.851320Z",
     "end_time": "2023-05-01T13:22:58.898726Z"
    }
   }
  },
  {
   "cell_type": "code",
   "execution_count": 123,
   "outputs": [
    {
     "data": {
      "text/plain": "6277.248125246523"
     },
     "execution_count": 123,
     "metadata": {},
     "output_type": "execute_result"
    }
   ],
   "source": [
    "cooc.max()"
   ],
   "metadata": {
    "collapsed": false,
    "ExecuteTime": {
     "start_time": "2023-05-01T13:23:01.901517Z",
     "end_time": "2023-05-01T13:23:01.915505Z"
    }
   }
  },
  {
   "cell_type": "code",
   "execution_count": 124,
   "outputs": [
    {
     "data": {
      "text/plain": "6277.248125246523"
     },
     "execution_count": 124,
     "metadata": {},
     "output_type": "execute_result"
    }
   ],
   "source": [
    "cooc.todense().max()"
   ],
   "metadata": {
    "collapsed": false,
    "ExecuteTime": {
     "start_time": "2023-05-01T13:23:04.566522Z",
     "end_time": "2023-05-01T13:23:04.600919Z"
    }
   }
  },
  {
   "cell_type": "code",
   "execution_count": 125,
   "outputs": [],
   "source": [
    "cooc_norm_dict = {}\n",
    "for bidecade in bidecades_strs:\n",
    "    with open(\"../data/large_files/bidecade_trigrams_{}.txt\".format(bidecade), \"r\") as f:\n",
    "        subcorpus_ngrams = f.readlines()\n",
    "    vectorizer = TfidfVectorizer(vocabulary=vocabulary, lowercase=False)\n",
    "    X = vectorizer.fit_transform(subcorpus_ngrams)\n",
    "    cooc = X.T * X\n",
    "    cooc_norm_dict[bidecade] = cooc"
   ],
   "metadata": {
    "collapsed": false,
    "ExecuteTime": {
     "start_time": "2023-05-01T13:23:22.387933Z",
     "end_time": "2023-05-01T13:25:02.760812Z"
    }
   }
  },
  {
   "cell_type": "code",
   "execution_count": 127,
   "outputs": [],
   "source": [
    "pickle.dump(cooc_norm_dict, open(\"../data/cooc_dict.pickle\", \"wb\"))"
   ],
   "metadata": {
    "collapsed": false,
    "ExecuteTime": {
     "start_time": "2023-05-01T13:25:13.888876Z",
     "end_time": "2023-05-01T13:25:13.959411Z"
    }
   }
  },
  {
   "cell_type": "code",
   "execution_count": null,
   "outputs": [],
   "source": [],
   "metadata": {
    "collapsed": false
   }
  },
  {
   "cell_type": "code",
   "execution_count": null,
   "outputs": [],
   "source": [],
   "metadata": {
    "collapsed": false
   }
  },
  {
   "cell_type": "code",
   "execution_count": null,
   "outputs": [],
   "source": [],
   "metadata": {
    "collapsed": false
   }
  },
  {
   "cell_type": "code",
   "execution_count": null,
   "outputs": [],
   "source": [],
   "metadata": {
    "collapsed": false
   }
  },
  {
   "cell_type": "code",
   "execution_count": 39,
   "outputs": [
    {
     "data": {
      "text/plain": "Paul        1.000000\nletter      0.052684\nApostle     0.025385\nuse         0.021093\nepistle     0.016693\n              ...   \nopposite    0.000000\nSimeon      0.000000\nwithdraw    0.000000\nvote        0.000000\nless        0.000000\nName: Paul, Length: 4804, dtype: float64"
     },
     "execution_count": 39,
     "metadata": {},
     "output_type": "execute_result"
    }
   ],
   "source": [
    "cooc_norm_dict[\"1980-1999\"][\"Paul\"].sort_values(ascending=False)"
   ],
   "metadata": {
    "collapsed": false,
    "ExecuteTime": {
     "start_time": "2023-05-01T11:16:49.940954Z",
     "end_time": "2023-05-01T11:16:49.951520Z"
    }
   }
  },
  {
   "cell_type": "markdown",
   "source": [
    "# Vectorization example"
   ],
   "metadata": {
    "collapsed": false
   }
  },
  {
   "cell_type": "code",
   "execution_count": 360,
   "outputs": [],
   "source": [
    "corpus = [(\"apostle Paul be\"), (\"apostle Paul be\"), (\"scholar write be\"), (\"scholar be article\")]\n",
    "vocabulary = list(set([w for doc in [doc.split() for doc in corpus] for w in doc]))\n",
    "vectorizer_tfidf = TfidfVectorizer(vocabulary=vocabulary, lowercase=False)\n",
    "doc_term_tfidf = vectorizer_tfidf.fit_transform(corpus)\n",
    "\n",
    "vectorizer_count = CountVectorizer(vocabulary=vocabulary, lowercase=False)\n",
    "doc_term_count = vectorizer_count.fit_transform(corpus)"
   ],
   "metadata": {
    "collapsed": false,
    "ExecuteTime": {
     "end_time": "2023-05-08T21:07:01.468254Z",
     "start_time": "2023-05-08T21:07:01.464067Z"
    }
   }
  },
  {
   "cell_type": "markdown",
   "source": [
    "corpus = [(\"apostle Paul be\"),\n",
    "          (\"apostle Paul be\"),\n",
    "          (\"scholar write be\"),\n",
    "          (\"scholar be article\")]\n"
   ],
   "metadata": {
    "collapsed": false
   }
  },
  {
   "cell_type": "code",
   "execution_count": 360,
   "outputs": [],
   "source": [],
   "metadata": {
    "collapsed": false,
    "ExecuteTime": {
     "end_time": "2023-05-08T21:07:01.922761Z",
     "start_time": "2023-05-08T21:07:01.918603Z"
    }
   }
  },
  {
   "cell_type": "code",
   "execution_count": 361,
   "outputs": [
    {
     "data": {
      "text/plain": "      Paul  apostle  scholar  be  write  article\ndoc1     1        1        0   1      0        0\ndoc2     1        1        0   1      0        0\ndoc3     0        0        1   1      1        0\ndoc4     0        0        1   1      0        1",
      "text/html": "<div>\n<style scoped>\n    .dataframe tbody tr th:only-of-type {\n        vertical-align: middle;\n    }\n\n    .dataframe tbody tr th {\n        vertical-align: top;\n    }\n\n    .dataframe thead th {\n        text-align: right;\n    }\n</style>\n<table border=\"1\" class=\"dataframe\">\n  <thead>\n    <tr style=\"text-align: right;\">\n      <th></th>\n      <th>Paul</th>\n      <th>apostle</th>\n      <th>scholar</th>\n      <th>be</th>\n      <th>write</th>\n      <th>article</th>\n    </tr>\n  </thead>\n  <tbody>\n    <tr>\n      <th>doc1</th>\n      <td>1</td>\n      <td>1</td>\n      <td>0</td>\n      <td>1</td>\n      <td>0</td>\n      <td>0</td>\n    </tr>\n    <tr>\n      <th>doc2</th>\n      <td>1</td>\n      <td>1</td>\n      <td>0</td>\n      <td>1</td>\n      <td>0</td>\n      <td>0</td>\n    </tr>\n    <tr>\n      <th>doc3</th>\n      <td>0</td>\n      <td>0</td>\n      <td>1</td>\n      <td>1</td>\n      <td>1</td>\n      <td>0</td>\n    </tr>\n    <tr>\n      <th>doc4</th>\n      <td>0</td>\n      <td>0</td>\n      <td>1</td>\n      <td>1</td>\n      <td>0</td>\n      <td>1</td>\n    </tr>\n  </tbody>\n</table>\n</div>"
     },
     "execution_count": 361,
     "metadata": {},
     "output_type": "execute_result"
    }
   ],
   "source": [
    "doc_term_matrix_count = pd.DataFrame(doc_term_count.todense(), columns=vocabulary, index=[\"doc1\", \"doc2\", \"doc3\", \"doc4\"])\n",
    "doc_term_matrix_count"
   ],
   "metadata": {
    "collapsed": false,
    "ExecuteTime": {
     "end_time": "2023-05-08T21:07:02.231771Z",
     "start_time": "2023-05-08T21:07:02.215444Z"
    }
   }
  },
  {
   "cell_type": "code",
   "execution_count": 362,
   "outputs": [
    {
     "data": {
      "text/plain": "          Paul   apostle   scholar        be     write   article\ndoc1  0.640434  0.640434  0.000000  0.423897  0.000000  0.000000\ndoc2  0.640434  0.640434  0.000000  0.423897  0.000000  0.000000\ndoc3  0.000000  0.000000  0.572892  0.379192  0.726641  0.000000\ndoc4  0.000000  0.000000  0.572892  0.379192  0.000000  0.726641",
      "text/html": "<div>\n<style scoped>\n    .dataframe tbody tr th:only-of-type {\n        vertical-align: middle;\n    }\n\n    .dataframe tbody tr th {\n        vertical-align: top;\n    }\n\n    .dataframe thead th {\n        text-align: right;\n    }\n</style>\n<table border=\"1\" class=\"dataframe\">\n  <thead>\n    <tr style=\"text-align: right;\">\n      <th></th>\n      <th>Paul</th>\n      <th>apostle</th>\n      <th>scholar</th>\n      <th>be</th>\n      <th>write</th>\n      <th>article</th>\n    </tr>\n  </thead>\n  <tbody>\n    <tr>\n      <th>doc1</th>\n      <td>0.640434</td>\n      <td>0.640434</td>\n      <td>0.000000</td>\n      <td>0.423897</td>\n      <td>0.000000</td>\n      <td>0.000000</td>\n    </tr>\n    <tr>\n      <th>doc2</th>\n      <td>0.640434</td>\n      <td>0.640434</td>\n      <td>0.000000</td>\n      <td>0.423897</td>\n      <td>0.000000</td>\n      <td>0.000000</td>\n    </tr>\n    <tr>\n      <th>doc3</th>\n      <td>0.000000</td>\n      <td>0.000000</td>\n      <td>0.572892</td>\n      <td>0.379192</td>\n      <td>0.726641</td>\n      <td>0.000000</td>\n    </tr>\n    <tr>\n      <th>doc4</th>\n      <td>0.000000</td>\n      <td>0.000000</td>\n      <td>0.572892</td>\n      <td>0.379192</td>\n      <td>0.000000</td>\n      <td>0.726641</td>\n    </tr>\n  </tbody>\n</table>\n</div>"
     },
     "execution_count": 362,
     "metadata": {},
     "output_type": "execute_result"
    }
   ],
   "source": [
    "doc_term_matrix_tfidf = pd.DataFrame(doc_term_tfidf.todense(), columns=vocabulary, index=[\"doc1\", \"doc2\", \"doc3\", \"doc4\"])\n",
    "doc_term_matrix_tfidf"
   ],
   "metadata": {
    "collapsed": false,
    "ExecuteTime": {
     "end_time": "2023-05-08T21:07:04.465667Z",
     "start_time": "2023-05-08T21:07:04.447790Z"
    }
   }
  },
  {
   "cell_type": "code",
   "execution_count": 382,
   "outputs": [
    {
     "name": "stdout",
     "output_type": "stream",
     "text": [
      "1.5108256237659907\n"
     ]
    }
   ],
   "source": [
    "# TfIdf of Paul in doc1:\n",
    "TF = 1 # term frequency\n",
    "N = 4 # number of documents\n",
    "DF = 2 # document frequency\n",
    "IDF = np.log((N + 1) / (DF + 1)) + 1\n",
    "doc1_Paul_tfidf = TF * IDF"
   ],
   "metadata": {
    "collapsed": false,
    "ExecuteTime": {
     "end_time": "2023-05-08T21:13:45.996288Z",
     "start_time": "2023-05-08T21:13:45.984773Z"
    }
   }
  },
  {
   "cell_type": "code",
   "execution_count": 364,
   "outputs": [
    {
     "data": {
      "text/plain": "Paul       0.640434\napostle    0.640434\nscholar    0.000000\nbe         0.423897\nwrite      0.000000\narticle    0.000000\nName: doc1, dtype: float64"
     },
     "execution_count": 364,
     "metadata": {},
     "output_type": "execute_result"
    }
   ],
   "source": [
    "doc_term_matrix_tfidf.loc[\"doc1\"]"
   ],
   "metadata": {
    "collapsed": false,
    "ExecuteTime": {
     "end_time": "2023-05-08T21:07:11.186342Z",
     "start_time": "2023-05-08T21:07:11.168898Z"
    }
   }
  },
  {
   "cell_type": "code",
   "execution_count": 372,
   "outputs": [],
   "source": [
    "def tfidf(corpus, vocabulary):\n",
    "    # Compute document frequency (df) for each term in the vocabulary\n",
    "    df = {word: 0 for word in vocabulary}\n",
    "    for doc in corpus:\n",
    "        words = doc.split()\n",
    "        for word in set(words):\n",
    "            if word in vocabulary:\n",
    "                df[word] += 1\n",
    "\n",
    "    # Compute inverse document frequency (idf) for each term in the vocabulary\n",
    "    idf = {}\n",
    "    N = len(corpus)\n",
    "    for word in vocabulary:\n",
    "        idf[word] = np.log((N + 1) / (df[word] + 1)) + 1\n",
    "\n",
    "    # Compute term frequency (tf) for each document\n",
    "    tf = np.zeros((N, len(vocabulary)))\n",
    "    for i, doc in enumerate(corpus):\n",
    "        words = doc.split()\n",
    "        for j, word in enumerate(vocabulary):\n",
    "            tf[i, j] = words.count(word)\n",
    "\n",
    "    # Compute tf-idf for each document-term pair\n",
    "    tfidf_matrix = tf * np.array(list(idf.values()))\n",
    "    tfidf_manually = pd.DataFrame(tfidf_matrix, columns=vocabulary, index=[\"doc1\", \"doc2\", \"doc3\", \"doc4\"])\n",
    "    return tfidf_manually"
   ],
   "metadata": {
    "collapsed": false,
    "ExecuteTime": {
     "end_time": "2023-05-08T21:11:00.753793Z",
     "start_time": "2023-05-08T21:11:00.746661Z"
    }
   }
  },
  {
   "cell_type": "code",
   "execution_count": 373,
   "outputs": [
    {
     "data": {
      "text/plain": "          Paul   apostle   scholar   be     write   article\ndoc1  1.510826  1.510826  0.000000  1.0  0.000000  0.000000\ndoc2  1.510826  1.510826  0.000000  1.0  0.000000  0.000000\ndoc3  0.000000  0.000000  1.510826  1.0  1.916291  0.000000\ndoc4  0.000000  0.000000  1.510826  1.0  0.000000  1.916291",
      "text/html": "<div>\n<style scoped>\n    .dataframe tbody tr th:only-of-type {\n        vertical-align: middle;\n    }\n\n    .dataframe tbody tr th {\n        vertical-align: top;\n    }\n\n    .dataframe thead th {\n        text-align: right;\n    }\n</style>\n<table border=\"1\" class=\"dataframe\">\n  <thead>\n    <tr style=\"text-align: right;\">\n      <th></th>\n      <th>Paul</th>\n      <th>apostle</th>\n      <th>scholar</th>\n      <th>be</th>\n      <th>write</th>\n      <th>article</th>\n    </tr>\n  </thead>\n  <tbody>\n    <tr>\n      <th>doc1</th>\n      <td>1.510826</td>\n      <td>1.510826</td>\n      <td>0.000000</td>\n      <td>1.0</td>\n      <td>0.000000</td>\n      <td>0.000000</td>\n    </tr>\n    <tr>\n      <th>doc2</th>\n      <td>1.510826</td>\n      <td>1.510826</td>\n      <td>0.000000</td>\n      <td>1.0</td>\n      <td>0.000000</td>\n      <td>0.000000</td>\n    </tr>\n    <tr>\n      <th>doc3</th>\n      <td>0.000000</td>\n      <td>0.000000</td>\n      <td>1.510826</td>\n      <td>1.0</td>\n      <td>1.916291</td>\n      <td>0.000000</td>\n    </tr>\n    <tr>\n      <th>doc4</th>\n      <td>0.000000</td>\n      <td>0.000000</td>\n      <td>1.510826</td>\n      <td>1.0</td>\n      <td>0.000000</td>\n      <td>1.916291</td>\n    </tr>\n  </tbody>\n</table>\n</div>"
     },
     "execution_count": 373,
     "metadata": {},
     "output_type": "execute_result"
    }
   ],
   "source": [
    "tfidf_manually = tfidf(corpus, vocabulary)\n",
    "tfidf_manually"
   ],
   "metadata": {
    "collapsed": false,
    "ExecuteTime": {
     "end_time": "2023-05-08T21:11:01.145154Z",
     "start_time": "2023-05-08T21:11:01.134124Z"
    }
   }
  },
  {
   "cell_type": "markdown",
   "source": [
    "doc1_Paul_tfidf = 1.51\n",
    "eucl_norm = sqrt((1.51^2)+(1.51^2)+(0.0^2)+(1.0^2)+(0.0^2)+(0.0^2)) = 2.36\n",
    "doc1_Paul_tfidf_norm = 1.51 / 2.36 = 0.64\n",
    "\n"
   ],
   "metadata": {
    "collapsed": false
   }
  },
  {
   "cell_type": "code",
   "execution_count": 384,
   "outputs": [
    {
     "ename": "TypeError",
     "evalue": "unsupported operand type(s) for ^: 'float' and 'float'",
     "output_type": "error",
     "traceback": [
      "\u001B[0;31m---------------------------------------------------------------------------\u001B[0m",
      "\u001B[0;31mTypeError\u001B[0m                                 Traceback (most recent call last)",
      "Cell \u001B[0;32mIn[384], line 2\u001B[0m\n\u001B[1;32m      1\u001B[0m doc1_Paul_tfidf \u001B[38;5;241m=\u001B[39m \u001B[38;5;241m1.51\u001B[39m\n\u001B[0;32m----> 2\u001B[0m eucl_norm \u001B[38;5;241m=\u001B[39m \u001B[38;5;28msum\u001B[39m(np\u001B[38;5;241m.\u001B[39msqrt((\u001B[38;5;241;43m1.51\u001B[39;49m\u001B[38;5;241;43m^\u001B[39;49m\u001B[38;5;241;43m2.0\u001B[39;49m)\u001B[38;5;241m+\u001B[39m(\u001B[38;5;241m1.51\u001B[39m\u001B[38;5;241m^\u001B[39m\u001B[38;5;241m2.0\u001B[39m)\u001B[38;5;241m+\u001B[39m(\u001B[38;5;241m0.0\u001B[39m\u001B[38;5;241m^\u001B[39m\u001B[38;5;241m2.0\u001B[39m)\u001B[38;5;241m+\u001B[39m(\u001B[38;5;241m1.0\u001B[39m\u001B[38;5;241m^\u001B[39m\u001B[38;5;241m2.0\u001B[39m)\u001B[38;5;241m+\u001B[39m(\u001B[38;5;241m0.0\u001B[39m\u001B[38;5;241m^\u001B[39m\u001B[38;5;241m2.0\u001B[39m)\u001B[38;5;241m+\u001B[39m(\u001B[38;5;241m0.0\u001B[39m\u001B[38;5;241m^\u001B[39m\u001B[38;5;241m2.0\u001B[39m))) \u001B[38;5;66;03m# = 2.36\u001B[39;00m\n\u001B[1;32m      3\u001B[0m doc1_Paul_tfidf_norm \u001B[38;5;241m=\u001B[39m \u001B[38;5;241m1.51\u001B[39m \u001B[38;5;241m/\u001B[39m \u001B[38;5;241m2.36\u001B[39m \u001B[38;5;66;03m# = 0.64\u001B[39;00m\n",
      "\u001B[0;31mTypeError\u001B[0m: unsupported operand type(s) for ^: 'float' and 'float'"
     ]
    }
   ],
   "source": [
    "doc1_Paul_tfidf = 1.51\n",
    "eucl_norm = sum(np.sqrt((1.51^2)+(1.51^2)+(0.0^2)+(1.0^2)+(0.0^2)+(0.0^2))) # = 2.36\n",
    "doc1_Paul_tfidf_norm = 1.51 / 2.36 # = 0.64"
   ],
   "metadata": {
    "collapsed": false,
    "ExecuteTime": {
     "end_time": "2023-05-08T21:29:27.623187Z",
     "start_time": "2023-05-08T21:29:27.586078Z"
    }
   }
  },
  {
   "cell_type": "code",
   "execution_count": 374,
   "outputs": [],
   "source": [
    "def exponent_as_string(val):\n",
    "    return \"(\" + str(np.round(val,2)) + \"^2)\""
   ],
   "metadata": {
    "collapsed": false,
    "ExecuteTime": {
     "end_time": "2023-05-08T21:11:04.753554Z",
     "start_time": "2023-05-08T21:11:04.729217Z"
    }
   }
  },
  {
   "cell_type": "code",
   "execution_count": 375,
   "outputs": [
    {
     "data": {
      "text/plain": "'eucl_norm = sqrt((1.51^2)+(1.51^2)+(0.0^2)+(1.0^2)+(0.0^2)+(0.0^2))'"
     },
     "execution_count": 375,
     "metadata": {},
     "output_type": "execute_result"
    }
   ],
   "source": [
    "\"eucl_norm = sqrt(\" + \"+\".join(tfidf_manually.loc[\"doc1\"].apply(exponent_as_string).tolist()) + \")\"\n"
   ],
   "metadata": {
    "collapsed": false,
    "ExecuteTime": {
     "end_time": "2023-05-08T21:11:07.847539Z",
     "start_time": "2023-05-08T21:11:07.826112Z"
    }
   }
  },
  {
   "cell_type": "code",
   "execution_count": 338,
   "outputs": [
    {
     "data": {
      "text/plain": "           Paul    apostle  scholar         be    write  article\ndoc1  1.51*1.51  1.51*1.51  0.0*0.0  1.51*1.51  0.0*0.0  0.0*0.0",
      "text/html": "<div>\n<style scoped>\n    .dataframe tbody tr th:only-of-type {\n        vertical-align: middle;\n    }\n\n    .dataframe tbody tr th {\n        vertical-align: top;\n    }\n\n    .dataframe thead th {\n        text-align: right;\n    }\n</style>\n<table border=\"1\" class=\"dataframe\">\n  <thead>\n    <tr style=\"text-align: right;\">\n      <th></th>\n      <th>Paul</th>\n      <th>apostle</th>\n      <th>scholar</th>\n      <th>be</th>\n      <th>write</th>\n      <th>article</th>\n    </tr>\n  </thead>\n  <tbody>\n    <tr>\n      <th>doc1</th>\n      <td>1.51*1.51</td>\n      <td>1.51*1.51</td>\n      <td>0.0*0.0</td>\n      <td>1.51*1.51</td>\n      <td>0.0*0.0</td>\n      <td>0.0*0.0</td>\n    </tr>\n  </tbody>\n</table>\n</div>"
     },
     "execution_count": 338,
     "metadata": {},
     "output_type": "execute_result"
    }
   ],
   "source": [
    "pd.DataFrame(tfidf_manually.loc[\"doc1\"].apply(exponent_as_string)).T"
   ],
   "metadata": {
    "collapsed": false,
    "ExecuteTime": {
     "end_time": "2023-05-08T20:53:07.069464Z",
     "start_time": "2023-05-08T20:53:07.055032Z"
    }
   }
  },
  {
   "cell_type": "code",
   "execution_count": 376,
   "outputs": [
    {
     "data": {
      "text/plain": "2.359065096782153"
     },
     "execution_count": 376,
     "metadata": {},
     "output_type": "execute_result"
    }
   ],
   "source": [
    "vector = tfidf_manually.loc[\"doc1\"]\n",
    "eucl_norm = np.sqrt(sum([el*el for el in vector]))\n",
    "eucl_norm"
   ],
   "metadata": {
    "collapsed": false,
    "ExecuteTime": {
     "end_time": "2023-05-08T21:11:44.371148Z",
     "start_time": "2023-05-08T21:11:44.336134Z"
    }
   }
  },
  {
   "cell_type": "code",
   "execution_count": 377,
   "outputs": [],
   "source": [
    "# L2 normalization, also known as Euclidean normalization, is a technique used to scale the vector length to a unit length. In the case of the TF-IDF matrix, L2 normalization is applied to each row vector (corresponding to a document) of the matrix.\n",
    "\n",
    "# The normalization process involves dividing each element of the row vector by the Euclidean norm of the vector. The Euclidean norm of a vector v is defined as the square root of the sum of the squares of its components.\n",
    "def euclidean_normalization(vector, order=2):\n",
    "    eucl_norm = np.sqrt(sum([el*el for el in vector])) # The Euclidean norm of a vector v is defined as the square root of the sum of the squares of its components.\n",
    "    vector_norm = vector / eucl_norm\n",
    "    return vector_norm"
   ],
   "metadata": {
    "collapsed": false,
    "ExecuteTime": {
     "end_time": "2023-05-08T21:11:48.465350Z",
     "start_time": "2023-05-08T21:11:48.448432Z"
    }
   }
  },
  {
   "cell_type": "code",
   "execution_count": 389,
   "outputs": [
    {
     "data": {
      "text/plain": "          Paul   apostle   scholar        be     write   article\ndoc1  0.640434  0.640434  0.000000  0.423897  0.000000  0.000000\ndoc2  0.640434  0.640434  0.000000  0.423897  0.000000  0.000000\ndoc3  0.000000  0.000000  0.572892  0.379192  0.726641  0.000000\ndoc4  0.000000  0.000000  0.572892  0.379192  0.000000  0.726641",
      "text/html": "<div>\n<style scoped>\n    .dataframe tbody tr th:only-of-type {\n        vertical-align: middle;\n    }\n\n    .dataframe tbody tr th {\n        vertical-align: top;\n    }\n\n    .dataframe thead th {\n        text-align: right;\n    }\n</style>\n<table border=\"1\" class=\"dataframe\">\n  <thead>\n    <tr style=\"text-align: right;\">\n      <th></th>\n      <th>Paul</th>\n      <th>apostle</th>\n      <th>scholar</th>\n      <th>be</th>\n      <th>write</th>\n      <th>article</th>\n    </tr>\n  </thead>\n  <tbody>\n    <tr>\n      <th>doc1</th>\n      <td>0.640434</td>\n      <td>0.640434</td>\n      <td>0.000000</td>\n      <td>0.423897</td>\n      <td>0.000000</td>\n      <td>0.000000</td>\n    </tr>\n    <tr>\n      <th>doc2</th>\n      <td>0.640434</td>\n      <td>0.640434</td>\n      <td>0.000000</td>\n      <td>0.423897</td>\n      <td>0.000000</td>\n      <td>0.000000</td>\n    </tr>\n    <tr>\n      <th>doc3</th>\n      <td>0.000000</td>\n      <td>0.000000</td>\n      <td>0.572892</td>\n      <td>0.379192</td>\n      <td>0.726641</td>\n      <td>0.000000</td>\n    </tr>\n    <tr>\n      <th>doc4</th>\n      <td>0.000000</td>\n      <td>0.000000</td>\n      <td>0.572892</td>\n      <td>0.379192</td>\n      <td>0.000000</td>\n      <td>0.726641</td>\n    </tr>\n  </tbody>\n</table>\n</div>"
     },
     "execution_count": 389,
     "metadata": {},
     "output_type": "execute_result"
    }
   ],
   "source": [
    "tfidf_manually.apply(euclidean_normalization, axis=1)"
   ],
   "metadata": {
    "collapsed": false,
    "ExecuteTime": {
     "end_time": "2023-05-08T21:47:00.375008Z",
     "start_time": "2023-05-08T21:47:00.335774Z"
    }
   }
  },
  {
   "cell_type": "markdown",
   "source": [
    "# document-term to term-term matrix"
   ],
   "metadata": {
    "collapsed": false
   }
  },
  {
   "cell_type": "code",
   "execution_count": 391,
   "outputs": [
    {
     "data": {
      "text/plain": "             doc1      doc2      doc3      doc4\nPaul     0.640434  0.640434  0.000000  0.000000\napostle  0.640434  0.640434  0.000000  0.000000\nscholar  0.000000  0.000000  0.572892  0.572892\nbe       0.423897  0.423897  0.379192  0.379192\nwrite    0.000000  0.000000  0.726641  0.000000\narticle  0.000000  0.000000  0.000000  0.726641",
      "text/html": "<div>\n<style scoped>\n    .dataframe tbody tr th:only-of-type {\n        vertical-align: middle;\n    }\n\n    .dataframe tbody tr th {\n        vertical-align: top;\n    }\n\n    .dataframe thead th {\n        text-align: right;\n    }\n</style>\n<table border=\"1\" class=\"dataframe\">\n  <thead>\n    <tr style=\"text-align: right;\">\n      <th></th>\n      <th>doc1</th>\n      <th>doc2</th>\n      <th>doc3</th>\n      <th>doc4</th>\n    </tr>\n  </thead>\n  <tbody>\n    <tr>\n      <th>Paul</th>\n      <td>0.640434</td>\n      <td>0.640434</td>\n      <td>0.000000</td>\n      <td>0.000000</td>\n    </tr>\n    <tr>\n      <th>apostle</th>\n      <td>0.640434</td>\n      <td>0.640434</td>\n      <td>0.000000</td>\n      <td>0.000000</td>\n    </tr>\n    <tr>\n      <th>scholar</th>\n      <td>0.000000</td>\n      <td>0.000000</td>\n      <td>0.572892</td>\n      <td>0.572892</td>\n    </tr>\n    <tr>\n      <th>be</th>\n      <td>0.423897</td>\n      <td>0.423897</td>\n      <td>0.379192</td>\n      <td>0.379192</td>\n    </tr>\n    <tr>\n      <th>write</th>\n      <td>0.000000</td>\n      <td>0.000000</td>\n      <td>0.726641</td>\n      <td>0.000000</td>\n    </tr>\n    <tr>\n      <th>article</th>\n      <td>0.000000</td>\n      <td>0.000000</td>\n      <td>0.000000</td>\n      <td>0.726641</td>\n    </tr>\n  </tbody>\n</table>\n</div>"
     },
     "execution_count": 391,
     "metadata": {},
     "output_type": "execute_result"
    }
   ],
   "source": [
    "term_doc_matrix_tfidf.T"
   ],
   "metadata": {
    "collapsed": false,
    "ExecuteTime": {
     "end_time": "2023-05-08T21:47:32.405467Z",
     "start_time": "2023-05-08T21:47:32.393137Z"
    }
   }
  },
  {
   "cell_type": "code",
   "execution_count": 395,
   "outputs": [
    {
     "data": {
      "text/plain": "             Paul   apostle   scholar        be     write   article\nPaul     0.820312  0.820312  0.000000  0.542956  0.000000  0.000000\napostle  0.820312  0.820312  0.000000  0.542956  0.000000  0.000000\nscholar  0.000000  0.000000  0.656412  0.434472  0.416287  0.416287\nbe       0.542956  0.542956  0.434472  0.646950  0.275536  0.275536\nwrite    0.000000  0.000000  0.416287  0.275536  0.528008  0.000000\narticle  0.000000  0.000000  0.416287  0.275536  0.000000  0.528008",
      "text/html": "<div>\n<style scoped>\n    .dataframe tbody tr th:only-of-type {\n        vertical-align: middle;\n    }\n\n    .dataframe tbody tr th {\n        vertical-align: top;\n    }\n\n    .dataframe thead th {\n        text-align: right;\n    }\n</style>\n<table border=\"1\" class=\"dataframe\">\n  <thead>\n    <tr style=\"text-align: right;\">\n      <th></th>\n      <th>Paul</th>\n      <th>apostle</th>\n      <th>scholar</th>\n      <th>be</th>\n      <th>write</th>\n      <th>article</th>\n    </tr>\n  </thead>\n  <tbody>\n    <tr>\n      <th>Paul</th>\n      <td>0.820312</td>\n      <td>0.820312</td>\n      <td>0.000000</td>\n      <td>0.542956</td>\n      <td>0.000000</td>\n      <td>0.000000</td>\n    </tr>\n    <tr>\n      <th>apostle</th>\n      <td>0.820312</td>\n      <td>0.820312</td>\n      <td>0.000000</td>\n      <td>0.542956</td>\n      <td>0.000000</td>\n      <td>0.000000</td>\n    </tr>\n    <tr>\n      <th>scholar</th>\n      <td>0.000000</td>\n      <td>0.000000</td>\n      <td>0.656412</td>\n      <td>0.434472</td>\n      <td>0.416287</td>\n      <td>0.416287</td>\n    </tr>\n    <tr>\n      <th>be</th>\n      <td>0.542956</td>\n      <td>0.542956</td>\n      <td>0.434472</td>\n      <td>0.646950</td>\n      <td>0.275536</td>\n      <td>0.275536</td>\n    </tr>\n    <tr>\n      <th>write</th>\n      <td>0.000000</td>\n      <td>0.000000</td>\n      <td>0.416287</td>\n      <td>0.275536</td>\n      <td>0.528008</td>\n      <td>0.000000</td>\n    </tr>\n    <tr>\n      <th>article</th>\n      <td>0.000000</td>\n      <td>0.000000</td>\n      <td>0.416287</td>\n      <td>0.275536</td>\n      <td>0.000000</td>\n      <td>0.528008</td>\n    </tr>\n  </tbody>\n</table>\n</div>"
     },
     "execution_count": 395,
     "metadata": {},
     "output_type": "execute_result"
    }
   ],
   "source": [
    "cooc = pd.DataFrame((doc_term_tfidf.todense().T * doc_term_tfidf.todense()), columns=vocabulary, index=vocabulary)\n",
    "cooc"
   ],
   "metadata": {
    "collapsed": false,
    "ExecuteTime": {
     "end_time": "2023-05-08T21:50:15.074402Z",
     "start_time": "2023-05-08T21:50:15.046846Z"
    }
   }
  },
  {
   "cell_type": "code",
   "execution_count": 397,
   "outputs": [
    {
     "data": {
      "text/plain": "Paul       0.820312\napostle    0.820312\nbe         0.542956\nscholar    0.000000\nwrite      0.000000\narticle    0.000000\nName: Paul, dtype: float64"
     },
     "execution_count": 397,
     "metadata": {},
     "output_type": "execute_result"
    }
   ],
   "source": [
    "cooc.sort_values(\"Paul\", ascending=False)[\"Paul\"]"
   ],
   "metadata": {
    "collapsed": false,
    "ExecuteTime": {
     "end_time": "2023-05-08T22:06:49.230819Z",
     "start_time": "2023-05-08T22:06:49.215431Z"
    }
   }
  },
  {
   "cell_type": "code",
   "execution_count": null,
   "outputs": [],
   "source": [],
   "metadata": {
    "collapsed": false
   }
  }
 ],
 "metadata": {
  "kernelspec": {
   "name": "mops_venv",
   "language": "python",
   "display_name": "mops_venv"
  },
  "language_info": {
   "codemirror_mode": {
    "name": "ipython",
    "version": 2
   },
   "file_extension": ".py",
   "mimetype": "text/x-python",
   "name": "python",
   "nbconvert_exporter": "python",
   "pygments_lexer": "ipython2",
   "version": "2.7.6"
  }
 },
 "nbformat": 4,
 "nbformat_minor": 0
}
