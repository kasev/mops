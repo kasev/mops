{
 "cells": [
  {
   "cell_type": "code",
   "metadata": {
    "collapsed": true,
    "ExecuteTime": {
     "end_time": "2025-03-04T21:12:12.084830Z",
     "start_time": "2025-03-04T21:12:12.081031Z"
    }
   },
   "source": [
    "import pandas as pd\n",
    "import spacy\n",
    "import pickle\n",
    "import random\n",
    "pd.set_option(\"display.max_columns\", None)\n",
    "from collections import Counter\n",
    "import re\n",
    "import google_conf\n",
    "import os\n",
    "import json\n",
    "\n",
    "from nltk.corpus import stopwords"
   ],
   "outputs": [],
   "execution_count": 19
  },
  {
   "metadata": {},
   "cell_type": "markdown",
   "source": "# Testing simpler stemmers and lemmatizers\n"
  },
  {
   "metadata": {},
   "cell_type": "code",
   "outputs": [],
   "execution_count": null,
   "source": ""
  },
  {
   "metadata": {},
   "cell_type": "markdown",
   "source": "# Unigrams cleaning test"
  },
  {
   "metadata": {
    "ExecuteTime": {
     "end_time": "2025-03-04T21:12:12.210702Z",
     "start_time": "2025-03-04T21:12:12.208673Z"
    }
   },
   "cell_type": "code",
   "source": "",
   "outputs": [],
   "execution_count": null
  },
  {
   "cell_type": "code",
   "source": [
    "id = 0\n",
    "sourcepath = \"../data/large_files/unigrams_raw/\"\n",
    "ngram_dict = json.load(open(sourcepath +  \"unigrams_{}.json\".format(str(id)), \"r\"))\n",
    "len(ngram_dict)"
   ],
   "metadata": {
    "collapsed": false,
    "ExecuteTime": {
     "end_time": "2025-03-04T21:12:12.262513Z",
     "start_time": "2025-03-04T21:12:12.257153Z"
    }
   },
   "outputs": [
    {
     "data": {
      "text/plain": [
       "2512"
      ]
     },
     "execution_count": 20,
     "metadata": {},
     "output_type": "execute_result"
    }
   ],
   "execution_count": 20
  },
  {
   "cell_type": "code",
   "source": [
    "ngram_dict_filtered = filter_dict(ngram_dict, min=1)\n",
    "sorted(ngram_dict_filtered.items(), key=lambda x: x[1], reverse=True)[10:]"
   ],
   "metadata": {
    "collapsed": false,
    "ExecuteTime": {
     "end_time": "2025-03-04T21:12:11.307782Z",
     "start_time": "2025-03-04T21:12:11.284468Z"
    }
   },
   "outputs": [
    {
     "data": {
      "text/plain": [
       "[('united', 25),\n",
       " ('fellowship', 21),\n",
       " ('Christ', 20),\n",
       " ('new', 20),\n",
       " ('local', 20),\n",
       " ('many', 20),\n",
       " ('must', 19),\n",
       " ('world', 17),\n",
       " ('even', 17),\n",
       " ('‘the', 16),\n",
       " ('faith', 16),\n",
       " ('community', 15),\n",
       " ('confessional', 14),\n",
       " ('mission', 14),\n",
       " ('It', 14),\n",
       " ('together', 14),\n",
       " ('theological', 14),\n",
       " ('Christians', 14),\n",
       " ('Unity', 13),\n",
       " ('New', 13),\n",
       " ('In', 13),\n",
       " ('Of', 13),\n",
       " ('structure', 12),\n",
       " ('problems', 12),\n",
       " ('As', 12),\n",
       " ('Ecumenical', 12),\n",
       " ('But', 12),\n",
       " ('cit', 12),\n",
       " ('common', 12),\n",
       " ('place', 11),\n",
       " ('Review', 11),\n",
       " ('communion', 10),\n",
       " ('worship', 10),\n",
       " ('op', 10),\n",
       " ('question', 10),\n",
       " ('Report', 10),\n",
       " ('Model', 10),\n",
       " ('made', 10),\n",
       " ('model', 9),\n",
       " ('structures', 9),\n",
       " ('Order', 9),\n",
       " ('may', 9),\n",
       " ('form', 9),\n",
       " ('Faith', 9),\n",
       " ('level', 9),\n",
       " ('particular', 9),\n",
       " ('negotiations', 9),\n",
       " ('people', 9),\n",
       " ('experience', 9),\n",
       " ('visible', 9),\n",
       " ('would', 9),\n",
       " ('full', 8),\n",
       " ('witness', 8),\n",
       " ('questions', 8),\n",
       " ('This', 8),\n",
       " ('within', 8),\n",
       " ('another', 8),\n",
       " ('organization', 8),\n",
       " ('World', 8),\n",
       " ('organic', 8),\n",
       " ('universal', 8),\n",
       " ('become', 8),\n",
       " ('human', 8),\n",
       " ('We', 8),\n",
       " ('whole', 8),\n",
       " ('always', 8),\n",
       " ('negotiating', 7),\n",
       " ('diversity', 7),\n",
       " ('social', 7),\n",
       " ('nature', 7),\n",
       " ('mankind', 7),\n",
       " ('national', 7),\n",
       " ('identity', 7),\n",
       " ('commitment', 7),\n",
       " ('doctrine', 7),\n",
       " ('time', 7),\n",
       " ('bring', 7),\n",
       " ('could', 7),\n",
       " ('also', 7),\n",
       " ('order', 7),\n",
       " ('That', 7),\n",
       " ('necessary', 7),\n",
       " ('God', 7),\n",
       " ('fact', 7),\n",
       " ('way', 7),\n",
       " ('committed', 7),\n",
       " ('Delhi', 7),\n",
       " ('levels', 7),\n",
       " ('body', 7),\n",
       " ('well', 7),\n",
       " ('mutual', 7),\n",
       " ('India', 7),\n",
       " ('least', 7),\n",
       " ('without', 7),\n",
       " ('What', 7),\n",
       " ('clear', 6),\n",
       " ('forms', 6),\n",
       " ('corporate', 6),\n",
       " ('involved', 6),\n",
       " ('points', 6),\n",
       " ('Lutheran', 6),\n",
       " ('possible', 6),\n",
       " ('Wcc', 6),\n",
       " ('No', 6),\n",
       " ('provide', 6),\n",
       " ('already', 6),\n",
       " ('South', 6),\n",
       " ('years', 6),\n",
       " ('primary', 6),\n",
       " ('uniting', 6),\n",
       " ('Churches', 6),\n",
       " ('live', 6),\n",
       " ('action', 6),\n",
       " ('con', 6),\n",
       " ('Limuru', 6),\n",
       " ('call', 6),\n",
       " ('Although', 6),\n",
       " ('Commission', 5),\n",
       " ('certain', 5),\n",
       " ('genuine', 5),\n",
       " ('sharing', 5),\n",
       " ('Lund', 5),\n",
       " ('basis', 5),\n",
       " ('ecumenical', 5),\n",
       " ('His', 5),\n",
       " ('single', 5),\n",
       " ('agreement', 5),\n",
       " ('Plan', 5),\n",
       " ('make', 5),\n",
       " ('persons', 5),\n",
       " ('yet', 5),\n",
       " ('dimension', 5),\n",
       " ('places', 5),\n",
       " ('true', 5),\n",
       " ('work', 5),\n",
       " ('goal', 5),\n",
       " ('members', 5),\n",
       " ('families', 5),\n",
       " ('different', 5),\n",
       " ('us', 5),\n",
       " ('freedom', 5),\n",
       " ('express', 5),\n",
       " ('United', 5),\n",
       " ('Midstream', 5),\n",
       " ('indeed', 5),\n",
       " ('context', 5),\n",
       " ('set', 5),\n",
       " ('reconciliation', 5),\n",
       " ('possibility', 5),\n",
       " ('service', 5),\n",
       " ('primarily', 5),\n",
       " ('part', 5),\n",
       " ('truth', 5),\n",
       " ('kind', 5),\n",
       " ('rather', 5),\n",
       " ('Moede', 4),\n",
       " ('Speaks', 4),\n",
       " ('unions', 4),\n",
       " ('society', 4),\n",
       " ('attention', 4),\n",
       " ('renewal', 4),\n",
       " ('manifest', 4),\n",
       " ('For', 4),\n",
       " ('divided', 4),\n",
       " ('basic', 4),\n",
       " ('Is', 4),\n",
       " ('racial', 4),\n",
       " ('exists', 4),\n",
       " ('cannot', 4),\n",
       " ('regional', 4),\n",
       " ('Newbigin', 4),\n",
       " ('insight', 4),\n",
       " ('mean', 4),\n",
       " ('among', 4),\n",
       " ('others', 4),\n",
       " ('doctrinal', 4),\n",
       " ('Consultation', 4),\n",
       " ('centralized', 4),\n",
       " ('task', 4),\n",
       " ('confessions', 4),\n",
       " ('relationship', 4),\n",
       " ('race', 4),\n",
       " ('conciliarity', 4),\n",
       " ('makes', 4),\n",
       " ('search', 4),\n",
       " ('institutions', 4),\n",
       " ('If', 4),\n",
       " ('first', 4),\n",
       " ('including', 4),\n",
       " ('Gospel', 4),\n",
       " ('attempt', 4),\n",
       " ('spiritual', 4),\n",
       " ('encounter', 4),\n",
       " ('uniformity', 4),\n",
       " ('struggle', 4),\n",
       " ('prayer', 4),\n",
       " ('deeper', 4),\n",
       " ('past', 4),\n",
       " ('Press', 4),\n",
       " ('said', 4),\n",
       " ('called', 4),\n",
       " ('effectively', 4),\n",
       " ('take', 4),\n",
       " ('hand', 4),\n",
       " ('end', 4),\n",
       " ('apostolic', 4),\n",
       " ('two', 4),\n",
       " ('believe', 4),\n",
       " ('Spirit', 4),\n",
       " ('When', 4),\n",
       " ('upon', 4),\n",
       " ('Vol', 4),\n",
       " ('Evanston', 4),\n",
       " ('best', 4),\n",
       " ('every', 4),\n",
       " ('less', 4),\n",
       " ('Neill', 4),\n",
       " ('men', 4),\n",
       " ('various', 4),\n",
       " ('previously', 4),\n",
       " ('individual', 4),\n",
       " ('separate', 4),\n",
       " ('toward', 4),\n",
       " ('great', 4),\n",
       " ('sacramental', 3),\n",
       " ('Edinburgh', 3),\n",
       " ('behind', 3),\n",
       " ('traditions', 3),\n",
       " ('long', 3),\n",
       " ('begun', 3),\n",
       " ('point', 3),\n",
       " ('adequate', 3),\n",
       " ('plan', 3),\n",
       " ('seriously', 3),\n",
       " ('strengths', 3),\n",
       " ('actual', 3),\n",
       " ('spirit', 3),\n",
       " ('direction', 3),\n",
       " ('forced', 3),\n",
       " ('preparation', 3),\n",
       " ('distinctive', 3),\n",
       " ('ways', 3),\n",
       " ('continuing', 3),\n",
       " ('division', 3),\n",
       " ('need', 3),\n",
       " ('Louvain', 3),\n",
       " ('cultural', 3),\n",
       " ('education', 3),\n",
       " ('joint', 3),\n",
       " ('risk', 3),\n",
       " ('greater', 3),\n",
       " ('sense', 3),\n",
       " ('preserved', 3),\n",
       " ('styles', 3),\n",
       " ('never', 3),\n",
       " ('fuller', 3),\n",
       " ('Amsterdam', 3),\n",
       " ('Meyer', 3),\n",
       " ('truths', 3),\n",
       " ('range', 3),\n",
       " ('allow', 3),\n",
       " ('posed', 3),\n",
       " ('tradition', 3),\n",
       " ('Holy', 3),\n",
       " ('open', 3),\n",
       " ('energy', 3),\n",
       " ('schemes', 3),\n",
       " ('Paul', 3),\n",
       " ('prepared', 3),\n",
       " ('pp', 3),\n",
       " ('large', 3),\n",
       " ('statement', 3),\n",
       " ('offers', 3),\n",
       " ('administrative', 3),\n",
       " ('variety', 3),\n",
       " ('desirable', 3),\n",
       " ('recognized', 3),\n",
       " ('elements', 3),\n",
       " ('example', 3),\n",
       " ('given', 3),\n",
       " ('therefore', 3),\n",
       " ('problem', 3),\n",
       " ('Hooft', 3),\n",
       " ('give', 3),\n",
       " ('shall', 3),\n",
       " ('Salamanca', 3),\n",
       " ('groups', 3),\n",
       " ('involves', 3),\n",
       " ('efforts', 3),\n",
       " ('diverse', 3),\n",
       " ('state', 3),\n",
       " ('central', 3),\n",
       " ('gathering', 3),\n",
       " ('forces', 3),\n",
       " ('Conference', 3),\n",
       " ('planning', 3),\n",
       " ('requires', 3),\n",
       " ('Lukas', 3),\n",
       " ('sign', 3),\n",
       " ('Does', 3),\n",
       " ('By', 3),\n",
       " ('Uniting', 3),\n",
       " ('important', 3),\n",
       " ('built', 3),\n",
       " ('Reunion', 3),\n",
       " ('essential', 3),\n",
       " ('vital', 3),\n",
       " ('Statement', 3),\n",
       " ('reality', 3),\n",
       " ('decisive', 3),\n",
       " ('side', 3),\n",
       " ('difficulty', 3),\n",
       " ('might', 3),\n",
       " ('little', 3),\n",
       " ('London', 3),\n",
       " ('beyond', 3),\n",
       " ('nothing', 3),\n",
       " ('Visser', 3),\n",
       " ('denominational', 3),\n",
       " ('synthesis', 3),\n",
       " ('Any', 3),\n",
       " ('entire', 3),\n",
       " ('recent', 3),\n",
       " ('often', 3),\n",
       " ('say', 3),\n",
       " ('‘to', 3),\n",
       " ('felt', 3),\n",
       " ('ed', 3),\n",
       " ('ministry', 3),\n",
       " ('Testament', 3),\n",
       " ('conciliar', 3),\n",
       " ('relationships', 3),\n",
       " ('Dr', 3),\n",
       " ('fully', 3),\n",
       " ('needs', 3),\n",
       " ('movement', 3),\n",
       " ('participation', 3),\n",
       " ('achieved', 3),\n",
       " ('willing', 3),\n",
       " ('use', 3),\n",
       " ('imply', 3),\n",
       " ('far', 3),\n",
       " ('loss', 3),\n",
       " ('accepted', 3),\n",
       " ('regarding', 3),\n",
       " ('final', 3),\n",
       " ('Geneva', 3),\n",
       " ('still', 3),\n",
       " ('found', 3),\n",
       " ('result', 3),\n",
       " ('hope', 3),\n",
       " ('clearly', 3),\n",
       " ('To', 3),\n",
       " ('merely', 3),\n",
       " ('original', 3),\n",
       " ('Will', 3),\n",
       " ('taking', 3),\n",
       " ('unite', 3),\n",
       " ('People', 3),\n",
       " ('Scm', 2),\n",
       " ('opportunities', 2),\n",
       " ('international', 2),\n",
       " ('Indeed', 2),\n",
       " ('Gods', 2),\n",
       " ('Himself', 2),\n",
       " ('old', 2),\n",
       " ('extent', 2),\n",
       " ('continuity', 2),\n",
       " ('Ecumenist', 2),\n",
       " ('conditions', 2),\n",
       " ('solution', 2),\n",
       " ('constitute', 2),\n",
       " ('options', 2),\n",
       " ('consideration', 2),\n",
       " ('recognize', 2),\n",
       " ('wide', 2),\n",
       " ('Council', 2),\n",
       " ('listed', 2),\n",
       " ('‘a', 2),\n",
       " ('framework', 2),\n",
       " ('Preparation', 2),\n",
       " ('normative', 2),\n",
       " ('‘united', 2),\n",
       " ('authentic', 2),\n",
       " ('bringing', 2),\n",
       " ('agreements', 2),\n",
       " ('Gassmann', 2),\n",
       " ('almost', 2),\n",
       " ('aware', 2),\n",
       " ('since', 2),\n",
       " ('See', 2),\n",
       " ('suppress', 2),\n",
       " ('competing', 2),\n",
       " ('future', 2),\n",
       " ('ingredients', 2),\n",
       " ('growing', 2),\n",
       " ('existence', 2),\n",
       " ('Most', 2),\n",
       " ('indivisible', 2),\n",
       " ('imperative', 2),\n",
       " ('come', 2),\n",
       " ('last', 2),\n",
       " ('outward', 2),\n",
       " ('neither', 2),\n",
       " ('inherent', 2),\n",
       " ('competition', 2),\n",
       " ('ones', 2),\n",
       " ('force', 2),\n",
       " ('positions', 2),\n",
       " ('individuals', 2),\n",
       " ('congregation', 2),\n",
       " ('study', 2),\n",
       " ('Lord', 2),\n",
       " ('etc', 2),\n",
       " ('reunion', 2),\n",
       " ('article', 2),\n",
       " ('reaching', 2),\n",
       " ('answered', 2),\n",
       " ('word', 2),\n",
       " ('directions', 2),\n",
       " ('revision', 2),\n",
       " ('validity', 2),\n",
       " ('effort', 2),\n",
       " ('encourage', 2),\n",
       " ('becomes', 2),\n",
       " ('discussing', 2),\n",
       " ('act', 2),\n",
       " ('Movement', 2),\n",
       " ('stimulus', 2),\n",
       " ('calls', 2),\n",
       " ('reached', 2),\n",
       " ('man', 2),\n",
       " ('effect', 2),\n",
       " ('Midpoint', 2),\n",
       " ('develop', 2),\n",
       " ('paper', 2),\n",
       " ('All', 2),\n",
       " ('emerge', 2),\n",
       " ('sort', 2),\n",
       " ('structured', 2),\n",
       " ('personal', 2),\n",
       " ('dominated', 2),\n",
       " ('though', 2),\n",
       " ('shown', 2),\n",
       " ('Patrick', 2),\n",
       " ('und', 2),\n",
       " ('disintegrated', 2),\n",
       " ('practice', 2),\n",
       " ('integrated', 2),\n",
       " ('historical', 2),\n",
       " ('parish', 2),\n",
       " ('voice', 2),\n",
       " ('Toronto', 2),\n",
       " ('Here', 2),\n",
       " ('Grant', 2),\n",
       " ('term', 2),\n",
       " ('wherever', 2),\n",
       " ('see', 2),\n",
       " ('usually', 2),\n",
       " ('maintained', 2),\n",
       " ('consultation', 2),\n",
       " ('perhaps', 2),\n",
       " ('description', 2),\n",
       " ('twentyfive', 2),\n",
       " ('environment', 2),\n",
       " ('Many', 2),\n",
       " ('factors', 2),\n",
       " ('brought', 2),\n",
       " ('face', 2),\n",
       " ('varied', 2),\n",
       " ('leaves', 2),\n",
       " ('Groscurth', 2),\n",
       " ('phenomenon', 2),\n",
       " ('breaking', 2),\n",
       " ('family', 2),\n",
       " ('wider', 2),\n",
       " ('decade', 2),\n",
       " ('preaching', 2),\n",
       " ('religious', 2),\n",
       " ('worldwide', 2),\n",
       " ('types', 2),\n",
       " ('Jesus', 2),\n",
       " ('divisions', 2),\n",
       " ('demonstrate', 2),\n",
       " ('discuss', 2),\n",
       " ('suffice', 2),\n",
       " ('St', 2),\n",
       " ('source', 2),\n",
       " ('States', 2),\n",
       " ('Federation', 2),\n",
       " ('issues', 2),\n",
       " ('six', 2),\n",
       " ('today', 2),\n",
       " ('integrity', 2),\n",
       " ('solidarity', 2),\n",
       " ('existing', 2),\n",
       " ('Negotiations', 2),\n",
       " ('advance', 2),\n",
       " ('joining', 2),\n",
       " ('room', 2),\n",
       " ('Rodger', 2),\n",
       " ('shortterm', 2),\n",
       " ('simply', 2),\n",
       " ('fellow', 2),\n",
       " ('‘union', 2),\n",
       " ('lo', 2),\n",
       " ('precisely', 2),\n",
       " ('living', 2),\n",
       " ('catholicity', 2),\n",
       " ('opportunity', 2),\n",
       " ('failure', 2),\n",
       " ('congregations', 2),\n",
       " ('invariably', 2),\n",
       " ('decisionmaking', 2),\n",
       " ('deeply', 2),\n",
       " ('lives', 2),\n",
       " ('recognition', 2),\n",
       " ('whether', 2),\n",
       " ('poses', 2),\n",
       " ('appreciation', 2),\n",
       " ('apart', 2),\n",
       " ('At', 2),\n",
       " ('several', 2),\n",
       " ('Uppsala', 2),\n",
       " ('spite', 2),\n",
       " ('membership', 2),\n",
       " ('eds', 2),\n",
       " ('provided', 2),\n",
       " ('consultations', 2),\n",
       " ('understanding', 2),\n",
       " ('transcends', 2),\n",
       " ('benefit', 2),\n",
       " ('intended', 2),\n",
       " ('structurally', 2),\n",
       " ('loc', 2),\n",
       " ('thus', 2),\n",
       " ('John', 2),\n",
       " ('Nor', 2),\n",
       " ('lead', 2),\n",
       " ('committees', 2),\n",
       " ('‘if', 2),\n",
       " ('traditional', 2),\n",
       " ('number', 2),\n",
       " ('sought', 2),\n",
       " ('heard', 2),\n",
       " ('economic', 2),\n",
       " ('wholeness', 2),\n",
       " ('pattern', 2),\n",
       " ('eucharistic', 2),\n",
       " ('death', 2),\n",
       " ('decisions', 2),\n",
       " ('Thus', 2),\n",
       " ('bodies', 2),\n",
       " ('danger', 2),\n",
       " ('efficiency', 2),\n",
       " ('development', 2),\n",
       " ('sake', 2),\n",
       " ('isolation', 2),\n",
       " ('‘fully', 2),\n",
       " ('One', 2),\n",
       " ('Methodist', 2),\n",
       " ('process', 2),\n",
       " ('grow', 2),\n",
       " ('able', 2),\n",
       " ('opinions', 2),\n",
       " ('leave', 2),\n",
       " ('‘we', 2),\n",
       " ('locally', 2),\n",
       " ('threat', 2),\n",
       " ('seek', 2),\n",
       " ('consensus', 2),\n",
       " ('plans', 2),\n",
       " ('report', 2),\n",
       " ('type', 2),\n",
       " ('openness', 2),\n",
       " ('around', 2),\n",
       " ('‘church', 2),\n",
       " ('broadened', 2),\n",
       " ('tasks', 2),\n",
       " ('sacrament', 2),\n",
       " ('require', 2),\n",
       " ('conscious', 2),\n",
       " ('much', 2),\n",
       " ('government', 2),\n",
       " ('ecclesiological', 2),\n",
       " ('statements', 2),\n",
       " ('explicit', 2),\n",
       " ('simple', 2),\n",
       " ('realities', 2),\n",
       " ('differences', 2),\n",
       " ('attempts', 2),\n",
       " ('crucial', 2),\n",
       " ('preoccupation', 2),\n",
       " ('standings', 2),\n",
       " ('stifling', 2),\n",
       " ('reconcile', 2),\n",
       " ('‘parish', 2),\n",
       " ('building', 2),\n",
       " ('consortia', 2),\n",
       " ('humanity', 2),\n",
       " ('intentionally', 2),\n",
       " ('conflict', 2),\n",
       " ('fulfil', 2),\n",
       " ('gift', 2),\n",
       " ('‘unity', 2),\n",
       " ('drawn', 2),\n",
       " ('permanent', 2),\n",
       " ('guarantee', 2),\n",
       " ('relate', 2),\n",
       " ('effective', 2),\n",
       " ('insisted', 2),\n",
       " ('agree', 2),\n",
       " ('working', 2),\n",
       " ('denominations', 2),\n",
       " ('worshipping', 2),\n",
       " ('find', 2),\n",
       " ('address', 2),\n",
       " ('describe', 2),\n",
       " ('however', 2),\n",
       " ('easy', 2),\n",
       " ('especially', 2),\n",
       " ('‘t', 2),\n",
       " ('significance', 2),\n",
       " ('Vischer', 2),\n",
       " ('missionary', 2),\n",
       " ('involvement', 2),\n",
       " ('expectation', 2),\n",
       " ('achievement', 2),\n",
       " ('matter', 2),\n",
       " ('governmental', 2),\n",
       " ('constantly', 2),\n",
       " ('Organic', 2),\n",
       " ('renewed', 2),\n",
       " ('providing', 2),\n",
       " ('Kirchen', 2),\n",
       " ('Crow', 2),\n",
       " ('developed', 2),\n",
       " ('element', 2),\n",
       " ('gave', 2),\n",
       " ('subsequently', 2),\n",
       " ('go', 2),\n",
       " ('carried', 2),\n",
       " ('oneness', 2),\n",
       " ('bread', 2),\n",
       " ('continues', 2),\n",
       " ('parts', 2),\n",
       " ('Councils', 2),\n",
       " ('identities', 1),\n",
       " ('compelling', 1),\n",
       " ('sug', 1),\n",
       " ('mated', 1),\n",
       " ('fundamentals', 1),\n",
       " ('‘education', 1),\n",
       " ('operation', 1),\n",
       " ('funds', 1),\n",
       " ('women', 1),\n",
       " ('Reports', 1),\n",
       " ('continually', 1),\n",
       " ('foundered', 1),\n",
       " ('case', 1),\n",
       " ('Incarnation', 1),\n",
       " ('welding', 1),\n",
       " ('secular', 1),\n",
       " ('cerning', 1),\n",
       " ('yet”', 1),\n",
       " ('biblical', 1),\n",
       " ('ideas', 1),\n",
       " ('fulfilled', 1),\n",
       " ('attempted', 1),\n",
       " ('Role', 1),\n",
       " ('recogni', 1),\n",
       " ('decisively', 1),\n",
       " ('congregational', 1),\n",
       " ('divorced', 1),\n",
       " ('fruitful', 1),\n",
       " ('confined', 1),\n",
       " ('possi', 1),\n",
       " ('nonessentials', 1),\n",
       " ('becoming', 1),\n",
       " ('defence', 1),\n",
       " ('potential', 1),\n",
       " ('physical', 1),\n",
       " ('lypse', 1),\n",
       " ('injunction', 1),\n",
       " ('differ', 1),\n",
       " ('compel', 1),\n",
       " ('something', 1),\n",
       " ('constitution', 1),\n",
       " ('approaches', 1),\n",
       " ('done', 1),\n",
       " ('Kirchenunionen', 1),\n",
       " ('available', 1),\n",
       " ('agencies', 1),\n",
       " ('broader', 1),\n",
       " ('untouched', 1),\n",
       " ('inhabiting', 1),\n",
       " ('cripple', 1),\n",
       " ('spring', 1),\n",
       " ('misunderstandings', 1),\n",
       " ('challenges', 1),\n",
       " ('inseparability', 1),\n",
       " ('apostle', 1),\n",
       " ('creatively', 1),\n",
       " ('intent', 1),\n",
       " ('separated', 1),\n",
       " ('eit', 1),\n",
       " ('faced', 1),\n",
       " ('James', 1),\n",
       " ('decades', 1),\n",
       " ('originally', 1),\n",
       " ('modernization', 1),\n",
       " ('viction', 1),\n",
       " ('apprehended', 1),\n",
       " ('Introduction', 1),\n",
       " ('week', 1),\n",
       " ('ordered', 1),\n",
       " ('April', 1),\n",
       " ('visibleat', 1),\n",
       " ('enclaves', 1),\n",
       " ('notes', 1),\n",
       " ('sixty', 1),\n",
       " ('interchurch', 1),\n",
       " ('‘one', 1),\n",
       " ('‘mutually', 1),\n",
       " ('deserved', 1),\n",
       " ('closer', 1),\n",
       " ('decision', 1),\n",
       " ('escapehatch', 1),\n",
       " ('proceed', 1),\n",
       " ('nationally', 1),\n",
       " ('matured', 1),\n",
       " ('‘loss', 1),\n",
       " ('broken', 1),\n",
       " ('“wholeness”', 1),\n",
       " ('quality', 1),\n",
       " ('interest', 1),\n",
       " ('Such', 1),\n",
       " ('concern', 1),\n",
       " ('increased', 1),\n",
       " ('longestablished', 1),\n",
       " ('Gerald', 1),\n",
       " ('approach', 1),\n",
       " ('regular', 1),\n",
       " ('They', 1),\n",
       " ('prayed', 1),\n",
       " ('Princeton', 1),\n",
       " ('assistance', 1),\n",
       " ('stewardship', 1),\n",
       " ('‘corporate', 1),\n",
       " ('thirtyfour', 1),\n",
       " ('Frantic', 1),\n",
       " ('style', 1),\n",
       " ('trative', 1),\n",
       " ('thought', 1),\n",
       " ('December', 1),\n",
       " ('Adversaries', 1),\n",
       " ('expressions', 1),\n",
       " ('gather', 1),\n",
       " ('four', 1),\n",
       " ('manifestation', 1),\n",
       " ('dared', 1),\n",
       " ('prin', 1),\n",
       " ('enables', 1),\n",
       " ('longterm', 1),\n",
       " ('individually', 1),\n",
       " ('solutions', 1),\n",
       " ('tiating', 1),\n",
       " ('rationale', 1),\n",
       " ('Joint', 1),\n",
       " ('redemp', 1),\n",
       " ('circumstances', 1),\n",
       " ('hunger', 1),\n",
       " ('vividly', 1),\n",
       " ('concentration', 1),\n",
       " ('avoided', 1),\n",
       " ('wise', 1),\n",
       " ('Xvii', 1),\n",
       " ('village', 1),\n",
       " ('seem', 1),\n",
       " ('Perhaps', 1),\n",
       " ('Cooperation', 1),\n",
       " ('Twentyfifth', 1),\n",
       " ('watering', 1),\n",
       " ('experimentation', 1),\n",
       " ('draw', 1),\n",
       " ('Reality', 1),\n",
       " ('‘today', 1),\n",
       " ('lot', 1),\n",
       " ('York', 1),\n",
       " ('bound', 1),\n",
       " ('dis', 1),\n",
       " ('initiative', 1),\n",
       " ('comprehensible', 1),\n",
       " ('gathers', 1),\n",
       " ('oftalludedto', 1),\n",
       " ('adumbrated', 1),\n",
       " ('protean', 1),\n",
       " ('outline', 1),\n",
       " ('settled', 1),\n",
       " ('ago', 1),\n",
       " ('product', 1),\n",
       " ('eg', 1),\n",
       " ('eucharist', 1),\n",
       " ('unanimity', 1),\n",
       " ('revelation', 1),\n",
       " ('honestly', 1),\n",
       " ('disparate', 1),\n",
       " ('innovation', 1),\n",
       " ('seemed', 1),\n",
       " ('Boney', 1),\n",
       " ('Packer', 1),\n",
       " ('sacra', 1),\n",
       " ('dangers', 1),\n",
       " ('solely', 1),\n",
       " ('gemeinschaft', 1),\n",
       " ('share', 1),\n",
       " ('honoured', 1),\n",
       " ('threaten', 1),\n",
       " ('reconciling', 1),\n",
       " ('respect', 1),\n",
       " ('regions', 1),\n",
       " ('articulates', 1),\n",
       " ('nations', 1),\n",
       " ('‘expensive', 1),\n",
       " ('firm', 1),\n",
       " ('organized', 1),\n",
       " ('inviolable', 1),\n",
       " ('expressed', 1),\n",
       " ('forthrightly', 1),\n",
       " ('terms', 1),\n",
       " ('reprove', 1),\n",
       " ('Wide', 1),\n",
       " ('discussion', 1),\n",
       " ('dependence', 1),\n",
       " ('existences', 1),\n",
       " ('tackle', 1),\n",
       " ('healing', 1),\n",
       " ('equality', 1),\n",
       " ('unto', 1),\n",
       " ('costly', 1),\n",
       " ('offen', 1),\n",
       " ('support', 1),\n",
       " ('overrule', 1),\n",
       " ('belonging', 1),\n",
       " ('Anglicans', 1),\n",
       " ('differentiated', 1),\n",
       " ('carrying', 1),\n",
       " ('gesting', 1),\n",
       " ('weight', 1),\n",
       " ('Utrecht', 1),\n",
       " ('succeeded', 1),\n",
       " ('adequacy', 1),\n",
       " ('threatening', 1),\n",
       " ('strategy', 1),\n",
       " ('‘kirchenunion', 1),\n",
       " ('resistance', 1),\n",
       " ('apprehension', 1),\n",
       " ('contradictory', 1),\n",
       " ('Just', 1),\n",
       " ('fears', 1),\n",
       " ('obligation', 1),\n",
       " ('left', 1),\n",
       " ('Between', 1),\n",
       " ('Nevertheless', 1),\n",
       " ('inclus', 1),\n",
       " ('hundred', 1),\n",
       " ('akin', 1),\n",
       " ('obedience', 1),\n",
       " ('understandable', 1),\n",
       " ('leaders', 1),\n",
       " ('appear', 1),\n",
       " ('Attitudes', 1),\n",
       " ('widely', 1),\n",
       " ('secure', 1),\n",
       " ('raises', 1),\n",
       " ('quarters', 1),\n",
       " ('sets', 1),\n",
       " ('‘full', 1),\n",
       " ('respects', 1),\n",
       " ('specific', 1),\n",
       " ('borders', 1),\n",
       " ('theologically', 1),\n",
       " ('accomplish', 1),\n",
       " ('daily', 1),\n",
       " ('‘parent', 1),\n",
       " ('“circle”', 1),\n",
       " ('cause', 1),\n",
       " ('traditionally', 1),\n",
       " ('organizations', 1),\n",
       " ('Docetic', 1),\n",
       " ('Churchs', 1),\n",
       " ('Canterbury', 1),\n",
       " ('tying', 1),\n",
       " ('parents', 1),\n",
       " ('‘riches', 1),\n",
       " ('invent', 1),\n",
       " ('gap', 1),\n",
       " ('idealized', 1),\n",
       " ('encounters', 1),\n",
       " ('unity%', 1),\n",
       " ('weekby', 1),\n",
       " ('Meeting', 1),\n",
       " ('organiz', 1),\n",
       " ('expostfucto', 1),\n",
       " ('“doctrinal', 1),\n",
       " ('Christianity', 1),\n",
       " ('versation', 1),\n",
       " ('taken', 1),\n",
       " ('concrete', 1),\n",
       " ('intention', 1),\n",
       " ('environmental', 1),\n",
       " ('amounts', 1),\n",
       " ('Advocate', 1),\n",
       " ('recognizes', 1),\n",
       " ('major', 1),\n",
       " ('channels', 1),\n",
       " ('redemption', 1),\n",
       " ('tend', 1),\n",
       " ('baptized', 1),\n",
       " ('feasible', 1),\n",
       " ('quarrels', 1),\n",
       " ('exercising', 1),\n",
       " ('Apoca', 1),\n",
       " ('aspect', 1),\n",
       " ('interconnected', 1),\n",
       " ('pulling', 1),\n",
       " ('ie', 1),\n",
       " ('deepening', 1),\n",
       " ('Scheme', 1),\n",
       " ('undoubtedly', 1),\n",
       " ('overcome', 1),\n",
       " ('early', 1),\n",
       " ('nego', 1),\n",
       " ('entering', 1),\n",
       " ('‘that', 1),\n",
       " ('enable', 1),\n",
       " ('pervert', 1),\n",
       " ('minority', 1),\n",
       " ('represented', 1),\n",
       " ('Archbishop', 1),\n",
       " ('peoples', 1),\n",
       " ('subservient', 1),\n",
       " ('consum', 1),\n",
       " ('fullest', 1),\n",
       " ('eschatology', 1),\n",
       " ('pressed', 1),\n",
       " ('everyones', 1),\n",
       " ('Confessional', 1),\n",
       " ('right', 1),\n",
       " ('integrating', 1),\n",
       " ('finds', 1),\n",
       " ('Action', 1),\n",
       " ('appeals', 1),\n",
       " ('imagined', 1),\n",
       " ('Presbyterians', 1),\n",
       " ('divergencies', 1),\n",
       " ('interact', 1),\n",
       " ('binds', 1),\n",
       " ('advantage', 1),\n",
       " ('dramatizes', 1),\n",
       " ('immense', 1),\n",
       " ('degree', 1),\n",
       " ('Door', 1),\n",
       " ('ing', 1),\n",
       " ('accusations', 1),\n",
       " ('skeleton', 1),\n",
       " ('inevitable', 1),\n",
       " ('History', 1),\n",
       " ('blight', 1),\n",
       " ('cheap', 1),\n",
       " ('bases', 1),\n",
       " ('Not', 1),\n",
       " ('‘organic', 1),\n",
       " ('reinforcing', 1),\n",
       " ('‘leastcommondenominator', 1),\n",
       " ('‘statement', 1),\n",
       " ('Cross', 1),\n",
       " ('detected', 1),\n",
       " ('language', 1),\n",
       " ('‘holding', 1),\n",
       " ('ministers', 1),\n",
       " ('overcoming', 1),\n",
       " ('Evian', 1),\n",
       " ('ex', 1),\n",
       " ('leading', 1),\n",
       " ('loyal', 1),\n",
       " ('unpublished', 1),\n",
       " ('deadlier', 1),\n",
       " ('engaged', 1),\n",
       " ('faithfulness', 1),\n",
       " ('Ecumenicai', 1),\n",
       " ('merging', 1),\n",
       " ('war', 1),\n",
       " ('Third', 1),\n",
       " ('consider', 1),\n",
       " ('presence', 1),\n",
       " ('Assemblies', 1),\n",
       " ('‘catholicity', 1),\n",
       " ('Association', 1),\n",
       " ('betrayal', 1),\n",
       " ...]"
      ]
     },
     "execution_count": 14,
     "metadata": {},
     "output_type": "execute_result"
    }
   ],
   "execution_count": 14
  },
  {
   "cell_type": "code",
   "source": [
    "len(ngram_dict_filtered)"
   ],
   "metadata": {
    "collapsed": false,
    "ExecuteTime": {
     "end_time": "2025-03-04T21:12:11.590760Z",
     "start_time": "2025-03-04T21:12:11.587085Z"
    }
   },
   "outputs": [
    {
     "data": {
      "text/plain": [
       "1877"
      ]
     },
     "execution_count": 15,
     "metadata": {},
     "output_type": "execute_result"
    }
   ],
   "execution_count": 15
  },
  {
   "cell_type": "markdown",
   "source": [
    "# Applying cleaning on all trigrams"
   ],
   "metadata": {
    "collapsed": false
   }
  },
  {
   "cell_type": "code",
   "source": [
    "destpath = \"../data/large_files/trigrams_filtered/\"\n",
    "os.makedirs(destpath)"
   ],
   "metadata": {
    "collapsed": false,
    "ExecuteTime": {
     "end_time": "2025-03-04T21:12:11.790575Z",
     "start_time": "2025-03-04T21:12:11.787085Z"
    }
   },
   "outputs": [],
   "execution_count": 16
  },
  {
   "cell_type": "code",
   "source": [
    "with open(destpath + \"id_{}.json\".format(str(id)), \"w\") as f:\n",
    "    json.dump(ngram_dict_filtered, f)"
   ],
   "metadata": {
    "collapsed": false,
    "ExecuteTime": {
     "end_time": "2025-03-04T21:12:11.838002Z",
     "start_time": "2025-03-04T21:12:11.832796Z"
    }
   },
   "outputs": [],
   "execution_count": 17
  },
  {
   "cell_type": "code",
   "source": [
    "#json.load(open(destpath + \"id_1.json\"))"
   ],
   "metadata": {
    "collapsed": false,
    "ExecuteTime": {
     "end_time": "2025-03-04T21:12:11.887172Z",
     "start_time": "2025-03-04T21:12:11.884505Z"
    }
   },
   "outputs": [],
   "execution_count": 18
  },
  {
   "cell_type": "code",
   "execution_count": 17,
   "outputs": [
    {
     "name": "stdout",
     "output_type": "stream",
     "text": [
      "CPU times: user 13min 53s, sys: 22.3 s, total: 14min 15s\n",
      "Wall time: 15min\n"
     ]
    }
   ],
   "source": [
    "%%time\n",
    "data_ngrams = Counter()\n",
    "sourcepath = \"../data/large_files/trigrams_raw/\"\n",
    "for id in ids:\n",
    "    ngram_dict = json.load(open(sourcepath +  \"trigrams_{}.json\".format(str(id)), \"r\"))\n",
    "    d_cleaned = filter_dict(ngram_dict)\n",
    "    with open(destpath + \"filtered_id_{}.json\".format(str(id)), \"w\") as f:\n",
    "        json.dump(d_cleaned, f)\n",
    "    data_ngrams.update(d_cleaned)"
   ],
   "metadata": {
    "collapsed": false
   }
  },
  {
   "cell_type": "code",
   "execution_count": 18,
   "outputs": [
    {
     "data": {
      "text/plain": "45296539"
     },
     "execution_count": 18,
     "metadata": {},
     "output_type": "execute_result"
    }
   ],
   "source": [
    "len(data_ngrams)"
   ],
   "metadata": {
    "collapsed": false
   }
  },
  {
   "cell_type": "code",
   "execution_count": 19,
   "outputs": [
    {
     "name": "stdout",
     "output_type": "stream",
     "text": [
      "CPU times: user 6.15 s, sys: 2.57 s, total: 8.72 s\n",
      "Wall time: 9.93 s\n"
     ]
    },
    {
     "data": {
      "text/plain": "1325945"
     },
     "execution_count": 19,
     "metadata": {},
     "output_type": "execute_result"
    }
   ],
   "source": [
    "%%time\n",
    "data_trigrams_sorted = sorted(data_ngrams.items(), key=lambda kv: kv[1], reverse=True)\n",
    "len([el for el in data_trigrams_sorted if el[1] > 10])"
   ],
   "metadata": {
    "collapsed": false
   }
  },
  {
   "cell_type": "code",
   "execution_count": 20,
   "outputs": [
    {
     "data": {
      "text/plain": "2330940"
     },
     "execution_count": 20,
     "metadata": {},
     "output_type": "execute_result"
    }
   ],
   "source": [
    "to_lemmatize = [el for el in data_trigrams_sorted if el[1] > 5]\n",
    "len(to_lemmatize)"
   ],
   "metadata": {
    "collapsed": false
   }
  },
  {
   "cell_type": "code",
   "execution_count": 36,
   "outputs": [],
   "source": [
    "# use spacy to generate \"Doc\" object for ngram\n",
    "# (use carefully, takes some time)\n",
    "tags = [\"NOUN\", \"ADJ\", \"VERB\", \"PROPN\"]\n",
    "\n",
    "def get_lemma_filtered(string):\n",
    "    #lemmata = \" \".join([t.lemma for t in nlp_stanza(string).sentences[0].words if t.pos in tags])\n",
    "    lemmata = \" \".join([t.lemma_ for t in nlp_spacy(string) if t.pos_ in tags])\n",
    "    return lemmata"
   ],
   "metadata": {
    "collapsed": false,
    "ExecuteTime": {
     "start_time": "2023-03-30T21:28:37.121425Z",
     "end_time": "2023-03-30T21:28:37.170472Z"
    }
   }
  },
  {
   "cell_type": "code",
   "execution_count": 25,
   "outputs": [
    {
     "name": "stdout",
     "output_type": "stream",
     "text": [
      "0\n",
      "2000\n",
      "4000\n",
      "6000\n",
      "8000\n",
      "10000\n",
      "12000\n",
      "14000\n",
      "16000\n",
      "18000\n",
      "20000\n",
      "22000\n",
      "24000\n",
      "26000\n",
      "28000\n",
      "30000\n",
      "32000\n",
      "34000\n",
      "36000\n",
      "38000\n",
      "40000\n",
      "42000\n",
      "44000\n",
      "46000\n",
      "48000\n",
      "50000\n",
      "52000\n",
      "54000\n",
      "56000\n",
      "58000\n",
      "60000\n",
      "62000\n",
      "64000\n",
      "66000\n",
      "68000\n",
      "70000\n",
      "72000\n",
      "74000\n",
      "76000\n",
      "78000\n",
      "80000\n",
      "82000\n",
      "84000\n",
      "86000\n",
      "88000\n",
      "90000\n",
      "92000\n",
      "94000\n",
      "96000\n",
      "98000\n",
      "100000\n",
      "102000\n",
      "104000\n",
      "106000\n",
      "108000\n",
      "110000\n",
      "112000\n",
      "114000\n",
      "116000\n",
      "118000\n",
      "120000\n",
      "122000\n",
      "124000\n",
      "126000\n",
      "128000\n",
      "130000\n",
      "132000\n",
      "134000\n",
      "136000\n",
      "138000\n",
      "140000\n",
      "142000\n",
      "144000\n",
      "146000\n",
      "148000\n",
      "150000\n",
      "152000\n",
      "154000\n",
      "156000\n",
      "158000\n",
      "160000\n",
      "162000\n",
      "164000\n",
      "166000\n",
      "168000\n",
      "170000\n",
      "172000\n",
      "174000\n",
      "176000\n",
      "178000\n",
      "180000\n",
      "182000\n",
      "184000\n",
      "186000\n",
      "188000\n",
      "190000\n",
      "192000\n",
      "194000\n",
      "196000\n",
      "198000\n",
      "200000\n",
      "202000\n",
      "204000\n",
      "206000\n",
      "208000\n",
      "210000\n",
      "212000\n",
      "214000\n",
      "216000\n",
      "218000\n",
      "220000\n",
      "222000\n",
      "224000\n",
      "226000\n",
      "228000\n",
      "230000\n",
      "232000\n",
      "234000\n",
      "236000\n",
      "238000\n",
      "240000\n",
      "242000\n",
      "244000\n",
      "246000\n",
      "248000\n",
      "250000\n",
      "252000\n",
      "254000\n",
      "256000\n",
      "258000\n",
      "260000\n",
      "262000\n",
      "264000\n",
      "266000\n",
      "268000\n",
      "270000\n",
      "272000\n",
      "274000\n",
      "276000\n",
      "278000\n",
      "280000\n",
      "282000\n",
      "284000\n",
      "286000\n",
      "288000\n",
      "290000\n",
      "292000\n",
      "294000\n",
      "296000\n",
      "298000\n",
      "300000\n",
      "302000\n",
      "304000\n",
      "306000\n",
      "308000\n",
      "310000\n",
      "312000\n",
      "314000\n",
      "316000\n",
      "318000\n",
      "320000\n",
      "322000\n",
      "324000\n",
      "326000\n",
      "328000\n",
      "330000\n",
      "332000\n",
      "334000\n",
      "336000\n",
      "338000\n",
      "340000\n",
      "342000\n",
      "344000\n",
      "346000\n",
      "348000\n",
      "350000\n",
      "352000\n",
      "354000\n",
      "356000\n",
      "358000\n",
      "360000\n",
      "362000\n",
      "364000\n",
      "366000\n",
      "368000\n",
      "370000\n",
      "372000\n",
      "374000\n",
      "376000\n",
      "378000\n",
      "380000\n",
      "382000\n",
      "384000\n",
      "386000\n",
      "388000\n",
      "390000\n",
      "392000\n",
      "394000\n",
      "396000\n",
      "398000\n",
      "400000\n",
      "402000\n",
      "404000\n",
      "406000\n",
      "408000\n",
      "410000\n",
      "412000\n",
      "414000\n",
      "416000\n",
      "418000\n",
      "420000\n",
      "422000\n",
      "424000\n",
      "426000\n",
      "428000\n",
      "430000\n",
      "432000\n",
      "434000\n",
      "436000\n",
      "438000\n",
      "440000\n",
      "442000\n",
      "444000\n",
      "446000\n",
      "448000\n",
      "450000\n",
      "452000\n",
      "454000\n",
      "456000\n",
      "458000\n",
      "460000\n",
      "462000\n",
      "464000\n",
      "466000\n",
      "468000\n",
      "470000\n",
      "472000\n",
      "474000\n",
      "476000\n",
      "478000\n",
      "480000\n",
      "482000\n",
      "484000\n",
      "486000\n",
      "488000\n",
      "490000\n",
      "492000\n",
      "494000\n",
      "496000\n",
      "498000\n",
      "500000\n",
      "502000\n",
      "504000\n",
      "506000\n",
      "508000\n",
      "510000\n",
      "512000\n",
      "514000\n",
      "516000\n",
      "518000\n",
      "520000\n",
      "522000\n",
      "524000\n",
      "526000\n",
      "528000\n",
      "530000\n",
      "532000\n",
      "534000\n",
      "536000\n",
      "538000\n",
      "540000\n",
      "542000\n",
      "544000\n",
      "546000\n",
      "548000\n",
      "550000\n",
      "552000\n",
      "554000\n",
      "556000\n",
      "558000\n",
      "560000\n",
      "562000\n",
      "564000\n",
      "566000\n",
      "568000\n",
      "570000\n",
      "572000\n",
      "574000\n",
      "576000\n",
      "578000\n",
      "580000\n",
      "582000\n",
      "584000\n",
      "586000\n",
      "588000\n",
      "590000\n",
      "592000\n",
      "594000\n",
      "596000\n",
      "598000\n",
      "600000\n",
      "602000\n",
      "604000\n",
      "606000\n",
      "608000\n",
      "610000\n",
      "612000\n",
      "614000\n",
      "616000\n",
      "618000\n",
      "620000\n",
      "622000\n",
      "624000\n",
      "626000\n",
      "628000\n",
      "630000\n",
      "632000\n",
      "634000\n",
      "636000\n",
      "638000\n",
      "640000\n",
      "642000\n",
      "644000\n",
      "646000\n",
      "648000\n",
      "650000\n",
      "652000\n",
      "654000\n",
      "656000\n",
      "658000\n",
      "660000\n",
      "662000\n",
      "664000\n",
      "666000\n",
      "668000\n",
      "670000\n",
      "672000\n",
      "674000\n",
      "676000\n",
      "678000\n",
      "680000\n",
      "682000\n",
      "684000\n",
      "686000\n",
      "688000\n",
      "690000\n",
      "692000\n",
      "694000\n",
      "696000\n",
      "698000\n",
      "700000\n",
      "702000\n",
      "704000\n",
      "706000\n",
      "708000\n",
      "710000\n",
      "712000\n",
      "714000\n",
      "716000\n",
      "718000\n",
      "720000\n",
      "722000\n",
      "724000\n",
      "726000\n",
      "728000\n",
      "730000\n",
      "732000\n",
      "734000\n",
      "736000\n",
      "738000\n",
      "740000\n",
      "742000\n",
      "744000\n",
      "746000\n",
      "748000\n",
      "750000\n",
      "752000\n",
      "754000\n",
      "756000\n",
      "758000\n",
      "760000\n",
      "762000\n",
      "764000\n",
      "766000\n",
      "768000\n",
      "770000\n",
      "772000\n",
      "774000\n",
      "776000\n",
      "778000\n",
      "780000\n",
      "782000\n",
      "784000\n",
      "786000\n",
      "788000\n",
      "790000\n",
      "792000\n",
      "794000\n",
      "796000\n",
      "798000\n",
      "800000\n",
      "802000\n",
      "804000\n",
      "806000\n",
      "808000\n",
      "810000\n",
      "812000\n",
      "814000\n",
      "816000\n",
      "818000\n",
      "820000\n",
      "822000\n",
      "824000\n",
      "826000\n",
      "828000\n",
      "830000\n",
      "832000\n",
      "834000\n",
      "836000\n",
      "838000\n",
      "840000\n",
      "842000\n",
      "844000\n",
      "846000\n",
      "848000\n",
      "850000\n",
      "852000\n",
      "854000\n",
      "856000\n",
      "858000\n",
      "860000\n",
      "862000\n",
      "864000\n",
      "866000\n",
      "868000\n",
      "870000\n",
      "872000\n",
      "874000\n",
      "876000\n",
      "878000\n",
      "880000\n",
      "882000\n",
      "884000\n",
      "886000\n",
      "888000\n",
      "890000\n",
      "892000\n",
      "894000\n",
      "896000\n",
      "898000\n",
      "900000\n",
      "902000\n",
      "904000\n",
      "906000\n",
      "908000\n",
      "910000\n",
      "912000\n",
      "914000\n",
      "916000\n",
      "918000\n",
      "920000\n",
      "922000\n",
      "924000\n",
      "926000\n",
      "928000\n",
      "930000\n",
      "932000\n",
      "934000\n",
      "936000\n",
      "938000\n",
      "940000\n",
      "942000\n",
      "944000\n",
      "946000\n",
      "948000\n",
      "950000\n",
      "952000\n",
      "954000\n",
      "956000\n",
      "958000\n",
      "960000\n",
      "962000\n",
      "964000\n",
      "966000\n",
      "968000\n",
      "970000\n",
      "972000\n",
      "974000\n",
      "976000\n",
      "978000\n",
      "980000\n",
      "982000\n",
      "984000\n",
      "986000\n",
      "988000\n",
      "990000\n",
      "992000\n",
      "994000\n",
      "996000\n",
      "998000\n",
      "1000000\n",
      "1002000\n",
      "1004000\n",
      "1006000\n",
      "1008000\n",
      "1010000\n",
      "1012000\n",
      "1014000\n",
      "1016000\n",
      "1018000\n",
      "1020000\n",
      "1022000\n",
      "1024000\n",
      "1026000\n",
      "1028000\n",
      "1030000\n",
      "1032000\n",
      "1034000\n",
      "1036000\n",
      "1038000\n",
      "1040000\n",
      "1042000\n",
      "1044000\n",
      "1046000\n",
      "1048000\n",
      "1050000\n",
      "1052000\n",
      "1054000\n",
      "1056000\n",
      "1058000\n",
      "1060000\n",
      "1062000\n",
      "1064000\n",
      "1066000\n",
      "1068000\n",
      "1070000\n",
      "1072000\n",
      "1074000\n",
      "1076000\n",
      "1078000\n",
      "1080000\n",
      "1082000\n",
      "1084000\n",
      "1086000\n",
      "1088000\n",
      "1090000\n",
      "1092000\n",
      "1094000\n",
      "1096000\n",
      "1098000\n",
      "1100000\n",
      "1102000\n",
      "1104000\n",
      "1106000\n",
      "1108000\n",
      "1110000\n",
      "1112000\n",
      "1114000\n",
      "1116000\n",
      "1118000\n",
      "1120000\n",
      "1122000\n",
      "1124000\n",
      "1126000\n",
      "1128000\n",
      "1130000\n",
      "1132000\n",
      "1134000\n",
      "1136000\n",
      "1138000\n",
      "1140000\n",
      "1142000\n",
      "1144000\n",
      "1146000\n",
      "1148000\n",
      "1150000\n",
      "1152000\n",
      "1154000\n",
      "1156000\n",
      "1158000\n",
      "1160000\n",
      "1162000\n",
      "1164000\n",
      "1166000\n",
      "1168000\n",
      "1170000\n",
      "1172000\n",
      "1174000\n",
      "1176000\n",
      "1178000\n",
      "1180000\n",
      "1182000\n",
      "1184000\n",
      "1186000\n",
      "1188000\n",
      "1190000\n",
      "1192000\n",
      "1194000\n",
      "1196000\n",
      "1198000\n",
      "1200000\n",
      "1202000\n",
      "1204000\n",
      "1206000\n",
      "1208000\n",
      "1210000\n",
      "1212000\n",
      "1214000\n",
      "1216000\n",
      "1218000\n",
      "1220000\n",
      "1222000\n",
      "1224000\n",
      "1226000\n",
      "1228000\n",
      "1230000\n",
      "1232000\n",
      "1234000\n",
      "1236000\n",
      "1238000\n",
      "1240000\n",
      "1242000\n",
      "1244000\n",
      "1246000\n",
      "1248000\n",
      "1250000\n",
      "1252000\n",
      "1254000\n",
      "1256000\n",
      "1258000\n",
      "1260000\n",
      "1262000\n",
      "1264000\n",
      "1266000\n",
      "1268000\n",
      "1270000\n",
      "1272000\n",
      "1274000\n",
      "1276000\n",
      "1278000\n",
      "1280000\n",
      "1282000\n",
      "1284000\n",
      "1286000\n",
      "1288000\n",
      "1290000\n",
      "1292000\n",
      "1294000\n",
      "1296000\n",
      "1298000\n",
      "1300000\n",
      "1302000\n",
      "1304000\n",
      "1306000\n",
      "1308000\n",
      "1310000\n",
      "1312000\n",
      "1314000\n",
      "1316000\n",
      "1318000\n",
      "1320000\n",
      "1322000\n",
      "1324000\n",
      "1326000\n",
      "1328000\n",
      "1330000\n",
      "1332000\n",
      "1334000\n",
      "1336000\n",
      "1338000\n",
      "1340000\n",
      "1342000\n",
      "1344000\n",
      "1346000\n",
      "1348000\n",
      "1350000\n",
      "1352000\n",
      "1354000\n",
      "1356000\n",
      "1358000\n",
      "1360000\n",
      "1362000\n",
      "1364000\n",
      "1366000\n",
      "1368000\n",
      "1370000\n",
      "1372000\n",
      "1374000\n",
      "1376000\n",
      "1378000\n",
      "1380000\n",
      "1382000\n",
      "1384000\n",
      "1386000\n",
      "1388000\n",
      "1390000\n",
      "1392000\n",
      "1394000\n",
      "1396000\n",
      "1398000\n",
      "1400000\n",
      "1402000\n",
      "1404000\n",
      "1406000\n",
      "1408000\n",
      "1410000\n",
      "1412000\n",
      "1414000\n",
      "1416000\n",
      "1418000\n",
      "1420000\n",
      "1422000\n",
      "1424000\n",
      "1426000\n",
      "1428000\n",
      "1430000\n",
      "1432000\n",
      "1434000\n",
      "1436000\n",
      "1438000\n",
      "1440000\n",
      "1442000\n",
      "1444000\n",
      "1446000\n",
      "1448000\n",
      "1450000\n",
      "1452000\n",
      "1454000\n",
      "1456000\n",
      "1458000\n",
      "1460000\n",
      "1462000\n",
      "1464000\n",
      "1466000\n",
      "1468000\n",
      "1470000\n",
      "1472000\n",
      "1474000\n",
      "1476000\n",
      "1478000\n",
      "1480000\n",
      "1482000\n",
      "1484000\n",
      "1486000\n",
      "1488000\n",
      "1490000\n",
      "1492000\n",
      "1494000\n",
      "1496000\n",
      "1498000\n",
      "1500000\n",
      "1502000\n",
      "1504000\n",
      "1506000\n",
      "1508000\n",
      "1510000\n",
      "1512000\n",
      "1514000\n",
      "1516000\n",
      "1518000\n",
      "1520000\n",
      "1522000\n",
      "1524000\n",
      "1526000\n",
      "1528000\n",
      "1530000\n",
      "1532000\n",
      "1534000\n",
      "1536000\n",
      "1538000\n",
      "1540000\n",
      "1542000\n",
      "1544000\n",
      "1546000\n",
      "1548000\n",
      "1550000\n",
      "1552000\n",
      "1554000\n",
      "1556000\n",
      "1558000\n",
      "1560000\n",
      "1562000\n",
      "1564000\n",
      "1566000\n",
      "1568000\n",
      "1570000\n",
      "1572000\n",
      "1574000\n",
      "1576000\n",
      "1578000\n",
      "1580000\n",
      "1582000\n",
      "1584000\n",
      "1586000\n",
      "1588000\n",
      "1590000\n",
      "1592000\n",
      "1594000\n",
      "1596000\n",
      "1598000\n",
      "1600000\n",
      "1602000\n",
      "1604000\n",
      "1606000\n",
      "1608000\n",
      "1610000\n",
      "1612000\n",
      "1614000\n",
      "1616000\n",
      "1618000\n",
      "1620000\n",
      "1622000\n",
      "1624000\n",
      "1626000\n",
      "1628000\n",
      "1630000\n",
      "1632000\n",
      "1634000\n",
      "1636000\n",
      "1638000\n",
      "1640000\n",
      "1642000\n",
      "1644000\n",
      "1646000\n",
      "1648000\n",
      "1650000\n",
      "1652000\n",
      "1654000\n",
      "1656000\n",
      "1658000\n",
      "1660000\n",
      "1662000\n",
      "1664000\n",
      "1666000\n",
      "1668000\n",
      "1670000\n",
      "1672000\n",
      "1674000\n",
      "1676000\n",
      "1678000\n",
      "1680000\n",
      "1682000\n",
      "1684000\n",
      "1686000\n",
      "1688000\n",
      "1690000\n",
      "1692000\n",
      "1694000\n",
      "1696000\n",
      "1698000\n",
      "1700000\n",
      "1702000\n",
      "1704000\n",
      "1706000\n",
      "1708000\n",
      "1710000\n",
      "1712000\n",
      "1714000\n",
      "1716000\n",
      "1718000\n",
      "1720000\n",
      "1722000\n",
      "1724000\n",
      "1726000\n",
      "1728000\n",
      "1730000\n",
      "1732000\n",
      "1734000\n",
      "1736000\n",
      "1738000\n",
      "1740000\n",
      "1742000\n",
      "1744000\n",
      "1746000\n",
      "1748000\n",
      "1750000\n",
      "1752000\n",
      "1754000\n",
      "1756000\n",
      "1758000\n",
      "1760000\n",
      "1762000\n",
      "1764000\n",
      "1766000\n",
      "1768000\n",
      "1770000\n",
      "1772000\n",
      "1774000\n",
      "1776000\n",
      "1778000\n",
      "1780000\n",
      "1782000\n",
      "1784000\n",
      "1786000\n",
      "1788000\n",
      "1790000\n",
      "1792000\n",
      "1794000\n",
      "1796000\n",
      "1798000\n",
      "1800000\n",
      "1802000\n",
      "1804000\n",
      "1806000\n",
      "1808000\n",
      "1810000\n",
      "1812000\n",
      "1814000\n",
      "1816000\n",
      "1818000\n",
      "1820000\n",
      "1822000\n",
      "1824000\n",
      "1826000\n",
      "1828000\n",
      "1830000\n",
      "1832000\n",
      "1834000\n",
      "1836000\n",
      "1838000\n",
      "1840000\n",
      "1842000\n",
      "1844000\n",
      "1846000\n",
      "1848000\n",
      "1850000\n",
      "1852000\n",
      "1854000\n",
      "1856000\n",
      "1858000\n",
      "1860000\n",
      "1862000\n",
      "1864000\n",
      "1866000\n",
      "1868000\n",
      "1870000\n",
      "1872000\n",
      "1874000\n",
      "1876000\n",
      "1878000\n",
      "1880000\n",
      "1882000\n",
      "1884000\n",
      "1886000\n",
      "1888000\n",
      "1890000\n",
      "1892000\n",
      "1894000\n",
      "1896000\n",
      "1898000\n",
      "1900000\n",
      "1902000\n",
      "1904000\n",
      "1906000\n",
      "1908000\n",
      "1910000\n",
      "1912000\n",
      "1914000\n",
      "1916000\n",
      "1918000\n",
      "1920000\n",
      "1922000\n",
      "1924000\n",
      "1926000\n",
      "1928000\n",
      "1930000\n",
      "1932000\n",
      "1934000\n",
      "1936000\n",
      "1938000\n",
      "1940000\n",
      "1942000\n",
      "1944000\n",
      "1946000\n",
      "1948000\n",
      "1950000\n",
      "1952000\n",
      "1954000\n",
      "1956000\n",
      "1958000\n",
      "1960000\n",
      "1962000\n",
      "1964000\n",
      "1966000\n",
      "1968000\n",
      "1970000\n",
      "1972000\n",
      "1974000\n",
      "1976000\n",
      "1978000\n",
      "1980000\n",
      "1982000\n",
      "1984000\n",
      "1986000\n",
      "1988000\n",
      "1990000\n",
      "1992000\n",
      "1994000\n",
      "1996000\n",
      "1998000\n",
      "2000000\n",
      "2002000\n",
      "2004000\n",
      "2006000\n",
      "2008000\n",
      "2010000\n",
      "2012000\n",
      "2014000\n",
      "2016000\n",
      "2018000\n",
      "2020000\n",
      "2022000\n",
      "2024000\n",
      "2026000\n",
      "2028000\n",
      "2030000\n",
      "2032000\n",
      "2034000\n",
      "2036000\n",
      "2038000\n",
      "2040000\n",
      "2042000\n",
      "2044000\n",
      "2046000\n",
      "2048000\n",
      "2050000\n",
      "2052000\n",
      "2054000\n",
      "2056000\n",
      "2058000\n",
      "2060000\n",
      "2062000\n",
      "2064000\n",
      "2066000\n",
      "2068000\n",
      "2070000\n",
      "2072000\n",
      "2074000\n",
      "2076000\n",
      "2078000\n",
      "2080000\n",
      "2082000\n",
      "2084000\n",
      "2086000\n",
      "2088000\n",
      "2090000\n",
      "2092000\n",
      "2094000\n",
      "2096000\n",
      "2098000\n",
      "2100000\n",
      "2102000\n",
      "2104000\n",
      "2106000\n",
      "2108000\n",
      "2110000\n",
      "2112000\n",
      "2114000\n",
      "2116000\n",
      "2118000\n",
      "2120000\n",
      "2122000\n",
      "2124000\n",
      "2126000\n",
      "2128000\n",
      "2130000\n",
      "2132000\n",
      "2134000\n",
      "2136000\n",
      "2138000\n",
      "2140000\n",
      "2142000\n",
      "2144000\n",
      "2146000\n",
      "2148000\n",
      "2150000\n",
      "2152000\n",
      "2154000\n",
      "2156000\n",
      "2158000\n",
      "2160000\n",
      "2162000\n",
      "2164000\n",
      "2166000\n",
      "2168000\n",
      "2170000\n",
      "2172000\n",
      "2174000\n",
      "2176000\n",
      "2178000\n",
      "2180000\n",
      "2182000\n",
      "2184000\n",
      "2186000\n",
      "2188000\n",
      "2190000\n",
      "2192000\n",
      "2194000\n",
      "2196000\n",
      "2198000\n",
      "2200000\n",
      "2202000\n",
      "2204000\n",
      "2206000\n",
      "2208000\n",
      "2210000\n",
      "2212000\n",
      "2214000\n",
      "2216000\n",
      "2218000\n",
      "2220000\n",
      "2222000\n",
      "2224000\n",
      "2226000\n",
      "2228000\n",
      "2230000\n",
      "2232000\n",
      "2234000\n",
      "2236000\n",
      "2238000\n",
      "2240000\n",
      "2242000\n",
      "2244000\n",
      "2246000\n",
      "2248000\n",
      "2250000\n",
      "2252000\n",
      "2254000\n",
      "2256000\n",
      "2258000\n",
      "2260000\n",
      "2262000\n",
      "2264000\n",
      "2266000\n",
      "2268000\n",
      "2270000\n",
      "2272000\n",
      "2274000\n",
      "2276000\n",
      "2278000\n",
      "2280000\n",
      "2282000\n",
      "2284000\n",
      "2286000\n",
      "2288000\n",
      "2290000\n",
      "2292000\n",
      "2294000\n",
      "2296000\n",
      "2298000\n",
      "2300000\n",
      "2302000\n",
      "2304000\n",
      "2306000\n",
      "2308000\n",
      "2310000\n",
      "2312000\n",
      "2314000\n",
      "2316000\n",
      "2318000\n",
      "2320000\n",
      "2322000\n",
      "2324000\n",
      "2326000\n",
      "2328000\n",
      "2330000\n",
      "CPU times: user 1h 35min 47s, sys: 1min 56s, total: 1h 37min 44s\n",
      "Wall time: 1h 40min 20s\n"
     ]
    }
   ],
   "source": [
    "%%time\n",
    "monitor = [n for n in range(0, len(to_lemmatize), 2000)]\n",
    "trigrams_lemmata_dict= {}\n",
    "for n, tup in enumerate(to_lemmatize):\n",
    "    lemmata = get_lemma_filtered(tup[0])\n",
    "    if n in monitor:\n",
    "        print(n)\n",
    "    if len(lemmata.split()) > 1:\n",
    "        trigrams_lemmata_dict[tup[0]] = {\"lemmata\" : lemmata, \"count\" : tup[1]}"
   ],
   "metadata": {
    "collapsed": false
   }
  },
  {
   "cell_type": "code",
   "execution_count": 26,
   "outputs": [],
   "source": [
    "with open(\"../data/large_files/trigrams_lemmata_dict.pickle\", \"wb\") as f:\n",
    "    pickle.dump(trigrams_lemmata_dict, f)"
   ],
   "metadata": {
    "collapsed": false
   }
  },
  {
   "cell_type": "code",
   "execution_count": 13,
   "outputs": [
    {
     "data": {
      "text/plain": "1768166"
     },
     "execution_count": 13,
     "metadata": {},
     "output_type": "execute_result"
    }
   ],
   "source": [
    "trigrams_lemmata_dict = pickle.load(open(\"../data/large_files/trigrams_lemmata_dict.pickle\", \"rb\"))\n",
    "len(trigrams_lemmata_dict)"
   ],
   "metadata": {
    "collapsed": false,
    "ExecuteTime": {
     "start_time": "2023-03-30T14:02:30.156959Z",
     "end_time": "2023-03-30T14:02:31.169786Z"
    }
   }
  },
  {
   "cell_type": "code",
   "execution_count": 14,
   "outputs": [
    {
     "name": "stdout",
     "output_type": "stream",
     "text": [
      "CPU times: user 4.66 ms, sys: 2.88 ms, total: 7.54 ms\n",
      "Wall time: 7.39 ms\n"
     ]
    }
   ],
   "source": [
    "%%time\n",
    "# developing application to individual documents\n",
    "sourcepath = \"../data/large_files/trigrams_filtered/\"\n",
    "id = 0\n",
    "with open(sourcepath + \"filtered_id_{}.json\".format(str(id)), \"r\") as f:\n",
    "    d_cleaned = json.load(f)\n",
    "counter = Counter()\n",
    "for item in d_cleaned.items():\n",
    "    try:\n",
    "        counter.update({trigrams_lemmata_dict[item[0]][\"lemmata\"] : item[1]})\n",
    "    except:\n",
    "        pass"
   ],
   "metadata": {
    "collapsed": false,
    "ExecuteTime": {
     "start_time": "2023-03-30T14:02:50.694889Z",
     "end_time": "2023-03-30T14:02:50.721069Z"
    }
   }
  },
  {
   "cell_type": "code",
   "execution_count": 15,
   "outputs": [],
   "source": [
    "trigrams_list = []\n",
    "for tup in counter.items():\n",
    "    trigrams_list.extend([tup[0]]*tup[1])"
   ],
   "metadata": {
    "collapsed": false,
    "ExecuteTime": {
     "start_time": "2023-03-30T14:02:56.176695Z",
     "end_time": "2023-03-30T14:02:56.192508Z"
    }
   }
  },
  {
   "cell_type": "code",
   "execution_count": 16,
   "outputs": [
    {
     "data": {
      "text/plain": "['religious matter',\n 'divine hope',\n 'divine hope',\n 'leave unresolved',\n 'leave unresolved',\n 'racial equality',\n 'racial equality',\n 'joint action',\n 'joint action',\n 'joint action',\n 'joint action',\n 'joint action',\n 'christian fellowship',\n 'biblical injunction',\n 'biblical injunction',\n 'important community',\n 'degree order',\n 'worldwide fellowship',\n 'worldwide fellowship',\n 'community establish',\n 'new appreciation',\n 'new appreciation',\n 'Council church',\n 'Council church',\n 'local fellowship',\n 'local fellowship',\n 'establish maintain',\n 'op cit',\n 'op cit',\n 'op cit',\n 'op cit',\n 'op cit',\n 'op cit',\n 'op cit',\n 'op cit',\n 'op cit',\n 'op cit',\n 'op cit',\n 'Wcc Commission',\n 'Wcc Commission',\n 'use several',\n 'nego tiating',\n 'nego tiating',\n 'church provide',\n 'church provide',\n 'church provide',\n 'Association Press',\n 'Association Press',\n 'loss identity',\n 'particular concept',\n 'con versation',\n 'form life',\n 'doctrinal agreement',\n 'genuine renewal',\n 'genuine renewal',\n 'Church Union Negotiations',\n 'redemp tion',\n 'redemp tion',\n 'ruison dtre',\n 'ruison dtre',\n 'particular project',\n 'deep commitment',\n 'deep commitment',\n 'Delhi Assembly',\n 'national istic',\n 'community feel',\n 'community feel',\n 'united church',\n 'united church',\n 'united church',\n 'united church',\n 'united church',\n 'united church',\n 'united church',\n 'united church',\n 'united church',\n 'united church',\n 'united church',\n 'united church',\n 'united church',\n 'united church',\n 'united church',\n 'united church',\n 'united church',\n 'united church',\n 'united churches',\n 'united churches',\n 'united churches',\n 'united churches',\n 'united churches',\n 'united churches',\n 'united churches',\n 'united churches',\n 'united churches',\n 'united churches',\n 'united churches',\n 'united churches',\n 'united churches',\n 'united churches',\n 'body continue']"
     },
     "execution_count": 16,
     "metadata": {},
     "output_type": "execute_result"
    }
   ],
   "source": [
    "trigrams_list[:100]"
   ],
   "metadata": {
    "collapsed": false,
    "ExecuteTime": {
     "start_time": "2023-03-30T14:03:02.999080Z",
     "end_time": "2023-03-30T14:03:03.024317Z"
    }
   }
  },
  {
   "cell_type": "code",
   "execution_count": 18,
   "outputs": [],
   "source": [
    "trigrams_list = [\"{}\\n\".format(i) for i in trigrams_list]"
   ],
   "metadata": {
    "collapsed": false,
    "ExecuteTime": {
     "start_time": "2023-03-30T14:06:11.568152Z",
     "end_time": "2023-03-30T14:06:11.577049Z"
    }
   }
  },
  {
   "cell_type": "code",
   "execution_count": 19,
   "outputs": [],
   "source": [
    "with open(\"test.txt\", \"w\") as f:\n",
    "    f.writelines(trigrams_list)"
   ],
   "metadata": {
    "collapsed": false,
    "ExecuteTime": {
     "start_time": "2023-03-30T14:06:13.089657Z",
     "end_time": "2023-03-30T14:06:13.103123Z"
    }
   }
  },
  {
   "cell_type": "code",
   "execution_count": 24,
   "outputs": [],
   "source": [
    "sourcepath = destpath\n",
    "destpath = \"../data/large_files/trigrams_lemmatized/\"\n",
    "try:\n",
    "    os.makedirs(destpath)\n",
    "except:\n",
    "    pass"
   ],
   "metadata": {
    "collapsed": false,
    "ExecuteTime": {
     "start_time": "2023-03-30T14:08:44.269295Z",
     "end_time": "2023-03-30T14:08:44.276077Z"
    }
   }
  },
  {
   "cell_type": "code",
   "execution_count": 25,
   "outputs": [
    {
     "name": "stdout",
     "output_type": "stream",
     "text": [
      "CPU times: user 1min 49s, sys: 6.9 s, total: 1min 56s\n",
      "Wall time: 2min 6s\n"
     ]
    }
   ],
   "source": [
    "%%time\n",
    "for id in ids:\n",
    "    with open(sourcepath + \"filtered_id_{}.json\".format(str(id)), \"r\") as f:\n",
    "        d_cleaned = json.load(f)\n",
    "    counter = Counter()\n",
    "    for item in d_cleaned.items():\n",
    "        try:\n",
    "            counter.update({trigrams_lemmata_dict[item[0]][\"lemmata\"] : item[1]})\n",
    "        except:\n",
    "            pass\n",
    "    trigrams_list = []\n",
    "    for tup in counter.items():\n",
    "        trigrams_list.extend([tup[0]]*tup[1])\n",
    "    trigrams_list = [\"{}\\n\".format(i) for i in trigrams_list]\n",
    "    with open(destpath + \"trigrams_lemmata_id_{}.txt\".format(str(id)), \"w\") as f:\n",
    "        f.writelines(trigrams_list)"
   ],
   "metadata": {
    "collapsed": false,
    "ExecuteTime": {
     "start_time": "2023-03-30T14:08:48.242023Z",
     "end_time": "2023-03-30T14:10:54.280848Z"
    }
   }
  },
  {
   "cell_type": "code",
   "execution_count": null,
   "outputs": [],
   "source": [],
   "metadata": {
    "collapsed": false
   }
  },
  {
   "cell_type": "markdown",
   "source": [
    "# Aplying cleaning to all unigrams"
   ],
   "metadata": {
    "collapsed": false
   }
  },
  {
   "cell_type": "code",
   "execution_count": 30,
   "outputs": [],
   "source": [
    "destpath = \"../data/large_files/unigrams_filtered/\"\n",
    "os.makedirs(destpath)"
   ],
   "metadata": {
    "collapsed": false,
    "ExecuteTime": {
     "start_time": "2023-03-30T21:19:18.259834Z",
     "end_time": "2023-03-30T21:19:18.278155Z"
    }
   }
  },
  {
   "cell_type": "code",
   "execution_count": 31,
   "outputs": [
    {
     "name": "stdout",
     "output_type": "stream",
     "text": [
      "CPU times: user 3min 41s, sys: 13.2 s, total: 3min 54s\n",
      "Wall time: 4min 21s\n"
     ]
    },
    {
     "data": {
      "text/plain": "2769088"
     },
     "execution_count": 31,
     "metadata": {},
     "output_type": "execute_result"
    }
   ],
   "source": [
    "%%time\n",
    "data_ngrams = Counter()\n",
    "sourcepath = \"../data/large_files/unigrams_raw/\"\n",
    "for id in ids:\n",
    "    ngram_dict = json.load(open(sourcepath + \"unigrams_{}.json\".format(str(id)), \"r\"))\n",
    "    d_cleaned = filter_dict(ngram_dict, min=1)\n",
    "    with open(destpath + \"filtered_id_{}.json\".format(str(id)), \"w\") as f:\n",
    "        json.dump(d_cleaned, f)\n",
    "    data_ngrams.update(d_cleaned)\n",
    "len(data_ngrams)"
   ],
   "metadata": {
    "collapsed": false,
    "ExecuteTime": {
     "start_time": "2023-03-30T21:20:18.188600Z",
     "end_time": "2023-03-30T21:24:39.589221Z"
    }
   }
  },
  {
   "cell_type": "code",
   "execution_count": 32,
   "outputs": [
    {
     "name": "stdout",
     "output_type": "stream",
     "text": [
      "CPU times: user 526 ms, sys: 92.2 ms, total: 618 ms\n",
      "Wall time: 651 ms\n"
     ]
    },
    {
     "data": {
      "text/plain": "272768"
     },
     "execution_count": 32,
     "metadata": {},
     "output_type": "execute_result"
    }
   ],
   "source": [
    "%%time\n",
    "data_unigrams_sorted = sorted(data_ngrams.items(), key=lambda kv: kv[1], reverse=True)\n",
    "len([el for el in data_unigrams_sorted if el[1] > 10])"
   ],
   "metadata": {
    "collapsed": false,
    "ExecuteTime": {
     "start_time": "2023-03-30T21:24:39.872985Z",
     "end_time": "2023-03-30T21:24:40.244143Z"
    }
   }
  },
  {
   "cell_type": "code",
   "execution_count": 34,
   "outputs": [
    {
     "data": {
      "text/plain": "410708"
     },
     "execution_count": 34,
     "metadata": {},
     "output_type": "execute_result"
    }
   ],
   "source": [
    "to_lemmatize = [el for el in data_unigrams_sorted if el[1] > 5]\n",
    "len(to_lemmatize)"
   ],
   "metadata": {
    "collapsed": false,
    "ExecuteTime": {
     "start_time": "2023-03-30T21:24:54.461880Z",
     "end_time": "2023-03-30T21:24:54.694404Z"
    }
   }
  },
  {
   "cell_type": "code",
   "execution_count": 37,
   "outputs": [
    {
     "name": "stdout",
     "output_type": "stream",
     "text": [
      "0\n",
      "2000\n",
      "4000\n",
      "6000\n",
      "8000\n",
      "10000\n",
      "12000\n",
      "14000\n",
      "16000\n",
      "18000\n",
      "20000\n",
      "22000\n",
      "24000\n",
      "26000\n",
      "28000\n",
      "30000\n",
      "32000\n",
      "34000\n",
      "36000\n",
      "38000\n",
      "40000\n",
      "42000\n",
      "44000\n",
      "46000\n",
      "48000\n",
      "50000\n",
      "52000\n",
      "54000\n",
      "56000\n",
      "58000\n",
      "60000\n",
      "62000\n",
      "64000\n",
      "66000\n",
      "68000\n",
      "70000\n",
      "72000\n",
      "74000\n",
      "76000\n",
      "78000\n",
      "80000\n",
      "82000\n",
      "84000\n",
      "86000\n",
      "88000\n",
      "90000\n",
      "92000\n",
      "94000\n",
      "96000\n",
      "98000\n",
      "100000\n",
      "102000\n",
      "104000\n",
      "106000\n",
      "108000\n",
      "110000\n",
      "112000\n",
      "114000\n",
      "116000\n",
      "118000\n",
      "120000\n",
      "122000\n",
      "124000\n",
      "126000\n",
      "128000\n",
      "130000\n",
      "132000\n",
      "134000\n",
      "136000\n",
      "138000\n",
      "140000\n",
      "142000\n",
      "144000\n",
      "146000\n",
      "148000\n",
      "150000\n",
      "152000\n",
      "154000\n",
      "156000\n",
      "158000\n",
      "160000\n",
      "162000\n",
      "164000\n",
      "166000\n",
      "168000\n",
      "170000\n",
      "172000\n",
      "174000\n",
      "176000\n",
      "178000\n",
      "180000\n",
      "182000\n",
      "184000\n",
      "186000\n",
      "188000\n",
      "190000\n",
      "192000\n",
      "194000\n",
      "196000\n",
      "198000\n",
      "200000\n",
      "202000\n",
      "204000\n",
      "206000\n",
      "208000\n",
      "210000\n",
      "212000\n",
      "214000\n",
      "216000\n",
      "218000\n",
      "220000\n",
      "222000\n",
      "224000\n",
      "226000\n",
      "228000\n",
      "230000\n",
      "232000\n",
      "234000\n",
      "236000\n",
      "238000\n",
      "240000\n",
      "242000\n",
      "244000\n",
      "246000\n",
      "248000\n",
      "250000\n",
      "252000\n",
      "254000\n",
      "256000\n",
      "258000\n",
      "260000\n",
      "262000\n",
      "264000\n",
      "266000\n",
      "268000\n",
      "270000\n",
      "272000\n",
      "274000\n",
      "276000\n",
      "278000\n",
      "280000\n",
      "282000\n",
      "284000\n",
      "286000\n",
      "288000\n",
      "290000\n",
      "292000\n",
      "294000\n",
      "296000\n",
      "298000\n",
      "300000\n",
      "302000\n",
      "304000\n",
      "306000\n",
      "308000\n",
      "310000\n",
      "312000\n",
      "314000\n",
      "316000\n",
      "318000\n",
      "320000\n",
      "322000\n",
      "324000\n",
      "326000\n",
      "328000\n",
      "330000\n",
      "332000\n",
      "334000\n",
      "336000\n",
      "338000\n",
      "340000\n",
      "342000\n",
      "344000\n",
      "346000\n",
      "348000\n",
      "350000\n",
      "352000\n",
      "354000\n",
      "356000\n",
      "358000\n",
      "360000\n",
      "362000\n",
      "364000\n",
      "366000\n",
      "368000\n",
      "370000\n",
      "372000\n",
      "374000\n",
      "376000\n",
      "378000\n",
      "380000\n",
      "382000\n",
      "384000\n",
      "386000\n",
      "388000\n",
      "390000\n",
      "392000\n",
      "394000\n",
      "396000\n",
      "398000\n",
      "400000\n",
      "402000\n",
      "404000\n",
      "406000\n",
      "408000\n",
      "410000\n",
      "CPU times: user 17min 15s, sys: 8.93 s, total: 17min 24s\n",
      "Wall time: 17min 35s\n"
     ]
    }
   ],
   "source": [
    "%%time\n",
    "monitor = [n for n in range(0, len(to_lemmatize), 2000)]\n",
    "unigrams_lemmata_dict = {}\n",
    "for n, tup in enumerate(to_lemmatize):\n",
    "    lemmata = get_lemma_filtered(tup[0])\n",
    "    if n in monitor:\n",
    "        print(n)\n",
    "    if len(lemmata.split()) > 0:\n",
    "        unigrams_lemmata_dict[tup[0]] = {\"lemmata\": lemmata, \"count\": tup[1]}"
   ],
   "metadata": {
    "collapsed": false,
    "ExecuteTime": {
     "start_time": "2023-03-30T21:28:43.815675Z",
     "end_time": "2023-03-30T21:46:19.007974Z"
    }
   }
  },
  {
   "cell_type": "code",
   "execution_count": 38,
   "outputs": [
    {
     "data": {
      "text/plain": "388171"
     },
     "execution_count": 38,
     "metadata": {},
     "output_type": "execute_result"
    }
   ],
   "source": [
    "with open(\"../data/large_files/unigrams_lemmata_dict.pickle\", \"wb\") as f:\n",
    "    pickle.dump(unigrams_lemmata_dict, f)\n",
    "#unigrams_lemmata_dict = pickle.load(open(\"../data/large_files/trigrams_lemmata_dict.pickle\", \"rb\"))\n",
    "len(unigrams_lemmata_dict)"
   ],
   "metadata": {
    "collapsed": false,
    "ExecuteTime": {
     "start_time": "2023-03-30T22:01:50.594781Z",
     "end_time": "2023-03-30T22:01:51.056397Z"
    }
   }
  },
  {
   "cell_type": "code",
   "execution_count": 40,
   "outputs": [
    {
     "data": {
      "text/plain": "[('God', {'lemmata': 'God', 'count': 434622}),\n ('Christian', {'lemmata': 'christian', 'count': 336049}),\n ('Paul', {'lemmata': 'Paul', 'count': 335617}),\n ('Jesus', {'lemmata': 'Jesus', 'count': 300420}),\n ('book', {'lemmata': 'book', 'count': 299610}),\n ('New', {'lemmata': 'new', 'count': 291510}),\n ('University', {'lemmata': 'university', 'count': 268405}),\n ('work', {'lemmata': 'work', 'count': 250950}),\n ('life', {'lemmata': 'life', 'count': 212251}),\n ('Christ', {'lemmata': 'Christ', 'count': 210690})]"
     },
     "execution_count": 40,
     "metadata": {},
     "output_type": "execute_result"
    }
   ],
   "source": [
    "sorted(unigrams_lemmata_dict.items(), key=lambda x: x[1][\"count\"], reverse=True)[:10]"
   ],
   "metadata": {
    "collapsed": false,
    "ExecuteTime": {
     "start_time": "2023-03-30T22:03:10.819237Z",
     "end_time": "2023-03-30T22:03:10.855298Z"
    }
   }
  },
  {
   "cell_type": "code",
   "execution_count": 41,
   "outputs": [
    {
     "name": "stdout",
     "output_type": "stream",
     "text": [
      "CPU times: user 2 µs, sys: 10 µs, total: 12 µs\n",
      "Wall time: 16.9 µs\n"
     ]
    }
   ],
   "source": [
    "%%time\n",
    "# developing application to individual documents\n",
    "sourcepath = \"../data/large_files/unigrams_filtered/\""
   ],
   "metadata": {
    "collapsed": false,
    "ExecuteTime": {
     "start_time": "2023-03-30T22:04:56.251474Z",
     "end_time": "2023-03-30T22:04:56.314777Z"
    }
   }
  },
  {
   "cell_type": "code",
   "execution_count": 42,
   "outputs": [],
   "source": [
    "destpath = \"../data/large_files/unigrams_lemmatized/\"\n",
    "try:\n",
    "    os.makedirs(destpath)\n",
    "except:\n",
    "    pass"
   ],
   "metadata": {
    "collapsed": false,
    "ExecuteTime": {
     "start_time": "2023-03-30T22:04:58.988740Z",
     "end_time": "2023-03-30T22:04:58.990799Z"
    }
   }
  },
  {
   "cell_type": "code",
   "execution_count": 43,
   "outputs": [
    {
     "name": "stdout",
     "output_type": "stream",
     "text": [
      "CPU times: user 1min 41s, sys: 9.58 s, total: 1min 50s\n",
      "Wall time: 2min 13s\n"
     ]
    }
   ],
   "source": [
    "%%time\n",
    "for id in ids:\n",
    "    with open(sourcepath + \"filtered_id_{}.json\".format(str(id)), \"r\") as f:\n",
    "        d_cleaned = json.load(f)\n",
    "    counter = Counter()\n",
    "    for item in d_cleaned.items():\n",
    "        try:\n",
    "            counter.update({unigrams_lemmata_dict[item[0]][\"lemmata\"]: item[1]})\n",
    "        except:\n",
    "            pass\n",
    "    unigrams_list = []\n",
    "    for tup in counter.items():\n",
    "        unigrams_list.extend([tup[0]] * tup[1])\n",
    "    unigrams_list = [\"{}\\n\".format(i) for i in unigrams_list]\n",
    "    with open(destpath + \"unigrams_lemmata_id_{}.txt\".format(str(id)), \"w\") as f:\n",
    "        f.writelines(unigrams_list)"
   ],
   "metadata": {
    "collapsed": false
   }
  },
  {
   "cell_type": "code",
   "execution_count": null,
   "outputs": [],
   "source": [],
   "metadata": {
    "collapsed": false
   }
  },
  {
   "cell_type": "code",
   "execution_count": null,
   "outputs": [],
   "source": [],
   "metadata": {
    "collapsed": false
   }
  },
  {
   "cell_type": "code",
   "execution_count": null,
   "outputs": [],
   "source": [],
   "metadata": {
    "collapsed": false
   }
  },
  {
   "cell_type": "code",
   "execution_count": null,
   "outputs": [],
   "source": [],
   "metadata": {
    "collapsed": false
   }
  },
  {
   "cell_type": "code",
   "execution_count": null,
   "outputs": [],
   "source": [],
   "metadata": {
    "collapsed": false
   }
  },
  {
   "cell_type": "code",
   "execution_count": null,
   "outputs": [],
   "source": [],
   "metadata": {
    "collapsed": false
   }
  },
  {
   "cell_type": "code",
   "execution_count": null,
   "outputs": [],
   "source": [],
   "metadata": {
    "collapsed": false
   }
  },
  {
   "cell_type": "code",
   "execution_count": null,
   "outputs": [],
   "source": [],
   "metadata": {
    "collapsed": false
   }
  },
  {
   "cell_type": "markdown",
   "source": [
    "# Backup"
   ],
   "metadata": {
    "collapsed": false
   }
  },
  {
   "cell_type": "markdown",
   "source": [
    "# Most frequent unigrams to nlp docs"
   ],
   "metadata": {
    "collapsed": false
   }
  },
  {
   "cell_type": "code",
   "execution_count": 108,
   "outputs": [],
   "source": [
    "# load spacy english nlp model & english stopwords...\n",
    "#stop_words = nlp_spacy.Defaults.stop_words"
   ],
   "metadata": {
    "collapsed": false
   }
  },
  {
   "cell_type": "code",
   "execution_count": 109,
   "outputs": [
    {
     "data": {
      "text/plain": "[('the', 64204),\n ('of', 43727),\n ('and', 29112),\n ('to', 24051),\n ('in', 23227),\n ('is', 11614),\n ('that', 11283),\n ('as', 8204),\n ('The', 6860),\n ('for', 6850),\n ('his', 6283),\n ('with', 6121),\n ('was', 5995),\n ('he', 5314),\n ('by', 5164),\n ('not', 5095),\n ('on', 4746),\n ('from', 4525),\n ('it', 4500),\n ('this', 4388),\n ('be', 4355),\n ('or', 3657),\n ('which', 3568),\n ('are', 3401),\n ('an', 3185),\n ('their', 3085),\n ('who', 3080),\n ('God', 3032),\n ('have', 2951),\n ('but', 2774),\n ('at', 2649),\n ('Paul', 2601),\n ('were', 2543),\n ('they', 2531),\n ('In', 2524),\n ('had', 2435),\n ('one', 2336),\n ('all', 2258),\n ('has', 2093),\n ('him', 1966),\n ('we', 1966),\n ('Christ', 1886),\n ('also', 1854),\n ('its', 1685),\n ('them', 1600),\n ('Christian', 1594),\n ('more', 1579),\n ('Jesus', 1546),\n ('would', 1496),\n ('what', 1489),\n ('you', 1474),\n ('This', 1472),\n ('been', 1441),\n ('will', 1439),\n ('other', 1423),\n ('into', 1356),\n ('only', 1342),\n ('It', 1324),\n ('so', 1322),\n ('no', 1299),\n ('about', 1293),\n ('He', 1288),\n ('life', 1260),\n ('these', 1253),\n ('New', 1197),\n ('there', 1196),\n ('when', 1170),\n ('than', 1166),\n ('some', 1115),\n ('through', 1086),\n ('between', 1079),\n ('such', 1075),\n ('those', 1072),\n ('do', 1066),\n ('can', 1055),\n ('see', 1049),\n ('church', 1034),\n ('our', 1032),\n ('my', 1020),\n ('people', 1013),\n ('her', 997),\n ('For', 996),\n ('first', 990),\n ('own', 922),\n ('Pauls', 919),\n ('us', 910),\n ('even', 908),\n ('two', 905),\n ('could', 903),\n ('faith', 899),\n ('out', 898),\n ('Church', 897),\n ('may', 884),\n ('if', 882),\n ('does', 881),\n ('religious', 875),\n ('See', 869),\n ('me', 869),\n ('world', 861),\n ('most', 856),\n ('time', 853),\n ('way', 846),\n ('Jewish', 840),\n ('But', 833),\n ('man', 821),\n ('both', 807),\n ('many', 804),\n ('because', 803),\n ('Christians', 802),\n ('And', 801),\n ('love', 800),\n ('work', 797),\n ('Gods', 778),\n ('new', 772),\n ('did', 757),\n ('Spirit', 740),\n ('should', 738),\n ('how', 735),\n ('where', 735),\n ('being', 716),\n ('same', 706),\n ('John', 695),\n ('human', 689),\n ('any', 683),\n ('well', 680),\n ('himself', 679),\n ('Press', 677),\n ('social', 675),\n ('then', 673),\n ('de', 664),\n ('up', 655),\n ('upon', 654),\n ('made', 642),\n ('University', 642),\n ('like', 641),\n ('As', 641),\n ('before', 640),\n ('after', 640),\n ('over', 634),\n ('Testament', 633),\n ('said', 624),\n ('against', 623),\n ('et', 621),\n ('must', 613),\n ('part', 596),\n ('good', 592),\n ('Lord', 586),\n ('among', 585),\n ('century', 583),\n ('she', 580),\n ('order', 577),\n ('Jews', 576),\n ('law', 575),\n ('very', 568),\n ('here', 566),\n ('much', 557),\n ('power', 556),\n ('your', 556),\n ('community', 552),\n ('Catholic', 548),\n ('HB', 541),\n ('death', 535),\n ('text', 535),\n ('Christianity', 532),\n ('while', 530),\n ('early', 530),\n ('now', 516),\n ('On', 506),\n ('men', 505),\n ('rather', 502),\n ('found', 499),\n ('words', 496),\n ('called', 483),\n ('however', 482),\n ('without', 479),\n ('might', 475),\n ('ed', 474),\n ('three', 470),\n ('history', 465),\n ('place', 464),\n ('They', 460),\n ('THE', 459),\n ('book', 459),\n ('say', 455),\n ('others', 455),\n ('Greek', 454),\n ('under', 453),\n ('spiritual', 453),\n ('churches', 452),\n ('reading', 450),\n ('divine', 450),\n ('use', 449),\n ('word', 445),\n ('within', 443),\n ('Cf', 436),\n ('pp', 436),\n ('Cor', 436),\n ('another', 434),\n ('thought', 432),\n ('whom', 432),\n ('make', 425),\n ('His', 423),\n ('Father', 423),\n ('sense', 420),\n ('great', 417),\n ('Bible', 416),\n ('Judaism', 416),\n ('Law', 414),\n ('salvation', 412),\n ('fact', 411),\n ('nature', 410),\n ('If', 409),\n ('religion', 409),\n ('means', 409),\n ('Cambridge', 409),\n ('Romans', 408),\n ('tradition', 407),\n ('Gospel', 407),\n ('view', 407),\n ('Corinthians', 404),\n ('example', 403),\n ('There', 401),\n ('come', 400),\n ('says', 399),\n ('each', 399),\n ('Roman', 399),\n ('later', 399),\n ('Holy', 398),\n ('given', 396),\n ('years', 396),\n ('om', 396),\n ('Luke', 395),\n ('itself', 394),\n ('point', 394),\n ('day', 394),\n ('letter', 392),\n ('different', 390),\n ('form', 389),\n ('understanding', 388),\n ('St', 388),\n ('women', 387),\n ('know', 386),\n ('spirit', 384),\n ('came', 384),\n ('authority', 384),\n ('We', 383),\n ('works', 381),\n ('often', 381),\n ('become', 379),\n ('themselves', 378),\n ('theology', 376),\n ('things', 373),\n ('question', 372),\n ('Israel', 371),\n ('What', 370),\n ('end', 368),\n ('person', 367),\n ('York', 367),\n ('Rom', 363),\n ('poor', 363),\n ('just', 358),\n ('became', 356),\n ('meaning', 355),\n ('theological', 354),\n ('used', 353),\n ('though', 350),\n ('holy', 348),\n ('Acts', 347),\n ('second', 344),\n ('experience', 343),\n ('important', 343),\n ('context', 343),\n ('grace', 342),\n ('present', 340),\n ('still', 339),\n ('according', 338),\n ('sin', 336),\n ('practice', 335),\n ('American', 333),\n ('To', 332),\n ('too', 331),\n ('cf', 329),\n ('When', 329),\n ('Christs', 327),\n ('general', 327),\n ('interpretation', 325),\n ('English', 324),\n ('gospel', 324),\n ('Jerusalem', 323),\n ('language', 323),\n ('One', 321),\n ('Thus', 320),\n ('case', 319),\n ('OF', 317),\n ('certain', 316),\n ('name', 315),\n ('especially', 315),\n ('righteousness', 313),\n ('political', 313),\n ('study', 312),\n ('give', 312),\n ('true', 311),\n ('texts', 309),\n ('together', 309),\n ('biblical', 309),\n ('whole', 308),\n ('take', 307),\n ('whose', 307),\n ('state', 306),\n ('II', 305),\n ('since', 305),\n ('find', 305),\n ('light', 304),\n ('historical', 303),\n ('By', 303),\n ('during', 303),\n ('every', 302),\n ('whether', 301),\n ('seen', 301),\n ('particular', 296),\n ('clear', 295),\n ('read', 295),\n ('common', 293),\n ('down', 292),\n ('following', 291),\n ('body', 291),\n ('Peter', 291),\n ('therefore', 290),\n ('above', 290),\n ('ones', 289),\n ('least', 288),\n ('hand', 287),\n ('shall', 286),\n ('terms', 285),\n ('account', 284),\n ('relationship', 283),\n ('am', 282),\n ('These', 281),\n ('role', 281),\n ('away', 279),\n ('members', 278),\n ('never', 276),\n ('That', 276),\n ('thus', 275),\n ('little', 274),\n ('author', 273),\n ('set', 272),\n ('At', 272),\n ('again', 271),\n ('cannot', 271),\n ('heart', 270),\n ('known', 269),\n ('knowledge', 269),\n ('idea', 267),\n ('reason', 267),\n ('until', 266),\n ('Old', 266),\n ('truth', 265),\n ('Religion', 265),\n ('letters', 264),\n ('long', 264),\n ('need', 263),\n ('Emerson', 262),\n ('Protestant', 261),\n ('far', 261),\n ('seems', 261),\n ('further', 261),\n ('number', 261),\n ('nor', 260),\n ('prayer', 260),\n ('back', 259),\n ('taken', 258),\n ('Pauline', 257),\n ('less', 256),\n ('took', 255),\n ('Son', 255),\n ('several', 255),\n ('James', 255),\n ('something', 253),\n ('soul', 253),\n ('chapter', 253),\n ('service', 252),\n ('already', 251),\n ('An', 251),\n ('Th', 251),\n ('various', 250),\n ('While', 249),\n ('personal', 249),\n ('yet', 248),\n ('makes', 247),\n ('always', 247),\n ('city', 247),\n ('From', 245),\n ('Latin', 245),\n ('So', 243),\n ('History', 242),\n ('position', 240),\n ('Gal', 240),\n ('mind', 239),\n ('similar', 237),\n ('written', 237),\n ('moral', 236),\n ('covenant', 236),\n ('course', 234),\n ('few', 234),\n ('living', 233),\n ('However', 232),\n ('movement', 232),\n ('woman', 229),\n ('children', 229),\n ('priest', 229),\n ('gave', 228),\n ('ways', 227),\n ('identity', 227),\n ('family', 227),\n ('went', 226),\n ('toward', 225),\n ('modern', 225),\n ('argument', 225),\n ('discussion', 224),\n ('kind', 224),\n ('authorities', 223),\n ('old', 221),\n ('ad', 221),\n ('term', 221),\n ('African', 221),\n ('perhaps', 220),\n ('London', 219),\n ('De', 219),\n ('once', 218),\n ('times', 218),\n ('fi', 218),\n ('Abraham', 218),\n ('ins', 218),\n ('go', 217),\n ('Rome', 217),\n ('According', 216),\n ('public', 216),\n ('right', 216),\n ('image', 215),\n ('act', 215),\n ('Scripture', 215),\n ('understood', 214),\n ('last', 214),\n ('pages', 214),\n ('reference', 213),\n ('evidence', 213),\n ('ancient', 212),\n ('saw', 211),\n ('evil', 211),\n ('put', 211),\n ('Theology', 211),\n ('reality', 209),\n ('und', 209),\n ('Saint', 209),\n ('land', 208),\n ('basis', 207),\n ('passage', 207),\n ('Apostle', 207),\n ('David', 207),\n ('group', 207),\n ('call', 206),\n ('based', 206),\n ('including', 206),\n ('live', 205),\n ('left', 205),\n ('period', 205),\n ('think', 205),\n ('Although', 205),\n ('How', 205),\n ('year', 205),\n ('hope', 204),\n ('problem', 204),\n ('Hebrews', 204),\n ('Moses', 204),\n ('baptism', 203),\n ('comes', 203),\n ('began', 203),\n ('matter', 202),\n ('although', 202),\n ('understand', 202),\n ('translation', 202),\n ('Hebrew', 202),\n ('revelation', 201),\n ('best', 201),\n ('received', 201),\n ('scholars', 201),\n ('society', 201),\n ('possible', 200),\n ('father', 199),\n ('cross', 199),\n ('nothing', 199),\n ('Journal', 199),\n ('almost', 199),\n ('ministry', 199),\n ('communion', 198),\n ('friend', 197),\n ('contemporary', 197),\n ('leaders', 197),\n ('Ibid', 196),\n ('Gentiles', 196),\n ('why', 195),\n ('commentary', 194),\n ('sources', 194),\n ('local', 194),\n ('communities', 194),\n ('support', 192),\n ('teaching', 191),\n ('believers', 191),\n ('story', 191),\n ('late', 191),\n ('mission', 191),\n ('worship', 191),\n ('having', 190),\n ('wrote', 190),\n ('third', 189),\n ('free', 189),\n ('help', 189),\n ('let', 189),\n ('four', 189),\n ('full', 189),\n ('situation', 188),\n ('earlier', 188),\n ('Studies', 188),\n ('status', 188),\n ('traditions', 187),\n ('doctrine', 187),\n ('particularly', 187),\n ('done', 186),\n ('earth', 186),\n ('traditional', 186),\n ('angels', 186),\n ('creation', 185),\n ('beyond', 185),\n ('kingdom', 185),\n ('considered', 185),\n ('states', 185),\n ('held', 185),\n ('clearly', 184),\n ('action', 184),\n ('relation', 183),\n ('simply', 183),\n ('private', 183),\n ('After', 183),\n ('trans', 182),\n ('First', 182),\n ('freedom', 182),\n ('attention', 182),\n ('tion', 181),\n ('ideas', 181),\n ('gives', 181),\n ('blood', 181),\n ('Philemon', 181),\n ('brother', 181),\n ('days', 181),\n ('white', 181),\n ('able', 180),\n ('house', 180),\n ('HTBP', 180),\n ('turn', 179),\n ('either', 179),\n ('necessary', 179),\n ('brought', 178),\n ('Books', 178),\n ('die', 177),\n ('forms', 175),\n ('alone', 175),\n ('Luther', 175),\n ('heaven', 175),\n ('argues', 175),\n ('son', 174),\n ('appears', 174),\n ('doing', 174),\n ('Thomas', 174),\n ('presence', 173),\n ('told', 173),\n ('beginning', 172),\n ('theory', 172),\n ('lives', 172),\n ('vol', 172),\n ('led', 171),\n ('conversion', 171),\n ('slaves', 171),\n ('influence', 171),\n ('material', 170),\n ('Oxford', 170),\n ('literature', 170),\n ('eg', 170),\n ('belief', 169),\n ('ever', 169),\n ('friends', 169),\n ('individual', 169),\n ('subject', 168),\n ('slave', 168),\n ('age', 167),\n ('vision', 167),\n ('around', 167),\n ('Some', 167),\n ('Bonaventure', 167),\n ('Yet', 166),\n ('She', 166),\n ('leadership', 166),\n ('Galatians', 165),\n ('established', 165),\n ('Book', 165),\n ('clergy', 165),\n ('wisdom', 165),\n ('Augustine', 165),\n ('process', 164),\n ('Therefore', 164),\n ('AND', 164),\n ('outside', 163),\n ('refers', 163),\n ('close', 163),\n ('Biblical', 163),\n ('groups', 163),\n ('asked', 162),\n ('side', 162),\n ('published', 162),\n ('high', 162),\n ('Africa', 162),\n ('believe', 161),\n ('collection', 161),\n ('volume', 161),\n ('writing', 161),\n ('faithful', 161),\n ('culture', 160),\n ('approach', 160),\n ('indeed', 160),\n ('World', 160),\n ('confession', 160),\n ('questions', 159),\n ('better', 159),\n ('article', 159),\n ('peace', 159),\n ('contrast', 159),\n ('longer', 159),\n ('return', 159),\n ('described', 159),\n ('chapters', 158),\n ('sent', 158),\n ('Zoroastrian', 158),\n ('final', 157),\n ('speak', 156),\n ('religions', 156),\n ('Society', 156),\n ('All', 156),\n ('throughout', 156),\n ('claim', 156),\n ('humanity', 156),\n ('perspective', 156),\n ('play', 156),\n ('mentioned', 155),\n ('apostle', 155),\n ('With', 155),\n ('suggests', 155),\n ('England', 155),\n ('head', 155),\n ('remained', 155),\n ('verse', 155),\n ('system', 155),\n ('Grand', 155),\n ('points', 154),\n ('instance', 154),\n ('latter', 154),\n ('rule', 154),\n ('Colossians', 154),\n ('friendship', 154),\n ('William', 154),\n ('character', 153),\n ('America', 153),\n ('la', 153),\n ('source', 153),\n ('Is', 153),\n ('Gentile', 153),\n ('sins', 152),\n ('resurrection', 152),\n ('Here', 152),\n ('Religious', 152),\n ('Early', 152),\n ('charity', 152),\n ('follow', 152),\n ('books', 151),\n ('saints', 151),\n ('country', 151),\n ('justice', 151),\n ('passages', 151),\n ('authors', 151),\n ('want', 150),\n ('ie', 150),\n ('des', 150),\n ('natural', 150),\n ('actions', 150),\n ('followed', 149),\n ('writings', 149),\n ('practices', 149),\n ('model', 149),\n ('sometimes', 149),\n ('Europe', 149),\n ('est', 149),\n ('regard', 148),\n ('receive', 148),\n ('interest', 148),\n ('issue', 148),\n ('young', 147),\n ('existence', 147),\n ('Reformation', 147),\n ('der', 147),\n ('show', 147),\n ('cultural', 147),\n ('probably', 147),\n ('mean', 146),\n ('believed', 146),\n ('persons', 146),\n ('sacred', 146),\n ('neither', 146),\n ('rest', 146),\n ('response', 146),\n ('disciples', 146),\n ('Christology', 146),\n ('followers', 145),\n ('provided', 145),\n ('recent', 145),\n ('note', 145),\n ('sons', 145),\n ('nations', 145),\n ('face', 144),\n ('quite', 144),\n ('heard', 144),\n ('section', 144),\n ('structure', 143),\n ('eschatological', 143),\n ('thing', 143),\n ('key', 143),\n ('noted', 143),\n ('making', 142),\n ('lived', 142),\n ('difficult', 142),\n ('food', 142),\n ('appear', 141),\n ('glory', 141),\n ('Matthew', 141),\n ('flesh', 140),\n ('emphasis', 140),\n ('message', 140),\n ('popular', 140),\n ('East', 140),\n ('phrase', 140),\n ('eyes', 140),\n ('Richard', 140),\n ('claims', 140),\n ('Bonaventures', 140),\n ('generally', 139),\n ('judgment', 139),\n ('preaching', 139),\n ('strong', 139),\n ('event', 139),\n ('Even', 139),\n ('You', 139),\n ('hands', 139),\n ('powers', 138),\n ('along', 138),\n ('expression', 138),\n ('unity', 138),\n ('relations', 138),\n ('No', 138),\n ('narrative', 138),\n ('Rapids', 138),\n ('concept', 137),\n ('saying', 137),\n ('becomes', 137),\n ('brothers', 137),\n ('Daniel', 137),\n ('Now', 137),\n ('Body', 137),\n ('cause', 137),\n ('central', 136),\n ('purpose', 136),\n ('home', 136),\n ('offer', 136),\n ('Mark', 136),\n ('introduction', 136),\n ('obedience', 136),\n ('next', 136),\n ('Lk', 136),\n ('Second', 136),\n ('Patrick', 136),\n ('significant', 135),\n ('developed', 135),\n ('ing', 135),\n ('coming', 135),\n ('centuries', 135),\n ('offered', 135),\n ('Commentary', 135),\n ('former', 134),\n ('original', 134),\n ('shows', 134),\n ('certainly', 134),\n ('force', 134),\n ('off', 134),\n ('institutions', 134),\n ('healing', 134),\n ('soon', 133),\n ('greater', 133),\n ('care', 133),\n ('Then', 133),\n ('priests', 133),\n ('water', 133),\n ('speaks', 132),\n ('bring', 132),\n ('town', 132),\n ('future', 131),\n ('statement', 131),\n ('continued', 131),\n ('development', 131),\n ('lay', 131),\n ('eds', 131),\n ('Pentecostal', 131),\n ('sought', 130),\n ('mystery', 130),\n ('Anna', 130),\n ('takes', 130),\n ('revealed', 130),\n ('en', 130),\n ('related', 129),\n ('liturgy', 129),\n ('readers', 129),\n ('issues', 129),\n ('small', 129),\n ('large', 128),\n ('beings', 128),\n ('Russian', 128),\n ('Great', 128),\n ('served', 128),\n ('Pp', 128),\n ('IN', 128),\n ('gift', 127),\n ('apocalyptic', 127),\n ('suffering', 127),\n ('Bernard', 127),\n ('figure', 126),\n ('Such', 126),\n ('included', 126),\n ('missionary', 126),\n ('king', 126),\n ('Its', 126),\n ('result', 126),\n ('wife', 126),\n ('events', 125),\n ('Faith', 125),\n ('specific', 125),\n ('Martin', 125),\n ('version', 125),\n ('speaking', 125),\n ('bishop', 125),\n ('Catholics', 125),\n ('prayers', 125),\n ('provide', 125),\n ('Literature', 125),\n ('Their', 124),\n ('Western', 124),\n ('ritual', 124),\n ('uses', 124),\n ('places', 124),\n ('black', 124),\n ('laws', 123),\n ('mercy', 123),\n ('real', 123),\n ('keep', 123),\n ('really', 123),\n ('change', 123),\n ('respect', 123),\n ('marriage', 123),\n ('justification', 122),\n ('lead', 122),\n ('today', 122),\n ('theme', 122),\n ('Dei', 122),\n ('war', 122),\n ('calls', 122),\n ('manner', 122),\n ('offers', 122),\n ('exegesis', 122),\n ('created', 122),\n ('Lords', 122),\n ('dead', 121),\n ('connection', 121),\n ('likely', 121),\n ('special', 121),\n ('My', 121),\n ('fellow', 121),\n ('died', 121),\n ('unto', 121),\n ('services', 121),\n ('HBP', 121),\n ('instead', 120),\n ('con', 120),\n ('main', 120),\n ('reader', 120),\n ('appeared', 119),\n ('Part', 119),\n ('evangelical', 119),\n ('analysis', 119),\n ('major', 119),\n ('follows', 119),\n ('NT', 119),\n ('get', 119),\n ('th', 118),\n ('title', 118),\n ('effect', 118),\n ('ask', 118),\n ('Jew', 118),\n ('concern', 118),\n ('views', 118),\n ('participation', 118),\n ('South', 118),\n ('literary', 118),\n ('desire', 118),\n ('suggest', 118),\n ('West', 117),\n ('towards', 117),\n ('studies', 117),\n ('share', 117),\n ('III', 117),\n ('Word', 117),\n ('open', 117),\n ('ST', 117),\n ('parts', 116),\n ('placed', 116),\n ('Study', 116),\n ('gifts', 116),\n ('bread', 116),\n ('prophets', 116),\n ('value', 115),\n ('criticism', 115),\n ('activity', 115),\n ('righteous', 115),\n ('Orthodox', 115),\n ('Joseph', 115),\n ('acts', 115),\n ('prophet', 115),\n ('honor', 115),\n ('debate', 115),\n ('giving', 114),\n ('Lutheran', 114),\n ('knew', 114),\n ('images', 114),\n ('focus', 114),\n ('doubt', 114),\n ('Social', 114),\n ('frequently', 114),\n ('Introduction', 114),\n ('lost', 113),\n ('scripture', 113),\n ('fear', 113),\n ('Col', 113),\n ('economic', 113),\n ('monastery', 112),\n ('presented', 112),\n ('struggle', 112),\n ('notes', 112),\n ('principle', 112),\n ('past', 112),\n ('felt', 112),\n ('Passover', 112),\n ('problems', 111),\n ('expressed', 111),\n ('learned', 111),\n ('single', 111),\n ('eternal', 111),\n ('concerning', 111),\n ('short', 111),\n ('apostles', 111),\n ('kings', 111),\n ('actually', 110),\n ('content', 110),\n ('significance', 110),\n ('enemies', 110),\n ('Charles', 110),\n ('leading', 110),\n ('involved', 110),\n ('etc', 110),\n ('re', 109),\n ('include', 109),\n ('State', 109),\n ('description', 109),\n ('shared', 109),\n ('Life', 108),\n ('heavenly', 108),\n ('liturgical', 108),\n ('European', 108),\n ('Mass', 108),\n ('seek', 108),\n ('voice', 108),\n ('Noah', 108),\n ('notion', 107),\n ('Gospels', 107),\n ('fully', 107),\n ('witness', 107),\n ('Paris', 107)]"
     },
     "execution_count": 109,
     "metadata": {},
     "output_type": "execute_result"
    }
   ],
   "source": [
    "# check how raw unigrams look like\n",
    "data_unigrams_sorted = sorted(data_unigrams.items(), key=lambda kv: kv[1], reverse=True)\n",
    "data_unigrams_sorted[:1000]"
   ],
   "metadata": {
    "collapsed": false
   }
  },
  {
   "cell_type": "code",
   "execution_count": 110,
   "outputs": [
    {
     "data": {
      "text/plain": "[('the', 64204),\n ('of', 43727),\n ('and', 29112),\n ('to', 24051),\n ('in', 23227),\n ('is', 11614),\n ('that', 11283),\n ('as', 8204),\n ('The', 6860),\n ('for', 6850),\n ('his', 6283),\n ('with', 6121),\n ('was', 5995),\n ('he', 5314),\n ('by', 5164),\n ('not', 5095),\n ('on', 4746),\n ('from', 4525),\n ('it', 4500),\n ('this', 4388),\n ('be', 4355),\n ('or', 3657),\n ('which', 3568),\n ('are', 3401),\n ('an', 3185),\n ('their', 3085),\n ('who', 3080),\n ('God', 3032),\n ('have', 2951),\n ('but', 2774),\n ('at', 2649),\n ('Paul', 2601),\n ('were', 2543),\n ('they', 2531),\n ('In', 2524),\n ('had', 2435),\n ('one', 2336),\n ('all', 2258),\n ('has', 2093),\n ('him', 1966),\n ('we', 1966),\n ('Christ', 1886),\n ('also', 1854),\n ('its', 1685),\n ('them', 1600),\n ('Christian', 1594),\n ('more', 1579),\n ('Jesus', 1546),\n ('would', 1496),\n ('what', 1489),\n ('you', 1474),\n ('This', 1472),\n ('been', 1441),\n ('will', 1439),\n ('other', 1423),\n ('into', 1356),\n ('only', 1342),\n ('It', 1324),\n ('so', 1322),\n ('no', 1299),\n ('about', 1293),\n ('He', 1288),\n ('life', 1260),\n ('these', 1253),\n ('New', 1197),\n ('there', 1196),\n ('when', 1170),\n ('than', 1166),\n ('some', 1115),\n ('through', 1086),\n ('between', 1079),\n ('such', 1075),\n ('those', 1072),\n ('do', 1066),\n ('can', 1055),\n ('see', 1049),\n ('church', 1034),\n ('our', 1032),\n ('my', 1020),\n ('people', 1013),\n ('her', 997),\n ('For', 996),\n ('first', 990),\n ('own', 922),\n ('Pauls', 919),\n ('us', 910),\n ('even', 908),\n ('two', 905),\n ('could', 903),\n ('faith', 899),\n ('out', 898),\n ('Church', 897),\n ('may', 884),\n ('if', 882),\n ('does', 881),\n ('religious', 875),\n ('See', 869),\n ('me', 869),\n ('world', 861),\n ('most', 856),\n ('time', 853),\n ('way', 846),\n ('Jewish', 840),\n ('But', 833),\n ('man', 821),\n ('both', 807),\n ('many', 804),\n ('because', 803),\n ('Christians', 802),\n ('And', 801),\n ('love', 800),\n ('work', 797),\n ('Gods', 778),\n ('new', 772),\n ('did', 757),\n ('Spirit', 740),\n ('should', 738),\n ('how', 735),\n ('where', 735),\n ('being', 716),\n ('same', 706),\n ('John', 695),\n ('human', 689),\n ('any', 683),\n ('well', 680),\n ('himself', 679),\n ('Press', 677),\n ('social', 675),\n ('then', 673),\n ('de', 664),\n ('up', 655),\n ('upon', 654),\n ('made', 642),\n ('University', 642),\n ('like', 641),\n ('As', 641),\n ('before', 640),\n ('after', 640),\n ('over', 634),\n ('Testament', 633),\n ('said', 624),\n ('against', 623),\n ('et', 621),\n ('must', 613),\n ('part', 596),\n ('good', 592),\n ('Lord', 586),\n ('among', 585),\n ('century', 583),\n ('she', 580),\n ('order', 577),\n ('Jews', 576),\n ('law', 575),\n ('very', 568),\n ('here', 566),\n ('much', 557),\n ('power', 556),\n ('your', 556),\n ('community', 552),\n ('Catholic', 548),\n ('HB', 541),\n ('death', 535),\n ('text', 535),\n ('Christianity', 532),\n ('while', 530),\n ('early', 530),\n ('now', 516),\n ('On', 506),\n ('men', 505),\n ('rather', 502),\n ('found', 499),\n ('words', 496),\n ('called', 483),\n ('however', 482),\n ('without', 479),\n ('might', 475),\n ('ed', 474),\n ('three', 470),\n ('history', 465),\n ('place', 464),\n ('They', 460),\n ('THE', 459),\n ('book', 459),\n ('say', 455),\n ('others', 455),\n ('Greek', 454),\n ('under', 453),\n ('spiritual', 453),\n ('churches', 452),\n ('reading', 450),\n ('divine', 450),\n ('use', 449),\n ('word', 445),\n ('within', 443),\n ('Cf', 436),\n ('pp', 436),\n ('Cor', 436),\n ('another', 434),\n ('thought', 432),\n ('whom', 432),\n ('make', 425),\n ('His', 423),\n ('Father', 423),\n ('sense', 420),\n ('great', 417),\n ('Bible', 416),\n ('Judaism', 416),\n ('Law', 414),\n ('salvation', 412),\n ('fact', 411),\n ('nature', 410),\n ('If', 409),\n ('religion', 409),\n ('means', 409),\n ('Cambridge', 409),\n ('Romans', 408),\n ('tradition', 407),\n ('Gospel', 407),\n ('view', 407),\n ('Corinthians', 404),\n ('example', 403),\n ('There', 401),\n ('come', 400),\n ('says', 399),\n ('each', 399),\n ('Roman', 399),\n ('later', 399),\n ('Holy', 398),\n ('given', 396),\n ('years', 396),\n ('om', 396),\n ('Luke', 395),\n ('itself', 394),\n ('point', 394),\n ('day', 394),\n ('letter', 392),\n ('different', 390),\n ('form', 389),\n ('understanding', 388),\n ('St', 388),\n ('women', 387),\n ('know', 386),\n ('spirit', 384),\n ('came', 384),\n ('authority', 384),\n ('We', 383),\n ('works', 381),\n ('often', 381),\n ('become', 379),\n ('themselves', 378),\n ('theology', 376),\n ('things', 373),\n ('question', 372),\n ('Israel', 371),\n ('What', 370),\n ('end', 368),\n ('person', 367),\n ('York', 367),\n ('Rom', 363),\n ('poor', 363),\n ('just', 358),\n ('became', 356),\n ('meaning', 355),\n ('theological', 354),\n ('used', 353),\n ('though', 350),\n ('holy', 348),\n ('Acts', 347),\n ('second', 344),\n ('experience', 343),\n ('important', 343),\n ('context', 343),\n ('grace', 342),\n ('present', 340),\n ('still', 339),\n ('according', 338),\n ('sin', 336),\n ('practice', 335),\n ('American', 333),\n ('To', 332),\n ('too', 331),\n ('cf', 329),\n ('When', 329),\n ('Christs', 327),\n ('general', 327),\n ('interpretation', 325),\n ('English', 324),\n ('gospel', 324),\n ('Jerusalem', 323),\n ('language', 323),\n ('One', 321),\n ('Thus', 320),\n ('case', 319),\n ('OF', 317),\n ('certain', 316),\n ('name', 315),\n ('especially', 315),\n ('righteousness', 313),\n ('political', 313),\n ('study', 312),\n ('give', 312),\n ('true', 311),\n ('texts', 309),\n ('together', 309),\n ('biblical', 309),\n ('whole', 308),\n ('take', 307),\n ('whose', 307),\n ('state', 306),\n ('II', 305),\n ('since', 305),\n ('find', 305),\n ('light', 304),\n ('historical', 303),\n ('By', 303),\n ('during', 303),\n ('every', 302),\n ('whether', 301),\n ('seen', 301),\n ('particular', 296),\n ('clear', 295),\n ('read', 295),\n ('common', 293),\n ('down', 292),\n ('following', 291),\n ('body', 291),\n ('Peter', 291),\n ('therefore', 290),\n ('above', 290),\n ('ones', 289),\n ('least', 288),\n ('hand', 287),\n ('shall', 286),\n ('terms', 285),\n ('account', 284),\n ('relationship', 283),\n ('am', 282),\n ('These', 281),\n ('role', 281),\n ('away', 279),\n ('members', 278),\n ('never', 276),\n ('That', 276),\n ('thus', 275),\n ('little', 274),\n ('author', 273),\n ('set', 272),\n ('At', 272),\n ('again', 271),\n ('cannot', 271),\n ('heart', 270),\n ('known', 269),\n ('knowledge', 269),\n ('idea', 267),\n ('reason', 267),\n ('until', 266),\n ('Old', 266),\n ('truth', 265),\n ('Religion', 265),\n ('letters', 264),\n ('long', 264),\n ('need', 263),\n ('Emerson', 262),\n ('Protestant', 261),\n ('far', 261),\n ('seems', 261),\n ('further', 261),\n ('number', 261),\n ('nor', 260),\n ('prayer', 260),\n ('back', 259),\n ('taken', 258),\n ('Pauline', 257),\n ('less', 256),\n ('took', 255),\n ('Son', 255),\n ('several', 255),\n ('James', 255),\n ('something', 253),\n ('soul', 253),\n ('chapter', 253),\n ('service', 252),\n ('already', 251),\n ('An', 251),\n ('Th', 251),\n ('various', 250),\n ('While', 249),\n ('personal', 249),\n ('yet', 248),\n ('makes', 247),\n ('always', 247),\n ('city', 247),\n ('From', 245),\n ('Latin', 245),\n ('So', 243),\n ('History', 242),\n ('position', 240),\n ('Gal', 240),\n ('mind', 239),\n ('similar', 237),\n ('written', 237),\n ('moral', 236),\n ('covenant', 236),\n ('course', 234),\n ('few', 234),\n ('living', 233),\n ('However', 232),\n ('movement', 232),\n ('woman', 229),\n ('children', 229),\n ('priest', 229),\n ('gave', 228),\n ('ways', 227),\n ('identity', 227),\n ('family', 227),\n ('went', 226),\n ('toward', 225),\n ('modern', 225),\n ('argument', 225),\n ('discussion', 224),\n ('kind', 224),\n ('authorities', 223),\n ('old', 221),\n ('ad', 221),\n ('term', 221),\n ('African', 221),\n ('perhaps', 220),\n ('London', 219),\n ('De', 219),\n ('once', 218),\n ('times', 218),\n ('fi', 218),\n ('Abraham', 218),\n ('ins', 218),\n ('go', 217),\n ('Rome', 217),\n ('According', 216),\n ('public', 216),\n ('right', 216),\n ('image', 215),\n ('act', 215),\n ('Scripture', 215),\n ('understood', 214),\n ('last', 214),\n ('pages', 214),\n ('reference', 213),\n ('evidence', 213),\n ('ancient', 212),\n ('saw', 211),\n ('evil', 211),\n ('put', 211),\n ('Theology', 211),\n ('reality', 209),\n ('und', 209),\n ('Saint', 209),\n ('land', 208),\n ('basis', 207),\n ('passage', 207),\n ('Apostle', 207),\n ('David', 207),\n ('group', 207),\n ('call', 206),\n ('based', 206),\n ('including', 206),\n ('live', 205),\n ('left', 205),\n ('period', 205),\n ('think', 205),\n ('Although', 205),\n ('How', 205),\n ('year', 205),\n ('hope', 204),\n ('problem', 204),\n ('Hebrews', 204),\n ('Moses', 204),\n ('baptism', 203),\n ('comes', 203),\n ('began', 203),\n ('matter', 202),\n ('although', 202),\n ('understand', 202),\n ('translation', 202),\n ('Hebrew', 202),\n ('revelation', 201),\n ('best', 201),\n ('received', 201),\n ('scholars', 201),\n ('society', 201),\n ('possible', 200),\n ('father', 199),\n ('cross', 199),\n ('nothing', 199),\n ('Journal', 199),\n ('almost', 199),\n ('ministry', 199),\n ('communion', 198),\n ('friend', 197),\n ('contemporary', 197),\n ('leaders', 197),\n ('Ibid', 196),\n ('Gentiles', 196),\n ('why', 195),\n ('commentary', 194),\n ('sources', 194),\n ('local', 194),\n ('communities', 194),\n ('support', 192),\n ('teaching', 191),\n ('believers', 191),\n ('story', 191),\n ('late', 191),\n ('mission', 191),\n ('worship', 191),\n ('having', 190),\n ('wrote', 190),\n ('third', 189),\n ('free', 189),\n ('help', 189),\n ('let', 189),\n ('four', 189),\n ('full', 189),\n ('situation', 188),\n ('earlier', 188),\n ('Studies', 188),\n ('status', 188),\n ('traditions', 187),\n ('doctrine', 187),\n ('particularly', 187),\n ('done', 186),\n ('earth', 186),\n ('traditional', 186),\n ('angels', 186),\n ('creation', 185),\n ('beyond', 185),\n ('kingdom', 185),\n ('considered', 185),\n ('states', 185),\n ('held', 185),\n ('clearly', 184),\n ('action', 184),\n ('relation', 183),\n ('simply', 183),\n ('private', 183),\n ('After', 183),\n ('trans', 182),\n ('First', 182),\n ('freedom', 182),\n ('attention', 182),\n ('tion', 181),\n ('ideas', 181),\n ('gives', 181),\n ('blood', 181),\n ('Philemon', 181),\n ('brother', 181),\n ('days', 181),\n ('white', 181),\n ('able', 180),\n ('house', 180),\n ('HTBP', 180),\n ('turn', 179),\n ('either', 179),\n ('necessary', 179),\n ('brought', 178),\n ('Books', 178),\n ('die', 177),\n ('forms', 175),\n ('alone', 175),\n ('Luther', 175),\n ('heaven', 175),\n ('argues', 175),\n ('son', 174),\n ('appears', 174),\n ('doing', 174),\n ('Thomas', 174),\n ('presence', 173),\n ('told', 173),\n ('beginning', 172),\n ('theory', 172),\n ('lives', 172),\n ('vol', 172),\n ('led', 171),\n ('conversion', 171),\n ('slaves', 171),\n ('influence', 171),\n ('material', 170),\n ('Oxford', 170),\n ('literature', 170),\n ('eg', 170),\n ('belief', 169),\n ('ever', 169),\n ('friends', 169),\n ('individual', 169),\n ('subject', 168),\n ('slave', 168),\n ('age', 167),\n ('vision', 167),\n ('around', 167),\n ('Some', 167),\n ('Bonaventure', 167),\n ('Yet', 166),\n ('She', 166),\n ('leadership', 166),\n ('Galatians', 165),\n ('established', 165),\n ('Book', 165),\n ('clergy', 165),\n ('wisdom', 165),\n ('Augustine', 165),\n ('process', 164),\n ('Therefore', 164),\n ('AND', 164),\n ('outside', 163),\n ('refers', 163),\n ('close', 163),\n ('Biblical', 163),\n ('groups', 163),\n ('asked', 162),\n ('side', 162),\n ('published', 162),\n ('high', 162),\n ('Africa', 162),\n ('believe', 161),\n ('collection', 161),\n ('volume', 161),\n ('writing', 161),\n ('faithful', 161),\n ('culture', 160),\n ('approach', 160),\n ('indeed', 160),\n ('World', 160),\n ('confession', 160),\n ('questions', 159),\n ('better', 159),\n ('article', 159),\n ('peace', 159),\n ('contrast', 159),\n ('longer', 159),\n ('return', 159),\n ('described', 159),\n ('chapters', 158),\n ('sent', 158),\n ('Zoroastrian', 158),\n ('final', 157),\n ('speak', 156),\n ('religions', 156),\n ('Society', 156),\n ('All', 156),\n ('throughout', 156),\n ('claim', 156),\n ('humanity', 156),\n ('perspective', 156),\n ('play', 156),\n ('mentioned', 155),\n ('apostle', 155),\n ('With', 155),\n ('suggests', 155),\n ('England', 155),\n ('head', 155),\n ('remained', 155),\n ('verse', 155),\n ('system', 155),\n ('Grand', 155),\n ('points', 154),\n ('instance', 154),\n ('latter', 154),\n ('rule', 154),\n ('Colossians', 154),\n ('friendship', 154),\n ('William', 154),\n ('character', 153),\n ('America', 153),\n ('la', 153),\n ('source', 153),\n ('Is', 153),\n ('Gentile', 153),\n ('sins', 152),\n ('resurrection', 152),\n ('Here', 152),\n ('Religious', 152),\n ('Early', 152),\n ('charity', 152),\n ('follow', 152),\n ('books', 151),\n ('saints', 151),\n ('country', 151),\n ('justice', 151),\n ('passages', 151),\n ('authors', 151),\n ('want', 150),\n ('ie', 150),\n ('des', 150),\n ('natural', 150),\n ('actions', 150),\n ('followed', 149),\n ('writings', 149),\n ('practices', 149),\n ('model', 149),\n ('sometimes', 149),\n ('Europe', 149),\n ('est', 149),\n ('regard', 148),\n ('receive', 148),\n ('interest', 148),\n ('issue', 148),\n ('young', 147),\n ('existence', 147),\n ('Reformation', 147),\n ('der', 147),\n ('show', 147),\n ('cultural', 147),\n ('probably', 147),\n ('mean', 146),\n ('believed', 146),\n ('persons', 146),\n ('sacred', 146),\n ('neither', 146),\n ('rest', 146),\n ('response', 146),\n ('disciples', 146),\n ('Christology', 146),\n ('followers', 145),\n ('provided', 145),\n ('recent', 145),\n ('note', 145),\n ('sons', 145),\n ('nations', 145),\n ('face', 144),\n ('quite', 144),\n ('heard', 144),\n ('section', 144),\n ('structure', 143),\n ('eschatological', 143),\n ('thing', 143),\n ('key', 143),\n ('noted', 143),\n ('making', 142),\n ('lived', 142),\n ('difficult', 142),\n ('food', 142),\n ('appear', 141),\n ('glory', 141),\n ('Matthew', 141),\n ('flesh', 140),\n ('emphasis', 140),\n ('message', 140),\n ('popular', 140),\n ('East', 140),\n ('phrase', 140),\n ('eyes', 140),\n ('Richard', 140),\n ('claims', 140),\n ('Bonaventures', 140),\n ('generally', 139),\n ('judgment', 139),\n ('preaching', 139),\n ('strong', 139),\n ('event', 139),\n ('Even', 139),\n ('You', 139),\n ('hands', 139),\n ('powers', 138),\n ('along', 138),\n ('expression', 138),\n ('unity', 138),\n ('relations', 138),\n ('No', 138),\n ('narrative', 138),\n ('Rapids', 138),\n ('concept', 137),\n ('saying', 137),\n ('becomes', 137),\n ('brothers', 137),\n ('Daniel', 137),\n ('Now', 137),\n ('Body', 137),\n ('cause', 137),\n ('central', 136),\n ('purpose', 136),\n ('home', 136),\n ('offer', 136),\n ('Mark', 136),\n ('introduction', 136),\n ('obedience', 136),\n ('next', 136),\n ('Lk', 136),\n ('Second', 136),\n ('Patrick', 136),\n ('significant', 135),\n ('developed', 135),\n ('ing', 135),\n ('coming', 135),\n ('centuries', 135),\n ('offered', 135),\n ('Commentary', 135),\n ('former', 134),\n ('original', 134),\n ('shows', 134),\n ('certainly', 134),\n ('force', 134),\n ('off', 134),\n ('institutions', 134),\n ('healing', 134),\n ('soon', 133),\n ('greater', 133),\n ('care', 133),\n ('Then', 133),\n ('priests', 133),\n ('water', 133),\n ('speaks', 132),\n ('bring', 132),\n ('town', 132),\n ('future', 131),\n ('statement', 131),\n ('continued', 131),\n ('development', 131),\n ('lay', 131),\n ('eds', 131),\n ('Pentecostal', 131),\n ('sought', 130),\n ('mystery', 130),\n ('Anna', 130),\n ('takes', 130),\n ('revealed', 130),\n ('en', 130),\n ('related', 129),\n ('liturgy', 129),\n ('readers', 129),\n ('issues', 129),\n ('small', 129),\n ('large', 128),\n ('beings', 128),\n ('Russian', 128),\n ('Great', 128),\n ('served', 128),\n ('Pp', 128),\n ('IN', 128),\n ('gift', 127),\n ('apocalyptic', 127),\n ('suffering', 127),\n ('Bernard', 127),\n ('figure', 126),\n ('Such', 126),\n ('included', 126),\n ('missionary', 126),\n ('king', 126),\n ('Its', 126),\n ('result', 126),\n ('wife', 126),\n ('events', 125),\n ('Faith', 125),\n ('specific', 125),\n ('Martin', 125),\n ('version', 125),\n ('speaking', 125),\n ('bishop', 125),\n ('Catholics', 125),\n ('prayers', 125),\n ('provide', 125),\n ('Literature', 125),\n ('Their', 124),\n ('Western', 124),\n ('ritual', 124),\n ('uses', 124),\n ('places', 124),\n ('black', 124),\n ('laws', 123),\n ('mercy', 123),\n ('real', 123),\n ('keep', 123),\n ('really', 123),\n ('change', 123),\n ('respect', 123),\n ('marriage', 123),\n ('justification', 122),\n ('lead', 122),\n ('today', 122),\n ('theme', 122),\n ('Dei', 122),\n ('war', 122),\n ('calls', 122),\n ('manner', 122),\n ('offers', 122),\n ('exegesis', 122),\n ('created', 122),\n ('Lords', 122),\n ('dead', 121),\n ('connection', 121),\n ('likely', 121),\n ('special', 121),\n ('My', 121),\n ('fellow', 121),\n ('died', 121),\n ('unto', 121),\n ('services', 121),\n ('HBP', 121),\n ('instead', 120),\n ('con', 120),\n ('main', 120),\n ('reader', 120),\n ('appeared', 119),\n ('Part', 119),\n ('evangelical', 119),\n ('analysis', 119),\n ('major', 119),\n ('follows', 119),\n ('NT', 119),\n ('get', 119),\n ('th', 118),\n ('title', 118),\n ('effect', 118),\n ('ask', 118),\n ('Jew', 118),\n ('concern', 118),\n ('views', 118),\n ('participation', 118),\n ('South', 118),\n ('literary', 118),\n ('desire', 118),\n ('suggest', 118),\n ('West', 117),\n ('towards', 117),\n ('studies', 117),\n ('share', 117),\n ('III', 117),\n ('Word', 117),\n ('open', 117),\n ('ST', 117),\n ('parts', 116),\n ('placed', 116),\n ('Study', 116),\n ('gifts', 116),\n ('bread', 116),\n ('prophets', 116),\n ('value', 115),\n ('criticism', 115),\n ('activity', 115),\n ('righteous', 115),\n ('Orthodox', 115),\n ('Joseph', 115),\n ('acts', 115),\n ('prophet', 115),\n ('honor', 115),\n ('debate', 115),\n ('giving', 114),\n ('Lutheran', 114),\n ('knew', 114),\n ('images', 114),\n ('focus', 114),\n ('doubt', 114),\n ('Social', 114),\n ('frequently', 114),\n ('Introduction', 114),\n ('lost', 113),\n ('scripture', 113),\n ('fear', 113),\n ('Col', 113),\n ('economic', 113),\n ('monastery', 112),\n ('presented', 112),\n ('struggle', 112),\n ('notes', 112),\n ('principle', 112),\n ('past', 112),\n ('felt', 112),\n ('Passover', 112),\n ('problems', 111),\n ('expressed', 111),\n ('learned', 111),\n ('single', 111),\n ('eternal', 111),\n ('concerning', 111),\n ('short', 111),\n ('apostles', 111),\n ('kings', 111),\n ('actually', 110),\n ('content', 110),\n ('significance', 110),\n ('enemies', 110),\n ('Charles', 110),\n ('leading', 110),\n ('involved', 110),\n ('etc', 110),\n ('re', 109),\n ('include', 109),\n ('State', 109),\n ('description', 109),\n ('shared', 109),\n ('Life', 108),\n ('heavenly', 108),\n ('liturgical', 108),\n ('European', 108),\n ('Mass', 108),\n ('seek', 108),\n ('voice', 108),\n ('Noah', 108),\n ('notion', 107),\n ('Gospels', 107),\n ('fully', 107),\n ('witness', 107),\n ('Paris', 107)]"
     },
     "execution_count": 110,
     "metadata": {},
     "output_type": "execute_result"
    }
   ],
   "source": [
    "data_unigrams_sorted[:1000]"
   ],
   "metadata": {
    "collapsed": false
   }
  },
  {
   "cell_type": "code",
   "execution_count": 111,
   "outputs": [],
   "source": [
    "# how many of the 100 most frequent unigrams are actually not stopwords?\n",
    "#len([el for el in data_unigrams_sorted[:100] if el[0].lower() not in stop_words])"
   ],
   "metadata": {
    "collapsed": false
   }
  },
  {
   "cell_type": "code",
   "execution_count": 113,
   "outputs": [
    {
     "data": {
      "text/plain": "7810"
     },
     "execution_count": 113,
     "metadata": {},
     "output_type": "execute_result"
    }
   ],
   "source": [
    "# what is the number of unigrams appearing more than 10 times?\n",
    "len([el for el in data_unigrams_sorted if el[1] > 10])"
   ],
   "metadata": {
    "collapsed": false
   }
  },
  {
   "cell_type": "code",
   "execution_count": 124,
   "outputs": [],
   "source": [
    "\n",
    "# use spacy to generate \"Doc\" object for ngram\n",
    "# (use carefully, takes some time)\n",
    "tags = [\"NOUN\", \"ADJ\", \"VERB\", \"PROPN\"]\n",
    "def get_lemma_filtered(string):\n",
    "    lemmata = \" \".join([t.lemma for t in nlp_stanza(string).sentences[0].words if t.pos in tags])\n",
    "    return lemmata"
   ],
   "metadata": {
    "collapsed": false
   }
  },
  {
   "cell_type": "code",
   "execution_count": 131,
   "outputs": [],
   "source": [
    "data_unigrams_lemmata = Counter()\n",
    "for el in data_unigrams_sorted:\n",
    "    if el[1] > 10:\n",
    "        lemmata_str = get_lemma_filtered(el[0])\n",
    "        if len(lemmata_str) > 1:\n",
    "            data_unigrams_lemmata.update({lemmata_str : el[1]})"
   ],
   "metadata": {
    "collapsed": false
   }
  },
  {
   "cell_type": "code",
   "execution_count": null,
   "outputs": [],
   "source": [],
   "metadata": {
    "collapsed": false
   }
  },
  {
   "cell_type": "code",
   "execution_count": null,
   "outputs": [],
   "source": [
    "data_unigrams = merge_data_from_ids(all, unigramCount_dict)\n",
    "len(data_unigrams)"
   ],
   "metadata": {
    "collapsed": false
   }
  },
  {
   "cell_type": "code",
   "execution_count": null,
   "outputs": [],
   "source": [
    "# check how raw unigrams look like\n",
    "data_unigrams_sorted = sorted(data_unigrams.items(), key=lambda kv: kv[1], reverse=True)\n",
    "data_unigrams_sorted[:1000]\n"
   ],
   "metadata": {
    "collapsed": false
   }
  },
  {
   "cell_type": "code",
   "execution_count": null,
   "outputs": [],
   "source": [],
   "metadata": {
    "collapsed": false
   }
  },
  {
   "cell_type": "code",
   "execution_count": null,
   "outputs": [],
   "source": [],
   "metadata": {
    "collapsed": false
   }
  },
  {
   "cell_type": "code",
   "execution_count": null,
   "outputs": [],
   "source": [],
   "metadata": {
    "collapsed": false
   }
  },
  {
   "cell_type": "code",
   "execution_count": null,
   "outputs": [],
   "source": [
    "[(el[0], {\"doc\" : get_lemma_filtered(el[0]), \"count\" : el[1]}) for el in data_unigrams_sorted if el[1] > 1000]"
   ],
   "metadata": {
    "collapsed": false
   }
  },
  {
   "cell_type": "code",
   "execution_count": 34,
   "outputs": [
    {
     "name": "stdout",
     "output_type": "stream",
     "text": [
      "CPU times: user 1min 12s, sys: 7.5 s, total: 1min 20s\n",
      "Wall time: 1min 21s\n"
     ]
    }
   ],
   "source": [
    "\n",
    "data_unigrams_sorted_nlp = [(el[0], {\"doc\" : get_lemma_filtered(el[0]), \"count\" : el[1]}) for el in data_unigrams_sorted if el[1] > 1000]\n",
    "\n",
    "#data_unigrams_sorted_nlp = [(el[0], {\"doc\" : nlp_stanza(el[0]), \"count\" : el[1]}) for el in data_unigrams_sorted if el[1] > 1000]"
   ],
   "metadata": {
    "collapsed": false
   }
  },
  {
   "cell_type": "code",
   "execution_count": 38,
   "outputs": [
    {
     "data": {
      "text/plain": "('G.',\n {'doc': [\n    [\n      {\n        \"id\": 1,\n        \"text\": \"G.\",\n        \"lemma\": \"G.\",\n        \"upos\": \"X\",\n        \"xpos\": \"ADD\",\n        \"head\": 0,\n        \"deprel\": \"root\",\n        \"start_char\": 0,\n        \"end_char\": 2,\n        \"ner\": \"O\",\n        \"multi_ner\": [\n          \"O\"\n        ]\n      }\n    ]\n  ],\n  'count': 1856})"
     },
     "execution_count": 38,
     "metadata": {},
     "output_type": "execute_result"
    }
   ],
   "source": [
    "data_unigrams_sorted_nlp[501]"
   ],
   "metadata": {
    "collapsed": false
   }
  },
  {
   "cell_type": "code",
   "execution_count": 15,
   "outputs": [
    {
     "data": {
      "text/plain": "[('the', {'doc': the, 'count': 3333595}),\n ('of', {'doc': of, 'count': 2261372}),\n ('and', {'doc': and, 'count': 1459413}),\n ('to', {'doc': to, 'count': 1228717}),\n ('in', {'doc': in, 'count': 1151878})]"
     },
     "execution_count": 15,
     "metadata": {},
     "output_type": "execute_result"
    }
   ],
   "source": [
    "data_unigrams_sorted_nlp[:5]"
   ],
   "metadata": {
    "collapsed": false
   }
  },
  {
   "cell_type": "code",
   "execution_count": 16,
   "outputs": [],
   "source": [
    "data_unigrams_nlp_dict = dict(data_unigrams_sorted_nlp)"
   ],
   "metadata": {
    "collapsed": false
   }
  },
  {
   "cell_type": "code",
   "execution_count": 17,
   "outputs": [],
   "source": [
    "# save for future usage\n",
    "with open(\"../data/large_files/data_unigrams_nlp_dict.pickle\", \"wb\") as f:\n",
    "    pickle.dump(data_unigrams_nlp_dict, f)"
   ],
   "metadata": {
    "collapsed": false
   }
  },
  {
   "cell_type": "code",
   "execution_count": 18,
   "outputs": [],
   "source": [
    "# remove middle-step data to save CPU...\n",
    "del data_unigrams\n",
    "del data_unigrams_sorted\n",
    "del data_unigrams_sorted_nlp"
   ],
   "metadata": {
    "collapsed": false
   }
  },
  {
   "cell_type": "markdown",
   "source": [
    "# Trigrams to nlp docs"
   ],
   "metadata": {
    "collapsed": false
   }
  },
  {
   "cell_type": "code",
   "execution_count": null,
   "outputs": [],
   "source": [
    "trigramCount_dict = pickle.load(open(\"../data/large_files/trigramCount_dict.pickle\", \"rb\"))"
   ],
   "metadata": {
    "collapsed": false
   }
  },
  {
   "cell_type": "code",
   "execution_count": null,
   "outputs": [],
   "source": [
    "#data_unigrams = merge_data_from_ids(ids, unigramCount_dict)\n",
    "#data_bigrams = merge_data_from_ids(ids, bigramCount_dict)\n",
    "data_trigrams = merge_data_from_ids(ids, trigramCount_dict)"
   ],
   "metadata": {
    "collapsed": false
   }
  },
  {
   "cell_type": "code",
   "execution_count": null,
   "outputs": [],
   "source": [
    "ids2 = [k for k in list(trigramCount_dict.keys()) if k not in ids]\n",
    "len(ids2)"
   ],
   "metadata": {
    "collapsed": false
   }
  },
  {
   "cell_type": "code",
   "execution_count": null,
   "outputs": [],
   "source": [
    "data_trigrams2 = merge_data_from_ids(ids2, trigramCount_dict)"
   ],
   "metadata": {
    "collapsed": false
   }
  },
  {
   "cell_type": "code",
   "execution_count": null,
   "outputs": [],
   "source": [
    "del trigramCount_dict"
   ],
   "metadata": {
    "collapsed": false
   }
  },
  {
   "cell_type": "code",
   "execution_count": null,
   "outputs": [],
   "source": [],
   "metadata": {
    "collapsed": false
   }
  },
  {
   "cell_type": "code",
   "execution_count": 11,
   "outputs": [
    {
     "data": {
      "text/plain": "458444"
     },
     "execution_count": 11,
     "metadata": {},
     "output_type": "execute_result"
    }
   ],
   "source": [
    "data_trigrams_sorted = sorted(data_trigrams.items(), key=lambda kv: kv[1], reverse=True)\n",
    "len([el for el in data_trigrams_sorted if el[1] > 10])"
   ],
   "metadata": {
    "collapsed": false
   }
  },
  {
   "cell_type": "code",
   "execution_count": 26,
   "outputs": [
    {
     "name": "stdout",
     "output_type": "stream",
     "text": [
      "CPU times: user 21min 37s, sys: 33.8 s, total: 22min 11s\n",
      "Wall time: 23min 14s\n"
     ]
    }
   ],
   "source": [
    "%%time\n",
    "data_trigrams_sorted_nlp = [(el[0], {\"doc\" : nlp(el[0]), \"count\" : el[1]}) for el in data_trigrams_sorted if el[1] > 10]"
   ],
   "metadata": {
    "collapsed": false
   }
  },
  {
   "cell_type": "code",
   "execution_count": 16,
   "outputs": [],
   "source": [
    "del data_trigrams_sorted"
   ],
   "metadata": {
    "collapsed": false
   }
  },
  {
   "cell_type": "code",
   "execution_count": 27,
   "outputs": [],
   "source": [
    "data_trigrams_nlp_dict = dict(data_trigrams_sorted_nlp)"
   ],
   "metadata": {
    "collapsed": false
   }
  },
  {
   "cell_type": "code",
   "execution_count": 28,
   "outputs": [],
   "source": [
    "with open(\"../data/large_files/data_trigrams_nlp_dict.pickle\", \"wb\") as f:\n",
    "    pickle.dump(data_trigrams_nlp_dict, f)"
   ],
   "metadata": {
    "collapsed": false
   }
  },
  {
   "cell_type": "markdown",
   "source": [
    "# Second round of merged trigrams nlp preprocessing"
   ],
   "metadata": {
    "collapsed": false
   }
  },
  {
   "cell_type": "code",
   "execution_count": 12,
   "outputs": [
    {
     "data": {
      "text/plain": "46627339"
     },
     "execution_count": 12,
     "metadata": {},
     "output_type": "execute_result"
    }
   ],
   "source": [
    "len(data_trigrams2)"
   ],
   "metadata": {
    "collapsed": false
   }
  },
  {
   "cell_type": "code",
   "execution_count": 42,
   "outputs": [],
   "source": [
    "data_trigrams2 = dict(data_trigrams2)"
   ],
   "metadata": {
    "collapsed": false
   }
  },
  {
   "cell_type": "code",
   "execution_count": 13,
   "outputs": [
    {
     "data": {
      "text/plain": "458444"
     },
     "execution_count": 13,
     "metadata": {},
     "output_type": "execute_result"
    }
   ],
   "source": [
    "keys1 = [el[0] for el in data_trigrams.items() if el[1] > 10]\n",
    "len(keys1)"
   ],
   "metadata": {
    "collapsed": false
   }
  },
  {
   "cell_type": "code",
   "execution_count": 22,
   "outputs": [],
   "source": [
    "del data_trigrams"
   ],
   "metadata": {
    "collapsed": false
   }
  },
  {
   "cell_type": "code",
   "execution_count": 14,
   "outputs": [
    {
     "data": {
      "text/plain": "774574"
     },
     "execution_count": 14,
     "metadata": {},
     "output_type": "execute_result"
    }
   ],
   "source": [
    "keys2 = [el[0] for el in data_trigrams2.items() if el[1] > 10]\n",
    "len(keys2) #  [el[0] for el in data_trigrams2_filtered]"
   ],
   "metadata": {
    "collapsed": false
   }
  },
  {
   "cell_type": "code",
   "execution_count": 15,
   "outputs": [
    {
     "data": {
      "text/plain": "342693"
     },
     "execution_count": 15,
     "metadata": {},
     "output_type": "execute_result"
    }
   ],
   "source": [
    "keys2_filtered = list((set(keys2) ^ set(keys1)) & set(keys2))\n",
    "len(keys2_filtered)"
   ],
   "metadata": {
    "collapsed": false
   }
  },
  {
   "cell_type": "code",
   "execution_count": 31,
   "outputs": [],
   "source": [
    "del nlp"
   ],
   "metadata": {
    "collapsed": false
   }
  },
  {
   "cell_type": "code",
   "execution_count": 32,
   "outputs": [
    {
     "name": "stdout",
     "output_type": "stream",
     "text": [
      "hello\n"
     ]
    }
   ],
   "source": [
    "print(\"hello\")"
   ],
   "metadata": {
    "collapsed": false
   }
  },
  {
   "cell_type": "code",
   "execution_count": 39,
   "outputs": [],
   "source": [
    "pickle.dump(keys2_filtered, open(\"../data/large_files/keys2_filtered.pickle\", \"wb\"))\n",
    "pickle.dump(data_trigrams2, open(\"../data/large_files/data_trigrams2.pickle\", \"wb\"))"
   ],
   "metadata": {
    "collapsed": false
   }
  },
  {
   "cell_type": "code",
   "execution_count": 40,
   "outputs": [
    {
     "data": {
      "text/plain": "46627339"
     },
     "execution_count": 40,
     "metadata": {},
     "output_type": "execute_result"
    }
   ],
   "source": [
    "len(data_trigrams2)"
   ],
   "metadata": {
    "collapsed": false
   }
  },
  {
   "cell_type": "code",
   "execution_count": 43,
   "outputs": [
    {
     "name": "stdout",
     "output_type": "stream",
     "text": [
      "0\n",
      "5000\n",
      "10000\n",
      "15000\n",
      "20000\n",
      "25000\n",
      "30000\n",
      "35000\n",
      "40000\n",
      "45000\n",
      "50000\n",
      "55000\n",
      "60000\n",
      "65000\n",
      "70000\n",
      "75000\n",
      "80000\n",
      "85000\n",
      "90000\n",
      "95000\n",
      "100000\n",
      "105000\n",
      "110000\n",
      "115000\n",
      "120000\n",
      "125000\n",
      "130000\n",
      "135000\n",
      "140000\n",
      "145000\n",
      "150000\n",
      "155000\n",
      "160000\n",
      "165000\n",
      "170000\n",
      "175000\n",
      "180000\n",
      "185000\n",
      "190000\n",
      "195000\n",
      "200000\n",
      "205000\n",
      "210000\n",
      "215000\n",
      "220000\n",
      "225000\n",
      "230000\n",
      "235000\n",
      "240000\n",
      "245000\n",
      "250000\n",
      "255000\n",
      "260000\n",
      "265000\n",
      "270000\n",
      "275000\n",
      "280000\n",
      "285000\n",
      "290000\n",
      "295000\n",
      "300000\n",
      "305000\n",
      "310000\n",
      "315000\n",
      "320000\n",
      "325000\n",
      "330000\n",
      "335000\n",
      "340000\n",
      "CPU times: user 285 ms, sys: 286 ms, total: 572 ms\n",
      "Wall time: 839 ms\n"
     ]
    }
   ],
   "source": [
    "%%time\n",
    "data_trigrams2_filtered = []\n",
    "n = 0\n",
    "for el in keys2_filtered:\n",
    "    if n in range(0, len(keys2_filtered), 5000):\n",
    "        print(n)\n",
    "    n += 1\n",
    "    data_trigrams2_filtered.append((el, data_trigrams2[el]))"
   ],
   "metadata": {
    "collapsed": false
   }
  },
  {
   "cell_type": "code",
   "execution_count": 44,
   "outputs": [
    {
     "data": {
      "text/plain": "342693"
     },
     "execution_count": 44,
     "metadata": {},
     "output_type": "execute_result"
    }
   ],
   "source": [
    "len(data_trigrams2_filtered)"
   ],
   "metadata": {
    "collapsed": false
   }
  },
  {
   "cell_type": "code",
   "execution_count": 46,
   "outputs": [],
   "source": [
    "pickle.dump(data_trigrams2_filtered, open(\"../data/large_files/data_trigrams2_filtered.pickle\", \"wb\"))"
   ],
   "metadata": {
    "collapsed": false
   }
  },
  {
   "cell_type": "code",
   "execution_count": 47,
   "outputs": [],
   "source": [
    "nlp = spacy.load('en_core_web_lg')"
   ],
   "metadata": {
    "collapsed": false
   }
  },
  {
   "cell_type": "code",
   "execution_count": 48,
   "outputs": [
    {
     "name": "stdout",
     "output_type": "stream",
     "text": [
      "0\n",
      "5000\n",
      "10000\n",
      "15000\n",
      "20000\n",
      "25000\n",
      "30000\n",
      "35000\n",
      "40000\n",
      "45000\n",
      "50000\n",
      "55000\n",
      "60000\n",
      "65000\n",
      "70000\n",
      "75000\n",
      "80000\n",
      "85000\n",
      "90000\n",
      "95000\n",
      "100000\n",
      "105000\n",
      "110000\n",
      "115000\n",
      "120000\n",
      "125000\n",
      "130000\n",
      "135000\n",
      "140000\n",
      "145000\n",
      "150000\n",
      "155000\n",
      "160000\n",
      "165000\n",
      "170000\n",
      "175000\n",
      "180000\n",
      "185000\n",
      "190000\n",
      "195000\n",
      "200000\n",
      "205000\n",
      "210000\n",
      "215000\n",
      "220000\n",
      "225000\n",
      "230000\n",
      "235000\n",
      "240000\n",
      "245000\n",
      "250000\n",
      "255000\n",
      "260000\n",
      "265000\n",
      "270000\n",
      "275000\n",
      "280000\n",
      "285000\n",
      "290000\n",
      "295000\n",
      "300000\n",
      "305000\n",
      "310000\n",
      "315000\n",
      "320000\n",
      "325000\n",
      "330000\n",
      "335000\n",
      "340000\n",
      "CPU times: user 14min 25s, sys: 14.3 s, total: 14min 39s\n",
      "Wall time: 14min 44s\n"
     ]
    }
   ],
   "source": [
    "%%time\n",
    "data_trigrams2_nlp_tups = []\n",
    "n = 0\n",
    "for el in data_trigrams2_filtered:\n",
    "    if n in range(0, len(data_trigrams2_filtered), 5000):\n",
    "        print(n)\n",
    "    n += 1\n",
    "    data_trigrams2_nlp_tups.append((el[0], {\"doc\" : nlp(el[0]), \"count\" : el[1]}))"
   ],
   "metadata": {
    "collapsed": false
   }
  },
  {
   "cell_type": "code",
   "execution_count": 49,
   "outputs": [],
   "source": [
    "pickle.dump(dict(data_trigrams2_nlp_tups), open(\"../data/large_files/data_trigrams2_nlp_dict.pickle\", \"wb\"))"
   ],
   "metadata": {
    "collapsed": false
   }
  },
  {
   "cell_type": "code",
   "execution_count": null,
   "outputs": [],
   "source": [],
   "metadata": {
    "collapsed": false
   }
  },
  {
   "cell_type": "code",
   "execution_count": null,
   "outputs": [],
   "source": [],
   "metadata": {
    "collapsed": false
   }
  },
  {
   "cell_type": "code",
   "execution_count": null,
   "outputs": [],
   "source": [],
   "metadata": {
    "collapsed": false
   }
  }
 ],
 "metadata": {
  "kernelspec": {
   "name": "mops_venv_kernel",
   "language": "python",
   "display_name": "mops_venv_kernel"
  },
  "language_info": {
   "codemirror_mode": {
    "name": "ipython",
    "version": 2
   },
   "file_extension": ".py",
   "mimetype": "text/x-python",
   "name": "python",
   "nbconvert_exporter": "python",
   "pygments_lexer": "ipython2",
   "version": "2.7.6"
  }
 },
 "nbformat": 4,
 "nbformat_minor": 0
}
