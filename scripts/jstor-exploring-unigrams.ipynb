{
 "cells": [
  {
   "cell_type": "code",
   "execution_count": null,
   "outputs": [],
   "source": [
    "import pandas as pd\n",
    "import pickle\n",
    "pd.set_option(\"display.max_columns\", None)\n",
    "from collections import Counter\n",
    "import spacy"
   ],
   "metadata": {
    "collapsed": false,
    "pycharm": {
     "name": "#%%\n"
    }
   }
  },
  {
   "cell_type": "code",
   "execution_count": null,
   "outputs": [],
   "source": [
    "# to communicate with google spreadsheet...\n",
    "import gspread\n",
    "from gspread_dataframe import get_as_dataframe\n",
    "from gspread_dataframe import set_with_dataframe\n",
    "from google.oauth2 import service_account # based on google-auth library\n",
    "import sddk\n",
    "\n",
    "s = sddk.cloudSession(\"sciencedata.dk\")\n",
    "# establish connection with gogglesheets...\n",
    "file_data = s.read_file(\"https://sciencedata.dk/files/ServiceAccountsKey.json\", \"dict\") # or load it from a local storage: json.load(open(\"../../ServiceAccountsKey.json\", \"r\"))\n",
    "credentials = service_account.Credentials.from_service_account_info(file_data)\n",
    "gc = gspread.Client(auth=credentials.with_scopes(['https://spreadsheets.google.com/feeds', 'https://www.googleapis.com/auth/drive']))\n",
    "mops_data = gc.open_by_url(\"https://docs.google.com/spreadsheets/d/1VbCIAJssHKV9hlRTwzVFfm40CGnHesq53KXjv2qy4OM/edit?usp=sharing\")"
   ],
   "metadata": {
    "collapsed": false,
    "pycharm": {
     "name": "#%%\n"
    }
   }
  },
  {
   "cell_type": "code",
   "execution_count": null,
   "outputs": [],
   "source": [
    "jstor_df = pd.read_feather(\"../data/large_files/jstor_df_v1.feather\")"
   ],
   "metadata": {
    "collapsed": false,
    "pycharm": {
     "name": "#%%\n"
    }
   }
  },
  {
   "cell_type": "code",
   "execution_count": null,
   "outputs": [],
   "source": [
    "unigramCount_dict = pickle.load(open(\"../data/large_files/unigramCount_cleaned_dict.pickle\", \"rb\"))"
   ],
   "metadata": {
    "collapsed": false,
    "pycharm": {
     "name": "#%%\n"
    }
   }
  },
  {
   "cell_type": "code",
   "execution_count": null,
   "outputs": [],
   "source": [
    "list(unigramCount_dict.items())[0][1]"
   ],
   "metadata": {
    "collapsed": false,
    "pycharm": {
     "name": "#%%\n"
    }
   }
  },
  {
   "cell_type": "code",
   "execution_count": null,
   "outputs": [],
   "source": [
    "# manual test\n",
    "col = \"publicationYear\"\n",
    "matchstring = \"==1951\"\n",
    "eval('jstor_df[jstor_df[\"{0}\"]{1}]'.format(col, matchstring))[\"id\"].tolist()"
   ],
   "metadata": {
    "collapsed": false,
    "pycharm": {
     "name": "#%%\n"
    }
   }
  },
  {
   "cell_type": "code",
   "execution_count": null,
   "outputs": [],
   "source": [
    "def ids_from_colvals(df_name, col, matchstring):\n",
    "    ids = eval('{0}[{0}[\"{1}\"]{2}]'.format(df_name, col, matchstring))[\"id\"].tolist()\n",
    "    return ids"
   ],
   "metadata": {
    "collapsed": false,
    "pycharm": {
     "name": "#%%\n"
    }
   }
  },
  {
   "cell_type": "code",
   "execution_count": null,
   "outputs": [],
   "source": [
    "# test with function...\n",
    "len(ids_from_colvals(\"jstor_df\", \"publicationYear\", \".between(1920, 1929)\"))"
   ],
   "metadata": {
    "collapsed": false,
    "pycharm": {
     "name": "#%%\n"
    }
   }
  },
  {
   "cell_type": "code",
   "execution_count": null,
   "outputs": [],
   "source": [],
   "metadata": {
    "collapsed": false,
    "pycharm": {
     "name": "#%%\n"
    }
   }
  },
  {
   "cell_type": "code",
   "execution_count": null,
   "outputs": [],
   "source": [
    "def merge_data_from_ids(ids, datadict):\n",
    "    c = Counter()\n",
    "    for id in ids:\n",
    "        d = datadict[id]\n",
    "        c.update(d)\n",
    "    return c"
   ],
   "metadata": {
    "collapsed": false,
    "pycharm": {
     "name": "#%%\n"
    }
   }
  },
  {
   "cell_type": "code",
   "execution_count": null,
   "outputs": [],
   "source": [
    "def get_tops(df_name, col, matchstring, n=10):\n",
    "    ids = ids_from_colvals(df_name, col, matchstring)\n",
    "    c = merge_data_from_ids(ids, unigramCount_dict)\n",
    "    c_tups = [el for el in c.items() if el[0] != \"\"]\n",
    "    top10 = sorted(c_tups, key=lambda kv: kv[1], reverse=True)[:n]\n",
    "    return top10"
   ],
   "metadata": {
    "collapsed": false,
    "pycharm": {
     "name": "#%%\n"
    }
   }
  },
  {
   "cell_type": "code",
   "execution_count": null,
   "outputs": [],
   "source": [
    "decades = []\n",
    "for decade_n in range(0,10):\n",
    "    decades.append(\"19{0}0,19{0}9\".format(str(decade_n)))\n",
    "decades += [\"2000,2009\", \"2010,2019\"]\n",
    "decades"
   ],
   "metadata": {
    "collapsed": false,
    "pycharm": {
     "name": "#%%\n"
    }
   }
  },
  {
   "cell_type": "code",
   "execution_count": null,
   "outputs": [],
   "source": [
    "def pct_frequency(df_name, col, matchstring, wordlist):\n",
    "    ids = ids_from_colvals(df_name, col, matchstring)\n",
    "    jstor_df_subset = eval('{0}[{0}[\"id\"].isin(ids)]'.format(df_name))\n",
    "    totalwords = jstor_df_subset[\"wordCount\"].sum()\n",
    "    c = merge_data_from_ids(ids, unigramCount_dict)\n",
    "    wordlist_data = {}\n",
    "    for word in wordlist:\n",
    "        word_pct_frequency = (c[word] / totalwords) * 100\n",
    "        wordlist_data[word] = word_pct_frequency\n",
    "    return wordlist_data"
   ],
   "metadata": {
    "collapsed": false,
    "pycharm": {
     "name": "#%%\n"
    }
   }
  },
  {
   "cell_type": "code",
   "execution_count": null,
   "outputs": [],
   "source": [
    "data = []\n",
    "for decade_n in decades:\n",
    "    decade_data = {\"decade\" : decade}\n",
    "    decade_data.update(pct_frequency(\"jstor_df\", \"publicationYear\", \".between({0})\".format(decade), [\"God\", \"Paul\", \"Jesus\", \"Christ\"]))\n",
    "    data.append(decade_data)"
   ],
   "metadata": {
    "collapsed": false,
    "pycharm": {
     "name": "#%%\n"
    }
   }
  },
  {
   "cell_type": "code",
   "execution_count": null,
   "outputs": [],
   "source": [
    "pd.DataFrame(data)"
   ],
   "metadata": {
    "collapsed": false,
    "pycharm": {
     "name": "#%%\n"
    }
   }
  },
  {
   "cell_type": "code",
   "execution_count": null,
   "outputs": [],
   "source": [
    "words = [\"social\", \"gender\", \"Sanders\"]\n",
    "data = []\n",
    "for decade in decades:\n",
    "    decade_data = {\"decade\" : decade}\n",
    "    decade_data.update(pct_frequency(\"jstor_df\", \"publicationYear\", \".between({0})\".format(decade), words))\n",
    "    data.append(decade_data)\n",
    "data_df = pd.DataFrame(data)\n",
    "data_df\n"
   ],
   "metadata": {
    "collapsed": false,
    "pycharm": {
     "name": "#%%\n"
    }
   }
  },
  {
   "cell_type": "code",
   "execution_count": null,
   "outputs": [],
   "source": [
    "ax = data_df.plot()\n",
    "ax.set_xticks(range(len(data_df)))\n",
    "ax.set_xticklabels(data_df[\"decade\"].tolist(), rotation=90)"
   ],
   "metadata": {
    "collapsed": false,
    "pycharm": {
     "name": "#%%\n"
    }
   }
  },
  {
   "cell_type": "code",
   "execution_count": null,
   "outputs": [],
   "source": [
    "words = [\"authenticity\", \"authentic\"]\n",
    "data = []\n",
    "for decade in decades:\n",
    "    decade_data = {\"decade\" : decade}\n",
    "    decade_data.update(pct_frequency(\"jstor_df\", \"publicationYear\", \".between({0})\".format(decade), words))\n",
    "    data.append(decade_data)\n",
    "data_df = pd.DataFrame(data)\n",
    "data_df\n",
    "\n",
    "ax = data_df.plot()\n",
    "ax.set_xticks(range(len(data_df)))\n",
    "ax.set_xticklabels(data_df[\"decade\"].tolist(), rotation=90)"
   ],
   "metadata": {
    "collapsed": false,
    "pycharm": {
     "name": "#%%\n"
    }
   }
  },
  {
   "cell_type": "code",
   "execution_count": null,
   "outputs": [],
   "source": [
    "jstor_articles = jstor_df[jstor_df[\"docType\"]==\"article\"]\n",
    "len(jstor_articles)"
   ],
   "metadata": {
    "collapsed": false,
    "pycharm": {
     "name": "#%%\n"
    }
   }
  },
  {
   "cell_type": "code",
   "execution_count": null,
   "outputs": [],
   "source": [
    "words = [\"scientific\", \"sociology\", \"anthropology\", \"psychology\", \"postmodern\", \"interdisciplinary\"]\n",
    "data = []\n",
    "for decade in decades:\n",
    "    decade_data = {\"decade\" : decade}\n",
    "    decade_data.update(pct_frequency(\"jstor_articles\", \"publicationYear\", \".between({0})\".format(decade), words))\n",
    "    data.append(decade_data)\n",
    "data_df = pd.DataFrame(data)\n",
    "data_df\n",
    "\n",
    "ax = data_df.plot()\n",
    "ax.set_xticks(range(len(data_df)))\n",
    "ax.set_xticklabels(data_df[\"decade\"].tolist(), rotation=90)"
   ],
   "metadata": {
    "collapsed": false,
    "pycharm": {
     "name": "#%%\n"
    }
   }
  },
  {
   "cell_type": "code",
   "execution_count": null,
   "outputs": [],
   "source": [
    "words = [\"Durkheim\", \"Freud\", \"Jung\", \"Marx\", \"Darwin\", \"Spencer\"]\n",
    "data = []\n",
    "for decade_n in range(0,10):\n",
    "    decade = \"19{0}0,19{0}9\".format(str(decade_n))\n",
    "    decade_data = {\"decade\" : decade}\n",
    "    decade_data.update(pct_frequency(\"jstor_articles\", \"publicationYear\", \".between({0})\".format(decade), words))\n",
    "    data.append(decade_data)\n",
    "data_df = pd.DataFrame(data)\n",
    "data_df\n",
    "\n",
    "ax = data_df.plot()\n",
    "ax.set_xticks(range(len(data_df)))\n",
    "ax.set_xticklabels(data_df[\"decade\"].tolist(), rotation=90)"
   ],
   "metadata": {
    "collapsed": false,
    "pycharm": {
     "name": "#%%\n"
    }
   }
  },
  {
   "cell_type": "markdown",
   "source": [
    "# Exploring interest in science in the 20s"
   ],
   "metadata": {
    "collapsed": false,
    "pycharm": {
     "name": "#%% md\n"
    }
   }
  },
  {
   "cell_type": "code",
   "execution_count": null,
   "outputs": [],
   "source": [
    "# test with function...\n",
    "ids = ids_from_colvals(\"jstor_df\", \"publicationYear\", \".between(1920, 1929)\")\n",
    "jstor_1920 = jstor_df[jstor_df[\"id\"].isin(ids)]\n",
    "jstor_1920.head(20)"
   ],
   "metadata": {
    "collapsed": false,
    "pycharm": {
     "name": "#%%\n"
    }
   }
  },
  {
   "cell_type": "code",
   "execution_count": null,
   "outputs": [],
   "source": [
    "set_with_dataframe(mops_data.add_worksheet(\"jstor_1920\", 1,1), jstor_1920)"
   ],
   "metadata": {
    "collapsed": false,
    "pycharm": {
     "name": "#%%\n"
    }
   }
  },
  {
   "cell_type": "code",
   "execution_count": null,
   "outputs": [],
   "source": [
    "jstor_df[jstor_df[\"id\"].isin(ids)][]\n"
   ],
   "metadata": {
    "collapsed": false,
    "pycharm": {
     "name": "#%%\n"
    }
   }
  },
  {
   "cell_type": "code",
   "execution_count": null,
   "outputs": [],
   "source": [
    "decades += [\"2000,2009\", \"2010,2019\"]"
   ],
   "metadata": {
    "collapsed": false,
    "pycharm": {
     "name": "#%%\n"
    }
   }
  },
  {
   "cell_type": "code",
   "execution_count": null,
   "outputs": [],
   "source": [
    "words = [\"doctrine\", \"doctrinal\", \"dogma\", \"dogmatic\", \"theology\", \"theological\"]\n",
    "data = []\n",
    "for decade_n in range(0,10):\n",
    "    decade = \"19{0}0,19{0}9\".format(str(decade_n))\n",
    "    decade_data = {\"decade\" : decade}\n",
    "    decade_data.update(pct_frequency(\"jstor_articles\", \"publicationYear\", \".between({0})\".format(decade), words))\n",
    "    data.append(decade_data)\n",
    "data_df = pd.DataFrame(data)\n",
    "data_df\n",
    "\n",
    "ax = data_df.plot()\n",
    "ax.set_xticks(range(len(data_df)))\n",
    "ax.set_xticklabels(data_df[\"decade\"].tolist(), rotation=90)"
   ],
   "metadata": {
    "collapsed": false,
    "pycharm": {
     "name": "#%%\n"
    }
   }
  },
  {
   "cell_type": "code",
   "execution_count": null,
   "outputs": [],
   "source": [],
   "metadata": {
    "collapsed": false,
    "pycharm": {
     "name": "#%%\n"
    }
   }
  },
  {
   "cell_type": "code",
   "execution_count": null,
   "outputs": [],
   "source": [
    "# test with function...\n",
    "ids = ids_from_colvals(\"jstor_df\", \"publicationYear\", \".between(1930, 1939)\")\n",
    "jstor_1930 = jstor_df[jstor_df[\"id\"].isin(ids)]\n",
    "jstor_1930.head(20)\n"
   ],
   "metadata": {
    "collapsed": false,
    "pycharm": {
     "name": "#%%\n"
    }
   }
  },
  {
   "cell_type": "code",
   "execution_count": null,
   "outputs": [],
   "source": [
    "set_with_dataframe(mops_data.add_worksheet(\"jstor_1930\", 1,1), jstor_1930)"
   ],
   "metadata": {
    "collapsed": false,
    "pycharm": {
     "name": "#%%\n"
    }
   }
  },
  {
   "cell_type": "code",
   "execution_count": null,
   "outputs": [],
   "source": [
    "jstor_df[jstor_df[\"isPartOf\"]==\"The Muslim World\"][\"title\"]"
   ],
   "metadata": {
    "collapsed": false,
    "pycharm": {
     "name": "#%%\n"
    }
   }
  },
  {
   "cell_type": "code",
   "execution_count": null,
   "outputs": [],
   "source": [
    "words = [\"theory\", \"theoretical\", \"explanation\", \"interpretation\", \"method\", \"methodology\", \"methodological\"]\n",
    "data = []\n",
    "for decade in decades:\n",
    "    decade_data = {\"decade\" : decade}\n",
    "    decade_data.update(pct_frequency(\"jstor_articles\", \"publicationYear\", \".between({0})\".format(decade), words))\n",
    "    data.append(decade_data)\n",
    "data_df = pd.DataFrame(data)\n",
    "data_df\n",
    "\n",
    "ax = data_df.plot()\n",
    "ax.set_xticks(range(len(data_df)))\n",
    "ax.set_xticklabels(data_df[\"decade\"].tolist(), rotation=90)"
   ],
   "metadata": {
    "collapsed": false,
    "pycharm": {
     "name": "#%%\n"
    }
   }
  },
  {
   "cell_type": "code",
   "execution_count": null,
   "outputs": [],
   "source": [],
   "metadata": {
    "collapsed": false,
    "pycharm": {
     "name": "#%%\n"
    }
   }
  }
 ],
 "metadata": {
  "kernelspec": {
   "display_name": "Python 3",
   "language": "python",
   "name": "python3"
  },
  "language_info": {
   "codemirror_mode": {
    "name": "ipython",
    "version": 2
   },
   "file_extension": ".py",
   "mimetype": "text/x-python",
   "name": "python",
   "nbconvert_exporter": "python",
   "pygments_lexer": "ipython2",
   "version": "2.7.6"
  }
 },
 "nbformat": 4,
 "nbformat_minor": 0
}