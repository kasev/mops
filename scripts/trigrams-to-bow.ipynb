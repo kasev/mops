{
 "cells": [
  {
   "cell_type": "code",
   "execution_count": 1,
   "outputs": [],
   "source": [
    "import pandas as pd\n",
    "import pickle\n",
    "import numpy as np\n",
    "from collections import Counter\n",
    "from gensim import corpora\n",
    "import re\n",
    "import json"
   ],
   "metadata": {
    "collapsed": false,
    "pycharm": {
     "name": "#%%\n"
    }
   }
  },
  {
   "cell_type": "code",
   "execution_count": 2,
   "outputs": [],
   "source": [
    "jstor_df = pd.read_feather(\"../data/large_files/jstor_df_v1.feather\")"
   ],
   "metadata": {
    "collapsed": false,
    "pycharm": {
     "name": "#%%\n"
    }
   }
  },
  {
   "cell_type": "code",
   "execution_count": 3,
   "outputs": [],
   "source": [
    "trigramCount_cleaned_dict = pickle.load(open(\"../data/large_files/trigramCount_cleaned_dict.pickle\", \"rb\"))"
   ],
   "metadata": {
    "collapsed": false,
    "pycharm": {
     "name": "#%%\n"
    }
   }
  },
  {
   "cell_type": "code",
   "execution_count": 4,
   "outputs": [],
   "source": [
    "collocation_replacements = json.load(open(\"../data/collocation_replacements.json\"))\n",
    "collocations_keys = list(collocation_replacements.keys())"
   ],
   "metadata": {
    "collapsed": false,
    "pycharm": {
     "name": "#%%\n"
    }
   }
  },
  {
   "cell_type": "code",
   "execution_count": 5,
   "outputs": [],
   "source": [
    "to_replace = json.load(open(\"../data/to_replace.json\"))\n",
    "to_replace_keys = list(to_replace.keys())"
   ],
   "metadata": {
    "collapsed": false,
    "pycharm": {
     "name": "#%%\n"
    }
   }
  },
  {
   "cell_type": "code",
   "execution_count": 6,
   "outputs": [
    {
     "data": {
      "text/plain": "'church Jesus'"
     },
     "execution_count": 6,
     "metadata": {},
     "output_type": "execute_result"
    }
   ],
   "source": [
    "key = \"Church\"\n",
    "re.sub(key, to_replace[key], \"Church Jesus\")"
   ],
   "metadata": {
    "collapsed": false,
    "pycharm": {
     "name": "#%%\n"
    }
   }
  },
  {
   "cell_type": "code",
   "execution_count": 7,
   "outputs": [
    {
     "data": {
      "text/plain": "['saint', 'station', 'Thessalonians']"
     },
     "execution_count": 7,
     "metadata": {},
     "output_type": "execute_result"
    }
   ],
   "source": [
    "trigram_string = \"St station Thess\"\n",
    "trigram_string_split = trigram_string.split()\n",
    "for key in to_replace_keys:\n",
    "    if key in trigram_string:\n",
    "        trigram_string_split = [to_replace[w] if w==key else w for w in trigram_string_split]\n",
    "trigram_string_split"
   ],
   "metadata": {
    "collapsed": false,
    "pycharm": {
     "name": "#%%\n"
    }
   }
  },
  {
   "cell_type": "code",
   "execution_count": 8,
   "outputs": [],
   "source": [
    "def clean_trigram_string(trigram_string):\n",
    "    trigram_string_split = trigram_string.split()\n",
    "    if re.search(\"\\D\\d\", trigram_string):\n",
    "        trigram_string_split = [re.sub(\"\\d+\", \"\", w) for w in trigram_string_split]\n",
    "    for key in to_replace_keys:\n",
    "        if key in trigram_string:\n",
    "            trigram_string_split = [to_replace[w] if w==key else w for w in trigram_string_split]\n",
    "    trigram_string = \" \".join(trigram_string_split)\n",
    "    for key in collocations_keys:\n",
    "        key_split = key.split()\n",
    "        if (key_split[0] in trigram_string) & (key_split[1] in trigram_string):\n",
    "            trigram_string = re.sub(key_split[0], collocation_replacements[key], trigram_string.replace(key_split[1], \"\"))\n",
    "    return trigram_string"
   ],
   "metadata": {
    "collapsed": false,
    "pycharm": {
     "name": "#%%\n"
    }
   }
  },
  {
   "cell_type": "code",
   "execution_count": 9,
   "outputs": [
    {
     "data": {
      "text/plain": "'Murphy_Oconnor name Romans '"
     },
     "execution_count": 9,
     "metadata": {},
     "output_type": "execute_result"
    }
   ],
   "source": [
    "trigram_string = \"Murphy name112 Rom7 Oconnor\"\n",
    "clean_trigram_string(trigram_string)"
   ],
   "metadata": {
    "collapsed": false,
    "pycharm": {
     "name": "#%%\n"
    }
   }
  },
  {
   "cell_type": "code",
   "execution_count": 10,
   "outputs": [
    {
     "data": {
      "text/plain": "'Old_Testament  text'"
     },
     "execution_count": 10,
     "metadata": {},
     "output_type": "execute_result"
    }
   ],
   "source": [
    "trigram_string = \"Old Testament text\"\n",
    "clean_trigram_string(trigram_string)"
   ],
   "metadata": {
    "collapsed": false,
    "pycharm": {
     "name": "#%%\n"
    }
   }
  },
  {
   "cell_type": "code",
   "execution_count": 11,
   "outputs": [
    {
     "data": {
      "text/plain": "'Old_Testament  text'"
     },
     "execution_count": 11,
     "metadata": {},
     "output_type": "execute_result"
    }
   ],
   "source": [
    "trigram_string = \"Ot text\"\n",
    "clean_trigram_string(trigram_string)"
   ],
   "metadata": {
    "collapsed": false,
    "pycharm": {
     "name": "#%%\n"
    }
   }
  },
  {
   "cell_type": "markdown",
   "source": [
    "# Preprocesing for embeddings etc.\n"
   ],
   "metadata": {
    "collapsed": false,
    "pycharm": {
     "name": "#%% md\n"
    }
   }
  },
  {
   "cell_type": "code",
   "execution_count": 12,
   "outputs": [],
   "source": [
    "unigrams_merged_cleaned = pickle.load(open(\"../data/large_files/unigrams_merged_cleaned.pickle\", \"rb\"))"
   ],
   "metadata": {
    "collapsed": false,
    "pycharm": {
     "name": "#%%\n"
    }
   }
  },
  {
   "cell_type": "code",
   "execution_count": 13,
   "outputs": [
    {
     "data": {
      "text/plain": "871634"
     },
     "execution_count": 13,
     "metadata": {},
     "output_type": "execute_result"
    }
   ],
   "source": [
    "#\n",
    "types_N = len(unigrams_merged_cleaned)\n",
    "types_N"
   ],
   "metadata": {
    "collapsed": false,
    "pycharm": {
     "name": "#%%\n"
    }
   }
  },
  {
   "cell_type": "code",
   "execution_count": 14,
   "outputs": [
    {
     "data": {
      "text/plain": "64389234"
     },
     "execution_count": 14,
     "metadata": {},
     "output_type": "execute_result"
    }
   ],
   "source": [
    "tokens_N = sum([tup[1] for tup in unigrams_merged_cleaned.items()])\n",
    "tokens_N"
   ],
   "metadata": {
    "collapsed": false,
    "pycharm": {
     "name": "#%%\n"
    }
   }
  },
  {
   "cell_type": "code",
   "execution_count": 15,
   "outputs": [
    {
     "data": {
      "text/plain": "41385"
     },
     "execution_count": 15,
     "metadata": {},
     "output_type": "execute_result"
    }
   ],
   "source": [
    "threshold = 50\n",
    "unigrams_merged_thresh = dict([tup for tup in unigrams_merged_cleaned.items() if tup[1] >= threshold])\n",
    "types_N_thres = len(unigrams_merged_thresh)\n",
    "types_N_thres"
   ],
   "metadata": {
    "collapsed": false,
    "pycharm": {
     "name": "#%%\n"
    }
   }
  },
  {
   "cell_type": "code",
   "execution_count": 16,
   "outputs": [
    {
     "data": {
      "text/plain": "61468846"
     },
     "execution_count": 16,
     "metadata": {},
     "output_type": "execute_result"
    }
   ],
   "source": [
    "tokens_N_thres = sum([tup[1] for tup in unigrams_merged_thresh.items()])\n",
    "tokens_N_thres"
   ],
   "metadata": {
    "collapsed": false,
    "pycharm": {
     "name": "#%%\n"
    }
   }
  },
  {
   "cell_type": "code",
   "execution_count": 17,
   "outputs": [
    {
     "name": "stdout",
     "output_type": "stream",
     "text": [
      "4.75\n",
      "95.46\n"
     ]
    }
   ],
   "source": [
    "print(np.round(types_N_thres / types_N * 100, 2))\n",
    "print(np.round(tokens_N_thres / tokens_N * 100, 2))"
   ],
   "metadata": {
    "collapsed": false,
    "pycharm": {
     "name": "#%%\n"
    }
   }
  },
  {
   "cell_type": "code",
   "execution_count": 18,
   "outputs": [
    {
     "data": {
      "text/plain": "[('God', 540049),\n ('Paul', 412645),\n ('church', 384560),\n ('Christian', 322497),\n ('new', 297469),\n ('Jesus', 285583),\n ('Christ', 275021),\n ('work', 210300),\n ('man', 200756),\n ('book', 197991)]"
     },
     "execution_count": 18,
     "metadata": {},
     "output_type": "execute_result"
    }
   ],
   "source": [
    "unigrams_sorted_tups = sorted(list(unigrams_merged_thresh.items()), key = lambda tup: tup[1], reverse=True)\n",
    "unigrams_sorted_tups[:10]"
   ],
   "metadata": {
    "collapsed": false,
    "pycharm": {
     "name": "#%%\n"
    }
   }
  },
  {
   "cell_type": "code",
   "execution_count": 19,
   "outputs": [
    {
     "data": {
      "text/plain": "[('God', 540049),\n ('Paul', 412645),\n ('church', 384560),\n ('Christian', 322497),\n ('new', 297469),\n ('Jesus', 285583),\n ('Christ', 275021),\n ('work', 210300),\n ('man', 200756),\n ('book', 197991)]"
     },
     "execution_count": 19,
     "metadata": {},
     "output_type": "execute_result"
    }
   ],
   "source": [
    "unigrams_sorted_tups = sorted(list(unigrams_merged_thresh.items()), key = lambda tup: tup[1], reverse=True)\n",
    "unigrams_sorted_tups[:10]"
   ],
   "metadata": {
    "collapsed": false,
    "pycharm": {
     "name": "#%%\n"
    }
   }
  },
  {
   "cell_type": "code",
   "execution_count": 22,
   "outputs": [],
   "source": [
    "pickle.dump(unigrams_sorted_tups, open(\"../data/freqs_tups.pickle\", \"wb\"))"
   ],
   "metadata": {
    "collapsed": false,
    "pycharm": {
     "name": "#%%\n"
    }
   }
  },
  {
   "cell_type": "code",
   "execution_count": 22,
   "outputs": [
    {
     "data": {
      "text/plain": "[('esus', 331)]"
     },
     "execution_count": 22,
     "metadata": {},
     "output_type": "execute_result"
    }
   ],
   "source": [
    "nonewords = [\"esus\"]\n",
    "[tup for tup in unigrams_sorted_tups if tup[0] in nonewords]"
   ],
   "metadata": {
    "collapsed": false,
    "pycharm": {
     "name": "#%%\n"
    }
   }
  },
  {
   "cell_type": "code",
   "execution_count": 20,
   "outputs": [],
   "source": [
    "vocabulary = [tup[0] for tup in unigrams_sorted_tups]"
   ],
   "metadata": {
    "collapsed": false,
    "pycharm": {
     "name": "#%%\n"
    }
   }
  },
  {
   "cell_type": "code",
   "execution_count": 21,
   "outputs": [
    {
     "data": {
      "text/plain": "['God',\n 'Paul',\n 'church',\n 'Christian',\n 'new',\n 'Jesus',\n 'Christ',\n 'work',\n 'man',\n 'book',\n 'time',\n 'life',\n 'use',\n 'text',\n 'word',\n 'come',\n 'people',\n 'way',\n 'world',\n 'gospel',\n 'study',\n 'John',\n 'mean',\n 'faith',\n 'Spirit',\n 'write',\n 'law',\n 'letter',\n 'find',\n 'know',\n 'century',\n 'Jewish',\n 'history',\n 'Testament',\n 'place',\n 'good',\n 'human',\n 'understand',\n 'woman',\n 'theology',\n 'great',\n 'religious',\n 'read',\n 'act',\n 'lord',\n 'saint',\n 'point',\n 'tradition',\n 'live',\n 'love',\n 'university',\n 'community',\n 'chapter',\n 'follow',\n 'Romans',\n 'think',\n 'religion',\n 'press',\n 'power',\n 'present',\n 'thing',\n 'question',\n 'form',\n 'view',\n 'holy',\n 'biblical',\n 'state',\n 'son',\n 'father',\n 'year',\n 'order',\n 'day',\n 'note',\n 'old',\n 'second',\n 'christianity',\n 'death',\n 'speak',\n 'bible',\n 'scripture',\n 'author',\n 'theological',\n 'divine',\n 'example',\n 'sin',\n 'term',\n 'body',\n 'include',\n 'end',\n 'interpretation',\n 'jew',\n 'accord',\n 'need',\n 'social',\n 'fact',\n 'apostle',\n 'historical',\n 'sense',\n 'person',\n 'Roman',\n 'Israel',\n 'bring',\n 'case',\n 'Corinthians',\n 'argue',\n 'Mark',\n 'believe',\n 'hand',\n 'greek',\n 'experience',\n 'practice',\n 'context',\n 'teach',\n 'Luke',\n 'die',\n 'passage',\n 'offer',\n 'nature',\n 'story',\n 'catholic',\n 'provide',\n 'spiritual',\n 'king',\n 'appear',\n 'lead',\n 'child',\n 'different',\n 'concern',\n 'society',\n 'true',\n 'regard',\n 'claim',\n 'mission',\n 'set',\n 'language',\n 'issue',\n 'refer',\n 'group',\n 'reader',\n 'begin',\n 'account',\n 'authority',\n 'receive',\n 'important',\n 'Peter',\n 'ancient',\n 'suggest',\n 'reason',\n 'source',\n 'scholar',\n 'American',\n 'commentary',\n 'number',\n 'York',\n 'reference',\n 'Augustine',\n 'bishop',\n 'prayer',\n 'describe',\n 'gentile',\n 'idea',\n 'city',\n 'light',\n 'self',\n 'consider',\n 'truth',\n 'remain',\n 'turn',\n 'leave',\n 'judaism',\n 'member',\n 'change',\n 'hold',\n 'volume',\n 'argument',\n 'discussion',\n 'relationship',\n 'soul',\n 'Temple',\n 'James',\n 'Hebrew',\n 'salvation',\n 'translation',\n 'doctrine',\n 'matter',\n 'literature',\n 'clear',\n 'bear',\n 'London',\n 'particular',\n 'Jerusalem',\n 'general',\n 'mind',\n 'heart',\n 'grace',\n 'role',\n 'problem',\n 'approach',\n 'evidence',\n 'common',\n 'tell',\n 'prophet',\n 'image',\n 'look',\n 'continue',\n 'narrative',\n 'seek',\n 'Cambridge',\n 'serve',\n 'Matthew',\n 'movement',\n 'political',\n 'period',\n 'modern',\n 'family',\n 'hope',\n 'school',\n 'stand',\n 'essay',\n 'mention',\n 'preach',\n 'priest',\n 'age',\n 'culture',\n 'revelation',\n 'let',\n 'hear',\n 'open',\n 'subject',\n 'worship',\n 'ask',\n 'certain',\n 'missionary',\n 'individual',\n 'kingdom',\n 'draw',\n 'promise',\n 'Rome',\n 'brother',\n 'knowledge',\n 'course',\n 'little',\n 'verse',\n 'ministry',\n 'support',\n 'writing',\n 'event',\n 'Pauline',\n 'result',\n 'influence',\n 'explain',\n 'possible',\n 'want',\n 'high',\n 'identity',\n 'help',\n 'resurrection',\n 'creation',\n 'position',\n 'kind',\n 'relation',\n 'return',\n 'David',\n 'English',\n 'focus',\n 'der',\n 'cross',\n 'address',\n 'development',\n 'house',\n 'rule',\n 'attempt',\n 'original',\n 'create',\n 'suffer',\n 'evil',\n 'page',\n 'section',\n 'fall',\n 'earth',\n 'purpose',\n 'believer',\n 'council',\n 'corinthian',\n 'introduction',\n 'action',\n 'free',\n 'heaven',\n 'nation',\n 'learn',\n 'war',\n 'vol',\n 'epistle',\n 'material',\n 'journal',\n 'review',\n 'share',\n 'base',\n 'establish',\n 'reveal',\n 'witness',\n 'beginning',\n 'belief',\n 'accept',\n 'relate',\n 'land',\n 'figure',\n 'theme',\n 'line',\n 'gift',\n 'article',\n 'moral',\n 'service',\n 'Oxford',\n 'add',\n 'represent',\n 'lie',\n 'Thomas',\n 'sermon',\n 'perspective',\n 'large',\n 'send',\n 'cause',\n 'Abraham',\n 'contemporary',\n 'force',\n 'express',\n 'slave',\n 'public',\n 'contain',\n 'face',\n 'paper',\n 'statement',\n 'vision',\n 'desire',\n 'future',\n 'tion',\n 'disciple',\n 'Moses',\n 'develop',\n 'covenant',\n 'identify',\n 'und',\n 'character',\n 'meet',\n 'answer',\n 'black',\n 'similar',\n 'baptism',\n 'student',\n 'Luther',\n 'feel',\n 'leader',\n 'wisdom',\n 'theory',\n 'protestant',\n 'allow',\n 'version',\n 'critical',\n 'dead',\n 'origin',\n 'judgment',\n 'discuss',\n 'literary',\n 'conclusion',\n 'mother',\n 'presence',\n 'attention',\n 'flesh',\n 'structure',\n 'young',\n 'date',\n 'interpret',\n 'concept',\n 'interest',\n 'function',\n 'cite',\n 'principle',\n 'analysis',\n 'reality',\n 'process',\n 'reflect',\n 'college',\n 'baptist',\n 'raise',\n 'marriage',\n 'personal',\n 'publish',\n 'build',\n 'response',\n 'conversion',\n 'final',\n 'contrast',\n 'deal',\n 'conclude',\n 'indicate',\n 'choose',\n 'able',\n 'save',\n 'cultural',\n 'difference',\n 'require',\n 'detail',\n 'value',\n 'psalm',\n 'today',\n 'rise',\n 'peace',\n 'challenge',\n 'expression',\n 'unity',\n 'title',\n 'situation',\n 'William',\n 'model',\n 'latin',\n 'message',\n 'exist',\n 'element',\n 'recognize',\n 'justice',\n 'sacrifice',\n 'traditional',\n 'aspect',\n 'phrase',\n 'white',\n 'evangelical',\n 'translate',\n 'poor',\n 'collection',\n 'sign',\n 'involve',\n 'grand',\n 'glory',\n 'research',\n 'debate',\n 'strong',\n 'ground',\n 'direct',\n 'wife',\n 'activity',\n 'friend',\n 'head',\n 'recent',\n 'list',\n 'galatian',\n 'england',\n 'home',\n 'try',\n 'assume',\n 'freedom',\n 'necessary',\n 'play',\n 'voice',\n 'respect',\n 'command',\n 'fear',\n 'effect',\n 'exegesis',\n 'minister',\n 'lose',\n 'belong',\n 'Origen',\n 'Adam',\n 'writer',\n 'congregation',\n 'pass',\n 'edition',\n 'America',\n 'basis',\n 'ritual',\n 'occur',\n 'theologian',\n 'New_Testament',\n 'Joseph',\n 'sacred',\n 'Mary',\n 'natural',\n 'central',\n 'rest',\n 'series',\n 'judge',\n 'african',\n 'parallel',\n 'eye',\n 'happen',\n 'angel',\n 'document',\n 'righteousness',\n 'produce',\n 'real',\n 'report',\n 'apply',\n 'grow',\n 'criticism',\n 'status',\n 'empire',\n 'teacher',\n 'carry',\n 'method',\n 'system',\n 'local',\n 'small',\n 'rapid',\n 'enter',\n 'key',\n 'education',\n 'demonstrate',\n 'instance',\n 'complete',\n 'wish',\n 'observe',\n 'short',\n 'Jews',\n 'emphasis',\n 'single',\n 'major',\n 'scholarship',\n 'edit',\n 'discourse',\n 'special',\n 'separate',\n 'western',\n 'addition',\n 'convert',\n 'care',\n 'existence',\n 'lack',\n 'Genesis',\n 'connection',\n 'level',\n 'audience',\n 'canon',\n 'break',\n 'pray',\n 'link',\n 'humanity',\n 'engage',\n 'notion',\n 'Richard',\n 'record',\n 'maintain',\n 'significant',\n 'content',\n 'condition',\n 'importance',\n 'art',\n 'effort',\n 'virtue',\n 'Messiah',\n 'country',\n 'pastor',\n 'teaching',\n 'reject',\n 'middle',\n 'Smith',\n 'apostolic',\n 'comment',\n 'philosophy',\n 'blood',\n 'bless',\n 'speech',\n 'Philippians',\n 'ibid',\n 'expect',\n 'master',\n 'doubt',\n 'german',\n 'reach',\n 'eternal',\n 'examine',\n 'faithful',\n 'servant',\n 'intend',\n 'imply',\n 'main',\n 'Robert',\n 'specific',\n 'water',\n 'introduce',\n 'manuscript',\n 'honor',\n 'quote',\n 'distinction',\n 'define',\n 'mystery',\n 'Matt',\n 'South',\n 'Isaiah',\n 'brief',\n 'prove',\n 'Pope',\n 'conflict',\n 'possibility',\n 'justification',\n 'apocalyptic',\n 'type',\n 'center',\n 'Torah',\n 'reading',\n 'significance',\n 'contribution',\n 'manner',\n 'difficult',\n 'limit',\n 'Martin',\n 'compare',\n 'associate',\n 'association',\n 'emphasize',\n 'start',\n 'dialogue',\n 'medieval',\n 'Thessalonians',\n 'eat',\n 'demand',\n 'pagan',\n 'ethic',\n 'eschatological',\n 'entire',\n 'appeal',\n 'grant',\n 'root',\n 'Ps',\n 'deep',\n 'agree',\n 'praise',\n 'deny',\n 'treat',\n 'union',\n 'emperor',\n 'shape',\n 'attitude',\n 'library',\n 'task',\n 'rich',\n 'visit',\n 'institution',\n 'area',\n 'pattern',\n 'opinion',\n 'birth',\n 'north',\n 'description',\n 'generation',\n 'slavery',\n 'plan',\n 'United',\n 'enemy',\n 'feature',\n 'confession',\n 'struggle',\n 'control',\n 'government',\n 'west',\n 'national',\n 'East',\n 'proper',\n 'background',\n 'male',\n 'treatment',\n 'topic',\n 'preacher',\n 'Michael',\n 'pastoral',\n 'field',\n 'class',\n 'thinking',\n 'reflection',\n 'seminary',\n 'object',\n 'basic',\n 'foundation',\n 'guide',\n 'Calvin',\n 'declare',\n 'distinguish',\n 'female',\n 'office',\n 'emerge',\n 'food',\n 'sea',\n 'sacrament',\n 'rhetorical',\n 'moment',\n 'cult',\n 'heal',\n 'fail',\n 'space',\n 'perfect',\n 'insight',\n 'join',\n 'professor',\n 'fourth',\n 'race',\n 'preserve',\n 'employ',\n 'aim',\n 'imperial',\n 'follower',\n 'explore',\n 'memory',\n 'martyr',\n 'run',\n 'trinity',\n 'extend',\n 'prophecy',\n 'blessing',\n 'Philadelphia',\n 'prepare',\n 'physical',\n 'Orthodox',\n 'non',\n 'pay',\n 'Rev',\n 'right',\n 'arise',\n 'exercise',\n 'rhetoric',\n 'encounter',\n 'muslim',\n 'popular',\n 'George',\n 'style',\n 'standard',\n 'early',\n 'increase',\n 'oppose',\n 'rabbinic',\n 'publication',\n 'divide',\n 'Africa',\n 'charge',\n 'acknowledge',\n 'Daniel',\n 'reviews',\n 'false',\n 'passion',\n 'category',\n 'Charles',\n 'liturgical',\n 'commandment',\n 'mercy',\n 'attribute',\n 'determine',\n 'obedience',\n 'occasion',\n 'interesting',\n 'christology',\n 'render',\n 'bad',\n 'science',\n 'justify',\n 'cover',\n 'universal',\n 'insist',\n 'current',\n 'von',\n 'explanation',\n 'half',\n 'liturgy',\n 'prophetic',\n 'Jerome',\n 'economic',\n 'constitute',\n 'radical',\n 'correct',\n 'parable',\n 'fire',\n 'gal',\n 'court',\n 'adopt',\n 'avoid',\n 'proclaim',\n 'tran',\n 'academic',\n 'reform',\n 'politic',\n 'fortress',\n 'Gregory',\n 'leadership',\n 'international',\n 'primary',\n 'bind',\n 'implication',\n 'civil',\n 'antiquity',\n 'Gen',\n 'van',\n 'remember',\n 'southern',\n 'miracle',\n 'assert',\n 'possess',\n 'concerned',\n 'Paris',\n 'gather',\n 'sister',\n 'decision',\n 'song',\n 'essential',\n 'reformation',\n 'appropriate',\n 'ideal',\n 'Jacob',\n 'communion',\n 'exegetical',\n 'metaphor',\n 'conference',\n 'connect',\n 'instruction',\n 'perform',\n 'print',\n 'gain',\n 'project',\n 'Egypt',\n 'destroy',\n 'quotation',\n 'stage',\n 'historian',\n 'violence',\n 'Galatians',\n 'hermeneutic',\n 'philo',\n 'respond',\n 'talk',\n 'job',\n 'fill',\n 'transformation',\n 'righteous',\n 'range',\n 'Timothy',\n 'benefit',\n 'derive',\n 'discipline',\n 'step',\n 'affirm',\n 'picture',\n 'secular',\n 'suppose',\n 'attack',\n 'lay',\n 'deliver',\n 'devil',\n 'fit',\n 'strike',\n 'scriptural',\n 'clergy',\n 'husband',\n 'low',\n 'trust',\n 'scholarly',\n 'fundamental',\n 'propose',\n 'Old_Testament',\n 'hellenistic',\n 'information',\n 'hide',\n 'symbol',\n 'sexual',\n 'degree',\n 'admit',\n 'goal',\n 'rabbi',\n 'synagogue',\n 'advance',\n 'transform',\n 'monk',\n 'stress',\n 'ephesian',\n 'June',\n 'encourage',\n 'simple',\n 'Islam',\n 'editor',\n 'persecution',\n 'contrary',\n 'circumcision',\n 'inspire',\n 'eastern',\n 'meaning',\n 'consequence',\n 'sinner',\n 'ecumenical',\n 'survey',\n 'scroll',\n 'thou',\n 'Clark',\n 'copy',\n 'textual',\n 'difficulty',\n 'ecclesiastical',\n 'thesis',\n 'assumption',\n 'powerful',\n 'duty',\n 'ment',\n 'remark',\n 'era',\n 'parent',\n 'available',\n 'conception',\n 'useful',\n 'marry',\n 'legal',\n 'testimony',\n 'previous',\n 'organization',\n 'tend',\n 'exile',\n 'interpreter',\n 'fellow',\n 'household',\n 'characteristic',\n 'journey',\n 'philosophical',\n 'responsibility',\n 'deed',\n 'punishment',\n 'official',\n 'definition',\n 'commit',\n 'intellectual',\n 'sound',\n 'defend',\n 'trace',\n 'discover',\n 'virgin',\n 'assembly',\n 'stone',\n 'verb',\n 'eerdman',\n 'Chicago',\n 'formation',\n 'institute',\n 'town',\n 'extent',\n 'Qumran',\n 'mass',\n 'rite',\n 'sit',\n 'hymn',\n 'Henry',\n 'March',\n 'opponent',\n 'conduct',\n 'apocalypse',\n 'travel',\n 'direction',\n 'evangelist',\n 'attend',\n 'sake',\n 'messianic',\n 'variety',\n 'positive',\n 'appearance',\n 'measure',\n 'consist',\n 'Josephus',\n 'kill',\n 'private',\n 'treatise',\n 'choice',\n 'access',\n 'impossible',\n 'illustrate',\n 'table',\n 'joy',\n 'shift',\n 'canonical',\n 'reception',\n 'achieve',\n 'party',\n 'night',\n 'complex',\n 'deity',\n 'indian',\n 'resource',\n 'strength',\n 'walk',\n 'embrace',\n 'realize',\n 'lutheran',\n 'comparison',\n 'sure',\n 'tree',\n 'condemn',\n 'Iii',\n 'bread',\n 'imagine',\n 'sentence',\n 'earthly',\n 'Europe',\n 'depend',\n 'ethical',\n 'refuse',\n 'ruler',\n 'familiar',\n 'participate',\n 'baptize',\n ...]"
     },
     "execution_count": 21,
     "metadata": {},
     "output_type": "execute_result"
    }
   ],
   "source": [],
   "metadata": {
    "collapsed": false,
    "pycharm": {
     "name": "#%%\n"
    }
   }
  },
  {
   "cell_type": "code",
   "execution_count": null,
   "outputs": [],
   "source": [],
   "metadata": {
    "collapsed": false,
    "pycharm": {
     "name": "#%%\n"
    }
   }
  },
  {
   "cell_type": "code",
   "execution_count": null,
   "outputs": [],
   "source": [],
   "metadata": {
    "collapsed": false,
    "pycharm": {
     "name": "#%%\n"
    }
   }
  },
  {
   "cell_type": "code",
   "execution_count": 186,
   "outputs": [],
   "source": [
    "dictionary = corpora.Dictionary([vocabulary])"
   ],
   "metadata": {
    "collapsed": false,
    "pycharm": {
     "name": "#%%\n"
    }
   }
  },
  {
   "cell_type": "code",
   "execution_count": 187,
   "outputs": [
    {
     "data": {
      "text/plain": "2605"
     },
     "execution_count": 187,
     "metadata": {},
     "output_type": "execute_result"
    }
   ],
   "source": [
    "dictionary.token2id[\"Christ\"]"
   ],
   "metadata": {
    "collapsed": false,
    "pycharm": {
     "name": "#%%\n"
    }
   }
  },
  {
   "cell_type": "code",
   "execution_count": 188,
   "outputs": [
    {
     "data": {
      "text/plain": "41385"
     },
     "execution_count": 188,
     "metadata": {},
     "output_type": "execute_result"
    }
   ],
   "source": [
    "len(dictionary)"
   ],
   "metadata": {
    "collapsed": false,
    "pycharm": {
     "name": "#%%\n"
    }
   }
  },
  {
   "cell_type": "code",
   "execution_count": 189,
   "outputs": [],
   "source": [
    "pickle.dump(dictionary, open(\"../data/dictionary_main.pickle\", \"wb\"))"
   ],
   "metadata": {
    "collapsed": false,
    "pycharm": {
     "name": "#%%\n"
    }
   }
  },
  {
   "cell_type": "code",
   "execution_count": 190,
   "outputs": [
    {
     "data": {
      "text/plain": "[(2605, 1), (6506, 1)]"
     },
     "execution_count": 190,
     "metadata": {},
     "output_type": "execute_result"
    }
   ],
   "source": [
    "dictionary.doc2bow([\"Jesus\", \"Christ\", \"nonsenseword\"])"
   ],
   "metadata": {
    "collapsed": false,
    "pycharm": {
     "name": "#%%\n"
    }
   }
  },
  {
   "cell_type": "code",
   "execution_count": 191,
   "outputs": [
    {
     "name": "stdout",
     "output_type": "stream",
     "text": [
      "['Christ', 'Jesus', 'Paul']\n"
     ]
    }
   ],
   "source": [
    "trigram_string = \"Christ Jesus Paul\"\n",
    "trigram_string_split = trigram_string.split()\n",
    "print(trigram_string_split)"
   ],
   "metadata": {
    "collapsed": false,
    "pycharm": {
     "name": "#%%\n"
    }
   }
  },
  {
   "cell_type": "code",
   "execution_count": 192,
   "outputs": [
    {
     "data": {
      "text/plain": "[(2605, 1), (6506, 1), (10963, 1)]"
     },
     "execution_count": 192,
     "metadata": {},
     "output_type": "execute_result"
    }
   ],
   "source": [
    "trigram_string = \"Christ Jesus rom23\"\n",
    "doc = dictionary.doc2bow(clean_trigram_string(trigram_string).split())\n",
    "doc"
   ],
   "metadata": {
    "collapsed": false,
    "pycharm": {
     "name": "#%%\n"
    }
   }
  },
  {
   "cell_type": "code",
   "execution_count": 193,
   "outputs": [
    {
     "data": {
      "text/plain": "[(6506, 1), (9235, 1)]"
     },
     "execution_count": 193,
     "metadata": {},
     "output_type": "execute_result"
    }
   ],
   "source": [
    "trigram_string = \"Jesus12 New Testament\"\n",
    "doc = dictionary.doc2bow(clean_trigram_string(trigram_string).split())\n",
    "doc"
   ],
   "metadata": {
    "collapsed": false,
    "pycharm": {
     "name": "#%%\n"
    }
   }
  },
  {
   "cell_type": "code",
   "execution_count": 194,
   "outputs": [
    {
     "data": {
      "text/plain": "[('Jesus', 1), ('New_Testament', 1)]"
     },
     "execution_count": 194,
     "metadata": {},
     "output_type": "execute_result"
    }
   ],
   "source": [
    "[(dictionary[tup[0]], tup[1]) for tup in doc]"
   ],
   "metadata": {
    "collapsed": false,
    "pycharm": {
     "name": "#%%\n"
    }
   }
  },
  {
   "cell_type": "code",
   "execution_count": 195,
   "outputs": [
    {
     "data": {
      "text/plain": "[(2605, 1), (6506, 2)]"
     },
     "execution_count": 195,
     "metadata": {},
     "output_type": "execute_result"
    }
   ],
   "source": [
    "dictionary.doc2bow([\"Jesus\", \"Jesus\", \"Christ\"])"
   ],
   "metadata": {
    "collapsed": false,
    "pycharm": {
     "name": "#%%\n"
    }
   }
  },
  {
   "cell_type": "markdown",
   "source": [
    "# generate bows data for individual articles and save them one by one"
   ],
   "metadata": {
    "collapsed": false,
    "pycharm": {
     "name": "#%% md\n"
    }
   }
  },
  {
   "cell_type": "code",
   "execution_count": 196,
   "outputs": [],
   "source": [
    "article_ids_dict = dict(zip(trigramCount_cleaned_dict.keys(), range(len(trigramCount_cleaned_dict))))"
   ],
   "metadata": {
    "collapsed": false,
    "pycharm": {
     "name": "#%%\n"
    }
   }
  },
  {
   "cell_type": "code",
   "execution_count": 197,
   "outputs": [
    {
     "data": {
      "text/plain": "[('ark://27927/phx66812gq6', 0),\n ('ark://27927/pbd6fpf5fh', 1),\n ('ark://27927/phw1kd8s300', 2),\n ('ark://27927/phx64fptrwj', 3),\n ('ark://27927/phx64k1x5c2', 4),\n ('ark://27927/phx64fkrk6m', 5),\n ('http://www.jstor.org/stable/43052718', 6),\n ('ark://27927/phx68d6dm3t', 7),\n ('ark://27927/pbd934r3jr', 8),\n ('ark://27927/phx2t1wjwnt', 9)]"
     },
     "execution_count": 197,
     "metadata": {},
     "output_type": "execute_result"
    }
   ],
   "source": [
    "list(article_ids_dict.items())[:10]"
   ],
   "metadata": {
    "collapsed": false,
    "pycharm": {
     "name": "#%%\n"
    }
   }
  },
  {
   "cell_type": "code",
   "execution_count": 198,
   "outputs": [],
   "source": [
    "pickle.dump(article_ids_dict, open(\"../data/article_ids_dict.pickle\", \"wb\"))"
   ],
   "metadata": {
    "collapsed": false,
    "pycharm": {
     "name": "#%%\n"
    }
   }
  },
  {
   "cell_type": "code",
   "execution_count": 199,
   "outputs": [
    {
     "name": "stdout",
     "output_type": "stream",
     "text": [
      "500\n",
      "1000\n",
      "1500\n",
      "2000\n",
      "2500\n",
      "3000\n",
      "3500\n",
      "4000\n",
      "4500\n",
      "5000\n",
      "5500\n",
      "6000\n",
      "6500\n",
      "7000\n",
      "7500\n",
      "8000\n",
      "8500\n",
      "9000\n",
      "9500\n",
      "10000\n",
      "10500\n",
      "11000\n",
      "11500\n",
      "12000\n",
      "12500\n",
      "13000\n",
      "13500\n",
      "14000\n",
      "CPU times: user 14min 20s, sys: 1min 18s, total: 15min 39s\n",
      "Wall time: 16min 35s\n"
     ]
    }
   ],
   "source": [
    "%%time\n",
    "checkers = range(500, len(trigramCount_cleaned_dict), 500)\n",
    "trigramCount_bows = {}\n",
    "for id, data in list(trigramCount_cleaned_dict.items()):\n",
    "    data = dict([(clean_trigram_string(trigram), count) for trigram, count in data.items() if len(trigram.split()) > 1])\n",
    "    data_bows = []\n",
    "    for trigram, count in data.items():\n",
    "        bow = dictionary.doc2bow(trigram.split())\n",
    "        if len(bow) > 1:\n",
    "            data_bows.extend([bow] * count)\n",
    "    simple_id = article_ids_dict[id]\n",
    "    pickle.dump(data_bows, open(\"../data/large_files/article_docs/\" + str(simple_id) + \".pickle\", \"wb\"))\n",
    "    if simple_id in checkers:\n",
    "        print(simple_id)"
   ],
   "metadata": {
    "collapsed": false,
    "pycharm": {
     "name": "#%%\n"
    }
   }
  },
  {
   "cell_type": "code",
   "execution_count": null,
   "outputs": [],
   "source": [],
   "metadata": {
    "collapsed": false,
    "pycharm": {
     "name": "#%%\n"
    }
   }
  }
 ],
 "metadata": {
  "kernelspec": {
   "name": "mops_venv",
   "language": "python",
   "display_name": "mops_venv"
  },
  "language_info": {
   "codemirror_mode": {
    "name": "ipython",
    "version": 2
   },
   "file_extension": ".py",
   "mimetype": "text/x-python",
   "name": "python",
   "nbconvert_exporter": "python",
   "pygments_lexer": "ipython2",
   "version": "2.7.6"
  }
 },
 "nbformat": 4,
 "nbformat_minor": 0
}