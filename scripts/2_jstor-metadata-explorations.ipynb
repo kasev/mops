{
 "cells": [
  {
   "cell_type": "code",
   "metadata": {
    "collapsed": true,
    "ExecuteTime": {
     "end_time": "2025-03-04T19:35:16.245370Z",
     "start_time": "2025-03-04T19:35:15.071507Z"
    }
   },
   "source": [
    "import pandas as pd\n",
    "import pickle\n",
    "pd.set_option(\"display.max_columns\", None)\n",
    "from collections import Counter\n",
    "import spacy\n",
    "import google_conf\n",
    "import math\n",
    "import matplotlib\n",
    "import matplotlib.pyplot as plt\n",
    "import json"
   ],
   "outputs": [],
   "execution_count": 1
  },
  {
   "cell_type": "code",
   "source": "mops_data = google_conf.setup(sheet_url=\"https://docs.google.com/spreadsheets/d/1VbCIAJssHKV9hlRTwzVFfm40CGnHesq53KXjv2qy4OM/edit?usp=sharing\", service_account_path=\"../../../ServiceAccountsKey.json\")",
   "metadata": {
    "collapsed": false,
    "ExecuteTime": {
     "end_time": "2025-03-04T19:35:19.931524Z",
     "start_time": "2025-03-04T19:35:18.342353Z"
    }
   },
   "outputs": [],
   "execution_count": 2
  },
  {
   "cell_type": "code",
   "source": [
    "metadata_df = pd.read_json(\"../data/metadata_df.json\")"
   ],
   "metadata": {
    "collapsed": false,
    "ExecuteTime": {
     "end_time": "2025-03-04T19:35:22.874334Z",
     "start_time": "2025-03-04T19:35:22.399785Z"
    }
   },
   "outputs": [],
   "execution_count": 3
  },
  {
   "cell_type": "code",
   "source": [
    "metadata_df.columns"
   ],
   "metadata": {
    "collapsed": false,
    "ExecuteTime": {
     "end_time": "2025-03-04T19:35:23.587331Z",
     "start_time": "2025-03-04T19:35:23.581824Z"
    }
   },
   "outputs": [
    {
     "data": {
      "text/plain": [
       "Index(['creator', 'datePublished', 'docType', 'doi', 'id', 'identifier',\n",
       "       'isPartOf', 'issueNumber', 'keyphrase', 'language', 'outputFormat',\n",
       "       'pageCount', 'pageEnd', 'pageStart', 'pagination', 'provider',\n",
       "       'publicationYear', 'publisher', 'sequence', 'tdmCategory', 'title',\n",
       "       'url', 'volumeNumber', 'wordCount', 'id_kase', 'docSubType',\n",
       "       'sourceCategory', 'abstract', 'subTitle'],\n",
       "      dtype='object')"
      ]
     },
     "execution_count": 4,
     "metadata": {},
     "output_type": "execute_result"
    }
   ],
   "execution_count": 4
  },
  {
   "cell_type": "code",
   "source": [
    "columns_subset = ['creator', 'title', 'subTitle', 'publicationYear', 'docType', 'docSubType', 'doi', 'isPartOf', 'volumeNumber', 'issueNumber', 'keyphrase', 'language', 'pageCount', 'pageEnd', 'pageStart', 'pagination', 'provider', 'publisher','wordCount', 'abstract']\n",
    "metadata_df[columns_subset].sample(10)"
   ],
   "metadata": {
    "collapsed": false,
    "ExecuteTime": {
     "end_time": "2025-03-04T19:35:24.243340Z",
     "start_time": "2025-03-04T19:35:24.215738Z"
    }
   },
   "outputs": [
    {
     "data": {
      "text/plain": [
       "                               creator  \\\n",
       "1704                [George E. Howard]   \n",
       "10977                     [Adam Green]   \n",
       "16477  [Reverend Lawrence W. Althouse]   \n",
       "6782              [Thomas E. Phillips]   \n",
       "859                [Julien M. Ogereau]   \n",
       "4576                              None   \n",
       "15471                  [A. T. Kraabel]   \n",
       "14974             [JOSEPH A. FITZMYER]   \n",
       "21337                   [William Hart]   \n",
       "10573                 [Robert Griffin]   \n",
       "\n",
       "                                                   title subTitle  \\\n",
       "1704                                      Review Article     None   \n",
       "10977  Cognitive Science and the Natural Knowledge of...     None   \n",
       "16477  Healing and Health in the Judaic-Christian Exp...     None   \n",
       "6782                                            untitled     None   \n",
       "859    A Survey of Κοινωνία and Its Cognates in Docum...     None   \n",
       "4576                            Religious Studies Review     None   \n",
       "15471                                     Review Article     None   \n",
       "14974  Crucifixion in Ancient Palestine, Qumran Liter...     None   \n",
       "21337                                     Review Article     None   \n",
       "10573  THE PRESENCE OF SAINT PAUL IN THE RELIGIOUS WO...     None   \n",
       "\n",
       "       publicationYear  docType        docSubType                         doi  \\\n",
       "1704              1986  article       book-review                        None   \n",
       "10977             2013  article           article     10.5840/monist201396318   \n",
       "16477             1985  article              None  10.1177/089801018500300106   \n",
       "6782              2013  article              None        10.1111/rsr.12035_22   \n",
       "859               2015  article  research-article                        None   \n",
       "4576              2017  article           article           10.1111/rsr.12893   \n",
       "15471             1981  article       book-review                        None   \n",
       "14974             1978  article  research-article                        None   \n",
       "21337             2004  article       book-review                        None   \n",
       "10573             1965  article  research-article                        None   \n",
       "\n",
       "                                      isPartOf volumeNumber issueNumber  \\\n",
       "1704            Journal of Biblical Literature          105           1   \n",
       "10977                               The Monist           96           3   \n",
       "16477              Journal of Holistic Nursing            3           1   \n",
       "6782                  Religious Studies Review           39           2   \n",
       "859                          Novum Testamentum           57           3   \n",
       "4576                  Religious Studies Review           43           1   \n",
       "15471               The Biblical Archaeologist           44           4   \n",
       "14974          The Catholic Biblical Quarterly           40           4   \n",
       "21337                         New York History           85           4   \n",
       "10573  Bibliothèque d'Humanisme et Renaissance           27           3   \n",
       "\n",
       "                                               keyphrase language  pageCount  \\\n",
       "1704                                                None    [eng]          4   \n",
       "10977  [natural knowledge, aquinas, calvin, cognitive...    [eng]         21   \n",
       "16477  [healing, church, healing ministry, florence n...    [eng]          6   \n",
       "6782   [phillips arapahoe, historical jesus, arapahoe...    [eng]          9   \n",
       "859                                                 None    [eng]         20   \n",
       "4576                                                None    [eng]          3   \n",
       "15471                                               None    [eng]          1   \n",
       "14974                                               None    [eng]         21   \n",
       "21337                                               None    [eng]          3   \n",
       "10573                                               None    [eng]          9   \n",
       "\n",
       "      pageEnd pageStart   pagination provider  \\\n",
       "1704      159       156  pp. 156-159    jstor   \n",
       "10977     419       399      399-419  portico   \n",
       "16477      24        19    pp. 19-24  portico   \n",
       "6782      113       113      113-113  portico   \n",
       "859       294       275  pp. 275-294    jstor   \n",
       "4576       87        85        85-87  portico   \n",
       "15471     254       254       p. 254    jstor   \n",
       "14974     513       493  pp. 493-513    jstor   \n",
       "21337     403       401  pp. 401-403    jstor   \n",
       "10573     652       644  pp. 644-652    jstor   \n",
       "\n",
       "                                       publisher  wordCount  \\\n",
       "1704              Society of Biblical Literature       2299   \n",
       "10977            Philosophy Documentation Center      17980   \n",
       "16477                          SAGE Publications       4795   \n",
       "6782                     John Wiley & Sons, Inc.       7965   \n",
       "859                                        Brill       8896   \n",
       "4576                     John Wiley & Sons, Inc.       1357   \n",
       "15471  The American Schools of Oriental Research        801   \n",
       "14974              Catholic Biblical Association      10383   \n",
       "21337      New York State Historical Association        906   \n",
       "10573                             Librairie Droz       4799   \n",
       "\n",
       "                                                abstract  \n",
       "1704                                                None  \n",
       "10977                                               None  \n",
       "16477                                               None  \n",
       "6782                                                None  \n",
       "859    This article consists of the summary of a comp...  \n",
       "4576                                                None  \n",
       "15471                                               None  \n",
       "14974                                               None  \n",
       "21337                                               None  \n",
       "10573                                               None  "
      ],
      "text/html": [
       "<div>\n",
       "<style scoped>\n",
       "    .dataframe tbody tr th:only-of-type {\n",
       "        vertical-align: middle;\n",
       "    }\n",
       "\n",
       "    .dataframe tbody tr th {\n",
       "        vertical-align: top;\n",
       "    }\n",
       "\n",
       "    .dataframe thead th {\n",
       "        text-align: right;\n",
       "    }\n",
       "</style>\n",
       "<table border=\"1\" class=\"dataframe\">\n",
       "  <thead>\n",
       "    <tr style=\"text-align: right;\">\n",
       "      <th></th>\n",
       "      <th>creator</th>\n",
       "      <th>title</th>\n",
       "      <th>subTitle</th>\n",
       "      <th>publicationYear</th>\n",
       "      <th>docType</th>\n",
       "      <th>docSubType</th>\n",
       "      <th>doi</th>\n",
       "      <th>isPartOf</th>\n",
       "      <th>volumeNumber</th>\n",
       "      <th>issueNumber</th>\n",
       "      <th>keyphrase</th>\n",
       "      <th>language</th>\n",
       "      <th>pageCount</th>\n",
       "      <th>pageEnd</th>\n",
       "      <th>pageStart</th>\n",
       "      <th>pagination</th>\n",
       "      <th>provider</th>\n",
       "      <th>publisher</th>\n",
       "      <th>wordCount</th>\n",
       "      <th>abstract</th>\n",
       "    </tr>\n",
       "  </thead>\n",
       "  <tbody>\n",
       "    <tr>\n",
       "      <th>1704</th>\n",
       "      <td>[George E. Howard]</td>\n",
       "      <td>Review Article</td>\n",
       "      <td>None</td>\n",
       "      <td>1986</td>\n",
       "      <td>article</td>\n",
       "      <td>book-review</td>\n",
       "      <td>None</td>\n",
       "      <td>Journal of Biblical Literature</td>\n",
       "      <td>105</td>\n",
       "      <td>1</td>\n",
       "      <td>None</td>\n",
       "      <td>[eng]</td>\n",
       "      <td>4</td>\n",
       "      <td>159</td>\n",
       "      <td>156</td>\n",
       "      <td>pp. 156-159</td>\n",
       "      <td>jstor</td>\n",
       "      <td>Society of Biblical Literature</td>\n",
       "      <td>2299</td>\n",
       "      <td>None</td>\n",
       "    </tr>\n",
       "    <tr>\n",
       "      <th>10977</th>\n",
       "      <td>[Adam Green]</td>\n",
       "      <td>Cognitive Science and the Natural Knowledge of...</td>\n",
       "      <td>None</td>\n",
       "      <td>2013</td>\n",
       "      <td>article</td>\n",
       "      <td>article</td>\n",
       "      <td>10.5840/monist201396318</td>\n",
       "      <td>The Monist</td>\n",
       "      <td>96</td>\n",
       "      <td>3</td>\n",
       "      <td>[natural knowledge, aquinas, calvin, cognitive...</td>\n",
       "      <td>[eng]</td>\n",
       "      <td>21</td>\n",
       "      <td>419</td>\n",
       "      <td>399</td>\n",
       "      <td>399-419</td>\n",
       "      <td>portico</td>\n",
       "      <td>Philosophy Documentation Center</td>\n",
       "      <td>17980</td>\n",
       "      <td>None</td>\n",
       "    </tr>\n",
       "    <tr>\n",
       "      <th>16477</th>\n",
       "      <td>[Reverend Lawrence W. Althouse]</td>\n",
       "      <td>Healing and Health in the Judaic-Christian Exp...</td>\n",
       "      <td>None</td>\n",
       "      <td>1985</td>\n",
       "      <td>article</td>\n",
       "      <td>None</td>\n",
       "      <td>10.1177/089801018500300106</td>\n",
       "      <td>Journal of Holistic Nursing</td>\n",
       "      <td>3</td>\n",
       "      <td>1</td>\n",
       "      <td>[healing, church, healing ministry, florence n...</td>\n",
       "      <td>[eng]</td>\n",
       "      <td>6</td>\n",
       "      <td>24</td>\n",
       "      <td>19</td>\n",
       "      <td>pp. 19-24</td>\n",
       "      <td>portico</td>\n",
       "      <td>SAGE Publications</td>\n",
       "      <td>4795</td>\n",
       "      <td>None</td>\n",
       "    </tr>\n",
       "    <tr>\n",
       "      <th>6782</th>\n",
       "      <td>[Thomas E. Phillips]</td>\n",
       "      <td>untitled</td>\n",
       "      <td>None</td>\n",
       "      <td>2013</td>\n",
       "      <td>article</td>\n",
       "      <td>None</td>\n",
       "      <td>10.1111/rsr.12035_22</td>\n",
       "      <td>Religious Studies Review</td>\n",
       "      <td>39</td>\n",
       "      <td>2</td>\n",
       "      <td>[phillips arapahoe, historical jesus, arapahoe...</td>\n",
       "      <td>[eng]</td>\n",
       "      <td>9</td>\n",
       "      <td>113</td>\n",
       "      <td>113</td>\n",
       "      <td>113-113</td>\n",
       "      <td>portico</td>\n",
       "      <td>John Wiley &amp; Sons, Inc.</td>\n",
       "      <td>7965</td>\n",
       "      <td>None</td>\n",
       "    </tr>\n",
       "    <tr>\n",
       "      <th>859</th>\n",
       "      <td>[Julien M. Ogereau]</td>\n",
       "      <td>A Survey of Κοινωνία and Its Cognates in Docum...</td>\n",
       "      <td>None</td>\n",
       "      <td>2015</td>\n",
       "      <td>article</td>\n",
       "      <td>research-article</td>\n",
       "      <td>None</td>\n",
       "      <td>Novum Testamentum</td>\n",
       "      <td>57</td>\n",
       "      <td>3</td>\n",
       "      <td>None</td>\n",
       "      <td>[eng]</td>\n",
       "      <td>20</td>\n",
       "      <td>294</td>\n",
       "      <td>275</td>\n",
       "      <td>pp. 275-294</td>\n",
       "      <td>jstor</td>\n",
       "      <td>Brill</td>\n",
       "      <td>8896</td>\n",
       "      <td>This article consists of the summary of a comp...</td>\n",
       "    </tr>\n",
       "    <tr>\n",
       "      <th>4576</th>\n",
       "      <td>None</td>\n",
       "      <td>Religious Studies Review</td>\n",
       "      <td>None</td>\n",
       "      <td>2017</td>\n",
       "      <td>article</td>\n",
       "      <td>article</td>\n",
       "      <td>10.1111/rsr.12893</td>\n",
       "      <td>Religious Studies Review</td>\n",
       "      <td>43</td>\n",
       "      <td>1</td>\n",
       "      <td>None</td>\n",
       "      <td>[eng]</td>\n",
       "      <td>3</td>\n",
       "      <td>87</td>\n",
       "      <td>85</td>\n",
       "      <td>85-87</td>\n",
       "      <td>portico</td>\n",
       "      <td>John Wiley &amp; Sons, Inc.</td>\n",
       "      <td>1357</td>\n",
       "      <td>None</td>\n",
       "    </tr>\n",
       "    <tr>\n",
       "      <th>15471</th>\n",
       "      <td>[A. T. Kraabel]</td>\n",
       "      <td>Review Article</td>\n",
       "      <td>None</td>\n",
       "      <td>1981</td>\n",
       "      <td>article</td>\n",
       "      <td>book-review</td>\n",
       "      <td>None</td>\n",
       "      <td>The Biblical Archaeologist</td>\n",
       "      <td>44</td>\n",
       "      <td>4</td>\n",
       "      <td>None</td>\n",
       "      <td>[eng]</td>\n",
       "      <td>1</td>\n",
       "      <td>254</td>\n",
       "      <td>254</td>\n",
       "      <td>p. 254</td>\n",
       "      <td>jstor</td>\n",
       "      <td>The American Schools of Oriental Research</td>\n",
       "      <td>801</td>\n",
       "      <td>None</td>\n",
       "    </tr>\n",
       "    <tr>\n",
       "      <th>14974</th>\n",
       "      <td>[JOSEPH A. FITZMYER]</td>\n",
       "      <td>Crucifixion in Ancient Palestine, Qumran Liter...</td>\n",
       "      <td>None</td>\n",
       "      <td>1978</td>\n",
       "      <td>article</td>\n",
       "      <td>research-article</td>\n",
       "      <td>None</td>\n",
       "      <td>The Catholic Biblical Quarterly</td>\n",
       "      <td>40</td>\n",
       "      <td>4</td>\n",
       "      <td>None</td>\n",
       "      <td>[eng]</td>\n",
       "      <td>21</td>\n",
       "      <td>513</td>\n",
       "      <td>493</td>\n",
       "      <td>pp. 493-513</td>\n",
       "      <td>jstor</td>\n",
       "      <td>Catholic Biblical Association</td>\n",
       "      <td>10383</td>\n",
       "      <td>None</td>\n",
       "    </tr>\n",
       "    <tr>\n",
       "      <th>21337</th>\n",
       "      <td>[William Hart]</td>\n",
       "      <td>Review Article</td>\n",
       "      <td>None</td>\n",
       "      <td>2004</td>\n",
       "      <td>article</td>\n",
       "      <td>book-review</td>\n",
       "      <td>None</td>\n",
       "      <td>New York History</td>\n",
       "      <td>85</td>\n",
       "      <td>4</td>\n",
       "      <td>None</td>\n",
       "      <td>[eng]</td>\n",
       "      <td>3</td>\n",
       "      <td>403</td>\n",
       "      <td>401</td>\n",
       "      <td>pp. 401-403</td>\n",
       "      <td>jstor</td>\n",
       "      <td>New York State Historical Association</td>\n",
       "      <td>906</td>\n",
       "      <td>None</td>\n",
       "    </tr>\n",
       "    <tr>\n",
       "      <th>10573</th>\n",
       "      <td>[Robert Griffin]</td>\n",
       "      <td>THE PRESENCE OF SAINT PAUL IN THE RELIGIOUS WO...</td>\n",
       "      <td>None</td>\n",
       "      <td>1965</td>\n",
       "      <td>article</td>\n",
       "      <td>research-article</td>\n",
       "      <td>None</td>\n",
       "      <td>Bibliothèque d'Humanisme et Renaissance</td>\n",
       "      <td>27</td>\n",
       "      <td>3</td>\n",
       "      <td>None</td>\n",
       "      <td>[eng]</td>\n",
       "      <td>9</td>\n",
       "      <td>652</td>\n",
       "      <td>644</td>\n",
       "      <td>pp. 644-652</td>\n",
       "      <td>jstor</td>\n",
       "      <td>Librairie Droz</td>\n",
       "      <td>4799</td>\n",
       "      <td>None</td>\n",
       "    </tr>\n",
       "  </tbody>\n",
       "</table>\n",
       "</div>"
      ]
     },
     "execution_count": 5,
     "metadata": {},
     "output_type": "execute_result"
    }
   ],
   "execution_count": 5
  },
  {
   "cell_type": "code",
   "source": [],
   "metadata": {
    "collapsed": false,
    "ExecuteTime": {
     "end_time": "2025-03-04T19:35:25.385708Z",
     "start_time": "2025-03-04T19:35:25.382494Z"
    }
   },
   "outputs": [],
   "execution_count": null
  },
  {
   "cell_type": "code",
   "source": [
    "25000 / 31832"
   ],
   "metadata": {
    "collapsed": false,
    "ExecuteTime": {
     "end_time": "2025-03-04T19:35:26.717856Z",
     "start_time": "2025-03-04T19:35:26.714064Z"
    }
   },
   "outputs": [
    {
     "data": {
      "text/plain": [
       "0.7853732093490827"
      ]
     },
     "execution_count": 6,
     "metadata": {},
     "output_type": "execute_result"
    }
   ],
   "execution_count": 6
  },
  {
   "cell_type": "code",
   "source": [
    "len(metadata_df[metadata_df[\"doi\"].notnull()])"
   ],
   "metadata": {
    "collapsed": false,
    "ExecuteTime": {
     "end_time": "2025-03-04T19:35:27.367831Z",
     "start_time": "2025-03-04T19:35:27.352584Z"
    }
   },
   "outputs": [
    {
     "data": {
      "text/plain": [
       "13100"
      ]
     },
     "execution_count": 7,
     "metadata": {},
     "output_type": "execute_result"
    }
   ],
   "execution_count": 7
  },
  {
   "cell_type": "code",
   "source": [
    "journals = pd.DataFrame(metadata_df[metadata_df[\"doi\"].notnull()].groupby(\"isPartOf\").size().sort_values(ascending=False)).reset_index()\n",
    "journals.columns = [\"journal\", \"N_docs\"]\n",
    "journals[:10]"
   ],
   "metadata": {
    "collapsed": false,
    "ExecuteTime": {
     "end_time": "2025-03-04T19:35:28.830925Z",
     "start_time": "2025-03-04T19:35:28.808439Z"
    }
   },
   "outputs": [
    {
     "data": {
      "text/plain": [
       "                                             journal  N_docs\n",
       "0                           Religious Studies Review    1726\n",
       "1    Interpretation: A Journal of Bible and Theology     868\n",
       "2                                   Expository Times     720\n",
       "3  Review & Expositor: An International Baptist J...     717\n",
       "4                               The Heythrop Journal     686\n",
       "5                              New Testament Studies     412\n",
       "6         Journal for the Study of the New Testament     360\n",
       "7                                Theological Studies     356\n",
       "8                     Reviews in Religion & Theology     330\n",
       "9                                           Theology     325"
      ],
      "text/html": [
       "<div>\n",
       "<style scoped>\n",
       "    .dataframe tbody tr th:only-of-type {\n",
       "        vertical-align: middle;\n",
       "    }\n",
       "\n",
       "    .dataframe tbody tr th {\n",
       "        vertical-align: top;\n",
       "    }\n",
       "\n",
       "    .dataframe thead th {\n",
       "        text-align: right;\n",
       "    }\n",
       "</style>\n",
       "<table border=\"1\" class=\"dataframe\">\n",
       "  <thead>\n",
       "    <tr style=\"text-align: right;\">\n",
       "      <th></th>\n",
       "      <th>journal</th>\n",
       "      <th>N_docs</th>\n",
       "    </tr>\n",
       "  </thead>\n",
       "  <tbody>\n",
       "    <tr>\n",
       "      <th>0</th>\n",
       "      <td>Religious Studies Review</td>\n",
       "      <td>1726</td>\n",
       "    </tr>\n",
       "    <tr>\n",
       "      <th>1</th>\n",
       "      <td>Interpretation: A Journal of Bible and Theology</td>\n",
       "      <td>868</td>\n",
       "    </tr>\n",
       "    <tr>\n",
       "      <th>2</th>\n",
       "      <td>Expository Times</td>\n",
       "      <td>720</td>\n",
       "    </tr>\n",
       "    <tr>\n",
       "      <th>3</th>\n",
       "      <td>Review &amp; Expositor: An International Baptist J...</td>\n",
       "      <td>717</td>\n",
       "    </tr>\n",
       "    <tr>\n",
       "      <th>4</th>\n",
       "      <td>The Heythrop Journal</td>\n",
       "      <td>686</td>\n",
       "    </tr>\n",
       "    <tr>\n",
       "      <th>5</th>\n",
       "      <td>New Testament Studies</td>\n",
       "      <td>412</td>\n",
       "    </tr>\n",
       "    <tr>\n",
       "      <th>6</th>\n",
       "      <td>Journal for the Study of the New Testament</td>\n",
       "      <td>360</td>\n",
       "    </tr>\n",
       "    <tr>\n",
       "      <th>7</th>\n",
       "      <td>Theological Studies</td>\n",
       "      <td>356</td>\n",
       "    </tr>\n",
       "    <tr>\n",
       "      <th>8</th>\n",
       "      <td>Reviews in Religion &amp; Theology</td>\n",
       "      <td>330</td>\n",
       "    </tr>\n",
       "    <tr>\n",
       "      <th>9</th>\n",
       "      <td>Theology</td>\n",
       "      <td>325</td>\n",
       "    </tr>\n",
       "  </tbody>\n",
       "</table>\n",
       "</div>"
      ]
     },
     "execution_count": 8,
     "metadata": {},
     "output_type": "execute_result"
    }
   ],
   "execution_count": 8
  },
  {
   "cell_type": "code",
   "source": [
    "metadata_df[metadata_df[\"doi\"].notnull()].head(10)"
   ],
   "metadata": {
    "collapsed": false,
    "ExecuteTime": {
     "end_time": "2025-03-04T19:35:29.960308Z",
     "start_time": "2025-03-04T19:35:29.922692Z"
    }
   },
   "outputs": [
    {
     "data": {
      "text/plain": [
       "                                             creator datePublished  docType  \\\n",
       "0                                  [Gerald F. Moede]    1974-04-01  article   \n",
       "1                               [Ben C. Ollenburger]    1987-10-01  article   \n",
       "2                                  [Eric L. Johnson]    1997-03-01  article   \n",
       "3  [Kimberly Matheson, Hymie Anisman, Renate Ysse...    2010-02-01  article   \n",
       "4                                   [David J. Clark]    1975-01-01  article   \n",
       "5                                  [F. L. Shoemaker]    1955-01-01  article   \n",
       "6                                 [J. A. B. Holland]    1961-09-01  article   \n",
       "7                                     [Jun Ki Chung]    2010-07-01  article   \n",
       "8                                      [UnChan Jung]    2020-06-01  article   \n",
       "9                               [John T. Slotemaker]    2009-12-01  article   \n",
       "\n",
       "                                   doi                       id  \\\n",
       "0   10.1111/j.1758-6623.1974.tb02427.x   ark://27927/phx7f872pd   \n",
       "1           10.1177/004057368704400307  ark://27927/phx6238nb98   \n",
       "2           10.1177/009164719702500102  ark://27927/phz2f6c9d3v   \n",
       "3             10.1177/1088868309349693   ark://27927/pgfvbkcxrg   \n",
       "4           10.1177/026009357502600107  ark://27927/phx5181bbsv   \n",
       "5   10.1111/j.1741-5446.1955.tb01287.x  ark://27927/phx29mqcsph   \n",
       "6            10.1017/S0036930600003355  ark://27927/pgh1g2c67j2   \n",
       "7           10.1177/009182961003800302  ark://27927/phx5wv17ht2   \n",
       "8             10.1177/0142064X20914524  ark://27927/phzfv2hs498   \n",
       "9  10.1111/j.1748-0922.2009.01387_52.x   ark://27927/phwbqmz3cj   \n",
       "\n",
       "                                          identifier  \\\n",
       "0  [{'name': 'doi', 'value': '10.1111/j.1758-6623...   \n",
       "1  [{'name': 'doi', 'value': '10.1177/00405736870...   \n",
       "2  [{'name': 'doi', 'value': '10.1177/00916471970...   \n",
       "3  [{'name': 'doi', 'value': '10.1177/10888683093...   \n",
       "4  [{'name': 'doi', 'value': '10.1177/02600935750...   \n",
       "5  [{'name': 'doi', 'value': '10.1111/j.1741-5446...   \n",
       "6  [{'name': 'local_publisher_id', 'value': 'S003...   \n",
       "7  [{'name': 'doi', 'value': '10.1177/00918296100...   \n",
       "8  [{'name': 'doi', 'value': '10.1177/0142064X209...   \n",
       "9  [{'name': 'doi', 'value': '10.1111/j.1748-0922...   \n",
       "\n",
       "                                     isPartOf issueNumber  \\\n",
       "0                       The Ecumenical Review           2   \n",
       "1                              Theology Today           3   \n",
       "2          Journal of Psychology and Theology           1   \n",
       "3    Personality and Social Psychology Review           1   \n",
       "4            The Bible Translator (1950-2012)           1   \n",
       "5                          Educational Theory           1   \n",
       "6                Scottish Journal of Theology           3   \n",
       "7         Missiology: An International Review           3   \n",
       "8  Journal for the Study of the New Testament           4   \n",
       "9                    Religious Studies Review           4   \n",
       "\n",
       "                                           keyphrase language  \\\n",
       "0  [church, church union, christian unity, confes...    [eng]   \n",
       "1  [haarlem, miep gies, german, suffering, hollan...    [eng]   \n",
       "2  [kingdom, christian, creation, lordship, knowl...    [eng]   \n",
       "3  [religious, identity, religious identity, soci...    [eng]   \n",
       "4  [haenchen, overboard, barclay, apostles, went ...    [eng]   \n",
       "5  [idealism, universe, absolutes, metaphysical i...    [eng]   \n",
       "6  [irenaeus, adversus haereses, church, marcion,...    [eng]   \n",
       "7  [church, holy communion, korean, japanese, chr...    [eng]   \n",
       "8  [thessalonians, thessalonica, casual workers, ...    [eng]   \n",
       "9  [christian, augustine, theology, early christi...    [eng]   \n",
       "\n",
       "                 outputFormat  pageCount pageEnd pageStart   pagination  \\\n",
       "0  [unigram, bigram, trigram]         19     264       246      246-264   \n",
       "1  [unigram, bigram, trigram]         10     359       350  pp. 350-359   \n",
       "2  [unigram, bigram, trigram]         17      27        11    pp. 11-27   \n",
       "3  [unigram, bigram, trigram]         12      71        60        60-71   \n",
       "4  [unigram, bigram, trigram]          3     146       144  pp. 144-146   \n",
       "5  [unigram, bigram, trigram]         13      46        34        34-46   \n",
       "6  [unigram, bigram, trigram]          6     317       312      312-317   \n",
       "7  [unigram, bigram, trigram]         17     269       253  pp. 253-269   \n",
       "8  [unigram, bigram, trigram]         24     495       472      472-495   \n",
       "9  [unigram, bigram, trigram]         29     283       283      pp. 283   \n",
       "\n",
       "  provider  publicationYear                   publisher  sequence  \\\n",
       "0  portico             1974     John Wiley & Sons, Inc.       7.0   \n",
       "1  portico             1987           SAGE Publications       7.0   \n",
       "2  portico             1997           SAGE Publications       2.0   \n",
       "3  portico             2010           SAGE Publications       6.0   \n",
       "4  portico             1975           SAGE Publications       7.0   \n",
       "5  portico             1955     John Wiley & Sons, Inc.       6.0   \n",
       "6  portico             1961  Cambridge University Press      21.0   \n",
       "7  portico             2010           SAGE Publications       2.0   \n",
       "8  portico             2020           SAGE Publications       3.0   \n",
       "9  portico             2009     John Wiley & Sons, Inc.     173.0   \n",
       "\n",
       "                                         tdmCategory  \\\n",
       "0  [Philosophy - Applied philosophy, Political sc...   \n",
       "1                  [Philosophy - Applied philosophy]   \n",
       "2                         [Philosophy - Metaphysics]   \n",
       "3  [Social sciences - Psychology, Social sciences...   \n",
       "4  [Linguistics - Grammar, Religion - Spiritual b...   \n",
       "5                         [Philosophy - Metaphysics]   \n",
       "6                 [History - Historical methodology]   \n",
       "7              [Religion - Spiritual belief systems]   \n",
       "8                    [Physical sciences - Astronomy]   \n",
       "9           [Arts - Literature, Religion - Theology]   \n",
       "\n",
       "                                               title  \\\n",
       "0         CHURCH UNION AS A MODEL OF CHRISTIAN UNITY   \n",
       "1      Suffering and Hope: The Story Behind the Book   \n",
       "2                     Christ, the Lord of Psychology   \n",
       "3  Religiosity as Identity: Toward an Understandi...   \n",
       "4                         What Went Overboard First?   \n",
       "5  AN APPROACH TO METAPHYSICAL IDEALISTIC ECLECTI...   \n",
       "6  Review of Saint Irénée: Introduction à l'étude...   \n",
       "7  An Outstanding Mission Work in Japan: A Case S...   \n",
       "8  Paul’s Letter to Free(d) Casual Workers: Profi...   \n",
       "9  Trinitarian Theology in the Medieval West – Ed...   \n",
       "\n",
       "                                                 url volumeNumber  wordCount  \\\n",
       "0  http://doi.org/10.1111/j.1758-6623.1974.tb02427.x           26       7827   \n",
       "1          http://doi.org/10.1177/004057368704400307           44       5181   \n",
       "2          http://doi.org/10.1177/009164719702500102           25      13697   \n",
       "3            http://doi.org/10.1177/1088868309349693           14       9915   \n",
       "4          http://doi.org/10.1177/026009357502600107           26       1652   \n",
       "5  http://doi.org/10.1111/j.1741-5446.1955.tb01287.x            5       7605   \n",
       "6           http://doi.org/10.1017/S0036930600003355           14       2848   \n",
       "7          http://doi.org/10.1177/009182961003800302           38       9482   \n",
       "8            http://doi.org/10.1177/0142064X20914524           42       9999   \n",
       "9  http://doi.org/10.1111/j.1748-0922.2009.01387_...           35      25975   \n",
       "\n",
       "   id_kase docSubType sourceCategory abstract subTitle  \n",
       "0        0       None           None     None     None  \n",
       "1        1       None           None     None     None  \n",
       "2        2       None           None     None     None  \n",
       "3        3       None           None     None     None  \n",
       "4        4       None           None     None     None  \n",
       "5        5       None           None     None     None  \n",
       "6        6       None           None     None     None  \n",
       "7        7       None           None     None     None  \n",
       "8        8       None           None     None     None  \n",
       "9        9       None           None     None     None  "
      ],
      "text/html": [
       "<div>\n",
       "<style scoped>\n",
       "    .dataframe tbody tr th:only-of-type {\n",
       "        vertical-align: middle;\n",
       "    }\n",
       "\n",
       "    .dataframe tbody tr th {\n",
       "        vertical-align: top;\n",
       "    }\n",
       "\n",
       "    .dataframe thead th {\n",
       "        text-align: right;\n",
       "    }\n",
       "</style>\n",
       "<table border=\"1\" class=\"dataframe\">\n",
       "  <thead>\n",
       "    <tr style=\"text-align: right;\">\n",
       "      <th></th>\n",
       "      <th>creator</th>\n",
       "      <th>datePublished</th>\n",
       "      <th>docType</th>\n",
       "      <th>doi</th>\n",
       "      <th>id</th>\n",
       "      <th>identifier</th>\n",
       "      <th>isPartOf</th>\n",
       "      <th>issueNumber</th>\n",
       "      <th>keyphrase</th>\n",
       "      <th>language</th>\n",
       "      <th>outputFormat</th>\n",
       "      <th>pageCount</th>\n",
       "      <th>pageEnd</th>\n",
       "      <th>pageStart</th>\n",
       "      <th>pagination</th>\n",
       "      <th>provider</th>\n",
       "      <th>publicationYear</th>\n",
       "      <th>publisher</th>\n",
       "      <th>sequence</th>\n",
       "      <th>tdmCategory</th>\n",
       "      <th>title</th>\n",
       "      <th>url</th>\n",
       "      <th>volumeNumber</th>\n",
       "      <th>wordCount</th>\n",
       "      <th>id_kase</th>\n",
       "      <th>docSubType</th>\n",
       "      <th>sourceCategory</th>\n",
       "      <th>abstract</th>\n",
       "      <th>subTitle</th>\n",
       "    </tr>\n",
       "  </thead>\n",
       "  <tbody>\n",
       "    <tr>\n",
       "      <th>0</th>\n",
       "      <td>[Gerald F. Moede]</td>\n",
       "      <td>1974-04-01</td>\n",
       "      <td>article</td>\n",
       "      <td>10.1111/j.1758-6623.1974.tb02427.x</td>\n",
       "      <td>ark://27927/phx7f872pd</td>\n",
       "      <td>[{'name': 'doi', 'value': '10.1111/j.1758-6623...</td>\n",
       "      <td>The Ecumenical Review</td>\n",
       "      <td>2</td>\n",
       "      <td>[church, church union, christian unity, confes...</td>\n",
       "      <td>[eng]</td>\n",
       "      <td>[unigram, bigram, trigram]</td>\n",
       "      <td>19</td>\n",
       "      <td>264</td>\n",
       "      <td>246</td>\n",
       "      <td>246-264</td>\n",
       "      <td>portico</td>\n",
       "      <td>1974</td>\n",
       "      <td>John Wiley &amp; Sons, Inc.</td>\n",
       "      <td>7.0</td>\n",
       "      <td>[Philosophy - Applied philosophy, Political sc...</td>\n",
       "      <td>CHURCH UNION AS A MODEL OF CHRISTIAN UNITY</td>\n",
       "      <td>http://doi.org/10.1111/j.1758-6623.1974.tb02427.x</td>\n",
       "      <td>26</td>\n",
       "      <td>7827</td>\n",
       "      <td>0</td>\n",
       "      <td>None</td>\n",
       "      <td>None</td>\n",
       "      <td>None</td>\n",
       "      <td>None</td>\n",
       "    </tr>\n",
       "    <tr>\n",
       "      <th>1</th>\n",
       "      <td>[Ben C. Ollenburger]</td>\n",
       "      <td>1987-10-01</td>\n",
       "      <td>article</td>\n",
       "      <td>10.1177/004057368704400307</td>\n",
       "      <td>ark://27927/phx6238nb98</td>\n",
       "      <td>[{'name': 'doi', 'value': '10.1177/00405736870...</td>\n",
       "      <td>Theology Today</td>\n",
       "      <td>3</td>\n",
       "      <td>[haarlem, miep gies, german, suffering, hollan...</td>\n",
       "      <td>[eng]</td>\n",
       "      <td>[unigram, bigram, trigram]</td>\n",
       "      <td>10</td>\n",
       "      <td>359</td>\n",
       "      <td>350</td>\n",
       "      <td>pp. 350-359</td>\n",
       "      <td>portico</td>\n",
       "      <td>1987</td>\n",
       "      <td>SAGE Publications</td>\n",
       "      <td>7.0</td>\n",
       "      <td>[Philosophy - Applied philosophy]</td>\n",
       "      <td>Suffering and Hope: The Story Behind the Book</td>\n",
       "      <td>http://doi.org/10.1177/004057368704400307</td>\n",
       "      <td>44</td>\n",
       "      <td>5181</td>\n",
       "      <td>1</td>\n",
       "      <td>None</td>\n",
       "      <td>None</td>\n",
       "      <td>None</td>\n",
       "      <td>None</td>\n",
       "    </tr>\n",
       "    <tr>\n",
       "      <th>2</th>\n",
       "      <td>[Eric L. Johnson]</td>\n",
       "      <td>1997-03-01</td>\n",
       "      <td>article</td>\n",
       "      <td>10.1177/009164719702500102</td>\n",
       "      <td>ark://27927/phz2f6c9d3v</td>\n",
       "      <td>[{'name': 'doi', 'value': '10.1177/00916471970...</td>\n",
       "      <td>Journal of Psychology and Theology</td>\n",
       "      <td>1</td>\n",
       "      <td>[kingdom, christian, creation, lordship, knowl...</td>\n",
       "      <td>[eng]</td>\n",
       "      <td>[unigram, bigram, trigram]</td>\n",
       "      <td>17</td>\n",
       "      <td>27</td>\n",
       "      <td>11</td>\n",
       "      <td>pp. 11-27</td>\n",
       "      <td>portico</td>\n",
       "      <td>1997</td>\n",
       "      <td>SAGE Publications</td>\n",
       "      <td>2.0</td>\n",
       "      <td>[Philosophy - Metaphysics]</td>\n",
       "      <td>Christ, the Lord of Psychology</td>\n",
       "      <td>http://doi.org/10.1177/009164719702500102</td>\n",
       "      <td>25</td>\n",
       "      <td>13697</td>\n",
       "      <td>2</td>\n",
       "      <td>None</td>\n",
       "      <td>None</td>\n",
       "      <td>None</td>\n",
       "      <td>None</td>\n",
       "    </tr>\n",
       "    <tr>\n",
       "      <th>3</th>\n",
       "      <td>[Kimberly Matheson, Hymie Anisman, Renate Ysse...</td>\n",
       "      <td>2010-02-01</td>\n",
       "      <td>article</td>\n",
       "      <td>10.1177/1088868309349693</td>\n",
       "      <td>ark://27927/pgfvbkcxrg</td>\n",
       "      <td>[{'name': 'doi', 'value': '10.1177/10888683093...</td>\n",
       "      <td>Personality and Social Psychology Review</td>\n",
       "      <td>1</td>\n",
       "      <td>[religious, identity, religious identity, soci...</td>\n",
       "      <td>[eng]</td>\n",
       "      <td>[unigram, bigram, trigram]</td>\n",
       "      <td>12</td>\n",
       "      <td>71</td>\n",
       "      <td>60</td>\n",
       "      <td>60-71</td>\n",
       "      <td>portico</td>\n",
       "      <td>2010</td>\n",
       "      <td>SAGE Publications</td>\n",
       "      <td>6.0</td>\n",
       "      <td>[Social sciences - Psychology, Social sciences...</td>\n",
       "      <td>Religiosity as Identity: Toward an Understandi...</td>\n",
       "      <td>http://doi.org/10.1177/1088868309349693</td>\n",
       "      <td>14</td>\n",
       "      <td>9915</td>\n",
       "      <td>3</td>\n",
       "      <td>None</td>\n",
       "      <td>None</td>\n",
       "      <td>None</td>\n",
       "      <td>None</td>\n",
       "    </tr>\n",
       "    <tr>\n",
       "      <th>4</th>\n",
       "      <td>[David J. Clark]</td>\n",
       "      <td>1975-01-01</td>\n",
       "      <td>article</td>\n",
       "      <td>10.1177/026009357502600107</td>\n",
       "      <td>ark://27927/phx5181bbsv</td>\n",
       "      <td>[{'name': 'doi', 'value': '10.1177/02600935750...</td>\n",
       "      <td>The Bible Translator (1950-2012)</td>\n",
       "      <td>1</td>\n",
       "      <td>[haenchen, overboard, barclay, apostles, went ...</td>\n",
       "      <td>[eng]</td>\n",
       "      <td>[unigram, bigram, trigram]</td>\n",
       "      <td>3</td>\n",
       "      <td>146</td>\n",
       "      <td>144</td>\n",
       "      <td>pp. 144-146</td>\n",
       "      <td>portico</td>\n",
       "      <td>1975</td>\n",
       "      <td>SAGE Publications</td>\n",
       "      <td>7.0</td>\n",
       "      <td>[Linguistics - Grammar, Religion - Spiritual b...</td>\n",
       "      <td>What Went Overboard First?</td>\n",
       "      <td>http://doi.org/10.1177/026009357502600107</td>\n",
       "      <td>26</td>\n",
       "      <td>1652</td>\n",
       "      <td>4</td>\n",
       "      <td>None</td>\n",
       "      <td>None</td>\n",
       "      <td>None</td>\n",
       "      <td>None</td>\n",
       "    </tr>\n",
       "    <tr>\n",
       "      <th>5</th>\n",
       "      <td>[F. L. Shoemaker]</td>\n",
       "      <td>1955-01-01</td>\n",
       "      <td>article</td>\n",
       "      <td>10.1111/j.1741-5446.1955.tb01287.x</td>\n",
       "      <td>ark://27927/phx29mqcsph</td>\n",
       "      <td>[{'name': 'doi', 'value': '10.1111/j.1741-5446...</td>\n",
       "      <td>Educational Theory</td>\n",
       "      <td>1</td>\n",
       "      <td>[idealism, universe, absolutes, metaphysical i...</td>\n",
       "      <td>[eng]</td>\n",
       "      <td>[unigram, bigram, trigram]</td>\n",
       "      <td>13</td>\n",
       "      <td>46</td>\n",
       "      <td>34</td>\n",
       "      <td>34-46</td>\n",
       "      <td>portico</td>\n",
       "      <td>1955</td>\n",
       "      <td>John Wiley &amp; Sons, Inc.</td>\n",
       "      <td>6.0</td>\n",
       "      <td>[Philosophy - Metaphysics]</td>\n",
       "      <td>AN APPROACH TO METAPHYSICAL IDEALISTIC ECLECTI...</td>\n",
       "      <td>http://doi.org/10.1111/j.1741-5446.1955.tb01287.x</td>\n",
       "      <td>5</td>\n",
       "      <td>7605</td>\n",
       "      <td>5</td>\n",
       "      <td>None</td>\n",
       "      <td>None</td>\n",
       "      <td>None</td>\n",
       "      <td>None</td>\n",
       "    </tr>\n",
       "    <tr>\n",
       "      <th>6</th>\n",
       "      <td>[J. A. B. Holland]</td>\n",
       "      <td>1961-09-01</td>\n",
       "      <td>article</td>\n",
       "      <td>10.1017/S0036930600003355</td>\n",
       "      <td>ark://27927/pgh1g2c67j2</td>\n",
       "      <td>[{'name': 'local_publisher_id', 'value': 'S003...</td>\n",
       "      <td>Scottish Journal of Theology</td>\n",
       "      <td>3</td>\n",
       "      <td>[irenaeus, adversus haereses, church, marcion,...</td>\n",
       "      <td>[eng]</td>\n",
       "      <td>[unigram, bigram, trigram]</td>\n",
       "      <td>6</td>\n",
       "      <td>317</td>\n",
       "      <td>312</td>\n",
       "      <td>312-317</td>\n",
       "      <td>portico</td>\n",
       "      <td>1961</td>\n",
       "      <td>Cambridge University Press</td>\n",
       "      <td>21.0</td>\n",
       "      <td>[History - Historical methodology]</td>\n",
       "      <td>Review of Saint Irénée: Introduction à l'étude...</td>\n",
       "      <td>http://doi.org/10.1017/S0036930600003355</td>\n",
       "      <td>14</td>\n",
       "      <td>2848</td>\n",
       "      <td>6</td>\n",
       "      <td>None</td>\n",
       "      <td>None</td>\n",
       "      <td>None</td>\n",
       "      <td>None</td>\n",
       "    </tr>\n",
       "    <tr>\n",
       "      <th>7</th>\n",
       "      <td>[Jun Ki Chung]</td>\n",
       "      <td>2010-07-01</td>\n",
       "      <td>article</td>\n",
       "      <td>10.1177/009182961003800302</td>\n",
       "      <td>ark://27927/phx5wv17ht2</td>\n",
       "      <td>[{'name': 'doi', 'value': '10.1177/00918296100...</td>\n",
       "      <td>Missiology: An International Review</td>\n",
       "      <td>3</td>\n",
       "      <td>[church, holy communion, korean, japanese, chr...</td>\n",
       "      <td>[eng]</td>\n",
       "      <td>[unigram, bigram, trigram]</td>\n",
       "      <td>17</td>\n",
       "      <td>269</td>\n",
       "      <td>253</td>\n",
       "      <td>pp. 253-269</td>\n",
       "      <td>portico</td>\n",
       "      <td>2010</td>\n",
       "      <td>SAGE Publications</td>\n",
       "      <td>2.0</td>\n",
       "      <td>[Religion - Spiritual belief systems]</td>\n",
       "      <td>An Outstanding Mission Work in Japan: A Case S...</td>\n",
       "      <td>http://doi.org/10.1177/009182961003800302</td>\n",
       "      <td>38</td>\n",
       "      <td>9482</td>\n",
       "      <td>7</td>\n",
       "      <td>None</td>\n",
       "      <td>None</td>\n",
       "      <td>None</td>\n",
       "      <td>None</td>\n",
       "    </tr>\n",
       "    <tr>\n",
       "      <th>8</th>\n",
       "      <td>[UnChan Jung]</td>\n",
       "      <td>2020-06-01</td>\n",
       "      <td>article</td>\n",
       "      <td>10.1177/0142064X20914524</td>\n",
       "      <td>ark://27927/phzfv2hs498</td>\n",
       "      <td>[{'name': 'doi', 'value': '10.1177/0142064X209...</td>\n",
       "      <td>Journal for the Study of the New Testament</td>\n",
       "      <td>4</td>\n",
       "      <td>[thessalonians, thessalonica, casual workers, ...</td>\n",
       "      <td>[eng]</td>\n",
       "      <td>[unigram, bigram, trigram]</td>\n",
       "      <td>24</td>\n",
       "      <td>495</td>\n",
       "      <td>472</td>\n",
       "      <td>472-495</td>\n",
       "      <td>portico</td>\n",
       "      <td>2020</td>\n",
       "      <td>SAGE Publications</td>\n",
       "      <td>3.0</td>\n",
       "      <td>[Physical sciences - Astronomy]</td>\n",
       "      <td>Paul’s Letter to Free(d) Casual Workers: Profi...</td>\n",
       "      <td>http://doi.org/10.1177/0142064X20914524</td>\n",
       "      <td>42</td>\n",
       "      <td>9999</td>\n",
       "      <td>8</td>\n",
       "      <td>None</td>\n",
       "      <td>None</td>\n",
       "      <td>None</td>\n",
       "      <td>None</td>\n",
       "    </tr>\n",
       "    <tr>\n",
       "      <th>9</th>\n",
       "      <td>[John T. Slotemaker]</td>\n",
       "      <td>2009-12-01</td>\n",
       "      <td>article</td>\n",
       "      <td>10.1111/j.1748-0922.2009.01387_52.x</td>\n",
       "      <td>ark://27927/phwbqmz3cj</td>\n",
       "      <td>[{'name': 'doi', 'value': '10.1111/j.1748-0922...</td>\n",
       "      <td>Religious Studies Review</td>\n",
       "      <td>4</td>\n",
       "      <td>[christian, augustine, theology, early christi...</td>\n",
       "      <td>[eng]</td>\n",
       "      <td>[unigram, bigram, trigram]</td>\n",
       "      <td>29</td>\n",
       "      <td>283</td>\n",
       "      <td>283</td>\n",
       "      <td>pp. 283</td>\n",
       "      <td>portico</td>\n",
       "      <td>2009</td>\n",
       "      <td>John Wiley &amp; Sons, Inc.</td>\n",
       "      <td>173.0</td>\n",
       "      <td>[Arts - Literature, Religion - Theology]</td>\n",
       "      <td>Trinitarian Theology in the Medieval West – Ed...</td>\n",
       "      <td>http://doi.org/10.1111/j.1748-0922.2009.01387_...</td>\n",
       "      <td>35</td>\n",
       "      <td>25975</td>\n",
       "      <td>9</td>\n",
       "      <td>None</td>\n",
       "      <td>None</td>\n",
       "      <td>None</td>\n",
       "      <td>None</td>\n",
       "    </tr>\n",
       "  </tbody>\n",
       "</table>\n",
       "</div>"
      ]
     },
     "execution_count": 9,
     "metadata": {},
     "output_type": "execute_result"
    }
   ],
   "execution_count": 9
  },
  {
   "cell_type": "code",
   "source": [
    "metadata_df[\"publicationYear\"].mean()"
   ],
   "metadata": {
    "collapsed": false,
    "ExecuteTime": {
     "end_time": "2025-03-04T19:35:34.122117Z",
     "start_time": "2025-03-04T19:35:34.115453Z"
    }
   },
   "outputs": [
    {
     "data": {
      "text/plain": [
       "1989.97008"
      ]
     },
     "execution_count": 10,
     "metadata": {},
     "output_type": "execute_result"
    }
   ],
   "execution_count": 10
  },
  {
   "cell_type": "markdown",
   "source": [
    "# Journals..."
   ],
   "metadata": {
    "collapsed": false
   }
  },
  {
   "cell_type": "code",
   "source": [
    "journals_df = metadata_df.groupby(\"isPartOf\").size().sort_values(ascending=False)\n",
    "journals_df = journals_df.reset_index()\n",
    "journals_df.rename(columns={0: \"N\"}, inplace=True)\n",
    "journals_df.head(10)"
   ],
   "metadata": {
    "collapsed": false,
    "ExecuteTime": {
     "end_time": "2025-03-04T19:35:36.883008Z",
     "start_time": "2025-03-04T19:35:36.870794Z"
    }
   },
   "outputs": [
    {
     "data": {
      "text/plain": [
       "                                            isPartOf     N\n",
       "0                           Religious Studies Review  1726\n",
       "1                    The Catholic Biblical Quarterly   893\n",
       "2    Interpretation: A Journal of Bible and Theology   870\n",
       "3                     Journal of Biblical Literature   847\n",
       "4                                   Expository Times   724\n",
       "5  Review & Expositor: An International Baptist J...   719\n",
       "6                               The Heythrop Journal   686\n",
       "7                 The Journal of Theological Studies   492\n",
       "8                              New Testament Studies   412\n",
       "9                                     Church History   379"
      ],
      "text/html": [
       "<div>\n",
       "<style scoped>\n",
       "    .dataframe tbody tr th:only-of-type {\n",
       "        vertical-align: middle;\n",
       "    }\n",
       "\n",
       "    .dataframe tbody tr th {\n",
       "        vertical-align: top;\n",
       "    }\n",
       "\n",
       "    .dataframe thead th {\n",
       "        text-align: right;\n",
       "    }\n",
       "</style>\n",
       "<table border=\"1\" class=\"dataframe\">\n",
       "  <thead>\n",
       "    <tr style=\"text-align: right;\">\n",
       "      <th></th>\n",
       "      <th>isPartOf</th>\n",
       "      <th>N</th>\n",
       "    </tr>\n",
       "  </thead>\n",
       "  <tbody>\n",
       "    <tr>\n",
       "      <th>0</th>\n",
       "      <td>Religious Studies Review</td>\n",
       "      <td>1726</td>\n",
       "    </tr>\n",
       "    <tr>\n",
       "      <th>1</th>\n",
       "      <td>The Catholic Biblical Quarterly</td>\n",
       "      <td>893</td>\n",
       "    </tr>\n",
       "    <tr>\n",
       "      <th>2</th>\n",
       "      <td>Interpretation: A Journal of Bible and Theology</td>\n",
       "      <td>870</td>\n",
       "    </tr>\n",
       "    <tr>\n",
       "      <th>3</th>\n",
       "      <td>Journal of Biblical Literature</td>\n",
       "      <td>847</td>\n",
       "    </tr>\n",
       "    <tr>\n",
       "      <th>4</th>\n",
       "      <td>Expository Times</td>\n",
       "      <td>724</td>\n",
       "    </tr>\n",
       "    <tr>\n",
       "      <th>5</th>\n",
       "      <td>Review &amp; Expositor: An International Baptist J...</td>\n",
       "      <td>719</td>\n",
       "    </tr>\n",
       "    <tr>\n",
       "      <th>6</th>\n",
       "      <td>The Heythrop Journal</td>\n",
       "      <td>686</td>\n",
       "    </tr>\n",
       "    <tr>\n",
       "      <th>7</th>\n",
       "      <td>The Journal of Theological Studies</td>\n",
       "      <td>492</td>\n",
       "    </tr>\n",
       "    <tr>\n",
       "      <th>8</th>\n",
       "      <td>New Testament Studies</td>\n",
       "      <td>412</td>\n",
       "    </tr>\n",
       "    <tr>\n",
       "      <th>9</th>\n",
       "      <td>Church History</td>\n",
       "      <td>379</td>\n",
       "    </tr>\n",
       "  </tbody>\n",
       "</table>\n",
       "</div>"
      ]
     },
     "execution_count": 11,
     "metadata": {},
     "output_type": "execute_result"
    }
   ],
   "execution_count": 11
  },
  {
   "cell_type": "code",
   "source": [
    "journals_df_year_avr = metadata_df.groupby(\"isPartOf\")[\"publicationYear\"].mean().reset_index()\n",
    "journals_df_year_avr.rename(columns={\"publicationYear\": \"year_avr\"}, inplace=True)\n",
    "\n",
    "journals_df_year_min = metadata_df.groupby(\"isPartOf\")[\"publicationYear\"].min().reset_index()\n",
    "journals_df_year_min.rename(columns={\"publicationYear\": \"year_min\"}, inplace=True)\n",
    "\n",
    "journals_df_year_max = metadata_df.groupby(\"isPartOf\")[\"publicationYear\"].max().reset_index()\n",
    "journals_df_year_max.rename(columns={\"publicationYear\": \"year_max\"}, inplace=True)"
   ],
   "metadata": {
    "collapsed": false,
    "ExecuteTime": {
     "end_time": "2025-03-04T19:35:37.913581Z",
     "start_time": "2025-03-04T19:35:37.896059Z"
    }
   },
   "outputs": [],
   "execution_count": 12
  },
  {
   "cell_type": "code",
   "source": [
    "for df in [journals_df_year_avr, journals_df_year_min, journals_df_year_max]:\n",
    "    journals_df = journals_df.merge(df, on=\"isPartOf\")\n",
    "journals_df.round(2).head(20)"
   ],
   "metadata": {
    "collapsed": false,
    "ExecuteTime": {
     "end_time": "2025-03-04T19:35:39.586587Z",
     "start_time": "2025-03-04T19:35:39.566211Z"
    }
   },
   "outputs": [
    {
     "data": {
      "text/plain": [
       "                                             isPartOf     N  year_avr  \\\n",
       "0                            Religious Studies Review  1726   2009.49   \n",
       "1                     The Catholic Biblical Quarterly   893   1991.07   \n",
       "2     Interpretation: A Journal of Bible and Theology   870   1983.02   \n",
       "3                      Journal of Biblical Literature   847   1982.76   \n",
       "4                                    Expository Times   724   1987.36   \n",
       "5   Review & Expositor: An International Baptist J...   719   1981.00   \n",
       "6                                The Heythrop Journal   686   2012.38   \n",
       "7                  The Journal of Theological Studies   492   1978.89   \n",
       "8                               New Testament Studies   412   1988.89   \n",
       "9                                      Church History   379   1986.54   \n",
       "10         Journal for the Study of the New Testament   360   2004.37   \n",
       "11                                Theological Studies   356   1982.53   \n",
       "12                                           Theology   330   1983.85   \n",
       "13                     Reviews in Religion & Theology   330   2010.17   \n",
       "14                                     Theology Today   300   1982.91   \n",
       "15                                    Neotestamentica   292   2003.45   \n",
       "16                       Scottish Journal of Theology   290   1979.91   \n",
       "17                            The Journal of Religion   281   1964.22   \n",
       "18                                  Novum Testamentum   278   1994.29   \n",
       "19                Missiology: An International Review   247   1996.37   \n",
       "\n",
       "    year_min  year_max  \n",
       "0       1976      2021  \n",
       "1       1939      2016  \n",
       "2       1947      2021  \n",
       "3       1901      2021  \n",
       "4       1938      2022  \n",
       "5       1932      2021  \n",
       "6       1960      2021  \n",
       "7       1900      2016  \n",
       "8       1954      2021  \n",
       "9       1934      2021  \n",
       "10      1980      2021  \n",
       "11      1940      2022  \n",
       "12      1938      2021  \n",
       "13      1994      2021  \n",
       "14      1944      2022  \n",
       "15      1968      2020  \n",
       "16      1948      2021  \n",
       "17      1921      2014  \n",
       "18      1956      2018  \n",
       "19      1958      2022  "
      ],
      "text/html": [
       "<div>\n",
       "<style scoped>\n",
       "    .dataframe tbody tr th:only-of-type {\n",
       "        vertical-align: middle;\n",
       "    }\n",
       "\n",
       "    .dataframe tbody tr th {\n",
       "        vertical-align: top;\n",
       "    }\n",
       "\n",
       "    .dataframe thead th {\n",
       "        text-align: right;\n",
       "    }\n",
       "</style>\n",
       "<table border=\"1\" class=\"dataframe\">\n",
       "  <thead>\n",
       "    <tr style=\"text-align: right;\">\n",
       "      <th></th>\n",
       "      <th>isPartOf</th>\n",
       "      <th>N</th>\n",
       "      <th>year_avr</th>\n",
       "      <th>year_min</th>\n",
       "      <th>year_max</th>\n",
       "    </tr>\n",
       "  </thead>\n",
       "  <tbody>\n",
       "    <tr>\n",
       "      <th>0</th>\n",
       "      <td>Religious Studies Review</td>\n",
       "      <td>1726</td>\n",
       "      <td>2009.49</td>\n",
       "      <td>1976</td>\n",
       "      <td>2021</td>\n",
       "    </tr>\n",
       "    <tr>\n",
       "      <th>1</th>\n",
       "      <td>The Catholic Biblical Quarterly</td>\n",
       "      <td>893</td>\n",
       "      <td>1991.07</td>\n",
       "      <td>1939</td>\n",
       "      <td>2016</td>\n",
       "    </tr>\n",
       "    <tr>\n",
       "      <th>2</th>\n",
       "      <td>Interpretation: A Journal of Bible and Theology</td>\n",
       "      <td>870</td>\n",
       "      <td>1983.02</td>\n",
       "      <td>1947</td>\n",
       "      <td>2021</td>\n",
       "    </tr>\n",
       "    <tr>\n",
       "      <th>3</th>\n",
       "      <td>Journal of Biblical Literature</td>\n",
       "      <td>847</td>\n",
       "      <td>1982.76</td>\n",
       "      <td>1901</td>\n",
       "      <td>2021</td>\n",
       "    </tr>\n",
       "    <tr>\n",
       "      <th>4</th>\n",
       "      <td>Expository Times</td>\n",
       "      <td>724</td>\n",
       "      <td>1987.36</td>\n",
       "      <td>1938</td>\n",
       "      <td>2022</td>\n",
       "    </tr>\n",
       "    <tr>\n",
       "      <th>5</th>\n",
       "      <td>Review &amp; Expositor: An International Baptist J...</td>\n",
       "      <td>719</td>\n",
       "      <td>1981.00</td>\n",
       "      <td>1932</td>\n",
       "      <td>2021</td>\n",
       "    </tr>\n",
       "    <tr>\n",
       "      <th>6</th>\n",
       "      <td>The Heythrop Journal</td>\n",
       "      <td>686</td>\n",
       "      <td>2012.38</td>\n",
       "      <td>1960</td>\n",
       "      <td>2021</td>\n",
       "    </tr>\n",
       "    <tr>\n",
       "      <th>7</th>\n",
       "      <td>The Journal of Theological Studies</td>\n",
       "      <td>492</td>\n",
       "      <td>1978.89</td>\n",
       "      <td>1900</td>\n",
       "      <td>2016</td>\n",
       "    </tr>\n",
       "    <tr>\n",
       "      <th>8</th>\n",
       "      <td>New Testament Studies</td>\n",
       "      <td>412</td>\n",
       "      <td>1988.89</td>\n",
       "      <td>1954</td>\n",
       "      <td>2021</td>\n",
       "    </tr>\n",
       "    <tr>\n",
       "      <th>9</th>\n",
       "      <td>Church History</td>\n",
       "      <td>379</td>\n",
       "      <td>1986.54</td>\n",
       "      <td>1934</td>\n",
       "      <td>2021</td>\n",
       "    </tr>\n",
       "    <tr>\n",
       "      <th>10</th>\n",
       "      <td>Journal for the Study of the New Testament</td>\n",
       "      <td>360</td>\n",
       "      <td>2004.37</td>\n",
       "      <td>1980</td>\n",
       "      <td>2021</td>\n",
       "    </tr>\n",
       "    <tr>\n",
       "      <th>11</th>\n",
       "      <td>Theological Studies</td>\n",
       "      <td>356</td>\n",
       "      <td>1982.53</td>\n",
       "      <td>1940</td>\n",
       "      <td>2022</td>\n",
       "    </tr>\n",
       "    <tr>\n",
       "      <th>12</th>\n",
       "      <td>Theology</td>\n",
       "      <td>330</td>\n",
       "      <td>1983.85</td>\n",
       "      <td>1938</td>\n",
       "      <td>2021</td>\n",
       "    </tr>\n",
       "    <tr>\n",
       "      <th>13</th>\n",
       "      <td>Reviews in Religion &amp; Theology</td>\n",
       "      <td>330</td>\n",
       "      <td>2010.17</td>\n",
       "      <td>1994</td>\n",
       "      <td>2021</td>\n",
       "    </tr>\n",
       "    <tr>\n",
       "      <th>14</th>\n",
       "      <td>Theology Today</td>\n",
       "      <td>300</td>\n",
       "      <td>1982.91</td>\n",
       "      <td>1944</td>\n",
       "      <td>2022</td>\n",
       "    </tr>\n",
       "    <tr>\n",
       "      <th>15</th>\n",
       "      <td>Neotestamentica</td>\n",
       "      <td>292</td>\n",
       "      <td>2003.45</td>\n",
       "      <td>1968</td>\n",
       "      <td>2020</td>\n",
       "    </tr>\n",
       "    <tr>\n",
       "      <th>16</th>\n",
       "      <td>Scottish Journal of Theology</td>\n",
       "      <td>290</td>\n",
       "      <td>1979.91</td>\n",
       "      <td>1948</td>\n",
       "      <td>2021</td>\n",
       "    </tr>\n",
       "    <tr>\n",
       "      <th>17</th>\n",
       "      <td>The Journal of Religion</td>\n",
       "      <td>281</td>\n",
       "      <td>1964.22</td>\n",
       "      <td>1921</td>\n",
       "      <td>2014</td>\n",
       "    </tr>\n",
       "    <tr>\n",
       "      <th>18</th>\n",
       "      <td>Novum Testamentum</td>\n",
       "      <td>278</td>\n",
       "      <td>1994.29</td>\n",
       "      <td>1956</td>\n",
       "      <td>2018</td>\n",
       "    </tr>\n",
       "    <tr>\n",
       "      <th>19</th>\n",
       "      <td>Missiology: An International Review</td>\n",
       "      <td>247</td>\n",
       "      <td>1996.37</td>\n",
       "      <td>1958</td>\n",
       "      <td>2022</td>\n",
       "    </tr>\n",
       "  </tbody>\n",
       "</table>\n",
       "</div>"
      ]
     },
     "execution_count": 13,
     "metadata": {},
     "output_type": "execute_result"
    }
   ],
   "execution_count": 13
  },
  {
   "metadata": {
    "ExecuteTime": {
     "end_time": "2025-03-04T19:36:07.254132Z",
     "start_time": "2025-03-04T19:36:07.245738Z"
    }
   },
   "cell_type": "code",
   "source": "journals_df[:100]",
   "outputs": [
    {
     "data": {
      "text/plain": [
       "                                           isPartOf     N     year_avr  \\\n",
       "0                          Religious Studies Review  1726  2009.486674   \n",
       "1                   The Catholic Biblical Quarterly   893  1991.070549   \n",
       "2   Interpretation: A Journal of Bible and Theology   870  1983.020690   \n",
       "3                    Journal of Biblical Literature   847  1982.760331   \n",
       "4                                  Expository Times   724  1987.357735   \n",
       "..                                              ...   ...          ...   \n",
       "95                    Studies in World Christianity    35  2003.800000   \n",
       "96       Journal for the Study of the Old Testament    35  2006.142857   \n",
       "97                       The Biblical Archaeologist    35  1969.971429   \n",
       "98                   Anglican and Episcopal History    34  2005.705882   \n",
       "99     International Journal of Systematic Theology    34  2017.205882   \n",
       "\n",
       "    year_min  year_max  \n",
       "0       1976      2021  \n",
       "1       1939      2016  \n",
       "2       1947      2021  \n",
       "3       1901      2021  \n",
       "4       1938      2022  \n",
       "..       ...       ...  \n",
       "95      1995      2017  \n",
       "96      1978      2020  \n",
       "97      1939      1994  \n",
       "98      1988      2019  \n",
       "99      2012      2021  \n",
       "\n",
       "[100 rows x 5 columns]"
      ],
      "text/html": [
       "<div>\n",
       "<style scoped>\n",
       "    .dataframe tbody tr th:only-of-type {\n",
       "        vertical-align: middle;\n",
       "    }\n",
       "\n",
       "    .dataframe tbody tr th {\n",
       "        vertical-align: top;\n",
       "    }\n",
       "\n",
       "    .dataframe thead th {\n",
       "        text-align: right;\n",
       "    }\n",
       "</style>\n",
       "<table border=\"1\" class=\"dataframe\">\n",
       "  <thead>\n",
       "    <tr style=\"text-align: right;\">\n",
       "      <th></th>\n",
       "      <th>isPartOf</th>\n",
       "      <th>N</th>\n",
       "      <th>year_avr</th>\n",
       "      <th>year_min</th>\n",
       "      <th>year_max</th>\n",
       "    </tr>\n",
       "  </thead>\n",
       "  <tbody>\n",
       "    <tr>\n",
       "      <th>0</th>\n",
       "      <td>Religious Studies Review</td>\n",
       "      <td>1726</td>\n",
       "      <td>2009.486674</td>\n",
       "      <td>1976</td>\n",
       "      <td>2021</td>\n",
       "    </tr>\n",
       "    <tr>\n",
       "      <th>1</th>\n",
       "      <td>The Catholic Biblical Quarterly</td>\n",
       "      <td>893</td>\n",
       "      <td>1991.070549</td>\n",
       "      <td>1939</td>\n",
       "      <td>2016</td>\n",
       "    </tr>\n",
       "    <tr>\n",
       "      <th>2</th>\n",
       "      <td>Interpretation: A Journal of Bible and Theology</td>\n",
       "      <td>870</td>\n",
       "      <td>1983.020690</td>\n",
       "      <td>1947</td>\n",
       "      <td>2021</td>\n",
       "    </tr>\n",
       "    <tr>\n",
       "      <th>3</th>\n",
       "      <td>Journal of Biblical Literature</td>\n",
       "      <td>847</td>\n",
       "      <td>1982.760331</td>\n",
       "      <td>1901</td>\n",
       "      <td>2021</td>\n",
       "    </tr>\n",
       "    <tr>\n",
       "      <th>4</th>\n",
       "      <td>Expository Times</td>\n",
       "      <td>724</td>\n",
       "      <td>1987.357735</td>\n",
       "      <td>1938</td>\n",
       "      <td>2022</td>\n",
       "    </tr>\n",
       "    <tr>\n",
       "      <th>...</th>\n",
       "      <td>...</td>\n",
       "      <td>...</td>\n",
       "      <td>...</td>\n",
       "      <td>...</td>\n",
       "      <td>...</td>\n",
       "    </tr>\n",
       "    <tr>\n",
       "      <th>95</th>\n",
       "      <td>Studies in World Christianity</td>\n",
       "      <td>35</td>\n",
       "      <td>2003.800000</td>\n",
       "      <td>1995</td>\n",
       "      <td>2017</td>\n",
       "    </tr>\n",
       "    <tr>\n",
       "      <th>96</th>\n",
       "      <td>Journal for the Study of the Old Testament</td>\n",
       "      <td>35</td>\n",
       "      <td>2006.142857</td>\n",
       "      <td>1978</td>\n",
       "      <td>2020</td>\n",
       "    </tr>\n",
       "    <tr>\n",
       "      <th>97</th>\n",
       "      <td>The Biblical Archaeologist</td>\n",
       "      <td>35</td>\n",
       "      <td>1969.971429</td>\n",
       "      <td>1939</td>\n",
       "      <td>1994</td>\n",
       "    </tr>\n",
       "    <tr>\n",
       "      <th>98</th>\n",
       "      <td>Anglican and Episcopal History</td>\n",
       "      <td>34</td>\n",
       "      <td>2005.705882</td>\n",
       "      <td>1988</td>\n",
       "      <td>2019</td>\n",
       "    </tr>\n",
       "    <tr>\n",
       "      <th>99</th>\n",
       "      <td>International Journal of Systematic Theology</td>\n",
       "      <td>34</td>\n",
       "      <td>2017.205882</td>\n",
       "      <td>2012</td>\n",
       "      <td>2021</td>\n",
       "    </tr>\n",
       "  </tbody>\n",
       "</table>\n",
       "<p>100 rows × 5 columns</p>\n",
       "</div>"
      ]
     },
     "execution_count": 15,
     "metadata": {},
     "output_type": "execute_result"
    }
   ],
   "execution_count": 15
  },
  {
   "metadata": {
    "ExecuteTime": {
     "end_time": "2025-03-04T19:53:30.370750Z",
     "start_time": "2025-03-04T19:53:28.658542Z"
    }
   },
   "cell_type": "code",
   "source": "google_conf.set_with_dataframe(mops_data.add_worksheet(\"journals_100\", 1,1), journals_df[:100])",
   "outputs": [],
   "execution_count": 17
  },
  {
   "metadata": {
    "ExecuteTime": {
     "end_time": "2025-03-04T14:05:32.239475Z",
     "start_time": "2025-03-04T14:05:32.235302Z"
    }
   },
   "cell_type": "code",
   "source": [
    "\n",
    "journals_df[\"N\"].sum()"
   ],
   "outputs": [
    {
     "data": {
      "text/plain": [
       "25000"
      ]
     },
     "execution_count": 34,
     "metadata": {},
     "output_type": "execute_result"
    }
   ],
   "execution_count": 34
  },
  {
   "metadata": {
    "ExecuteTime": {
     "end_time": "2025-03-04T14:11:05.945061Z",
     "start_time": "2025-03-04T14:11:05.940074Z"
    }
   },
   "cell_type": "code",
   "source": "journals_df[:50][\"N\"].sum()",
   "outputs": [
    {
     "data": {
      "text/plain": [
       "14808"
      ]
     },
     "execution_count": 35,
     "metadata": {},
     "output_type": "execute_result"
    }
   ],
   "execution_count": 35
  },
  {
   "cell_type": "code",
   "execution_count": 102,
   "outputs": [
    {
     "data": {
      "text/plain": "['Religious Studies Review',\n 'The Catholic Biblical Quarterly',\n 'Interpretation: A Journal of Bible and Theology',\n 'Journal of Biblical Literature',\n 'Expository Times',\n 'Review & Expositor: An International Baptist Journal',\n 'The Heythrop Journal',\n 'The Journal of Theological Studies',\n 'New Testament Studies',\n 'Church History',\n 'Journal for the Study of the New Testament',\n 'Theological Studies',\n 'Theology',\n 'Reviews in Religion & Theology',\n 'Theology Today',\n 'Neotestamentica',\n 'Scottish Journal of Theology',\n 'The Journal of Religion',\n 'Novum Testamentum',\n 'Missiology: An International Review']"
     },
     "execution_count": 102,
     "metadata": {},
     "output_type": "execute_result"
    }
   ],
   "source": [
    "journals_df[\"isPartOf\"].tolist()[:20]"
   ],
   "metadata": {
    "collapsed": false,
    "ExecuteTime": {
     "end_time": "2023-05-08T16:45:52.238474Z",
     "start_time": "2023-05-08T16:45:52.233031Z"
    }
   }
  },
  {
   "cell_type": "code",
   "execution_count": 12,
   "outputs": [],
   "source": [
    "#google_conf.set_with_dataframe(mops_data.add_worksheet(\"jstor_journals_minmaxavryear\", 1, 1), journals_df.reset_index())"
   ],
   "metadata": {
    "collapsed": false,
    "ExecuteTime": {
     "start_time": "2023-03-31T13:47:21.984018Z",
     "end_time": "2023-03-31T13:47:22.001824Z"
    }
   }
  },
  {
   "metadata": {},
   "cell_type": "markdown",
   "source": "#"
  },
  {
   "cell_type": "code",
   "execution_count": 13,
   "outputs": [
    {
     "data": {
      "text/plain": "(25000, 29)"
     },
     "execution_count": 13,
     "metadata": {},
     "output_type": "execute_result"
    }
   ],
   "source": [
    "metadata_df.shape"
   ],
   "metadata": {
    "collapsed": false,
    "ExecuteTime": {
     "start_time": "2023-03-31T13:47:22.392775Z",
     "end_time": "2023-03-31T13:47:22.411577Z"
    }
   }
  },
  {
   "cell_type": "code",
   "execution_count": 45,
   "outputs": [
    {
     "data": {
      "text/plain": "232665684"
     },
     "execution_count": 45,
     "metadata": {},
     "output_type": "execute_result"
    }
   ],
   "source": [
    "metadata_df[\"wordCount\"].sum()"
   ],
   "metadata": {
    "collapsed": false,
    "ExecuteTime": {
     "end_time": "2023-05-07T10:09:10.433255Z",
     "start_time": "2023-05-07T10:09:10.390864Z"
    }
   }
  },
  {
   "cell_type": "code",
   "execution_count": 15,
   "outputs": [
    {
     "data": {
      "text/plain": "                                                 creator datePublished  \\\n0                                      [Gerald F. Moede]    1974-04-01   \n1                                   [Ben C. Ollenburger]    1987-10-01   \n2                                      [Eric L. Johnson]    1997-03-01   \n3      [Kimberly Matheson, Hymie Anisman, Renate Ysse...    2010-02-01   \n4                                       [David J. Clark]    1975-01-01   \n...                                                  ...           ...   \n24995                                  [Lightner Witmer]    1922-07-01   \n24996            [Phyllis E. -- (Phyllis Ethel) Wachter]    2010-06-24   \n24997                                     [J. K. Mozley]    1933-07-01   \n24998                                 [Devora Steinmetz]    2016-11-01   \n24999                                               None    2007-04-01   \n\n       docType                                 doi  \\\n0      article  10.1111/j.1758-6623.1974.tb02427.x   \n1      article          10.1177/004057368704400307   \n2      article          10.1177/009164719702500102   \n3      article            10.1177/1088868309349693   \n4      article          10.1177/026009357502600107   \n...        ...                                 ...   \n24995  article                                None   \n24996  article                                None   \n24997  article                                None   \n24998  article                                None   \n24999  article                                None   \n\n                                         id  \\\n0                    ark://27927/phx7f872pd   \n1                   ark://27927/phx6238nb98   \n2                   ark://27927/phz2f6c9d3v   \n3                    ark://27927/pgfvbkcxrg   \n4                   ark://27927/phx5181bbsv   \n...                                     ...   \n24995      http://www.jstor.org/stable/6258   \n24996                ark://27927/phw50sgnbv   \n24997  http://www.jstor.org/stable/23955118   \n24998  http://www.jstor.org/stable/26375077   \n24999  http://www.jstor.org/stable/43726034   \n\n                                              identifier  \\\n0      [{'name': 'doi', 'value': '10.1111/j.1758-6623...   \n1      [{'name': 'doi', 'value': '10.1177/00405736870...   \n2      [{'name': 'doi', 'value': '10.1177/00916471970...   \n3      [{'name': 'doi', 'value': '10.1177/10888683093...   \n4      [{'name': 'doi', 'value': '10.1177/02600935750...   \n...                                                  ...   \n24995  [{'name': 'issn', 'value': '00963771'}, {'name...   \n24996  [{'name': 'local_publisher_id', 'value': 'S152...   \n24997  [{'name': 'issn', 'value': '00225185'}, {'name...   \n24998  [{'name': 'issn', 'value': '03640094'}, {'name...   \n24999  [{'name': 'issn', 'value': '00087912'}, {'name...   \n\n                                       isPartOf issueNumber  \\\n0                         The Ecumenical Review           2   \n1                                Theology Today           3   \n2            Journal of Psychology and Theology           1   \n3      Personality and Social Psychology Review           1   \n4              The Bible Translator (1950-2012)           1   \n...                                         ...         ...   \n24995                    The Scientific Monthly           1   \n24996                                 Biography           4   \n24997        The Journal of Theological Studies         135   \n24998                                AJS Review           2   \n24999           The Catholic Biblical Quarterly           2   \n\n                                               keyphrase language  \\\n0      [church, church union, christian unity, confes...    [eng]   \n1      [haarlem, miep gies, german, suffering, hollan...    [eng]   \n2      [kingdom, christian, creation, lordship, knowl...    [eng]   \n3      [religious, identity, religious identity, soci...    [eng]   \n4      [haenchen, overboard, barclay, apostles, went ...    [eng]   \n...                                                  ...      ...   \n24995                                               None    [eng]   \n24996  [autobiography, chter current, literary, writi...    [eng]   \n24997                                               None    [eng]   \n24998                                               None    [eng]   \n24999                                               None    [eng]   \n\n                               outputFormat  pageCount pageEnd pageStart  \\\n0                [unigram, bigram, trigram]         19     264       246   \n1                [unigram, bigram, trigram]         10     359       350   \n2                [unigram, bigram, trigram]         17      27        11   \n3                [unigram, bigram, trigram]         12      71        60   \n4                [unigram, bigram, trigram]          3     146       144   \n...                                     ...        ...     ...       ...   \n24995  [unigram, bigram, trigram, fullText]         11      67        57   \n24996            [unigram, bigram, trigram]         15     345       331   \n24997            [unigram, bigram, trigram]         11     304       294   \n24998            [unigram, bigram, trigram]         34     392       359   \n24999            [unigram, bigram, trigram]         12    None      None   \n\n        pagination provider  publicationYear  \\\n0          246-264  portico             1974   \n1      pp. 350-359  portico             1987   \n2        pp. 11-27  portico             1997   \n3            60-71  portico             2010   \n4      pp. 144-146  portico             1975   \n...            ...      ...              ...   \n24995    pp. 57-67    jstor             1922   \n24996  pp. 331-345  portico             2010   \n24997  pp. 294-304    jstor             1933   \n24998  pp. 359-392    jstor             2016   \n24999         None    jstor             2007   \n\n                                               publisher  sequence  \\\n0                                John Wiley & Sons, Inc.       7.0   \n1                                      SAGE Publications       7.0   \n2                                      SAGE Publications       2.0   \n3                                      SAGE Publications       6.0   \n4                                      SAGE Publications       7.0   \n...                                                  ...       ...   \n24995  American Association for the Advancement of Sc...       NaN   \n24996                                       Project MUSE       5.0   \n24997                            Oxford University Press       NaN   \n24998                         Cambridge University Press       NaN   \n24999                      Catholic Biblical Association       NaN   \n\n                                             tdmCategory  \\\n0      [Philosophy - Applied philosophy, Political sc...   \n1                      [Philosophy - Applied philosophy]   \n2                             [Philosophy - Metaphysics]   \n3      [Social sciences - Psychology, Social sciences...   \n4      [Linguistics - Grammar, Religion - Spiritual b...   \n...                                                  ...   \n24995                  [Philosophy - Applied philosophy]   \n24996                                [Arts - Literature]   \n24997              [Religion - Spiritual belief systems]   \n24998                                [Arts - Literature]   \n24999  [Religion - Spiritual belief systems, Religion...   \n\n                                                   title  \\\n0             CHURCH UNION AS A MODEL OF CHRISTIAN UNITY   \n1          Suffering and Hope: The Story Behind the Book   \n2                         Christ, the Lord of Psychology   \n3      Religiosity as Identity: Toward an Understandi...   \n4                             What Went Overboard First?   \n...                                                  ...   \n24995               What Is Intelligence and Who Has It?   \n24996  Bibliography of Works about Life-Writing for t...   \n24997                                     Review Article   \n24998  Interpretation and Enactment: The Yerushalmi S...   \n24999                                        Back Matter   \n\n                                                     url volumeNumber  \\\n0      http://doi.org/10.1111/j.1758-6623.1974.tb02427.x           26   \n1              http://doi.org/10.1177/004057368704400307           44   \n2              http://doi.org/10.1177/009164719702500102           25   \n3                http://doi.org/10.1177/1088868309349693           14   \n4              http://doi.org/10.1177/026009357502600107           26   \n...                                                  ...          ...   \n24995                   http://www.jstor.org/stable/6258           15   \n24996                                               None           10   \n24997               http://www.jstor.org/stable/23955118           34   \n24998               http://www.jstor.org/stable/26375077           40   \n24999               http://www.jstor.org/stable/43726034           69   \n\n       wordCount  id_kase        docSubType  \\\n0           7827        0              None   \n1           5181        1              None   \n2          13697        2              None   \n3           9915        3              None   \n4           1652        4              None   \n...          ...      ...               ...   \n24995       4982    24995  research-article   \n24996       6739    24996              None   \n24997       5801    24997       book-review   \n24998      20700    24998  research-article   \n24999       3016    24999              misc   \n\n                                          sourceCategory  \\\n0                                                   None   \n1                                                   None   \n2                                                   None   \n3                                                   None   \n4                                                   None   \n...                                                  ...   \n24995  [Biological Sciences, General Science, Science...   \n24996                                               None   \n24997                             [Religion, Humanities]   \n24998  [Language & Literature, Religion, History, Jew...   \n24999                             [Religion, Humanities]   \n\n                                                abstract subTitle  \n0                                                   None     None  \n1                                                   None     None  \n2                                                   None     None  \n3                                                   None     None  \n4                                                   None     None  \n...                                                  ...      ...  \n24995                                               None     None  \n24996                                               None     None  \n24997                                               None     None  \n24998  The aggadah about Elisha ben Abuyah and R. Mei...     None  \n24999                                               None     None  \n\n[25000 rows x 29 columns]",
      "text/html": "<div>\n<style scoped>\n    .dataframe tbody tr th:only-of-type {\n        vertical-align: middle;\n    }\n\n    .dataframe tbody tr th {\n        vertical-align: top;\n    }\n\n    .dataframe thead th {\n        text-align: right;\n    }\n</style>\n<table border=\"1\" class=\"dataframe\">\n  <thead>\n    <tr style=\"text-align: right;\">\n      <th></th>\n      <th>creator</th>\n      <th>datePublished</th>\n      <th>docType</th>\n      <th>doi</th>\n      <th>id</th>\n      <th>identifier</th>\n      <th>isPartOf</th>\n      <th>issueNumber</th>\n      <th>keyphrase</th>\n      <th>language</th>\n      <th>outputFormat</th>\n      <th>pageCount</th>\n      <th>pageEnd</th>\n      <th>pageStart</th>\n      <th>pagination</th>\n      <th>provider</th>\n      <th>publicationYear</th>\n      <th>publisher</th>\n      <th>sequence</th>\n      <th>tdmCategory</th>\n      <th>title</th>\n      <th>url</th>\n      <th>volumeNumber</th>\n      <th>wordCount</th>\n      <th>id_kase</th>\n      <th>docSubType</th>\n      <th>sourceCategory</th>\n      <th>abstract</th>\n      <th>subTitle</th>\n    </tr>\n  </thead>\n  <tbody>\n    <tr>\n      <th>0</th>\n      <td>[Gerald F. Moede]</td>\n      <td>1974-04-01</td>\n      <td>article</td>\n      <td>10.1111/j.1758-6623.1974.tb02427.x</td>\n      <td>ark://27927/phx7f872pd</td>\n      <td>[{'name': 'doi', 'value': '10.1111/j.1758-6623...</td>\n      <td>The Ecumenical Review</td>\n      <td>2</td>\n      <td>[church, church union, christian unity, confes...</td>\n      <td>[eng]</td>\n      <td>[unigram, bigram, trigram]</td>\n      <td>19</td>\n      <td>264</td>\n      <td>246</td>\n      <td>246-264</td>\n      <td>portico</td>\n      <td>1974</td>\n      <td>John Wiley &amp; Sons, Inc.</td>\n      <td>7.0</td>\n      <td>[Philosophy - Applied philosophy, Political sc...</td>\n      <td>CHURCH UNION AS A MODEL OF CHRISTIAN UNITY</td>\n      <td>http://doi.org/10.1111/j.1758-6623.1974.tb02427.x</td>\n      <td>26</td>\n      <td>7827</td>\n      <td>0</td>\n      <td>None</td>\n      <td>None</td>\n      <td>None</td>\n      <td>None</td>\n    </tr>\n    <tr>\n      <th>1</th>\n      <td>[Ben C. Ollenburger]</td>\n      <td>1987-10-01</td>\n      <td>article</td>\n      <td>10.1177/004057368704400307</td>\n      <td>ark://27927/phx6238nb98</td>\n      <td>[{'name': 'doi', 'value': '10.1177/00405736870...</td>\n      <td>Theology Today</td>\n      <td>3</td>\n      <td>[haarlem, miep gies, german, suffering, hollan...</td>\n      <td>[eng]</td>\n      <td>[unigram, bigram, trigram]</td>\n      <td>10</td>\n      <td>359</td>\n      <td>350</td>\n      <td>pp. 350-359</td>\n      <td>portico</td>\n      <td>1987</td>\n      <td>SAGE Publications</td>\n      <td>7.0</td>\n      <td>[Philosophy - Applied philosophy]</td>\n      <td>Suffering and Hope: The Story Behind the Book</td>\n      <td>http://doi.org/10.1177/004057368704400307</td>\n      <td>44</td>\n      <td>5181</td>\n      <td>1</td>\n      <td>None</td>\n      <td>None</td>\n      <td>None</td>\n      <td>None</td>\n    </tr>\n    <tr>\n      <th>2</th>\n      <td>[Eric L. Johnson]</td>\n      <td>1997-03-01</td>\n      <td>article</td>\n      <td>10.1177/009164719702500102</td>\n      <td>ark://27927/phz2f6c9d3v</td>\n      <td>[{'name': 'doi', 'value': '10.1177/00916471970...</td>\n      <td>Journal of Psychology and Theology</td>\n      <td>1</td>\n      <td>[kingdom, christian, creation, lordship, knowl...</td>\n      <td>[eng]</td>\n      <td>[unigram, bigram, trigram]</td>\n      <td>17</td>\n      <td>27</td>\n      <td>11</td>\n      <td>pp. 11-27</td>\n      <td>portico</td>\n      <td>1997</td>\n      <td>SAGE Publications</td>\n      <td>2.0</td>\n      <td>[Philosophy - Metaphysics]</td>\n      <td>Christ, the Lord of Psychology</td>\n      <td>http://doi.org/10.1177/009164719702500102</td>\n      <td>25</td>\n      <td>13697</td>\n      <td>2</td>\n      <td>None</td>\n      <td>None</td>\n      <td>None</td>\n      <td>None</td>\n    </tr>\n    <tr>\n      <th>3</th>\n      <td>[Kimberly Matheson, Hymie Anisman, Renate Ysse...</td>\n      <td>2010-02-01</td>\n      <td>article</td>\n      <td>10.1177/1088868309349693</td>\n      <td>ark://27927/pgfvbkcxrg</td>\n      <td>[{'name': 'doi', 'value': '10.1177/10888683093...</td>\n      <td>Personality and Social Psychology Review</td>\n      <td>1</td>\n      <td>[religious, identity, religious identity, soci...</td>\n      <td>[eng]</td>\n      <td>[unigram, bigram, trigram]</td>\n      <td>12</td>\n      <td>71</td>\n      <td>60</td>\n      <td>60-71</td>\n      <td>portico</td>\n      <td>2010</td>\n      <td>SAGE Publications</td>\n      <td>6.0</td>\n      <td>[Social sciences - Psychology, Social sciences...</td>\n      <td>Religiosity as Identity: Toward an Understandi...</td>\n      <td>http://doi.org/10.1177/1088868309349693</td>\n      <td>14</td>\n      <td>9915</td>\n      <td>3</td>\n      <td>None</td>\n      <td>None</td>\n      <td>None</td>\n      <td>None</td>\n    </tr>\n    <tr>\n      <th>4</th>\n      <td>[David J. Clark]</td>\n      <td>1975-01-01</td>\n      <td>article</td>\n      <td>10.1177/026009357502600107</td>\n      <td>ark://27927/phx5181bbsv</td>\n      <td>[{'name': 'doi', 'value': '10.1177/02600935750...</td>\n      <td>The Bible Translator (1950-2012)</td>\n      <td>1</td>\n      <td>[haenchen, overboard, barclay, apostles, went ...</td>\n      <td>[eng]</td>\n      <td>[unigram, bigram, trigram]</td>\n      <td>3</td>\n      <td>146</td>\n      <td>144</td>\n      <td>pp. 144-146</td>\n      <td>portico</td>\n      <td>1975</td>\n      <td>SAGE Publications</td>\n      <td>7.0</td>\n      <td>[Linguistics - Grammar, Religion - Spiritual b...</td>\n      <td>What Went Overboard First?</td>\n      <td>http://doi.org/10.1177/026009357502600107</td>\n      <td>26</td>\n      <td>1652</td>\n      <td>4</td>\n      <td>None</td>\n      <td>None</td>\n      <td>None</td>\n      <td>None</td>\n    </tr>\n    <tr>\n      <th>...</th>\n      <td>...</td>\n      <td>...</td>\n      <td>...</td>\n      <td>...</td>\n      <td>...</td>\n      <td>...</td>\n      <td>...</td>\n      <td>...</td>\n      <td>...</td>\n      <td>...</td>\n      <td>...</td>\n      <td>...</td>\n      <td>...</td>\n      <td>...</td>\n      <td>...</td>\n      <td>...</td>\n      <td>...</td>\n      <td>...</td>\n      <td>...</td>\n      <td>...</td>\n      <td>...</td>\n      <td>...</td>\n      <td>...</td>\n      <td>...</td>\n      <td>...</td>\n      <td>...</td>\n      <td>...</td>\n      <td>...</td>\n      <td>...</td>\n    </tr>\n    <tr>\n      <th>24995</th>\n      <td>[Lightner Witmer]</td>\n      <td>1922-07-01</td>\n      <td>article</td>\n      <td>None</td>\n      <td>http://www.jstor.org/stable/6258</td>\n      <td>[{'name': 'issn', 'value': '00963771'}, {'name...</td>\n      <td>The Scientific Monthly</td>\n      <td>1</td>\n      <td>None</td>\n      <td>[eng]</td>\n      <td>[unigram, bigram, trigram, fullText]</td>\n      <td>11</td>\n      <td>67</td>\n      <td>57</td>\n      <td>pp. 57-67</td>\n      <td>jstor</td>\n      <td>1922</td>\n      <td>American Association for the Advancement of Sc...</td>\n      <td>NaN</td>\n      <td>[Philosophy - Applied philosophy]</td>\n      <td>What Is Intelligence and Who Has It?</td>\n      <td>http://www.jstor.org/stable/6258</td>\n      <td>15</td>\n      <td>4982</td>\n      <td>24995</td>\n      <td>research-article</td>\n      <td>[Biological Sciences, General Science, Science...</td>\n      <td>None</td>\n      <td>None</td>\n    </tr>\n    <tr>\n      <th>24996</th>\n      <td>[Phyllis E. -- (Phyllis Ethel) Wachter]</td>\n      <td>2010-06-24</td>\n      <td>article</td>\n      <td>None</td>\n      <td>ark://27927/phw50sgnbv</td>\n      <td>[{'name': 'local_publisher_id', 'value': 'S152...</td>\n      <td>Biography</td>\n      <td>4</td>\n      <td>[autobiography, chter current, literary, writi...</td>\n      <td>[eng]</td>\n      <td>[unigram, bigram, trigram]</td>\n      <td>15</td>\n      <td>345</td>\n      <td>331</td>\n      <td>pp. 331-345</td>\n      <td>portico</td>\n      <td>2010</td>\n      <td>Project MUSE</td>\n      <td>5.0</td>\n      <td>[Arts - Literature]</td>\n      <td>Bibliography of Works about Life-Writing for t...</td>\n      <td>None</td>\n      <td>10</td>\n      <td>6739</td>\n      <td>24996</td>\n      <td>None</td>\n      <td>None</td>\n      <td>None</td>\n      <td>None</td>\n    </tr>\n    <tr>\n      <th>24997</th>\n      <td>[J. K. Mozley]</td>\n      <td>1933-07-01</td>\n      <td>article</td>\n      <td>None</td>\n      <td>http://www.jstor.org/stable/23955118</td>\n      <td>[{'name': 'issn', 'value': '00225185'}, {'name...</td>\n      <td>The Journal of Theological Studies</td>\n      <td>135</td>\n      <td>None</td>\n      <td>[eng]</td>\n      <td>[unigram, bigram, trigram]</td>\n      <td>11</td>\n      <td>304</td>\n      <td>294</td>\n      <td>pp. 294-304</td>\n      <td>jstor</td>\n      <td>1933</td>\n      <td>Oxford University Press</td>\n      <td>NaN</td>\n      <td>[Religion - Spiritual belief systems]</td>\n      <td>Review Article</td>\n      <td>http://www.jstor.org/stable/23955118</td>\n      <td>34</td>\n      <td>5801</td>\n      <td>24997</td>\n      <td>book-review</td>\n      <td>[Religion, Humanities]</td>\n      <td>None</td>\n      <td>None</td>\n    </tr>\n    <tr>\n      <th>24998</th>\n      <td>[Devora Steinmetz]</td>\n      <td>2016-11-01</td>\n      <td>article</td>\n      <td>None</td>\n      <td>http://www.jstor.org/stable/26375077</td>\n      <td>[{'name': 'issn', 'value': '03640094'}, {'name...</td>\n      <td>AJS Review</td>\n      <td>2</td>\n      <td>None</td>\n      <td>[eng]</td>\n      <td>[unigram, bigram, trigram]</td>\n      <td>34</td>\n      <td>392</td>\n      <td>359</td>\n      <td>pp. 359-392</td>\n      <td>jstor</td>\n      <td>2016</td>\n      <td>Cambridge University Press</td>\n      <td>NaN</td>\n      <td>[Arts - Literature]</td>\n      <td>Interpretation and Enactment: The Yerushalmi S...</td>\n      <td>http://www.jstor.org/stable/26375077</td>\n      <td>40</td>\n      <td>20700</td>\n      <td>24998</td>\n      <td>research-article</td>\n      <td>[Language &amp; Literature, Religion, History, Jew...</td>\n      <td>The aggadah about Elisha ben Abuyah and R. Mei...</td>\n      <td>None</td>\n    </tr>\n    <tr>\n      <th>24999</th>\n      <td>None</td>\n      <td>2007-04-01</td>\n      <td>article</td>\n      <td>None</td>\n      <td>http://www.jstor.org/stable/43726034</td>\n      <td>[{'name': 'issn', 'value': '00087912'}, {'name...</td>\n      <td>The Catholic Biblical Quarterly</td>\n      <td>2</td>\n      <td>None</td>\n      <td>[eng]</td>\n      <td>[unigram, bigram, trigram]</td>\n      <td>12</td>\n      <td>None</td>\n      <td>None</td>\n      <td>None</td>\n      <td>jstor</td>\n      <td>2007</td>\n      <td>Catholic Biblical Association</td>\n      <td>NaN</td>\n      <td>[Religion - Spiritual belief systems, Religion...</td>\n      <td>Back Matter</td>\n      <td>http://www.jstor.org/stable/43726034</td>\n      <td>69</td>\n      <td>3016</td>\n      <td>24999</td>\n      <td>misc</td>\n      <td>[Religion, Humanities]</td>\n      <td>None</td>\n      <td>None</td>\n    </tr>\n  </tbody>\n</table>\n<p>25000 rows × 29 columns</p>\n</div>"
     },
     "execution_count": 15,
     "metadata": {},
     "output_type": "execute_result"
    }
   ],
   "source": [
    "metadata_df"
   ],
   "metadata": {
    "collapsed": false,
    "ExecuteTime": {
     "start_time": "2023-03-31T13:47:22.909024Z",
     "end_time": "2023-03-31T13:47:22.929580Z"
    }
   }
  },
  {
   "cell_type": "code",
   "execution_count": 46,
   "outputs": [],
   "source": [
    "mask_articles = metadata_df[\"docSubType\"]==\"research-article\""
   ],
   "metadata": {
    "collapsed": false,
    "ExecuteTime": {
     "end_time": "2023-05-07T10:10:18.266034Z",
     "start_time": "2023-05-07T10:10:18.238409Z"
    }
   }
  },
  {
   "cell_type": "code",
   "execution_count": 47,
   "outputs": [
    {
     "data": {
      "text/plain": "10711"
     },
     "execution_count": 47,
     "metadata": {},
     "output_type": "execute_result"
    }
   ],
   "source": [
    "# but there is also a lot of empty\n",
    "(metadata_df[\"docSubType\"].isnull()).sum()"
   ],
   "metadata": {
    "collapsed": false,
    "ExecuteTime": {
     "end_time": "2023-05-07T10:10:22.165906Z",
     "start_time": "2023-05-07T10:10:22.151706Z"
    }
   }
  },
  {
   "cell_type": "code",
   "execution_count": 48,
   "outputs": [
    {
     "data": {
      "text/plain": "                                                 creator datePublished  \\\n0                                      [Gerald F. Moede]    1974-04-01   \n1                                   [Ben C. Ollenburger]    1987-10-01   \n2                                      [Eric L. Johnson]    1997-03-01   \n3      [Kimberly Matheson, Hymie Anisman, Renate Ysse...    2010-02-01   \n4                                       [David J. Clark]    1975-01-01   \n...                                                  ...           ...   \n24965                                   [Douglas J. Moo]    1986-01-01   \n24970                                [Barbara Ann Hedin]    1996-01-01   \n24980                                                 []    1988-09-01   \n24985                                    [Nancy Roberts]    2011-01-01   \n24996            [Phyllis E. -- (Phyllis Ethel) Wachter]    2010-06-24   \n\n       docType                                 doi                       id  \\\n0      article  10.1111/j.1758-6623.1974.tb02427.x   ark://27927/phx7f872pd   \n1      article          10.1177/004057368704400307  ark://27927/phx6238nb98   \n2      article          10.1177/009164719702500102  ark://27927/phz2f6c9d3v   \n3      article            10.1177/1088868309349693   ark://27927/pgfvbkcxrg   \n4      article          10.1177/026009357502600107  ark://27927/phx5181bbsv   \n...        ...                                 ...                      ...   \n24965  article           10.1017/S0028688500013540   ark://27927/pgj9fc0k3z   \n24970  article          10.1177/002096439605000108  ark://27927/phx61z5xbcv   \n24980  article          10.1177/004056398804900333  ark://27927/phx615xwqs1   \n24985  article    10.1111/j.1478-1913.2010.01340.x   ark://27927/phwfg4ph78   \n24996  article                                None   ark://27927/phw50sgnbv   \n\n                                              identifier  \\\n0      [{'name': 'doi', 'value': '10.1111/j.1758-6623...   \n1      [{'name': 'doi', 'value': '10.1177/00405736870...   \n2      [{'name': 'doi', 'value': '10.1177/00916471970...   \n3      [{'name': 'doi', 'value': '10.1177/10888683093...   \n4      [{'name': 'doi', 'value': '10.1177/02600935750...   \n...                                                  ...   \n24965  [{'name': 'local_publisher_id', 'value': 'S002...   \n24970  [{'name': 'doi', 'value': '10.1177/00209643960...   \n24980  [{'name': 'doi', 'value': '10.1177/00405639880...   \n24985  [{'name': 'doi', 'value': '10.1111/j.1478-1913...   \n24996  [{'name': 'local_publisher_id', 'value': 'S152...   \n\n                                              isPartOf issueNumber  \\\n0                                The Ecumenical Review           2   \n1                                       Theology Today           3   \n2                   Journal of Psychology and Theology           1   \n3             Personality and Social Psychology Review           1   \n4                     The Bible Translator (1950-2012)           1   \n...                                                ...         ...   \n24965                            New Testament Studies           1   \n24970  Interpretation: A Journal of Bible and Theology           1   \n24980                              Theological Studies           3   \n24985                                 The Muslim World           1   \n24996                                        Biography           4   \n\n                                               keyphrase language  \\\n0      [church, church union, christian unity, confes...    [eng]   \n1      [haarlem, miep gies, german, suffering, hollan...    [eng]   \n2      [kingdom, christian, creation, lordship, knowl...    [eng]   \n3      [religious, identity, religious identity, soci...    [eng]   \n4      [haenchen, overboard, barclay, apostles, went ...    [eng]   \n...                                                  ...      ...   \n24965  [romans, cranfield romans, israel, adamic view...    [eng]   \n24970  [spirit, passage, christ, verses, mortal bodie...    [eng]   \n24980  [church, shorter notices, christology, theolog...    [eng]   \n24985  [trinity, servetus, trinitarian, christ, holy ...    [eng]   \n24996  [autobiography, chter current, literary, writi...    [eng]   \n\n                     outputFormat  pageCount pageEnd pageStart   pagination  \\\n0      [unigram, bigram, trigram]         19     264       246      246-264   \n1      [unigram, bigram, trigram]         10     359       350  pp. 350-359   \n2      [unigram, bigram, trigram]         17      27        11    pp. 11-27   \n3      [unigram, bigram, trigram]         12      71        60        60-71   \n4      [unigram, bigram, trigram]          3     146       144  pp. 144-146   \n...                           ...        ...     ...       ...          ...   \n24965  [unigram, bigram, trigram]         14     135       122      122-135   \n24970  [unigram, bigram, trigram]          4      58        55    pp. 55-58   \n24980  [unigram, bigram, trigram]         17     589       573  pp. 573-589   \n24985  [unigram, bigram, trigram]         21      93        73    pp. 73-93   \n24996  [unigram, bigram, trigram]         15     345       331  pp. 331-345   \n\n      provider  publicationYear                   publisher  sequence  \\\n0      portico             1974     John Wiley & Sons, Inc.       7.0   \n1      portico             1987           SAGE Publications       7.0   \n2      portico             1997           SAGE Publications       2.0   \n3      portico             2010           SAGE Publications       6.0   \n4      portico             1975           SAGE Publications       7.0   \n...        ...              ...                         ...       ...   \n24965  portico             1986  Cambridge University Press       9.0   \n24970  portico             1996           SAGE Publications       8.0   \n24980  portico             1988           SAGE Publications      33.0   \n24985  portico             2011     John Wiley & Sons, Inc.       5.0   \n24996  portico             2010                Project MUSE       5.0   \n\n                                             tdmCategory  \\\n0      [Philosophy - Applied philosophy, Political sc...   \n1                      [Philosophy - Applied philosophy]   \n2                             [Philosophy - Metaphysics]   \n3      [Social sciences - Psychology, Social sciences...   \n4      [Linguistics - Grammar, Religion - Spiritual b...   \n...                                                  ...   \n24965  [Religion - Theology, History - Historical met...   \n24970  [History - Historical methodology, Philosophy ...   \n24980                  [Philosophy - Applied philosophy]   \n24985  [Religion - Theology, History - Historical met...   \n24996                                [Arts - Literature]   \n\n                                                   title  \\\n0             CHURCH UNION AS A MODEL OF CHRISTIAN UNITY   \n1          Suffering and Hope: The Story Behind the Book   \n2                         Christ, the Lord of Psychology   \n3      Religiosity as Identity: Toward an Understandi...   \n4                             What Went Overboard First?   \n...                                                  ...   \n24965                   Israel and Paul in Romans 7.7–12   \n24970                                      Romans 8:6–11   \n24980                                    Shorter Notices   \n24985         Trinity vs. Monotheism: A False Dichotomy?   \n24996  Bibliography of Works about Life-Writing for t...   \n\n                                                     url volumeNumber  \\\n0      http://doi.org/10.1111/j.1758-6623.1974.tb02427.x           26   \n1              http://doi.org/10.1177/004057368704400307           44   \n2              http://doi.org/10.1177/009164719702500102           25   \n3                http://doi.org/10.1177/1088868309349693           14   \n4              http://doi.org/10.1177/026009357502600107           26   \n...                                                  ...          ...   \n24965           http://doi.org/10.1017/S0028688500013540           32   \n24970          http://doi.org/10.1177/002096439605000108           50   \n24980          http://doi.org/10.1177/004056398804900333           49   \n24985    http://doi.org/10.1111/j.1478-1913.2010.01340.x          101   \n24996                                               None           10   \n\n       wordCount  id_kase docSubType sourceCategory abstract subTitle  \n0           7827        0       None           None     None     None  \n1           5181        1       None           None     None     None  \n2          13697        2       None           None     None     None  \n3           9915        3       None           None     None     None  \n4           1652        4       None           None     None     None  \n...          ...      ...        ...            ...      ...      ...  \n24965       8470    24965       None           None     None     None  \n24970       2057    24970       None           None     None     None  \n24980       9504    24980       None           None     None     None  \n24985      11944    24985       None           None     None     None  \n24996       6739    24996       None           None     None     None  \n\n[10711 rows x 29 columns]",
      "text/html": "<div>\n<style scoped>\n    .dataframe tbody tr th:only-of-type {\n        vertical-align: middle;\n    }\n\n    .dataframe tbody tr th {\n        vertical-align: top;\n    }\n\n    .dataframe thead th {\n        text-align: right;\n    }\n</style>\n<table border=\"1\" class=\"dataframe\">\n  <thead>\n    <tr style=\"text-align: right;\">\n      <th></th>\n      <th>creator</th>\n      <th>datePublished</th>\n      <th>docType</th>\n      <th>doi</th>\n      <th>id</th>\n      <th>identifier</th>\n      <th>isPartOf</th>\n      <th>issueNumber</th>\n      <th>keyphrase</th>\n      <th>language</th>\n      <th>outputFormat</th>\n      <th>pageCount</th>\n      <th>pageEnd</th>\n      <th>pageStart</th>\n      <th>pagination</th>\n      <th>provider</th>\n      <th>publicationYear</th>\n      <th>publisher</th>\n      <th>sequence</th>\n      <th>tdmCategory</th>\n      <th>title</th>\n      <th>url</th>\n      <th>volumeNumber</th>\n      <th>wordCount</th>\n      <th>id_kase</th>\n      <th>docSubType</th>\n      <th>sourceCategory</th>\n      <th>abstract</th>\n      <th>subTitle</th>\n    </tr>\n  </thead>\n  <tbody>\n    <tr>\n      <th>0</th>\n      <td>[Gerald F. Moede]</td>\n      <td>1974-04-01</td>\n      <td>article</td>\n      <td>10.1111/j.1758-6623.1974.tb02427.x</td>\n      <td>ark://27927/phx7f872pd</td>\n      <td>[{'name': 'doi', 'value': '10.1111/j.1758-6623...</td>\n      <td>The Ecumenical Review</td>\n      <td>2</td>\n      <td>[church, church union, christian unity, confes...</td>\n      <td>[eng]</td>\n      <td>[unigram, bigram, trigram]</td>\n      <td>19</td>\n      <td>264</td>\n      <td>246</td>\n      <td>246-264</td>\n      <td>portico</td>\n      <td>1974</td>\n      <td>John Wiley &amp; Sons, Inc.</td>\n      <td>7.0</td>\n      <td>[Philosophy - Applied philosophy, Political sc...</td>\n      <td>CHURCH UNION AS A MODEL OF CHRISTIAN UNITY</td>\n      <td>http://doi.org/10.1111/j.1758-6623.1974.tb02427.x</td>\n      <td>26</td>\n      <td>7827</td>\n      <td>0</td>\n      <td>None</td>\n      <td>None</td>\n      <td>None</td>\n      <td>None</td>\n    </tr>\n    <tr>\n      <th>1</th>\n      <td>[Ben C. Ollenburger]</td>\n      <td>1987-10-01</td>\n      <td>article</td>\n      <td>10.1177/004057368704400307</td>\n      <td>ark://27927/phx6238nb98</td>\n      <td>[{'name': 'doi', 'value': '10.1177/00405736870...</td>\n      <td>Theology Today</td>\n      <td>3</td>\n      <td>[haarlem, miep gies, german, suffering, hollan...</td>\n      <td>[eng]</td>\n      <td>[unigram, bigram, trigram]</td>\n      <td>10</td>\n      <td>359</td>\n      <td>350</td>\n      <td>pp. 350-359</td>\n      <td>portico</td>\n      <td>1987</td>\n      <td>SAGE Publications</td>\n      <td>7.0</td>\n      <td>[Philosophy - Applied philosophy]</td>\n      <td>Suffering and Hope: The Story Behind the Book</td>\n      <td>http://doi.org/10.1177/004057368704400307</td>\n      <td>44</td>\n      <td>5181</td>\n      <td>1</td>\n      <td>None</td>\n      <td>None</td>\n      <td>None</td>\n      <td>None</td>\n    </tr>\n    <tr>\n      <th>2</th>\n      <td>[Eric L. Johnson]</td>\n      <td>1997-03-01</td>\n      <td>article</td>\n      <td>10.1177/009164719702500102</td>\n      <td>ark://27927/phz2f6c9d3v</td>\n      <td>[{'name': 'doi', 'value': '10.1177/00916471970...</td>\n      <td>Journal of Psychology and Theology</td>\n      <td>1</td>\n      <td>[kingdom, christian, creation, lordship, knowl...</td>\n      <td>[eng]</td>\n      <td>[unigram, bigram, trigram]</td>\n      <td>17</td>\n      <td>27</td>\n      <td>11</td>\n      <td>pp. 11-27</td>\n      <td>portico</td>\n      <td>1997</td>\n      <td>SAGE Publications</td>\n      <td>2.0</td>\n      <td>[Philosophy - Metaphysics]</td>\n      <td>Christ, the Lord of Psychology</td>\n      <td>http://doi.org/10.1177/009164719702500102</td>\n      <td>25</td>\n      <td>13697</td>\n      <td>2</td>\n      <td>None</td>\n      <td>None</td>\n      <td>None</td>\n      <td>None</td>\n    </tr>\n    <tr>\n      <th>3</th>\n      <td>[Kimberly Matheson, Hymie Anisman, Renate Ysse...</td>\n      <td>2010-02-01</td>\n      <td>article</td>\n      <td>10.1177/1088868309349693</td>\n      <td>ark://27927/pgfvbkcxrg</td>\n      <td>[{'name': 'doi', 'value': '10.1177/10888683093...</td>\n      <td>Personality and Social Psychology Review</td>\n      <td>1</td>\n      <td>[religious, identity, religious identity, soci...</td>\n      <td>[eng]</td>\n      <td>[unigram, bigram, trigram]</td>\n      <td>12</td>\n      <td>71</td>\n      <td>60</td>\n      <td>60-71</td>\n      <td>portico</td>\n      <td>2010</td>\n      <td>SAGE Publications</td>\n      <td>6.0</td>\n      <td>[Social sciences - Psychology, Social sciences...</td>\n      <td>Religiosity as Identity: Toward an Understandi...</td>\n      <td>http://doi.org/10.1177/1088868309349693</td>\n      <td>14</td>\n      <td>9915</td>\n      <td>3</td>\n      <td>None</td>\n      <td>None</td>\n      <td>None</td>\n      <td>None</td>\n    </tr>\n    <tr>\n      <th>4</th>\n      <td>[David J. Clark]</td>\n      <td>1975-01-01</td>\n      <td>article</td>\n      <td>10.1177/026009357502600107</td>\n      <td>ark://27927/phx5181bbsv</td>\n      <td>[{'name': 'doi', 'value': '10.1177/02600935750...</td>\n      <td>The Bible Translator (1950-2012)</td>\n      <td>1</td>\n      <td>[haenchen, overboard, barclay, apostles, went ...</td>\n      <td>[eng]</td>\n      <td>[unigram, bigram, trigram]</td>\n      <td>3</td>\n      <td>146</td>\n      <td>144</td>\n      <td>pp. 144-146</td>\n      <td>portico</td>\n      <td>1975</td>\n      <td>SAGE Publications</td>\n      <td>7.0</td>\n      <td>[Linguistics - Grammar, Religion - Spiritual b...</td>\n      <td>What Went Overboard First?</td>\n      <td>http://doi.org/10.1177/026009357502600107</td>\n      <td>26</td>\n      <td>1652</td>\n      <td>4</td>\n      <td>None</td>\n      <td>None</td>\n      <td>None</td>\n      <td>None</td>\n    </tr>\n    <tr>\n      <th>...</th>\n      <td>...</td>\n      <td>...</td>\n      <td>...</td>\n      <td>...</td>\n      <td>...</td>\n      <td>...</td>\n      <td>...</td>\n      <td>...</td>\n      <td>...</td>\n      <td>...</td>\n      <td>...</td>\n      <td>...</td>\n      <td>...</td>\n      <td>...</td>\n      <td>...</td>\n      <td>...</td>\n      <td>...</td>\n      <td>...</td>\n      <td>...</td>\n      <td>...</td>\n      <td>...</td>\n      <td>...</td>\n      <td>...</td>\n      <td>...</td>\n      <td>...</td>\n      <td>...</td>\n      <td>...</td>\n      <td>...</td>\n      <td>...</td>\n    </tr>\n    <tr>\n      <th>24965</th>\n      <td>[Douglas J. Moo]</td>\n      <td>1986-01-01</td>\n      <td>article</td>\n      <td>10.1017/S0028688500013540</td>\n      <td>ark://27927/pgj9fc0k3z</td>\n      <td>[{'name': 'local_publisher_id', 'value': 'S002...</td>\n      <td>New Testament Studies</td>\n      <td>1</td>\n      <td>[romans, cranfield romans, israel, adamic view...</td>\n      <td>[eng]</td>\n      <td>[unigram, bigram, trigram]</td>\n      <td>14</td>\n      <td>135</td>\n      <td>122</td>\n      <td>122-135</td>\n      <td>portico</td>\n      <td>1986</td>\n      <td>Cambridge University Press</td>\n      <td>9.0</td>\n      <td>[Religion - Theology, History - Historical met...</td>\n      <td>Israel and Paul in Romans 7.7–12</td>\n      <td>http://doi.org/10.1017/S0028688500013540</td>\n      <td>32</td>\n      <td>8470</td>\n      <td>24965</td>\n      <td>None</td>\n      <td>None</td>\n      <td>None</td>\n      <td>None</td>\n    </tr>\n    <tr>\n      <th>24970</th>\n      <td>[Barbara Ann Hedin]</td>\n      <td>1996-01-01</td>\n      <td>article</td>\n      <td>10.1177/002096439605000108</td>\n      <td>ark://27927/phx61z5xbcv</td>\n      <td>[{'name': 'doi', 'value': '10.1177/00209643960...</td>\n      <td>Interpretation: A Journal of Bible and Theology</td>\n      <td>1</td>\n      <td>[spirit, passage, christ, verses, mortal bodie...</td>\n      <td>[eng]</td>\n      <td>[unigram, bigram, trigram]</td>\n      <td>4</td>\n      <td>58</td>\n      <td>55</td>\n      <td>pp. 55-58</td>\n      <td>portico</td>\n      <td>1996</td>\n      <td>SAGE Publications</td>\n      <td>8.0</td>\n      <td>[History - Historical methodology, Philosophy ...</td>\n      <td>Romans 8:6–11</td>\n      <td>http://doi.org/10.1177/002096439605000108</td>\n      <td>50</td>\n      <td>2057</td>\n      <td>24970</td>\n      <td>None</td>\n      <td>None</td>\n      <td>None</td>\n      <td>None</td>\n    </tr>\n    <tr>\n      <th>24980</th>\n      <td>[]</td>\n      <td>1988-09-01</td>\n      <td>article</td>\n      <td>10.1177/004056398804900333</td>\n      <td>ark://27927/phx615xwqs1</td>\n      <td>[{'name': 'doi', 'value': '10.1177/00405639880...</td>\n      <td>Theological Studies</td>\n      <td>3</td>\n      <td>[church, shorter notices, christology, theolog...</td>\n      <td>[eng]</td>\n      <td>[unigram, bigram, trigram]</td>\n      <td>17</td>\n      <td>589</td>\n      <td>573</td>\n      <td>pp. 573-589</td>\n      <td>portico</td>\n      <td>1988</td>\n      <td>SAGE Publications</td>\n      <td>33.0</td>\n      <td>[Philosophy - Applied philosophy]</td>\n      <td>Shorter Notices</td>\n      <td>http://doi.org/10.1177/004056398804900333</td>\n      <td>49</td>\n      <td>9504</td>\n      <td>24980</td>\n      <td>None</td>\n      <td>None</td>\n      <td>None</td>\n      <td>None</td>\n    </tr>\n    <tr>\n      <th>24985</th>\n      <td>[Nancy Roberts]</td>\n      <td>2011-01-01</td>\n      <td>article</td>\n      <td>10.1111/j.1478-1913.2010.01340.x</td>\n      <td>ark://27927/phwfg4ph78</td>\n      <td>[{'name': 'doi', 'value': '10.1111/j.1478-1913...</td>\n      <td>The Muslim World</td>\n      <td>1</td>\n      <td>[trinity, servetus, trinitarian, christ, holy ...</td>\n      <td>[eng]</td>\n      <td>[unigram, bigram, trigram]</td>\n      <td>21</td>\n      <td>93</td>\n      <td>73</td>\n      <td>pp. 73-93</td>\n      <td>portico</td>\n      <td>2011</td>\n      <td>John Wiley &amp; Sons, Inc.</td>\n      <td>5.0</td>\n      <td>[Religion - Theology, History - Historical met...</td>\n      <td>Trinity vs. Monotheism: A False Dichotomy?</td>\n      <td>http://doi.org/10.1111/j.1478-1913.2010.01340.x</td>\n      <td>101</td>\n      <td>11944</td>\n      <td>24985</td>\n      <td>None</td>\n      <td>None</td>\n      <td>None</td>\n      <td>None</td>\n    </tr>\n    <tr>\n      <th>24996</th>\n      <td>[Phyllis E. -- (Phyllis Ethel) Wachter]</td>\n      <td>2010-06-24</td>\n      <td>article</td>\n      <td>None</td>\n      <td>ark://27927/phw50sgnbv</td>\n      <td>[{'name': 'local_publisher_id', 'value': 'S152...</td>\n      <td>Biography</td>\n      <td>4</td>\n      <td>[autobiography, chter current, literary, writi...</td>\n      <td>[eng]</td>\n      <td>[unigram, bigram, trigram]</td>\n      <td>15</td>\n      <td>345</td>\n      <td>331</td>\n      <td>pp. 331-345</td>\n      <td>portico</td>\n      <td>2010</td>\n      <td>Project MUSE</td>\n      <td>5.0</td>\n      <td>[Arts - Literature]</td>\n      <td>Bibliography of Works about Life-Writing for t...</td>\n      <td>None</td>\n      <td>10</td>\n      <td>6739</td>\n      <td>24996</td>\n      <td>None</td>\n      <td>None</td>\n      <td>None</td>\n      <td>None</td>\n    </tr>\n  </tbody>\n</table>\n<p>10711 rows × 29 columns</p>\n</div>"
     },
     "execution_count": 48,
     "metadata": {},
     "output_type": "execute_result"
    }
   ],
   "source": [
    "metadata_df[metadata_df[\"docSubType\"].isnull()]"
   ],
   "metadata": {
    "collapsed": false,
    "ExecuteTime": {
     "end_time": "2023-05-07T10:10:26.041246Z",
     "start_time": "2023-05-07T10:10:25.974398Z"
    }
   }
  },
  {
   "cell_type": "code",
   "execution_count": 19,
   "outputs": [
    {
     "data": {
      "text/plain": "7666"
     },
     "execution_count": 19,
     "metadata": {},
     "output_type": "execute_result"
    }
   ],
   "source": [
    "mask_articles.sum()"
   ],
   "metadata": {
    "collapsed": false,
    "ExecuteTime": {
     "start_time": "2023-03-31T13:47:25.340569Z",
     "end_time": "2023-03-31T13:47:25.358541Z"
    }
   }
  },
  {
   "cell_type": "code",
   "execution_count": 20,
   "outputs": [
    {
     "data": {
      "text/plain": "78667321"
     },
     "execution_count": 20,
     "metadata": {},
     "output_type": "execute_result"
    }
   ],
   "source": [
    "metadata_df[mask_articles][\"wordCount\"].sum()"
   ],
   "metadata": {
    "collapsed": false,
    "ExecuteTime": {
     "start_time": "2023-03-31T13:47:25.883561Z",
     "end_time": "2023-03-31T13:47:25.899320Z"
    }
   }
  },
  {
   "cell_type": "code",
   "execution_count": 21,
   "outputs": [
    {
     "data": {
      "text/plain": "13100"
     },
     "execution_count": 21,
     "metadata": {},
     "output_type": "execute_result"
    }
   ],
   "source": [
    "mask_doi = metadata_df[\"doi\"].notnull()\n",
    "len(metadata_df[mask_doi])"
   ],
   "metadata": {
    "collapsed": false,
    "ExecuteTime": {
     "start_time": "2023-03-31T13:47:26.289870Z",
     "end_time": "2023-03-31T13:47:26.315839Z"
    }
   }
  },
  {
   "cell_type": "code",
   "execution_count": 50,
   "outputs": [
    {
     "data": {
      "text/plain": "provider\njstor      11205\nportico    13795\ndtype: int64"
     },
     "execution_count": 50,
     "metadata": {},
     "output_type": "execute_result"
    }
   ],
   "source": [
    "metadata_df.groupby(\"provider\").size()"
   ],
   "metadata": {
    "collapsed": false,
    "ExecuteTime": {
     "end_time": "2023-05-07T10:12:50.585711Z",
     "start_time": "2023-05-07T10:12:50.573346Z"
    }
   }
  },
  {
   "cell_type": "markdown",
   "source": [
    "# Define year, decade, and bidecade"
   ],
   "metadata": {
    "collapsed": false
   }
  },
  {
   "cell_type": "code",
   "execution_count": 11,
   "outputs": [],
   "source": [
    "metadata_df[\"year\"] = metadata_df[\"datePublished\"].apply(lambda x: int(x.partition(\"-\")[0]))"
   ],
   "metadata": {
    "collapsed": false,
    "ExecuteTime": {
     "end_time": "2023-05-10T10:51:33.152159Z",
     "start_time": "2023-05-10T10:51:33.104848Z"
    }
   }
  },
  {
   "cell_type": "code",
   "execution_count": 12,
   "outputs": [
    {
     "data": {
      "text/plain": "24997"
     },
     "execution_count": 12,
     "metadata": {},
     "output_type": "execute_result"
    }
   ],
   "source": [
    "(metadata_df[\"year\"] >= 1900).sum()"
   ],
   "metadata": {
    "collapsed": false,
    "ExecuteTime": {
     "end_time": "2023-05-10T10:51:33.380583Z",
     "start_time": "2023-05-10T10:51:33.372599Z"
    }
   }
  },
  {
   "cell_type": "code",
   "execution_count": 13,
   "outputs": [
    {
     "data": {
      "text/plain": "2022"
     },
     "execution_count": 13,
     "metadata": {},
     "output_type": "execute_result"
    }
   ],
   "source": [
    "metadata_df[\"year\"].max()"
   ],
   "metadata": {
    "collapsed": false,
    "ExecuteTime": {
     "end_time": "2023-05-10T10:51:33.659392Z",
     "start_time": "2023-05-10T10:51:33.651544Z"
    }
   }
  },
  {
   "cell_type": "code",
   "execution_count": 14,
   "outputs": [
    {
     "data": {
      "text/plain": "24588"
     },
     "execution_count": 14,
     "metadata": {},
     "output_type": "execute_result"
    }
   ],
   "source": [
    "(metadata_df[\"year\"].between(1900,2019)).sum()"
   ],
   "metadata": {
    "collapsed": false,
    "ExecuteTime": {
     "end_time": "2023-05-10T10:51:33.875375Z",
     "start_time": "2023-05-10T10:51:33.867311Z"
    }
   }
  },
  {
   "cell_type": "code",
   "execution_count": 15,
   "outputs": [
    {
     "data": {
      "text/plain": "                                                 creator datePublished  \\\n31                                     [Otto Pfleiderer]    1907-01-01   \n148    [H. A. A. Kennedy, William H. Ryder, W. C. Kei...    1907-07-01   \n153                                       [John C. Rose]    1906-11-01   \n226                              [Carl Heinrich Cornill]    1909-01-01   \n274                                                 None    1908-09-01   \n...                                                  ...           ...   \n24860                                               None    1905-07-01   \n24871                                  [James M. Whiton]    1901-04-01   \n24889                        [William Cleaver Wilkinson]    1906-10-01   \n24921  [Charles Francis Adams, Albert B. Hart, Worthi...    1903-01-01   \n24963                               [Edward I. Bosworth]    1902-07-01   \n\n       docType                      doi                                    id  \\\n31     article  10.5840/monist190717436               ark://27927/pgh2rhf8xx3   \n148    article                     None   http://www.jstor.org/stable/3154522   \n153    article          10.2307/1944844               ark://27927/pgh1g0cbznp   \n226    article   10.5840/monist19091921               ark://27927/pgh2rhf8nvv   \n274    article                     None   http://www.jstor.org/stable/2177230   \n...        ...                      ...                                   ...   \n24860  article                     None    http://www.jstor.org/stable/527618   \n24871  article                     None   http://www.jstor.org/stable/3152403   \n24889  article                     None   http://www.jstor.org/stable/3154429   \n24921  article                     None  http://www.jstor.org/stable/25079898   \n24963  article                     None   http://www.jstor.org/stable/3154004   \n\n                                              identifier  \\\n31     [{'name': 'doi', 'value': '10.5840/monist19071...   \n148    [{'name': 'issn', 'value': '15503283'}, {'name...   \n153    [{'name': 'local_publisher_id', 'value': 'S000...   \n226    [{'name': 'doi', 'value': '10.5840/monist19091...   \n274    [{'name': 'issn', 'value': '00318108'}, {'name...   \n...                                                  ...   \n24860  [{'name': 'issn', 'value': '10620516'}, {'name...   \n24871  [{'name': 'issn', 'value': '15503283'}, {'name...   \n24889  [{'name': 'issn', 'value': '15503283'}, {'name...   \n24921  [{'name': 'issn', 'value': '00764981'}, {'name...   \n24963  [{'name': 'issn', 'value': '15503283'}, {'name...   \n\n                                                isPartOf issueNumber  \\\n31                                            The Monist           4   \n148                     The American Journal of Theology           3   \n153                    American Political Science Review           1   \n226                                           The Monist           2   \n274                             The Philosophical Review           5   \n...                                                  ...         ...   \n24860  The American Journal of Semitic Languages and ...           4   \n24871                   The American Journal of Theology           2   \n24889                   The American Journal of Theology           4   \n24921  Proceedings of the Massachusetts Historical So...        None   \n24963                   The American Journal of Theology           3   \n\n                                               keyphrase language  \\\n31     [christianity, evolution, church, ecclesiastic...    [eng]   \n148                                                 None    [eng]   \n153    [constitution, suffrage, constitution art, fif...    [eng]   \n226    [old testament, ancient israel, instruments, p...    [eng]   \n274                                                 None    [eng]   \n...                                                  ...      ...   \n24860                                               None    [eng]   \n24871                                               None    [eng]   \n24889                                               None    [eng]   \n24921                                               None    [eng]   \n24963                                               None    [eng]   \n\n                               outputFormat  pageCount pageEnd pageStart  \\\n31               [unigram, bigram, trigram]         19     559       541   \n148    [unigram, bigram, trigram, fullText]         16     542       527   \n153              [unigram, bigram, trigram]         27      43        17   \n226              [unigram, bigram, trigram]         25     264       240   \n274    [unigram, bigram, trigram, fullText]          4     578       575   \n...                                     ...        ...     ...       ...   \n24860  [unigram, bigram, trigram, fullText]         14    None      None   \n24871  [unigram, bigram, trigram, fullText]          6     321       316   \n24889  [unigram, bigram, trigram, fullText]         20     647       628   \n24921  [unigram, bigram, trigram, fullText]         95     531       439   \n24963  [unigram, bigram, trigram, fullText]          3     629       627   \n\n        pagination provider  publicationYear  \\\n31         541-559  portico             1907   \n148    pp. 527-542    jstor             1907   \n153          17-43  portico             1906   \n226        240-264  portico             1909   \n274    pp. 575-578    jstor             1908   \n...            ...      ...              ...   \n24860         None    jstor             1905   \n24871  pp. 316-321    jstor             1901   \n24889  pp. 628-647    jstor             1906   \n24921  pp. 439-531    jstor             1903   \n24963  pp. 627-629    jstor             1902   \n\n                              publisher  sequence  \\\n31      Philosophy Documentation Center       3.0   \n148         University of Chicago Press       NaN   \n153          Cambridge University Press       3.0   \n226     Philosophy Documentation Center       5.0   \n274               Duke University Press       NaN   \n...                                 ...       ...   \n24860       University of Chicago Press       NaN   \n24871       University of Chicago Press       NaN   \n24889       University of Chicago Press       NaN   \n24921  Massachusetts Historical Society       NaN   \n24963       University of Chicago Press       NaN   \n\n                                             tdmCategory  \\\n31     [Philosophy - Metaphysics, History - Historica...   \n148    [History - Historical methodology, Religion - ...   \n153          [Law - Criminal law, Law - Judicial system]   \n226    [Religion - Theology, Linguistics - Language, ...   \n274                      [Biological sciences - Biology]   \n...                                                  ...   \n24860                               [Arts - Visual arts]   \n24871  [Philosophy - Applied philosophy, Religion - S...   \n24889                 [History - Historical methodology]   \n24921  [Law - Criminal law, Law - Civil law, Law - Ju...   \n24963                                               None   \n\n                                                   title  \\\n31                         The Evolution of Christianity   \n148               Recent Literature on the New Testament   \n153     Negro Suffrage: The Constitutional Point of View   \n226                           Music in the Old Testament   \n274                                                Notes   \n...                                                  ...   \n24860                                        Back Matter   \n24871                          Some Implicates of Theism   \n24889         Are the Resurrection Narratives Legendary?   \n24921  October Meeting, 1903. Federal Constitution in...   \n24963                                     Review Article   \n\n                                          url volumeNumber  wordCount  \\\n31     http://doi.org/10.5840/monist190717436           17       6402   \n148       http://www.jstor.org/stable/3154522           11       7198   \n153            http://doi.org/10.2307/1944844            1       8238   \n226     http://doi.org/10.5840/monist19091921           19       8200   \n274       http://www.jstor.org/stable/2177230           17       1415   \n...                                       ...          ...        ...   \n24860      http://www.jstor.org/stable/527618           21       4785   \n24871     http://www.jstor.org/stable/3152403            5       2598   \n24889     http://www.jstor.org/stable/3154429           10       8213   \n24921    http://www.jstor.org/stable/25079898           17      41552   \n24963     http://www.jstor.org/stable/3154004            6        858   \n\n       id_kase        docSubType  \\\n31          31              None   \n148        148       book-review   \n153        153  research-article   \n226        226              None   \n274        274              news   \n...        ...               ...   \n24860    24860              misc   \n24871    24871  research-article   \n24889    24889  research-article   \n24921    24921  research-article   \n24963    24963       book-review   \n\n                                          sourceCategory abstract subTitle  \\\n31                                                  None     None     None   \n148                               [Religion, Humanities]     None     None   \n153                                                 None     None     None   \n226                                                 None     None     None   \n274                             [Philosophy, Humanities]     None     None   \n...                                                  ...      ...      ...   \n24860  [Archaeology, Middle East Studies, Social Scie...     None     None   \n24871                             [Religion, Humanities]     None     None   \n24889                             [Religion, Humanities]     None     None   \n24921  [American Studies, Area Studies, History, Hist...     None     None   \n24963                             [Religion, Humanities]     None     None   \n\n       year  \n31     1907  \n148    1907  \n153    1906  \n226    1909  \n274    1908  \n...     ...  \n24860  1905  \n24871  1901  \n24889  1906  \n24921  1903  \n24963  1902  \n\n[371 rows x 30 columns]",
      "text/html": "<div>\n<style scoped>\n    .dataframe tbody tr th:only-of-type {\n        vertical-align: middle;\n    }\n\n    .dataframe tbody tr th {\n        vertical-align: top;\n    }\n\n    .dataframe thead th {\n        text-align: right;\n    }\n</style>\n<table border=\"1\" class=\"dataframe\">\n  <thead>\n    <tr style=\"text-align: right;\">\n      <th></th>\n      <th>creator</th>\n      <th>datePublished</th>\n      <th>docType</th>\n      <th>doi</th>\n      <th>id</th>\n      <th>identifier</th>\n      <th>isPartOf</th>\n      <th>issueNumber</th>\n      <th>keyphrase</th>\n      <th>language</th>\n      <th>outputFormat</th>\n      <th>pageCount</th>\n      <th>pageEnd</th>\n      <th>pageStart</th>\n      <th>pagination</th>\n      <th>provider</th>\n      <th>publicationYear</th>\n      <th>publisher</th>\n      <th>sequence</th>\n      <th>tdmCategory</th>\n      <th>title</th>\n      <th>url</th>\n      <th>volumeNumber</th>\n      <th>wordCount</th>\n      <th>id_kase</th>\n      <th>docSubType</th>\n      <th>sourceCategory</th>\n      <th>abstract</th>\n      <th>subTitle</th>\n      <th>year</th>\n    </tr>\n  </thead>\n  <tbody>\n    <tr>\n      <th>31</th>\n      <td>[Otto Pfleiderer]</td>\n      <td>1907-01-01</td>\n      <td>article</td>\n      <td>10.5840/monist190717436</td>\n      <td>ark://27927/pgh2rhf8xx3</td>\n      <td>[{'name': 'doi', 'value': '10.5840/monist19071...</td>\n      <td>The Monist</td>\n      <td>4</td>\n      <td>[christianity, evolution, church, ecclesiastic...</td>\n      <td>[eng]</td>\n      <td>[unigram, bigram, trigram]</td>\n      <td>19</td>\n      <td>559</td>\n      <td>541</td>\n      <td>541-559</td>\n      <td>portico</td>\n      <td>1907</td>\n      <td>Philosophy Documentation Center</td>\n      <td>3.0</td>\n      <td>[Philosophy - Metaphysics, History - Historica...</td>\n      <td>The Evolution of Christianity</td>\n      <td>http://doi.org/10.5840/monist190717436</td>\n      <td>17</td>\n      <td>6402</td>\n      <td>31</td>\n      <td>None</td>\n      <td>None</td>\n      <td>None</td>\n      <td>None</td>\n      <td>1907</td>\n    </tr>\n    <tr>\n      <th>148</th>\n      <td>[H. A. A. Kennedy, William H. Ryder, W. C. Kei...</td>\n      <td>1907-07-01</td>\n      <td>article</td>\n      <td>None</td>\n      <td>http://www.jstor.org/stable/3154522</td>\n      <td>[{'name': 'issn', 'value': '15503283'}, {'name...</td>\n      <td>The American Journal of Theology</td>\n      <td>3</td>\n      <td>None</td>\n      <td>[eng]</td>\n      <td>[unigram, bigram, trigram, fullText]</td>\n      <td>16</td>\n      <td>542</td>\n      <td>527</td>\n      <td>pp. 527-542</td>\n      <td>jstor</td>\n      <td>1907</td>\n      <td>University of Chicago Press</td>\n      <td>NaN</td>\n      <td>[History - Historical methodology, Religion - ...</td>\n      <td>Recent Literature on the New Testament</td>\n      <td>http://www.jstor.org/stable/3154522</td>\n      <td>11</td>\n      <td>7198</td>\n      <td>148</td>\n      <td>book-review</td>\n      <td>[Religion, Humanities]</td>\n      <td>None</td>\n      <td>None</td>\n      <td>1907</td>\n    </tr>\n    <tr>\n      <th>153</th>\n      <td>[John C. Rose]</td>\n      <td>1906-11-01</td>\n      <td>article</td>\n      <td>10.2307/1944844</td>\n      <td>ark://27927/pgh1g0cbznp</td>\n      <td>[{'name': 'local_publisher_id', 'value': 'S000...</td>\n      <td>American Political Science Review</td>\n      <td>1</td>\n      <td>[constitution, suffrage, constitution art, fif...</td>\n      <td>[eng]</td>\n      <td>[unigram, bigram, trigram]</td>\n      <td>27</td>\n      <td>43</td>\n      <td>17</td>\n      <td>17-43</td>\n      <td>portico</td>\n      <td>1906</td>\n      <td>Cambridge University Press</td>\n      <td>3.0</td>\n      <td>[Law - Criminal law, Law - Judicial system]</td>\n      <td>Negro Suffrage: The Constitutional Point of View</td>\n      <td>http://doi.org/10.2307/1944844</td>\n      <td>1</td>\n      <td>8238</td>\n      <td>153</td>\n      <td>research-article</td>\n      <td>None</td>\n      <td>None</td>\n      <td>None</td>\n      <td>1906</td>\n    </tr>\n    <tr>\n      <th>226</th>\n      <td>[Carl Heinrich Cornill]</td>\n      <td>1909-01-01</td>\n      <td>article</td>\n      <td>10.5840/monist19091921</td>\n      <td>ark://27927/pgh2rhf8nvv</td>\n      <td>[{'name': 'doi', 'value': '10.5840/monist19091...</td>\n      <td>The Monist</td>\n      <td>2</td>\n      <td>[old testament, ancient israel, instruments, p...</td>\n      <td>[eng]</td>\n      <td>[unigram, bigram, trigram]</td>\n      <td>25</td>\n      <td>264</td>\n      <td>240</td>\n      <td>240-264</td>\n      <td>portico</td>\n      <td>1909</td>\n      <td>Philosophy Documentation Center</td>\n      <td>5.0</td>\n      <td>[Religion - Theology, Linguistics - Language, ...</td>\n      <td>Music in the Old Testament</td>\n      <td>http://doi.org/10.5840/monist19091921</td>\n      <td>19</td>\n      <td>8200</td>\n      <td>226</td>\n      <td>None</td>\n      <td>None</td>\n      <td>None</td>\n      <td>None</td>\n      <td>1909</td>\n    </tr>\n    <tr>\n      <th>274</th>\n      <td>None</td>\n      <td>1908-09-01</td>\n      <td>article</td>\n      <td>None</td>\n      <td>http://www.jstor.org/stable/2177230</td>\n      <td>[{'name': 'issn', 'value': '00318108'}, {'name...</td>\n      <td>The Philosophical Review</td>\n      <td>5</td>\n      <td>None</td>\n      <td>[eng]</td>\n      <td>[unigram, bigram, trigram, fullText]</td>\n      <td>4</td>\n      <td>578</td>\n      <td>575</td>\n      <td>pp. 575-578</td>\n      <td>jstor</td>\n      <td>1908</td>\n      <td>Duke University Press</td>\n      <td>NaN</td>\n      <td>[Biological sciences - Biology]</td>\n      <td>Notes</td>\n      <td>http://www.jstor.org/stable/2177230</td>\n      <td>17</td>\n      <td>1415</td>\n      <td>274</td>\n      <td>news</td>\n      <td>[Philosophy, Humanities]</td>\n      <td>None</td>\n      <td>None</td>\n      <td>1908</td>\n    </tr>\n    <tr>\n      <th>...</th>\n      <td>...</td>\n      <td>...</td>\n      <td>...</td>\n      <td>...</td>\n      <td>...</td>\n      <td>...</td>\n      <td>...</td>\n      <td>...</td>\n      <td>...</td>\n      <td>...</td>\n      <td>...</td>\n      <td>...</td>\n      <td>...</td>\n      <td>...</td>\n      <td>...</td>\n      <td>...</td>\n      <td>...</td>\n      <td>...</td>\n      <td>...</td>\n      <td>...</td>\n      <td>...</td>\n      <td>...</td>\n      <td>...</td>\n      <td>...</td>\n      <td>...</td>\n      <td>...</td>\n      <td>...</td>\n      <td>...</td>\n      <td>...</td>\n      <td>...</td>\n    </tr>\n    <tr>\n      <th>24860</th>\n      <td>None</td>\n      <td>1905-07-01</td>\n      <td>article</td>\n      <td>None</td>\n      <td>http://www.jstor.org/stable/527618</td>\n      <td>[{'name': 'issn', 'value': '10620516'}, {'name...</td>\n      <td>The American Journal of Semitic Languages and ...</td>\n      <td>4</td>\n      <td>None</td>\n      <td>[eng]</td>\n      <td>[unigram, bigram, trigram, fullText]</td>\n      <td>14</td>\n      <td>None</td>\n      <td>None</td>\n      <td>None</td>\n      <td>jstor</td>\n      <td>1905</td>\n      <td>University of Chicago Press</td>\n      <td>NaN</td>\n      <td>[Arts - Visual arts]</td>\n      <td>Back Matter</td>\n      <td>http://www.jstor.org/stable/527618</td>\n      <td>21</td>\n      <td>4785</td>\n      <td>24860</td>\n      <td>misc</td>\n      <td>[Archaeology, Middle East Studies, Social Scie...</td>\n      <td>None</td>\n      <td>None</td>\n      <td>1905</td>\n    </tr>\n    <tr>\n      <th>24871</th>\n      <td>[James M. Whiton]</td>\n      <td>1901-04-01</td>\n      <td>article</td>\n      <td>None</td>\n      <td>http://www.jstor.org/stable/3152403</td>\n      <td>[{'name': 'issn', 'value': '15503283'}, {'name...</td>\n      <td>The American Journal of Theology</td>\n      <td>2</td>\n      <td>None</td>\n      <td>[eng]</td>\n      <td>[unigram, bigram, trigram, fullText]</td>\n      <td>6</td>\n      <td>321</td>\n      <td>316</td>\n      <td>pp. 316-321</td>\n      <td>jstor</td>\n      <td>1901</td>\n      <td>University of Chicago Press</td>\n      <td>NaN</td>\n      <td>[Philosophy - Applied philosophy, Religion - S...</td>\n      <td>Some Implicates of Theism</td>\n      <td>http://www.jstor.org/stable/3152403</td>\n      <td>5</td>\n      <td>2598</td>\n      <td>24871</td>\n      <td>research-article</td>\n      <td>[Religion, Humanities]</td>\n      <td>None</td>\n      <td>None</td>\n      <td>1901</td>\n    </tr>\n    <tr>\n      <th>24889</th>\n      <td>[William Cleaver Wilkinson]</td>\n      <td>1906-10-01</td>\n      <td>article</td>\n      <td>None</td>\n      <td>http://www.jstor.org/stable/3154429</td>\n      <td>[{'name': 'issn', 'value': '15503283'}, {'name...</td>\n      <td>The American Journal of Theology</td>\n      <td>4</td>\n      <td>None</td>\n      <td>[eng]</td>\n      <td>[unigram, bigram, trigram, fullText]</td>\n      <td>20</td>\n      <td>647</td>\n      <td>628</td>\n      <td>pp. 628-647</td>\n      <td>jstor</td>\n      <td>1906</td>\n      <td>University of Chicago Press</td>\n      <td>NaN</td>\n      <td>[History - Historical methodology]</td>\n      <td>Are the Resurrection Narratives Legendary?</td>\n      <td>http://www.jstor.org/stable/3154429</td>\n      <td>10</td>\n      <td>8213</td>\n      <td>24889</td>\n      <td>research-article</td>\n      <td>[Religion, Humanities]</td>\n      <td>None</td>\n      <td>None</td>\n      <td>1906</td>\n    </tr>\n    <tr>\n      <th>24921</th>\n      <td>[Charles Francis Adams, Albert B. Hart, Worthi...</td>\n      <td>1903-01-01</td>\n      <td>article</td>\n      <td>None</td>\n      <td>http://www.jstor.org/stable/25079898</td>\n      <td>[{'name': 'issn', 'value': '00764981'}, {'name...</td>\n      <td>Proceedings of the Massachusetts Historical So...</td>\n      <td>None</td>\n      <td>None</td>\n      <td>[eng]</td>\n      <td>[unigram, bigram, trigram, fullText]</td>\n      <td>95</td>\n      <td>531</td>\n      <td>439</td>\n      <td>pp. 439-531</td>\n      <td>jstor</td>\n      <td>1903</td>\n      <td>Massachusetts Historical Society</td>\n      <td>NaN</td>\n      <td>[Law - Criminal law, Law - Civil law, Law - Ju...</td>\n      <td>October Meeting, 1903. Federal Constitution in...</td>\n      <td>http://www.jstor.org/stable/25079898</td>\n      <td>17</td>\n      <td>41552</td>\n      <td>24921</td>\n      <td>research-article</td>\n      <td>[American Studies, Area Studies, History, Hist...</td>\n      <td>None</td>\n      <td>None</td>\n      <td>1903</td>\n    </tr>\n    <tr>\n      <th>24963</th>\n      <td>[Edward I. Bosworth]</td>\n      <td>1902-07-01</td>\n      <td>article</td>\n      <td>None</td>\n      <td>http://www.jstor.org/stable/3154004</td>\n      <td>[{'name': 'issn', 'value': '15503283'}, {'name...</td>\n      <td>The American Journal of Theology</td>\n      <td>3</td>\n      <td>None</td>\n      <td>[eng]</td>\n      <td>[unigram, bigram, trigram, fullText]</td>\n      <td>3</td>\n      <td>629</td>\n      <td>627</td>\n      <td>pp. 627-629</td>\n      <td>jstor</td>\n      <td>1902</td>\n      <td>University of Chicago Press</td>\n      <td>NaN</td>\n      <td>None</td>\n      <td>Review Article</td>\n      <td>http://www.jstor.org/stable/3154004</td>\n      <td>6</td>\n      <td>858</td>\n      <td>24963</td>\n      <td>book-review</td>\n      <td>[Religion, Humanities]</td>\n      <td>None</td>\n      <td>None</td>\n      <td>1902</td>\n    </tr>\n  </tbody>\n</table>\n<p>371 rows × 30 columns</p>\n</div>"
     },
     "execution_count": 15,
     "metadata": {},
     "output_type": "execute_result"
    }
   ],
   "source": [
    "metadata_df[metadata_df[\"year\"].between(1900,1909)]"
   ],
   "metadata": {
    "collapsed": false,
    "ExecuteTime": {
     "end_time": "2023-05-10T10:51:34.194235Z",
     "start_time": "2023-05-10T10:51:34.164396Z"
    }
   }
  },
  {
   "cell_type": "code",
   "execution_count": 16,
   "outputs": [],
   "source": [
    "def get_decade(year):\n",
    "    return math.floor(year / 10) * 10"
   ],
   "metadata": {
    "collapsed": false,
    "ExecuteTime": {
     "end_time": "2023-05-10T10:51:37.652921Z",
     "start_time": "2023-05-10T10:51:37.639354Z"
    }
   }
  },
  {
   "cell_type": "code",
   "execution_count": 17,
   "outputs": [
    {
     "data": {
      "text/plain": "2010"
     },
     "execution_count": 17,
     "metadata": {},
     "output_type": "execute_result"
    }
   ],
   "source": [
    "get_decade(2013)"
   ],
   "metadata": {
    "collapsed": false,
    "ExecuteTime": {
     "end_time": "2023-05-10T10:51:37.984251Z",
     "start_time": "2023-05-10T10:51:37.975247Z"
    }
   }
  },
  {
   "cell_type": "code",
   "execution_count": 18,
   "outputs": [],
   "source": [
    "metadata_df[\"decade\"] = metadata_df[\"year\"].apply(get_decade)"
   ],
   "metadata": {
    "collapsed": false,
    "ExecuteTime": {
     "end_time": "2023-05-10T10:51:38.285994Z",
     "start_time": "2023-05-10T10:51:38.271506Z"
    }
   }
  },
  {
   "cell_type": "code",
   "execution_count": 19,
   "outputs": [
    {
     "data": {
      "text/plain": "                                             creator datePublished  docType  \\\n0                                  [Gerald F. Moede]    1974-04-01  article   \n1                               [Ben C. Ollenburger]    1987-10-01  article   \n2                                  [Eric L. Johnson]    1997-03-01  article   \n3  [Kimberly Matheson, Hymie Anisman, Renate Ysse...    2010-02-01  article   \n4                                   [David J. Clark]    1975-01-01  article   \n\n                                  doi                       id  \\\n0  10.1111/j.1758-6623.1974.tb02427.x   ark://27927/phx7f872pd   \n1          10.1177/004057368704400307  ark://27927/phx6238nb98   \n2          10.1177/009164719702500102  ark://27927/phz2f6c9d3v   \n3            10.1177/1088868309349693   ark://27927/pgfvbkcxrg   \n4          10.1177/026009357502600107  ark://27927/phx5181bbsv   \n\n                                          identifier  \\\n0  [{'name': 'doi', 'value': '10.1111/j.1758-6623...   \n1  [{'name': 'doi', 'value': '10.1177/00405736870...   \n2  [{'name': 'doi', 'value': '10.1177/00916471970...   \n3  [{'name': 'doi', 'value': '10.1177/10888683093...   \n4  [{'name': 'doi', 'value': '10.1177/02600935750...   \n\n                                   isPartOf issueNumber  \\\n0                     The Ecumenical Review           2   \n1                            Theology Today           3   \n2        Journal of Psychology and Theology           1   \n3  Personality and Social Psychology Review           1   \n4          The Bible Translator (1950-2012)           1   \n\n                                           keyphrase language  \\\n0  [church, church union, christian unity, confes...    [eng]   \n1  [haarlem, miep gies, german, suffering, hollan...    [eng]   \n2  [kingdom, christian, creation, lordship, knowl...    [eng]   \n3  [religious, identity, religious identity, soci...    [eng]   \n4  [haenchen, overboard, barclay, apostles, went ...    [eng]   \n\n                 outputFormat  pageCount pageEnd pageStart   pagination  \\\n0  [unigram, bigram, trigram]         19     264       246      246-264   \n1  [unigram, bigram, trigram]         10     359       350  pp. 350-359   \n2  [unigram, bigram, trigram]         17      27        11    pp. 11-27   \n3  [unigram, bigram, trigram]         12      71        60        60-71   \n4  [unigram, bigram, trigram]          3     146       144  pp. 144-146   \n\n  provider  publicationYear                publisher  sequence  \\\n0  portico             1974  John Wiley & Sons, Inc.       7.0   \n1  portico             1987        SAGE Publications       7.0   \n2  portico             1997        SAGE Publications       2.0   \n3  portico             2010        SAGE Publications       6.0   \n4  portico             1975        SAGE Publications       7.0   \n\n                                         tdmCategory  \\\n0  [Philosophy - Applied philosophy, Political sc...   \n1                  [Philosophy - Applied philosophy]   \n2                         [Philosophy - Metaphysics]   \n3  [Social sciences - Psychology, Social sciences...   \n4  [Linguistics - Grammar, Religion - Spiritual b...   \n\n                                               title  \\\n0         CHURCH UNION AS A MODEL OF CHRISTIAN UNITY   \n1      Suffering and Hope: The Story Behind the Book   \n2                     Christ, the Lord of Psychology   \n3  Religiosity as Identity: Toward an Understandi...   \n4                         What Went Overboard First?   \n\n                                                 url volumeNumber  wordCount  \\\n0  http://doi.org/10.1111/j.1758-6623.1974.tb02427.x           26       7827   \n1          http://doi.org/10.1177/004057368704400307           44       5181   \n2          http://doi.org/10.1177/009164719702500102           25      13697   \n3            http://doi.org/10.1177/1088868309349693           14       9915   \n4          http://doi.org/10.1177/026009357502600107           26       1652   \n\n   id_kase docSubType sourceCategory abstract subTitle  year  decade  \n0        0       None           None     None     None  1974    1970  \n1        1       None           None     None     None  1987    1980  \n2        2       None           None     None     None  1997    1990  \n3        3       None           None     None     None  2010    2010  \n4        4       None           None     None     None  1975    1970  ",
      "text/html": "<div>\n<style scoped>\n    .dataframe tbody tr th:only-of-type {\n        vertical-align: middle;\n    }\n\n    .dataframe tbody tr th {\n        vertical-align: top;\n    }\n\n    .dataframe thead th {\n        text-align: right;\n    }\n</style>\n<table border=\"1\" class=\"dataframe\">\n  <thead>\n    <tr style=\"text-align: right;\">\n      <th></th>\n      <th>creator</th>\n      <th>datePublished</th>\n      <th>docType</th>\n      <th>doi</th>\n      <th>id</th>\n      <th>identifier</th>\n      <th>isPartOf</th>\n      <th>issueNumber</th>\n      <th>keyphrase</th>\n      <th>language</th>\n      <th>outputFormat</th>\n      <th>pageCount</th>\n      <th>pageEnd</th>\n      <th>pageStart</th>\n      <th>pagination</th>\n      <th>provider</th>\n      <th>publicationYear</th>\n      <th>publisher</th>\n      <th>sequence</th>\n      <th>tdmCategory</th>\n      <th>title</th>\n      <th>url</th>\n      <th>volumeNumber</th>\n      <th>wordCount</th>\n      <th>id_kase</th>\n      <th>docSubType</th>\n      <th>sourceCategory</th>\n      <th>abstract</th>\n      <th>subTitle</th>\n      <th>year</th>\n      <th>decade</th>\n    </tr>\n  </thead>\n  <tbody>\n    <tr>\n      <th>0</th>\n      <td>[Gerald F. Moede]</td>\n      <td>1974-04-01</td>\n      <td>article</td>\n      <td>10.1111/j.1758-6623.1974.tb02427.x</td>\n      <td>ark://27927/phx7f872pd</td>\n      <td>[{'name': 'doi', 'value': '10.1111/j.1758-6623...</td>\n      <td>The Ecumenical Review</td>\n      <td>2</td>\n      <td>[church, church union, christian unity, confes...</td>\n      <td>[eng]</td>\n      <td>[unigram, bigram, trigram]</td>\n      <td>19</td>\n      <td>264</td>\n      <td>246</td>\n      <td>246-264</td>\n      <td>portico</td>\n      <td>1974</td>\n      <td>John Wiley &amp; Sons, Inc.</td>\n      <td>7.0</td>\n      <td>[Philosophy - Applied philosophy, Political sc...</td>\n      <td>CHURCH UNION AS A MODEL OF CHRISTIAN UNITY</td>\n      <td>http://doi.org/10.1111/j.1758-6623.1974.tb02427.x</td>\n      <td>26</td>\n      <td>7827</td>\n      <td>0</td>\n      <td>None</td>\n      <td>None</td>\n      <td>None</td>\n      <td>None</td>\n      <td>1974</td>\n      <td>1970</td>\n    </tr>\n    <tr>\n      <th>1</th>\n      <td>[Ben C. Ollenburger]</td>\n      <td>1987-10-01</td>\n      <td>article</td>\n      <td>10.1177/004057368704400307</td>\n      <td>ark://27927/phx6238nb98</td>\n      <td>[{'name': 'doi', 'value': '10.1177/00405736870...</td>\n      <td>Theology Today</td>\n      <td>3</td>\n      <td>[haarlem, miep gies, german, suffering, hollan...</td>\n      <td>[eng]</td>\n      <td>[unigram, bigram, trigram]</td>\n      <td>10</td>\n      <td>359</td>\n      <td>350</td>\n      <td>pp. 350-359</td>\n      <td>portico</td>\n      <td>1987</td>\n      <td>SAGE Publications</td>\n      <td>7.0</td>\n      <td>[Philosophy - Applied philosophy]</td>\n      <td>Suffering and Hope: The Story Behind the Book</td>\n      <td>http://doi.org/10.1177/004057368704400307</td>\n      <td>44</td>\n      <td>5181</td>\n      <td>1</td>\n      <td>None</td>\n      <td>None</td>\n      <td>None</td>\n      <td>None</td>\n      <td>1987</td>\n      <td>1980</td>\n    </tr>\n    <tr>\n      <th>2</th>\n      <td>[Eric L. Johnson]</td>\n      <td>1997-03-01</td>\n      <td>article</td>\n      <td>10.1177/009164719702500102</td>\n      <td>ark://27927/phz2f6c9d3v</td>\n      <td>[{'name': 'doi', 'value': '10.1177/00916471970...</td>\n      <td>Journal of Psychology and Theology</td>\n      <td>1</td>\n      <td>[kingdom, christian, creation, lordship, knowl...</td>\n      <td>[eng]</td>\n      <td>[unigram, bigram, trigram]</td>\n      <td>17</td>\n      <td>27</td>\n      <td>11</td>\n      <td>pp. 11-27</td>\n      <td>portico</td>\n      <td>1997</td>\n      <td>SAGE Publications</td>\n      <td>2.0</td>\n      <td>[Philosophy - Metaphysics]</td>\n      <td>Christ, the Lord of Psychology</td>\n      <td>http://doi.org/10.1177/009164719702500102</td>\n      <td>25</td>\n      <td>13697</td>\n      <td>2</td>\n      <td>None</td>\n      <td>None</td>\n      <td>None</td>\n      <td>None</td>\n      <td>1997</td>\n      <td>1990</td>\n    </tr>\n    <tr>\n      <th>3</th>\n      <td>[Kimberly Matheson, Hymie Anisman, Renate Ysse...</td>\n      <td>2010-02-01</td>\n      <td>article</td>\n      <td>10.1177/1088868309349693</td>\n      <td>ark://27927/pgfvbkcxrg</td>\n      <td>[{'name': 'doi', 'value': '10.1177/10888683093...</td>\n      <td>Personality and Social Psychology Review</td>\n      <td>1</td>\n      <td>[religious, identity, religious identity, soci...</td>\n      <td>[eng]</td>\n      <td>[unigram, bigram, trigram]</td>\n      <td>12</td>\n      <td>71</td>\n      <td>60</td>\n      <td>60-71</td>\n      <td>portico</td>\n      <td>2010</td>\n      <td>SAGE Publications</td>\n      <td>6.0</td>\n      <td>[Social sciences - Psychology, Social sciences...</td>\n      <td>Religiosity as Identity: Toward an Understandi...</td>\n      <td>http://doi.org/10.1177/1088868309349693</td>\n      <td>14</td>\n      <td>9915</td>\n      <td>3</td>\n      <td>None</td>\n      <td>None</td>\n      <td>None</td>\n      <td>None</td>\n      <td>2010</td>\n      <td>2010</td>\n    </tr>\n    <tr>\n      <th>4</th>\n      <td>[David J. Clark]</td>\n      <td>1975-01-01</td>\n      <td>article</td>\n      <td>10.1177/026009357502600107</td>\n      <td>ark://27927/phx5181bbsv</td>\n      <td>[{'name': 'doi', 'value': '10.1177/02600935750...</td>\n      <td>The Bible Translator (1950-2012)</td>\n      <td>1</td>\n      <td>[haenchen, overboard, barclay, apostles, went ...</td>\n      <td>[eng]</td>\n      <td>[unigram, bigram, trigram]</td>\n      <td>3</td>\n      <td>146</td>\n      <td>144</td>\n      <td>pp. 144-146</td>\n      <td>portico</td>\n      <td>1975</td>\n      <td>SAGE Publications</td>\n      <td>7.0</td>\n      <td>[Linguistics - Grammar, Religion - Spiritual b...</td>\n      <td>What Went Overboard First?</td>\n      <td>http://doi.org/10.1177/026009357502600107</td>\n      <td>26</td>\n      <td>1652</td>\n      <td>4</td>\n      <td>None</td>\n      <td>None</td>\n      <td>None</td>\n      <td>None</td>\n      <td>1975</td>\n      <td>1970</td>\n    </tr>\n  </tbody>\n</table>\n</div>"
     },
     "execution_count": 19,
     "metadata": {},
     "output_type": "execute_result"
    }
   ],
   "source": [
    "metadata_df.head(5)"
   ],
   "metadata": {
    "collapsed": false,
    "ExecuteTime": {
     "end_time": "2023-05-10T10:51:38.667183Z",
     "start_time": "2023-05-10T10:51:38.648278Z"
    }
   }
  },
  {
   "cell_type": "code",
   "execution_count": 20,
   "outputs": [],
   "source": [
    "bidecades = [(1900,1919), (1920,1939), (1940,1959), (1960,1979), (1980,1999), (2000,2019)]\n",
    "\n",
    "def get_bidecade(year):\n",
    "    for start,stop in bidecades:\n",
    "        if start <= year <= stop:\n",
    "            return str(start)+\"-\"+str(stop)\n",
    "            break\n"
   ],
   "metadata": {
    "collapsed": false,
    "ExecuteTime": {
     "end_time": "2023-05-10T10:51:39.345215Z",
     "start_time": "2023-05-10T10:51:39.332497Z"
    }
   }
  },
  {
   "cell_type": "code",
   "execution_count": 21,
   "outputs": [],
   "source": [
    "metadata_df[\"bidecade\"] = metadata_df[\"year\"].apply(get_bidecade)\n"
   ],
   "metadata": {
    "collapsed": false,
    "ExecuteTime": {
     "end_time": "2023-05-10T10:51:39.832772Z",
     "start_time": "2023-05-10T10:51:39.828968Z"
    }
   }
  },
  {
   "cell_type": "code",
   "execution_count": 22,
   "outputs": [
    {
     "data": {
      "text/plain": "                                             creator datePublished  docType  \\\n0                                  [Gerald F. Moede]    1974-04-01  article   \n1                               [Ben C. Ollenburger]    1987-10-01  article   \n2                                  [Eric L. Johnson]    1997-03-01  article   \n3  [Kimberly Matheson, Hymie Anisman, Renate Ysse...    2010-02-01  article   \n4                                   [David J. Clark]    1975-01-01  article   \n\n                                  doi                       id  \\\n0  10.1111/j.1758-6623.1974.tb02427.x   ark://27927/phx7f872pd   \n1          10.1177/004057368704400307  ark://27927/phx6238nb98   \n2          10.1177/009164719702500102  ark://27927/phz2f6c9d3v   \n3            10.1177/1088868309349693   ark://27927/pgfvbkcxrg   \n4          10.1177/026009357502600107  ark://27927/phx5181bbsv   \n\n                                          identifier  \\\n0  [{'name': 'doi', 'value': '10.1111/j.1758-6623...   \n1  [{'name': 'doi', 'value': '10.1177/00405736870...   \n2  [{'name': 'doi', 'value': '10.1177/00916471970...   \n3  [{'name': 'doi', 'value': '10.1177/10888683093...   \n4  [{'name': 'doi', 'value': '10.1177/02600935750...   \n\n                                   isPartOf issueNumber  \\\n0                     The Ecumenical Review           2   \n1                            Theology Today           3   \n2        Journal of Psychology and Theology           1   \n3  Personality and Social Psychology Review           1   \n4          The Bible Translator (1950-2012)           1   \n\n                                           keyphrase language  \\\n0  [church, church union, christian unity, confes...    [eng]   \n1  [haarlem, miep gies, german, suffering, hollan...    [eng]   \n2  [kingdom, christian, creation, lordship, knowl...    [eng]   \n3  [religious, identity, religious identity, soci...    [eng]   \n4  [haenchen, overboard, barclay, apostles, went ...    [eng]   \n\n                 outputFormat  pageCount pageEnd pageStart   pagination  \\\n0  [unigram, bigram, trigram]         19     264       246      246-264   \n1  [unigram, bigram, trigram]         10     359       350  pp. 350-359   \n2  [unigram, bigram, trigram]         17      27        11    pp. 11-27   \n3  [unigram, bigram, trigram]         12      71        60        60-71   \n4  [unigram, bigram, trigram]          3     146       144  pp. 144-146   \n\n  provider  publicationYear                publisher  sequence  \\\n0  portico             1974  John Wiley & Sons, Inc.       7.0   \n1  portico             1987        SAGE Publications       7.0   \n2  portico             1997        SAGE Publications       2.0   \n3  portico             2010        SAGE Publications       6.0   \n4  portico             1975        SAGE Publications       7.0   \n\n                                         tdmCategory  \\\n0  [Philosophy - Applied philosophy, Political sc...   \n1                  [Philosophy - Applied philosophy]   \n2                         [Philosophy - Metaphysics]   \n3  [Social sciences - Psychology, Social sciences...   \n4  [Linguistics - Grammar, Religion - Spiritual b...   \n\n                                               title  \\\n0         CHURCH UNION AS A MODEL OF CHRISTIAN UNITY   \n1      Suffering and Hope: The Story Behind the Book   \n2                     Christ, the Lord of Psychology   \n3  Religiosity as Identity: Toward an Understandi...   \n4                         What Went Overboard First?   \n\n                                                 url volumeNumber  wordCount  \\\n0  http://doi.org/10.1111/j.1758-6623.1974.tb02427.x           26       7827   \n1          http://doi.org/10.1177/004057368704400307           44       5181   \n2          http://doi.org/10.1177/009164719702500102           25      13697   \n3            http://doi.org/10.1177/1088868309349693           14       9915   \n4          http://doi.org/10.1177/026009357502600107           26       1652   \n\n   id_kase docSubType sourceCategory abstract subTitle  year  decade  \\\n0        0       None           None     None     None  1974    1970   \n1        1       None           None     None     None  1987    1980   \n2        2       None           None     None     None  1997    1990   \n3        3       None           None     None     None  2010    2010   \n4        4       None           None     None     None  1975    1970   \n\n    bidecade  \n0  1960-1979  \n1  1980-1999  \n2  1980-1999  \n3  2000-2019  \n4  1960-1979  ",
      "text/html": "<div>\n<style scoped>\n    .dataframe tbody tr th:only-of-type {\n        vertical-align: middle;\n    }\n\n    .dataframe tbody tr th {\n        vertical-align: top;\n    }\n\n    .dataframe thead th {\n        text-align: right;\n    }\n</style>\n<table border=\"1\" class=\"dataframe\">\n  <thead>\n    <tr style=\"text-align: right;\">\n      <th></th>\n      <th>creator</th>\n      <th>datePublished</th>\n      <th>docType</th>\n      <th>doi</th>\n      <th>id</th>\n      <th>identifier</th>\n      <th>isPartOf</th>\n      <th>issueNumber</th>\n      <th>keyphrase</th>\n      <th>language</th>\n      <th>outputFormat</th>\n      <th>pageCount</th>\n      <th>pageEnd</th>\n      <th>pageStart</th>\n      <th>pagination</th>\n      <th>provider</th>\n      <th>publicationYear</th>\n      <th>publisher</th>\n      <th>sequence</th>\n      <th>tdmCategory</th>\n      <th>title</th>\n      <th>url</th>\n      <th>volumeNumber</th>\n      <th>wordCount</th>\n      <th>id_kase</th>\n      <th>docSubType</th>\n      <th>sourceCategory</th>\n      <th>abstract</th>\n      <th>subTitle</th>\n      <th>year</th>\n      <th>decade</th>\n      <th>bidecade</th>\n    </tr>\n  </thead>\n  <tbody>\n    <tr>\n      <th>0</th>\n      <td>[Gerald F. Moede]</td>\n      <td>1974-04-01</td>\n      <td>article</td>\n      <td>10.1111/j.1758-6623.1974.tb02427.x</td>\n      <td>ark://27927/phx7f872pd</td>\n      <td>[{'name': 'doi', 'value': '10.1111/j.1758-6623...</td>\n      <td>The Ecumenical Review</td>\n      <td>2</td>\n      <td>[church, church union, christian unity, confes...</td>\n      <td>[eng]</td>\n      <td>[unigram, bigram, trigram]</td>\n      <td>19</td>\n      <td>264</td>\n      <td>246</td>\n      <td>246-264</td>\n      <td>portico</td>\n      <td>1974</td>\n      <td>John Wiley &amp; Sons, Inc.</td>\n      <td>7.0</td>\n      <td>[Philosophy - Applied philosophy, Political sc...</td>\n      <td>CHURCH UNION AS A MODEL OF CHRISTIAN UNITY</td>\n      <td>http://doi.org/10.1111/j.1758-6623.1974.tb02427.x</td>\n      <td>26</td>\n      <td>7827</td>\n      <td>0</td>\n      <td>None</td>\n      <td>None</td>\n      <td>None</td>\n      <td>None</td>\n      <td>1974</td>\n      <td>1970</td>\n      <td>1960-1979</td>\n    </tr>\n    <tr>\n      <th>1</th>\n      <td>[Ben C. Ollenburger]</td>\n      <td>1987-10-01</td>\n      <td>article</td>\n      <td>10.1177/004057368704400307</td>\n      <td>ark://27927/phx6238nb98</td>\n      <td>[{'name': 'doi', 'value': '10.1177/00405736870...</td>\n      <td>Theology Today</td>\n      <td>3</td>\n      <td>[haarlem, miep gies, german, suffering, hollan...</td>\n      <td>[eng]</td>\n      <td>[unigram, bigram, trigram]</td>\n      <td>10</td>\n      <td>359</td>\n      <td>350</td>\n      <td>pp. 350-359</td>\n      <td>portico</td>\n      <td>1987</td>\n      <td>SAGE Publications</td>\n      <td>7.0</td>\n      <td>[Philosophy - Applied philosophy]</td>\n      <td>Suffering and Hope: The Story Behind the Book</td>\n      <td>http://doi.org/10.1177/004057368704400307</td>\n      <td>44</td>\n      <td>5181</td>\n      <td>1</td>\n      <td>None</td>\n      <td>None</td>\n      <td>None</td>\n      <td>None</td>\n      <td>1987</td>\n      <td>1980</td>\n      <td>1980-1999</td>\n    </tr>\n    <tr>\n      <th>2</th>\n      <td>[Eric L. Johnson]</td>\n      <td>1997-03-01</td>\n      <td>article</td>\n      <td>10.1177/009164719702500102</td>\n      <td>ark://27927/phz2f6c9d3v</td>\n      <td>[{'name': 'doi', 'value': '10.1177/00916471970...</td>\n      <td>Journal of Psychology and Theology</td>\n      <td>1</td>\n      <td>[kingdom, christian, creation, lordship, knowl...</td>\n      <td>[eng]</td>\n      <td>[unigram, bigram, trigram]</td>\n      <td>17</td>\n      <td>27</td>\n      <td>11</td>\n      <td>pp. 11-27</td>\n      <td>portico</td>\n      <td>1997</td>\n      <td>SAGE Publications</td>\n      <td>2.0</td>\n      <td>[Philosophy - Metaphysics]</td>\n      <td>Christ, the Lord of Psychology</td>\n      <td>http://doi.org/10.1177/009164719702500102</td>\n      <td>25</td>\n      <td>13697</td>\n      <td>2</td>\n      <td>None</td>\n      <td>None</td>\n      <td>None</td>\n      <td>None</td>\n      <td>1997</td>\n      <td>1990</td>\n      <td>1980-1999</td>\n    </tr>\n    <tr>\n      <th>3</th>\n      <td>[Kimberly Matheson, Hymie Anisman, Renate Ysse...</td>\n      <td>2010-02-01</td>\n      <td>article</td>\n      <td>10.1177/1088868309349693</td>\n      <td>ark://27927/pgfvbkcxrg</td>\n      <td>[{'name': 'doi', 'value': '10.1177/10888683093...</td>\n      <td>Personality and Social Psychology Review</td>\n      <td>1</td>\n      <td>[religious, identity, religious identity, soci...</td>\n      <td>[eng]</td>\n      <td>[unigram, bigram, trigram]</td>\n      <td>12</td>\n      <td>71</td>\n      <td>60</td>\n      <td>60-71</td>\n      <td>portico</td>\n      <td>2010</td>\n      <td>SAGE Publications</td>\n      <td>6.0</td>\n      <td>[Social sciences - Psychology, Social sciences...</td>\n      <td>Religiosity as Identity: Toward an Understandi...</td>\n      <td>http://doi.org/10.1177/1088868309349693</td>\n      <td>14</td>\n      <td>9915</td>\n      <td>3</td>\n      <td>None</td>\n      <td>None</td>\n      <td>None</td>\n      <td>None</td>\n      <td>2010</td>\n      <td>2010</td>\n      <td>2000-2019</td>\n    </tr>\n    <tr>\n      <th>4</th>\n      <td>[David J. Clark]</td>\n      <td>1975-01-01</td>\n      <td>article</td>\n      <td>10.1177/026009357502600107</td>\n      <td>ark://27927/phx5181bbsv</td>\n      <td>[{'name': 'doi', 'value': '10.1177/02600935750...</td>\n      <td>The Bible Translator (1950-2012)</td>\n      <td>1</td>\n      <td>[haenchen, overboard, barclay, apostles, went ...</td>\n      <td>[eng]</td>\n      <td>[unigram, bigram, trigram]</td>\n      <td>3</td>\n      <td>146</td>\n      <td>144</td>\n      <td>pp. 144-146</td>\n      <td>portico</td>\n      <td>1975</td>\n      <td>SAGE Publications</td>\n      <td>7.0</td>\n      <td>[Linguistics - Grammar, Religion - Spiritual b...</td>\n      <td>What Went Overboard First?</td>\n      <td>http://doi.org/10.1177/026009357502600107</td>\n      <td>26</td>\n      <td>1652</td>\n      <td>4</td>\n      <td>None</td>\n      <td>None</td>\n      <td>None</td>\n      <td>None</td>\n      <td>1975</td>\n      <td>1970</td>\n      <td>1960-1979</td>\n    </tr>\n  </tbody>\n</table>\n</div>"
     },
     "execution_count": 22,
     "metadata": {},
     "output_type": "execute_result"
    }
   ],
   "source": [
    "metadata_df.head()"
   ],
   "metadata": {
    "collapsed": false,
    "ExecuteTime": {
     "end_time": "2023-05-10T10:51:40.294548Z",
     "start_time": "2023-05-10T10:51:40.263068Z"
    }
   }
  },
  {
   "cell_type": "code",
   "execution_count": 23,
   "outputs": [
    {
     "data": {
      "text/plain": "[1900, 1910, 1920, 1930, 1940, 1950, 1960, 1970, 1980, 1990, 2000, 2010, 2020]"
     },
     "execution_count": 23,
     "metadata": {},
     "output_type": "execute_result"
    }
   ],
   "source": [
    "decades = [n for n in range(1900,2030,10)]\n",
    "decades"
   ],
   "metadata": {
    "collapsed": false,
    "ExecuteTime": {
     "end_time": "2023-05-10T10:51:42.095894Z",
     "start_time": "2023-05-10T10:51:42.080727Z"
    }
   }
  },
  {
   "cell_type": "code",
   "execution_count": 63,
   "outputs": [],
   "source": [
    "metadata_df.to_json(\"../data/metadata_rich_df.json\")"
   ],
   "metadata": {
    "collapsed": false,
    "ExecuteTime": {
     "start_time": "2023-03-30T22:11:45.298485Z",
     "end_time": "2023-03-30T22:11:45.863947Z"
    }
   }
  },
  {
   "cell_type": "markdown",
   "source": [
    "# Explore temporal trends"
   ],
   "metadata": {
    "collapsed": false
   }
  },
  {
   "cell_type": "code",
   "execution_count": 24,
   "outputs": [
    {
     "data": {
      "text/plain": "decade\n1870       2\n1890       1\n1900     371\n1910     411\n1920     333\n1930     425\n1940     741\n1950    1249\n1960    1469\n1970    1765\n1980    2693\n1990    3642\n2000    4978\n2010    6511\n2020     409\ndtype: int64"
     },
     "execution_count": 24,
     "metadata": {},
     "output_type": "execute_result"
    }
   ],
   "source": [
    "metadata_df.groupby(\"decade\").size()"
   ],
   "metadata": {
    "collapsed": false,
    "ExecuteTime": {
     "end_time": "2023-05-10T10:51:45.180789Z",
     "start_time": "2023-05-10T10:51:45.126801Z"
    }
   }
  },
  {
   "cell_type": "code",
   "execution_count": 25,
   "outputs": [
    {
     "data": {
      "text/plain": "Text(0.5, 0, 'decades')"
     },
     "execution_count": 25,
     "metadata": {},
     "output_type": "execute_result"
    },
    {
     "data": {
      "text/plain": "<Figure size 1560x1200 with 1 Axes>",
      "image/png": "[encoded data removed]"
     },
     "metadata": {},
     "output_type": "display_data"
    }
   ],
   "source": [
    "fig, ax = plt.subplots(figsize=(5.2,4), dpi=300)\n",
    "ax.hist(metadata_df[\"decade\"], bins=decades, rwidth=0.9, color=\"darkgrey\")\n",
    "ax.set_xlim(1895,2025)\n",
    "ax.set_ylabel(\"N articles\")\n",
    "ax.set_xlabel(\"decades\")\n",
    "#ax.set_xticks([dec+5 for dec in decades])"
   ],
   "metadata": {
    "collapsed": false,
    "ExecuteTime": {
     "end_time": "2023-05-10T10:51:45.994328Z",
     "start_time": "2023-05-10T10:51:45.799061Z"
    }
   }
  },
  {
   "cell_type": "code",
   "execution_count": 67,
   "outputs": [],
   "source": [
    "fig.savefig(\"../figures/hist_decades_articles.png\")"
   ],
   "metadata": {
    "collapsed": false,
    "ExecuteTime": {
     "end_time": "2023-05-07T10:19:40.884246Z",
     "start_time": "2023-05-07T10:19:40.758089Z"
    }
   }
  },
  {
   "cell_type": "code",
   "execution_count": 35,
   "outputs": [
    {
     "name": "stderr",
     "output_type": "stream",
     "text": [
      "/var/folders/zg/zvg9y3rs7j527jxfq9sc2xqc0000gn/T/ipykernel_3092/3353733099.py:1: FutureWarning: The default value of numeric_only in DataFrameGroupBy.sum is deprecated. In a future version, numeric_only will default to False. Either specify numeric_only or select only columns which should be valid for the function.\n",
      "  metadata_per_decade = metadata_df.groupby(\"decade\").sum().reset_index()[[\"decade\", \"pageCount\", \"wordCount\"]]\n"
     ]
    },
    {
     "data": {
      "text/plain": "    decade  pageCount  wordCount\n0     1870         30      10545\n1     1890          2       1420\n2     1900       6148    2750899\n3     1910       5715    2427625\n4     1920       6609    2631921\n5     1930       6753    2849278\n6     1940       8092    3804267\n7     1950      17029    8161368\n8     1960      18895    9080522\n9     1970      21382   10641341\n10    1980      36440   18263029\n11    1990      54443   28179604\n12    2000      84945   46535227\n13    2010     157401   92824318\n14    2020       7357    4504320",
      "text/html": "<div>\n<style scoped>\n    .dataframe tbody tr th:only-of-type {\n        vertical-align: middle;\n    }\n\n    .dataframe tbody tr th {\n        vertical-align: top;\n    }\n\n    .dataframe thead th {\n        text-align: right;\n    }\n</style>\n<table border=\"1\" class=\"dataframe\">\n  <thead>\n    <tr style=\"text-align: right;\">\n      <th></th>\n      <th>decade</th>\n      <th>pageCount</th>\n      <th>wordCount</th>\n    </tr>\n  </thead>\n  <tbody>\n    <tr>\n      <th>0</th>\n      <td>1870</td>\n      <td>30</td>\n      <td>10545</td>\n    </tr>\n    <tr>\n      <th>1</th>\n      <td>1890</td>\n      <td>2</td>\n      <td>1420</td>\n    </tr>\n    <tr>\n      <th>2</th>\n      <td>1900</td>\n      <td>6148</td>\n      <td>2750899</td>\n    </tr>\n    <tr>\n      <th>3</th>\n      <td>1910</td>\n      <td>5715</td>\n      <td>2427625</td>\n    </tr>\n    <tr>\n      <th>4</th>\n      <td>1920</td>\n      <td>6609</td>\n      <td>2631921</td>\n    </tr>\n    <tr>\n      <th>5</th>\n      <td>1930</td>\n      <td>6753</td>\n      <td>2849278</td>\n    </tr>\n    <tr>\n      <th>6</th>\n      <td>1940</td>\n      <td>8092</td>\n      <td>3804267</td>\n    </tr>\n    <tr>\n      <th>7</th>\n      <td>1950</td>\n      <td>17029</td>\n      <td>8161368</td>\n    </tr>\n    <tr>\n      <th>8</th>\n      <td>1960</td>\n      <td>18895</td>\n      <td>9080522</td>\n    </tr>\n    <tr>\n      <th>9</th>\n      <td>1970</td>\n      <td>21382</td>\n      <td>10641341</td>\n    </tr>\n    <tr>\n      <th>10</th>\n      <td>1980</td>\n      <td>36440</td>\n      <td>18263029</td>\n    </tr>\n    <tr>\n      <th>11</th>\n      <td>1990</td>\n      <td>54443</td>\n      <td>28179604</td>\n    </tr>\n    <tr>\n      <th>12</th>\n      <td>2000</td>\n      <td>84945</td>\n      <td>46535227</td>\n    </tr>\n    <tr>\n      <th>13</th>\n      <td>2010</td>\n      <td>157401</td>\n      <td>92824318</td>\n    </tr>\n    <tr>\n      <th>14</th>\n      <td>2020</td>\n      <td>7357</td>\n      <td>4504320</td>\n    </tr>\n  </tbody>\n</table>\n</div>"
     },
     "execution_count": 35,
     "metadata": {},
     "output_type": "execute_result"
    }
   ],
   "source": [
    "metadata_per_decade = metadata_df.groupby(\"decade\").sum().reset_index()[[\"decade\", \"pageCount\", \"wordCount\"]]\n",
    "metadata_per_decade"
   ],
   "metadata": {
    "collapsed": false,
    "ExecuteTime": {
     "end_time": "2023-05-10T10:57:52.029463Z",
     "start_time": "2023-05-10T10:57:52.012955Z"
    }
   }
  },
  {
   "cell_type": "code",
   "execution_count": 67,
   "outputs": [
    {
     "data": {
      "text/plain": "[782, 758, 1990, 3234, 6335, 11489]"
     },
     "execution_count": 67,
     "metadata": {},
     "output_type": "execute_result"
    }
   ],
   "source": [
    "metadata_df.groupby(\"bidecade\").size().tolist()"
   ],
   "metadata": {
    "collapsed": false,
    "ExecuteTime": {
     "end_time": "2023-05-10T11:10:50.106263Z",
     "start_time": "2023-05-10T11:10:50.088222Z"
    }
   }
  },
  {
   "cell_type": "code",
   "execution_count": 72,
   "outputs": [
    {
     "name": "stderr",
     "output_type": "stream",
     "text": [
      "/var/folders/zg/zvg9y3rs7j527jxfq9sc2xqc0000gn/T/ipykernel_3092/4115257019.py:1: FutureWarning: The default value of numeric_only in DataFrameGroupBy.sum is deprecated. In a future version, numeric_only will default to False. Either specify numeric_only or select only columns which should be valid for the function.\n",
      "  metadata_per_bidecade = metadata_df.groupby(\"bidecade\").sum().reset_index()\n"
     ]
    },
    {
     "data": {
      "text/plain": "    bidecade  articles_N  pageCount  wordCount\n0  1900-1919         782      11863    5178524\n1  1920-1939         758      13362    5481199\n2  1940-1959        1990      25121   11965635\n3  1960-1979        3234      40277   19721863\n4  1980-1999        6335      90883   46442633\n5  2000-2019       11489     242346  139359545",
      "text/html": "<div>\n<style scoped>\n    .dataframe tbody tr th:only-of-type {\n        vertical-align: middle;\n    }\n\n    .dataframe tbody tr th {\n        vertical-align: top;\n    }\n\n    .dataframe thead th {\n        text-align: right;\n    }\n</style>\n<table border=\"1\" class=\"dataframe\">\n  <thead>\n    <tr style=\"text-align: right;\">\n      <th></th>\n      <th>bidecade</th>\n      <th>articles_N</th>\n      <th>pageCount</th>\n      <th>wordCount</th>\n    </tr>\n  </thead>\n  <tbody>\n    <tr>\n      <th>0</th>\n      <td>1900-1919</td>\n      <td>782</td>\n      <td>11863</td>\n      <td>5178524</td>\n    </tr>\n    <tr>\n      <th>1</th>\n      <td>1920-1939</td>\n      <td>758</td>\n      <td>13362</td>\n      <td>5481199</td>\n    </tr>\n    <tr>\n      <th>2</th>\n      <td>1940-1959</td>\n      <td>1990</td>\n      <td>25121</td>\n      <td>11965635</td>\n    </tr>\n    <tr>\n      <th>3</th>\n      <td>1960-1979</td>\n      <td>3234</td>\n      <td>40277</td>\n      <td>19721863</td>\n    </tr>\n    <tr>\n      <th>4</th>\n      <td>1980-1999</td>\n      <td>6335</td>\n      <td>90883</td>\n      <td>46442633</td>\n    </tr>\n    <tr>\n      <th>5</th>\n      <td>2000-2019</td>\n      <td>11489</td>\n      <td>242346</td>\n      <td>139359545</td>\n    </tr>\n  </tbody>\n</table>\n</div>"
     },
     "execution_count": 72,
     "metadata": {},
     "output_type": "execute_result"
    }
   ],
   "source": [
    "metadata_per_bidecade = metadata_df.groupby(\"bidecade\").sum().reset_index()\n",
    "metadata_per_bidecade[\"articles_N\"] = metadata_df.groupby(\"bidecade\").size().tolist()\n",
    "metadata_per_bidecade = metadata_per_bidecade[[\"bidecade\", \"articles_N\", \"pageCount\", \"wordCount\"]]\n",
    "metadata_per_bidecade"
   ],
   "metadata": {
    "collapsed": false,
    "ExecuteTime": {
     "end_time": "2023-05-10T11:11:37.586596Z",
     "start_time": "2023-05-10T11:11:37.548306Z"
    }
   }
  },
  {
   "cell_type": "code",
   "execution_count": 27,
   "outputs": [],
   "source": [
    "matplotlib.rcParams['axes.formatter.useoffset'] = False"
   ],
   "metadata": {
    "collapsed": false,
    "ExecuteTime": {
     "end_time": "2023-05-10T10:52:03.618611Z",
     "start_time": "2023-05-10T10:52:03.591531Z"
    }
   }
  },
  {
   "cell_type": "code",
   "execution_count": 28,
   "outputs": [
    {
     "data": {
      "text/plain": "Text(0.5, 0, 'decades')"
     },
     "execution_count": 28,
     "metadata": {},
     "output_type": "execute_result"
    },
    {
     "data": {
      "text/plain": "<Figure size 1560x1200 with 1 Axes>",
      "image/png": "[encoded data removed]"
     },
     "metadata": {},
     "output_type": "display_data"
    }
   ],
   "source": [
    "fig, ax = plt.subplots(figsize=(5.2,4), dpi=300)\n",
    "ax.bar([n+5 for n in metadata_per_decade[\"decade\"]][:-1], metadata_per_decade[\"wordCount\"][:-1], width=9, color=\"darkgrey\")\n",
    "#ax.set_yticklabels(ax.get_yticks())\n",
    "#ax.get_yaxis().get_major_formatter().set_useOffset(False)\n",
    "ax.set_xlim(1895,2025)\n",
    "ax.set_yticks(range(0, 120000000, 20000000))\n",
    "ax.set_yticklabels([str(n)+\"M\" for n in range(0, 120, 20)])\n",
    "ax.set_ylabel(\"wordcount in Millions (M)\")\n",
    "ax.set_xlabel(\"decades\")"
   ],
   "metadata": {
    "collapsed": false,
    "ExecuteTime": {
     "end_time": "2023-05-10T10:52:14.092804Z",
     "start_time": "2023-05-10T10:52:13.908895Z"
    }
   }
  },
  {
   "cell_type": "code",
   "execution_count": 71,
   "outputs": [],
   "source": [
    "fig.savefig(\"../figures/hist_decades_wordcounts.png\")"
   ],
   "metadata": {
    "collapsed": false,
    "ExecuteTime": {
     "end_time": "2023-05-07T10:20:02.136319Z",
     "start_time": "2023-05-07T10:20:02.009652Z"
    }
   }
  },
  {
   "cell_type": "code",
   "execution_count": 29,
   "outputs": [
    {
     "data": {
      "text/plain": "Text(0.5, 0, 'decades')"
     },
     "execution_count": 29,
     "metadata": {},
     "output_type": "execute_result"
    },
    {
     "data": {
      "text/plain": "<Figure size 1560x600 with 2 Axes>",
      "image/png": "[encoded data removed]"
     },
     "metadata": {},
     "output_type": "display_data"
    }
   ],
   "source": [
    "\n",
    "fig, [ax1, ax2] = plt.subplots(1,2, figsize=(5.2,2), dpi=300)\n",
    "ax1.hist(metadata_df[\"decade\"], bins=decades, rwidth=0.8, color=\"darkgrey\")\n",
    "ax1.set_xlim(1895,2025)\n",
    "ax1.set_ylabel(\"N articles\")\n",
    "ax1.set_xlabel(\"decades\")\n",
    "\n",
    "ax2.bar([n+5 for n in metadata_per_decade[\"decade\"]][:-1], metadata_per_decade[\"wordCount\"][:-1], width=8, color=\"darkgrey\")\n",
    "#ax.set_yticklabels(ax.get_yticks())\n",
    "#ax.get_yaxis().get_major_formatter().set_useOffset(False)\n",
    "ax2.set_xlim(1895,2025)\n",
    "ax2.yaxis.tick_right()\n",
    "ax2.yaxis.set_label_position(\"right\")\n",
    "ax2.set_yticks(range(0, 120000000, 20000000))\n",
    "ax2.set_yticklabels([str(n)+\"M\" for n in range(0, 120, 20)])\n",
    "ax2.set_ylabel(\"wordcount in Millions (M)\", rotation=270, labelpad=10)\n",
    "ax2.set_xlabel(\"decades\")\n",
    "#ax.set_xticks([dec+5 for dec in decades])"
   ],
   "metadata": {
    "collapsed": false,
    "ExecuteTime": {
     "end_time": "2023-05-10T10:52:34.051432Z",
     "start_time": "2023-05-10T10:52:33.864374Z"
    }
   }
  },
  {
   "cell_type": "code",
   "execution_count": 73,
   "outputs": [
    {
     "data": {
      "text/plain": "    bidecade  articles_N  pageCount  wordCount\n0  1900-1919         782      11863    5178524\n1  1920-1939         758      13362    5481199\n2  1940-1959        1990      25121   11965635\n3  1960-1979        3234      40277   19721863\n4  1980-1999        6335      90883   46442633\n5  2000-2019       11489     242346  139359545",
      "text/html": "<div>\n<style scoped>\n    .dataframe tbody tr th:only-of-type {\n        vertical-align: middle;\n    }\n\n    .dataframe tbody tr th {\n        vertical-align: top;\n    }\n\n    .dataframe thead th {\n        text-align: right;\n    }\n</style>\n<table border=\"1\" class=\"dataframe\">\n  <thead>\n    <tr style=\"text-align: right;\">\n      <th></th>\n      <th>bidecade</th>\n      <th>articles_N</th>\n      <th>pageCount</th>\n      <th>wordCount</th>\n    </tr>\n  </thead>\n  <tbody>\n    <tr>\n      <th>0</th>\n      <td>1900-1919</td>\n      <td>782</td>\n      <td>11863</td>\n      <td>5178524</td>\n    </tr>\n    <tr>\n      <th>1</th>\n      <td>1920-1939</td>\n      <td>758</td>\n      <td>13362</td>\n      <td>5481199</td>\n    </tr>\n    <tr>\n      <th>2</th>\n      <td>1940-1959</td>\n      <td>1990</td>\n      <td>25121</td>\n      <td>11965635</td>\n    </tr>\n    <tr>\n      <th>3</th>\n      <td>1960-1979</td>\n      <td>3234</td>\n      <td>40277</td>\n      <td>19721863</td>\n    </tr>\n    <tr>\n      <th>4</th>\n      <td>1980-1999</td>\n      <td>6335</td>\n      <td>90883</td>\n      <td>46442633</td>\n    </tr>\n    <tr>\n      <th>5</th>\n      <td>2000-2019</td>\n      <td>11489</td>\n      <td>242346</td>\n      <td>139359545</td>\n    </tr>\n  </tbody>\n</table>\n</div>"
     },
     "execution_count": 73,
     "metadata": {},
     "output_type": "execute_result"
    }
   ],
   "source": [
    "metadata_per_bidecade"
   ],
   "metadata": {
    "collapsed": false,
    "ExecuteTime": {
     "end_time": "2023-05-10T11:11:44.405726Z",
     "start_time": "2023-05-10T11:11:44.375513Z"
    }
   }
  },
  {
   "cell_type": "code",
   "execution_count": 77,
   "outputs": [
    {
     "data": {
      "text/plain": "Text(0.5, 0, 'bidecade')"
     },
     "execution_count": 77,
     "metadata": {},
     "output_type": "execute_result"
    },
    {
     "data": {
      "text/plain": "<Figure size 1560x600 with 2 Axes>",
      "image/png": "[encoded data removed]"
     },
     "metadata": {},
     "output_type": "display_data"
    }
   ],
   "source": [
    "\n",
    "fig, [ax1, ax2] = plt.subplots(1,2, figsize=(5.2,2), dpi=300)\n",
    "ax1.bar([int(n[:4])+10 for n in metadata_per_bidecade[\"bidecade\"]], metadata_per_bidecade[\"articles_N\"], width=16, color=\"darkgrey\")\n",
    "ax1.set_xlim(1895,2025)\n",
    "ax1.set_ylabel(\"N articles\")\n",
    "ax1.set_xlabel(\"bidecade\")\n",
    "\n",
    "ax2.bar([int(n[:4])+10 for n in metadata_per_bidecade[\"bidecade\"]], metadata_per_bidecade[\"wordCount\"], width=16, color=\"darkgrey\")\n",
    "#ax.set_yticklabels(ax.get_yticks())\n",
    "#ax.get_yaxis().get_major_formatter().set_useOffset(False)\n",
    "ax2.set_xlim(1895,2025)\n",
    "ax2.yaxis.tick_right()\n",
    "ax2.yaxis.set_label_position(\"right\")\n",
    "ax2.set_yticks(range(0, 200000000, 50000000))\n",
    "ax2.set_yticklabels([str(n)+\"M\" for n in range(0, 200, 50)])\n",
    "ax2.set_ylabel(\"wordcount in Millions (M)\", rotation=270, labelpad=10)\n",
    "ax2.set_xlabel(\"bidecade\")\n",
    "#ax.set_xticks([dec+5 for dec in decades])"
   ],
   "metadata": {
    "collapsed": false,
    "ExecuteTime": {
     "end_time": "2023-05-10T11:13:39.591188Z",
     "start_time": "2023-05-10T11:13:39.452481Z"
    }
   }
  },
  {
   "cell_type": "code",
   "execution_count": 30,
   "outputs": [
    {
     "name": "stderr",
     "output_type": "stream",
     "text": [
      "/var/folders/zg/zvg9y3rs7j527jxfq9sc2xqc0000gn/T/ipykernel_3092/2747721919.py:6: UserWarning: FixedFormatter should only be used together with FixedLocator\n",
      "  ax1.set_xticklabels([int(n) for n in ax.get_xticks()], color=\"white\")\n",
      "/var/folders/zg/zvg9y3rs7j527jxfq9sc2xqc0000gn/T/ipykernel_3092/2747721919.py:7: UserWarning: FixedFormatter should only be used together with FixedLocator\n",
      "  ax1.set_yticklabels([int(n) for n in ax1.get_yticks()], color=\"white\")\n",
      "/var/folders/zg/zvg9y3rs7j527jxfq9sc2xqc0000gn/T/ipykernel_3092/2747721919.py:17: UserWarning: FixedFormatter should only be used together with FixedLocator\n",
      "  ax2.set_xticklabels([int(n) for n in ax.get_xticks()], color=\"white\")\n"
     ]
    },
    {
     "data": {
      "text/plain": "Text(0.5, 0, 'decades')"
     },
     "execution_count": 30,
     "metadata": {},
     "output_type": "execute_result"
    },
    {
     "data": {
      "text/plain": "<Figure size 1560x540 with 2 Axes>",
      "image/png": "[encoded data removed]"
     },
     "metadata": {},
     "output_type": "display_data"
    }
   ],
   "source": [
    "fig, [ax1, ax2] = plt.subplots(1,2, figsize=(5.2,1.8), dpi=300, tight_layout=True)\n",
    "fig.patch.set_facecolor(\"black\")\n",
    "ax1.set_facecolor(\"black\")\n",
    "ax1.hist(metadata_df[\"decade\"], bins=decades, rwidth=0.8, color=\"darkgrey\")\n",
    "ax1.set_xlim(1895,2025)\n",
    "ax1.set_xticklabels([int(n) for n in ax.get_xticks()], color=\"white\")\n",
    "ax1.set_yticklabels([int(n) for n in ax1.get_yticks()], color=\"white\")\n",
    "ax1.set_ylabel(\"N articles\", color=\"white\")\n",
    "ax1.set_xlabel(\"decades\", color=\"white\")\n",
    "\n",
    "\n",
    "ax2.set_facecolor(\"black\")\n",
    "ax2.bar([n+5 for n in metadata_per_decade[\"decade\"]][:-1], metadata_per_decade[\"wordCount\"][:-1], width=8, color=\"darkgrey\")\n",
    "#ax.set_yticklabels(ax.get_yticks())\n",
    "#ax.get_yaxis().get_major_formatter().set_useOffset(False)\n",
    "ax2.set_xlim(1895,2025)\n",
    "ax2.set_xticklabels([int(n) for n in ax.get_xticks()], color=\"white\")\n",
    "ax2.yaxis.tick_right()\n",
    "ax2.yaxis.set_label_position(\"right\")\n",
    "ax2.set_yticks(range(0, 120000000, 20000000))\n",
    "ax2.set_yticklabels([str(n)+\"M\" for n in range(0, 120, 20)], color=\"white\")\n",
    "ax2.set_ylabel(\"wordcount (Millions)\", rotation=270, labelpad=10, color=\"white\")\n",
    "ax2.set_xlabel(\"decades\", color=\"white\")\n",
    "#ax.set_xticks([dec+5 for dec in decades])"
   ],
   "metadata": {
    "collapsed": false,
    "ExecuteTime": {
     "end_time": "2023-05-10T10:55:10.601265Z",
     "start_time": "2023-05-10T10:55:10.418538Z"
    }
   }
  },
  {
   "cell_type": "code",
   "execution_count": 95,
   "outputs": [],
   "source": [
    "fig.savefig(\"../figures/overview_decades.png\")"
   ],
   "metadata": {
    "collapsed": false,
    "ExecuteTime": {
     "end_time": "2023-05-07T10:36:06.814383Z",
     "start_time": "2023-05-07T10:36:06.670846Z"
    }
   }
  },
  {
   "cell_type": "code",
   "execution_count": 44,
   "outputs": [
    {
     "name": "stderr",
     "output_type": "stream",
     "text": [
      "/var/folders/zg/zvg9y3rs7j527jxfq9sc2xqc0000gn/T/ipykernel_38336/3331929625.py:1: FutureWarning: The default value of numeric_only in DataFrameGroupBy.mean is deprecated. In a future version, numeric_only will default to False. Either specify numeric_only or select only columns which should be valid for the function.\n",
      "  metadata_df.groupby(\"decade\").mean()\n"
     ]
    },
    {
     "data": {
      "text/plain": "        pageCount  publicationYear   sequence     wordCount       id_kase  \\\ndecade                                                                      \n1870    15.000000      1908.000000  46.000000   5272.500000  15335.500000   \n1890     2.000000      1959.000000  41.000000   1420.000000  18637.000000   \n1900    16.571429      1904.617251   8.428571   7414.822102  14276.067385   \n1910    13.905109      1914.072993   7.686275   5906.630170  14246.476886   \n1920    19.846847      1926.411411  10.392857   7903.666667  13607.234234   \n1930    15.889412      1934.976471   9.045455   6704.183529  13914.390588   \n1940    10.920378      1945.122807  13.288288   5133.963563  13122.574899   \n1950    13.634107      1954.490793  12.565287   6534.321857  12416.522818   \n1960    12.862491      1964.594282  11.463245   6181.430905  12564.962560   \n1970    12.114448      1974.903116  12.035170   6029.088385  12539.248159   \n1980    13.531378      1984.867805   9.680952   6781.666914  12891.902711   \n1990    14.948655      1994.762768  10.567010   7737.398133  12619.825371   \n2000    17.064082      2005.123142  35.804803   9348.177380  12269.742869   \n2010    24.174628      2014.141607  28.603884  14256.537859  12043.725695   \n2020    17.987775      2020.484108  20.476190  11013.007335  11846.210269   \n\n               year  \ndecade               \n1870    1873.000000  \n1890    1895.000000  \n1900    1904.617251  \n1910    1914.072993  \n1920    1924.777778  \n1930    1934.976471  \n1940    1945.122807  \n1950    1954.490793  \n1960    1964.594282  \n1970    1974.964306  \n1980    1984.879688  \n1990    1994.797913  \n2000    2005.123142  \n2010    2014.156351  \n2020    2020.484108  ",
      "text/html": "<div>\n<style scoped>\n    .dataframe tbody tr th:only-of-type {\n        vertical-align: middle;\n    }\n\n    .dataframe tbody tr th {\n        vertical-align: top;\n    }\n\n    .dataframe thead th {\n        text-align: right;\n    }\n</style>\n<table border=\"1\" class=\"dataframe\">\n  <thead>\n    <tr style=\"text-align: right;\">\n      <th></th>\n      <th>pageCount</th>\n      <th>publicationYear</th>\n      <th>sequence</th>\n      <th>wordCount</th>\n      <th>id_kase</th>\n      <th>year</th>\n    </tr>\n    <tr>\n      <th>decade</th>\n      <th></th>\n      <th></th>\n      <th></th>\n      <th></th>\n      <th></th>\n      <th></th>\n    </tr>\n  </thead>\n  <tbody>\n    <tr>\n      <th>1870</th>\n      <td>15.000000</td>\n      <td>1908.000000</td>\n      <td>46.000000</td>\n      <td>5272.500000</td>\n      <td>15335.500000</td>\n      <td>1873.000000</td>\n    </tr>\n    <tr>\n      <th>1890</th>\n      <td>2.000000</td>\n      <td>1959.000000</td>\n      <td>41.000000</td>\n      <td>1420.000000</td>\n      <td>18637.000000</td>\n      <td>1895.000000</td>\n    </tr>\n    <tr>\n      <th>1900</th>\n      <td>16.571429</td>\n      <td>1904.617251</td>\n      <td>8.428571</td>\n      <td>7414.822102</td>\n      <td>14276.067385</td>\n      <td>1904.617251</td>\n    </tr>\n    <tr>\n      <th>1910</th>\n      <td>13.905109</td>\n      <td>1914.072993</td>\n      <td>7.686275</td>\n      <td>5906.630170</td>\n      <td>14246.476886</td>\n      <td>1914.072993</td>\n    </tr>\n    <tr>\n      <th>1920</th>\n      <td>19.846847</td>\n      <td>1926.411411</td>\n      <td>10.392857</td>\n      <td>7903.666667</td>\n      <td>13607.234234</td>\n      <td>1924.777778</td>\n    </tr>\n    <tr>\n      <th>1930</th>\n      <td>15.889412</td>\n      <td>1934.976471</td>\n      <td>9.045455</td>\n      <td>6704.183529</td>\n      <td>13914.390588</td>\n      <td>1934.976471</td>\n    </tr>\n    <tr>\n      <th>1940</th>\n      <td>10.920378</td>\n      <td>1945.122807</td>\n      <td>13.288288</td>\n      <td>5133.963563</td>\n      <td>13122.574899</td>\n      <td>1945.122807</td>\n    </tr>\n    <tr>\n      <th>1950</th>\n      <td>13.634107</td>\n      <td>1954.490793</td>\n      <td>12.565287</td>\n      <td>6534.321857</td>\n      <td>12416.522818</td>\n      <td>1954.490793</td>\n    </tr>\n    <tr>\n      <th>1960</th>\n      <td>12.862491</td>\n      <td>1964.594282</td>\n      <td>11.463245</td>\n      <td>6181.430905</td>\n      <td>12564.962560</td>\n      <td>1964.594282</td>\n    </tr>\n    <tr>\n      <th>1970</th>\n      <td>12.114448</td>\n      <td>1974.903116</td>\n      <td>12.035170</td>\n      <td>6029.088385</td>\n      <td>12539.248159</td>\n      <td>1974.964306</td>\n    </tr>\n    <tr>\n      <th>1980</th>\n      <td>13.531378</td>\n      <td>1984.867805</td>\n      <td>9.680952</td>\n      <td>6781.666914</td>\n      <td>12891.902711</td>\n      <td>1984.879688</td>\n    </tr>\n    <tr>\n      <th>1990</th>\n      <td>14.948655</td>\n      <td>1994.762768</td>\n      <td>10.567010</td>\n      <td>7737.398133</td>\n      <td>12619.825371</td>\n      <td>1994.797913</td>\n    </tr>\n    <tr>\n      <th>2000</th>\n      <td>17.064082</td>\n      <td>2005.123142</td>\n      <td>35.804803</td>\n      <td>9348.177380</td>\n      <td>12269.742869</td>\n      <td>2005.123142</td>\n    </tr>\n    <tr>\n      <th>2010</th>\n      <td>24.174628</td>\n      <td>2014.141607</td>\n      <td>28.603884</td>\n      <td>14256.537859</td>\n      <td>12043.725695</td>\n      <td>2014.156351</td>\n    </tr>\n    <tr>\n      <th>2020</th>\n      <td>17.987775</td>\n      <td>2020.484108</td>\n      <td>20.476190</td>\n      <td>11013.007335</td>\n      <td>11846.210269</td>\n      <td>2020.484108</td>\n    </tr>\n  </tbody>\n</table>\n</div>"
     },
     "execution_count": 44,
     "metadata": {},
     "output_type": "execute_result"
    }
   ],
   "source": [
    "metadata_df.groupby(\"decade\").mean()"
   ],
   "metadata": {
    "collapsed": false,
    "ExecuteTime": {
     "start_time": "2023-03-31T13:59:23.445955Z",
     "end_time": "2023-03-31T13:59:23.465423Z"
    }
   }
  },
  {
   "cell_type": "code",
   "execution_count": 45,
   "outputs": [
    {
     "name": "stderr",
     "output_type": "stream",
     "text": [
      "/var/folders/zg/zvg9y3rs7j527jxfq9sc2xqc0000gn/T/ipykernel_38336/515994493.py:1: FutureWarning: The default value of numeric_only in DataFrameGroupBy.mean is deprecated. In a future version, numeric_only will default to False. Either specify numeric_only or select only columns which should be valid for the function.\n",
      "  metadata_df[mask_articles].groupby(\"decade\").mean()\n"
     ]
    },
    {
     "data": {
      "text/plain": "        pageCount  publicationYear   sequence     wordCount       id_kase  \\\ndecade                                                                      \n1870    13.000000      1908.000000  66.000000   4546.000000  19641.000000   \n1900    21.310881      1904.823834   4.333333   9526.663212  14337.326425   \n1910    17.303030      1913.939394   4.600000   7239.627706  14924.913420   \n1920    25.363158      1926.247368   6.454545   9748.189474  14656.663158   \n1930    24.866667      1934.466667   4.000000  10342.630769  14702.928205   \n1940    16.016287      1945.026059   4.804878   7364.042345  14900.605863   \n1950    23.260341      1954.399027   4.207547  10990.467153  14276.939173   \n1960    21.951904      1964.883768   5.541667  10428.490982  14185.048096   \n1970    18.143541      1975.020734   5.576471   8991.231260  13824.283892   \n1980    19.235967      1985.018711   6.992701   9241.970894  14135.768191   \n1990    21.816763      1994.637634   6.136054  10366.320460  13924.538209   \n2000    24.203390      2004.627119   5.801980  11481.632277  14243.810612   \n2010    24.003589      2013.689160   6.424893  11254.847093  14247.755922   \n2020    21.397590      2020.686747   6.945946  10825.048193  12414.349398   \n\n               year  \ndecade               \n1870    1873.000000  \n1900    1904.823834  \n1910    1913.939394  \n1920    1924.668421  \n1930    1934.466667  \n1940    1945.026059  \n1950    1954.399027  \n1960    1964.883768  \n1970    1975.020734  \n1980    1985.018711  \n1990    1994.637634  \n2000    2004.627119  \n2010    2013.755922  \n2020    2020.686747  ",
      "text/html": "<div>\n<style scoped>\n    .dataframe tbody tr th:only-of-type {\n        vertical-align: middle;\n    }\n\n    .dataframe tbody tr th {\n        vertical-align: top;\n    }\n\n    .dataframe thead th {\n        text-align: right;\n    }\n</style>\n<table border=\"1\" class=\"dataframe\">\n  <thead>\n    <tr style=\"text-align: right;\">\n      <th></th>\n      <th>pageCount</th>\n      <th>publicationYear</th>\n      <th>sequence</th>\n      <th>wordCount</th>\n      <th>id_kase</th>\n      <th>year</th>\n    </tr>\n    <tr>\n      <th>decade</th>\n      <th></th>\n      <th></th>\n      <th></th>\n      <th></th>\n      <th></th>\n      <th></th>\n    </tr>\n  </thead>\n  <tbody>\n    <tr>\n      <th>1870</th>\n      <td>13.000000</td>\n      <td>1908.000000</td>\n      <td>66.000000</td>\n      <td>4546.000000</td>\n      <td>19641.000000</td>\n      <td>1873.000000</td>\n    </tr>\n    <tr>\n      <th>1900</th>\n      <td>21.310881</td>\n      <td>1904.823834</td>\n      <td>4.333333</td>\n      <td>9526.663212</td>\n      <td>14337.326425</td>\n      <td>1904.823834</td>\n    </tr>\n    <tr>\n      <th>1910</th>\n      <td>17.303030</td>\n      <td>1913.939394</td>\n      <td>4.600000</td>\n      <td>7239.627706</td>\n      <td>14924.913420</td>\n      <td>1913.939394</td>\n    </tr>\n    <tr>\n      <th>1920</th>\n      <td>25.363158</td>\n      <td>1926.247368</td>\n      <td>6.454545</td>\n      <td>9748.189474</td>\n      <td>14656.663158</td>\n      <td>1924.668421</td>\n    </tr>\n    <tr>\n      <th>1930</th>\n      <td>24.866667</td>\n      <td>1934.466667</td>\n      <td>4.000000</td>\n      <td>10342.630769</td>\n      <td>14702.928205</td>\n      <td>1934.466667</td>\n    </tr>\n    <tr>\n      <th>1940</th>\n      <td>16.016287</td>\n      <td>1945.026059</td>\n      <td>4.804878</td>\n      <td>7364.042345</td>\n      <td>14900.605863</td>\n      <td>1945.026059</td>\n    </tr>\n    <tr>\n      <th>1950</th>\n      <td>23.260341</td>\n      <td>1954.399027</td>\n      <td>4.207547</td>\n      <td>10990.467153</td>\n      <td>14276.939173</td>\n      <td>1954.399027</td>\n    </tr>\n    <tr>\n      <th>1960</th>\n      <td>21.951904</td>\n      <td>1964.883768</td>\n      <td>5.541667</td>\n      <td>10428.490982</td>\n      <td>14185.048096</td>\n      <td>1964.883768</td>\n    </tr>\n    <tr>\n      <th>1970</th>\n      <td>18.143541</td>\n      <td>1975.020734</td>\n      <td>5.576471</td>\n      <td>8991.231260</td>\n      <td>13824.283892</td>\n      <td>1975.020734</td>\n    </tr>\n    <tr>\n      <th>1980</th>\n      <td>19.235967</td>\n      <td>1985.018711</td>\n      <td>6.992701</td>\n      <td>9241.970894</td>\n      <td>14135.768191</td>\n      <td>1985.018711</td>\n    </tr>\n    <tr>\n      <th>1990</th>\n      <td>21.816763</td>\n      <td>1994.637634</td>\n      <td>6.136054</td>\n      <td>10366.320460</td>\n      <td>13924.538209</td>\n      <td>1994.637634</td>\n    </tr>\n    <tr>\n      <th>2000</th>\n      <td>24.203390</td>\n      <td>2004.627119</td>\n      <td>5.801980</td>\n      <td>11481.632277</td>\n      <td>14243.810612</td>\n      <td>2004.627119</td>\n    </tr>\n    <tr>\n      <th>2010</th>\n      <td>24.003589</td>\n      <td>2013.689160</td>\n      <td>6.424893</td>\n      <td>11254.847093</td>\n      <td>14247.755922</td>\n      <td>2013.755922</td>\n    </tr>\n    <tr>\n      <th>2020</th>\n      <td>21.397590</td>\n      <td>2020.686747</td>\n      <td>6.945946</td>\n      <td>10825.048193</td>\n      <td>12414.349398</td>\n      <td>2020.686747</td>\n    </tr>\n  </tbody>\n</table>\n</div>"
     },
     "execution_count": 45,
     "metadata": {},
     "output_type": "execute_result"
    }
   ],
   "source": [
    "metadata_df[mask_articles].groupby(\"decade\").mean()"
   ],
   "metadata": {
    "collapsed": false,
    "ExecuteTime": {
     "start_time": "2023-03-31T14:00:05.903016Z",
     "end_time": "2023-03-31T14:00:05.940975Z"
    }
   }
  },
  {
   "cell_type": "markdown",
   "source": [
    "# Individual text exploration"
   ],
   "metadata": {
    "collapsed": false
   }
  },
  {
   "cell_type": "code",
   "execution_count": 46,
   "outputs": [
    {
     "data": {
      "text/plain": "                       creator datePublished  docType  \\\n16174  [Christopher S. Atkins]    2021-10-01  article   \n6075        [Michael Dormandy]    2021-04-01  article   \n12910     [Benjamin A. Edsall]    2021-07-01  article   \n10158       [Joseph Longarino]    2021-10-01  article   \n1967            [Candida Moss]    2021-04-01  article   \n...                        ...           ...      ...   \n8842             [Leon Morris]    1955-09-01  article   \n9159           [Richard Heard]    1954-11-01  article   \n23420        [J. Andrew Cowan]    1921-01-01  article   \n5139     [Michal Beth Dinkler]    1921-01-01  article   \n20027        [Ryan D. Collman]    1921-01-01  article   \n\n                             doi                       id  \\\n16174  10.1017/S0028688521000114  ark://27927/phzqbgq970t   \n6075   10.1017/S0028688520000260  ark://27927/phzm9xhzxwz   \n12910  10.1017/S0028688521000047  ark://27927/phzp3sf77h8   \n10158  10.1017/S0028688521000060  ark://27927/phzqbgq968q   \n1967   10.1017/S0028688520000351  ark://27927/phzm9xj00kz   \n...                          ...                      ...   \n8842   10.1017/S0028688500017197  ark://27927/pgh1gc61bxr   \n9159   10.1017/S0028688500003635  ark://27927/pgh1gc4wn4w   \n23420  10.1017/S0028688520000223  ark://27927/phzjm9743rf   \n5139   10.1017/S0028688520000247  ark://27927/phzjm97441c   \n20027  10.1017/S0028688520000107  ark://27927/phzjm9743cc   \n\n                                              identifier  \\\n16174  [{'name': 'local_publisher_id', 'value': 'S002...   \n6075   [{'name': 'local_publisher_id', 'value': 'S002...   \n12910  [{'name': 'local_publisher_id', 'value': 'S002...   \n10158  [{'name': 'local_publisher_id', 'value': 'S002...   \n1967   [{'name': 'local_publisher_id', 'value': 'S002...   \n...                                                  ...   \n8842   [{'name': 'local_publisher_id', 'value': 'S002...   \n9159   [{'name': 'local_publisher_id', 'value': 'S002...   \n23420  [{'name': 'local_publisher_id', 'value': 'S002...   \n5139   [{'name': 'local_publisher_id', 'value': 'S002...   \n20027  [{'name': 'local_publisher_id', 'value': 'S002...   \n\n                    isPartOf issueNumber  \\\n16174  New Testament Studies           4   \n6075   New Testament Studies           2   \n12910  New Testament Studies           3   \n10158  New Testament Studies           4   \n1967   New Testament Studies           2   \n...                      ...         ...   \n8842   New Testament Studies           1   \n9159   New Testament Studies           2   \n23420  New Testament Studies           1   \n5139   New Testament Studies           1   \n20027  New Testament Studies           1   \n\n                                               keyphrase language  \\\n16174                                               None    [eng]   \n6075                                                None    [eng]   \n12910                                               None    [eng]   \n10158                                               None    [eng]   \n1967                                                None    [eng]   \n...                                                  ...      ...   \n8842   [mercy seat, romans, atonement, propitiatory, ...    [eng]   \n9159   [papias, irenaeus, gospel, justins, apostles, ...    [eng]   \n23420  [socrates, areopagus speech, euthyphro, gärtne...    [eng]   \n5139   [silence, speech, narrative, apostles, speech ...    [eng]   \n20027  [gentiles, philippians, phallic epithet, thies...    [eng]   \n\n                     outputFormat  pageCount pageEnd pageStart pagination  \\\n16174  [unigram, bigram, trigram]         15     612       598    598-612   \n6075   [unigram, bigram, trigram]         21     240       220    220-240   \n12910  [unigram, bigram, trigram]         17     423       407    407-423   \n10158  [unigram, bigram, trigram]         16     597       582    582-597   \n1967   [unigram, bigram, trigram]         24     204       181    181-204   \n...                           ...        ...     ...       ...        ...   \n8842   [unigram, bigram, trigram]         11      43        33      33-43   \n9159   [unigram, bigram, trigram]          8     129       122    122-129   \n23420  [unigram, bigram, trigram]         13     133       121    121-133   \n5139   [unigram, bigram, trigram]         21      21         1       1-21   \n20027  [unigram, bigram, trigram]         16     120       105    105-120   \n\n      provider  publicationYear                   publisher  sequence  \\\n16174  portico             2021  Cambridge University Press       9.0   \n6075   portico             2021  Cambridge University Press       6.0   \n12910  portico             2021  Cambridge University Press       7.0   \n10158  portico             2021  Cambridge University Press       8.0   \n1967   portico             2021  Cambridge University Press       4.0   \n...        ...              ...                         ...       ...   \n8842   portico             1955  Cambridge University Press       5.0   \n9159   portico             1954  Cambridge University Press       6.0   \n23420  portico             2021  Cambridge University Press      10.0   \n5139   portico             2021  Cambridge University Press       3.0   \n20027  portico             2021  Cambridge University Press       9.0   \n\n                                             tdmCategory  \\\n16174  [Religion - Theology, History - Historical met...   \n6075                               [Religion - Theology]   \n12910                              [Religion - Theology]   \n10158                  [Philosophy - Applied philosophy]   \n1967            [Arts - Literature, Religion - Theology]   \n...                                                  ...   \n8842                  [History - Historical methodology]   \n9159   [Religion - Spiritual belief systems, Religion...   \n23420             [Linguistics - Philosophy of language]   \n5139                                 [Arts - Literature]   \n20027                    [Physical sciences - Astronomy]   \n\n                                                   title  \\\n16174  The Justice of the Cosmos: Philosophical Cosmo...   \n6075   How to Understand What Passes All Understandin...   \n12910  Aphrahat and Pauline Reception: 1 Corinthians ...   \n10158  Apocalyptic and the Passions: Overcoming a Fal...   \n1967   Fashioning Mark: Early Christian Discussions a...   \n...                                                  ...   \n8842          The Meaning of 'Iithpion in Romans iii. 25   \n9159   (A) The Aφomnhmoneymata in Papias, Justin, and...   \n23420  Paul and Socrates in Dialogue: Points of Conta...   \n5139   The Narrative Rhetoric of Speech and Silence i...   \n20027   Beware the Dogs! The Phallic Epithet in Phil 3.2   \n\n                                            url volumeNumber  wordCount  \\\n16174  http://doi.org/10.1017/S0028688521000114           67       7971   \n6075   http://doi.org/10.1017/S0028688520000260           67       9336   \n12910  http://doi.org/10.1017/S0028688521000047           67       8841   \n10158  http://doi.org/10.1017/S0028688521000060           67       8823   \n1967   http://doi.org/10.1017/S0028688520000351           67      12474   \n...                                         ...          ...        ...   \n8842   http://doi.org/10.1017/S0028688500017197            2       5911   \n9159   http://doi.org/10.1017/S0028688500003635            1       4026   \n23420  http://doi.org/10.1017/S0028688520000223           67       6514   \n5139   http://doi.org/10.1017/S0028688520000247           67       9947   \n20027  http://doi.org/10.1017/S0028688520000107           67       9024   \n\n       id_kase        docSubType sourceCategory abstract subTitle  year  \\\n16174    16174  research-article           None     None     None  2021   \n6075      6075  research-article           None     None     None  2021   \n12910    12910  research-article           None     None     None  2021   \n10158    10158  research-article           None     None     None  2021   \n1967      1967  research-article           None     None     None  2021   \n...        ...               ...            ...      ...      ...   ...   \n8842      8842              None           None     None     None  1955   \n9159      9159              None           None     None     None  1954   \n23420    23420  research-article           None     None     None  1921   \n5139      5139  research-article           None     None     None  1921   \n20027    20027  research-article           None     None     None  1921   \n\n       decade   bidecade  \n16174    2020       None  \n6075     2020       None  \n12910    2020       None  \n10158    2020       None  \n1967     2020       None  \n...       ...        ...  \n8842     1950  1940-1959  \n9159     1950  1940-1959  \n23420    1920  1920-1939  \n5139     1920  1920-1939  \n20027    1920  1920-1939  \n\n[412 rows x 32 columns]",
      "text/html": "<div>\n<style scoped>\n    .dataframe tbody tr th:only-of-type {\n        vertical-align: middle;\n    }\n\n    .dataframe tbody tr th {\n        vertical-align: top;\n    }\n\n    .dataframe thead th {\n        text-align: right;\n    }\n</style>\n<table border=\"1\" class=\"dataframe\">\n  <thead>\n    <tr style=\"text-align: right;\">\n      <th></th>\n      <th>creator</th>\n      <th>datePublished</th>\n      <th>docType</th>\n      <th>doi</th>\n      <th>id</th>\n      <th>identifier</th>\n      <th>isPartOf</th>\n      <th>issueNumber</th>\n      <th>keyphrase</th>\n      <th>language</th>\n      <th>outputFormat</th>\n      <th>pageCount</th>\n      <th>pageEnd</th>\n      <th>pageStart</th>\n      <th>pagination</th>\n      <th>provider</th>\n      <th>publicationYear</th>\n      <th>publisher</th>\n      <th>sequence</th>\n      <th>tdmCategory</th>\n      <th>title</th>\n      <th>url</th>\n      <th>volumeNumber</th>\n      <th>wordCount</th>\n      <th>id_kase</th>\n      <th>docSubType</th>\n      <th>sourceCategory</th>\n      <th>abstract</th>\n      <th>subTitle</th>\n      <th>year</th>\n      <th>decade</th>\n      <th>bidecade</th>\n    </tr>\n  </thead>\n  <tbody>\n    <tr>\n      <th>16174</th>\n      <td>[Christopher S. Atkins]</td>\n      <td>2021-10-01</td>\n      <td>article</td>\n      <td>10.1017/S0028688521000114</td>\n      <td>ark://27927/phzqbgq970t</td>\n      <td>[{'name': 'local_publisher_id', 'value': 'S002...</td>\n      <td>New Testament Studies</td>\n      <td>4</td>\n      <td>None</td>\n      <td>[eng]</td>\n      <td>[unigram, bigram, trigram]</td>\n      <td>15</td>\n      <td>612</td>\n      <td>598</td>\n      <td>598-612</td>\n      <td>portico</td>\n      <td>2021</td>\n      <td>Cambridge University Press</td>\n      <td>9.0</td>\n      <td>[Religion - Theology, History - Historical met...</td>\n      <td>The Justice of the Cosmos: Philosophical Cosmo...</td>\n      <td>http://doi.org/10.1017/S0028688521000114</td>\n      <td>67</td>\n      <td>7971</td>\n      <td>16174</td>\n      <td>research-article</td>\n      <td>None</td>\n      <td>None</td>\n      <td>None</td>\n      <td>2021</td>\n      <td>2020</td>\n      <td>None</td>\n    </tr>\n    <tr>\n      <th>6075</th>\n      <td>[Michael Dormandy]</td>\n      <td>2021-04-01</td>\n      <td>article</td>\n      <td>10.1017/S0028688520000260</td>\n      <td>ark://27927/phzm9xhzxwz</td>\n      <td>[{'name': 'local_publisher_id', 'value': 'S002...</td>\n      <td>New Testament Studies</td>\n      <td>2</td>\n      <td>None</td>\n      <td>[eng]</td>\n      <td>[unigram, bigram, trigram]</td>\n      <td>21</td>\n      <td>240</td>\n      <td>220</td>\n      <td>220-240</td>\n      <td>portico</td>\n      <td>2021</td>\n      <td>Cambridge University Press</td>\n      <td>6.0</td>\n      <td>[Religion - Theology]</td>\n      <td>How to Understand What Passes All Understandin...</td>\n      <td>http://doi.org/10.1017/S0028688520000260</td>\n      <td>67</td>\n      <td>9336</td>\n      <td>6075</td>\n      <td>research-article</td>\n      <td>None</td>\n      <td>None</td>\n      <td>None</td>\n      <td>2021</td>\n      <td>2020</td>\n      <td>None</td>\n    </tr>\n    <tr>\n      <th>12910</th>\n      <td>[Benjamin A. Edsall]</td>\n      <td>2021-07-01</td>\n      <td>article</td>\n      <td>10.1017/S0028688521000047</td>\n      <td>ark://27927/phzp3sf77h8</td>\n      <td>[{'name': 'local_publisher_id', 'value': 'S002...</td>\n      <td>New Testament Studies</td>\n      <td>3</td>\n      <td>None</td>\n      <td>[eng]</td>\n      <td>[unigram, bigram, trigram]</td>\n      <td>17</td>\n      <td>423</td>\n      <td>407</td>\n      <td>407-423</td>\n      <td>portico</td>\n      <td>2021</td>\n      <td>Cambridge University Press</td>\n      <td>7.0</td>\n      <td>[Religion - Theology]</td>\n      <td>Aphrahat and Pauline Reception: 1 Corinthians ...</td>\n      <td>http://doi.org/10.1017/S0028688521000047</td>\n      <td>67</td>\n      <td>8841</td>\n      <td>12910</td>\n      <td>research-article</td>\n      <td>None</td>\n      <td>None</td>\n      <td>None</td>\n      <td>2021</td>\n      <td>2020</td>\n      <td>None</td>\n    </tr>\n    <tr>\n      <th>10158</th>\n      <td>[Joseph Longarino]</td>\n      <td>2021-10-01</td>\n      <td>article</td>\n      <td>10.1017/S0028688521000060</td>\n      <td>ark://27927/phzqbgq968q</td>\n      <td>[{'name': 'local_publisher_id', 'value': 'S002...</td>\n      <td>New Testament Studies</td>\n      <td>4</td>\n      <td>None</td>\n      <td>[eng]</td>\n      <td>[unigram, bigram, trigram]</td>\n      <td>16</td>\n      <td>597</td>\n      <td>582</td>\n      <td>582-597</td>\n      <td>portico</td>\n      <td>2021</td>\n      <td>Cambridge University Press</td>\n      <td>8.0</td>\n      <td>[Philosophy - Applied philosophy]</td>\n      <td>Apocalyptic and the Passions: Overcoming a Fal...</td>\n      <td>http://doi.org/10.1017/S0028688521000060</td>\n      <td>67</td>\n      <td>8823</td>\n      <td>10158</td>\n      <td>research-article</td>\n      <td>None</td>\n      <td>None</td>\n      <td>None</td>\n      <td>2021</td>\n      <td>2020</td>\n      <td>None</td>\n    </tr>\n    <tr>\n      <th>1967</th>\n      <td>[Candida Moss]</td>\n      <td>2021-04-01</td>\n      <td>article</td>\n      <td>10.1017/S0028688520000351</td>\n      <td>ark://27927/phzm9xj00kz</td>\n      <td>[{'name': 'local_publisher_id', 'value': 'S002...</td>\n      <td>New Testament Studies</td>\n      <td>2</td>\n      <td>None</td>\n      <td>[eng]</td>\n      <td>[unigram, bigram, trigram]</td>\n      <td>24</td>\n      <td>204</td>\n      <td>181</td>\n      <td>181-204</td>\n      <td>portico</td>\n      <td>2021</td>\n      <td>Cambridge University Press</td>\n      <td>4.0</td>\n      <td>[Arts - Literature, Religion - Theology]</td>\n      <td>Fashioning Mark: Early Christian Discussions a...</td>\n      <td>http://doi.org/10.1017/S0028688520000351</td>\n      <td>67</td>\n      <td>12474</td>\n      <td>1967</td>\n      <td>research-article</td>\n      <td>None</td>\n      <td>None</td>\n      <td>None</td>\n      <td>2021</td>\n      <td>2020</td>\n      <td>None</td>\n    </tr>\n    <tr>\n      <th>...</th>\n      <td>...</td>\n      <td>...</td>\n      <td>...</td>\n      <td>...</td>\n      <td>...</td>\n      <td>...</td>\n      <td>...</td>\n      <td>...</td>\n      <td>...</td>\n      <td>...</td>\n      <td>...</td>\n      <td>...</td>\n      <td>...</td>\n      <td>...</td>\n      <td>...</td>\n      <td>...</td>\n      <td>...</td>\n      <td>...</td>\n      <td>...</td>\n      <td>...</td>\n      <td>...</td>\n      <td>...</td>\n      <td>...</td>\n      <td>...</td>\n      <td>...</td>\n      <td>...</td>\n      <td>...</td>\n      <td>...</td>\n      <td>...</td>\n      <td>...</td>\n      <td>...</td>\n      <td>...</td>\n    </tr>\n    <tr>\n      <th>8842</th>\n      <td>[Leon Morris]</td>\n      <td>1955-09-01</td>\n      <td>article</td>\n      <td>10.1017/S0028688500017197</td>\n      <td>ark://27927/pgh1gc61bxr</td>\n      <td>[{'name': 'local_publisher_id', 'value': 'S002...</td>\n      <td>New Testament Studies</td>\n      <td>1</td>\n      <td>[mercy seat, romans, atonement, propitiatory, ...</td>\n      <td>[eng]</td>\n      <td>[unigram, bigram, trigram]</td>\n      <td>11</td>\n      <td>43</td>\n      <td>33</td>\n      <td>33-43</td>\n      <td>portico</td>\n      <td>1955</td>\n      <td>Cambridge University Press</td>\n      <td>5.0</td>\n      <td>[History - Historical methodology]</td>\n      <td>The Meaning of 'Iithpion in Romans iii. 25</td>\n      <td>http://doi.org/10.1017/S0028688500017197</td>\n      <td>2</td>\n      <td>5911</td>\n      <td>8842</td>\n      <td>None</td>\n      <td>None</td>\n      <td>None</td>\n      <td>None</td>\n      <td>1955</td>\n      <td>1950</td>\n      <td>1940-1959</td>\n    </tr>\n    <tr>\n      <th>9159</th>\n      <td>[Richard Heard]</td>\n      <td>1954-11-01</td>\n      <td>article</td>\n      <td>10.1017/S0028688500003635</td>\n      <td>ark://27927/pgh1gc4wn4w</td>\n      <td>[{'name': 'local_publisher_id', 'value': 'S002...</td>\n      <td>New Testament Studies</td>\n      <td>2</td>\n      <td>[papias, irenaeus, gospel, justins, apostles, ...</td>\n      <td>[eng]</td>\n      <td>[unigram, bigram, trigram]</td>\n      <td>8</td>\n      <td>129</td>\n      <td>122</td>\n      <td>122-129</td>\n      <td>portico</td>\n      <td>1954</td>\n      <td>Cambridge University Press</td>\n      <td>6.0</td>\n      <td>[Religion - Spiritual belief systems, Religion...</td>\n      <td>(A) The Aφomnhmoneymata in Papias, Justin, and...</td>\n      <td>http://doi.org/10.1017/S0028688500003635</td>\n      <td>1</td>\n      <td>4026</td>\n      <td>9159</td>\n      <td>None</td>\n      <td>None</td>\n      <td>None</td>\n      <td>None</td>\n      <td>1954</td>\n      <td>1950</td>\n      <td>1940-1959</td>\n    </tr>\n    <tr>\n      <th>23420</th>\n      <td>[J. Andrew Cowan]</td>\n      <td>1921-01-01</td>\n      <td>article</td>\n      <td>10.1017/S0028688520000223</td>\n      <td>ark://27927/phzjm9743rf</td>\n      <td>[{'name': 'local_publisher_id', 'value': 'S002...</td>\n      <td>New Testament Studies</td>\n      <td>1</td>\n      <td>[socrates, areopagus speech, euthyphro, gärtne...</td>\n      <td>[eng]</td>\n      <td>[unigram, bigram, trigram]</td>\n      <td>13</td>\n      <td>133</td>\n      <td>121</td>\n      <td>121-133</td>\n      <td>portico</td>\n      <td>2021</td>\n      <td>Cambridge University Press</td>\n      <td>10.0</td>\n      <td>[Linguistics - Philosophy of language]</td>\n      <td>Paul and Socrates in Dialogue: Points of Conta...</td>\n      <td>http://doi.org/10.1017/S0028688520000223</td>\n      <td>67</td>\n      <td>6514</td>\n      <td>23420</td>\n      <td>research-article</td>\n      <td>None</td>\n      <td>None</td>\n      <td>None</td>\n      <td>1921</td>\n      <td>1920</td>\n      <td>1920-1939</td>\n    </tr>\n    <tr>\n      <th>5139</th>\n      <td>[Michal Beth Dinkler]</td>\n      <td>1921-01-01</td>\n      <td>article</td>\n      <td>10.1017/S0028688520000247</td>\n      <td>ark://27927/phzjm97441c</td>\n      <td>[{'name': 'local_publisher_id', 'value': 'S002...</td>\n      <td>New Testament Studies</td>\n      <td>1</td>\n      <td>[silence, speech, narrative, apostles, speech ...</td>\n      <td>[eng]</td>\n      <td>[unigram, bigram, trigram]</td>\n      <td>21</td>\n      <td>21</td>\n      <td>1</td>\n      <td>1-21</td>\n      <td>portico</td>\n      <td>2021</td>\n      <td>Cambridge University Press</td>\n      <td>3.0</td>\n      <td>[Arts - Literature]</td>\n      <td>The Narrative Rhetoric of Speech and Silence i...</td>\n      <td>http://doi.org/10.1017/S0028688520000247</td>\n      <td>67</td>\n      <td>9947</td>\n      <td>5139</td>\n      <td>research-article</td>\n      <td>None</td>\n      <td>None</td>\n      <td>None</td>\n      <td>1921</td>\n      <td>1920</td>\n      <td>1920-1939</td>\n    </tr>\n    <tr>\n      <th>20027</th>\n      <td>[Ryan D. Collman]</td>\n      <td>1921-01-01</td>\n      <td>article</td>\n      <td>10.1017/S0028688520000107</td>\n      <td>ark://27927/phzjm9743cc</td>\n      <td>[{'name': 'local_publisher_id', 'value': 'S002...</td>\n      <td>New Testament Studies</td>\n      <td>1</td>\n      <td>[gentiles, philippians, phallic epithet, thies...</td>\n      <td>[eng]</td>\n      <td>[unigram, bigram, trigram]</td>\n      <td>16</td>\n      <td>120</td>\n      <td>105</td>\n      <td>105-120</td>\n      <td>portico</td>\n      <td>2021</td>\n      <td>Cambridge University Press</td>\n      <td>9.0</td>\n      <td>[Physical sciences - Astronomy]</td>\n      <td>Beware the Dogs! The Phallic Epithet in Phil 3.2</td>\n      <td>http://doi.org/10.1017/S0028688520000107</td>\n      <td>67</td>\n      <td>9024</td>\n      <td>20027</td>\n      <td>research-article</td>\n      <td>None</td>\n      <td>None</td>\n      <td>None</td>\n      <td>1921</td>\n      <td>1920</td>\n      <td>1920-1939</td>\n    </tr>\n  </tbody>\n</table>\n<p>412 rows × 32 columns</p>\n</div>"
     },
     "execution_count": 46,
     "metadata": {},
     "output_type": "execute_result"
    }
   ],
   "source": [
    "metadata_df[metadata_df[\"isPartOf\"]==\"New Testament Studies\"].sort_values(\"year\", ascending=False)"
   ],
   "metadata": {
    "collapsed": false,
    "ExecuteTime": {
     "start_time": "2023-03-31T14:01:39.707076Z",
     "end_time": "2023-03-31T14:01:39.715580Z"
    }
   }
  },
  {
   "cell_type": "code",
   "execution_count": 47,
   "outputs": [],
   "source": [
    "article_id = 1203 # id for \"Paul the Cosmopolitan?\""
   ],
   "metadata": {
    "collapsed": false,
    "ExecuteTime": {
     "start_time": "2023-03-31T14:02:36.011646Z",
     "end_time": "2023-03-31T14:02:36.048080Z"
    }
   }
  },
  {
   "cell_type": "code",
   "execution_count": 48,
   "outputs": [],
   "source": [
    "with open(\"../data/large_files/trigrams_raw/trigrams_{}.json\".format(str(article_id)), \"r\") as f:\n",
    "    trigrams_json = json.load(f)"
   ],
   "metadata": {
    "collapsed": false,
    "ExecuteTime": {
     "start_time": "2023-03-31T14:02:37.548117Z",
     "end_time": "2023-03-31T14:02:37.563661Z"
    }
   }
  },
  {
   "cell_type": "code",
   "execution_count": 50,
   "outputs": [
    {
     "data": {
      "text/plain": "                               trigram  count\n0               Paul the Cosmopolitan?     11\n1                           TOPHER D .      9\n2                                D . S      9\n3                           . S TANLEY      9\n4                           I S TOPHER      9\n5                           S TOPHER D      9\n6                              CHR I S      9\n7                          For more on      8\n8   Delanty, Cosmopolitan Imagination,      7\n9                      would have been      7\n10                        Paul and the      6\n11                         in order to      6\n12                           but it is      5\n13                          the God of      5\n14                         can be said      4\n15                          is hard to      4\n16                         a number of      4\n17                      in his letters      4\n18                       he might have      4\n19                   elements of their      4\n20                        vision for a      4\n21                     the language of      4\n22                      Greek or Roman      4\n23                         This is the      4\n24                          the end of      3\n25                       the nature of      3\n26                     said for Paul’s      3\n27                         the rise of      3\n28                        the image of      3\n29                         be said for      3\n30                       the fact that      3\n31                  a Jewish sectarian      3\n32                      vision for the      3\n33                         the idea of      3\n34                          end of the      3\n35                    McMahon, ‘Fear &      3\n36                         more on the      3\n37                         of a single      3\n38                         and the New      3\n39                      all humans are      3\n40                        The same can      3\n41                  and conventions of      3\n42                   Downing, ‘A Cynic      3\n43                      in common with      3\n44        Kang, Cosmopolitan Theology,      3\n45                         same can be      3\n46                     that all humans      3\n47                         the good of      3\n48                   markedly from the      3\n49                     Paul might have      3",
      "text/html": "<div>\n<style scoped>\n    .dataframe tbody tr th:only-of-type {\n        vertical-align: middle;\n    }\n\n    .dataframe tbody tr th {\n        vertical-align: top;\n    }\n\n    .dataframe thead th {\n        text-align: right;\n    }\n</style>\n<table border=\"1\" class=\"dataframe\">\n  <thead>\n    <tr style=\"text-align: right;\">\n      <th></th>\n      <th>trigram</th>\n      <th>count</th>\n    </tr>\n  </thead>\n  <tbody>\n    <tr>\n      <th>0</th>\n      <td>Paul the Cosmopolitan?</td>\n      <td>11</td>\n    </tr>\n    <tr>\n      <th>1</th>\n      <td>TOPHER D .</td>\n      <td>9</td>\n    </tr>\n    <tr>\n      <th>2</th>\n      <td>D . S</td>\n      <td>9</td>\n    </tr>\n    <tr>\n      <th>3</th>\n      <td>. S TANLEY</td>\n      <td>9</td>\n    </tr>\n    <tr>\n      <th>4</th>\n      <td>I S TOPHER</td>\n      <td>9</td>\n    </tr>\n    <tr>\n      <th>5</th>\n      <td>S TOPHER D</td>\n      <td>9</td>\n    </tr>\n    <tr>\n      <th>6</th>\n      <td>CHR I S</td>\n      <td>9</td>\n    </tr>\n    <tr>\n      <th>7</th>\n      <td>For more on</td>\n      <td>8</td>\n    </tr>\n    <tr>\n      <th>8</th>\n      <td>Delanty, Cosmopolitan Imagination,</td>\n      <td>7</td>\n    </tr>\n    <tr>\n      <th>9</th>\n      <td>would have been</td>\n      <td>7</td>\n    </tr>\n    <tr>\n      <th>10</th>\n      <td>Paul and the</td>\n      <td>6</td>\n    </tr>\n    <tr>\n      <th>11</th>\n      <td>in order to</td>\n      <td>6</td>\n    </tr>\n    <tr>\n      <th>12</th>\n      <td>but it is</td>\n      <td>5</td>\n    </tr>\n    <tr>\n      <th>13</th>\n      <td>the God of</td>\n      <td>5</td>\n    </tr>\n    <tr>\n      <th>14</th>\n      <td>can be said</td>\n      <td>4</td>\n    </tr>\n    <tr>\n      <th>15</th>\n      <td>is hard to</td>\n      <td>4</td>\n    </tr>\n    <tr>\n      <th>16</th>\n      <td>a number of</td>\n      <td>4</td>\n    </tr>\n    <tr>\n      <th>17</th>\n      <td>in his letters</td>\n      <td>4</td>\n    </tr>\n    <tr>\n      <th>18</th>\n      <td>he might have</td>\n      <td>4</td>\n    </tr>\n    <tr>\n      <th>19</th>\n      <td>elements of their</td>\n      <td>4</td>\n    </tr>\n    <tr>\n      <th>20</th>\n      <td>vision for a</td>\n      <td>4</td>\n    </tr>\n    <tr>\n      <th>21</th>\n      <td>the language of</td>\n      <td>4</td>\n    </tr>\n    <tr>\n      <th>22</th>\n      <td>Greek or Roman</td>\n      <td>4</td>\n    </tr>\n    <tr>\n      <th>23</th>\n      <td>This is the</td>\n      <td>4</td>\n    </tr>\n    <tr>\n      <th>24</th>\n      <td>the end of</td>\n      <td>3</td>\n    </tr>\n    <tr>\n      <th>25</th>\n      <td>the nature of</td>\n      <td>3</td>\n    </tr>\n    <tr>\n      <th>26</th>\n      <td>said for Paul’s</td>\n      <td>3</td>\n    </tr>\n    <tr>\n      <th>27</th>\n      <td>the rise of</td>\n      <td>3</td>\n    </tr>\n    <tr>\n      <th>28</th>\n      <td>the image of</td>\n      <td>3</td>\n    </tr>\n    <tr>\n      <th>29</th>\n      <td>be said for</td>\n      <td>3</td>\n    </tr>\n    <tr>\n      <th>30</th>\n      <td>the fact that</td>\n      <td>3</td>\n    </tr>\n    <tr>\n      <th>31</th>\n      <td>a Jewish sectarian</td>\n      <td>3</td>\n    </tr>\n    <tr>\n      <th>32</th>\n      <td>vision for the</td>\n      <td>3</td>\n    </tr>\n    <tr>\n      <th>33</th>\n      <td>the idea of</td>\n      <td>3</td>\n    </tr>\n    <tr>\n      <th>34</th>\n      <td>end of the</td>\n      <td>3</td>\n    </tr>\n    <tr>\n      <th>35</th>\n      <td>McMahon, ‘Fear &amp;</td>\n      <td>3</td>\n    </tr>\n    <tr>\n      <th>36</th>\n      <td>more on the</td>\n      <td>3</td>\n    </tr>\n    <tr>\n      <th>37</th>\n      <td>of a single</td>\n      <td>3</td>\n    </tr>\n    <tr>\n      <th>38</th>\n      <td>and the New</td>\n      <td>3</td>\n    </tr>\n    <tr>\n      <th>39</th>\n      <td>all humans are</td>\n      <td>3</td>\n    </tr>\n    <tr>\n      <th>40</th>\n      <td>The same can</td>\n      <td>3</td>\n    </tr>\n    <tr>\n      <th>41</th>\n      <td>and conventions of</td>\n      <td>3</td>\n    </tr>\n    <tr>\n      <th>42</th>\n      <td>Downing, ‘A Cynic</td>\n      <td>3</td>\n    </tr>\n    <tr>\n      <th>43</th>\n      <td>in common with</td>\n      <td>3</td>\n    </tr>\n    <tr>\n      <th>44</th>\n      <td>Kang, Cosmopolitan Theology,</td>\n      <td>3</td>\n    </tr>\n    <tr>\n      <th>45</th>\n      <td>same can be</td>\n      <td>3</td>\n    </tr>\n    <tr>\n      <th>46</th>\n      <td>that all humans</td>\n      <td>3</td>\n    </tr>\n    <tr>\n      <th>47</th>\n      <td>the good of</td>\n      <td>3</td>\n    </tr>\n    <tr>\n      <th>48</th>\n      <td>markedly from the</td>\n      <td>3</td>\n    </tr>\n    <tr>\n      <th>49</th>\n      <td>Paul might have</td>\n      <td>3</td>\n    </tr>\n  </tbody>\n</table>\n</div>"
     },
     "execution_count": 50,
     "metadata": {},
     "output_type": "execute_result"
    }
   ],
   "source": [
    "trigrams_most_freq_example = pd.DataFrame(sorted(trigrams_json.items(), key=lambda x: x[1], reverse=True)[:50], columns=[\"trigram\", \"count\"])\n",
    "trigrams_most_freq_example"
   ],
   "metadata": {
    "collapsed": false,
    "ExecuteTime": {
     "start_time": "2023-03-31T14:03:22.109916Z",
     "end_time": "2023-03-31T14:03:22.125914Z"
    }
   }
  },
  {
   "cell_type": "code",
   "execution_count": 62,
   "outputs": [],
   "source": [
    "google_conf.set_with_dataframe(mops_data.add_worksheet(\"trigrams_most_freq_example\", 1,1), trigrams_most_freq_example)"
   ],
   "metadata": {
    "collapsed": false,
    "ExecuteTime": {
     "start_time": "2023-03-30T20:27:38.235856Z",
     "end_time": "2023-03-30T20:27:39.555902Z"
    }
   }
  },
  {
   "cell_type": "code",
   "execution_count": null,
   "outputs": [],
   "source": [
    "with open(\"../data/large_files/unigrams_raw/trigrams_{}.json\".format(str(article_id)), \"r\") as f:\n",
    "    trigrams_json = json.load(f)"
   ],
   "metadata": {
    "collapsed": false
   }
  },
  {
   "cell_type": "code",
   "execution_count": null,
   "outputs": [],
   "source": [],
   "metadata": {
    "collapsed": false
   }
  },
  {
   "cell_type": "code",
   "execution_count": null,
   "outputs": [],
   "source": [],
   "metadata": {
    "collapsed": false
   }
  },
  {
   "cell_type": "code",
   "execution_count": null,
   "outputs": [],
   "source": [],
   "metadata": {
    "collapsed": false
   }
  },
  {
   "cell_type": "code",
   "execution_count": null,
   "outputs": [],
   "source": [],
   "metadata": {
    "collapsed": false
   }
  },
  {
   "cell_type": "code",
   "execution_count": null,
   "outputs": [],
   "source": [],
   "metadata": {
    "collapsed": false
   }
  },
  {
   "cell_type": "code",
   "execution_count": null,
   "outputs": [],
   "source": [],
   "metadata": {
    "collapsed": false
   }
  },
  {
   "cell_type": "code",
   "execution_count": null,
   "outputs": [],
   "source": [],
   "metadata": {
    "collapsed": false
   }
  },
  {
   "cell_type": "code",
   "execution_count": null,
   "outputs": [],
   "source": [],
   "metadata": {
    "collapsed": false
   }
  },
  {
   "cell_type": "code",
   "execution_count": null,
   "outputs": [],
   "source": [],
   "metadata": {
    "collapsed": false
   }
  },
  {
   "cell_type": "code",
   "execution_count": 18,
   "outputs": [],
   "source": [
    "unigramCount_dict = pickle.load(open(\"../data/large_files/unigramCount_dict.pickle\", \"rb\"))"
   ],
   "metadata": {
    "collapsed": false
   }
  },
  {
   "cell_type": "code",
   "execution_count": 49,
   "outputs": [
    {
     "data": {
      "text/plain": "['http://www.jstor.org/stable/1198957',\n 'http://www.jstor.org/stable/1508417',\n 'ark://27927/phx7f9rxk2',\n 'http://www.jstor.org/stable/3261590',\n 'http://www.jstor.org/stable/24456097',\n 'ark://27927/pgg389199fd',\n 'ark://27927/phx61xr9tmg',\n 'ark://27927/pgh1g2mt8q5',\n 'ark://27927/phx61xrbpxv',\n 'ark://27927/phx64dprn08',\n 'http://www.jstor.org/stable/43720276',\n 'http://www.jstor.org/stable/20516383',\n 'http://www.jstor.org/stable/41175585',\n 'ark://27927/phx61tbjnvh',\n 'http://www.jstor.org/stable/1198933',\n 'http://www.jstor.org/stable/1456587',\n 'http://www.jstor.org/stable/43720275',\n 'http://www.jstor.org/stable/44210186',\n 'ark://27927/phx622zp8bt',\n 'http://www.jstor.org/stable/1197811',\n 'ark://27927/pgh1h1tfc4p',\n 'http://www.jstor.org/stable/42621087',\n 'ark://27927/phx61tbjqw3',\n 'ark://27927/phx64dprn74',\n 'ark://27927/pgh1h00bn1j',\n 'ark://27927/pgh1g2mt8xg',\n 'ark://27927/phx6bfsx4f4',\n 'http://www.jstor.org/stable/1198956',\n 'http://www.jstor.org/stable/3262039',\n 'http://www.jstor.org/stable/542417',\n 'http://www.jstor.org/stable/43720319',\n 'http://www.jstor.org/stable/27655825',\n 'http://www.jstor.org/stable/23955926',\n 'ark://27927/phx6bfsx379',\n 'http://www.jstor.org/stable/1456588',\n 'http://www.jstor.org/stable/3162046',\n 'ark://27927/pgh1gbc5079']"
     },
     "execution_count": 49,
     "metadata": {},
     "output_type": "execute_result"
    }
   ],
   "source": [
    "# manual test\n",
    "col = \"publicationYear\"\n",
    "matchstring = \"==1951\"\n",
    "eval('metadata_df[metadata_df[\"{0}\"]{1}]'.format(col, matchstring))[\"id\"].tolist()"
   ],
   "metadata": {
    "collapsed": false
   }
  },
  {
   "cell_type": "code",
   "execution_count": 19,
   "outputs": [],
   "source": [
    "def ids_from_colvals(col, matchstring):\n",
    "    ids = eval('metadata_df[metadata_df[\"{0}\"]{1}]'.format(col, matchstring))[\"id\"].tolist()\n",
    "    return ids"
   ],
   "metadata": {
    "collapsed": false
   }
  },
  {
   "cell_type": "code",
   "execution_count": 20,
   "outputs": [
    {
     "data": {
      "text/plain": "403"
     },
     "execution_count": 20,
     "metadata": {},
     "output_type": "execute_result"
    }
   ],
   "source": [
    "# test with function...\n",
    "len(ids_from_colvals(\"publicationYear\", \".between(1950, 1959)\"))"
   ],
   "metadata": {
    "collapsed": false
   }
  },
  {
   "cell_type": "code",
   "execution_count": 21,
   "outputs": [
    {
     "data": {
      "text/plain": "37"
     },
     "execution_count": 21,
     "metadata": {},
     "output_type": "execute_result"
    }
   ],
   "source": [
    "test_ids = ids_from_colvals(\"publicationYear\", \"==1951\")\n",
    "len(test_ids)"
   ],
   "metadata": {
    "collapsed": false
   }
  },
  {
   "cell_type": "code",
   "execution_count": 22,
   "outputs": [
    {
     "data": {
      "text/plain": "{'NEIL.': 1,\n 'assumption.': 1,\n 'emphases': 1,\n 'work': 2,\n \"Neil's\": 1,\n \"man's\": 1,\n 'by-passed.': 1,\n 'apply': 1,\n 'others,': 1,\n 'home.': 1,\n 'or,': 1,\n 'Acts.': 1,\n 'pages': 1,\n 'has': 2,\n 'discus-': 1,\n 'connection': 2,\n '\"ten-': 1,\n 'scanty': 1,\n 'amid': 1,\n 'treat-': 1,\n 'mis-': 1,\n 'Lord': 1,\n 'II': 3,\n 'on': 11,\n 'One': 1,\n 'writings.': 1,\n 'indorse': 1,\n 'dis-': 1,\n 'text': 3,\n 'intentions': 1,\n 'Many': 1,\n 'however,': 1,\n 'insights': 1,\n 'ac-': 1,\n 'Sermon': 2,\n 'of': 98,\n 'xlv).': 1,\n 'disagree-': 1,\n 'Bros.,': 1,\n 'Christians': 1,\n 'authorities': 1,\n 'eschatology.': 2,\n '79,': 1,\n '\"restraining': 1,\n 'charge': 1,\n 'sion': 1,\n 'will': 3,\n 'so': 1,\n 'modernizing': 1,\n 'level': 1,\n 'defined': 1,\n 'blasphemous': 1,\n 'epistles,': 1,\n '21,': 1,\n 'York:': 2,\n 'enemies': 2,\n 'instance,': 1,\n 'Introduction': 1,\n 'reality': 2,\n 'tion': 3,\n 'treatment': 1,\n 'adequate': 1,\n 'indorses': 1,\n 'Christianity.': 1,\n 'data': 2,\n 'interesting': 2,\n 'series,': 1,\n 'supposed': 1,\n 'Account': 1,\n 'very': 1,\n 'eschatology': 1,\n 'arrest': 1,\n '....': 1,\n 'violates': 1,\n 'HARREL': 1,\n '99.': 1,\n 'exigencies': 1,\n 'books': 1,\n 'inadequate.': 1,\n 'Paul-and': 1,\n 'overly': 1,\n 'authorship': 1,\n 'referring': 1,\n 'christologi-': 1,\n 'certain': 1,\n 'somewhat': 1,\n 'RELIGION': 1,\n 'regards': 1,\n 'the': 138,\n 'our': 1,\n 'book': 2,\n 'Testament': 2,\n 'I': 1,\n 'removal': 1,\n 'past,': 1,\n 'Jewish': 1,\n 'Christianity': 3,\n 'looks': 1,\n 'here,': 1,\n 'Lake,': 1,\n 'Gentile,': 1,\n 'Kingdom': 2,\n 'small': 1,\n 'lonians.': 1,\n 'for': 11,\n '\"best': 1,\n 'Earlier': 1,\n 'de-': 1,\n 'debatable,': 1,\n 'whose': 1,\n 'Thessalonian': 1,\n 'money': 1,\n 'connotations': 1,\n 'CRITICAL': 1,\n '38,': 1,\n 'sion\"': 1,\n 'satanic.': 1,\n 'made': 2,\n '\"Commentary\"': 1,\n 'ix).': 1,\n 'advocated': 2,\n 'I82,': 1,\n 'specula-': 1,\n 'technique': 1,\n 'von': 1,\n 'carelessly': 1,\n 'Day': 1,\n 'raised': 2,\n 'JOURNAL': 1,\n 'In': 7,\n 'world': 1,\n 'interest': 1,\n 'translation': 2,\n 'Chicago': 1,\n 'prefer': 1,\n 'elsewhere': 1,\n 'viewpoint': 1,\n 'matter,': 1,\n 'coming': 1,\n 'their': 1,\n 'us': 3,\n 'not': 4,\n 'veils': 1,\n 'necessary': 1,\n 'pp.': 5,\n 'give': 1,\n 'last': 1,\n 'historical': 2,\n '$3.00.': 1,\n 'essentially': 1,\n 'proper': 1,\n 'renderings': 1,\n 'contribution': 1,\n 'best,': 1,\n 'True,': 1,\n 'WILLIAM': 1,\n 'such': 1,\n 'i8i,': 1,\n 'x+': 1,\n 'viewpoints,': 1,\n 'tribute\\'\"': 1,\n 'perhaps': 2,\n 'throughout,': 1,\n 'here.': 1,\n 'attempt': 1,\n 'contrary': 1,\n 'early': 2,\n 'expedient': 1,\n 'contains': 1,\n 'elude': 1,\n 'Com-': 1,\n 'nificance': 1,\n 'says:': 1,\n '298': 1,\n 'reference': 3,\n 'century': 1,\n 'Here': 1,\n 'ethical': 1,\n 'Faculty': 1,\n 'man': 1,\n 'pay.': 1,\n 'expected': 1,\n 'xl': 1,\n 'deals': 1,\n 'as': 16,\n 'cal': 2,\n 'con-': 1,\n 'truth': 1,\n 'image': 1,\n 'British': 1,\n 'apocalyptic': 1,\n 'literary': 2,\n 'Kennard': 1,\n 'rent': 1,\n 'definitely': 1,\n 'actual': 1,\n 'ever,': 1,\n 'Empire': 1,\n '\"Jesus': 1,\n 'him.': 1,\n 'often': 2,\n 'back': 1,\n 'simply': 1,\n 'Chris-': 1,\n 'were,': 1,\n 'death': 1,\n 'it.': 1,\n 'al-': 1,\n 'otherwise': 1,\n 'pre-Pauline': 1,\n 'Gospels.': 1,\n 'pls.': 1,\n 'es-': 1,\n 'Neil': 6,\n 'metaphysical': 1,\n 'valid': 1,\n 'futuristic': 2,\n '\"singularity\"': 1,\n 'lonica': 1,\n 'subversive': 1,\n 'normal': 1,\n '36;': 1,\n 'start': 1,\n 'average': 1,\n 'WIKGREN': 1,\n 'literal': 2,\n 'into': 3,\n 'partly': 2,\n '37,': 1,\n 'there': 2,\n 'God.': 1,\n 'repeated': 1,\n 'result': 1,\n '16:12': 1,\n 'study': 1,\n 'tation': 1,\n '23,': 1,\n 'and,': 1,\n 'calls': 1,\n 'Epistle': 1,\n '84,': 1,\n 'back-reference': 1,\n \"author's\": 1,\n 'departs': 1,\n 'insufficiently': 1,\n 'volume': 1,\n 'ligious': 1,\n 'power\"': 1,\n 'But': 2,\n 'proclaiming': 2,\n 'level.': 1,\n 'interpreta-': 1,\n 'reading': 1,\n 'forbidding': 1,\n 'gnostic': 1,\n 'Much': 1,\n 'parently': 1,\n 'popular,': 1,\n 'felt': 1,\n 'reality,': 1,\n 'show': 1,\n 'brim\"': 1,\n 'confirmed': 1,\n 'I48': 1,\n 'first-century': 1,\n 'Claudius.': 1,\n 'religions': 1,\n 'consideration': 1,\n 'lose': 1,\n 'filled': 1,\n 'New': 4,\n 'God': 1,\n 'claims': 2,\n 'one': 1,\n 'difficulty': 2,\n 'documents': 1,\n 'without': 1,\n 'series': 2,\n 'Caesar;': 1,\n 'being': 1,\n 'interplay': 1,\n 'because': 1,\n 'sig-': 1,\n 'irrespective': 1,\n 'faith': 1,\n 'garding': 1,\n 'reason': 1,\n 'Edersheim': 1,\n 'high': 2,\n '.': 3,\n 'sets': 1,\n 'fact,': 3,\n 'conscious': 1,\n 'etc.\"': 1,\n 'when': 1,\n 'miracles': 1,\n 'time,': 1,\n '&': 1,\n 'gives': 1,\n 'features': 1,\n 'defend': 1,\n 'nial': 1,\n '94,': 1,\n 'die': 1,\n 'division': 2,\n 'end\"': 1,\n 'xlvii+204': 1,\n 'with': 9,\n 'regard': 1,\n 'is,': 1,\n 'inconsistency': 1,\n 'topo-': 1,\n 'itself': 1,\n '32,': 1,\n 'attractively': 1,\n '(Neither': 1,\n 'doubtless': 2,\n 'Philosophy': 1,\n 'thorough,': 1,\n 'appears': 2,\n 'Greek,': 1,\n '\"involves': 1,\n 'future.\"': 1,\n 'emperor': 1,\n 'inconsistently': 1,\n 'Christian': 3,\n 'only': 2,\n 'consciousness': 1,\n 'considered': 1,\n 'problems': 2,\n 'tax': 1,\n 'himself': 3,\n 'natural': 1,\n 'bore': 1,\n 'almost': 1,\n \"Jesus'\": 4,\n 'they': 1,\n 'regarding': 2,\n 'reflects': 1,\n 'would': 1,\n 'OF': 1,\n 'It': 3,\n 'comes': 2,\n 'title': 2,\n 'God.\"': 1,\n 'entirely': 1,\n 'sources': 1,\n 'modern': 2,\n 'area': 1,\n 'left': 1,\n 'discussion': 1,\n 'conservative': 1,\n 'Meyer': 1,\n 'evidence': 1,\n 'through': 1,\n 'is': 32,\n 'Jesus:': 1,\n 'favor': 1,\n 'thesis.': 1,\n 'treatments': 1,\n 'Federated': 1,\n 'metaphor': 1,\n 'graphical': 1,\n '2:5-7': 1,\n 'state-': 1,\n 'nineteenth': 1,\n 'Roman': 3,\n 'xliii).': 1,\n 'remarks': 1,\n 'While': 1,\n 'resolve': 1,\n 'his': 10,\n 'enough': 1,\n 'presents': 2,\n 'until': 1,\n 'took': 1,\n 'mention': 1,\n 'might': 1,\n 'analysis': 1,\n '(p.': 4,\n 'Granted': 1,\n '\"realized\").': 1,\n 'thereby': 1,\n 'chronology': 1,\n '(\"Moffatt': 1,\n 'Martyr).': 1,\n 'which': 6,\n 'timeless': 2,\n 'introductions': 1,\n '53-54),': 1,\n 'possessed': 1,\n 'here': 1,\n 'On': 1,\n 'KVpLOS': 1,\n 'admits,': 1,\n 'state': 1,\n 'pages+4': 1,\n 'i6': 1,\n '\"cup': 1,\n 'figures': 1,\n 'veiled': 1,\n 'King': 1,\n 'like': 1,\n '\"realized\"': 1,\n 'meaning': 2,\n 'one\"': 1,\n 'puzzling': 1,\n 'James': 1,\n 'Jesus.': 1,\n 'inscription': 1,\n 'ethics,': 1,\n 'I950.': 2,\n 'words': 1,\n 'For': 1,\n 'Unfortunately': 1,\n 'expatiate': 1,\n 'points.': 1,\n 'teaching': 1,\n \"'We\": 1,\n 'development.': 1,\n 'mark': 1,\n 'contradicts': 1,\n 'University': 3,\n 'well': 1,\n 'Evidence': 1,\n 'denarius': 1,\n 'Theological': 1,\n 'Gospel': 2,\n 'legend,': 1,\n 'interweaving': 1,\n '(He': 1,\n 'classically': 1,\n 'works,': 1,\n 'people.': 1,\n 'been': 2,\n 'ix': 1,\n 'still': 1,\n 'chatology.': 1,\n '13,': 1,\n 'support': 2,\n 'defended': 1,\n 'servable': 1,\n 'Moffatt': 1,\n 'deeper': 1,\n 'symbolic': 2,\n 'doubt': 1,\n 'literature.': 1,\n 'actuality': 1,\n 'completes': 1,\n 'well-documented': 1,\n 'axiological,': 1,\n 'prophetic': 1,\n 'usage': 2,\n 'influence': 2,\n 'hide': 1,\n 'by': 3,\n 'factual,': 1,\n \"Moffatt's\": 1,\n 'how-': 1,\n 'was': 6,\n 'reflects.': 1,\n 'distinguish': 1,\n 'indifferently': 1,\n 'pious': 1,\n 'Christ': 1,\n 'mentary,\"': 1,\n 'quite': 1,\n 'possibility': 1,\n 'some': 4,\n '98': 1,\n '\"They': 1,\n 'assume.': 1,\n '\"The': 1,\n 'each': 1,\n 'Caesar': 1,\n 'theme': 1,\n 'values': 2,\n 'accents': 1,\n 'passage.': 1,\n 'datum': 1,\n '39,': 1,\n 'St.': 1,\n 'mythological': 1,\n 'tion.': 1,\n '\"To': 1,\n 'important,': 1,\n 'space': 1,\n 'tians.': 1,\n 'via': 1,\n 'Among': 1,\n '\"Moffatt': 1,\n 'all': 1,\n 'mean': 1,\n '(e.g.,': 3,\n 'r&Xos': 1,\n 'regarded': 1,\n 'ethical.\"': 1,\n 'four': 1,\n 'based': 1,\n 'ment': 2,\n '$2.75.': 1,\n 'most': 1,\n 'tends': 1,\n 'ob-': 1,\n 'read': 1,\n 'THE': 1,\n 'and': 37,\n 'misin-': 1,\n '15,': 1,\n 'indeed,': 1,\n 'problem.\"': 1,\n 'Thess.': 2,\n 'J.': 1,\n 'it': 10,\n 'I42,': 1,\n 'archeological': 1,\n 'quality': 1,\n \"Paul's\": 3,\n 'Paul': 7,\n 'a': 34,\n 'I52,': 1,\n 'aside': 1,\n 'same': 1,\n 'respect': 1,\n 'paying': 1,\n 'ap-': 1,\n '...': 1,\n 'Specifically,': 1,\n 'view': 1,\n 'no': 6,\n '\"he': 1,\n 'commentators': 2,\n 'English': 1,\n 'also': 3,\n 'leaving': 1,\n 'I53)': 1,\n 'guide.\"': 1,\n 'pilloried': 1,\n 'term': 1,\n '\"to': 1,\n 'generally': 2,\n 'present,': 1,\n 'political': 1,\n 'response': 2,\n 'exact': 1,\n 'purpose.': 1,\n 'exemplifies': 1,\n 'hypocrites': 1,\n 'eschatological': 1,\n 'i6,': 1,\n 'popularity': 1,\n 'life': 1,\n 'liberal': 2,\n 'used': 2,\n 'thought,': 1,\n 'vowels': 2,\n 'Macedonia': 1,\n 'tribute': 2,\n 'asked': 1,\n 'note': 1,\n '\"messianic\"': 1,\n 'commentary': 2,\n 'Acts': 1,\n 'mission': 1,\n 'ALLEN': 1,\n 'be': 7,\n 'probably': 1,\n 'ticular,': 1,\n 'Synoptic': 2,\n 'passage': 2,\n 'lusion': 1,\n 'position': 1,\n 'orienta-': 1,\n 'thought': 1,\n 'lost': 1,\n 'particular,': 1,\n 'scholar': 1,\n 'Nevertheless,': 1,\n 'fine': 1,\n 'divinity': 1,\n 'up-to-date': 1,\n 'authenticity': 1,\n 'seeks': 1,\n 'transliterated,': 1,\n 'trace': 1,\n 'apart': 1,\n 'devotes': 1,\n 'COBB': 1,\n 'that': 17,\n 'done': 1,\n 'SPENCER': 1,\n '299': 1,\n 'long': 2,\n 're-': 2,\n 'project': 1,\n 'gentile': 1,\n 'The': 8,\n 'unrecognized.': 1,\n 'criti-': 1,\n 'accusation': 1,\n 'century.': 1,\n 'sible': 1,\n 'kerygma.': 1,\n 'ground': 1,\n 'terpretations': 1,\n 'good': 1,\n 'really': 2,\n 'mentioned,': 1,\n 'later': 1,\n 'movement': 2,\n 'title.)': 1,\n 'duty': 1,\n 'cult': 1,\n 'Religion': 1,\n 'teachings': 1,\n 'editorial': 1,\n 'religious': 2,\n '\"Day': 1,\n 'true': 1,\n 'Johannine': 1,\n 'him': 2,\n 'sacramental': 1,\n '\"bitter': 1,\n 'Epistles': 1,\n 'I93).': 1,\n 'currently': 1,\n 'defense': 1,\n 'its': 2,\n 'we': 2,\n 'assumption': 2,\n 'in-': 1,\n 'letters': 1,\n 'traitors': 1,\n 'I2,': 1,\n 'working': 1,\n 'reader': 1,\n 'cup': 1,\n 'major': 1,\n 'Jesus': 6,\n 'critical,': 1,\n 'Of': 4,\n 'manuscript': 1,\n 'I33,': 1,\n 'allusion': 1,\n 'time': 1,\n 'existing': 1,\n 'though': 2,\n 'This,': 1,\n 'cited': 2,\n 'surprising': 1,\n 'course': 1,\n 'consisting': 1,\n 'denial': 1,\n 'Press,': 1,\n 'both': 3,\n 'career.': 1,\n 'par-': 1,\n 'recently': 1,\n \"schiitz's\": 1,\n 'ghost': 1,\n \"Lake's\": 1,\n 'Indeed,': 1,\n 'tripartite': 1,\n '(from': 1,\n 'accounts': 1,\n '\"more': 1,\n 'government': 1,\n 'pels': 1,\n '7ravroTe': 1,\n 'trial': 2,\n 'fulfilment.': 1,\n 'Thessalonians.': 2,\n 'chapter': 1,\n 'furnished': 1,\n 'considerable': 1,\n 'judgment': 1,\n 'pages.': 1,\n 'forth': 1,\n 'modes': 1,\n 'hardly': 3,\n 'Intro-': 1,\n 'cult.': 2,\n 'jargon,\"': 1,\n 'legitimate': 1,\n 'JAMES': 1,\n 'biographies': 1,\n 'Department': 1,\n 'he': 8,\n 'negation': 1,\n 'Commentary.\")': 1,\n 'mystery': 1,\n 'excellence': 1,\n 'total': 1,\n 'KENNARD,': 1,\n 'attempting': 2,\n '27,': 1,\n 'payment': 3,\n 'best': 1,\n 'teaching,': 1,\n 'Septuagint': 1,\n 'To': 2,\n 'but': 2,\n 'particularly': 1,\n 'uses': 1,\n 'taken,': 1,\n 'printed': 1,\n 'sen-': 1,\n 'existence': 1,\n 'found': 4,\n 'After': 1,\n 'doctrine': 1,\n 'necessarily': 1,\n 'test': 1,\n 'typical': 1,\n 'to': 42,\n 'JR.': 1,\n 'Harper': 1,\n 'Greek': 2,\n 'does': 1,\n 'tinguished': 1,\n 'advanced': 2,\n 'indicate': 1,\n 'out': 1,\n 'these': 2,\n 'REVIEWS': 1,\n 'He': 1,\n 'vaguely': 1,\n 'drop\"': 1,\n 'about': 2,\n '43,': 1,\n 'taxes': 1,\n 'characteristic': 1,\n 'led': 1,\n 'efforts': 1,\n 'expectation': 1,\n '\"radical\"': 1,\n '(Justin': 1,\n 'others': 1,\n 'period.': 1,\n 'other': 2,\n 'parts': 1,\n 'at': 5,\n 'find': 1,\n 'much': 1,\n 'spite': 1,\n 'two': 1,\n '107)': 1,\n 'maintained': 1,\n 'picture': 1,\n '(cf.': 1,\n 'may': 2,\n 'allusions': 1,\n 'interpre-': 1,\n 'fresh': 1,\n 'whole,': 1,\n 'theological': 3,\n 'Dob-': 1,\n 'paradoxologists.': 1,\n 'resurrection': 1,\n 'hard': 1,\n 'anything': 1,\n 'ing': 1,\n 'or': 1,\n 'rather': 3,\n 'unnoticed.': 1,\n 'A': 1,\n '2:': 1,\n 'relevance.': 1,\n 'any': 1,\n 'beginnings': 1,\n 'recognized.': 1,\n 'answer': 1,\n 'II2)': 1,\n 'after': 1,\n 'indi-': 1,\n 'communities,': 1,\n 'strong': 1,\n 'Thessa-': 2,\n 'striking\"': 1,\n 'in': 30,\n 'have': 1,\n '\"cur-': 1,\n 'discussions': 1,\n 'genera-': 1,\n 'Mount': 1,\n '(pp.': 1,\n 'late': 1,\n 'represented.': 1,\n 'reply': 1,\n 'fully': 1,\n 'status': 1,\n 'acquaintance': 1,\n 'Fourth': 1,\n 'clusive': 1,\n '(\"always\")': 1,\n 'etc.).': 1,\n 'vagueness': 1,\n 'author': 4,\n 'feel': 1,\n 'terpreted': 1,\n 'question': 4,\n 'Harnack,': 1,\n 'final': 1,\n 'mission.': 1,\n 'letters.': 1,\n 'non-English': 1,\n 'duty.': 1,\n '\"the': 1,\n 'exists!': 1,\n 'stu-': 1,\n 'Mount-into': 1,\n 'do': 2,\n 'Furthermore,': 1,\n 'anachronistic': 1,\n 'contemporary': 2,\n 'cents.': 1,\n 'repaid': 1,\n 'interpretation': 4,\n 'from': 4,\n 'center': 1,\n 'freedom': 1,\n 'Lord,\"': 1,\n 'dent': 1,\n 'Jews': 1,\n 'imperial': 2,\n 'belonged': 1,\n 'Toledo': 1,\n 'primitive': 1,\n 'where': 2,\n 'myth,': 1,\n 'excessive': 1,\n 'This': 7,\n 'Oxford': 1,\n 'can': 3,\n 'apparently': 2,\n 'look': 1,\n 'what': 1,\n 'events': 1,\n 'seems': 1,\n '35,': 1,\n '(\"end\")': 1,\n 'By': 2,\n 'informative,': 1,\n 'completely': 1,\n 'this': 5,\n 'duction': 1,\n 'justice': 1,\n 'demands': 1,\n 'Judgment': 1,\n 'As': 1,\n 'Pauline': 4,\n 'than': 1,\n 'next-world': 1,\n 'devoted.': 1,\n 'an': 4,\n 'argument': 1,\n 'Render': 1,\n 'are': 2,\n 'Gos-': 1,\n \"God's\": 1,\n 'These': 1,\n 'popular': 2}"
     },
     "execution_count": 22,
     "metadata": {},
     "output_type": "execute_result"
    }
   ],
   "source": [
    "unigramCount_dict[test_ids[0]]"
   ],
   "metadata": {
    "collapsed": false
   }
  },
  {
   "cell_type": "code",
   "execution_count": 64,
   "outputs": [
    {
     "name": "stdout",
     "output_type": "stream",
     "text": [
      "862\n",
      "531\n",
      "1250\n",
      "1450\n",
      "2219\n",
      "1152\n",
      "2181\n",
      "1581\n",
      "2134\n",
      "2872\n",
      "1247\n",
      "1135\n",
      "1255\n",
      "1727\n",
      "733\n",
      "1218\n",
      "4749\n",
      "1875\n",
      "1590\n",
      "2344\n",
      "2139\n",
      "3184\n",
      "2348\n",
      "1404\n",
      "2572\n",
      "939\n",
      "2297\n",
      "799\n",
      "2624\n",
      "2775\n",
      "1019\n",
      "1914\n",
      "1747\n",
      "1284\n",
      "1365\n",
      "2629\n",
      "519\n"
     ]
    }
   ],
   "source": [
    "c = Counter()\n",
    "for id in test_ids:\n",
    "    d = unigramCount_dict[id]\n",
    "    print(len(d))\n",
    "    c.update(d)"
   ],
   "metadata": {
    "collapsed": false
   }
  },
  {
   "cell_type": "code",
   "execution_count": 69,
   "outputs": [],
   "source": [
    "def merge_data_from_ids(ids, datadict):\n",
    "    c = Counter()\n",
    "    for id in ids:\n",
    "        d = datadict[id]\n",
    "        c.update(d)\n",
    "    return c"
   ],
   "metadata": {
    "collapsed": false
   }
  },
  {
   "cell_type": "code",
   "execution_count": 67,
   "outputs": [
    {
     "data": {
      "text/plain": "[('the', 13802),\n ('of', 9030),\n ('and', 5024),\n ('to', 4495),\n ('in', 4398),\n ('is', 2709),\n ('a', 2576),\n ('that', 2244),\n ('as', 1425),\n ('The', 1367),\n ('for', 1293),\n ('his', 1261),\n ('which', 1239),\n ('be', 1180),\n ('was', 1162),\n ('not', 1148),\n ('he', 1101),\n ('by', 1057),\n ('it', 971),\n ('with', 968),\n ('this', 836),\n ('from', 818),\n ('on', 727),\n ('are', 726),\n ('have', 669),\n ('but', 648),\n ('.', 621),\n ('we', 600),\n ('who', 586),\n ('or', 539),\n ('had', 539),\n ('at', 538),\n ('has', 537),\n ('their', 497),\n ('an', 485),\n ('were', 479),\n ('one', 455),\n ('all', 446),\n ('they', 439),\n ('Paul', 409),\n ('God', 404),\n ('I', 396),\n ('its', 391),\n ('been', 390),\n ('In', 371),\n ('no', 368),\n ('It', 357),\n ('Testament', 339),\n ('will', 331),\n ('our', 331),\n ('Christian', 331),\n ('only', 313),\n ('would', 297),\n ('can', 282),\n ('New', 281),\n ('there', 279),\n ('more', 279),\n ('Old', 279),\n ('so', 277),\n ('into', 264),\n ('p.', 260),\n ('other', 258),\n ('must', 258),\n ('He', 256),\n ('Jesus', 248),\n ('also', 245),\n ('what', 241),\n ('man', 238),\n ('Christ', 237),\n ('This', 236),\n ('than', 236),\n ('Gospel', 233),\n ('But', 227),\n ('these', 227),\n ('life', 225),\n ('those', 225),\n ('may', 222),\n ('such', 219),\n ('when', 218),\n ('first', 217),\n ('them', 213),\n ('law', 208),\n ('him', 206),\n ('through', 203),\n ('do', 197),\n ('love', 192),\n ('because', 189),\n ('some', 181),\n ('does', 179),\n ('about', 179),\n ('most', 175),\n ('own', 174),\n ('His', 173),\n ('new', 173),\n ('should', 172),\n ('Church', 170),\n ('St.', 168),\n ('between', 168),\n (';', 167),\n ('any', 166),\n ('did', 165),\n ('same', 164),\n ('out', 163),\n ('very', 162),\n ('if', 162),\n ('men', 161),\n ('THE', 160),\n ('us', 159),\n ('two', 156),\n (\"God's\", 156),\n ('many', 156),\n ('upon', 155),\n ('great', 153),\n ('time', 152),\n ('church', 152),\n ('And', 151),\n ('found', 150),\n (\"Paul's\", 147),\n ('even', 147),\n ('history', 145),\n ('work', 144),\n ('himself', 143),\n ('We', 143),\n ('For', 141),\n ('made', 139),\n ('my', 139),\n ('after', 137),\n ('A', 136),\n ('OF', 134),\n ('among', 133),\n ('both', 130),\n ('before', 130),\n ('human', 129),\n (':', 129),\n ('Bible', 126),\n ('could', 125),\n ('power', 125),\n ('Israel', 125),\n ('faith', 124),\n ('then', 124),\n ('under', 121),\n ('shall', 121),\n ('up', 118),\n ('way', 116),\n ('make', 116),\n ('much', 115),\n ('John', 115),\n ('you', 115),\n ('over', 114),\n ('Baptism', 113),\n ('without', 112),\n ('1', 112),\n ('world', 111),\n ('well', 111),\n ('like', 110),\n ('given', 110),\n ('however,', 109),\n ('divine', 108),\n ('whole', 108),\n ('now', 107),\n ('early', 106),\n ('people', 106),\n ('historical', 105),\n ('dead', 105),\n ('place', 104),\n ('cannot', 103),\n ('Biel', 103),\n ('point', 102),\n ('view', 101),\n ('where', 101),\n ('fact', 101),\n ('against', 101),\n ('part', 100),\n ('being', 98),\n ('God.', 97),\n ('years', 97),\n ('true', 96),\n ('already', 96),\n ('come', 95),\n ('three', 94),\n ('Apostle', 94),\n ('use', 94),\n ('religious', 92),\n ('rather', 92),\n ('order', 92),\n ('J.', 91),\n ('her', 91),\n ('every', 91),\n ('God,', 91),\n ('There', 90),\n ('within', 90),\n ('called', 88),\n ('pp.', 87),\n ('death', 87),\n ('words', 87),\n (',', 87),\n ('book', 85),\n ('here', 85),\n ('know', 85),\n ('If', 85),\n ('find', 84),\n ('question', 84),\n ('By', 84),\n ('To', 83),\n ('agape', 83),\n ('might', 82),\n ('freedom', 82),\n ('present', 82),\n ('Ibid.,', 82),\n ('baptized', 82),\n ('nor', 81),\n ('doctrine', 80),\n ('Christ,', 80),\n ('o.e.,', 80),\n ('still', 79),\n ('good', 78),\n ('yet', 78),\n ('author', 77),\n ('written', 77),\n ('Lord', 76),\n ('Christians', 75),\n ('meaning', 75),\n ('become', 75),\n ('certain', 74),\n ('last', 74),\n ('is,', 74),\n ('later', 74),\n ('whom', 74),\n ('As', 73),\n ('-', 73),\n ('problem', 73),\n ('little', 73),\n ('how', 72),\n ('thus', 72),\n ('give', 71),\n ('said', 71),\n ('common', 71),\n ('gospel', 71),\n ('\"The', 70),\n ('far', 70),\n ('take', 70),\n ('never', 70),\n ('though', 69),\n ('\"the', 69),\n ('Paul,', 69),\n ('second', 69),\n ('while', 69),\n ('form', 69),\n ('’', 69),\n ('study', 68),\n ('modern', 68),\n ('word', 68),\n ('since', 68),\n ('History', 68),\n ('biblical', 68),\n ('They', 67),\n ('nature', 67),\n ('see', 67),\n ('grace', 67),\n ('used', 66),\n ('during', 66),\n ('therefore', 66),\n ('things', 66),\n ('free', 66),\n ('die', 64),\n ('theological', 64),\n ('spiritual', 64),\n ('need', 64),\n ('Roman', 63),\n ('thought', 63),\n ('W.', 63),\n ('Catholic', 63),\n ('AND', 63),\n ('text', 62),\n ('means', 62),\n ('When', 62),\n ('received', 62),\n ('sin', 62),\n (\"Jesus'\", 61),\n ('churches', 61),\n ('just', 61),\n ('toward', 61),\n ('H.', 61),\n ('reason', 60),\n ('teaching', 60),\n ('seems', 60),\n ('purpose', 60),\n ('am', 60),\n ('say', 60),\n ('cit.,', 60),\n ('taken', 60),\n ('C.', 60),\n ('number', 60),\n ('Jewish', 59),\n ('On', 59),\n ('important', 59),\n ('Christ.', 59),\n ('living', 59),\n ('\"', 59),\n ('sense', 59),\n ('themselves', 59),\n ('truth', 58),\n ('long', 58),\n ('Greek', 58),\n ('nothing', 58),\n ('another', 58),\n ('Thus', 58),\n ('What', 58),\n ('became', 58),\n ('different', 58),\n ('unity', 58),\n ('Book', 58),\n ('came', 58),\n ('century', 57),\n ('That', 57),\n ('Holy', 57),\n ('From', 57),\n ('Dickson', 56),\n ('Christianity', 55),\n ('set', 55),\n ('according', 55),\n ('me', 55),\n ('something', 55),\n ('slaves', 55),\n ('it.', 54),\n ('each', 54),\n ('once', 54),\n ('known', 54),\n ('Cor.', 54),\n ('old', 54),\n ('act', 54),\n ('gives', 53),\n ('chapter', 53),\n ('Jowett', 53),\n ('A.', 53),\n ('Brethren', 53),\n ('itself', 52),\n ('longer', 52),\n ('Church,', 52),\n ('day', 52),\n ('con-', 51),\n ('Acts', 51),\n ('others', 51),\n ('end', 51),\n ('needs', 51),\n ('your', 51),\n ('therefore,', 51),\n ('op.', 51),\n ('Life', 51),\n ('whose', 50),\n ('coming', 50),\n ('interpretation', 50),\n ('Jews', 50),\n ('character', 50),\n ('following', 50),\n ('preaching', 50),\n ('whether', 50),\n ('life.', 50),\n ('makes', 50),\n ('2,', 50),\n ('Epistle', 49),\n ('almost', 49),\n ('2', 49),\n ('live', 49),\n ('unto', 49),\n ('law,', 49),\n ('necessary', 48),\n ('simply', 48),\n ('position', 48),\n ('tradition', 48),\n ('too', 48),\n ('Testament,', 48),\n ('concerning', 48),\n ('Jerusalem', 48),\n ('Jesus,', 48),\n ('salvation', 48),\n ('tion', 47),\n ('until', 47),\n ('forth', 47),\n ('letter', 47),\n ('Professor', 47),\n ('light', 47),\n ('development', 47),\n ('always', 47),\n ('down', 47),\n ('believe', 47),\n ('general', 47),\n ('Biblical', 47),\n ('less', 47),\n ('merely', 47),\n ('F.', 47),\n ('der', 47),\n ('v.', 47),\n ('University', 46),\n ('quite', 46),\n ('probably', 46),\n ('it,', 46),\n ('few', 46),\n ('Spirit', 46),\n ('II', 45),\n ('took', 45),\n ('period', 45),\n ('theology', 45),\n ('full', 45),\n ('life,', 45),\n ('Peter', 45),\n ('S.', 45),\n ('says', 45),\n ('Our', 45),\n (\"man's\", 44),\n ('JOURNAL', 44),\n ('perhaps', 44),\n ('seen', 44),\n ('clear', 44),\n ('1,', 44),\n ('message', 44),\n ('Testament.', 44),\n ('faith,', 44),\n ('William', 44),\n ('One', 43),\n ('and,', 43),\n ('state', 43),\n ('letters', 43),\n ('Pauline', 43),\n ('especially', 43),\n ('them.', 43),\n ('she', 43),\n ('indeed', 43),\n ('either', 43),\n ('held', 43),\n ('religion', 43),\n ('At', 43),\n ('Here', 42),\n ('often', 42),\n ('knew', 42),\n ('missionary', 42),\n ('becomes', 42),\n ('understanding', 42),\n ('subject', 42),\n ('Palestine', 42),\n ('vicarious', 42),\n ('Dr.', 42),\n ('Gentiles', 42),\n ('reality', 41),\n ('natural', 41),\n ('...', 41),\n ('really', 41),\n ('final', 41),\n ('name', 41),\n ('least', 41),\n ('real', 41),\n ('hand,', 41),\n ('mind', 41),\n ('slave', 41),\n ('M.', 41),\n ('Saltmarsh', 41),\n ('County', 41),\n ('attempt', 40),\n ('comes', 40),\n ('political', 40),\n ('best', 40),\n ('go', 40),\n ('account', 40),\n ('again', 40),\n ('think', 40),\n ('E.', 40),\n ('Cumberland', 40),\n ('evidence', 39),\n ('read', 39),\n ('Some', 39),\n ('chosen', 39),\n ('wrote', 39),\n ('community', 39),\n ('IN', 38),\n ('neither', 38),\n ('Who', 38),\n ('works', 38),\n ('gave', 38),\n ('idea', 38),\n ('published', 38),\n ('R.', 38),\n ('Presbyterian', 38),\n ('show', 37),\n ('discussion', 37),\n ('ment', 37),\n ('passage', 37),\n ('ever', 37),\n ('Even', 37),\n ('call', 37),\n ('times', 37),\n ('having', 37),\n ('able', 37),\n ('relation', 37),\n ('disciples', 37),\n ('No', 37),\n ('de', 37),\n ('books', 36),\n ('certainly', 36),\n ('put', 36),\n ('Such', 36),\n ('appear', 36),\n ('further', 36),\n ('brought', 36),\n ('then,', 36),\n ('mentioned', 36),\n ('died', 36),\n ('takes', 36),\n ('basis', 36),\n ('earliest', 36),\n ('slavery', 36),\n ('Interpretation', 36),\n ('Gospels', 36),\n ('Common', 36),\n ('based', 35),\n ('person', 35),\n ('shows', 35),\n ('revelation', 35),\n ('knowledge', 35),\n ('right', 35),\n ('holy', 35),\n ('matter', 35),\n ('Bishop', 35),\n ('people,', 35),\n ('established', 35),\n ('Joseph', 35),\n ('Kingdom', 34),\n ('knows', 34),\n ('Rome', 34),\n ('bound', 34),\n ('them,', 34),\n ('basic', 34),\n ('experience', 34),\n ('statement', 34),\n ('example,', 34),\n ('special', 34),\n ('However,', 34),\n ('Covenant', 34),\n ('bring', 34),\n ('several', 34),\n ('Gentile', 34),\n ('See', 34),\n ('und', 34),\n ('regard', 33),\n ('(p.', 33),\n ('mission', 33),\n ('in-', 33),\n ('ing', 33),\n ('seem', 33),\n ('scholars', 33),\n ('faith.', 33),\n ('All', 33),\n ('taught', 33),\n ('away', 33),\n ('3', 33),\n ('preached', 33),\n ('year', 33),\n ('rule', 33),\n ('sin,', 33),\n ('writings', 33),\n ('et', 33),\n ('country', 33),\n ('facts', 33),\n ('des', 33),\n ('Baptized', 33),\n ('Alemany', 33),\n ('priesthood', 33),\n ('reference', 32),\n ('influence', 32),\n ('four', 32),\n ('today', 32),\n ('5', 32),\n ('4', 32),\n ('case', 32),\n ('points', 32),\n ('understood', 32),\n ('accepted', 32),\n ('Israel,', 32),\n ('days', 32),\n ('I,', 32),\n ('practice', 32),\n ('Father', 32),\n (\"Israel's\", 32),\n ('Are', 32),\n ('Dead\"', 32),\n ('\"Those', 32),\n ('Tennessee', 32),\n ('California', 32),\n ('regarded', 31),\n ('Romans', 31),\n ('hope', 31),\n ('past', 31),\n ('righteousness', 31),\n ('let', 31),\n ('heart', 31),\n ('spirit', 31),\n ('age', 31),\n ('victory', 31),\n ('story', 31),\n ('B.', 31),\n ('dead,', 31),\n ('priests', 31),\n ('hold', 31),\n ('An', 31),\n ('original', 31),\n ('personal', 31),\n ('law.', 31),\n ('Saltmarsh,', 31),\n ('connection', 30),\n ('felt', 30),\n ('done', 30),\n ('events', 30),\n ('sent', 30),\n ('Paul.', 30),\n ('speak', 30),\n ('source', 30),\n ('thing', 30),\n ('authority', 30),\n ('value', 30),\n ('turn', 30),\n ('establish', 30),\n ('rise', 30),\n ('man,', 30),\n ('thy', 30),\n ('Yet', 30),\n ('speaks', 30),\n ('Corinthians', 30),\n ('church.', 30),\n ('sermon', 30),\n ('Henry', 30),\n ('preacher', 30),\n ('q.', 30),\n ('small', 29),\n ('fact,', 29),\n ('sources', 29),\n ('While', 29),\n ('term', 29),\n ('note', 29),\n ('clearly', 29),\n ('earth', 29),\n ('moral', 29),\n ('throughout', 29),\n ('above', 29),\n ('hand', 29),\n ('9', 29),\n ('attitude', 29),\n ('variety', 29),\n ('neighbor', 29),\n ('opinion', 29),\n ('Man', 29),\n ('individual', 29),\n ('Luther', 29),\n ('First', 29),\n ('sermons', 29),\n ('hyper', 29),\n ('HISTORY', 29),\n ('left', 28),\n ('James', 28),\n ('anything', 28),\n ('com-', 28),\n ('ancient', 28),\n ('essential', 28),\n ('kind', 28),\n ('writing', 28),\n ('\"I', 28),\n ('concerned', 28),\n ('appeared', 28),\n ('task', 28),\n ('Scripture', 28),\n ('a.', 28),\n ('conception', 28),\n ('London', 28),\n ('Agape', 28),\n ('San', 28),\n ('Bk.', 28),\n ('von', 27),\n ('appears', 27),\n ('doubt', 27),\n ('course', 27),\n ('short', 27),\n ('difference', 27),\n ('beginning', 27),\n ('greater', 27),\n ('making', 27),\n ('manner', 27),\n ('face', 27),\n ('keep', 27),\n ('(Rom.', 27),\n ('emphasis', 27),\n ('desire', 27),\n ('7', 27),\n ('although', 27),\n ('states', 27),\n ('possible', 27),\n ('terms', 27),\n ('gift', 27),\n ('justification', 27),\n ('help', 27),\n ('serve', 27),\n (\"Lord's\", 27),\n ('believed', 27),\n ('covenant', 27),\n ('belief', 27),\n ('article', 27),\n ('G.', 27),\n ('similar', 27),\n ('Vol.', 27),\n ('Although', 27),\n ('College', 27),\n ('*', 27),\n ('fol.', 27),\n ('entirely', 26),\n ('existence', 26),\n ('center', 26),\n ('third', 26),\n ('family', 26),\n ('understand', 26),\n ('Gospel,', 26),\n ('all,', 26),\n ('With', 26),\n ('6', 26),\n ('which,', 26),\n ('earlier', 26),\n ('How', 26),\n ('remain', 26),\n ('except', 26),\n ('world.', 26),\n ('said,', 26),\n ('Divine', 26),\n ('presence', 26),\n ('words,', 26),\n ('1.', 26),\n ('Luke', 26),\n ('preach', 26),\n (\"Jowett's\", 26),\n ('members', 26),\n ('d.', 26),\n ('treatment', 25),\n ('him.', 25),\n ('back', 25),\n ('high', 25),\n ('regarding', 25),\n ('generally', 25),\n ('re-', 25),\n ('Religion', 25),\n ('Of', 25),\n ('led', 25),\n ('resurrection', 25),\n ('answer', 25),\n ('fully', 25),\n ('argument', 25),\n ('These', 25),\n ('next', 25),\n ('church,', 25),\n ('stand', 25),\n ('traditions', 25),\n ('world,', 25),\n ('8', 25),\n ('children', 25),\n ('love,', 25),\n ('history,', 25),\n ('rich', 25),\n ('together', 25),\n ('15', 25),\n ('him,', 25),\n ('ideas', 25),\n ('method', 25),\n ('change', 25),\n ('apostle', 25),\n (\"one's\", 25),\n ('freedom.', 25),\n ('significance', 25),\n ('Church.', 25),\n ('Kings', 25),\n ('recognized', 25),\n ('better', 25),\n ('methods', 25),\n ('Gentiles.', 25),\n ('American', 25),\n ('est', 25),\n ('interest', 24),\n ('time,', 24),\n ('support', 24),\n ('eschatological', 24),\n ('lost', 24),\n ('Press,', 24),\n ('groups', 24),\n ('recent', 24),\n ('theory', 24),\n ('expression', 24),\n ('shown', 24),\n ('witness', 24),\n ('revealed', 24),\n ('latter', 24),\n ('activity', 24),\n ('ff.', 24),\n ('intended', 24),\n ('particular', 24),\n ('Bible,', 24),\n ('situation', 24),\n ('why', 24),\n ('So', 24),\n ('L.', 24),\n ('Now', 24),\n ('various', 24),\n ('stories', 24),\n ('apostolic', 24),\n ('house', 24),\n ('faithful', 24),\n ('Jews,', 24),\n ('civil', 24),\n ('believers', 24),\n ('Devotio', 24),\n ('Tractatus,', 24),\n ('result', 23),\n ('movement', 23),\n ('hardly', 23),\n ('After', 23),\n ('late', 23),\n ('soon', 23),\n ('precisely', 23),\n ('sought', 23),\n ('place,', 23),\n ('16', 23),\n ('lived', 23),\n ('giving', 23),\n ('critical', 23),\n ('that,', 23),\n ('lives', 23),\n ('passed', 23),\n ('?', 23),\n ('Since', 23),\n ('expressed', 23),\n ('lies', 23),\n ('type', 23),\n ('who,', 23),\n ('described', 23),\n ('man.', 23),\n ('men.', 23),\n ('alone', 23),\n ('city', 23),\n ('history.', 23),\n ('minister', 23),\n ('D.', 23),\n ('Historical', 23),\n ('Protestant', 23),\n ('Die', 23),\n ('pro', 23),\n ('NEW', 23),\n ('Gabriel', 23),\n ('actual', 22),\n ('thereby', 22),\n ('imperial', 22),\n ('primitive', 22),\n ('demands', 22),\n ('Not', 22),\n ('lead', 22),\n ('heard', 22),\n ('carried', 22),\n ('centuries', 22),\n ('hear', 22),\n ('difficult', 22),\n ('philosophy', 22),\n ('primarily', 22),\n ('soul', 22),\n ('due', 22),\n ('3.', 22),\n ('liberty', 22),\n ('easy', 22),\n ('immediately', 22),\n ('rest', 22),\n ('questions', 22),\n ('20', 22),\n ('phrase', 22),\n ('entire', 22),\n ('namely,', 22),\n ('relationship', 22),\n ('seemed', 22),\n ('group', 22),\n ('native', 22),\n ('content', 22),\n ('went', 22),\n ('actually', 22),\n ('Rom.', 22),\n ('Moses', 22),\n ('prophets', 22),\n ('gospel.', 22),\n ('fellowship', 22),\n ('1950.', 22),\n ('clergy', 22),\n ('P.L.,', 22),\n ('ad', 22),\n ('Nygren', 22),\n ('owned', 22),\n (\"Biel's\", 22),\n ('r.', 22),\n ('deals', 21),\n ('reading', 21),\n ('series', 21),\n ('considered', 21),\n ('problems', 21),\n ('mention', 21),\n ('people.', 21),\n ('English', 21),\n ('\"to', 21),\n ('contemporary', 21),\n ('saw', 21),\n ('brief', 21),\n ('forces', 21),\n ('outside', 21),\n ('foreign', 21),\n ('offer', 21),\n ('reached', 21),\n ('lay', 21),\n ('BIBLICAL', 21),\n ('representative', 21),\n ('ministry', 21),\n ('death.', 21),\n ('death,', 21),\n ('stands', 21),\n ('thou', 21),\n ('turned', 21),\n ('cause', 21),\n ('Bible.', 21),\n ('remains', 21),\n ('Faith', 21),\n ('object', 21),\n ('central', 21),\n ('Son', 21),\n ('Mark', 21),\n ('receive', 21),\n ('Israel.', 21),\n ('Jerusalem,', 21),\n ('kingdom', 21),\n ('contained', 21),\n ('young', 21),\n ('York', 21),\n ('December', 21),\n ('land', 21),\n ('election', 21),\n ('General', 21),\n ('e', 21),\n ('sacrament', 21),\n ('TESTAMENT', 21),\n ('agape.', 21),\n ('raised', 20),\n ('calls', 20),\n ('claims', 20),\n ('analysis', 20),\n ('ground', 20),\n ('particularly', 20),\n ('indicate', 20),\n ('justice', 20),\n ('difficulties', 20),\n ('effort', 20),\n ('Western', 20),\n ('passages', 20),\n ('spread', 20),\n ('(I', 20),\n ('open', 20),\n ('men,', 20),\n ('enter', 20),\n ('truth,', 20),\n ('record', 20),\n ('this,', 20),\n ('close', 20),\n ('studies', 20),\n ('main', 20),\n ('P.', 20),\n ('Therefore,', 20),\n ('course,', 20),\n ('easily', 20),\n ('LIFE', 20),\n ('along', 20),\n ('anyone', 20),\n ('Word', 20),\n ('Council', 20),\n ('follows', 20),\n ('single', 20),\n ('structure', 20),\n ('body', 20),\n ('cf.', 20),\n ('sin.', 20),\n ('unless', 20),\n (')', 20),\n ('Matthew', 20),\n ('Cf.', 20),\n ('ready', 20),\n ('opinions', 20),\n ('offered', 20),\n ('universal', 20),\n ('danger', 20),\n ('missionaries', 20),\n ('Gospels,', 20),\n ('Gentiles,', 20),\n ('sacrifice', 20),\n ('Theology', 20),\n ('Army', 20),\n ('Brethren-House', 20),\n ('Jehovah', 20),\n ('literary', 19),\n ...]"
     },
     "execution_count": 67,
     "metadata": {},
     "output_type": "execute_result"
    }
   ],
   "source": [
    "sorted(c.items(), key=lambda kv: kv[1], reverse=True)"
   ],
   "metadata": {
    "collapsed": false
   }
  },
  {
   "cell_type": "code",
   "execution_count": 73,
   "outputs": [],
   "source": [
    "#english stopwords...\n",
    "sp = spacy.load('en_core_web_sm')\n",
    "stop_words = sp.Defaults.stop_words"
   ],
   "metadata": {
    "collapsed": false
   }
  },
  {
   "cell_type": "code",
   "execution_count": 74,
   "outputs": [
    {
     "data": {
      "text/plain": "set"
     },
     "execution_count": 74,
     "metadata": {},
     "output_type": "execute_result"
    }
   ],
   "source": [
    "type(stop_words)"
   ],
   "metadata": {
    "collapsed": false
   }
  },
  {
   "cell_type": "code",
   "execution_count": 109,
   "outputs": [],
   "source": [
    "def get_tops(col, matchstring, n=10):\n",
    "    ids = ids_from_colvals(col, matchstring)\n",
    "    c = merge_data_from_ids(ids, unigramCount_dict)\n",
    "    c_tups = [el for el in c.items() if el[0].lower() not in list(stop_words) + [\".\", \"-\", \"\\\"\"]]\n",
    "    top10 = sorted(c_tups, key=lambda kv: kv[1], reverse=True)[:n]\n",
    "    return top10"
   ],
   "metadata": {
    "collapsed": false
   }
  },
  {
   "cell_type": "code",
   "execution_count": 110,
   "outputs": [
    {
     "data": {
      "text/plain": "[('Paul', 409),\n ('God', 404),\n ('Testament', 339),\n ('Christian', 331),\n ('New', 281),\n ('Old', 279),\n ('p.', 260),\n ('Jesus', 248),\n ('man', 238),\n ('Christ', 237),\n ('Gospel', 233),\n ('life', 225),\n ('law', 208),\n ('love', 192),\n ('new', 173),\n ('Church', 170),\n ('St.', 168),\n (';', 167),\n ('men', 161),\n (\"God's\", 156)]"
     },
     "execution_count": 110,
     "metadata": {},
     "output_type": "execute_result"
    }
   ],
   "source": [
    "get_tops(\"publicationYear\", \"==1951\", 20)"
   ],
   "metadata": {
    "collapsed": false
   }
  },
  {
   "cell_type": "code",
   "execution_count": 111,
   "outputs": [
    {
     "data": {
      "text/plain": "[('God', 5002),\n ('Paul', 3773),\n ('Christian', 3543),\n ('Christ', 3098),\n ('New', 2981),\n ('Church', 2966),\n ('Jesus', 2862),\n ('p.', 2506),\n ('life', 2377),\n ('St.', 2364)]"
     },
     "execution_count": 111,
     "metadata": {},
     "output_type": "execute_result"
    }
   ],
   "source": [
    "get_tops(\"publicationYear\", \".between(1950,1959)\")"
   ],
   "metadata": {
    "collapsed": false
   }
  },
  {
   "cell_type": "code",
   "execution_count": 112,
   "outputs": [
    {
     "name": "stdout",
     "output_type": "stream",
     "text": [
      "1900,1909\n",
      "1910,1919\n",
      "1920,1929\n",
      "1930,1939\n",
      "1940,1949\n",
      "1950,1959\n",
      "1960,1969\n",
      "1970,1979\n",
      "1980,1989\n",
      "1990,1999\n"
     ]
    }
   ],
   "source": [
    "for decade_n in range(0,10):\n",
    "    print(\"19{0}0,19{0}9\".format(str(decade_n)))"
   ],
   "metadata": {
    "collapsed": false
   }
  },
  {
   "cell_type": "code",
   "execution_count": 113,
   "outputs": [
    {
     "name": "stdout",
     "output_type": "stream",
     "text": [
      "1900,1909 [('Proc.', 3172), ('d.', 2347), (':', 2342), ('2', 2219), ('de', 2113), ('Jesus', 2013), ('u.', 1737), ('&', 1650), ('God', 1647), ('New', 1622), ('Christian', 1493), ('der', 1478), ('Paul', 1440), ('3', 1371), ('des', 1366), ('Testament', 1330), ('Christ', 1290), ('?', 1251), ('et', 1209), ('1', 1179)]\n",
      "1910,1919 [('Jesus', 1776), ('God', 1736), ('Christian', 1542), ('great', 1405), ('church', 1200), ('life', 1182), ('time', 1177), ('p.', 1171), ('man', 1128), ('Paul', 1126), ('New', 1096), ('religious', 950), ('Christ', 905), ('men', 893), ('shall', 878), ('?', 858), (';', 845), ('found', 812), ('new', 794), ('work', 787)]\n",
      "1920,1929 [('|', 7527), ('p.', 2363), ('pp.', 1682), ('New', 1568), (':', 1110), ('Christian', 1054), ('1', 900), ('work', 871), ('Paul', 852), ('St.', 845), (';', 811), ('great', 788), ('time', 764), ('God', 754), ('religious', 725), ('A.', 702), ('Jewish', 692), ('American', 683), (\"'\", 635), ('new', 629)]\n",
      "1930,1939 [('et', 2512), ('p.', 1790), ('God', 1426), ('Church', 1297), ('Christian', 1098), ('New', 1054), ('St.', 1007), ('de', 979), ('ad', 893), ('Jesus', 855), ('time', 849), ('great', 834), ('shall', 772), ('ac', 759), ('life', 729), ('work', 698), (',', 698), ('new', 696), ('church', 691), ('1', 689)]\n",
      "1940,1949 [('God', 3034), ('Christian', 2257), ('Paul', 2119), ('Christ', 1932), ('p.', 1885), ('Jesus', 1824), ('Church', 1800), ('New', 1604), ('’', 1596), ('St.', 1570), ('man', 1528), ('life', 1389), (';', 1367), ('time', 1277), ('great', 1229), ('men', 1189), ('world', 1139), ('work', 1131), ('new', 1108), ('pp.', 1103)]\n",
      "1950,1959 [('God', 5002), ('Paul', 3773), ('Christian', 3543), ('Christ', 3098), ('New', 2981), ('Church', 2966), ('Jesus', 2862), ('p.', 2506), ('life', 2377), ('St.', 2364), (';', 2200), (':', 2179), ('man', 2168), ('pp.', 2060), ('time', 2047), ('new', 2025), ('’', 1947), ('Testament', 1897), ('work', 1779), ('John', 1735)]\n",
      "1960,1969 [('God', 6859), ('Christian', 5452), ('Paul', 5017), ('p.', 4536), ('Christ', 4514), ('New', 4338), ('Jesus', 3872), ('Church', 3720), ('man', 3165), (':', 3052), ('life', 2978), ('St.', 2938), ('J.', 2878), ('pp.', 2876), ('1', 2785), (';', 2674), ('time', 2639), ('new', 2476), ('church', 2417), ('John', 2370)]\n",
      "1970,1979 [('God', 8668), ('Paul', 7863), ('p.', 7357), ('Christian', 7085), ('pp.', 6461), ('1', 6218), ('Christ', 5480), ('New', 5380), ('Jesus', 5060), ('Church', 4096), ('church', 4018), ('new', 3953), ('de', 3865), ('man', 3741), ('2', 3673), ('life', 3432), (':', 3383), ('Testament', 3235), ('J.', 3207), ('et', 3166)]\n",
      "1980,1989 [('God', 16217), ('Paul', 15768), ('Christian', 12641), ('1', 10552), ('Jesus', 9551), ('p.', 9398), ('Christ', 9162), ('New', 8361), ('pp.', 7651), ('church', 6936), (\"Paul's\", 6909), ('life', 6586), ('new', 6509), ('Church', 6054), ('Jewish', 5856), ('people', 5805), ('John', 5781), ('2', 5500), ('human', 5402), ('time', 5379)]\n",
      "1990,1999 [('Paul', 19595), ('God', 17776), ('Christian', 16304), ('1', 14460), ('New', 12540), ('Jesus', 11065), (',', 10060), ('Christ', 9389), ('Jewish', 9304), (\"Paul's\", 8677), ('p.', 8593), ('church', 8228), ('new', 7997), ('John', 7976), ('pp.', 7913), ('2', 7702), ('et', 7598), ('human', 7497), ('people', 7427), ('Testament', 7108)]\n"
     ]
    }
   ],
   "source": [
    "for decade_n in range(0,10):\n",
    "    decade = \"19{0}0,19{0}9\".format(str(decade_n))\n",
    "    print(decade, get_tops(\"publicationYear\", \".between({0})\".format(decade), 20))\n"
   ],
   "metadata": {
    "collapsed": false
   }
  },
  {
   "cell_type": "code",
   "execution_count": 102,
   "outputs": [],
   "source": [
    "bigramCount_dict = pickle.load(open(\"../data/large_files/bigramCount_dict.pickle\", \"rb\"))"
   ],
   "metadata": {
    "collapsed": false
   }
  },
  {
   "cell_type": "code",
   "execution_count": 107,
   "outputs": [],
   "source": [
    "def get_top_bigrams(col, matchstring, n=10):\n",
    "    ids = ids_from_colvals(col, matchstring)\n",
    "    c = merge_data_from_ids(ids, bigramCount_dict)\n",
    "    #c_tups = [el for el in c.items() if el[0].lower() not in list(stop_words)]\n",
    "    tops = sorted(c.items(), key=lambda kv: kv[1], reverse=True)[:n]\n",
    "    return tops"
   ],
   "metadata": {
    "collapsed": false
   }
  },
  {
   "cell_type": "code",
   "execution_count": 108,
   "outputs": [
    {
     "name": "stdout",
     "output_type": "stream",
     "text": [
      "1900,1909 [('of the', 21104), ('in the', 8596), ('to the', 5662), ('and the', 3227), ('- -', 3015), ('. .', 2882), ('that the', 2608), ('on the', 2244), ('by the', 2183), ('to be', 2122)]\n",
      "1910,1919 [('of the', 18350), ('in the', 8101), ('to the', 5355), ('and the', 3300), ('that the', 2540), ('. .', 2416), ('on the', 2058), ('to be', 2054), ('from the', 2042), ('with the', 1988)]\n",
      "1920,1929 [('of the', 13452), ('in the', 5457), ('. .', 4018), ('to the', 3686), ('and the', 2241), ('on the', 1742), ('for the', 1564), ('with the', 1452), ('from the', 1426), ('by the', 1419)]\n",
      "1930,1939 [('of the', 13587), ('in the', 5959), ('to the', 4491), ('and the', 2441), ('that the', 1689), ('for the', 1599), ('by the', 1516), ('to be', 1460), ('with the', 1453), ('on the', 1420)]\n",
      "1940,1949 [('of the', 21661), ('in the', 9715), ('to the', 6489), ('and the', 3567), ('that the', 3104), ('to be', 2730), ('on the', 2425), ('for the', 2410), ('with the', 2384), ('by the', 2219)]\n",
      "1950,1959 [('of the', 37166), ('in the', 16252), ('to the', 10997), ('and the', 6345), ('that the', 5088), ('for the', 4542), ('to be', 4511), ('on the', 4047), ('with the', 3991), ('by the', 3894)]\n",
      "1960,1969 [('of the', 46702), ('in the', 20991), ('to the', 14574), ('and the', 8420), ('that the', 6978), ('to be', 5835), ('on the', 5446), ('for the', 5210), ('with the', 5179), ('by the', 4880)]\n",
      "1970,1979 [('of the', 63277), ('in the', 30173), ('to the', 20987), ('and the', 12386), ('that the', 9531), ('to be', 8192), ('on the', 8070), ('with the', 7458), ('for the', 7407), ('from the', 6585)]\n",
      "1980,1989 [('of the', 108262), ('in the', 50470), ('to the', 34712), ('and the', 21938), ('that the', 15045), ('to be', 14105), ('on the', 14087), ('for the', 12841), ('with the', 12612), ('from the', 11322)]\n",
      "1990,1999 [('of the', 140196), ('in the', 66595), ('to the', 45841), ('and the', 30077), ('that the', 20309), ('on the', 19401), ('to be', 16874), ('for the', 16502), ('with the', 16275), ('from the', 15060)]\n"
     ]
    }
   ],
   "source": [
    "for decade_n in range(0,10):\n",
    "    decade = \"19{0}0,19{0}9\".format(str(decade_n))\n",
    "    print(decade, get_top_bigrams(\"publicationYear\", \".between({0})\".format(decade), 10))"
   ],
   "metadata": {
    "collapsed": false
   }
  },
  {
   "cell_type": "code",
   "execution_count": null,
   "outputs": [],
   "source": [],
   "metadata": {
    "collapsed": false
   }
  }
 ],
 "metadata": {
  "kernelspec": {
   "name": "mops_venv_kernel",
   "language": "python",
   "display_name": "mops_venv_kernel"
  },
  "language_info": {
   "codemirror_mode": {
    "name": "ipython",
    "version": 2
   },
   "file_extension": ".py",
   "mimetype": "text/x-python",
   "name": "python",
   "nbconvert_exporter": "python",
   "pygments_lexer": "ipython2",
   "version": "2.7.6"
  }
 },
 "nbformat": 4,
 "nbformat_minor": 0
}
