{
 "cells": [
  {
   "cell_type": "code",
   "execution_count": 1,
   "metadata": {
    "collapsed": true,
    "pycharm": {
     "name": "#%%\n"
    }
   },
   "outputs": [],
   "source": [
    "import pandas as pd\n",
    "import pickle\n",
    "pd.set_option(\"display.max_columns\", None)\n",
    "from collections import Counter\n",
    "import spacy"
   ]
  },
  {
   "cell_type": "code",
   "execution_count": 2,
   "outputs": [
    {
     "name": "stdout",
     "output_type": "stream",
     "text": [
      "endpoint variable has been configured to: https://sciencedata.dk/files/\n"
     ]
    }
   ],
   "source": [
    "# to communicate with google spreadsheet...\n",
    "import gspread\n",
    "from gspread_dataframe import get_as_dataframe\n",
    "from gspread_dataframe import set_with_dataframe\n",
    "from google.oauth2 import service_account # based on google-auth library\n",
    "import sddk\n",
    "\n",
    "s = sddk.cloudSession(\"sciencedata.dk\")\n",
    "# establish connection with gogglesheets...\n",
    "file_data = s.read_file(\"https://sciencedata.dk/files/ServiceAccountsKey.json\", \"dict\") # or load it from a local storage: json.load(open(\"../../ServiceAccountsKey.json\", \"r\"))\n",
    "credentials = service_account.Credentials.from_service_account_info(file_data)\n",
    "gc = gspread.Client(auth=credentials.with_scopes(['https://spreadsheets.google.com/feeds', 'https://www.googleapis.com/auth/drive']))\n",
    "mops_data = gc.open_by_url(\"https://docs.google.com/spreadsheets/d/1VbCIAJssHKV9hlRTwzVFfm40CGnHesq53KXjv2qy4OM/edit?usp=sharing\")"
   ],
   "metadata": {
    "collapsed": false,
    "pycharm": {
     "name": "#%%\n"
    }
   }
  },
  {
   "cell_type": "code",
   "execution_count": 3,
   "outputs": [],
   "source": [
    "jstor_df = apd.read_feather(\"../data/large_files/jstor_df_v1.feather\")"
   ],
   "metadata": {
    "collapsed": false,
    "pycharm": {
     "name": "#%%\n"
    }
   }
  },
  {
   "cell_type": "code",
   "execution_count": 4,
   "outputs": [
    {
     "data": {
      "text/plain": "                 creator datePublished  docType                           doi  \\\n0                     []    1959-10-01  article    10.1177/001452465907100107   \n1  [Victor Paul Furnish]    2009-01-01  chapter  10.1017/CBO9780511621321.003   \n2      [Leander E. Keck]    2015-01-01  chapter                          None   \n3   [LeAnn Snow Flesher]    2009-02-01  article    10.1177/003463730910600105   \n4      [A. Daunton-Fear]    1995-07-01  article    10.1177/0040571X9509800404   \n\n                        id                                         identifier  \\\n0  ark://27927/phx66812gq6  [{'name': 'doi', 'value': '10.1177/00145246590...   \n1   ark://27927/pbd6fpf5fh  [{'name': 'isbn', 'value': '9780511621321'}, {...   \n2  ark://27927/phw1kd8s300                                                 []   \n3  ark://27927/phx64fptrwj  [{'name': 'doi', 'value': '10.1177/00346373091...   \n4  ark://27927/phx64k1x5c2  [{'name': 'doi', 'value': '10.1177/0040571X950...   \n\n                                            isPartOf issueNumber  \\\n0                                   Expository Times           1   \n1     Jesus According to PaulJesus According to Paul        None   \n2                      Christ&#39;s First Theologian        None   \n3  Review & Expositor: An International Baptist J...           1   \n4                                           Theology         784   \n\n                                           keyphrase language  \\\n0  [omnipotent reigneth, god omnipotent, silence,...    [eng]   \n1  [saying, books online, jesus tradition, pauls ...    [eng]   \n2  [pharisaism, sandmel genius, judaism, rabbinic...    [eng]   \n3  [scofield, premillennial, premillennial dispen...    [eng]   \n4  [baptism, holy spirit, communion, infant bapti...    [eng]   \n\n                 outputFormat  pageCount pageEnd pageStart pagination  \\\n0  [unigram, bigram, trigram]        8.0      31        24  pp. 24-31   \n1  [unigram, bigram, trigram]       26.0      65        40      40-65   \n2  [unigram, bigram, trigram]       14.0      42        29      29-42   \n3  [unigram, bigram, trigram]       11.0      45        35  pp. 35-45   \n4  [unigram, bigram, trigram]       10.0     282       273    273-282   \n\n  provider  publicationYear                   publisher  sequence  \\\n0  portico             1959           SAGE Publications       7.0   \n1  portico             2009  Cambridge University Press       5.0   \n2  portico             2015     Baylor University Press       8.0   \n3  portico             2009           SAGE Publications       5.0   \n4  portico             1995           SAGE Publications       4.0   \n\n                                         tdmCategory  \\\n0  [Religion - Theology, Religion - Spiritual bel...   \n1  [History - Historical methodology, Religion - ...   \n2  [History - Historical methodology, Religion - ...   \n3  [Religion - Theology, Religion - Spiritual bel...   \n4              [Religion - Spiritual belief systems]   \n\n                                               title  \\\n0                                       In the Study   \n1               3 Sayings of Jesus in Paul's Letters   \n2                  3. The Quest for Pauls Pharisaism   \n3  The Historical Development of Premillennial Di...   \n4  Resisting the Tide Christian Initiation and Co...   \n\n                                            url volumeNumber  wordCount  \\\n0     http://doi.org/10.1177/001452465907100107           71       7382   \n1  https://doi.org/10.1017/CBO9780511621321.003         None       8577   \n2                                          None         None       5354   \n3     http://doi.org/10.1177/003463730910600105          106       3614   \n4     http://doi.org/10.1177/0040571X9509800404           98       4323   \n\n  docSubType sourceCategory subTitle hasPartTitle  \n0       None           None     None         None  \n1       None           None     None         None  \n2       None           None     None         None  \n3       None           None     None         None  \n4       None           None     None         None  ",
      "text/html": "<div>\n<style scoped>\n    .dataframe tbody tr th:only-of-type {\n        vertical-align: middle;\n    }\n\n    .dataframe tbody tr th {\n        vertical-align: top;\n    }\n\n    .dataframe thead th {\n        text-align: right;\n    }\n</style>\n<table border=\"1\" class=\"dataframe\">\n  <thead>\n    <tr style=\"text-align: right;\">\n      <th></th>\n      <th>creator</th>\n      <th>datePublished</th>\n      <th>docType</th>\n      <th>doi</th>\n      <th>id</th>\n      <th>identifier</th>\n      <th>isPartOf</th>\n      <th>issueNumber</th>\n      <th>keyphrase</th>\n      <th>language</th>\n      <th>outputFormat</th>\n      <th>pageCount</th>\n      <th>pageEnd</th>\n      <th>pageStart</th>\n      <th>pagination</th>\n      <th>provider</th>\n      <th>publicationYear</th>\n      <th>publisher</th>\n      <th>sequence</th>\n      <th>tdmCategory</th>\n      <th>title</th>\n      <th>url</th>\n      <th>volumeNumber</th>\n      <th>wordCount</th>\n      <th>docSubType</th>\n      <th>sourceCategory</th>\n      <th>subTitle</th>\n      <th>hasPartTitle</th>\n    </tr>\n  </thead>\n  <tbody>\n    <tr>\n      <th>0</th>\n      <td>[]</td>\n      <td>1959-10-01</td>\n      <td>article</td>\n      <td>10.1177/001452465907100107</td>\n      <td>ark://27927/phx66812gq6</td>\n      <td>[{'name': 'doi', 'value': '10.1177/00145246590...</td>\n      <td>Expository Times</td>\n      <td>1</td>\n      <td>[omnipotent reigneth, god omnipotent, silence,...</td>\n      <td>[eng]</td>\n      <td>[unigram, bigram, trigram]</td>\n      <td>8.0</td>\n      <td>31</td>\n      <td>24</td>\n      <td>pp. 24-31</td>\n      <td>portico</td>\n      <td>1959</td>\n      <td>SAGE Publications</td>\n      <td>7.0</td>\n      <td>[Religion - Theology, Religion - Spiritual bel...</td>\n      <td>In the Study</td>\n      <td>http://doi.org/10.1177/001452465907100107</td>\n      <td>71</td>\n      <td>7382</td>\n      <td>None</td>\n      <td>None</td>\n      <td>None</td>\n      <td>None</td>\n    </tr>\n    <tr>\n      <th>1</th>\n      <td>[Victor Paul Furnish]</td>\n      <td>2009-01-01</td>\n      <td>chapter</td>\n      <td>10.1017/CBO9780511621321.003</td>\n      <td>ark://27927/pbd6fpf5fh</td>\n      <td>[{'name': 'isbn', 'value': '9780511621321'}, {...</td>\n      <td>Jesus According to PaulJesus According to Paul</td>\n      <td>None</td>\n      <td>[saying, books online, jesus tradition, pauls ...</td>\n      <td>[eng]</td>\n      <td>[unigram, bigram, trigram]</td>\n      <td>26.0</td>\n      <td>65</td>\n      <td>40</td>\n      <td>40-65</td>\n      <td>portico</td>\n      <td>2009</td>\n      <td>Cambridge University Press</td>\n      <td>5.0</td>\n      <td>[History - Historical methodology, Religion - ...</td>\n      <td>3 Sayings of Jesus in Paul's Letters</td>\n      <td>https://doi.org/10.1017/CBO9780511621321.003</td>\n      <td>None</td>\n      <td>8577</td>\n      <td>None</td>\n      <td>None</td>\n      <td>None</td>\n      <td>None</td>\n    </tr>\n    <tr>\n      <th>2</th>\n      <td>[Leander E. Keck]</td>\n      <td>2015-01-01</td>\n      <td>chapter</td>\n      <td>None</td>\n      <td>ark://27927/phw1kd8s300</td>\n      <td>[]</td>\n      <td>Christ&amp;#39;s First Theologian</td>\n      <td>None</td>\n      <td>[pharisaism, sandmel genius, judaism, rabbinic...</td>\n      <td>[eng]</td>\n      <td>[unigram, bigram, trigram]</td>\n      <td>14.0</td>\n      <td>42</td>\n      <td>29</td>\n      <td>29-42</td>\n      <td>portico</td>\n      <td>2015</td>\n      <td>Baylor University Press</td>\n      <td>8.0</td>\n      <td>[History - Historical methodology, Religion - ...</td>\n      <td>3. The Quest for Pauls Pharisaism</td>\n      <td>None</td>\n      <td>None</td>\n      <td>5354</td>\n      <td>None</td>\n      <td>None</td>\n      <td>None</td>\n      <td>None</td>\n    </tr>\n    <tr>\n      <th>3</th>\n      <td>[LeAnn Snow Flesher]</td>\n      <td>2009-02-01</td>\n      <td>article</td>\n      <td>10.1177/003463730910600105</td>\n      <td>ark://27927/phx64fptrwj</td>\n      <td>[{'name': 'doi', 'value': '10.1177/00346373091...</td>\n      <td>Review &amp; Expositor: An International Baptist J...</td>\n      <td>1</td>\n      <td>[scofield, premillennial, premillennial dispen...</td>\n      <td>[eng]</td>\n      <td>[unigram, bigram, trigram]</td>\n      <td>11.0</td>\n      <td>45</td>\n      <td>35</td>\n      <td>pp. 35-45</td>\n      <td>portico</td>\n      <td>2009</td>\n      <td>SAGE Publications</td>\n      <td>5.0</td>\n      <td>[Religion - Theology, Religion - Spiritual bel...</td>\n      <td>The Historical Development of Premillennial Di...</td>\n      <td>http://doi.org/10.1177/003463730910600105</td>\n      <td>106</td>\n      <td>3614</td>\n      <td>None</td>\n      <td>None</td>\n      <td>None</td>\n      <td>None</td>\n    </tr>\n    <tr>\n      <th>4</th>\n      <td>[A. Daunton-Fear]</td>\n      <td>1995-07-01</td>\n      <td>article</td>\n      <td>10.1177/0040571X9509800404</td>\n      <td>ark://27927/phx64k1x5c2</td>\n      <td>[{'name': 'doi', 'value': '10.1177/0040571X950...</td>\n      <td>Theology</td>\n      <td>784</td>\n      <td>[baptism, holy spirit, communion, infant bapti...</td>\n      <td>[eng]</td>\n      <td>[unigram, bigram, trigram]</td>\n      <td>10.0</td>\n      <td>282</td>\n      <td>273</td>\n      <td>273-282</td>\n      <td>portico</td>\n      <td>1995</td>\n      <td>SAGE Publications</td>\n      <td>4.0</td>\n      <td>[Religion - Spiritual belief systems]</td>\n      <td>Resisting the Tide Christian Initiation and Co...</td>\n      <td>http://doi.org/10.1177/0040571X9509800404</td>\n      <td>98</td>\n      <td>4323</td>\n      <td>None</td>\n      <td>None</td>\n      <td>None</td>\n      <td>None</td>\n    </tr>\n  </tbody>\n</table>\n</div>"
     },
     "execution_count": 4,
     "metadata": {},
     "output_type": "execute_result"
    }
   ],
   "source": [
    "jstor_df.head(5)"
   ],
   "metadata": {
    "collapsed": false,
    "pycharm": {
     "name": "#%%\n"
    }
   }
  },
  {
   "cell_type": "code",
   "execution_count": 5,
   "outputs": [
    {
     "data": {
      "text/plain": "                 creator datePublished  docType                           doi  \\\n1  [Victor Paul Furnish]    2009-01-01  chapter  10.1017/CBO9780511621321.003   \n2      [Leander E. Keck]    2015-01-01  chapter                          None   \n7    [Holladay, Carl R.]    2017-01-01  chapter                          None   \n8     [Jeremy M. Schott]    2011-01-01  chapter                          None   \n9   [Raymond F. Collins]    2013-01-01  chapter                          None   \n\n                        id                                         identifier  \\\n1   ark://27927/pbd6fpf5fh  [{'name': 'isbn', 'value': '9780511621321'}, {...   \n2  ark://27927/phw1kd8s300                                                 []   \n7  ark://27927/phx68d6dm3t                                                 []   \n8   ark://27927/pbd934r3jr                                                 []   \n9  ark://27927/phx2t1wjwnt                                                 []   \n\n                                            isPartOf issueNumber  \\\n1     Jesus According to PaulJesus According to Paul        None   \n2                      Christ&#39;s First Theologian        None   \n7                  Introduction to the New Testament        None   \n8  Christianity, Empire, and the Making of Religi...        None   \n9                    Accompanied by a Believing Wife        None   \n\n                                           keyphrase language  \\\n1  [saying, books online, jesus tradition, pauls ...    [eng]   \n2  [pharisaism, sandmel genius, judaism, rabbinic...    [eng]   \n7  [thessalonians, thessalonian letters, letters,...    [eng]   \n8  [apologists, osiris, isis and osiris, plutarch...    [eng]   \n9  [disciples, corinthians, markan, gospel, new t...    [eng]   \n\n                 outputFormat  pageCount pageEnd pageStart pagination  \\\n1  [unigram, bigram, trigram]       26.0      65        40      40-65   \n2  [unigram, bigram, trigram]       14.0      42        29      29-42   \n7  [unigram, bigram, trigram]       22.0     450       429    429-450   \n8  [unigram, bigram, trigram]       37.0      51        15      15-51   \n9  [unigram, bigram, trigram]       41.0     110        70     70-110   \n\n  provider  publicationYear                         publisher  sequence  \\\n1  portico             2009        Cambridge University Press       5.0   \n2  portico             2015           Baylor University Press       8.0   \n7  portico             2017           Baylor University Press      25.0   \n8  portico             2011  University of Pennsylvania Press       6.0   \n9  portico             2013                  Liturgical Press       8.0   \n\n                                         tdmCategory  \\\n1  [History - Historical methodology, Religion - ...   \n2  [History - Historical methodology, Religion - ...   \n7  [Religion - Spiritual belief systems, Arts - L...   \n8    [Religion - Theology, Philosophy - Metaphysics]   \n9  [Religion - Theology, Religion - Spiritual bel...   \n\n                                    title  \\\n1    3 Sayings of Jesus in Paul's Letters   \n2       3. The Quest for Pauls Pharisaism   \n7            12. The Thessalonian Letters   \n8  1 Philosophers, Apologists, and Empire   \n9              3. Jesus and the Disciples   \n\n                                            url volumeNumber  wordCount  \\\n1  https://doi.org/10.1017/CBO9780511621321.003         None       8577   \n2                                          None         None       5354   \n7                                          None         None       9750   \n8                                          None         None      16315   \n9                                          None         None      17220   \n\n  docSubType sourceCategory subTitle hasPartTitle  \n1       None           None     None         None  \n2       None           None     None         None  \n7       None           None     None         None  \n8       None           None     None         None  \n9       None           None     None         None  ",
      "text/html": "<div>\n<style scoped>\n    .dataframe tbody tr th:only-of-type {\n        vertical-align: middle;\n    }\n\n    .dataframe tbody tr th {\n        vertical-align: top;\n    }\n\n    .dataframe thead th {\n        text-align: right;\n    }\n</style>\n<table border=\"1\" class=\"dataframe\">\n  <thead>\n    <tr style=\"text-align: right;\">\n      <th></th>\n      <th>creator</th>\n      <th>datePublished</th>\n      <th>docType</th>\n      <th>doi</th>\n      <th>id</th>\n      <th>identifier</th>\n      <th>isPartOf</th>\n      <th>issueNumber</th>\n      <th>keyphrase</th>\n      <th>language</th>\n      <th>outputFormat</th>\n      <th>pageCount</th>\n      <th>pageEnd</th>\n      <th>pageStart</th>\n      <th>pagination</th>\n      <th>provider</th>\n      <th>publicationYear</th>\n      <th>publisher</th>\n      <th>sequence</th>\n      <th>tdmCategory</th>\n      <th>title</th>\n      <th>url</th>\n      <th>volumeNumber</th>\n      <th>wordCount</th>\n      <th>docSubType</th>\n      <th>sourceCategory</th>\n      <th>subTitle</th>\n      <th>hasPartTitle</th>\n    </tr>\n  </thead>\n  <tbody>\n    <tr>\n      <th>1</th>\n      <td>[Victor Paul Furnish]</td>\n      <td>2009-01-01</td>\n      <td>chapter</td>\n      <td>10.1017/CBO9780511621321.003</td>\n      <td>ark://27927/pbd6fpf5fh</td>\n      <td>[{'name': 'isbn', 'value': '9780511621321'}, {...</td>\n      <td>Jesus According to PaulJesus According to Paul</td>\n      <td>None</td>\n      <td>[saying, books online, jesus tradition, pauls ...</td>\n      <td>[eng]</td>\n      <td>[unigram, bigram, trigram]</td>\n      <td>26.0</td>\n      <td>65</td>\n      <td>40</td>\n      <td>40-65</td>\n      <td>portico</td>\n      <td>2009</td>\n      <td>Cambridge University Press</td>\n      <td>5.0</td>\n      <td>[History - Historical methodology, Religion - ...</td>\n      <td>3 Sayings of Jesus in Paul's Letters</td>\n      <td>https://doi.org/10.1017/CBO9780511621321.003</td>\n      <td>None</td>\n      <td>8577</td>\n      <td>None</td>\n      <td>None</td>\n      <td>None</td>\n      <td>None</td>\n    </tr>\n    <tr>\n      <th>2</th>\n      <td>[Leander E. Keck]</td>\n      <td>2015-01-01</td>\n      <td>chapter</td>\n      <td>None</td>\n      <td>ark://27927/phw1kd8s300</td>\n      <td>[]</td>\n      <td>Christ&amp;#39;s First Theologian</td>\n      <td>None</td>\n      <td>[pharisaism, sandmel genius, judaism, rabbinic...</td>\n      <td>[eng]</td>\n      <td>[unigram, bigram, trigram]</td>\n      <td>14.0</td>\n      <td>42</td>\n      <td>29</td>\n      <td>29-42</td>\n      <td>portico</td>\n      <td>2015</td>\n      <td>Baylor University Press</td>\n      <td>8.0</td>\n      <td>[History - Historical methodology, Religion - ...</td>\n      <td>3. The Quest for Pauls Pharisaism</td>\n      <td>None</td>\n      <td>None</td>\n      <td>5354</td>\n      <td>None</td>\n      <td>None</td>\n      <td>None</td>\n      <td>None</td>\n    </tr>\n    <tr>\n      <th>7</th>\n      <td>[Holladay, Carl R.]</td>\n      <td>2017-01-01</td>\n      <td>chapter</td>\n      <td>None</td>\n      <td>ark://27927/phx68d6dm3t</td>\n      <td>[]</td>\n      <td>Introduction to the New Testament</td>\n      <td>None</td>\n      <td>[thessalonians, thessalonian letters, letters,...</td>\n      <td>[eng]</td>\n      <td>[unigram, bigram, trigram]</td>\n      <td>22.0</td>\n      <td>450</td>\n      <td>429</td>\n      <td>429-450</td>\n      <td>portico</td>\n      <td>2017</td>\n      <td>Baylor University Press</td>\n      <td>25.0</td>\n      <td>[Religion - Spiritual belief systems, Arts - L...</td>\n      <td>12. The Thessalonian Letters</td>\n      <td>None</td>\n      <td>None</td>\n      <td>9750</td>\n      <td>None</td>\n      <td>None</td>\n      <td>None</td>\n      <td>None</td>\n    </tr>\n    <tr>\n      <th>8</th>\n      <td>[Jeremy M. Schott]</td>\n      <td>2011-01-01</td>\n      <td>chapter</td>\n      <td>None</td>\n      <td>ark://27927/pbd934r3jr</td>\n      <td>[]</td>\n      <td>Christianity, Empire, and the Making of Religi...</td>\n      <td>None</td>\n      <td>[apologists, osiris, isis and osiris, plutarch...</td>\n      <td>[eng]</td>\n      <td>[unigram, bigram, trigram]</td>\n      <td>37.0</td>\n      <td>51</td>\n      <td>15</td>\n      <td>15-51</td>\n      <td>portico</td>\n      <td>2011</td>\n      <td>University of Pennsylvania Press</td>\n      <td>6.0</td>\n      <td>[Religion - Theology, Philosophy - Metaphysics]</td>\n      <td>1 Philosophers, Apologists, and Empire</td>\n      <td>None</td>\n      <td>None</td>\n      <td>16315</td>\n      <td>None</td>\n      <td>None</td>\n      <td>None</td>\n      <td>None</td>\n    </tr>\n    <tr>\n      <th>9</th>\n      <td>[Raymond F. Collins]</td>\n      <td>2013-01-01</td>\n      <td>chapter</td>\n      <td>None</td>\n      <td>ark://27927/phx2t1wjwnt</td>\n      <td>[]</td>\n      <td>Accompanied by a Believing Wife</td>\n      <td>None</td>\n      <td>[disciples, corinthians, markan, gospel, new t...</td>\n      <td>[eng]</td>\n      <td>[unigram, bigram, trigram]</td>\n      <td>41.0</td>\n      <td>110</td>\n      <td>70</td>\n      <td>70-110</td>\n      <td>portico</td>\n      <td>2013</td>\n      <td>Liturgical Press</td>\n      <td>8.0</td>\n      <td>[Religion - Theology, Religion - Spiritual bel...</td>\n      <td>3. Jesus and the Disciples</td>\n      <td>None</td>\n      <td>None</td>\n      <td>17220</td>\n      <td>None</td>\n      <td>None</td>\n      <td>None</td>\n      <td>None</td>\n    </tr>\n  </tbody>\n</table>\n</div>"
     },
     "execution_count": 5,
     "metadata": {},
     "output_type": "execute_result"
    }
   ],
   "source": [
    "jstor_df[jstor_df[\"docType\"]==\"chapter\"].head(5)"
   ],
   "metadata": {
    "collapsed": false,
    "pycharm": {
     "name": "#%%\n"
    }
   }
  },
  {
   "cell_type": "markdown",
   "source": [
    "# Journals..."
   ],
   "metadata": {
    "collapsed": false,
    "pycharm": {
     "name": "#%% md\n"
    }
   }
  },
  {
   "cell_type": "code",
   "execution_count": 35,
   "outputs": [
    {
     "data": {
      "text/plain": "                                            isPartOf    N\n0                           Religious Studies Review  544\n1                     Journal of Biblical Literature  442\n2                    The Catholic Biblical Quarterly  332\n3                                   Expository Times  330\n4  Review & Expositor: An International Baptist J...  265\n5    Interpretation: A Journal of Bible and Theology  241\n6                 The Journal of Theological Studies  221\n7                               The Heythrop Journal  216\n8                                     Church History  194\n9                                    Neotestamentica  193",
      "text/html": "<div>\n<style scoped>\n    .dataframe tbody tr th:only-of-type {\n        vertical-align: middle;\n    }\n\n    .dataframe tbody tr th {\n        vertical-align: top;\n    }\n\n    .dataframe thead th {\n        text-align: right;\n    }\n</style>\n<table border=\"1\" class=\"dataframe\">\n  <thead>\n    <tr style=\"text-align: right;\">\n      <th></th>\n      <th>isPartOf</th>\n      <th>N</th>\n    </tr>\n  </thead>\n  <tbody>\n    <tr>\n      <th>0</th>\n      <td>Religious Studies Review</td>\n      <td>544</td>\n    </tr>\n    <tr>\n      <th>1</th>\n      <td>Journal of Biblical Literature</td>\n      <td>442</td>\n    </tr>\n    <tr>\n      <th>2</th>\n      <td>The Catholic Biblical Quarterly</td>\n      <td>332</td>\n    </tr>\n    <tr>\n      <th>3</th>\n      <td>Expository Times</td>\n      <td>330</td>\n    </tr>\n    <tr>\n      <th>4</th>\n      <td>Review &amp; Expositor: An International Baptist J...</td>\n      <td>265</td>\n    </tr>\n    <tr>\n      <th>5</th>\n      <td>Interpretation: A Journal of Bible and Theology</td>\n      <td>241</td>\n    </tr>\n    <tr>\n      <th>6</th>\n      <td>The Journal of Theological Studies</td>\n      <td>221</td>\n    </tr>\n    <tr>\n      <th>7</th>\n      <td>The Heythrop Journal</td>\n      <td>216</td>\n    </tr>\n    <tr>\n      <th>8</th>\n      <td>Church History</td>\n      <td>194</td>\n    </tr>\n    <tr>\n      <th>9</th>\n      <td>Neotestamentica</td>\n      <td>193</td>\n    </tr>\n  </tbody>\n</table>\n</div>"
     },
     "execution_count": 35,
     "metadata": {},
     "output_type": "execute_result"
    }
   ],
   "source": [
    "journals_df = jstor_df.groupby(\"isPartOf\").size().sort_values(ascending=False)\n",
    "journals_df = journals_df.reset_index()\n",
    "journals_df.rename(columns={0: \"N\"}, inplace=True)\n",
    "journals_df.head(10)"
   ],
   "metadata": {
    "collapsed": false,
    "pycharm": {
     "name": "#%%\n"
    }
   }
  },
  {
   "cell_type": "code",
   "execution_count": 36,
   "outputs": [],
   "source": [
    "journals_df_year_avr = jstor_df.groupby(\"isPartOf\")[\"publicationYear\"].mean().reset_index()\n",
    "journals_df_year_avr.rename(columns={\"publicationYear\": \"year_avr\"}, inplace=True)\n",
    "\n",
    "journals_df_year_min = jstor_df.groupby(\"isPartOf\")[\"publicationYear\"].min().reset_index()\n",
    "journals_df_year_min.rename(columns={\"publicationYear\": \"year_min\"}, inplace=True)\n",
    "\n",
    "journals_df_year_max = jstor_df.groupby(\"isPartOf\")[\"publicationYear\"].max().reset_index()\n",
    "journals_df_year_max.rename(columns={\"publicationYear\": \"year_max\"}, inplace=True)"
   ],
   "metadata": {
    "collapsed": false,
    "pycharm": {
     "name": "#%%\n"
    }
   }
  },
  {
   "cell_type": "code",
   "execution_count": 37,
   "outputs": [
    {
     "data": {
      "text/plain": "                                             isPartOf    N     year_avr  \\\n0                            Religious Studies Review  544  2011.965074   \n1                      Journal of Biblical Literature  442  1985.104072   \n2                     The Catholic Biblical Quarterly  332  1988.343373   \n3                                    Expository Times  330  1984.248485   \n4   Review & Expositor: An International Baptist J...  265  1983.600000   \n5     Interpretation: A Journal of Bible and Theology  241  1983.186722   \n6                  The Journal of Theological Studies  221  1983.303167   \n7                                The Heythrop Journal  216  2013.328704   \n8                                      Church History  194  1989.448454   \n9                                     Neotestamentica  193  2005.507772   \n10                     The Harvard Theological Review  176  1979.965909   \n11                   International Review of Missions  163  1983.631902   \n12                              New Testament Studies  159  1990.547170   \n13                                  Novum Testamentum  157  1994.261146   \n14                Missiology: An International Review  145  1994.889655   \n15                            The Journal of Religion  135  1964.333333   \n16         Journal for the Study of the New Testament  128  2002.835938   \n17                                 The Biblical World  111  1909.369369   \n18                       Scottish Journal of Theology  100  1981.120000   \n19                              The Ecumenical Review   99  1995.696970   \n\n    year_min  year_max  \n0       1986      2021  \n1       1901      2020  \n2       1939      2020  \n3       1938      2022  \n4       1932      2021  \n5       1947      2022  \n6       1901      2015  \n7       1969      2021  \n8       1935      2021  \n9       1968      2020  \n10      1909      2016  \n11      1912      2021  \n12      1955      2022  \n13      1956      2018  \n14      1958      2022  \n15      1921      2016  \n16      1979      2022  \n17      1900      1920  \n18      1948      2022  \n19      1949      2021  ",
      "text/html": "<div>\n<style scoped>\n    .dataframe tbody tr th:only-of-type {\n        vertical-align: middle;\n    }\n\n    .dataframe tbody tr th {\n        vertical-align: top;\n    }\n\n    .dataframe thead th {\n        text-align: right;\n    }\n</style>\n<table border=\"1\" class=\"dataframe\">\n  <thead>\n    <tr style=\"text-align: right;\">\n      <th></th>\n      <th>isPartOf</th>\n      <th>N</th>\n      <th>year_avr</th>\n      <th>year_min</th>\n      <th>year_max</th>\n    </tr>\n  </thead>\n  <tbody>\n    <tr>\n      <th>0</th>\n      <td>Religious Studies Review</td>\n      <td>544</td>\n      <td>2011.965074</td>\n      <td>1986</td>\n      <td>2021</td>\n    </tr>\n    <tr>\n      <th>1</th>\n      <td>Journal of Biblical Literature</td>\n      <td>442</td>\n      <td>1985.104072</td>\n      <td>1901</td>\n      <td>2020</td>\n    </tr>\n    <tr>\n      <th>2</th>\n      <td>The Catholic Biblical Quarterly</td>\n      <td>332</td>\n      <td>1988.343373</td>\n      <td>1939</td>\n      <td>2020</td>\n    </tr>\n    <tr>\n      <th>3</th>\n      <td>Expository Times</td>\n      <td>330</td>\n      <td>1984.248485</td>\n      <td>1938</td>\n      <td>2022</td>\n    </tr>\n    <tr>\n      <th>4</th>\n      <td>Review &amp; Expositor: An International Baptist J...</td>\n      <td>265</td>\n      <td>1983.600000</td>\n      <td>1932</td>\n      <td>2021</td>\n    </tr>\n    <tr>\n      <th>5</th>\n      <td>Interpretation: A Journal of Bible and Theology</td>\n      <td>241</td>\n      <td>1983.186722</td>\n      <td>1947</td>\n      <td>2022</td>\n    </tr>\n    <tr>\n      <th>6</th>\n      <td>The Journal of Theological Studies</td>\n      <td>221</td>\n      <td>1983.303167</td>\n      <td>1901</td>\n      <td>2015</td>\n    </tr>\n    <tr>\n      <th>7</th>\n      <td>The Heythrop Journal</td>\n      <td>216</td>\n      <td>2013.328704</td>\n      <td>1969</td>\n      <td>2021</td>\n    </tr>\n    <tr>\n      <th>8</th>\n      <td>Church History</td>\n      <td>194</td>\n      <td>1989.448454</td>\n      <td>1935</td>\n      <td>2021</td>\n    </tr>\n    <tr>\n      <th>9</th>\n      <td>Neotestamentica</td>\n      <td>193</td>\n      <td>2005.507772</td>\n      <td>1968</td>\n      <td>2020</td>\n    </tr>\n    <tr>\n      <th>10</th>\n      <td>The Harvard Theological Review</td>\n      <td>176</td>\n      <td>1979.965909</td>\n      <td>1909</td>\n      <td>2016</td>\n    </tr>\n    <tr>\n      <th>11</th>\n      <td>International Review of Missions</td>\n      <td>163</td>\n      <td>1983.631902</td>\n      <td>1912</td>\n      <td>2021</td>\n    </tr>\n    <tr>\n      <th>12</th>\n      <td>New Testament Studies</td>\n      <td>159</td>\n      <td>1990.547170</td>\n      <td>1955</td>\n      <td>2022</td>\n    </tr>\n    <tr>\n      <th>13</th>\n      <td>Novum Testamentum</td>\n      <td>157</td>\n      <td>1994.261146</td>\n      <td>1956</td>\n      <td>2018</td>\n    </tr>\n    <tr>\n      <th>14</th>\n      <td>Missiology: An International Review</td>\n      <td>145</td>\n      <td>1994.889655</td>\n      <td>1958</td>\n      <td>2022</td>\n    </tr>\n    <tr>\n      <th>15</th>\n      <td>The Journal of Religion</td>\n      <td>135</td>\n      <td>1964.333333</td>\n      <td>1921</td>\n      <td>2016</td>\n    </tr>\n    <tr>\n      <th>16</th>\n      <td>Journal for the Study of the New Testament</td>\n      <td>128</td>\n      <td>2002.835938</td>\n      <td>1979</td>\n      <td>2022</td>\n    </tr>\n    <tr>\n      <th>17</th>\n      <td>The Biblical World</td>\n      <td>111</td>\n      <td>1909.369369</td>\n      <td>1900</td>\n      <td>1920</td>\n    </tr>\n    <tr>\n      <th>18</th>\n      <td>Scottish Journal of Theology</td>\n      <td>100</td>\n      <td>1981.120000</td>\n      <td>1948</td>\n      <td>2022</td>\n    </tr>\n    <tr>\n      <th>19</th>\n      <td>The Ecumenical Review</td>\n      <td>99</td>\n      <td>1995.696970</td>\n      <td>1949</td>\n      <td>2021</td>\n    </tr>\n  </tbody>\n</table>\n</div>"
     },
     "execution_count": 37,
     "metadata": {},
     "output_type": "execute_result"
    }
   ],
   "source": [
    "for df in [journals_df_year_avr, journals_df_year_min, journals_df_year_max]:\n",
    "    journals_df = journals_df.merge(df, on=\"isPartOf\")\n",
    "journals_df.head(20)"
   ],
   "metadata": {
    "collapsed": false,
    "pycharm": {
     "name": "#%%\n"
    }
   }
  },
  {
   "cell_type": "code",
   "execution_count": 38,
   "outputs": [],
   "source": [
    "set_with_dataframe(mops_data.add_worksheet(\"jstor_journals_minmaxavryear\", 1, 1), journals_df.reset_index())"
   ],
   "metadata": {
    "collapsed": false,
    "pycharm": {
     "name": "#%%\n"
    }
   }
  },
  {
   "cell_type": "code",
   "execution_count": 5,
   "outputs": [
    {
     "data": {
      "text/plain": "(14103, 28)"
     },
     "execution_count": 5,
     "metadata": {},
     "output_type": "execute_result"
    }
   ],
   "source": [
    "jstor_df.shape"
   ],
   "metadata": {
    "collapsed": false,
    "pycharm": {
     "name": "#%%\n"
    }
   }
  },
  {
   "cell_type": "code",
   "execution_count": 7,
   "outputs": [
    {
     "data": {
      "text/plain": "149635693"
     },
     "execution_count": 7,
     "metadata": {},
     "output_type": "execute_result"
    }
   ],
   "source": [
    "jstor_df[\"wordCount\"].sum()"
   ],
   "metadata": {
    "collapsed": false,
    "pycharm": {
     "name": "#%%\n"
    }
   }
  },
  {
   "cell_type": "code",
   "execution_count": 13,
   "outputs": [
    {
     "data": {
      "text/plain": "9560"
     },
     "execution_count": 13,
     "metadata": {},
     "output_type": "execute_result"
    }
   ],
   "source": [
    "mask_articles = jstor_df[\"docType\"]==\"article\"\n",
    "len(jstor_df[mask_articles])"
   ],
   "metadata": {
    "collapsed": false,
    "pycharm": {
     "name": "#%%\n"
    }
   }
  },
  {
   "cell_type": "code",
   "execution_count": 17,
   "outputs": [
    {
     "data": {
      "text/plain": "85000012"
     },
     "execution_count": 17,
     "metadata": {},
     "output_type": "execute_result"
    }
   ],
   "source": [
    "jstor_df[mask_articles][\"wordCount\"].sum()"
   ],
   "metadata": {
    "collapsed": false,
    "pycharm": {
     "name": "#%%\n"
    }
   }
  },
  {
   "cell_type": "code",
   "execution_count": 15,
   "outputs": [
    {
     "data": {
      "text/plain": "5982"
     },
     "execution_count": 15,
     "metadata": {},
     "output_type": "execute_result"
    }
   ],
   "source": [
    "mask_doi = jstor_df[\"doi\"].notnull()\n",
    "len(jstor_df[mask_doi])"
   ],
   "metadata": {
    "collapsed": false,
    "pycharm": {
     "name": "#%%\n"
    }
   }
  },
  {
   "cell_type": "code",
   "execution_count": 16,
   "outputs": [
    {
     "data": {
      "text/plain": "4627"
     },
     "execution_count": 16,
     "metadata": {},
     "output_type": "execute_result"
    }
   ],
   "source": [
    "len(jstor_df[(mask_articles) & (mask_doi)])"
   ],
   "metadata": {
    "collapsed": false,
    "pycharm": {
     "name": "#%%\n"
    }
   }
  },
  {
   "cell_type": "code",
   "execution_count": 25,
   "outputs": [
    {
     "data": {
      "text/plain": "4644"
     },
     "execution_count": 25,
     "metadata": {},
     "output_type": "execute_result"
    }
   ],
   "source": [
    "mask_jstor = jstor_df[\"provider\"]==\"jstor\"\n",
    "sum((mask_articles) & (mask_jstor))"
   ],
   "metadata": {
    "collapsed": false,
    "pycharm": {
     "name": "#%%\n"
    }
   }
  },
  {
   "cell_type": "code",
   "execution_count": 28,
   "outputs": [],
   "source": [
    "unigramCount_dict = pickle.load(open(\"../data/large_files/unigramCount_dict.pickle\", \"rb\"))"
   ],
   "metadata": {
    "collapsed": false,
    "pycharm": {
     "name": "#%%\n"
    }
   }
  },
  {
   "cell_type": "code",
   "execution_count": 49,
   "outputs": [
    {
     "data": {
      "text/plain": "['http://www.jstor.org/stable/1198957',\n 'http://www.jstor.org/stable/1508417',\n 'ark://27927/phx7f9rxk2',\n 'http://www.jstor.org/stable/3261590',\n 'http://www.jstor.org/stable/24456097',\n 'ark://27927/pgg389199fd',\n 'ark://27927/phx61xr9tmg',\n 'ark://27927/pgh1g2mt8q5',\n 'ark://27927/phx61xrbpxv',\n 'ark://27927/phx64dprn08',\n 'http://www.jstor.org/stable/43720276',\n 'http://www.jstor.org/stable/20516383',\n 'http://www.jstor.org/stable/41175585',\n 'ark://27927/phx61tbjnvh',\n 'http://www.jstor.org/stable/1198933',\n 'http://www.jstor.org/stable/1456587',\n 'http://www.jstor.org/stable/43720275',\n 'http://www.jstor.org/stable/44210186',\n 'ark://27927/phx622zp8bt',\n 'http://www.jstor.org/stable/1197811',\n 'ark://27927/pgh1h1tfc4p',\n 'http://www.jstor.org/stable/42621087',\n 'ark://27927/phx61tbjqw3',\n 'ark://27927/phx64dprn74',\n 'ark://27927/pgh1h00bn1j',\n 'ark://27927/pgh1g2mt8xg',\n 'ark://27927/phx6bfsx4f4',\n 'http://www.jstor.org/stable/1198956',\n 'http://www.jstor.org/stable/3262039',\n 'http://www.jstor.org/stable/542417',\n 'http://www.jstor.org/stable/43720319',\n 'http://www.jstor.org/stable/27655825',\n 'http://www.jstor.org/stable/23955926',\n 'ark://27927/phx6bfsx379',\n 'http://www.jstor.org/stable/1456588',\n 'http://www.jstor.org/stable/3162046',\n 'ark://27927/pgh1gbc5079']"
     },
     "execution_count": 49,
     "metadata": {},
     "output_type": "execute_result"
    }
   ],
   "source": [
    "# manual test\n",
    "col = \"publicationYear\"\n",
    "matchstring = \"==1951\"\n",
    "eval('jstor_df[jstor_df[\"{0}\"]{1}]'.format(col, matchstring))[\"id\"].tolist()"
   ],
   "metadata": {
    "collapsed": false,
    "pycharm": {
     "name": "#%%\n"
    }
   }
  },
  {
   "cell_type": "code",
   "execution_count": 50,
   "outputs": [],
   "source": [
    "def ids_from_colvals(col, matchstring):\n",
    "    ids = eval('jstor_df[jstor_df[\"{0}\"]{1}]'.format(col, matchstring))[\"id\"].tolist()\n",
    "    return ids"
   ],
   "metadata": {
    "collapsed": false,
    "pycharm": {
     "name": "#%%\n"
    }
   }
  },
  {
   "cell_type": "code",
   "execution_count": 58,
   "outputs": [
    {
     "data": {
      "text/plain": "403"
     },
     "execution_count": 58,
     "metadata": {},
     "output_type": "execute_result"
    }
   ],
   "source": [
    "# test with function...\n",
    "len(ids_from_colvals(\"publicationYear\", \".between(1950, 1959)\"))"
   ],
   "metadata": {
    "collapsed": false,
    "pycharm": {
     "name": "#%%\n"
    }
   }
  },
  {
   "cell_type": "code",
   "execution_count": 59,
   "outputs": [
    {
     "data": {
      "text/plain": "37"
     },
     "execution_count": 59,
     "metadata": {},
     "output_type": "execute_result"
    }
   ],
   "source": [
    "test_ids = ids_from_colvals(\"publicationYear\", \"==1951\")\n",
    "len(test_ids)"
   ],
   "metadata": {
    "collapsed": false,
    "pycharm": {
     "name": "#%%\n"
    }
   }
  },
  {
   "cell_type": "code",
   "execution_count": 62,
   "outputs": [
    {
     "data": {
      "text/plain": "{'NEIL.': 1,\n 'assumption.': 1,\n 'emphases': 1,\n 'work': 2,\n \"Neil's\": 1,\n \"man's\": 1,\n 'by-passed.': 1,\n 'apply': 1,\n 'others,': 1,\n 'home.': 1,\n 'or,': 1,\n 'Acts.': 1,\n 'pages': 1,\n 'has': 2,\n 'discus-': 1,\n 'connection': 2,\n '\"ten-': 1,\n 'scanty': 1,\n 'amid': 1,\n 'treat-': 1,\n 'mis-': 1,\n 'Lord': 1,\n 'II': 3,\n 'on': 11,\n 'One': 1,\n 'writings.': 1,\n 'indorse': 1,\n 'dis-': 1,\n 'text': 3,\n 'intentions': 1,\n 'Many': 1,\n 'however,': 1,\n 'insights': 1,\n 'ac-': 1,\n 'Sermon': 2,\n 'of': 98,\n 'xlv).': 1,\n 'disagree-': 1,\n 'Bros.,': 1,\n 'Christians': 1,\n 'authorities': 1,\n 'eschatology.': 2,\n '79,': 1,\n '\"restraining': 1,\n 'charge': 1,\n 'sion': 1,\n 'will': 3,\n 'so': 1,\n 'modernizing': 1,\n 'level': 1,\n 'defined': 1,\n 'blasphemous': 1,\n 'epistles,': 1,\n '21,': 1,\n 'York:': 2,\n 'enemies': 2,\n 'instance,': 1,\n 'Introduction': 1,\n 'reality': 2,\n 'tion': 3,\n 'treatment': 1,\n 'adequate': 1,\n 'indorses': 1,\n 'Christianity.': 1,\n 'data': 2,\n 'interesting': 2,\n 'series,': 1,\n 'supposed': 1,\n 'Account': 1,\n 'very': 1,\n 'eschatology': 1,\n 'arrest': 1,\n '....': 1,\n 'violates': 1,\n 'HARREL': 1,\n '99.': 1,\n 'exigencies': 1,\n 'books': 1,\n 'inadequate.': 1,\n 'Paul-and': 1,\n 'overly': 1,\n 'authorship': 1,\n 'referring': 1,\n 'christologi-': 1,\n 'certain': 1,\n 'somewhat': 1,\n 'RELIGION': 1,\n 'regards': 1,\n 'the': 138,\n 'our': 1,\n 'book': 2,\n 'Testament': 2,\n 'I': 1,\n 'removal': 1,\n 'past,': 1,\n 'Jewish': 1,\n 'Christianity': 3,\n 'looks': 1,\n 'here,': 1,\n 'Lake,': 1,\n 'Gentile,': 1,\n 'Kingdom': 2,\n 'small': 1,\n 'lonians.': 1,\n 'for': 11,\n '\"best': 1,\n 'Earlier': 1,\n 'de-': 1,\n 'debatable,': 1,\n 'whose': 1,\n 'Thessalonian': 1,\n 'money': 1,\n 'connotations': 1,\n 'CRITICAL': 1,\n '38,': 1,\n 'sion\"': 1,\n 'satanic.': 1,\n 'made': 2,\n '\"Commentary\"': 1,\n 'ix).': 1,\n 'advocated': 2,\n 'I82,': 1,\n 'specula-': 1,\n 'technique': 1,\n 'von': 1,\n 'carelessly': 1,\n 'Day': 1,\n 'raised': 2,\n 'JOURNAL': 1,\n 'In': 7,\n 'world': 1,\n 'interest': 1,\n 'translation': 2,\n 'Chicago': 1,\n 'prefer': 1,\n 'elsewhere': 1,\n 'viewpoint': 1,\n 'matter,': 1,\n 'coming': 1,\n 'their': 1,\n 'us': 3,\n 'not': 4,\n 'veils': 1,\n 'necessary': 1,\n 'pp.': 5,\n 'give': 1,\n 'last': 1,\n 'historical': 2,\n '$3.00.': 1,\n 'essentially': 1,\n 'proper': 1,\n 'renderings': 1,\n 'contribution': 1,\n 'best,': 1,\n 'True,': 1,\n 'WILLIAM': 1,\n 'such': 1,\n 'i8i,': 1,\n 'x+': 1,\n 'viewpoints,': 1,\n 'tribute\\'\"': 1,\n 'perhaps': 2,\n 'throughout,': 1,\n 'here.': 1,\n 'attempt': 1,\n 'contrary': 1,\n 'early': 2,\n 'expedient': 1,\n 'contains': 1,\n 'elude': 1,\n 'Com-': 1,\n 'nificance': 1,\n 'says:': 1,\n '298': 1,\n 'reference': 3,\n 'century': 1,\n 'Here': 1,\n 'ethical': 1,\n 'Faculty': 1,\n 'man': 1,\n 'pay.': 1,\n 'expected': 1,\n 'xl': 1,\n 'deals': 1,\n 'as': 16,\n 'cal': 2,\n 'con-': 1,\n 'truth': 1,\n 'image': 1,\n 'British': 1,\n 'apocalyptic': 1,\n 'literary': 2,\n 'Kennard': 1,\n 'rent': 1,\n 'definitely': 1,\n 'actual': 1,\n 'ever,': 1,\n 'Empire': 1,\n '\"Jesus': 1,\n 'him.': 1,\n 'often': 2,\n 'back': 1,\n 'simply': 1,\n 'Chris-': 1,\n 'were,': 1,\n 'death': 1,\n 'it.': 1,\n 'al-': 1,\n 'otherwise': 1,\n 'pre-Pauline': 1,\n 'Gospels.': 1,\n 'pls.': 1,\n 'es-': 1,\n 'Neil': 6,\n 'metaphysical': 1,\n 'valid': 1,\n 'futuristic': 2,\n '\"singularity\"': 1,\n 'lonica': 1,\n 'subversive': 1,\n 'normal': 1,\n '36;': 1,\n 'start': 1,\n 'average': 1,\n 'WIKGREN': 1,\n 'literal': 2,\n 'into': 3,\n 'partly': 2,\n '37,': 1,\n 'there': 2,\n 'God.': 1,\n 'repeated': 1,\n 'result': 1,\n '16:12': 1,\n 'study': 1,\n 'tation': 1,\n '23,': 1,\n 'and,': 1,\n 'calls': 1,\n 'Epistle': 1,\n '84,': 1,\n 'back-reference': 1,\n \"author's\": 1,\n 'departs': 1,\n 'insufficiently': 1,\n 'volume': 1,\n 'ligious': 1,\n 'power\"': 1,\n 'But': 2,\n 'proclaiming': 2,\n 'level.': 1,\n 'interpreta-': 1,\n 'reading': 1,\n 'forbidding': 1,\n 'gnostic': 1,\n 'Much': 1,\n 'parently': 1,\n 'popular,': 1,\n 'felt': 1,\n 'reality,': 1,\n 'show': 1,\n 'brim\"': 1,\n 'confirmed': 1,\n 'I48': 1,\n 'first-century': 1,\n 'Claudius.': 1,\n 'religions': 1,\n 'consideration': 1,\n 'lose': 1,\n 'filled': 1,\n 'New': 4,\n 'God': 1,\n 'claims': 2,\n 'one': 1,\n 'difficulty': 2,\n 'documents': 1,\n 'without': 1,\n 'series': 2,\n 'Caesar;': 1,\n 'being': 1,\n 'interplay': 1,\n 'because': 1,\n 'sig-': 1,\n 'irrespective': 1,\n 'faith': 1,\n 'garding': 1,\n 'reason': 1,\n 'Edersheim': 1,\n 'high': 2,\n '.': 3,\n 'sets': 1,\n 'fact,': 3,\n 'conscious': 1,\n 'etc.\"': 1,\n 'when': 1,\n 'miracles': 1,\n 'time,': 1,\n '&': 1,\n 'gives': 1,\n 'features': 1,\n 'defend': 1,\n 'nial': 1,\n '94,': 1,\n 'die': 1,\n 'division': 2,\n 'end\"': 1,\n 'xlvii+204': 1,\n 'with': 9,\n 'regard': 1,\n 'is,': 1,\n 'inconsistency': 1,\n 'topo-': 1,\n 'itself': 1,\n '32,': 1,\n 'attractively': 1,\n '(Neither': 1,\n 'doubtless': 2,\n 'Philosophy': 1,\n 'thorough,': 1,\n 'appears': 2,\n 'Greek,': 1,\n '\"involves': 1,\n 'future.\"': 1,\n 'emperor': 1,\n 'inconsistently': 1,\n 'Christian': 3,\n 'only': 2,\n 'consciousness': 1,\n 'considered': 1,\n 'problems': 2,\n 'tax': 1,\n 'himself': 3,\n 'natural': 1,\n 'bore': 1,\n 'almost': 1,\n \"Jesus'\": 4,\n 'they': 1,\n 'regarding': 2,\n 'reflects': 1,\n 'would': 1,\n 'OF': 1,\n 'It': 3,\n 'comes': 2,\n 'title': 2,\n 'God.\"': 1,\n 'entirely': 1,\n 'sources': 1,\n 'modern': 2,\n 'area': 1,\n 'left': 1,\n 'discussion': 1,\n 'conservative': 1,\n 'Meyer': 1,\n 'evidence': 1,\n 'through': 1,\n 'is': 32,\n 'Jesus:': 1,\n 'favor': 1,\n 'thesis.': 1,\n 'treatments': 1,\n 'Federated': 1,\n 'metaphor': 1,\n 'graphical': 1,\n '2:5-7': 1,\n 'state-': 1,\n 'nineteenth': 1,\n 'Roman': 3,\n 'xliii).': 1,\n 'remarks': 1,\n 'While': 1,\n 'resolve': 1,\n 'his': 10,\n 'enough': 1,\n 'presents': 2,\n 'until': 1,\n 'took': 1,\n 'mention': 1,\n 'might': 1,\n 'analysis': 1,\n '(p.': 4,\n 'Granted': 1,\n '\"realized\").': 1,\n 'thereby': 1,\n 'chronology': 1,\n '(\"Moffatt': 1,\n 'Martyr).': 1,\n 'which': 6,\n 'timeless': 2,\n 'introductions': 1,\n '53-54),': 1,\n 'possessed': 1,\n 'here': 1,\n 'On': 1,\n 'KVpLOS': 1,\n 'admits,': 1,\n 'state': 1,\n 'pages+4': 1,\n 'i6': 1,\n '\"cup': 1,\n 'figures': 1,\n 'veiled': 1,\n 'King': 1,\n 'like': 1,\n '\"realized\"': 1,\n 'meaning': 2,\n 'one\"': 1,\n 'puzzling': 1,\n 'James': 1,\n 'Jesus.': 1,\n 'inscription': 1,\n 'ethics,': 1,\n 'I950.': 2,\n 'words': 1,\n 'For': 1,\n 'Unfortunately': 1,\n 'expatiate': 1,\n 'points.': 1,\n 'teaching': 1,\n \"'We\": 1,\n 'development.': 1,\n 'mark': 1,\n 'contradicts': 1,\n 'University': 3,\n 'well': 1,\n 'Evidence': 1,\n 'denarius': 1,\n 'Theological': 1,\n 'Gospel': 2,\n 'legend,': 1,\n 'interweaving': 1,\n '(He': 1,\n 'classically': 1,\n 'works,': 1,\n 'people.': 1,\n 'been': 2,\n 'ix': 1,\n 'still': 1,\n 'chatology.': 1,\n '13,': 1,\n 'support': 2,\n 'defended': 1,\n 'servable': 1,\n 'Moffatt': 1,\n 'deeper': 1,\n 'symbolic': 2,\n 'doubt': 1,\n 'literature.': 1,\n 'actuality': 1,\n 'completes': 1,\n 'well-documented': 1,\n 'axiological,': 1,\n 'prophetic': 1,\n 'usage': 2,\n 'influence': 2,\n 'hide': 1,\n 'by': 3,\n 'factual,': 1,\n \"Moffatt's\": 1,\n 'how-': 1,\n 'was': 6,\n 'reflects.': 1,\n 'distinguish': 1,\n 'indifferently': 1,\n 'pious': 1,\n 'Christ': 1,\n 'mentary,\"': 1,\n 'quite': 1,\n 'possibility': 1,\n 'some': 4,\n '98': 1,\n '\"They': 1,\n 'assume.': 1,\n '\"The': 1,\n 'each': 1,\n 'Caesar': 1,\n 'theme': 1,\n 'values': 2,\n 'accents': 1,\n 'passage.': 1,\n 'datum': 1,\n '39,': 1,\n 'St.': 1,\n 'mythological': 1,\n 'tion.': 1,\n '\"To': 1,\n 'important,': 1,\n 'space': 1,\n 'tians.': 1,\n 'via': 1,\n 'Among': 1,\n '\"Moffatt': 1,\n 'all': 1,\n 'mean': 1,\n '(e.g.,': 3,\n 'r&Xos': 1,\n 'regarded': 1,\n 'ethical.\"': 1,\n 'four': 1,\n 'based': 1,\n 'ment': 2,\n '$2.75.': 1,\n 'most': 1,\n 'tends': 1,\n 'ob-': 1,\n 'read': 1,\n 'THE': 1,\n 'and': 37,\n 'misin-': 1,\n '15,': 1,\n 'indeed,': 1,\n 'problem.\"': 1,\n 'Thess.': 2,\n 'J.': 1,\n 'it': 10,\n 'I42,': 1,\n 'archeological': 1,\n 'quality': 1,\n \"Paul's\": 3,\n 'Paul': 7,\n 'a': 34,\n 'I52,': 1,\n 'aside': 1,\n 'same': 1,\n 'respect': 1,\n 'paying': 1,\n 'ap-': 1,\n '...': 1,\n 'Specifically,': 1,\n 'view': 1,\n 'no': 6,\n '\"he': 1,\n 'commentators': 2,\n 'English': 1,\n 'also': 3,\n 'leaving': 1,\n 'I53)': 1,\n 'guide.\"': 1,\n 'pilloried': 1,\n 'term': 1,\n '\"to': 1,\n 'generally': 2,\n 'present,': 1,\n 'political': 1,\n 'response': 2,\n 'exact': 1,\n 'purpose.': 1,\n 'exemplifies': 1,\n 'hypocrites': 1,\n 'eschatological': 1,\n 'i6,': 1,\n 'popularity': 1,\n 'life': 1,\n 'liberal': 2,\n 'used': 2,\n 'thought,': 1,\n 'vowels': 2,\n 'Macedonia': 1,\n 'tribute': 2,\n 'asked': 1,\n 'note': 1,\n '\"messianic\"': 1,\n 'commentary': 2,\n 'Acts': 1,\n 'mission': 1,\n 'ALLEN': 1,\n 'be': 7,\n 'probably': 1,\n 'ticular,': 1,\n 'Synoptic': 2,\n 'passage': 2,\n 'lusion': 1,\n 'position': 1,\n 'orienta-': 1,\n 'thought': 1,\n 'lost': 1,\n 'particular,': 1,\n 'scholar': 1,\n 'Nevertheless,': 1,\n 'fine': 1,\n 'divinity': 1,\n 'up-to-date': 1,\n 'authenticity': 1,\n 'seeks': 1,\n 'transliterated,': 1,\n 'trace': 1,\n 'apart': 1,\n 'devotes': 1,\n 'COBB': 1,\n 'that': 17,\n 'done': 1,\n 'SPENCER': 1,\n '299': 1,\n 'long': 2,\n 're-': 2,\n 'project': 1,\n 'gentile': 1,\n 'The': 8,\n 'unrecognized.': 1,\n 'criti-': 1,\n 'accusation': 1,\n 'century.': 1,\n 'sible': 1,\n 'kerygma.': 1,\n 'ground': 1,\n 'terpretations': 1,\n 'good': 1,\n 'really': 2,\n 'mentioned,': 1,\n 'later': 1,\n 'movement': 2,\n 'title.)': 1,\n 'duty': 1,\n 'cult': 1,\n 'Religion': 1,\n 'teachings': 1,\n 'editorial': 1,\n 'religious': 2,\n '\"Day': 1,\n 'true': 1,\n 'Johannine': 1,\n 'him': 2,\n 'sacramental': 1,\n '\"bitter': 1,\n 'Epistles': 1,\n 'I93).': 1,\n 'currently': 1,\n 'defense': 1,\n 'its': 2,\n 'we': 2,\n 'assumption': 2,\n 'in-': 1,\n 'letters': 1,\n 'traitors': 1,\n 'I2,': 1,\n 'working': 1,\n 'reader': 1,\n 'cup': 1,\n 'major': 1,\n 'Jesus': 6,\n 'critical,': 1,\n 'Of': 4,\n 'manuscript': 1,\n 'I33,': 1,\n 'allusion': 1,\n 'time': 1,\n 'existing': 1,\n 'though': 2,\n 'This,': 1,\n 'cited': 2,\n 'surprising': 1,\n 'course': 1,\n 'consisting': 1,\n 'denial': 1,\n 'Press,': 1,\n 'both': 3,\n 'career.': 1,\n 'par-': 1,\n 'recently': 1,\n \"schiitz's\": 1,\n 'ghost': 1,\n \"Lake's\": 1,\n 'Indeed,': 1,\n 'tripartite': 1,\n '(from': 1,\n 'accounts': 1,\n '\"more': 1,\n 'government': 1,\n 'pels': 1,\n '7ravroTe': 1,\n 'trial': 2,\n 'fulfilment.': 1,\n 'Thessalonians.': 2,\n 'chapter': 1,\n 'furnished': 1,\n 'considerable': 1,\n 'judgment': 1,\n 'pages.': 1,\n 'forth': 1,\n 'modes': 1,\n 'hardly': 3,\n 'Intro-': 1,\n 'cult.': 2,\n 'jargon,\"': 1,\n 'legitimate': 1,\n 'JAMES': 1,\n 'biographies': 1,\n 'Department': 1,\n 'he': 8,\n 'negation': 1,\n 'Commentary.\")': 1,\n 'mystery': 1,\n 'excellence': 1,\n 'total': 1,\n 'KENNARD,': 1,\n 'attempting': 2,\n '27,': 1,\n 'payment': 3,\n 'best': 1,\n 'teaching,': 1,\n 'Septuagint': 1,\n 'To': 2,\n 'but': 2,\n 'particularly': 1,\n 'uses': 1,\n 'taken,': 1,\n 'printed': 1,\n 'sen-': 1,\n 'existence': 1,\n 'found': 4,\n 'After': 1,\n 'doctrine': 1,\n 'necessarily': 1,\n 'test': 1,\n 'typical': 1,\n 'to': 42,\n 'JR.': 1,\n 'Harper': 1,\n 'Greek': 2,\n 'does': 1,\n 'tinguished': 1,\n 'advanced': 2,\n 'indicate': 1,\n 'out': 1,\n 'these': 2,\n 'REVIEWS': 1,\n 'He': 1,\n 'vaguely': 1,\n 'drop\"': 1,\n 'about': 2,\n '43,': 1,\n 'taxes': 1,\n 'characteristic': 1,\n 'led': 1,\n 'efforts': 1,\n 'expectation': 1,\n '\"radical\"': 1,\n '(Justin': 1,\n 'others': 1,\n 'period.': 1,\n 'other': 2,\n 'parts': 1,\n 'at': 5,\n 'find': 1,\n 'much': 1,\n 'spite': 1,\n 'two': 1,\n '107)': 1,\n 'maintained': 1,\n 'picture': 1,\n '(cf.': 1,\n 'may': 2,\n 'allusions': 1,\n 'interpre-': 1,\n 'fresh': 1,\n 'whole,': 1,\n 'theological': 3,\n 'Dob-': 1,\n 'paradoxologists.': 1,\n 'resurrection': 1,\n 'hard': 1,\n 'anything': 1,\n 'ing': 1,\n 'or': 1,\n 'rather': 3,\n 'unnoticed.': 1,\n 'A': 1,\n '2:': 1,\n 'relevance.': 1,\n 'any': 1,\n 'beginnings': 1,\n 'recognized.': 1,\n 'answer': 1,\n 'II2)': 1,\n 'after': 1,\n 'indi-': 1,\n 'communities,': 1,\n 'strong': 1,\n 'Thessa-': 2,\n 'striking\"': 1,\n 'in': 30,\n 'have': 1,\n '\"cur-': 1,\n 'discussions': 1,\n 'genera-': 1,\n 'Mount': 1,\n '(pp.': 1,\n 'late': 1,\n 'represented.': 1,\n 'reply': 1,\n 'fully': 1,\n 'status': 1,\n 'acquaintance': 1,\n 'Fourth': 1,\n 'clusive': 1,\n '(\"always\")': 1,\n 'etc.).': 1,\n 'vagueness': 1,\n 'author': 4,\n 'feel': 1,\n 'terpreted': 1,\n 'question': 4,\n 'Harnack,': 1,\n 'final': 1,\n 'mission.': 1,\n 'letters.': 1,\n 'non-English': 1,\n 'duty.': 1,\n '\"the': 1,\n 'exists!': 1,\n 'stu-': 1,\n 'Mount-into': 1,\n 'do': 2,\n 'Furthermore,': 1,\n 'anachronistic': 1,\n 'contemporary': 2,\n 'cents.': 1,\n 'repaid': 1,\n 'interpretation': 4,\n 'from': 4,\n 'center': 1,\n 'freedom': 1,\n 'Lord,\"': 1,\n 'dent': 1,\n 'Jews': 1,\n 'imperial': 2,\n 'belonged': 1,\n 'Toledo': 1,\n 'primitive': 1,\n 'where': 2,\n 'myth,': 1,\n 'excessive': 1,\n 'This': 7,\n 'Oxford': 1,\n 'can': 3,\n 'apparently': 2,\n 'look': 1,\n 'what': 1,\n 'events': 1,\n 'seems': 1,\n '35,': 1,\n '(\"end\")': 1,\n 'By': 2,\n 'informative,': 1,\n 'completely': 1,\n 'this': 5,\n 'duction': 1,\n 'justice': 1,\n 'demands': 1,\n 'Judgment': 1,\n 'As': 1,\n 'Pauline': 4,\n 'than': 1,\n 'next-world': 1,\n 'devoted.': 1,\n 'an': 4,\n 'argument': 1,\n 'Render': 1,\n 'are': 2,\n 'Gos-': 1,\n \"God's\": 1,\n 'These': 1,\n 'popular': 2}"
     },
     "execution_count": 62,
     "metadata": {},
     "output_type": "execute_result"
    }
   ],
   "source": [
    "unigramCount_dict[test_ids[0]]"
   ],
   "metadata": {
    "collapsed": false,
    "pycharm": {
     "name": "#%%\n"
    }
   }
  },
  {
   "cell_type": "code",
   "execution_count": 64,
   "outputs": [
    {
     "name": "stdout",
     "output_type": "stream",
     "text": [
      "862\n",
      "531\n",
      "1250\n",
      "1450\n",
      "2219\n",
      "1152\n",
      "2181\n",
      "1581\n",
      "2134\n",
      "2872\n",
      "1247\n",
      "1135\n",
      "1255\n",
      "1727\n",
      "733\n",
      "1218\n",
      "4749\n",
      "1875\n",
      "1590\n",
      "2344\n",
      "2139\n",
      "3184\n",
      "2348\n",
      "1404\n",
      "2572\n",
      "939\n",
      "2297\n",
      "799\n",
      "2624\n",
      "2775\n",
      "1019\n",
      "1914\n",
      "1747\n",
      "1284\n",
      "1365\n",
      "2629\n",
      "519\n"
     ]
    }
   ],
   "source": [
    "c = Counter()\n",
    "for id in test_ids:\n",
    "    d = unigramCount_dict[id]\n",
    "    print(len(d))\n",
    "    c.update(d)"
   ],
   "metadata": {
    "collapsed": false,
    "pycharm": {
     "name": "#%%\n"
    }
   }
  },
  {
   "cell_type": "code",
   "execution_count": 69,
   "outputs": [],
   "source": [
    "def merge_data_from_ids(ids, datadict):\n",
    "    c = Counter()\n",
    "    for id in ids:\n",
    "        d = datadict[id]\n",
    "        c.update(d)\n",
    "    return c"
   ],
   "metadata": {
    "collapsed": false,
    "pycharm": {
     "name": "#%%\n"
    }
   }
  },
  {
   "cell_type": "code",
   "execution_count": 67,
   "outputs": [
    {
     "data": {
      "text/plain": "[('the', 13802),\n ('of', 9030),\n ('and', 5024),\n ('to', 4495),\n ('in', 4398),\n ('is', 2709),\n ('a', 2576),\n ('that', 2244),\n ('as', 1425),\n ('The', 1367),\n ('for', 1293),\n ('his', 1261),\n ('which', 1239),\n ('be', 1180),\n ('was', 1162),\n ('not', 1148),\n ('he', 1101),\n ('by', 1057),\n ('it', 971),\n ('with', 968),\n ('this', 836),\n ('from', 818),\n ('on', 727),\n ('are', 726),\n ('have', 669),\n ('but', 648),\n ('.', 621),\n ('we', 600),\n ('who', 586),\n ('or', 539),\n ('had', 539),\n ('at', 538),\n ('has', 537),\n ('their', 497),\n ('an', 485),\n ('were', 479),\n ('one', 455),\n ('all', 446),\n ('they', 439),\n ('Paul', 409),\n ('God', 404),\n ('I', 396),\n ('its', 391),\n ('been', 390),\n ('In', 371),\n ('no', 368),\n ('It', 357),\n ('Testament', 339),\n ('will', 331),\n ('our', 331),\n ('Christian', 331),\n ('only', 313),\n ('would', 297),\n ('can', 282),\n ('New', 281),\n ('there', 279),\n ('more', 279),\n ('Old', 279),\n ('so', 277),\n ('into', 264),\n ('p.', 260),\n ('other', 258),\n ('must', 258),\n ('He', 256),\n ('Jesus', 248),\n ('also', 245),\n ('what', 241),\n ('man', 238),\n ('Christ', 237),\n ('This', 236),\n ('than', 236),\n ('Gospel', 233),\n ('But', 227),\n ('these', 227),\n ('life', 225),\n ('those', 225),\n ('may', 222),\n ('such', 219),\n ('when', 218),\n ('first', 217),\n ('them', 213),\n ('law', 208),\n ('him', 206),\n ('through', 203),\n ('do', 197),\n ('love', 192),\n ('because', 189),\n ('some', 181),\n ('does', 179),\n ('about', 179),\n ('most', 175),\n ('own', 174),\n ('His', 173),\n ('new', 173),\n ('should', 172),\n ('Church', 170),\n ('St.', 168),\n ('between', 168),\n (';', 167),\n ('any', 166),\n ('did', 165),\n ('same', 164),\n ('out', 163),\n ('very', 162),\n ('if', 162),\n ('men', 161),\n ('THE', 160),\n ('us', 159),\n ('two', 156),\n (\"God's\", 156),\n ('many', 156),\n ('upon', 155),\n ('great', 153),\n ('time', 152),\n ('church', 152),\n ('And', 151),\n ('found', 150),\n (\"Paul's\", 147),\n ('even', 147),\n ('history', 145),\n ('work', 144),\n ('himself', 143),\n ('We', 143),\n ('For', 141),\n ('made', 139),\n ('my', 139),\n ('after', 137),\n ('A', 136),\n ('OF', 134),\n ('among', 133),\n ('both', 130),\n ('before', 130),\n ('human', 129),\n (':', 129),\n ('Bible', 126),\n ('could', 125),\n ('power', 125),\n ('Israel', 125),\n ('faith', 124),\n ('then', 124),\n ('under', 121),\n ('shall', 121),\n ('up', 118),\n ('way', 116),\n ('make', 116),\n ('much', 115),\n ('John', 115),\n ('you', 115),\n ('over', 114),\n ('Baptism', 113),\n ('without', 112),\n ('1', 112),\n ('world', 111),\n ('well', 111),\n ('like', 110),\n ('given', 110),\n ('however,', 109),\n ('divine', 108),\n ('whole', 108),\n ('now', 107),\n ('early', 106),\n ('people', 106),\n ('historical', 105),\n ('dead', 105),\n ('place', 104),\n ('cannot', 103),\n ('Biel', 103),\n ('point', 102),\n ('view', 101),\n ('where', 101),\n ('fact', 101),\n ('against', 101),\n ('part', 100),\n ('being', 98),\n ('God.', 97),\n ('years', 97),\n ('true', 96),\n ('already', 96),\n ('come', 95),\n ('three', 94),\n ('Apostle', 94),\n ('use', 94),\n ('religious', 92),\n ('rather', 92),\n ('order', 92),\n ('J.', 91),\n ('her', 91),\n ('every', 91),\n ('God,', 91),\n ('There', 90),\n ('within', 90),\n ('called', 88),\n ('pp.', 87),\n ('death', 87),\n ('words', 87),\n (',', 87),\n ('book', 85),\n ('here', 85),\n ('know', 85),\n ('If', 85),\n ('find', 84),\n ('question', 84),\n ('By', 84),\n ('To', 83),\n ('agape', 83),\n ('might', 82),\n ('freedom', 82),\n ('present', 82),\n ('Ibid.,', 82),\n ('baptized', 82),\n ('nor', 81),\n ('doctrine', 80),\n ('Christ,', 80),\n ('o.e.,', 80),\n ('still', 79),\n ('good', 78),\n ('yet', 78),\n ('author', 77),\n ('written', 77),\n ('Lord', 76),\n ('Christians', 75),\n ('meaning', 75),\n ('become', 75),\n ('certain', 74),\n ('last', 74),\n ('is,', 74),\n ('later', 74),\n ('whom', 74),\n ('As', 73),\n ('-', 73),\n ('problem', 73),\n ('little', 73),\n ('how', 72),\n ('thus', 72),\n ('give', 71),\n ('said', 71),\n ('common', 71),\n ('gospel', 71),\n ('\"The', 70),\n ('far', 70),\n ('take', 70),\n ('never', 70),\n ('though', 69),\n ('\"the', 69),\n ('Paul,', 69),\n ('second', 69),\n ('while', 69),\n ('form', 69),\n ('’', 69),\n ('study', 68),\n ('modern', 68),\n ('word', 68),\n ('since', 68),\n ('History', 68),\n ('biblical', 68),\n ('They', 67),\n ('nature', 67),\n ('see', 67),\n ('grace', 67),\n ('used', 66),\n ('during', 66),\n ('therefore', 66),\n ('things', 66),\n ('free', 66),\n ('die', 64),\n ('theological', 64),\n ('spiritual', 64),\n ('need', 64),\n ('Roman', 63),\n ('thought', 63),\n ('W.', 63),\n ('Catholic', 63),\n ('AND', 63),\n ('text', 62),\n ('means', 62),\n ('When', 62),\n ('received', 62),\n ('sin', 62),\n (\"Jesus'\", 61),\n ('churches', 61),\n ('just', 61),\n ('toward', 61),\n ('H.', 61),\n ('reason', 60),\n ('teaching', 60),\n ('seems', 60),\n ('purpose', 60),\n ('am', 60),\n ('say', 60),\n ('cit.,', 60),\n ('taken', 60),\n ('C.', 60),\n ('number', 60),\n ('Jewish', 59),\n ('On', 59),\n ('important', 59),\n ('Christ.', 59),\n ('living', 59),\n ('\"', 59),\n ('sense', 59),\n ('themselves', 59),\n ('truth', 58),\n ('long', 58),\n ('Greek', 58),\n ('nothing', 58),\n ('another', 58),\n ('Thus', 58),\n ('What', 58),\n ('became', 58),\n ('different', 58),\n ('unity', 58),\n ('Book', 58),\n ('came', 58),\n ('century', 57),\n ('That', 57),\n ('Holy', 57),\n ('From', 57),\n ('Dickson', 56),\n ('Christianity', 55),\n ('set', 55),\n ('according', 55),\n ('me', 55),\n ('something', 55),\n ('slaves', 55),\n ('it.', 54),\n ('each', 54),\n ('once', 54),\n ('known', 54),\n ('Cor.', 54),\n ('old', 54),\n ('act', 54),\n ('gives', 53),\n ('chapter', 53),\n ('Jowett', 53),\n ('A.', 53),\n ('Brethren', 53),\n ('itself', 52),\n ('longer', 52),\n ('Church,', 52),\n ('day', 52),\n ('con-', 51),\n ('Acts', 51),\n ('others', 51),\n ('end', 51),\n ('needs', 51),\n ('your', 51),\n ('therefore,', 51),\n ('op.', 51),\n ('Life', 51),\n ('whose', 50),\n ('coming', 50),\n ('interpretation', 50),\n ('Jews', 50),\n ('character', 50),\n ('following', 50),\n ('preaching', 50),\n ('whether', 50),\n ('life.', 50),\n ('makes', 50),\n ('2,', 50),\n ('Epistle', 49),\n ('almost', 49),\n ('2', 49),\n ('live', 49),\n ('unto', 49),\n ('law,', 49),\n ('necessary', 48),\n ('simply', 48),\n ('position', 48),\n ('tradition', 48),\n ('too', 48),\n ('Testament,', 48),\n ('concerning', 48),\n ('Jerusalem', 48),\n ('Jesus,', 48),\n ('salvation', 48),\n ('tion', 47),\n ('until', 47),\n ('forth', 47),\n ('letter', 47),\n ('Professor', 47),\n ('light', 47),\n ('development', 47),\n ('always', 47),\n ('down', 47),\n ('believe', 47),\n ('general', 47),\n ('Biblical', 47),\n ('less', 47),\n ('merely', 47),\n ('F.', 47),\n ('der', 47),\n ('v.', 47),\n ('University', 46),\n ('quite', 46),\n ('probably', 46),\n ('it,', 46),\n ('few', 46),\n ('Spirit', 46),\n ('II', 45),\n ('took', 45),\n ('period', 45),\n ('theology', 45),\n ('full', 45),\n ('life,', 45),\n ('Peter', 45),\n ('S.', 45),\n ('says', 45),\n ('Our', 45),\n (\"man's\", 44),\n ('JOURNAL', 44),\n ('perhaps', 44),\n ('seen', 44),\n ('clear', 44),\n ('1,', 44),\n ('message', 44),\n ('Testament.', 44),\n ('faith,', 44),\n ('William', 44),\n ('One', 43),\n ('and,', 43),\n ('state', 43),\n ('letters', 43),\n ('Pauline', 43),\n ('especially', 43),\n ('them.', 43),\n ('she', 43),\n ('indeed', 43),\n ('either', 43),\n ('held', 43),\n ('religion', 43),\n ('At', 43),\n ('Here', 42),\n ('often', 42),\n ('knew', 42),\n ('missionary', 42),\n ('becomes', 42),\n ('understanding', 42),\n ('subject', 42),\n ('Palestine', 42),\n ('vicarious', 42),\n ('Dr.', 42),\n ('Gentiles', 42),\n ('reality', 41),\n ('natural', 41),\n ('...', 41),\n ('really', 41),\n ('final', 41),\n ('name', 41),\n ('least', 41),\n ('real', 41),\n ('hand,', 41),\n ('mind', 41),\n ('slave', 41),\n ('M.', 41),\n ('Saltmarsh', 41),\n ('County', 41),\n ('attempt', 40),\n ('comes', 40),\n ('political', 40),\n ('best', 40),\n ('go', 40),\n ('account', 40),\n ('again', 40),\n ('think', 40),\n ('E.', 40),\n ('Cumberland', 40),\n ('evidence', 39),\n ('read', 39),\n ('Some', 39),\n ('chosen', 39),\n ('wrote', 39),\n ('community', 39),\n ('IN', 38),\n ('neither', 38),\n ('Who', 38),\n ('works', 38),\n ('gave', 38),\n ('idea', 38),\n ('published', 38),\n ('R.', 38),\n ('Presbyterian', 38),\n ('show', 37),\n ('discussion', 37),\n ('ment', 37),\n ('passage', 37),\n ('ever', 37),\n ('Even', 37),\n ('call', 37),\n ('times', 37),\n ('having', 37),\n ('able', 37),\n ('relation', 37),\n ('disciples', 37),\n ('No', 37),\n ('de', 37),\n ('books', 36),\n ('certainly', 36),\n ('put', 36),\n ('Such', 36),\n ('appear', 36),\n ('further', 36),\n ('brought', 36),\n ('then,', 36),\n ('mentioned', 36),\n ('died', 36),\n ('takes', 36),\n ('basis', 36),\n ('earliest', 36),\n ('slavery', 36),\n ('Interpretation', 36),\n ('Gospels', 36),\n ('Common', 36),\n ('based', 35),\n ('person', 35),\n ('shows', 35),\n ('revelation', 35),\n ('knowledge', 35),\n ('right', 35),\n ('holy', 35),\n ('matter', 35),\n ('Bishop', 35),\n ('people,', 35),\n ('established', 35),\n ('Joseph', 35),\n ('Kingdom', 34),\n ('knows', 34),\n ('Rome', 34),\n ('bound', 34),\n ('them,', 34),\n ('basic', 34),\n ('experience', 34),\n ('statement', 34),\n ('example,', 34),\n ('special', 34),\n ('However,', 34),\n ('Covenant', 34),\n ('bring', 34),\n ('several', 34),\n ('Gentile', 34),\n ('See', 34),\n ('und', 34),\n ('regard', 33),\n ('(p.', 33),\n ('mission', 33),\n ('in-', 33),\n ('ing', 33),\n ('seem', 33),\n ('scholars', 33),\n ('faith.', 33),\n ('All', 33),\n ('taught', 33),\n ('away', 33),\n ('3', 33),\n ('preached', 33),\n ('year', 33),\n ('rule', 33),\n ('sin,', 33),\n ('writings', 33),\n ('et', 33),\n ('country', 33),\n ('facts', 33),\n ('des', 33),\n ('Baptized', 33),\n ('Alemany', 33),\n ('priesthood', 33),\n ('reference', 32),\n ('influence', 32),\n ('four', 32),\n ('today', 32),\n ('5', 32),\n ('4', 32),\n ('case', 32),\n ('points', 32),\n ('understood', 32),\n ('accepted', 32),\n ('Israel,', 32),\n ('days', 32),\n ('I,', 32),\n ('practice', 32),\n ('Father', 32),\n (\"Israel's\", 32),\n ('Are', 32),\n ('Dead\"', 32),\n ('\"Those', 32),\n ('Tennessee', 32),\n ('California', 32),\n ('regarded', 31),\n ('Romans', 31),\n ('hope', 31),\n ('past', 31),\n ('righteousness', 31),\n ('let', 31),\n ('heart', 31),\n ('spirit', 31),\n ('age', 31),\n ('victory', 31),\n ('story', 31),\n ('B.', 31),\n ('dead,', 31),\n ('priests', 31),\n ('hold', 31),\n ('An', 31),\n ('original', 31),\n ('personal', 31),\n ('law.', 31),\n ('Saltmarsh,', 31),\n ('connection', 30),\n ('felt', 30),\n ('done', 30),\n ('events', 30),\n ('sent', 30),\n ('Paul.', 30),\n ('speak', 30),\n ('source', 30),\n ('thing', 30),\n ('authority', 30),\n ('value', 30),\n ('turn', 30),\n ('establish', 30),\n ('rise', 30),\n ('man,', 30),\n ('thy', 30),\n ('Yet', 30),\n ('speaks', 30),\n ('Corinthians', 30),\n ('church.', 30),\n ('sermon', 30),\n ('Henry', 30),\n ('preacher', 30),\n ('q.', 30),\n ('small', 29),\n ('fact,', 29),\n ('sources', 29),\n ('While', 29),\n ('term', 29),\n ('note', 29),\n ('clearly', 29),\n ('earth', 29),\n ('moral', 29),\n ('throughout', 29),\n ('above', 29),\n ('hand', 29),\n ('9', 29),\n ('attitude', 29),\n ('variety', 29),\n ('neighbor', 29),\n ('opinion', 29),\n ('Man', 29),\n ('individual', 29),\n ('Luther', 29),\n ('First', 29),\n ('sermons', 29),\n ('hyper', 29),\n ('HISTORY', 29),\n ('left', 28),\n ('James', 28),\n ('anything', 28),\n ('com-', 28),\n ('ancient', 28),\n ('essential', 28),\n ('kind', 28),\n ('writing', 28),\n ('\"I', 28),\n ('concerned', 28),\n ('appeared', 28),\n ('task', 28),\n ('Scripture', 28),\n ('a.', 28),\n ('conception', 28),\n ('London', 28),\n ('Agape', 28),\n ('San', 28),\n ('Bk.', 28),\n ('von', 27),\n ('appears', 27),\n ('doubt', 27),\n ('course', 27),\n ('short', 27),\n ('difference', 27),\n ('beginning', 27),\n ('greater', 27),\n ('making', 27),\n ('manner', 27),\n ('face', 27),\n ('keep', 27),\n ('(Rom.', 27),\n ('emphasis', 27),\n ('desire', 27),\n ('7', 27),\n ('although', 27),\n ('states', 27),\n ('possible', 27),\n ('terms', 27),\n ('gift', 27),\n ('justification', 27),\n ('help', 27),\n ('serve', 27),\n (\"Lord's\", 27),\n ('believed', 27),\n ('covenant', 27),\n ('belief', 27),\n ('article', 27),\n ('G.', 27),\n ('similar', 27),\n ('Vol.', 27),\n ('Although', 27),\n ('College', 27),\n ('*', 27),\n ('fol.', 27),\n ('entirely', 26),\n ('existence', 26),\n ('center', 26),\n ('third', 26),\n ('family', 26),\n ('understand', 26),\n ('Gospel,', 26),\n ('all,', 26),\n ('With', 26),\n ('6', 26),\n ('which,', 26),\n ('earlier', 26),\n ('How', 26),\n ('remain', 26),\n ('except', 26),\n ('world.', 26),\n ('said,', 26),\n ('Divine', 26),\n ('presence', 26),\n ('words,', 26),\n ('1.', 26),\n ('Luke', 26),\n ('preach', 26),\n (\"Jowett's\", 26),\n ('members', 26),\n ('d.', 26),\n ('treatment', 25),\n ('him.', 25),\n ('back', 25),\n ('high', 25),\n ('regarding', 25),\n ('generally', 25),\n ('re-', 25),\n ('Religion', 25),\n ('Of', 25),\n ('led', 25),\n ('resurrection', 25),\n ('answer', 25),\n ('fully', 25),\n ('argument', 25),\n ('These', 25),\n ('next', 25),\n ('church,', 25),\n ('stand', 25),\n ('traditions', 25),\n ('world,', 25),\n ('8', 25),\n ('children', 25),\n ('love,', 25),\n ('history,', 25),\n ('rich', 25),\n ('together', 25),\n ('15', 25),\n ('him,', 25),\n ('ideas', 25),\n ('method', 25),\n ('change', 25),\n ('apostle', 25),\n (\"one's\", 25),\n ('freedom.', 25),\n ('significance', 25),\n ('Church.', 25),\n ('Kings', 25),\n ('recognized', 25),\n ('better', 25),\n ('methods', 25),\n ('Gentiles.', 25),\n ('American', 25),\n ('est', 25),\n ('interest', 24),\n ('time,', 24),\n ('support', 24),\n ('eschatological', 24),\n ('lost', 24),\n ('Press,', 24),\n ('groups', 24),\n ('recent', 24),\n ('theory', 24),\n ('expression', 24),\n ('shown', 24),\n ('witness', 24),\n ('revealed', 24),\n ('latter', 24),\n ('activity', 24),\n ('ff.', 24),\n ('intended', 24),\n ('particular', 24),\n ('Bible,', 24),\n ('situation', 24),\n ('why', 24),\n ('So', 24),\n ('L.', 24),\n ('Now', 24),\n ('various', 24),\n ('stories', 24),\n ('apostolic', 24),\n ('house', 24),\n ('faithful', 24),\n ('Jews,', 24),\n ('civil', 24),\n ('believers', 24),\n ('Devotio', 24),\n ('Tractatus,', 24),\n ('result', 23),\n ('movement', 23),\n ('hardly', 23),\n ('After', 23),\n ('late', 23),\n ('soon', 23),\n ('precisely', 23),\n ('sought', 23),\n ('place,', 23),\n ('16', 23),\n ('lived', 23),\n ('giving', 23),\n ('critical', 23),\n ('that,', 23),\n ('lives', 23),\n ('passed', 23),\n ('?', 23),\n ('Since', 23),\n ('expressed', 23),\n ('lies', 23),\n ('type', 23),\n ('who,', 23),\n ('described', 23),\n ('man.', 23),\n ('men.', 23),\n ('alone', 23),\n ('city', 23),\n ('history.', 23),\n ('minister', 23),\n ('D.', 23),\n ('Historical', 23),\n ('Protestant', 23),\n ('Die', 23),\n ('pro', 23),\n ('NEW', 23),\n ('Gabriel', 23),\n ('actual', 22),\n ('thereby', 22),\n ('imperial', 22),\n ('primitive', 22),\n ('demands', 22),\n ('Not', 22),\n ('lead', 22),\n ('heard', 22),\n ('carried', 22),\n ('centuries', 22),\n ('hear', 22),\n ('difficult', 22),\n ('philosophy', 22),\n ('primarily', 22),\n ('soul', 22),\n ('due', 22),\n ('3.', 22),\n ('liberty', 22),\n ('easy', 22),\n ('immediately', 22),\n ('rest', 22),\n ('questions', 22),\n ('20', 22),\n ('phrase', 22),\n ('entire', 22),\n ('namely,', 22),\n ('relationship', 22),\n ('seemed', 22),\n ('group', 22),\n ('native', 22),\n ('content', 22),\n ('went', 22),\n ('actually', 22),\n ('Rom.', 22),\n ('Moses', 22),\n ('prophets', 22),\n ('gospel.', 22),\n ('fellowship', 22),\n ('1950.', 22),\n ('clergy', 22),\n ('P.L.,', 22),\n ('ad', 22),\n ('Nygren', 22),\n ('owned', 22),\n (\"Biel's\", 22),\n ('r.', 22),\n ('deals', 21),\n ('reading', 21),\n ('series', 21),\n ('considered', 21),\n ('problems', 21),\n ('mention', 21),\n ('people.', 21),\n ('English', 21),\n ('\"to', 21),\n ('contemporary', 21),\n ('saw', 21),\n ('brief', 21),\n ('forces', 21),\n ('outside', 21),\n ('foreign', 21),\n ('offer', 21),\n ('reached', 21),\n ('lay', 21),\n ('BIBLICAL', 21),\n ('representative', 21),\n ('ministry', 21),\n ('death.', 21),\n ('death,', 21),\n ('stands', 21),\n ('thou', 21),\n ('turned', 21),\n ('cause', 21),\n ('Bible.', 21),\n ('remains', 21),\n ('Faith', 21),\n ('object', 21),\n ('central', 21),\n ('Son', 21),\n ('Mark', 21),\n ('receive', 21),\n ('Israel.', 21),\n ('Jerusalem,', 21),\n ('kingdom', 21),\n ('contained', 21),\n ('young', 21),\n ('York', 21),\n ('December', 21),\n ('land', 21),\n ('election', 21),\n ('General', 21),\n ('e', 21),\n ('sacrament', 21),\n ('TESTAMENT', 21),\n ('agape.', 21),\n ('raised', 20),\n ('calls', 20),\n ('claims', 20),\n ('analysis', 20),\n ('ground', 20),\n ('particularly', 20),\n ('indicate', 20),\n ('justice', 20),\n ('difficulties', 20),\n ('effort', 20),\n ('Western', 20),\n ('passages', 20),\n ('spread', 20),\n ('(I', 20),\n ('open', 20),\n ('men,', 20),\n ('enter', 20),\n ('truth,', 20),\n ('record', 20),\n ('this,', 20),\n ('close', 20),\n ('studies', 20),\n ('main', 20),\n ('P.', 20),\n ('Therefore,', 20),\n ('course,', 20),\n ('easily', 20),\n ('LIFE', 20),\n ('along', 20),\n ('anyone', 20),\n ('Word', 20),\n ('Council', 20),\n ('follows', 20),\n ('single', 20),\n ('structure', 20),\n ('body', 20),\n ('cf.', 20),\n ('sin.', 20),\n ('unless', 20),\n (')', 20),\n ('Matthew', 20),\n ('Cf.', 20),\n ('ready', 20),\n ('opinions', 20),\n ('offered', 20),\n ('universal', 20),\n ('danger', 20),\n ('missionaries', 20),\n ('Gospels,', 20),\n ('Gentiles,', 20),\n ('sacrifice', 20),\n ('Theology', 20),\n ('Army', 20),\n ('Brethren-House', 20),\n ('Jehovah', 20),\n ('literary', 19),\n ...]"
     },
     "execution_count": 67,
     "metadata": {},
     "output_type": "execute_result"
    }
   ],
   "source": [
    "sorted(c.items(), key=lambda kv: kv[1], reverse=True)"
   ],
   "metadata": {
    "collapsed": false,
    "pycharm": {
     "name": "#%%\n"
    }
   }
  },
  {
   "cell_type": "code",
   "execution_count": 73,
   "outputs": [],
   "source": [
    "#english stopwords...\n",
    "sp = spacy.load('en_core_web_sm')\n",
    "stop_words = sp.Defaults.stop_words"
   ],
   "metadata": {
    "collapsed": false,
    "pycharm": {
     "name": "#%%\n"
    }
   }
  },
  {
   "cell_type": "code",
   "execution_count": 74,
   "outputs": [
    {
     "data": {
      "text/plain": "set"
     },
     "execution_count": 74,
     "metadata": {},
     "output_type": "execute_result"
    }
   ],
   "source": [
    "type(stop_words)"
   ],
   "metadata": {
    "collapsed": false,
    "pycharm": {
     "name": "#%%\n"
    }
   }
  },
  {
   "cell_type": "code",
   "execution_count": 109,
   "outputs": [],
   "source": [
    "def get_tops(col, matchstring, n=10):\n",
    "    ids = ids_from_colvals(col, matchstring)\n",
    "    c = merge_data_from_ids(ids, unigramCount_dict)\n",
    "    c_tups = [el for el in c.items() if el[0].lower() not in list(stop_words) + [\".\", \"-\", \"\\\"\"]]\n",
    "    top10 = sorted(c_tups, key=lambda kv: kv[1], reverse=True)[:n]\n",
    "    return top10"
   ],
   "metadata": {
    "collapsed": false,
    "pycharm": {
     "name": "#%%\n"
    }
   }
  },
  {
   "cell_type": "code",
   "execution_count": 110,
   "outputs": [
    {
     "data": {
      "text/plain": "[('Paul', 409),\n ('God', 404),\n ('Testament', 339),\n ('Christian', 331),\n ('New', 281),\n ('Old', 279),\n ('p.', 260),\n ('Jesus', 248),\n ('man', 238),\n ('Christ', 237),\n ('Gospel', 233),\n ('life', 225),\n ('law', 208),\n ('love', 192),\n ('new', 173),\n ('Church', 170),\n ('St.', 168),\n (';', 167),\n ('men', 161),\n (\"God's\", 156)]"
     },
     "execution_count": 110,
     "metadata": {},
     "output_type": "execute_result"
    }
   ],
   "source": [
    "get_tops(\"publicationYear\", \"==1951\", 20)"
   ],
   "metadata": {
    "collapsed": false,
    "pycharm": {
     "name": "#%%\n"
    }
   }
  },
  {
   "cell_type": "code",
   "execution_count": 111,
   "outputs": [
    {
     "data": {
      "text/plain": "[('God', 5002),\n ('Paul', 3773),\n ('Christian', 3543),\n ('Christ', 3098),\n ('New', 2981),\n ('Church', 2966),\n ('Jesus', 2862),\n ('p.', 2506),\n ('life', 2377),\n ('St.', 2364)]"
     },
     "execution_count": 111,
     "metadata": {},
     "output_type": "execute_result"
    }
   ],
   "source": [
    "get_tops(\"publicationYear\", \".between(1950,1959)\")"
   ],
   "metadata": {
    "collapsed": false,
    "pycharm": {
     "name": "#%%\n"
    }
   }
  },
  {
   "cell_type": "code",
   "execution_count": 112,
   "outputs": [
    {
     "name": "stdout",
     "output_type": "stream",
     "text": [
      "1900,1909\n",
      "1910,1919\n",
      "1920,1929\n",
      "1930,1939\n",
      "1940,1949\n",
      "1950,1959\n",
      "1960,1969\n",
      "1970,1979\n",
      "1980,1989\n",
      "1990,1999\n"
     ]
    }
   ],
   "source": [
    "for decade_n in range(0,10):\n",
    "    print(\"19{0}0,19{0}9\".format(str(decade_n)))"
   ],
   "metadata": {
    "collapsed": false,
    "pycharm": {
     "name": "#%%\n"
    }
   }
  },
  {
   "cell_type": "code",
   "execution_count": 113,
   "outputs": [
    {
     "name": "stdout",
     "output_type": "stream",
     "text": [
      "1900,1909 [('Proc.', 3172), ('d.', 2347), (':', 2342), ('2', 2219), ('de', 2113), ('Jesus', 2013), ('u.', 1737), ('&', 1650), ('God', 1647), ('New', 1622), ('Christian', 1493), ('der', 1478), ('Paul', 1440), ('3', 1371), ('des', 1366), ('Testament', 1330), ('Christ', 1290), ('?', 1251), ('et', 1209), ('1', 1179)]\n",
      "1910,1919 [('Jesus', 1776), ('God', 1736), ('Christian', 1542), ('great', 1405), ('church', 1200), ('life', 1182), ('time', 1177), ('p.', 1171), ('man', 1128), ('Paul', 1126), ('New', 1096), ('religious', 950), ('Christ', 905), ('men', 893), ('shall', 878), ('?', 858), (';', 845), ('found', 812), ('new', 794), ('work', 787)]\n",
      "1920,1929 [('|', 7527), ('p.', 2363), ('pp.', 1682), ('New', 1568), (':', 1110), ('Christian', 1054), ('1', 900), ('work', 871), ('Paul', 852), ('St.', 845), (';', 811), ('great', 788), ('time', 764), ('God', 754), ('religious', 725), ('A.', 702), ('Jewish', 692), ('American', 683), (\"'\", 635), ('new', 629)]\n",
      "1930,1939 [('et', 2512), ('p.', 1790), ('God', 1426), ('Church', 1297), ('Christian', 1098), ('New', 1054), ('St.', 1007), ('de', 979), ('ad', 893), ('Jesus', 855), ('time', 849), ('great', 834), ('shall', 772), ('ac', 759), ('life', 729), ('work', 698), (',', 698), ('new', 696), ('church', 691), ('1', 689)]\n",
      "1940,1949 [('God', 3034), ('Christian', 2257), ('Paul', 2119), ('Christ', 1932), ('p.', 1885), ('Jesus', 1824), ('Church', 1800), ('New', 1604), ('’', 1596), ('St.', 1570), ('man', 1528), ('life', 1389), (';', 1367), ('time', 1277), ('great', 1229), ('men', 1189), ('world', 1139), ('work', 1131), ('new', 1108), ('pp.', 1103)]\n",
      "1950,1959 [('God', 5002), ('Paul', 3773), ('Christian', 3543), ('Christ', 3098), ('New', 2981), ('Church', 2966), ('Jesus', 2862), ('p.', 2506), ('life', 2377), ('St.', 2364), (';', 2200), (':', 2179), ('man', 2168), ('pp.', 2060), ('time', 2047), ('new', 2025), ('’', 1947), ('Testament', 1897), ('work', 1779), ('John', 1735)]\n",
      "1960,1969 [('God', 6859), ('Christian', 5452), ('Paul', 5017), ('p.', 4536), ('Christ', 4514), ('New', 4338), ('Jesus', 3872), ('Church', 3720), ('man', 3165), (':', 3052), ('life', 2978), ('St.', 2938), ('J.', 2878), ('pp.', 2876), ('1', 2785), (';', 2674), ('time', 2639), ('new', 2476), ('church', 2417), ('John', 2370)]\n",
      "1970,1979 [('God', 8668), ('Paul', 7863), ('p.', 7357), ('Christian', 7085), ('pp.', 6461), ('1', 6218), ('Christ', 5480), ('New', 5380), ('Jesus', 5060), ('Church', 4096), ('church', 4018), ('new', 3953), ('de', 3865), ('man', 3741), ('2', 3673), ('life', 3432), (':', 3383), ('Testament', 3235), ('J.', 3207), ('et', 3166)]\n",
      "1980,1989 [('God', 16217), ('Paul', 15768), ('Christian', 12641), ('1', 10552), ('Jesus', 9551), ('p.', 9398), ('Christ', 9162), ('New', 8361), ('pp.', 7651), ('church', 6936), (\"Paul's\", 6909), ('life', 6586), ('new', 6509), ('Church', 6054), ('Jewish', 5856), ('people', 5805), ('John', 5781), ('2', 5500), ('human', 5402), ('time', 5379)]\n",
      "1990,1999 [('Paul', 19595), ('God', 17776), ('Christian', 16304), ('1', 14460), ('New', 12540), ('Jesus', 11065), (',', 10060), ('Christ', 9389), ('Jewish', 9304), (\"Paul's\", 8677), ('p.', 8593), ('church', 8228), ('new', 7997), ('John', 7976), ('pp.', 7913), ('2', 7702), ('et', 7598), ('human', 7497), ('people', 7427), ('Testament', 7108)]\n"
     ]
    }
   ],
   "source": [
    "for decade_n in range(0,10):\n",
    "    decade = \"19{0}0,19{0}9\".format(str(decade_n))\n",
    "    print(decade, get_tops(\"publicationYear\", \".between({0})\".format(decade), 20))\n"
   ],
   "metadata": {
    "collapsed": false,
    "pycharm": {
     "name": "#%%\n"
    }
   }
  },
  {
   "cell_type": "code",
   "execution_count": 102,
   "outputs": [],
   "source": [
    "bigramCount_dict = pickle.load(open(\"../data/large_files/bigramCount_dict.pickle\", \"rb\"))"
   ],
   "metadata": {
    "collapsed": false,
    "pycharm": {
     "name": "#%%\n"
    }
   }
  },
  {
   "cell_type": "code",
   "execution_count": 107,
   "outputs": [],
   "source": [
    "def get_top_bigrams(col, matchstring, n=10):\n",
    "    ids = ids_from_colvals(col, matchstring)\n",
    "    c = merge_data_from_ids(ids, bigramCount_dict)\n",
    "    #c_tups = [el for el in c.items() if el[0].lower() not in list(stop_words)]\n",
    "    tops = sorted(c.items(), key=lambda kv: kv[1], reverse=True)[:n]\n",
    "    return tops"
   ],
   "metadata": {
    "collapsed": false,
    "pycharm": {
     "name": "#%%\n"
    }
   }
  },
  {
   "cell_type": "code",
   "execution_count": 108,
   "outputs": [
    {
     "name": "stdout",
     "output_type": "stream",
     "text": [
      "1900,1909 [('of the', 21104), ('in the', 8596), ('to the', 5662), ('and the', 3227), ('- -', 3015), ('. .', 2882), ('that the', 2608), ('on the', 2244), ('by the', 2183), ('to be', 2122)]\n",
      "1910,1919 [('of the', 18350), ('in the', 8101), ('to the', 5355), ('and the', 3300), ('that the', 2540), ('. .', 2416), ('on the', 2058), ('to be', 2054), ('from the', 2042), ('with the', 1988)]\n",
      "1920,1929 [('of the', 13452), ('in the', 5457), ('. .', 4018), ('to the', 3686), ('and the', 2241), ('on the', 1742), ('for the', 1564), ('with the', 1452), ('from the', 1426), ('by the', 1419)]\n",
      "1930,1939 [('of the', 13587), ('in the', 5959), ('to the', 4491), ('and the', 2441), ('that the', 1689), ('for the', 1599), ('by the', 1516), ('to be', 1460), ('with the', 1453), ('on the', 1420)]\n",
      "1940,1949 [('of the', 21661), ('in the', 9715), ('to the', 6489), ('and the', 3567), ('that the', 3104), ('to be', 2730), ('on the', 2425), ('for the', 2410), ('with the', 2384), ('by the', 2219)]\n",
      "1950,1959 [('of the', 37166), ('in the', 16252), ('to the', 10997), ('and the', 6345), ('that the', 5088), ('for the', 4542), ('to be', 4511), ('on the', 4047), ('with the', 3991), ('by the', 3894)]\n",
      "1960,1969 [('of the', 46702), ('in the', 20991), ('to the', 14574), ('and the', 8420), ('that the', 6978), ('to be', 5835), ('on the', 5446), ('for the', 5210), ('with the', 5179), ('by the', 4880)]\n",
      "1970,1979 [('of the', 63277), ('in the', 30173), ('to the', 20987), ('and the', 12386), ('that the', 9531), ('to be', 8192), ('on the', 8070), ('with the', 7458), ('for the', 7407), ('from the', 6585)]\n",
      "1980,1989 [('of the', 108262), ('in the', 50470), ('to the', 34712), ('and the', 21938), ('that the', 15045), ('to be', 14105), ('on the', 14087), ('for the', 12841), ('with the', 12612), ('from the', 11322)]\n",
      "1990,1999 [('of the', 140196), ('in the', 66595), ('to the', 45841), ('and the', 30077), ('that the', 20309), ('on the', 19401), ('to be', 16874), ('for the', 16502), ('with the', 16275), ('from the', 15060)]\n"
     ]
    }
   ],
   "source": [
    "for decade_n in range(0,10):\n",
    "    decade = \"19{0}0,19{0}9\".format(str(decade_n))\n",
    "    print(decade, get_top_bigrams(\"publicationYear\", \".between({0})\".format(decade), 10))"
   ],
   "metadata": {
    "collapsed": false,
    "pycharm": {
     "name": "#%%\n"
    }
   }
  },
  {
   "cell_type": "code",
   "execution_count": null,
   "outputs": [],
   "source": [],
   "metadata": {
    "collapsed": false,
    "pycharm": {
     "name": "#%%\n"
    }
   }
  }
 ],
 "metadata": {
  "kernelspec": {
   "display_name": "Python 3",
   "language": "python",
   "name": "python3"
  },
  "language_info": {
   "codemirror_mode": {
    "name": "ipython",
    "version": 2
   },
   "file_extension": ".py",
   "mimetype": "text/x-python",
   "name": "python",
   "nbconvert_exporter": "python",
   "pygments_lexer": "ipython2",
   "version": "2.7.6"
  }
 },
 "nbformat": 4,
 "nbformat_minor": 0
}