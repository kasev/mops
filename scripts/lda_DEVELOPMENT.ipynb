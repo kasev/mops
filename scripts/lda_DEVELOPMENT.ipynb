{
 "cells": [
  {
   "cell_type": "code",
   "execution_count": 24,
   "metadata": {
    "collapsed": true,
    "pycharm": {
     "name": "#%%\n"
    }
   },
   "outputs": [],
   "source": [
    "import pickle\n",
    "import numpy as np\n",
    "import pandas as pd\n",
    "from gensim.corpora import Dictionary\n",
    "import spacy\n",
    "from gensim.models.ldamulticore import LdaMulticore\n",
    "from gensim.test.utils import datapath"
   ]
  },
  {
   "cell_type": "code",
   "execution_count": 25,
   "outputs": [
    {
     "data": {
      "text/plain": "8"
     },
     "execution_count": 25,
     "metadata": {},
     "output_type": "execute_result"
    }
   ],
   "source": [
    "import multiprocessing\n",
    "multiprocessing.cpu_count()"
   ],
   "metadata": {
    "collapsed": false,
    "pycharm": {
     "name": "#%%\n"
    }
   }
  },
  {
   "cell_type": "code",
   "execution_count": 26,
   "outputs": [],
   "source": [
    "jstor_df = pd.read_feather(\"../data/large_files/jstor_df_v1.feather\")"
   ],
   "metadata": {
    "collapsed": false,
    "pycharm": {
     "name": "#%%\n"
    }
   }
  },
  {
   "cell_type": "code",
   "execution_count": 27,
   "outputs": [
    {
     "data": {
      "text/plain": "14103"
     },
     "execution_count": 27,
     "metadata": {},
     "output_type": "execute_result"
    }
   ],
   "source": [
    "len(jstor_df)"
   ],
   "metadata": {
    "collapsed": false,
    "pycharm": {
     "name": "#%%\n"
    }
   }
  },
  {
   "cell_type": "code",
   "execution_count": 28,
   "outputs": [
    {
     "data": {
      "text/plain": "                 creator datePublished  docType                           doi  \\\n0                     []    1959-10-01  article    10.1177/001452465907100107   \n1  [Victor Paul Furnish]    2009-01-01  chapter  10.1017/CBO9780511621321.003   \n2      [Leander E. Keck]    2015-01-01  chapter                          None   \n3   [LeAnn Snow Flesher]    2009-02-01  article    10.1177/003463730910600105   \n4      [A. Daunton-Fear]    1995-07-01  article    10.1177/0040571X9509800404   \n\n                        id                                         identifier  \\\n0  ark://27927/phx66812gq6  [{'name': 'doi', 'value': '10.1177/00145246590...   \n1   ark://27927/pbd6fpf5fh  [{'name': 'isbn', 'value': '9780511621321'}, {...   \n2  ark://27927/phw1kd8s300                                                 []   \n3  ark://27927/phx64fptrwj  [{'name': 'doi', 'value': '10.1177/00346373091...   \n4  ark://27927/phx64k1x5c2  [{'name': 'doi', 'value': '10.1177/0040571X950...   \n\n                                            isPartOf issueNumber  \\\n0                                   Expository Times           1   \n1     Jesus According to PaulJesus According to Paul        None   \n2                      Christ&#39;s First Theologian        None   \n3  Review & Expositor: An International Baptist J...           1   \n4                                           Theology         784   \n\n                                           keyphrase language  ... sequence  \\\n0  [omnipotent reigneth, god omnipotent, silence,...    [eng]  ...      7.0   \n1  [saying, books online, jesus tradition, pauls ...    [eng]  ...      5.0   \n2  [pharisaism, sandmel genius, judaism, rabbinic...    [eng]  ...      8.0   \n3  [scofield, premillennial, premillennial dispen...    [eng]  ...      5.0   \n4  [baptism, holy spirit, communion, infant bapti...    [eng]  ...      4.0   \n\n                                         tdmCategory  \\\n0  [Religion - Theology, Religion - Spiritual bel...   \n1  [History - Historical methodology, Religion - ...   \n2  [History - Historical methodology, Religion - ...   \n3  [Religion - Theology, Religion - Spiritual bel...   \n4              [Religion - Spiritual belief systems]   \n\n                                               title  \\\n0                                       In the Study   \n1               3 Sayings of Jesus in Paul's Letters   \n2                  3. The Quest for Pauls Pharisaism   \n3  The Historical Development of Premillennial Di...   \n4  Resisting the Tide Christian Initiation and Co...   \n\n                                            url volumeNumber wordCount  \\\n0     http://doi.org/10.1177/001452465907100107           71      7382   \n1  https://doi.org/10.1017/CBO9780511621321.003         None      8577   \n2                                          None         None      5354   \n3     http://doi.org/10.1177/003463730910600105          106      3614   \n4     http://doi.org/10.1177/0040571X9509800404           98      4323   \n\n   docSubType sourceCategory  subTitle hasPartTitle  \n0        None           None      None         None  \n1        None           None      None         None  \n2        None           None      None         None  \n3        None           None      None         None  \n4        None           None      None         None  \n\n[5 rows x 28 columns]",
      "text/html": "<div>\n<style scoped>\n    .dataframe tbody tr th:only-of-type {\n        vertical-align: middle;\n    }\n\n    .dataframe tbody tr th {\n        vertical-align: top;\n    }\n\n    .dataframe thead th {\n        text-align: right;\n    }\n</style>\n<table border=\"1\" class=\"dataframe\">\n  <thead>\n    <tr style=\"text-align: right;\">\n      <th></th>\n      <th>creator</th>\n      <th>datePublished</th>\n      <th>docType</th>\n      <th>doi</th>\n      <th>id</th>\n      <th>identifier</th>\n      <th>isPartOf</th>\n      <th>issueNumber</th>\n      <th>keyphrase</th>\n      <th>language</th>\n      <th>...</th>\n      <th>sequence</th>\n      <th>tdmCategory</th>\n      <th>title</th>\n      <th>url</th>\n      <th>volumeNumber</th>\n      <th>wordCount</th>\n      <th>docSubType</th>\n      <th>sourceCategory</th>\n      <th>subTitle</th>\n      <th>hasPartTitle</th>\n    </tr>\n  </thead>\n  <tbody>\n    <tr>\n      <th>0</th>\n      <td>[]</td>\n      <td>1959-10-01</td>\n      <td>article</td>\n      <td>10.1177/001452465907100107</td>\n      <td>ark://27927/phx66812gq6</td>\n      <td>[{'name': 'doi', 'value': '10.1177/00145246590...</td>\n      <td>Expository Times</td>\n      <td>1</td>\n      <td>[omnipotent reigneth, god omnipotent, silence,...</td>\n      <td>[eng]</td>\n      <td>...</td>\n      <td>7.0</td>\n      <td>[Religion - Theology, Religion - Spiritual bel...</td>\n      <td>In the Study</td>\n      <td>http://doi.org/10.1177/001452465907100107</td>\n      <td>71</td>\n      <td>7382</td>\n      <td>None</td>\n      <td>None</td>\n      <td>None</td>\n      <td>None</td>\n    </tr>\n    <tr>\n      <th>1</th>\n      <td>[Victor Paul Furnish]</td>\n      <td>2009-01-01</td>\n      <td>chapter</td>\n      <td>10.1017/CBO9780511621321.003</td>\n      <td>ark://27927/pbd6fpf5fh</td>\n      <td>[{'name': 'isbn', 'value': '9780511621321'}, {...</td>\n      <td>Jesus According to PaulJesus According to Paul</td>\n      <td>None</td>\n      <td>[saying, books online, jesus tradition, pauls ...</td>\n      <td>[eng]</td>\n      <td>...</td>\n      <td>5.0</td>\n      <td>[History - Historical methodology, Religion - ...</td>\n      <td>3 Sayings of Jesus in Paul's Letters</td>\n      <td>https://doi.org/10.1017/CBO9780511621321.003</td>\n      <td>None</td>\n      <td>8577</td>\n      <td>None</td>\n      <td>None</td>\n      <td>None</td>\n      <td>None</td>\n    </tr>\n    <tr>\n      <th>2</th>\n      <td>[Leander E. Keck]</td>\n      <td>2015-01-01</td>\n      <td>chapter</td>\n      <td>None</td>\n      <td>ark://27927/phw1kd8s300</td>\n      <td>[]</td>\n      <td>Christ&amp;#39;s First Theologian</td>\n      <td>None</td>\n      <td>[pharisaism, sandmel genius, judaism, rabbinic...</td>\n      <td>[eng]</td>\n      <td>...</td>\n      <td>8.0</td>\n      <td>[History - Historical methodology, Religion - ...</td>\n      <td>3. The Quest for Pauls Pharisaism</td>\n      <td>None</td>\n      <td>None</td>\n      <td>5354</td>\n      <td>None</td>\n      <td>None</td>\n      <td>None</td>\n      <td>None</td>\n    </tr>\n    <tr>\n      <th>3</th>\n      <td>[LeAnn Snow Flesher]</td>\n      <td>2009-02-01</td>\n      <td>article</td>\n      <td>10.1177/003463730910600105</td>\n      <td>ark://27927/phx64fptrwj</td>\n      <td>[{'name': 'doi', 'value': '10.1177/00346373091...</td>\n      <td>Review &amp; Expositor: An International Baptist J...</td>\n      <td>1</td>\n      <td>[scofield, premillennial, premillennial dispen...</td>\n      <td>[eng]</td>\n      <td>...</td>\n      <td>5.0</td>\n      <td>[Religion - Theology, Religion - Spiritual bel...</td>\n      <td>The Historical Development of Premillennial Di...</td>\n      <td>http://doi.org/10.1177/003463730910600105</td>\n      <td>106</td>\n      <td>3614</td>\n      <td>None</td>\n      <td>None</td>\n      <td>None</td>\n      <td>None</td>\n    </tr>\n    <tr>\n      <th>4</th>\n      <td>[A. Daunton-Fear]</td>\n      <td>1995-07-01</td>\n      <td>article</td>\n      <td>10.1177/0040571X9509800404</td>\n      <td>ark://27927/phx64k1x5c2</td>\n      <td>[{'name': 'doi', 'value': '10.1177/0040571X950...</td>\n      <td>Theology</td>\n      <td>784</td>\n      <td>[baptism, holy spirit, communion, infant bapti...</td>\n      <td>[eng]</td>\n      <td>...</td>\n      <td>4.0</td>\n      <td>[Religion - Spiritual belief systems]</td>\n      <td>Resisting the Tide Christian Initiation and Co...</td>\n      <td>http://doi.org/10.1177/0040571X9509800404</td>\n      <td>98</td>\n      <td>4323</td>\n      <td>None</td>\n      <td>None</td>\n      <td>None</td>\n      <td>None</td>\n    </tr>\n  </tbody>\n</table>\n<p>5 rows × 28 columns</p>\n</div>"
     },
     "execution_count": 28,
     "metadata": {},
     "output_type": "execute_result"
    }
   ],
   "source": [
    "jstor_df.head(5)"
   ],
   "metadata": {
    "collapsed": false,
    "pycharm": {
     "name": "#%%\n"
    }
   }
  },
  {
   "cell_type": "code",
   "execution_count": 29,
   "outputs": [
    {
     "data": {
      "text/plain": "14096"
     },
     "execution_count": 29,
     "metadata": {},
     "output_type": "execute_result"
    }
   ],
   "source": [
    "# in english only?\n",
    "jstor_df[\"language\"].apply(lambda x: (\"eng\" in x) & (len(x)==1)).sum()"
   ],
   "metadata": {
    "collapsed": false,
    "pycharm": {
     "name": "#%%\n"
    }
   }
  },
  {
   "cell_type": "code",
   "execution_count": 30,
   "outputs": [],
   "source": [
    "article_ids_dict = pickle.load(open(\"../data/article_ids_dict.pickle\", \"rb\"))"
   ],
   "metadata": {
    "collapsed": false,
    "pycharm": {
     "name": "#%%\n"
    }
   }
  },
  {
   "cell_type": "code",
   "execution_count": 44,
   "outputs": [
    {
     "data": {
      "text/plain": "43945"
     },
     "execution_count": 44,
     "metadata": {},
     "output_type": "execute_result"
    }
   ],
   "source": [
    "dictionary = pickle.load(open(\"../data/dictionary_main.pickle\", \"rb\"))\n",
    "len(dictionary)"
   ],
   "metadata": {
    "collapsed": false,
    "pycharm": {
     "name": "#%%\n"
    }
   }
  },
  {
   "cell_type": "code",
   "execution_count": 39,
   "outputs": [],
   "source": [
    "class FriendlyCorpus:\n",
    "    def __iter__(self):\n",
    "        for id in ids:\n",
    "            short_id_str = str(article_ids_dict[id])\n",
    "            id_filepath = \"../data/large_files/article_docs/{}.pickle\".format(short_id_str)\n",
    "            for doc in pickle.load(open(id_filepath, \"rb\")):\n",
    "                yield doc"
   ],
   "metadata": {
    "collapsed": false,
    "pycharm": {
     "name": "#%%\n"
    }
   }
  },
  {
   "cell_type": "code",
   "execution_count": 40,
   "outputs": [
    {
     "name": "stdout",
     "output_type": "stream",
     "text": [
      "<__main__.FriendlyCorpus object at 0x286321280>\n"
     ]
    }
   ],
   "source": [
    "ids = jstor_df[\"id\"].tolist()\n",
    "corpus = FriendlyCorpus()  # doesn't load the corpus into memory!\n",
    "print(corpus)"
   ],
   "metadata": {
    "collapsed": false,
    "pycharm": {
     "name": "#%%\n"
    }
   }
  },
  {
   "cell_type": "code",
   "execution_count": 41,
   "outputs": [],
   "source": [
    "dct_corpus = Dictionary.from_corpus(corpus, id2word=dictionary)"
   ],
   "metadata": {
    "collapsed": false,
    "pycharm": {
     "name": "#%%\n"
    }
   }
  },
  {
   "cell_type": "code",
   "execution_count": 57,
   "outputs": [
    {
     "data": {
      "text/plain": "10574"
     },
     "execution_count": 57,
     "metadata": {},
     "output_type": "execute_result"
    }
   ],
   "source": [
    "dct_corpus.token2id[\"New_Testament\"]"
   ],
   "metadata": {
    "collapsed": false,
    "pycharm": {
     "name": "#%%\n"
    }
   }
  },
  {
   "cell_type": "code",
   "execution_count": 59,
   "outputs": [
    {
     "data": {
      "text/plain": "59456"
     },
     "execution_count": 59,
     "metadata": {},
     "output_type": "execute_result"
    }
   ],
   "source": [
    "dct_corpus.dfs[10574]"
   ],
   "metadata": {
    "collapsed": false,
    "pycharm": {
     "name": "#%%\n"
    }
   }
  },
  {
   "cell_type": "code",
   "execution_count": 42,
   "outputs": [],
   "source": [
    "vocabulary = list(dct_corpus.values())"
   ],
   "metadata": {
    "collapsed": false,
    "pycharm": {
     "name": "#%%\n"
    }
   }
  },
  {
   "cell_type": "code",
   "execution_count": 45,
   "outputs": [
    {
     "data": {
      "text/plain": "43945"
     },
     "execution_count": 45,
     "metadata": {},
     "output_type": "execute_result"
    }
   ],
   "source": [
    "len(dct_corpus)"
   ],
   "metadata": {
    "collapsed": false,
    "pycharm": {
     "name": "#%%\n"
    }
   }
  },
  {
   "cell_type": "code",
   "execution_count": 46,
   "outputs": [
    {
     "name": "stderr",
     "output_type": "stream",
     "text": [
      "<frozen importlib._bootstrap>:228: RuntimeWarning: scipy._lib.messagestream.MessageStream size changed, may indicate binary incompatibility. Expected 56 from C header, got 64 from PyObject\n",
      "<frozen importlib._bootstrap>:228: RuntimeWarning: scipy._lib.messagestream.MessageStream size changed, may indicate binary incompatibility. Expected 56 from C header, got 64 from PyObject\n",
      "<frozen importlib._bootstrap>:228: RuntimeWarning: scipy._lib.messagestream.MessageStream size changed, may indicate binary incompatibility. Expected 56 from C header, got 64 from PyObject\n",
      "<frozen importlib._bootstrap>:228: RuntimeWarning: scipy._lib.messagestream.MessageStream size changed, may indicate binary incompatibility. Expected 56 from C header, got 64 from PyObject\n",
      "<frozen importlib._bootstrap>:228: RuntimeWarning: scipy._lib.messagestream.MessageStream size changed, may indicate binary incompatibility. Expected 56 from C header, got 64 from PyObject\n",
      "<frozen importlib._bootstrap>:228: RuntimeWarning: scipy._lib.messagestream.MessageStream size changed, may indicate binary incompatibility. Expected 56 from C header, got 64 from PyObject\n",
      "<frozen importlib._bootstrap>:228: RuntimeWarning: scipy._lib.messagestream.MessageStream size changed, may indicate binary incompatibility. Expected 56 from C header, got 64 from PyObject\n"
     ]
    },
    {
     "name": "stdout",
     "output_type": "stream",
     "text": [
      "CPU times: user 3min 7s, sys: 51.3 s, total: 3min 58s\n",
      "Wall time: 4min 37s\n"
     ]
    }
   ],
   "source": [
    "%%time\n",
    "lda = LdaMulticore(corpus, num_topics=10, id2word=dct_corpus)"
   ],
   "metadata": {
    "collapsed": false,
    "pycharm": {
     "name": "#%%\n"
    }
   }
  },
  {
   "cell_type": "code",
   "execution_count": 50,
   "outputs": [
    {
     "data": {
      "text/plain": "[(0,\n  '0.133*\"God\" + 0.037*\"life\" + 0.032*\"early\" + 0.022*\"way\" + 0.018*\"tradition\" + 0.017*\"study\" + 0.016*\"order\" + 0.015*\"death\" + 0.013*\"nature\" + 0.011*\"old\" + 0.010*\"der\" + 0.008*\"final\" + 0.008*\"role\" + 0.008*\"state\" + 0.008*\"Scripture\" + 0.008*\"literary\" + 0.007*\"follow\" + 0.007*\"period\" + 0.007*\"ing\" + 0.007*\"movement\" + 0.007*\"eternal\" + 0.006*\"age\" + 0.006*\"bring\" + 0.006*\"resurrection\" + 0.006*\"Son\" + 0.006*\"year\" + 0.006*\"Father\" + 0.006*\"revelation\" + 0.006*\"local\" + 0.005*\"Robert\" + 0.005*\"remain\" + 0.005*\"righteousness\" + 0.005*\"section\" + 0.005*\"interest\" + 0.005*\"white\" + 0.005*\"theory\" + 0.005*\"vision\" + 0.005*\"process\" + 0.005*\"scholarship\" + 0.005*\"bishop\" + 0.004*\"desire\" + 0.004*\"short\" + 0.004*\"system\" + 0.004*\"house\" + 0.004*\"inner\" + 0.004*\"outside\" + 0.004*\"poor\" + 0.004*\"Review\" + 0.004*\"importance\" + 0.004*\"suggest\" + 0.004*\"Origen\" + 0.004*\"Historical\" + 0.004*\"actual\" + 0.004*\"brother\" + 0.004*\"command\" + 0.004*\"sent\" + 0.004*\"speech\" + 0.003*\"unto\" + 0.003*\"Seminary\" + 0.003*\"draw\" + 0.003*\"war\" + 0.003*\"treatment\" + 0.003*\"previous\" + 0.003*\"Pope\" + 0.003*\"near\" + 0.003*\"play\" + 0.003*\"parallel\" + 0.003*\"ethical\" + 0.003*\"student\" + 0.003*\"unique\" + 0.003*\"International\" + 0.003*\"Mother\" + 0.003*\"edit\" + 0.003*\"virtue\" + 0.003*\"fear\" + 0.003*\"subsequent\" + 0.003*\"Aquinas\" + 0.003*\"raise\" + 0.002*\"avoid\" + 0.002*\"van\" + 0.002*\"clergy\" + 0.002*\"Matthews\" + 0.002*\"available\" + 0.002*\"Satan\" + 0.002*\"pages\" + 0.002*\"mystery\" + 0.002*\"Churches\" + 0.002*\"peoples\" + 0.002*\"eat\" + 0.002*\"leading\" + 0.002*\"demonstrate\" + 0.002*\"calling\" + 0.002*\"equal\" + 0.002*\"oral\" + 0.002*\"rest\" + 0.002*\"Series\" + 0.002*\"creative\" + 0.002*\"relevant\" + 0.002*\"passion\" + 0.002*\"worthy\" + 0.002*\"spoke\" + 0.002*\"monastic\" + 0.002*\"Conference\" + 0.002*\"characteristic\" + 0.002*\"tions\" + 0.002*\"contrary\" + 0.002*\"gain\" + 0.002*\"hands\" + 0.002*\"Apostles\" + 0.002*\"encounter\" + 0.002*\"parts\" + 0.002*\"beloved\" + 0.002*\"formula\" + 0.002*\"shift\" + 0.002*\"Princeton\" + 0.002*\"usage\" + 0.002*\"devotion\" + 0.002*\"quality\" + 0.002*\"strategy\" + 0.002*\"Russian\" + 0.002*\"Geschichte\" + 0.002*\"drink\" + 0.002*\"expect\" + 0.002*\"August\" + 0.002*\"sex\" + 0.002*\"deny\" + 0.002*\"apply\" + 0.002*\"effective\" + 0.002*\"household\" + 0.001*\"promises\" + 0.001*\"Germany\" + 0.001*\"assembly\" + 0.001*\"introductory\" + 0.001*\"failure\" + 0.001*\"Ephesus\" + 0.001*\"occasion\" + 0.001*\"construction\" + 0.001*\"kingdom\" + 0.001*\"National\" + 0.001*\"seventh\" + 0.001*\"Prayer\" + 0.001*\"crisis\" + 0.001*\"covenantal\" + 0.001*\"Rabbi\" + 0.001*\"correspondence\" + 0.001*\"cover\" + 0.001*\"Pastoral\" + 0.001*\"composition\" + 0.001*\"aid\" + 0.001*\"step\" + 0.001*\"Ben\" + 0.001*\"stress\" + 0.001*\"ideological\" + 0.001*\"Collins\" + 0.001*\"eating\" + 0.001*\"vital\" + 0.001*\"everyday\" + 0.001*\"threat\" + 0.001*\"willing\" + 0.001*\"circle\" + 0.001*\"Pentecost\" + 0.001*\"parish\" + 0.001*\"friendship\" + 0.001*\"usual\" + 0.001*\"analogy\" + 0.001*\"sick\" + 0.001*\"recognition\" + 0.001*\"hellenistic\" + 0.001*\"walk\" + 0.001*\"commandments\" + 0.001*\"Identity\" + 0.001*\"ness\" + 0.001*\"Eucharist\" + 0.001*\"grant\" + 0.001*\"animals\" + 0.001*\"Allen\" + 0.001*\"Common\" + 0.001*\"construct\" + 0.001*\"presence\" + 0.001*\"adultery\" + 0.001*\"1980\" + 0.001*\"Justice\" + 0.001*\"mercy\" + 0.001*\"Men\" + 0.001*\"comparative\" + 0.001*\"transcendent\" + 0.001*\"Ministry\" + 0.001*\"Friedrich\" + 0.001*\"Movement\" + 0.001*\"music\" + 0.001*\"Britain\" + 0.001*\"wonder\" + 0.001*\"copy\" + 0.001*\"Mitchell\" + 0.001*\"determined\" + 0.001*\"interpreting\" + 0.001*\"chap\" + 0.001*\"Pennsylvania\" + 0.001*\"reconstruction\" + 0.001*\"patriarchal\"'),\n (1,\n  '0.066*\"Jesus\" + 0.029*\"human\" + 0.024*\"New\" + 0.024*\"work\" + 0.020*\"great\" + 0.019*\"word\" + 0.016*\"Christ\" + 0.015*\"Jews\" + 0.014*\"present\" + 0.012*\"reading\" + 0.011*\"find\" + 0.010*\"Christs\" + 0.010*\"term\" + 0.010*\"says\" + 0.010*\"words\" + 0.009*\"teaching\" + 0.009*\"meaning\" + 0.009*\"things\" + 0.008*\"literature\" + 0.008*\"Hebrew\" + 0.008*\"narrative\" + 0.007*\"traditional\" + 0.007*\"Acts\" + 0.007*\"Pauline\" + 0.006*\"des\" + 0.006*\"years\" + 0.006*\"case\" + 0.006*\"reference\" + 0.006*\"source\" + 0.006*\"mind\" + 0.006*\"Society\" + 0.006*\"creation\" + 0.006*\"Joseph\" + 0.006*\"attention\" + 0.006*\"ministry\" + 0.005*\"Saint\" + 0.005*\"development\" + 0.005*\"away\" + 0.005*\"Richard\" + 0.005*\"theme\" + 0.005*\"large\" + 0.005*\"heaven\" + 0.005*\"heart\" + 0.005*\"sacred\" + 0.005*\"freedom\" + 0.005*\"unity\" + 0.005*\"help\" + 0.005*\"Matt\" + 0.004*\"far\" + 0.004*\"expression\" + 0.004*\"saying\" + 0.004*\"kingdom\" + 0.004*\"edition\" + 0.004*\"statement\" + 0.004*\"passages\" + 0.004*\"beings\" + 0.004*\"North\" + 0.004*\"focus\" + 0.004*\"published\" + 0.004*\"flesh\" + 0.004*\"Gentiles\" + 0.004*\"glory\" + 0.003*\"function\" + 0.003*\"explain\" + 0.003*\"Great\" + 0.003*\"seen\" + 0.003*\"Leiden\" + 0.003*\"face\" + 0.003*\"thinking\" + 0.003*\"deal\" + 0.003*\"days\" + 0.003*\"Fathers\" + 0.003*\"Torah\" + 0.003*\"Middle\" + 0.003*\"verse\" + 0.003*\"events\" + 0.003*\"Bible\" + 0.003*\"origin\" + 0.003*\"coming\" + 0.003*\"Philo\" + 0.003*\"Gen\" + 0.003*\"race\" + 0.003*\"lives\" + 0.003*\"students\" + 0.003*\"fall\" + 0.003*\"government\" + 0.003*\"Indian\" + 0.003*\"Andrew\" + 0.003*\"interesting\" + 0.003*\"Brill\" + 0.003*\"active\" + 0.002*\"union\" + 0.002*\"Islam\" + 0.002*\"patristic\" + 0.002*\"died\" + 0.002*\"rise\" + 0.002*\"Scriptures\" + 0.002*\"opinion\" + 0.002*\"Vol\" + 0.002*\"angels\" + 0.002*\"names\" + 0.002*\"era\" + 0.002*\"Clark\" + 0.002*\"images\" + 0.002*\"offering\" + 0.002*\"Corinth\" + 0.002*\"bread\" + 0.002*\"choice\" + 0.002*\"Edinburgh\" + 0.002*\"global\" + 0.002*\"recognize\" + 0.002*\"bodies\" + 0.002*\"minister\" + 0.002*\"Alexander\" + 0.002*\"responsibility\" + 0.002*\"convert\" + 0.002*\"page\" + 0.002*\"blessing\" + 0.002*\"schools\" + 0.002*\"brothers\" + 0.002*\"June\" + 0.002*\"associated\" + 0.002*\"chosen\" + 0.002*\"limited\" + 0.002*\"Puritan\" + 0.002*\"followers\" + 0.002*\"majority\" + 0.002*\"add\" + 0.002*\"promised\" + 0.002*\"independent\" + 0.002*\"standing\" + 0.002*\"preachers\" + 0.002*\"Simon\" + 0.002*\"par\" + 0.002*\"1990\" + 0.002*\"ongoing\" + 0.002*\"additional\" + 0.002*\"Nashville\" + 0.002*\"council\" + 0.002*\"emphasize\" + 0.002*\"business\" + 0.002*\"fol\" + 0.002*\"ethics\" + 0.002*\"shown\" + 0.002*\"lose\" + 0.001*\"Ages\" + 0.001*\"Sheffield\" + 0.001*\"Philosophy\" + 0.001*\"sunt\" + 0.001*\"tree\" + 0.001*\"english\" + 0.001*\"Syriac\" + 0.001*\"Ethics\" + 0.001*\"Covenant\" + 0.001*\"victory\" + 0.001*\"quae\" + 0.001*\"increase\" + 0.001*\"widespread\" + 0.001*\"Sanders\" + 0.001*\"record\" + 0.001*\"low\" + 0.001*\"Spiritual\" + 0.001*\"extraordinary\" + 0.001*\"December\" + 0.001*\"Americans\" + 0.001*\"rejection\" + 0.001*\"Irish\" + 0.001*\"capital\" + 0.001*\"superior\" + 0.001*\"distinguish\" + 0.001*\"Yale\" + 0.001*\"perform\" + 0.001*\"Baptists\" + 0.001*\"orthodoxy\" + 0.001*\"membership\" + 0.001*\"sight\" + 0.001*\"publication\" + 0.001*\"Thou\" + 0.001*\"enemy\" + 0.001*\"humble\" + 0.001*\"Israelites\" + 0.001*\"merit\" + 0.001*\"unlike\" + 0.001*\"creatures\" + 0.001*\"emerge\" + 0.001*\"possession\" + 0.001*\"Aristotle\" + 0.001*\"papal\" + 0.001*\"latin\" + 0.001*\"thousand\" + 0.001*\"evident\" + 0.001*\"scriptures\" + 0.001*\"keeping\" + 0.001*\"chose\" + 0.001*\"November\" + 0.001*\"Cardinal\" + 0.001*\"advanced\" + 0.001*\"Palestinian\" + 0.001*\"Abingdon\" + 0.001*\"Talmud\"'),\n (2,\n  '0.031*\"religious\" + 0.024*\"like\" + 0.020*\"Romans\" + 0.016*\"American\" + 0.016*\"Israel\" + 0.014*\"interpretation\" + 0.014*\"body\" + 0.013*\"ancient\" + 0.011*\"certain\" + 0.010*\"practice\" + 0.009*\"little\" + 0.009*\"personal\" + 0.008*\"Rome\" + 0.008*\"story\" + 0.008*\"approach\" + 0.008*\"cultural\" + 0.008*\"offer\" + 0.008*\"evil\" + 0.008*\"material\" + 0.007*\"trans\" + 0.007*\"Mary\" + 0.007*\"terms\" + 0.007*\"group\" + 0.007*\"History\" + 0.007*\"Second\" + 0.007*\"York\" + 0.007*\"critical\" + 0.007*\"concern\" + 0.007*\"position\" + 0.006*\"matter\" + 0.006*\"Temple\" + 0.006*\"today\" + 0.006*\"commentary\" + 0.006*\"children\" + 0.005*\"main\" + 0.005*\"ritual\" + 0.005*\"begin\" + 0.005*\"strong\" + 0.005*\"physical\" + 0.005*\"direct\" + 0.005*\"Die\" + 0.005*\"von\" + 0.005*\"promise\" + 0.005*\"earth\" + 0.005*\"Baptist\" + 0.004*\"medieval\" + 0.004*\"saw\" + 0.004*\"Isaiah\" + 0.004*\"Divine\" + 0.004*\"want\" + 0.004*\"child\" + 0.004*\"scriptural\" + 0.004*\"force\" + 0.004*\"exegetical\" + 0.004*\"philosophical\" + 0.004*\"deep\" + 0.004*\"debate\" + 0.004*\"teach\" + 0.003*\"priests\" + 0.003*\"writers\" + 0.003*\"places\" + 0.003*\"mother\" + 0.003*\"obedience\" + 0.003*\"literal\" + 0.003*\"basis\" + 0.003*\"national\" + 0.003*\"disciples\" + 0.003*\"style\" + 0.003*\"Love\" + 0.003*\"water\" + 0.003*\"dialogue\" + 0.003*\"Southern\" + 0.003*\"Hebrews\" + 0.003*\"Antioch\" + 0.003*\"content\" + 0.003*\"class\" + 0.003*\"tell\" + 0.003*\"complex\" + 0.003*\"taking\" + 0.003*\"Quarterly\" + 0.003*\"allow\" + 0.002*\"alternative\" + 0.002*\"produce\" + 0.002*\"doctrinal\" + 0.002*\"nation\" + 0.002*\"Chrysostom\" + 0.002*\"saints\" + 0.002*\"plan\" + 0.002*\"useful\" + 0.002*\"movements\" + 0.002*\"mere\" + 0.002*\"figures\" + 0.002*\"heard\" + 0.002*\"principles\" + 0.002*\"Chicago\" + 0.002*\"Medieval\" + 0.002*\"document\" + 0.002*\"den\" + 0.002*\"communal\" + 0.002*\"numerous\" + 0.002*\"Introduction\" + 0.002*\"differences\" + 0.002*\"authorities\" + 0.002*\"explanation\" + 0.002*\"Good\" + 0.002*\"India\" + 0.002*\"reception\" + 0.002*\"topic\" + 0.002*\"strength\" + 0.002*\"half\" + 0.002*\"thee\" + 0.002*\"judge\" + 0.002*\"meet\" + 0.002*\"Wisdom\" + 0.002*\"purity\" + 0.002*\"appearance\" + 0.002*\"eyes\" + 0.002*\"academic\" + 0.002*\"sons\" + 0.002*\"link\" + 0.002*\"population\" + 0.002*\"identified\" + 0.002*\"decision\" + 0.002*\"ascetic\" + 0.002*\"interpretive\" + 0.002*\"systematic\" + 0.002*\"court\" + 0.002*\"Power\" + 0.002*\"holiness\" + 0.002*\"Thessalonians\" + 0.002*\"Today\" + 0.002*\"rite\" + 0.002*\"colonial\" + 0.002*\"Johann\" + 0.002*\"cite\" + 0.002*\"Union\" + 0.002*\"Institute\" + 0.002*\"profound\" + 0.002*\"Muslims\" + 0.002*\"racial\" + 0.002*\"Sabbath\" + 0.002*\"table\" + 0.002*\"commandment\" + 0.002*\"liberty\" + 0.002*\"demand\" + 0.001*\"idem\" + 0.001*\"primitive\" + 0.001*\"logic\" + 0.001*\"equality\" + 0.001*\"precise\" + 0.001*\"fashion\" + 0.001*\"striking\" + 0.001*\"easy\" + 0.001*\"sentence\" + 0.001*\"comparison\" + 0.001*\"tian\" + 0.001*\"separation\" + 0.001*\"identification\" + 0.001*\"labor\" + 0.001*\"impact\" + 0.001*\"favor\" + 0.001*\"influential\" + 0.001*\"mass\" + 0.001*\"Pharisees\" + 0.001*\"battle\" + 0.001*\"heresy\" + 0.001*\"112\" + 0.001*\"legitimate\" + 0.001*\"supreme\" + 0.001*\"engagement\" + 0.001*\"China\" + 0.001*\"corpus\" + 0.001*\"error\" + 0.001*\"meal\" + 0.001*\"consideration\" + 0.001*\"hearts\" + 0.001*\"Plato\" + 0.001*\"continuity\" + 0.001*\"sake\" + 0.001*\"observance\" + 0.001*\"rites\" + 0.001*\"manifest\" + 0.001*\"Virgin\" + 0.001*\"restore\" + 0.001*\"observation\" + 0.001*\"Stanley\" + 0.001*\"pride\" + 0.001*\"confessional\" + 0.001*\"consistent\" + 0.001*\"subjects\" + 0.001*\"Age\" + 0.001*\"heritage\" + 0.001*\"awareness\" + 0.001*\"Academy\" + 0.001*\"elite\" + 0.001*\"Protestantism\" + 0.001*\"exposition\" + 0.001*\"expectation\" + 0.001*\"affairs\" + 0.001*\"display\"'),\n (3,\n  '0.039*\"new\" + 0.021*\"saint\" + 0.019*\"love\" + 0.013*\"sense\" + 0.013*\"view\" + 0.012*\"particular\" + 0.011*\"und\" + 0.011*\"moral\" + 0.011*\"understanding\" + 0.011*\"Peter\" + 0.010*\"found\" + 0.009*\"given\" + 0.009*\"public\" + 0.008*\"long\" + 0.008*\"right\" + 0.008*\"note\" + 0.008*\"non\" + 0.008*\"scripture\" + 0.008*\"Journal\" + 0.008*\"similar\" + 0.008*\"Theological\" + 0.007*\"account\" + 0.007*\"Latin\" + 0.007*\"New_Testament\" + 0.007*\"natural\" + 0.007*\"worship\" + 0.007*\"issue\" + 0.007*\"King\" + 0.007*\"clear\" + 0.006*\"African\" + 0.006*\"accord\" + 0.006*\"status\" + 0.006*\"problem\" + 0.006*\"Philadelphia\" + 0.005*\"key\" + 0.005*\"members\" + 0.005*\"black\" + 0.005*\"Luthers\" + 0.005*\"belief\" + 0.005*\"South\" + 0.005*\"emphasis\" + 0.005*\"significant\" + 0.005*\"known\" + 0.005*\"situation\" + 0.005*\"event\" + 0.005*\"sources\" + 0.005*\"message\" + 0.004*\"brief\" + 0.004*\"Fortress\" + 0.004*\"conversion\" + 0.004*\"leaders\" + 0.004*\"apostolic\" + 0.004*\"school\" + 0.004*\"appear\" + 0.004*\"past\" + 0.004*\"criticism\" + 0.004*\"hold\" + 0.004*\"introduction\" + 0.004*\"presence\" + 0.004*\"discourse\" + 0.004*\"look\" + 0.004*\"model\" + 0.004*\"activity\" + 0.004*\"Minneapolis\" + 0.004*\"male\" + 0.004*\"canon\" + 0.004*\"Genesis\" + 0.003*\"textual\" + 0.003*\"temple\" + 0.003*\"aspect\" + 0.003*\"difference\" + 0.003*\"create\" + 0.003*\"views\" + 0.003*\"leadership\" + 0.003*\"giving\" + 0.003*\"birth\" + 0.003*\"secular\" + 0.003*\"Jacob\" + 0.003*\"essential\" + 0.003*\"pattern\" + 0.003*\"leave\" + 0.003*\"forth\" + 0.003*\"elements\" + 0.003*\"Modern\" + 0.003*\"type\" + 0.003*\"powerful\" + 0.003*\"establish\" + 0.003*\"condition\" + 0.003*\"stand\" + 0.003*\"centuries\" + 0.003*\"reflect\" + 0.003*\"Stephen\" + 0.003*\"fellow\" + 0.003*\"Asia\" + 0.003*\"acts\" + 0.003*\"member\" + 0.002*\"inspiration\" + 0.002*\"ask\" + 0.002*\"fathers\" + 0.002*\"People\" + 0.002*\"ministers\" + 0.002*\"sign\" + 0.002*\"degree\" + 0.002*\"examine\" + 0.002*\"confession\" + 0.002*\"transformation\" + 0.002*\"considerable\" + 0.002*\"genuine\" + 0.002*\"science\" + 0.002*\"Kingdom\" + 0.002*\"Josephus\" + 0.002*\"teacher\" + 0.002*\"Louis\" + 0.002*\"Muslim\" + 0.002*\"servant\" + 0.002*\"visible\" + 0.002*\"redemption\" + 0.002*\"definition\" + 0.002*\"sed\" + 0.002*\"gifts\" + 0.002*\"joy\" + 0.002*\"relationships\" + 0.002*\"2nd\" + 0.002*\"distinct\" + 0.002*\"Das\" + 0.002*\"rejected\" + 0.002*\"institutions\" + 0.002*\"object\" + 0.002*\"pre\" + 0.002*\"familiar\" + 0.002*\"visit\" + 0.002*\"picture\" + 0.002*\"diverse\" + 0.002*\"quotation\" + 0.002*\"building\" + 0.002*\"beliefs\" + 0.002*\"symbolic\" + 0.002*\"worth\" + 0.002*\"Barth\" + 0.002*\"White\" + 0.002*\"instruction\" + 0.002*\"epistle\" + 0.002*\"prove\" + 0.002*\"converts\" + 0.002*\"Works\" + 0.002*\"Palestine\" + 0.002*\"college\" + 0.002*\"Nicholas\" + 0.002*\"Anthony\" + 0.002*\"Mt\" + 0.002*\"introduce\" + 0.002*\"Minor\" + 0.002*\"testimony\" + 0.002*\"objective\" + 0.002*\"summary\" + 0.001*\"division\" + 0.001*\"Heb\" + 0.001*\"Calvins\" + 0.001*\"vocation\" + 0.001*\"families\" + 0.001*\"tension\" + 0.001*\"articles\" + 0.001*\"redemptive\" + 0.001*\"languages\" + 0.001*\"pray\" + 0.001*\"carry\" + 0.001*\"sure\" + 0.001*\"Epistle\" + 0.001*\"measure\" + 0.001*\"symbol\" + 0.001*\"perfection\" + 0.001*\"policy\" + 0.001*\"dissertation\" + 0.001*\"proof\" + 0.001*\"run\" + 0.001*\"commentators\" + 0.001*\"break\" + 0.001*\"autem\" + 0.001*\"root\" + 0.001*\"occur\" + 0.001*\"hebrew\" + 0.001*\"imagine\" + 0.001*\"das\" + 0.001*\"verb\" + 0.001*\"holding\" + 0.001*\"presentation\" + 0.001*\"Translation\" + 0.001*\"stone\" + 0.001*\"Sir\" + 0.001*\"martyr\" + 0.001*\"witnesses\" + 0.001*\"plain\" + 0.001*\"solution\" + 0.001*\"Hermas\" + 0.001*\"contra\" + 0.001*\"quo\" + 0.001*\"firm\" + 0.001*\"polemical\" + 0.001*\"strict\" + 0.001*\"commit\"'),\n (4,\n  '0.022*\"good\" + 0.022*\"time\" + 0.020*\"theological\" + 0.020*\"social\" + 0.019*\"Spirit\" + 0.018*\"Holy\" + 0.015*\"lord\" + 0.014*\"point\" + 0.014*\"Greek\" + 0.013*\"gospel\" + 0.013*\"later\" + 0.012*\"chapter\" + 0.010*\"day\" + 0.010*\"authority\" + 0.010*\"Galatians\" + 0.010*\"original\" + 0.009*\"ones\" + 0.009*\"mission\" + 0.009*\"doctrine\" + 0.009*\"evidence\" + 0.008*\"number\" + 0.008*\"provide\" + 0.007*\"passage\" + 0.007*\"real\" + 0.007*\"England\" + 0.007*\"end\" + 0.006*\"prayer\" + 0.006*\"Martin\" + 0.006*\"think\" + 0.006*\"major\" + 0.006*\"soul\" + 0.005*\"traditions\" + 0.005*\"self\" + 0.005*\"kind\" + 0.005*\"proper\" + 0.005*\"prophetic\" + 0.005*\"letters\" + 0.005*\"seek\" + 0.005*\"version\" + 0.005*\"priest\" + 0.005*\"held\" + 0.005*\"authors\" + 0.005*\"Old\" + 0.004*\"prophet\" + 0.004*\"sexual\" + 0.004*\"evangelical\" + 0.004*\"better\" + 0.004*\"Africa\" + 0.004*\"refer\" + 0.004*\"return\" + 0.004*\"popular\" + 0.004*\"radical\" + 0.004*\"principle\" + 0.004*\"research\" + 0.004*\"difficult\" + 0.004*\"dead\" + 0.004*\"manner\" + 0.004*\"readers\" + 0.004*\"home\" + 0.004*\"School\" + 0.004*\"laws\" + 0.004*\"current\" + 0.003*\"earthly\" + 0.003*\"Old_Testament\" + 0.003*\"liturgical\" + 0.003*\"simple\" + 0.003*\"Library\" + 0.003*\"Catholics\" + 0.003*\"ecclesiastical\" + 0.003*\"conclusion\" + 0.003*\"mans\" + 0.003*\"Professor\" + 0.003*\"effect\" + 0.003*\"Tradition\" + 0.003*\"lost\" + 0.003*\"Baker\" + 0.003*\"canonical\" + 0.003*\"Reformation\" + 0.003*\"contribution\" + 0.003*\"Francis\" + 0.003*\"messianic\" + 0.003*\"pure\" + 0.003*\"Messiah\" + 0.003*\"Ps\" + 0.003*\"meant\" + 0.003*\"identify\" + 0.003*\"writer\" + 0.002*\"control\" + 0.002*\"list\" + 0.002*\"setting\" + 0.002*\"circumcision\" + 0.002*\"doubt\" + 0.002*\"feel\" + 0.002*\"save\" + 0.002*\"western\" + 0.002*\"zur\" + 0.002*\"nations\" + 0.002*\"Culture\" + 0.002*\"reasons\" + 0.002*\"relate\" + 0.002*\"wrath\" + 0.002*\"helpful\" + 0.002*\"Academic\" + 0.002*\"actions\" + 0.002*\"head\" + 0.002*\"stage\" + 0.002*\"logical\" + 0.002*\"hard\" + 0.002*\"send\" + 0.002*\"ought\" + 0.002*\"hermeneutic\" + 0.002*\"humans\" + 0.002*\"opening\" + 0.002*\"Dame\" + 0.002*\"area\" + 0.002*\"married\" + 0.002*\"Apostolic\" + 0.002*\"Notre\" + 0.002*\"seeking\" + 0.002*\"category\" + 0.002*\"survey\" + 0.002*\"remarkable\" + 0.002*\"money\" + 0.002*\"engage\" + 0.002*\"grow\" + 0.002*\"dis\" + 0.002*\"House\" + 0.002*\"exile\" + 0.002*\"royal\" + 0.002*\"spirituality\" + 0.002*\"manuscripts\" + 0.002*\"violent\" + 0.002*\"preacher\" + 0.002*\"spirits\" + 0.002*\"prayers\" + 0.002*\"saving\" + 0.002*\"health\" + 0.002*\"politics\" + 0.002*\"exist\" + 0.002*\"belong\" + 0.002*\"Byzantine\" + 0.002*\"opposed\" + 0.002*\"dominant\" + 0.002*\"consciousness\" + 0.002*\"destruction\" + 0.002*\"organization\" + 0.002*\"feminist\" + 0.002*\"synagogue\" + 0.002*\"valuable\" + 0.001*\"Job\" + 0.001*\"mental\" + 0.001*\"rapid\" + 0.001*\"October\" + 0.001*\"observe\" + 0.001*\"town\" + 0.001*\"Psalm\" + 0.001*\"imply\" + 0.001*\"Theologie\" + 0.001*\"seeing\" + 0.001*\"gentiles\" + 0.001*\"financial\" + 0.001*\"proclaim\" + 0.001*\"unknown\" + 0.001*\"core\" + 0.001*\"room\" + 0.001*\"sion\" + 0.001*\"humility\" + 0.001*\"decisive\" + 0.001*\"bound\" + 0.001*\"acknowledge\" + 0.001*\"international\" + 0.001*\"conference\" + 0.001*\"thorough\" + 0.001*\"bibliography\" + 0.001*\"Missionary\" + 0.001*\"opposite\" + 0.001*\"citation\" + 0.001*\"Young\" + 0.001*\"crucified\" + 0.001*\"Hays\" + 0.001*\"Ezekiel\" + 0.001*\"cultures\" + 0.001*\"Archbishop\" + 0.001*\"confidence\" + 0.001*\"eastern\" + 0.001*\"Origins\" + 0.001*\"Critical\" + 0.001*\"annual\" + 0.001*\"youth\" + 0.001*\"gospels\" + 0.001*\"representative\" + 0.001*\"lecture\" + 0.001*\"paradigm\" + 0.001*\"happy\" + 0.001*\"viii\" + 0.001*\"necessity\" + 0.001*\"Times\" + 0.001*\"Hammadi\" + 0.001*\"meanings\" + 0.001*\"restoration\"'),\n (5,\n  '0.027*\"faith\" + 0.026*\"people\" + 0.023*\"century\" + 0.020*\"divine\" + 0.020*\"world\" + 0.018*\"history\" + 0.018*\"theology\" + 0.016*\"second\" + 0.013*\"come\" + 0.013*\"example\" + 0.011*\"place\" + 0.011*\"modern\" + 0.010*\"Thomas\" + 0.010*\"question\" + 0.010*\"context\" + 0.010*\"Jerusalem\" + 0.010*\"Augustine\" + 0.010*\"language\" + 0.009*\"thought\" + 0.009*\"said\" + 0.008*\"Luther\" + 0.008*\"act\" + 0.007*\"set\" + 0.007*\"relationship\" + 0.007*\"discussion\" + 0.007*\"Book\" + 0.007*\"include\" + 0.006*\"College\" + 0.006*\"spirit\" + 0.006*\"live\" + 0.006*\"hand\" + 0.006*\"reader\" + 0.005*\"judgment\" + 0.005*\"wrote\" + 0.005*\"missionary\" + 0.005*\"support\" + 0.005*\"essay\" + 0.005*\"course\" + 0.005*\"open\" + 0.004*\"article\" + 0.004*\"analysis\" + 0.004*\"United\" + 0.004*\"suffering\" + 0.004*\"basic\" + 0.004*\"States\" + 0.004*\"subject\" + 0.004*\"rhetorical\" + 0.004*\"preaching\" + 0.004*\"eds\" + 0.004*\"Life\" + 0.004*\"complete\" + 0.004*\"questions\" + 0.004*\"primary\" + 0.004*\"justification\" + 0.004*\"universal\" + 0.004*\"argue\" + 0.004*\"German\" + 0.004*\"Gentile\" + 0.004*\"thou\" + 0.004*\"fourth\" + 0.004*\"sacrifice\" + 0.003*\"rule\" + 0.003*\"ment\" + 0.003*\"Charles\" + 0.003*\"female\" + 0.003*\"serve\" + 0.003*\"reviews\" + 0.003*\"Ignatius\" + 0.003*\"beginning\" + 0.003*\"answer\" + 0.003*\"gift\" + 0.003*\"ultimate\" + 0.003*\"cross\" + 0.003*\"notion\" + 0.003*\"reveal\" + 0.003*\"righteous\" + 0.003*\"Williams\" + 0.003*\"collection\" + 0.003*\"Justin\" + 0.003*\"ideal\" + 0.003*\"Interpretation\" + 0.002*\"express\" + 0.002*\"Trinity\" + 0.002*\"punishment\" + 0.002*\"information\" + 0.002*\"judaism\" + 0.002*\"healing\" + 0.002*\"military\" + 0.002*\"bishops\" + 0.002*\"prophecy\" + 0.002*\"mutual\" + 0.002*\"Patrick\" + 0.002*\"chief\" + 0.002*\"gender\" + 0.002*\"standard\" + 0.002*\"lived\" + 0.002*\"Fourth\" + 0.002*\"piety\" + 0.002*\"religions\" + 0.002*\"General\" + 0.002*\"added\" + 0.002*\"Chris\" + 0.002*\"fire\" + 0.002*\"reform\" + 0.002*\"base\" + 0.002*\"fifth\" + 0.002*\"Johannine\" + 0.002*\"Samuel\" + 0.002*\"Philip\" + 0.002*\"participation\" + 0.002*\"explore\" + 0.002*\"Sea\" + 0.002*\"nineteenth\" + 0.002*\"orthodox\" + 0.002*\"broad\" + 0.002*\"exercise\" + 0.002*\"Peters\" + 0.002*\"lines\" + 0.002*\"extended\" + 0.002*\"wish\" + 0.002*\"extensive\" + 0.002*\"twentieth\" + 0.002*\"post\" + 0.002*\"zum\" + 0.002*\"formal\" + 0.002*\"realm\" + 0.002*\"ethic\" + 0.002*\"manuscript\" + 0.002*\"Milton\" + 0.002*\"pastor\" + 0.002*\"mark\" + 0.002*\"shape\" + 0.002*\"loving\" + 0.002*\"distinctive\" + 0.002*\"conduct\" + 0.002*\"choose\" + 0.002*\"Christi\" + 0.002*\"prominent\" + 0.002*\"sort\" + 0.002*\"concrete\" + 0.002*\"Dead\" + 0.002*\"weak\" + 0.002*\"scientific\" + 0.002*\"Miller\" + 0.002*\"Eph\" + 0.002*\"training\" + 0.002*\"hermeneutical\" + 0.002*\"assume\" + 0.002*\"linguistic\" + 0.001*\"tendency\" + 0.001*\"trust\" + 0.001*\"guide\" + 0.001*\"build\" + 0.001*\"start\" + 0.001*\"diversity\" + 0.001*\"Elizabeth\" + 0.001*\"faithfulness\" + 0.001*\"Mediterranean\" + 0.001*\"Perspective\" + 0.001*\"principal\" + 0.001*\"Heythrop\" + 0.001*\"strange\" + 0.001*\"late\" + 0.001*\"defend\" + 0.001*\"conversation\" + 0.001*\"Madigan\" + 0.001*\"contact\" + 0.001*\"husband\" + 0.001*\"Bultmann\" + 0.001*\"dynamic\" + 0.001*\"Texts\" + 0.001*\"indigenous\" + 0.001*\"Col\" + 0.001*\"hierarchy\" + 0.001*\"wider\" + 0.001*\"seventeenth\" + 0.001*\"sacramental\" + 0.001*\"Bruce\" + 0.001*\"forward\" + 0.001*\"join\" + 0.001*\"wicked\" + 0.001*\"implication\" + 0.001*\"collective\" + 0.001*\"urban\" + 0.001*\"Renaissance\" + 0.001*\"extent\" + 0.001*\"substantial\" + 0.001*\"mortal\" + 0.001*\"christological\" + 0.001*\"property\" + 0.001*\"Marys\" + 0.001*\"intend\" + 0.001*\"sixteenth\" + 0.001*\"peculiar\" + 0.001*\"Adams\" + 0.001*\"ship\" + 0.001*\"sub\" + 0.001*\"data\" + 0.001*\"divinity\" + 0.001*\"regular\"'),\n (6,\n  '0.070*\"Christian\" + 0.054*\"church\" + 0.034*\"John\" + 0.014*\"letter\" + 0.013*\"different\" + 0.013*\"true\" + 0.012*\"religion\" + 0.010*\"sin\" + 0.010*\"common\" + 0.009*\"salvation\" + 0.008*\"means\" + 0.008*\"texts\" + 0.008*\"Oxford\" + 0.008*\"woman\" + 0.008*\"know\" + 0.007*\"contemporary\" + 0.007*\"high\" + 0.007*\"William\" + 0.006*\"identity\" + 0.006*\"World\" + 0.006*\"argument\" + 0.006*\"understand\" + 0.006*\"son\" + 0.006*\"Religion\" + 0.006*\"individual\" + 0.006*\"special\" + 0.005*\"idea\" + 0.005*\"let\" + 0.005*\"change\" + 0.005*\"Abraham\" + 0.005*\"scholars\" + 0.005*\"times\" + 0.005*\"late\" + 0.005*\"specific\" + 0.005*\"America\" + 0.005*\"justice\" + 0.005*\"believe\" + 0.005*\"hope\" + 0.005*\"books\" + 0.005*\"regard\" + 0.004*\"father\" + 0.004*\"attempt\" + 0.004*\"exegesis\" + 0.004*\"Literature\" + 0.004*\"lead\" + 0.004*\"false\" + 0.004*\"witness\" + 0.004*\"structure\" + 0.004*\"George\" + 0.004*\"Western\" + 0.004*\"lay\" + 0.004*\"communities\" + 0.004*\"king\" + 0.004*\"voice\" + 0.004*\"level\" + 0.004*\"groups\" + 0.003*\"Word\" + 0.003*\"Jew\" + 0.003*\"Calvin\" + 0.003*\"slave\" + 0.003*\"bear\" + 0.003*\"prophets\" + 0.003*\"best\" + 0.003*\"claims\" + 0.003*\"Social\" + 0.003*\"accept\" + 0.003*\"intellectual\" + 0.003*\"Lutheran\" + 0.003*\"Mission\" + 0.003*\"Bishop\" + 0.003*\"Henry\" + 0.003*\"sins\" + 0.003*\"Westminster\" + 0.003*\"represent\" + 0.003*\"seven\" + 0.003*\"Der\" + 0.003*\"catholic\" + 0.003*\"pro\" + 0.003*\"contain\" + 0.002*\"Evangelical\" + 0.002*\"State\" + 0.002*\"practical\" + 0.002*\"method\" + 0.002*\"examples\" + 0.002*\"conflict\" + 0.002*\"believer\" + 0.002*\"vols\" + 0.002*\"result\" + 0.002*\"meeting\" + 0.002*\"Eastern\" + 0.002*\"official\" + 0.002*\"daily\" + 0.002*\"relations\" + 0.002*\"forgiveness\" + 0.002*\"individuals\" + 0.002*\"War\" + 0.002*\"moment\" + 0.002*\"office\" + 0.002*\"insight\" + 0.002*\"classical\" + 0.002*\"charity\" + 0.002*\"born\" + 0.002*\"Knox\" + 0.002*\"San\" + 0.002*\"Wright\" + 0.002*\"conscience\" + 0.002*\"explicit\" + 0.002*\"Johnson\" + 0.002*\"Hill\" + 0.002*\"thesis\" + 0.002*\"maintain\" + 0.002*\"Anglican\" + 0.002*\"Alexandria\" + 0.002*\"dimension\" + 0.002*\"Presbyterian\" + 0.002*\"opposition\" + 0.002*\"project\" + 0.002*\"journey\" + 0.002*\"antiquity\" + 0.002*\"features\" + 0.002*\"pay\" + 0.002*\"Land\" + 0.002*\"congregations\" + 0.002*\"reject\" + 0.002*\"Louisville\" + 0.002*\"activities\" + 0.002*\"empire\" + 0.002*\"sermons\" + 0.002*\"double\" + 0.002*\"Research\" + 0.002*\"inter\" + 0.002*\"conviction\" + 0.002*\"Clement\" + 0.002*\"ethnic\" + 0.002*\"obvious\" + 0.002*\"eschatology\" + 0.002*\"Van\" + 0.002*\"Hall\" + 0.002*\"rational\" + 0.001*\"lie\" + 0.001*\"university\" + 0.001*\"services\" + 0.001*\"pass\" + 0.001*\"Christopher\" + 0.001*\"reign\" + 0.001*\"Jeremiah\" + 0.001*\"fellowship\" + 0.001*\"Mrs\" + 0.001*\"aim\" + 0.001*\"Solomon\" + 0.001*\"allegorical\" + 0.001*\"Tertullian\" + 0.001*\"path\" + 0.001*\"contexts\" + 0.001*\"opponents\" + 0.001*\"pious\" + 0.001*\"typical\" + 0.001*\"March\" + 0.001*\"sixth\" + 0.001*\"progress\" + 0.001*\"orders\" + 0.001*\"impossible\" + 0.001*\"Jonathan\" + 0.001*\"Theodore\" + 0.001*\"Exegesis\" + 0.001*\"Doctrine\" + 0.001*\"Aramaic\" + 0.001*\"pastors\" + 0.001*\"fail\" + 0.001*\"Exodus\" + 0.001*\"January\" + 0.001*\"Rabbinic\" + 0.001*\"Sister\" + 0.001*\"Constantine\" + 0.001*\"Ambrose\" + 0.001*\"employ\" + 0.001*\"virtues\" + 0.001*\"career\" + 0.001*\"promote\" + 0.001*\"render\" + 0.001*\"affirm\" + 0.001*\"Bernard\" + 0.001*\"exact\" + 0.001*\"Art\" + 0.001*\"remember\" + 0.001*\"fruit\" + 0.001*\"Israelite\" + 0.001*\"Francisco\" + 0.001*\"Street\" + 0.001*\"seed\" + 0.001*\"Jones\" + 0.001*\"Scott\" + 0.001*\"Elisabeth\" + 0.001*\"Murray\" + 0.001*\"motif\" + 0.001*\"representation\" + 0.001*\"Saul\" + 0.001*\"Episcopal\" + 0.001*\"lower\" + 0.001*\"Campbell\"'),\n (7,\n  '0.018*\"book\" + 0.018*\"Christianity\" + 0.015*\"law\" + 0.013*\"form\" + 0.011*\"Judaism\" + 0.010*\"experience\" + 0.010*\"general\" + 0.009*\"Grand\" + 0.009*\"Gospel\" + 0.009*\"English\" + 0.009*\"need\" + 0.009*\"fact\" + 0.008*\"Rapids\" + 0.008*\"die\" + 0.007*\"culture\" + 0.007*\"churches\" + 0.007*\"write\" + 0.007*\"family\" + 0.006*\"est\" + 0.006*\"covenant\" + 0.006*\"living\" + 0.006*\"free\" + 0.006*\"character\" + 0.006*\"written\" + 0.006*\"possible\" + 0.006*\"scholar\" + 0.006*\"volume\" + 0.006*\"future\" + 0.005*\"claim\" + 0.005*\"receive\" + 0.005*\"Law\" + 0.005*\"apocalyptic\" + 0.005*\"service\" + 0.005*\"believers\" + 0.005*\"Adam\" + 0.004*\"writings\" + 0.004*\"apostle\" + 0.004*\"purpose\" + 0.004*\"concept\" + 0.004*\"turn\" + 0.004*\"persons\" + 0.004*\"rabbinic\" + 0.004*\"forms\" + 0.004*\"perfect\" + 0.004*\"faithful\" + 0.004*\"Eerdmans\" + 0.004*\"Ancient\" + 0.004*\"land\" + 0.004*\"blood\" + 0.004*\"ideas\" + 0.004*\"address\" + 0.004*\"Johns\" + 0.003*\"cause\" + 0.003*\"significance\" + 0.003*\"philosophy\" + 0.003*\"Daniel\" + 0.003*\"established\" + 0.003*\"civil\" + 0.003*\"Israels\" + 0.003*\"Philippians\" + 0.003*\"Paris\" + 0.003*\"positive\" + 0.003*\"food\" + 0.003*\"Jerome\" + 0.003*\"com\" + 0.003*\"private\" + 0.003*\"pastoral\" + 0.003*\"connection\" + 0.003*\"West\" + 0.003*\"addition\" + 0.003*\"distinction\" + 0.003*\"City\" + 0.003*\"wide\" + 0.003*\"share\" + 0.003*\"care\" + 0.003*\"qui\" + 0.003*\"space\" + 0.003*\"challenge\" + 0.003*\"apostles\" + 0.003*\"needs\" + 0.003*\"rhetoric\" + 0.002*\"quod\" + 0.002*\"Women\" + 0.002*\"task\" + 0.002*\"European\" + 0.002*\"Europe\" + 0.002*\"supra\" + 0.002*\"range\" + 0.002*\"correct\" + 0.002*\"honor\" + 0.002*\"mystical\" + 0.002*\"ecumenical\" + 0.002*\"famous\" + 0.002*\"foreign\" + 0.002*\"possibility\" + 0.002*\"revealed\" + 0.002*\"conception\" + 0.002*\"missionaries\" + 0.002*\"required\" + 0.002*\"negative\" + 0.002*\"reflection\" + 0.002*\"description\" + 0.002*\"struggle\" + 0.002*\"arguments\" + 0.002*\"immediate\" + 0.002*\"generation\" + 0.002*\"Mohr\" + 0.002*\"formation\" + 0.002*\"try\" + 0.002*\"souls\" + 0.002*\"rights\" + 0.002*\"friend\" + 0.002*\"repentance\" + 0.002*\"mercy\" + 0.002*\"field\" + 0.002*\"verses\" + 0.002*\"temporal\" + 0.002*\"review\" + 0.002*\"variety\" + 0.002*\"country\" + 0.002*\"cum\" + 0.002*\"Methodist\" + 0.002*\"careful\" + 0.002*\"Philemon\" + 0.002*\"involved\" + 0.002*\"total\" + 0.002*\"native\" + 0.002*\"external\" + 0.002*\"concerned\" + 0.002*\"potential\" + 0.002*\"working\" + 0.002*\"appeal\" + 0.002*\"growth\" + 0.002*\"cosmic\" + 0.002*\"middle\" + 0.002*\"Community\" + 0.002*\"sound\" + 0.002*\"southern\" + 0.002*\"structures\" + 0.002*\"Siebeck\" + 0.002*\"historian\" + 0.002*\"wealth\" + 0.002*\"Yahweh\" + 0.002*\"internal\" + 0.002*\"goal\" + 0.002*\"France\" + 0.002*\"reach\" + 0.002*\"wrong\" + 0.002*\"eye\" + 0.002*\"protestant\" + 0.002*\"spread\" + 0.002*\"overall\" + 0.002*\"Eve\" + 0.002*\"foundation\" + 0.002*\"secondary\" + 0.002*\"framework\" + 0.002*\"comprehensive\" + 0.002*\"angel\" + 0.002*\"Mosaic\" + 0.002*\"master\" + 0.002*\"scene\" + 0.002*\"define\" + 0.002*\"Mount\" + 0.001*\"Isa\" + 0.001*\"Apocalyptic\" + 0.001*\"deeds\" + 0.001*\"enim\" + 0.001*\"editor\" + 0.001*\"purposes\" + 0.001*\"involve\" + 0.001*\"Hans\" + 0.001*\"darkness\" + 0.001*\"northern\" + 0.001*\"acceptance\" + 0.001*\"enemies\" + 0.001*\"sister\" + 0.001*\"authoritative\" + 0.001*\"Lake\" + 0.001*\"multiple\" + 0.001*\"marked\" + 0.001*\"documents\" + 0.001*\"Day\" + 0.001*\"achieve\" + 0.001*\"April\" + 0.001*\"justify\" + 0.001*\"Cross\" + 0.001*\"extreme\" + 0.001*\"constitute\" + 0.001*\"pain\" + 0.001*\"vast\" + 0.001*\"cities\" + 0.001*\"publish\" + 0.001*\"fit\" + 0.001*\"association\" + 0.001*\"approaches\" + 0.001*\"weakness\" + 0.001*\"phenomenon\" + 0.001*\"wine\" + 0.001*\"psychological\" + 0.001*\"duty\"'),\n (8,\n  '0.039*\"Jewish\" + 0.034*\"man\" + 0.022*\"Christians\" + 0.021*\"Roman\" + 0.020*\"use\" + 0.017*\"community\" + 0.017*\"Catholic\" + 0.017*\"historical\" + 0.016*\"power\" + 0.014*\"London\" + 0.012*\"political\" + 0.012*\"important\" + 0.012*\"holy\" + 0.012*\"Bible\" + 0.011*\"Luke\" + 0.009*\"David\" + 0.009*\"Mark\" + 0.009*\"person\" + 0.009*\"truth\" + 0.008*\"translation\" + 0.008*\"works\" + 0.007*\"society\" + 0.007*\"light\" + 0.007*\"reason\" + 0.007*\"recent\" + 0.006*\"tion\" + 0.006*\"thing\" + 0.006*\"entire\" + 0.006*\"wisdom\" + 0.006*\"con\" + 0.006*\"speak\" + 0.006*\"young\" + 0.006*\"central\" + 0.006*\"Council\" + 0.006*\"Protestant\" + 0.005*\"reality\" + 0.005*\"city\" + 0.005*\"perspective\" + 0.005*\"received\" + 0.005*\"left\" + 0.005*\"notes\" + 0.005*\"Rev\" + 0.005*\"ways\" + 0.005*\"figure\" + 0.004*\"necessary\" + 0.004*\"Orthodox\" + 0.004*\"line\" + 0.004*\"response\" + 0.004*\"Michael\" + 0.004*\"contrast\" + 0.004*\"gentile\" + 0.004*\"pagan\" + 0.004*\"fundamental\" + 0.004*\"imperial\" + 0.004*\"phrase\" + 0.004*\"continue\" + 0.004*\"Smith\" + 0.004*\"economic\" + 0.004*\"legal\" + 0.004*\"humanity\" + 0.004*\"scholarly\" + 0.003*\"title\" + 0.003*\"theologian\" + 0.003*\"Empire\" + 0.003*\"states\" + 0.003*\"follows\" + 0.003*\"thy\" + 0.003*\"Black\" + 0.003*\"longer\" + 0.003*\"lack\" + 0.003*\"Man\" + 0.003*\"separate\" + 0.003*\"background\" + 0.003*\"sermon\" + 0.003*\"leader\" + 0.003*\"god\" + 0.003*\"Irenaeus\" + 0.003*\"Hellenistic\" + 0.003*\"Qumran\" + 0.003*\"likely\" + 0.003*\"develop\" + 0.003*\"problems\" + 0.003*\"Timothy\" + 0.003*\"British\" + 0.003*\"slaves\" + 0.003*\"effort\" + 0.003*\"cult\" + 0.002*\"Sunday\" + 0.002*\"violence\" + 0.002*\"Isaac\" + 0.002*\"communion\" + 0.002*\"Ibid\" + 0.002*\"bad\" + 0.002*\"absolute\" + 0.002*\"Vatican\" + 0.002*\"Egypt\" + 0.002*\"Walter\" + 0.002*\"praise\" + 0.002*\"feature\" + 0.002*\"behavior\" + 0.002*\"Karl\" + 0.002*\"discipline\" + 0.002*\"metaphor\" + 0.002*\"detail\" + 0.002*\"Reformed\" + 0.002*\"imagery\" + 0.002*\"enter\" + 0.002*\"Pentecostal\" + 0.002*\"excellent\" + 0.002*\"commitment\" + 0.002*\"wise\" + 0.002*\"cit\" + 0.002*\"values\" + 0.002*\"initial\" + 0.002*\"require\" + 0.002*\"learning\" + 0.002*\"apparent\" + 0.002*\"Edward\" + 0.002*\"interpretations\" + 0.002*\"translate\" + 0.002*\"institution\" + 0.002*\"Canon\" + 0.002*\"forces\" + 0.002*\"liberation\" + 0.002*\"authentic\" + 0.002*\"Chinese\" + 0.002*\"Washington\" + 0.002*\"poverty\" + 0.002*\"sinful\" + 0.002*\"controversy\" + 0.002*\"piece\" + 0.002*\"categories\" + 0.002*\"Catholicism\" + 0.002*\"liturgy\" + 0.002*\"Epistles\" + 0.002*\"compare\" + 0.002*\"opportunity\" + 0.002*\"circumstances\" + 0.002*\"relative\" + 0.002*\"emperor\" + 0.002*\"Jesuit\" + 0.001*\"Sin\" + 0.001*\"hath\" + 0.001*\"comment\" + 0.001*\"cal\" + 0.001*\"July\" + 0.001*\"attack\" + 0.001*\"Eugene\" + 0.001*\"classic\" + 0.001*\"Chapter\" + 0.001*\"martyrs\" + 0.001*\"sphere\" + 0.001*\"receiving\" + 0.001*\"treatise\" + 0.001*\"apologetic\" + 0.001*\"Dutch\" + 0.001*\"terminology\" + 0.001*\"Note\" + 0.001*\"roles\" + 0.001*\"assumption\" + 0.001*\"Easter\" + 0.001*\"imagination\" + 0.001*\"Literary\" + 0.001*\"parents\" + 0.001*\"consequence\" + 0.001*\"goodness\" + 0.001*\"examination\" + 0.001*\"circles\" + 0.001*\"beautiful\" + 0.001*\"supernatural\" + 0.001*\"charge\" + 0.001*\"responsible\" + 0.001*\"passive\" + 0.001*\"virgin\" + 0.001*\"frequent\" + 0.001*\"generations\" + 0.001*\"hymn\" + 0.001*\"myth\" + 0.001*\"escape\" + 0.001*\"Titus\" + 0.001*\"arise\" + 0.001*\"singular\" + 0.001*\"Margaret\" + 0.001*\"morality\" + 0.001*\"defense\" + 0.001*\"Tim\" + 0.001*\"heretical\" + 0.001*\"forever\" + 0.001*\"hell\" + 0.001*\"implicit\" + 0.001*\"intimate\" + 0.001*\"miracle\" + 0.001*\"exchange\" + 0.001*\"origins\" + 0.001*\"deeper\" + 0.001*\"Japanese\" + 0.001*\"oppression\" + 0.001*\"Epiphanius\" + 0.001*\"Barth\" + 0.001*\"dogmatic\"'),\n (9,\n  '0.089*\"Paul\" + 0.041*\"Christ\" + 0.030*\"biblical\" + 0.023*\"text\" + 0.019*\"spiritual\" + 0.014*\"Testament\" + 0.011*\"James\" + 0.011*\"read\" + 0.010*\"women\" + 0.010*\"New_York\" + 0.010*\"Cambridge\" + 0.010*\"Corinthians\" + 0.009*\"grace\" + 0.009*\"Matthew\" + 0.009*\"author\" + 0.009*\"Theology\" + 0.008*\"knowledge\" + 0.008*\"following\" + 0.006*\"Moses\" + 0.006*\"writing\" + 0.006*\"marriage\" + 0.006*\"concerning\" + 0.006*\"mean\" + 0.006*\"earlier\" + 0.006*\"influence\" + 0.005*\"single\" + 0.005*\"Commentary\" + 0.005*\"eschatological\" + 0.005*\"baptism\" + 0.005*\"action\" + 0.005*\"peace\" + 0.005*\"small\" + 0.005*\"image\" + 0.005*\"able\" + 0.005*\"making\" + 0.005*\"vol\" + 0.004*\"practices\" + 0.004*\"relation\" + 0.004*\"Religious\" + 0.004*\"education\" + 0.004*\"points\" + 0.004*\"close\" + 0.004*\"existence\" + 0.004*\"studies\" + 0.004*\"greek\" + 0.004*\"value\" + 0.004*\"consider\" + 0.004*\"slavery\" + 0.004*\"etc\" + 0.004*\"instead\" + 0.004*\"art\" + 0.003*\"Books\" + 0.003*\"hear\" + 0.003*\"describe\" + 0.003*\"French\" + 0.003*\"issues\" + 0.003*\"understood\" + 0.003*\"audience\" + 0.003*\"wife\" + 0.003*\"Gregory\" + 0.003*\"Boston\" + 0.003*\"East\" + 0.003*\"series\" + 0.003*\"rich\" + 0.003*\"Letter\" + 0.003*\"attitude\" + 0.003*\"matters\" + 0.003*\"preach\" + 0.003*\"instance\" + 0.003*\"mentioned\" + 0.003*\"date\" + 0.003*\"interpret\" + 0.003*\"respect\" + 0.003*\"Eusebius\" + 0.003*\"theologians\" + 0.003*\"Harvard\" + 0.003*\"powers\" + 0.003*\"Revelation\" + 0.003*\"mention\" + 0.003*\"element\" + 0.003*\"Gospels\" + 0.003*\"appropriate\" + 0.003*\"Christology\" + 0.003*\"speaking\" + 0.003*\"ground\" + 0.003*\"Univ\" + 0.003*\"Brown\" + 0.003*\"Corinthian\" + 0.002*\"noted\" + 0.002*\"congregation\" + 0.002*\"paper\" + 0.002*\"detailed\" + 0.002*\"memory\" + 0.002*\"news\" + 0.002*\"discuss\" + 0.002*\"ordinary\" + 0.002*\"gods\" + 0.002*\"indicate\" + 0.002*\"conclude\" + 0.002*\"Dei\" + 0.002*\"learn\" + 0.002*\"crucial\" + 0.002*\"teachings\" + 0.002*\"Berlin\" + 0.002*\"disciple\" + 0.002*\"2000\" + 0.002*\"Mass\" + 0.002*\"suffer\" + 0.002*\"Association\" + 0.002*\"sacrament\" + 0.002*\"Thought\" + 0.002*\"felt\" + 0.002*\"persecution\" + 0.002*\"conservative\" + 0.002*\"Pauline\" + 0.002*\"reconciliation\" + 0.002*\"Dunn\" + 0.002*\"friends\" + 0.002*\"election\" + 0.002*\"access\" + 0.002*\"teachers\" + 0.002*\"Lewis\" + 0.002*\"iii\" + 0.002*\"direction\" + 0.002*\"ability\" + 0.002*\"sinners\" + 0.002*\"Islamic\" + 0.002*\"treat\" + 0.002*\"fresh\" + 0.002*\"center\" + 0.002*\"critique\" + 0.002*\"secret\" + 0.002*\"Ephesians\" + 0.002*\"going\" + 0.002*\"themes\" + 0.002*\"liberal\" + 0.002*\"Colossians\" + 0.002*\"night\" + 0.002*\"mode\" + 0.002*\"fine\" + 0.002*\"Review\" + 0.002*\"sufficient\" + 0.002*\"Abrahams\" + 0.002*\"divorce\" + 0.002*\"Online\" + 0.002*\"sacrificial\" + 0.001*\"agree\" + 0.001*\"ibid\" + 0.001*\"fallen\" + 0.001*\"ecclesial\" + 0.001*\"feast\" + 0.001*\"tend\" + 0.001*\"bringing\" + 0.001*\"intention\" + 0.001*\"daughter\" + 0.001*\"constant\" + 0.001*\"Apocalypse\" + 0.001*\"Jean\" + 0.001*\"cast\" + 0.001*\"agreement\" + 0.001*\"societies\" + 0.001*\"morning\" + 0.001*\"quote\" + 0.001*\"consensus\" + 0.001*\"Political\" + 0.001*\"Judah\" + 0.001*\"entry\" + 0.001*\"Ann\" + 0.001*\"deity\" + 0.001*\"feeling\" + 0.001*\"genre\" + 0.001*\"advance\" + 0.001*\"welcome\" + 0.001*\"proclamation\" + 0.001*\"fell\" + 0.001*\"dramatic\" + 0.001*\"Augustus\" + 0.001*\"priesthood\" + 0.001*\"showing\" + 0.001*\"charismatic\" + 0.001*\"Death\" + 0.001*\"argue\" + 0.001*\"xii\" + 0.001*\"danger\" + 0.001*\"application\" + 0.001*\"bearing\" + 0.001*\"miracles\" + 0.001*\"trial\" + 0.001*\"allusion\" + 0.001*\"honour\" + 0.001*\"authorship\" + 0.001*\"extant\" + 0.001*\"Caesarea\" + 0.001*\"Quaker\" + 0.001*\"Syrian\" + 0.001*\"Barnabas\" + 0.001*\"firstcentury\" + 0.001*\"parable\" + 0.001*\"Synoptic\" + 0.001*\"Spanish\"')]"
     },
     "execution_count": 50,
     "metadata": {},
     "output_type": "execute_result"
    }
   ],
   "source": [
    "lda.show_topics(num_topics=10,num_words=200,log=False, formatted=True)"
   ],
   "metadata": {
    "collapsed": false,
    "pycharm": {
     "name": "#%%\n"
    }
   }
  },
  {
   "cell_type": "code",
   "execution_count": 55,
   "outputs": [
    {
     "data": {
      "text/plain": "[('God', 0.13299786),\n ('life', 0.03714182),\n ('early', 0.031627595),\n ('way', 0.022248834),\n ('tradition', 0.01821983),\n ('study', 0.016909594),\n ('order', 0.01596662),\n ('death', 0.015479512),\n ('nature', 0.012623976),\n ('old', 0.010890476)]"
     },
     "execution_count": 55,
     "metadata": {},
     "output_type": "execute_result"
    }
   ],
   "source": [
    "lda.show_topic(0, ntops=)"
   ],
   "metadata": {
    "collapsed": false,
    "pycharm": {
     "name": "#%%\n"
    }
   }
  },
  {
   "cell_type": "code",
   "execution_count": 51,
   "outputs": [],
   "source": [
    "lda.save(\"../data/large_files/lda_global_v1\")"
   ],
   "metadata": {
    "collapsed": false,
    "pycharm": {
     "name": "#%%\n"
    }
   }
  },
  {
   "cell_type": "code",
   "execution_count": null,
   "outputs": [],
   "source": [],
   "metadata": {
    "collapsed": false,
    "pycharm": {
     "name": "#%%\n"
    }
   }
  }
 ],
 "metadata": {
  "kernelspec": {
   "display_name": "Python 3",
   "language": "python",
   "name": "python3"
  },
  "language_info": {
   "codemirror_mode": {
    "name": "ipython",
    "version": 2
   },
   "file_extension": ".py",
   "mimetype": "text/x-python",
   "name": "python",
   "nbconvert_exporter": "python",
   "pygments_lexer": "ipython2",
   "version": "2.7.6"
  }
 },
 "nbformat": 4,
 "nbformat_minor": 0
}