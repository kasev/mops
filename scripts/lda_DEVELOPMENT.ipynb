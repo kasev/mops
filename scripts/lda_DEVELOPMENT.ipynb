{
 "cells": [
  {
   "cell_type": "code",
   "execution_count": 48,
   "metadata": {
    "collapsed": true,
    "pycharm": {
     "name": "#%%\n"
    }
   },
   "outputs": [],
   "source": [
    "import pickle\n",
    "import numpy as np\n",
    "import pandas as pd\n",
    "from gensim.corpora import Dictionary\n",
    "import spacy\n",
    "from gensim.models.ldamulticore import LdaMulticore\n",
    "from gensim.test.utils import datapath"
   ]
  },
  {
   "cell_type": "code",
   "execution_count": 41,
   "outputs": [
    {
     "data": {
      "text/plain": "8"
     },
     "execution_count": 41,
     "metadata": {},
     "output_type": "execute_result"
    }
   ],
   "source": [
    "import multiprocessing\n",
    "multiprocessing.cpu_count()"
   ],
   "metadata": {
    "collapsed": false,
    "pycharm": {
     "name": "#%%\n"
    }
   }
  },
  {
   "cell_type": "code",
   "execution_count": 9,
   "outputs": [],
   "source": [
    "jstor_df = pd.read_feather(\"../data/large_files/jstor_df_v1.feather\")"
   ],
   "metadata": {
    "collapsed": false,
    "pycharm": {
     "name": "#%%\n"
    }
   }
  },
  {
   "cell_type": "code",
   "execution_count": 10,
   "outputs": [
    {
     "data": {
      "text/plain": "14103"
     },
     "execution_count": 10,
     "metadata": {},
     "output_type": "execute_result"
    }
   ],
   "source": [
    "len(jstor_df)"
   ],
   "metadata": {
    "collapsed": false,
    "pycharm": {
     "name": "#%%\n"
    }
   }
  },
  {
   "cell_type": "code",
   "execution_count": 11,
   "outputs": [
    {
     "data": {
      "text/plain": "                 creator datePublished  docType                           doi  \\\n0                     []    1959-10-01  article    10.1177/001452465907100107   \n1  [Victor Paul Furnish]    2009-01-01  chapter  10.1017/CBO9780511621321.003   \n2      [Leander E. Keck]    2015-01-01  chapter                          None   \n3   [LeAnn Snow Flesher]    2009-02-01  article    10.1177/003463730910600105   \n4      [A. Daunton-Fear]    1995-07-01  article    10.1177/0040571X9509800404   \n\n                        id                                         identifier  \\\n0  ark://27927/phx66812gq6  [{'name': 'doi', 'value': '10.1177/00145246590...   \n1   ark://27927/pbd6fpf5fh  [{'name': 'isbn', 'value': '9780511621321'}, {...   \n2  ark://27927/phw1kd8s300                                                 []   \n3  ark://27927/phx64fptrwj  [{'name': 'doi', 'value': '10.1177/00346373091...   \n4  ark://27927/phx64k1x5c2  [{'name': 'doi', 'value': '10.1177/0040571X950...   \n\n                                            isPartOf issueNumber  \\\n0                                   Expository Times           1   \n1     Jesus According to PaulJesus According to Paul        None   \n2                      Christ&#39;s First Theologian        None   \n3  Review & Expositor: An International Baptist J...           1   \n4                                           Theology         784   \n\n                                           keyphrase language  ... sequence  \\\n0  [omnipotent reigneth, god omnipotent, silence,...    [eng]  ...      7.0   \n1  [saying, books online, jesus tradition, pauls ...    [eng]  ...      5.0   \n2  [pharisaism, sandmel genius, judaism, rabbinic...    [eng]  ...      8.0   \n3  [scofield, premillennial, premillennial dispen...    [eng]  ...      5.0   \n4  [baptism, holy spirit, communion, infant bapti...    [eng]  ...      4.0   \n\n                                         tdmCategory  \\\n0  [Religion - Theology, Religion - Spiritual bel...   \n1  [History - Historical methodology, Religion - ...   \n2  [History - Historical methodology, Religion - ...   \n3  [Religion - Theology, Religion - Spiritual bel...   \n4              [Religion - Spiritual belief systems]   \n\n                                               title  \\\n0                                       In the Study   \n1               3 Sayings of Jesus in Paul's Letters   \n2                  3. The Quest for Pauls Pharisaism   \n3  The Historical Development of Premillennial Di...   \n4  Resisting the Tide Christian Initiation and Co...   \n\n                                            url volumeNumber wordCount  \\\n0     http://doi.org/10.1177/001452465907100107           71      7382   \n1  https://doi.org/10.1017/CBO9780511621321.003         None      8577   \n2                                          None         None      5354   \n3     http://doi.org/10.1177/003463730910600105          106      3614   \n4     http://doi.org/10.1177/0040571X9509800404           98      4323   \n\n   docSubType sourceCategory  subTitle hasPartTitle  \n0        None           None      None         None  \n1        None           None      None         None  \n2        None           None      None         None  \n3        None           None      None         None  \n4        None           None      None         None  \n\n[5 rows x 28 columns]",
      "text/html": "<div>\n<style scoped>\n    .dataframe tbody tr th:only-of-type {\n        vertical-align: middle;\n    }\n\n    .dataframe tbody tr th {\n        vertical-align: top;\n    }\n\n    .dataframe thead th {\n        text-align: right;\n    }\n</style>\n<table border=\"1\" class=\"dataframe\">\n  <thead>\n    <tr style=\"text-align: right;\">\n      <th></th>\n      <th>creator</th>\n      <th>datePublished</th>\n      <th>docType</th>\n      <th>doi</th>\n      <th>id</th>\n      <th>identifier</th>\n      <th>isPartOf</th>\n      <th>issueNumber</th>\n      <th>keyphrase</th>\n      <th>language</th>\n      <th>...</th>\n      <th>sequence</th>\n      <th>tdmCategory</th>\n      <th>title</th>\n      <th>url</th>\n      <th>volumeNumber</th>\n      <th>wordCount</th>\n      <th>docSubType</th>\n      <th>sourceCategory</th>\n      <th>subTitle</th>\n      <th>hasPartTitle</th>\n    </tr>\n  </thead>\n  <tbody>\n    <tr>\n      <th>0</th>\n      <td>[]</td>\n      <td>1959-10-01</td>\n      <td>article</td>\n      <td>10.1177/001452465907100107</td>\n      <td>ark://27927/phx66812gq6</td>\n      <td>[{'name': 'doi', 'value': '10.1177/00145246590...</td>\n      <td>Expository Times</td>\n      <td>1</td>\n      <td>[omnipotent reigneth, god omnipotent, silence,...</td>\n      <td>[eng]</td>\n      <td>...</td>\n      <td>7.0</td>\n      <td>[Religion - Theology, Religion - Spiritual bel...</td>\n      <td>In the Study</td>\n      <td>http://doi.org/10.1177/001452465907100107</td>\n      <td>71</td>\n      <td>7382</td>\n      <td>None</td>\n      <td>None</td>\n      <td>None</td>\n      <td>None</td>\n    </tr>\n    <tr>\n      <th>1</th>\n      <td>[Victor Paul Furnish]</td>\n      <td>2009-01-01</td>\n      <td>chapter</td>\n      <td>10.1017/CBO9780511621321.003</td>\n      <td>ark://27927/pbd6fpf5fh</td>\n      <td>[{'name': 'isbn', 'value': '9780511621321'}, {...</td>\n      <td>Jesus According to PaulJesus According to Paul</td>\n      <td>None</td>\n      <td>[saying, books online, jesus tradition, pauls ...</td>\n      <td>[eng]</td>\n      <td>...</td>\n      <td>5.0</td>\n      <td>[History - Historical methodology, Religion - ...</td>\n      <td>3 Sayings of Jesus in Paul's Letters</td>\n      <td>https://doi.org/10.1017/CBO9780511621321.003</td>\n      <td>None</td>\n      <td>8577</td>\n      <td>None</td>\n      <td>None</td>\n      <td>None</td>\n      <td>None</td>\n    </tr>\n    <tr>\n      <th>2</th>\n      <td>[Leander E. Keck]</td>\n      <td>2015-01-01</td>\n      <td>chapter</td>\n      <td>None</td>\n      <td>ark://27927/phw1kd8s300</td>\n      <td>[]</td>\n      <td>Christ&amp;#39;s First Theologian</td>\n      <td>None</td>\n      <td>[pharisaism, sandmel genius, judaism, rabbinic...</td>\n      <td>[eng]</td>\n      <td>...</td>\n      <td>8.0</td>\n      <td>[History - Historical methodology, Religion - ...</td>\n      <td>3. The Quest for Pauls Pharisaism</td>\n      <td>None</td>\n      <td>None</td>\n      <td>5354</td>\n      <td>None</td>\n      <td>None</td>\n      <td>None</td>\n      <td>None</td>\n    </tr>\n    <tr>\n      <th>3</th>\n      <td>[LeAnn Snow Flesher]</td>\n      <td>2009-02-01</td>\n      <td>article</td>\n      <td>10.1177/003463730910600105</td>\n      <td>ark://27927/phx64fptrwj</td>\n      <td>[{'name': 'doi', 'value': '10.1177/00346373091...</td>\n      <td>Review &amp; Expositor: An International Baptist J...</td>\n      <td>1</td>\n      <td>[scofield, premillennial, premillennial dispen...</td>\n      <td>[eng]</td>\n      <td>...</td>\n      <td>5.0</td>\n      <td>[Religion - Theology, Religion - Spiritual bel...</td>\n      <td>The Historical Development of Premillennial Di...</td>\n      <td>http://doi.org/10.1177/003463730910600105</td>\n      <td>106</td>\n      <td>3614</td>\n      <td>None</td>\n      <td>None</td>\n      <td>None</td>\n      <td>None</td>\n    </tr>\n    <tr>\n      <th>4</th>\n      <td>[A. Daunton-Fear]</td>\n      <td>1995-07-01</td>\n      <td>article</td>\n      <td>10.1177/0040571X9509800404</td>\n      <td>ark://27927/phx64k1x5c2</td>\n      <td>[{'name': 'doi', 'value': '10.1177/0040571X950...</td>\n      <td>Theology</td>\n      <td>784</td>\n      <td>[baptism, holy spirit, communion, infant bapti...</td>\n      <td>[eng]</td>\n      <td>...</td>\n      <td>4.0</td>\n      <td>[Religion - Spiritual belief systems]</td>\n      <td>Resisting the Tide Christian Initiation and Co...</td>\n      <td>http://doi.org/10.1177/0040571X9509800404</td>\n      <td>98</td>\n      <td>4323</td>\n      <td>None</td>\n      <td>None</td>\n      <td>None</td>\n      <td>None</td>\n    </tr>\n  </tbody>\n</table>\n<p>5 rows × 28 columns</p>\n</div>"
     },
     "execution_count": 11,
     "metadata": {},
     "output_type": "execute_result"
    }
   ],
   "source": [
    "jstor_df.head(5)"
   ],
   "metadata": {
    "collapsed": false,
    "pycharm": {
     "name": "#%%\n"
    }
   }
  },
  {
   "cell_type": "code",
   "execution_count": 12,
   "outputs": [
    {
     "data": {
      "text/plain": "14096"
     },
     "execution_count": 12,
     "metadata": {},
     "output_type": "execute_result"
    }
   ],
   "source": [
    "# in english only?\n",
    "jstor_df[\"language\"].apply(lambda x: (\"eng\" in x) & (len(x)==1)).sum()"
   ],
   "metadata": {
    "collapsed": false,
    "pycharm": {
     "name": "#%%\n"
    }
   }
  },
  {
   "cell_type": "code",
   "execution_count": 13,
   "outputs": [],
   "source": [
    "article_ids_dict = pickle.load(open(\"../data/article_ids_dict.pickle\", \"rb\"))"
   ],
   "metadata": {
    "collapsed": false,
    "pycharm": {
     "name": "#%%\n"
    }
   }
  },
  {
   "cell_type": "code",
   "execution_count": 31,
   "outputs": [
    {
     "data": {
      "text/plain": "44592"
     },
     "execution_count": 31,
     "metadata": {},
     "output_type": "execute_result"
    }
   ],
   "source": [
    "dictionary = pickle.load(open(\"../data/dictionary_main.pickle\", \"rb\"))\n",
    "len(dictionary)"
   ],
   "metadata": {
    "collapsed": false,
    "pycharm": {
     "name": "#%%\n"
    }
   }
  },
  {
   "cell_type": "code",
   "execution_count": 15,
   "outputs": [
    {
     "data": {
      "text/plain": "['1900,1909',\n '1910,1919',\n '1920,1929',\n '1930,1939',\n '1940,1949',\n '1950,1959',\n '1960,1969',\n '1970,1979',\n '1980,1989',\n '1990,1999',\n '2000,2009',\n '2010,2019']"
     },
     "execution_count": 15,
     "metadata": {},
     "output_type": "execute_result"
    }
   ],
   "source": [
    "decades = []\n",
    "for decade_n in range(0,10):\n",
    "    decades.append(\"19{0}0,19{0}9\".format(str(decade_n)))\n",
    "decades += [\"2000,2009\", \"2010,2019\"]\n",
    "decades"
   ],
   "metadata": {
    "collapsed": false,
    "pycharm": {
     "name": "#%%\n"
    }
   }
  },
  {
   "cell_type": "code",
   "execution_count": 16,
   "outputs": [],
   "source": [
    "def ids_from_colvals(df_name, col, matchstring):\n",
    "    ids = eval('{0}[{0}[\"{1}\"]{2}]'.format(df_name, col, matchstring))[\"id\"].tolist()\n",
    "    return ids"
   ],
   "metadata": {
    "collapsed": false,
    "pycharm": {
     "name": "#%%\n"
    }
   }
  },
  {
   "cell_type": "code",
   "execution_count": 17,
   "outputs": [
    {
     "data": {
      "text/plain": "132"
     },
     "execution_count": 17,
     "metadata": {},
     "output_type": "execute_result"
    }
   ],
   "source": [
    "decade = decades[2]\n",
    "ids = ids_from_colvals(\"jstor_df\", \"publicationYear\", \".between({})\".format(decade))\n",
    "len(ids)"
   ],
   "metadata": {
    "collapsed": false,
    "pycharm": {
     "name": "#%%\n"
    }
   }
  },
  {
   "cell_type": "code",
   "execution_count": 32,
   "outputs": [],
   "source": [
    "class MyCorpus:\n",
    "    def __iter__(self):\n",
    "        for id in ids:\n",
    "            short_id_str = str(article_ids_dict[id])\n",
    "            id_filepath = \"../data/large_files/article_docs/{}.pickle\".format(short_id_str)\n",
    "            for doc in pickle.load(open(id_filepath, \"rb\")):\n",
    "                yield doc"
   ],
   "metadata": {
    "collapsed": false,
    "pycharm": {
     "name": "#%%\n"
    }
   }
  },
  {
   "cell_type": "code",
   "execution_count": 33,
   "outputs": [
    {
     "name": "stdout",
     "output_type": "stream",
     "text": [
      "<__main__.MyCorpus object at 0x29bbd53d0>\n"
     ]
    }
   ],
   "source": [
    "ids = jstor_df[\"id\"].tolist()\n",
    "corpus = MyCorpus()  # doesn't load the corpus into memory!\n",
    "print(corpus)"
   ],
   "metadata": {
    "collapsed": false,
    "pycharm": {
     "name": "#%%\n"
    }
   }
  },
  {
   "cell_type": "code",
   "execution_count": 34,
   "outputs": [],
   "source": [
    "dct_corpus = Dictionary.from_corpus(corpus, id2word=dictionary)"
   ],
   "metadata": {
    "collapsed": false,
    "pycharm": {
     "name": "#%%\n"
    }
   }
  },
  {
   "cell_type": "code",
   "execution_count": 35,
   "outputs": [],
   "source": [
    "vocabulary = list(dct_corpus.values())"
   ],
   "metadata": {
    "collapsed": false,
    "pycharm": {
     "name": "#%%\n"
    }
   }
  },
  {
   "cell_type": "code",
   "execution_count": 36,
   "outputs": [
    {
     "data": {
      "text/plain": "44592"
     },
     "execution_count": 36,
     "metadata": {},
     "output_type": "execute_result"
    }
   ],
   "source": [
    "len(dct_corpus)"
   ],
   "metadata": {
    "collapsed": false,
    "pycharm": {
     "name": "#%%\n"
    }
   }
  },
  {
   "cell_type": "code",
   "execution_count": 43,
   "outputs": [
    {
     "name": "stderr",
     "output_type": "stream",
     "text": [
      "<frozen importlib._bootstrap>:228: RuntimeWarning: scipy._lib.messagestream.MessageStream size changed, may indicate binary incompatibility. Expected 56 from C header, got 64 from PyObject\n",
      "<frozen importlib._bootstrap>:228: RuntimeWarning: scipy._lib.messagestream.MessageStream size changed, may indicate binary incompatibility. Expected 56 from C header, got 64 from PyObject\n",
      "<frozen importlib._bootstrap>:228: RuntimeWarning: scipy._lib.messagestream.MessageStream size changed, may indicate binary incompatibility. Expected 56 from C header, got 64 from PyObject\n",
      "<frozen importlib._bootstrap>:228: RuntimeWarning: scipy._lib.messagestream.MessageStream size changed, may indicate binary incompatibility. Expected 56 from C header, got 64 from PyObject\n",
      "<frozen importlib._bootstrap>:228: RuntimeWarning: scipy._lib.messagestream.MessageStream size changed, may indicate binary incompatibility. Expected 56 from C header, got 64 from PyObject\n",
      "<frozen importlib._bootstrap>:228: RuntimeWarning: scipy._lib.messagestream.MessageStream size changed, may indicate binary incompatibility. Expected 56 from C header, got 64 from PyObject\n",
      "<frozen importlib._bootstrap>:228: RuntimeWarning: scipy._lib.messagestream.MessageStream size changed, may indicate binary incompatibility. Expected 56 from C header, got 64 from PyObject\n"
     ]
    },
    {
     "name": "stdout",
     "output_type": "stream",
     "text": [
      "CPU times: user 3min 40s, sys: 1min 28s, total: 5min 8s\n",
      "Wall time: 6min 12s\n"
     ]
    }
   ],
   "source": [
    "%%time\n",
    "lda = LdaMulticore(corpus, num_topics=10, id2word=dct_corpus)"
   ],
   "metadata": {
    "collapsed": false,
    "pycharm": {
     "name": "#%%\n"
    }
   }
  },
  {
   "cell_type": "code",
   "execution_count": 51,
   "outputs": [],
   "source": [
    "lda.save(\"../data/large_files/lda_global_v1\")"
   ],
   "metadata": {
    "collapsed": false,
    "pycharm": {
     "name": "#%%\n"
    }
   }
  },
  {
   "cell_type": "code",
   "execution_count": 46,
   "outputs": [
    {
     "data": {
      "text/plain": "[(0,\n  '0.025*\"J\" + 0.024*\"early\" + 0.016*\"pp\" + 0.016*\"et\" + 0.014*\"H\" + 0.013*\"social\" + 0.013*\"Israel\" + 0.013*\"W\" + 0.012*\"D\" + 0.012*\"G\"'),\n (1,\n  '0.042*\"John\" + 0.022*\"text\" + 0.020*\"man\" + 0.020*\"book\" + 0.019*\"Roman\" + 0.017*\"Spirit\" + 0.017*\"theological\" + 0.017*\"Holy\" + 0.016*\"love\" + 0.014*\"interpretation\"'),\n (2,\n  '0.076*\"I\" + 0.050*\"church\" + 0.035*\"Christ\" + 0.027*\"biblical\" + 0.024*\"people\" + 0.018*\"C\" + 0.014*\"chapter\" + 0.013*\"Catholic\" + 0.013*\"American\" + 0.011*\"religion\"'),\n (3,\n  '0.035*\"University\" + 0.033*\"Press\" + 0.033*\"Jewish\" + 0.024*\"human\" + 0.019*\"time\" + 0.018*\"good\" + 0.017*\"M\" + 0.015*\"example\" + 0.014*\"Cambridge\" + 0.014*\"Jews\"'),\n (4,\n  '0.059*\"A\" + 0.020*\"world\" + 0.020*\"way\" + 0.019*\"divine\" + 0.018*\"theology\" + 0.017*\"E\" + 0.016*\"second\" + 0.013*\"come\" + 0.012*\"Rom\" + 0.012*\"body\"'),\n (5,\n  '0.026*\"See\" + 0.023*\"religious\" + 0.018*\"5\" + 0.018*\"like\" + 0.018*\"As\" + 0.018*\"Christians\" + 0.015*\"R\" + 0.014*\"On\" + 0.014*\"7\" + 0.013*\"law\"'),\n (6,\n  '0.086*\"Paul\" + 0.061*\"In\" + 0.031*\"new\" + 0.026*\"ed\" + 0.021*\"century\" + 0.020*\"de\" + 0.013*\"order\" + 0.013*\"letter\" + 0.012*\"8\" + 0.011*\"B\"'),\n (7,\n  '0.177*\"The\" + 0.043*\"New\" + 0.021*\"Testament\" + 0.020*\"It\" + 0.017*\"York\" + 0.017*\"4\" + 0.017*\"work\" + 0.013*\"use\" + 0.012*\"historical\" + 0.011*\"study\"'),\n (8,\n  '0.089*\"God\" + 0.052*\"1\" + 0.039*\"2\" + 0.029*\"life\" + 0.018*\"St\" + 0.017*\"history\" + 0.016*\"Cor\" + 0.016*\"His\" + 0.015*\"spiritual\" + 0.013*\"We\"'),\n (9,\n  '0.060*\"Christian\" + 0.053*\"Jesus\" + 0.028*\"For\" + 0.025*\"Gods\" + 0.025*\"He\" + 0.024*\"3\" + 0.023*\"faith\" + 0.015*\"great\" + 0.015*\"6\" + 0.015*\"tradition\"')]"
     },
     "execution_count": 46,
     "metadata": {},
     "output_type": "execute_result"
    }
   ],
   "source": [
    "lda.show_topics(num_topics=10,num_words=10,log=False, formatted=True)"
   ],
   "metadata": {
    "collapsed": false,
    "pycharm": {
     "name": "#%%\n"
    }
   }
  },
  {
   "cell_type": "code",
   "execution_count": null,
   "outputs": [],
   "source": [],
   "metadata": {
    "collapsed": false,
    "pycharm": {
     "name": "#%%\n"
    }
   }
  }
 ],
 "metadata": {
  "kernelspec": {
   "display_name": "Python 3",
   "language": "python",
   "name": "python3"
  },
  "language_info": {
   "codemirror_mode": {
    "name": "ipython",
    "version": 2
   },
   "file_extension": ".py",
   "mimetype": "text/x-python",
   "name": "python",
   "nbconvert_exporter": "python",
   "pygments_lexer": "ipython2",
   "version": "2.7.6"
  }
 },
 "nbformat": 4,
 "nbformat_minor": 0
}