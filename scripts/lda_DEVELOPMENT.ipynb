{
 "cells": [
  {
   "cell_type": "code",
   "execution_count": 1,
   "metadata": {
    "collapsed": true,
    "pycharm": {
     "name": "#%%\n"
    }
   },
   "outputs": [
    {
     "name": "stderr",
     "output_type": "stream",
     "text": [
      "/opt/homebrew/Caskroom/miniforge/base/lib/python3.9/site-packages/sklearn/utils/multiclass.py:14: DeprecationWarning: Please use `spmatrix` from the `scipy.sparse` namespace, the `scipy.sparse.base` namespace is deprecated.\n",
      "  from scipy.sparse.base import spmatrix\n",
      "/opt/homebrew/Caskroom/miniforge/base/lib/python3.9/site-packages/sklearn/utils/optimize.py:18: DeprecationWarning: Please use `line_search_wolfe2` from the `scipy.optimize` namespace, the `scipy.optimize.linesearch` namespace is deprecated.\n",
      "  from scipy.optimize.linesearch import line_search_wolfe2, line_search_wolfe1\n",
      "/opt/homebrew/Caskroom/miniforge/base/lib/python3.9/site-packages/sklearn/utils/optimize.py:18: DeprecationWarning: Please use `line_search_wolfe1` from the `scipy.optimize` namespace, the `scipy.optimize.linesearch` namespace is deprecated.\n",
      "  from scipy.optimize.linesearch import line_search_wolfe2, line_search_wolfe1\n"
     ]
    }
   ],
   "source": [
    "import pickle\n",
    "import numpy as np\n",
    "import pandas as pd\n",
    "from gensim.corpora import Dictionary\n",
    "import spacy\n",
    "from gensim.models.ldamulticore import LdaMulticore\n",
    "from gensim.test.utils import datapath\n",
    "import pyLDAvis.gensim_models as gensimvis"
   ]
  },
  {
   "cell_type": "code",
   "execution_count": 146,
   "outputs": [
    {
     "name": "stdout",
     "output_type": "stream",
     "text": [
      "endpoint variable has been configured to: https://sciencedata.dk/files/\n"
     ]
    }
   ],
   "source": [
    "# to communicate with google spreadsheet...\n",
    "import gspread\n",
    "from gspread_dataframe import get_as_dataframe\n",
    "from gspread_dataframe import set_with_dataframe\n",
    "from google.oauth2 import service_account # based on google-auth library\n",
    "import sddk\n",
    "\n",
    "s = sddk.cloudSession(\"sciencedata.dk\")\n",
    "# establish connection with gogglesheets...\n",
    "file_data = s.read_file(\"https://sciencedata.dk/files/ServiceAccountsKey.json\", \"dict\") # or load it from a local storage: json.load(open(\"../../ServiceAccountsKey.json\", \"r\"))\n",
    "credentials = service_account.Credentials.from_service_account_info(file_data)\n",
    "gc = gspread.Client(auth=credentials.with_scopes(['https://spreadsheets.google.com/feeds', 'https://www.googleapis.com/auth/drive']))\n",
    "mops_data = gc.open_by_url(\"https://docs.google.com/spreadsheets/d/1VbCIAJssHKV9hlRTwzVFfm40CGnHesq53KXjv2qy4OM/edit?usp=sharing\")"
   ],
   "metadata": {
    "collapsed": false,
    "pycharm": {
     "name": "#%%\n"
    }
   }
  },
  {
   "cell_type": "code",
   "execution_count": 2,
   "outputs": [
    {
     "data": {
      "text/plain": "8"
     },
     "execution_count": 2,
     "metadata": {},
     "output_type": "execute_result"
    }
   ],
   "source": [
    "import multiprocessing\n",
    "multiprocessing.cpu_count()"
   ],
   "metadata": {
    "collapsed": false,
    "pycharm": {
     "name": "#%%\n"
    }
   }
  },
  {
   "cell_type": "code",
   "execution_count": 3,
   "outputs": [],
   "source": [
    "jstor_df = pd.read_feather(\"../data/large_files/jstor_df_v1.feather\")"
   ],
   "metadata": {
    "collapsed": false,
    "pycharm": {
     "name": "#%%\n"
    }
   }
  },
  {
   "cell_type": "code",
   "execution_count": 4,
   "outputs": [
    {
     "data": {
      "text/plain": "14103"
     },
     "execution_count": 4,
     "metadata": {},
     "output_type": "execute_result"
    }
   ],
   "source": [
    "len(jstor_df)"
   ],
   "metadata": {
    "collapsed": false,
    "pycharm": {
     "name": "#%%\n"
    }
   }
  },
  {
   "cell_type": "code",
   "execution_count": 5,
   "outputs": [
    {
     "data": {
      "text/plain": "                 creator datePublished  docType                           doi  \\\n0                     []    1959-10-01  article    10.1177/001452465907100107   \n1  [Victor Paul Furnish]    2009-01-01  chapter  10.1017/CBO9780511621321.003   \n2      [Leander E. Keck]    2015-01-01  chapter                          None   \n3   [LeAnn Snow Flesher]    2009-02-01  article    10.1177/003463730910600105   \n4      [A. Daunton-Fear]    1995-07-01  article    10.1177/0040571X9509800404   \n\n                        id                                         identifier  \\\n0  ark://27927/phx66812gq6  [{'name': 'doi', 'value': '10.1177/00145246590...   \n1   ark://27927/pbd6fpf5fh  [{'name': 'isbn', 'value': '9780511621321'}, {...   \n2  ark://27927/phw1kd8s300                                                 []   \n3  ark://27927/phx64fptrwj  [{'name': 'doi', 'value': '10.1177/00346373091...   \n4  ark://27927/phx64k1x5c2  [{'name': 'doi', 'value': '10.1177/0040571X950...   \n\n                                            isPartOf issueNumber  \\\n0                                   Expository Times           1   \n1     Jesus According to PaulJesus According to Paul        None   \n2                      Christ&#39;s First Theologian        None   \n3  Review & Expositor: An International Baptist J...           1   \n4                                           Theology         784   \n\n                                           keyphrase language  ... sequence  \\\n0  [omnipotent reigneth, god omnipotent, silence,...    [eng]  ...      7.0   \n1  [saying, books online, jesus tradition, pauls ...    [eng]  ...      5.0   \n2  [pharisaism, sandmel genius, judaism, rabbinic...    [eng]  ...      8.0   \n3  [scofield, premillennial, premillennial dispen...    [eng]  ...      5.0   \n4  [baptism, holy spirit, communion, infant bapti...    [eng]  ...      4.0   \n\n                                         tdmCategory  \\\n0  [Religion - Theology, Religion - Spiritual bel...   \n1  [History - Historical methodology, Religion - ...   \n2  [History - Historical methodology, Religion - ...   \n3  [Religion - Theology, Religion - Spiritual bel...   \n4              [Religion - Spiritual belief systems]   \n\n                                               title  \\\n0                                       In the Study   \n1               3 Sayings of Jesus in Paul's Letters   \n2                  3. The Quest for Pauls Pharisaism   \n3  The Historical Development of Premillennial Di...   \n4  Resisting the Tide Christian Initiation and Co...   \n\n                                            url volumeNumber wordCount  \\\n0     http://doi.org/10.1177/001452465907100107           71      7382   \n1  https://doi.org/10.1017/CBO9780511621321.003         None      8577   \n2                                          None         None      5354   \n3     http://doi.org/10.1177/003463730910600105          106      3614   \n4     http://doi.org/10.1177/0040571X9509800404           98      4323   \n\n   docSubType sourceCategory  subTitle hasPartTitle  \n0        None           None      None         None  \n1        None           None      None         None  \n2        None           None      None         None  \n3        None           None      None         None  \n4        None           None      None         None  \n\n[5 rows x 28 columns]",
      "text/html": "<div>\n<style scoped>\n    .dataframe tbody tr th:only-of-type {\n        vertical-align: middle;\n    }\n\n    .dataframe tbody tr th {\n        vertical-align: top;\n    }\n\n    .dataframe thead th {\n        text-align: right;\n    }\n</style>\n<table border=\"1\" class=\"dataframe\">\n  <thead>\n    <tr style=\"text-align: right;\">\n      <th></th>\n      <th>creator</th>\n      <th>datePublished</th>\n      <th>docType</th>\n      <th>doi</th>\n      <th>id</th>\n      <th>identifier</th>\n      <th>isPartOf</th>\n      <th>issueNumber</th>\n      <th>keyphrase</th>\n      <th>language</th>\n      <th>...</th>\n      <th>sequence</th>\n      <th>tdmCategory</th>\n      <th>title</th>\n      <th>url</th>\n      <th>volumeNumber</th>\n      <th>wordCount</th>\n      <th>docSubType</th>\n      <th>sourceCategory</th>\n      <th>subTitle</th>\n      <th>hasPartTitle</th>\n    </tr>\n  </thead>\n  <tbody>\n    <tr>\n      <th>0</th>\n      <td>[]</td>\n      <td>1959-10-01</td>\n      <td>article</td>\n      <td>10.1177/001452465907100107</td>\n      <td>ark://27927/phx66812gq6</td>\n      <td>[{'name': 'doi', 'value': '10.1177/00145246590...</td>\n      <td>Expository Times</td>\n      <td>1</td>\n      <td>[omnipotent reigneth, god omnipotent, silence,...</td>\n      <td>[eng]</td>\n      <td>...</td>\n      <td>7.0</td>\n      <td>[Religion - Theology, Religion - Spiritual bel...</td>\n      <td>In the Study</td>\n      <td>http://doi.org/10.1177/001452465907100107</td>\n      <td>71</td>\n      <td>7382</td>\n      <td>None</td>\n      <td>None</td>\n      <td>None</td>\n      <td>None</td>\n    </tr>\n    <tr>\n      <th>1</th>\n      <td>[Victor Paul Furnish]</td>\n      <td>2009-01-01</td>\n      <td>chapter</td>\n      <td>10.1017/CBO9780511621321.003</td>\n      <td>ark://27927/pbd6fpf5fh</td>\n      <td>[{'name': 'isbn', 'value': '9780511621321'}, {...</td>\n      <td>Jesus According to PaulJesus According to Paul</td>\n      <td>None</td>\n      <td>[saying, books online, jesus tradition, pauls ...</td>\n      <td>[eng]</td>\n      <td>...</td>\n      <td>5.0</td>\n      <td>[History - Historical methodology, Religion - ...</td>\n      <td>3 Sayings of Jesus in Paul's Letters</td>\n      <td>https://doi.org/10.1017/CBO9780511621321.003</td>\n      <td>None</td>\n      <td>8577</td>\n      <td>None</td>\n      <td>None</td>\n      <td>None</td>\n      <td>None</td>\n    </tr>\n    <tr>\n      <th>2</th>\n      <td>[Leander E. Keck]</td>\n      <td>2015-01-01</td>\n      <td>chapter</td>\n      <td>None</td>\n      <td>ark://27927/phw1kd8s300</td>\n      <td>[]</td>\n      <td>Christ&amp;#39;s First Theologian</td>\n      <td>None</td>\n      <td>[pharisaism, sandmel genius, judaism, rabbinic...</td>\n      <td>[eng]</td>\n      <td>...</td>\n      <td>8.0</td>\n      <td>[History - Historical methodology, Religion - ...</td>\n      <td>3. The Quest for Pauls Pharisaism</td>\n      <td>None</td>\n      <td>None</td>\n      <td>5354</td>\n      <td>None</td>\n      <td>None</td>\n      <td>None</td>\n      <td>None</td>\n    </tr>\n    <tr>\n      <th>3</th>\n      <td>[LeAnn Snow Flesher]</td>\n      <td>2009-02-01</td>\n      <td>article</td>\n      <td>10.1177/003463730910600105</td>\n      <td>ark://27927/phx64fptrwj</td>\n      <td>[{'name': 'doi', 'value': '10.1177/00346373091...</td>\n      <td>Review &amp; Expositor: An International Baptist J...</td>\n      <td>1</td>\n      <td>[scofield, premillennial, premillennial dispen...</td>\n      <td>[eng]</td>\n      <td>...</td>\n      <td>5.0</td>\n      <td>[Religion - Theology, Religion - Spiritual bel...</td>\n      <td>The Historical Development of Premillennial Di...</td>\n      <td>http://doi.org/10.1177/003463730910600105</td>\n      <td>106</td>\n      <td>3614</td>\n      <td>None</td>\n      <td>None</td>\n      <td>None</td>\n      <td>None</td>\n    </tr>\n    <tr>\n      <th>4</th>\n      <td>[A. Daunton-Fear]</td>\n      <td>1995-07-01</td>\n      <td>article</td>\n      <td>10.1177/0040571X9509800404</td>\n      <td>ark://27927/phx64k1x5c2</td>\n      <td>[{'name': 'doi', 'value': '10.1177/0040571X950...</td>\n      <td>Theology</td>\n      <td>784</td>\n      <td>[baptism, holy spirit, communion, infant bapti...</td>\n      <td>[eng]</td>\n      <td>...</td>\n      <td>4.0</td>\n      <td>[Religion - Spiritual belief systems]</td>\n      <td>Resisting the Tide Christian Initiation and Co...</td>\n      <td>http://doi.org/10.1177/0040571X9509800404</td>\n      <td>98</td>\n      <td>4323</td>\n      <td>None</td>\n      <td>None</td>\n      <td>None</td>\n      <td>None</td>\n    </tr>\n  </tbody>\n</table>\n<p>5 rows × 28 columns</p>\n</div>"
     },
     "execution_count": 5,
     "metadata": {},
     "output_type": "execute_result"
    }
   ],
   "source": [
    "jstor_df.head(5)"
   ],
   "metadata": {
    "collapsed": false,
    "pycharm": {
     "name": "#%%\n"
    }
   }
  },
  {
   "cell_type": "code",
   "execution_count": 6,
   "outputs": [
    {
     "data": {
      "text/plain": "14096"
     },
     "execution_count": 6,
     "metadata": {},
     "output_type": "execute_result"
    }
   ],
   "source": [
    "# in english only?\n",
    "jstor_df[\"language\"].apply(lambda x: (\"eng\" in x) & (len(x)==1)).sum()"
   ],
   "metadata": {
    "collapsed": false,
    "pycharm": {
     "name": "#%%\n"
    }
   }
  },
  {
   "cell_type": "code",
   "execution_count": 7,
   "outputs": [],
   "source": [
    "article_ids_dict = pickle.load(open(\"../data/article_ids_dict.pickle\", \"rb\"))"
   ],
   "metadata": {
    "collapsed": false,
    "pycharm": {
     "name": "#%%\n"
    }
   }
  },
  {
   "cell_type": "code",
   "execution_count": 8,
   "outputs": [
    {
     "data": {
      "text/plain": "41385"
     },
     "execution_count": 8,
     "metadata": {},
     "output_type": "execute_result"
    }
   ],
   "source": [
    "dictionary = pickle.load(open(\"../data/dictionary_main.pickle\", \"rb\"))\n",
    "len(dictionary)"
   ],
   "metadata": {
    "collapsed": false,
    "pycharm": {
     "name": "#%%\n"
    }
   }
  },
  {
   "cell_type": "code",
   "execution_count": 31,
   "outputs": [],
   "source": [
    "class FriendlyCorpus:\n",
    "    def __iter__(self):\n",
    "        docsn = 0\n",
    "        for id in ids:\n",
    "            short_id_str = str(article_ids_dict[id])\n",
    "            id_filepath = \"../data/large_files/article_docs/{}.pickle\".format(short_id_str)\n",
    "            for doc in pickle.load(open(id_filepath, \"rb\")):\n",
    "                yield doc\n",
    "                docsn += 1\n",
    "        self.length = docsn\n",
    "        return self\n",
    "    def __len__(self):\n",
    "        return self.length"
   ],
   "metadata": {
    "collapsed": false,
    "pycharm": {
     "name": "#%%\n"
    }
   }
  },
  {
   "cell_type": "code",
   "execution_count": 32,
   "outputs": [
    {
     "name": "stdout",
     "output_type": "stream",
     "text": [
      "<__main__.FriendlyCorpus object at 0x297de75e0>\n"
     ]
    }
   ],
   "source": [
    "ids = jstor_df[\"id\"].tolist()\n",
    "corpus = FriendlyCorpus()  # doesn't load the corpus into memory!\n",
    "print(corpus)"
   ],
   "metadata": {
    "collapsed": false,
    "pycharm": {
     "name": "#%%\n"
    }
   }
  },
  {
   "cell_type": "code",
   "execution_count": 36,
   "outputs": [],
   "source": [
    "dct_corpus = Dictionary.from_corpus(corpus, id2word=dictionary)"
   ],
   "metadata": {
    "collapsed": false,
    "pycharm": {
     "name": "#%%\n"
    }
   }
  },
  {
   "cell_type": "code",
   "execution_count": 37,
   "outputs": [
    {
     "data": {
      "text/plain": "9235"
     },
     "execution_count": 37,
     "metadata": {},
     "output_type": "execute_result"
    }
   ],
   "source": [
    "nt_id = dct_corpus.token2id[\"New_Testament\"]\n",
    "nt_id"
   ],
   "metadata": {
    "collapsed": false,
    "pycharm": {
     "name": "#%%\n"
    }
   }
  },
  {
   "cell_type": "code",
   "execution_count": 38,
   "outputs": [
    {
     "data": {
      "text/plain": "51371"
     },
     "execution_count": 38,
     "metadata": {},
     "output_type": "execute_result"
    }
   ],
   "source": [
    "dct_corpus.dfs[nt_id]"
   ],
   "metadata": {
    "collapsed": false,
    "pycharm": {
     "name": "#%%\n"
    }
   }
  },
  {
   "cell_type": "code",
   "execution_count": 39,
   "outputs": [],
   "source": [
    "vocabulary = list(dct_corpus.values())"
   ],
   "metadata": {
    "collapsed": false,
    "pycharm": {
     "name": "#%%\n"
    }
   }
  },
  {
   "cell_type": "code",
   "execution_count": 40,
   "outputs": [
    {
     "data": {
      "text/plain": "41385"
     },
     "execution_count": 40,
     "metadata": {},
     "output_type": "execute_result"
    }
   ],
   "source": [
    "len(dct_corpus)"
   ],
   "metadata": {
    "collapsed": false,
    "pycharm": {
     "name": "#%%\n"
    }
   }
  },
  {
   "cell_type": "code",
   "execution_count": 73,
   "outputs": [
    {
     "data": {
      "text/plain": "9932"
     },
     "execution_count": 73,
     "metadata": {},
     "output_type": "execute_result"
    }
   ],
   "source": [
    "dct_corpus.token2id[\"Paul\"]"
   ],
   "metadata": {
    "collapsed": false,
    "pycharm": {
     "name": "#%%\n"
    }
   }
  },
  {
   "cell_type": "code",
   "execution_count": 74,
   "outputs": [
    {
     "data": {
      "text/plain": "[(9235, 1), (9603, 1), (9932, 1)]"
     },
     "execution_count": 74,
     "metadata": {},
     "output_type": "execute_result"
    }
   ],
   "source": [
    "dct_corpus.doc2bow([\"Paul\", \"New_Testament\", \"Old_Testament\"])"
   ],
   "metadata": {
    "collapsed": false,
    "pycharm": {
     "name": "#%%\n"
    }
   }
  },
  {
   "cell_type": "code",
   "execution_count": 126,
   "outputs": [],
   "source": [
    "ntopics = 5"
   ],
   "metadata": {
    "collapsed": false,
    "pycharm": {
     "name": "#%%\n"
    }
   }
  },
  {
   "cell_type": "code",
   "execution_count": 82,
   "outputs": [
    {
     "name": "stderr",
     "output_type": "stream",
     "text": [
      "<frozen importlib._bootstrap>:228: RuntimeWarning: scipy._lib.messagestream.MessageStream size changed, may indicate binary incompatibility. Expected 56 from C header, got 64 from PyObject\n",
      "<frozen importlib._bootstrap>:228: RuntimeWarning: scipy._lib.messagestream.MessageStream size changed, may indicate binary incompatibility. Expected 56 from C header, got 64 from PyObject\n",
      "<frozen importlib._bootstrap>:228: RuntimeWarning: scipy._lib.messagestream.MessageStream size changed, may indicate binary incompatibility. Expected 56 from C header, got 64 from PyObject\n",
      "<frozen importlib._bootstrap>:228: RuntimeWarning: scipy._lib.messagestream.MessageStream size changed, may indicate binary incompatibility. Expected 56 from C header, got 64 from PyObject\n",
      "<frozen importlib._bootstrap>:228: RuntimeWarning: scipy._lib.messagestream.MessageStream size changed, may indicate binary incompatibility. Expected 56 from C header, got 64 from PyObject\n",
      "<frozen importlib._bootstrap>:228: RuntimeWarning: scipy._lib.messagestream.MessageStream size changed, may indicate binary incompatibility. Expected 56 from C header, got 64 from PyObject\n",
      "<frozen importlib._bootstrap>:228: RuntimeWarning: scipy._lib.messagestream.MessageStream size changed, may indicate binary incompatibility. Expected 56 from C header, got 64 from PyObject\n"
     ]
    },
    {
     "name": "stdout",
     "output_type": "stream",
     "text": [
      "CPU times: user 2min 6s, sys: 33.2 s, total: 2min 39s\n",
      "Wall time: 4min 4s\n"
     ]
    }
   ],
   "source": [
    "%%time\n",
    "lda = LdaMulticore(corpus, num_topics=ntopics, id2word=dct_corpus)"
   ],
   "metadata": {
    "collapsed": false,
    "pycharm": {
     "name": "#%%\n"
    }
   }
  },
  {
   "cell_type": "code",
   "execution_count": 89,
   "outputs": [],
   "source": [
    "lda.save(\"../data/large_files/lda_global_v1\")"
   ],
   "metadata": {
    "collapsed": false,
    "pycharm": {
     "name": "#%%\n"
    }
   }
  },
  {
   "cell_type": "code",
   "execution_count": 83,
   "outputs": [
    {
     "data": {
      "text/plain": "[('early', 0.014643986),\n ('work', 0.013115274),\n ('biblical', 0.012963274),\n ('text', 0.012277658),\n ('divine', 0.011409644),\n ('spiritual', 0.009946071),\n ('faith', 0.009898072),\n ('social', 0.009851946),\n ('Christians', 0.009469147),\n ('order', 0.008436895)]"
     },
     "execution_count": 83,
     "metadata": {},
     "output_type": "execute_result"
    }
   ],
   "source": [
    "lda.show_topic(0)"
   ],
   "metadata": {
    "collapsed": false,
    "pycharm": {
     "name": "#%%\n"
    }
   }
  },
  {
   "cell_type": "code",
   "execution_count": 147,
   "outputs": [
    {
     "data": {
      "text/plain": "['early, work, biblical, text, divine, spiritual, faith, social, Christians, order',\n 'Christian, Jesus, church, Christ, new, Paul, way, theology, tradition, theological',\n 'God, great, history, historical, Paul, religious, love, Israel, power, letter',\n 'Jewish, human, world, good, use, second, century, death, study, Paul',\n 'life, John, man, like, time, people, Roman, Paul, law, point']"
     },
     "execution_count": 147,
     "metadata": {},
     "output_type": "execute_result"
    }
   ],
   "source": [
    "ntopics = 5\n",
    "topic_words_joined = []\n",
    "for n in range(ntopics):\n",
    "    topic_words_joined.append(\", \".join([tup[0] for tup in lda.show_topic(n, topn=10)]))\n",
    "topic_words_joined"
   ],
   "metadata": {
    "collapsed": false,
    "pycharm": {
     "name": "#%%\n"
    }
   }
  },
  {
   "cell_type": "code",
   "execution_count": 95,
   "outputs": [
    {
     "name": "stdout",
     "output_type": "stream",
     "text": [
      "Christ [(1, 0.025210822)]\n",
      "Jesus [(1, 0.031531658)]\n",
      "Paul [(0, 0.006974078), (1, 0.011069962), (2, 0.0088760415), (3, 0.007267367), (4, 0.007393098)]\n",
      "New_Testament [(0, 0.00074381643), (1, 0.0008302843), (2, 0.00048067883), (3, 0.0008008713), (4, 0.00057056826)]\n",
      "Old_Testament [(1, 0.0014251649)]\n",
      "Romans [(1, 0.0023071175), (3, 0.0066799927)]\n",
      "Corinthians [(0, 0.0007317764), (1, 0.0011300398), (2, 0.00075825327), (3, 0.0008429485), (4, 0.0007668329)]\n",
      "Galatians [(1, 0.0041462937)]\n",
      "law [(4, 0.007385621)]\n",
      "Jewish [(3, 0.017416224)]\n",
      "Jews [(0, 0.0013330865), (1, 0.003820091), (4, 0.0013761432)]\n",
      "Judea [(2, 0.00031325355)]\n"
     ]
    }
   ],
   "source": [
    "for word in [\"Christ\", \"Jesus\", \"Paul\", \"New_Testament\", \"Old_Testament\", \"Romans\", \"Corinthians\", \"Galatians\", \"law\", \"Jewish\", \"Jews\", \"Judea\"]:\n",
    "    print(word, lda.get_term_topics(dct_corpus.token2id[word], minimum_probability=0))"
   ],
   "metadata": {
    "collapsed": false,
    "pycharm": {
     "name": "#%%\n"
    }
   }
  },
  {
   "cell_type": "code",
   "execution_count": 102,
   "outputs": [
    {
     "data": {
      "text/plain": "isPartOf\nReligious Studies Review                                544\nJournal of Biblical Literature                          442\nThe Catholic Biblical Quarterly                         332\nExpository Times                                        330\nReview & Expositor: An International Baptist Journal    265\n                                                       ... \nKenyan, Christian, Queer                                  1\nKarl BarthKarl Barth                                      1\nJung on Christianity                                      1\nJulian of Norwich's \"Showings\"                            1\nMilton&#39;s Scriptural Theology                          1\nLength: 3047, dtype: int64"
     },
     "execution_count": 102,
     "metadata": {},
     "output_type": "execute_result"
    }
   ],
   "source": [
    "jstor_df.groupby(\"isPartOf\").size().sort_values(ascending=False)"
   ],
   "metadata": {
    "collapsed": false,
    "pycharm": {
     "name": "#%%\n"
    }
   }
  },
  {
   "cell_type": "code",
   "execution_count": 104,
   "outputs": [
    {
     "data": {
      "text/plain": "10"
     },
     "execution_count": 104,
     "metadata": {},
     "output_type": "execute_result"
    }
   ],
   "source": [
    "journals = [\"The Catholic Biblical Quarterly\", \"Interpretation: A Journal of Bible and Theology\", \"Neotestamentica\", \"The Harvard Theological Review\", \"New Testament Studies\", \"Novum Testamentum\", \"Journal for the Study of the New Testament\", \"The Journal of Theological Studies\", \"The Heythrop Journal\", \"Church History\"]\n",
    "len(journals)"
   ],
   "metadata": {
    "collapsed": false,
    "pycharm": {
     "name": "#%%\n"
    }
   }
  },
  {
   "cell_type": "code",
   "execution_count": null,
   "outputs": [],
   "source": [],
   "metadata": {
    "collapsed": false,
    "pycharm": {
     "name": "#%%\n"
    }
   }
  },
  {
   "cell_type": "code",
   "execution_count": 110,
   "outputs": [],
   "source": [
    "ids = jstor_df[jstor_df[\"isPartOf\"]==\"Journal of Biblical Literature\"][\"id\"].tolist()\n",
    "corpus_friendly = FriendlyCorpus()\n",
    "bows = [doc for doc in corpus_friendly]"
   ],
   "metadata": {
    "collapsed": false,
    "pycharm": {
     "name": "#%%\n"
    }
   }
  },
  {
   "cell_type": "code",
   "execution_count": 116,
   "outputs": [
    {
     "data": {
      "text/plain": "[(0,\n  '0.015*\"early\" + 0.013*\"work\" + 0.013*\"biblical\" + 0.012*\"text\" + 0.011*\"divine\" + 0.010*\"spiritual\" + 0.010*\"faith\" + 0.010*\"social\" + 0.009*\"Christians\" + 0.008*\"order\"'),\n (1,\n  '0.033*\"Christian\" + 0.032*\"Jesus\" + 0.027*\"church\" + 0.025*\"Christ\" + 0.018*\"new\" + 0.011*\"Paul\" + 0.011*\"way\" + 0.009*\"theology\" + 0.008*\"tradition\" + 0.008*\"theological\"'),\n (2,\n  '0.067*\"God\" + 0.011*\"great\" + 0.010*\"history\" + 0.009*\"historical\" + 0.009*\"Paul\" + 0.009*\"religious\" + 0.009*\"love\" + 0.008*\"Israel\" + 0.008*\"power\" + 0.007*\"letter\"'),\n (3,\n  '0.017*\"Jewish\" + 0.015*\"human\" + 0.011*\"world\" + 0.011*\"good\" + 0.010*\"use\" + 0.009*\"second\" + 0.009*\"century\" + 0.008*\"death\" + 0.008*\"study\" + 0.007*\"Paul\"'),\n (4,\n  '0.019*\"life\" + 0.019*\"John\" + 0.017*\"man\" + 0.011*\"like\" + 0.011*\"time\" + 0.011*\"people\" + 0.009*\"Roman\" + 0.007*\"Paul\" + 0.007*\"law\" + 0.007*\"point\"')]"
     },
     "execution_count": 116,
     "metadata": {},
     "output_type": "execute_result"
    }
   ],
   "source": [
    "lda.show_topics()"
   ],
   "metadata": {
    "collapsed": false,
    "pycharm": {
     "name": "#%%\n"
    }
   }
  },
  {
   "cell_type": "code",
   "execution_count": 115,
   "outputs": [
    {
     "data": {
      "text/plain": "[([(0.033020873, 'Christian'),\n   (0.03152251, 'Jesus'),\n   (0.026798924, 'church'),\n   (0.025203507, 'Christ'),\n   (0.018387958, 'new'),\n   (0.011066769, 'Paul'),\n   (0.010710236, 'way'),\n   (0.008522751, 'theology'),\n   (0.008237446, 'tradition'),\n   (0.008100662, 'theological')],\n  -9.149542267193706),\n ([(0.019393314, 'life'),\n   (0.018929198, 'John'),\n   (0.01744557, 'man'),\n   (0.011083867, 'like'),\n   (0.010942507, 'time'),\n   (0.01059002, 'people'),\n   (0.008658209, 'Roman'),\n   (0.007391173, 'Paul'),\n   (0.0073836986, 'law'),\n   (0.007327001, 'point')],\n  -9.361288051605175),\n ([(0.014643988, 'early'),\n   (0.013115276, 'work'),\n   (0.012963275, 'biblical'),\n   (0.01227766, 'text'),\n   (0.011409645, 'divine'),\n   (0.009946072, 'spiritual'),\n   (0.009898073, 'faith'),\n   (0.0098519465, 'social'),\n   (0.009469148, 'Christians'),\n   (0.008436896, 'order')],\n  -11.2419232116576),\n ([(0.01741168, 'Jewish'),\n   (0.015278202, 'human'),\n   (0.010943653, 'world'),\n   (0.010819748, 'good'),\n   (0.009892847, 'use'),\n   (0.0089788735, 'second'),\n   (0.008876447, 'century'),\n   (0.00832561, 'death'),\n   (0.0076521263, 'study'),\n   (0.0072654947, 'Paul')],\n  -12.805823900684912),\n ([(0.06690039, 'God'),\n   (0.010710248, 'great'),\n   (0.010462078, 'history'),\n   (0.009399747, 'historical'),\n   (0.008873705, 'Paul'),\n   (0.008809406, 'religious'),\n   (0.008512772, 'love'),\n   (0.008006943, 'Israel'),\n   (0.0079078255, 'power'),\n   (0.007447728, 'letter')],\n  -13.897649205334528)]"
     },
     "execution_count": 115,
     "metadata": {},
     "output_type": "execute_result"
    }
   ],
   "source": [
    "lda.top_topics(bows,dictionary=dct_corpus, topn=10)"
   ],
   "metadata": {
    "collapsed": false,
    "pycharm": {
     "name": "#%%\n"
    }
   }
  },
  {
   "cell_type": "code",
   "execution_count": 121,
   "outputs": [
    {
     "data": {
      "text/plain": "535018"
     },
     "execution_count": 121,
     "metadata": {},
     "output_type": "execute_result"
    }
   ],
   "source": [
    "len(bows_probs)"
   ],
   "metadata": {
    "collapsed": false,
    "pycharm": {
     "name": "#%%\n"
    }
   }
  },
  {
   "cell_type": "code",
   "execution_count": 124,
   "outputs": [],
   "source": [
    "bows_probs_list = [[tup[1] for tup in probs_tups] for probs_tups in bows_probs]"
   ],
   "metadata": {
    "collapsed": false,
    "pycharm": {
     "name": "#%%\n"
    }
   }
  },
  {
   "cell_type": "code",
   "execution_count": 129,
   "outputs": [],
   "source": [
    "means = []\n",
    "for n in range(ntopics):\n",
    "    means.append(np.mean([topics[n][1] for topics in bows_probs]))"
   ],
   "metadata": {
    "collapsed": false,
    "pycharm": {
     "name": "#%%\n"
    }
   }
  },
  {
   "cell_type": "code",
   "execution_count": 132,
   "outputs": [
    {
     "data": {
      "text/plain": "[0.19203253, 0.21457747, 0.19176441, 0.20533733, 0.1962883]"
     },
     "execution_count": 132,
     "metadata": {},
     "output_type": "execute_result"
    }
   ],
   "source": [
    "means"
   ],
   "metadata": {
    "collapsed": false,
    "pycharm": {
     "name": "#%%\n"
    }
   }
  },
  {
   "cell_type": "code",
   "execution_count": 140,
   "outputs": [],
   "source": [
    "def get_subcorpus_topic_probs(subcorpus_bows):\n",
    "    bows_probs = [lda.get_document_topics(bow) for bow in subcorpus_bows]\n",
    "    means = []\n",
    "    for n in range(ntopics):\n",
    "        means.append(np.mean([topics[n][1] for topics in bows_probs]))\n",
    "    return means\n",
    "\n",
    "def topic_probs_from_ids_subset(ids):\n",
    "    corpus_friendly = FriendlyCorpus()\n",
    "    bows = [doc for doc in corpus_friendly]\n",
    "    means = get_subcorpus_topic_probs(bows)\n",
    "    return means"
   ],
   "metadata": {
    "collapsed": false,
    "pycharm": {
     "name": "#%%\n"
    }
   }
  },
  {
   "cell_type": "code",
   "execution_count": 143,
   "outputs": [],
   "source": [
    "journals_means = []\n",
    "for journal in journals:\n",
    "    ids = jstor_df[jstor_df[\"isPartOf\"]==journal][\"id\"].tolist()\n",
    "    means = topic_probs_from_ids_subset(ids)\n",
    "    journal_data = [journal]\n",
    "    journal_data.extend(means)\n",
    "    journals_means.append(journal_data)"
   ],
   "metadata": {
    "collapsed": false,
    "pycharm": {
     "name": "#%%\n"
    }
   }
  },
  {
   "cell_type": "code",
   "execution_count": 148,
   "outputs": [
    {
     "data": {
      "text/plain": "['early, work, biblical, text, divine, spiritual, faith, social, Christians, order',\n 'Christian, Jesus, church, Christ, new, Paul, way, theology, tradition, theological',\n 'God, great, history, historical, Paul, religious, love, Israel, power, letter',\n 'Jewish, human, world, good, use, second, century, death, study, Paul',\n 'life, John, man, like, time, people, Roman, Paul, law, point']"
     },
     "execution_count": 148,
     "metadata": {},
     "output_type": "execute_result"
    }
   ],
   "source": [
    "[[\"topics (top 10 words)\"] + topic_words_joined]"
   ],
   "metadata": {
    "collapsed": false,
    "pycharm": {
     "name": "#%%\n"
    }
   }
  },
  {
   "cell_type": "code",
   "execution_count": 161,
   "outputs": [
    {
     "data": {
      "text/plain": "                                           journal  \\\n0                  The Catholic Biblical Quarterly   \n1  Interpretation: A Journal of Bible and Theology   \n2                                  Neotestamentica   \n3                   The Harvard Theological Review   \n4                            New Testament Studies   \n5                                Novum Testamentum   \n6       Journal for the Study of the New Testament   \n7               The Journal of Theological Studies   \n8                             The Heythrop Journal   \n9                                   Church History   \n\n   early, work, biblical, text, divine, spiritual, faith, social, Christians, order  \\\n0                                               0.19                                  \n1                                               0.19                                  \n2                                               0.19                                  \n3                                               0.20                                  \n4                                               0.19                                  \n5                                               0.19                                  \n6                                               0.19                                  \n7                                               0.19                                  \n8                                               0.20                                  \n9                                               0.20                                  \n\n   Christian, Jesus, church, Christ, new, Paul, way, theology, tradition, theological  \\\n0                                               0.22                                    \n1                                               0.22                                    \n2                                               0.22                                    \n3                                               0.21                                    \n4                                               0.22                                    \n5                                               0.22                                    \n6                                               0.22                                    \n7                                               0.21                                    \n8                                               0.22                                    \n9                                               0.21                                    \n\n   God, great, history, historical, Paul, religious, love, Israel, power, letter  \\\n0                                               0.19                               \n1                                               0.21                               \n2                                               0.20                               \n3                                               0.19                               \n4                                               0.19                               \n5                                               0.19                               \n6                                               0.20                               \n7                                               0.19                               \n8                                               0.20                               \n9                                               0.19                               \n\n   Jewish, human, world, good, use, second, century, death, study, Paul  \\\n0                                               0.20                      \n1                                               0.20                      \n2                                               0.21                      \n3                                               0.20                      \n4                                               0.20                      \n5                                               0.20                      \n6                                               0.20                      \n7                                               0.20                      \n8                                               0.20                      \n9                                               0.20                      \n\n   life, John, man, like, time, people, Roman, Paul, law, point  \n0                                               0.19             \n1                                               0.19             \n2                                               0.18             \n3                                               0.20             \n4                                               0.19             \n5                                               0.20             \n6                                               0.19             \n7                                               0.20             \n8                                               0.18             \n9                                               0.20             ",
      "text/html": "<div>\n<style scoped>\n    .dataframe tbody tr th:only-of-type {\n        vertical-align: middle;\n    }\n\n    .dataframe tbody tr th {\n        vertical-align: top;\n    }\n\n    .dataframe thead th {\n        text-align: right;\n    }\n</style>\n<table border=\"1\" class=\"dataframe\">\n  <thead>\n    <tr style=\"text-align: right;\">\n      <th></th>\n      <th>journal</th>\n      <th>early, work, biblical, text, divine, spiritual, faith, social, Christians, order</th>\n      <th>Christian, Jesus, church, Christ, new, Paul, way, theology, tradition, theological</th>\n      <th>God, great, history, historical, Paul, religious, love, Israel, power, letter</th>\n      <th>Jewish, human, world, good, use, second, century, death, study, Paul</th>\n      <th>life, John, man, like, time, people, Roman, Paul, law, point</th>\n    </tr>\n  </thead>\n  <tbody>\n    <tr>\n      <th>0</th>\n      <td>The Catholic Biblical Quarterly</td>\n      <td>0.19</td>\n      <td>0.22</td>\n      <td>0.19</td>\n      <td>0.20</td>\n      <td>0.19</td>\n    </tr>\n    <tr>\n      <th>1</th>\n      <td>Interpretation: A Journal of Bible and Theology</td>\n      <td>0.19</td>\n      <td>0.22</td>\n      <td>0.21</td>\n      <td>0.20</td>\n      <td>0.19</td>\n    </tr>\n    <tr>\n      <th>2</th>\n      <td>Neotestamentica</td>\n      <td>0.19</td>\n      <td>0.22</td>\n      <td>0.20</td>\n      <td>0.21</td>\n      <td>0.18</td>\n    </tr>\n    <tr>\n      <th>3</th>\n      <td>The Harvard Theological Review</td>\n      <td>0.20</td>\n      <td>0.21</td>\n      <td>0.19</td>\n      <td>0.20</td>\n      <td>0.20</td>\n    </tr>\n    <tr>\n      <th>4</th>\n      <td>New Testament Studies</td>\n      <td>0.19</td>\n      <td>0.22</td>\n      <td>0.19</td>\n      <td>0.20</td>\n      <td>0.19</td>\n    </tr>\n    <tr>\n      <th>5</th>\n      <td>Novum Testamentum</td>\n      <td>0.19</td>\n      <td>0.22</td>\n      <td>0.19</td>\n      <td>0.20</td>\n      <td>0.20</td>\n    </tr>\n    <tr>\n      <th>6</th>\n      <td>Journal for the Study of the New Testament</td>\n      <td>0.19</td>\n      <td>0.22</td>\n      <td>0.20</td>\n      <td>0.20</td>\n      <td>0.19</td>\n    </tr>\n    <tr>\n      <th>7</th>\n      <td>The Journal of Theological Studies</td>\n      <td>0.19</td>\n      <td>0.21</td>\n      <td>0.19</td>\n      <td>0.20</td>\n      <td>0.20</td>\n    </tr>\n    <tr>\n      <th>8</th>\n      <td>The Heythrop Journal</td>\n      <td>0.20</td>\n      <td>0.22</td>\n      <td>0.20</td>\n      <td>0.20</td>\n      <td>0.18</td>\n    </tr>\n    <tr>\n      <th>9</th>\n      <td>Church History</td>\n      <td>0.20</td>\n      <td>0.21</td>\n      <td>0.19</td>\n      <td>0.20</td>\n      <td>0.20</td>\n    </tr>\n  </tbody>\n</table>\n</div>"
     },
     "execution_count": 161,
     "metadata": {},
     "output_type": "execute_result"
    }
   ],
   "source": [
    "journals_means_df = pd.DataFrame(journals_means, columns=[\"journal\"] + topic_words_joined)\n",
    "journals_means_df = journals_means_df.round(2)\n",
    "journals_means_df"
   ],
   "metadata": {
    "collapsed": false,
    "pycharm": {
     "name": "#%%\n"
    }
   }
  },
  {
   "cell_type": "code",
   "execution_count": 163,
   "outputs": [
    {
     "data": {
      "text/plain": "                                           journal  \\\n0                  The Catholic Biblical Quarterly   \n1  Interpretation: A Journal of Bible and Theology   \n2                                  Neotestamentica   \n3                   The Harvard Theological Review   \n4                            New Testament Studies   \n5                                Novum Testamentum   \n6       Journal for the Study of the New Testament   \n7               The Journal of Theological Studies   \n8                             The Heythrop Journal   \n9                                   Church History   \n\n   early, work, biblical, text, divine, spiritual, faith, social, Christians, order  \\\n0                                               0.19                                  \n1                                               0.19                                  \n2                                               0.19                                  \n3                                               0.20                                  \n4                                               0.19                                  \n5                                               0.19                                  \n6                                               0.19                                  \n7                                               0.19                                  \n8                                               0.20                                  \n9                                               0.20                                  \n\n   Christian, Jesus, church, Christ, new, Paul, way, theology, tradition, theological  \\\n0                                               0.22                                    \n1                                               0.22                                    \n2                                               0.22                                    \n3                                               0.21                                    \n4                                               0.22                                    \n5                                               0.22                                    \n6                                               0.22                                    \n7                                               0.21                                    \n8                                               0.22                                    \n9                                               0.21                                    \n\n   God, great, history, historical, Paul, religious, love, Israel, power, letter  \\\n0                                               0.19                               \n1                                               0.21                               \n2                                               0.20                               \n3                                               0.19                               \n4                                               0.19                               \n5                                               0.19                               \n6                                               0.20                               \n7                                               0.19                               \n8                                               0.20                               \n9                                               0.19                               \n\n   Jewish, human, world, good, use, second, century, death, study, Paul  \\\n0                                               0.20                      \n1                                               0.20                      \n2                                               0.21                      \n3                                               0.20                      \n4                                               0.20                      \n5                                               0.20                      \n6                                               0.20                      \n7                                               0.20                      \n8                                               0.20                      \n9                                               0.20                      \n\n   life, John, man, like, time, people, Roman, Paul, law, point  \n0                                               0.19             \n1                                               0.19             \n2                                               0.18             \n3                                               0.20             \n4                                               0.19             \n5                                               0.20             \n6                                               0.19             \n7                                               0.20             \n8                                               0.18             \n9                                               0.20             ",
      "text/html": "<div>\n<style scoped>\n    .dataframe tbody tr th:only-of-type {\n        vertical-align: middle;\n    }\n\n    .dataframe tbody tr th {\n        vertical-align: top;\n    }\n\n    .dataframe thead th {\n        text-align: right;\n    }\n</style>\n<table border=\"1\" class=\"dataframe\">\n  <thead>\n    <tr style=\"text-align: right;\">\n      <th></th>\n      <th>journal</th>\n      <th>early, work, biblical, text, divine, spiritual, faith, social, Christians, order</th>\n      <th>Christian, Jesus, church, Christ, new, Paul, way, theology, tradition, theological</th>\n      <th>God, great, history, historical, Paul, religious, love, Israel, power, letter</th>\n      <th>Jewish, human, world, good, use, second, century, death, study, Paul</th>\n      <th>life, John, man, like, time, people, Roman, Paul, law, point</th>\n    </tr>\n  </thead>\n  <tbody>\n    <tr>\n      <th>0</th>\n      <td>The Catholic Biblical Quarterly</td>\n      <td>0.19</td>\n      <td>0.22</td>\n      <td>0.19</td>\n      <td>0.20</td>\n      <td>0.19</td>\n    </tr>\n    <tr>\n      <th>1</th>\n      <td>Interpretation: A Journal of Bible and Theology</td>\n      <td>0.19</td>\n      <td>0.22</td>\n      <td>0.21</td>\n      <td>0.20</td>\n      <td>0.19</td>\n    </tr>\n    <tr>\n      <th>2</th>\n      <td>Neotestamentica</td>\n      <td>0.19</td>\n      <td>0.22</td>\n      <td>0.20</td>\n      <td>0.21</td>\n      <td>0.18</td>\n    </tr>\n    <tr>\n      <th>3</th>\n      <td>The Harvard Theological Review</td>\n      <td>0.20</td>\n      <td>0.21</td>\n      <td>0.19</td>\n      <td>0.20</td>\n      <td>0.20</td>\n    </tr>\n    <tr>\n      <th>4</th>\n      <td>New Testament Studies</td>\n      <td>0.19</td>\n      <td>0.22</td>\n      <td>0.19</td>\n      <td>0.20</td>\n      <td>0.19</td>\n    </tr>\n    <tr>\n      <th>5</th>\n      <td>Novum Testamentum</td>\n      <td>0.19</td>\n      <td>0.22</td>\n      <td>0.19</td>\n      <td>0.20</td>\n      <td>0.20</td>\n    </tr>\n    <tr>\n      <th>6</th>\n      <td>Journal for the Study of the New Testament</td>\n      <td>0.19</td>\n      <td>0.22</td>\n      <td>0.20</td>\n      <td>0.20</td>\n      <td>0.19</td>\n    </tr>\n    <tr>\n      <th>7</th>\n      <td>The Journal of Theological Studies</td>\n      <td>0.19</td>\n      <td>0.21</td>\n      <td>0.19</td>\n      <td>0.20</td>\n      <td>0.20</td>\n    </tr>\n    <tr>\n      <th>8</th>\n      <td>The Heythrop Journal</td>\n      <td>0.20</td>\n      <td>0.22</td>\n      <td>0.20</td>\n      <td>0.20</td>\n      <td>0.18</td>\n    </tr>\n    <tr>\n      <th>9</th>\n      <td>Church History</td>\n      <td>0.20</td>\n      <td>0.21</td>\n      <td>0.19</td>\n      <td>0.20</td>\n      <td>0.20</td>\n    </tr>\n  </tbody>\n</table>\n</div>"
     },
     "execution_count": 163,
     "metadata": {},
     "output_type": "execute_result"
    }
   ],
   "source": [
    "journals_means_df"
   ],
   "metadata": {
    "collapsed": false,
    "pycharm": {
     "name": "#%%\n"
    }
   }
  },
  {
   "cell_type": "code",
   "execution_count": 165,
   "outputs": [],
   "source": [
    "set_with_dataframe(mops_data.add_worksheet(\"journals_topic_probs_v2\", 1,1), journals_means_df.round(2))"
   ],
   "metadata": {
    "collapsed": false,
    "pycharm": {
     "name": "#%%\n"
    }
   }
  },
  {
   "cell_type": "code",
   "execution_count": 156,
   "outputs": [],
   "source": [
    "set_with_dataframe(mops_data.add_worksheet(\"topic_words\", 1,1), pd.DataFrame(topic_words_joined))"
   ],
   "metadata": {
    "collapsed": false,
    "pycharm": {
     "name": "#%%\n"
    }
   }
  },
  {
   "cell_type": "code",
   "execution_count": null,
   "outputs": [],
   "source": [],
   "metadata": {
    "collapsed": false,
    "pycharm": {
     "name": "#%%\n"
    }
   }
  }
 ],
 "metadata": {
  "kernelspec": {
   "display_name": "Python 3",
   "language": "python",
   "name": "python3"
  },
  "language_info": {
   "codemirror_mode": {
    "name": "ipython",
    "version": 2
   },
   "file_extension": ".py",
   "mimetype": "text/x-python",
   "name": "python",
   "nbconvert_exporter": "python",
   "pygments_lexer": "ipython2",
   "version": "2.7.6"
  }
 },
 "nbformat": 4,
 "nbformat_minor": 0
}